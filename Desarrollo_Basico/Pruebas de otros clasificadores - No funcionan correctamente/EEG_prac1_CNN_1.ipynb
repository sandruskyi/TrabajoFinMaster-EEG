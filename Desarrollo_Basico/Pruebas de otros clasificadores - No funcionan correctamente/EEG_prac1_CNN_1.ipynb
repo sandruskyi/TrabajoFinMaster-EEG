{
 "cells": [
  {
   "cell_type": "markdown",
   "metadata": {},
   "source": [
    "# Parte 4: Clasificación con CNN"
   ]
  },
  {
   "cell_type": "markdown",
   "metadata": {},
   "source": [
    "### A VER, yo lo que haría es coger y para las redes neuronales en el preprocesamiento no las convertiría a un solo array si no que lo dejaría como una matriz separada con cada fila para cada electrón o algo así, esto es un poco raro pero así podemos mantener la propiedad espacial para que se tenga en cuenta por la LSTM, la CNN, y la CapsNet"
   ]
  },
  {
   "cell_type": "markdown",
   "metadata": {},
   "source": [
    "Resultados:\n",
    "\n",
    "    loss       accuracy     val_loss    val_accuracy\n",
    "    0.148178\t0.985302\t2.696184\t0.659483\n",
    "    \n",
    "Por tanto: \n",
    "\n",
    "    E = 1 - Accuracy\n",
    "    Etrain = 1 - 0.985302 = 0.014698\n",
    "    Etest = 1 - 0.659483 = 0.340517\n",
    "    \n",
    "    Bias = Etrain - Ehuman = 0.014698\n",
    "    Variance = Etest - Etrain = 0.325819\n",
    "\n",
    "Observamos que el bias es bajo pero la varianza es alta (33%), es decir, no generaliza bien. Por tanto, vamos a probar cambiando la arquitectura, regularizando..."
   ]
  },
  {
   "cell_type": "markdown",
   "metadata": {},
   "source": [
    "### 1 - Import Libraries"
   ]
  },
  {
   "cell_type": "code",
   "execution_count": 1,
   "metadata": {},
   "outputs": [],
   "source": [
    "# Tensorflow and tf.keras\n",
    "import tensorflow as tf\n",
    "from tensorflow import keras\n",
    "\n",
    "#Helper libraries\n",
    "import matplotlib.pyplot as plt\n",
    "import pandas as pd\n",
    "import numpy as np\n"
   ]
  },
  {
   "cell_type": "markdown",
   "metadata": {},
   "source": [
    "### 2 - Load data"
   ]
  },
  {
   "cell_type": "code",
   "execution_count": 2,
   "metadata": {},
   "outputs": [],
   "source": [
    "class ROutput:\n",
    "    def __init__(self, task, data):\n",
    "        self.task = task\n",
    "        self.data = data\n",
    "        \n",
    "class OutTaskData: \n",
    "    def __init__(self, task, data): \n",
    "        self.task = task\n",
    "        self.data = data"
   ]
  },
  {
   "cell_type": "code",
   "execution_count": 3,
   "metadata": {},
   "outputs": [],
   "source": [
    "import scipy.io as sio\n",
    "# Primero leemos los registros\n",
    "def read_outputs(rec):\n",
    "    '''read_outputs(\"userS0091f1.mat\")'''\n",
    "    mat = sio.loadmat(rec)\n",
    "    #mdata = mat['output']\n",
    "    #val = mdata[0,0]\n",
    "    #output = ROutput(np.array(val[\"task\"]), np.array(val[\"data\"]))\n",
    "    output = ROutput(np.array(mat[\"task\"]), np.array(mat[\"data\"]))\n",
    "    return output"
   ]
  },
  {
   "cell_type": "code",
   "execution_count": 4,
   "metadata": {},
   "outputs": [
    {
     "name": "stdout",
     "output_type": "stream",
     "text": [
      "X_train: (1837, 96)\n",
      "y_train: (1837,)\n",
      "X_dev: (928, 96)\n",
      "y_dev: (928,)\n",
      "ONE HOT ENCODER:\n",
      "X_train: (1837, 96)\n",
      "y_train: (1837, 3)\n",
      "X_dev: (928, 96)\n",
      "y_dev: (928, 3)\n",
      "\n",
      "X_test: (908, 96)\n",
      "y_test: (908,)\n",
      "ONE HOT ENCODER:\n",
      "X_test: (908, 96)\n",
      "y_test: (908, 3)\n"
     ]
    }
   ],
   "source": [
    "from sklearn.pipeline import make_pipeline\n",
    "from sklearn.preprocessing import StandardScaler, OneHotEncoder\n",
    "from sklearn.linear_model import Perceptron\n",
    "\n",
    "total_records = 4 # CAMBIAR SI HAY MAS REGISTROS\n",
    "\n",
    "task1 = 122 # SE PUEDE CAMBIAR\n",
    "task2 = 123 # SE PUEDE CAMBIAR\n",
    "task3 = 127 # SE PUEDE CAMBIAR\n",
    "user = '0091' # SE PUEDE CAMBIAR\n",
    "\n",
    "lTaskData = []\n",
    "for i_rec in range(1,total_records+1):\n",
    "        record = \"userS\"+user+\"f\"+str(i_rec)+\".mat\"\n",
    "        output = read_outputs(record) # output.task será y, output.data será x\n",
    "        \n",
    "        if task3 != \"\":\n",
    "            outT = (output.task == task1) | (output.task == task2) | (output.task == task3) \n",
    "        else: \n",
    "            outT = (output.task == task1) | (output.task == task2)\n",
    "        outData = output.data[outT[:,0],0:np.shape(output.data)[1]]\n",
    "        \n",
    "        outTask = output.task[outT[:,0]]\n",
    "        outTD = OutTaskData(outTask, outData)\n",
    "        lTaskData.append(outTD)\n",
    "\n",
    "# Vamos a coger 2 registros para el entrenamiento, 1 para el conjunto dev set, 1 para el test set\n",
    "X_train, y_train, X_dev, y_dev = [],[],[],[] \n",
    "for j in range(0,total_records-2): # Cogemos 2 registros para entrenamiento\n",
    "    X_train.extend(lTaskData[j].data)\n",
    "    y_train.extend(lTaskData[j].task)\n",
    "    \n",
    "X_dev.extend(lTaskData[total_records-2].data) # Cogemos un registro para el dev set\n",
    "y_dev.extend(lTaskData[total_records-2].task)\n",
    "\n",
    "X_train = np.array(X_train)\n",
    "y_train = np.ravel(np.array(y_train))\n",
    "X_dev = np.array(X_dev)\n",
    "y_dev = np.ravel(np.array(y_dev))\n",
    "\n",
    "print (\"X_train:\",X_train.shape)\n",
    "print (\"y_train:\",y_train.shape)\n",
    "\n",
    "print (\"X_dev:\",X_dev.shape)\n",
    "print (\"y_dev:\",y_dev.shape)\n",
    "\n",
    "# ONE HOT ENCODER\n",
    "encoder = make_pipeline(StandardScaler(), OneHotEncoder(categories=\"auto\", sparse=False)) # Function that one-hot encodes integers))\n",
    "y_one_hot = np.concatenate((y_train, y_dev), axis=0)\n",
    "y_one_hot = encoder.fit_transform (y_one_hot.reshape(-1,1))\n",
    "y_train = y_one_hot[:np.shape(y_train)[0]]\n",
    "y_dev = y_one_hot[np.shape(y_train)[0]:]\n",
    "\n",
    "print(\"ONE HOT ENCODER:\")\n",
    "print (\"X_train:\",X_train.shape)\n",
    "print (\"y_train:\",y_train.shape)\n",
    "\n",
    "print (\"X_dev:\",X_dev.shape)\n",
    "print (\"y_dev:\",y_dev.shape)\n",
    "\n",
    "\n",
    "X_test, y_test = [],[]\n",
    "X_test.extend(lTaskData[total_records-1].data) # Cogemos un registro para el test set\n",
    "y_test.extend(lTaskData[total_records-1].task)\n",
    "\n",
    "\n",
    "X_test = np.array(X_test)\n",
    "y_test = np.ravel(np.array(y_test))\n",
    "print()\n",
    "print (\"X_test:\",X_test.shape)\n",
    "print (\"y_test:\",y_test.shape)\n",
    "\n",
    "# ONE HOT ENCODER\n",
    "encoder = make_pipeline(StandardScaler(), OneHotEncoder(categories=\"auto\", sparse=False)) # Function that one-hot encodes integers))\n",
    "y_test = encoder.fit_transform (y_test.reshape(-1,1)) # y_one_hot\n",
    "\n",
    "print(\"ONE HOT ENCODER:\")\n",
    "print (\"X_test:\",X_test.shape)\n",
    "print (\"y_test:\",y_test.shape)\n",
    "    "
   ]
  },
  {
   "cell_type": "markdown",
   "metadata": {},
   "source": [
    "### 3. Initialize variables"
   ]
  },
  {
   "cell_type": "code",
   "execution_count": 5,
   "metadata": {},
   "outputs": [],
   "source": [
    "INPUTS = X_train.shape[1]\n",
    "OUTPUTS = y_train.shape[1]\n",
    "NUM_TRAINING_EXAMPLES = int(round(X_train.shape[0]/1))\n",
    "NUM_DEV_EXAMPLES = int(round(y_train.shape[0]/1))"
   ]
  },
  {
   "cell_type": "markdown",
   "metadata": {},
   "source": [
    "Some data is displayed to test correctness:"
   ]
  },
  {
   "cell_type": "code",
   "execution_count": 6,
   "metadata": {},
   "outputs": [
    {
     "data": {
      "text/plain": [
       "array([[0.04408895, 0.12253977, 0.04091295, 0.08794782, 0.15217319,\n",
       "        0.13608194, 0.2390196 , 0.13782482, 0.09390321, 0.04168143,\n",
       "        0.01182343, 0.06681896, 0.22746509, 0.19109141, 0.12382088,\n",
       "        0.16280571, 0.18183189, 0.03489224, 0.08915041, 0.25065591,\n",
       "        0.05125344, 0.00878363, 0.06399049, 0.01269724, 0.37617251,\n",
       "        0.75052793, 1.22515657, 0.34716337, 0.57574146, 0.22845317,\n",
       "        0.29124432, 1.55810067, 0.17399072, 0.23187383, 0.09419699,\n",
       "        0.06491878, 0.21030758, 0.11561159, 0.00684065, 0.05363316,\n",
       "        0.14742724, 0.20516924, 0.16582891, 0.39129693, 0.01763402,\n",
       "        0.05230747, 0.08436656, 0.05071257, 0.56726584, 0.21727165,\n",
       "        0.5006733 , 0.09225466, 0.35750867, 0.43229655, 0.32666971,\n",
       "        1.18042048, 0.04529925, 0.07339755, 0.12920241, 0.0228346 ,\n",
       "        0.65176526, 0.09837585, 0.10240039, 0.35185881, 0.26348807,\n",
       "        1.00112018, 0.61259061, 0.26154294, 0.2272173 , 0.11858029,\n",
       "        0.23408875, 0.139735  , 0.43931357, 0.19606534, 0.3423301 ,\n",
       "        0.20553008, 0.20098905, 0.82008234, 0.62822584, 0.94280445,\n",
       "        0.04047953, 0.10667195, 0.38191247, 0.0221351 , 1.05885478,\n",
       "        0.25730097, 1.17149903, 0.26299745, 1.04678832, 1.15644962,\n",
       "        0.64182321, 2.21889125, 0.1053754 , 0.21710049, 0.26047368,\n",
       "        0.00763339],\n",
       "       [0.25614385, 0.11434304, 0.09704763, 0.12930055, 0.10325959,\n",
       "        0.17334683, 0.11210197, 0.2400284 , 0.14283333, 0.03428331,\n",
       "        0.07158812, 0.07203347, 0.22375232, 0.36486422, 0.17576219,\n",
       "        0.15833472, 0.13809519, 0.10031034, 0.1987901 , 0.1494691 ,\n",
       "        0.04461008, 0.08606801, 0.05994687, 0.00496308, 0.68981468,\n",
       "        2.11749857, 0.56421373, 0.69721613, 0.39311556, 0.09554919,\n",
       "        0.40230398, 1.52805991, 0.40928194, 0.1601251 , 0.19379433,\n",
       "        0.26915934, 0.16165675, 0.38655402, 0.15613903, 0.04191729,\n",
       "        0.31624166, 0.20830202, 0.17092605, 0.41356597, 0.10719866,\n",
       "        0.0196003 , 0.08866613, 0.06604445, 0.66263549, 0.72926018,\n",
       "        0.25159467, 0.07896124, 0.55144543, 0.37116024, 0.34077516,\n",
       "        1.05096592, 0.17836778, 0.06185184, 0.13877811, 0.07866164,\n",
       "        0.73574091, 0.28880381, 0.76244386, 0.24362064, 0.53973354,\n",
       "        0.28090292, 0.27290916, 0.88335251, 0.67060588, 0.14599621,\n",
       "        0.14064383, 0.1838806 , 0.78282066, 0.22756521, 0.50404829,\n",
       "        0.04612402, 0.40603123, 0.4138907 , 0.27052279, 1.00173509,\n",
       "        0.20686331, 0.19427597, 0.17036176, 0.08091241, 0.80175765,\n",
       "        1.11496094, 0.9566485 , 0.62666789, 1.08102342, 0.58081672,\n",
       "        0.61318425, 2.01667481, 0.5161613 , 0.20922824, 0.22014662,\n",
       "        0.12746923]])"
      ]
     },
     "execution_count": 6,
     "metadata": {},
     "output_type": "execute_result"
    }
   ],
   "source": [
    "X_train[:2]"
   ]
  },
  {
   "cell_type": "code",
   "execution_count": 7,
   "metadata": {},
   "outputs": [
    {
     "data": {
      "text/plain": [
       "array([[0.31977337, 0.34138627, 0.05036713, 0.01260456, 0.0353549 ,\n",
       "        0.1185597 , 0.0467738 , 0.02048903, 0.11750225, 0.18469527,\n",
       "        0.07158117, 0.04380819, 0.12918097, 0.15723066, 0.02486799,\n",
       "        0.03569243, 0.13103253, 0.06666701, 0.12041935, 0.114042  ,\n",
       "        0.01127984, 0.00650994, 0.05578655, 0.03110349, 1.27905692,\n",
       "        0.72867136, 0.16631234, 0.39783501, 0.3504427 , 0.14931918,\n",
       "        0.27219299, 0.119918  , 0.26639091, 0.05500265, 0.22028407,\n",
       "        0.02976071, 0.49903653, 0.47147668, 0.21772425, 0.09625628,\n",
       "        0.07949809, 0.07850754, 0.11222314, 0.0312656 , 0.0638701 ,\n",
       "        0.01024857, 0.20098298, 0.12413927, 0.7959434 , 0.33244281,\n",
       "        0.10382577, 0.36052956, 0.10868066, 0.25468323, 0.25108932,\n",
       "        0.10744763, 0.22111074, 0.06949752, 0.22837273, 0.09663771,\n",
       "        2.78278246, 0.95993224, 0.68951591, 0.5680906 , 0.29189192,\n",
       "        0.02141107, 0.20762499, 0.11463274, 0.26281785, 0.02967406,\n",
       "        0.25185108, 0.18281109, 1.13036793, 0.2263472 , 0.13017172,\n",
       "        0.65770249, 0.02616668, 0.24092069, 0.32072114, 0.07664907,\n",
       "        0.1340456 , 0.03319424, 0.47304975, 0.12615251, 1.81630692,\n",
       "        0.8658447 , 0.28004264, 0.81422947, 0.44444803, 0.58299889,\n",
       "        0.53225855, 0.02804132, 0.24612086, 0.06936946, 0.33829746,\n",
       "        0.13256552],\n",
       "       [0.95493369, 0.44725264, 0.26898695, 0.20824942, 0.16498475,\n",
       "        0.05828876, 0.05624718, 0.14432756, 0.10156625, 0.0362658 ,\n",
       "        0.08495425, 0.03697369, 0.07997662, 0.49728347, 0.29287849,\n",
       "        0.01815478, 0.0657682 , 0.04250249, 0.08700553, 0.01843603,\n",
       "        0.16449991, 0.03012028, 0.09461448, 0.01533982, 0.10464233,\n",
       "        0.35209807, 0.08013901, 0.10184792, 0.42312165, 0.13968054,\n",
       "        0.24630269, 0.07917993, 0.13188859, 0.01878021, 0.2557863 ,\n",
       "        0.17313746, 0.31098319, 0.47391564, 0.20892361, 0.03579049,\n",
       "        0.22166238, 0.0272647 , 0.12673812, 0.03225273, 0.06102613,\n",
       "        0.04163716, 0.16973663, 0.12873579, 0.2484161 , 0.5978957 ,\n",
       "        0.0450607 , 0.09446569, 0.35563395, 0.12471629, 0.29785772,\n",
       "        0.08245274, 0.17610429, 0.06224233, 0.15020115, 0.08861565,\n",
       "        1.05836675, 0.71874971, 0.5403778 , 0.11634195, 0.86785822,\n",
       "        0.18710009, 0.1382164 , 0.07709808, 0.27199143, 0.04546532,\n",
       "        0.29761591, 0.19969708, 0.80645353, 0.42385922, 0.08693222,\n",
       "        0.06329094, 0.75403327, 0.10150384, 0.31976622, 0.13802316,\n",
       "        0.20935415, 0.11158722, 0.40086858, 0.11432403, 0.82946612,\n",
       "        0.78074114, 0.08447815, 0.22689132, 1.46239973, 0.25941224,\n",
       "        0.80793318, 0.04428517, 0.21355531, 0.14181853, 0.42804685,\n",
       "        0.15215655]])"
      ]
     },
     "execution_count": 7,
     "metadata": {},
     "output_type": "execute_result"
    }
   ],
   "source": [
    "X_dev[:2]"
   ]
  },
  {
   "cell_type": "code",
   "execution_count": 8,
   "metadata": {},
   "outputs": [
    {
     "data": {
      "text/plain": [
       "array([[0., 0., 1.],\n",
       "       [0., 0., 1.]])"
      ]
     },
     "execution_count": 8,
     "metadata": {},
     "output_type": "execute_result"
    }
   ],
   "source": [
    "y_train[:2]"
   ]
  },
  {
   "cell_type": "code",
   "execution_count": 9,
   "metadata": {},
   "outputs": [
    {
     "data": {
      "text/plain": [
       "array([[0., 1., 0.],\n",
       "       [0., 1., 0.]])"
      ]
     },
     "execution_count": 9,
     "metadata": {},
     "output_type": "execute_result"
    }
   ],
   "source": [
    "y_dev[:2]"
   ]
  },
  {
   "cell_type": "code",
   "execution_count": 10,
   "metadata": {},
   "outputs": [
    {
     "data": {
      "text/plain": [
       "(96,)"
      ]
     },
     "execution_count": 10,
     "metadata": {},
     "output_type": "execute_result"
    }
   ],
   "source": [
    "X_dev[0].shape"
   ]
  },
  {
   "cell_type": "code",
   "execution_count": 11,
   "metadata": {},
   "outputs": [
    {
     "data": {
      "text/plain": [
       "(928, 96)"
      ]
     },
     "execution_count": 11,
     "metadata": {},
     "output_type": "execute_result"
    }
   ],
   "source": [
    "X_dev.shape"
   ]
  },
  {
   "cell_type": "code",
   "execution_count": 12,
   "metadata": {},
   "outputs": [
    {
     "data": {
      "text/plain": [
       "(1837, 96)"
      ]
     },
     "execution_count": 12,
     "metadata": {},
     "output_type": "execute_result"
    }
   ],
   "source": [
    "X_train.shape"
   ]
  },
  {
   "cell_type": "code",
   "execution_count": null,
   "metadata": {},
   "outputs": [],
   "source": []
  },
  {
   "cell_type": "code",
   "execution_count": 21,
   "metadata": {},
   "outputs": [
    {
     "name": "stdout",
     "output_type": "stream",
     "text": [
      "(1837, 96)\n",
      "(928, 96)\n",
      "(908, 96)\n",
      "\n",
      "(1837, 8, 12)\n",
      "(928, 8, 12)\n",
      "(908, 8, 12)\n"
     ]
    }
   ],
   "source": [
    "# Change X to a matrix: \n",
    "\n",
    "electrodes_name = [\"C3\", \"Cz\", \"C4\", \"CP1\", \"CP2\", \"P3\", \"Pz\", \"P4\"]\n",
    "\n",
    "print(X_train.shape)\n",
    "print(X_dev.shape)\n",
    "print(X_test.shape)\n",
    "print()\n",
    "\n",
    "X_train_new = []\n",
    "for x in X_train: \n",
    "    X_train_new.append(x.reshape(len(electrodes_name), int(len(X_train[0])/len(electrodes_name)) )) ## Quiero hacer un miarray.reshape(numfilas, numcolumnas) en este caso numfilas = len(electrodes_name)\n",
    "    # y numcolumnas = int(len(X_dev[0])/len(electrodes_name))\n",
    "    # Asi puedo usarlo todo con distribución espacial :-) \n",
    "    \n",
    "\"\"\"\n",
    "for x in X_train_new: \n",
    "    print(np.shape(x))\n",
    "    print(x)\n",
    "\"\"\"\n",
    "X_train_new = np.asarray(X_train_new)\n",
    "X_train = X_train_new\n",
    "\n",
    "X_dev_new = []\n",
    "for x in X_dev: \n",
    "    X_dev_new.append(x.reshape(len(electrodes_name), int(len(X_dev[0])/len(electrodes_name)) )) \n",
    "X_dev_new = np.asarray(X_dev_new)\n",
    "X_dev = X_dev_new\n",
    "\n",
    "X_test_new = []\n",
    "for x in X_test: \n",
    "    X_test_new.append(x.reshape(len(electrodes_name), int(len(X_test[0])/len(electrodes_name)) ))\n",
    "X_test_new = np.asarray(X_test_new)\n",
    "X_test = X_test_new\n",
    "\n",
    "\n",
    "print(X_train.shape)\n",
    "print(X_dev.shape)\n",
    "print(X_test.shape)"
   ]
  },
  {
   "cell_type": "code",
   "execution_count": 24,
   "metadata": {},
   "outputs": [
    {
     "data": {
      "text/plain": [
       "array([[[4.40889459e-02, 1.22539767e-01, 4.09129528e-02, ...,\n",
       "         4.16814331e-02, 1.18234270e-02, 6.68189584e-02],\n",
       "        [2.27465092e-01, 1.91091408e-01, 1.23820880e-01, ...,\n",
       "         8.78363164e-03, 6.39904876e-02, 1.26972450e-02],\n",
       "        [3.76172510e-01, 7.50527927e-01, 1.22515657e+00, ...,\n",
       "         2.31873828e-01, 9.41969885e-02, 6.49187838e-02],\n",
       "        ...,\n",
       "        [6.51765257e-01, 9.83758470e-02, 1.02400394e-01, ...,\n",
       "         1.18580288e-01, 2.34088748e-01, 1.39735002e-01],\n",
       "        [4.39313566e-01, 1.96065341e-01, 3.42330098e-01, ...,\n",
       "         1.06671951e-01, 3.81912471e-01, 2.21350975e-02],\n",
       "        [1.05885478e+00, 2.57300974e-01, 1.17149903e+00, ...,\n",
       "         2.17100488e-01, 2.60473680e-01, 7.63339134e-03]],\n",
       "\n",
       "       [[2.56143852e-01, 1.14343039e-01, 9.70476313e-02, ...,\n",
       "         3.42833147e-02, 7.15881221e-02, 7.20334729e-02],\n",
       "        [2.23752320e-01, 3.64864219e-01, 1.75762187e-01, ...,\n",
       "         8.60680130e-02, 5.99468668e-02, 4.96307733e-03],\n",
       "        [6.89814682e-01, 2.11749857e+00, 5.64213727e-01, ...,\n",
       "         1.60125100e-01, 1.93794328e-01, 2.69159338e-01],\n",
       "        ...,\n",
       "        [7.35740914e-01, 2.88803812e-01, 7.62443855e-01, ...,\n",
       "         1.45996207e-01, 1.40643831e-01, 1.83880600e-01],\n",
       "        [7.82820657e-01, 2.27565213e-01, 5.04048289e-01, ...,\n",
       "         1.94275973e-01, 1.70361760e-01, 8.09124110e-02],\n",
       "        [8.01757650e-01, 1.11496094e+00, 9.56648500e-01, ...,\n",
       "         2.09228239e-01, 2.20146623e-01, 1.27469231e-01]],\n",
       "\n",
       "       [[9.40980393e-02, 4.50015227e-01, 3.00376639e-01, ...,\n",
       "         1.48243417e-01, 1.63416889e-02, 4.47904054e-02],\n",
       "        [2.83807341e-01, 5.55995077e-01, 1.46100281e-01, ...,\n",
       "         4.26559345e-02, 1.38571635e-02, 6.58612427e-02],\n",
       "        [1.38952142e+00, 1.70913868e+00, 4.69400543e-01, ...,\n",
       "         3.28145941e-01, 8.76408334e-02, 1.00765690e-01],\n",
       "        ...,\n",
       "        [7.71697359e-01, 1.13104218e+00, 5.96710249e-01, ...,\n",
       "         2.55100167e-01, 8.58690178e-02, 1.98191281e-01],\n",
       "        [1.35294057e+00, 1.40018382e+00, 2.68245085e-01, ...,\n",
       "         3.67969880e-01, 9.94141398e-02, 7.04874240e-02],\n",
       "        [2.44954848e+00, 1.71049541e+00, 6.11814082e-01, ...,\n",
       "         3.24737618e-01, 1.25957681e-01, 1.45122114e-01]],\n",
       "\n",
       "       ...,\n",
       "\n",
       "       [[4.63224686e-01, 2.29372401e-01, 4.60707430e-01, ...,\n",
       "         6.68328045e-02, 2.18093197e-02, 1.92881799e-02],\n",
       "        [1.03900980e-01, 3.82014317e-01, 2.12874562e-02, ...,\n",
       "         2.17338248e-01, 8.25541851e-02, 1.77781363e-01],\n",
       "        [1.79146005e-01, 6.06471666e+00, 2.58102323e-02, ...,\n",
       "         2.97318716e-01, 8.42574588e-02, 3.82100494e-01],\n",
       "        ...,\n",
       "        [8.28260004e-01, 7.29646124e-01, 3.48382147e-01, ...,\n",
       "         9.36093894e-02, 7.12387958e-02, 2.79753954e-02],\n",
       "        [2.16082046e-01, 7.12861143e-01, 6.03997278e-02, ...,\n",
       "         4.68352948e-02, 5.38799752e-02, 1.52526258e-01],\n",
       "        [3.63208221e-01, 3.85226432e+00, 4.33158982e-01, ...,\n",
       "         1.26918750e-01, 5.93761691e-02, 2.40493167e-01]],\n",
       "\n",
       "       [[4.63224686e-01, 2.29372401e-01, 4.60707430e-01, ...,\n",
       "         6.68328045e-02, 2.18093197e-02, 1.92881799e-02],\n",
       "        [1.03900980e-01, 3.82014317e-01, 2.12874562e-02, ...,\n",
       "         2.17338248e-01, 8.25541851e-02, 1.77781363e-01],\n",
       "        [1.79146005e-01, 6.06471666e+00, 2.58102323e-02, ...,\n",
       "         2.97318716e-01, 8.42574588e-02, 3.82100494e-01],\n",
       "        ...,\n",
       "        [8.28260004e-01, 7.29646124e-01, 3.48382147e-01, ...,\n",
       "         9.36093894e-02, 7.12387958e-02, 2.79753954e-02],\n",
       "        [2.16082046e-01, 7.12861143e-01, 6.03997278e-02, ...,\n",
       "         4.68352948e-02, 5.38799752e-02, 1.52526258e-01],\n",
       "        [3.63208221e-01, 3.85226432e+00, 4.33158982e-01, ...,\n",
       "         1.26918750e-01, 5.93761691e-02, 2.40493167e-01]],\n",
       "\n",
       "       [[4.63224686e-01, 2.29372401e-01, 4.60707430e-01, ...,\n",
       "         6.68328045e-02, 2.18093197e-02, 1.92881799e-02],\n",
       "        [1.03900980e-01, 3.82014317e-01, 2.12874562e-02, ...,\n",
       "         2.17338248e-01, 8.25541851e-02, 1.77781363e-01],\n",
       "        [1.79146005e-01, 6.06471666e+00, 2.58102323e-02, ...,\n",
       "         2.97318716e-01, 8.42574588e-02, 3.82100494e-01],\n",
       "        ...,\n",
       "        [8.28260004e-01, 7.29646124e-01, 3.48382147e-01, ...,\n",
       "         9.36093894e-02, 7.12387958e-02, 2.79753954e-02],\n",
       "        [2.16082046e-01, 7.12861143e-01, 6.03997278e-02, ...,\n",
       "         4.68352948e-02, 5.38799752e-02, 1.52526258e-01],\n",
       "        [3.63208221e-01, 3.85226432e+00, 4.33158982e-01, ...,\n",
       "         1.26918750e-01, 5.93761691e-02, 2.40493167e-01]]])"
      ]
     },
     "execution_count": 24,
     "metadata": {},
     "output_type": "execute_result"
    }
   ],
   "source": [
    "X_train"
   ]
  },
  {
   "cell_type": "code",
   "execution_count": 22,
   "metadata": {},
   "outputs": [
    {
     "name": "stdout",
     "output_type": "stream",
     "text": [
      "1837 8 12\n"
     ]
    }
   ],
   "source": [
    "print(X_train.shape[0], X_train.shape[1], X_train.shape[2])"
   ]
  },
  {
   "cell_type": "code",
   "execution_count": 25,
   "metadata": {},
   "outputs": [
    {
     "name": "stdout",
     "output_type": "stream",
     "text": [
      "(1837, 8, 12, 1)\n",
      "(928, 8, 12, 1)\n",
      "(908, 8, 12, 1)\n"
     ]
    }
   ],
   "source": [
    "X_train = X_train.reshape(X_train.shape[0], X_train.shape[1], X_train.shape[2],1)\n",
    "X_dev = X_dev.reshape(X_dev.shape[0], X_dev.shape[1], X_dev.shape[2],1)\n",
    "X_test = X_test.reshape(X_test.shape[0], X_test.shape[1], X_test.shape[2],1)\n",
    "\n",
    "print(X_train.shape)\n",
    "print(X_dev.shape)\n",
    "print(X_test.shape)\n",
    "\n",
    "# INPUT SHAPE: batch_size (número de muestras que vamos a mostrar a la red neuronal), height (alto de la imagen o \n",
    "# num filas del array de datos), width (ancho de la imagen o num de columnas del array de datos, depth (profundidad del \n",
    "# array o num canales de la imagen) "
   ]
  },
  {
   "cell_type": "markdown",
   "metadata": {},
   "source": [
    "### 4 - Set hyperparameters"
   ]
  },
  {
   "cell_type": "code",
   "execution_count": 26,
   "metadata": {},
   "outputs": [],
   "source": [
    "# Tensorboard\n",
    "from time import time\n",
    "from keras.callbacks import TensorBoard\n",
    "tensorboard = TensorBoard(log_dir='logs/{}'.format(time()))"
   ]
  },
  {
   "cell_type": "code",
   "execution_count": null,
   "metadata": {},
   "outputs": [],
   "source": [
    "\"\"\"\n",
    "n_epochs = 100 #2000\n",
    "#learning_rate = 0.001\n",
    "batch_size = 32 #250 \n",
    "n_neurons_per_hlayer = [500, 250, 75, 25] # Number of units per layer, 4 hidden layers\n",
    "rate_dropout = [0.8, 0.4, 0.2, 0.1]\n",
    "weight_decay = 1e-4\n",
    "\"\"\""
   ]
  },
  {
   "cell_type": "markdown",
   "metadata": {},
   "source": [
    "### 5 - Build the model: "
   ]
  },
  {
   "cell_type": "code",
   "execution_count": 27,
   "metadata": {},
   "outputs": [
    {
     "name": "stdout",
     "output_type": "stream",
     "text": [
      "Model: \"sequential_5\"\n",
      "_________________________________________________________________\n",
      "Layer (type)                 Output Shape              Param #   \n",
      "=================================================================\n",
      "conv2d (Conv2D)              (None, 8, 12, 48)         480       \n",
      "_________________________________________________________________\n",
      "conv2d_1 (Conv2D)            (None, 8, 12, 48)         20784     \n",
      "_________________________________________________________________\n",
      "max_pooling2d_1 (MaxPooling2 (None, 4, 6, 48)          0         \n",
      "_________________________________________________________________\n",
      "dropout_2 (Dropout)          (None, 4, 6, 48)          0         \n",
      "_________________________________________________________________\n",
      "conv2d_2 (Conv2D)            (None, 4, 6, 96)          41568     \n",
      "_________________________________________________________________\n",
      "conv2d_3 (Conv2D)            (None, 4, 6, 96)          83040     \n",
      "_________________________________________________________________\n",
      "max_pooling2d_2 (MaxPooling2 (None, 2, 3, 96)          0         \n",
      "_________________________________________________________________\n",
      "dropout_3 (Dropout)          (None, 2, 3, 96)          0         \n",
      "_________________________________________________________________\n",
      "conv2d_4 (Conv2D)            (None, 2, 3, 192)         166080    \n",
      "_________________________________________________________________\n",
      "conv2d_5 (Conv2D)            (None, 2, 3, 192)         331968    \n",
      "_________________________________________________________________\n",
      "max_pooling2d_3 (MaxPooling2 (None, 1, 1, 192)         0         \n",
      "_________________________________________________________________\n",
      "dropout_4 (Dropout)          (None, 1, 1, 192)         0         \n",
      "_________________________________________________________________\n",
      "flatten (Flatten)            (None, 192)               0         \n",
      "_________________________________________________________________\n",
      "dense (Dense)                (None, 3)                 579       \n",
      "=================================================================\n",
      "Total params: 644,499\n",
      "Trainable params: 644,499\n",
      "Non-trainable params: 0\n",
      "_________________________________________________________________\n"
     ]
    }
   ],
   "source": [
    "from keras.models import Sequential\n",
    "from keras.layers import Dense, Dropout, Activation, Flatten\n",
    "from keras.layers.convolutional import Conv2D, MaxPooling2D\n",
    "from keras import optimizers, regularizers\n",
    "import keras.backend as K\n",
    "#K.set_image_data_format('channels_first')\n",
    "\n",
    "weight_decay = 1e-4\n",
    "\n",
    "model = Sequential()\n",
    "# Convolution2D(filtrosConv1, tamaño_filtro1, padding=\"same\", input_shape=(longitud, altura,3), activation = \"relu\")\n",
    "    # - filtrosConv1 número de filtros que aplicaremos tras la primera convolución, normalmente este tamaño va a aumentando\n",
    "    # tras convoluciones para que aumente la dimensión de profundidad (qué cosas hay en mi imagen)\n",
    "    # - tamaño_filtro1 tamaño espacial del kernel (de los filtros)\n",
    "    # - padding = si es same es que es igual que la imagen, vamos crea una imagen del mismo tamaño con el filtro, si es \n",
    "    # valid es que no hay padding y crea una imagen más pequeña que la imagen (creo)\n",
    "    # - input_shape = longitud y altura, tamaño que usará para convolucionar al entrenar\n",
    "model.add(Conv2D(48, kernel_size=(3, 3), padding=\"same\", activation=\"relu\",input_shape=(8, 12,1), kernel_initializer=\"he_normal\", kernel_regularizer=regularizers.l2(weight_decay)))\n",
    "model.add(Conv2D(48, kernel_size=(3, 3), padding=\"same\", activation=\"relu\",kernel_initializer=\"he_normal\", kernel_regularizer=regularizers.l2(weight_decay)))\n",
    "model.add(MaxPooling2D(pool_size=(2, 2)))\n",
    "model.add(Dropout(0.1))\n",
    "\n",
    "\n",
    "model.add(Conv2D(96, (3, 3), padding='same',activation='relu', kernel_initializer=\"he_normal\",kernel_regularizer=regularizers.l2(weight_decay)))\n",
    "model.add(Conv2D(96, (3, 3), padding='same',activation='relu', kernel_initializer=\"he_normal\", kernel_regularizer=regularizers.l2(weight_decay)))\n",
    "model.add(MaxPooling2D(pool_size=(2, 2)))\n",
    "model.add(Dropout(0.2))\n",
    "\n",
    "\n",
    "model.add(Conv2D(192, (3, 3), padding='same',activation='relu', kernel_initializer=\"he_normal\", kernel_regularizer=regularizers.l2(weight_decay)))\n",
    "model.add(Conv2D(192, (3, 3), padding='same',activation='relu', kernel_initializer=\"he_normal\", kernel_regularizer=regularizers.l2(weight_decay)))\n",
    "model.add(MaxPooling2D(pool_size=(2, 2)))\n",
    "model.add(Dropout(0.2))\n",
    "\n",
    "model.add(Flatten())\n",
    "model.add(Dense(y_train.shape[1], activation=\"softmax\"))\n",
    "\n",
    "opt = optimizers.Adam(lr=0.001, beta_1=0.9, beta_2=0.999)        \n",
    "model.compile(optimizer=opt, loss='categorical_crossentropy', metrics=['accuracy'])\n",
    "model.summary()"
   ]
  },
  {
   "cell_type": "code",
   "execution_count": 28,
   "metadata": {},
   "outputs": [
    {
     "data": {
      "text/plain": [
       "[<tensorflow.python.keras.layers.convolutional.Conv2D at 0x1b77393c5b0>,\n",
       " <tensorflow.python.keras.layers.convolutional.Conv2D at 0x1b77a4d42e0>,\n",
       " <tensorflow.python.keras.layers.pooling.MaxPooling2D at 0x1b77a4c64f0>,\n",
       " <tensorflow.python.keras.layers.core.Dropout at 0x1b77a4c6d60>,\n",
       " <tensorflow.python.keras.layers.convolutional.Conv2D at 0x1b77a4d1100>,\n",
       " <tensorflow.python.keras.layers.convolutional.Conv2D at 0x1b77a4d1cd0>,\n",
       " <tensorflow.python.keras.layers.pooling.MaxPooling2D at 0x1b77a4d1fa0>,\n",
       " <tensorflow.python.keras.layers.core.Dropout at 0x1b77a4dfd30>,\n",
       " <tensorflow.python.keras.layers.convolutional.Conv2D at 0x1b77b630850>,\n",
       " <tensorflow.python.keras.layers.convolutional.Conv2D at 0x1b77a4ed400>,\n",
       " <tensorflow.python.keras.layers.pooling.MaxPooling2D at 0x1b77b642790>,\n",
       " <tensorflow.python.keras.layers.core.Dropout at 0x1b77b6427c0>,\n",
       " <tensorflow.python.keras.layers.core.Flatten at 0x1b77b63dcd0>,\n",
       " <tensorflow.python.keras.layers.core.Dense at 0x1b77a4ed0a0>]"
      ]
     },
     "execution_count": 28,
     "metadata": {},
     "output_type": "execute_result"
    }
   ],
   "source": [
    "model.layers"
   ]
  },
  {
   "cell_type": "code",
   "execution_count": 29,
   "metadata": {},
   "outputs": [
    {
     "name": "stdout",
     "output_type": "stream",
     "text": [
      "conv2d\n",
      "conv2d_1\n",
      "max_pooling2d_1\n",
      "dropout_2\n",
      "conv2d_2\n",
      "conv2d_3\n",
      "max_pooling2d_2\n",
      "dropout_3\n",
      "conv2d_4\n",
      "conv2d_5\n",
      "max_pooling2d_3\n",
      "dropout_4\n",
      "flatten\n",
      "dense\n"
     ]
    }
   ],
   "source": [
    "for l in model.layers: print (l.name)"
   ]
  },
  {
   "cell_type": "markdown",
   "metadata": {},
   "source": [
    "All the parameters of a layer can bee accessed:"
   ]
  },
  {
   "cell_type": "code",
   "execution_count": 30,
   "metadata": {},
   "outputs": [
    {
     "data": {
      "text/plain": [
       "(3, 3, 1, 48)"
      ]
     },
     "execution_count": 30,
     "metadata": {},
     "output_type": "execute_result"
    }
   ],
   "source": [
    "weights, biases = model.layers[0].get_weights()\n",
    "weights.shape"
   ]
  },
  {
   "cell_type": "code",
   "execution_count": 31,
   "metadata": {},
   "outputs": [
    {
     "data": {
      "text/plain": [
       "array([[[[ 0.18378897,  0.00765834, -0.37459016,  0.23160213,\n",
       "          -0.33648065, -0.5781717 ,  0.36913887,  0.16875818,\n",
       "           0.06324659, -0.60873336,  0.5001523 ,  0.2160179 ,\n",
       "          -0.7448615 , -0.11796068,  0.11014009,  0.0820864 ,\n",
       "           0.6197849 , -0.12056042, -0.31946227, -0.40969467,\n",
       "           0.3188121 , -0.71440935, -0.00898832, -0.31354707,\n",
       "           0.20973665, -0.3141038 ,  0.7311095 , -0.64164597,\n",
       "           0.9291396 , -0.46207115, -0.5100515 , -0.17804714,\n",
       "           0.23417781, -0.0361379 ,  0.23483144, -0.6806582 ,\n",
       "          -0.23889074, -0.8592226 ,  0.51059353,  0.43975976,\n",
       "           0.5486252 ,  0.4413722 ,  0.2598966 ,  0.88314   ,\n",
       "          -0.05115884,  0.04508558,  0.8006182 ,  0.04013082]],\n",
       "\n",
       "        [[ 0.74249476, -0.5293907 , -0.25804833, -0.7443357 ,\n",
       "          -0.3733877 , -0.49314386, -0.5952116 ,  0.51941025,\n",
       "          -0.3931617 , -0.15890422,  0.18180543,  0.42089158,\n",
       "           0.0261323 , -0.07050248,  0.6291971 , -0.09612551,\n",
       "           0.3105794 , -0.5817575 , -0.3076306 , -0.6910895 ,\n",
       "          -0.3459454 ,  0.5537159 , -0.9494362 , -0.27547848,\n",
       "           0.76054275,  0.21256267, -0.5495036 , -0.27930808,\n",
       "          -0.67091584, -0.09214091, -0.59060234,  0.22183202,\n",
       "           0.29228875,  0.16819191, -0.40401953, -0.46068883,\n",
       "           0.39575705,  0.75467086, -0.35251564,  1.069774  ,\n",
       "           0.69659996,  0.29286754,  0.04779275, -0.19931561,\n",
       "          -0.18717185, -0.49132088, -0.43974042, -0.21492586]],\n",
       "\n",
       "        [[-0.04906683, -0.4646137 , -0.8142046 , -0.42758772,\n",
       "          -0.14778279, -0.18691772,  0.37129372,  0.17126156,\n",
       "           0.6006402 , -0.27481523,  0.09461828,  0.10797428,\n",
       "           0.18771161, -0.81729245, -0.5252338 ,  0.69170314,\n",
       "           0.6655217 , -0.30529886,  0.5948153 ,  0.44749776,\n",
       "          -0.5825623 , -0.5778081 ,  0.94817305, -0.16574639,\n",
       "           0.44063494, -0.2158636 ,  0.79657155,  0.38712195,\n",
       "          -0.00125555, -0.40121743,  0.61860317,  0.35760945,\n",
       "          -0.7019799 ,  0.32260522, -0.50547904, -0.47187138,\n",
       "           0.09232203, -0.2746461 , -0.63740736, -0.30651912,\n",
       "           0.1831613 ,  0.06245505, -0.17367373,  0.255102  ,\n",
       "           0.09441161, -0.921356  , -0.45191973,  0.06318543]]],\n",
       "\n",
       "\n",
       "       [[[ 0.16959418,  0.3585921 ,  0.05658268,  0.72475016,\n",
       "          -0.18998335,  0.7193179 , -0.09521608,  0.11059798,\n",
       "           0.08539843, -0.2541494 , -0.4925287 ,  0.21391258,\n",
       "           0.55783135, -0.05712102,  0.68138266, -0.25374067,\n",
       "           0.14342372,  0.3214579 ,  0.36229673, -0.80645037,\n",
       "          -0.03741542, -0.18236773,  0.26843658,  0.0165386 ,\n",
       "           0.24514113,  0.03513649,  0.3244834 ,  0.819669  ,\n",
       "           0.13559182,  0.14610201, -0.87464917, -0.06159864,\n",
       "          -0.36143714,  0.9574477 , -0.33830562, -0.57901657,\n",
       "          -0.31345242, -0.3879853 , -0.6182547 ,  0.11809888,\n",
       "          -0.05108036, -0.5234706 ,  0.05746531, -0.7072973 ,\n",
       "          -0.01298095, -0.55893785,  0.47578502, -0.02689638]],\n",
       "\n",
       "        [[-0.12307493,  0.11246472,  0.36717242,  0.09725715,\n",
       "          -0.23599176,  0.22950783, -0.2219237 ,  0.15370569,\n",
       "           0.04200112,  0.07100713, -0.45804888,  0.33156234,\n",
       "          -0.01515798,  0.12878117,  0.22893557,  0.8323151 ,\n",
       "           0.17544013, -0.18267287,  0.29884285,  0.29973418,\n",
       "           0.5135878 ,  0.47854686, -0.85540485,  0.8844805 ,\n",
       "           0.47392622,  0.17635973, -0.07631452, -0.01825486,\n",
       "          -0.33679074,  0.3180817 ,  0.8054979 , -0.16313264,\n",
       "           0.5356297 ,  0.06810635,  0.5156276 ,  0.41015065,\n",
       "          -0.753551  ,  0.22838937,  0.70590305, -0.01136179,\n",
       "          -0.08808748, -0.3605689 ,  0.16203372, -0.9077152 ,\n",
       "          -0.8543791 ,  0.13454959, -0.06392815, -0.05282615]],\n",
       "\n",
       "        [[-0.12599014, -0.43909073, -0.22480719,  0.19206886,\n",
       "          -0.30029553,  0.9226054 , -0.19495177,  0.04712434,\n",
       "          -0.06454474,  0.24446481, -0.17350276,  0.34251294,\n",
       "           0.17871796,  0.99041724, -0.0708328 , -0.53006595,\n",
       "          -0.46183264,  0.51603264,  0.35649076, -0.4669992 ,\n",
       "          -0.08196311,  0.49247706,  0.5763798 , -0.00428533,\n",
       "           0.2602513 , -0.03799324, -0.18890554, -0.4944994 ,\n",
       "          -0.5841977 ,  0.04820649,  0.33594492,  0.62371916,\n",
       "           0.10295465, -0.00253789,  0.69414586, -0.6881015 ,\n",
       "          -0.7839896 ,  0.22551145,  0.61929804, -0.22785196,\n",
       "           0.6907861 , -0.8387208 ,  0.29471138,  0.07534785,\n",
       "           0.47065958, -0.47208467,  0.09009393,  0.41246703]]],\n",
       "\n",
       "\n",
       "       [[[-0.03245411,  0.1376813 ,  0.70283616,  0.750891  ,\n",
       "           0.07003842, -0.37835956,  0.44978818, -0.02104244,\n",
       "          -0.25823748, -0.8119315 , -0.47778505,  0.49296892,\n",
       "          -0.4529665 ,  0.5647479 ,  0.25036073, -0.07753944,\n",
       "           0.6166086 ,  0.11376135,  0.1188418 , -0.43153015,\n",
       "           0.30755132, -0.15389793,  0.4720075 , -0.11377685,\n",
       "           0.20558222, -0.3273791 , -0.62080526,  0.6102434 ,\n",
       "           0.42779267,  0.31890374, -0.2410929 ,  0.7169318 ,\n",
       "          -0.6068445 , -0.57860947,  0.15935053,  0.19842345,\n",
       "           0.23873414,  0.02941799,  0.00262507, -0.06550644,\n",
       "          -0.06737   , -0.31822607,  0.600617  , -0.8123013 ,\n",
       "          -0.4399775 , -0.61897963, -0.48205397, -0.20479101]],\n",
       "\n",
       "        [[ 0.20796934, -0.55915576, -0.31240582,  0.85373795,\n",
       "          -0.33954597, -0.4676646 ,  0.5598246 ,  0.3498803 ,\n",
       "           0.00377273, -0.03469862,  0.33056504, -0.54940885,\n",
       "          -0.29055974, -0.18758623,  1.0223612 ,  0.45908913,\n",
       "           0.7705922 , -0.22980581, -0.85189706, -0.17790647,\n",
       "           0.18784694,  0.04265519, -0.88446414,  0.92095333,\n",
       "           0.14000383,  0.45108184,  0.10988384, -0.5830543 ,\n",
       "          -0.05670584,  0.299306  , -0.25768086,  0.29504642,\n",
       "           0.28205457,  0.8310669 ,  0.28831857, -0.98863757,\n",
       "          -0.3177424 , -0.5290163 ,  0.08773508, -0.19107527,\n",
       "          -0.18151933, -0.42481193,  0.16726775, -0.42372453,\n",
       "           0.6592943 ,  0.0720937 , -0.96389717, -0.9088484 ]],\n",
       "\n",
       "        [[ 0.406241  ,  0.8281937 , -0.390972  ,  0.04483095,\n",
       "           0.62833357, -0.10138991, -0.2981221 , -0.42011532,\n",
       "           0.23340368, -0.3023229 , -0.06156138,  0.1277201 ,\n",
       "          -0.09951883, -0.53999585,  0.6697018 ,  0.49795407,\n",
       "          -0.9749896 ,  0.10474631, -0.10334243,  0.12492375,\n",
       "           0.38838187,  0.22066009, -0.34684542,  0.20974164,\n",
       "          -0.39893588, -0.19546695,  0.08264811, -0.5703596 ,\n",
       "           0.17629167, -0.8816216 ,  0.40387762,  0.8662237 ,\n",
       "          -0.9029879 , -0.6433016 ,  0.28144723, -0.2883716 ,\n",
       "           0.48472676, -0.16417795, -0.14244302, -0.70372695,\n",
       "          -0.46806237,  0.03490954, -0.11312799,  0.4342487 ,\n",
       "          -0.480831  ,  0.71123993, -0.2706072 ,  0.75426316]]]],\n",
       "      dtype=float32)"
      ]
     },
     "execution_count": 31,
     "metadata": {},
     "output_type": "execute_result"
    }
   ],
   "source": [
    "weights"
   ]
  },
  {
   "cell_type": "code",
   "execution_count": 32,
   "metadata": {},
   "outputs": [
    {
     "data": {
      "text/plain": [
       "array([0., 0., 0., 0., 0., 0., 0., 0., 0., 0., 0., 0., 0., 0., 0., 0., 0.,\n",
       "       0., 0., 0., 0., 0., 0., 0., 0., 0., 0., 0., 0., 0., 0., 0., 0., 0.,\n",
       "       0., 0., 0., 0., 0., 0., 0., 0., 0., 0., 0., 0., 0., 0.],\n",
       "      dtype=float32)"
      ]
     },
     "execution_count": 32,
     "metadata": {},
     "output_type": "execute_result"
    }
   ],
   "source": [
    "biases # Bias de la primera capa: 500 bias inicializados a 0 "
   ]
  },
  {
   "cell_type": "code",
   "execution_count": 33,
   "metadata": {},
   "outputs": [
    {
     "data": {
      "text/plain": [
       "(48,)"
      ]
     },
     "execution_count": 33,
     "metadata": {},
     "output_type": "execute_result"
    }
   ],
   "source": [
    "biases.shape"
   ]
  },
  {
   "cell_type": "markdown",
   "metadata": {},
   "source": [
    "### 6. Compile the model"
   ]
  },
  {
   "cell_type": "code",
   "execution_count": null,
   "metadata": {},
   "outputs": [],
   "source": []
  },
  {
   "cell_type": "markdown",
   "metadata": {},
   "source": [
    "### 7. Train the model with M-BGD"
   ]
  },
  {
   "cell_type": "code",
   "execution_count": 34,
   "metadata": {},
   "outputs": [
    {
     "name": "stdout",
     "output_type": "stream",
     "text": [
      "Epoch 1/100\n",
      "58/58 - 2s - loss: 1.2456 - accuracy: 0.5014 - val_loss: 1.3538 - val_accuracy: 0.5442\n",
      "Epoch 2/100\n",
      "58/58 - 1s - loss: 0.9648 - accuracy: 0.6184 - val_loss: 1.0869 - val_accuracy: 0.6358\n",
      "Epoch 3/100\n",
      "58/58 - 1s - loss: 0.9210 - accuracy: 0.6369 - val_loss: 0.8969 - val_accuracy: 0.6918\n",
      "Epoch 4/100\n",
      "58/58 - 1s - loss: 0.8604 - accuracy: 0.6821 - val_loss: 1.0725 - val_accuracy: 0.6649\n",
      "Epoch 5/100\n",
      "58/58 - 1s - loss: 0.8480 - accuracy: 0.6957 - val_loss: 0.9296 - val_accuracy: 0.7188\n",
      "Epoch 6/100\n",
      "58/58 - 1s - loss: 0.7796 - accuracy: 0.7093 - val_loss: 1.0379 - val_accuracy: 0.6713\n",
      "Epoch 7/100\n",
      "58/58 - 1s - loss: 0.7375 - accuracy: 0.7322 - val_loss: 1.1137 - val_accuracy: 0.7047\n",
      "Epoch 8/100\n",
      "58/58 - 1s - loss: 0.7178 - accuracy: 0.7545 - val_loss: 0.9368 - val_accuracy: 0.7241\n",
      "Epoch 9/100\n",
      "58/58 - 1s - loss: 0.6421 - accuracy: 0.7855 - val_loss: 1.6416 - val_accuracy: 0.6433\n",
      "Epoch 10/100\n",
      "58/58 - 1s - loss: 0.6478 - accuracy: 0.7779 - val_loss: 0.9824 - val_accuracy: 0.6929\n",
      "Epoch 11/100\n",
      "58/58 - 1s - loss: 0.6097 - accuracy: 0.8040 - val_loss: 1.1215 - val_accuracy: 0.6573\n",
      "Epoch 12/100\n",
      "58/58 - 1s - loss: 0.5949 - accuracy: 0.8062 - val_loss: 1.3569 - val_accuracy: 0.6746\n",
      "Epoch 13/100\n",
      "58/58 - 1s - loss: 0.5002 - accuracy: 0.8378 - val_loss: 1.0215 - val_accuracy: 0.6778\n",
      "Epoch 14/100\n",
      "58/58 - 1s - loss: 0.4755 - accuracy: 0.8666 - val_loss: 1.2104 - val_accuracy: 0.7037\n",
      "Epoch 15/100\n",
      "58/58 - 1s - loss: 0.4236 - accuracy: 0.8835 - val_loss: 1.6556 - val_accuracy: 0.6272\n",
      "Epoch 16/100\n",
      "58/58 - 2s - loss: 0.4204 - accuracy: 0.8835 - val_loss: 1.2712 - val_accuracy: 0.6789\n",
      "Epoch 17/100\n",
      "58/58 - 1s - loss: 0.3753 - accuracy: 0.9042 - val_loss: 1.3540 - val_accuracy: 0.6498\n",
      "Epoch 18/100\n",
      "58/58 - 1s - loss: 0.3504 - accuracy: 0.9053 - val_loss: 1.4346 - val_accuracy: 0.6487\n",
      "Epoch 19/100\n",
      "58/58 - 1s - loss: 0.3246 - accuracy: 0.9292 - val_loss: 1.1971 - val_accuracy: 0.6735\n",
      "Epoch 20/100\n",
      "58/58 - 1s - loss: 0.3002 - accuracy: 0.9385 - val_loss: 1.4567 - val_accuracy: 0.6562\n",
      "Epoch 21/100\n",
      "58/58 - 1s - loss: 0.2866 - accuracy: 0.9450 - val_loss: 1.4012 - val_accuracy: 0.7037\n",
      "Epoch 22/100\n",
      "58/58 - 1s - loss: 0.2602 - accuracy: 0.9510 - val_loss: 1.8662 - val_accuracy: 0.6067\n",
      "Epoch 23/100\n",
      "58/58 - 1s - loss: 0.3017 - accuracy: 0.9276 - val_loss: 1.5830 - val_accuracy: 0.6153\n",
      "Epoch 24/100\n",
      "58/58 - 2s - loss: 0.2572 - accuracy: 0.9472 - val_loss: 1.7359 - val_accuracy: 0.6670\n",
      "Epoch 25/100\n",
      "58/58 - 1s - loss: 0.2124 - accuracy: 0.9711 - val_loss: 1.7390 - val_accuracy: 0.6713\n",
      "Epoch 26/100\n",
      "58/58 - 1s - loss: 0.2005 - accuracy: 0.9760 - val_loss: 1.4906 - val_accuracy: 0.6994\n",
      "Epoch 27/100\n",
      "58/58 - 1s - loss: 0.2298 - accuracy: 0.9608 - val_loss: 1.8628 - val_accuracy: 0.6886\n",
      "Epoch 28/100\n",
      "58/58 - 2s - loss: 0.2394 - accuracy: 0.9624 - val_loss: 1.9092 - val_accuracy: 0.6735\n",
      "Epoch 29/100\n",
      "58/58 - 2s - loss: 0.2244 - accuracy: 0.9630 - val_loss: 1.7870 - val_accuracy: 0.6746\n",
      "Epoch 30/100\n",
      "58/58 - 2s - loss: 0.1748 - accuracy: 0.9842 - val_loss: 2.2229 - val_accuracy: 0.6476\n",
      "Epoch 31/100\n",
      "58/58 - 2s - loss: 0.1762 - accuracy: 0.9782 - val_loss: 2.4948 - val_accuracy: 0.6670\n",
      "Epoch 32/100\n",
      "58/58 - 1s - loss: 0.1818 - accuracy: 0.9760 - val_loss: 1.9406 - val_accuracy: 0.6864\n",
      "Epoch 33/100\n",
      "58/58 - 1s - loss: 0.1971 - accuracy: 0.9728 - val_loss: 2.1711 - val_accuracy: 0.6573\n",
      "Epoch 34/100\n",
      "58/58 - 1s - loss: 0.2179 - accuracy: 0.9614 - val_loss: 2.1540 - val_accuracy: 0.6681\n",
      "Epoch 35/100\n",
      "58/58 - 2s - loss: 0.2399 - accuracy: 0.9586 - val_loss: 1.9219 - val_accuracy: 0.6832\n",
      "Epoch 36/100\n",
      "58/58 - 2s - loss: 0.1603 - accuracy: 0.9869 - val_loss: 2.2344 - val_accuracy: 0.6800\n",
      "Epoch 37/100\n",
      "58/58 - 2s - loss: 0.1709 - accuracy: 0.9788 - val_loss: 1.8874 - val_accuracy: 0.6994\n",
      "Epoch 38/100\n",
      "58/58 - 2s - loss: 0.1477 - accuracy: 0.9907 - val_loss: 2.4791 - val_accuracy: 0.6756\n",
      "Epoch 39/100\n",
      "58/58 - 2s - loss: 0.1782 - accuracy: 0.9788 - val_loss: 2.0899 - val_accuracy: 0.6929\n",
      "Epoch 40/100\n",
      "58/58 - 2s - loss: 0.1829 - accuracy: 0.9766 - val_loss: 2.2773 - val_accuracy: 0.6918\n",
      "Epoch 41/100\n",
      "58/58 - 1s - loss: 0.1776 - accuracy: 0.9766 - val_loss: 2.1019 - val_accuracy: 0.6498\n",
      "Epoch 42/100\n",
      "58/58 - 1s - loss: 0.1740 - accuracy: 0.9799 - val_loss: 2.4494 - val_accuracy: 0.6401\n",
      "Epoch 43/100\n",
      "58/58 - 2s - loss: 0.2007 - accuracy: 0.9679 - val_loss: 1.9990 - val_accuracy: 0.6412\n",
      "Epoch 44/100\n",
      "58/58 - 2s - loss: 0.1561 - accuracy: 0.9858 - val_loss: 2.4025 - val_accuracy: 0.6713\n",
      "Epoch 45/100\n",
      "58/58 - 1s - loss: 0.1461 - accuracy: 0.9880 - val_loss: 2.9456 - val_accuracy: 0.6800\n",
      "Epoch 46/100\n",
      "58/58 - 2s - loss: 0.1541 - accuracy: 0.9858 - val_loss: 2.1435 - val_accuracy: 0.6810\n",
      "Epoch 47/100\n",
      "58/58 - 2s - loss: 0.1719 - accuracy: 0.9793 - val_loss: 1.9219 - val_accuracy: 0.6950\n",
      "Epoch 48/100\n",
      "58/58 - 2s - loss: 0.1655 - accuracy: 0.9837 - val_loss: 1.9831 - val_accuracy: 0.6789\n",
      "Epoch 49/100\n",
      "58/58 - 2s - loss: 0.1576 - accuracy: 0.9880 - val_loss: 2.1371 - val_accuracy: 0.6638\n",
      "Epoch 50/100\n",
      "58/58 - 2s - loss: 0.1662 - accuracy: 0.9815 - val_loss: 2.6374 - val_accuracy: 0.6897\n",
      "Epoch 51/100\n",
      "58/58 - 2s - loss: 0.1405 - accuracy: 0.9946 - val_loss: 2.6085 - val_accuracy: 0.6767\n",
      "Epoch 52/100\n",
      "58/58 - 2s - loss: 0.1262 - accuracy: 0.9951 - val_loss: 2.5914 - val_accuracy: 0.6616\n",
      "Epoch 53/100\n",
      "58/58 - 1s - loss: 0.1407 - accuracy: 0.9891 - val_loss: 2.4176 - val_accuracy: 0.6886\n",
      "Epoch 54/100\n",
      "58/58 - 1s - loss: 0.1496 - accuracy: 0.9864 - val_loss: 2.6977 - val_accuracy: 0.6767\n",
      "Epoch 55/100\n",
      "58/58 - 1s - loss: 0.1630 - accuracy: 0.9799 - val_loss: 3.2277 - val_accuracy: 0.6476\n",
      "Epoch 56/100\n",
      "58/58 - 1s - loss: 0.1721 - accuracy: 0.9793 - val_loss: 2.3386 - val_accuracy: 0.6218\n",
      "Epoch 57/100\n",
      "58/58 - 1s - loss: 0.1851 - accuracy: 0.9782 - val_loss: 2.0628 - val_accuracy: 0.6379\n",
      "Epoch 58/100\n",
      "58/58 - 2s - loss: 0.1536 - accuracy: 0.9858 - val_loss: 2.2607 - val_accuracy: 0.6746\n",
      "Epoch 59/100\n",
      "58/58 - 2s - loss: 0.1527 - accuracy: 0.9853 - val_loss: 2.1492 - val_accuracy: 0.6778\n",
      "Epoch 60/100\n",
      "58/58 - 2s - loss: 0.1567 - accuracy: 0.9842 - val_loss: 2.0358 - val_accuracy: 0.6821\n",
      "Epoch 61/100\n",
      "58/58 - 1s - loss: 0.1419 - accuracy: 0.9907 - val_loss: 2.5314 - val_accuracy: 0.6756\n",
      "Epoch 62/100\n",
      "58/58 - 2s - loss: 0.1485 - accuracy: 0.9875 - val_loss: 3.2677 - val_accuracy: 0.6293\n",
      "Epoch 63/100\n",
      "58/58 - 1s - loss: 0.1401 - accuracy: 0.9897 - val_loss: 3.3558 - val_accuracy: 0.6369\n",
      "Epoch 64/100\n",
      "58/58 - 1s - loss: 0.1524 - accuracy: 0.9842 - val_loss: 3.0168 - val_accuracy: 0.6433\n",
      "Epoch 65/100\n",
      "58/58 - 1s - loss: 0.1522 - accuracy: 0.9858 - val_loss: 2.0681 - val_accuracy: 0.6735\n",
      "Epoch 66/100\n",
      "58/58 - 1s - loss: 0.1361 - accuracy: 0.9907 - val_loss: 2.7616 - val_accuracy: 0.6401\n",
      "Epoch 67/100\n",
      "58/58 - 1s - loss: 0.1392 - accuracy: 0.9891 - val_loss: 2.8676 - val_accuracy: 0.6659\n",
      "Epoch 68/100\n",
      "58/58 - 1s - loss: 0.1376 - accuracy: 0.9886 - val_loss: 2.6076 - val_accuracy: 0.6735\n",
      "Epoch 69/100\n",
      "58/58 - 2s - loss: 0.1178 - accuracy: 0.9962 - val_loss: 3.2480 - val_accuracy: 0.6659\n",
      "Epoch 70/100\n",
      "58/58 - 2s - loss: 0.1423 - accuracy: 0.9886 - val_loss: 2.4095 - val_accuracy: 0.6670\n",
      "Epoch 71/100\n",
      "58/58 - 2s - loss: 0.1504 - accuracy: 0.9864 - val_loss: 2.9603 - val_accuracy: 0.6789\n",
      "Epoch 72/100\n",
      "58/58 - 1s - loss: 0.1197 - accuracy: 0.9946 - val_loss: 3.2721 - val_accuracy: 0.6692\n",
      "Epoch 73/100\n",
      "58/58 - 2s - loss: 0.1442 - accuracy: 0.9853 - val_loss: 2.5808 - val_accuracy: 0.6832\n",
      "Epoch 74/100\n",
      "58/58 - 1s - loss: 0.1425 - accuracy: 0.9869 - val_loss: 2.1798 - val_accuracy: 0.6627\n",
      "Epoch 75/100\n",
      "58/58 - 1s - loss: 0.1956 - accuracy: 0.9722 - val_loss: 1.6650 - val_accuracy: 0.6703\n",
      "Epoch 76/100\n",
      "58/58 - 1s - loss: 0.1462 - accuracy: 0.9864 - val_loss: 2.1173 - val_accuracy: 0.6886\n",
      "Epoch 77/100\n",
      "58/58 - 1s - loss: 0.1480 - accuracy: 0.9848 - val_loss: 3.1613 - val_accuracy: 0.6573\n",
      "Epoch 78/100\n",
      "58/58 - 1s - loss: 0.1340 - accuracy: 0.9924 - val_loss: 1.9112 - val_accuracy: 0.6853\n",
      "Epoch 79/100\n",
      "58/58 - 2s - loss: 0.1611 - accuracy: 0.9826 - val_loss: 1.7713 - val_accuracy: 0.7058\n",
      "Epoch 80/100\n",
      "58/58 - 2s - loss: 0.1397 - accuracy: 0.9886 - val_loss: 2.0621 - val_accuracy: 0.6950\n",
      "Epoch 81/100\n",
      "58/58 - 2s - loss: 0.1174 - accuracy: 0.9962 - val_loss: 2.5343 - val_accuracy: 0.6864\n",
      "Epoch 82/100\n",
      "58/58 - 2s - loss: 0.1227 - accuracy: 0.9946 - val_loss: 2.3840 - val_accuracy: 0.6336\n",
      "Epoch 83/100\n"
     ]
    },
    {
     "name": "stdout",
     "output_type": "stream",
     "text": [
      "58/58 - 2s - loss: 0.1404 - accuracy: 0.9869 - val_loss: 2.9929 - val_accuracy: 0.6735\n",
      "Epoch 84/100\n",
      "58/58 - 2s - loss: 0.1646 - accuracy: 0.9826 - val_loss: 2.8914 - val_accuracy: 0.6369\n",
      "Epoch 85/100\n",
      "58/58 - 1s - loss: 0.1340 - accuracy: 0.9897 - val_loss: 2.3849 - val_accuracy: 0.6401\n",
      "Epoch 86/100\n",
      "58/58 - 1s - loss: 0.1268 - accuracy: 0.9929 - val_loss: 3.1336 - val_accuracy: 0.6487\n",
      "Epoch 87/100\n",
      "58/58 - 1s - loss: 0.1465 - accuracy: 0.9864 - val_loss: 2.1865 - val_accuracy: 0.6724\n",
      "Epoch 88/100\n",
      "58/58 - 1s - loss: 0.1244 - accuracy: 0.9946 - val_loss: 2.5612 - val_accuracy: 0.6724\n",
      "Epoch 89/100\n",
      "58/58 - 1s - loss: 0.1298 - accuracy: 0.9929 - val_loss: 1.8363 - val_accuracy: 0.6983\n",
      "Epoch 90/100\n",
      "58/58 - 2s - loss: 0.1327 - accuracy: 0.9913 - val_loss: 2.3641 - val_accuracy: 0.6336\n",
      "Epoch 91/100\n",
      "58/58 - 2s - loss: 0.1231 - accuracy: 0.9946 - val_loss: 2.4206 - val_accuracy: 0.6853\n",
      "Epoch 92/100\n",
      "58/58 - 2s - loss: 0.1320 - accuracy: 0.9913 - val_loss: 2.2322 - val_accuracy: 0.6638\n",
      "Epoch 93/100\n",
      "58/58 - 1s - loss: 0.1428 - accuracy: 0.9886 - val_loss: 2.0497 - val_accuracy: 0.6961\n",
      "Epoch 94/100\n",
      "58/58 - 2s - loss: 0.1363 - accuracy: 0.9918 - val_loss: 2.2783 - val_accuracy: 0.6455\n",
      "Epoch 95/100\n",
      "58/58 - 2s - loss: 0.1346 - accuracy: 0.9897 - val_loss: 2.7797 - val_accuracy: 0.6444\n",
      "Epoch 96/100\n",
      "58/58 - 2s - loss: 0.1216 - accuracy: 0.9935 - val_loss: 2.8745 - val_accuracy: 0.6703\n",
      "Epoch 97/100\n",
      "58/58 - 2s - loss: 0.1603 - accuracy: 0.9815 - val_loss: 2.1283 - val_accuracy: 0.6778\n",
      "Epoch 98/100\n",
      "58/58 - 2s - loss: 0.1276 - accuracy: 0.9929 - val_loss: 2.7230 - val_accuracy: 0.6713\n",
      "Epoch 99/100\n",
      "58/58 - 2s - loss: 0.1383 - accuracy: 0.9918 - val_loss: 2.1220 - val_accuracy: 0.7058\n",
      "Epoch 100/100\n",
      "58/58 - 2s - loss: 0.1482 - accuracy: 0.9853 - val_loss: 2.6962 - val_accuracy: 0.6595\n",
      "151.654545545578\n"
     ]
    }
   ],
   "source": [
    "import time\n",
    "start = time.time()\n",
    "#history = model.fit(X_train, y_train, batch_size=32, steps_per_epoch=len(y_train)/32, epochs=100, verbose=2, validation_data=(X_dev, y_dev),callbacks=[tensorboard])\n",
    "history = model.fit(X_train, y_train, batch_size=32, epochs=100, verbose=2, validation_data=(X_dev, y_dev))\n",
    "print (time.time() - start)\n",
    "\n"
   ]
  },
  {
   "cell_type": "markdown",
   "metadata": {},
   "source": [
    "### 8. Get the results"
   ]
  },
  {
   "cell_type": "code",
   "execution_count": 35,
   "metadata": {},
   "outputs": [
    {
     "data": {
      "image/png": "[encoded data removed]",
      "text/plain": [
       "<Figure size 576x360 with 1 Axes>"
      ]
     },
     "metadata": {
      "needs_background": "light"
     },
     "output_type": "display_data"
    }
   ],
   "source": [
    "results=pd.DataFrame(history.history)\n",
    "results.plot(figsize=(8, 5))\n",
    "plt.grid(True)\n",
    "plt.xlabel (\"Epochs\")\n",
    "plt.ylabel (\"Accuracy - Mean Log Loss\")\n",
    "plt.gca().set_ylim(0, 2) # set the vertical range to [0-1]\n",
    "plt.show()\n",
    "\n",
    "# categorical_accuracy es el training accuracy\n",
    "# val_categorical_accuracy es el validation accuracy\n",
    "# loss es el training loss\n",
    "# val_loss es el validation loss\n",
    "\n",
    "# Overfitting:\n",
    "# Por un lado la Accuracy de los datos de entrenamiento aumenta con las epochs,\n",
    "# mientras que la Accuracy de los datos de validación disminuye o se mantiene constante a lo largo de las epochs. \n",
    "# La Loss de los datos de validación alcanza su mínimo después de pocos epochs y luego empieza a subir, \n",
    "# mientras que la Loss de los datos de entrenamiento disminuye linealmente."
   ]
  },
  {
   "cell_type": "code",
   "execution_count": 36,
   "metadata": {},
   "outputs": [
    {
     "data": {
      "text/plain": [
       "{'verbose': 2, 'epochs': 100, 'steps': 58}"
      ]
     },
     "execution_count": 36,
     "metadata": {},
     "output_type": "execute_result"
    }
   ],
   "source": [
    "history.params"
   ]
  },
  {
   "cell_type": "code",
   "execution_count": 37,
   "metadata": {},
   "outputs": [
    {
     "data": {
      "text/html": [
       "<div>\n",
       "<style scoped>\n",
       "    .dataframe tbody tr th:only-of-type {\n",
       "        vertical-align: middle;\n",
       "    }\n",
       "\n",
       "    .dataframe tbody tr th {\n",
       "        vertical-align: top;\n",
       "    }\n",
       "\n",
       "    .dataframe thead th {\n",
       "        text-align: right;\n",
       "    }\n",
       "</style>\n",
       "<table border=\"1\" class=\"dataframe\">\n",
       "  <thead>\n",
       "    <tr style=\"text-align: right;\">\n",
       "      <th></th>\n",
       "      <th>loss</th>\n",
       "      <th>accuracy</th>\n",
       "      <th>val_loss</th>\n",
       "      <th>val_accuracy</th>\n",
       "    </tr>\n",
       "  </thead>\n",
       "  <tbody>\n",
       "    <tr>\n",
       "      <th>99</th>\n",
       "      <td>0.148178</td>\n",
       "      <td>0.985302</td>\n",
       "      <td>2.696184</td>\n",
       "      <td>0.659483</td>\n",
       "    </tr>\n",
       "  </tbody>\n",
       "</table>\n",
       "</div>"
      ],
      "text/plain": [
       "        loss  accuracy  val_loss  val_accuracy\n",
       "99  0.148178  0.985302  2.696184      0.659483"
      ]
     },
     "execution_count": 37,
     "metadata": {},
     "output_type": "execute_result"
    }
   ],
   "source": [
    "results[-1:]"
   ]
  },
  {
   "cell_type": "code",
   "execution_count": 38,
   "metadata": {},
   "outputs": [
    {
     "ename": "AttributeError",
     "evalue": "'DataFrame' object has no attribute 'categorical_accuracy'",
     "output_type": "error",
     "traceback": [
      "\u001b[1;31m---------------------------------------------------------------------------\u001b[0m",
      "\u001b[1;31mAttributeError\u001b[0m                            Traceback (most recent call last)",
      "\u001b[1;32m<ipython-input-38-10da666d125b>\u001b[0m in \u001b[0;36m<module>\u001b[1;34m\u001b[0m\n\u001b[1;32m----> 1\u001b[1;33m \u001b[0mprint\u001b[0m \u001b[1;33m(\u001b[0m\u001b[1;34m\"Accuracy for the training set: \"\u001b[0m\u001b[1;33m,\u001b[0m \u001b[0mresults\u001b[0m\u001b[1;33m.\u001b[0m\u001b[0mcategorical_accuracy\u001b[0m\u001b[1;33m.\u001b[0m\u001b[0mvalues\u001b[0m\u001b[1;33m[\u001b[0m\u001b[1;33m-\u001b[0m\u001b[1;36m1\u001b[0m\u001b[1;33m:\u001b[0m\u001b[1;33m]\u001b[0m\u001b[1;33m[\u001b[0m\u001b[1;36m0\u001b[0m\u001b[1;33m]\u001b[0m\u001b[1;33m)\u001b[0m\u001b[1;33m\u001b[0m\u001b[1;33m\u001b[0m\u001b[0m\n\u001b[0m",
      "\u001b[1;32m~\\anaconda3\\lib\\site-packages\\pandas\\core\\generic.py\u001b[0m in \u001b[0;36m__getattr__\u001b[1;34m(self, name)\u001b[0m\n\u001b[0;32m   5137\u001b[0m             \u001b[1;32mif\u001b[0m \u001b[0mself\u001b[0m\u001b[1;33m.\u001b[0m\u001b[0m_info_axis\u001b[0m\u001b[1;33m.\u001b[0m\u001b[0m_can_hold_identifiers_and_holds_name\u001b[0m\u001b[1;33m(\u001b[0m\u001b[0mname\u001b[0m\u001b[1;33m)\u001b[0m\u001b[1;33m:\u001b[0m\u001b[1;33m\u001b[0m\u001b[1;33m\u001b[0m\u001b[0m\n\u001b[0;32m   5138\u001b[0m                 \u001b[1;32mreturn\u001b[0m \u001b[0mself\u001b[0m\u001b[1;33m[\u001b[0m\u001b[0mname\u001b[0m\u001b[1;33m]\u001b[0m\u001b[1;33m\u001b[0m\u001b[1;33m\u001b[0m\u001b[0m\n\u001b[1;32m-> 5139\u001b[1;33m             \u001b[1;32mreturn\u001b[0m \u001b[0mobject\u001b[0m\u001b[1;33m.\u001b[0m\u001b[0m__getattribute__\u001b[0m\u001b[1;33m(\u001b[0m\u001b[0mself\u001b[0m\u001b[1;33m,\u001b[0m \u001b[0mname\u001b[0m\u001b[1;33m)\u001b[0m\u001b[1;33m\u001b[0m\u001b[1;33m\u001b[0m\u001b[0m\n\u001b[0m\u001b[0;32m   5140\u001b[0m \u001b[1;33m\u001b[0m\u001b[0m\n\u001b[0;32m   5141\u001b[0m     \u001b[1;32mdef\u001b[0m \u001b[0m__setattr__\u001b[0m\u001b[1;33m(\u001b[0m\u001b[0mself\u001b[0m\u001b[1;33m,\u001b[0m \u001b[0mname\u001b[0m\u001b[1;33m:\u001b[0m \u001b[0mstr\u001b[0m\u001b[1;33m,\u001b[0m \u001b[0mvalue\u001b[0m\u001b[1;33m)\u001b[0m \u001b[1;33m->\u001b[0m \u001b[1;32mNone\u001b[0m\u001b[1;33m:\u001b[0m\u001b[1;33m\u001b[0m\u001b[1;33m\u001b[0m\u001b[0m\n",
      "\u001b[1;31mAttributeError\u001b[0m: 'DataFrame' object has no attribute 'categorical_accuracy'"
     ]
    }
   ],
   "source": [
    "print (\"Accuracy for the training set: \", results.categorical_accuracy.values[-1:][0])"
   ]
  },
  {
   "cell_type": "code",
   "execution_count": 27,
   "metadata": {},
   "outputs": [
    {
     "name": "stdout",
     "output_type": "stream",
     "text": [
      "Accuracy for the development test set:  0.6681034564971924\n"
     ]
    }
   ],
   "source": [
    "print (\"Accuracy for the development test set: \", results.val_categorical_accuracy.values[-1:][0])"
   ]
  },
  {
   "cell_type": "code",
   "execution_count": null,
   "metadata": {},
   "outputs": [],
   "source": []
  },
  {
   "cell_type": "markdown",
   "metadata": {},
   "source": [
    "#### Let's see how the model predicts using the development test set:"
   ]
  },
  {
   "cell_type": "code",
   "execution_count": 28,
   "metadata": {},
   "outputs": [
    {
     "data": {
      "text/plain": [
       "array([[0.44, 0.51, 0.05],\n",
       "       [0.06, 0.25, 0.69],\n",
       "       [0.92, 0.02, 0.06],\n",
       "       [0.2 , 0.61, 0.18],\n",
       "       [0.07, 0.92, 0.01],\n",
       "       [0.04, 0.54, 0.42],\n",
       "       [0.04, 0.79, 0.17],\n",
       "       [0.  , 0.8 , 0.2 ],\n",
       "       [0.  , 0.09, 0.91],\n",
       "       [0.  , 0.  , 1.  ],\n",
       "       [0.  , 0.01, 0.99],\n",
       "       [0.  , 0.37, 0.63],\n",
       "       [0.09, 0.91, 0.01],\n",
       "       [0.  , 0.99, 0.  ],\n",
       "       [0.01, 0.97, 0.02],\n",
       "       [0.01, 0.24, 0.76],\n",
       "       [0.23, 0.76, 0.02],\n",
       "       [0.  , 0.99, 0.01],\n",
       "       [0.  , 1.  , 0.  ],\n",
       "       [0.  , 0.99, 0.01]], dtype=float32)"
      ]
     },
     "execution_count": 28,
     "metadata": {},
     "output_type": "execute_result"
    }
   ],
   "source": [
    "dev_predictions=model.predict(X_dev).round(2) \n",
    "dev_predictions[:20]"
   ]
  },
  {
   "cell_type": "code",
   "execution_count": 29,
   "metadata": {},
   "outputs": [
    {
     "data": {
      "text/plain": [
       "array([[0., 1., 0.],\n",
       "       [0., 0., 1.],\n",
       "       [1., 0., 0.],\n",
       "       [0., 1., 0.],\n",
       "       [0., 1., 0.],\n",
       "       [0., 1., 0.],\n",
       "       [0., 1., 0.],\n",
       "       [0., 1., 0.],\n",
       "       [0., 0., 1.],\n",
       "       [0., 0., 1.],\n",
       "       [0., 0., 1.],\n",
       "       [0., 0., 1.],\n",
       "       [0., 1., 0.],\n",
       "       [0., 1., 0.],\n",
       "       [0., 1., 0.],\n",
       "       [0., 0., 1.],\n",
       "       [0., 1., 0.],\n",
       "       [0., 1., 0.],\n",
       "       [0., 1., 0.],\n",
       "       [0., 1., 0.]], dtype=float32)"
      ]
     },
     "execution_count": 29,
     "metadata": {},
     "output_type": "execute_result"
    }
   ],
   "source": [
    "dev_rounded_predictions=np.round(dev_predictions)\n",
    "indices = np.argmax(dev_predictions,1)\n",
    "for row, index in zip(dev_rounded_predictions, indices): row[index]=1\n",
    "dev_rounded_predictions[:20]"
   ]
  },
  {
   "cell_type": "code",
   "execution_count": 30,
   "metadata": {},
   "outputs": [
    {
     "data": {
      "text/plain": [
       "array([[0., 1., 0.],\n",
       "       [0., 1., 0.],\n",
       "       [0., 1., 0.],\n",
       "       [0., 1., 0.],\n",
       "       [0., 1., 0.],\n",
       "       [0., 1., 0.],\n",
       "       [0., 1., 0.],\n",
       "       [0., 1., 0.],\n",
       "       [0., 1., 0.],\n",
       "       [0., 1., 0.],\n",
       "       [0., 1., 0.],\n",
       "       [0., 1., 0.],\n",
       "       [0., 1., 0.],\n",
       "       [0., 1., 0.],\n",
       "       [0., 1., 0.],\n",
       "       [0., 1., 0.],\n",
       "       [0., 1., 0.],\n",
       "       [0., 1., 0.],\n",
       "       [0., 1., 0.],\n",
       "       [0., 1., 0.]])"
      ]
     },
     "execution_count": 30,
     "metadata": {},
     "output_type": "execute_result"
    }
   ],
   "source": [
    "y_dev[:20]"
   ]
  },
  {
   "cell_type": "code",
   "execution_count": 31,
   "metadata": {},
   "outputs": [
    {
     "name": "stdout",
     "output_type": "stream",
     "text": [
      "[ True False False  True  True  True  True  True False False False False\n",
      "  True  True  True False  True  True  True  True  True  True False  True\n",
      " False  True  True  True  True  True]\n"
     ]
    }
   ],
   "source": [
    "dev_correct_predictions = np.equal(np.argmax(dev_rounded_predictions,1),np.argmax(y_dev,1))\n",
    "print (dev_correct_predictions[:30])"
   ]
  },
  {
   "cell_type": "code",
   "execution_count": 32,
   "metadata": {},
   "outputs": [
    {
     "data": {
      "text/plain": [
       "Counter({True: 620, False: 308})"
      ]
     },
     "execution_count": 32,
     "metadata": {},
     "output_type": "execute_result"
    }
   ],
   "source": [
    "from collections import Counter\n",
    "Counter (dev_correct_predictions)"
   ]
  },
  {
   "cell_type": "markdown",
   "metadata": {},
   "source": [
    "### 9. Save model"
   ]
  },
  {
   "cell_type": "markdown",
   "metadata": {},
   "source": [
    "We save the model if it is better than others "
   ]
  },
  {
   "cell_type": "code",
   "execution_count": 30,
   "metadata": {},
   "outputs": [],
   "source": [
    "# Save\n",
    "model.save('./Modelos/EGG_prac1_ANN_model3.h5') # Change the name in each model"
   ]
  },
  {
   "cell_type": "code",
   "execution_count": 34,
   "metadata": {},
   "outputs": [
    {
     "data": {
      "text/plain": [
       "\"\\nnew_model = keras.models.load_model('./Modelos/EGG_prac1_ANN_model3.h5')\\n\\nimport numpy as np\\n\\n# Verify state\\nnew_predictions = new_model.predict(X_dev)\\nnp.testing.assert_allclose(predictions, new_predictions, rtol=1e-6, atol=1e-6)\\n\\n# Note that the optimizer state is also preserved:\\n# you can resume training where you left off.\\n\""
      ]
     },
     "execution_count": 34,
     "metadata": {},
     "output_type": "execute_result"
    }
   ],
   "source": [
    "# Extract\n",
    "\"\"\"\n",
    "new_model = keras.models.load_model('./Modelos/EGG_prac1_ANN_model3.h5')\n",
    "\n",
    "import numpy as np\n",
    "\n",
    "# Verify state\n",
    "new_predictions = new_model.predict(X_dev)\n",
    "np.testing.assert_allclose(predictions, new_predictions, rtol=1e-6, atol=1e-6)\n",
    "\n",
    "# Note that the optimizer state is also preserved:\n",
    "# you can resume training where you left off.\n",
    "\"\"\""
   ]
  },
  {
   "cell_type": "markdown",
   "metadata": {},
   "source": [
    "### 10 - Final Test\n",
    "\n",
    "#### 10.1 - Load the final test set"
   ]
  },
  {
   "cell_type": "code",
   "execution_count": 35,
   "metadata": {},
   "outputs": [],
   "source": [
    "\n",
    "\"\"\"\n",
    "from sklearn.pipeline import make_pipeline\n",
    "from sklearn.preprocessing import StandardScaler, OneHotEncoder\n",
    "from sklearn.linear_model import Perceptron\n",
    "\n",
    "total_records = 4 # CAMBIAR SI HAY MAS REGISTROS\n",
    "\n",
    "task1 = 122 # SE PUEDE CAMBIAR\n",
    "task2 = 123 # SE PUEDE CAMBIAR\n",
    "task3 = 127 # SE PUEDE CAMBIAR\n",
    "users = [\"0091\"] # SE PUEDE CAMBIAR\n",
    "\"\"\""
   ]
  },
  {
   "cell_type": "code",
   "execution_count": 36,
   "metadata": {},
   "outputs": [],
   "source": [
    "\"\"\"\n",
    "def readRegisterAndReturnXy(user, total_records, task1, task2, task3 = \"\"):\n",
    "    lTaskData = []\n",
    "    for i_rec in range(1,total_records+1):\n",
    "            record = \"userS\"+user+\"f\"+str(i_rec)+\".mat\"\n",
    "            output = read_outputs(record) # output.task será y, output.data será x\n",
    "\n",
    "            if task3 != \"\":\n",
    "                outT = (output.task == task1) | (output.task == task2) | (output.task == task3) \n",
    "            else: \n",
    "                outT = (output.task == task1) | (output.task == task2)\n",
    "            outData = output.data[outT[:,0],0:np.shape(output.data)[1]]\n",
    "\n",
    "            outTask = output.task[outT[:,0]]\n",
    "            outTD = OutTaskData(outTask, outData)\n",
    "            lTaskData.append(outTD)\n",
    "\n",
    "    X_test, y_test = [],[]\n",
    "    for j in range(0,total_records):\n",
    "        X_test.extend(lTaskData[j].data)\n",
    "        y_test.extend(lTaskData[j].task)\n",
    "\n",
    "    X_test = np.array(X_test)\n",
    "    y_test = np.ravel(np.array(y_test))\n",
    "\n",
    "    print (\"X_test:\",X_test.shape)\n",
    "    print (\"y_test:\",y_test.shape)\n",
    "\n",
    "    # ONE HOT ENCODER\n",
    "    encoder = make_pipeline(StandardScaler(), OneHotEncoder(categories=\"auto\", sparse=False)) # Function that one-hot encodes integers))\n",
    "    y_test = encoder.fit_transform (y_test.reshape(-1,1)) # y_one_hot\n",
    "\n",
    "    print(\"ONE HOT ENCODER:\")\n",
    "    print (\"X_test:\",X_test.shape)\n",
    "    print (\"y_test:\",y_test.shape)\n",
    "    \n",
    "    return X_test, y_test\n",
    "\"\"\""
   ]
  },
  {
   "cell_type": "code",
   "execution_count": null,
   "metadata": {},
   "outputs": [],
   "source": []
  },
  {
   "cell_type": "code",
   "execution_count": 37,
   "metadata": {},
   "outputs": [
    {
     "data": {
      "text/plain": [
       "'\\nn_final_test = n_instances-n_train-n_dev\\n\\nx_final_test = attributes.values[n_train+n_dev:n_instances]\\nt_final_test = label.values[n_train+n_dev:n_instances]\\n\\nprint (\"x_test:\",x_final_test.shape)\\nprint (\"t_test:\",t_final_test.shape)\\n\\n\\n'"
      ]
     },
     "execution_count": 37,
     "metadata": {},
     "output_type": "execute_result"
    }
   ],
   "source": [
    "\"\"\"\n",
    "n_final_test = n_instances-n_train-n_dev\n",
    "\n",
    "x_final_test = attributes.values[n_train+n_dev:n_instances]\n",
    "t_final_test = label.values[n_train+n_dev:n_instances]\n",
    "\n",
    "print (\"x_test:\",x_final_test.shape)\n",
    "print (\"t_test:\",t_final_test.shape)\n",
    "\n",
    "\n",
    "\"\"\""
   ]
  },
  {
   "cell_type": "markdown",
   "metadata": {},
   "source": [
    "#### 10.2 - Evaluate the model"
   ]
  },
  {
   "cell_type": "code",
   "execution_count": 37,
   "metadata": {},
   "outputs": [],
   "source": [
    "from collections import Counter\n",
    "def predictWithModel(model, X_test, y_test, task1, task2, task3=\"\"):\n",
    "    model.evaluate(X_test, y_test)\n",
    "    test_predictions = model.predict(X_test)\n",
    "    test_rounded_predictions=np.round(test_predictions)\n",
    "    indices = np.argmax(test_predictions,1)\n",
    "    for row, index in zip(test_rounded_predictions, indices): row[index]=1\n",
    "    print(test_rounded_predictions[:20])\n",
    "    \n",
    "    # ACCURACY:\n",
    "    test_correct_predictions = np.equal(np.argmax(test_rounded_predictions,1),np.argmax(y_test,1))\n",
    "    print()\n",
    "    print(test_correct_predictions)\n",
    "    print(type(test_correct_predictions))\n",
    "    final_test_prediction_results=Counter(test_correct_predictions)\n",
    "    \n",
    "    success = np.mean(test_rounded_predictions == y_test)*100\n",
    "    \n",
    "    return final_test_prediction_results, success"
   ]
  },
  {
   "cell_type": "code",
   "execution_count": 38,
   "metadata": {},
   "outputs": [
    {
     "name": "stdout",
     "output_type": "stream",
     "text": [
      "USER: 0091\n",
      "29/29 [==============================] - 0s 1ms/step - loss: 1.5197 - categorical_accuracy: 0.6156\n",
      "[[0. 1. 0.]\n",
      " [0. 1. 0.]\n",
      " [0. 1. 0.]\n",
      " [0. 1. 0.]\n",
      " [0. 1. 0.]\n",
      " [0. 1. 0.]\n",
      " [0. 1. 0.]\n",
      " [1. 0. 0.]\n",
      " [1. 0. 0.]\n",
      " [1. 0. 0.]\n",
      " [0. 1. 0.]\n",
      " [0. 1. 0.]\n",
      " [0. 1. 0.]\n",
      " [0. 1. 0.]\n",
      " [0. 1. 0.]\n",
      " [0. 0. 1.]\n",
      " [0. 1. 0.]\n",
      " [0. 1. 0.]\n",
      " [0. 1. 0.]\n",
      " [0. 1. 0.]]\n",
      "\n",
      "[ True  True  True  True  True  True  True False False False  True  True\n",
      "  True  True  True False  True  True  True  True  True  True False False\n",
      "  True False False False  True  True  True  True  True  True  True  True\n",
      "  True False False False  True  True  True False  True False False  True\n",
      "  True False False False  True  True  True  True False False False False\n",
      "  True  True  True  True  True  True  True False False  True  True False\n",
      " False False False  True  True  True  True False False False False False\n",
      " False False False  True False False  True False False  True False  True\n",
      "  True  True  True  True False False False False  True  True False  True\n",
      "  True False False  True  True  True  True False False  True  True False\n",
      " False False  True  True  True  True False False  True  True False False\n",
      "  True False  True  True False  True  True  True False  True False False\n",
      " False  True False  True False False False False False  True False  True\n",
      " False  True  True False False False False False False False False False\n",
      " False False  True  True  True  True  True False False False False False\n",
      "  True False False  True  True  True  True  True  True  True False False\n",
      " False False  True  True  True  True  True  True  True  True  True  True\n",
      "  True  True  True  True  True  True  True  True  True  True  True  True\n",
      "  True  True  True  True  True  True  True  True  True  True  True  True\n",
      "  True  True  True  True  True  True  True  True  True False False False\n",
      " False False  True  True  True  True False False False False False False\n",
      " False False  True  True  True  True  True  True  True  True  True  True\n",
      "  True  True  True  True  True  True  True  True  True  True  True  True\n",
      "  True  True  True  True  True  True  True  True False False  True  True\n",
      "  True  True  True  True  True  True  True  True  True False False False\n",
      " False False False  True  True False  True  True  True  True  True  True\n",
      "  True  True  True  True  True  True False  True  True  True  True  True\n",
      "  True  True False  True False  True  True  True  True  True  True  True\n",
      "  True  True False  True  True  True  True  True  True  True  True  True\n",
      " False False False  True False  True  True  True  True  True  True False\n",
      "  True False False  True False  True  True  True  True  True  True  True\n",
      "  True  True  True  True False False False False False False  True  True\n",
      "  True  True  True  True  True False False  True False  True  True False\n",
      " False False  True  True  True  True  True  True False False False False\n",
      " False False False False  True False  True  True False False  True False\n",
      " False False False False  True False  True False  True  True  True  True\n",
      "  True False  True  True  True False  True False False False False False\n",
      "  True  True  True  True  True  True  True False  True False False False\n",
      " False False False False False False  True  True  True False False False\n",
      " False False False False False False False False  True False False False\n",
      " False False False False False False False False False False False False\n",
      " False False False False False False  True False False  True  True  True\n",
      "  True  True False False False False False False False False False  True\n",
      " False False False  True False False False  True  True  True  True  True\n",
      " False  True False False  True  True  True  True  True  True False  True\n",
      "  True  True  True  True  True  True  True  True  True  True  True  True\n",
      "  True  True  True  True  True  True  True  True  True  True  True  True\n",
      "  True  True  True  True  True  True  True  True  True  True  True  True\n",
      "  True  True  True  True  True  True  True  True  True  True  True  True\n",
      "  True  True  True  True  True  True  True  True  True  True  True  True\n",
      "  True  True  True  True  True  True False False False  True False  True\n",
      "  True False  True  True  True False False  True False False False  True\n",
      "  True  True False False False False  True  True False False False False\n",
      " False False False  True  True  True False False False False  True  True\n",
      "  True False False False False  True  True  True  True  True  True  True\n",
      " False  True False False  True  True  True  True  True  True False False\n",
      "  True False False  True  True  True  True  True False False False  True\n",
      "  True  True  True  True  True False False False False False False False\n",
      " False False  True False False False  True False  True False False  True\n",
      " False  True  True  True False False False False False False False  True\n",
      " False  True  True  True  True  True  True False False  True  True  True\n",
      "  True  True  True False False  True False  True  True  True  True  True\n",
      " False False  True False False  True False  True  True  True False False\n",
      " False False False False False False False False False False  True  True\n",
      "  True False False  True False  True  True  True  True  True  True  True\n",
      "  True  True  True  True  True  True  True  True  True  True  True  True\n",
      "  True  True  True  True  True  True  True  True  True  True  True  True\n",
      "  True False  True False False False False False  True  True  True  True\n",
      "  True  True  True  True  True  True  True  True  True  True False  True\n",
      "  True  True  True  True  True  True  True  True  True  True  True  True\n",
      "  True  True  True  True False False False  True  True  True  True  True\n",
      "  True  True  True  True  True  True  True  True  True  True  True  True\n",
      "  True  True  True  True  True  True False  True  True  True  True  True\n",
      "  True  True False False  True  True  True  True  True  True False  True\n",
      " False False False False False False False False False False False False\n",
      " False False False False False False False False]\n",
      "<class 'numpy.ndarray'>\n",
      "0091 Counter({True: 559, False: 349}) 74.37591776798826\n",
      "\n"
     ]
    }
   ],
   "source": [
    "users = [\"0091\"]\n",
    "for u in users:   \n",
    "    print(\"USER:\", u)\n",
    "    #X_test, y_test = readRegisterAndReturnXy(u, total_records, 122, 123, 127)\n",
    "    accuracy, success = predictWithModel(model, X_test, y_test, 122, 123, 127)\n",
    "    print(u, accuracy, success)\n",
    "    print()"
   ]
  },
  {
   "cell_type": "code",
   "execution_count": 40,
   "metadata": {},
   "outputs": [],
   "source": [
    "#model.evaluate(x_final_test, t_final_test) # Un 77 es un accuracy bajo "
   ]
  },
  {
   "cell_type": "markdown",
   "metadata": {},
   "source": [
    "The outputs computed by the neural network for the final testing dataset."
   ]
  },
  {
   "cell_type": "code",
   "execution_count": 41,
   "metadata": {},
   "outputs": [
    {
     "data": {
      "text/plain": [
       "'\\ntest_predictions=model.predict(x_final_test)\\ntest_rounded_predictions=np.round(test_predictions)\\nindices = np.argmax(test_predictions,1)\\nfor row, index in zip(test_rounded_predictions, indices): row[index]=1\\ntest_rounded_predictions[:20]\\n'"
      ]
     },
     "execution_count": 41,
     "metadata": {},
     "output_type": "execute_result"
    }
   ],
   "source": [
    "\"\"\"\n",
    "test_predictions=model.predict(x_final_test)\n",
    "test_rounded_predictions=np.round(test_predictions)\n",
    "indices = np.argmax(test_predictions,1)\n",
    "for row, index in zip(test_rounded_predictions, indices): row[index]=1\n",
    "test_rounded_predictions[:20]\n",
    "\"\"\""
   ]
  },
  {
   "cell_type": "markdown",
   "metadata": {},
   "source": [
    "The target outputs."
   ]
  },
  {
   "cell_type": "code",
   "execution_count": 42,
   "metadata": {},
   "outputs": [],
   "source": [
    "# t_final_test[:20]"
   ]
  },
  {
   "cell_type": "markdown",
   "metadata": {},
   "source": [
    "The first 30 predictions. True means that the neural network correctly classifies the input vector."
   ]
  },
  {
   "cell_type": "code",
   "execution_count": 43,
   "metadata": {},
   "outputs": [],
   "source": [
    "# test_correct_predictions = np.equal(np.argmax(test_rounded_predictions,1),np.argmax(t_final_test,1))\n",
    "# test_correct_predictions[:30]"
   ]
  },
  {
   "cell_type": "markdown",
   "metadata": {},
   "source": [
    "#### The final test accuracy."
   ]
  },
  {
   "cell_type": "code",
   "execution_count": 44,
   "metadata": {},
   "outputs": [
    {
     "data": {
      "text/plain": [
       "'from collections import Counter\\nfinal_test_prediction_results=Counter(test_correct_predictions)\\nfinal_test_prediction_results'"
      ]
     },
     "execution_count": 44,
     "metadata": {},
     "output_type": "execute_result"
    }
   ],
   "source": [
    "\"\"\"from collections import Counter\n",
    "final_test_prediction_results=Counter(test_correct_predictions)\n",
    "final_test_prediction_results\"\"\""
   ]
  },
  {
   "cell_type": "code",
   "execution_count": 45,
   "metadata": {},
   "outputs": [],
   "source": [
    "#final_test_prediction_results[True]/sum(final_test_prediction_results.values())"
   ]
  },
  {
   "cell_type": "code",
   "execution_count": null,
   "metadata": {},
   "outputs": [],
   "source": []
  }
 ],
 "metadata": {
  "kernelspec": {
   "display_name": "Python 3",
   "language": "python",
   "name": "python3"
  },
  "language_info": {
   "codemirror_mode": {
    "name": "ipython",
    "version": 3
   },
   "file_extension": ".py",
   "mimetype": "text/x-python",
   "name": "python",
   "nbconvert_exporter": "python",
   "pygments_lexer": "ipython3",
   "version": "3.8.5"
  }
 },
 "nbformat": 4,
 "nbformat_minor": 4
}
