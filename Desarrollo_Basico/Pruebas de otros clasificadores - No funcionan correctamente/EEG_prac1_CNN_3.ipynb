{
 "cells": [
  {
   "cell_type": "markdown",
   "metadata": {},
   "source": [
    "# Parte 4: Clasificación con CNN"
   ]
  },
  {
   "cell_type": "markdown",
   "metadata": {},
   "source": [
    "### A VER, yo lo que haría es coger y para las redes neuronales en el preprocesamiento no las convertiría a un solo array si no que lo dejaría como una matriz separada con cada fila para cada electrón o algo así, esto es un poco raro pero así podemos mantener la propiedad espacial para que se tenga en cuenta por la LSTM, la CNN, y la CapsNet"
   ]
  },
  {
   "cell_type": "markdown",
   "metadata": {},
   "source": [
    "Resultados:\n",
    "\n",
    "    loss       accuracy     val_loss    val_accuracy\n",
    "    0.055275\t1.0\t        3.147108\t0.626078\n",
    "    \n",
    "Por tanto: \n",
    "\n",
    "    E = 1 - Accuracy\n",
    "    Etrain = 1 - 1 = 0\n",
    "    Etest = 1 - 0.626078 = 0.373922\n",
    "    \n",
    "    Bias = Etrain - Ehuman = 0\n",
    "    Variance = Etest - Etrain = 0.373922\n",
    "\n",
    "Observamos que el bias es bajo pero la varianza es alta (37%), es decir, no generaliza bien. Por tanto, vamos a probar cambiando la arquitectura, regularizando..."
   ]
  },
  {
   "cell_type": "markdown",
   "metadata": {},
   "source": [
    "### 1 - Import Libraries"
   ]
  },
  {
   "cell_type": "code",
   "execution_count": 1,
   "metadata": {},
   "outputs": [],
   "source": [
    "# Tensorflow and tf.keras\n",
    "import tensorflow as tf\n",
    "from tensorflow import keras\n",
    "\n",
    "#Helper libraries\n",
    "import matplotlib.pyplot as plt\n",
    "import pandas as pd\n",
    "import numpy as np\n"
   ]
  },
  {
   "cell_type": "markdown",
   "metadata": {},
   "source": [
    "### 2 - Load data"
   ]
  },
  {
   "cell_type": "code",
   "execution_count": 2,
   "metadata": {},
   "outputs": [],
   "source": [
    "class ROutput:\n",
    "    def __init__(self, task, data):\n",
    "        self.task = task\n",
    "        self.data = data\n",
    "        \n",
    "class OutTaskData: \n",
    "    def __init__(self, task, data): \n",
    "        self.task = task\n",
    "        self.data = data"
   ]
  },
  {
   "cell_type": "code",
   "execution_count": 3,
   "metadata": {},
   "outputs": [],
   "source": [
    "import scipy.io as sio\n",
    "# Primero leemos los registros\n",
    "def read_outputs(rec):\n",
    "    '''read_outputs(\"userS0091f1.mat\")'''\n",
    "    mat = sio.loadmat(rec)\n",
    "    #mdata = mat['output']\n",
    "    #val = mdata[0,0]\n",
    "    #output = ROutput(np.array(val[\"task\"]), np.array(val[\"data\"]))\n",
    "    output = ROutput(np.array(mat[\"task\"]), np.array(mat[\"data\"]))\n",
    "    return output"
   ]
  },
  {
   "cell_type": "code",
   "execution_count": 4,
   "metadata": {},
   "outputs": [
    {
     "name": "stdout",
     "output_type": "stream",
     "text": [
      "X_train: (1837, 96)\n",
      "y_train: (1837,)\n",
      "X_dev: (928, 96)\n",
      "y_dev: (928,)\n",
      "ONE HOT ENCODER:\n",
      "X_train: (1837, 96)\n",
      "y_train: (1837, 3)\n",
      "X_dev: (928, 96)\n",
      "y_dev: (928, 3)\n",
      "\n",
      "X_test: (908, 96)\n",
      "y_test: (908,)\n",
      "ONE HOT ENCODER:\n",
      "X_test: (908, 96)\n",
      "y_test: (908, 3)\n"
     ]
    }
   ],
   "source": [
    "from sklearn.pipeline import make_pipeline\n",
    "from sklearn.preprocessing import StandardScaler, OneHotEncoder\n",
    "from sklearn.linear_model import Perceptron\n",
    "\n",
    "total_records = 4 # CAMBIAR SI HAY MAS REGISTROS\n",
    "\n",
    "task1 = 122 # SE PUEDE CAMBIAR\n",
    "task2 = 123 # SE PUEDE CAMBIAR\n",
    "task3 = 127 # SE PUEDE CAMBIAR\n",
    "user = '0091' # SE PUEDE CAMBIAR\n",
    "\n",
    "lTaskData = []\n",
    "for i_rec in range(1,total_records+1):\n",
    "        record = \"userS\"+user+\"f\"+str(i_rec)+\".mat\"\n",
    "        output = read_outputs(record) # output.task será y, output.data será x\n",
    "        \n",
    "        if task3 != \"\":\n",
    "            outT = (output.task == task1) | (output.task == task2) | (output.task == task3) \n",
    "        else: \n",
    "            outT = (output.task == task1) | (output.task == task2)\n",
    "        outData = output.data[outT[:,0],0:np.shape(output.data)[1]]\n",
    "        \n",
    "        outTask = output.task[outT[:,0]]\n",
    "        outTD = OutTaskData(outTask, outData)\n",
    "        lTaskData.append(outTD)\n",
    "\n",
    "# Vamos a coger 2 registros para el entrenamiento, 1 para el conjunto dev set, 1 para el test set\n",
    "X_train, y_train, X_dev, y_dev = [],[],[],[] \n",
    "for j in range(0,total_records-2): # Cogemos 2 registros para entrenamiento\n",
    "    X_train.extend(lTaskData[j].data)\n",
    "    y_train.extend(lTaskData[j].task)\n",
    "    \n",
    "X_dev.extend(lTaskData[total_records-2].data) # Cogemos un registro para el dev set\n",
    "y_dev.extend(lTaskData[total_records-2].task)\n",
    "\n",
    "X_train = np.array(X_train)\n",
    "y_train = np.ravel(np.array(y_train))\n",
    "X_dev = np.array(X_dev)\n",
    "y_dev = np.ravel(np.array(y_dev))\n",
    "\n",
    "print (\"X_train:\",X_train.shape)\n",
    "print (\"y_train:\",y_train.shape)\n",
    "\n",
    "print (\"X_dev:\",X_dev.shape)\n",
    "print (\"y_dev:\",y_dev.shape)\n",
    "\n",
    "# ONE HOT ENCODER\n",
    "encoder = make_pipeline(StandardScaler(), OneHotEncoder(categories=\"auto\", sparse=False)) # Function that one-hot encodes integers))\n",
    "y_one_hot = np.concatenate((y_train, y_dev), axis=0)\n",
    "y_one_hot = encoder.fit_transform (y_one_hot.reshape(-1,1))\n",
    "y_train = y_one_hot[:np.shape(y_train)[0]]\n",
    "y_dev = y_one_hot[np.shape(y_train)[0]:]\n",
    "\n",
    "print(\"ONE HOT ENCODER:\")\n",
    "print (\"X_train:\",X_train.shape)\n",
    "print (\"y_train:\",y_train.shape)\n",
    "\n",
    "print (\"X_dev:\",X_dev.shape)\n",
    "print (\"y_dev:\",y_dev.shape)\n",
    "\n",
    "\n",
    "X_test, y_test = [],[]\n",
    "X_test.extend(lTaskData[total_records-1].data) # Cogemos un registro para el test set\n",
    "y_test.extend(lTaskData[total_records-1].task)\n",
    "\n",
    "\n",
    "X_test = np.array(X_test)\n",
    "y_test = np.ravel(np.array(y_test))\n",
    "print()\n",
    "print (\"X_test:\",X_test.shape)\n",
    "print (\"y_test:\",y_test.shape)\n",
    "\n",
    "# ONE HOT ENCODER\n",
    "encoder = make_pipeline(StandardScaler(), OneHotEncoder(categories=\"auto\", sparse=False)) # Function that one-hot encodes integers))\n",
    "y_test = encoder.fit_transform (y_test.reshape(-1,1)) # y_one_hot\n",
    "\n",
    "print(\"ONE HOT ENCODER:\")\n",
    "print (\"X_test:\",X_test.shape)\n",
    "print (\"y_test:\",y_test.shape)\n",
    "    "
   ]
  },
  {
   "cell_type": "markdown",
   "metadata": {},
   "source": [
    "### 3. Initialize variables"
   ]
  },
  {
   "cell_type": "code",
   "execution_count": 5,
   "metadata": {},
   "outputs": [],
   "source": [
    "INPUTS = X_train.shape[1]\n",
    "OUTPUTS = y_train.shape[1]\n",
    "NUM_TRAINING_EXAMPLES = int(round(X_train.shape[0]/1))\n",
    "NUM_DEV_EXAMPLES = int(round(y_train.shape[0]/1))"
   ]
  },
  {
   "cell_type": "markdown",
   "metadata": {},
   "source": [
    "Some data is displayed to test correctness:"
   ]
  },
  {
   "cell_type": "code",
   "execution_count": 6,
   "metadata": {},
   "outputs": [
    {
     "data": {
      "text/plain": [
       "array([[0.04408895, 0.12253977, 0.04091295, 0.08794782, 0.15217319,\n",
       "        0.13608194, 0.2390196 , 0.13782482, 0.09390321, 0.04168143,\n",
       "        0.01182343, 0.06681896, 0.22746509, 0.19109141, 0.12382088,\n",
       "        0.16280571, 0.18183189, 0.03489224, 0.08915041, 0.25065591,\n",
       "        0.05125344, 0.00878363, 0.06399049, 0.01269724, 0.37617251,\n",
       "        0.75052793, 1.22515657, 0.34716337, 0.57574146, 0.22845317,\n",
       "        0.29124432, 1.55810067, 0.17399072, 0.23187383, 0.09419699,\n",
       "        0.06491878, 0.21030758, 0.11561159, 0.00684065, 0.05363316,\n",
       "        0.14742724, 0.20516924, 0.16582891, 0.39129693, 0.01763402,\n",
       "        0.05230747, 0.08436656, 0.05071257, 0.56726584, 0.21727165,\n",
       "        0.5006733 , 0.09225466, 0.35750867, 0.43229655, 0.32666971,\n",
       "        1.18042048, 0.04529925, 0.07339755, 0.12920241, 0.0228346 ,\n",
       "        0.65176526, 0.09837585, 0.10240039, 0.35185881, 0.26348807,\n",
       "        1.00112018, 0.61259061, 0.26154294, 0.2272173 , 0.11858029,\n",
       "        0.23408875, 0.139735  , 0.43931357, 0.19606534, 0.3423301 ,\n",
       "        0.20553008, 0.20098905, 0.82008234, 0.62822584, 0.94280445,\n",
       "        0.04047953, 0.10667195, 0.38191247, 0.0221351 , 1.05885478,\n",
       "        0.25730097, 1.17149903, 0.26299745, 1.04678832, 1.15644962,\n",
       "        0.64182321, 2.21889125, 0.1053754 , 0.21710049, 0.26047368,\n",
       "        0.00763339],\n",
       "       [0.25614385, 0.11434304, 0.09704763, 0.12930055, 0.10325959,\n",
       "        0.17334683, 0.11210197, 0.2400284 , 0.14283333, 0.03428331,\n",
       "        0.07158812, 0.07203347, 0.22375232, 0.36486422, 0.17576219,\n",
       "        0.15833472, 0.13809519, 0.10031034, 0.1987901 , 0.1494691 ,\n",
       "        0.04461008, 0.08606801, 0.05994687, 0.00496308, 0.68981468,\n",
       "        2.11749857, 0.56421373, 0.69721613, 0.39311556, 0.09554919,\n",
       "        0.40230398, 1.52805991, 0.40928194, 0.1601251 , 0.19379433,\n",
       "        0.26915934, 0.16165675, 0.38655402, 0.15613903, 0.04191729,\n",
       "        0.31624166, 0.20830202, 0.17092605, 0.41356597, 0.10719866,\n",
       "        0.0196003 , 0.08866613, 0.06604445, 0.66263549, 0.72926018,\n",
       "        0.25159467, 0.07896124, 0.55144543, 0.37116024, 0.34077516,\n",
       "        1.05096592, 0.17836778, 0.06185184, 0.13877811, 0.07866164,\n",
       "        0.73574091, 0.28880381, 0.76244386, 0.24362064, 0.53973354,\n",
       "        0.28090292, 0.27290916, 0.88335251, 0.67060588, 0.14599621,\n",
       "        0.14064383, 0.1838806 , 0.78282066, 0.22756521, 0.50404829,\n",
       "        0.04612402, 0.40603123, 0.4138907 , 0.27052279, 1.00173509,\n",
       "        0.20686331, 0.19427597, 0.17036176, 0.08091241, 0.80175765,\n",
       "        1.11496094, 0.9566485 , 0.62666789, 1.08102342, 0.58081672,\n",
       "        0.61318425, 2.01667481, 0.5161613 , 0.20922824, 0.22014662,\n",
       "        0.12746923]])"
      ]
     },
     "execution_count": 6,
     "metadata": {},
     "output_type": "execute_result"
    }
   ],
   "source": [
    "X_train[:2]"
   ]
  },
  {
   "cell_type": "code",
   "execution_count": 7,
   "metadata": {},
   "outputs": [
    {
     "data": {
      "text/plain": [
       "array([[0.31977337, 0.34138627, 0.05036713, 0.01260456, 0.0353549 ,\n",
       "        0.1185597 , 0.0467738 , 0.02048903, 0.11750225, 0.18469527,\n",
       "        0.07158117, 0.04380819, 0.12918097, 0.15723066, 0.02486799,\n",
       "        0.03569243, 0.13103253, 0.06666701, 0.12041935, 0.114042  ,\n",
       "        0.01127984, 0.00650994, 0.05578655, 0.03110349, 1.27905692,\n",
       "        0.72867136, 0.16631234, 0.39783501, 0.3504427 , 0.14931918,\n",
       "        0.27219299, 0.119918  , 0.26639091, 0.05500265, 0.22028407,\n",
       "        0.02976071, 0.49903653, 0.47147668, 0.21772425, 0.09625628,\n",
       "        0.07949809, 0.07850754, 0.11222314, 0.0312656 , 0.0638701 ,\n",
       "        0.01024857, 0.20098298, 0.12413927, 0.7959434 , 0.33244281,\n",
       "        0.10382577, 0.36052956, 0.10868066, 0.25468323, 0.25108932,\n",
       "        0.10744763, 0.22111074, 0.06949752, 0.22837273, 0.09663771,\n",
       "        2.78278246, 0.95993224, 0.68951591, 0.5680906 , 0.29189192,\n",
       "        0.02141107, 0.20762499, 0.11463274, 0.26281785, 0.02967406,\n",
       "        0.25185108, 0.18281109, 1.13036793, 0.2263472 , 0.13017172,\n",
       "        0.65770249, 0.02616668, 0.24092069, 0.32072114, 0.07664907,\n",
       "        0.1340456 , 0.03319424, 0.47304975, 0.12615251, 1.81630692,\n",
       "        0.8658447 , 0.28004264, 0.81422947, 0.44444803, 0.58299889,\n",
       "        0.53225855, 0.02804132, 0.24612086, 0.06936946, 0.33829746,\n",
       "        0.13256552],\n",
       "       [0.95493369, 0.44725264, 0.26898695, 0.20824942, 0.16498475,\n",
       "        0.05828876, 0.05624718, 0.14432756, 0.10156625, 0.0362658 ,\n",
       "        0.08495425, 0.03697369, 0.07997662, 0.49728347, 0.29287849,\n",
       "        0.01815478, 0.0657682 , 0.04250249, 0.08700553, 0.01843603,\n",
       "        0.16449991, 0.03012028, 0.09461448, 0.01533982, 0.10464233,\n",
       "        0.35209807, 0.08013901, 0.10184792, 0.42312165, 0.13968054,\n",
       "        0.24630269, 0.07917993, 0.13188859, 0.01878021, 0.2557863 ,\n",
       "        0.17313746, 0.31098319, 0.47391564, 0.20892361, 0.03579049,\n",
       "        0.22166238, 0.0272647 , 0.12673812, 0.03225273, 0.06102613,\n",
       "        0.04163716, 0.16973663, 0.12873579, 0.2484161 , 0.5978957 ,\n",
       "        0.0450607 , 0.09446569, 0.35563395, 0.12471629, 0.29785772,\n",
       "        0.08245274, 0.17610429, 0.06224233, 0.15020115, 0.08861565,\n",
       "        1.05836675, 0.71874971, 0.5403778 , 0.11634195, 0.86785822,\n",
       "        0.18710009, 0.1382164 , 0.07709808, 0.27199143, 0.04546532,\n",
       "        0.29761591, 0.19969708, 0.80645353, 0.42385922, 0.08693222,\n",
       "        0.06329094, 0.75403327, 0.10150384, 0.31976622, 0.13802316,\n",
       "        0.20935415, 0.11158722, 0.40086858, 0.11432403, 0.82946612,\n",
       "        0.78074114, 0.08447815, 0.22689132, 1.46239973, 0.25941224,\n",
       "        0.80793318, 0.04428517, 0.21355531, 0.14181853, 0.42804685,\n",
       "        0.15215655]])"
      ]
     },
     "execution_count": 7,
     "metadata": {},
     "output_type": "execute_result"
    }
   ],
   "source": [
    "X_dev[:2]"
   ]
  },
  {
   "cell_type": "code",
   "execution_count": 8,
   "metadata": {},
   "outputs": [
    {
     "data": {
      "text/plain": [
       "array([[0., 0., 1.],\n",
       "       [0., 0., 1.]])"
      ]
     },
     "execution_count": 8,
     "metadata": {},
     "output_type": "execute_result"
    }
   ],
   "source": [
    "y_train[:2]"
   ]
  },
  {
   "cell_type": "code",
   "execution_count": 9,
   "metadata": {},
   "outputs": [
    {
     "data": {
      "text/plain": [
       "array([[0., 1., 0.],\n",
       "       [0., 1., 0.]])"
      ]
     },
     "execution_count": 9,
     "metadata": {},
     "output_type": "execute_result"
    }
   ],
   "source": [
    "y_dev[:2]"
   ]
  },
  {
   "cell_type": "code",
   "execution_count": 10,
   "metadata": {},
   "outputs": [
    {
     "data": {
      "text/plain": [
       "(96,)"
      ]
     },
     "execution_count": 10,
     "metadata": {},
     "output_type": "execute_result"
    }
   ],
   "source": [
    "X_dev[0].shape"
   ]
  },
  {
   "cell_type": "code",
   "execution_count": 11,
   "metadata": {},
   "outputs": [
    {
     "data": {
      "text/plain": [
       "(928, 96)"
      ]
     },
     "execution_count": 11,
     "metadata": {},
     "output_type": "execute_result"
    }
   ],
   "source": [
    "X_dev.shape"
   ]
  },
  {
   "cell_type": "code",
   "execution_count": 12,
   "metadata": {},
   "outputs": [
    {
     "data": {
      "text/plain": [
       "(1837, 96)"
      ]
     },
     "execution_count": 12,
     "metadata": {},
     "output_type": "execute_result"
    }
   ],
   "source": [
    "X_train.shape"
   ]
  },
  {
   "cell_type": "code",
   "execution_count": null,
   "metadata": {},
   "outputs": [],
   "source": []
  },
  {
   "cell_type": "code",
   "execution_count": 13,
   "metadata": {},
   "outputs": [
    {
     "name": "stdout",
     "output_type": "stream",
     "text": [
      "(1837, 96)\n",
      "(928, 96)\n",
      "(908, 96)\n",
      "\n",
      "(1837, 8, 12)\n",
      "(928, 8, 12)\n",
      "(908, 8, 12)\n"
     ]
    }
   ],
   "source": [
    "# Change X to a matrix: \n",
    "\n",
    "electrodes_name = [\"C3\", \"Cz\", \"C4\", \"CP1\", \"CP2\", \"P3\", \"Pz\", \"P4\"]\n",
    "\n",
    "print(X_train.shape)\n",
    "print(X_dev.shape)\n",
    "print(X_test.shape)\n",
    "print()\n",
    "\n",
    "X_train_new = []\n",
    "for x in X_train: \n",
    "    X_train_new.append(x.reshape(len(electrodes_name), int(len(X_train[0])/len(electrodes_name)) )) ## Quiero hacer un miarray.reshape(numfilas, numcolumnas) en este caso numfilas = len(electrodes_name)\n",
    "    # y numcolumnas = int(len(X_dev[0])/len(electrodes_name))\n",
    "    # Asi puedo usarlo todo con distribución espacial :-) \n",
    "    \n",
    "\"\"\"\n",
    "for x in X_train_new: \n",
    "    print(np.shape(x))\n",
    "    print(x)\n",
    "\"\"\"\n",
    "X_train_new = np.asarray(X_train_new)\n",
    "X_train = X_train_new\n",
    "\n",
    "X_dev_new = []\n",
    "for x in X_dev: \n",
    "    X_dev_new.append(x.reshape(len(electrodes_name), int(len(X_dev[0])/len(electrodes_name)) )) \n",
    "X_dev_new = np.asarray(X_dev_new)\n",
    "X_dev = X_dev_new\n",
    "\n",
    "X_test_new = []\n",
    "for x in X_test: \n",
    "    X_test_new.append(x.reshape(len(electrodes_name), int(len(X_test[0])/len(electrodes_name)) ))\n",
    "X_test_new = np.asarray(X_test_new)\n",
    "X_test = X_test_new\n",
    "\n",
    "\n",
    "print(X_train.shape)\n",
    "print(X_dev.shape)\n",
    "print(X_test.shape)"
   ]
  },
  {
   "cell_type": "code",
   "execution_count": 14,
   "metadata": {},
   "outputs": [
    {
     "data": {
      "text/plain": [
       "array([[[4.40889459e-02, 1.22539767e-01, 4.09129528e-02, ...,\n",
       "         4.16814331e-02, 1.18234270e-02, 6.68189584e-02],\n",
       "        [2.27465092e-01, 1.91091408e-01, 1.23820880e-01, ...,\n",
       "         8.78363164e-03, 6.39904876e-02, 1.26972450e-02],\n",
       "        [3.76172510e-01, 7.50527927e-01, 1.22515657e+00, ...,\n",
       "         2.31873828e-01, 9.41969885e-02, 6.49187838e-02],\n",
       "        ...,\n",
       "        [6.51765257e-01, 9.83758470e-02, 1.02400394e-01, ...,\n",
       "         1.18580288e-01, 2.34088748e-01, 1.39735002e-01],\n",
       "        [4.39313566e-01, 1.96065341e-01, 3.42330098e-01, ...,\n",
       "         1.06671951e-01, 3.81912471e-01, 2.21350975e-02],\n",
       "        [1.05885478e+00, 2.57300974e-01, 1.17149903e+00, ...,\n",
       "         2.17100488e-01, 2.60473680e-01, 7.63339134e-03]],\n",
       "\n",
       "       [[2.56143852e-01, 1.14343039e-01, 9.70476313e-02, ...,\n",
       "         3.42833147e-02, 7.15881221e-02, 7.20334729e-02],\n",
       "        [2.23752320e-01, 3.64864219e-01, 1.75762187e-01, ...,\n",
       "         8.60680130e-02, 5.99468668e-02, 4.96307733e-03],\n",
       "        [6.89814682e-01, 2.11749857e+00, 5.64213727e-01, ...,\n",
       "         1.60125100e-01, 1.93794328e-01, 2.69159338e-01],\n",
       "        ...,\n",
       "        [7.35740914e-01, 2.88803812e-01, 7.62443855e-01, ...,\n",
       "         1.45996207e-01, 1.40643831e-01, 1.83880600e-01],\n",
       "        [7.82820657e-01, 2.27565213e-01, 5.04048289e-01, ...,\n",
       "         1.94275973e-01, 1.70361760e-01, 8.09124110e-02],\n",
       "        [8.01757650e-01, 1.11496094e+00, 9.56648500e-01, ...,\n",
       "         2.09228239e-01, 2.20146623e-01, 1.27469231e-01]],\n",
       "\n",
       "       [[9.40980393e-02, 4.50015227e-01, 3.00376639e-01, ...,\n",
       "         1.48243417e-01, 1.63416889e-02, 4.47904054e-02],\n",
       "        [2.83807341e-01, 5.55995077e-01, 1.46100281e-01, ...,\n",
       "         4.26559345e-02, 1.38571635e-02, 6.58612427e-02],\n",
       "        [1.38952142e+00, 1.70913868e+00, 4.69400543e-01, ...,\n",
       "         3.28145941e-01, 8.76408334e-02, 1.00765690e-01],\n",
       "        ...,\n",
       "        [7.71697359e-01, 1.13104218e+00, 5.96710249e-01, ...,\n",
       "         2.55100167e-01, 8.58690178e-02, 1.98191281e-01],\n",
       "        [1.35294057e+00, 1.40018382e+00, 2.68245085e-01, ...,\n",
       "         3.67969880e-01, 9.94141398e-02, 7.04874240e-02],\n",
       "        [2.44954848e+00, 1.71049541e+00, 6.11814082e-01, ...,\n",
       "         3.24737618e-01, 1.25957681e-01, 1.45122114e-01]],\n",
       "\n",
       "       ...,\n",
       "\n",
       "       [[4.63224686e-01, 2.29372401e-01, 4.60707430e-01, ...,\n",
       "         6.68328045e-02, 2.18093197e-02, 1.92881799e-02],\n",
       "        [1.03900980e-01, 3.82014317e-01, 2.12874562e-02, ...,\n",
       "         2.17338248e-01, 8.25541851e-02, 1.77781363e-01],\n",
       "        [1.79146005e-01, 6.06471666e+00, 2.58102323e-02, ...,\n",
       "         2.97318716e-01, 8.42574588e-02, 3.82100494e-01],\n",
       "        ...,\n",
       "        [8.28260004e-01, 7.29646124e-01, 3.48382147e-01, ...,\n",
       "         9.36093894e-02, 7.12387958e-02, 2.79753954e-02],\n",
       "        [2.16082046e-01, 7.12861143e-01, 6.03997278e-02, ...,\n",
       "         4.68352948e-02, 5.38799752e-02, 1.52526258e-01],\n",
       "        [3.63208221e-01, 3.85226432e+00, 4.33158982e-01, ...,\n",
       "         1.26918750e-01, 5.93761691e-02, 2.40493167e-01]],\n",
       "\n",
       "       [[4.63224686e-01, 2.29372401e-01, 4.60707430e-01, ...,\n",
       "         6.68328045e-02, 2.18093197e-02, 1.92881799e-02],\n",
       "        [1.03900980e-01, 3.82014317e-01, 2.12874562e-02, ...,\n",
       "         2.17338248e-01, 8.25541851e-02, 1.77781363e-01],\n",
       "        [1.79146005e-01, 6.06471666e+00, 2.58102323e-02, ...,\n",
       "         2.97318716e-01, 8.42574588e-02, 3.82100494e-01],\n",
       "        ...,\n",
       "        [8.28260004e-01, 7.29646124e-01, 3.48382147e-01, ...,\n",
       "         9.36093894e-02, 7.12387958e-02, 2.79753954e-02],\n",
       "        [2.16082046e-01, 7.12861143e-01, 6.03997278e-02, ...,\n",
       "         4.68352948e-02, 5.38799752e-02, 1.52526258e-01],\n",
       "        [3.63208221e-01, 3.85226432e+00, 4.33158982e-01, ...,\n",
       "         1.26918750e-01, 5.93761691e-02, 2.40493167e-01]],\n",
       "\n",
       "       [[4.63224686e-01, 2.29372401e-01, 4.60707430e-01, ...,\n",
       "         6.68328045e-02, 2.18093197e-02, 1.92881799e-02],\n",
       "        [1.03900980e-01, 3.82014317e-01, 2.12874562e-02, ...,\n",
       "         2.17338248e-01, 8.25541851e-02, 1.77781363e-01],\n",
       "        [1.79146005e-01, 6.06471666e+00, 2.58102323e-02, ...,\n",
       "         2.97318716e-01, 8.42574588e-02, 3.82100494e-01],\n",
       "        ...,\n",
       "        [8.28260004e-01, 7.29646124e-01, 3.48382147e-01, ...,\n",
       "         9.36093894e-02, 7.12387958e-02, 2.79753954e-02],\n",
       "        [2.16082046e-01, 7.12861143e-01, 6.03997278e-02, ...,\n",
       "         4.68352948e-02, 5.38799752e-02, 1.52526258e-01],\n",
       "        [3.63208221e-01, 3.85226432e+00, 4.33158982e-01, ...,\n",
       "         1.26918750e-01, 5.93761691e-02, 2.40493167e-01]]])"
      ]
     },
     "execution_count": 14,
     "metadata": {},
     "output_type": "execute_result"
    }
   ],
   "source": [
    "X_train"
   ]
  },
  {
   "cell_type": "code",
   "execution_count": 15,
   "metadata": {},
   "outputs": [
    {
     "name": "stdout",
     "output_type": "stream",
     "text": [
      "1837 8 12\n"
     ]
    }
   ],
   "source": [
    "print(X_train.shape[0], X_train.shape[1], X_train.shape[2])"
   ]
  },
  {
   "cell_type": "code",
   "execution_count": 16,
   "metadata": {},
   "outputs": [
    {
     "name": "stdout",
     "output_type": "stream",
     "text": [
      "(1837, 8, 12, 1)\n",
      "(928, 8, 12, 1)\n",
      "(908, 8, 12, 1)\n"
     ]
    }
   ],
   "source": [
    "X_train = X_train.reshape(X_train.shape[0], X_train.shape[1], X_train.shape[2],1)\n",
    "X_dev = X_dev.reshape(X_dev.shape[0], X_dev.shape[1], X_dev.shape[2],1)\n",
    "X_test = X_test.reshape(X_test.shape[0], X_test.shape[1], X_test.shape[2],1)\n",
    "\n",
    "print(X_train.shape)\n",
    "print(X_dev.shape)\n",
    "print(X_test.shape)\n",
    "\n",
    "# INPUT SHAPE: batch_size (número de muestras que vamos a mostrar a la red neuronal), height (alto de la imagen o \n",
    "# num filas del array de datos), width (ancho de la imagen o num de columnas del array de datos, depth (profundidad del \n",
    "# array o num canales de la imagen) "
   ]
  },
  {
   "cell_type": "code",
   "execution_count": 17,
   "metadata": {},
   "outputs": [
    {
     "data": {
      "text/plain": [
       "(1837, 3)"
      ]
     },
     "execution_count": 17,
     "metadata": {},
     "output_type": "execute_result"
    }
   ],
   "source": [
    "y_train.shape"
   ]
  },
  {
   "cell_type": "markdown",
   "metadata": {},
   "source": [
    "### 4 - Set hyperparameters"
   ]
  },
  {
   "cell_type": "code",
   "execution_count": 18,
   "metadata": {},
   "outputs": [],
   "source": [
    "# Tensorboard\n",
    "from time import time\n",
    "from keras.callbacks import TensorBoard\n",
    "tensorboard = TensorBoard(log_dir='logs/{}'.format(time()))"
   ]
  },
  {
   "cell_type": "code",
   "execution_count": 19,
   "metadata": {},
   "outputs": [
    {
     "data": {
      "text/plain": [
       "'\\nn_epochs = 100 #2000\\n#learning_rate = 0.001\\nbatch_size = 32 #250 \\nn_neurons_per_hlayer = [500, 250, 75, 25] # Number of units per layer, 4 hidden layers\\nrate_dropout = [0.8, 0.4, 0.2, 0.1]\\nweight_decay = 1e-4\\n'"
      ]
     },
     "execution_count": 19,
     "metadata": {},
     "output_type": "execute_result"
    }
   ],
   "source": [
    "\"\"\"\n",
    "n_epochs = 100 #2000\n",
    "#learning_rate = 0.001\n",
    "batch_size = 32 #250 \n",
    "n_neurons_per_hlayer = [500, 250, 75, 25] # Number of units per layer, 4 hidden layers\n",
    "rate_dropout = [0.8, 0.4, 0.2, 0.1]\n",
    "weight_decay = 1e-4\n",
    "\"\"\""
   ]
  },
  {
   "cell_type": "markdown",
   "metadata": {},
   "source": [
    "### 5 - Build the model: "
   ]
  },
  {
   "cell_type": "code",
   "execution_count": 21,
   "metadata": {},
   "outputs": [
    {
     "name": "stdout",
     "output_type": "stream",
     "text": [
      "Model: \"sequential\"\n",
      "_________________________________________________________________\n",
      "Layer (type)                 Output Shape              Param #   \n",
      "=================================================================\n",
      "conv2d (Conv2D)              (None, 8, 12, 48)         480       \n",
      "_________________________________________________________________\n",
      "max_pooling2d (MaxPooling2D) (None, 4, 6, 48)          0         \n",
      "_________________________________________________________________\n",
      "dropout (Dropout)            (None, 4, 6, 48)          0         \n",
      "_________________________________________________________________\n",
      "conv2d_1 (Conv2D)            (None, 4, 6, 96)          41568     \n",
      "_________________________________________________________________\n",
      "max_pooling2d_1 (MaxPooling2 (None, 2, 3, 96)          0         \n",
      "_________________________________________________________________\n",
      "dropout_1 (Dropout)          (None, 2, 3, 96)          0         \n",
      "_________________________________________________________________\n",
      "conv2d_2 (Conv2D)            (None, 2, 3, 192)         166080    \n",
      "_________________________________________________________________\n",
      "max_pooling2d_2 (MaxPooling2 (None, 1, 1, 192)         0         \n",
      "_________________________________________________________________\n",
      "dropout_2 (Dropout)          (None, 1, 1, 192)         0         \n",
      "_________________________________________________________________\n",
      "flatten (Flatten)            (None, 192)               0         \n",
      "_________________________________________________________________\n",
      "dense (Dense)                (None, 3)                 579       \n",
      "=================================================================\n",
      "Total params: 208,707\n",
      "Trainable params: 208,707\n",
      "Non-trainable params: 0\n",
      "_________________________________________________________________\n"
     ]
    }
   ],
   "source": [
    "from keras.models import Sequential\n",
    "from keras.layers import Dense, Dropout, Activation, Flatten\n",
    "from keras.layers.convolutional import Conv2D, MaxPooling2D\n",
    "from keras import optimizers, regularizers\n",
    "import keras.backend as K\n",
    "#K.set_image_data_format('channels_first')\n",
    "\n",
    "weight_decay = 1e-4\n",
    "\n",
    "model = Sequential()\n",
    "# Convolution2D(filtrosConv1, tamaño_filtro1, padding=\"same\", input_shape=(longitud, altura,3), activation = \"relu\")\n",
    "    # - filtrosConv1 número de filtros que aplicaremos tras la primera convolución, normalmente este tamaño va a aumentando\n",
    "    # tras convoluciones para que aumente la dimensión de profundidad (qué cosas hay en mi imagen)\n",
    "    # - tamaño_filtro1 tamaño espacial del kernel (de los filtros)\n",
    "    # - padding = si es same es que es igual que la imagen, vamos crea una imagen del mismo tamaño con el filtro, si es \n",
    "    # valid es que no hay padding y crea una imagen más pequeña que la imagen (creo)\n",
    "    # - input_shape = longitud y altura, tamaño que usará para convolucionar al entrenar\n",
    "model.add(Conv2D(48, kernel_size=(3, 3), padding=\"same\", activation=\"relu\",input_shape=(8, 12,1), kernel_initializer=\"he_normal\", kernel_regularizer=regularizers.l2(weight_decay)))\n",
    "#model.add(Conv2D(48, kernel_size=(3, 3), padding=\"same\", activation=\"relu\",kernel_initializer=\"he_normal\", kernel_regularizer=regularizers.l2(weight_decay)))\n",
    "model.add(MaxPooling2D(pool_size=(2, 2)))\n",
    "model.add(Dropout(0.5))\n",
    "\n",
    "\n",
    "model.add(Conv2D(96, (3, 3), padding='same',activation='relu', kernel_initializer=\"he_normal\",kernel_regularizer=regularizers.l2(weight_decay)))\n",
    "#model.add(Conv2D(96, (3, 3), padding='same',activation='relu', kernel_initializer=\"he_normal\", kernel_regularizer=regularizers.l2(weight_decay)))\n",
    "model.add(MaxPooling2D(pool_size=(2, 2)))\n",
    "model.add(Dropout(0.2))\n",
    "\n",
    "model.add(Conv2D(192, (3, 3), padding='same',activation='relu', kernel_initializer=\"he_normal\", kernel_regularizer=regularizers.l2(weight_decay)))\n",
    "#model.add(Conv2D(192, (3, 3), padding='same',activation='relu', kernel_initializer=\"he_normal\", kernel_regularizer=regularizers.l2(weight_decay)))\n",
    "model.add(MaxPooling2D(pool_size=(2, 2)))\n",
    "model.add(Dropout(0.1))\n",
    "\n",
    "model.add(Flatten())\n",
    "model.add(Dense(y_train.shape[1], activation=\"softmax\"))\n",
    "\n",
    "opt = optimizers.Adam(lr=0.001, beta_1=0.9, beta_2=0.999)        \n",
    "model.compile(optimizer=opt, loss='categorical_crossentropy', metrics=['accuracy'])\n",
    "model.summary()"
   ]
  },
  {
   "cell_type": "code",
   "execution_count": 22,
   "metadata": {},
   "outputs": [
    {
     "data": {
      "text/plain": [
       "[<tensorflow.python.keras.layers.convolutional.Conv2D at 0x1ee3ae59e20>,\n",
       " <tensorflow.python.keras.layers.pooling.MaxPooling2D at 0x1ee3ae41b20>,\n",
       " <tensorflow.python.keras.layers.core.Dropout at 0x1ee3b2ca2b0>,\n",
       " <tensorflow.python.keras.layers.convolutional.Conv2D at 0x1ee3b456610>,\n",
       " <tensorflow.python.keras.layers.pooling.MaxPooling2D at 0x1ee3b450d90>,\n",
       " <tensorflow.python.keras.layers.core.Dropout at 0x1ee3b472280>,\n",
       " <tensorflow.python.keras.layers.convolutional.Conv2D at 0x1ee3b47b7f0>,\n",
       " <tensorflow.python.keras.layers.pooling.MaxPooling2D at 0x1ee3b47b6d0>,\n",
       " <tensorflow.python.keras.layers.core.Dropout at 0x1ee3b473250>,\n",
       " <tensorflow.python.keras.layers.core.Flatten at 0x1ee3b473640>,\n",
       " <tensorflow.python.keras.layers.core.Dense at 0x1ee416a7d30>]"
      ]
     },
     "execution_count": 22,
     "metadata": {},
     "output_type": "execute_result"
    }
   ],
   "source": [
    "model.layers"
   ]
  },
  {
   "cell_type": "code",
   "execution_count": 23,
   "metadata": {},
   "outputs": [
    {
     "name": "stdout",
     "output_type": "stream",
     "text": [
      "conv2d\n",
      "max_pooling2d\n",
      "dropout\n",
      "conv2d_1\n",
      "max_pooling2d_1\n",
      "dropout_1\n",
      "conv2d_2\n",
      "max_pooling2d_2\n",
      "dropout_2\n",
      "flatten\n",
      "dense\n"
     ]
    }
   ],
   "source": [
    "for l in model.layers: print (l.name)"
   ]
  },
  {
   "cell_type": "markdown",
   "metadata": {},
   "source": [
    "All the parameters of a layer can bee accessed:"
   ]
  },
  {
   "cell_type": "code",
   "execution_count": 24,
   "metadata": {},
   "outputs": [
    {
     "data": {
      "text/plain": [
       "(3, 3, 1, 48)"
      ]
     },
     "execution_count": 24,
     "metadata": {},
     "output_type": "execute_result"
    }
   ],
   "source": [
    "weights, biases = model.layers[0].get_weights()\n",
    "weights.shape"
   ]
  },
  {
   "cell_type": "code",
   "execution_count": 25,
   "metadata": {},
   "outputs": [
    {
     "data": {
      "text/plain": [
       "array([[[[ 3.31184924e-01, -1.50499567e-01,  4.50183660e-01,\n",
       "          -4.29022133e-01,  5.16460538e-01, -2.05647543e-01,\n",
       "          -2.46432498e-01, -1.42183691e-01,  5.48679590e-01,\n",
       "           5.87658882e-01, -5.70030510e-01,  2.51666844e-01,\n",
       "          -4.91993964e-01, -1.00276947e+00,  5.79052838e-03,\n",
       "           1.85332056e-02, -1.85806960e-01, -9.61934268e-01,\n",
       "          -8.45607102e-01,  5.46173275e-01,  1.10556483e-02,\n",
       "           8.42000127e-01,  6.89877510e-01, -2.64897078e-01,\n",
       "           9.16290760e-01, -2.22058460e-01,  9.33230877e-01,\n",
       "          -1.04294348e+00, -4.83107477e-01,  5.86098075e-01,\n",
       "          -2.67162502e-01,  2.39280984e-01,  4.17810529e-01,\n",
       "           2.56129682e-01, -1.18855603e-01, -5.95464051e-01,\n",
       "          -5.49155116e-01, -7.22010508e-02,  9.75870967e-01,\n",
       "           3.97491634e-01,  1.63634181e-01, -3.30442429e-01,\n",
       "           9.27423239e-01,  1.32103339e-01, -7.33238697e-01,\n",
       "           2.96648920e-01, -1.41363531e-01, -3.72385085e-01]],\n",
       "\n",
       "        [[ 6.71834111e-01,  6.19423449e-01, -6.86470330e-01,\n",
       "           1.09281667e-01,  6.83685541e-01,  3.12522471e-01,\n",
       "          -1.29826725e-01, -1.92390427e-01,  2.77587235e-01,\n",
       "          -4.58866388e-01, -6.41173720e-01,  5.90615645e-02,\n",
       "           5.38701475e-01, -4.00226682e-01, -6.53112888e-01,\n",
       "           4.23964322e-01, -4.14264083e-01, -4.61407691e-01,\n",
       "           2.25970298e-01,  5.56259096e-01, -9.10548806e-01,\n",
       "          -8.50433171e-01, -4.72124159e-01,  6.61270261e-01,\n",
       "          -3.43648255e-01,  7.54830539e-01, -9.03240860e-01,\n",
       "          -2.80151546e-01,  2.14086682e-01, -1.17277712e-01,\n",
       "           4.48906310e-02, -7.21057892e-01, -2.38714993e-01,\n",
       "           6.87806547e-01,  1.15765944e-01,  8.64150599e-02,\n",
       "           3.82658184e-01, -4.43914354e-01,  6.87463760e-01,\n",
       "          -1.37479052e-01, -7.45933056e-01, -1.49079904e-01,\n",
       "           2.16612592e-01,  8.32079649e-01,  2.38023147e-01,\n",
       "           7.63225630e-02, -1.47758931e-01, -2.65063375e-01]],\n",
       "\n",
       "        [[-2.25135759e-02, -2.01064512e-01,  3.39366257e-01,\n",
       "           7.50918031e-01, -2.15752721e-01, -4.03068244e-01,\n",
       "          -1.29495248e-01, -2.69939214e-01, -9.82570499e-02,\n",
       "          -9.49299157e-01,  2.10409626e-01,  1.00338662e+00,\n",
       "           2.37614617e-01, -3.82742494e-01, -6.18886113e-01,\n",
       "           6.01065457e-01,  4.56841677e-01, -3.48842204e-01,\n",
       "          -3.24486434e-01, -4.82019961e-01,  2.33682860e-02,\n",
       "          -2.55236596e-01,  3.64719003e-01, -4.18030769e-01,\n",
       "          -5.58356524e-01, -3.17473453e-03,  3.58707458e-01,\n",
       "          -1.18233971e-01, -5.85062206e-01, -7.17116117e-01,\n",
       "           1.10753424e-01,  1.36560023e-01, -6.06758058e-01,\n",
       "           3.63313168e-01,  8.57757092e-01,  1.34573683e-01,\n",
       "           3.76919150e-01,  9.64950887e-04, -3.28914136e-01,\n",
       "           1.92564815e-01,  2.10776269e-01,  5.80616474e-01,\n",
       "          -5.75182974e-01, -6.84766233e-01,  3.76497060e-01,\n",
       "          -7.56505072e-01,  3.98807675e-01, -2.33742848e-01]]],\n",
       "\n",
       "\n",
       "       [[[-3.86282772e-01,  4.84020412e-01, -8.22230637e-01,\n",
       "           2.66769439e-01, -2.38475904e-01, -6.22013390e-01,\n",
       "          -8.62147510e-01,  3.65898877e-01, -2.83359736e-01,\n",
       "          -2.16325303e-03, -3.21723431e-01,  5.14677227e-01,\n",
       "          -6.05366707e-01, -7.74798393e-01, -5.37430823e-01,\n",
       "          -5.69531262e-01,  1.56597450e-01,  2.51829047e-02,\n",
       "           5.36022544e-01, -7.83464193e-01,  6.05066478e-01,\n",
       "           5.43937758e-02, -6.16395473e-01,  7.44464546e-02,\n",
       "           3.10446709e-01, -4.68550026e-01, -5.97452998e-01,\n",
       "          -1.67529747e-01, -9.70221609e-02,  1.69031784e-01,\n",
       "           3.74665231e-01,  4.07744013e-02,  2.58010507e-01,\n",
       "           3.08393717e-01, -6.68539941e-01,  3.28747511e-01,\n",
       "           5.61508894e-01,  4.55508024e-01,  5.26815891e-01,\n",
       "          -4.25058395e-01,  4.52812731e-01, -6.76596761e-01,\n",
       "           4.39375371e-01,  5.25660157e-01, -3.47575158e-01,\n",
       "          -1.18485242e-01,  1.96906999e-01, -4.07772101e-02]],\n",
       "\n",
       "        [[-1.46246701e-01,  5.68827629e-01, -5.05184412e-01,\n",
       "           7.15784654e-02,  5.73112249e-01, -8.09145197e-02,\n",
       "          -2.95716494e-01,  8.05706084e-01,  2.19946384e-01,\n",
       "           1.85824528e-01, -4.06184316e-01, -3.66761416e-01,\n",
       "           1.33541837e-01,  8.88129994e-02, -1.38130903e-01,\n",
       "          -1.06726289e+00, -2.05561258e-02, -2.58984435e-02,\n",
       "           8.14975575e-02,  5.48223674e-01,  3.04835647e-01,\n",
       "           3.92013431e-01, -2.63750017e-01, -2.13766828e-01,\n",
       "           4.54161316e-01,  4.45228994e-01,  2.09775418e-01,\n",
       "           1.94179472e-02, -7.25281656e-01, -3.20416868e-01,\n",
       "           2.69316018e-01, -5.28616048e-02, -3.85234863e-01,\n",
       "           1.63756952e-01, -1.95011809e-01,  9.32108700e-01,\n",
       "          -2.77445205e-02,  4.63439286e-01,  8.59614015e-02,\n",
       "           7.36992776e-01,  9.35848117e-01,  2.20520515e-03,\n",
       "          -1.36992574e-01, -3.26342195e-01, -1.95498437e-01,\n",
       "          -1.42447188e-01, -6.47447824e-01,  2.74642140e-01]],\n",
       "\n",
       "        [[ 7.85965770e-02,  2.12519273e-01, -4.59174365e-01,\n",
       "          -3.93282980e-01,  3.36201489e-01,  2.19703883e-01,\n",
       "           5.59719920e-01, -4.93164510e-01,  5.57610512e-01,\n",
       "          -3.26161087e-02, -2.00467572e-01,  5.81759691e-01,\n",
       "          -8.92073289e-02,  6.30992055e-01,  6.22028053e-01,\n",
       "           7.17224360e-01, -6.18564725e-01, -8.28199506e-01,\n",
       "           1.34416282e-01,  4.09187585e-01, -6.30067408e-01,\n",
       "          -6.44023657e-01, -1.15615427e-01, -3.23820740e-01,\n",
       "           5.63128054e-01, -8.79516602e-01,  3.34141105e-01,\n",
       "          -7.05536962e-01, -1.06448853e+00, -2.91598618e-01,\n",
       "          -3.59165937e-01, -2.39310205e-01,  4.14256960e-01,\n",
       "           4.65252995e-01,  6.32104039e-01,  2.64313936e-01,\n",
       "          -8.44141304e-01, -7.32247889e-01, -2.91517079e-01,\n",
       "           2.79820655e-02, -8.66321981e-01,  9.21129584e-01,\n",
       "           2.43247151e-01,  9.36098099e-01, -7.09440291e-01,\n",
       "          -1.66964889e-01,  5.38247675e-02,  4.13243920e-01]]],\n",
       "\n",
       "\n",
       "       [[[-2.70344410e-02, -5.02538800e-01,  2.45667830e-01,\n",
       "          -2.68406272e-01,  4.43384886e-01,  6.23179078e-01,\n",
       "           1.40458420e-01, -3.30709815e-01, -7.68641770e-01,\n",
       "           2.98684448e-01,  8.06402564e-01, -4.29564595e-01,\n",
       "           3.01550269e-01, -9.81203765e-02,  5.48209786e-01,\n",
       "           2.32847661e-01,  2.53257658e-02,  4.40885752e-01,\n",
       "          -7.12222278e-01, -3.28259408e-01,  3.20762604e-01,\n",
       "          -9.97135818e-01,  4.28645432e-01, -9.75786865e-01,\n",
       "          -8.12039673e-01,  1.49391457e-01, -1.89654559e-01,\n",
       "          -3.68173450e-01,  3.66530031e-01, -3.49503607e-01,\n",
       "           4.25579101e-02, -5.76132797e-02,  9.94949117e-02,\n",
       "           5.10115802e-01, -5.73231518e-01,  2.01973960e-01,\n",
       "          -3.32587481e-01,  4.18361127e-02,  5.27863085e-01,\n",
       "          -7.41164625e-01,  3.60635519e-02,  1.87160164e-01,\n",
       "           2.00261578e-01,  1.71336412e-01, -4.76298153e-01,\n",
       "           6.19283378e-01, -2.25748256e-01, -1.06676924e+00]],\n",
       "\n",
       "        [[-7.47326910e-02,  4.22528714e-01, -3.36042076e-01,\n",
       "           1.21471778e-01, -1.63199201e-01, -9.90412980e-02,\n",
       "           1.65204063e-01,  2.64747441e-01, -8.13331485e-01,\n",
       "           2.07222030e-01,  1.91197172e-01, -7.99863711e-02,\n",
       "           3.13288927e-01,  5.02571642e-01,  3.64406765e-01,\n",
       "           9.46001261e-02,  1.01310086e+00,  2.68647969e-01,\n",
       "          -2.99233913e-01,  1.75859004e-01, -8.49064767e-01,\n",
       "           7.42843598e-02,  1.38077974e-01,  1.55428603e-01,\n",
       "           4.66965109e-01,  9.36432064e-01,  8.95074069e-01,\n",
       "           7.30814159e-01, -2.24921867e-01, -2.86877006e-01,\n",
       "           2.29152203e-01, -1.11884229e-01,  6.33360371e-02,\n",
       "          -5.68523049e-01, -5.89051425e-01, -5.03142715e-01,\n",
       "          -4.66029108e-01,  4.65532780e-01,  3.10025007e-01,\n",
       "          -5.81039369e-01, -5.73447764e-01, -2.48878688e-01,\n",
       "          -3.40350382e-02,  3.57795954e-02, -1.37252182e-01,\n",
       "           7.96320856e-01,  3.33756767e-02,  8.58532190e-01]],\n",
       "\n",
       "        [[ 2.93711782e-01, -4.75663990e-01,  3.02946270e-01,\n",
       "           3.44201505e-01, -7.00617313e-01, -1.49199992e-01,\n",
       "           6.61401823e-02, -1.69789612e-01,  2.56888479e-01,\n",
       "          -5.04537940e-01,  2.90593386e-01, -4.20991719e-01,\n",
       "           2.36045256e-01, -4.43844616e-01,  2.15247661e-01,\n",
       "          -1.22686192e-01,  1.64617747e-01, -1.92214474e-01,\n",
       "           2.04221740e-01,  4.74752814e-01, -9.96911228e-01,\n",
       "           6.90565109e-01,  2.00171381e-01, -5.39277196e-01,\n",
       "           3.02977175e-01,  2.11967334e-01,  2.44936824e-01,\n",
       "           1.72951177e-01,  9.60645735e-01,  3.56576800e-01,\n",
       "           2.14208066e-01, -6.81144476e-01,  5.24081409e-01,\n",
       "          -5.31672895e-01,  1.05517447e-01, -5.26835024e-01,\n",
       "           2.28611752e-01, -3.19212854e-01, -4.75332290e-01,\n",
       "          -1.61185384e-01,  9.77968514e-01,  5.52953303e-01,\n",
       "           1.05287358e-01, -9.53685939e-02, -3.32801521e-01,\n",
       "          -9.82147306e-02, -1.03409421e+00, -2.98034735e-02]]]],\n",
       "      dtype=float32)"
      ]
     },
     "execution_count": 25,
     "metadata": {},
     "output_type": "execute_result"
    }
   ],
   "source": [
    "weights"
   ]
  },
  {
   "cell_type": "code",
   "execution_count": 26,
   "metadata": {},
   "outputs": [
    {
     "data": {
      "text/plain": [
       "array([0., 0., 0., 0., 0., 0., 0., 0., 0., 0., 0., 0., 0., 0., 0., 0., 0.,\n",
       "       0., 0., 0., 0., 0., 0., 0., 0., 0., 0., 0., 0., 0., 0., 0., 0., 0.,\n",
       "       0., 0., 0., 0., 0., 0., 0., 0., 0., 0., 0., 0., 0., 0.],\n",
       "      dtype=float32)"
      ]
     },
     "execution_count": 26,
     "metadata": {},
     "output_type": "execute_result"
    }
   ],
   "source": [
    "biases # Bias de la primera capa: 500 bias inicializados a 0 "
   ]
  },
  {
   "cell_type": "code",
   "execution_count": 27,
   "metadata": {},
   "outputs": [
    {
     "data": {
      "text/plain": [
       "(48,)"
      ]
     },
     "execution_count": 27,
     "metadata": {},
     "output_type": "execute_result"
    }
   ],
   "source": [
    "biases.shape"
   ]
  },
  {
   "cell_type": "markdown",
   "metadata": {},
   "source": [
    "### 6. Compile the model"
   ]
  },
  {
   "cell_type": "code",
   "execution_count": null,
   "metadata": {},
   "outputs": [],
   "source": []
  },
  {
   "cell_type": "markdown",
   "metadata": {},
   "source": [
    "### 7. Train the model with M-BGD"
   ]
  },
  {
   "cell_type": "code",
   "execution_count": 28,
   "metadata": {},
   "outputs": [
    {
     "name": "stdout",
     "output_type": "stream",
     "text": [
      "Epoch 1/100\n",
      "58/58 - 6s - loss: 2.3575 - accuracy: 0.4491 - val_loss: 2.4058 - val_accuracy: 0.4278\n",
      "Epoch 2/100\n",
      "58/58 - 1s - loss: 1.3644 - accuracy: 0.4986 - val_loss: 1.1195 - val_accuracy: 0.5054\n",
      "Epoch 3/100\n",
      "58/58 - 1s - loss: 1.1547 - accuracy: 0.5052 - val_loss: 1.0992 - val_accuracy: 0.5291\n",
      "Epoch 4/100\n",
      "58/58 - 1s - loss: 1.0870 - accuracy: 0.5384 - val_loss: 1.1336 - val_accuracy: 0.5991\n",
      "Epoch 5/100\n",
      "58/58 - 1s - loss: 1.0283 - accuracy: 0.5634 - val_loss: 1.2440 - val_accuracy: 0.5399\n",
      "Epoch 6/100\n",
      "58/58 - 1s - loss: 1.0023 - accuracy: 0.5765 - val_loss: 1.1987 - val_accuracy: 0.5819\n",
      "Epoch 7/100\n",
      "58/58 - 2s - loss: 0.9857 - accuracy: 0.5781 - val_loss: 1.0012 - val_accuracy: 0.6498\n",
      "Epoch 8/100\n",
      "58/58 - 2s - loss: 0.9976 - accuracy: 0.5819 - val_loss: 1.2210 - val_accuracy: 0.4925\n",
      "Epoch 9/100\n",
      "58/58 - 1s - loss: 0.9657 - accuracy: 0.5797 - val_loss: 1.0753 - val_accuracy: 0.5496\n",
      "Epoch 10/100\n",
      "58/58 - 1s - loss: 0.9600 - accuracy: 0.5819 - val_loss: 0.9821 - val_accuracy: 0.6325\n",
      "Epoch 11/100\n",
      "58/58 - 1s - loss: 0.9520 - accuracy: 0.5846 - val_loss: 0.8780 - val_accuracy: 0.7004\n",
      "Epoch 12/100\n",
      "58/58 - 1s - loss: 0.9281 - accuracy: 0.5944 - val_loss: 0.9389 - val_accuracy: 0.6756\n",
      "Epoch 13/100\n",
      "58/58 - 1s - loss: 0.9338 - accuracy: 0.5928 - val_loss: 0.9426 - val_accuracy: 0.6573\n",
      "Epoch 14/100\n",
      "58/58 - 1s - loss: 0.9330 - accuracy: 0.6102 - val_loss: 0.8622 - val_accuracy: 0.6994\n",
      "Epoch 15/100\n",
      "58/58 - 1s - loss: 0.8859 - accuracy: 0.6200 - val_loss: 0.9235 - val_accuracy: 0.6864\n",
      "Epoch 16/100\n",
      "58/58 - 3s - loss: 0.8907 - accuracy: 0.6347 - val_loss: 0.9260 - val_accuracy: 0.6703\n",
      "Epoch 17/100\n",
      "58/58 - 1s - loss: 0.8659 - accuracy: 0.6369 - val_loss: 1.0044 - val_accuracy: 0.6573\n",
      "Epoch 18/100\n",
      "58/58 - 1s - loss: 0.8898 - accuracy: 0.6309 - val_loss: 0.9363 - val_accuracy: 0.6756\n",
      "Epoch 19/100\n",
      "58/58 - 1s - loss: 0.8800 - accuracy: 0.6494 - val_loss: 0.9530 - val_accuracy: 0.6703\n",
      "Epoch 20/100\n",
      "58/58 - 1s - loss: 0.8708 - accuracy: 0.6407 - val_loss: 0.8844 - val_accuracy: 0.6929\n",
      "Epoch 21/100\n",
      "58/58 - 1s - loss: 0.8534 - accuracy: 0.6483 - val_loss: 0.8967 - val_accuracy: 0.6649\n",
      "Epoch 22/100\n",
      "58/58 - 1s - loss: 0.8395 - accuracy: 0.6500 - val_loss: 0.8722 - val_accuracy: 0.6897\n",
      "Epoch 23/100\n",
      "58/58 - 2s - loss: 0.8476 - accuracy: 0.6728 - val_loss: 0.9057 - val_accuracy: 0.6713\n",
      "Epoch 24/100\n",
      "58/58 - 2s - loss: 0.8494 - accuracy: 0.6543 - val_loss: 0.8944 - val_accuracy: 0.6983\n",
      "Epoch 25/100\n",
      "58/58 - 1s - loss: 0.8428 - accuracy: 0.6560 - val_loss: 0.8611 - val_accuracy: 0.6950\n",
      "Epoch 26/100\n",
      "58/58 - 1s - loss: 0.8108 - accuracy: 0.6630 - val_loss: 0.8432 - val_accuracy: 0.6767\n",
      "Epoch 27/100\n",
      "58/58 - 1s - loss: 0.8141 - accuracy: 0.6647 - val_loss: 0.9207 - val_accuracy: 0.6843\n",
      "Epoch 28/100\n",
      "58/58 - 1s - loss: 0.8044 - accuracy: 0.6712 - val_loss: 0.8357 - val_accuracy: 0.7037\n",
      "Epoch 29/100\n",
      "58/58 - 1s - loss: 0.7977 - accuracy: 0.6728 - val_loss: 0.8409 - val_accuracy: 0.7080\n",
      "Epoch 30/100\n",
      "58/58 - 3s - loss: 0.7831 - accuracy: 0.6952 - val_loss: 0.8315 - val_accuracy: 0.7037\n",
      "Epoch 31/100\n",
      "58/58 - 1s - loss: 0.7831 - accuracy: 0.6908 - val_loss: 0.8197 - val_accuracy: 0.7080\n",
      "Epoch 32/100\n",
      "58/58 - 1s - loss: 0.7763 - accuracy: 0.6881 - val_loss: 0.8053 - val_accuracy: 0.7274\n",
      "Epoch 33/100\n",
      "58/58 - 1s - loss: 0.7588 - accuracy: 0.7099 - val_loss: 0.8329 - val_accuracy: 0.6950\n",
      "Epoch 34/100\n",
      "58/58 - 1s - loss: 0.7669 - accuracy: 0.6995 - val_loss: 0.7997 - val_accuracy: 0.7252\n",
      "Epoch 35/100\n",
      "58/58 - 1s - loss: 0.7502 - accuracy: 0.7066 - val_loss: 0.8418 - val_accuracy: 0.7047\n",
      "Epoch 36/100\n",
      "58/58 - 1s - loss: 0.7365 - accuracy: 0.7088 - val_loss: 0.8331 - val_accuracy: 0.7080\n",
      "Epoch 37/100\n",
      "58/58 - 2s - loss: 0.7472 - accuracy: 0.6903 - val_loss: 0.8687 - val_accuracy: 0.7134\n",
      "Epoch 38/100\n",
      "58/58 - 2s - loss: 0.7299 - accuracy: 0.7115 - val_loss: 0.8694 - val_accuracy: 0.7101\n",
      "Epoch 39/100\n",
      "58/58 - 1s - loss: 0.7298 - accuracy: 0.7153 - val_loss: 0.8952 - val_accuracy: 0.7177\n",
      "Epoch 40/100\n",
      "58/58 - 1s - loss: 0.7251 - accuracy: 0.7218 - val_loss: 0.8816 - val_accuracy: 0.7091\n",
      "Epoch 41/100\n",
      "58/58 - 1s - loss: 0.7385 - accuracy: 0.6941 - val_loss: 0.9290 - val_accuracy: 0.7069\n",
      "Epoch 42/100\n",
      "58/58 - 1s - loss: 0.7155 - accuracy: 0.7273 - val_loss: 0.8800 - val_accuracy: 0.6972\n",
      "Epoch 43/100\n",
      "58/58 - 1s - loss: 0.7100 - accuracy: 0.7039 - val_loss: 0.8559 - val_accuracy: 0.7284\n",
      "Epoch 44/100\n",
      "58/58 - 3s - loss: 0.7091 - accuracy: 0.7246 - val_loss: 0.8826 - val_accuracy: 0.7069\n",
      "Epoch 45/100\n",
      "58/58 - 1s - loss: 0.7129 - accuracy: 0.7202 - val_loss: 0.8711 - val_accuracy: 0.6929\n",
      "Epoch 46/100\n",
      "58/58 - 1s - loss: 0.7057 - accuracy: 0.7235 - val_loss: 0.8153 - val_accuracy: 0.7317\n",
      "Epoch 47/100\n",
      "58/58 - 1s - loss: 0.6931 - accuracy: 0.7278 - val_loss: 0.8252 - val_accuracy: 0.7155\n",
      "Epoch 48/100\n",
      "58/58 - 1s - loss: 0.6990 - accuracy: 0.7333 - val_loss: 0.8551 - val_accuracy: 0.6972\n",
      "Epoch 49/100\n",
      "58/58 - 1s - loss: 0.6743 - accuracy: 0.7333 - val_loss: 0.7810 - val_accuracy: 0.7188\n",
      "Epoch 50/100\n",
      "58/58 - 1s - loss: 0.6648 - accuracy: 0.7501 - val_loss: 0.9799 - val_accuracy: 0.6724\n",
      "Epoch 51/100\n",
      "58/58 - 2s - loss: 0.6744 - accuracy: 0.7338 - val_loss: 0.8355 - val_accuracy: 0.7091\n",
      "Epoch 52/100\n",
      "58/58 - 1s - loss: 0.6720 - accuracy: 0.7414 - val_loss: 0.8877 - val_accuracy: 0.6929\n",
      "Epoch 53/100\n",
      "58/58 - 1s - loss: 0.6863 - accuracy: 0.7382 - val_loss: 0.8541 - val_accuracy: 0.7166\n",
      "Epoch 54/100\n",
      "58/58 - 1s - loss: 0.6612 - accuracy: 0.7354 - val_loss: 0.8862 - val_accuracy: 0.7144\n",
      "Epoch 55/100\n",
      "58/58 - 1s - loss: 0.6668 - accuracy: 0.7360 - val_loss: 0.8803 - val_accuracy: 0.7144\n",
      "Epoch 56/100\n",
      "58/58 - 1s - loss: 0.6526 - accuracy: 0.7518 - val_loss: 0.8562 - val_accuracy: 0.7037\n",
      "Epoch 57/100\n",
      "58/58 - 1s - loss: 0.6632 - accuracy: 0.7496 - val_loss: 0.7852 - val_accuracy: 0.7252\n",
      "Epoch 58/100\n",
      "58/58 - 3s - loss: 0.6496 - accuracy: 0.7496 - val_loss: 0.8527 - val_accuracy: 0.7144\n",
      "Epoch 59/100\n",
      "58/58 - 1s - loss: 0.6412 - accuracy: 0.7703 - val_loss: 0.8706 - val_accuracy: 0.7112\n",
      "Epoch 60/100\n",
      "58/58 - 1s - loss: 0.6495 - accuracy: 0.7507 - val_loss: 0.8816 - val_accuracy: 0.6940\n",
      "Epoch 61/100\n",
      "58/58 - 1s - loss: 0.6220 - accuracy: 0.7752 - val_loss: 0.9133 - val_accuracy: 0.6972\n",
      "Epoch 62/100\n",
      "58/58 - 1s - loss: 0.6328 - accuracy: 0.7616 - val_loss: 0.9087 - val_accuracy: 0.6983\n",
      "Epoch 63/100\n",
      "58/58 - 1s - loss: 0.6304 - accuracy: 0.7588 - val_loss: 0.9383 - val_accuracy: 0.7091\n",
      "Epoch 64/100\n",
      "58/58 - 1s - loss: 0.6127 - accuracy: 0.7616 - val_loss: 0.9591 - val_accuracy: 0.6886\n",
      "Epoch 65/100\n",
      "58/58 - 1s - loss: 0.6230 - accuracy: 0.7605 - val_loss: 0.8919 - val_accuracy: 0.7252\n",
      "Epoch 66/100\n",
      "58/58 - 3s - loss: 0.6267 - accuracy: 0.7599 - val_loss: 0.9443 - val_accuracy: 0.7252\n",
      "Epoch 67/100\n",
      "58/58 - 1s - loss: 0.6292 - accuracy: 0.7583 - val_loss: 0.8481 - val_accuracy: 0.7058\n",
      "Epoch 68/100\n",
      "58/58 - 2s - loss: 0.6062 - accuracy: 0.7692 - val_loss: 0.9007 - val_accuracy: 0.7144\n",
      "Epoch 69/100\n",
      "58/58 - 1s - loss: 0.6031 - accuracy: 0.7746 - val_loss: 0.8559 - val_accuracy: 0.7209\n",
      "Epoch 70/100\n",
      "58/58 - 1s - loss: 0.5852 - accuracy: 0.7861 - val_loss: 0.9656 - val_accuracy: 0.7047\n",
      "Epoch 71/100\n",
      "58/58 - 1s - loss: 0.5767 - accuracy: 0.7893 - val_loss: 0.8467 - val_accuracy: 0.7112\n",
      "Epoch 72/100\n",
      "58/58 - 1s - loss: 0.5846 - accuracy: 0.7708 - val_loss: 0.8524 - val_accuracy: 0.7231\n",
      "Epoch 73/100\n",
      "58/58 - 1s - loss: 0.5902 - accuracy: 0.7828 - val_loss: 0.8804 - val_accuracy: 0.7026\n",
      "Epoch 74/100\n",
      "58/58 - 1s - loss: 0.5770 - accuracy: 0.7915 - val_loss: 0.8590 - val_accuracy: 0.7091\n",
      "Epoch 75/100\n",
      "58/58 - 1s - loss: 0.5640 - accuracy: 0.7888 - val_loss: 0.8550 - val_accuracy: 0.7058\n",
      "Epoch 76/100\n",
      "58/58 - 1s - loss: 0.5673 - accuracy: 0.7910 - val_loss: 0.9758 - val_accuracy: 0.6950\n",
      "Epoch 77/100\n",
      "58/58 - 1s - loss: 0.5667 - accuracy: 0.7888 - val_loss: 0.8587 - val_accuracy: 0.7220\n",
      "Epoch 78/100\n",
      "58/58 - 3s - loss: 0.5482 - accuracy: 0.8138 - val_loss: 0.8845 - val_accuracy: 0.7155\n",
      "Epoch 79/100\n",
      "58/58 - 1s - loss: 0.5434 - accuracy: 0.8002 - val_loss: 0.9588 - val_accuracy: 0.7155\n",
      "Epoch 80/100\n",
      "58/58 - 1s - loss: 0.5615 - accuracy: 0.7948 - val_loss: 0.9100 - val_accuracy: 0.7134\n",
      "Epoch 81/100\n",
      "58/58 - 1s - loss: 0.5602 - accuracy: 0.7926 - val_loss: 0.9269 - val_accuracy: 0.6994\n",
      "Epoch 82/100\n",
      "58/58 - 1s - loss: 0.5438 - accuracy: 0.7970 - val_loss: 1.0533 - val_accuracy: 0.6950\n",
      "Epoch 83/100\n"
     ]
    },
    {
     "name": "stdout",
     "output_type": "stream",
     "text": [
      "58/58 - 1s - loss: 0.5596 - accuracy: 0.7975 - val_loss: 0.9152 - val_accuracy: 0.7004\n",
      "Epoch 84/100\n",
      "58/58 - 1s - loss: 0.5372 - accuracy: 0.8204 - val_loss: 0.8667 - val_accuracy: 0.7058\n",
      "Epoch 85/100\n",
      "58/58 - 1s - loss: 0.5453 - accuracy: 0.8089 - val_loss: 0.9216 - val_accuracy: 0.7091\n",
      "Epoch 86/100\n",
      "58/58 - 1s - loss: 0.5329 - accuracy: 0.8111 - val_loss: 0.8725 - val_accuracy: 0.7155\n",
      "Epoch 87/100\n",
      "58/58 - 3s - loss: 0.5117 - accuracy: 0.8138 - val_loss: 0.9577 - val_accuracy: 0.7220\n",
      "Epoch 88/100\n",
      "58/58 - 1s - loss: 0.5057 - accuracy: 0.8263 - val_loss: 0.9856 - val_accuracy: 0.6929\n",
      "Epoch 89/100\n",
      "58/58 - 1s - loss: 0.5015 - accuracy: 0.8242 - val_loss: 0.9539 - val_accuracy: 0.7047\n",
      "Epoch 90/100\n",
      "58/58 - 1s - loss: 0.5081 - accuracy: 0.8312 - val_loss: 1.0288 - val_accuracy: 0.7069\n",
      "Epoch 91/100\n",
      "58/58 - 1s - loss: 0.5087 - accuracy: 0.8160 - val_loss: 0.9340 - val_accuracy: 0.7220\n",
      "Epoch 92/100\n",
      "58/58 - 1s - loss: 0.4883 - accuracy: 0.8421 - val_loss: 0.9872 - val_accuracy: 0.7166\n",
      "Epoch 93/100\n",
      "58/58 - 1s - loss: 0.5201 - accuracy: 0.8220 - val_loss: 0.9414 - val_accuracy: 0.7220\n",
      "Epoch 94/100\n",
      "58/58 - 3s - loss: 0.4888 - accuracy: 0.8356 - val_loss: 0.9687 - val_accuracy: 0.7037\n",
      "Epoch 95/100\n",
      "58/58 - 1s - loss: 0.4901 - accuracy: 0.8307 - val_loss: 0.9583 - val_accuracy: 0.6983\n",
      "Epoch 96/100\n",
      "58/58 - 1s - loss: 0.4884 - accuracy: 0.8389 - val_loss: 0.9690 - val_accuracy: 0.7155\n",
      "Epoch 97/100\n",
      "58/58 - 1s - loss: 0.4611 - accuracy: 0.8389 - val_loss: 1.0765 - val_accuracy: 0.7080\n",
      "Epoch 98/100\n",
      "58/58 - 1s - loss: 0.4905 - accuracy: 0.8367 - val_loss: 1.0092 - val_accuracy: 0.6875\n",
      "Epoch 99/100\n",
      "58/58 - 1s - loss: 0.4822 - accuracy: 0.8340 - val_loss: 0.9722 - val_accuracy: 0.7188\n",
      "Epoch 100/100\n",
      "58/58 - 1s - loss: 0.4773 - accuracy: 0.8443 - val_loss: 0.9944 - val_accuracy: 0.7080\n",
      "116.99632954597473\n"
     ]
    }
   ],
   "source": [
    "import time\n",
    "start = time.time()\n",
    "#history = model.fit(X_train, y_train, batch_size=32, steps_per_epoch=len(y_train)/32, epochs=100, verbose=2, validation_data=(X_dev, y_dev),callbacks=[tensorboard])\n",
    "history = model.fit(X_train, y_train, batch_size=32, epochs=100, verbose=2, validation_data=(X_dev, y_dev))\n",
    "print (time.time() - start)\n",
    "\n"
   ]
  },
  {
   "cell_type": "markdown",
   "metadata": {},
   "source": [
    "### 8. Get the results"
   ]
  },
  {
   "cell_type": "code",
   "execution_count": 29,
   "metadata": {},
   "outputs": [
    {
     "data": {
      "image/png": "[encoded data removed]",
      "text/plain": [
       "<Figure size 576x360 with 1 Axes>"
      ]
     },
     "metadata": {
      "needs_background": "light"
     },
     "output_type": "display_data"
    }
   ],
   "source": [
    "results=pd.DataFrame(history.history)\n",
    "results.plot(figsize=(8, 5))\n",
    "plt.grid(True)\n",
    "plt.xlabel (\"Epochs\")\n",
    "plt.ylabel (\"Accuracy - Mean Log Loss\")\n",
    "plt.gca().set_ylim(0, 2) # set the vertical range to [0-1]\n",
    "plt.show()\n",
    "\n",
    "# categorical_accuracy es el training accuracy\n",
    "# val_categorical_accuracy es el validation accuracy\n",
    "# loss es el training loss\n",
    "# val_loss es el validation loss\n",
    "\n",
    "# Overfitting:\n",
    "# Por un lado la Accuracy de los datos de entrenamiento aumenta con las epochs,\n",
    "# mientras que la Accuracy de los datos de validación disminuye o se mantiene constante a lo largo de las epochs. \n",
    "# La Loss de los datos de validación alcanza su mínimo después de pocos epochs y luego empieza a subir, \n",
    "# mientras que la Loss de los datos de entrenamiento disminuye linealmente."
   ]
  },
  {
   "cell_type": "code",
   "execution_count": 30,
   "metadata": {},
   "outputs": [
    {
     "data": {
      "text/plain": [
       "{'verbose': 2, 'epochs': 100, 'steps': 58}"
      ]
     },
     "execution_count": 30,
     "metadata": {},
     "output_type": "execute_result"
    }
   ],
   "source": [
    "history.params"
   ]
  },
  {
   "cell_type": "code",
   "execution_count": 31,
   "metadata": {},
   "outputs": [
    {
     "data": {
      "text/html": [
       "<div>\n",
       "<style scoped>\n",
       "    .dataframe tbody tr th:only-of-type {\n",
       "        vertical-align: middle;\n",
       "    }\n",
       "\n",
       "    .dataframe tbody tr th {\n",
       "        vertical-align: top;\n",
       "    }\n",
       "\n",
       "    .dataframe thead th {\n",
       "        text-align: right;\n",
       "    }\n",
       "</style>\n",
       "<table border=\"1\" class=\"dataframe\">\n",
       "  <thead>\n",
       "    <tr style=\"text-align: right;\">\n",
       "      <th></th>\n",
       "      <th>loss</th>\n",
       "      <th>accuracy</th>\n",
       "      <th>val_loss</th>\n",
       "      <th>val_accuracy</th>\n",
       "    </tr>\n",
       "  </thead>\n",
       "  <tbody>\n",
       "    <tr>\n",
       "      <th>99</th>\n",
       "      <td>0.477253</td>\n",
       "      <td>0.844311</td>\n",
       "      <td>0.99441</td>\n",
       "      <td>0.707974</td>\n",
       "    </tr>\n",
       "  </tbody>\n",
       "</table>\n",
       "</div>"
      ],
      "text/plain": [
       "        loss  accuracy  val_loss  val_accuracy\n",
       "99  0.477253  0.844311   0.99441      0.707974"
      ]
     },
     "execution_count": 31,
     "metadata": {},
     "output_type": "execute_result"
    }
   ],
   "source": [
    "results[-1:]"
   ]
  },
  {
   "cell_type": "code",
   "execution_count": 32,
   "metadata": {},
   "outputs": [
    {
     "ename": "AttributeError",
     "evalue": "'DataFrame' object has no attribute 'categorical_accuracy'",
     "output_type": "error",
     "traceback": [
      "\u001b[1;31m---------------------------------------------------------------------------\u001b[0m",
      "\u001b[1;31mAttributeError\u001b[0m                            Traceback (most recent call last)",
      "\u001b[1;32m<ipython-input-32-10da666d125b>\u001b[0m in \u001b[0;36m<module>\u001b[1;34m\u001b[0m\n\u001b[1;32m----> 1\u001b[1;33m \u001b[0mprint\u001b[0m \u001b[1;33m(\u001b[0m\u001b[1;34m\"Accuracy for the training set: \"\u001b[0m\u001b[1;33m,\u001b[0m \u001b[0mresults\u001b[0m\u001b[1;33m.\u001b[0m\u001b[0mcategorical_accuracy\u001b[0m\u001b[1;33m.\u001b[0m\u001b[0mvalues\u001b[0m\u001b[1;33m[\u001b[0m\u001b[1;33m-\u001b[0m\u001b[1;36m1\u001b[0m\u001b[1;33m:\u001b[0m\u001b[1;33m]\u001b[0m\u001b[1;33m[\u001b[0m\u001b[1;36m0\u001b[0m\u001b[1;33m]\u001b[0m\u001b[1;33m)\u001b[0m\u001b[1;33m\u001b[0m\u001b[1;33m\u001b[0m\u001b[0m\n\u001b[0m",
      "\u001b[1;32m~\\anaconda3\\lib\\site-packages\\pandas\\core\\generic.py\u001b[0m in \u001b[0;36m__getattr__\u001b[1;34m(self, name)\u001b[0m\n\u001b[0;32m   5137\u001b[0m             \u001b[1;32mif\u001b[0m \u001b[0mself\u001b[0m\u001b[1;33m.\u001b[0m\u001b[0m_info_axis\u001b[0m\u001b[1;33m.\u001b[0m\u001b[0m_can_hold_identifiers_and_holds_name\u001b[0m\u001b[1;33m(\u001b[0m\u001b[0mname\u001b[0m\u001b[1;33m)\u001b[0m\u001b[1;33m:\u001b[0m\u001b[1;33m\u001b[0m\u001b[1;33m\u001b[0m\u001b[0m\n\u001b[0;32m   5138\u001b[0m                 \u001b[1;32mreturn\u001b[0m \u001b[0mself\u001b[0m\u001b[1;33m[\u001b[0m\u001b[0mname\u001b[0m\u001b[1;33m]\u001b[0m\u001b[1;33m\u001b[0m\u001b[1;33m\u001b[0m\u001b[0m\n\u001b[1;32m-> 5139\u001b[1;33m             \u001b[1;32mreturn\u001b[0m \u001b[0mobject\u001b[0m\u001b[1;33m.\u001b[0m\u001b[0m__getattribute__\u001b[0m\u001b[1;33m(\u001b[0m\u001b[0mself\u001b[0m\u001b[1;33m,\u001b[0m \u001b[0mname\u001b[0m\u001b[1;33m)\u001b[0m\u001b[1;33m\u001b[0m\u001b[1;33m\u001b[0m\u001b[0m\n\u001b[0m\u001b[0;32m   5140\u001b[0m \u001b[1;33m\u001b[0m\u001b[0m\n\u001b[0;32m   5141\u001b[0m     \u001b[1;32mdef\u001b[0m \u001b[0m__setattr__\u001b[0m\u001b[1;33m(\u001b[0m\u001b[0mself\u001b[0m\u001b[1;33m,\u001b[0m \u001b[0mname\u001b[0m\u001b[1;33m:\u001b[0m \u001b[0mstr\u001b[0m\u001b[1;33m,\u001b[0m \u001b[0mvalue\u001b[0m\u001b[1;33m)\u001b[0m \u001b[1;33m->\u001b[0m \u001b[1;32mNone\u001b[0m\u001b[1;33m:\u001b[0m\u001b[1;33m\u001b[0m\u001b[1;33m\u001b[0m\u001b[0m\n",
      "\u001b[1;31mAttributeError\u001b[0m: 'DataFrame' object has no attribute 'categorical_accuracy'"
     ]
    }
   ],
   "source": [
    "print (\"Accuracy for the training set: \", results.categorical_accuracy.values[-1:][0])"
   ]
  },
  {
   "cell_type": "code",
   "execution_count": null,
   "metadata": {},
   "outputs": [],
   "source": [
    "print (\"Accuracy for the development test set: \", results.val_categorical_accuracy.values[-1:][0])"
   ]
  },
  {
   "cell_type": "code",
   "execution_count": null,
   "metadata": {},
   "outputs": [],
   "source": []
  },
  {
   "cell_type": "markdown",
   "metadata": {},
   "source": [
    "#### Let's see how the model predicts using the development test set:"
   ]
  },
  {
   "cell_type": "code",
   "execution_count": 28,
   "metadata": {},
   "outputs": [
    {
     "data": {
      "text/plain": [
       "array([[0.44, 0.51, 0.05],\n",
       "       [0.06, 0.25, 0.69],\n",
       "       [0.92, 0.02, 0.06],\n",
       "       [0.2 , 0.61, 0.18],\n",
       "       [0.07, 0.92, 0.01],\n",
       "       [0.04, 0.54, 0.42],\n",
       "       [0.04, 0.79, 0.17],\n",
       "       [0.  , 0.8 , 0.2 ],\n",
       "       [0.  , 0.09, 0.91],\n",
       "       [0.  , 0.  , 1.  ],\n",
       "       [0.  , 0.01, 0.99],\n",
       "       [0.  , 0.37, 0.63],\n",
       "       [0.09, 0.91, 0.01],\n",
       "       [0.  , 0.99, 0.  ],\n",
       "       [0.01, 0.97, 0.02],\n",
       "       [0.01, 0.24, 0.76],\n",
       "       [0.23, 0.76, 0.02],\n",
       "       [0.  , 0.99, 0.01],\n",
       "       [0.  , 1.  , 0.  ],\n",
       "       [0.  , 0.99, 0.01]], dtype=float32)"
      ]
     },
     "execution_count": 28,
     "metadata": {},
     "output_type": "execute_result"
    }
   ],
   "source": [
    "dev_predictions=model.predict(X_dev).round(2) \n",
    "dev_predictions[:20]"
   ]
  },
  {
   "cell_type": "code",
   "execution_count": 29,
   "metadata": {},
   "outputs": [
    {
     "data": {
      "text/plain": [
       "array([[0., 1., 0.],\n",
       "       [0., 0., 1.],\n",
       "       [1., 0., 0.],\n",
       "       [0., 1., 0.],\n",
       "       [0., 1., 0.],\n",
       "       [0., 1., 0.],\n",
       "       [0., 1., 0.],\n",
       "       [0., 1., 0.],\n",
       "       [0., 0., 1.],\n",
       "       [0., 0., 1.],\n",
       "       [0., 0., 1.],\n",
       "       [0., 0., 1.],\n",
       "       [0., 1., 0.],\n",
       "       [0., 1., 0.],\n",
       "       [0., 1., 0.],\n",
       "       [0., 0., 1.],\n",
       "       [0., 1., 0.],\n",
       "       [0., 1., 0.],\n",
       "       [0., 1., 0.],\n",
       "       [0., 1., 0.]], dtype=float32)"
      ]
     },
     "execution_count": 29,
     "metadata": {},
     "output_type": "execute_result"
    }
   ],
   "source": [
    "dev_rounded_predictions=np.round(dev_predictions)\n",
    "indices = np.argmax(dev_predictions,1)\n",
    "for row, index in zip(dev_rounded_predictions, indices): row[index]=1\n",
    "dev_rounded_predictions[:20]"
   ]
  },
  {
   "cell_type": "code",
   "execution_count": 30,
   "metadata": {},
   "outputs": [
    {
     "data": {
      "text/plain": [
       "array([[0., 1., 0.],\n",
       "       [0., 1., 0.],\n",
       "       [0., 1., 0.],\n",
       "       [0., 1., 0.],\n",
       "       [0., 1., 0.],\n",
       "       [0., 1., 0.],\n",
       "       [0., 1., 0.],\n",
       "       [0., 1., 0.],\n",
       "       [0., 1., 0.],\n",
       "       [0., 1., 0.],\n",
       "       [0., 1., 0.],\n",
       "       [0., 1., 0.],\n",
       "       [0., 1., 0.],\n",
       "       [0., 1., 0.],\n",
       "       [0., 1., 0.],\n",
       "       [0., 1., 0.],\n",
       "       [0., 1., 0.],\n",
       "       [0., 1., 0.],\n",
       "       [0., 1., 0.],\n",
       "       [0., 1., 0.]])"
      ]
     },
     "execution_count": 30,
     "metadata": {},
     "output_type": "execute_result"
    }
   ],
   "source": [
    "y_dev[:20]"
   ]
  },
  {
   "cell_type": "code",
   "execution_count": 31,
   "metadata": {},
   "outputs": [
    {
     "name": "stdout",
     "output_type": "stream",
     "text": [
      "[ True False False  True  True  True  True  True False False False False\n",
      "  True  True  True False  True  True  True  True  True  True False  True\n",
      " False  True  True  True  True  True]\n"
     ]
    }
   ],
   "source": [
    "dev_correct_predictions = np.equal(np.argmax(dev_rounded_predictions,1),np.argmax(y_dev,1))\n",
    "print (dev_correct_predictions[:30])"
   ]
  },
  {
   "cell_type": "code",
   "execution_count": 32,
   "metadata": {},
   "outputs": [
    {
     "data": {
      "text/plain": [
       "Counter({True: 620, False: 308})"
      ]
     },
     "execution_count": 32,
     "metadata": {},
     "output_type": "execute_result"
    }
   ],
   "source": [
    "from collections import Counter\n",
    "Counter (dev_correct_predictions)"
   ]
  },
  {
   "cell_type": "markdown",
   "metadata": {},
   "source": [
    "### 9. Save model"
   ]
  },
  {
   "cell_type": "markdown",
   "metadata": {},
   "source": [
    "We save the model if it is better than others "
   ]
  },
  {
   "cell_type": "code",
   "execution_count": 30,
   "metadata": {},
   "outputs": [],
   "source": [
    "# Save\n",
    "model.save('./Modelos/EGG_prac1_ANN_model3.h5') # Change the name in each model"
   ]
  },
  {
   "cell_type": "code",
   "execution_count": 34,
   "metadata": {},
   "outputs": [
    {
     "data": {
      "text/plain": [
       "\"\\nnew_model = keras.models.load_model('./Modelos/EGG_prac1_ANN_model3.h5')\\n\\nimport numpy as np\\n\\n# Verify state\\nnew_predictions = new_model.predict(X_dev)\\nnp.testing.assert_allclose(predictions, new_predictions, rtol=1e-6, atol=1e-6)\\n\\n# Note that the optimizer state is also preserved:\\n# you can resume training where you left off.\\n\""
      ]
     },
     "execution_count": 34,
     "metadata": {},
     "output_type": "execute_result"
    }
   ],
   "source": [
    "# Extract\n",
    "\"\"\"\n",
    "new_model = keras.models.load_model('./Modelos/EGG_prac1_ANN_model3.h5')\n",
    "\n",
    "import numpy as np\n",
    "\n",
    "# Verify state\n",
    "new_predictions = new_model.predict(X_dev)\n",
    "np.testing.assert_allclose(predictions, new_predictions, rtol=1e-6, atol=1e-6)\n",
    "\n",
    "# Note that the optimizer state is also preserved:\n",
    "# you can resume training where you left off.\n",
    "\"\"\""
   ]
  },
  {
   "cell_type": "markdown",
   "metadata": {},
   "source": [
    "### 10 - Final Test\n",
    "\n",
    "#### 10.1 - Load the final test set"
   ]
  },
  {
   "cell_type": "code",
   "execution_count": 35,
   "metadata": {},
   "outputs": [],
   "source": [
    "\n",
    "\"\"\"\n",
    "from sklearn.pipeline import make_pipeline\n",
    "from sklearn.preprocessing import StandardScaler, OneHotEncoder\n",
    "from sklearn.linear_model import Perceptron\n",
    "\n",
    "total_records = 4 # CAMBIAR SI HAY MAS REGISTROS\n",
    "\n",
    "task1 = 122 # SE PUEDE CAMBIAR\n",
    "task2 = 123 # SE PUEDE CAMBIAR\n",
    "task3 = 127 # SE PUEDE CAMBIAR\n",
    "users = [\"0091\"] # SE PUEDE CAMBIAR\n",
    "\"\"\""
   ]
  },
  {
   "cell_type": "code",
   "execution_count": 36,
   "metadata": {},
   "outputs": [],
   "source": [
    "\"\"\"\n",
    "def readRegisterAndReturnXy(user, total_records, task1, task2, task3 = \"\"):\n",
    "    lTaskData = []\n",
    "    for i_rec in range(1,total_records+1):\n",
    "            record = \"userS\"+user+\"f\"+str(i_rec)+\".mat\"\n",
    "            output = read_outputs(record) # output.task será y, output.data será x\n",
    "\n",
    "            if task3 != \"\":\n",
    "                outT = (output.task == task1) | (output.task == task2) | (output.task == task3) \n",
    "            else: \n",
    "                outT = (output.task == task1) | (output.task == task2)\n",
    "            outData = output.data[outT[:,0],0:np.shape(output.data)[1]]\n",
    "\n",
    "            outTask = output.task[outT[:,0]]\n",
    "            outTD = OutTaskData(outTask, outData)\n",
    "            lTaskData.append(outTD)\n",
    "\n",
    "    X_test, y_test = [],[]\n",
    "    for j in range(0,total_records):\n",
    "        X_test.extend(lTaskData[j].data)\n",
    "        y_test.extend(lTaskData[j].task)\n",
    "\n",
    "    X_test = np.array(X_test)\n",
    "    y_test = np.ravel(np.array(y_test))\n",
    "\n",
    "    print (\"X_test:\",X_test.shape)\n",
    "    print (\"y_test:\",y_test.shape)\n",
    "\n",
    "    # ONE HOT ENCODER\n",
    "    encoder = make_pipeline(StandardScaler(), OneHotEncoder(categories=\"auto\", sparse=False)) # Function that one-hot encodes integers))\n",
    "    y_test = encoder.fit_transform (y_test.reshape(-1,1)) # y_one_hot\n",
    "\n",
    "    print(\"ONE HOT ENCODER:\")\n",
    "    print (\"X_test:\",X_test.shape)\n",
    "    print (\"y_test:\",y_test.shape)\n",
    "    \n",
    "    return X_test, y_test\n",
    "\"\"\""
   ]
  },
  {
   "cell_type": "code",
   "execution_count": null,
   "metadata": {},
   "outputs": [],
   "source": []
  },
  {
   "cell_type": "code",
   "execution_count": 37,
   "metadata": {},
   "outputs": [
    {
     "data": {
      "text/plain": [
       "'\\nn_final_test = n_instances-n_train-n_dev\\n\\nx_final_test = attributes.values[n_train+n_dev:n_instances]\\nt_final_test = label.values[n_train+n_dev:n_instances]\\n\\nprint (\"x_test:\",x_final_test.shape)\\nprint (\"t_test:\",t_final_test.shape)\\n\\n\\n'"
      ]
     },
     "execution_count": 37,
     "metadata": {},
     "output_type": "execute_result"
    }
   ],
   "source": [
    "\"\"\"\n",
    "n_final_test = n_instances-n_train-n_dev\n",
    "\n",
    "x_final_test = attributes.values[n_train+n_dev:n_instances]\n",
    "t_final_test = label.values[n_train+n_dev:n_instances]\n",
    "\n",
    "print (\"x_test:\",x_final_test.shape)\n",
    "print (\"t_test:\",t_final_test.shape)\n",
    "\n",
    "\n",
    "\"\"\""
   ]
  },
  {
   "cell_type": "markdown",
   "metadata": {},
   "source": [
    "#### 10.2 - Evaluate the model"
   ]
  },
  {
   "cell_type": "code",
   "execution_count": 37,
   "metadata": {},
   "outputs": [],
   "source": [
    "from collections import Counter\n",
    "def predictWithModel(model, X_test, y_test, task1, task2, task3=\"\"):\n",
    "    model.evaluate(X_test, y_test)\n",
    "    test_predictions = model.predict(X_test)\n",
    "    test_rounded_predictions=np.round(test_predictions)\n",
    "    indices = np.argmax(test_predictions,1)\n",
    "    for row, index in zip(test_rounded_predictions, indices): row[index]=1\n",
    "    print(test_rounded_predictions[:20])\n",
    "    \n",
    "    # ACCURACY:\n",
    "    test_correct_predictions = np.equal(np.argmax(test_rounded_predictions,1),np.argmax(y_test,1))\n",
    "    print()\n",
    "    print(test_correct_predictions)\n",
    "    print(type(test_correct_predictions))\n",
    "    final_test_prediction_results=Counter(test_correct_predictions)\n",
    "    \n",
    "    success = np.mean(test_rounded_predictions == y_test)*100\n",
    "    \n",
    "    return final_test_prediction_results, success"
   ]
  },
  {
   "cell_type": "code",
   "execution_count": 38,
   "metadata": {},
   "outputs": [
    {
     "name": "stdout",
     "output_type": "stream",
     "text": [
      "USER: 0091\n",
      "29/29 [==============================] - 0s 1ms/step - loss: 1.5197 - categorical_accuracy: 0.6156\n",
      "[[0. 1. 0.]\n",
      " [0. 1. 0.]\n",
      " [0. 1. 0.]\n",
      " [0. 1. 0.]\n",
      " [0. 1. 0.]\n",
      " [0. 1. 0.]\n",
      " [0. 1. 0.]\n",
      " [1. 0. 0.]\n",
      " [1. 0. 0.]\n",
      " [1. 0. 0.]\n",
      " [0. 1. 0.]\n",
      " [0. 1. 0.]\n",
      " [0. 1. 0.]\n",
      " [0. 1. 0.]\n",
      " [0. 1. 0.]\n",
      " [0. 0. 1.]\n",
      " [0. 1. 0.]\n",
      " [0. 1. 0.]\n",
      " [0. 1. 0.]\n",
      " [0. 1. 0.]]\n",
      "\n",
      "[ True  True  True  True  True  True  True False False False  True  True\n",
      "  True  True  True False  True  True  True  True  True  True False False\n",
      "  True False False False  True  True  True  True  True  True  True  True\n",
      "  True False False False  True  True  True False  True False False  True\n",
      "  True False False False  True  True  True  True False False False False\n",
      "  True  True  True  True  True  True  True False False  True  True False\n",
      " False False False  True  True  True  True False False False False False\n",
      " False False False  True False False  True False False  True False  True\n",
      "  True  True  True  True False False False False  True  True False  True\n",
      "  True False False  True  True  True  True False False  True  True False\n",
      " False False  True  True  True  True False False  True  True False False\n",
      "  True False  True  True False  True  True  True False  True False False\n",
      " False  True False  True False False False False False  True False  True\n",
      " False  True  True False False False False False False False False False\n",
      " False False  True  True  True  True  True False False False False False\n",
      "  True False False  True  True  True  True  True  True  True False False\n",
      " False False  True  True  True  True  True  True  True  True  True  True\n",
      "  True  True  True  True  True  True  True  True  True  True  True  True\n",
      "  True  True  True  True  True  True  True  True  True  True  True  True\n",
      "  True  True  True  True  True  True  True  True  True False False False\n",
      " False False  True  True  True  True False False False False False False\n",
      " False False  True  True  True  True  True  True  True  True  True  True\n",
      "  True  True  True  True  True  True  True  True  True  True  True  True\n",
      "  True  True  True  True  True  True  True  True False False  True  True\n",
      "  True  True  True  True  True  True  True  True  True False False False\n",
      " False False False  True  True False  True  True  True  True  True  True\n",
      "  True  True  True  True  True  True False  True  True  True  True  True\n",
      "  True  True False  True False  True  True  True  True  True  True  True\n",
      "  True  True False  True  True  True  True  True  True  True  True  True\n",
      " False False False  True False  True  True  True  True  True  True False\n",
      "  True False False  True False  True  True  True  True  True  True  True\n",
      "  True  True  True  True False False False False False False  True  True\n",
      "  True  True  True  True  True False False  True False  True  True False\n",
      " False False  True  True  True  True  True  True False False False False\n",
      " False False False False  True False  True  True False False  True False\n",
      " False False False False  True False  True False  True  True  True  True\n",
      "  True False  True  True  True False  True False False False False False\n",
      "  True  True  True  True  True  True  True False  True False False False\n",
      " False False False False False False  True  True  True False False False\n",
      " False False False False False False False False  True False False False\n",
      " False False False False False False False False False False False False\n",
      " False False False False False False  True False False  True  True  True\n",
      "  True  True False False False False False False False False False  True\n",
      " False False False  True False False False  True  True  True  True  True\n",
      " False  True False False  True  True  True  True  True  True False  True\n",
      "  True  True  True  True  True  True  True  True  True  True  True  True\n",
      "  True  True  True  True  True  True  True  True  True  True  True  True\n",
      "  True  True  True  True  True  True  True  True  True  True  True  True\n",
      "  True  True  True  True  True  True  True  True  True  True  True  True\n",
      "  True  True  True  True  True  True  True  True  True  True  True  True\n",
      "  True  True  True  True  True  True False False False  True False  True\n",
      "  True False  True  True  True False False  True False False False  True\n",
      "  True  True False False False False  True  True False False False False\n",
      " False False False  True  True  True False False False False  True  True\n",
      "  True False False False False  True  True  True  True  True  True  True\n",
      " False  True False False  True  True  True  True  True  True False False\n",
      "  True False False  True  True  True  True  True False False False  True\n",
      "  True  True  True  True  True False False False False False False False\n",
      " False False  True False False False  True False  True False False  True\n",
      " False  True  True  True False False False False False False False  True\n",
      " False  True  True  True  True  True  True False False  True  True  True\n",
      "  True  True  True False False  True False  True  True  True  True  True\n",
      " False False  True False False  True False  True  True  True False False\n",
      " False False False False False False False False False False  True  True\n",
      "  True False False  True False  True  True  True  True  True  True  True\n",
      "  True  True  True  True  True  True  True  True  True  True  True  True\n",
      "  True  True  True  True  True  True  True  True  True  True  True  True\n",
      "  True False  True False False False False False  True  True  True  True\n",
      "  True  True  True  True  True  True  True  True  True  True False  True\n",
      "  True  True  True  True  True  True  True  True  True  True  True  True\n",
      "  True  True  True  True False False False  True  True  True  True  True\n",
      "  True  True  True  True  True  True  True  True  True  True  True  True\n",
      "  True  True  True  True  True  True False  True  True  True  True  True\n",
      "  True  True False False  True  True  True  True  True  True False  True\n",
      " False False False False False False False False False False False False\n",
      " False False False False False False False False]\n",
      "<class 'numpy.ndarray'>\n",
      "0091 Counter({True: 559, False: 349}) 74.37591776798826\n",
      "\n"
     ]
    }
   ],
   "source": [
    "users = [\"0091\"]\n",
    "for u in users:   \n",
    "    print(\"USER:\", u)\n",
    "    #X_test, y_test = readRegisterAndReturnXy(u, total_records, 122, 123, 127)\n",
    "    accuracy, success = predictWithModel(model, X_test, y_test, 122, 123, 127)\n",
    "    print(u, accuracy, success)\n",
    "    print()"
   ]
  },
  {
   "cell_type": "code",
   "execution_count": 40,
   "metadata": {},
   "outputs": [],
   "source": [
    "#model.evaluate(x_final_test, t_final_test) # Un 77 es un accuracy bajo "
   ]
  },
  {
   "cell_type": "markdown",
   "metadata": {},
   "source": [
    "The outputs computed by the neural network for the final testing dataset."
   ]
  },
  {
   "cell_type": "code",
   "execution_count": 41,
   "metadata": {},
   "outputs": [
    {
     "data": {
      "text/plain": [
       "'\\ntest_predictions=model.predict(x_final_test)\\ntest_rounded_predictions=np.round(test_predictions)\\nindices = np.argmax(test_predictions,1)\\nfor row, index in zip(test_rounded_predictions, indices): row[index]=1\\ntest_rounded_predictions[:20]\\n'"
      ]
     },
     "execution_count": 41,
     "metadata": {},
     "output_type": "execute_result"
    }
   ],
   "source": [
    "\"\"\"\n",
    "test_predictions=model.predict(x_final_test)\n",
    "test_rounded_predictions=np.round(test_predictions)\n",
    "indices = np.argmax(test_predictions,1)\n",
    "for row, index in zip(test_rounded_predictions, indices): row[index]=1\n",
    "test_rounded_predictions[:20]\n",
    "\"\"\""
   ]
  },
  {
   "cell_type": "markdown",
   "metadata": {},
   "source": [
    "The target outputs."
   ]
  },
  {
   "cell_type": "code",
   "execution_count": 42,
   "metadata": {},
   "outputs": [],
   "source": [
    "# t_final_test[:20]"
   ]
  },
  {
   "cell_type": "markdown",
   "metadata": {},
   "source": [
    "The first 30 predictions. True means that the neural network correctly classifies the input vector."
   ]
  },
  {
   "cell_type": "code",
   "execution_count": 43,
   "metadata": {},
   "outputs": [],
   "source": [
    "# test_correct_predictions = np.equal(np.argmax(test_rounded_predictions,1),np.argmax(t_final_test,1))\n",
    "# test_correct_predictions[:30]"
   ]
  },
  {
   "cell_type": "markdown",
   "metadata": {},
   "source": [
    "#### The final test accuracy."
   ]
  },
  {
   "cell_type": "code",
   "execution_count": 44,
   "metadata": {},
   "outputs": [
    {
     "data": {
      "text/plain": [
       "'from collections import Counter\\nfinal_test_prediction_results=Counter(test_correct_predictions)\\nfinal_test_prediction_results'"
      ]
     },
     "execution_count": 44,
     "metadata": {},
     "output_type": "execute_result"
    }
   ],
   "source": [
    "\"\"\"from collections import Counter\n",
    "final_test_prediction_results=Counter(test_correct_predictions)\n",
    "final_test_prediction_results\"\"\""
   ]
  },
  {
   "cell_type": "code",
   "execution_count": 45,
   "metadata": {},
   "outputs": [],
   "source": [
    "#final_test_prediction_results[True]/sum(final_test_prediction_results.values())"
   ]
  },
  {
   "cell_type": "code",
   "execution_count": null,
   "metadata": {},
   "outputs": [],
   "source": []
  }
 ],
 "metadata": {
  "kernelspec": {
   "display_name": "Python 3",
   "language": "python",
   "name": "python3"
  },
  "language_info": {
   "codemirror_mode": {
    "name": "ipython",
    "version": 3
   },
   "file_extension": ".py",
   "mimetype": "text/x-python",
   "name": "python",
   "nbconvert_exporter": "python",
   "pygments_lexer": "ipython3",
   "version": "3.8.5"
  }
 },
 "nbformat": 4,
 "nbformat_minor": 4
}
