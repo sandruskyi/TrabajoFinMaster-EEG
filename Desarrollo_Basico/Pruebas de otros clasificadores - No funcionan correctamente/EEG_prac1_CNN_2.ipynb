{
 "cells": [
  {
   "cell_type": "markdown",
   "metadata": {},
   "source": [
    "# Parte 4: Clasificación con CNN"
   ]
  },
  {
   "cell_type": "markdown",
   "metadata": {},
   "source": [
    "### A VER, yo lo que haría es coger y para las redes neuronales en el preprocesamiento no las convertiría a un solo array si no que lo dejaría como una matriz separada con cada fila para cada electrón o algo así, esto es un poco raro pero así podemos mantener la propiedad espacial para que se tenga en cuenta por la LSTM, la CNN, y la CapsNet"
   ]
  },
  {
   "cell_type": "markdown",
   "metadata": {},
   "source": [
    "Resultados:\n",
    "\n",
    "    loss       accuracy     val_loss    val_accuracy\n",
    "    0.055275\t1.0\t        3.147108\t0.626078\n",
    "    \n",
    "Por tanto: \n",
    "\n",
    "    E = 1 - Accuracy\n",
    "    Etrain = 1 - 1 = 0\n",
    "    Etest = 1 - 0.626078 = 0.373922\n",
    "    \n",
    "    Bias = Etrain - Ehuman = 0\n",
    "    Variance = Etest - Etrain = 0.373922\n",
    "\n",
    "Observamos que el bias es bajo pero la varianza es alta (37%), es decir, no generaliza bien. Por tanto, vamos a probar cambiando la arquitectura, regularizando..."
   ]
  },
  {
   "cell_type": "markdown",
   "metadata": {},
   "source": [
    "### 1 - Import Libraries"
   ]
  },
  {
   "cell_type": "code",
   "execution_count": 1,
   "metadata": {},
   "outputs": [],
   "source": [
    "# Tensorflow and tf.keras\n",
    "import tensorflow as tf\n",
    "from tensorflow import keras\n",
    "\n",
    "#Helper libraries\n",
    "import matplotlib.pyplot as plt\n",
    "import pandas as pd\n",
    "import numpy as np\n"
   ]
  },
  {
   "cell_type": "markdown",
   "metadata": {},
   "source": [
    "### 2 - Load data"
   ]
  },
  {
   "cell_type": "code",
   "execution_count": 2,
   "metadata": {},
   "outputs": [],
   "source": [
    "class ROutput:\n",
    "    def __init__(self, task, data):\n",
    "        self.task = task\n",
    "        self.data = data\n",
    "        \n",
    "class OutTaskData: \n",
    "    def __init__(self, task, data): \n",
    "        self.task = task\n",
    "        self.data = data"
   ]
  },
  {
   "cell_type": "code",
   "execution_count": 3,
   "metadata": {},
   "outputs": [],
   "source": [
    "import scipy.io as sio\n",
    "# Primero leemos los registros\n",
    "def read_outputs(rec):\n",
    "    '''read_outputs(\"userS0091f1.mat\")'''\n",
    "    mat = sio.loadmat(rec)\n",
    "    #mdata = mat['output']\n",
    "    #val = mdata[0,0]\n",
    "    #output = ROutput(np.array(val[\"task\"]), np.array(val[\"data\"]))\n",
    "    output = ROutput(np.array(mat[\"task\"]), np.array(mat[\"data\"]))\n",
    "    return output"
   ]
  },
  {
   "cell_type": "code",
   "execution_count": 4,
   "metadata": {},
   "outputs": [
    {
     "name": "stdout",
     "output_type": "stream",
     "text": [
      "X_train: (1837, 96)\n",
      "y_train: (1837,)\n",
      "X_dev: (928, 96)\n",
      "y_dev: (928,)\n",
      "ONE HOT ENCODER:\n",
      "X_train: (1837, 96)\n",
      "y_train: (1837, 3)\n",
      "X_dev: (928, 96)\n",
      "y_dev: (928, 3)\n",
      "\n",
      "X_test: (908, 96)\n",
      "y_test: (908,)\n",
      "ONE HOT ENCODER:\n",
      "X_test: (908, 96)\n",
      "y_test: (908, 3)\n"
     ]
    }
   ],
   "source": [
    "from sklearn.pipeline import make_pipeline\n",
    "from sklearn.preprocessing import StandardScaler, OneHotEncoder\n",
    "from sklearn.linear_model import Perceptron\n",
    "\n",
    "total_records = 4 # CAMBIAR SI HAY MAS REGISTROS\n",
    "\n",
    "task1 = 122 # SE PUEDE CAMBIAR\n",
    "task2 = 123 # SE PUEDE CAMBIAR\n",
    "task3 = 127 # SE PUEDE CAMBIAR\n",
    "user = '0091' # SE PUEDE CAMBIAR\n",
    "\n",
    "lTaskData = []\n",
    "for i_rec in range(1,total_records+1):\n",
    "        record = \"userS\"+user+\"f\"+str(i_rec)+\".mat\"\n",
    "        output = read_outputs(record) # output.task será y, output.data será x\n",
    "        \n",
    "        if task3 != \"\":\n",
    "            outT = (output.task == task1) | (output.task == task2) | (output.task == task3) \n",
    "        else: \n",
    "            outT = (output.task == task1) | (output.task == task2)\n",
    "        outData = output.data[outT[:,0],0:np.shape(output.data)[1]]\n",
    "        \n",
    "        outTask = output.task[outT[:,0]]\n",
    "        outTD = OutTaskData(outTask, outData)\n",
    "        lTaskData.append(outTD)\n",
    "\n",
    "# Vamos a coger 2 registros para el entrenamiento, 1 para el conjunto dev set, 1 para el test set\n",
    "X_train, y_train, X_dev, y_dev = [],[],[],[] \n",
    "for j in range(0,total_records-2): # Cogemos 2 registros para entrenamiento\n",
    "    X_train.extend(lTaskData[j].data)\n",
    "    y_train.extend(lTaskData[j].task)\n",
    "    \n",
    "X_dev.extend(lTaskData[total_records-2].data) # Cogemos un registro para el dev set\n",
    "y_dev.extend(lTaskData[total_records-2].task)\n",
    "\n",
    "X_train = np.array(X_train)\n",
    "y_train = np.ravel(np.array(y_train))\n",
    "X_dev = np.array(X_dev)\n",
    "y_dev = np.ravel(np.array(y_dev))\n",
    "\n",
    "print (\"X_train:\",X_train.shape)\n",
    "print (\"y_train:\",y_train.shape)\n",
    "\n",
    "print (\"X_dev:\",X_dev.shape)\n",
    "print (\"y_dev:\",y_dev.shape)\n",
    "\n",
    "# ONE HOT ENCODER\n",
    "encoder = make_pipeline(StandardScaler(), OneHotEncoder(categories=\"auto\", sparse=False)) # Function that one-hot encodes integers))\n",
    "y_one_hot = np.concatenate((y_train, y_dev), axis=0)\n",
    "y_one_hot = encoder.fit_transform (y_one_hot.reshape(-1,1))\n",
    "y_train = y_one_hot[:np.shape(y_train)[0]]\n",
    "y_dev = y_one_hot[np.shape(y_train)[0]:]\n",
    "\n",
    "print(\"ONE HOT ENCODER:\")\n",
    "print (\"X_train:\",X_train.shape)\n",
    "print (\"y_train:\",y_train.shape)\n",
    "\n",
    "print (\"X_dev:\",X_dev.shape)\n",
    "print (\"y_dev:\",y_dev.shape)\n",
    "\n",
    "\n",
    "X_test, y_test = [],[]\n",
    "X_test.extend(lTaskData[total_records-1].data) # Cogemos un registro para el test set\n",
    "y_test.extend(lTaskData[total_records-1].task)\n",
    "\n",
    "\n",
    "X_test = np.array(X_test)\n",
    "y_test = np.ravel(np.array(y_test))\n",
    "print()\n",
    "print (\"X_test:\",X_test.shape)\n",
    "print (\"y_test:\",y_test.shape)\n",
    "\n",
    "# ONE HOT ENCODER\n",
    "encoder = make_pipeline(StandardScaler(), OneHotEncoder(categories=\"auto\", sparse=False)) # Function that one-hot encodes integers))\n",
    "y_test = encoder.fit_transform (y_test.reshape(-1,1)) # y_one_hot\n",
    "\n",
    "print(\"ONE HOT ENCODER:\")\n",
    "print (\"X_test:\",X_test.shape)\n",
    "print (\"y_test:\",y_test.shape)\n",
    "    "
   ]
  },
  {
   "cell_type": "markdown",
   "metadata": {},
   "source": [
    "### 3. Initialize variables"
   ]
  },
  {
   "cell_type": "code",
   "execution_count": 5,
   "metadata": {},
   "outputs": [],
   "source": [
    "INPUTS = X_train.shape[1]\n",
    "OUTPUTS = y_train.shape[1]\n",
    "NUM_TRAINING_EXAMPLES = int(round(X_train.shape[0]/1))\n",
    "NUM_DEV_EXAMPLES = int(round(y_train.shape[0]/1))"
   ]
  },
  {
   "cell_type": "markdown",
   "metadata": {},
   "source": [
    "Some data is displayed to test correctness:"
   ]
  },
  {
   "cell_type": "code",
   "execution_count": 6,
   "metadata": {},
   "outputs": [
    {
     "data": {
      "text/plain": [
       "array([[0.04408895, 0.12253977, 0.04091295, 0.08794782, 0.15217319,\n",
       "        0.13608194, 0.2390196 , 0.13782482, 0.09390321, 0.04168143,\n",
       "        0.01182343, 0.06681896, 0.22746509, 0.19109141, 0.12382088,\n",
       "        0.16280571, 0.18183189, 0.03489224, 0.08915041, 0.25065591,\n",
       "        0.05125344, 0.00878363, 0.06399049, 0.01269724, 0.37617251,\n",
       "        0.75052793, 1.22515657, 0.34716337, 0.57574146, 0.22845317,\n",
       "        0.29124432, 1.55810067, 0.17399072, 0.23187383, 0.09419699,\n",
       "        0.06491878, 0.21030758, 0.11561159, 0.00684065, 0.05363316,\n",
       "        0.14742724, 0.20516924, 0.16582891, 0.39129693, 0.01763402,\n",
       "        0.05230747, 0.08436656, 0.05071257, 0.56726584, 0.21727165,\n",
       "        0.5006733 , 0.09225466, 0.35750867, 0.43229655, 0.32666971,\n",
       "        1.18042048, 0.04529925, 0.07339755, 0.12920241, 0.0228346 ,\n",
       "        0.65176526, 0.09837585, 0.10240039, 0.35185881, 0.26348807,\n",
       "        1.00112018, 0.61259061, 0.26154294, 0.2272173 , 0.11858029,\n",
       "        0.23408875, 0.139735  , 0.43931357, 0.19606534, 0.3423301 ,\n",
       "        0.20553008, 0.20098905, 0.82008234, 0.62822584, 0.94280445,\n",
       "        0.04047953, 0.10667195, 0.38191247, 0.0221351 , 1.05885478,\n",
       "        0.25730097, 1.17149903, 0.26299745, 1.04678832, 1.15644962,\n",
       "        0.64182321, 2.21889125, 0.1053754 , 0.21710049, 0.26047368,\n",
       "        0.00763339],\n",
       "       [0.25614385, 0.11434304, 0.09704763, 0.12930055, 0.10325959,\n",
       "        0.17334683, 0.11210197, 0.2400284 , 0.14283333, 0.03428331,\n",
       "        0.07158812, 0.07203347, 0.22375232, 0.36486422, 0.17576219,\n",
       "        0.15833472, 0.13809519, 0.10031034, 0.1987901 , 0.1494691 ,\n",
       "        0.04461008, 0.08606801, 0.05994687, 0.00496308, 0.68981468,\n",
       "        2.11749857, 0.56421373, 0.69721613, 0.39311556, 0.09554919,\n",
       "        0.40230398, 1.52805991, 0.40928194, 0.1601251 , 0.19379433,\n",
       "        0.26915934, 0.16165675, 0.38655402, 0.15613903, 0.04191729,\n",
       "        0.31624166, 0.20830202, 0.17092605, 0.41356597, 0.10719866,\n",
       "        0.0196003 , 0.08866613, 0.06604445, 0.66263549, 0.72926018,\n",
       "        0.25159467, 0.07896124, 0.55144543, 0.37116024, 0.34077516,\n",
       "        1.05096592, 0.17836778, 0.06185184, 0.13877811, 0.07866164,\n",
       "        0.73574091, 0.28880381, 0.76244386, 0.24362064, 0.53973354,\n",
       "        0.28090292, 0.27290916, 0.88335251, 0.67060588, 0.14599621,\n",
       "        0.14064383, 0.1838806 , 0.78282066, 0.22756521, 0.50404829,\n",
       "        0.04612402, 0.40603123, 0.4138907 , 0.27052279, 1.00173509,\n",
       "        0.20686331, 0.19427597, 0.17036176, 0.08091241, 0.80175765,\n",
       "        1.11496094, 0.9566485 , 0.62666789, 1.08102342, 0.58081672,\n",
       "        0.61318425, 2.01667481, 0.5161613 , 0.20922824, 0.22014662,\n",
       "        0.12746923]])"
      ]
     },
     "execution_count": 6,
     "metadata": {},
     "output_type": "execute_result"
    }
   ],
   "source": [
    "X_train[:2]"
   ]
  },
  {
   "cell_type": "code",
   "execution_count": 7,
   "metadata": {},
   "outputs": [
    {
     "data": {
      "text/plain": [
       "array([[0.31977337, 0.34138627, 0.05036713, 0.01260456, 0.0353549 ,\n",
       "        0.1185597 , 0.0467738 , 0.02048903, 0.11750225, 0.18469527,\n",
       "        0.07158117, 0.04380819, 0.12918097, 0.15723066, 0.02486799,\n",
       "        0.03569243, 0.13103253, 0.06666701, 0.12041935, 0.114042  ,\n",
       "        0.01127984, 0.00650994, 0.05578655, 0.03110349, 1.27905692,\n",
       "        0.72867136, 0.16631234, 0.39783501, 0.3504427 , 0.14931918,\n",
       "        0.27219299, 0.119918  , 0.26639091, 0.05500265, 0.22028407,\n",
       "        0.02976071, 0.49903653, 0.47147668, 0.21772425, 0.09625628,\n",
       "        0.07949809, 0.07850754, 0.11222314, 0.0312656 , 0.0638701 ,\n",
       "        0.01024857, 0.20098298, 0.12413927, 0.7959434 , 0.33244281,\n",
       "        0.10382577, 0.36052956, 0.10868066, 0.25468323, 0.25108932,\n",
       "        0.10744763, 0.22111074, 0.06949752, 0.22837273, 0.09663771,\n",
       "        2.78278246, 0.95993224, 0.68951591, 0.5680906 , 0.29189192,\n",
       "        0.02141107, 0.20762499, 0.11463274, 0.26281785, 0.02967406,\n",
       "        0.25185108, 0.18281109, 1.13036793, 0.2263472 , 0.13017172,\n",
       "        0.65770249, 0.02616668, 0.24092069, 0.32072114, 0.07664907,\n",
       "        0.1340456 , 0.03319424, 0.47304975, 0.12615251, 1.81630692,\n",
       "        0.8658447 , 0.28004264, 0.81422947, 0.44444803, 0.58299889,\n",
       "        0.53225855, 0.02804132, 0.24612086, 0.06936946, 0.33829746,\n",
       "        0.13256552],\n",
       "       [0.95493369, 0.44725264, 0.26898695, 0.20824942, 0.16498475,\n",
       "        0.05828876, 0.05624718, 0.14432756, 0.10156625, 0.0362658 ,\n",
       "        0.08495425, 0.03697369, 0.07997662, 0.49728347, 0.29287849,\n",
       "        0.01815478, 0.0657682 , 0.04250249, 0.08700553, 0.01843603,\n",
       "        0.16449991, 0.03012028, 0.09461448, 0.01533982, 0.10464233,\n",
       "        0.35209807, 0.08013901, 0.10184792, 0.42312165, 0.13968054,\n",
       "        0.24630269, 0.07917993, 0.13188859, 0.01878021, 0.2557863 ,\n",
       "        0.17313746, 0.31098319, 0.47391564, 0.20892361, 0.03579049,\n",
       "        0.22166238, 0.0272647 , 0.12673812, 0.03225273, 0.06102613,\n",
       "        0.04163716, 0.16973663, 0.12873579, 0.2484161 , 0.5978957 ,\n",
       "        0.0450607 , 0.09446569, 0.35563395, 0.12471629, 0.29785772,\n",
       "        0.08245274, 0.17610429, 0.06224233, 0.15020115, 0.08861565,\n",
       "        1.05836675, 0.71874971, 0.5403778 , 0.11634195, 0.86785822,\n",
       "        0.18710009, 0.1382164 , 0.07709808, 0.27199143, 0.04546532,\n",
       "        0.29761591, 0.19969708, 0.80645353, 0.42385922, 0.08693222,\n",
       "        0.06329094, 0.75403327, 0.10150384, 0.31976622, 0.13802316,\n",
       "        0.20935415, 0.11158722, 0.40086858, 0.11432403, 0.82946612,\n",
       "        0.78074114, 0.08447815, 0.22689132, 1.46239973, 0.25941224,\n",
       "        0.80793318, 0.04428517, 0.21355531, 0.14181853, 0.42804685,\n",
       "        0.15215655]])"
      ]
     },
     "execution_count": 7,
     "metadata": {},
     "output_type": "execute_result"
    }
   ],
   "source": [
    "X_dev[:2]"
   ]
  },
  {
   "cell_type": "code",
   "execution_count": 8,
   "metadata": {},
   "outputs": [
    {
     "data": {
      "text/plain": [
       "array([[0., 0., 1.],\n",
       "       [0., 0., 1.]])"
      ]
     },
     "execution_count": 8,
     "metadata": {},
     "output_type": "execute_result"
    }
   ],
   "source": [
    "y_train[:2]"
   ]
  },
  {
   "cell_type": "code",
   "execution_count": 9,
   "metadata": {},
   "outputs": [
    {
     "data": {
      "text/plain": [
       "array([[0., 1., 0.],\n",
       "       [0., 1., 0.]])"
      ]
     },
     "execution_count": 9,
     "metadata": {},
     "output_type": "execute_result"
    }
   ],
   "source": [
    "y_dev[:2]"
   ]
  },
  {
   "cell_type": "code",
   "execution_count": 10,
   "metadata": {},
   "outputs": [
    {
     "data": {
      "text/plain": [
       "(96,)"
      ]
     },
     "execution_count": 10,
     "metadata": {},
     "output_type": "execute_result"
    }
   ],
   "source": [
    "X_dev[0].shape"
   ]
  },
  {
   "cell_type": "code",
   "execution_count": 11,
   "metadata": {},
   "outputs": [
    {
     "data": {
      "text/plain": [
       "(928, 96)"
      ]
     },
     "execution_count": 11,
     "metadata": {},
     "output_type": "execute_result"
    }
   ],
   "source": [
    "X_dev.shape"
   ]
  },
  {
   "cell_type": "code",
   "execution_count": 12,
   "metadata": {},
   "outputs": [
    {
     "data": {
      "text/plain": [
       "(1837, 96)"
      ]
     },
     "execution_count": 12,
     "metadata": {},
     "output_type": "execute_result"
    }
   ],
   "source": [
    "X_train.shape"
   ]
  },
  {
   "cell_type": "code",
   "execution_count": null,
   "metadata": {},
   "outputs": [],
   "source": []
  },
  {
   "cell_type": "code",
   "execution_count": 13,
   "metadata": {},
   "outputs": [
    {
     "name": "stdout",
     "output_type": "stream",
     "text": [
      "(1837, 96)\n",
      "(928, 96)\n",
      "(908, 96)\n",
      "\n",
      "(1837, 8, 12)\n",
      "(928, 8, 12)\n",
      "(908, 8, 12)\n"
     ]
    }
   ],
   "source": [
    "# Change X to a matrix: \n",
    "\n",
    "electrodes_name = [\"C3\", \"Cz\", \"C4\", \"CP1\", \"CP2\", \"P3\", \"Pz\", \"P4\"]\n",
    "\n",
    "print(X_train.shape)\n",
    "print(X_dev.shape)\n",
    "print(X_test.shape)\n",
    "print()\n",
    "\n",
    "X_train_new = []\n",
    "for x in X_train: \n",
    "    X_train_new.append(x.reshape(len(electrodes_name), int(len(X_train[0])/len(electrodes_name)) )) ## Quiero hacer un miarray.reshape(numfilas, numcolumnas) en este caso numfilas = len(electrodes_name)\n",
    "    # y numcolumnas = int(len(X_dev[0])/len(electrodes_name))\n",
    "    # Asi puedo usarlo todo con distribución espacial :-) \n",
    "    \n",
    "\"\"\"\n",
    "for x in X_train_new: \n",
    "    print(np.shape(x))\n",
    "    print(x)\n",
    "\"\"\"\n",
    "X_train_new = np.asarray(X_train_new)\n",
    "X_train = X_train_new\n",
    "\n",
    "X_dev_new = []\n",
    "for x in X_dev: \n",
    "    X_dev_new.append(x.reshape(len(electrodes_name), int(len(X_dev[0])/len(electrodes_name)) )) \n",
    "X_dev_new = np.asarray(X_dev_new)\n",
    "X_dev = X_dev_new\n",
    "\n",
    "X_test_new = []\n",
    "for x in X_test: \n",
    "    X_test_new.append(x.reshape(len(electrodes_name), int(len(X_test[0])/len(electrodes_name)) ))\n",
    "X_test_new = np.asarray(X_test_new)\n",
    "X_test = X_test_new\n",
    "\n",
    "\n",
    "print(X_train.shape)\n",
    "print(X_dev.shape)\n",
    "print(X_test.shape)"
   ]
  },
  {
   "cell_type": "code",
   "execution_count": 14,
   "metadata": {},
   "outputs": [
    {
     "data": {
      "text/plain": [
       "array([[[4.40889459e-02, 1.22539767e-01, 4.09129528e-02, ...,\n",
       "         4.16814331e-02, 1.18234270e-02, 6.68189584e-02],\n",
       "        [2.27465092e-01, 1.91091408e-01, 1.23820880e-01, ...,\n",
       "         8.78363164e-03, 6.39904876e-02, 1.26972450e-02],\n",
       "        [3.76172510e-01, 7.50527927e-01, 1.22515657e+00, ...,\n",
       "         2.31873828e-01, 9.41969885e-02, 6.49187838e-02],\n",
       "        ...,\n",
       "        [6.51765257e-01, 9.83758470e-02, 1.02400394e-01, ...,\n",
       "         1.18580288e-01, 2.34088748e-01, 1.39735002e-01],\n",
       "        [4.39313566e-01, 1.96065341e-01, 3.42330098e-01, ...,\n",
       "         1.06671951e-01, 3.81912471e-01, 2.21350975e-02],\n",
       "        [1.05885478e+00, 2.57300974e-01, 1.17149903e+00, ...,\n",
       "         2.17100488e-01, 2.60473680e-01, 7.63339134e-03]],\n",
       "\n",
       "       [[2.56143852e-01, 1.14343039e-01, 9.70476313e-02, ...,\n",
       "         3.42833147e-02, 7.15881221e-02, 7.20334729e-02],\n",
       "        [2.23752320e-01, 3.64864219e-01, 1.75762187e-01, ...,\n",
       "         8.60680130e-02, 5.99468668e-02, 4.96307733e-03],\n",
       "        [6.89814682e-01, 2.11749857e+00, 5.64213727e-01, ...,\n",
       "         1.60125100e-01, 1.93794328e-01, 2.69159338e-01],\n",
       "        ...,\n",
       "        [7.35740914e-01, 2.88803812e-01, 7.62443855e-01, ...,\n",
       "         1.45996207e-01, 1.40643831e-01, 1.83880600e-01],\n",
       "        [7.82820657e-01, 2.27565213e-01, 5.04048289e-01, ...,\n",
       "         1.94275973e-01, 1.70361760e-01, 8.09124110e-02],\n",
       "        [8.01757650e-01, 1.11496094e+00, 9.56648500e-01, ...,\n",
       "         2.09228239e-01, 2.20146623e-01, 1.27469231e-01]],\n",
       "\n",
       "       [[9.40980393e-02, 4.50015227e-01, 3.00376639e-01, ...,\n",
       "         1.48243417e-01, 1.63416889e-02, 4.47904054e-02],\n",
       "        [2.83807341e-01, 5.55995077e-01, 1.46100281e-01, ...,\n",
       "         4.26559345e-02, 1.38571635e-02, 6.58612427e-02],\n",
       "        [1.38952142e+00, 1.70913868e+00, 4.69400543e-01, ...,\n",
       "         3.28145941e-01, 8.76408334e-02, 1.00765690e-01],\n",
       "        ...,\n",
       "        [7.71697359e-01, 1.13104218e+00, 5.96710249e-01, ...,\n",
       "         2.55100167e-01, 8.58690178e-02, 1.98191281e-01],\n",
       "        [1.35294057e+00, 1.40018382e+00, 2.68245085e-01, ...,\n",
       "         3.67969880e-01, 9.94141398e-02, 7.04874240e-02],\n",
       "        [2.44954848e+00, 1.71049541e+00, 6.11814082e-01, ...,\n",
       "         3.24737618e-01, 1.25957681e-01, 1.45122114e-01]],\n",
       "\n",
       "       ...,\n",
       "\n",
       "       [[4.63224686e-01, 2.29372401e-01, 4.60707430e-01, ...,\n",
       "         6.68328045e-02, 2.18093197e-02, 1.92881799e-02],\n",
       "        [1.03900980e-01, 3.82014317e-01, 2.12874562e-02, ...,\n",
       "         2.17338248e-01, 8.25541851e-02, 1.77781363e-01],\n",
       "        [1.79146005e-01, 6.06471666e+00, 2.58102323e-02, ...,\n",
       "         2.97318716e-01, 8.42574588e-02, 3.82100494e-01],\n",
       "        ...,\n",
       "        [8.28260004e-01, 7.29646124e-01, 3.48382147e-01, ...,\n",
       "         9.36093894e-02, 7.12387958e-02, 2.79753954e-02],\n",
       "        [2.16082046e-01, 7.12861143e-01, 6.03997278e-02, ...,\n",
       "         4.68352948e-02, 5.38799752e-02, 1.52526258e-01],\n",
       "        [3.63208221e-01, 3.85226432e+00, 4.33158982e-01, ...,\n",
       "         1.26918750e-01, 5.93761691e-02, 2.40493167e-01]],\n",
       "\n",
       "       [[4.63224686e-01, 2.29372401e-01, 4.60707430e-01, ...,\n",
       "         6.68328045e-02, 2.18093197e-02, 1.92881799e-02],\n",
       "        [1.03900980e-01, 3.82014317e-01, 2.12874562e-02, ...,\n",
       "         2.17338248e-01, 8.25541851e-02, 1.77781363e-01],\n",
       "        [1.79146005e-01, 6.06471666e+00, 2.58102323e-02, ...,\n",
       "         2.97318716e-01, 8.42574588e-02, 3.82100494e-01],\n",
       "        ...,\n",
       "        [8.28260004e-01, 7.29646124e-01, 3.48382147e-01, ...,\n",
       "         9.36093894e-02, 7.12387958e-02, 2.79753954e-02],\n",
       "        [2.16082046e-01, 7.12861143e-01, 6.03997278e-02, ...,\n",
       "         4.68352948e-02, 5.38799752e-02, 1.52526258e-01],\n",
       "        [3.63208221e-01, 3.85226432e+00, 4.33158982e-01, ...,\n",
       "         1.26918750e-01, 5.93761691e-02, 2.40493167e-01]],\n",
       "\n",
       "       [[4.63224686e-01, 2.29372401e-01, 4.60707430e-01, ...,\n",
       "         6.68328045e-02, 2.18093197e-02, 1.92881799e-02],\n",
       "        [1.03900980e-01, 3.82014317e-01, 2.12874562e-02, ...,\n",
       "         2.17338248e-01, 8.25541851e-02, 1.77781363e-01],\n",
       "        [1.79146005e-01, 6.06471666e+00, 2.58102323e-02, ...,\n",
       "         2.97318716e-01, 8.42574588e-02, 3.82100494e-01],\n",
       "        ...,\n",
       "        [8.28260004e-01, 7.29646124e-01, 3.48382147e-01, ...,\n",
       "         9.36093894e-02, 7.12387958e-02, 2.79753954e-02],\n",
       "        [2.16082046e-01, 7.12861143e-01, 6.03997278e-02, ...,\n",
       "         4.68352948e-02, 5.38799752e-02, 1.52526258e-01],\n",
       "        [3.63208221e-01, 3.85226432e+00, 4.33158982e-01, ...,\n",
       "         1.26918750e-01, 5.93761691e-02, 2.40493167e-01]]])"
      ]
     },
     "execution_count": 14,
     "metadata": {},
     "output_type": "execute_result"
    }
   ],
   "source": [
    "X_train"
   ]
  },
  {
   "cell_type": "code",
   "execution_count": 15,
   "metadata": {},
   "outputs": [
    {
     "name": "stdout",
     "output_type": "stream",
     "text": [
      "1837 8 12\n"
     ]
    }
   ],
   "source": [
    "print(X_train.shape[0], X_train.shape[1], X_train.shape[2])"
   ]
  },
  {
   "cell_type": "code",
   "execution_count": 16,
   "metadata": {},
   "outputs": [
    {
     "name": "stdout",
     "output_type": "stream",
     "text": [
      "(1837, 8, 12, 1)\n",
      "(928, 8, 12, 1)\n",
      "(908, 8, 12, 1)\n"
     ]
    }
   ],
   "source": [
    "X_train = X_train.reshape(X_train.shape[0], X_train.shape[1], X_train.shape[2],1)\n",
    "X_dev = X_dev.reshape(X_dev.shape[0], X_dev.shape[1], X_dev.shape[2],1)\n",
    "X_test = X_test.reshape(X_test.shape[0], X_test.shape[1], X_test.shape[2],1)\n",
    "\n",
    "print(X_train.shape)\n",
    "print(X_dev.shape)\n",
    "print(X_test.shape)\n",
    "\n",
    "# INPUT SHAPE: batch_size (número de muestras que vamos a mostrar a la red neuronal), height (alto de la imagen o \n",
    "# num filas del array de datos), width (ancho de la imagen o num de columnas del array de datos, depth (profundidad del \n",
    "# array o num canales de la imagen) "
   ]
  },
  {
   "cell_type": "code",
   "execution_count": 19,
   "metadata": {},
   "outputs": [
    {
     "data": {
      "text/plain": [
       "(1837, 3)"
      ]
     },
     "execution_count": 19,
     "metadata": {},
     "output_type": "execute_result"
    }
   ],
   "source": [
    "y_train.shape"
   ]
  },
  {
   "cell_type": "markdown",
   "metadata": {},
   "source": [
    "### 4 - Set hyperparameters"
   ]
  },
  {
   "cell_type": "code",
   "execution_count": 17,
   "metadata": {},
   "outputs": [],
   "source": [
    "# Tensorboard\n",
    "from time import time\n",
    "from keras.callbacks import TensorBoard\n",
    "tensorboard = TensorBoard(log_dir='logs/{}'.format(time()))"
   ]
  },
  {
   "cell_type": "code",
   "execution_count": 18,
   "metadata": {},
   "outputs": [
    {
     "data": {
      "text/plain": [
       "'\\nn_epochs = 100 #2000\\n#learning_rate = 0.001\\nbatch_size = 32 #250 \\nn_neurons_per_hlayer = [500, 250, 75, 25] # Number of units per layer, 4 hidden layers\\nrate_dropout = [0.8, 0.4, 0.2, 0.1]\\nweight_decay = 1e-4\\n'"
      ]
     },
     "execution_count": 18,
     "metadata": {},
     "output_type": "execute_result"
    }
   ],
   "source": [
    "\"\"\"\n",
    "n_epochs = 100 #2000\n",
    "#learning_rate = 0.001\n",
    "batch_size = 32 #250 \n",
    "n_neurons_per_hlayer = [500, 250, 75, 25] # Number of units per layer, 4 hidden layers\n",
    "rate_dropout = [0.8, 0.4, 0.2, 0.1]\n",
    "weight_decay = 1e-4\n",
    "\"\"\""
   ]
  },
  {
   "cell_type": "markdown",
   "metadata": {},
   "source": [
    "### 5 - Build the model: "
   ]
  },
  {
   "cell_type": "code",
   "execution_count": 20,
   "metadata": {},
   "outputs": [
    {
     "name": "stdout",
     "output_type": "stream",
     "text": [
      "Model: \"sequential\"\n",
      "_________________________________________________________________\n",
      "Layer (type)                 Output Shape              Param #   \n",
      "=================================================================\n",
      "conv2d (Conv2D)              (None, 8, 12, 48)         480       \n",
      "_________________________________________________________________\n",
      "max_pooling2d (MaxPooling2D) (None, 4, 6, 48)          0         \n",
      "_________________________________________________________________\n",
      "conv2d_1 (Conv2D)            (None, 4, 6, 96)          41568     \n",
      "_________________________________________________________________\n",
      "max_pooling2d_1 (MaxPooling2 (None, 2, 3, 96)          0         \n",
      "_________________________________________________________________\n",
      "conv2d_2 (Conv2D)            (None, 2, 3, 192)         166080    \n",
      "_________________________________________________________________\n",
      "max_pooling2d_2 (MaxPooling2 (None, 1, 1, 192)         0         \n",
      "_________________________________________________________________\n",
      "flatten (Flatten)            (None, 192)               0         \n",
      "_________________________________________________________________\n",
      "dense (Dense)                (None, 3)                 579       \n",
      "=================================================================\n",
      "Total params: 208,707\n",
      "Trainable params: 208,707\n",
      "Non-trainable params: 0\n",
      "_________________________________________________________________\n"
     ]
    }
   ],
   "source": [
    "from keras.models import Sequential\n",
    "from keras.layers import Dense, Dropout, Activation, Flatten\n",
    "from keras.layers.convolutional import Conv2D, MaxPooling2D\n",
    "from keras import optimizers, regularizers\n",
    "import keras.backend as K\n",
    "#K.set_image_data_format('channels_first')\n",
    "\n",
    "weight_decay = 1e-4\n",
    "\n",
    "model = Sequential()\n",
    "# Convolution2D(filtrosConv1, tamaño_filtro1, padding=\"same\", input_shape=(longitud, altura,3), activation = \"relu\")\n",
    "    # - filtrosConv1 número de filtros que aplicaremos tras la primera convolución, normalmente este tamaño va a aumentando\n",
    "    # tras convoluciones para que aumente la dimensión de profundidad (qué cosas hay en mi imagen)\n",
    "    # - tamaño_filtro1 tamaño espacial del kernel (de los filtros)\n",
    "    # - padding = si es same es que es igual que la imagen, vamos crea una imagen del mismo tamaño con el filtro, si es \n",
    "    # valid es que no hay padding y crea una imagen más pequeña que la imagen (creo)\n",
    "    # - input_shape = longitud y altura, tamaño que usará para convolucionar al entrenar\n",
    "model.add(Conv2D(48, kernel_size=(3, 3), padding=\"same\", activation=\"relu\",input_shape=(8, 12,1), kernel_initializer=\"he_normal\", kernel_regularizer=regularizers.l2(weight_decay)))\n",
    "#model.add(Conv2D(48, kernel_size=(3, 3), padding=\"same\", activation=\"relu\",kernel_initializer=\"he_normal\", kernel_regularizer=regularizers.l2(weight_decay)))\n",
    "model.add(MaxPooling2D(pool_size=(2, 2)))\n",
    "#model.add(Dropout(0.1))\n",
    "\n",
    "\n",
    "model.add(Conv2D(96, (3, 3), padding='same',activation='relu', kernel_initializer=\"he_normal\",kernel_regularizer=regularizers.l2(weight_decay)))\n",
    "#model.add(Conv2D(96, (3, 3), padding='same',activation='relu', kernel_initializer=\"he_normal\", kernel_regularizer=regularizers.l2(weight_decay)))\n",
    "model.add(MaxPooling2D(pool_size=(2, 2)))\n",
    "#model.add(Dropout(0.2))\n",
    "\n",
    "\n",
    "model.add(Conv2D(192, (3, 3), padding='same',activation='relu', kernel_initializer=\"he_normal\", kernel_regularizer=regularizers.l2(weight_decay)))\n",
    "#model.add(Conv2D(192, (3, 3), padding='same',activation='relu', kernel_initializer=\"he_normal\", kernel_regularizer=regularizers.l2(weight_decay)))\n",
    "model.add(MaxPooling2D(pool_size=(2, 2)))\n",
    "#model.add(Dropout(0.2))\n",
    "\n",
    "model.add(Flatten())\n",
    "model.add(Dense(y_train.shape[1], activation=\"softmax\"))\n",
    "\n",
    "opt = optimizers.Adam(lr=0.001, beta_1=0.9, beta_2=0.999)        \n",
    "model.compile(optimizer=opt, loss='categorical_crossentropy', metrics=['accuracy'])\n",
    "model.summary()"
   ]
  },
  {
   "cell_type": "code",
   "execution_count": 21,
   "metadata": {},
   "outputs": [
    {
     "data": {
      "text/plain": [
       "[<tensorflow.python.keras.layers.convolutional.Conv2D at 0x1e7bc2ceeb0>,\n",
       " <tensorflow.python.keras.layers.pooling.MaxPooling2D at 0x1e7bd2d1490>,\n",
       " <tensorflow.python.keras.layers.convolutional.Conv2D at 0x1e7bd6f6c40>,\n",
       " <tensorflow.python.keras.layers.pooling.MaxPooling2D at 0x1e7bd707e50>,\n",
       " <tensorflow.python.keras.layers.convolutional.Conv2D at 0x1e7bd7179d0>,\n",
       " <tensorflow.python.keras.layers.pooling.MaxPooling2D at 0x1e7bd7100d0>,\n",
       " <tensorflow.python.keras.layers.core.Flatten at 0x1e7bd7202e0>,\n",
       " <tensorflow.python.keras.layers.core.Dense at 0x1e7bd6f63a0>]"
      ]
     },
     "execution_count": 21,
     "metadata": {},
     "output_type": "execute_result"
    }
   ],
   "source": [
    "model.layers"
   ]
  },
  {
   "cell_type": "code",
   "execution_count": 22,
   "metadata": {},
   "outputs": [
    {
     "name": "stdout",
     "output_type": "stream",
     "text": [
      "conv2d\n",
      "max_pooling2d\n",
      "conv2d_1\n",
      "max_pooling2d_1\n",
      "conv2d_2\n",
      "max_pooling2d_2\n",
      "flatten\n",
      "dense\n"
     ]
    }
   ],
   "source": [
    "for l in model.layers: print (l.name)"
   ]
  },
  {
   "cell_type": "markdown",
   "metadata": {},
   "source": [
    "All the parameters of a layer can bee accessed:"
   ]
  },
  {
   "cell_type": "code",
   "execution_count": 23,
   "metadata": {},
   "outputs": [
    {
     "data": {
      "text/plain": [
       "(3, 3, 1, 48)"
      ]
     },
     "execution_count": 23,
     "metadata": {},
     "output_type": "execute_result"
    }
   ],
   "source": [
    "weights, biases = model.layers[0].get_weights()\n",
    "weights.shape"
   ]
  },
  {
   "cell_type": "code",
   "execution_count": 24,
   "metadata": {},
   "outputs": [
    {
     "data": {
      "text/plain": [
       "array([[[[ 1.04684973e+00,  5.57075478e-02,  2.61493921e-01,\n",
       "           5.76417565e-01, -2.01724887e-01, -3.37150574e-01,\n",
       "           2.74914235e-01,  5.45714915e-01, -6.35286450e-01,\n",
       "          -6.71648681e-01,  5.23054481e-01, -6.39576674e-01,\n",
       "           7.20574975e-01,  8.94843861e-02, -4.01815653e-01,\n",
       "          -7.30263352e-01, -2.02948079e-01,  1.03410311e-01,\n",
       "           2.28539035e-01, -6.88383639e-01, -9.34876427e-02,\n",
       "           2.21096218e-01, -3.17833990e-01,  1.17414147e-01,\n",
       "          -1.35553941e-01,  2.07799021e-02, -7.90697411e-02,\n",
       "           6.97008133e-01,  1.68157339e-01, -1.47309780e-01,\n",
       "           6.33653045e-01,  4.17499617e-02,  2.32936218e-01,\n",
       "           2.99580657e-04,  3.34866583e-01,  3.25679809e-01,\n",
       "           4.13444918e-03,  3.24145854e-01,  3.95477414e-01,\n",
       "          -1.71047777e-01, -4.77911346e-02,  3.39258105e-01,\n",
       "           2.96764433e-01,  3.84361833e-01,  4.52070415e-01,\n",
       "          -6.00093193e-02,  8.61042857e-01, -8.05567682e-01]],\n",
       "\n",
       "        [[ 8.91396761e-01,  6.62643015e-01,  2.49819547e-01,\n",
       "          -5.42635359e-02, -5.24810493e-01,  6.08644724e-01,\n",
       "          -6.97876811e-02,  1.68656349e-01,  4.44579363e-01,\n",
       "           2.70383805e-01,  2.84968108e-01,  3.86365294e-01,\n",
       "           2.39570409e-01,  3.09538156e-01,  3.73211503e-01,\n",
       "          -4.78504181e-01, -5.73254883e-01, -5.51918268e-01,\n",
       "           1.49635032e-01,  1.46052510e-01,  1.11133279e-02,\n",
       "           8.65553916e-01,  4.82510507e-01,  4.50636923e-01,\n",
       "           3.48859169e-02, -2.62929440e-01, -3.56749654e-01,\n",
       "           3.52535009e-01,  7.88858652e-01, -3.33921611e-01,\n",
       "          -3.25141996e-01, -5.44186294e-01,  1.54507890e-01,\n",
       "           2.78758317e-01,  6.85575426e-01, -9.06866670e-01,\n",
       "          -5.81902027e-01, -6.31359816e-01, -3.00795704e-01,\n",
       "           1.91233262e-01, -4.66860473e-01,  5.13380170e-01,\n",
       "          -4.44694143e-03, -5.25904000e-01, -2.59376287e-01,\n",
       "           6.38965666e-02, -1.79176733e-01,  5.22461653e-01]],\n",
       "\n",
       "        [[-6.55969620e-01,  4.16404426e-01,  1.89437866e-02,\n",
       "          -1.26646951e-01, -6.60982966e-01,  4.22636807e-01,\n",
       "           2.00433403e-01, -2.50543594e-01,  2.13071685e-02,\n",
       "          -7.78459236e-02, -6.83290303e-01,  9.87318754e-01,\n",
       "          -2.77112667e-02,  6.60460651e-01,  3.05781811e-01,\n",
       "           3.17286521e-01, -2.54212111e-01,  4.32025582e-01,\n",
       "           1.91499684e-02, -3.84431005e-01,  7.94516146e-01,\n",
       "          -1.88482836e-01,  6.68960929e-01,  3.85082126e-01,\n",
       "           4.31703031e-01, -1.01493955e+00, -3.67999524e-01,\n",
       "           5.55127740e-01,  2.20330596e-01,  4.34384733e-01,\n",
       "          -7.31941909e-02,  7.54259348e-01,  5.42886138e-01,\n",
       "           1.21632844e-01, -3.62003386e-01,  6.00952148e-01,\n",
       "          -2.00626656e-01,  7.06368804e-01,  5.86974099e-02,\n",
       "           4.24593925e-01, -5.44164836e-01, -2.66524851e-01,\n",
       "          -7.04307139e-01,  2.27196679e-01,  1.94054306e-01,\n",
       "           2.23789201e-03,  4.33700562e-01, -3.51654232e-01]]],\n",
       "\n",
       "\n",
       "       [[[ 1.62589163e-01,  1.66528910e-01, -3.79881889e-01,\n",
       "          -3.20042104e-01, -1.82599783e-01, -9.95070338e-02,\n",
       "          -4.89587307e-01, -1.57145947e-01, -2.52592713e-01,\n",
       "           5.46218812e-01,  7.33217537e-01, -5.43810785e-01,\n",
       "          -1.38769180e-01, -6.80955768e-01,  1.82636976e-02,\n",
       "          -3.45639139e-01,  8.38448465e-01,  5.37007749e-01,\n",
       "           5.24104059e-01, -5.29434383e-01, -7.21018374e-01,\n",
       "          -3.27681810e-01,  8.12273562e-01,  2.62408168e-03,\n",
       "           2.69100338e-01, -3.38896394e-01,  6.98557258e-01,\n",
       "          -4.86704379e-01,  2.64289051e-01, -8.43910813e-01,\n",
       "          -5.37050366e-02, -7.51330614e-01,  3.46813500e-02,\n",
       "           6.84604645e-02,  3.51734221e-01, -5.19545935e-02,\n",
       "          -2.32996374e-01,  4.83190745e-01, -8.63345340e-02,\n",
       "           7.07547307e-01,  7.73957253e-01,  1.60342500e-01,\n",
       "           6.59833625e-02, -1.01788618e-01, -2.54216105e-01,\n",
       "          -1.89207152e-01,  2.04227597e-01, -2.94809878e-01]],\n",
       "\n",
       "        [[ 2.40950093e-01,  7.94638023e-02,  2.52943307e-01,\n",
       "           2.17626974e-01, -3.93583179e-01, -4.91503701e-02,\n",
       "          -8.02200511e-02,  7.68045783e-02, -9.91019309e-02,\n",
       "          -1.84254855e-01,  2.46517405e-01, -4.42848951e-02,\n",
       "          -8.05917740e-01,  9.32001397e-02,  4.21652764e-01,\n",
       "          -1.18977815e-01,  4.02171850e-01,  5.47806442e-01,\n",
       "          -4.47333418e-02, -6.12575650e-01, -4.74460632e-01,\n",
       "           5.42532027e-01,  3.86774004e-01,  1.49089456e-01,\n",
       "           2.29315624e-01,  7.91179061e-01,  6.57691434e-02,\n",
       "          -6.02987921e-03,  9.36507881e-01, -2.88294822e-01,\n",
       "          -4.35157925e-01,  6.43508971e-01, -2.89627075e-01,\n",
       "           2.20264524e-01,  5.14329851e-01,  8.22806358e-01,\n",
       "           1.45120760e-02,  7.40762770e-01,  5.28294325e-01,\n",
       "           5.29123992e-02,  6.99168146e-01, -3.72294127e-03,\n",
       "           6.31431788e-02,  1.05187170e-01, -1.76179171e-01,\n",
       "          -2.20981941e-01,  9.84912872e-01, -6.17313504e-01]],\n",
       "\n",
       "        [[-6.34233356e-02,  4.23883408e-01,  7.17229486e-01,\n",
       "           8.23919833e-01,  3.98463488e-01,  3.68048638e-01,\n",
       "           5.97452745e-03,  6.94197237e-01,  2.13161930e-01,\n",
       "           2.19680548e-01, -4.11850005e-01, -1.32581145e-01,\n",
       "          -5.33508718e-01,  5.91153324e-01,  1.78222150e-01,\n",
       "          -4.57438231e-02, -1.99157700e-01,  5.72380781e-01,\n",
       "           8.57774317e-02, -5.88806093e-01,  4.53723401e-01,\n",
       "           5.81961088e-02, -8.21430683e-01, -1.19157672e-01,\n",
       "          -7.30502307e-01,  5.99316597e-01, -8.56903344e-02,\n",
       "          -2.46534362e-01,  3.73211294e-01, -8.51281941e-01,\n",
       "           5.05950451e-01, -5.15471876e-01, -1.15386449e-01,\n",
       "          -2.26227254e-01,  7.43596911e-01, -3.13763916e-01,\n",
       "           3.78120542e-02,  1.90420493e-01,  7.79150069e-01,\n",
       "          -9.00826007e-02, -3.53169650e-01,  6.45413324e-02,\n",
       "           5.79437256e-01,  9.20997933e-02, -4.47764307e-01,\n",
       "           5.24244308e-01, -3.87255281e-01, -6.98058486e-01]]],\n",
       "\n",
       "\n",
       "       [[[-1.31039053e-01, -2.94736505e-01, -4.15706754e-01,\n",
       "          -7.69104838e-01, -5.35404801e-01,  2.91307360e-01,\n",
       "          -1.80150211e-01,  3.32338423e-01,  2.07825020e-01,\n",
       "           3.57627302e-01, -3.30932647e-01,  1.19739220e-01,\n",
       "           6.40351415e-01, -4.57695305e-01,  5.31499125e-02,\n",
       "           9.64609027e-01,  6.51525378e-01,  3.80782932e-01,\n",
       "          -6.82277560e-01,  5.85860729e-01,  3.62119675e-01,\n",
       "          -1.87442407e-01, -1.33927390e-01,  8.63448322e-01,\n",
       "           2.65407145e-01,  4.30643559e-01,  9.34378281e-02,\n",
       "          -4.96749461e-01, -1.94566652e-01,  1.96305946e-01,\n",
       "          -7.98988819e-01,  8.95588025e-02,  5.94476044e-01,\n",
       "           6.22568093e-02,  2.93346830e-02, -6.77488521e-02,\n",
       "          -4.82787043e-02,  4.00979310e-01,  1.48411259e-01,\n",
       "           7.91975021e-01, -4.15068984e-01, -3.96812320e-01,\n",
       "           6.17662430e-01,  4.09443816e-03, -2.79090464e-01,\n",
       "           2.03052327e-01, -1.04620859e-01,  4.37660724e-01]],\n",
       "\n",
       "        [[-4.97422725e-01,  3.07798803e-01, -8.48708332e-01,\n",
       "          -8.97920907e-01,  2.74024427e-01, -4.34468508e-01,\n",
       "          -5.29318750e-02, -3.60577226e-01, -1.82036847e-01,\n",
       "          -8.28602254e-01, -6.51522756e-01,  4.73478407e-01,\n",
       "          -4.43964660e-01,  7.13252008e-01, -1.67692274e-01,\n",
       "          -2.58686274e-01,  6.10674798e-01, -5.63824952e-01,\n",
       "          -4.26132292e-01,  2.70868748e-01,  9.15673316e-01,\n",
       "          -2.61912078e-01,  4.15825158e-01,  4.68368709e-01,\n",
       "           9.76590514e-01, -9.36225832e-01,  2.04100549e-01,\n",
       "           7.03169346e-01,  3.38793814e-01,  1.00528646e+00,\n",
       "           6.47949159e-01, -6.40551686e-01,  3.76242399e-01,\n",
       "           4.59566981e-01,  4.95804787e-01,  8.56673270e-02,\n",
       "          -1.06162202e+00,  7.65498504e-02, -1.05952159e-01,\n",
       "           1.69210434e-02, -1.00330142e-02,  8.61805618e-01,\n",
       "          -8.10374096e-02, -2.16882795e-01, -2.78265536e-01,\n",
       "           7.31469244e-02, -4.63028789e-01, -9.37311828e-01]],\n",
       "\n",
       "        [[ 1.58315778e-01,  4.98453617e-01, -1.03766434e-01,\n",
       "           1.51847929e-01, -4.25008953e-01,  3.73329878e-01,\n",
       "           9.42981020e-02,  4.75389719e-01,  2.91249692e-01,\n",
       "          -2.34457687e-01, -5.52355587e-01, -4.93968219e-01,\n",
       "          -4.20580775e-01, -2.01001167e-01, -1.41349882e-01,\n",
       "           7.10097432e-01, -2.57787526e-01, -5.16720831e-01,\n",
       "          -5.75503170e-01, -1.94156110e-01,  5.91059268e-01,\n",
       "           2.14067161e-01, -3.48829001e-01,  5.31653501e-02,\n",
       "          -2.35660404e-01, -4.67717767e-01,  2.75727570e-01,\n",
       "          -3.25365782e-01, -2.22435877e-01, -2.13527158e-02,\n",
       "           4.61759977e-03,  3.11708629e-01, -7.61522472e-01,\n",
       "          -3.34911615e-01, -3.58949006e-01, -5.12843847e-01,\n",
       "           4.43111435e-02,  1.62309870e-01, -9.23031509e-01,\n",
       "           3.04398209e-01,  6.66175544e-01,  6.36349797e-01,\n",
       "          -6.89428926e-01, -1.94075420e-01, -7.23877028e-02,\n",
       "           4.63236541e-01, -6.26073182e-01, -1.01840392e-01]]]],\n",
       "      dtype=float32)"
      ]
     },
     "execution_count": 24,
     "metadata": {},
     "output_type": "execute_result"
    }
   ],
   "source": [
    "weights"
   ]
  },
  {
   "cell_type": "code",
   "execution_count": 25,
   "metadata": {},
   "outputs": [
    {
     "data": {
      "text/plain": [
       "array([0., 0., 0., 0., 0., 0., 0., 0., 0., 0., 0., 0., 0., 0., 0., 0., 0.,\n",
       "       0., 0., 0., 0., 0., 0., 0., 0., 0., 0., 0., 0., 0., 0., 0., 0., 0.,\n",
       "       0., 0., 0., 0., 0., 0., 0., 0., 0., 0., 0., 0., 0., 0.],\n",
       "      dtype=float32)"
      ]
     },
     "execution_count": 25,
     "metadata": {},
     "output_type": "execute_result"
    }
   ],
   "source": [
    "biases # Bias de la primera capa: 500 bias inicializados a 0 "
   ]
  },
  {
   "cell_type": "code",
   "execution_count": 26,
   "metadata": {},
   "outputs": [
    {
     "data": {
      "text/plain": [
       "(48,)"
      ]
     },
     "execution_count": 26,
     "metadata": {},
     "output_type": "execute_result"
    }
   ],
   "source": [
    "biases.shape"
   ]
  },
  {
   "cell_type": "markdown",
   "metadata": {},
   "source": [
    "### 6. Compile the model"
   ]
  },
  {
   "cell_type": "code",
   "execution_count": null,
   "metadata": {},
   "outputs": [],
   "source": []
  },
  {
   "cell_type": "markdown",
   "metadata": {},
   "source": [
    "### 7. Train the model with M-BGD"
   ]
  },
  {
   "cell_type": "code",
   "execution_count": 27,
   "metadata": {},
   "outputs": [
    {
     "name": "stdout",
     "output_type": "stream",
     "text": [
      "Epoch 1/100\n",
      "58/58 - 2s - loss: 1.4396 - accuracy: 0.5318 - val_loss: 0.8920 - val_accuracy: 0.6282\n",
      "Epoch 2/100\n",
      "58/58 - 0s - loss: 0.8428 - accuracy: 0.6483 - val_loss: 1.0589 - val_accuracy: 0.6175\n",
      "Epoch 3/100\n",
      "58/58 - 1s - loss: 0.7586 - accuracy: 0.6935 - val_loss: 0.8129 - val_accuracy: 0.6972\n",
      "Epoch 4/100\n",
      "58/58 - 0s - loss: 0.7466 - accuracy: 0.7186 - val_loss: 1.1468 - val_accuracy: 0.5981\n",
      "Epoch 5/100\n",
      "58/58 - 0s - loss: 0.7363 - accuracy: 0.7284 - val_loss: 0.9598 - val_accuracy: 0.6994\n",
      "Epoch 6/100\n",
      "58/58 - 0s - loss: 0.6589 - accuracy: 0.7463 - val_loss: 1.3156 - val_accuracy: 0.6401\n",
      "Epoch 7/100\n",
      "58/58 - 0s - loss: 0.6264 - accuracy: 0.7725 - val_loss: 1.3940 - val_accuracy: 0.6282\n",
      "Epoch 8/100\n",
      "58/58 - 0s - loss: 0.6040 - accuracy: 0.7714 - val_loss: 1.3155 - val_accuracy: 0.6821\n",
      "Epoch 9/100\n",
      "58/58 - 0s - loss: 0.5838 - accuracy: 0.7910 - val_loss: 1.1153 - val_accuracy: 0.6670\n",
      "Epoch 10/100\n",
      "58/58 - 0s - loss: 0.5330 - accuracy: 0.8046 - val_loss: 1.2033 - val_accuracy: 0.6853\n",
      "Epoch 11/100\n",
      "58/58 - 0s - loss: 0.5275 - accuracy: 0.8089 - val_loss: 1.4787 - val_accuracy: 0.6293\n",
      "Epoch 12/100\n",
      "58/58 - 0s - loss: 0.4724 - accuracy: 0.8340 - val_loss: 1.4174 - val_accuracy: 0.6584\n",
      "Epoch 13/100\n",
      "58/58 - 0s - loss: 0.4429 - accuracy: 0.8579 - val_loss: 1.3461 - val_accuracy: 0.6584\n",
      "Epoch 14/100\n",
      "58/58 - 0s - loss: 0.4199 - accuracy: 0.8525 - val_loss: 1.1044 - val_accuracy: 0.6595\n",
      "Epoch 15/100\n",
      "58/58 - 0s - loss: 0.3896 - accuracy: 0.8770 - val_loss: 1.5450 - val_accuracy: 0.5765\n",
      "Epoch 16/100\n",
      "58/58 - 0s - loss: 0.3882 - accuracy: 0.8753 - val_loss: 1.5372 - val_accuracy: 0.6412\n",
      "Epoch 17/100\n",
      "58/58 - 0s - loss: 0.3789 - accuracy: 0.8797 - val_loss: 1.3946 - val_accuracy: 0.6940\n",
      "Epoch 18/100\n",
      "58/58 - 0s - loss: 0.3160 - accuracy: 0.9140 - val_loss: 1.7939 - val_accuracy: 0.6907\n",
      "Epoch 19/100\n",
      "58/58 - 0s - loss: 0.3482 - accuracy: 0.8987 - val_loss: 1.5906 - val_accuracy: 0.7026\n",
      "Epoch 20/100\n",
      "58/58 - 0s - loss: 0.3007 - accuracy: 0.9140 - val_loss: 1.5718 - val_accuracy: 0.6239\n",
      "Epoch 21/100\n",
      "58/58 - 0s - loss: 0.2403 - accuracy: 0.9477 - val_loss: 1.7111 - val_accuracy: 0.6703\n",
      "Epoch 22/100\n",
      "58/58 - 1s - loss: 0.2736 - accuracy: 0.9271 - val_loss: 1.8758 - val_accuracy: 0.6045\n",
      "Epoch 23/100\n",
      "58/58 - 0s - loss: 0.2353 - accuracy: 0.9418 - val_loss: 1.9925 - val_accuracy: 0.6142\n",
      "Epoch 24/100\n",
      "58/58 - 1s - loss: 0.2104 - accuracy: 0.9581 - val_loss: 1.6321 - val_accuracy: 0.6401\n",
      "Epoch 25/100\n",
      "58/58 - 1s - loss: 0.1977 - accuracy: 0.9608 - val_loss: 1.8676 - val_accuracy: 0.6218\n",
      "Epoch 26/100\n",
      "58/58 - 1s - loss: 0.1958 - accuracy: 0.9657 - val_loss: 2.3872 - val_accuracy: 0.6078\n",
      "Epoch 27/100\n",
      "58/58 - 1s - loss: 0.1683 - accuracy: 0.9722 - val_loss: 2.0769 - val_accuracy: 0.6250\n",
      "Epoch 28/100\n",
      "58/58 - 0s - loss: 0.1596 - accuracy: 0.9755 - val_loss: 2.0215 - val_accuracy: 0.6369\n",
      "Epoch 29/100\n",
      "58/58 - 0s - loss: 0.1703 - accuracy: 0.9684 - val_loss: 2.2433 - val_accuracy: 0.6304\n",
      "Epoch 30/100\n",
      "58/58 - 0s - loss: 0.1173 - accuracy: 0.9946 - val_loss: 2.2344 - val_accuracy: 0.6519\n",
      "Epoch 31/100\n",
      "58/58 - 1s - loss: 0.1045 - accuracy: 0.9956 - val_loss: 2.5505 - val_accuracy: 0.6433\n",
      "Epoch 32/100\n",
      "58/58 - 0s - loss: 0.1260 - accuracy: 0.9880 - val_loss: 2.5530 - val_accuracy: 0.6379\n",
      "Epoch 33/100\n",
      "58/58 - 0s - loss: 0.2008 - accuracy: 0.9565 - val_loss: 2.4921 - val_accuracy: 0.6185\n",
      "Epoch 34/100\n",
      "58/58 - 0s - loss: 0.1538 - accuracy: 0.9750 - val_loss: 2.0415 - val_accuracy: 0.6444\n",
      "Epoch 35/100\n",
      "58/58 - 0s - loss: 0.1035 - accuracy: 0.9956 - val_loss: 2.7880 - val_accuracy: 0.6153\n",
      "Epoch 36/100\n",
      "58/58 - 0s - loss: 0.1119 - accuracy: 0.9918 - val_loss: 2.4210 - val_accuracy: 0.6325\n",
      "Epoch 37/100\n",
      "58/58 - 0s - loss: 0.0845 - accuracy: 1.0000 - val_loss: 2.6867 - val_accuracy: 0.6304\n",
      "Epoch 38/100\n",
      "58/58 - 0s - loss: 0.0766 - accuracy: 1.0000 - val_loss: 2.6956 - val_accuracy: 0.6379\n",
      "Epoch 39/100\n",
      "58/58 - 0s - loss: 0.0737 - accuracy: 1.0000 - val_loss: 2.7553 - val_accuracy: 0.6336\n",
      "Epoch 40/100\n",
      "58/58 - 0s - loss: 0.0722 - accuracy: 1.0000 - val_loss: 2.8744 - val_accuracy: 0.6304\n",
      "Epoch 41/100\n",
      "58/58 - 0s - loss: 0.0709 - accuracy: 1.0000 - val_loss: 2.8125 - val_accuracy: 0.6369\n",
      "Epoch 42/100\n",
      "58/58 - 0s - loss: 0.0698 - accuracy: 1.0000 - val_loss: 2.9359 - val_accuracy: 0.6369\n",
      "Epoch 43/100\n",
      "58/58 - 0s - loss: 0.0689 - accuracy: 1.0000 - val_loss: 2.8245 - val_accuracy: 0.6433\n",
      "Epoch 44/100\n",
      "58/58 - 0s - loss: 0.0680 - accuracy: 1.0000 - val_loss: 2.9345 - val_accuracy: 0.6336\n",
      "Epoch 45/100\n",
      "58/58 - 0s - loss: 0.0671 - accuracy: 1.0000 - val_loss: 3.0078 - val_accuracy: 0.6325\n",
      "Epoch 46/100\n",
      "58/58 - 0s - loss: 0.0663 - accuracy: 1.0000 - val_loss: 2.9413 - val_accuracy: 0.6401\n",
      "Epoch 47/100\n",
      "58/58 - 1s - loss: 0.0655 - accuracy: 1.0000 - val_loss: 3.1341 - val_accuracy: 0.6315\n",
      "Epoch 48/100\n",
      "58/58 - 0s - loss: 0.0648 - accuracy: 1.0000 - val_loss: 2.9833 - val_accuracy: 0.6347\n",
      "Epoch 49/100\n",
      "58/58 - 0s - loss: 0.0641 - accuracy: 1.0000 - val_loss: 2.9778 - val_accuracy: 0.6433\n",
      "Epoch 50/100\n",
      "58/58 - 0s - loss: 0.0634 - accuracy: 1.0000 - val_loss: 3.1604 - val_accuracy: 0.6272\n",
      "Epoch 51/100\n",
      "58/58 - 0s - loss: 0.0627 - accuracy: 1.0000 - val_loss: 3.0819 - val_accuracy: 0.6422\n",
      "Epoch 52/100\n",
      "58/58 - 0s - loss: 0.0622 - accuracy: 1.0000 - val_loss: 3.1455 - val_accuracy: 0.6315\n",
      "Epoch 53/100\n",
      "58/58 - 0s - loss: 0.0613 - accuracy: 1.0000 - val_loss: 3.0765 - val_accuracy: 0.6412\n",
      "Epoch 54/100\n",
      "58/58 - 0s - loss: 0.0607 - accuracy: 1.0000 - val_loss: 3.1308 - val_accuracy: 0.6369\n",
      "Epoch 55/100\n",
      "58/58 - 0s - loss: 0.0601 - accuracy: 1.0000 - val_loss: 3.0781 - val_accuracy: 0.6358\n",
      "Epoch 56/100\n",
      "58/58 - 0s - loss: 0.0595 - accuracy: 1.0000 - val_loss: 3.1291 - val_accuracy: 0.6358\n",
      "Epoch 57/100\n",
      "58/58 - 1s - loss: 0.0588 - accuracy: 1.0000 - val_loss: 3.0926 - val_accuracy: 0.6390\n",
      "Epoch 58/100\n",
      "58/58 - 0s - loss: 0.0582 - accuracy: 1.0000 - val_loss: 3.2931 - val_accuracy: 0.6433\n",
      "Epoch 59/100\n",
      "58/58 - 0s - loss: 0.0577 - accuracy: 1.0000 - val_loss: 3.2045 - val_accuracy: 0.6379\n",
      "Epoch 60/100\n",
      "58/58 - 0s - loss: 0.0572 - accuracy: 1.0000 - val_loss: 3.2071 - val_accuracy: 0.6325\n",
      "Epoch 61/100\n",
      "58/58 - 0s - loss: 0.0565 - accuracy: 1.0000 - val_loss: 3.2590 - val_accuracy: 0.6325\n",
      "Epoch 62/100\n",
      "58/58 - 0s - loss: 0.0558 - accuracy: 1.0000 - val_loss: 3.3588 - val_accuracy: 0.6336\n",
      "Epoch 63/100\n",
      "58/58 - 0s - loss: 0.0552 - accuracy: 1.0000 - val_loss: 3.2102 - val_accuracy: 0.6325\n",
      "Epoch 64/100\n",
      "58/58 - 0s - loss: 0.0546 - accuracy: 1.0000 - val_loss: 3.0772 - val_accuracy: 0.6369\n",
      "Epoch 65/100\n",
      "58/58 - 0s - loss: 0.0541 - accuracy: 1.0000 - val_loss: 3.1255 - val_accuracy: 0.6358\n",
      "Epoch 66/100\n",
      "58/58 - 0s - loss: 0.0535 - accuracy: 1.0000 - val_loss: 3.3502 - val_accuracy: 0.6282\n",
      "Epoch 67/100\n",
      "58/58 - 0s - loss: 0.0529 - accuracy: 1.0000 - val_loss: 3.2896 - val_accuracy: 0.6358\n",
      "Epoch 68/100\n",
      "58/58 - 1s - loss: 0.0523 - accuracy: 1.0000 - val_loss: 3.3403 - val_accuracy: 0.6369\n",
      "Epoch 69/100\n",
      "58/58 - 0s - loss: 0.0518 - accuracy: 1.0000 - val_loss: 3.3743 - val_accuracy: 0.6282\n",
      "Epoch 70/100\n",
      "58/58 - 0s - loss: 0.0514 - accuracy: 1.0000 - val_loss: 3.0576 - val_accuracy: 0.6379\n",
      "Epoch 71/100\n",
      "58/58 - 0s - loss: 0.0506 - accuracy: 1.0000 - val_loss: 3.1950 - val_accuracy: 0.6347\n",
      "Epoch 72/100\n",
      "58/58 - 0s - loss: 0.0503 - accuracy: 1.0000 - val_loss: 3.1880 - val_accuracy: 0.6325\n",
      "Epoch 73/100\n",
      "58/58 - 1s - loss: 0.0495 - accuracy: 1.0000 - val_loss: 3.0647 - val_accuracy: 0.6422\n",
      "Epoch 74/100\n",
      "58/58 - 0s - loss: 0.6536 - accuracy: 0.8421 - val_loss: 1.7112 - val_accuracy: 0.5776\n",
      "Epoch 75/100\n",
      "58/58 - 0s - loss: 0.6129 - accuracy: 0.7768 - val_loss: 1.3364 - val_accuracy: 0.6455\n",
      "Epoch 76/100\n",
      "58/58 - 0s - loss: 0.4566 - accuracy: 0.8389 - val_loss: 1.4829 - val_accuracy: 0.6196\n",
      "Epoch 77/100\n",
      "58/58 - 0s - loss: 0.3407 - accuracy: 0.8998 - val_loss: 1.8231 - val_accuracy: 0.6196\n",
      "Epoch 78/100\n",
      "58/58 - 0s - loss: 0.3128 - accuracy: 0.9053 - val_loss: 1.5569 - val_accuracy: 0.6918\n",
      "Epoch 79/100\n",
      "58/58 - 0s - loss: 0.2096 - accuracy: 0.9510 - val_loss: 1.7118 - val_accuracy: 0.6175\n",
      "Epoch 80/100\n",
      "58/58 - 0s - loss: 0.1805 - accuracy: 0.9597 - val_loss: 1.6845 - val_accuracy: 0.6444\n",
      "Epoch 81/100\n",
      "58/58 - 0s - loss: 0.1752 - accuracy: 0.9635 - val_loss: 1.9775 - val_accuracy: 0.6487\n",
      "Epoch 82/100\n",
      "58/58 - 0s - loss: 0.1665 - accuracy: 0.9733 - val_loss: 2.3969 - val_accuracy: 0.6196\n",
      "Epoch 83/100\n"
     ]
    },
    {
     "name": "stdout",
     "output_type": "stream",
     "text": [
      "58/58 - 0s - loss: 0.1200 - accuracy: 0.9869 - val_loss: 2.1583 - val_accuracy: 0.6315\n",
      "Epoch 84/100\n",
      "58/58 - 0s - loss: 0.0863 - accuracy: 0.9973 - val_loss: 2.3387 - val_accuracy: 0.6358\n",
      "Epoch 85/100\n",
      "58/58 - 1s - loss: 0.0864 - accuracy: 0.9956 - val_loss: 2.5070 - val_accuracy: 0.6228\n",
      "Epoch 86/100\n",
      "58/58 - 0s - loss: 0.0732 - accuracy: 1.0000 - val_loss: 2.6172 - val_accuracy: 0.6250\n",
      "Epoch 87/100\n",
      "58/58 - 0s - loss: 0.0711 - accuracy: 0.9995 - val_loss: 2.6329 - val_accuracy: 0.6272\n",
      "Epoch 88/100\n",
      "58/58 - 0s - loss: 0.0655 - accuracy: 1.0000 - val_loss: 2.7214 - val_accuracy: 0.6239\n",
      "Epoch 89/100\n",
      "58/58 - 0s - loss: 0.0639 - accuracy: 1.0000 - val_loss: 2.8143 - val_accuracy: 0.6142\n",
      "Epoch 90/100\n",
      "58/58 - 1s - loss: 0.0625 - accuracy: 1.0000 - val_loss: 2.8501 - val_accuracy: 0.6261\n",
      "Epoch 91/100\n",
      "58/58 - 0s - loss: 0.0615 - accuracy: 1.0000 - val_loss: 2.9231 - val_accuracy: 0.6239\n",
      "Epoch 92/100\n",
      "58/58 - 0s - loss: 0.0608 - accuracy: 1.0000 - val_loss: 2.8832 - val_accuracy: 0.6272\n",
      "Epoch 93/100\n",
      "58/58 - 0s - loss: 0.0599 - accuracy: 1.0000 - val_loss: 2.9930 - val_accuracy: 0.6196\n",
      "Epoch 94/100\n",
      "58/58 - 1s - loss: 0.0590 - accuracy: 1.0000 - val_loss: 3.0481 - val_accuracy: 0.6218\n",
      "Epoch 95/100\n",
      "58/58 - 0s - loss: 0.0583 - accuracy: 1.0000 - val_loss: 3.0380 - val_accuracy: 0.6239\n",
      "Epoch 96/100\n",
      "58/58 - 0s - loss: 0.0577 - accuracy: 1.0000 - val_loss: 3.1185 - val_accuracy: 0.6142\n",
      "Epoch 97/100\n",
      "58/58 - 0s - loss: 0.0570 - accuracy: 1.0000 - val_loss: 3.1443 - val_accuracy: 0.6185\n",
      "Epoch 98/100\n",
      "58/58 - 0s - loss: 0.0563 - accuracy: 1.0000 - val_loss: 3.1549 - val_accuracy: 0.6185\n",
      "Epoch 99/100\n",
      "58/58 - 0s - loss: 0.0557 - accuracy: 1.0000 - val_loss: 3.1086 - val_accuracy: 0.6272\n",
      "Epoch 100/100\n",
      "58/58 - 0s - loss: 0.0553 - accuracy: 1.0000 - val_loss: 3.1471 - val_accuracy: 0.6261\n",
      "47.662413597106934\n"
     ]
    }
   ],
   "source": [
    "import time\n",
    "start = time.time()\n",
    "#history = model.fit(X_train, y_train, batch_size=32, steps_per_epoch=len(y_train)/32, epochs=100, verbose=2, validation_data=(X_dev, y_dev),callbacks=[tensorboard])\n",
    "history = model.fit(X_train, y_train, batch_size=32, epochs=100, verbose=2, validation_data=(X_dev, y_dev))\n",
    "print (time.time() - start)\n",
    "\n"
   ]
  },
  {
   "cell_type": "markdown",
   "metadata": {},
   "source": [
    "### 8. Get the results"
   ]
  },
  {
   "cell_type": "code",
   "execution_count": 28,
   "metadata": {},
   "outputs": [
    {
     "data": {
      "image/png": "[encoded data removed]",
      "text/plain": [
       "<Figure size 576x360 with 1 Axes>"
      ]
     },
     "metadata": {
      "needs_background": "light"
     },
     "output_type": "display_data"
    }
   ],
   "source": [
    "results=pd.DataFrame(history.history)\n",
    "results.plot(figsize=(8, 5))\n",
    "plt.grid(True)\n",
    "plt.xlabel (\"Epochs\")\n",
    "plt.ylabel (\"Accuracy - Mean Log Loss\")\n",
    "plt.gca().set_ylim(0, 2) # set the vertical range to [0-1]\n",
    "plt.show()\n",
    "\n",
    "# categorical_accuracy es el training accuracy\n",
    "# val_categorical_accuracy es el validation accuracy\n",
    "# loss es el training loss\n",
    "# val_loss es el validation loss\n",
    "\n",
    "# Overfitting:\n",
    "# Por un lado la Accuracy de los datos de entrenamiento aumenta con las epochs,\n",
    "# mientras que la Accuracy de los datos de validación disminuye o se mantiene constante a lo largo de las epochs. \n",
    "# La Loss de los datos de validación alcanza su mínimo después de pocos epochs y luego empieza a subir, \n",
    "# mientras que la Loss de los datos de entrenamiento disminuye linealmente."
   ]
  },
  {
   "cell_type": "code",
   "execution_count": 29,
   "metadata": {},
   "outputs": [
    {
     "data": {
      "text/plain": [
       "{'verbose': 2, 'epochs': 100, 'steps': 58}"
      ]
     },
     "execution_count": 29,
     "metadata": {},
     "output_type": "execute_result"
    }
   ],
   "source": [
    "history.params"
   ]
  },
  {
   "cell_type": "code",
   "execution_count": 30,
   "metadata": {},
   "outputs": [
    {
     "data": {
      "text/html": [
       "<div>\n",
       "<style scoped>\n",
       "    .dataframe tbody tr th:only-of-type {\n",
       "        vertical-align: middle;\n",
       "    }\n",
       "\n",
       "    .dataframe tbody tr th {\n",
       "        vertical-align: top;\n",
       "    }\n",
       "\n",
       "    .dataframe thead th {\n",
       "        text-align: right;\n",
       "    }\n",
       "</style>\n",
       "<table border=\"1\" class=\"dataframe\">\n",
       "  <thead>\n",
       "    <tr style=\"text-align: right;\">\n",
       "      <th></th>\n",
       "      <th>loss</th>\n",
       "      <th>accuracy</th>\n",
       "      <th>val_loss</th>\n",
       "      <th>val_accuracy</th>\n",
       "    </tr>\n",
       "  </thead>\n",
       "  <tbody>\n",
       "    <tr>\n",
       "      <th>99</th>\n",
       "      <td>0.055275</td>\n",
       "      <td>1.0</td>\n",
       "      <td>3.147108</td>\n",
       "      <td>0.626078</td>\n",
       "    </tr>\n",
       "  </tbody>\n",
       "</table>\n",
       "</div>"
      ],
      "text/plain": [
       "        loss  accuracy  val_loss  val_accuracy\n",
       "99  0.055275       1.0  3.147108      0.626078"
      ]
     },
     "execution_count": 30,
     "metadata": {},
     "output_type": "execute_result"
    }
   ],
   "source": [
    "results[-1:]"
   ]
  },
  {
   "cell_type": "code",
   "execution_count": 31,
   "metadata": {},
   "outputs": [
    {
     "ename": "AttributeError",
     "evalue": "'DataFrame' object has no attribute 'categorical_accuracy'",
     "output_type": "error",
     "traceback": [
      "\u001b[1;31m---------------------------------------------------------------------------\u001b[0m",
      "\u001b[1;31mAttributeError\u001b[0m                            Traceback (most recent call last)",
      "\u001b[1;32m<ipython-input-31-10da666d125b>\u001b[0m in \u001b[0;36m<module>\u001b[1;34m\u001b[0m\n\u001b[1;32m----> 1\u001b[1;33m \u001b[0mprint\u001b[0m \u001b[1;33m(\u001b[0m\u001b[1;34m\"Accuracy for the training set: \"\u001b[0m\u001b[1;33m,\u001b[0m \u001b[0mresults\u001b[0m\u001b[1;33m.\u001b[0m\u001b[0mcategorical_accuracy\u001b[0m\u001b[1;33m.\u001b[0m\u001b[0mvalues\u001b[0m\u001b[1;33m[\u001b[0m\u001b[1;33m-\u001b[0m\u001b[1;36m1\u001b[0m\u001b[1;33m:\u001b[0m\u001b[1;33m]\u001b[0m\u001b[1;33m[\u001b[0m\u001b[1;36m0\u001b[0m\u001b[1;33m]\u001b[0m\u001b[1;33m)\u001b[0m\u001b[1;33m\u001b[0m\u001b[1;33m\u001b[0m\u001b[0m\n\u001b[0m",
      "\u001b[1;32m~\\anaconda3\\lib\\site-packages\\pandas\\core\\generic.py\u001b[0m in \u001b[0;36m__getattr__\u001b[1;34m(self, name)\u001b[0m\n\u001b[0;32m   5137\u001b[0m             \u001b[1;32mif\u001b[0m \u001b[0mself\u001b[0m\u001b[1;33m.\u001b[0m\u001b[0m_info_axis\u001b[0m\u001b[1;33m.\u001b[0m\u001b[0m_can_hold_identifiers_and_holds_name\u001b[0m\u001b[1;33m(\u001b[0m\u001b[0mname\u001b[0m\u001b[1;33m)\u001b[0m\u001b[1;33m:\u001b[0m\u001b[1;33m\u001b[0m\u001b[1;33m\u001b[0m\u001b[0m\n\u001b[0;32m   5138\u001b[0m                 \u001b[1;32mreturn\u001b[0m \u001b[0mself\u001b[0m\u001b[1;33m[\u001b[0m\u001b[0mname\u001b[0m\u001b[1;33m]\u001b[0m\u001b[1;33m\u001b[0m\u001b[1;33m\u001b[0m\u001b[0m\n\u001b[1;32m-> 5139\u001b[1;33m             \u001b[1;32mreturn\u001b[0m \u001b[0mobject\u001b[0m\u001b[1;33m.\u001b[0m\u001b[0m__getattribute__\u001b[0m\u001b[1;33m(\u001b[0m\u001b[0mself\u001b[0m\u001b[1;33m,\u001b[0m \u001b[0mname\u001b[0m\u001b[1;33m)\u001b[0m\u001b[1;33m\u001b[0m\u001b[1;33m\u001b[0m\u001b[0m\n\u001b[0m\u001b[0;32m   5140\u001b[0m \u001b[1;33m\u001b[0m\u001b[0m\n\u001b[0;32m   5141\u001b[0m     \u001b[1;32mdef\u001b[0m \u001b[0m__setattr__\u001b[0m\u001b[1;33m(\u001b[0m\u001b[0mself\u001b[0m\u001b[1;33m,\u001b[0m \u001b[0mname\u001b[0m\u001b[1;33m:\u001b[0m \u001b[0mstr\u001b[0m\u001b[1;33m,\u001b[0m \u001b[0mvalue\u001b[0m\u001b[1;33m)\u001b[0m \u001b[1;33m->\u001b[0m \u001b[1;32mNone\u001b[0m\u001b[1;33m:\u001b[0m\u001b[1;33m\u001b[0m\u001b[1;33m\u001b[0m\u001b[0m\n",
      "\u001b[1;31mAttributeError\u001b[0m: 'DataFrame' object has no attribute 'categorical_accuracy'"
     ]
    }
   ],
   "source": [
    "print (\"Accuracy for the training set: \", results.categorical_accuracy.values[-1:][0])"
   ]
  },
  {
   "cell_type": "code",
   "execution_count": 32,
   "metadata": {},
   "outputs": [
    {
     "ename": "AttributeError",
     "evalue": "'DataFrame' object has no attribute 'val_categorical_accuracy'",
     "output_type": "error",
     "traceback": [
      "\u001b[1;31m---------------------------------------------------------------------------\u001b[0m",
      "\u001b[1;31mAttributeError\u001b[0m                            Traceback (most recent call last)",
      "\u001b[1;32m<ipython-input-32-95634f347065>\u001b[0m in \u001b[0;36m<module>\u001b[1;34m\u001b[0m\n\u001b[1;32m----> 1\u001b[1;33m \u001b[0mprint\u001b[0m \u001b[1;33m(\u001b[0m\u001b[1;34m\"Accuracy for the development test set: \"\u001b[0m\u001b[1;33m,\u001b[0m \u001b[0mresults\u001b[0m\u001b[1;33m.\u001b[0m\u001b[0mval_categorical_accuracy\u001b[0m\u001b[1;33m.\u001b[0m\u001b[0mvalues\u001b[0m\u001b[1;33m[\u001b[0m\u001b[1;33m-\u001b[0m\u001b[1;36m1\u001b[0m\u001b[1;33m:\u001b[0m\u001b[1;33m]\u001b[0m\u001b[1;33m[\u001b[0m\u001b[1;36m0\u001b[0m\u001b[1;33m]\u001b[0m\u001b[1;33m)\u001b[0m\u001b[1;33m\u001b[0m\u001b[1;33m\u001b[0m\u001b[0m\n\u001b[0m",
      "\u001b[1;32m~\\anaconda3\\lib\\site-packages\\pandas\\core\\generic.py\u001b[0m in \u001b[0;36m__getattr__\u001b[1;34m(self, name)\u001b[0m\n\u001b[0;32m   5137\u001b[0m             \u001b[1;32mif\u001b[0m \u001b[0mself\u001b[0m\u001b[1;33m.\u001b[0m\u001b[0m_info_axis\u001b[0m\u001b[1;33m.\u001b[0m\u001b[0m_can_hold_identifiers_and_holds_name\u001b[0m\u001b[1;33m(\u001b[0m\u001b[0mname\u001b[0m\u001b[1;33m)\u001b[0m\u001b[1;33m:\u001b[0m\u001b[1;33m\u001b[0m\u001b[1;33m\u001b[0m\u001b[0m\n\u001b[0;32m   5138\u001b[0m                 \u001b[1;32mreturn\u001b[0m \u001b[0mself\u001b[0m\u001b[1;33m[\u001b[0m\u001b[0mname\u001b[0m\u001b[1;33m]\u001b[0m\u001b[1;33m\u001b[0m\u001b[1;33m\u001b[0m\u001b[0m\n\u001b[1;32m-> 5139\u001b[1;33m             \u001b[1;32mreturn\u001b[0m \u001b[0mobject\u001b[0m\u001b[1;33m.\u001b[0m\u001b[0m__getattribute__\u001b[0m\u001b[1;33m(\u001b[0m\u001b[0mself\u001b[0m\u001b[1;33m,\u001b[0m \u001b[0mname\u001b[0m\u001b[1;33m)\u001b[0m\u001b[1;33m\u001b[0m\u001b[1;33m\u001b[0m\u001b[0m\n\u001b[0m\u001b[0;32m   5140\u001b[0m \u001b[1;33m\u001b[0m\u001b[0m\n\u001b[0;32m   5141\u001b[0m     \u001b[1;32mdef\u001b[0m \u001b[0m__setattr__\u001b[0m\u001b[1;33m(\u001b[0m\u001b[0mself\u001b[0m\u001b[1;33m,\u001b[0m \u001b[0mname\u001b[0m\u001b[1;33m:\u001b[0m \u001b[0mstr\u001b[0m\u001b[1;33m,\u001b[0m \u001b[0mvalue\u001b[0m\u001b[1;33m)\u001b[0m \u001b[1;33m->\u001b[0m \u001b[1;32mNone\u001b[0m\u001b[1;33m:\u001b[0m\u001b[1;33m\u001b[0m\u001b[1;33m\u001b[0m\u001b[0m\n",
      "\u001b[1;31mAttributeError\u001b[0m: 'DataFrame' object has no attribute 'val_categorical_accuracy'"
     ]
    }
   ],
   "source": [
    "print (\"Accuracy for the development test set: \", results.val_categorical_accuracy.values[-1:][0])"
   ]
  },
  {
   "cell_type": "code",
   "execution_count": null,
   "metadata": {},
   "outputs": [],
   "source": []
  },
  {
   "cell_type": "markdown",
   "metadata": {},
   "source": [
    "#### Let's see how the model predicts using the development test set:"
   ]
  },
  {
   "cell_type": "code",
   "execution_count": 28,
   "metadata": {},
   "outputs": [
    {
     "data": {
      "text/plain": [
       "array([[0.44, 0.51, 0.05],\n",
       "       [0.06, 0.25, 0.69],\n",
       "       [0.92, 0.02, 0.06],\n",
       "       [0.2 , 0.61, 0.18],\n",
       "       [0.07, 0.92, 0.01],\n",
       "       [0.04, 0.54, 0.42],\n",
       "       [0.04, 0.79, 0.17],\n",
       "       [0.  , 0.8 , 0.2 ],\n",
       "       [0.  , 0.09, 0.91],\n",
       "       [0.  , 0.  , 1.  ],\n",
       "       [0.  , 0.01, 0.99],\n",
       "       [0.  , 0.37, 0.63],\n",
       "       [0.09, 0.91, 0.01],\n",
       "       [0.  , 0.99, 0.  ],\n",
       "       [0.01, 0.97, 0.02],\n",
       "       [0.01, 0.24, 0.76],\n",
       "       [0.23, 0.76, 0.02],\n",
       "       [0.  , 0.99, 0.01],\n",
       "       [0.  , 1.  , 0.  ],\n",
       "       [0.  , 0.99, 0.01]], dtype=float32)"
      ]
     },
     "execution_count": 28,
     "metadata": {},
     "output_type": "execute_result"
    }
   ],
   "source": [
    "dev_predictions=model.predict(X_dev).round(2) \n",
    "dev_predictions[:20]"
   ]
  },
  {
   "cell_type": "code",
   "execution_count": 29,
   "metadata": {},
   "outputs": [
    {
     "data": {
      "text/plain": [
       "array([[0., 1., 0.],\n",
       "       [0., 0., 1.],\n",
       "       [1., 0., 0.],\n",
       "       [0., 1., 0.],\n",
       "       [0., 1., 0.],\n",
       "       [0., 1., 0.],\n",
       "       [0., 1., 0.],\n",
       "       [0., 1., 0.],\n",
       "       [0., 0., 1.],\n",
       "       [0., 0., 1.],\n",
       "       [0., 0., 1.],\n",
       "       [0., 0., 1.],\n",
       "       [0., 1., 0.],\n",
       "       [0., 1., 0.],\n",
       "       [0., 1., 0.],\n",
       "       [0., 0., 1.],\n",
       "       [0., 1., 0.],\n",
       "       [0., 1., 0.],\n",
       "       [0., 1., 0.],\n",
       "       [0., 1., 0.]], dtype=float32)"
      ]
     },
     "execution_count": 29,
     "metadata": {},
     "output_type": "execute_result"
    }
   ],
   "source": [
    "dev_rounded_predictions=np.round(dev_predictions)\n",
    "indices = np.argmax(dev_predictions,1)\n",
    "for row, index in zip(dev_rounded_predictions, indices): row[index]=1\n",
    "dev_rounded_predictions[:20]"
   ]
  },
  {
   "cell_type": "code",
   "execution_count": 30,
   "metadata": {},
   "outputs": [
    {
     "data": {
      "text/plain": [
       "array([[0., 1., 0.],\n",
       "       [0., 1., 0.],\n",
       "       [0., 1., 0.],\n",
       "       [0., 1., 0.],\n",
       "       [0., 1., 0.],\n",
       "       [0., 1., 0.],\n",
       "       [0., 1., 0.],\n",
       "       [0., 1., 0.],\n",
       "       [0., 1., 0.],\n",
       "       [0., 1., 0.],\n",
       "       [0., 1., 0.],\n",
       "       [0., 1., 0.],\n",
       "       [0., 1., 0.],\n",
       "       [0., 1., 0.],\n",
       "       [0., 1., 0.],\n",
       "       [0., 1., 0.],\n",
       "       [0., 1., 0.],\n",
       "       [0., 1., 0.],\n",
       "       [0., 1., 0.],\n",
       "       [0., 1., 0.]])"
      ]
     },
     "execution_count": 30,
     "metadata": {},
     "output_type": "execute_result"
    }
   ],
   "source": [
    "y_dev[:20]"
   ]
  },
  {
   "cell_type": "code",
   "execution_count": 31,
   "metadata": {},
   "outputs": [
    {
     "name": "stdout",
     "output_type": "stream",
     "text": [
      "[ True False False  True  True  True  True  True False False False False\n",
      "  True  True  True False  True  True  True  True  True  True False  True\n",
      " False  True  True  True  True  True]\n"
     ]
    }
   ],
   "source": [
    "dev_correct_predictions = np.equal(np.argmax(dev_rounded_predictions,1),np.argmax(y_dev,1))\n",
    "print (dev_correct_predictions[:30])"
   ]
  },
  {
   "cell_type": "code",
   "execution_count": 32,
   "metadata": {},
   "outputs": [
    {
     "data": {
      "text/plain": [
       "Counter({True: 620, False: 308})"
      ]
     },
     "execution_count": 32,
     "metadata": {},
     "output_type": "execute_result"
    }
   ],
   "source": [
    "from collections import Counter\n",
    "Counter (dev_correct_predictions)"
   ]
  },
  {
   "cell_type": "markdown",
   "metadata": {},
   "source": [
    "### 9. Save model"
   ]
  },
  {
   "cell_type": "markdown",
   "metadata": {},
   "source": [
    "We save the model if it is better than others "
   ]
  },
  {
   "cell_type": "code",
   "execution_count": 30,
   "metadata": {},
   "outputs": [],
   "source": [
    "# Save\n",
    "model.save('./Modelos/EGG_prac1_ANN_model3.h5') # Change the name in each model"
   ]
  },
  {
   "cell_type": "code",
   "execution_count": 34,
   "metadata": {},
   "outputs": [
    {
     "data": {
      "text/plain": [
       "\"\\nnew_model = keras.models.load_model('./Modelos/EGG_prac1_ANN_model3.h5')\\n\\nimport numpy as np\\n\\n# Verify state\\nnew_predictions = new_model.predict(X_dev)\\nnp.testing.assert_allclose(predictions, new_predictions, rtol=1e-6, atol=1e-6)\\n\\n# Note that the optimizer state is also preserved:\\n# you can resume training where you left off.\\n\""
      ]
     },
     "execution_count": 34,
     "metadata": {},
     "output_type": "execute_result"
    }
   ],
   "source": [
    "# Extract\n",
    "\"\"\"\n",
    "new_model = keras.models.load_model('./Modelos/EGG_prac1_ANN_model3.h5')\n",
    "\n",
    "import numpy as np\n",
    "\n",
    "# Verify state\n",
    "new_predictions = new_model.predict(X_dev)\n",
    "np.testing.assert_allclose(predictions, new_predictions, rtol=1e-6, atol=1e-6)\n",
    "\n",
    "# Note that the optimizer state is also preserved:\n",
    "# you can resume training where you left off.\n",
    "\"\"\""
   ]
  },
  {
   "cell_type": "markdown",
   "metadata": {},
   "source": [
    "### 10 - Final Test\n",
    "\n",
    "#### 10.1 - Load the final test set"
   ]
  },
  {
   "cell_type": "code",
   "execution_count": 35,
   "metadata": {},
   "outputs": [],
   "source": [
    "\n",
    "\"\"\"\n",
    "from sklearn.pipeline import make_pipeline\n",
    "from sklearn.preprocessing import StandardScaler, OneHotEncoder\n",
    "from sklearn.linear_model import Perceptron\n",
    "\n",
    "total_records = 4 # CAMBIAR SI HAY MAS REGISTROS\n",
    "\n",
    "task1 = 122 # SE PUEDE CAMBIAR\n",
    "task2 = 123 # SE PUEDE CAMBIAR\n",
    "task3 = 127 # SE PUEDE CAMBIAR\n",
    "users = [\"0091\"] # SE PUEDE CAMBIAR\n",
    "\"\"\""
   ]
  },
  {
   "cell_type": "code",
   "execution_count": 36,
   "metadata": {},
   "outputs": [],
   "source": [
    "\"\"\"\n",
    "def readRegisterAndReturnXy(user, total_records, task1, task2, task3 = \"\"):\n",
    "    lTaskData = []\n",
    "    for i_rec in range(1,total_records+1):\n",
    "            record = \"userS\"+user+\"f\"+str(i_rec)+\".mat\"\n",
    "            output = read_outputs(record) # output.task será y, output.data será x\n",
    "\n",
    "            if task3 != \"\":\n",
    "                outT = (output.task == task1) | (output.task == task2) | (output.task == task3) \n",
    "            else: \n",
    "                outT = (output.task == task1) | (output.task == task2)\n",
    "            outData = output.data[outT[:,0],0:np.shape(output.data)[1]]\n",
    "\n",
    "            outTask = output.task[outT[:,0]]\n",
    "            outTD = OutTaskData(outTask, outData)\n",
    "            lTaskData.append(outTD)\n",
    "\n",
    "    X_test, y_test = [],[]\n",
    "    for j in range(0,total_records):\n",
    "        X_test.extend(lTaskData[j].data)\n",
    "        y_test.extend(lTaskData[j].task)\n",
    "\n",
    "    X_test = np.array(X_test)\n",
    "    y_test = np.ravel(np.array(y_test))\n",
    "\n",
    "    print (\"X_test:\",X_test.shape)\n",
    "    print (\"y_test:\",y_test.shape)\n",
    "\n",
    "    # ONE HOT ENCODER\n",
    "    encoder = make_pipeline(StandardScaler(), OneHotEncoder(categories=\"auto\", sparse=False)) # Function that one-hot encodes integers))\n",
    "    y_test = encoder.fit_transform (y_test.reshape(-1,1)) # y_one_hot\n",
    "\n",
    "    print(\"ONE HOT ENCODER:\")\n",
    "    print (\"X_test:\",X_test.shape)\n",
    "    print (\"y_test:\",y_test.shape)\n",
    "    \n",
    "    return X_test, y_test\n",
    "\"\"\""
   ]
  },
  {
   "cell_type": "code",
   "execution_count": null,
   "metadata": {},
   "outputs": [],
   "source": []
  },
  {
   "cell_type": "code",
   "execution_count": 37,
   "metadata": {},
   "outputs": [
    {
     "data": {
      "text/plain": [
       "'\\nn_final_test = n_instances-n_train-n_dev\\n\\nx_final_test = attributes.values[n_train+n_dev:n_instances]\\nt_final_test = label.values[n_train+n_dev:n_instances]\\n\\nprint (\"x_test:\",x_final_test.shape)\\nprint (\"t_test:\",t_final_test.shape)\\n\\n\\n'"
      ]
     },
     "execution_count": 37,
     "metadata": {},
     "output_type": "execute_result"
    }
   ],
   "source": [
    "\"\"\"\n",
    "n_final_test = n_instances-n_train-n_dev\n",
    "\n",
    "x_final_test = attributes.values[n_train+n_dev:n_instances]\n",
    "t_final_test = label.values[n_train+n_dev:n_instances]\n",
    "\n",
    "print (\"x_test:\",x_final_test.shape)\n",
    "print (\"t_test:\",t_final_test.shape)\n",
    "\n",
    "\n",
    "\"\"\""
   ]
  },
  {
   "cell_type": "markdown",
   "metadata": {},
   "source": [
    "#### 10.2 - Evaluate the model"
   ]
  },
  {
   "cell_type": "code",
   "execution_count": 37,
   "metadata": {},
   "outputs": [],
   "source": [
    "from collections import Counter\n",
    "def predictWithModel(model, X_test, y_test, task1, task2, task3=\"\"):\n",
    "    model.evaluate(X_test, y_test)\n",
    "    test_predictions = model.predict(X_test)\n",
    "    test_rounded_predictions=np.round(test_predictions)\n",
    "    indices = np.argmax(test_predictions,1)\n",
    "    for row, index in zip(test_rounded_predictions, indices): row[index]=1\n",
    "    print(test_rounded_predictions[:20])\n",
    "    \n",
    "    # ACCURACY:\n",
    "    test_correct_predictions = np.equal(np.argmax(test_rounded_predictions,1),np.argmax(y_test,1))\n",
    "    print()\n",
    "    print(test_correct_predictions)\n",
    "    print(type(test_correct_predictions))\n",
    "    final_test_prediction_results=Counter(test_correct_predictions)\n",
    "    \n",
    "    success = np.mean(test_rounded_predictions == y_test)*100\n",
    "    \n",
    "    return final_test_prediction_results, success"
   ]
  },
  {
   "cell_type": "code",
   "execution_count": 38,
   "metadata": {},
   "outputs": [
    {
     "name": "stdout",
     "output_type": "stream",
     "text": [
      "USER: 0091\n",
      "29/29 [==============================] - 0s 1ms/step - loss: 1.5197 - categorical_accuracy: 0.6156\n",
      "[[0. 1. 0.]\n",
      " [0. 1. 0.]\n",
      " [0. 1. 0.]\n",
      " [0. 1. 0.]\n",
      " [0. 1. 0.]\n",
      " [0. 1. 0.]\n",
      " [0. 1. 0.]\n",
      " [1. 0. 0.]\n",
      " [1. 0. 0.]\n",
      " [1. 0. 0.]\n",
      " [0. 1. 0.]\n",
      " [0. 1. 0.]\n",
      " [0. 1. 0.]\n",
      " [0. 1. 0.]\n",
      " [0. 1. 0.]\n",
      " [0. 0. 1.]\n",
      " [0. 1. 0.]\n",
      " [0. 1. 0.]\n",
      " [0. 1. 0.]\n",
      " [0. 1. 0.]]\n",
      "\n",
      "[ True  True  True  True  True  True  True False False False  True  True\n",
      "  True  True  True False  True  True  True  True  True  True False False\n",
      "  True False False False  True  True  True  True  True  True  True  True\n",
      "  True False False False  True  True  True False  True False False  True\n",
      "  True False False False  True  True  True  True False False False False\n",
      "  True  True  True  True  True  True  True False False  True  True False\n",
      " False False False  True  True  True  True False False False False False\n",
      " False False False  True False False  True False False  True False  True\n",
      "  True  True  True  True False False False False  True  True False  True\n",
      "  True False False  True  True  True  True False False  True  True False\n",
      " False False  True  True  True  True False False  True  True False False\n",
      "  True False  True  True False  True  True  True False  True False False\n",
      " False  True False  True False False False False False  True False  True\n",
      " False  True  True False False False False False False False False False\n",
      " False False  True  True  True  True  True False False False False False\n",
      "  True False False  True  True  True  True  True  True  True False False\n",
      " False False  True  True  True  True  True  True  True  True  True  True\n",
      "  True  True  True  True  True  True  True  True  True  True  True  True\n",
      "  True  True  True  True  True  True  True  True  True  True  True  True\n",
      "  True  True  True  True  True  True  True  True  True False False False\n",
      " False False  True  True  True  True False False False False False False\n",
      " False False  True  True  True  True  True  True  True  True  True  True\n",
      "  True  True  True  True  True  True  True  True  True  True  True  True\n",
      "  True  True  True  True  True  True  True  True False False  True  True\n",
      "  True  True  True  True  True  True  True  True  True False False False\n",
      " False False False  True  True False  True  True  True  True  True  True\n",
      "  True  True  True  True  True  True False  True  True  True  True  True\n",
      "  True  True False  True False  True  True  True  True  True  True  True\n",
      "  True  True False  True  True  True  True  True  True  True  True  True\n",
      " False False False  True False  True  True  True  True  True  True False\n",
      "  True False False  True False  True  True  True  True  True  True  True\n",
      "  True  True  True  True False False False False False False  True  True\n",
      "  True  True  True  True  True False False  True False  True  True False\n",
      " False False  True  True  True  True  True  True False False False False\n",
      " False False False False  True False  True  True False False  True False\n",
      " False False False False  True False  True False  True  True  True  True\n",
      "  True False  True  True  True False  True False False False False False\n",
      "  True  True  True  True  True  True  True False  True False False False\n",
      " False False False False False False  True  True  True False False False\n",
      " False False False False False False False False  True False False False\n",
      " False False False False False False False False False False False False\n",
      " False False False False False False  True False False  True  True  True\n",
      "  True  True False False False False False False False False False  True\n",
      " False False False  True False False False  True  True  True  True  True\n",
      " False  True False False  True  True  True  True  True  True False  True\n",
      "  True  True  True  True  True  True  True  True  True  True  True  True\n",
      "  True  True  True  True  True  True  True  True  True  True  True  True\n",
      "  True  True  True  True  True  True  True  True  True  True  True  True\n",
      "  True  True  True  True  True  True  True  True  True  True  True  True\n",
      "  True  True  True  True  True  True  True  True  True  True  True  True\n",
      "  True  True  True  True  True  True False False False  True False  True\n",
      "  True False  True  True  True False False  True False False False  True\n",
      "  True  True False False False False  True  True False False False False\n",
      " False False False  True  True  True False False False False  True  True\n",
      "  True False False False False  True  True  True  True  True  True  True\n",
      " False  True False False  True  True  True  True  True  True False False\n",
      "  True False False  True  True  True  True  True False False False  True\n",
      "  True  True  True  True  True False False False False False False False\n",
      " False False  True False False False  True False  True False False  True\n",
      " False  True  True  True False False False False False False False  True\n",
      " False  True  True  True  True  True  True False False  True  True  True\n",
      "  True  True  True False False  True False  True  True  True  True  True\n",
      " False False  True False False  True False  True  True  True False False\n",
      " False False False False False False False False False False  True  True\n",
      "  True False False  True False  True  True  True  True  True  True  True\n",
      "  True  True  True  True  True  True  True  True  True  True  True  True\n",
      "  True  True  True  True  True  True  True  True  True  True  True  True\n",
      "  True False  True False False False False False  True  True  True  True\n",
      "  True  True  True  True  True  True  True  True  True  True False  True\n",
      "  True  True  True  True  True  True  True  True  True  True  True  True\n",
      "  True  True  True  True False False False  True  True  True  True  True\n",
      "  True  True  True  True  True  True  True  True  True  True  True  True\n",
      "  True  True  True  True  True  True False  True  True  True  True  True\n",
      "  True  True False False  True  True  True  True  True  True False  True\n",
      " False False False False False False False False False False False False\n",
      " False False False False False False False False]\n",
      "<class 'numpy.ndarray'>\n",
      "0091 Counter({True: 559, False: 349}) 74.37591776798826\n",
      "\n"
     ]
    }
   ],
   "source": [
    "users = [\"0091\"]\n",
    "for u in users:   \n",
    "    print(\"USER:\", u)\n",
    "    #X_test, y_test = readRegisterAndReturnXy(u, total_records, 122, 123, 127)\n",
    "    accuracy, success = predictWithModel(model, X_test, y_test, 122, 123, 127)\n",
    "    print(u, accuracy, success)\n",
    "    print()"
   ]
  },
  {
   "cell_type": "code",
   "execution_count": 40,
   "metadata": {},
   "outputs": [],
   "source": [
    "#model.evaluate(x_final_test, t_final_test) # Un 77 es un accuracy bajo "
   ]
  },
  {
   "cell_type": "markdown",
   "metadata": {},
   "source": [
    "The outputs computed by the neural network for the final testing dataset."
   ]
  },
  {
   "cell_type": "code",
   "execution_count": 41,
   "metadata": {},
   "outputs": [
    {
     "data": {
      "text/plain": [
       "'\\ntest_predictions=model.predict(x_final_test)\\ntest_rounded_predictions=np.round(test_predictions)\\nindices = np.argmax(test_predictions,1)\\nfor row, index in zip(test_rounded_predictions, indices): row[index]=1\\ntest_rounded_predictions[:20]\\n'"
      ]
     },
     "execution_count": 41,
     "metadata": {},
     "output_type": "execute_result"
    }
   ],
   "source": [
    "\"\"\"\n",
    "test_predictions=model.predict(x_final_test)\n",
    "test_rounded_predictions=np.round(test_predictions)\n",
    "indices = np.argmax(test_predictions,1)\n",
    "for row, index in zip(test_rounded_predictions, indices): row[index]=1\n",
    "test_rounded_predictions[:20]\n",
    "\"\"\""
   ]
  },
  {
   "cell_type": "markdown",
   "metadata": {},
   "source": [
    "The target outputs."
   ]
  },
  {
   "cell_type": "code",
   "execution_count": 42,
   "metadata": {},
   "outputs": [],
   "source": [
    "# t_final_test[:20]"
   ]
  },
  {
   "cell_type": "markdown",
   "metadata": {},
   "source": [
    "The first 30 predictions. True means that the neural network correctly classifies the input vector."
   ]
  },
  {
   "cell_type": "code",
   "execution_count": 43,
   "metadata": {},
   "outputs": [],
   "source": [
    "# test_correct_predictions = np.equal(np.argmax(test_rounded_predictions,1),np.argmax(t_final_test,1))\n",
    "# test_correct_predictions[:30]"
   ]
  },
  {
   "cell_type": "markdown",
   "metadata": {},
   "source": [
    "#### The final test accuracy."
   ]
  },
  {
   "cell_type": "code",
   "execution_count": 44,
   "metadata": {},
   "outputs": [
    {
     "data": {
      "text/plain": [
       "'from collections import Counter\\nfinal_test_prediction_results=Counter(test_correct_predictions)\\nfinal_test_prediction_results'"
      ]
     },
     "execution_count": 44,
     "metadata": {},
     "output_type": "execute_result"
    }
   ],
   "source": [
    "\"\"\"from collections import Counter\n",
    "final_test_prediction_results=Counter(test_correct_predictions)\n",
    "final_test_prediction_results\"\"\""
   ]
  },
  {
   "cell_type": "code",
   "execution_count": 45,
   "metadata": {},
   "outputs": [],
   "source": [
    "#final_test_prediction_results[True]/sum(final_test_prediction_results.values())"
   ]
  },
  {
   "cell_type": "code",
   "execution_count": null,
   "metadata": {},
   "outputs": [],
   "source": []
  }
 ],
 "metadata": {
  "kernelspec": {
   "display_name": "Python 3",
   "language": "python",
   "name": "python3"
  },
  "language_info": {
   "codemirror_mode": {
    "name": "ipython",
    "version": 3
   },
   "file_extension": ".py",
   "mimetype": "text/x-python",
   "name": "python",
   "nbconvert_exporter": "python",
   "pygments_lexer": "ipython3",
   "version": "3.8.5"
  }
 },
 "nbformat": 4,
 "nbformat_minor": 4
}
