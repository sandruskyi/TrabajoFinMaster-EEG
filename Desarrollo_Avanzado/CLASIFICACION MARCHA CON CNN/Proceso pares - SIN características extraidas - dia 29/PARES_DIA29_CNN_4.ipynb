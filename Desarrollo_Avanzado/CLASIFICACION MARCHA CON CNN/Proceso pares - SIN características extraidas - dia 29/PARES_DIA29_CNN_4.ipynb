{
 "cells": [
  {
   "cell_type": "markdown",
   "metadata": {},
   "source": [
    "# Parte 4: Clasificación con CNN"
   ]
  },
  {
   "cell_type": "markdown",
   "metadata": {},
   "source": [
    "### Resultados con la arquitectura anterior: "
   ]
  },
  {
   "cell_type": "markdown",
   "metadata": {},
   "source": [
    "\n",
    "\n",
    "Resultados:\n",
    "    \n",
    "    TRAIN                   DEV\n",
    "    loss       accuracy     val_loss    val_accuracy\n",
    "    0.769088\t0.543367\t0.785224\t0.530612\n",
    "    \n",
    "Por tanto: \n",
    "\n",
    "    E = 1 - Accuracy\n",
    "    Etrain = 1 - 0.543367\t = 0.456633\n",
    "    Etest = 1 - 0.530612 = 0.469388\n",
    "    \n",
    "    Bias = Etrain - Ehuman = 0.456633\n",
    "    Variance = Etest - Etrain = 0.469388 -  0.456633 = 0.012755\n",
    "\n",
    "La varianza ha disminuido, pero el bias ha aumentado considerablemente 46%. Para mejorar esto será necesario añadir más complejidad, elegir una mejor optimización, cambiando la arquitectura (más neuronas, más capas)..."
   ]
  },
  {
   "cell_type": "markdown",
   "metadata": {},
   "source": [
    "### Cambios realizados"
   ]
  },
  {
   "cell_type": "markdown",
   "metadata": {},
   "source": [
    "Se va a probar con un mejor optimizador NAG opt = optimizers.SGD(lr=0.001, momentum = 0.9, nesterov = True)         (momentum con un vector más efectivo) (Antiguo Adam(lr=0.001, beta_1=0.9, beta_2=0.999)   Pero no se ha visto mejora, así que esto se invierte\n",
    "\n",
    "Se ha cambiado el número de filtros con varias combinaciones, pero ninguna ha resultado satisfactoria. Ya que se produce un overfitting brutal\n",
    "\n",
    "los resultados son muy raros asi que nos quedamos con el PARES_DIA29_CNN_3"
   ]
  },
  {
   "cell_type": "markdown",
   "metadata": {},
   "source": [
    "### Nuevos resultados: "
   ]
  },
  {
   "cell_type": "markdown",
   "metadata": {},
   "source": []
  },
  {
   "cell_type": "markdown",
   "metadata": {},
   "source": [
    "### 1 - Import Libraries"
   ]
  },
  {
   "cell_type": "code",
   "execution_count": 1,
   "metadata": {},
   "outputs": [],
   "source": [
    "# Tensorflow and tf.keras\n",
    "import tensorflow as tf\n",
    "from tensorflow import keras\n",
    "\n",
    "#Helper libraries\n",
    "import matplotlib.pyplot as plt\n",
    "import pandas as pd\n",
    "import numpy as np\n",
    "\n",
    "# Signal libraries\n",
    "from scipy import signal\n"
   ]
  },
  {
   "cell_type": "markdown",
   "metadata": {},
   "source": [
    "### 2 - Load data"
   ]
  },
  {
   "cell_type": "code",
   "execution_count": 2,
   "metadata": {},
   "outputs": [],
   "source": [
    "class ROutput:\n",
    "    def __init__(self, task, data):\n",
    "        self.task = task\n",
    "        self.data = data\n",
    "        \n",
    "class OutTaskData: \n",
    "    def __init__(self, task, data): \n",
    "        self.task = task\n",
    "        self.data = data"
   ]
  },
  {
   "cell_type": "code",
   "execution_count": 3,
   "metadata": {},
   "outputs": [],
   "source": [
    "import scipy.io as sio\n",
    "# Primero leemos los registros\n",
    "def read_outputs(rec):\n",
    "    '''read_outputs(\"userS0091f1.mat\")'''\n",
    "    mat = sio.loadmat(rec)\n",
    "    mdata = mat['session']\n",
    "    val = mdata[0,0]\n",
    "    #output = ROutput(np.array(val[\"task\"]), np.array(val[\"data\"]))\n",
    "    output = ROutput(np.array(val[\"task_EEG\"]), np.array(val[\"data_EEG\"]))\n",
    "    return output"
   ]
  },
  {
   "cell_type": "markdown",
   "metadata": {},
   "source": [
    "### Cargamos los datos"
   ]
  },
  {
   "cell_type": "code",
   "execution_count": 4,
   "metadata": {},
   "outputs": [],
   "source": [
    "# Configuración\n",
    "from sklearn.pipeline import make_pipeline\n",
    "from sklearn.preprocessing import StandardScaler, OneHotEncoder\n",
    "from sklearn.linear_model import Perceptron\n",
    "from keras.utils import to_categorical\n",
    "\n",
    "\n",
    "task1 = 402 # SE PUEDE CAMBIAR\n",
    "task2 = 404 # SE PUEDE CAMBIAR\n",
    "task_OneHotEnconding = {402: [1.,0.], 404: [0.,1.]}\n",
    "user = 'W29' # SE PUEDE CAMBIAR\n",
    "day = '0329'\n",
    "folder_day = 'W29-29_03_2021'\n",
    "total_records = 22 # CAMBIAR SI HAY MAS REGISTROS\n",
    "fm = 200\n",
    "electrodes_names_selected = ['F3', 'FZ', 'FC1','FCZ','C1','CZ','CP1','CPZ', 'FC5', 'FC3','C5','C3','CP5','CP3','P3',\n",
    "                             'PZ','F4','FC2','FC4','FC6','C2','C4','CP2','CP4','C6','CP6','P4','HR' ,'HL', 'VU', 'VD']\n",
    "number_channels = len(electrodes_names_selected)\n"
   ]
  },
  {
   "cell_type": "code",
   "execution_count": 5,
   "metadata": {},
   "outputs": [
    {
     "name": "stdout",
     "output_type": "stream",
     "text": [
      "11 22\n"
     ]
    }
   ],
   "source": [
    "# Lectura de registros\n",
    "lTaskData = []\n",
    "\n",
    "total_records_used = 0\n",
    "for i_rec in range(1,total_records+1):\n",
    "    i_rec_record = i_rec\n",
    "    if i_rec_record <10:\n",
    "        i_rec_record = \"0\"+str(i_rec_record)\n",
    "    if i_rec % 2 == 0: # Registros impares primero: USUARIO SIN MOVIMIENTO SOLO PENSANDO\n",
    "        record = \"./RegistrosSinProcesar/\"+folder_day+\"/W29_2021\"+day+\"_openloop_\"+str(i_rec_record)+\".mat\"\n",
    "        output = read_outputs(record) # output.task será y, output.data será x\n",
    "\n",
    "        outT = (output.task == task1) | (output.task == task2)\n",
    "\n",
    "        outData = output.data[0:np.shape(output.data)[0], outT[0,:]]\n",
    "        outTask = output.task[0, outT[0,:]]\n",
    "        outTD = OutTaskData(outTask, outData)\n",
    "        lTaskData.append(outTD)\n",
    "        total_records_used+=1\n",
    "\n",
    "print(total_records_used, total_records)"
   ]
  },
  {
   "cell_type": "code",
   "execution_count": 6,
   "metadata": {},
   "outputs": [
    {
     "name": "stdout",
     "output_type": "stream",
     "text": [
      "X_train: (8, 31, 5600)\n",
      "y_train: (8, 5600)\n",
      "X_dev: (2, 31, 5600)\n",
      "y_dev: (2, 5600)\n",
      "X_test: (1, 31, 5600)\n",
      "y_test: (1, 5600)\n",
      "WINDOWING & ONE HOT ENCODER:\n",
      "X_train: (392, 31, 300, 1)\n",
      "y_train: (392, 2)\n",
      "X_dev: (98, 31, 300, 1)\n",
      "y_dev: (98, 2)\n",
      "X_test: (49, 31, 300, 1)\n",
      "y_test: (49, 2)\n"
     ]
    }
   ],
   "source": [
    "# Vamos a coger 2 registros para el entrenamiento, 1 para el conjunto dev set, 1 para el test set\n",
    "X_train, y_train, X_dev, y_dev, X_test, y_test = [],[],[],[],[],[] \n",
    "for j in range(0,total_records_used-3): # Cogemos 8 registros para entrenamiento\n",
    "    X_train.append(lTaskData[j].data)\n",
    "    y_train.append(lTaskData[j].task)\n",
    "\n",
    "for j in range(total_records_used-3,total_records_used-1): # Cogemos 2 registros para el dev set\n",
    "    X_dev.append(lTaskData[j].data)\n",
    "    y_dev.append(lTaskData[j].task)\n",
    "for j in range(total_records_used-1,total_records_used): # Cogemos 1 registros para el test set\n",
    "    X_test.append(lTaskData[j].data)\n",
    "    y_test.append(lTaskData[j].task)\n",
    "\n",
    "X_train = np.array(X_train)\n",
    "#y_train = np.ravel(np.array(y_train))\n",
    "y_train = np.array(y_train)\n",
    "X_dev = np.array(X_dev)\n",
    "#y_dev = np.ravel(np.array(y_dev))\n",
    "y_dev = np.array(y_dev)\n",
    "X_test = np.array(X_test)\n",
    "y_test = np.array(y_test)\n",
    "#y_test = np.ravel(np.array(y_test))\n",
    "\n",
    "print (\"X_train:\",X_train.shape)\n",
    "print (\"y_train:\",y_train.shape)\n",
    "print (\"X_dev:\",X_dev.shape)\n",
    "print (\"y_dev:\",y_dev.shape)\n",
    "print (\"X_test:\",X_test.shape)\n",
    "print (\"y_test:\",y_test.shape)\n",
    "\n",
    "\n",
    "# VENTANEO Y ONE HOT ENCODING \n",
    "window = 300\n",
    "samples_advance = 100\n",
    "\n",
    "# Ventaneo X_train\n",
    "\n",
    "X_train_l = []\n",
    "y_train_l = []\n",
    "for num_X_train in range(np.shape(X_train)[0]):\n",
    "    win_init = int(0)\n",
    "    window_position = 0\n",
    "    \n",
    "    for i in range(np.shape(X_train)[2]): # For each signal registered\n",
    "        win_end = int(win_init + window)\n",
    "        if win_end >= np.shape(X_train)[2]:\n",
    "            break\n",
    "\n",
    "        task = np.unique(y_train[num_X_train,win_init:win_end])\n",
    "\n",
    "        if len(task)==1:\n",
    "        #if task1 in task or task2 in task:\n",
    "            signal_window = X_train[num_X_train, :, win_init:win_end]\n",
    "            \n",
    "            #data_filtered = preprocessing(signal_window, fm, number_channels)\n",
    "            #X_train_l.append(data_filtered)\n",
    "            X_train_l.append(signal_window)\n",
    "            taskOH = task_OneHotEnconding[task[0]]\n",
    "            y_train_l.append(taskOH)\n",
    "            \n",
    "        win_init += int(samples_advance)\n",
    "\n",
    "X_train_l = np.array(X_train_l)\n",
    "y_train_l = np.array(y_train_l)\n",
    "\n",
    "\n",
    "# Ventaneo X_dev\n",
    "X_dev_l = []\n",
    "y_dev_l = []\n",
    "for num_X_dev in range(np.shape(X_dev)[0]):\n",
    "    win_init = int(0)\n",
    "    window_position = 0\n",
    "    \n",
    "    for i in range(np.shape(X_dev)[2]): # For each signal registered\n",
    "        win_end = int(win_init + window)\n",
    "        if win_end >= np.shape(X_dev)[2]:\n",
    "            break\n",
    "\n",
    "        task = np.unique(y_dev[num_X_dev,win_init:win_end])\n",
    "\n",
    "        if len(task)==1:\n",
    "        #if task1 in task or task2 in task:\n",
    "            signal_window = X_dev[num_X_dev, :, win_init:win_end]\n",
    "            \n",
    "            #data_filtered = preprocessing(signal_window, fm, number_channels)\n",
    "            #X_train_l.append(data_filtered)\n",
    "            X_dev_l.append(signal_window)\n",
    "            taskOH = task_OneHotEnconding[task[0]]\n",
    "            y_dev_l.append(taskOH)\n",
    "            \n",
    "        win_init += int(samples_advance)\n",
    "\n",
    "X_dev_l = np.array(X_dev_l)\n",
    "y_dev_l = np.array(y_dev_l)\n",
    "\n",
    "# Ventaneo X_test\n",
    "X_test_l = []\n",
    "y_test_l = []\n",
    "for num_X_test in range(np.shape(X_test)[0]):\n",
    "    win_init = int(0)\n",
    "    window_position = 0\n",
    "    \n",
    "    for i in range(np.shape(X_test)[2]): # For each signal registered\n",
    "        win_end = int(win_init + window)\n",
    "        if win_end >= np.shape(X_test)[2]:\n",
    "            break\n",
    "\n",
    "        task = np.unique(y_test[num_X_test,win_init:win_end])\n",
    "\n",
    "        if len(task)==1:\n",
    "        #if task1 in task or task2 in task:\n",
    "            signal_window = X_test[num_X_test, :, win_init:win_end]\n",
    "            \n",
    "            #data_filtered = preprocessing(signal_window, fm, number_channels)\n",
    "            #X_train_l.append(data_filtered)\n",
    "            X_test_l.append(signal_window)\n",
    "            taskOH = task_OneHotEnconding[task[0]]\n",
    "            y_test_l.append(taskOH)\n",
    "            \n",
    "        win_init += int(samples_advance)\n",
    "\n",
    "X_test_l = np.array(X_test_l)\n",
    "y_test_l = np.array(y_test_l)\n",
    "\n",
    "\n",
    "\n",
    "\n",
    "X_train_l = X_train_l.reshape((np.shape(X_train_l)[0],np.shape(X_train_l)[1],np.shape(X_train_l)[2], 1))\n",
    "X_dev_l = X_dev_l.reshape((np.shape(X_dev_l)[0],np.shape(X_dev_l)[1],np.shape(X_dev_l)[2], 1))\n",
    "X_test_l = X_test_l.reshape((np.shape(X_test_l)[0],np.shape(X_test_l)[1],np.shape(X_test_l)[2], 1))\n",
    "\n",
    "\n",
    "print(\"WINDOWING & ONE HOT ENCODER:\")\n",
    "print (\"X_train:\",X_train_l.shape)\n",
    "print (\"y_train:\",y_train_l.shape)\n",
    "print (\"X_dev:\",X_dev_l.shape)\n",
    "print (\"y_dev:\",y_dev_l.shape)\n",
    "print (\"X_test:\",X_test_l.shape)\n",
    "print (\"y_test:\",y_test_l.shape)\n",
    "\n",
    "X_train = X_train_l\n",
    "y_train = y_train_l\n",
    "X_dev = X_dev_l\n",
    "y_dev = y_dev_l\n",
    "X_test = X_test_l\n",
    "y_test = y_test_l"
   ]
  },
  {
   "cell_type": "markdown",
   "metadata": {},
   "source": [
    "### 3. Initialize variables"
   ]
  },
  {
   "cell_type": "code",
   "execution_count": 7,
   "metadata": {},
   "outputs": [],
   "source": [
    "INPUTS = X_train.shape[1]\n",
    "OUTPUTS = y_train.shape[1]\n",
    "NUM_TRAINING_EXAMPLES = int(round(X_train.shape[0]/1))\n",
    "NUM_DEV_EXAMPLES = int(round(y_train.shape[0]/1))"
   ]
  },
  {
   "cell_type": "markdown",
   "metadata": {},
   "source": [
    "Some data is displayed to test correctness:"
   ]
  },
  {
   "cell_type": "code",
   "execution_count": 8,
   "metadata": {},
   "outputs": [
    {
     "data": {
      "text/plain": [
       "array([[[[ -1.46285617],\n",
       "         [  9.24858856],\n",
       "         [ 13.06202602],\n",
       "         ...,\n",
       "         [ 11.49806309],\n",
       "         [  4.27961063],\n",
       "         [ -7.35561275]],\n",
       "\n",
       "        [[ -0.19728436],\n",
       "         [  8.24236679],\n",
       "         [ 14.47707558],\n",
       "         ...,\n",
       "         [  2.49278688],\n",
       "         [ -8.74694061],\n",
       "         [-20.32823753]],\n",
       "\n",
       "        [[ -1.65373003],\n",
       "         [  7.5358305 ],\n",
       "         [ 11.9251194 ],\n",
       "         ...,\n",
       "         [ 14.22552776],\n",
       "         [  4.08782578],\n",
       "         [ -7.53046656]],\n",
       "\n",
       "        ...,\n",
       "\n",
       "        [[ -4.07560062],\n",
       "         [  2.41723967],\n",
       "         [  6.71837902],\n",
       "         ...,\n",
       "         [-16.94368744],\n",
       "         [-20.40544701],\n",
       "         [-28.18542099]],\n",
       "\n",
       "        [[ -0.48136061],\n",
       "         [  6.88277721],\n",
       "         [ 12.5394392 ],\n",
       "         ...,\n",
       "         [  6.86390543],\n",
       "         [ -0.96397668],\n",
       "         [-14.22110939]],\n",
       "\n",
       "        [[-10.04507351],\n",
       "         [-10.92294979],\n",
       "         [-12.16240215],\n",
       "         ...,\n",
       "         [ 19.16641235],\n",
       "         [ 16.05260277],\n",
       "         [  6.45253038]]],\n",
       "\n",
       "\n",
       "       [[[ -0.18412772],\n",
       "         [ -1.46684313],\n",
       "         [ -4.44646168],\n",
       "         ...,\n",
       "         [  2.61015964],\n",
       "         [  4.37181473],\n",
       "         [  2.31093431]],\n",
       "\n",
       "        [[  6.18472481],\n",
       "         [  5.37613392],\n",
       "         [  3.59826875],\n",
       "         ...,\n",
       "         [  7.95284939],\n",
       "         [  9.16329384],\n",
       "         [  7.01533699]],\n",
       "\n",
       "        [[  3.18457246],\n",
       "         [  2.81973338],\n",
       "         [  1.14940405],\n",
       "         ...,\n",
       "         [  9.88821602],\n",
       "         [ 12.2958107 ],\n",
       "         [  9.69403839]],\n",
       "\n",
       "        ...,\n",
       "\n",
       "        [[-32.33745956],\n",
       "         [-35.87310028],\n",
       "         [-40.26018143],\n",
       "         ...,\n",
       "         [-24.55429459],\n",
       "         [-20.1878376 ],\n",
       "         [-22.15607643]],\n",
       "\n",
       "        [[ 13.80256176],\n",
       "         [  7.8867712 ],\n",
       "         [  3.23322511],\n",
       "         ...,\n",
       "         [  1.22555101],\n",
       "         [  2.73482084],\n",
       "         [  2.08545613]],\n",
       "\n",
       "        [[-18.99699402],\n",
       "         [-39.28790665],\n",
       "         [-31.01504135],\n",
       "         ...,\n",
       "         [  1.75268137],\n",
       "         [  1.57163   ],\n",
       "         [-10.58273602]]]])"
      ]
     },
     "execution_count": 8,
     "metadata": {},
     "output_type": "execute_result"
    }
   ],
   "source": [
    "X_train[:2]"
   ]
  },
  {
   "cell_type": "code",
   "execution_count": 9,
   "metadata": {},
   "outputs": [
    {
     "data": {
      "text/plain": [
       "array([[[[-14.11002541],\n",
       "         [-17.80276108],\n",
       "         [-17.5953598 ],\n",
       "         ...,\n",
       "         [-11.3914566 ],\n",
       "         [-17.96568298],\n",
       "         [-22.35505676]],\n",
       "\n",
       "        [[-10.62181377],\n",
       "         [-14.43393993],\n",
       "         [-16.67900848],\n",
       "         ...,\n",
       "         [ -4.16002655],\n",
       "         [ -4.8179121 ],\n",
       "         [ -8.88064289]],\n",
       "\n",
       "        [[ -8.96886826],\n",
       "         [-13.63510418],\n",
       "         [-15.53146648],\n",
       "         ...,\n",
       "         [  5.09067202],\n",
       "         [  1.14317751],\n",
       "         [ -5.9626832 ]],\n",
       "\n",
       "        ...,\n",
       "\n",
       "        [[-45.85511017],\n",
       "         [-46.13648224],\n",
       "         [-42.80020905],\n",
       "         ...,\n",
       "         [ -4.04913807],\n",
       "         [ -7.68304825],\n",
       "         [ -9.90781212]],\n",
       "\n",
       "        [[ -2.57004666],\n",
       "         [ -6.47573233],\n",
       "         [ -6.66976357],\n",
       "         ...,\n",
       "         [-17.80778885],\n",
       "         [-27.01833153],\n",
       "         [-31.26036072]],\n",
       "\n",
       "        [[-13.96785164],\n",
       "         [-13.55069828],\n",
       "         [ -3.63626242],\n",
       "         ...,\n",
       "         [  1.26204252],\n",
       "         [  3.55167556],\n",
       "         [ -0.519023  ]]],\n",
       "\n",
       "\n",
       "       [[[-14.91018391],\n",
       "         [-19.89842796],\n",
       "         [-16.69747734],\n",
       "         ...,\n",
       "         [-34.92211151],\n",
       "         [-21.752882  ],\n",
       "         [-20.34329987]],\n",
       "\n",
       "        [[  3.82114506],\n",
       "         [  0.70071411],\n",
       "         [  5.63092709],\n",
       "         ...,\n",
       "         [-29.33329391],\n",
       "         [-14.75400734],\n",
       "         [-13.52703381]],\n",
       "\n",
       "        [[  2.12718725],\n",
       "         [ -0.64036286],\n",
       "         [  0.88972139],\n",
       "         ...,\n",
       "         [-26.81571579],\n",
       "         [-13.50374222],\n",
       "         [-11.28730392]],\n",
       "\n",
       "        ...,\n",
       "\n",
       "        [[ 28.69554138],\n",
       "         [ 31.09426308],\n",
       "         [ 26.21548653],\n",
       "         ...,\n",
       "         [-33.2127037 ],\n",
       "         [-24.92782784],\n",
       "         [-23.84699631]],\n",
       "\n",
       "        [[-13.5495491 ],\n",
       "         [-18.17882538],\n",
       "         [-23.02943039],\n",
       "         ...,\n",
       "         [-16.04459   ],\n",
       "         [ -5.39688826],\n",
       "         [ -5.95491838]],\n",
       "\n",
       "        [[ -0.36124176],\n",
       "         [  0.68827891],\n",
       "         [ -7.52974749],\n",
       "         ...,\n",
       "         [ -8.03001022],\n",
       "         [ -4.69289017],\n",
       "         [ -1.78728068]]]])"
      ]
     },
     "execution_count": 9,
     "metadata": {},
     "output_type": "execute_result"
    }
   ],
   "source": [
    "X_dev[:2]"
   ]
  },
  {
   "cell_type": "code",
   "execution_count": 10,
   "metadata": {},
   "outputs": [
    {
     "data": {
      "text/plain": [
       "array([[1., 0.],\n",
       "       [1., 0.]])"
      ]
     },
     "execution_count": 10,
     "metadata": {},
     "output_type": "execute_result"
    }
   ],
   "source": [
    "y_train[:2]"
   ]
  },
  {
   "cell_type": "code",
   "execution_count": 11,
   "metadata": {},
   "outputs": [
    {
     "data": {
      "text/plain": [
       "array([0., 1.])"
      ]
     },
     "execution_count": 11,
     "metadata": {},
     "output_type": "execute_result"
    }
   ],
   "source": [
    "y_train[-20]"
   ]
  },
  {
   "cell_type": "code",
   "execution_count": 12,
   "metadata": {},
   "outputs": [
    {
     "data": {
      "text/plain": [
       "array([[1., 0.],\n",
       "       [1., 0.]])"
      ]
     },
     "execution_count": 12,
     "metadata": {},
     "output_type": "execute_result"
    }
   ],
   "source": [
    "y_dev[:2]"
   ]
  },
  {
   "cell_type": "code",
   "execution_count": 13,
   "metadata": {},
   "outputs": [
    {
     "data": {
      "text/plain": [
       "(31, 300, 1)"
      ]
     },
     "execution_count": 13,
     "metadata": {},
     "output_type": "execute_result"
    }
   ],
   "source": [
    "X_dev[0].shape"
   ]
  },
  {
   "cell_type": "code",
   "execution_count": 14,
   "metadata": {},
   "outputs": [
    {
     "data": {
      "text/plain": [
       "(98, 31, 300, 1)"
      ]
     },
     "execution_count": 14,
     "metadata": {},
     "output_type": "execute_result"
    }
   ],
   "source": [
    "X_dev.shape"
   ]
  },
  {
   "cell_type": "code",
   "execution_count": 15,
   "metadata": {},
   "outputs": [
    {
     "data": {
      "text/plain": [
       "(392, 31, 300, 1)"
      ]
     },
     "execution_count": 15,
     "metadata": {},
     "output_type": "execute_result"
    }
   ],
   "source": [
    "X_train.shape"
   ]
  },
  {
   "cell_type": "code",
   "execution_count": 16,
   "metadata": {},
   "outputs": [
    {
     "data": {
      "text/plain": [
       "2"
      ]
     },
     "execution_count": 16,
     "metadata": {},
     "output_type": "execute_result"
    }
   ],
   "source": [
    "y_train.shape[1]"
   ]
  },
  {
   "cell_type": "markdown",
   "metadata": {},
   "source": [
    "### 4 - Set hyperparameters"
   ]
  },
  {
   "cell_type": "code",
   "execution_count": 17,
   "metadata": {},
   "outputs": [],
   "source": [
    "# Tensorboard\n",
    "from time import time\n",
    "from keras.callbacks import TensorBoard\n",
    "tensorboard = TensorBoard(log_dir='logs/{}'.format(time()))"
   ]
  },
  {
   "cell_type": "code",
   "execution_count": 18,
   "metadata": {},
   "outputs": [
    {
     "data": {
      "text/plain": [
       "'\\nn_epochs = 100 #2000\\n#learning_rate = 0.001\\nbatch_size = 32 #250 \\nn_neurons_per_hlayer = [500, 250, 75, 25] # Number of units per layer, 4 hidden layers\\nrate_dropout = [0.8, 0.4, 0.2, 0.1]\\nweight_decay = 1e-4\\n'"
      ]
     },
     "execution_count": 18,
     "metadata": {},
     "output_type": "execute_result"
    }
   ],
   "source": [
    "\"\"\"\n",
    "n_epochs = 100 #2000\n",
    "#learning_rate = 0.001\n",
    "batch_size = 32 #250 \n",
    "n_neurons_per_hlayer = [500, 250, 75, 25] # Number of units per layer, 4 hidden layers\n",
    "rate_dropout = [0.8, 0.4, 0.2, 0.1]\n",
    "weight_decay = 1e-4\n",
    "\"\"\""
   ]
  },
  {
   "cell_type": "markdown",
   "metadata": {},
   "source": [
    "### 5 - Build the model: "
   ]
  },
  {
   "cell_type": "code",
   "execution_count": 19,
   "metadata": {},
   "outputs": [
    {
     "name": "stdout",
     "output_type": "stream",
     "text": [
      "Model: \"sequential\"\n",
      "_________________________________________________________________\n",
      "Layer (type)                 Output Shape              Param #   \n",
      "=================================================================\n",
      "conv2d (Conv2D)              (None, 31, 300, 40)       1040      \n",
      "_________________________________________________________________\n",
      "conv2d_1 (Conv2D)            (None, 31, 300, 40)       49640     \n",
      "_________________________________________________________________\n",
      "max_pooling2d (MaxPooling2D) (None, 15, 150, 40)       0         \n",
      "_________________________________________________________________\n",
      "dropout (Dropout)            (None, 15, 150, 40)       0         \n",
      "_________________________________________________________________\n",
      "conv2d_2 (Conv2D)            (None, 15, 150, 80)       28880     \n",
      "_________________________________________________________________\n",
      "conv2d_3 (Conv2D)            (None, 15, 150, 80)       57680     \n",
      "_________________________________________________________________\n",
      "max_pooling2d_1 (MaxPooling2 (None, 7, 75, 80)         0         \n",
      "_________________________________________________________________\n",
      "dropout_1 (Dropout)          (None, 7, 75, 80)         0         \n",
      "_________________________________________________________________\n",
      "conv2d_4 (Conv2D)            (None, 7, 75, 100)        72100     \n",
      "_________________________________________________________________\n",
      "conv2d_5 (Conv2D)            (None, 7, 75, 100)        90100     \n",
      "_________________________________________________________________\n",
      "max_pooling2d_2 (MaxPooling2 (None, 3, 37, 100)        0         \n",
      "_________________________________________________________________\n",
      "dropout_2 (Dropout)          (None, 3, 37, 100)        0         \n",
      "_________________________________________________________________\n",
      "conv2d_6 (Conv2D)            (None, 3, 37, 150)        135150    \n",
      "_________________________________________________________________\n",
      "conv2d_7 (Conv2D)            (None, 3, 37, 150)        202650    \n",
      "_________________________________________________________________\n",
      "max_pooling2d_3 (MaxPooling2 (None, 1, 18, 150)        0         \n",
      "_________________________________________________________________\n",
      "dropout_3 (Dropout)          (None, 1, 18, 150)        0         \n",
      "_________________________________________________________________\n",
      "flatten (Flatten)            (None, 2700)              0         \n",
      "_________________________________________________________________\n",
      "dense (Dense)                (None, 2)                 5402      \n",
      "=================================================================\n",
      "Total params: 642,642\n",
      "Trainable params: 642,642\n",
      "Non-trainable params: 0\n",
      "_________________________________________________________________\n"
     ]
    }
   ],
   "source": [
    "from keras.models import Sequential\n",
    "from keras.layers import Dense, Dropout, Activation, Flatten, DepthwiseConv2D\n",
    "from keras.layers.convolutional import Conv2D, MaxPooling2D\n",
    "from keras import optimizers, regularizers\n",
    "import keras.backend as K\n",
    "#K.set_image_data_format('channels_first')\n",
    "\n",
    "weight_decay = 1e-4\n",
    "\n",
    "model = Sequential()\n",
    "# Convolution2D(filtrosConv1, tamaño_filtro1, padding=\"same\", input_shape=(longitud, altura,3), activation = \"relu\")\n",
    "    # - filtrosConv1 número de filtros que aplicaremos tras la primera convolución, normalmente este tamaño va a aumentando\n",
    "    # tras convoluciones para que aumente la dimensión de profundidad (qué cosas hay en mi imagen)\n",
    "    # - tamaño_filtro1 tamaño espacial del kernel (de los filtros)\n",
    "    # - padding = si es same es que es igual que la imagen, vamos crea una imagen del mismo tamaño con el filtro, si es \n",
    "    # valid es que no hay padding y crea una imagen más pequeña que la imagen (creo)\n",
    "    # - input_shape = longitud y altura, tamaño que usará para convolucionar al entrenar\n",
    "    \n",
    "# CAPA PARA FILTRADO TEMPORAL\n",
    "model.add(Conv2D(filters = 40, kernel_size=(1,25), padding=\"same\", activation=\"relu\",input_shape=(31, 300,1 ), kernel_initializer=\"he_normal\", kernel_regularizer=regularizers.l2(weight_decay)))\n",
    "# CAPA PARA FILTRADO ESPACIAL\n",
    "model.add(Conv2D(filters = 40, kernel_size=(31,1), padding=\"same\", activation=\"relu\", kernel_initializer=\"he_normal\", kernel_regularizer=regularizers.l2(weight_decay)))\n",
    "model.add(MaxPooling2D(pool_size=(2, 2)))\n",
    "\n",
    "model.add(Dropout(0.5))\n",
    "\n",
    "## Siguientes capas convolucionales: \n",
    "model.add(Conv2D(80, (3,3), padding='same',activation='relu', kernel_initializer=\"he_normal\",kernel_regularizer=regularizers.l2(weight_decay)))\n",
    "model.add(Conv2D(80, (3,3), padding='same',activation='relu', kernel_initializer=\"he_normal\",kernel_regularizer=regularizers.l2(weight_decay)))\n",
    "model.add(MaxPooling2D(pool_size=(2,2)))\n",
    "model.add(Dropout(0.4))\n",
    "\n",
    "model.add(Conv2D(100, (3,3), padding='same',activation='relu', kernel_initializer=\"he_normal\",kernel_regularizer=regularizers.l2(weight_decay)))\n",
    "model.add(Conv2D(100, (3,3), padding='same',activation='relu', kernel_initializer=\"he_normal\",kernel_regularizer=regularizers.l2(weight_decay)))\n",
    "model.add(MaxPooling2D(pool_size=(2,2)))\n",
    "model.add(Dropout(0.3))\n",
    "\n",
    "\n",
    "model.add(Conv2D(150, (3,3), padding='same',activation='relu', kernel_initializer=\"he_normal\",kernel_regularizer=regularizers.l2(weight_decay)))\n",
    "model.add(Conv2D(150, (3,3), padding='same',activation='relu', kernel_initializer=\"he_normal\",kernel_regularizer=regularizers.l2(weight_decay)))\n",
    "model.add(MaxPooling2D(pool_size=(2,2)))\n",
    "model.add(Dropout(0.1))\n",
    "\n",
    "\"\"\"\n",
    "model.add(Conv2D(160, (3,3), padding='same',activation='relu', kernel_initializer=\"he_normal\",kernel_regularizer=regularizers.l2(weight_decay)))\n",
    "model.add(MaxPooling2D(pool_size=(2,2)))\n",
    "\"\"\"\n",
    "\n",
    "\n",
    "\"\"\"\n",
    "model.add(MaxPooling2D(pool_size=(2, 2)))\n",
    "model.add(Dropout(0.5))\n",
    "\n",
    "\n",
    "model.add(Conv2D(96, (3, 3), padding='same',activation='relu', kernel_initializer=\"he_normal\",kernel_regularizer=regularizers.l2(weight_decay)))\n",
    "#model.add(Conv2D(96, (3, 3), padding='same',activation='relu', kernel_initializer=\"he_normal\", kernel_regularizer=regularizers.l2(weight_decay)))\n",
    "model.add(MaxPooling2D(pool_size=(2, 2)))\n",
    "model.add(Dropout(0.2))\n",
    "\n",
    "model.add(Conv2D(192, (3, 3), padding='same',activation='relu', kernel_initializer=\"he_normal\", kernel_regularizer=regularizers.l2(weight_decay)))\n",
    "#model.add(Conv2D(192, (3, 3), padding='same',activation='relu', kernel_initializer=\"he_normal\", kernel_regularizer=regularizers.l2(weight_decay)))\n",
    "model.add(MaxPooling2D(pool_size=(2, 2)))\n",
    "model.add(Dropout(0.1))\n",
    "\"\"\"\n",
    "\n",
    "model.add(Flatten())\n",
    "model.add(Dense(y_train.shape[1], activation=\"softmax\"))\n",
    "\n",
    "opt = optimizers.SGD(lr=0.001, momentum = 0.9, nesterov = True)\n",
    "model.compile(optimizer=opt, loss='categorical_crossentropy', metrics=['accuracy'])\n",
    "model.summary()"
   ]
  },
  {
   "cell_type": "code",
   "execution_count": 20,
   "metadata": {},
   "outputs": [
    {
     "data": {
      "text/plain": [
       "[<tensorflow.python.keras.layers.convolutional.Conv2D at 0x19f452bdfd0>,\n",
       " <tensorflow.python.keras.layers.convolutional.Conv2D at 0x19f44282ee0>,\n",
       " <tensorflow.python.keras.layers.pooling.MaxPooling2D at 0x19f442827c0>,\n",
       " <tensorflow.python.keras.layers.core.Dropout at 0x19f444085b0>,\n",
       " <tensorflow.python.keras.layers.convolutional.Conv2D at 0x19f4440ef40>,\n",
       " <tensorflow.python.keras.layers.convolutional.Conv2D at 0x19f4440eb50>,\n",
       " <tensorflow.python.keras.layers.pooling.MaxPooling2D at 0x19f44dc6d00>,\n",
       " <tensorflow.python.keras.layers.core.Dropout at 0x19f44de3430>,\n",
       " <tensorflow.python.keras.layers.convolutional.Conv2D at 0x19f44df09a0>,\n",
       " <tensorflow.python.keras.layers.convolutional.Conv2D at 0x19f44de47c0>,\n",
       " <tensorflow.python.keras.layers.pooling.MaxPooling2D at 0x19f44df0ee0>,\n",
       " <tensorflow.python.keras.layers.core.Dropout at 0x19f44de4dc0>,\n",
       " <tensorflow.python.keras.layers.convolutional.Conv2D at 0x19f44e922e0>,\n",
       " <tensorflow.python.keras.layers.convolutional.Conv2D at 0x19f44deb820>,\n",
       " <tensorflow.python.keras.layers.pooling.MaxPooling2D at 0x19f44deb700>,\n",
       " <tensorflow.python.keras.layers.core.Dropout at 0x19f44e9fb80>,\n",
       " <tensorflow.python.keras.layers.core.Flatten at 0x19f44eabfa0>,\n",
       " <tensorflow.python.keras.layers.core.Dense at 0x19f44eb0910>]"
      ]
     },
     "execution_count": 20,
     "metadata": {},
     "output_type": "execute_result"
    }
   ],
   "source": [
    "model.layers"
   ]
  },
  {
   "cell_type": "code",
   "execution_count": 21,
   "metadata": {},
   "outputs": [
    {
     "name": "stdout",
     "output_type": "stream",
     "text": [
      "conv2d\n",
      "conv2d_1\n",
      "max_pooling2d\n",
      "dropout\n",
      "conv2d_2\n",
      "conv2d_3\n",
      "max_pooling2d_1\n",
      "dropout_1\n",
      "conv2d_4\n",
      "conv2d_5\n",
      "max_pooling2d_2\n",
      "dropout_2\n",
      "conv2d_6\n",
      "conv2d_7\n",
      "max_pooling2d_3\n",
      "dropout_3\n",
      "flatten\n",
      "dense\n"
     ]
    }
   ],
   "source": [
    "for l in model.layers: print (l.name)"
   ]
  },
  {
   "cell_type": "markdown",
   "metadata": {},
   "source": [
    "All the parameters of a layer can bee accessed:"
   ]
  },
  {
   "cell_type": "code",
   "execution_count": 22,
   "metadata": {},
   "outputs": [
    {
     "data": {
      "text/plain": [
       "(1, 25, 1, 40)"
      ]
     },
     "execution_count": 22,
     "metadata": {},
     "output_type": "execute_result"
    }
   ],
   "source": [
    "weights, biases = model.layers[0].get_weights()\n",
    "weights.shape"
   ]
  },
  {
   "cell_type": "code",
   "execution_count": 23,
   "metadata": {},
   "outputs": [
    {
     "data": {
      "text/plain": [
       "array([[[[ 2.81170453e-03, -1.37133285e-01,  1.72531158e-01,\n",
       "           6.93306625e-02,  6.24948032e-02,  7.89516419e-02,\n",
       "          -4.64698591e-04, -3.46789807e-01, -3.29441100e-01,\n",
       "           1.06265306e-01,  1.04728147e-01, -2.67290205e-01,\n",
       "          -4.41323631e-02, -7.15197902e-03,  1.40127391e-01,\n",
       "           4.89380836e-01,  1.64368436e-01,  4.98065650e-01,\n",
       "          -2.91393399e-01, -8.34549442e-02,  2.33837202e-01,\n",
       "           2.30774432e-01,  4.28421170e-01,  6.01356626e-01,\n",
       "          -1.77564435e-02, -5.34177482e-01,  1.69937890e-02,\n",
       "           3.77108127e-01, -4.01751071e-01, -1.06664822e-02,\n",
       "           1.15883552e-01, -1.23090297e-01,  8.67854133e-02,\n",
       "           2.58998722e-01, -1.93380207e-01, -4.51579839e-01,\n",
       "          -4.37609583e-01,  2.36297384e-01, -2.05595195e-01,\n",
       "           3.09773237e-01]],\n",
       "\n",
       "        [[-6.53716782e-03,  3.17063570e-01, -5.47762990e-01,\n",
       "          -1.13042481e-01,  1.31431624e-01, -2.85758823e-01,\n",
       "           4.31226015e-01, -1.92898780e-01, -2.08351575e-02,\n",
       "          -2.19619542e-01, -2.14384019e-01,  2.41344813e-02,\n",
       "          -9.19259340e-02,  1.77043766e-01, -1.49946973e-01,\n",
       "           1.84998482e-01, -1.13808468e-01,  2.80776113e-01,\n",
       "           5.55791199e-01, -2.49956712e-01,  7.15409312e-03,\n",
       "          -4.88456376e-02, -2.31047601e-01,  3.03271651e-01,\n",
       "          -1.05618767e-01,  3.59128952e-01, -2.74591267e-01,\n",
       "          -1.99615791e-01,  4.94741917e-01,  3.46616387e-01,\n",
       "           4.55948025e-01, -9.27809440e-03, -4.93084878e-01,\n",
       "          -3.34667385e-01,  1.95187613e-01, -4.19544905e-01,\n",
       "           9.34927538e-02,  2.24769488e-01,  1.92351446e-01,\n",
       "           3.46041679e-01]],\n",
       "\n",
       "        [[-3.12680930e-01,  2.03516200e-01,  4.51493800e-01,\n",
       "           3.85094017e-01,  3.45532298e-01, -2.84211278e-01,\n",
       "          -1.19296908e-01, -6.12247735e-02, -2.71790832e-01,\n",
       "          -5.46862304e-01,  3.62024337e-01,  3.48585367e-01,\n",
       "          -1.07819952e-01,  9.27544851e-03,  2.17911199e-01,\n",
       "           2.85081565e-01, -1.46790907e-01, -1.26204103e-01,\n",
       "          -4.65043008e-01,  2.93617755e-01,  1.92760006e-01,\n",
       "           3.42849076e-01,  2.13067904e-01, -4.12465304e-01,\n",
       "          -4.10425872e-01,  6.14559829e-01,  1.84666723e-01,\n",
       "           2.49395862e-01, -5.94165683e-01, -2.45298073e-01,\n",
       "           3.19701552e-01, -7.12015107e-02, -6.98031262e-02,\n",
       "          -2.47952804e-01,  2.72749245e-01, -2.18031690e-01,\n",
       "           1.67489111e-01,  1.27918556e-01,  4.06489134e-01,\n",
       "           2.61648864e-01]],\n",
       "\n",
       "        [[ 9.53676701e-02, -9.30073904e-04, -2.52605885e-01,\n",
       "          -1.60922837e-02, -1.76091507e-01,  5.24921827e-02,\n",
       "           2.23545015e-01, -3.00541997e-01, -3.54156643e-01,\n",
       "           1.23588480e-01,  2.78747559e-01,  4.22036350e-01,\n",
       "          -4.57706243e-01,  4.84601349e-01, -3.05223733e-01,\n",
       "          -2.88748741e-01,  2.12622643e-01, -3.24476212e-01,\n",
       "           2.15063155e-01, -3.85293327e-02,  4.16772127e-01,\n",
       "          -1.71807796e-01,  5.43677986e-01,  5.33408225e-02,\n",
       "          -4.76628691e-01, -3.90892535e-01,  9.83894318e-02,\n",
       "           2.33327717e-01,  5.37290394e-01,  7.58278519e-02,\n",
       "          -3.26574385e-01,  1.55468136e-01,  2.03482270e-01,\n",
       "          -5.21885395e-01,  3.28984916e-01,  2.35702634e-01,\n",
       "          -5.10569096e-01,  2.64825244e-02,  4.43599671e-01,\n",
       "           4.97055292e-01]],\n",
       "\n",
       "        [[ 2.98322886e-01,  4.90538865e-01, -1.26025756e-03,\n",
       "          -5.51735222e-01, -6.21905744e-01, -2.30388850e-01,\n",
       "          -2.89692044e-01,  6.37124181e-01, -2.12864667e-01,\n",
       "           3.38296056e-01,  1.44821376e-01, -7.52710551e-02,\n",
       "           1.26623074e-02,  3.94968361e-01, -2.41429582e-01,\n",
       "          -2.00468719e-01, -2.04185113e-01,  4.43746239e-01,\n",
       "           3.43480796e-01, -4.48524952e-01, -1.82128489e-01,\n",
       "           2.11765036e-01,  2.34964043e-01,  1.66667730e-01,\n",
       "          -4.11327276e-03, -4.21998873e-02,  5.06633580e-01,\n",
       "          -3.19249630e-01,  1.39760897e-01,  1.76818639e-01,\n",
       "          -8.01911503e-02,  5.37280701e-02,  3.83208632e-01,\n",
       "           7.76753426e-02,  2.34641492e-01,  4.97654313e-03,\n",
       "          -4.00623202e-01, -1.50192780e-02,  2.97501713e-01,\n",
       "           1.08583972e-01]],\n",
       "\n",
       "        [[ 1.00440886e-02, -9.08350945e-02,  3.19268525e-01,\n",
       "          -4.61424589e-01, -1.13930941e-01, -4.88267064e-01,\n",
       "          -9.99389067e-02, -3.84480745e-01, -1.66163087e-01,\n",
       "          -1.53292105e-01,  1.17127024e-01, -2.63499260e-01,\n",
       "           2.29216635e-01,  8.45027808e-03, -2.59114560e-02,\n",
       "          -1.90571249e-01,  4.17710721e-01,  2.30700523e-01,\n",
       "           3.26840430e-01,  4.00544666e-02, -4.18119639e-01,\n",
       "           1.28724739e-01,  1.00626022e-01,  4.29421663e-02,\n",
       "          -1.25599369e-01,  2.55703986e-01, -1.11217543e-01,\n",
       "           4.69149828e-01,  5.51175654e-01,  1.03717342e-01,\n",
       "          -5.15562236e-01, -3.48761380e-01, -1.00199468e-01,\n",
       "          -4.29580450e-01,  3.52773182e-02,  1.46699231e-02,\n",
       "          -1.30118430e-01,  2.98915178e-01, -5.68922870e-02,\n",
       "           5.57765178e-02]],\n",
       "\n",
       "        [[-2.21423373e-01, -2.22568020e-01, -1.26580317e-02,\n",
       "          -3.02613735e-01, -1.56910285e-01, -8.38602856e-02,\n",
       "          -4.20292884e-01, -3.64832819e-01,  2.74209440e-01,\n",
       "          -2.56226957e-01, -6.10128455e-02,  7.79876038e-02,\n",
       "           8.77752900e-02, -2.90348113e-01, -2.41219029e-01,\n",
       "          -2.54148636e-02, -7.42546543e-02,  2.57427067e-01,\n",
       "          -1.73488796e-01, -1.26155660e-01,  1.32707059e-01,\n",
       "           7.03318343e-02, -1.80260055e-02,  1.65263992e-02,\n",
       "          -2.26127148e-01,  3.35954994e-01, -1.82661012e-01,\n",
       "          -3.62067759e-01, -1.75640121e-01, -4.75469500e-01,\n",
       "           9.77765173e-02, -1.07466519e-01,  4.32072580e-01,\n",
       "           9.27304178e-02,  4.81520623e-01, -4.14040864e-01,\n",
       "          -2.16700464e-01, -9.99595895e-02, -4.34078127e-01,\n",
       "          -2.58360356e-01]],\n",
       "\n",
       "        [[ 5.81086911e-02, -1.09301195e-01,  5.57127059e-01,\n",
       "           6.42558992e-01, -3.80142599e-01,  4.30630833e-01,\n",
       "          -2.43901446e-01, -2.21094623e-01,  2.71728635e-01,\n",
       "           3.13607663e-01, -1.06666446e-01, -2.04394728e-01,\n",
       "           2.83224136e-01, -4.48738843e-01,  3.89847487e-01,\n",
       "           4.03746277e-01, -5.97592533e-01,  4.08613741e-01,\n",
       "           3.98030818e-01,  2.16354385e-01,  3.52039158e-01,\n",
       "          -4.66671467e-01, -2.45325435e-02, -4.51660901e-01,\n",
       "           2.97207475e-01, -3.88106167e-01, -3.83716971e-02,\n",
       "           1.51833341e-01, -1.92977041e-01,  1.07006937e-01,\n",
       "           9.93139893e-02, -3.88193205e-02, -2.53987670e-01,\n",
       "           1.67523935e-01, -2.87772506e-03,  3.01401079e-01,\n",
       "           2.95721501e-01,  4.47783992e-02,  2.49784142e-01,\n",
       "          -1.07440082e-02]],\n",
       "\n",
       "        [[-2.43605878e-02, -5.68834066e-01,  2.04598412e-01,\n",
       "          -1.15736023e-01, -3.39452088e-01, -6.60796911e-02,\n",
       "          -6.89342543e-02,  5.73998570e-01, -5.95507145e-01,\n",
       "          -2.19954982e-01,  3.40673685e-01,  8.24295208e-02,\n",
       "           3.60616863e-01,  1.88733891e-01,  7.98490644e-02,\n",
       "          -1.68280751e-01, -1.14189126e-01, -5.55868745e-01,\n",
       "           2.68323660e-01,  2.41043136e-01,  4.29529995e-01,\n",
       "           5.38585708e-02, -4.51754332e-02, -2.38983288e-01,\n",
       "          -2.01775163e-01, -2.39428163e-01,  8.10102746e-02,\n",
       "           1.17435686e-01,  2.45676488e-01,  4.12632897e-02,\n",
       "          -5.91622472e-01,  8.57070982e-02, -1.53159201e-01,\n",
       "          -2.68143177e-01, -1.72376931e-01,  4.06314462e-01,\n",
       "          -1.48270711e-01, -5.61108947e-01, -4.34680760e-01,\n",
       "           2.60040015e-02]],\n",
       "\n",
       "        [[ 1.02459013e-01, -6.73070326e-02, -1.62418470e-01,\n",
       "           2.91650519e-02, -3.82962115e-02,  5.42163432e-01,\n",
       "           2.13320509e-01, -1.38062924e-01,  2.87032258e-02,\n",
       "           1.77458704e-01, -5.36122546e-02,  3.18890929e-01,\n",
       "           1.73447374e-02,  3.64423186e-01,  9.43669379e-02,\n",
       "          -1.66049838e-01,  3.13704401e-01, -3.79258335e-01,\n",
       "           3.54834884e-01,  2.11578086e-01,  3.00738394e-01,\n",
       "          -1.99351355e-01,  3.70231420e-01,  4.51055229e-01,\n",
       "          -3.47373672e-02,  5.94677091e-01,  2.24786386e-01,\n",
       "           1.90099552e-01,  5.16766123e-02, -4.57258988e-03,\n",
       "           2.09899798e-01, -1.61388540e-03,  7.31036663e-02,\n",
       "          -1.28219947e-01, -4.72641796e-01, -5.08280611e-03,\n",
       "          -2.75913160e-02, -2.36697972e-01,  1.51454598e-01,\n",
       "          -2.86997139e-01]],\n",
       "\n",
       "        [[-2.07798257e-01,  6.29430950e-01, -2.01632693e-01,\n",
       "          -4.60224748e-02, -3.31042409e-01, -1.23365179e-01,\n",
       "          -1.44980758e-01,  6.02747388e-02, -8.54650214e-02,\n",
       "           5.59792042e-01,  1.98502652e-02, -7.54468217e-02,\n",
       "          -1.58322573e-01, -1.90834820e-01,  4.27621566e-02,\n",
       "           8.97270963e-02, -5.80729507e-02,  1.70425892e-01,\n",
       "          -2.12003663e-01, -3.56292933e-01, -5.04862547e-01,\n",
       "          -1.55619070e-01,  5.81026413e-02,  4.28608954e-01,\n",
       "           3.46338795e-03,  4.92003947e-01,  4.38232809e-01,\n",
       "           1.22467458e-01,  3.83421600e-01, -5.53846061e-01,\n",
       "           2.65454620e-01, -5.35901934e-02,  3.25533420e-01,\n",
       "          -1.56257361e-01, -2.23659217e-01,  1.45818293e-02,\n",
       "          -4.68036979e-02, -4.97781903e-01, -3.84985685e-01,\n",
       "           3.56817752e-01]],\n",
       "\n",
       "        [[-3.44349384e-01, -1.27960160e-01,  3.37792873e-01,\n",
       "           2.00844109e-01,  1.39686748e-01,  8.47153589e-02,\n",
       "          -2.83397645e-01,  2.71601737e-01, -3.98396514e-02,\n",
       "           1.24539115e-01,  3.95735167e-02,  1.76446468e-01,\n",
       "           2.67110050e-01, -1.15929991e-01, -3.67882162e-01,\n",
       "           4.22652572e-01,  6.35821605e-03, -2.32906640e-01,\n",
       "          -5.31420946e-01, -6.12329721e-01,  3.75923246e-01,\n",
       "          -3.45042646e-01,  3.44727457e-01, -1.53084666e-01,\n",
       "          -3.00664514e-01, -6.80808872e-02,  3.70015025e-01,\n",
       "           7.25829080e-02, -1.33068487e-01,  7.32034892e-02,\n",
       "          -3.09218735e-01, -3.64493728e-01,  8.06520283e-02,\n",
       "           3.12542379e-01, -2.79945225e-01, -1.67913064e-01,\n",
       "           3.23946685e-01, -1.87216252e-01, -1.39973775e-01,\n",
       "           6.21585362e-02]],\n",
       "\n",
       "        [[-2.96845526e-01, -1.50018856e-01,  1.91189364e-01,\n",
       "           5.02419591e-01, -4.46772069e-01,  5.44229388e-01,\n",
       "           1.64450005e-01, -8.03075638e-03,  9.06493664e-02,\n",
       "          -3.62539887e-01, -1.21610705e-02, -4.53795880e-01,\n",
       "          -4.38037366e-01, -2.50384003e-01,  2.77135044e-01,\n",
       "           2.02802524e-01, -2.61104047e-01,  1.31364569e-01,\n",
       "           4.60861027e-01, -3.36739719e-01, -3.45384449e-01,\n",
       "           2.53479153e-01,  3.82724375e-01, -3.09501499e-01,\n",
       "           2.89277881e-01,  1.61820859e-01,  1.92875490e-02,\n",
       "          -9.68187079e-02, -2.39505589e-01,  1.78738981e-01,\n",
       "          -1.87805519e-01, -9.50853229e-02, -4.00529243e-02,\n",
       "          -1.10464938e-01,  4.16814923e-01, -4.16498482e-01,\n",
       "          -2.97092021e-01, -7.53664970e-02, -9.38443914e-02,\n",
       "           6.07020520e-02]],\n",
       "\n",
       "        [[ 5.16403377e-01,  4.27640200e-01, -1.57519486e-02,\n",
       "           1.14037700e-01,  3.66410524e-01,  1.87315553e-01,\n",
       "           1.61039084e-01,  3.09852481e-01, -5.53853691e-01,\n",
       "           2.92406797e-01, -7.59797823e-03,  2.70206362e-01,\n",
       "          -9.73635018e-02,  3.90010327e-01,  2.16649741e-01,\n",
       "           2.27565151e-02,  6.20708689e-02, -3.38032901e-01,\n",
       "          -5.24765968e-01, -9.80709493e-02,  1.70041054e-01,\n",
       "           1.93046764e-01, -2.20578294e-02, -1.52240902e-01,\n",
       "           4.86277848e-01,  7.83485454e-03, -2.67233580e-01,\n",
       "          -3.11568230e-01, -2.39316002e-01,  5.41847758e-02,\n",
       "           7.74074495e-02,  1.32624552e-01, -2.95061976e-01,\n",
       "           2.94780910e-01, -4.41146314e-01, -6.25418961e-01,\n",
       "          -3.90538685e-02, -4.18456882e-01,  4.28217292e-01,\n",
       "          -3.82610830e-03]],\n",
       "\n",
       "        [[-4.02817614e-02, -4.60148364e-01,  3.53294939e-01,\n",
       "           2.16444194e-01,  6.20603502e-01, -2.52842128e-01,\n",
       "           6.36298776e-01,  1.51161864e-01,  1.93888694e-01,\n",
       "          -1.42844573e-01, -2.30109453e-01, -3.74986887e-01,\n",
       "          -1.79425582e-01, -1.26948833e-01, -2.18030348e-01,\n",
       "          -3.12113941e-01, -4.96971309e-01, -1.83812410e-01,\n",
       "           1.08779306e-02, -4.18039411e-01,  3.14386040e-02,\n",
       "          -1.72667086e-01,  2.54769653e-01, -4.99875277e-01,\n",
       "          -1.01608619e-01,  1.24454563e-02, -2.72129923e-01,\n",
       "          -2.74784993e-02, -4.46015224e-02, -4.11618769e-01,\n",
       "           1.59587309e-01,  2.96770066e-01, -1.34563908e-01,\n",
       "           3.71691763e-01,  2.82165945e-01, -2.67664045e-01,\n",
       "          -8.36154744e-02,  6.33485708e-03,  3.28955278e-02,\n",
       "          -1.67837530e-01]],\n",
       "\n",
       "        [[-2.64692456e-01,  5.93127251e-01, -5.88119268e-01,\n",
       "           2.30678067e-01, -8.05132389e-02, -5.89503720e-02,\n",
       "           2.99803138e-01,  2.58103639e-01, -2.65571028e-01,\n",
       "          -2.08538502e-01, -2.66662687e-01,  1.28398776e-01,\n",
       "          -3.09187293e-01, -7.66352490e-02,  3.02554339e-01,\n",
       "           2.54394766e-02, -8.03053677e-02, -3.87798697e-01,\n",
       "           1.47632211e-01,  1.24267668e-01,  1.14455372e-01,\n",
       "           3.04952338e-02,  2.01979235e-01, -5.07035255e-01,\n",
       "          -1.36739522e-01,  1.38330787e-01,  1.24775186e-01,\n",
       "          -1.66910943e-02, -1.48180261e-01, -2.13382766e-01,\n",
       "          -3.21238786e-01,  2.53389239e-01,  1.74689904e-01,\n",
       "          -2.34458852e-03, -2.56015696e-02,  3.93462807e-01,\n",
       "          -2.86673963e-01, -2.90094674e-01, -5.27274534e-02,\n",
       "           1.01801474e-02]],\n",
       "\n",
       "        [[ 2.12138399e-01,  5.61139956e-02, -2.11334378e-01,\n",
       "           6.33229256e-01,  4.53012645e-01,  3.12411129e-01,\n",
       "           1.40404552e-01, -1.43528402e-01, -1.38085514e-01,\n",
       "           1.94868952e-01, -1.31018357e-02,  1.74819268e-02,\n",
       "          -5.00488430e-02,  3.22869986e-01,  4.78271037e-01,\n",
       "          -2.06800569e-02, -2.61461977e-02, -3.96476448e-01,\n",
       "           3.57340574e-01,  2.36234382e-01,  1.90211058e-01,\n",
       "           1.86915651e-01, -2.21898705e-01, -2.80804485e-02,\n",
       "           3.56809914e-01, -1.76903933e-01,  6.64508864e-02,\n",
       "          -1.55953079e-01,  2.03781441e-01,  5.18268421e-02,\n",
       "           3.05545717e-01,  1.04638293e-01, -1.64073914e-01,\n",
       "           5.24356544e-01, -3.83616447e-01, -1.34660736e-01,\n",
       "          -3.09528232e-01,  2.81753898e-01,  1.46731183e-01,\n",
       "           4.05971736e-01]],\n",
       "\n",
       "        [[ 4.42416698e-01,  1.68496385e-01,  1.03143072e-02,\n",
       "           2.42488906e-01, -1.55740008e-01,  3.09853375e-01,\n",
       "           4.98957813e-01,  2.42006272e-01,  3.85148302e-02,\n",
       "           4.93205607e-01, -3.17717046e-01, -4.12383467e-01,\n",
       "          -4.08150345e-01,  2.22514108e-01,  1.77696034e-01,\n",
       "          -2.70751808e-02,  1.15162350e-01, -6.42858744e-02,\n",
       "          -6.01252735e-01,  1.09817199e-01, -4.41926479e-01,\n",
       "           2.06022099e-01,  3.83103639e-01,  1.55834317e-01,\n",
       "           4.20404226e-02,  5.02782702e-01,  4.34438318e-01,\n",
       "           3.91652346e-01, -3.44054341e-01,  2.70866215e-01,\n",
       "          -2.60111779e-01, -2.21565217e-01, -1.69912726e-01,\n",
       "           3.55310529e-01, -1.88042611e-01,  3.94348234e-01,\n",
       "          -4.51157540e-01,  3.55700403e-01,  9.47035551e-02,\n",
       "          -7.26168528e-02]],\n",
       "\n",
       "        [[-2.66615450e-01,  7.45873824e-02,  9.58723277e-02,\n",
       "          -3.81908804e-01,  2.32024714e-01,  9.79875922e-02,\n",
       "          -1.11262664e-01,  1.30277216e-01,  4.61671323e-01,\n",
       "           2.72340719e-02,  6.08336180e-02, -4.06950265e-01,\n",
       "           5.15050888e-01,  2.14482740e-01, -1.88148364e-01,\n",
       "          -2.08226651e-01,  5.26335299e-01,  2.25780725e-01,\n",
       "           8.54042172e-02,  4.58590746e-01,  5.02379537e-01,\n",
       "           4.24171656e-01, -6.28631830e-01, -1.54560789e-01,\n",
       "          -2.62494415e-01,  3.83324921e-02, -4.56919432e-01,\n",
       "           9.94875804e-02, -3.11188459e-01,  4.35497344e-01,\n",
       "          -3.21955055e-01, -2.94474125e-01, -1.52383611e-01,\n",
       "           4.68674481e-01, -1.79738700e-02,  3.26796621e-01,\n",
       "           3.84677976e-01, -1.99654385e-01, -2.96021556e-03,\n",
       "          -1.69151604e-01]],\n",
       "\n",
       "        [[-5.27940750e-01, -2.55117178e-01, -2.74404883e-01,\n",
       "          -1.31255746e-01,  1.76941648e-01,  4.51033972e-02,\n",
       "          -1.05789979e-03, -5.59181683e-02,  1.76173123e-03,\n",
       "          -3.17476869e-01,  6.23419940e-01,  3.93613011e-01,\n",
       "           1.16054546e-02,  7.66421854e-02,  1.44125149e-01,\n",
       "           4.26154166e-01,  8.04057494e-02, -2.97055226e-02,\n",
       "          -1.78912178e-01, -3.18961069e-02,  3.85152884e-02,\n",
       "          -1.31117806e-01, -3.68684791e-02, -4.02215302e-01,\n",
       "          -3.53464186e-01,  1.90606996e-01, -7.67761422e-03,\n",
       "          -1.46235898e-02, -3.41548949e-01, -3.41111332e-01,\n",
       "           2.55817056e-01,  2.09841356e-01, -1.86402246e-01,\n",
       "          -2.34830715e-02,  5.59011519e-01, -5.82557656e-02,\n",
       "           1.10556558e-01,  1.50973603e-01,  3.68865728e-01,\n",
       "           4.13618423e-03]],\n",
       "\n",
       "        [[-3.14759761e-02, -4.67638522e-02,  2.64786839e-01,\n",
       "           4.49709482e-02, -3.36116999e-02, -5.06757386e-02,\n",
       "          -7.74876252e-02, -1.33898184e-01, -2.81108439e-01,\n",
       "           1.70777470e-01,  8.44066776e-03, -4.14408326e-01,\n",
       "          -2.97792464e-01,  8.11955333e-02,  2.06794202e-01,\n",
       "          -1.44719690e-01, -4.54748573e-04,  4.15792942e-01,\n",
       "           3.61738324e-01, -1.70498312e-01, -2.98630685e-01,\n",
       "          -4.32861656e-01, -2.84163773e-01,  1.55012146e-01,\n",
       "          -3.13004494e-01,  2.13706587e-02,  5.31233028e-02,\n",
       "           1.29313216e-01, -3.72116417e-01,  2.08259895e-01,\n",
       "           1.87211365e-01,  2.52905577e-01,  2.52985079e-02,\n",
       "           6.22688353e-01,  8.78858268e-02, -4.33595359e-01,\n",
       "          -3.59313376e-02,  1.05162479e-01,  1.13734901e-01,\n",
       "           4.91578728e-02]],\n",
       "\n",
       "        [[ 1.69902027e-01,  3.29845071e-01, -1.90800294e-01,\n",
       "           1.55126527e-01,  6.53503165e-02, -4.29678448e-02,\n",
       "          -2.70483643e-01,  1.43767610e-01,  1.29827440e-01,\n",
       "          -4.16351289e-01, -3.19221139e-01, -1.83573872e-01,\n",
       "          -1.14313155e-01, -1.64664179e-01,  1.42046332e-01,\n",
       "           3.92941684e-01,  5.41411527e-02, -1.02003627e-01,\n",
       "           4.73094165e-01,  1.60505772e-02,  7.84395263e-03,\n",
       "           2.36710906e-01,  2.88373441e-01, -3.40645552e-01,\n",
       "          -2.31200792e-02,  2.12303519e-01,  4.63421345e-02,\n",
       "          -1.11549258e-01,  1.68972448e-01,  4.47561815e-02,\n",
       "           3.00924391e-01, -3.97292040e-02,  4.65649962e-01,\n",
       "           1.18988693e-01,  1.03890765e-02, -3.51516604e-01,\n",
       "          -1.11151569e-01, -1.21598924e-02, -2.65183091e-01,\n",
       "          -4.97817487e-01]],\n",
       "\n",
       "        [[ 4.49332781e-03,  2.63134152e-01,  3.12958807e-02,\n",
       "          -9.79034081e-02, -2.81331480e-01, -2.44314313e-01,\n",
       "          -4.95050728e-01, -3.64283621e-01, -2.95581102e-01,\n",
       "          -3.18526626e-01,  2.96586961e-01,  2.12627143e-01,\n",
       "           3.76248777e-01, -1.82508990e-01,  5.46394169e-01,\n",
       "          -3.10089827e-01,  3.38431180e-01, -4.35320616e-01,\n",
       "          -3.86229098e-01, -2.90603310e-01,  5.97694777e-02,\n",
       "           2.31175348e-01, -5.70120096e-01,  4.07900482e-01,\n",
       "          -4.17590231e-01,  3.32347065e-01, -3.86733979e-01,\n",
       "           4.09695432e-02, -4.21449691e-01,  1.65186524e-01,\n",
       "          -3.28839004e-01, -3.97998482e-01, -3.95275682e-01,\n",
       "           6.66542351e-02,  4.62985158e-01,  1.93416923e-01,\n",
       "           4.05862331e-01,  1.18370336e-02, -3.52469683e-01,\n",
       "          -3.56594205e-01]],\n",
       "\n",
       "        [[-2.77601808e-01, -6.12087011e-01, -2.90682614e-01,\n",
       "           2.20800675e-02,  4.22542900e-01, -2.55597144e-01,\n",
       "           1.97698697e-02,  3.72233272e-01,  3.77549082e-01,\n",
       "           1.81649372e-01,  3.45249563e-01,  7.23963305e-02,\n",
       "          -2.22256538e-02,  5.54302596e-02, -1.20237648e-01,\n",
       "           3.42877746e-01, -7.12081566e-02,  6.69242665e-02,\n",
       "          -5.35994291e-01,  1.18001699e-01, -7.54350126e-02,\n",
       "          -3.55011225e-02,  4.47767764e-01,  6.37389421e-01,\n",
       "          -5.93666695e-02, -1.63667910e-02, -2.16848880e-01,\n",
       "          -1.38652876e-01, -5.79464138e-01,  3.27424198e-01,\n",
       "          -3.05952162e-01,  3.75851780e-01, -6.68566078e-02,\n",
       "           4.34460759e-01,  2.98377514e-01,  5.11264086e-01,\n",
       "          -5.10670364e-01,  8.39076638e-02,  4.12996039e-02,\n",
       "          -6.51386604e-02]],\n",
       "\n",
       "        [[-1.37284994e-01, -1.04895048e-01, -9.97850485e-03,\n",
       "          -2.12006792e-01, -2.03415290e-01, -2.71228880e-01,\n",
       "          -8.63230824e-02, -8.40900093e-02, -1.10166036e-02,\n",
       "          -3.74153331e-02, -1.89547256e-01,  6.08533109e-03,\n",
       "           5.63906610e-01,  4.46575046e-01, -3.26024771e-01,\n",
       "           3.96436810e-01,  2.68717438e-01,  1.50382116e-01,\n",
       "           1.23619765e-01, -2.93985218e-01, -2.70488650e-01,\n",
       "          -3.91316563e-01,  5.88954352e-02,  2.60363281e-01,\n",
       "           1.79429762e-02,  6.09020948e-01,  1.64700940e-01,\n",
       "           1.95497632e-01,  4.88780439e-01,  9.17540267e-02,\n",
       "           3.25793922e-02, -6.24760032e-01,  4.25291777e-01,\n",
       "          -2.16435552e-01, -2.81422675e-01, -2.28888690e-01,\n",
       "          -2.28654295e-01, -6.01524234e-01, -4.11685973e-01,\n",
       "          -1.85678095e-01]]]], dtype=float32)"
      ]
     },
     "execution_count": 23,
     "metadata": {},
     "output_type": "execute_result"
    }
   ],
   "source": [
    "weights"
   ]
  },
  {
   "cell_type": "code",
   "execution_count": 24,
   "metadata": {},
   "outputs": [
    {
     "data": {
      "text/plain": [
       "array([0., 0., 0., 0., 0., 0., 0., 0., 0., 0., 0., 0., 0., 0., 0., 0., 0.,\n",
       "       0., 0., 0., 0., 0., 0., 0., 0., 0., 0., 0., 0., 0., 0., 0., 0., 0.,\n",
       "       0., 0., 0., 0., 0., 0.], dtype=float32)"
      ]
     },
     "execution_count": 24,
     "metadata": {},
     "output_type": "execute_result"
    }
   ],
   "source": [
    "biases # Bias de la primera capa: 500 bias inicializados a 0 "
   ]
  },
  {
   "cell_type": "code",
   "execution_count": 25,
   "metadata": {},
   "outputs": [
    {
     "data": {
      "text/plain": [
       "(40,)"
      ]
     },
     "execution_count": 25,
     "metadata": {},
     "output_type": "execute_result"
    }
   ],
   "source": [
    "biases.shape"
   ]
  },
  {
   "cell_type": "markdown",
   "metadata": {},
   "source": [
    "### 6. Compile the model"
   ]
  },
  {
   "cell_type": "markdown",
   "metadata": {},
   "source": [
    "### 7. Train the model with M-BGD"
   ]
  },
  {
   "cell_type": "code",
   "execution_count": 26,
   "metadata": {},
   "outputs": [
    {
     "name": "stdout",
     "output_type": "stream",
     "text": [
      "Epoch 1/100\n",
      "13/13 - 25s - loss: nan - accuracy: 0.5000 - val_loss: nan - val_accuracy: 0.4694\n",
      "Epoch 2/100\n",
      "13/13 - 22s - loss: nan - accuracy: 0.4694 - val_loss: nan - val_accuracy: 0.4694\n",
      "Epoch 3/100\n",
      "13/13 - 24s - loss: nan - accuracy: 0.4694 - val_loss: nan - val_accuracy: 0.4694\n",
      "Epoch 4/100\n",
      "13/13 - 25s - loss: nan - accuracy: 0.4694 - val_loss: nan - val_accuracy: 0.4694\n",
      "Epoch 5/100\n",
      "13/13 - 23s - loss: nan - accuracy: 0.4694 - val_loss: nan - val_accuracy: 0.4694\n",
      "Epoch 6/100\n",
      "13/13 - 23s - loss: nan - accuracy: 0.4694 - val_loss: nan - val_accuracy: 0.4694\n",
      "Epoch 7/100\n"
     ]
    },
    {
     "ename": "KeyboardInterrupt",
     "evalue": "",
     "output_type": "error",
     "traceback": [
      "\u001b[1;31m---------------------------------------------------------------------------\u001b[0m",
      "\u001b[1;31mKeyboardInterrupt\u001b[0m                         Traceback (most recent call last)",
      "\u001b[1;32m<ipython-input-26-1cb0b8b45d0c>\u001b[0m in \u001b[0;36m<module>\u001b[1;34m\u001b[0m\n\u001b[0;32m      2\u001b[0m \u001b[0mstart\u001b[0m \u001b[1;33m=\u001b[0m \u001b[0mtime\u001b[0m\u001b[1;33m.\u001b[0m\u001b[0mtime\u001b[0m\u001b[1;33m(\u001b[0m\u001b[1;33m)\u001b[0m\u001b[1;33m\u001b[0m\u001b[1;33m\u001b[0m\u001b[0m\n\u001b[0;32m      3\u001b[0m \u001b[1;31m#history = model.fit(X_train, y_train, batch_size=32, steps_per_epoch=len(y_train)/32, epochs=100, verbose=2, validation_data=(X_dev, y_dev),callbacks=[tensorboard])\u001b[0m\u001b[1;33m\u001b[0m\u001b[1;33m\u001b[0m\u001b[1;33m\u001b[0m\u001b[0m\n\u001b[1;32m----> 4\u001b[1;33m \u001b[0mhistory\u001b[0m \u001b[1;33m=\u001b[0m \u001b[0mmodel\u001b[0m\u001b[1;33m.\u001b[0m\u001b[0mfit\u001b[0m\u001b[1;33m(\u001b[0m\u001b[0mX_train\u001b[0m\u001b[1;33m,\u001b[0m \u001b[0my_train\u001b[0m\u001b[1;33m,\u001b[0m \u001b[0mbatch_size\u001b[0m\u001b[1;33m=\u001b[0m\u001b[1;36m32\u001b[0m\u001b[1;33m,\u001b[0m \u001b[0mepochs\u001b[0m\u001b[1;33m=\u001b[0m\u001b[1;36m100\u001b[0m\u001b[1;33m,\u001b[0m \u001b[0mverbose\u001b[0m\u001b[1;33m=\u001b[0m\u001b[1;36m2\u001b[0m\u001b[1;33m,\u001b[0m \u001b[0mvalidation_data\u001b[0m\u001b[1;33m=\u001b[0m\u001b[1;33m(\u001b[0m\u001b[0mX_dev\u001b[0m\u001b[1;33m,\u001b[0m \u001b[0my_dev\u001b[0m\u001b[1;33m)\u001b[0m\u001b[1;33m)\u001b[0m\u001b[1;33m\u001b[0m\u001b[1;33m\u001b[0m\u001b[0m\n\u001b[0m\u001b[0;32m      5\u001b[0m \u001b[0mprint\u001b[0m \u001b[1;33m(\u001b[0m\u001b[0mtime\u001b[0m\u001b[1;33m.\u001b[0m\u001b[0mtime\u001b[0m\u001b[1;33m(\u001b[0m\u001b[1;33m)\u001b[0m \u001b[1;33m-\u001b[0m \u001b[0mstart\u001b[0m\u001b[1;33m)\u001b[0m\u001b[1;33m\u001b[0m\u001b[1;33m\u001b[0m\u001b[0m\n\u001b[0;32m      6\u001b[0m \u001b[1;33m\u001b[0m\u001b[0m\n",
      "\u001b[1;32m~\\anaconda3\\lib\\site-packages\\tensorflow\\python\\keras\\engine\\training.py\u001b[0m in \u001b[0;36mfit\u001b[1;34m(self, x, y, batch_size, epochs, verbose, callbacks, validation_split, validation_data, shuffle, class_weight, sample_weight, initial_epoch, steps_per_epoch, validation_steps, validation_batch_size, validation_freq, max_queue_size, workers, use_multiprocessing)\u001b[0m\n\u001b[0;32m   1098\u001b[0m                 _r=1):\n\u001b[0;32m   1099\u001b[0m               \u001b[0mcallbacks\u001b[0m\u001b[1;33m.\u001b[0m\u001b[0mon_train_batch_begin\u001b[0m\u001b[1;33m(\u001b[0m\u001b[0mstep\u001b[0m\u001b[1;33m)\u001b[0m\u001b[1;33m\u001b[0m\u001b[1;33m\u001b[0m\u001b[0m\n\u001b[1;32m-> 1100\u001b[1;33m               \u001b[0mtmp_logs\u001b[0m \u001b[1;33m=\u001b[0m \u001b[0mself\u001b[0m\u001b[1;33m.\u001b[0m\u001b[0mtrain_function\u001b[0m\u001b[1;33m(\u001b[0m\u001b[0miterator\u001b[0m\u001b[1;33m)\u001b[0m\u001b[1;33m\u001b[0m\u001b[1;33m\u001b[0m\u001b[0m\n\u001b[0m\u001b[0;32m   1101\u001b[0m               \u001b[1;32mif\u001b[0m \u001b[0mdata_handler\u001b[0m\u001b[1;33m.\u001b[0m\u001b[0mshould_sync\u001b[0m\u001b[1;33m:\u001b[0m\u001b[1;33m\u001b[0m\u001b[1;33m\u001b[0m\u001b[0m\n\u001b[0;32m   1102\u001b[0m                 \u001b[0mcontext\u001b[0m\u001b[1;33m.\u001b[0m\u001b[0masync_wait\u001b[0m\u001b[1;33m(\u001b[0m\u001b[1;33m)\u001b[0m\u001b[1;33m\u001b[0m\u001b[1;33m\u001b[0m\u001b[0m\n",
      "\u001b[1;32m~\\anaconda3\\lib\\site-packages\\tensorflow\\python\\eager\\def_function.py\u001b[0m in \u001b[0;36m__call__\u001b[1;34m(self, *args, **kwds)\u001b[0m\n\u001b[0;32m    826\u001b[0m     \u001b[0mtracing_count\u001b[0m \u001b[1;33m=\u001b[0m \u001b[0mself\u001b[0m\u001b[1;33m.\u001b[0m\u001b[0mexperimental_get_tracing_count\u001b[0m\u001b[1;33m(\u001b[0m\u001b[1;33m)\u001b[0m\u001b[1;33m\u001b[0m\u001b[1;33m\u001b[0m\u001b[0m\n\u001b[0;32m    827\u001b[0m     \u001b[1;32mwith\u001b[0m \u001b[0mtrace\u001b[0m\u001b[1;33m.\u001b[0m\u001b[0mTrace\u001b[0m\u001b[1;33m(\u001b[0m\u001b[0mself\u001b[0m\u001b[1;33m.\u001b[0m\u001b[0m_name\u001b[0m\u001b[1;33m)\u001b[0m \u001b[1;32mas\u001b[0m \u001b[0mtm\u001b[0m\u001b[1;33m:\u001b[0m\u001b[1;33m\u001b[0m\u001b[1;33m\u001b[0m\u001b[0m\n\u001b[1;32m--> 828\u001b[1;33m       \u001b[0mresult\u001b[0m \u001b[1;33m=\u001b[0m \u001b[0mself\u001b[0m\u001b[1;33m.\u001b[0m\u001b[0m_call\u001b[0m\u001b[1;33m(\u001b[0m\u001b[1;33m*\u001b[0m\u001b[0margs\u001b[0m\u001b[1;33m,\u001b[0m \u001b[1;33m**\u001b[0m\u001b[0mkwds\u001b[0m\u001b[1;33m)\u001b[0m\u001b[1;33m\u001b[0m\u001b[1;33m\u001b[0m\u001b[0m\n\u001b[0m\u001b[0;32m    829\u001b[0m       \u001b[0mcompiler\u001b[0m \u001b[1;33m=\u001b[0m \u001b[1;34m\"xla\"\u001b[0m \u001b[1;32mif\u001b[0m \u001b[0mself\u001b[0m\u001b[1;33m.\u001b[0m\u001b[0m_experimental_compile\u001b[0m \u001b[1;32melse\u001b[0m \u001b[1;34m\"nonXla\"\u001b[0m\u001b[1;33m\u001b[0m\u001b[1;33m\u001b[0m\u001b[0m\n\u001b[0;32m    830\u001b[0m       \u001b[0mnew_tracing_count\u001b[0m \u001b[1;33m=\u001b[0m \u001b[0mself\u001b[0m\u001b[1;33m.\u001b[0m\u001b[0mexperimental_get_tracing_count\u001b[0m\u001b[1;33m(\u001b[0m\u001b[1;33m)\u001b[0m\u001b[1;33m\u001b[0m\u001b[1;33m\u001b[0m\u001b[0m\n",
      "\u001b[1;32m~\\anaconda3\\lib\\site-packages\\tensorflow\\python\\eager\\def_function.py\u001b[0m in \u001b[0;36m_call\u001b[1;34m(self, *args, **kwds)\u001b[0m\n\u001b[0;32m    853\u001b[0m       \u001b[1;31m# In this case we have created variables on the first call, so we run the\u001b[0m\u001b[1;33m\u001b[0m\u001b[1;33m\u001b[0m\u001b[1;33m\u001b[0m\u001b[0m\n\u001b[0;32m    854\u001b[0m       \u001b[1;31m# defunned version which is guaranteed to never create variables.\u001b[0m\u001b[1;33m\u001b[0m\u001b[1;33m\u001b[0m\u001b[1;33m\u001b[0m\u001b[0m\n\u001b[1;32m--> 855\u001b[1;33m       \u001b[1;32mreturn\u001b[0m \u001b[0mself\u001b[0m\u001b[1;33m.\u001b[0m\u001b[0m_stateless_fn\u001b[0m\u001b[1;33m(\u001b[0m\u001b[1;33m*\u001b[0m\u001b[0margs\u001b[0m\u001b[1;33m,\u001b[0m \u001b[1;33m**\u001b[0m\u001b[0mkwds\u001b[0m\u001b[1;33m)\u001b[0m  \u001b[1;31m# pylint: disable=not-callable\u001b[0m\u001b[1;33m\u001b[0m\u001b[1;33m\u001b[0m\u001b[0m\n\u001b[0m\u001b[0;32m    856\u001b[0m     \u001b[1;32melif\u001b[0m \u001b[0mself\u001b[0m\u001b[1;33m.\u001b[0m\u001b[0m_stateful_fn\u001b[0m \u001b[1;32mis\u001b[0m \u001b[1;32mnot\u001b[0m \u001b[1;32mNone\u001b[0m\u001b[1;33m:\u001b[0m\u001b[1;33m\u001b[0m\u001b[1;33m\u001b[0m\u001b[0m\n\u001b[0;32m    857\u001b[0m       \u001b[1;31m# Release the lock early so that multiple threads can perform the call\u001b[0m\u001b[1;33m\u001b[0m\u001b[1;33m\u001b[0m\u001b[1;33m\u001b[0m\u001b[0m\n",
      "\u001b[1;32m~\\anaconda3\\lib\\site-packages\\tensorflow\\python\\eager\\function.py\u001b[0m in \u001b[0;36m__call__\u001b[1;34m(self, *args, **kwargs)\u001b[0m\n\u001b[0;32m   2940\u001b[0m       (graph_function,\n\u001b[0;32m   2941\u001b[0m        filtered_flat_args) = self._maybe_define_function(args, kwargs)\n\u001b[1;32m-> 2942\u001b[1;33m     return graph_function._call_flat(\n\u001b[0m\u001b[0;32m   2943\u001b[0m         filtered_flat_args, captured_inputs=graph_function.captured_inputs)  # pylint: disable=protected-access\n\u001b[0;32m   2944\u001b[0m \u001b[1;33m\u001b[0m\u001b[0m\n",
      "\u001b[1;32m~\\anaconda3\\lib\\site-packages\\tensorflow\\python\\eager\\function.py\u001b[0m in \u001b[0;36m_call_flat\u001b[1;34m(self, args, captured_inputs, cancellation_manager)\u001b[0m\n\u001b[0;32m   1916\u001b[0m         and executing_eagerly):\n\u001b[0;32m   1917\u001b[0m       \u001b[1;31m# No tape is watching; skip to running the function.\u001b[0m\u001b[1;33m\u001b[0m\u001b[1;33m\u001b[0m\u001b[1;33m\u001b[0m\u001b[0m\n\u001b[1;32m-> 1918\u001b[1;33m       return self._build_call_outputs(self._inference_function.call(\n\u001b[0m\u001b[0;32m   1919\u001b[0m           ctx, args, cancellation_manager=cancellation_manager))\n\u001b[0;32m   1920\u001b[0m     forward_backward = self._select_forward_and_backward_functions(\n",
      "\u001b[1;32m~\\anaconda3\\lib\\site-packages\\tensorflow\\python\\eager\\function.py\u001b[0m in \u001b[0;36mcall\u001b[1;34m(self, ctx, args, cancellation_manager)\u001b[0m\n\u001b[0;32m    553\u001b[0m       \u001b[1;32mwith\u001b[0m \u001b[0m_InterpolateFunctionError\u001b[0m\u001b[1;33m(\u001b[0m\u001b[0mself\u001b[0m\u001b[1;33m)\u001b[0m\u001b[1;33m:\u001b[0m\u001b[1;33m\u001b[0m\u001b[1;33m\u001b[0m\u001b[0m\n\u001b[0;32m    554\u001b[0m         \u001b[1;32mif\u001b[0m \u001b[0mcancellation_manager\u001b[0m \u001b[1;32mis\u001b[0m \u001b[1;32mNone\u001b[0m\u001b[1;33m:\u001b[0m\u001b[1;33m\u001b[0m\u001b[1;33m\u001b[0m\u001b[0m\n\u001b[1;32m--> 555\u001b[1;33m           outputs = execute.execute(\n\u001b[0m\u001b[0;32m    556\u001b[0m               \u001b[0mstr\u001b[0m\u001b[1;33m(\u001b[0m\u001b[0mself\u001b[0m\u001b[1;33m.\u001b[0m\u001b[0msignature\u001b[0m\u001b[1;33m.\u001b[0m\u001b[0mname\u001b[0m\u001b[1;33m)\u001b[0m\u001b[1;33m,\u001b[0m\u001b[1;33m\u001b[0m\u001b[1;33m\u001b[0m\u001b[0m\n\u001b[0;32m    557\u001b[0m               \u001b[0mnum_outputs\u001b[0m\u001b[1;33m=\u001b[0m\u001b[0mself\u001b[0m\u001b[1;33m.\u001b[0m\u001b[0m_num_outputs\u001b[0m\u001b[1;33m,\u001b[0m\u001b[1;33m\u001b[0m\u001b[1;33m\u001b[0m\u001b[0m\n",
      "\u001b[1;32m~\\anaconda3\\lib\\site-packages\\tensorflow\\python\\eager\\execute.py\u001b[0m in \u001b[0;36mquick_execute\u001b[1;34m(op_name, num_outputs, inputs, attrs, ctx, name)\u001b[0m\n\u001b[0;32m     57\u001b[0m   \u001b[1;32mtry\u001b[0m\u001b[1;33m:\u001b[0m\u001b[1;33m\u001b[0m\u001b[1;33m\u001b[0m\u001b[0m\n\u001b[0;32m     58\u001b[0m     \u001b[0mctx\u001b[0m\u001b[1;33m.\u001b[0m\u001b[0mensure_initialized\u001b[0m\u001b[1;33m(\u001b[0m\u001b[1;33m)\u001b[0m\u001b[1;33m\u001b[0m\u001b[1;33m\u001b[0m\u001b[0m\n\u001b[1;32m---> 59\u001b[1;33m     tensors = pywrap_tfe.TFE_Py_Execute(ctx._handle, device_name, op_name,\n\u001b[0m\u001b[0;32m     60\u001b[0m                                         inputs, attrs, num_outputs)\n\u001b[0;32m     61\u001b[0m   \u001b[1;32mexcept\u001b[0m \u001b[0mcore\u001b[0m\u001b[1;33m.\u001b[0m\u001b[0m_NotOkStatusException\u001b[0m \u001b[1;32mas\u001b[0m \u001b[0me\u001b[0m\u001b[1;33m:\u001b[0m\u001b[1;33m\u001b[0m\u001b[1;33m\u001b[0m\u001b[0m\n",
      "\u001b[1;31mKeyboardInterrupt\u001b[0m: "
     ]
    }
   ],
   "source": [
    "import time\n",
    "start = time.time()\n",
    "#history = model.fit(X_train, y_train, batch_size=32, steps_per_epoch=len(y_train)/32, epochs=100, verbose=2, validation_data=(X_dev, y_dev),callbacks=[tensorboard])\n",
    "history = model.fit(X_train, y_train, batch_size=32, epochs=100, verbose=2, validation_data=(X_dev, y_dev))\n",
    "print (time.time() - start)\n",
    "\n"
   ]
  },
  {
   "cell_type": "markdown",
   "metadata": {},
   "source": [
    "### 8. Get the results"
   ]
  },
  {
   "cell_type": "code",
   "execution_count": null,
   "metadata": {},
   "outputs": [],
   "source": [
    "results=pd.DataFrame(history.history)\n",
    "results.plot(figsize=(8, 5))\n",
    "plt.grid(True)\n",
    "plt.xlabel (\"Epochs\")\n",
    "plt.ylabel (\"Accuracy - Mean Log Loss\")\n",
    "plt.gca().set_ylim(0, 2) # set the vertical range to [0-1]\n",
    "plt.show()\n",
    "\n",
    "# categorical_accuracy es el training accuracy\n",
    "# val_categorical_accuracy es el validation accuracy\n",
    "# loss es el training loss\n",
    "# val_loss es el validation loss\n",
    "\n",
    "# Overfitting:\n",
    "# Por un lado la Accuracy de los datos de entrenamiento aumenta con las epochs,\n",
    "# mientras que la Accuracy de los datos de validación disminuye o se mantiene constante a lo largo de las epochs. \n",
    "# La Loss de los datos de validación alcanza su mínimo después de pocos epochs y luego empieza a subir, \n",
    "# mientras que la Loss de los datos de entrenamiento disminuye linealmente."
   ]
  },
  {
   "cell_type": "code",
   "execution_count": null,
   "metadata": {},
   "outputs": [],
   "source": [
    "history.params"
   ]
  },
  {
   "cell_type": "code",
   "execution_count": null,
   "metadata": {},
   "outputs": [],
   "source": [
    "results[-1:]"
   ]
  },
  {
   "cell_type": "code",
   "execution_count": null,
   "metadata": {},
   "outputs": [],
   "source": [
    "print (\"Accuracy for the training set: \", results.values[-1:][0][1])"
   ]
  },
  {
   "cell_type": "code",
   "execution_count": null,
   "metadata": {},
   "outputs": [],
   "source": [
    "print (\"Accuracy for the development test set: \", results.values[-1:][0][3])"
   ]
  },
  {
   "cell_type": "markdown",
   "metadata": {},
   "source": [
    "#### Let's see how the model predicts using the development test set:"
   ]
  },
  {
   "cell_type": "code",
   "execution_count": null,
   "metadata": {},
   "outputs": [],
   "source": [
    "dev_predictions=model.predict(X_dev).round(2) \n",
    "dev_predictions[:20]"
   ]
  },
  {
   "cell_type": "code",
   "execution_count": null,
   "metadata": {},
   "outputs": [],
   "source": [
    "dev_rounded_predictions=np.round(dev_predictions)\n",
    "indices = np.argmax(dev_predictions,1)\n",
    "for row, index in zip(dev_rounded_predictions, indices): row[index]=1\n",
    "dev_rounded_predictions[:20]"
   ]
  },
  {
   "cell_type": "code",
   "execution_count": null,
   "metadata": {},
   "outputs": [],
   "source": [
    "y_dev[:20]"
   ]
  },
  {
   "cell_type": "code",
   "execution_count": null,
   "metadata": {},
   "outputs": [],
   "source": [
    "dev_correct_predictions = np.equal(np.argmax(dev_rounded_predictions,1),np.argmax(y_dev,1))\n",
    "print (dev_correct_predictions[:30])"
   ]
  },
  {
   "cell_type": "code",
   "execution_count": null,
   "metadata": {},
   "outputs": [],
   "source": [
    "from collections import Counter\n",
    "Counter (dev_correct_predictions)"
   ]
  },
  {
   "cell_type": "markdown",
   "metadata": {},
   "source": [
    "### 9. Save model"
   ]
  },
  {
   "cell_type": "markdown",
   "metadata": {},
   "source": [
    "We save the model if it is better than others "
   ]
  },
  {
   "cell_type": "code",
   "execution_count": null,
   "metadata": {},
   "outputs": [],
   "source": [
    "# Save\n",
    "model.save('./Modelos/CNN_model4_PARES_DIA29.h5') # Change the name in each model"
   ]
  },
  {
   "cell_type": "code",
   "execution_count": null,
   "metadata": {},
   "outputs": [],
   "source": [
    "# Extract\n",
    "\"\"\"\n",
    "new_model = keras.models.load_model('./Modelos/EGG_prac1_ANN_model3.h5')\n",
    "\n",
    "import numpy as np\n",
    "\n",
    "# Verify state\n",
    "new_predictions = new_model.predict(X_dev)\n",
    "np.testing.assert_allclose(predictions, new_predictions, rtol=1e-6, atol=1e-6)\n",
    "\n",
    "# Note that the optimizer state is also preserved:\n",
    "# you can resume training where you left off.\n",
    "\"\"\""
   ]
  },
  {
   "cell_type": "code",
   "execution_count": null,
   "metadata": {},
   "outputs": [],
   "source": []
  },
  {
   "cell_type": "code",
   "execution_count": null,
   "metadata": {},
   "outputs": [],
   "source": []
  },
  {
   "cell_type": "code",
   "execution_count": null,
   "metadata": {},
   "outputs": [],
   "source": []
  },
  {
   "cell_type": "code",
   "execution_count": null,
   "metadata": {},
   "outputs": [],
   "source": []
  },
  {
   "cell_type": "code",
   "execution_count": null,
   "metadata": {},
   "outputs": [],
   "source": []
  },
  {
   "cell_type": "markdown",
   "metadata": {},
   "source": [
    "### 10 - Final Test\n",
    "\n",
    "#### 10.1 - Load the final test set"
   ]
  },
  {
   "cell_type": "markdown",
   "metadata": {},
   "source": [
    "#### 10.2 - Evaluate the model\n",
    "\n",
    "\n",
    "ESTO ES LO QUE HAY QUE DESCOMENTAAAAAAAR!!!!!!!\n",
    "De aquí: "
   ]
  },
  {
   "cell_type": "code",
   "execution_count": null,
   "metadata": {},
   "outputs": [],
   "source": [
    "\"\"\"\n",
    "from collections import Counter\n",
    "def predictWithModel(model, X_test, y_test, task1, task2, task3=\"\"):\n",
    "    model.evaluate(X_test, y_test)\n",
    "    test_predictions = model.predict(X_test)\n",
    "    test_rounded_predictions=np.round(test_predictions)\n",
    "    indices = np.argmax(test_predictions,1)\n",
    "    for row, index in zip(test_rounded_predictions, indices): row[index]=1\n",
    "    print(test_rounded_predictions[:20])\n",
    "    \n",
    "    # ACCURACY:\n",
    "    test_correct_predictions = np.equal(np.argmax(test_rounded_predictions,1),np.argmax(y_test,1))\n",
    "    print()\n",
    "    print(test_correct_predictions)\n",
    "    print(type(test_correct_predictions))\n",
    "    final_test_prediction_results=Counter(test_correct_predictions)\n",
    "    \n",
    "    success = np.mean(test_rounded_predictions == y_test)*100\n",
    "    \n",
    "    return final_test_prediction_results, success\n",
    "\"\"\""
   ]
  },
  {
   "cell_type": "code",
   "execution_count": null,
   "metadata": {},
   "outputs": [],
   "source": [
    "\"\"\"\n",
    "users = [\"0091\"]\n",
    "for u in users:   \n",
    "    print(\"USER:\", u)\n",
    "    #X_test, y_test = readRegisterAndReturnXy(u, total_records, 122, 123, 127)\n",
    "    accuracy, success = predictWithModel(model, X_test, y_test, 402,404)\n",
    "    print(u, accuracy, success)\n",
    "    print()\n",
    "\"\"\""
   ]
  }
 ],
 "metadata": {
  "kernelspec": {
   "display_name": "Python 3",
   "language": "python",
   "name": "python3"
  },
  "language_info": {
   "codemirror_mode": {
    "name": "ipython",
    "version": 3
   },
   "file_extension": ".py",
   "mimetype": "text/x-python",
   "name": "python",
   "nbconvert_exporter": "python",
   "pygments_lexer": "ipython3",
   "version": "3.8.5"
  }
 },
 "nbformat": 4,
 "nbformat_minor": 4
}
