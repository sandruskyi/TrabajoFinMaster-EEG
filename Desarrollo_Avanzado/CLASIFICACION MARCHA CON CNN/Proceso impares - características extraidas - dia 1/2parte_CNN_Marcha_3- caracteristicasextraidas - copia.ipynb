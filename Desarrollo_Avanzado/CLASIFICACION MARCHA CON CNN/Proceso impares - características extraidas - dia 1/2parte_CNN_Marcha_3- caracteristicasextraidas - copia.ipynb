{
 "cells": [
  {
   "cell_type": "markdown",
   "metadata": {},
   "source": [
    "# Parte 4: Clasificación con CNN"
   ]
  },
  {
   "cell_type": "markdown",
   "metadata": {},
   "source": [
    "### Resultados con la arquitectura anterior: "
   ]
  },
  {
   "cell_type": "markdown",
   "metadata": {},
   "source": [
    "Resultados:\n",
    "    \n",
    "    TRAIN                   DEV\n",
    "    loss       accuracy     val_loss    val_accuracy\n",
    "    0.408548\t0.923077\t0.868668\t0.730769\n",
    "    \n",
    "Por tanto: \n",
    "\n",
    "    E = 1 - Accuracy\n",
    "    Etrain = 1 - 0.923077 = 0.076923\n",
    "    Etest = 1 - 0.730769 = 0.269231\n",
    "    \n",
    "    Bias = Etrain - Ehuman = 0.076923\n",
    "    Variance = Etest - Etrain = 0.269231 - 0.076923 = 0.192308"
   ]
  },
  {
   "cell_type": "markdown",
   "metadata": {},
   "source": [
    "### Cambios realizados"
   ]
  },
  {
   "cell_type": "markdown",
   "metadata": {},
   "source": [
    "Se observa una tendencia a mejorar, se va a aumentar el número de epochs a 200, pero eso solo ha creado un gran overfitting, así que se vuelve ha poner a 100. \n",
    "\n",
    "Se va a probar con la funcion sigmoid y la inicialización Xavier. Se ha probado con activation=\"sigmoid\", kernel_initializer=\"glorot_normal\". Pero no ha habido mejora.\n",
    "\n",
    "Se va a probar con la función activation='relu', kernel_initializer=\"he_uniform\" (antes era \"he_normal\"). Tampoco se ha visto una mejora, asi que se vuelve a poner los mismos inicializadores. \n",
    "\n",
    "Se va a probar con el regularizador l1"
   ]
  },
  {
   "cell_type": "markdown",
   "metadata": {},
   "source": [
    "### Nuevos resultados: "
   ]
  },
  {
   "cell_type": "markdown",
   "metadata": {},
   "source": [
    "\n",
    "\n",
    "Resultados:\n",
    "    \n",
    "    TRAIN                   DEV\n",
    "    loss       accuracy     val_loss    val_accuracy\n",
    "    0.596408\t0.711538\t0.649262\t0.615385\n",
    "    \n",
    "Por tanto: \n",
    "\n",
    "    E = 1 - Accuracy\n",
    "    Etrain = 1 - 0.711538 = 0.288462\n",
    "    Etest = 1 - 0.615385 = 0.384615\n",
    "    \n",
    "    Bias = Etrain - Ehuman = 0.288462\n",
    "    Variance = Etest - Etrain = 0.384615 - 0.288462 = 0.096153\n",
    "\n",
    "La varianza se ha reducido (de 46% a 9%) pero el bias ha aumentado a un 28%\n",
    "El bias se encuentra bajo (1%), pero la varianza es alta (46%), hay que tratar de reducirla.  Se tratará de mejorar el bias. Para mejorar esto será necesario añadir más complejidad, elegir una mejor optimización, cambiando la arquitectura (más neuronas, más capas)...\n"
   ]
  },
  {
   "cell_type": "markdown",
   "metadata": {},
   "source": [
    "### 1 - Import Libraries"
   ]
  },
  {
   "cell_type": "code",
   "execution_count": 1,
   "metadata": {},
   "outputs": [],
   "source": [
    "# Tensorflow and tf.keras\n",
    "import tensorflow as tf\n",
    "from tensorflow import keras\n",
    "\n",
    "#Helper libraries\n",
    "import matplotlib.pyplot as plt\n",
    "import pandas as pd\n",
    "import numpy as np\n",
    "\n",
    "# Signal libraries\n",
    "from scipy import signal\n"
   ]
  },
  {
   "cell_type": "markdown",
   "metadata": {},
   "source": [
    "### 2 - Load data"
   ]
  },
  {
   "cell_type": "code",
   "execution_count": 2,
   "metadata": {},
   "outputs": [],
   "source": [
    "class ROutput:\n",
    "    def __init__(self, task, data):\n",
    "        self.task = task\n",
    "        self.data = data\n",
    "        \n",
    "class OutTaskData: \n",
    "    def __init__(self, task, data): \n",
    "        self.task = task\n",
    "        self.data = data"
   ]
  },
  {
   "cell_type": "code",
   "execution_count": 3,
   "metadata": {},
   "outputs": [],
   "source": [
    "import scipy.io as sio\n",
    "# Primero leemos los registros\n",
    "def read_outputs(rec):\n",
    "    '''read_outputs(\"userS0091f1.mat\")'''\n",
    "    mat = sio.loadmat(rec)\n",
    "    mdata = mat['session']\n",
    "    val = mdata[0,0]\n",
    "    #output = ROutput(np.array(val[\"task\"]), np.array(val[\"data\"]))\n",
    "    output = ROutput(np.array(val[\"task_EEG_p\"]), np.array(val[\"data_processed_EEG\"]))\n",
    "    return output"
   ]
  },
  {
   "cell_type": "markdown",
   "metadata": {},
   "source": [
    "### Cargamos los datos"
   ]
  },
  {
   "cell_type": "code",
   "execution_count": 4,
   "metadata": {},
   "outputs": [],
   "source": [
    "# Configuración\n",
    "from sklearn.pipeline import make_pipeline\n",
    "from sklearn.preprocessing import StandardScaler, OneHotEncoder\n",
    "from sklearn.linear_model import Perceptron\n",
    "from keras.utils import to_categorical\n",
    "\n",
    "\n",
    "task1 = 402 # SE PUEDE CAMBIAR\n",
    "task2 = 404 # SE PUEDE CAMBIAR\n",
    "task_OneHotEnconding = {402: [1.,0.], 404: [0.,1.]}\n",
    "user = 'W29' # SE PUEDE CAMBIAR\n",
    "day = '0401'\n",
    "folder_day = 'W29-01_04_2021'\n",
    "total_records = 22 # CAMBIAR SI HAY MAS REGISTROS\n",
    "fm = 200\n",
    "electrodes_names_selected = ['F3', 'FZ', 'FC1','FCZ','C1','CZ','CP1','CPZ', 'FC5', 'FC3','C5','C3','CP5','CP3','P3',\n",
    "                             'PZ','F4','FC2','FC4','FC6','C2','C4','CP2','CP4','C6','CP6','P4','HR' ,'HL', 'VU', 'VD']\n",
    "number_channels = len(electrodes_names_selected)"
   ]
  },
  {
   "cell_type": "code",
   "execution_count": 5,
   "metadata": {},
   "outputs": [
    {
     "name": "stdout",
     "output_type": "stream",
     "text": [
      "11 22\n"
     ]
    }
   ],
   "source": [
    "lTaskData = []\n",
    "total_records_used = 0\n",
    "for i_rec in range(1,total_records+1):\n",
    "    i_rec_record = i_rec\n",
    "    if i_rec_record <10:\n",
    "        i_rec_record = \"0\"+str(i_rec_record)\n",
    "    if i_rec % 2 != 0: # Registros impares primero: USUARIO SIN MOVIMIENTO SOLO PENSANDO\n",
    "        record = \"./RegistrosProcesados2/\"+folder_day+\"/W29_2021\"+day+\"_openloop_\"+str(i_rec_record)+\"_processed.mat\"\n",
    "        output = read_outputs(record) # output.task será y, output.data será x\n",
    "\n",
    "\n",
    "        output.task = np.transpose(output.task)\n",
    "        output.data = output.data.reshape((np.shape(output.data)[0],np.shape(output.data)[1]))\n",
    "        output.data = np.transpose(output.data)\n",
    "        #output.data = output.data.reshape((np.shape(output.data)[0],np.shape(output.data)[1],1))\n",
    "\n",
    "        outT = (output.task == task1) | (output.task == task2)\n",
    "        outData = output.data[0:np.shape(output.data)[0], outT[0,:]]\n",
    "        outTask = output.task[0, outT[0,:]]\n",
    "        outTD = OutTaskData(outTask, outData)\n",
    "\n",
    "        lTaskData.append(outTD)\n",
    "        total_records_used+=1\n",
    "print(total_records_used, total_records)"
   ]
  },
  {
   "cell_type": "code",
   "execution_count": 6,
   "metadata": {},
   "outputs": [
    {
     "name": "stdout",
     "output_type": "stream",
     "text": [
      "X_train: (8, 32, 49)\n",
      "y_train: (8, 49)\n",
      "X_dev: (2, 32, 49)\n",
      "y_dev: (2, 49)\n",
      "X_test: (1, 32, 49)\n",
      "y_test: (1, 49)\n",
      "ONE HOT ENCODER:\n",
      "X_train: (104, 32, 5, 1)\n",
      "y_train: (104, 2)\n",
      "X_dev: (26, 32, 5, 1)\n",
      "y_dev: (26, 2)\n",
      "X_test: (13, 32, 5, 1)\n",
      "y_test: (13, 2)\n"
     ]
    }
   ],
   "source": [
    "# Vamos a coger 2 registros para el entrenamiento, 1 para el conjunto dev set, 1 para el test set\n",
    "X_train, y_train, X_dev, y_dev, X_test, y_test = [],[],[],[],[],[] \n",
    "for j in range(0,total_records_used-3): # Cogemos 18 registros para entrenamiento\n",
    "    X_train.append(lTaskData[j].data)\n",
    "    y_train.append(lTaskData[j].task)\n",
    "\n",
    "for j in range(total_records_used-3,total_records_used-1): # Cogemos 2 registros para el dev set\n",
    "    X_dev.append(lTaskData[j].data)\n",
    "    y_dev.append(lTaskData[j].task)\n",
    "for j in range(total_records_used-1,total_records_used): # Cogemos 2 registros para el test set\n",
    "    X_test.append(lTaskData[j].data)\n",
    "    y_test.append(lTaskData[j].task)\n",
    "\n",
    "X_train = np.array(X_train)\n",
    "#y_train = np.ravel(np.array(y_train))\n",
    "y_train = np.array(y_train)\n",
    "X_dev = np.array(X_dev)\n",
    "#y_dev = np.ravel(np.array(y_dev))\n",
    "y_dev = np.array(y_dev)\n",
    "X_test = np.array(X_test)\n",
    "y_test = np.array(y_test)\n",
    "#y_test = np.ravel(np.array(y_test))\n",
    "\n",
    "print (\"X_train:\",X_train.shape)\n",
    "print (\"y_train:\",y_train.shape)\n",
    "print (\"X_dev:\",X_dev.shape)\n",
    "print (\"y_dev:\",y_dev.shape)\n",
    "print (\"X_test:\",X_test.shape)\n",
    "print (\"y_test:\",y_test.shape)\n",
    "\n",
    "\n",
    "\n",
    "\n",
    "\n",
    "# VENTANEO Y ONE HOT ENCODING \n",
    "window = 5\n",
    "samples_advance = 3\n",
    "\n",
    "# Ventaneo X_train\n",
    "\n",
    "X_train_l = []\n",
    "y_train_l = []\n",
    "for num_X_train in range(np.shape(X_train)[0]): # Para no mezclar registros\n",
    "    win_init = int(0)\n",
    "    window_position = 0\n",
    "    \n",
    "    for i in range(np.shape(X_train)[2]): # For each signal registered\n",
    "        win_end = int(win_init + window)\n",
    "        if win_end >= np.shape(X_train)[2]:\n",
    "            break\n",
    "\n",
    "        task = np.unique(y_train[num_X_train,win_init:win_end])\n",
    "\n",
    "        if len(task)==1:\n",
    "        #if task1 in task or task2 in task:\n",
    "            signal_window = X_train[num_X_train, :, win_init:win_end]\n",
    "            \n",
    "            #data_filtered = preprocessing(signal_window, fm, number_channels)\n",
    "            #X_train_l.append(data_filtered)\n",
    "            X_train_l.append(signal_window)\n",
    "            taskOH = task_OneHotEnconding[task[0]]\n",
    "            y_train_l.append(taskOH)\n",
    "            \n",
    "        win_init += int(samples_advance)\n",
    "\n",
    "X_train_l = np.array(X_train_l)\n",
    "y_train_l = np.array(y_train_l)\n",
    "\n",
    "\n",
    "# Ventaneo X_dev\n",
    "X_dev_l = []\n",
    "y_dev_l = []\n",
    "for num_X_dev in range(np.shape(X_dev)[0]):\n",
    "    win_init = int(0)\n",
    "    window_position = 0\n",
    "    \n",
    "    for i in range(np.shape(X_dev)[2]): # For each signal registered\n",
    "        win_end = int(win_init + window)\n",
    "        if win_end >= np.shape(X_dev)[2]:\n",
    "            break\n",
    "\n",
    "        task = np.unique(y_dev[num_X_dev,win_init:win_end])\n",
    "\n",
    "        if len(task)==1:\n",
    "        #if task1 in task or task2 in task:\n",
    "            signal_window = X_dev[num_X_dev, :, win_init:win_end]\n",
    "            \n",
    "            #data_filtered = preprocessing(signal_window, fm, number_channels)\n",
    "            #X_train_l.append(data_filtered)\n",
    "            X_dev_l.append(signal_window)\n",
    "            taskOH = task_OneHotEnconding[task[0]]\n",
    "            y_dev_l.append(taskOH)\n",
    "            \n",
    "        win_init += int(samples_advance)\n",
    "\n",
    "X_dev_l = np.array(X_dev_l)\n",
    "y_dev_l = np.array(y_dev_l)\n",
    "\n",
    "# Ventaneo X_test\n",
    "X_test_l = []\n",
    "y_test_l = []\n",
    "for num_X_test in range(np.shape(X_test)[0]): \n",
    "    win_init = int(0)\n",
    "    window_position = 0\n",
    "    \n",
    "    for i in range(np.shape(X_test)[2]): # For each signal registered\n",
    "        win_end = int(win_init + window)\n",
    "        if win_end >= np.shape(X_test)[2]:\n",
    "            break\n",
    "\n",
    "        task = np.unique(y_test[num_X_test,win_init:win_end])\n",
    "\n",
    "        if len(task)==1:\n",
    "        #if task1 in task or task2 in task:\n",
    "            signal_window = X_test[num_X_test, :, win_init:win_end]\n",
    "            \n",
    "            #data_filtered = preprocessing(signal_window, fm, number_channels)\n",
    "            #X_train_l.append(data_filtered)\n",
    "            X_test_l.append(signal_window)\n",
    "            taskOH = task_OneHotEnconding[task[0]]\n",
    "            y_test_l.append(taskOH)\n",
    "            \n",
    "        win_init += int(samples_advance)\n",
    "\n",
    "X_test_l = np.array(X_test_l)\n",
    "y_test_l = np.array(y_test_l)\n",
    "\n",
    "\n",
    "\n",
    "\n",
    "X_train_l = X_train_l.reshape((np.shape(X_train_l)[0],np.shape(X_train_l)[1],np.shape(X_train_l)[2], 1))\n",
    "X_dev_l = X_dev_l.reshape((np.shape(X_dev_l)[0],np.shape(X_dev_l)[1],np.shape(X_dev_l)[2], 1))\n",
    "X_test_l = X_test_l.reshape((np.shape(X_test_l)[0],np.shape(X_test_l)[1],np.shape(X_test_l)[2], 1))\n",
    "\n",
    "\n",
    "print(\"ONE HOT ENCODER:\")\n",
    "print (\"X_train:\",X_train_l.shape)\n",
    "print (\"y_train:\",y_train_l.shape)\n",
    "print (\"X_dev:\",X_dev_l.shape)\n",
    "print (\"y_dev:\",y_dev_l.shape)\n",
    "print (\"X_test:\",X_test_l.shape)\n",
    "print (\"y_test:\",y_test_l.shape)\n",
    "\n",
    "X_train = X_train_l\n",
    "y_train = y_train_l\n",
    "X_dev = X_dev_l\n",
    "y_dev = y_dev_l\n",
    "X_test = X_test_l\n",
    "y_test = y_test_l"
   ]
  },
  {
   "cell_type": "markdown",
   "metadata": {},
   "source": [
    "### 3. Initialize variables"
   ]
  },
  {
   "cell_type": "code",
   "execution_count": 7,
   "metadata": {},
   "outputs": [],
   "source": [
    "INPUTS = X_train.shape[1]\n",
    "OUTPUTS = y_train.shape[1]\n",
    "NUM_TRAINING_EXAMPLES = int(round(X_train.shape[0]/1))\n",
    "NUM_DEV_EXAMPLES = int(round(y_train.shape[0]/1))"
   ]
  },
  {
   "cell_type": "markdown",
   "metadata": {},
   "source": [
    "Some data is displayed to test correctness:"
   ]
  },
  {
   "cell_type": "code",
   "execution_count": 8,
   "metadata": {},
   "outputs": [
    {
     "data": {
      "text/plain": [
       "array([[[[-1.10091475],\n",
       "         [-1.18560955],\n",
       "         [-1.22540958],\n",
       "         [-1.30127027],\n",
       "         [-1.14601052]],\n",
       "\n",
       "        [[-0.73933969],\n",
       "         [-0.6522277 ],\n",
       "         [-0.60960244],\n",
       "         [-0.62635203],\n",
       "         [-0.75554883]],\n",
       "\n",
       "        [[-0.65035738],\n",
       "         [-0.78916911],\n",
       "         [-0.74388342],\n",
       "         [-0.8335337 ],\n",
       "         [-0.71300404]],\n",
       "\n",
       "        [[-0.87346323],\n",
       "         [-0.91497745],\n",
       "         [-1.01676848],\n",
       "         [-1.16910068],\n",
       "         [-1.1302377 ]],\n",
       "\n",
       "        [[-0.96936541],\n",
       "         [-0.83515715],\n",
       "         [-0.91614968],\n",
       "         [-0.867686  ],\n",
       "         [-0.9775851 ]],\n",
       "\n",
       "        [[-1.08371702],\n",
       "         [-1.04183855],\n",
       "         [-1.04259551],\n",
       "         [-0.91319117],\n",
       "         [-0.85486867]],\n",
       "\n",
       "        [[-1.08475912],\n",
       "         [-0.9985104 ],\n",
       "         [-0.92636541],\n",
       "         [-0.90100283],\n",
       "         [-0.92114033]],\n",
       "\n",
       "        [[-0.96285848],\n",
       "         [-1.04281849],\n",
       "         [-1.05650712],\n",
       "         [-0.93621123],\n",
       "         [-0.91950371]],\n",
       "\n",
       "        [[-1.11986017],\n",
       "         [-1.13755911],\n",
       "         [-1.10725991],\n",
       "         [-1.23916743],\n",
       "         [-1.10527364]],\n",
       "\n",
       "        [[-1.19593847],\n",
       "         [-1.10944223],\n",
       "         [-1.11470031],\n",
       "         [-1.1161685 ],\n",
       "         [-1.07972332]],\n",
       "\n",
       "        [[-1.15576314],\n",
       "         [-1.17940457],\n",
       "         [-1.13249148],\n",
       "         [-1.08961971],\n",
       "         [-1.02243438]],\n",
       "\n",
       "        [[-0.67371055],\n",
       "         [-0.55738688],\n",
       "         [-0.5055594 ],\n",
       "         [-0.51167953],\n",
       "         [-0.7238865 ]],\n",
       "\n",
       "        [[-0.87216162],\n",
       "         [-0.80653999],\n",
       "         [-0.85271813],\n",
       "         [-0.86422332],\n",
       "         [-0.75432136]],\n",
       "\n",
       "        [[-0.83084721],\n",
       "         [-1.00929969],\n",
       "         [-0.96519016],\n",
       "         [-0.97046271],\n",
       "         [-0.9335852 ]],\n",
       "\n",
       "        [[-0.85781069],\n",
       "         [-0.93625877],\n",
       "         [-1.01390328],\n",
       "         [-0.94499817],\n",
       "         [-0.85290566]],\n",
       "\n",
       "        [[-0.80132806],\n",
       "         [-0.86528783],\n",
       "         [-0.94456309],\n",
       "         [-0.92305878],\n",
       "         [-0.91513922]],\n",
       "\n",
       "        [[-0.69026097],\n",
       "         [-0.76478067],\n",
       "         [-0.78086435],\n",
       "         [-0.87597447],\n",
       "         [-0.79194332]],\n",
       "\n",
       "        [[-1.01166919],\n",
       "         [-0.9863516 ],\n",
       "         [-1.14491136],\n",
       "         [-1.1210355 ],\n",
       "         [-1.03845465]],\n",
       "\n",
       "        [[-1.43728241],\n",
       "         [-1.11944436],\n",
       "         [-1.16021034],\n",
       "         [-1.03388904],\n",
       "         [-1.24732427]],\n",
       "\n",
       "        [[-0.79012112],\n",
       "         [-0.80274877],\n",
       "         [-0.76560969],\n",
       "         [-0.69933888],\n",
       "         [-0.63491454]],\n",
       "\n",
       "        [[-0.89005627],\n",
       "         [-1.00420612],\n",
       "         [-0.97938257],\n",
       "         [-0.95741949],\n",
       "         [-0.95285456]],\n",
       "\n",
       "        [[-1.05628657],\n",
       "         [-0.95559817],\n",
       "         [-0.82211222],\n",
       "         [-0.81654804],\n",
       "         [-0.86459248]],\n",
       "\n",
       "        [[-0.89811214],\n",
       "         [-0.97799064],\n",
       "         [-0.94208457],\n",
       "         [-1.01784109],\n",
       "         [-0.94228649]],\n",
       "\n",
       "        [[-0.80455702],\n",
       "         [-0.75328942],\n",
       "         [-0.81731808],\n",
       "         [-0.85354457],\n",
       "         [-1.01599284]],\n",
       "\n",
       "        [[-0.79864351],\n",
       "         [-0.98207379],\n",
       "         [-1.07800206],\n",
       "         [-0.87563628],\n",
       "         [-0.8697048 ]],\n",
       "\n",
       "        [[-0.92575908],\n",
       "         [-0.84292542],\n",
       "         [-0.72741675],\n",
       "         [-0.6875535 ],\n",
       "         [-0.73375828]],\n",
       "\n",
       "        [[-0.76652337],\n",
       "         [-0.73444433],\n",
       "         [-0.725692  ],\n",
       "         [-0.85024511],\n",
       "         [-0.88140641]],\n",
       "\n",
       "        [[-0.75696097],\n",
       "         [-0.70981838],\n",
       "         [-0.81786427],\n",
       "         [-0.84539216],\n",
       "         [-0.85608652]],\n",
       "\n",
       "        [[-1.26119661],\n",
       "         [-1.23673734],\n",
       "         [-1.36479313],\n",
       "         [-1.29642572],\n",
       "         [-1.06455931]],\n",
       "\n",
       "        [[-0.98314232],\n",
       "         [-0.96446208],\n",
       "         [-0.78567208],\n",
       "         [-0.93559047],\n",
       "         [-0.86715842]],\n",
       "\n",
       "        [[-1.07013712],\n",
       "         [-0.99441305],\n",
       "         [-1.06293222],\n",
       "         [-1.0700215 ],\n",
       "         [-1.00480823]],\n",
       "\n",
       "        [[-0.87832613],\n",
       "         [-0.97867105],\n",
       "         [-1.02015518],\n",
       "         [-0.89979547],\n",
       "         [-1.05132901]]],\n",
       "\n",
       "\n",
       "       [[[-1.30127027],\n",
       "         [-1.14601052],\n",
       "         [-1.0826931 ],\n",
       "         [-1.07282014],\n",
       "         [-1.29356845]],\n",
       "\n",
       "        [[-0.62635203],\n",
       "         [-0.75554883],\n",
       "         [-0.72569138],\n",
       "         [-0.8704877 ],\n",
       "         [-0.87795692]],\n",
       "\n",
       "        [[-0.8335337 ],\n",
       "         [-0.71300404],\n",
       "         [-0.77986452],\n",
       "         [-0.77552735],\n",
       "         [-0.67418434]],\n",
       "\n",
       "        [[-1.16910068],\n",
       "         [-1.1302377 ],\n",
       "         [-1.11151525],\n",
       "         [-1.10913778],\n",
       "         [-0.97327019]],\n",
       "\n",
       "        [[-0.867686  ],\n",
       "         [-0.9775851 ],\n",
       "         [-1.01680516],\n",
       "         [-1.12514172],\n",
       "         [-0.9374036 ]],\n",
       "\n",
       "        [[-0.91319117],\n",
       "         [-0.85486867],\n",
       "         [-0.79689263],\n",
       "         [-0.73315104],\n",
       "         [-0.87198972]],\n",
       "\n",
       "        [[-0.90100283],\n",
       "         [-0.92114033],\n",
       "         [-1.02185477],\n",
       "         [-0.84871805],\n",
       "         [-0.86486941]],\n",
       "\n",
       "        [[-0.93621123],\n",
       "         [-0.91950371],\n",
       "         [-0.86971872],\n",
       "         [-0.87374605],\n",
       "         [-0.94958525]],\n",
       "\n",
       "        [[-1.23916743],\n",
       "         [-1.10527364],\n",
       "         [-1.14524653],\n",
       "         [-1.149992  ],\n",
       "         [-1.28315254]],\n",
       "\n",
       "        [[-1.1161685 ],\n",
       "         [-1.07972332],\n",
       "         [-1.1348109 ],\n",
       "         [-1.05598282],\n",
       "         [-1.35181873]],\n",
       "\n",
       "        [[-1.08961971],\n",
       "         [-1.02243438],\n",
       "         [-1.11534765],\n",
       "         [-1.09073733],\n",
       "         [-1.07438782]],\n",
       "\n",
       "        [[-0.51167953],\n",
       "         [-0.7238865 ],\n",
       "         [-0.77757535],\n",
       "         [-0.87881164],\n",
       "         [-0.91596249]],\n",
       "\n",
       "        [[-0.86422332],\n",
       "         [-0.75432136],\n",
       "         [-0.82502551],\n",
       "         [-0.76243959],\n",
       "         [-0.81869767]],\n",
       "\n",
       "        [[-0.97046271],\n",
       "         [-0.9335852 ],\n",
       "         [-0.76587553],\n",
       "         [-0.76862296],\n",
       "         [-0.82908209]],\n",
       "\n",
       "        [[-0.94499817],\n",
       "         [-0.85290566],\n",
       "         [-0.85389605],\n",
       "         [-0.86573315],\n",
       "         [-0.72030671]],\n",
       "\n",
       "        [[-0.92305878],\n",
       "         [-0.91513922],\n",
       "         [-0.82247075],\n",
       "         [-0.82807512],\n",
       "         [-0.68326757]],\n",
       "\n",
       "        [[-0.87597447],\n",
       "         [-0.79194332],\n",
       "         [-0.90853638],\n",
       "         [-0.60041789],\n",
       "         [-0.55282205]],\n",
       "\n",
       "        [[-1.1210355 ],\n",
       "         [-1.03845465],\n",
       "         [-1.06361556],\n",
       "         [-1.17259745],\n",
       "         [-1.28374372]],\n",
       "\n",
       "        [[-1.03388904],\n",
       "         [-1.24732427],\n",
       "         [-1.10487579],\n",
       "         [-1.28140199],\n",
       "         [-1.28020926]],\n",
       "\n",
       "        [[-0.69933888],\n",
       "         [-0.63491454],\n",
       "         [-0.75764787],\n",
       "         [-0.90301076],\n",
       "         [-0.8920131 ]],\n",
       "\n",
       "        [[-0.95741949],\n",
       "         [-0.95285456],\n",
       "         [-0.8402441 ],\n",
       "         [-0.77761998],\n",
       "         [-0.78766634]],\n",
       "\n",
       "        [[-0.81654804],\n",
       "         [-0.86459248],\n",
       "         [-0.7830593 ],\n",
       "         [-0.84197823],\n",
       "         [-1.03075584]],\n",
       "\n",
       "        [[-1.01784109],\n",
       "         [-0.94228649],\n",
       "         [-0.9637223 ],\n",
       "         [-1.12033937],\n",
       "         [-0.98544514]],\n",
       "\n",
       "        [[-0.85354457],\n",
       "         [-1.01599284],\n",
       "         [-0.92465332],\n",
       "         [-0.92827578],\n",
       "         [-0.89399259]],\n",
       "\n",
       "        [[-0.87563628],\n",
       "         [-0.8697048 ],\n",
       "         [-0.77697152],\n",
       "         [-0.82709404],\n",
       "         [-0.86974732]],\n",
       "\n",
       "        [[-0.6875535 ],\n",
       "         [-0.73375828],\n",
       "         [-0.66615977],\n",
       "         [-0.66272497],\n",
       "         [-0.75899196]],\n",
       "\n",
       "        [[-0.85024511],\n",
       "         [-0.88140641],\n",
       "         [-0.83030454],\n",
       "         [-0.84346497],\n",
       "         [-0.87135678]],\n",
       "\n",
       "        [[-0.84539216],\n",
       "         [-0.85608652],\n",
       "         [-0.95341249],\n",
       "         [-0.95432555],\n",
       "         [-0.89340753]],\n",
       "\n",
       "        [[-1.29642572],\n",
       "         [-1.06455931],\n",
       "         [-1.08681023],\n",
       "         [-0.91658729],\n",
       "         [-0.8693267 ]],\n",
       "\n",
       "        [[-0.93559047],\n",
       "         [-0.86715842],\n",
       "         [-1.09960327],\n",
       "         [-1.20589291],\n",
       "         [-1.20695556]],\n",
       "\n",
       "        [[-1.0700215 ],\n",
       "         [-1.00480823],\n",
       "         [-1.0606739 ],\n",
       "         [-1.01504186],\n",
       "         [-1.02191622]],\n",
       "\n",
       "        [[-0.89979547],\n",
       "         [-1.05132901],\n",
       "         [-0.95977319],\n",
       "         [-1.00354475],\n",
       "         [-0.86559982]]]])"
      ]
     },
     "execution_count": 8,
     "metadata": {},
     "output_type": "execute_result"
    }
   ],
   "source": [
    "X_train[:2]"
   ]
  },
  {
   "cell_type": "code",
   "execution_count": 9,
   "metadata": {},
   "outputs": [
    {
     "data": {
      "text/plain": [
       "array([[[[-1.7609531 ],\n",
       "         [-1.70947652],\n",
       "         [-1.45426169],\n",
       "         [-1.30297408],\n",
       "         [-1.05137947]],\n",
       "\n",
       "        [[-1.53095232],\n",
       "         [-1.3035732 ],\n",
       "         [-0.95293351],\n",
       "         [-1.30393792],\n",
       "         [-1.19464448]],\n",
       "\n",
       "        [[-0.49054619],\n",
       "         [-0.3859702 ],\n",
       "         [-0.45525626],\n",
       "         [-0.42108582],\n",
       "         [-0.55282466]],\n",
       "\n",
       "        [[-0.87348834],\n",
       "         [-0.92687503],\n",
       "         [-0.82310628],\n",
       "         [-0.94430777],\n",
       "         [-1.19249275]],\n",
       "\n",
       "        [[-1.44225092],\n",
       "         [-1.39678332],\n",
       "         [-1.26183112],\n",
       "         [-1.04571504],\n",
       "         [-0.82918066]],\n",
       "\n",
       "        [[-0.72677448],\n",
       "         [-0.90734664],\n",
       "         [-1.08261998],\n",
       "         [-1.20004651],\n",
       "         [-1.09914864]],\n",
       "\n",
       "        [[-1.39393049],\n",
       "         [-1.44384667],\n",
       "         [-1.30435787],\n",
       "         [-1.23660723],\n",
       "         [-0.97944169]],\n",
       "\n",
       "        [[-0.63428626],\n",
       "         [-0.69598645],\n",
       "         [-0.78099493],\n",
       "         [-0.70654519],\n",
       "         [-0.76841452]],\n",
       "\n",
       "        [[-1.21923233],\n",
       "         [-1.41287307],\n",
       "         [-1.43154543],\n",
       "         [-1.12788723],\n",
       "         [-1.02287944]],\n",
       "\n",
       "        [[-1.50088037],\n",
       "         [-1.40875456],\n",
       "         [-1.50151153],\n",
       "         [-1.2926847 ],\n",
       "         [-1.08473019]],\n",
       "\n",
       "        [[-0.90852469],\n",
       "         [-0.97004856],\n",
       "         [-1.11190528],\n",
       "         [-1.10971714],\n",
       "         [-1.2470141 ]],\n",
       "\n",
       "        [[-0.52636852],\n",
       "         [-0.46495362],\n",
       "         [-0.40846008],\n",
       "         [-0.55626671],\n",
       "         [-0.90450869]],\n",
       "\n",
       "        [[-1.16580738],\n",
       "         [-1.41625806],\n",
       "         [-1.36127875],\n",
       "         [-1.04400882],\n",
       "         [-0.76393127]],\n",
       "\n",
       "        [[-0.68899364],\n",
       "         [-0.9054443 ],\n",
       "         [-0.92701545],\n",
       "         [-0.86859734],\n",
       "         [-0.79772185]],\n",
       "\n",
       "        [[-0.82752073],\n",
       "         [-0.61419355],\n",
       "         [-0.6864462 ],\n",
       "         [-0.81128404],\n",
       "         [-0.72355851]],\n",
       "\n",
       "        [[-1.18465514],\n",
       "         [-1.17647846],\n",
       "         [-1.01737157],\n",
       "         [-0.85716885],\n",
       "         [-0.91680605]],\n",
       "\n",
       "        [[-0.96911518],\n",
       "         [-1.19898667],\n",
       "         [-1.15466677],\n",
       "         [-0.88673111],\n",
       "         [-0.98329667]],\n",
       "\n",
       "        [[-0.96595128],\n",
       "         [-0.56966912],\n",
       "         [-0.5663827 ],\n",
       "         [-0.67654589],\n",
       "         [-0.75581582]],\n",
       "\n",
       "        [[-0.98442826],\n",
       "         [-0.92248688],\n",
       "         [-0.87440865],\n",
       "         [-1.31168941],\n",
       "         [-1.30028873]],\n",
       "\n",
       "        [[-1.15500851],\n",
       "         [-1.26629295],\n",
       "         [-1.117054  ],\n",
       "         [-1.25895605],\n",
       "         [-1.19717312]],\n",
       "\n",
       "        [[-0.463178  ],\n",
       "         [-0.6790194 ],\n",
       "         [-0.87637654],\n",
       "         [-0.67636099],\n",
       "         [-0.86869918]],\n",
       "\n",
       "        [[-0.912633  ],\n",
       "         [-1.03185586],\n",
       "         [-0.85462331],\n",
       "         [-0.84053901],\n",
       "         [-0.63400747]],\n",
       "\n",
       "        [[-1.19840428],\n",
       "         [-1.03111324],\n",
       "         [-1.30622103],\n",
       "         [-1.11994855],\n",
       "         [-1.072183  ]],\n",
       "\n",
       "        [[-1.09140494],\n",
       "         [-1.00753988],\n",
       "         [-0.89771919],\n",
       "         [-0.90374829],\n",
       "         [-0.81032531]],\n",
       "\n",
       "        [[-0.51175287],\n",
       "         [-0.59046067],\n",
       "         [-0.49183915],\n",
       "         [-0.64445668],\n",
       "         [-0.80897428]],\n",
       "\n",
       "        [[-1.49318311],\n",
       "         [-1.42258799],\n",
       "         [-1.31620415],\n",
       "         [-1.25415841],\n",
       "         [-1.20751826]],\n",
       "\n",
       "        [[-0.755176  ],\n",
       "         [-0.59401213],\n",
       "         [-0.87718734],\n",
       "         [-0.84760157],\n",
       "         [-0.8066049 ]],\n",
       "\n",
       "        [[-1.01991083],\n",
       "         [-1.16746064],\n",
       "         [-0.9304    ],\n",
       "         [-0.83913567],\n",
       "         [-0.73712137]],\n",
       "\n",
       "        [[-1.13200723],\n",
       "         [-1.12157327],\n",
       "         [-1.03990657],\n",
       "         [-0.93934209],\n",
       "         [-0.96933448]],\n",
       "\n",
       "        [[-1.38408796],\n",
       "         [-1.18630348],\n",
       "         [-1.12702597],\n",
       "         [-0.98718622],\n",
       "         [-1.02160662]],\n",
       "\n",
       "        [[-0.89365758],\n",
       "         [-0.93278236],\n",
       "         [-1.07665684],\n",
       "         [-1.05206985],\n",
       "         [-0.81991994]],\n",
       "\n",
       "        [[-0.83558163],\n",
       "         [-0.9019832 ],\n",
       "         [-0.88690409],\n",
       "         [-0.90657589],\n",
       "         [-1.04761977]]],\n",
       "\n",
       "\n",
       "       [[[-1.30297408],\n",
       "         [-1.05137947],\n",
       "         [-1.03958248],\n",
       "         [-1.32905766],\n",
       "         [-1.13837166]],\n",
       "\n",
       "        [[-1.30393792],\n",
       "         [-1.19464448],\n",
       "         [-1.3048773 ],\n",
       "         [-1.14709931],\n",
       "         [-1.02415777]],\n",
       "\n",
       "        [[-0.42108582],\n",
       "         [-0.55282466],\n",
       "         [-0.87870995],\n",
       "         [-0.83694795],\n",
       "         [-0.87734876]],\n",
       "\n",
       "        [[-0.94430777],\n",
       "         [-1.19249275],\n",
       "         [-0.77864236],\n",
       "         [-0.51928877],\n",
       "         [-0.64406663]],\n",
       "\n",
       "        [[-1.04571504],\n",
       "         [-0.82918066],\n",
       "         [-1.22465469],\n",
       "         [-1.1767269 ],\n",
       "         [-1.21122556]],\n",
       "\n",
       "        [[-1.20004651],\n",
       "         [-1.09914864],\n",
       "         [-0.84005316],\n",
       "         [-0.8139863 ],\n",
       "         [-0.70338839]],\n",
       "\n",
       "        [[-1.23660723],\n",
       "         [-0.97944169],\n",
       "         [-0.8380694 ],\n",
       "         [-0.91107691],\n",
       "         [-1.05175668]],\n",
       "\n",
       "        [[-0.70654519],\n",
       "         [-0.76841452],\n",
       "         [-0.67545376],\n",
       "         [-1.04074631],\n",
       "         [-0.90349413]],\n",
       "\n",
       "        [[-1.12788723],\n",
       "         [-1.02287944],\n",
       "         [-1.092663  ],\n",
       "         [-1.25486502],\n",
       "         [-1.17891113]],\n",
       "\n",
       "        [[-1.2926847 ],\n",
       "         [-1.08473019],\n",
       "         [-0.99863625],\n",
       "         [-0.95248724],\n",
       "         [-1.09419931]],\n",
       "\n",
       "        [[-1.10971714],\n",
       "         [-1.2470141 ],\n",
       "         [-1.2213605 ],\n",
       "         [-1.32285129],\n",
       "         [-1.24269283]],\n",
       "\n",
       "        [[-0.55626671],\n",
       "         [-0.90450869],\n",
       "         [-0.92372337],\n",
       "         [-1.03072795],\n",
       "         [-0.80404142]],\n",
       "\n",
       "        [[-1.04400882],\n",
       "         [-0.76393127],\n",
       "         [-0.90302372],\n",
       "         [-0.80001004],\n",
       "         [-0.78976188]],\n",
       "\n",
       "        [[-0.86859734],\n",
       "         [-0.79772185],\n",
       "         [-0.89775509],\n",
       "         [-0.88489912],\n",
       "         [-0.8692502 ]],\n",
       "\n",
       "        [[-0.81128404],\n",
       "         [-0.72355851],\n",
       "         [-0.69161284],\n",
       "         [-0.7462586 ],\n",
       "         [-0.91258672]],\n",
       "\n",
       "        [[-0.85716885],\n",
       "         [-0.91680605],\n",
       "         [-0.733649  ],\n",
       "         [-0.64992044],\n",
       "         [-0.65884519]],\n",
       "\n",
       "        [[-0.88673111],\n",
       "         [-0.98329667],\n",
       "         [-1.12191242],\n",
       "         [-1.34670356],\n",
       "         [-1.27929835]],\n",
       "\n",
       "        [[-0.67654589],\n",
       "         [-0.75581582],\n",
       "         [-0.61656918],\n",
       "         [-0.45210341],\n",
       "         [-0.53911991]],\n",
       "\n",
       "        [[-1.31168941],\n",
       "         [-1.30028873],\n",
       "         [-1.14778234],\n",
       "         [-1.01043775],\n",
       "         [-0.93191376]],\n",
       "\n",
       "        [[-1.25895605],\n",
       "         [-1.19717312],\n",
       "         [-1.16529707],\n",
       "         [-1.36505914],\n",
       "         [-1.2337955 ]],\n",
       "\n",
       "        [[-0.67636099],\n",
       "         [-0.86869918],\n",
       "         [-0.8736377 ],\n",
       "         [-0.9809631 ],\n",
       "         [-0.86579363]],\n",
       "\n",
       "        [[-0.84053901],\n",
       "         [-0.63400747],\n",
       "         [-0.74713844],\n",
       "         [-0.79318301],\n",
       "         [-0.87217144]],\n",
       "\n",
       "        [[-1.11994855],\n",
       "         [-1.072183  ],\n",
       "         [-0.96969498],\n",
       "         [-0.88685652],\n",
       "         [-0.88771047]],\n",
       "\n",
       "        [[-0.90374829],\n",
       "         [-0.81032531],\n",
       "         [-0.9094369 ],\n",
       "         [-1.18122979],\n",
       "         [-1.08007256]],\n",
       "\n",
       "        [[-0.64445668],\n",
       "         [-0.80897428],\n",
       "         [-0.86112492],\n",
       "         [-0.78712782],\n",
       "         [-0.70002908]],\n",
       "\n",
       "        [[-1.25415841],\n",
       "         [-1.20751826],\n",
       "         [-1.08008613],\n",
       "         [-1.0449586 ],\n",
       "         [-1.11208614]],\n",
       "\n",
       "        [[-0.84760157],\n",
       "         [-0.8066049 ],\n",
       "         [-0.87398244],\n",
       "         [-0.86288049],\n",
       "         [-0.89161455]],\n",
       "\n",
       "        [[-0.83913567],\n",
       "         [-0.73712137],\n",
       "         [-0.82825395],\n",
       "         [-0.93986052],\n",
       "         [-0.78534585]],\n",
       "\n",
       "        [[-0.93934209],\n",
       "         [-0.96933448],\n",
       "         [-0.84044497],\n",
       "         [-0.73943757],\n",
       "         [-0.77420072]],\n",
       "\n",
       "        [[-0.98718622],\n",
       "         [-1.02160662],\n",
       "         [-0.96804594],\n",
       "         [-1.04476719],\n",
       "         [-1.14267752]],\n",
       "\n",
       "        [[-1.05206985],\n",
       "         [-0.81991994],\n",
       "         [-0.84484277],\n",
       "         [-0.84217903],\n",
       "         [-0.92736944]],\n",
       "\n",
       "        [[-0.90657589],\n",
       "         [-1.04761977],\n",
       "         [-0.99133642],\n",
       "         [-1.10586628],\n",
       "         [-1.13925761]]]])"
      ]
     },
     "execution_count": 9,
     "metadata": {},
     "output_type": "execute_result"
    }
   ],
   "source": [
    "X_dev[:2]"
   ]
  },
  {
   "cell_type": "code",
   "execution_count": 10,
   "metadata": {},
   "outputs": [
    {
     "data": {
      "text/plain": [
       "array([[1., 0.],\n",
       "       [1., 0.]])"
      ]
     },
     "execution_count": 10,
     "metadata": {},
     "output_type": "execute_result"
    }
   ],
   "source": [
    "y_train[:2]"
   ]
  },
  {
   "cell_type": "code",
   "execution_count": 11,
   "metadata": {},
   "outputs": [
    {
     "data": {
      "text/plain": [
       "array([0., 1.])"
      ]
     },
     "execution_count": 11,
     "metadata": {},
     "output_type": "execute_result"
    }
   ],
   "source": [
    "y_train[-20]"
   ]
  },
  {
   "cell_type": "code",
   "execution_count": 12,
   "metadata": {},
   "outputs": [
    {
     "data": {
      "text/plain": [
       "array([[1., 0.],\n",
       "       [1., 0.]])"
      ]
     },
     "execution_count": 12,
     "metadata": {},
     "output_type": "execute_result"
    }
   ],
   "source": [
    "y_dev[:2]"
   ]
  },
  {
   "cell_type": "code",
   "execution_count": 13,
   "metadata": {},
   "outputs": [
    {
     "data": {
      "text/plain": [
       "(32, 5, 1)"
      ]
     },
     "execution_count": 13,
     "metadata": {},
     "output_type": "execute_result"
    }
   ],
   "source": [
    "X_dev[0].shape"
   ]
  },
  {
   "cell_type": "code",
   "execution_count": 14,
   "metadata": {},
   "outputs": [
    {
     "data": {
      "text/plain": [
       "(26, 32, 5, 1)"
      ]
     },
     "execution_count": 14,
     "metadata": {},
     "output_type": "execute_result"
    }
   ],
   "source": [
    "X_dev.shape"
   ]
  },
  {
   "cell_type": "code",
   "execution_count": 15,
   "metadata": {},
   "outputs": [
    {
     "data": {
      "text/plain": [
       "(104, 32, 5, 1)"
      ]
     },
     "execution_count": 15,
     "metadata": {},
     "output_type": "execute_result"
    }
   ],
   "source": [
    "X_train.shape"
   ]
  },
  {
   "cell_type": "code",
   "execution_count": 16,
   "metadata": {},
   "outputs": [
    {
     "data": {
      "text/plain": [
       "2"
      ]
     },
     "execution_count": 16,
     "metadata": {},
     "output_type": "execute_result"
    }
   ],
   "source": [
    "y_train.shape[1]"
   ]
  },
  {
   "cell_type": "markdown",
   "metadata": {},
   "source": [
    "### 4 - Set hyperparameters"
   ]
  },
  {
   "cell_type": "code",
   "execution_count": 17,
   "metadata": {},
   "outputs": [],
   "source": [
    "# Tensorboard\n",
    "from time import time\n",
    "from keras.callbacks import TensorBoard\n",
    "tensorboard = TensorBoard(log_dir='logs/{}'.format(time()))"
   ]
  },
  {
   "cell_type": "code",
   "execution_count": 18,
   "metadata": {},
   "outputs": [
    {
     "data": {
      "text/plain": [
       "'\\nn_epochs = 100 #2000\\n#learning_rate = 0.001\\nbatch_size = 32 #250 \\nn_neurons_per_hlayer = [500, 250, 75, 25] # Number of units per layer, 4 hidden layers\\nrate_dropout = [0.8, 0.4, 0.2, 0.1]\\nweight_decay = 1e-4\\n'"
      ]
     },
     "execution_count": 18,
     "metadata": {},
     "output_type": "execute_result"
    }
   ],
   "source": [
    "\"\"\"\n",
    "n_epochs = 100 #2000\n",
    "#learning_rate = 0.001\n",
    "batch_size = 32 #250 \n",
    "n_neurons_per_hlayer = [500, 250, 75, 25] # Number of units per layer, 4 hidden layers\n",
    "rate_dropout = [0.8, 0.4, 0.2, 0.1]\n",
    "weight_decay = 1e-4\n",
    "\"\"\""
   ]
  },
  {
   "cell_type": "markdown",
   "metadata": {},
   "source": [
    "### 5 - Build the model: "
   ]
  },
  {
   "cell_type": "code",
   "execution_count": 19,
   "metadata": {},
   "outputs": [
    {
     "name": "stdout",
     "output_type": "stream",
     "text": [
      "Model: \"sequential\"\n",
      "_________________________________________________________________\n",
      "Layer (type)                 Output Shape              Param #   \n",
      "=================================================================\n",
      "conv2d (Conv2D)              (None, 32, 5, 4)          104       \n",
      "_________________________________________________________________\n",
      "conv2d_1 (Conv2D)            (None, 32, 5, 4)          516       \n",
      "_________________________________________________________________\n",
      "max_pooling2d (MaxPooling2D) (None, 16, 2, 4)          0         \n",
      "_________________________________________________________________\n",
      "dropout (Dropout)            (None, 16, 2, 4)          0         \n",
      "_________________________________________________________________\n",
      "conv2d_2 (Conv2D)            (None, 16, 2, 20)         740       \n",
      "_________________________________________________________________\n",
      "max_pooling2d_1 (MaxPooling2 (None, 8, 1, 20)          0         \n",
      "_________________________________________________________________\n",
      "dropout_1 (Dropout)          (None, 8, 1, 20)          0         \n",
      "_________________________________________________________________\n",
      "flatten (Flatten)            (None, 160)               0         \n",
      "_________________________________________________________________\n",
      "dense (Dense)                (None, 2)                 322       \n",
      "=================================================================\n",
      "Total params: 1,682\n",
      "Trainable params: 1,682\n",
      "Non-trainable params: 0\n",
      "_________________________________________________________________\n"
     ]
    }
   ],
   "source": [
    "from keras.models import Sequential\n",
    "from keras.layers import Dense, Dropout, Activation, Flatten, DepthwiseConv2D\n",
    "from keras.layers.convolutional import Conv2D, MaxPooling2D\n",
    "from keras import optimizers, regularizers\n",
    "import keras.backend as K\n",
    "#K.set_image_data_format('channels_first')\n",
    "\n",
    "weight_decay = 1e-4\n",
    "\n",
    "model = Sequential()\n",
    "# Convolution2D(filtrosConv1, tamaño_filtro1, padding=\"same\", input_shape=(longitud, altura,3), activation = \"relu\")\n",
    "    # - filtrosConv1 número de filtros que aplicaremos tras la primera convolución, normalmente este tamaño va a aumentando\n",
    "    # tras convoluciones para que aumente la dimensión de profundidad (qué cosas hay en mi imagen)\n",
    "    # - tamaño_filtro1 tamaño espacial del kernel (de los filtros)\n",
    "    # - padding = si es same es que es igual que la imagen, vamos crea una imagen del mismo tamaño con el filtro, si es \n",
    "    # valid es que no hay padding y crea una imagen más pequeña que la imagen (creo)\n",
    "    # - input_shape = longitud y altura, tamaño que usará para convolucionar al entrenar\n",
    "    \n",
    "# CAPA PARA FILTRADO TEMPORAL \n",
    "model.add(Conv2D(filters = 4, kernel_size=(1,25), padding=\"same\", activation=\"sigmoid\",input_shape=(32, 5, 1 ), kernel_initializer=\"he_normal\", kernel_regularizer=regularizers.l1(weight_decay)))\n",
    "# CAPA PARA FILTRADO ESPACIAL\n",
    "model.add(Conv2D(filters = 4, kernel_size=(32,1), padding=\"same\", activation='relu', kernel_initializer=\"he_normal\", kernel_regularizer=regularizers.l1(weight_decay)))\n",
    "model.add(MaxPooling2D(pool_size=(2, 2)))\n",
    "\n",
    "model.add(Dropout(0.3))\n",
    "\n",
    "## Siguientes capas convolucionales: \n",
    "model.add(Conv2D(20, (3,3), padding='same',activation='relu', kernel_initializer=\"he_normal\",kernel_regularizer=regularizers.l1(weight_decay)))\n",
    "model.add(MaxPooling2D(pool_size=(2,2)))\n",
    "model.add(Dropout(0.2))\n",
    "\n",
    "\n",
    "\"\"\"\n",
    "model.add(MaxPooling2D(pool_size=(2, 2)))\n",
    "model.add(Dropout(0.5))\n",
    "\n",
    "\n",
    "model.add(Conv2D(96, (3, 3), padding='same',activation='relu', kernel_initializer=\"he_normal\",kernel_regularizer=regularizers.l2(weight_decay)))\n",
    "#model.add(Conv2D(96, (3, 3), padding='same',activation='relu', kernel_initializer=\"he_normal\", kernel_regularizer=regularizers.l2(weight_decay)))\n",
    "model.add(MaxPooling2D(pool_size=(2, 2)))\n",
    "model.add(Dropout(0.2))\n",
    "\n",
    "model.add(Conv2D(192, (3, 3), padding='same',activation='relu', kernel_initializer=\"he_normal\", kernel_regularizer=regularizers.l2(weight_decay)))\n",
    "#model.add(Conv2D(192, (3, 3), padding='same',activation='relu', kernel_initializer=\"he_normal\", kernel_regularizer=regularizers.l2(weight_decay)))\n",
    "model.add(MaxPooling2D(pool_size=(2, 2)))\n",
    "model.add(Dropout(0.1))\n",
    "\"\"\"\n",
    "\n",
    "model.add(Flatten())\n",
    "\"\"\"\n",
    "model.add(Dense(20, activation=\"relu\", kernel_initializer=\"he_normal\"))\n",
    "model.add(Dropout(0.5))\n",
    "\"\"\"\n",
    "model.add(Dense(y_train.shape[1], activation=\"softmax\"))\n",
    "\n",
    "opt = optimizers.Adam(lr=0.001, beta_1=0.9, beta_2=0.999)        \n",
    "model.compile(optimizer=opt, loss='categorical_crossentropy', metrics=['accuracy'])\n",
    "model.summary()"
   ]
  },
  {
   "cell_type": "code",
   "execution_count": 20,
   "metadata": {},
   "outputs": [
    {
     "data": {
      "text/plain": [
       "[<tensorflow.python.keras.layers.convolutional.Conv2D at 0x14edaba0a00>,\n",
       " <tensorflow.python.keras.layers.convolutional.Conv2D at 0x14edbc38550>,\n",
       " <tensorflow.python.keras.layers.pooling.MaxPooling2D at 0x14ee1cc9ee0>,\n",
       " <tensorflow.python.keras.layers.core.Dropout at 0x14ee1cc9f10>,\n",
       " <tensorflow.python.keras.layers.convolutional.Conv2D at 0x14ee1cedb50>,\n",
       " <tensorflow.python.keras.layers.pooling.MaxPooling2D at 0x14ee1ce2e20>,\n",
       " <tensorflow.python.keras.layers.core.Dropout at 0x14ee1e3f670>,\n",
       " <tensorflow.python.keras.layers.core.Flatten at 0x14ee1e3f5e0>,\n",
       " <tensorflow.python.keras.layers.core.Dense at 0x14ee1e371f0>]"
      ]
     },
     "execution_count": 20,
     "metadata": {},
     "output_type": "execute_result"
    }
   ],
   "source": [
    "model.layers"
   ]
  },
  {
   "cell_type": "code",
   "execution_count": 21,
   "metadata": {},
   "outputs": [
    {
     "name": "stdout",
     "output_type": "stream",
     "text": [
      "conv2d\n",
      "conv2d_1\n",
      "max_pooling2d\n",
      "dropout\n",
      "conv2d_2\n",
      "max_pooling2d_1\n",
      "dropout_1\n",
      "flatten\n",
      "dense\n"
     ]
    }
   ],
   "source": [
    "for l in model.layers: print (l.name)"
   ]
  },
  {
   "cell_type": "markdown",
   "metadata": {},
   "source": [
    "All the parameters of a layer can bee accessed:"
   ]
  },
  {
   "cell_type": "code",
   "execution_count": 22,
   "metadata": {},
   "outputs": [
    {
     "data": {
      "text/plain": [
       "(1, 25, 1, 4)"
      ]
     },
     "execution_count": 22,
     "metadata": {},
     "output_type": "execute_result"
    }
   ],
   "source": [
    "weights, biases = model.layers[0].get_weights()\n",
    "weights.shape"
   ]
  },
  {
   "cell_type": "code",
   "execution_count": 23,
   "metadata": {},
   "outputs": [
    {
     "data": {
      "text/plain": [
       "array([[[[ 0.24068019, -0.07674633,  0.4790727 , -0.07130321]],\n",
       "\n",
       "        [[ 0.21091655,  0.21842629,  0.18383981, -0.32557943]],\n",
       "\n",
       "        [[ 0.19866416,  0.617227  ,  0.07104418,  0.06461999]],\n",
       "\n",
       "        [[ 0.10253877,  0.33204854, -0.40873712, -0.13785602]],\n",
       "\n",
       "        [[ 0.4736011 , -0.04306291,  0.4280621 , -0.11919595]],\n",
       "\n",
       "        [[-0.17049536,  0.61446166,  0.03604019, -0.22190933]],\n",
       "\n",
       "        [[-0.16453922, -0.34366703,  0.14005844, -0.07996979]],\n",
       "\n",
       "        [[ 0.47391772,  0.06733344, -0.18894207,  0.15723056]],\n",
       "\n",
       "        [[ 0.1361043 ,  0.2771354 ,  0.08519099, -0.14571227]],\n",
       "\n",
       "        [[ 0.04043397, -0.11972906, -0.16630217,  0.11223119]],\n",
       "\n",
       "        [[ 0.04957186, -0.4817722 , -0.04309487, -0.32336688]],\n",
       "\n",
       "        [[-0.16339909,  0.25472045, -0.26331317, -0.4971105 ]],\n",
       "\n",
       "        [[-0.5418059 ,  0.00466701, -0.28919783, -0.27049708]],\n",
       "\n",
       "        [[-0.22365358,  0.17499048,  0.02625321,  0.0563293 ]],\n",
       "\n",
       "        [[ 0.32587492,  0.4596388 ,  0.30991048,  0.04951527]],\n",
       "\n",
       "        [[-0.5610868 ,  0.05948032,  0.10499021, -0.13891266]],\n",
       "\n",
       "        [[ 0.14581203, -0.02868117, -0.27971515, -0.33959404]],\n",
       "\n",
       "        [[ 0.11080077, -0.17915565, -0.1718768 ,  0.50350475]],\n",
       "\n",
       "        [[ 0.03200133,  0.28005323,  0.00833313, -0.03305693]],\n",
       "\n",
       "        [[-0.05658321, -0.3867967 ,  0.00107718, -0.22838241]],\n",
       "\n",
       "        [[ 0.06526667, -0.12725416,  0.51283383, -0.16950944]],\n",
       "\n",
       "        [[ 0.08465242, -0.22117484,  0.3733913 , -0.52479196]],\n",
       "\n",
       "        [[ 0.22912903,  0.14762366, -0.0522743 ,  0.6281608 ]],\n",
       "\n",
       "        [[ 0.02876166,  0.06976303,  0.6016004 , -0.17031917]],\n",
       "\n",
       "        [[ 0.39827856,  0.43794444,  0.38410783, -0.04569134]]]],\n",
       "      dtype=float32)"
      ]
     },
     "execution_count": 23,
     "metadata": {},
     "output_type": "execute_result"
    }
   ],
   "source": [
    "weights"
   ]
  },
  {
   "cell_type": "code",
   "execution_count": 24,
   "metadata": {},
   "outputs": [
    {
     "data": {
      "text/plain": [
       "array([0., 0., 0., 0.], dtype=float32)"
      ]
     },
     "execution_count": 24,
     "metadata": {},
     "output_type": "execute_result"
    }
   ],
   "source": [
    "biases # Bias de la primera capa: 500 bias inicializados a 0 "
   ]
  },
  {
   "cell_type": "code",
   "execution_count": 25,
   "metadata": {},
   "outputs": [
    {
     "data": {
      "text/plain": [
       "(4,)"
      ]
     },
     "execution_count": 25,
     "metadata": {},
     "output_type": "execute_result"
    }
   ],
   "source": [
    "biases.shape"
   ]
  },
  {
   "cell_type": "markdown",
   "metadata": {},
   "source": [
    "### 6. Compile the model"
   ]
  },
  {
   "cell_type": "markdown",
   "metadata": {},
   "source": [
    "### 7. Train the model with M-BGD"
   ]
  },
  {
   "cell_type": "code",
   "execution_count": 26,
   "metadata": {},
   "outputs": [
    {
     "name": "stdout",
     "output_type": "stream",
     "text": [
      "Epoch 1/100\n",
      "4/4 - 5s - loss: 0.7603 - accuracy: 0.4808 - val_loss: 0.6819 - val_accuracy: 0.6154\n",
      "Epoch 2/100\n",
      "4/4 - 0s - loss: 0.7292 - accuracy: 0.5769 - val_loss: 0.6811 - val_accuracy: 0.6154\n",
      "Epoch 3/100\n",
      "4/4 - 0s - loss: 0.7087 - accuracy: 0.6058 - val_loss: 0.6841 - val_accuracy: 0.6154\n",
      "Epoch 4/100\n",
      "4/4 - 0s - loss: 0.7094 - accuracy: 0.6250 - val_loss: 0.6888 - val_accuracy: 0.6154\n",
      "Epoch 5/100\n",
      "4/4 - 0s - loss: 0.6958 - accuracy: 0.6154 - val_loss: 0.6879 - val_accuracy: 0.6154\n",
      "Epoch 6/100\n",
      "4/4 - 0s - loss: 0.6841 - accuracy: 0.6346 - val_loss: 0.6872 - val_accuracy: 0.6154\n",
      "Epoch 7/100\n",
      "4/4 - 0s - loss: 0.6865 - accuracy: 0.6058 - val_loss: 0.6865 - val_accuracy: 0.6154\n",
      "Epoch 8/100\n",
      "4/4 - 0s - loss: 0.6997 - accuracy: 0.5962 - val_loss: 0.6869 - val_accuracy: 0.6154\n",
      "Epoch 9/100\n",
      "4/4 - 0s - loss: 0.7010 - accuracy: 0.6154 - val_loss: 0.6870 - val_accuracy: 0.6154\n",
      "Epoch 10/100\n",
      "4/4 - 0s - loss: 0.7006 - accuracy: 0.6154 - val_loss: 0.6868 - val_accuracy: 0.6154\n",
      "Epoch 11/100\n",
      "4/4 - 0s - loss: 0.6861 - accuracy: 0.6154 - val_loss: 0.6865 - val_accuracy: 0.6154\n",
      "Epoch 12/100\n",
      "4/4 - 0s - loss: 0.6963 - accuracy: 0.6154 - val_loss: 0.6855 - val_accuracy: 0.6154\n",
      "Epoch 13/100\n",
      "4/4 - 0s - loss: 0.6922 - accuracy: 0.6154 - val_loss: 0.6855 - val_accuracy: 0.6154\n",
      "Epoch 14/100\n",
      "4/4 - 0s - loss: 0.6947 - accuracy: 0.6058 - val_loss: 0.6858 - val_accuracy: 0.6154\n",
      "Epoch 15/100\n",
      "4/4 - 0s - loss: 0.6799 - accuracy: 0.6154 - val_loss: 0.6856 - val_accuracy: 0.6154\n",
      "Epoch 16/100\n",
      "4/4 - 0s - loss: 0.6917 - accuracy: 0.6154 - val_loss: 0.6860 - val_accuracy: 0.6154\n",
      "Epoch 17/100\n",
      "4/4 - 0s - loss: 0.6817 - accuracy: 0.6154 - val_loss: 0.6866 - val_accuracy: 0.6154\n",
      "Epoch 18/100\n",
      "4/4 - 0s - loss: 0.6838 - accuracy: 0.6154 - val_loss: 0.6846 - val_accuracy: 0.6154\n",
      "Epoch 19/100\n",
      "4/4 - 0s - loss: 0.6995 - accuracy: 0.6154 - val_loss: 0.6844 - val_accuracy: 0.6154\n",
      "Epoch 20/100\n",
      "4/4 - 0s - loss: 0.6922 - accuracy: 0.6154 - val_loss: 0.6857 - val_accuracy: 0.6154\n",
      "Epoch 21/100\n",
      "4/4 - 0s - loss: 0.6825 - accuracy: 0.6250 - val_loss: 0.6842 - val_accuracy: 0.6154\n",
      "Epoch 22/100\n",
      "4/4 - 0s - loss: 0.6736 - accuracy: 0.6154 - val_loss: 0.6826 - val_accuracy: 0.6154\n",
      "Epoch 23/100\n",
      "4/4 - 0s - loss: 0.6726 - accuracy: 0.6250 - val_loss: 0.6822 - val_accuracy: 0.6154\n",
      "Epoch 24/100\n",
      "4/4 - 0s - loss: 0.6855 - accuracy: 0.6058 - val_loss: 0.6825 - val_accuracy: 0.6154\n",
      "Epoch 25/100\n",
      "4/4 - 0s - loss: 0.6825 - accuracy: 0.6058 - val_loss: 0.6816 - val_accuracy: 0.6154\n",
      "Epoch 26/100\n",
      "4/4 - 0s - loss: 0.6746 - accuracy: 0.6250 - val_loss: 0.6811 - val_accuracy: 0.6154\n",
      "Epoch 27/100\n",
      "4/4 - 0s - loss: 0.6828 - accuracy: 0.6154 - val_loss: 0.6810 - val_accuracy: 0.6154\n",
      "Epoch 28/100\n",
      "4/4 - 0s - loss: 0.6883 - accuracy: 0.6154 - val_loss: 0.6814 - val_accuracy: 0.6154\n",
      "Epoch 29/100\n",
      "4/4 - 0s - loss: 0.6898 - accuracy: 0.6154 - val_loss: 0.6816 - val_accuracy: 0.6154\n",
      "Epoch 30/100\n",
      "4/4 - 0s - loss: 0.6781 - accuracy: 0.6154 - val_loss: 0.6801 - val_accuracy: 0.6154\n",
      "Epoch 31/100\n",
      "4/4 - 0s - loss: 0.6903 - accuracy: 0.6154 - val_loss: 0.6817 - val_accuracy: 0.6154\n",
      "Epoch 32/100\n",
      "4/4 - 0s - loss: 0.6825 - accuracy: 0.6154 - val_loss: 0.6818 - val_accuracy: 0.6154\n",
      "Epoch 33/100\n",
      "4/4 - 0s - loss: 0.6789 - accuracy: 0.6250 - val_loss: 0.6788 - val_accuracy: 0.6154\n",
      "Epoch 34/100\n",
      "4/4 - 0s - loss: 0.6813 - accuracy: 0.6154 - val_loss: 0.6772 - val_accuracy: 0.6154\n",
      "Epoch 35/100\n",
      "4/4 - 0s - loss: 0.6837 - accuracy: 0.6154 - val_loss: 0.6771 - val_accuracy: 0.6154\n",
      "Epoch 36/100\n",
      "4/4 - 0s - loss: 0.6757 - accuracy: 0.6154 - val_loss: 0.6766 - val_accuracy: 0.6154\n",
      "Epoch 37/100\n",
      "4/4 - 0s - loss: 0.6815 - accuracy: 0.6154 - val_loss: 0.6777 - val_accuracy: 0.6154\n",
      "Epoch 38/100\n",
      "4/4 - 0s - loss: 0.6888 - accuracy: 0.6154 - val_loss: 0.6793 - val_accuracy: 0.6154\n",
      "Epoch 39/100\n",
      "4/4 - 0s - loss: 0.6567 - accuracy: 0.6154 - val_loss: 0.6795 - val_accuracy: 0.6154\n",
      "Epoch 40/100\n",
      "4/4 - 0s - loss: 0.6821 - accuracy: 0.6154 - val_loss: 0.6790 - val_accuracy: 0.6154\n",
      "Epoch 41/100\n",
      "4/4 - 0s - loss: 0.6806 - accuracy: 0.6250 - val_loss: 0.6798 - val_accuracy: 0.6154\n",
      "Epoch 42/100\n",
      "4/4 - 0s - loss: 0.6909 - accuracy: 0.5962 - val_loss: 0.6803 - val_accuracy: 0.6154\n",
      "Epoch 43/100\n",
      "4/4 - 0s - loss: 0.6684 - accuracy: 0.6154 - val_loss: 0.6787 - val_accuracy: 0.6154\n",
      "Epoch 44/100\n",
      "4/4 - 0s - loss: 0.6732 - accuracy: 0.6154 - val_loss: 0.6778 - val_accuracy: 0.6154\n",
      "Epoch 45/100\n",
      "4/4 - 0s - loss: 0.6777 - accuracy: 0.6154 - val_loss: 0.6754 - val_accuracy: 0.6154\n",
      "Epoch 46/100\n",
      "4/4 - 0s - loss: 0.6672 - accuracy: 0.6154 - val_loss: 0.6738 - val_accuracy: 0.6154\n",
      "Epoch 47/100\n",
      "4/4 - 0s - loss: 0.6671 - accuracy: 0.6250 - val_loss: 0.6735 - val_accuracy: 0.6154\n",
      "Epoch 48/100\n",
      "4/4 - 0s - loss: 0.6829 - accuracy: 0.6154 - val_loss: 0.6729 - val_accuracy: 0.6154\n",
      "Epoch 49/100\n",
      "4/4 - 0s - loss: 0.6753 - accuracy: 0.6154 - val_loss: 0.6738 - val_accuracy: 0.6154\n",
      "Epoch 50/100\n",
      "4/4 - 0s - loss: 0.6697 - accuracy: 0.6154 - val_loss: 0.6765 - val_accuracy: 0.6154\n",
      "Epoch 51/100\n",
      "4/4 - 0s - loss: 0.6745 - accuracy: 0.6250 - val_loss: 0.6769 - val_accuracy: 0.6154\n",
      "Epoch 52/100\n",
      "4/4 - 0s - loss: 0.6768 - accuracy: 0.6154 - val_loss: 0.6769 - val_accuracy: 0.6154\n",
      "Epoch 53/100\n",
      "4/4 - 0s - loss: 0.6803 - accuracy: 0.6154 - val_loss: 0.6757 - val_accuracy: 0.6154\n",
      "Epoch 54/100\n",
      "4/4 - 0s - loss: 0.6809 - accuracy: 0.6154 - val_loss: 0.6731 - val_accuracy: 0.6154\n",
      "Epoch 55/100\n",
      "4/4 - 0s - loss: 0.6815 - accuracy: 0.6250 - val_loss: 0.6722 - val_accuracy: 0.6154\n",
      "Epoch 56/100\n",
      "4/4 - 0s - loss: 0.6740 - accuracy: 0.6154 - val_loss: 0.6738 - val_accuracy: 0.6154\n",
      "Epoch 57/100\n",
      "4/4 - 0s - loss: 0.6570 - accuracy: 0.6154 - val_loss: 0.6715 - val_accuracy: 0.6154\n",
      "Epoch 58/100\n",
      "4/4 - 0s - loss: 0.6594 - accuracy: 0.6250 - val_loss: 0.6693 - val_accuracy: 0.6154\n",
      "Epoch 59/100\n",
      "4/4 - 0s - loss: 0.6593 - accuracy: 0.6154 - val_loss: 0.6693 - val_accuracy: 0.6154\n",
      "Epoch 60/100\n",
      "4/4 - 0s - loss: 0.6573 - accuracy: 0.6154 - val_loss: 0.6711 - val_accuracy: 0.6154\n",
      "Epoch 61/100\n",
      "4/4 - 0s - loss: 0.6618 - accuracy: 0.6058 - val_loss: 0.6696 - val_accuracy: 0.6154\n",
      "Epoch 62/100\n",
      "4/4 - 0s - loss: 0.6593 - accuracy: 0.6442 - val_loss: 0.6697 - val_accuracy: 0.6154\n",
      "Epoch 63/100\n",
      "4/4 - 0s - loss: 0.6674 - accuracy: 0.6154 - val_loss: 0.6708 - val_accuracy: 0.6154\n",
      "Epoch 64/100\n",
      "4/4 - 0s - loss: 0.6611 - accuracy: 0.6250 - val_loss: 0.6695 - val_accuracy: 0.6154\n",
      "Epoch 65/100\n",
      "4/4 - 0s - loss: 0.6716 - accuracy: 0.6058 - val_loss: 0.6701 - val_accuracy: 0.6154\n",
      "Epoch 66/100\n",
      "4/4 - 0s - loss: 0.6604 - accuracy: 0.6058 - val_loss: 0.6674 - val_accuracy: 0.6154\n",
      "Epoch 67/100\n",
      "4/4 - 0s - loss: 0.6760 - accuracy: 0.6154 - val_loss: 0.6657 - val_accuracy: 0.6154\n",
      "Epoch 68/100\n",
      "4/4 - 0s - loss: 0.6545 - accuracy: 0.6538 - val_loss: 0.6637 - val_accuracy: 0.6154\n",
      "Epoch 69/100\n",
      "4/4 - 0s - loss: 0.6469 - accuracy: 0.6250 - val_loss: 0.6622 - val_accuracy: 0.6154\n",
      "Epoch 70/100\n",
      "4/4 - 0s - loss: 0.6499 - accuracy: 0.6250 - val_loss: 0.6615 - val_accuracy: 0.6154\n",
      "Epoch 71/100\n",
      "4/4 - 0s - loss: 0.6676 - accuracy: 0.6154 - val_loss: 0.6644 - val_accuracy: 0.6154\n",
      "Epoch 72/100\n",
      "4/4 - 0s - loss: 0.6611 - accuracy: 0.6250 - val_loss: 0.6697 - val_accuracy: 0.6154\n",
      "Epoch 73/100\n",
      "4/4 - 0s - loss: 0.6447 - accuracy: 0.6635 - val_loss: 0.6721 - val_accuracy: 0.6154\n",
      "Epoch 74/100\n",
      "4/4 - 0s - loss: 0.6607 - accuracy: 0.6442 - val_loss: 0.6724 - val_accuracy: 0.6154\n",
      "Epoch 75/100\n",
      "4/4 - 0s - loss: 0.6511 - accuracy: 0.7115 - val_loss: 0.6692 - val_accuracy: 0.6154\n",
      "Epoch 76/100\n",
      "4/4 - 0s - loss: 0.6684 - accuracy: 0.6346 - val_loss: 0.6675 - val_accuracy: 0.6154\n",
      "Epoch 77/100\n",
      "4/4 - 0s - loss: 0.6555 - accuracy: 0.6250 - val_loss: 0.6661 - val_accuracy: 0.6154\n",
      "Epoch 78/100\n",
      "4/4 - 0s - loss: 0.6480 - accuracy: 0.6923 - val_loss: 0.6675 - val_accuracy: 0.6154\n",
      "Epoch 79/100\n",
      "4/4 - 0s - loss: 0.6476 - accuracy: 0.6250 - val_loss: 0.6665 - val_accuracy: 0.6154\n",
      "Epoch 80/100\n",
      "4/4 - 0s - loss: 0.6451 - accuracy: 0.7019 - val_loss: 0.6649 - val_accuracy: 0.6154\n",
      "Epoch 81/100\n",
      "4/4 - 0s - loss: 0.6532 - accuracy: 0.6635 - val_loss: 0.6644 - val_accuracy: 0.6154\n",
      "Epoch 82/100\n",
      "4/4 - 0s - loss: 0.6553 - accuracy: 0.6442 - val_loss: 0.6654 - val_accuracy: 0.6154\n",
      "Epoch 83/100\n",
      "4/4 - 0s - loss: 0.6594 - accuracy: 0.6442 - val_loss: 0.6609 - val_accuracy: 0.6154\n",
      "Epoch 84/100\n",
      "4/4 - 0s - loss: 0.6504 - accuracy: 0.6346 - val_loss: 0.6616 - val_accuracy: 0.6154\n"
     ]
    },
    {
     "name": "stdout",
     "output_type": "stream",
     "text": [
      "Epoch 85/100\n",
      "4/4 - 0s - loss: 0.6348 - accuracy: 0.6442 - val_loss: 0.6640 - val_accuracy: 0.6154\n",
      "Epoch 86/100\n",
      "4/4 - 0s - loss: 0.6398 - accuracy: 0.6346 - val_loss: 0.6690 - val_accuracy: 0.6154\n",
      "Epoch 87/100\n",
      "4/4 - 0s - loss: 0.6455 - accuracy: 0.6250 - val_loss: 0.6679 - val_accuracy: 0.6154\n",
      "Epoch 88/100\n",
      "4/4 - 0s - loss: 0.6372 - accuracy: 0.6538 - val_loss: 0.6645 - val_accuracy: 0.6154\n",
      "Epoch 89/100\n",
      "4/4 - 0s - loss: 0.6302 - accuracy: 0.6442 - val_loss: 0.6643 - val_accuracy: 0.6154\n",
      "Epoch 90/100\n",
      "4/4 - 0s - loss: 0.6207 - accuracy: 0.6250 - val_loss: 0.6643 - val_accuracy: 0.6154\n",
      "Epoch 91/100\n",
      "4/4 - 0s - loss: 0.6196 - accuracy: 0.6346 - val_loss: 0.6630 - val_accuracy: 0.6154\n",
      "Epoch 92/100\n",
      "4/4 - 0s - loss: 0.6390 - accuracy: 0.6250 - val_loss: 0.6618 - val_accuracy: 0.6154\n",
      "Epoch 93/100\n",
      "4/4 - 0s - loss: 0.6339 - accuracy: 0.6346 - val_loss: 0.6631 - val_accuracy: 0.6154\n",
      "Epoch 94/100\n",
      "4/4 - 0s - loss: 0.6214 - accuracy: 0.6731 - val_loss: 0.6634 - val_accuracy: 0.6154\n",
      "Epoch 95/100\n",
      "4/4 - 0s - loss: 0.6190 - accuracy: 0.7019 - val_loss: 0.6617 - val_accuracy: 0.6154\n",
      "Epoch 96/100\n",
      "4/4 - 0s - loss: 0.6111 - accuracy: 0.7404 - val_loss: 0.6611 - val_accuracy: 0.6154\n",
      "Epoch 97/100\n",
      "4/4 - 0s - loss: 0.6487 - accuracy: 0.6827 - val_loss: 0.6608 - val_accuracy: 0.6154\n",
      "Epoch 98/100\n",
      "4/4 - 0s - loss: 0.6154 - accuracy: 0.7692 - val_loss: 0.6650 - val_accuracy: 0.6154\n",
      "Epoch 99/100\n",
      "4/4 - 0s - loss: 0.6106 - accuracy: 0.7019 - val_loss: 0.6533 - val_accuracy: 0.6154\n",
      "Epoch 100/100\n",
      "4/4 - 0s - loss: 0.5964 - accuracy: 0.7115 - val_loss: 0.6493 - val_accuracy: 0.6154\n",
      "22.592390775680542\n"
     ]
    }
   ],
   "source": [
    "import time\n",
    "start = time.time()\n",
    "#history = model.fit(X_train, y_train, batch_size=32, steps_per_epoch=len(y_train)/32, epochs=100, verbose=2, validation_data=(X_dev, y_dev),callbacks=[tensorboard])\n",
    "history = model.fit(X_train, y_train, batch_size=32, epochs=100, verbose=2, validation_data=(X_dev, y_dev))\n",
    "print (time.time() - start)\n",
    "\n"
   ]
  },
  {
   "cell_type": "markdown",
   "metadata": {},
   "source": [
    "### 8. Get the results"
   ]
  },
  {
   "cell_type": "code",
   "execution_count": 27,
   "metadata": {},
   "outputs": [
    {
     "data": {
      "image/png": "[encoded data removed]",
      "text/plain": [
       "<Figure size 576x360 with 1 Axes>"
      ]
     },
     "metadata": {
      "needs_background": "light"
     },
     "output_type": "display_data"
    }
   ],
   "source": [
    "results=pd.DataFrame(history.history)\n",
    "results.plot(figsize=(8, 5))\n",
    "plt.grid(True)\n",
    "plt.xlabel (\"Epochs\")\n",
    "plt.ylabel (\"Accuracy - Mean Log Loss\")\n",
    "plt.gca().set_ylim(0, 2) # set the vertical range to [0-1]\n",
    "plt.show()\n",
    "\n",
    "# categorical_accuracy es el training accuracy\n",
    "# val_categorical_accuracy es el validation accuracy\n",
    "# loss es el training loss\n",
    "# val_loss es el validation loss\n",
    "\n",
    "# Overfitting:\n",
    "# Por un lado la Accuracy de los datos de entrenamiento aumenta con las epochs,\n",
    "# mientras que la Accuracy de los datos de validación disminuye o se mantiene constante a lo largo de las epochs. \n",
    "# La Loss de los datos de validación alcanza su mínimo después de pocos epochs y luego empieza a subir, \n",
    "# mientras que la Loss de los datos de entrenamiento disminuye linealmente."
   ]
  },
  {
   "cell_type": "code",
   "execution_count": 28,
   "metadata": {},
   "outputs": [
    {
     "data": {
      "text/plain": [
       "{'verbose': 2, 'epochs': 100, 'steps': 4}"
      ]
     },
     "execution_count": 28,
     "metadata": {},
     "output_type": "execute_result"
    }
   ],
   "source": [
    "history.params"
   ]
  },
  {
   "cell_type": "code",
   "execution_count": 29,
   "metadata": {},
   "outputs": [
    {
     "data": {
      "text/html": [
       "<div>\n",
       "<style scoped>\n",
       "    .dataframe tbody tr th:only-of-type {\n",
       "        vertical-align: middle;\n",
       "    }\n",
       "\n",
       "    .dataframe tbody tr th {\n",
       "        vertical-align: top;\n",
       "    }\n",
       "\n",
       "    .dataframe thead th {\n",
       "        text-align: right;\n",
       "    }\n",
       "</style>\n",
       "<table border=\"1\" class=\"dataframe\">\n",
       "  <thead>\n",
       "    <tr style=\"text-align: right;\">\n",
       "      <th></th>\n",
       "      <th>loss</th>\n",
       "      <th>accuracy</th>\n",
       "      <th>val_loss</th>\n",
       "      <th>val_accuracy</th>\n",
       "    </tr>\n",
       "  </thead>\n",
       "  <tbody>\n",
       "    <tr>\n",
       "      <th>99</th>\n",
       "      <td>0.596408</td>\n",
       "      <td>0.711538</td>\n",
       "      <td>0.649262</td>\n",
       "      <td>0.615385</td>\n",
       "    </tr>\n",
       "  </tbody>\n",
       "</table>\n",
       "</div>"
      ],
      "text/plain": [
       "        loss  accuracy  val_loss  val_accuracy\n",
       "99  0.596408  0.711538  0.649262      0.615385"
      ]
     },
     "execution_count": 29,
     "metadata": {},
     "output_type": "execute_result"
    }
   ],
   "source": [
    "results[-1:]"
   ]
  },
  {
   "cell_type": "code",
   "execution_count": 30,
   "metadata": {},
   "outputs": [
    {
     "name": "stdout",
     "output_type": "stream",
     "text": [
      "Accuracy for the training set:  0.7115384340286255\n"
     ]
    }
   ],
   "source": [
    "print (\"Accuracy for the training set: \", results.values[-1:][0][1])"
   ]
  },
  {
   "cell_type": "code",
   "execution_count": 31,
   "metadata": {},
   "outputs": [
    {
     "name": "stdout",
     "output_type": "stream",
     "text": [
      "Accuracy for the development test set:  0.6153846383094788\n"
     ]
    }
   ],
   "source": [
    "print (\"Accuracy for the development test set: \", results.values[-1:][0][3])"
   ]
  },
  {
   "cell_type": "markdown",
   "metadata": {},
   "source": [
    "#### Let's see how the model predicts using the development test set:"
   ]
  },
  {
   "cell_type": "code",
   "execution_count": 32,
   "metadata": {},
   "outputs": [
    {
     "data": {
      "text/plain": [
       "array([[0.43, 0.57],\n",
       "       [0.41, 0.59],\n",
       "       [0.4 , 0.6 ],\n",
       "       [0.42, 0.58],\n",
       "       [0.42, 0.58],\n",
       "       [0.43, 0.57],\n",
       "       [0.41, 0.59],\n",
       "       [0.34, 0.66],\n",
       "       [0.41, 0.59],\n",
       "       [0.36, 0.64],\n",
       "       [0.37, 0.63],\n",
       "       [0.39, 0.61],\n",
       "       [0.4 , 0.6 ],\n",
       "       [0.37, 0.63],\n",
       "       [0.4 , 0.6 ],\n",
       "       [0.38, 0.62],\n",
       "       [0.33, 0.67],\n",
       "       [0.34, 0.66],\n",
       "       [0.3 , 0.7 ],\n",
       "       [0.3 , 0.7 ]], dtype=float32)"
      ]
     },
     "execution_count": 32,
     "metadata": {},
     "output_type": "execute_result"
    }
   ],
   "source": [
    "dev_predictions=model.predict(X_dev).round(2) \n",
    "dev_predictions[:20]"
   ]
  },
  {
   "cell_type": "code",
   "execution_count": 33,
   "metadata": {},
   "outputs": [
    {
     "data": {
      "text/plain": [
       "array([[0., 1.],\n",
       "       [0., 1.],\n",
       "       [0., 1.],\n",
       "       [0., 1.],\n",
       "       [0., 1.],\n",
       "       [0., 1.],\n",
       "       [0., 1.],\n",
       "       [0., 1.],\n",
       "       [0., 1.],\n",
       "       [0., 1.],\n",
       "       [0., 1.],\n",
       "       [0., 1.],\n",
       "       [0., 1.],\n",
       "       [0., 1.],\n",
       "       [0., 1.],\n",
       "       [0., 1.],\n",
       "       [0., 1.],\n",
       "       [0., 1.],\n",
       "       [0., 1.],\n",
       "       [0., 1.]], dtype=float32)"
      ]
     },
     "execution_count": 33,
     "metadata": {},
     "output_type": "execute_result"
    }
   ],
   "source": [
    "dev_rounded_predictions=np.round(dev_predictions)\n",
    "indices = np.argmax(dev_predictions,1)\n",
    "for row, index in zip(dev_rounded_predictions, indices): row[index]=1\n",
    "dev_rounded_predictions[:20]"
   ]
  },
  {
   "cell_type": "code",
   "execution_count": 34,
   "metadata": {},
   "outputs": [
    {
     "data": {
      "text/plain": [
       "array([[1., 0.],\n",
       "       [1., 0.],\n",
       "       [1., 0.],\n",
       "       [0., 1.],\n",
       "       [0., 1.],\n",
       "       [0., 1.],\n",
       "       [0., 1.],\n",
       "       [0., 1.],\n",
       "       [0., 1.],\n",
       "       [0., 1.],\n",
       "       [0., 1.],\n",
       "       [1., 0.],\n",
       "       [1., 0.],\n",
       "       [1., 0.],\n",
       "       [1., 0.],\n",
       "       [1., 0.],\n",
       "       [0., 1.],\n",
       "       [0., 1.],\n",
       "       [0., 1.],\n",
       "       [0., 1.]])"
      ]
     },
     "execution_count": 34,
     "metadata": {},
     "output_type": "execute_result"
    }
   ],
   "source": [
    "y_dev[:20]"
   ]
  },
  {
   "cell_type": "code",
   "execution_count": 35,
   "metadata": {},
   "outputs": [
    {
     "name": "stdout",
     "output_type": "stream",
     "text": [
      "[False False False  True  True  True  True  True  True  True  True False\n",
      " False False False False  True  True  True  True  True  True  True  True\n",
      " False False]\n"
     ]
    }
   ],
   "source": [
    "dev_correct_predictions = np.equal(np.argmax(dev_rounded_predictions,1),np.argmax(y_dev,1))\n",
    "print (dev_correct_predictions[:30])"
   ]
  },
  {
   "cell_type": "code",
   "execution_count": 36,
   "metadata": {},
   "outputs": [
    {
     "data": {
      "text/plain": [
       "Counter({False: 10, True: 16})"
      ]
     },
     "execution_count": 36,
     "metadata": {},
     "output_type": "execute_result"
    }
   ],
   "source": [
    "from collections import Counter\n",
    "Counter (dev_correct_predictions)"
   ]
  },
  {
   "cell_type": "markdown",
   "metadata": {},
   "source": [
    "### 9. Save model"
   ]
  },
  {
   "cell_type": "markdown",
   "metadata": {},
   "source": [
    "We save the model if it is better than others "
   ]
  },
  {
   "cell_type": "code",
   "execution_count": 37,
   "metadata": {},
   "outputs": [],
   "source": [
    "# Save\n",
    "model.save('./Modelos/CNN_model3_ce.h5') # Change the name in each model"
   ]
  },
  {
   "cell_type": "code",
   "execution_count": 38,
   "metadata": {},
   "outputs": [
    {
     "data": {
      "text/plain": [
       "\"\\nnew_model = keras.models.load_model('./Modelos/EGG_prac1_ANN_model3.h5')\\n\\nimport numpy as np\\n\\n# Verify state\\nnew_predictions = new_model.predict(X_dev)\\nnp.testing.assert_allclose(predictions, new_predictions, rtol=1e-6, atol=1e-6)\\n\\n# Note that the optimizer state is also preserved:\\n# you can resume training where you left off.\\n\""
      ]
     },
     "execution_count": 38,
     "metadata": {},
     "output_type": "execute_result"
    }
   ],
   "source": [
    "# Extract\n",
    "\"\"\"\n",
    "new_model = keras.models.load_model('./Modelos/EGG_prac1_ANN_model3.h5')\n",
    "\n",
    "import numpy as np\n",
    "\n",
    "# Verify state\n",
    "new_predictions = new_model.predict(X_dev)\n",
    "np.testing.assert_allclose(predictions, new_predictions, rtol=1e-6, atol=1e-6)\n",
    "\n",
    "# Note that the optimizer state is also preserved:\n",
    "# you can resume training where you left off.\n",
    "\"\"\""
   ]
  },
  {
   "cell_type": "code",
   "execution_count": null,
   "metadata": {},
   "outputs": [],
   "source": []
  },
  {
   "cell_type": "code",
   "execution_count": null,
   "metadata": {},
   "outputs": [],
   "source": []
  },
  {
   "cell_type": "code",
   "execution_count": null,
   "metadata": {},
   "outputs": [],
   "source": []
  },
  {
   "cell_type": "markdown",
   "metadata": {},
   "source": [
    "### 10 - Final Test\n",
    "\n",
    "#### 10.1 - Load the final test set"
   ]
  },
  {
   "cell_type": "markdown",
   "metadata": {},
   "source": [
    "#### 10.2 - Evaluate the model"
   ]
  },
  {
   "cell_type": "code",
   "execution_count": 39,
   "metadata": {},
   "outputs": [
    {
     "data": {
      "text/plain": [
       "'\\nfrom collections import Counter\\ndef predictWithModel(model, X_test, y_test, task1, task2, task3=\"\"):\\n    model.evaluate(X_test, y_test)\\n    test_predictions = model.predict(X_test)\\n    test_rounded_predictions=np.round(test_predictions)\\n    indices = np.argmax(test_predictions,1)\\n    for row, index in zip(test_rounded_predictions, indices): row[index]=1\\n    print(test_rounded_predictions[:20])\\n    \\n    # ACCURACY:\\n    test_correct_predictions = np.equal(np.argmax(test_rounded_predictions,1),np.argmax(y_test,1))\\n    print()\\n    print(test_correct_predictions)\\n    print(type(test_correct_predictions))\\n    final_test_prediction_results=Counter(test_correct_predictions)\\n    \\n    success = np.mean(test_rounded_predictions == y_test)*100\\n    \\n    return final_test_prediction_results, success\\n    '"
      ]
     },
     "execution_count": 39,
     "metadata": {},
     "output_type": "execute_result"
    }
   ],
   "source": [
    "\"\"\"\n",
    "from collections import Counter\n",
    "def predictWithModel(model, X_test, y_test, task1, task2, task3=\"\"):\n",
    "    model.evaluate(X_test, y_test)\n",
    "    test_predictions = model.predict(X_test)\n",
    "    test_rounded_predictions=np.round(test_predictions)\n",
    "    indices = np.argmax(test_predictions,1)\n",
    "    for row, index in zip(test_rounded_predictions, indices): row[index]=1\n",
    "    print(test_rounded_predictions[:20])\n",
    "    \n",
    "    # ACCURACY:\n",
    "    test_correct_predictions = np.equal(np.argmax(test_rounded_predictions,1),np.argmax(y_test,1))\n",
    "    print()\n",
    "    print(test_correct_predictions)\n",
    "    print(type(test_correct_predictions))\n",
    "    final_test_prediction_results=Counter(test_correct_predictions)\n",
    "    \n",
    "    success = np.mean(test_rounded_predictions == y_test)*100\n",
    "    \n",
    "    return final_test_prediction_results, success\n",
    "    \"\"\""
   ]
  },
  {
   "cell_type": "code",
   "execution_count": 40,
   "metadata": {},
   "outputs": [
    {
     "data": {
      "text/plain": [
       "'\\nusers = [\"0091\"]\\nfor u in users:   \\n    print(\"USER:\", u)\\n    #X_test, y_test = readRegisterAndReturnXy(u, total_records, 122, 123, 127)\\n    accuracy, success = predictWithModel(model, X_test, y_test, 402,404)\\n    print(u, accuracy, success)\\n    print()\\n    '"
      ]
     },
     "execution_count": 40,
     "metadata": {},
     "output_type": "execute_result"
    }
   ],
   "source": [
    "\"\"\"\n",
    "users = [\"0091\"]\n",
    "for u in users:   \n",
    "    print(\"USER:\", u)\n",
    "    #X_test, y_test = readRegisterAndReturnXy(u, total_records, 122, 123, 127)\n",
    "    accuracy, success = predictWithModel(model, X_test, y_test, 402,404)\n",
    "    print(u, accuracy, success)\n",
    "    print()\n",
    "    \"\"\""
   ]
  },
  {
   "cell_type": "code",
   "execution_count": null,
   "metadata": {},
   "outputs": [],
   "source": []
  }
 ],
 "metadata": {
  "kernelspec": {
   "display_name": "Python 3",
   "language": "python",
   "name": "python3"
  },
  "language_info": {
   "codemirror_mode": {
    "name": "ipython",
    "version": 3
   },
   "file_extension": ".py",
   "mimetype": "text/x-python",
   "name": "python",
   "nbconvert_exporter": "python",
   "pygments_lexer": "ipython3",
   "version": "3.8.5"
  }
 },
 "nbformat": 4,
 "nbformat_minor": 4
}
