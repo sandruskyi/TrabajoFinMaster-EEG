{
 "cells": [
  {
   "cell_type": "markdown",
   "metadata": {},
   "source": [
    "# Parte 4: Clasificación con CNN"
   ]
  },
  {
   "cell_type": "markdown",
   "metadata": {},
   "source": [
    "### Resultados con la arquitectura anterior: "
   ]
  },
  {
   "cell_type": "markdown",
   "metadata": {},
   "source": [
    "primero\n",
    "\n"
   ]
  },
  {
   "cell_type": "markdown",
   "metadata": {},
   "source": [
    "### Cambios realizados"
   ]
  },
  {
   "cell_type": "markdown",
   "metadata": {},
   "source": []
  },
  {
   "cell_type": "markdown",
   "metadata": {},
   "source": [
    "### Nuevos resultados: "
   ]
  },
  {
   "cell_type": "markdown",
   "metadata": {},
   "source": [
    "Resultados:\n",
    "    \n",
    "    TRAIN                   DEV\n",
    "    loss       accuracy     val_loss    val_accuracy\n",
    "    0.001832\t1.0\t        2.326018\t0.602041\n",
    "    \n",
    "Por tanto: \n",
    "\n",
    "    E = 1 - Accuracy\n",
    "    Etrain = 1 - 1.0\t = 0\n",
    "    Etest = 1 - 0.602041 = 0.397959\n",
    "    \n",
    "    Bias = Etrain - Ehuman = 0\n",
    "    Variance = Etest - Etrain = 0.397959\n",
    "\n",
    "El bias es muy bajo pero la varianza es muy alta (40%). Para ello habrá que o regularizar, o cambiar la arquitectura (menos neuronas => Mejor varianza, más capas => mayor abstracción), o añadir más datos (cosa que no es posible). \n"
   ]
  },
  {
   "cell_type": "markdown",
   "metadata": {},
   "source": [
    "### 1 - Import Libraries"
   ]
  },
  {
   "cell_type": "code",
   "execution_count": 1,
   "metadata": {},
   "outputs": [],
   "source": [
    "# Tensorflow and tf.keras\n",
    "import tensorflow as tf\n",
    "from tensorflow import keras\n",
    "\n",
    "#Helper libraries\n",
    "import matplotlib.pyplot as plt\n",
    "import pandas as pd\n",
    "import numpy as np\n",
    "\n",
    "# Signal libraries\n",
    "from scipy import signal\n"
   ]
  },
  {
   "cell_type": "markdown",
   "metadata": {},
   "source": [
    "### 2 - Load data"
   ]
  },
  {
   "cell_type": "code",
   "execution_count": 2,
   "metadata": {},
   "outputs": [],
   "source": [
    "class ROutput:\n",
    "    def __init__(self, task, data):\n",
    "        self.task = task\n",
    "        self.data = data\n",
    "        \n",
    "class OutTaskData: \n",
    "    def __init__(self, task, data): \n",
    "        self.task = task\n",
    "        self.data = data"
   ]
  },
  {
   "cell_type": "code",
   "execution_count": 3,
   "metadata": {},
   "outputs": [],
   "source": [
    "import scipy.io as sio\n",
    "# Primero leemos los registros\n",
    "def read_outputs(rec):\n",
    "    '''read_outputs(\"userS0091f1.mat\")'''\n",
    "    mat = sio.loadmat(rec)\n",
    "    mdata = mat['session']\n",
    "    val = mdata[0,0]\n",
    "    #output = ROutput(np.array(val[\"task\"]), np.array(val[\"data\"]))\n",
    "    output = ROutput(np.array(val[\"task_EEG\"]), np.array(val[\"data_EEG\"]))\n",
    "    return output"
   ]
  },
  {
   "cell_type": "markdown",
   "metadata": {},
   "source": [
    "### Cargamos los datos"
   ]
  },
  {
   "cell_type": "code",
   "execution_count": 4,
   "metadata": {},
   "outputs": [],
   "source": [
    "# Configuración\n",
    "from sklearn.pipeline import make_pipeline\n",
    "from sklearn.preprocessing import StandardScaler, OneHotEncoder\n",
    "from sklearn.linear_model import Perceptron\n",
    "from keras.utils import to_categorical\n",
    "\n",
    "\n",
    "task1 = 402 # SE PUEDE CAMBIAR\n",
    "task2 = 404 # SE PUEDE CAMBIAR\n",
    "task_OneHotEnconding = {402: [1.,0.], 404: [0.,1.]}\n",
    "user = 'W29' # SE PUEDE CAMBIAR\n",
    "day = '0331'\n",
    "folder_day = 'W29-31_03_2021'\n",
    "total_records = 22 # CAMBIAR SI HAY MAS REGISTROS\n",
    "fm = 200\n",
    "electrodes_names_selected = ['F3', 'FZ', 'FC1','FCZ','C1','CZ','CP1','CPZ', 'FC5', 'FC3','C5','C3','CP5','CP3','P3',\n",
    "                             'PZ','F4','FC2','FC4','FC6','C2','C4','CP2','CP4','C6','CP6','P4','HR' ,'HL', 'VU', 'VD']\n",
    "number_channels = len(electrodes_names_selected)\n"
   ]
  },
  {
   "cell_type": "code",
   "execution_count": 5,
   "metadata": {},
   "outputs": [
    {
     "name": "stdout",
     "output_type": "stream",
     "text": [
      "11 22\n"
     ]
    }
   ],
   "source": [
    "# Lectura de registros\n",
    "lTaskData = []\n",
    "\n",
    "total_records_used = 0\n",
    "for i_rec in range(1,total_records+1):\n",
    "    i_rec_record = i_rec\n",
    "    if i_rec_record <10:\n",
    "        i_rec_record = \"0\"+str(i_rec_record)\n",
    "    if i_rec % 2 != 0: # Registros impares primero: USUARIO SIN MOVIMIENTO SOLO PENSANDO\n",
    "        record = \"./RegistrosSinProcesar/\"+folder_day+\"/W29_2021\"+day+\"_openloop_\"+str(i_rec_record)+\".mat\"\n",
    "        output = read_outputs(record) # output.task será y, output.data será x\n",
    "\n",
    "        outT = (output.task == task1) | (output.task == task2)\n",
    "\n",
    "        outData = output.data[0:np.shape(output.data)[0], outT[0,:]]\n",
    "        outTask = output.task[0, outT[0,:]]\n",
    "        outTD = OutTaskData(outTask, outData)\n",
    "        lTaskData.append(outTD)\n",
    "        total_records_used+=1\n",
    "\n",
    "print(total_records_used, total_records)"
   ]
  },
  {
   "cell_type": "code",
   "execution_count": 6,
   "metadata": {},
   "outputs": [
    {
     "name": "stdout",
     "output_type": "stream",
     "text": [
      "X_train: (8, 31, 5600)\n",
      "y_train: (8, 5600)\n",
      "X_dev: (2, 31, 5600)\n",
      "y_dev: (2, 5600)\n",
      "X_test: (1, 31, 5600)\n",
      "y_test: (1, 5600)\n",
      "WINDOWING & ONE HOT ENCODER:\n",
      "X_train: (392, 31, 300, 1)\n",
      "y_train: (392, 2)\n",
      "X_dev: (98, 31, 300, 1)\n",
      "y_dev: (98, 2)\n",
      "X_test: (49, 31, 300, 1)\n",
      "y_test: (49, 2)\n"
     ]
    }
   ],
   "source": [
    "# Vamos a coger 2 registros para el entrenamiento, 1 para el conjunto dev set, 1 para el test set\n",
    "X_train, y_train, X_dev, y_dev, X_test, y_test = [],[],[],[],[],[] \n",
    "for j in range(0,total_records_used-3): # Cogemos 8 registros para entrenamiento\n",
    "    X_train.append(lTaskData[j].data)\n",
    "    y_train.append(lTaskData[j].task)\n",
    "\n",
    "for j in range(total_records_used-3,total_records_used-1): # Cogemos 2 registros para el dev set\n",
    "    X_dev.append(lTaskData[j].data)\n",
    "    y_dev.append(lTaskData[j].task)\n",
    "for j in range(total_records_used-1,total_records_used): # Cogemos 1 registros para el test set\n",
    "    X_test.append(lTaskData[j].data)\n",
    "    y_test.append(lTaskData[j].task)\n",
    "\n",
    "X_train = np.array(X_train)\n",
    "#y_train = np.ravel(np.array(y_train))\n",
    "y_train = np.array(y_train)\n",
    "X_dev = np.array(X_dev)\n",
    "#y_dev = np.ravel(np.array(y_dev))\n",
    "y_dev = np.array(y_dev)\n",
    "X_test = np.array(X_test)\n",
    "y_test = np.array(y_test)\n",
    "#y_test = np.ravel(np.array(y_test))\n",
    "\n",
    "print (\"X_train:\",X_train.shape)\n",
    "print (\"y_train:\",y_train.shape)\n",
    "print (\"X_dev:\",X_dev.shape)\n",
    "print (\"y_dev:\",y_dev.shape)\n",
    "print (\"X_test:\",X_test.shape)\n",
    "print (\"y_test:\",y_test.shape)\n",
    "\n",
    "\n",
    "# VENTANEO Y ONE HOT ENCODING \n",
    "window = 300\n",
    "samples_advance = 100\n",
    "\n",
    "# Ventaneo X_train\n",
    "\n",
    "X_train_l = []\n",
    "y_train_l = []\n",
    "for num_X_train in range(np.shape(X_train)[0]):\n",
    "    win_init = int(0)\n",
    "    window_position = 0\n",
    "    \n",
    "    for i in range(np.shape(X_train)[2]): # For each signal registered\n",
    "        win_end = int(win_init + window)\n",
    "        if win_end >= np.shape(X_train)[2]:\n",
    "            break\n",
    "\n",
    "        task = np.unique(y_train[num_X_train,win_init:win_end])\n",
    "\n",
    "        if len(task)==1:\n",
    "        #if task1 in task or task2 in task:\n",
    "            signal_window = X_train[num_X_train, :, win_init:win_end]\n",
    "            \n",
    "            #data_filtered = preprocessing(signal_window, fm, number_channels)\n",
    "            #X_train_l.append(data_filtered)\n",
    "            X_train_l.append(signal_window)\n",
    "            taskOH = task_OneHotEnconding[task[0]]\n",
    "            y_train_l.append(taskOH)\n",
    "            \n",
    "        win_init += int(samples_advance)\n",
    "\n",
    "X_train_l = np.array(X_train_l)\n",
    "y_train_l = np.array(y_train_l)\n",
    "\n",
    "\n",
    "# Ventaneo X_dev\n",
    "X_dev_l = []\n",
    "y_dev_l = []\n",
    "for num_X_dev in range(np.shape(X_dev)[0]):\n",
    "    win_init = int(0)\n",
    "    window_position = 0\n",
    "    \n",
    "    for i in range(np.shape(X_dev)[2]): # For each signal registered\n",
    "        win_end = int(win_init + window)\n",
    "        if win_end >= np.shape(X_dev)[2]:\n",
    "            break\n",
    "\n",
    "        task = np.unique(y_dev[num_X_dev,win_init:win_end])\n",
    "\n",
    "        if len(task)==1:\n",
    "        #if task1 in task or task2 in task:\n",
    "            signal_window = X_dev[num_X_dev, :, win_init:win_end]\n",
    "            \n",
    "            #data_filtered = preprocessing(signal_window, fm, number_channels)\n",
    "            #X_train_l.append(data_filtered)\n",
    "            X_dev_l.append(signal_window)\n",
    "            taskOH = task_OneHotEnconding[task[0]]\n",
    "            y_dev_l.append(taskOH)\n",
    "            \n",
    "        win_init += int(samples_advance)\n",
    "\n",
    "X_dev_l = np.array(X_dev_l)\n",
    "y_dev_l = np.array(y_dev_l)\n",
    "\n",
    "# Ventaneo X_test\n",
    "X_test_l = []\n",
    "y_test_l = []\n",
    "for num_X_test in range(np.shape(X_test)[0]):\n",
    "    win_init = int(0)\n",
    "    window_position = 0\n",
    "    \n",
    "    for i in range(np.shape(X_test)[2]): # For each signal registered\n",
    "        win_end = int(win_init + window)\n",
    "        if win_end >= np.shape(X_test)[2]:\n",
    "            break\n",
    "\n",
    "        task = np.unique(y_test[num_X_test,win_init:win_end])\n",
    "\n",
    "        if len(task)==1:\n",
    "        #if task1 in task or task2 in task:\n",
    "            signal_window = X_test[num_X_test, :, win_init:win_end]\n",
    "            \n",
    "            #data_filtered = preprocessing(signal_window, fm, number_channels)\n",
    "            #X_train_l.append(data_filtered)\n",
    "            X_test_l.append(signal_window)\n",
    "            taskOH = task_OneHotEnconding[task[0]]\n",
    "            y_test_l.append(taskOH)\n",
    "            \n",
    "        win_init += int(samples_advance)\n",
    "\n",
    "X_test_l = np.array(X_test_l)\n",
    "y_test_l = np.array(y_test_l)\n",
    "\n",
    "\n",
    "\n",
    "\n",
    "X_train_l = X_train_l.reshape((np.shape(X_train_l)[0],np.shape(X_train_l)[1],np.shape(X_train_l)[2], 1))\n",
    "X_dev_l = X_dev_l.reshape((np.shape(X_dev_l)[0],np.shape(X_dev_l)[1],np.shape(X_dev_l)[2], 1))\n",
    "X_test_l = X_test_l.reshape((np.shape(X_test_l)[0],np.shape(X_test_l)[1],np.shape(X_test_l)[2], 1))\n",
    "\n",
    "\n",
    "print(\"WINDOWING & ONE HOT ENCODER:\")\n",
    "print (\"X_train:\",X_train_l.shape)\n",
    "print (\"y_train:\",y_train_l.shape)\n",
    "print (\"X_dev:\",X_dev_l.shape)\n",
    "print (\"y_dev:\",y_dev_l.shape)\n",
    "print (\"X_test:\",X_test_l.shape)\n",
    "print (\"y_test:\",y_test_l.shape)\n",
    "\n",
    "X_train = X_train_l\n",
    "y_train = y_train_l\n",
    "X_dev = X_dev_l\n",
    "y_dev = y_dev_l\n",
    "X_test = X_test_l\n",
    "y_test = y_test_l"
   ]
  },
  {
   "cell_type": "markdown",
   "metadata": {},
   "source": [
    "### 3. Initialize variables"
   ]
  },
  {
   "cell_type": "code",
   "execution_count": 7,
   "metadata": {},
   "outputs": [],
   "source": [
    "INPUTS = X_train.shape[1]\n",
    "OUTPUTS = y_train.shape[1]\n",
    "NUM_TRAINING_EXAMPLES = int(round(X_train.shape[0]/1))\n",
    "NUM_DEV_EXAMPLES = int(round(y_train.shape[0]/1))"
   ]
  },
  {
   "cell_type": "markdown",
   "metadata": {},
   "source": [
    "Some data is displayed to test correctness:"
   ]
  },
  {
   "cell_type": "code",
   "execution_count": 8,
   "metadata": {},
   "outputs": [
    {
     "data": {
      "text/plain": [
       "array([[[[-1.63837945e+00],\n",
       "         [ 2.20531940e+00],\n",
       "         [ 1.08166718e+00],\n",
       "         ...,\n",
       "         [-7.69870853e+00],\n",
       "         [-7.50134087e+00],\n",
       "         [-3.70585847e+00]],\n",
       "\n",
       "        [[ 6.15227413e+00],\n",
       "         [ 8.16357422e+00],\n",
       "         [ 5.36804342e+00],\n",
       "         ...,\n",
       "         [-6.46570969e+00],\n",
       "         [-6.51845026e+00],\n",
       "         [-5.20556355e+00]],\n",
       "\n",
       "        [[ 6.65675211e+00],\n",
       "         [ 9.17980576e+00],\n",
       "         [ 8.19011593e+00],\n",
       "         ...,\n",
       "         [-6.55358267e+00],\n",
       "         [-6.37352753e+00],\n",
       "         [-5.62285948e+00]],\n",
       "\n",
       "        ...,\n",
       "\n",
       "        [[-4.94387865e-01],\n",
       "         [-1.97431183e+00],\n",
       "         [-8.94389057e+00],\n",
       "         ...,\n",
       "         [ 4.44912243e+00],\n",
       "         [-1.64592183e+00],\n",
       "         [ 1.73675954e+00]],\n",
       "\n",
       "        [[-1.28213561e+00],\n",
       "         [ 1.47745371e+00],\n",
       "         [ 1.70585126e-01],\n",
       "         ...,\n",
       "         [-8.88283825e+00],\n",
       "         [-9.43045998e+00],\n",
       "         [-8.93878365e+00]],\n",
       "\n",
       "        [[ 6.41901970e-01],\n",
       "         [-8.17931294e-01],\n",
       "         [-9.39325094e-01],\n",
       "         ...,\n",
       "         [-8.25282466e-03],\n",
       "         [-8.77431393e+00],\n",
       "         [-3.84023595e+00]]],\n",
       "\n",
       "\n",
       "       [[[ 1.69484978e+01],\n",
       "         [ 1.86464500e+01],\n",
       "         [ 1.24771957e+01],\n",
       "         ...,\n",
       "         [ 4.46837187e+00],\n",
       "         [ 5.84637737e+00],\n",
       "         [ 4.14651108e+00]],\n",
       "\n",
       "        [[ 1.68185482e+01],\n",
       "         [ 1.90246754e+01],\n",
       "         [ 1.47022705e+01],\n",
       "         ...,\n",
       "         [ 4.49282265e+00],\n",
       "         [ 5.42434883e+00],\n",
       "         [ 1.93960619e+00]],\n",
       "\n",
       "        [[ 1.45323267e+01],\n",
       "         [ 1.51867390e+01],\n",
       "         [ 1.08603868e+01],\n",
       "         ...,\n",
       "         [ 4.02501392e+00],\n",
       "         [ 5.23153496e+00],\n",
       "         [ 3.10907316e+00]],\n",
       "\n",
       "        ...,\n",
       "\n",
       "        [[ 5.25546122e+00],\n",
       "         [ 7.47265482e+00],\n",
       "         [ 1.13948736e+01],\n",
       "         ...,\n",
       "         [-4.74669695e+00],\n",
       "         [-7.22247779e-01],\n",
       "         [-1.22101569e+00]],\n",
       "\n",
       "        [[ 1.49734278e+01],\n",
       "         [ 1.56853352e+01],\n",
       "         [ 1.22481947e+01],\n",
       "         ...,\n",
       "         [-9.44317722e+00],\n",
       "         [-3.20037031e+00],\n",
       "         [-4.31645393e+00]],\n",
       "\n",
       "        [[ 1.22683535e+01],\n",
       "         [ 9.33251476e+00],\n",
       "         [ 2.12607169e+00],\n",
       "         ...,\n",
       "         [-2.34979177e+00],\n",
       "         [ 6.50495148e+00],\n",
       "         [ 5.06911278e-01]]]])"
      ]
     },
     "execution_count": 8,
     "metadata": {},
     "output_type": "execute_result"
    }
   ],
   "source": [
    "X_train[:2]"
   ]
  },
  {
   "cell_type": "code",
   "execution_count": 9,
   "metadata": {},
   "outputs": [
    {
     "data": {
      "text/plain": [
       "array([[[[ 5.50050306],\n",
       "         [ 5.6836648 ],\n",
       "         [-5.3074975 ],\n",
       "         ...,\n",
       "         [ 8.19852161],\n",
       "         [15.6428957 ],\n",
       "         [ 9.3330164 ]],\n",
       "\n",
       "        [[ 5.65569592],\n",
       "         [ 2.28644156],\n",
       "         [-3.18987131],\n",
       "         ...,\n",
       "         [ 3.22134876],\n",
       "         [11.0755682 ],\n",
       "         [ 5.50965309]],\n",
       "\n",
       "        [[ 2.44729424],\n",
       "         [ 2.05143237],\n",
       "         [-5.08194828],\n",
       "         ...,\n",
       "         [ 7.54894161],\n",
       "         [14.42216301],\n",
       "         [ 7.48953295]],\n",
       "\n",
       "        ...,\n",
       "\n",
       "        [[ 0.43806443],\n",
       "         [-0.49860212],\n",
       "         [-1.9200567 ],\n",
       "         ...,\n",
       "         [ 2.77134609],\n",
       "         [ 6.57677603],\n",
       "         [ 3.73756266]],\n",
       "\n",
       "        [[ 4.81264067],\n",
       "         [ 3.28164649],\n",
       "         [ 2.94088817],\n",
       "         ...,\n",
       "         [ 3.63828754],\n",
       "         [ 8.6048851 ],\n",
       "         [ 3.68720198]],\n",
       "\n",
       "        [[ 6.80233622],\n",
       "         [ 4.83839464],\n",
       "         [ 0.93156183],\n",
       "         ...,\n",
       "         [ 5.38316822],\n",
       "         [ 8.53020191],\n",
       "         [ 7.53892756]]],\n",
       "\n",
       "\n",
       "       [[[-6.26466084],\n",
       "         [-6.15324593],\n",
       "         [-1.10400891],\n",
       "         ...,\n",
       "         [ 4.47097206],\n",
       "         [ 5.17013931],\n",
       "         [ 3.15775967]],\n",
       "\n",
       "        [[-6.07983255],\n",
       "         [-2.69345903],\n",
       "         [-0.67772537],\n",
       "         ...,\n",
       "         [ 2.39768767],\n",
       "         [ 3.21470809],\n",
       "         [-1.28485382]],\n",
       "\n",
       "        [[-1.61589003],\n",
       "         [ 1.27869785],\n",
       "         [ 3.91547132],\n",
       "         ...,\n",
       "         [ 2.43919039],\n",
       "         [ 2.20211935],\n",
       "         [-4.0079093 ]],\n",
       "\n",
       "        ...,\n",
       "\n",
       "        [[-2.45212984],\n",
       "         [-3.00187922],\n",
       "         [-1.36171377],\n",
       "         ...,\n",
       "         [ 2.13893747],\n",
       "         [ 0.57818264],\n",
       "         [-1.14474118]],\n",
       "\n",
       "        [[-0.57153338],\n",
       "         [ 0.35499391],\n",
       "         [ 0.50478792],\n",
       "         ...,\n",
       "         [ 1.90875089],\n",
       "         [-0.56034398],\n",
       "         [-2.04518533]],\n",
       "\n",
       "        [[ 0.74303365],\n",
       "         [-1.98587632],\n",
       "         [ 2.93099594],\n",
       "         ...,\n",
       "         [ 6.24030733],\n",
       "         [ 4.67267084],\n",
       "         [ 5.08503675]]]])"
      ]
     },
     "execution_count": 9,
     "metadata": {},
     "output_type": "execute_result"
    }
   ],
   "source": [
    "X_dev[:2]"
   ]
  },
  {
   "cell_type": "code",
   "execution_count": 10,
   "metadata": {},
   "outputs": [
    {
     "data": {
      "text/plain": [
       "array([[1., 0.],\n",
       "       [1., 0.]])"
      ]
     },
     "execution_count": 10,
     "metadata": {},
     "output_type": "execute_result"
    }
   ],
   "source": [
    "y_train[:2]"
   ]
  },
  {
   "cell_type": "code",
   "execution_count": 11,
   "metadata": {},
   "outputs": [
    {
     "data": {
      "text/plain": [
       "array([0., 1.])"
      ]
     },
     "execution_count": 11,
     "metadata": {},
     "output_type": "execute_result"
    }
   ],
   "source": [
    "y_train[-20]"
   ]
  },
  {
   "cell_type": "code",
   "execution_count": 12,
   "metadata": {},
   "outputs": [
    {
     "data": {
      "text/plain": [
       "array([[1., 0.],\n",
       "       [1., 0.]])"
      ]
     },
     "execution_count": 12,
     "metadata": {},
     "output_type": "execute_result"
    }
   ],
   "source": [
    "y_dev[:2]"
   ]
  },
  {
   "cell_type": "code",
   "execution_count": 13,
   "metadata": {},
   "outputs": [
    {
     "data": {
      "text/plain": [
       "(31, 300, 1)"
      ]
     },
     "execution_count": 13,
     "metadata": {},
     "output_type": "execute_result"
    }
   ],
   "source": [
    "X_dev[0].shape"
   ]
  },
  {
   "cell_type": "code",
   "execution_count": 14,
   "metadata": {},
   "outputs": [
    {
     "data": {
      "text/plain": [
       "(98, 31, 300, 1)"
      ]
     },
     "execution_count": 14,
     "metadata": {},
     "output_type": "execute_result"
    }
   ],
   "source": [
    "X_dev.shape"
   ]
  },
  {
   "cell_type": "code",
   "execution_count": 15,
   "metadata": {},
   "outputs": [
    {
     "data": {
      "text/plain": [
       "(392, 31, 300, 1)"
      ]
     },
     "execution_count": 15,
     "metadata": {},
     "output_type": "execute_result"
    }
   ],
   "source": [
    "X_train.shape"
   ]
  },
  {
   "cell_type": "code",
   "execution_count": 16,
   "metadata": {},
   "outputs": [
    {
     "data": {
      "text/plain": [
       "2"
      ]
     },
     "execution_count": 16,
     "metadata": {},
     "output_type": "execute_result"
    }
   ],
   "source": [
    "y_train.shape[1]"
   ]
  },
  {
   "cell_type": "markdown",
   "metadata": {},
   "source": [
    "### 4 - Set hyperparameters"
   ]
  },
  {
   "cell_type": "code",
   "execution_count": 17,
   "metadata": {},
   "outputs": [],
   "source": [
    "# Tensorboard\n",
    "from time import time\n",
    "from keras.callbacks import TensorBoard\n",
    "tensorboard = TensorBoard(log_dir='logs/{}'.format(time()))"
   ]
  },
  {
   "cell_type": "code",
   "execution_count": 18,
   "metadata": {},
   "outputs": [
    {
     "data": {
      "text/plain": [
       "'\\nn_epochs = 100 #2000\\n#learning_rate = 0.001\\nbatch_size = 32 #250 \\nn_neurons_per_hlayer = [500, 250, 75, 25] # Number of units per layer, 4 hidden layers\\nrate_dropout = [0.8, 0.4, 0.2, 0.1]\\nweight_decay = 1e-4\\n'"
      ]
     },
     "execution_count": 18,
     "metadata": {},
     "output_type": "execute_result"
    }
   ],
   "source": [
    "\"\"\"\n",
    "n_epochs = 100 #2000\n",
    "#learning_rate = 0.001\n",
    "batch_size = 32 #250 \n",
    "n_neurons_per_hlayer = [500, 250, 75, 25] # Number of units per layer, 4 hidden layers\n",
    "rate_dropout = [0.8, 0.4, 0.2, 0.1]\n",
    "weight_decay = 1e-4\n",
    "\"\"\""
   ]
  },
  {
   "cell_type": "markdown",
   "metadata": {},
   "source": [
    "### 5 - Build the model: "
   ]
  },
  {
   "cell_type": "code",
   "execution_count": 19,
   "metadata": {},
   "outputs": [
    {
     "name": "stdout",
     "output_type": "stream",
     "text": [
      "Model: \"sequential\"\n",
      "_________________________________________________________________\n",
      "Layer (type)                 Output Shape              Param #   \n",
      "=================================================================\n",
      "conv2d (Conv2D)              (None, 31, 300, 4)        104       \n",
      "_________________________________________________________________\n",
      "conv2d_1 (Conv2D)            (None, 31, 300, 4)        500       \n",
      "_________________________________________________________________\n",
      "max_pooling2d (MaxPooling2D) (None, 15, 150, 4)        0         \n",
      "_________________________________________________________________\n",
      "flatten (Flatten)            (None, 9000)              0         \n",
      "_________________________________________________________________\n",
      "dense (Dense)                (None, 2)                 18002     \n",
      "=================================================================\n",
      "Total params: 18,606\n",
      "Trainable params: 18,606\n",
      "Non-trainable params: 0\n",
      "_________________________________________________________________\n"
     ]
    }
   ],
   "source": [
    "from keras.models import Sequential\n",
    "from keras.layers import Dense, Dropout, Activation, Flatten, DepthwiseConv2D\n",
    "from keras.layers.convolutional import Conv2D, MaxPooling2D\n",
    "from keras import optimizers, regularizers\n",
    "import keras.backend as K\n",
    "#K.set_image_data_format('channels_first')\n",
    "\n",
    "weight_decay = 1e-4\n",
    "\n",
    "model = Sequential()\n",
    "# Convolution2D(filtrosConv1, tamaño_filtro1, padding=\"same\", input_shape=(longitud, altura,3), activation = \"relu\")\n",
    "    # - filtrosConv1 número de filtros que aplicaremos tras la primera convolución, normalmente este tamaño va a aumentando\n",
    "    # tras convoluciones para que aumente la dimensión de profundidad (qué cosas hay en mi imagen)\n",
    "    # - tamaño_filtro1 tamaño espacial del kernel (de los filtros)\n",
    "    # - padding = si es same es que es igual que la imagen, vamos crea una imagen del mismo tamaño con el filtro, si es \n",
    "    # valid es que no hay padding y crea una imagen más pequeña que la imagen (creo)\n",
    "    # - input_shape = longitud y altura, tamaño que usará para convolucionar al entrenar\n",
    "    \n",
    "# CAPA PARA FILTRADO TEMPORAL\n",
    "model.add(Conv2D(filters = 4, kernel_size=(1,25), padding=\"same\", activation=\"relu\",input_shape=(31, 300,1 ), kernel_initializer=\"he_normal\", kernel_regularizer=regularizers.l2(weight_decay)))\n",
    "# CAPA PARA FILTRADO ESPACIAL\n",
    "model.add(Conv2D(filters = 4, kernel_size=(31,1), padding=\"same\", activation=\"relu\", kernel_initializer=\"he_normal\", kernel_regularizer=regularizers.l2(weight_decay)))\n",
    "\n",
    "model.add(MaxPooling2D(pool_size=(2, 2)))\n",
    "\"\"\"\n",
    "model.add(Dropout(0.5))\n",
    "\n",
    "## Siguientes capas convolucionales: \n",
    "model.add(Conv2D(20, (3,3), padding='same',activation='relu', kernel_initializer=\"he_normal\",kernel_regularizer=regularizers.l2(weight_decay)))\n",
    "model.add(MaxPooling2D(pool_size=(2,2)))\n",
    "model.add(Dropout(0.4))\n",
    "\n",
    "model.add(Conv2D(40, (3,3), padding='same',activation='relu', kernel_initializer=\"he_normal\",kernel_regularizer=regularizers.l2(weight_decay)))\n",
    "model.add(MaxPooling2D(pool_size=(2,2)))\n",
    "model.add(Dropout(0.3))\n",
    "\n",
    "\n",
    "model.add(Conv2D(80, (3,3), padding='same',activation='relu', kernel_initializer=\"he_normal\",kernel_regularizer=regularizers.l2(weight_decay)))\n",
    "model.add(MaxPooling2D(pool_size=(2,2)))\n",
    "model.add(Dropout(0.2))\n",
    "\"\"\"\n",
    "\"\"\"\n",
    "model.add(Conv2D(160, (3,3), padding='same',activation='relu', kernel_initializer=\"he_normal\",kernel_regularizer=regularizers.l2(weight_decay)))\n",
    "model.add(MaxPooling2D(pool_size=(2,2)))\n",
    "\"\"\"\n",
    "\n",
    "\n",
    "\"\"\"\n",
    "model.add(MaxPooling2D(pool_size=(2, 2)))\n",
    "model.add(Dropout(0.5))\n",
    "\n",
    "\n",
    "model.add(Conv2D(96, (3, 3), padding='same',activation='relu', kernel_initializer=\"he_normal\",kernel_regularizer=regularizers.l2(weight_decay)))\n",
    "#model.add(Conv2D(96, (3, 3), padding='same',activation='relu', kernel_initializer=\"he_normal\", kernel_regularizer=regularizers.l2(weight_decay)))\n",
    "model.add(MaxPooling2D(pool_size=(2, 2)))\n",
    "model.add(Dropout(0.2))\n",
    "\n",
    "model.add(Conv2D(192, (3, 3), padding='same',activation='relu', kernel_initializer=\"he_normal\", kernel_regularizer=regularizers.l2(weight_decay)))\n",
    "#model.add(Conv2D(192, (3, 3), padding='same',activation='relu', kernel_initializer=\"he_normal\", kernel_regularizer=regularizers.l2(weight_decay)))\n",
    "model.add(MaxPooling2D(pool_size=(2, 2)))\n",
    "model.add(Dropout(0.1))\n",
    "\"\"\"\n",
    "\n",
    "model.add(Flatten())\n",
    "model.add(Dense(y_train.shape[1], activation=\"softmax\"))\n",
    "\n",
    "opt = optimizers.Adam(lr=0.001, beta_1=0.9, beta_2=0.999)        \n",
    "model.compile(optimizer=opt, loss='categorical_crossentropy', metrics=['accuracy'])\n",
    "model.summary()"
   ]
  },
  {
   "cell_type": "code",
   "execution_count": 20,
   "metadata": {},
   "outputs": [
    {
     "data": {
      "text/plain": [
       "[<tensorflow.python.keras.layers.convolutional.Conv2D at 0x23cfe615430>,\n",
       " <tensorflow.python.keras.layers.convolutional.Conv2D at 0x23cfdd98040>,\n",
       " <tensorflow.python.keras.layers.pooling.MaxPooling2D at 0x23cfb90ba00>,\n",
       " <tensorflow.python.keras.layers.core.Flatten at 0x23cfdf2c8e0>,\n",
       " <tensorflow.python.keras.layers.core.Dense at 0x23cfdf1a9d0>]"
      ]
     },
     "execution_count": 20,
     "metadata": {},
     "output_type": "execute_result"
    }
   ],
   "source": [
    "model.layers"
   ]
  },
  {
   "cell_type": "code",
   "execution_count": 21,
   "metadata": {},
   "outputs": [
    {
     "name": "stdout",
     "output_type": "stream",
     "text": [
      "conv2d\n",
      "conv2d_1\n",
      "max_pooling2d\n",
      "flatten\n",
      "dense\n"
     ]
    }
   ],
   "source": [
    "for l in model.layers: print (l.name)"
   ]
  },
  {
   "cell_type": "markdown",
   "metadata": {},
   "source": [
    "All the parameters of a layer can bee accessed:"
   ]
  },
  {
   "cell_type": "code",
   "execution_count": 22,
   "metadata": {},
   "outputs": [
    {
     "data": {
      "text/plain": [
       "(1, 25, 1, 4)"
      ]
     },
     "execution_count": 22,
     "metadata": {},
     "output_type": "execute_result"
    }
   ],
   "source": [
    "weights, biases = model.layers[0].get_weights()\n",
    "weights.shape"
   ]
  },
  {
   "cell_type": "code",
   "execution_count": 23,
   "metadata": {},
   "outputs": [
    {
     "data": {
      "text/plain": [
       "array([[[[ 0.1532172 , -0.20849425,  0.0485065 , -0.37119463]],\n",
       "\n",
       "        [[-0.21602999, -0.20849276,  0.0629084 , -0.19164433]],\n",
       "\n",
       "        [[ 0.12295178,  0.4643256 ,  0.2767015 , -0.1720766 ]],\n",
       "\n",
       "        [[ 0.5903148 ,  0.30264047,  0.0805942 ,  0.36152852]],\n",
       "\n",
       "        [[-0.12902272, -0.36615562, -0.3908539 ,  0.41253367]],\n",
       "\n",
       "        [[ 0.3850019 , -0.29160255, -0.13007161, -0.0164095 ]],\n",
       "\n",
       "        [[ 0.2728376 ,  0.0578099 , -0.12600513,  0.00799719]],\n",
       "\n",
       "        [[-0.41857728,  0.47645405,  0.11807712,  0.07278504]],\n",
       "\n",
       "        [[-0.3567477 , -0.03834686,  0.11043587,  0.38229826]],\n",
       "\n",
       "        [[-0.15948437, -0.27717376,  0.19983876,  0.05716303]],\n",
       "\n",
       "        [[-0.10114663, -0.4522165 , -0.2500864 , -0.11178658]],\n",
       "\n",
       "        [[-0.16893   ,  0.20036054,  0.4611704 ,  0.07653406]],\n",
       "\n",
       "        [[-0.47548023, -0.04341074,  0.10631858, -0.20744924]],\n",
       "\n",
       "        [[ 0.44569764, -0.06536909, -0.43447796,  0.13651298]],\n",
       "\n",
       "        [[ 0.5059916 , -0.3362988 ,  0.63893825,  0.62694556]],\n",
       "\n",
       "        [[-0.36358818,  0.4265423 , -0.06362001, -0.1156939 ]],\n",
       "\n",
       "        [[-0.17352669,  0.36728007,  0.07860499,  0.21690549]],\n",
       "\n",
       "        [[ 0.1629417 ,  0.27032506, -0.21446502, -0.06796964]],\n",
       "\n",
       "        [[-0.01419076, -0.07262596,  0.30380896,  0.05667759]],\n",
       "\n",
       "        [[ 0.0762696 , -0.18579666,  0.21584752, -0.1688675 ]],\n",
       "\n",
       "        [[-0.5984499 , -0.21514173,  0.4467872 , -0.20125574]],\n",
       "\n",
       "        [[ 0.4444709 , -0.6369511 ,  0.52667737, -0.09214767]],\n",
       "\n",
       "        [[ 0.33350235,  0.21064672, -0.23773678,  0.05773746]],\n",
       "\n",
       "        [[ 0.6065274 ,  0.33212277, -0.48159194, -0.13617066]],\n",
       "\n",
       "        [[ 0.0134394 , -0.26853782, -0.52198666,  0.19317141]]]],\n",
       "      dtype=float32)"
      ]
     },
     "execution_count": 23,
     "metadata": {},
     "output_type": "execute_result"
    }
   ],
   "source": [
    "weights"
   ]
  },
  {
   "cell_type": "code",
   "execution_count": 24,
   "metadata": {},
   "outputs": [
    {
     "data": {
      "text/plain": [
       "array([0., 0., 0., 0.], dtype=float32)"
      ]
     },
     "execution_count": 24,
     "metadata": {},
     "output_type": "execute_result"
    }
   ],
   "source": [
    "biases # Bias de la primera capa: 500 bias inicializados a 0 "
   ]
  },
  {
   "cell_type": "code",
   "execution_count": 25,
   "metadata": {},
   "outputs": [
    {
     "data": {
      "text/plain": [
       "(4,)"
      ]
     },
     "execution_count": 25,
     "metadata": {},
     "output_type": "execute_result"
    }
   ],
   "source": [
    "biases.shape"
   ]
  },
  {
   "cell_type": "markdown",
   "metadata": {},
   "source": [
    "### 6. Compile the model"
   ]
  },
  {
   "cell_type": "markdown",
   "metadata": {},
   "source": [
    "### 7. Train the model with M-BGD"
   ]
  },
  {
   "cell_type": "code",
   "execution_count": 26,
   "metadata": {},
   "outputs": [
    {
     "name": "stdout",
     "output_type": "stream",
     "text": [
      "Epoch 1/100\n",
      "13/13 - 4s - loss: 10.3517 - accuracy: 0.5306 - val_loss: 3.5498 - val_accuracy: 0.5714\n",
      "Epoch 2/100\n",
      "13/13 - 3s - loss: 3.1410 - accuracy: 0.5587 - val_loss: 2.6045 - val_accuracy: 0.5714\n",
      "Epoch 3/100\n",
      "13/13 - 2s - loss: 1.2580 - accuracy: 0.6658 - val_loss: 1.9346 - val_accuracy: 0.5714\n",
      "Epoch 4/100\n",
      "13/13 - 2s - loss: 0.5328 - accuracy: 0.7857 - val_loss: 1.7991 - val_accuracy: 0.6020\n",
      "Epoch 5/100\n",
      "13/13 - 2s - loss: 0.3202 - accuracy: 0.8648 - val_loss: 1.7158 - val_accuracy: 0.5816\n",
      "Epoch 6/100\n",
      "13/13 - 3s - loss: 0.2062 - accuracy: 0.9107 - val_loss: 1.7484 - val_accuracy: 0.6020\n",
      "Epoch 7/100\n",
      "13/13 - 3s - loss: 0.1079 - accuracy: 0.9592 - val_loss: 1.8420 - val_accuracy: 0.6020\n",
      "Epoch 8/100\n",
      "13/13 - 3s - loss: 0.0541 - accuracy: 0.9949 - val_loss: 1.7206 - val_accuracy: 0.5816\n",
      "Epoch 9/100\n",
      "13/13 - 2s - loss: 0.0347 - accuracy: 1.0000 - val_loss: 1.7156 - val_accuracy: 0.5816\n",
      "Epoch 10/100\n",
      "13/13 - 2s - loss: 0.0272 - accuracy: 1.0000 - val_loss: 1.7565 - val_accuracy: 0.6020\n",
      "Epoch 11/100\n",
      "13/13 - 2s - loss: 0.0210 - accuracy: 1.0000 - val_loss: 1.7580 - val_accuracy: 0.5714\n",
      "Epoch 12/100\n",
      "13/13 - 2s - loss: 0.0171 - accuracy: 1.0000 - val_loss: 1.7857 - val_accuracy: 0.5816\n",
      "Epoch 13/100\n",
      "13/13 - 3s - loss: 0.0148 - accuracy: 1.0000 - val_loss: 1.8046 - val_accuracy: 0.5816\n",
      "Epoch 14/100\n",
      "13/13 - 3s - loss: 0.0131 - accuracy: 1.0000 - val_loss: 1.8202 - val_accuracy: 0.5714\n",
      "Epoch 15/100\n",
      "13/13 - 3s - loss: 0.0119 - accuracy: 1.0000 - val_loss: 1.8360 - val_accuracy: 0.5612\n",
      "Epoch 16/100\n",
      "13/13 - 3s - loss: 0.0108 - accuracy: 1.0000 - val_loss: 1.8488 - val_accuracy: 0.5612\n",
      "Epoch 17/100\n",
      "13/13 - 3s - loss: 0.0098 - accuracy: 1.0000 - val_loss: 1.8663 - val_accuracy: 0.5612\n",
      "Epoch 18/100\n",
      "13/13 - 3s - loss: 0.0091 - accuracy: 1.0000 - val_loss: 1.8831 - val_accuracy: 0.5612\n",
      "Epoch 19/100\n",
      "13/13 - 3s - loss: 0.0085 - accuracy: 1.0000 - val_loss: 1.8927 - val_accuracy: 0.5714\n",
      "Epoch 20/100\n",
      "13/13 - 3s - loss: 0.0078 - accuracy: 1.0000 - val_loss: 1.9063 - val_accuracy: 0.5612\n",
      "Epoch 21/100\n",
      "13/13 - 2s - loss: 0.0073 - accuracy: 1.0000 - val_loss: 1.9154 - val_accuracy: 0.5714\n",
      "Epoch 22/100\n",
      "13/13 - 2s - loss: 0.0068 - accuracy: 1.0000 - val_loss: 1.9309 - val_accuracy: 0.5612\n",
      "Epoch 23/100\n",
      "13/13 - 3s - loss: 0.0065 - accuracy: 1.0000 - val_loss: 1.9431 - val_accuracy: 0.5714\n",
      "Epoch 24/100\n",
      "13/13 - 3s - loss: 0.0062 - accuracy: 1.0000 - val_loss: 1.9566 - val_accuracy: 0.5612\n",
      "Epoch 25/100\n",
      "13/13 - 3s - loss: 0.0058 - accuracy: 1.0000 - val_loss: 1.9691 - val_accuracy: 0.5714\n",
      "Epoch 26/100\n",
      "13/13 - 2s - loss: 0.0056 - accuracy: 1.0000 - val_loss: 1.9820 - val_accuracy: 0.5714\n",
      "Epoch 27/100\n",
      "13/13 - 2s - loss: 0.0053 - accuracy: 1.0000 - val_loss: 1.9932 - val_accuracy: 0.5612\n",
      "Epoch 28/100\n",
      "13/13 - 2s - loss: 0.0051 - accuracy: 1.0000 - val_loss: 2.0039 - val_accuracy: 0.5612\n",
      "Epoch 29/100\n",
      "13/13 - 2s - loss: 0.0049 - accuracy: 1.0000 - val_loss: 2.0143 - val_accuracy: 0.5612\n",
      "Epoch 30/100\n",
      "13/13 - 2s - loss: 0.0047 - accuracy: 1.0000 - val_loss: 2.0280 - val_accuracy: 0.5714\n",
      "Epoch 31/100\n",
      "13/13 - 2s - loss: 0.0045 - accuracy: 1.0000 - val_loss: 2.0377 - val_accuracy: 0.5612\n",
      "Epoch 32/100\n",
      "13/13 - 3s - loss: 0.0044 - accuracy: 1.0000 - val_loss: 2.0471 - val_accuracy: 0.5612\n",
      "Epoch 33/100\n",
      "13/13 - 2s - loss: 0.0042 - accuracy: 1.0000 - val_loss: 2.0584 - val_accuracy: 0.5510\n",
      "Epoch 34/100\n",
      "13/13 - 2s - loss: 0.0042 - accuracy: 1.0000 - val_loss: 2.0703 - val_accuracy: 0.5408\n",
      "Epoch 35/100\n",
      "13/13 - 3s - loss: 0.0040 - accuracy: 1.0000 - val_loss: 2.0844 - val_accuracy: 0.5612\n",
      "Epoch 36/100\n",
      "13/13 - 3s - loss: 0.0039 - accuracy: 1.0000 - val_loss: 2.0933 - val_accuracy: 0.5306\n",
      "Epoch 37/100\n",
      "13/13 - 3s - loss: 0.0038 - accuracy: 1.0000 - val_loss: 2.1040 - val_accuracy: 0.5306\n",
      "Epoch 38/100\n",
      "13/13 - 3s - loss: 0.0037 - accuracy: 1.0000 - val_loss: 2.1120 - val_accuracy: 0.5306\n",
      "Epoch 39/100\n",
      "13/13 - 3s - loss: 0.0036 - accuracy: 1.0000 - val_loss: 2.1190 - val_accuracy: 0.5408\n",
      "Epoch 40/100\n",
      "13/13 - 3s - loss: 0.0035 - accuracy: 1.0000 - val_loss: 2.1270 - val_accuracy: 0.5408\n",
      "Epoch 41/100\n",
      "13/13 - 3s - loss: 0.0034 - accuracy: 1.0000 - val_loss: 2.1344 - val_accuracy: 0.5408\n",
      "Epoch 42/100\n",
      "13/13 - 3s - loss: 0.0034 - accuracy: 1.0000 - val_loss: 2.1407 - val_accuracy: 0.5306\n",
      "Epoch 43/100\n",
      "13/13 - 3s - loss: 0.0033 - accuracy: 1.0000 - val_loss: 2.1492 - val_accuracy: 0.5510\n",
      "Epoch 44/100\n",
      "13/13 - 4s - loss: 0.0032 - accuracy: 1.0000 - val_loss: 2.1554 - val_accuracy: 0.5408\n",
      "Epoch 45/100\n",
      "13/13 - 4s - loss: 0.0032 - accuracy: 1.0000 - val_loss: 2.1638 - val_accuracy: 0.5408\n",
      "Epoch 46/100\n",
      "13/13 - 3s - loss: 0.0031 - accuracy: 1.0000 - val_loss: 2.1713 - val_accuracy: 0.5408\n",
      "Epoch 47/100\n",
      "13/13 - 4s - loss: 0.0031 - accuracy: 1.0000 - val_loss: 2.1792 - val_accuracy: 0.5408\n",
      "Epoch 48/100\n",
      "13/13 - 4s - loss: 0.0030 - accuracy: 1.0000 - val_loss: 2.1868 - val_accuracy: 0.5408\n",
      "Epoch 49/100\n",
      "13/13 - 5s - loss: 0.0030 - accuracy: 1.0000 - val_loss: 2.1953 - val_accuracy: 0.5408\n",
      "Epoch 50/100\n",
      "13/13 - 4s - loss: 0.0029 - accuracy: 1.0000 - val_loss: 2.2020 - val_accuracy: 0.5408\n",
      "Epoch 51/100\n",
      "13/13 - 4s - loss: 0.0029 - accuracy: 1.0000 - val_loss: 2.2098 - val_accuracy: 0.5408\n",
      "Epoch 52/100\n",
      "13/13 - 4s - loss: 0.0028 - accuracy: 1.0000 - val_loss: 2.2188 - val_accuracy: 0.5408\n",
      "Epoch 53/100\n",
      "13/13 - 4s - loss: 0.0028 - accuracy: 1.0000 - val_loss: 2.2254 - val_accuracy: 0.5408\n",
      "Epoch 54/100\n",
      "13/13 - 4s - loss: 0.0028 - accuracy: 1.0000 - val_loss: 2.2330 - val_accuracy: 0.5408\n",
      "Epoch 55/100\n",
      "13/13 - 4s - loss: 0.0027 - accuracy: 1.0000 - val_loss: 2.2395 - val_accuracy: 0.5408\n",
      "Epoch 56/100\n",
      "13/13 - 4s - loss: 0.0027 - accuracy: 1.0000 - val_loss: 2.2461 - val_accuracy: 0.5408\n",
      "Epoch 57/100\n",
      "13/13 - 4s - loss: 0.0027 - accuracy: 1.0000 - val_loss: 2.2520 - val_accuracy: 0.5408\n",
      "Epoch 58/100\n",
      "13/13 - 4s - loss: 0.0026 - accuracy: 1.0000 - val_loss: 2.2579 - val_accuracy: 0.5408\n",
      "Epoch 59/100\n",
      "13/13 - 4s - loss: 0.0026 - accuracy: 1.0000 - val_loss: 2.2655 - val_accuracy: 0.5408\n",
      "Epoch 60/100\n",
      "13/13 - 4s - loss: 0.0026 - accuracy: 1.0000 - val_loss: 2.2731 - val_accuracy: 0.5408\n",
      "Epoch 61/100\n",
      "13/13 - 4s - loss: 0.0026 - accuracy: 1.0000 - val_loss: 2.2814 - val_accuracy: 0.5408\n",
      "Epoch 62/100\n",
      "13/13 - 4s - loss: 0.0025 - accuracy: 1.0000 - val_loss: 2.2893 - val_accuracy: 0.5408\n",
      "Epoch 63/100\n",
      "13/13 - 5s - loss: 0.0025 - accuracy: 1.0000 - val_loss: 2.2974 - val_accuracy: 0.5408\n",
      "Epoch 64/100\n",
      "13/13 - 4s - loss: 0.0025 - accuracy: 1.0000 - val_loss: 2.3050 - val_accuracy: 0.5306\n",
      "Epoch 65/100\n",
      "13/13 - 4s - loss: 0.0025 - accuracy: 1.0000 - val_loss: 2.3105 - val_accuracy: 0.5408\n",
      "Epoch 66/100\n",
      "13/13 - 4s - loss: 0.0024 - accuracy: 1.0000 - val_loss: 2.3178 - val_accuracy: 0.5408\n",
      "Epoch 67/100\n",
      "13/13 - 4s - loss: 0.0024 - accuracy: 1.0000 - val_loss: 2.3237 - val_accuracy: 0.5408\n",
      "Epoch 68/100\n",
      "13/13 - 4s - loss: 0.0024 - accuracy: 1.0000 - val_loss: 2.3301 - val_accuracy: 0.5408\n",
      "Epoch 69/100\n",
      "13/13 - 4s - loss: 0.0024 - accuracy: 1.0000 - val_loss: 2.3372 - val_accuracy: 0.5306\n",
      "Epoch 70/100\n",
      "13/13 - 4s - loss: 0.0024 - accuracy: 1.0000 - val_loss: 2.3428 - val_accuracy: 0.5408\n",
      "Epoch 71/100\n",
      "13/13 - 4s - loss: 0.0024 - accuracy: 1.0000 - val_loss: 2.3492 - val_accuracy: 0.5408\n",
      "Epoch 72/100\n",
      "13/13 - 4s - loss: 0.0023 - accuracy: 1.0000 - val_loss: 2.3559 - val_accuracy: 0.5306\n",
      "Epoch 73/100\n",
      "13/13 - 4s - loss: 0.0023 - accuracy: 1.0000 - val_loss: 2.3623 - val_accuracy: 0.5408\n",
      "Epoch 74/100\n",
      "13/13 - 5s - loss: 0.0023 - accuracy: 1.0000 - val_loss: 2.3686 - val_accuracy: 0.5306\n",
      "Epoch 75/100\n",
      "13/13 - 4s - loss: 0.0023 - accuracy: 1.0000 - val_loss: 2.3754 - val_accuracy: 0.5306\n",
      "Epoch 76/100\n",
      "13/13 - 4s - loss: 0.0023 - accuracy: 1.0000 - val_loss: 2.3819 - val_accuracy: 0.5306\n",
      "Epoch 77/100\n",
      "13/13 - 4s - loss: 0.0023 - accuracy: 1.0000 - val_loss: 2.3881 - val_accuracy: 0.5306\n",
      "Epoch 78/100\n",
      "13/13 - 4s - loss: 0.0023 - accuracy: 1.0000 - val_loss: 2.3938 - val_accuracy: 0.5306\n",
      "Epoch 79/100\n",
      "13/13 - 4s - loss: 0.0022 - accuracy: 1.0000 - val_loss: 2.3989 - val_accuracy: 0.5306\n",
      "Epoch 80/100\n",
      "13/13 - 4s - loss: 0.0022 - accuracy: 1.0000 - val_loss: 2.4045 - val_accuracy: 0.5306\n",
      "Epoch 81/100\n",
      "13/13 - 4s - loss: 0.0022 - accuracy: 1.0000 - val_loss: 2.4099 - val_accuracy: 0.5306\n",
      "Epoch 82/100\n",
      "13/13 - 4s - loss: 0.0022 - accuracy: 1.0000 - val_loss: 2.4157 - val_accuracy: 0.5306\n",
      "Epoch 83/100\n"
     ]
    },
    {
     "name": "stdout",
     "output_type": "stream",
     "text": [
      "13/13 - 4s - loss: 0.0022 - accuracy: 1.0000 - val_loss: 2.4224 - val_accuracy: 0.5306\n",
      "Epoch 84/100\n",
      "13/13 - 4s - loss: 0.0022 - accuracy: 1.0000 - val_loss: 2.4287 - val_accuracy: 0.5306\n",
      "Epoch 85/100\n",
      "13/13 - 4s - loss: 0.0022 - accuracy: 1.0000 - val_loss: 2.4351 - val_accuracy: 0.5306\n",
      "Epoch 86/100\n",
      "13/13 - 4s - loss: 0.0022 - accuracy: 1.0000 - val_loss: 2.4403 - val_accuracy: 0.5408\n",
      "Epoch 87/100\n",
      "13/13 - 4s - loss: 0.0022 - accuracy: 1.0000 - val_loss: 2.4458 - val_accuracy: 0.5306\n",
      "Epoch 88/100\n",
      "13/13 - 4s - loss: 0.0022 - accuracy: 1.0000 - val_loss: 2.4510 - val_accuracy: 0.5408\n",
      "Epoch 89/100\n",
      "13/13 - 4s - loss: 0.0021 - accuracy: 1.0000 - val_loss: 2.4568 - val_accuracy: 0.5408\n",
      "Epoch 90/100\n",
      "13/13 - 4s - loss: 0.0021 - accuracy: 1.0000 - val_loss: 2.4621 - val_accuracy: 0.5408\n",
      "Epoch 91/100\n",
      "13/13 - 4s - loss: 0.0021 - accuracy: 1.0000 - val_loss: 2.4695 - val_accuracy: 0.5408\n",
      "Epoch 92/100\n",
      "13/13 - 5s - loss: 0.0021 - accuracy: 1.0000 - val_loss: 2.4761 - val_accuracy: 0.5408\n",
      "Epoch 93/100\n",
      "13/13 - 4s - loss: 0.0021 - accuracy: 1.0000 - val_loss: 2.4817 - val_accuracy: 0.5408\n",
      "Epoch 94/100\n",
      "13/13 - 4s - loss: 0.0021 - accuracy: 1.0000 - val_loss: 2.4868 - val_accuracy: 0.5408\n",
      "Epoch 95/100\n",
      "13/13 - 4s - loss: 0.0021 - accuracy: 1.0000 - val_loss: 2.4922 - val_accuracy: 0.5408\n",
      "Epoch 96/100\n",
      "13/13 - 4s - loss: 0.0021 - accuracy: 1.0000 - val_loss: 2.4980 - val_accuracy: 0.5408\n",
      "Epoch 97/100\n",
      "13/13 - 4s - loss: 0.0021 - accuracy: 1.0000 - val_loss: 2.5027 - val_accuracy: 0.5408\n",
      "Epoch 98/100\n",
      "13/13 - 4s - loss: 0.0021 - accuracy: 1.0000 - val_loss: 2.5082 - val_accuracy: 0.5408\n",
      "Epoch 99/100\n",
      "13/13 - 4s - loss: 0.0021 - accuracy: 1.0000 - val_loss: 2.5132 - val_accuracy: 0.5408\n",
      "Epoch 100/100\n",
      "13/13 - 5s - loss: 0.0021 - accuracy: 1.0000 - val_loss: 2.5191 - val_accuracy: 0.5408\n",
      "356.2461462020874\n"
     ]
    }
   ],
   "source": [
    "import time\n",
    "start = time.time()\n",
    "#history = model.fit(X_train, y_train, batch_size=32, steps_per_epoch=len(y_train)/32, epochs=100, verbose=2, validation_data=(X_dev, y_dev),callbacks=[tensorboard])\n",
    "history = model.fit(X_train, y_train, batch_size=32, epochs=100, verbose=2, validation_data=(X_dev, y_dev))\n",
    "print (time.time() - start)\n",
    "\n"
   ]
  },
  {
   "cell_type": "markdown",
   "metadata": {},
   "source": [
    "### 8. Get the results"
   ]
  },
  {
   "cell_type": "code",
   "execution_count": 27,
   "metadata": {},
   "outputs": [
    {
     "data": {
      "image/png": "[encoded data removed]",
      "text/plain": [
       "<Figure size 576x360 with 1 Axes>"
      ]
     },
     "metadata": {
      "needs_background": "light"
     },
     "output_type": "display_data"
    }
   ],
   "source": [
    "results=pd.DataFrame(history.history)\n",
    "results.plot(figsize=(8, 5))\n",
    "plt.grid(True)\n",
    "plt.xlabel (\"Epochs\")\n",
    "plt.ylabel (\"Accuracy - Mean Log Loss\")\n",
    "plt.gca().set_ylim(0, 2) # set the vertical range to [0-1]\n",
    "plt.show()\n",
    "\n",
    "# categorical_accuracy es el training accuracy\n",
    "# val_categorical_accuracy es el validation accuracy\n",
    "# loss es el training loss\n",
    "# val_loss es el validation loss\n",
    "\n",
    "# Overfitting:\n",
    "# Por un lado la Accuracy de los datos de entrenamiento aumenta con las epochs,\n",
    "# mientras que la Accuracy de los datos de validación disminuye o se mantiene constante a lo largo de las epochs. \n",
    "# La Loss de los datos de validación alcanza su mínimo después de pocos epochs y luego empieza a subir, \n",
    "# mientras que la Loss de los datos de entrenamiento disminuye linealmente."
   ]
  },
  {
   "cell_type": "code",
   "execution_count": 28,
   "metadata": {},
   "outputs": [
    {
     "data": {
      "text/plain": [
       "{'verbose': 2, 'epochs': 100, 'steps': 13}"
      ]
     },
     "execution_count": 28,
     "metadata": {},
     "output_type": "execute_result"
    }
   ],
   "source": [
    "history.params"
   ]
  },
  {
   "cell_type": "code",
   "execution_count": 29,
   "metadata": {},
   "outputs": [
    {
     "data": {
      "text/html": [
       "<div>\n",
       "<style scoped>\n",
       "    .dataframe tbody tr th:only-of-type {\n",
       "        vertical-align: middle;\n",
       "    }\n",
       "\n",
       "    .dataframe tbody tr th {\n",
       "        vertical-align: top;\n",
       "    }\n",
       "\n",
       "    .dataframe thead th {\n",
       "        text-align: right;\n",
       "    }\n",
       "</style>\n",
       "<table border=\"1\" class=\"dataframe\">\n",
       "  <thead>\n",
       "    <tr style=\"text-align: right;\">\n",
       "      <th></th>\n",
       "      <th>loss</th>\n",
       "      <th>accuracy</th>\n",
       "      <th>val_loss</th>\n",
       "      <th>val_accuracy</th>\n",
       "    </tr>\n",
       "  </thead>\n",
       "  <tbody>\n",
       "    <tr>\n",
       "      <th>99</th>\n",
       "      <td>0.002066</td>\n",
       "      <td>1.0</td>\n",
       "      <td>2.51911</td>\n",
       "      <td>0.540816</td>\n",
       "    </tr>\n",
       "  </tbody>\n",
       "</table>\n",
       "</div>"
      ],
      "text/plain": [
       "        loss  accuracy  val_loss  val_accuracy\n",
       "99  0.002066       1.0   2.51911      0.540816"
      ]
     },
     "execution_count": 29,
     "metadata": {},
     "output_type": "execute_result"
    }
   ],
   "source": [
    "results[-1:]"
   ]
  },
  {
   "cell_type": "code",
   "execution_count": 30,
   "metadata": {},
   "outputs": [
    {
     "name": "stdout",
     "output_type": "stream",
     "text": [
      "Accuracy for the training set:  1.0\n"
     ]
    }
   ],
   "source": [
    "print (\"Accuracy for the training set: \", results.values[-1:][0][1])"
   ]
  },
  {
   "cell_type": "code",
   "execution_count": 31,
   "metadata": {},
   "outputs": [
    {
     "name": "stdout",
     "output_type": "stream",
     "text": [
      "Accuracy for the development test set:  0.5408163070678711\n"
     ]
    }
   ],
   "source": [
    "print (\"Accuracy for the development test set: \", results.values[-1:][0][3])"
   ]
  },
  {
   "cell_type": "code",
   "execution_count": null,
   "metadata": {},
   "outputs": [],
   "source": []
  },
  {
   "cell_type": "code",
   "execution_count": null,
   "metadata": {},
   "outputs": [],
   "source": []
  },
  {
   "cell_type": "code",
   "execution_count": null,
   "metadata": {},
   "outputs": [],
   "source": []
  },
  {
   "cell_type": "code",
   "execution_count": null,
   "metadata": {},
   "outputs": [],
   "source": []
  },
  {
   "cell_type": "code",
   "execution_count": null,
   "metadata": {},
   "outputs": [],
   "source": []
  },
  {
   "cell_type": "markdown",
   "metadata": {},
   "source": [
    "#### Let's see how the model predicts using the development test set:"
   ]
  },
  {
   "cell_type": "code",
   "execution_count": 32,
   "metadata": {},
   "outputs": [
    {
     "data": {
      "text/plain": [
       "array([[0.01, 0.99],\n",
       "       [0.  , 1.  ],\n",
       "       [0.03, 0.97],\n",
       "       [0.  , 1.  ],\n",
       "       [0.01, 0.99],\n",
       "       [0.  , 1.  ],\n",
       "       [1.  , 0.  ],\n",
       "       [0.  , 1.  ],\n",
       "       [0.98, 0.02],\n",
       "       [0.  , 1.  ],\n",
       "       [0.07, 0.93],\n",
       "       [0.  , 1.  ],\n",
       "       [0.8 , 0.2 ],\n",
       "       [0.01, 0.99],\n",
       "       [0.99, 0.01],\n",
       "       [0.13, 0.87],\n",
       "       [0.01, 0.99],\n",
       "       [0.96, 0.04],\n",
       "       [0.  , 1.  ],\n",
       "       [0.5 , 0.5 ]], dtype=float32)"
      ]
     },
     "execution_count": 32,
     "metadata": {},
     "output_type": "execute_result"
    }
   ],
   "source": [
    "dev_predictions=model.predict(X_dev).round(2) \n",
    "dev_predictions[:20]"
   ]
  },
  {
   "cell_type": "code",
   "execution_count": 33,
   "metadata": {},
   "outputs": [
    {
     "data": {
      "text/plain": [
       "array([[0., 1.],\n",
       "       [0., 1.],\n",
       "       [0., 1.],\n",
       "       [0., 1.],\n",
       "       [0., 1.],\n",
       "       [0., 1.],\n",
       "       [1., 0.],\n",
       "       [0., 1.],\n",
       "       [1., 0.],\n",
       "       [0., 1.],\n",
       "       [0., 1.],\n",
       "       [0., 1.],\n",
       "       [1., 0.],\n",
       "       [0., 1.],\n",
       "       [1., 0.],\n",
       "       [0., 1.],\n",
       "       [0., 1.],\n",
       "       [1., 0.],\n",
       "       [0., 1.],\n",
       "       [1., 0.]], dtype=float32)"
      ]
     },
     "execution_count": 33,
     "metadata": {},
     "output_type": "execute_result"
    }
   ],
   "source": [
    "dev_rounded_predictions=np.round(dev_predictions)\n",
    "indices = np.argmax(dev_predictions,1)\n",
    "for row, index in zip(dev_rounded_predictions, indices): row[index]=1\n",
    "dev_rounded_predictions[:20]"
   ]
  },
  {
   "cell_type": "code",
   "execution_count": 34,
   "metadata": {},
   "outputs": [
    {
     "data": {
      "text/plain": [
       "array([[1., 0.],\n",
       "       [1., 0.],\n",
       "       [1., 0.],\n",
       "       [1., 0.],\n",
       "       [1., 0.],\n",
       "       [1., 0.],\n",
       "       [1., 0.],\n",
       "       [1., 0.],\n",
       "       [1., 0.],\n",
       "       [1., 0.],\n",
       "       [1., 0.],\n",
       "       [1., 0.],\n",
       "       [0., 1.],\n",
       "       [0., 1.],\n",
       "       [0., 1.],\n",
       "       [0., 1.],\n",
       "       [0., 1.],\n",
       "       [0., 1.],\n",
       "       [0., 1.],\n",
       "       [0., 1.]])"
      ]
     },
     "execution_count": 34,
     "metadata": {},
     "output_type": "execute_result"
    }
   ],
   "source": [
    "y_dev[:20]"
   ]
  },
  {
   "cell_type": "code",
   "execution_count": 35,
   "metadata": {},
   "outputs": [
    {
     "name": "stdout",
     "output_type": "stream",
     "text": [
      "[False False False False False False  True False  True False False False\n",
      " False  True False  True  True False  True False False  True False False\n",
      "  True False False False False  True]\n"
     ]
    }
   ],
   "source": [
    "dev_correct_predictions = np.equal(np.argmax(dev_rounded_predictions,1),np.argmax(y_dev,1))\n",
    "print (dev_correct_predictions[:30])"
   ]
  },
  {
   "cell_type": "code",
   "execution_count": 36,
   "metadata": {},
   "outputs": [
    {
     "data": {
      "text/plain": [
       "Counter({False: 46, True: 52})"
      ]
     },
     "execution_count": 36,
     "metadata": {},
     "output_type": "execute_result"
    }
   ],
   "source": [
    "from collections import Counter\n",
    "Counter (dev_correct_predictions)"
   ]
  },
  {
   "cell_type": "markdown",
   "metadata": {},
   "source": [
    "### 9. Save model"
   ]
  },
  {
   "cell_type": "markdown",
   "metadata": {},
   "source": [
    "We save the model if it is better than others "
   ]
  },
  {
   "cell_type": "code",
   "execution_count": 37,
   "metadata": {},
   "outputs": [],
   "source": [
    "# Save\n",
    "model.save('./Modelos/CNN_model1_IMPARES_DIA31.h5') # Change the name in each model"
   ]
  },
  {
   "cell_type": "code",
   "execution_count": 38,
   "metadata": {},
   "outputs": [
    {
     "data": {
      "text/plain": [
       "\"\\nnew_model = keras.models.load_model('./Modelos/EGG_prac1_ANN_model3.h5')\\n\\nimport numpy as np\\n\\n# Verify state\\nnew_predictions = new_model.predict(X_dev)\\nnp.testing.assert_allclose(predictions, new_predictions, rtol=1e-6, atol=1e-6)\\n\\n# Note that the optimizer state is also preserved:\\n# you can resume training where you left off.\\n\""
      ]
     },
     "execution_count": 38,
     "metadata": {},
     "output_type": "execute_result"
    }
   ],
   "source": [
    "# Extract\n",
    "\"\"\"\n",
    "new_model = keras.models.load_model('./Modelos/EGG_prac1_ANN_model3.h5')\n",
    "\n",
    "import numpy as np\n",
    "\n",
    "# Verify state\n",
    "new_predictions = new_model.predict(X_dev)\n",
    "np.testing.assert_allclose(predictions, new_predictions, rtol=1e-6, atol=1e-6)\n",
    "\n",
    "# Note that the optimizer state is also preserved:\n",
    "# you can resume training where you left off.\n",
    "\"\"\""
   ]
  },
  {
   "cell_type": "markdown",
   "metadata": {},
   "source": [
    "### 10 - Final Test\n",
    "\n",
    "#### 10.1 - Load the final test set"
   ]
  },
  {
   "cell_type": "code",
   "execution_count": 39,
   "metadata": {},
   "outputs": [],
   "source": [
    "from collections import Counter\n",
    "def predictWithModel(model, X_test, y_test, task1, task2, task3=\"\"):\n",
    "    model.evaluate(X_test, y_test)\n",
    "    test_predictions = model.predict(X_test)\n",
    "    test_rounded_predictions=np.round(test_predictions)\n",
    "    indices = np.argmax(test_predictions,1)\n",
    "    for row, index in zip(test_rounded_predictions, indices): row[index]=1\n",
    "    print(test_rounded_predictions[:20])\n",
    "    \n",
    "    # ACCURACY:\n",
    "    test_correct_predictions = np.equal(np.argmax(test_rounded_predictions,1),np.argmax(y_test,1))\n",
    "    print()\n",
    "    print(test_correct_predictions)\n",
    "    print(type(test_correct_predictions))\n",
    "    final_test_prediction_results=Counter(test_correct_predictions)\n",
    "    \n",
    "    success = np.mean(test_rounded_predictions == y_test)*100\n",
    "    \n",
    "    return final_test_prediction_results, success"
   ]
  },
  {
   "cell_type": "code",
   "execution_count": 40,
   "metadata": {},
   "outputs": [
    {
     "name": "stdout",
     "output_type": "stream",
     "text": [
      "2/2 [==============================] - 0s 83ms/step - loss: 2.9272 - accuracy: 0.5306\n",
      "[[1. 0.]\n",
      " [0. 1.]\n",
      " [0. 1.]\n",
      " [1. 0.]\n",
      " [0. 1.]\n",
      " [0. 1.]\n",
      " [0. 1.]\n",
      " [0. 1.]\n",
      " [0. 1.]\n",
      " [0. 1.]\n",
      " [0. 1.]\n",
      " [1. 0.]\n",
      " [0. 1.]\n",
      " [0. 1.]\n",
      " [0. 1.]\n",
      " [0. 1.]\n",
      " [0. 1.]\n",
      " [0. 1.]\n",
      " [0. 1.]\n",
      " [0. 1.]]\n",
      "\n",
      "[ True False False  True False False False False False False False  True\n",
      "  True  True  True  True  True  True  True  True  True  True  True  True\n",
      " False False  True False False  True  True False  True  True  True  True\n",
      "  True  True  True False False False  True False False False False False\n",
      " False]\n",
      "<class 'numpy.ndarray'>\n",
      "Counter({True: 26, False: 23}) 53.06122448979592\n"
     ]
    }
   ],
   "source": [
    "accuracy, success = predictWithModel(model, X_test, y_test, 402,404)\n",
    "print(accuracy, success)"
   ]
  },
  {
   "cell_type": "code",
   "execution_count": null,
   "metadata": {},
   "outputs": [],
   "source": []
  }
 ],
 "metadata": {
  "kernelspec": {
   "display_name": "Python 3",
   "language": "python",
   "name": "python3"
  },
  "language_info": {
   "codemirror_mode": {
    "name": "ipython",
    "version": 3
   },
   "file_extension": ".py",
   "mimetype": "text/x-python",
   "name": "python",
   "nbconvert_exporter": "python",
   "pygments_lexer": "ipython3",
   "version": "3.8.5"
  }
 },
 "nbformat": 4,
 "nbformat_minor": 4
}
