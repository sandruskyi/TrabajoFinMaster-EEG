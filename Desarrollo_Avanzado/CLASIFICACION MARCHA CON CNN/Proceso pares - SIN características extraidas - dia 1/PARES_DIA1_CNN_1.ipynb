{
 "cells": [
  {
   "cell_type": "markdown",
   "metadata": {},
   "source": [
    "# Parte 4: Clasificación con CNN"
   ]
  },
  {
   "cell_type": "markdown",
   "metadata": {},
   "source": [
    "### Resultados con la arquitectura anterior: "
   ]
  },
  {
   "cell_type": "markdown",
   "metadata": {},
   "source": [
    "primero\n",
    "\n"
   ]
  },
  {
   "cell_type": "markdown",
   "metadata": {},
   "source": [
    "### Cambios realizados"
   ]
  },
  {
   "cell_type": "markdown",
   "metadata": {},
   "source": []
  },
  {
   "cell_type": "markdown",
   "metadata": {},
   "source": [
    "### Nuevos resultados: "
   ]
  },
  {
   "cell_type": "markdown",
   "metadata": {},
   "source": [
    "Resultados:\n",
    "    \n",
    "    TRAIN                   DEV\n",
    "    loss       accuracy     val_loss    val_accuracy\n",
    "    0.001644\t1.0\t        25.486208\t0.438776\n",
    "    \n",
    "Por tanto: \n",
    "\n",
    "    E = 1 - Accuracy\n",
    "    Etrain = 1 - 1.0\t = 0\n",
    "    Etest = 1 - 0.438776 = 0.561224\n",
    "    \n",
    "    Bias = Etrain - Ehuman = 0\n",
    "    Variance = Etest - Etrain = 0.561224 \n",
    "\n",
    "El bias es muy bajo pero la varianza es muy alta (56%). Para ello habrá que o regularizar, o cambiar la arquitectura (menos neuronas => Mejor varianza, más capas => mayor abstracción), o añadir más datos (cosa que no es posible). \n",
    "\n",
    "Los resultados son horrorosos porque se observa overfitting desde el inicio. \n"
   ]
  },
  {
   "cell_type": "markdown",
   "metadata": {},
   "source": [
    "### 1 - Import Libraries"
   ]
  },
  {
   "cell_type": "code",
   "execution_count": 1,
   "metadata": {},
   "outputs": [],
   "source": [
    "# Tensorflow and tf.keras\n",
    "import tensorflow as tf\n",
    "from tensorflow import keras\n",
    "\n",
    "#Helper libraries\n",
    "import matplotlib.pyplot as plt\n",
    "import pandas as pd\n",
    "import numpy as np\n",
    "\n",
    "# Signal libraries\n",
    "from scipy import signal\n"
   ]
  },
  {
   "cell_type": "markdown",
   "metadata": {},
   "source": [
    "### 2 - Load data"
   ]
  },
  {
   "cell_type": "code",
   "execution_count": 2,
   "metadata": {},
   "outputs": [],
   "source": [
    "class ROutput:\n",
    "    def __init__(self, task, data):\n",
    "        self.task = task\n",
    "        self.data = data\n",
    "        \n",
    "class OutTaskData: \n",
    "    def __init__(self, task, data): \n",
    "        self.task = task\n",
    "        self.data = data"
   ]
  },
  {
   "cell_type": "code",
   "execution_count": 3,
   "metadata": {},
   "outputs": [],
   "source": [
    "import scipy.io as sio\n",
    "# Primero leemos los registros\n",
    "def read_outputs(rec):\n",
    "    '''read_outputs(\"userS0091f1.mat\")'''\n",
    "    mat = sio.loadmat(rec)\n",
    "    mdata = mat['session']\n",
    "    val = mdata[0,0]\n",
    "    #output = ROutput(np.array(val[\"task\"]), np.array(val[\"data\"]))\n",
    "    output = ROutput(np.array(val[\"task_EEG\"]), np.array(val[\"data_EEG\"]))\n",
    "    return output"
   ]
  },
  {
   "cell_type": "markdown",
   "metadata": {},
   "source": [
    "### Cargamos los datos"
   ]
  },
  {
   "cell_type": "code",
   "execution_count": 4,
   "metadata": {},
   "outputs": [],
   "source": [
    "# Configuración\n",
    "from sklearn.pipeline import make_pipeline\n",
    "from sklearn.preprocessing import StandardScaler, OneHotEncoder\n",
    "from sklearn.linear_model import Perceptron\n",
    "from keras.utils import to_categorical\n",
    "\n",
    "\n",
    "task1 = 402 # SE PUEDE CAMBIAR\n",
    "task2 = 404 # SE PUEDE CAMBIAR\n",
    "task_OneHotEnconding = {402: [1.,0.], 404: [0.,1.]}\n",
    "user = 'W29' # SE PUEDE CAMBIAR\n",
    "day = '0401'\n",
    "folder_day = 'W29-01_04_2021'\n",
    "total_records = 22 # CAMBIAR SI HAY MAS REGISTROS\n",
    "fm = 200\n",
    "electrodes_names_selected = ['F3', 'FZ', 'FC1','FCZ','C1','CZ','CP1','CPZ', 'FC5', 'FC3','C5','C3','CP5','CP3','P3',\n",
    "                             'PZ','F4','FC2','FC4','FC6','C2','C4','CP2','CP4','C6','CP6','P4','HR' ,'HL', 'VU', 'VD']\n",
    "number_channels = len(electrodes_names_selected)\n"
   ]
  },
  {
   "cell_type": "code",
   "execution_count": 5,
   "metadata": {},
   "outputs": [
    {
     "name": "stdout",
     "output_type": "stream",
     "text": [
      "11 22\n"
     ]
    }
   ],
   "source": [
    "# Lectura de registros\n",
    "lTaskData = []\n",
    "\n",
    "total_records_used = 0\n",
    "for i_rec in range(1,total_records+1):\n",
    "    i_rec_record = i_rec\n",
    "    if i_rec_record <10:\n",
    "        i_rec_record = \"0\"+str(i_rec_record)\n",
    "    if i_rec % 2 == 0: # Registros impares primero: USUARIO SIN MOVIMIENTO SOLO PENSANDO\n",
    "        record = \"./RegistrosSinProcesar/\"+folder_day+\"/W29_2021\"+day+\"_openloop_\"+str(i_rec_record)+\".mat\"\n",
    "        output = read_outputs(record) # output.task será y, output.data será x\n",
    "\n",
    "        outT = (output.task == task1) | (output.task == task2)\n",
    "\n",
    "        outData = output.data[0:np.shape(output.data)[0], outT[0,:]]\n",
    "        outTask = output.task[0, outT[0,:]]\n",
    "        outTD = OutTaskData(outTask, outData)\n",
    "        lTaskData.append(outTD)\n",
    "        total_records_used+=1\n",
    "\n",
    "print(total_records_used, total_records)"
   ]
  },
  {
   "cell_type": "code",
   "execution_count": 6,
   "metadata": {},
   "outputs": [
    {
     "name": "stdout",
     "output_type": "stream",
     "text": [
      "X_train: (8, 31, 5600)\n",
      "y_train: (8, 5600)\n",
      "X_dev: (2, 31, 5600)\n",
      "y_dev: (2, 5600)\n",
      "X_test: (1, 31, 5600)\n",
      "y_test: (1, 5600)\n",
      "WINDOWING & ONE HOT ENCODER:\n",
      "X_train: (392, 31, 300, 1)\n",
      "y_train: (392, 2)\n",
      "X_dev: (98, 31, 300, 1)\n",
      "y_dev: (98, 2)\n",
      "X_test: (49, 31, 300, 1)\n",
      "y_test: (49, 2)\n"
     ]
    }
   ],
   "source": [
    "# Vamos a coger 2 registros para el entrenamiento, 1 para el conjunto dev set, 1 para el test set\n",
    "X_train, y_train, X_dev, y_dev, X_test, y_test = [],[],[],[],[],[] \n",
    "for j in range(0,total_records_used-3): # Cogemos 8 registros para entrenamiento\n",
    "    X_train.append(lTaskData[j].data)\n",
    "    y_train.append(lTaskData[j].task)\n",
    "\n",
    "for j in range(total_records_used-3,total_records_used-1): # Cogemos 2 registros para el dev set\n",
    "    X_dev.append(lTaskData[j].data)\n",
    "    y_dev.append(lTaskData[j].task)\n",
    "for j in range(total_records_used-1,total_records_used): # Cogemos 1 registros para el test set\n",
    "    X_test.append(lTaskData[j].data)\n",
    "    y_test.append(lTaskData[j].task)\n",
    "\n",
    "X_train = np.array(X_train)\n",
    "#y_train = np.ravel(np.array(y_train))\n",
    "y_train = np.array(y_train)\n",
    "X_dev = np.array(X_dev)\n",
    "#y_dev = np.ravel(np.array(y_dev))\n",
    "y_dev = np.array(y_dev)\n",
    "X_test = np.array(X_test)\n",
    "y_test = np.array(y_test)\n",
    "#y_test = np.ravel(np.array(y_test))\n",
    "\n",
    "print (\"X_train:\",X_train.shape)\n",
    "print (\"y_train:\",y_train.shape)\n",
    "print (\"X_dev:\",X_dev.shape)\n",
    "print (\"y_dev:\",y_dev.shape)\n",
    "print (\"X_test:\",X_test.shape)\n",
    "print (\"y_test:\",y_test.shape)\n",
    "\n",
    "\n",
    "# VENTANEO Y ONE HOT ENCODING \n",
    "window = 300\n",
    "samples_advance = 100\n",
    "\n",
    "# Ventaneo X_train\n",
    "\n",
    "X_train_l = []\n",
    "y_train_l = []\n",
    "for num_X_train in range(np.shape(X_train)[0]):\n",
    "    win_init = int(0)\n",
    "    window_position = 0\n",
    "    \n",
    "    for i in range(np.shape(X_train)[2]): # For each signal registered\n",
    "        win_end = int(win_init + window)\n",
    "        if win_end >= np.shape(X_train)[2]:\n",
    "            break\n",
    "\n",
    "        task = np.unique(y_train[num_X_train,win_init:win_end])\n",
    "\n",
    "        if len(task)==1:\n",
    "        #if task1 in task or task2 in task:\n",
    "            signal_window = X_train[num_X_train, :, win_init:win_end]\n",
    "            \n",
    "            #data_filtered = preprocessing(signal_window, fm, number_channels)\n",
    "            #X_train_l.append(data_filtered)\n",
    "            X_train_l.append(signal_window)\n",
    "            taskOH = task_OneHotEnconding[task[0]]\n",
    "            y_train_l.append(taskOH)\n",
    "            \n",
    "        win_init += int(samples_advance)\n",
    "\n",
    "X_train_l = np.array(X_train_l)\n",
    "y_train_l = np.array(y_train_l)\n",
    "\n",
    "\n",
    "# Ventaneo X_dev\n",
    "X_dev_l = []\n",
    "y_dev_l = []\n",
    "for num_X_dev in range(np.shape(X_dev)[0]):\n",
    "    win_init = int(0)\n",
    "    window_position = 0\n",
    "    \n",
    "    for i in range(np.shape(X_dev)[2]): # For each signal registered\n",
    "        win_end = int(win_init + window)\n",
    "        if win_end >= np.shape(X_dev)[2]:\n",
    "            break\n",
    "\n",
    "        task = np.unique(y_dev[num_X_dev,win_init:win_end])\n",
    "\n",
    "        if len(task)==1:\n",
    "        #if task1 in task or task2 in task:\n",
    "            signal_window = X_dev[num_X_dev, :, win_init:win_end]\n",
    "            \n",
    "            #data_filtered = preprocessing(signal_window, fm, number_channels)\n",
    "            #X_train_l.append(data_filtered)\n",
    "            X_dev_l.append(signal_window)\n",
    "            taskOH = task_OneHotEnconding[task[0]]\n",
    "            y_dev_l.append(taskOH)\n",
    "            \n",
    "        win_init += int(samples_advance)\n",
    "\n",
    "X_dev_l = np.array(X_dev_l)\n",
    "y_dev_l = np.array(y_dev_l)\n",
    "\n",
    "# Ventaneo X_test\n",
    "X_test_l = []\n",
    "y_test_l = []\n",
    "for num_X_test in range(np.shape(X_test)[0]):\n",
    "    win_init = int(0)\n",
    "    window_position = 0\n",
    "    \n",
    "    for i in range(np.shape(X_test)[2]): # For each signal registered\n",
    "        win_end = int(win_init + window)\n",
    "        if win_end >= np.shape(X_test)[2]:\n",
    "            break\n",
    "\n",
    "        task = np.unique(y_test[num_X_test,win_init:win_end])\n",
    "\n",
    "        if len(task)==1:\n",
    "        #if task1 in task or task2 in task:\n",
    "            signal_window = X_test[num_X_test, :, win_init:win_end]\n",
    "            \n",
    "            #data_filtered = preprocessing(signal_window, fm, number_channels)\n",
    "            #X_train_l.append(data_filtered)\n",
    "            X_test_l.append(signal_window)\n",
    "            taskOH = task_OneHotEnconding[task[0]]\n",
    "            y_test_l.append(taskOH)\n",
    "            \n",
    "        win_init += int(samples_advance)\n",
    "\n",
    "X_test_l = np.array(X_test_l)\n",
    "y_test_l = np.array(y_test_l)\n",
    "\n",
    "\n",
    "\n",
    "\n",
    "X_train_l = X_train_l.reshape((np.shape(X_train_l)[0],np.shape(X_train_l)[1],np.shape(X_train_l)[2], 1))\n",
    "X_dev_l = X_dev_l.reshape((np.shape(X_dev_l)[0],np.shape(X_dev_l)[1],np.shape(X_dev_l)[2], 1))\n",
    "X_test_l = X_test_l.reshape((np.shape(X_test_l)[0],np.shape(X_test_l)[1],np.shape(X_test_l)[2], 1))\n",
    "\n",
    "\n",
    "print(\"WINDOWING & ONE HOT ENCODER:\")\n",
    "print (\"X_train:\",X_train_l.shape)\n",
    "print (\"y_train:\",y_train_l.shape)\n",
    "print (\"X_dev:\",X_dev_l.shape)\n",
    "print (\"y_dev:\",y_dev_l.shape)\n",
    "print (\"X_test:\",X_test_l.shape)\n",
    "print (\"y_test:\",y_test_l.shape)\n",
    "\n",
    "X_train = X_train_l\n",
    "y_train = y_train_l\n",
    "X_dev = X_dev_l\n",
    "y_dev = y_dev_l\n",
    "X_test = X_test_l\n",
    "y_test = y_test_l"
   ]
  },
  {
   "cell_type": "markdown",
   "metadata": {},
   "source": [
    "### 3. Initialize variables"
   ]
  },
  {
   "cell_type": "code",
   "execution_count": 7,
   "metadata": {},
   "outputs": [],
   "source": [
    "INPUTS = X_train.shape[1]\n",
    "OUTPUTS = y_train.shape[1]\n",
    "NUM_TRAINING_EXAMPLES = int(round(X_train.shape[0]/1))\n",
    "NUM_DEV_EXAMPLES = int(round(y_train.shape[0]/1))"
   ]
  },
  {
   "cell_type": "markdown",
   "metadata": {},
   "source": [
    "Some data is displayed to test correctness:"
   ]
  },
  {
   "cell_type": "code",
   "execution_count": 8,
   "metadata": {},
   "outputs": [
    {
     "data": {
      "text/plain": [
       "array([[[[   1.05922842],\n",
       "         [   2.78156328],\n",
       "         [  12.37676525],\n",
       "         ...,\n",
       "         [ -36.37259293],\n",
       "         [ -28.7280426 ],\n",
       "         [ -33.56076813]],\n",
       "\n",
       "        [[  24.22254372],\n",
       "         [  26.2840538 ],\n",
       "         [  35.65241241],\n",
       "         ...,\n",
       "         [ -35.03970718],\n",
       "         [ -27.40374947],\n",
       "         [ -30.37581444]],\n",
       "\n",
       "        [[  13.97421932],\n",
       "         [  15.38177681],\n",
       "         [  22.68283081],\n",
       "         ...,\n",
       "         [ -26.08811378],\n",
       "         [ -18.37837791],\n",
       "         [ -21.90642166]],\n",
       "\n",
       "        ...,\n",
       "\n",
       "        [[  53.27894974],\n",
       "         [  59.78120041],\n",
       "         [  74.65661621],\n",
       "         ...,\n",
       "         [-126.25900269],\n",
       "         [-125.80121613],\n",
       "         [-127.17373657]],\n",
       "\n",
       "        [[   2.00171304],\n",
       "         [   3.11324358],\n",
       "         [  16.44838715],\n",
       "         ...,\n",
       "         [ -64.34633636],\n",
       "         [ -60.36686325],\n",
       "         [ -62.32144547]],\n",
       "\n",
       "        [[ -21.72632599],\n",
       "         [ -25.83040619],\n",
       "         [ -29.79340363],\n",
       "         ...,\n",
       "         [  -4.18305111],\n",
       "         [  -8.80941582],\n",
       "         [  -6.68447447]]],\n",
       "\n",
       "\n",
       "       [[[ -25.8978138 ],\n",
       "         [ -18.6819458 ],\n",
       "         [ -26.24561119],\n",
       "         ...,\n",
       "         [ -41.94849014],\n",
       "         [ -58.91005325],\n",
       "         [ -52.42457581]],\n",
       "\n",
       "        [[   4.67067385],\n",
       "         [  10.95300198],\n",
       "         [   3.14939141],\n",
       "         ...,\n",
       "         [ -16.24900627],\n",
       "         [ -33.76229095],\n",
       "         [ -25.99932098]],\n",
       "\n",
       "        [[  -5.42697239],\n",
       "         [   3.11662292],\n",
       "         [  -4.63280869],\n",
       "         ...,\n",
       "         [ -19.36476707],\n",
       "         [ -36.98393631],\n",
       "         [ -28.59781837]],\n",
       "\n",
       "        ...,\n",
       "\n",
       "        [[  66.55978394],\n",
       "         [  67.80919647],\n",
       "         [  66.72714996],\n",
       "         ...,\n",
       "         [ -39.30596542],\n",
       "         [ -42.74671936],\n",
       "         [ -49.74935913]],\n",
       "\n",
       "        [[ -40.01016235],\n",
       "         [ -33.93629837],\n",
       "         [ -44.86202621],\n",
       "         ...,\n",
       "         [ -56.28870773],\n",
       "         [ -63.536129  ],\n",
       "         [ -69.40645599]],\n",
       "\n",
       "        [[   9.88655186],\n",
       "         [   4.94187117],\n",
       "         [  -5.91534662],\n",
       "         ...,\n",
       "         [  -8.30506325],\n",
       "         [ -24.11692619],\n",
       "         [ -26.13033295]]]])"
      ]
     },
     "execution_count": 8,
     "metadata": {},
     "output_type": "execute_result"
    }
   ],
   "source": [
    "X_train[:2]"
   ]
  },
  {
   "cell_type": "code",
   "execution_count": 9,
   "metadata": {},
   "outputs": [
    {
     "data": {
      "text/plain": [
       "array([[[[-3.55368710e+00],\n",
       "         [-9.55968285e+00],\n",
       "         [-9.63614368e+00],\n",
       "         ...,\n",
       "         [-7.17912979e+01],\n",
       "         [-6.19666786e+01],\n",
       "         [-6.81943359e+01]],\n",
       "\n",
       "        [[ 5.72333860e+00],\n",
       "         [-1.05083883e+00],\n",
       "         [-5.09739447e+00],\n",
       "         ...,\n",
       "         [-5.98232031e+00],\n",
       "         [ 3.29845285e+00],\n",
       "         [ 2.43864250e+00]],\n",
       "\n",
       "        [[ 1.92305679e+01],\n",
       "         [ 1.34838505e+01],\n",
       "         [ 1.12516832e+01],\n",
       "         ...,\n",
       "         [-2.51391363e+00],\n",
       "         [ 7.81327486e+00],\n",
       "         [ 4.11358643e+00]],\n",
       "\n",
       "        ...,\n",
       "\n",
       "        [[-2.28754120e+01],\n",
       "         [-3.01858349e+01],\n",
       "         [-3.36836777e+01],\n",
       "         ...,\n",
       "         [-8.32489777e+00],\n",
       "         [-1.64226377e+00],\n",
       "         [-3.05048561e+00]],\n",
       "\n",
       "        [[-2.09964695e+01],\n",
       "         [-2.87392273e+01],\n",
       "         [-2.88011379e+01],\n",
       "         ...,\n",
       "         [-7.84139557e+01],\n",
       "         [-7.43264313e+01],\n",
       "         [-7.95006485e+01]],\n",
       "\n",
       "        [[ 1.39321632e+01],\n",
       "         [ 1.00164948e+01],\n",
       "         [ 4.83290672e+00],\n",
       "         ...,\n",
       "         [ 6.47140503e+00],\n",
       "         [ 8.78861713e+00],\n",
       "         [-3.21027923e+00]]],\n",
       "\n",
       "\n",
       "       [[[-2.70412135e+00],\n",
       "         [ 1.40344515e-01],\n",
       "         [-2.48797464e+00],\n",
       "         ...,\n",
       "         [-1.24208710e+02],\n",
       "         [-1.30344437e+02],\n",
       "         [-1.17919540e+02]],\n",
       "\n",
       "        [[-1.24002943e+01],\n",
       "         [-8.14046288e+00],\n",
       "         [-7.24236298e+00],\n",
       "         ...,\n",
       "         [-6.49409580e+00],\n",
       "         [-1.09720535e+01],\n",
       "         [ 2.95427871e+00]],\n",
       "\n",
       "        [[ 4.59895468e+00],\n",
       "         [ 8.37252522e+00],\n",
       "         [ 8.56712437e+00],\n",
       "         ...,\n",
       "         [-1.86697197e+01],\n",
       "         [-2.48701248e+01],\n",
       "         [-1.03557940e+01]],\n",
       "\n",
       "        ...,\n",
       "\n",
       "        [[-3.33158798e+01],\n",
       "         [-2.91866188e+01],\n",
       "         [-3.38542786e+01],\n",
       "         ...,\n",
       "         [ 2.07278633e+01],\n",
       "         [ 1.38771029e+01],\n",
       "         [ 1.85666084e+01]],\n",
       "\n",
       "        [[ 6.18390608e+00],\n",
       "         [ 1.33524981e+01],\n",
       "         [ 5.15543652e+00],\n",
       "         ...,\n",
       "         [-1.41995636e+02],\n",
       "         [-1.48501755e+02],\n",
       "         [-1.39249069e+02]],\n",
       "\n",
       "        [[ 2.01151047e+01],\n",
       "         [ 2.85450325e+01],\n",
       "         [ 2.55099354e+01],\n",
       "         ...,\n",
       "         [-1.02244778e+01],\n",
       "         [-1.44616013e+01],\n",
       "         [-7.30726767e+00]]]])"
      ]
     },
     "execution_count": 9,
     "metadata": {},
     "output_type": "execute_result"
    }
   ],
   "source": [
    "X_dev[:2]"
   ]
  },
  {
   "cell_type": "code",
   "execution_count": 10,
   "metadata": {},
   "outputs": [
    {
     "data": {
      "text/plain": [
       "array([[1., 0.],\n",
       "       [1., 0.]])"
      ]
     },
     "execution_count": 10,
     "metadata": {},
     "output_type": "execute_result"
    }
   ],
   "source": [
    "y_train[:2]"
   ]
  },
  {
   "cell_type": "code",
   "execution_count": 11,
   "metadata": {},
   "outputs": [
    {
     "data": {
      "text/plain": [
       "array([0., 1.])"
      ]
     },
     "execution_count": 11,
     "metadata": {},
     "output_type": "execute_result"
    }
   ],
   "source": [
    "y_train[-20]"
   ]
  },
  {
   "cell_type": "code",
   "execution_count": 12,
   "metadata": {},
   "outputs": [
    {
     "data": {
      "text/plain": [
       "array([[1., 0.],\n",
       "       [1., 0.]])"
      ]
     },
     "execution_count": 12,
     "metadata": {},
     "output_type": "execute_result"
    }
   ],
   "source": [
    "y_dev[:2]"
   ]
  },
  {
   "cell_type": "code",
   "execution_count": 13,
   "metadata": {},
   "outputs": [
    {
     "data": {
      "text/plain": [
       "(31, 300, 1)"
      ]
     },
     "execution_count": 13,
     "metadata": {},
     "output_type": "execute_result"
    }
   ],
   "source": [
    "X_dev[0].shape"
   ]
  },
  {
   "cell_type": "code",
   "execution_count": 14,
   "metadata": {},
   "outputs": [
    {
     "data": {
      "text/plain": [
       "(98, 31, 300, 1)"
      ]
     },
     "execution_count": 14,
     "metadata": {},
     "output_type": "execute_result"
    }
   ],
   "source": [
    "X_dev.shape"
   ]
  },
  {
   "cell_type": "code",
   "execution_count": 15,
   "metadata": {},
   "outputs": [
    {
     "data": {
      "text/plain": [
       "(392, 31, 300, 1)"
      ]
     },
     "execution_count": 15,
     "metadata": {},
     "output_type": "execute_result"
    }
   ],
   "source": [
    "X_train.shape"
   ]
  },
  {
   "cell_type": "code",
   "execution_count": 16,
   "metadata": {},
   "outputs": [
    {
     "data": {
      "text/plain": [
       "2"
      ]
     },
     "execution_count": 16,
     "metadata": {},
     "output_type": "execute_result"
    }
   ],
   "source": [
    "y_train.shape[1]"
   ]
  },
  {
   "cell_type": "markdown",
   "metadata": {},
   "source": [
    "### 4 - Set hyperparameters"
   ]
  },
  {
   "cell_type": "code",
   "execution_count": 17,
   "metadata": {},
   "outputs": [],
   "source": [
    "# Tensorboard\n",
    "from time import time\n",
    "from keras.callbacks import TensorBoard\n",
    "tensorboard = TensorBoard(log_dir='logs/{}'.format(time()))"
   ]
  },
  {
   "cell_type": "code",
   "execution_count": 18,
   "metadata": {},
   "outputs": [
    {
     "data": {
      "text/plain": [
       "'\\nn_epochs = 100 #2000\\n#learning_rate = 0.001\\nbatch_size = 32 #250 \\nn_neurons_per_hlayer = [500, 250, 75, 25] # Number of units per layer, 4 hidden layers\\nrate_dropout = [0.8, 0.4, 0.2, 0.1]\\nweight_decay = 1e-4\\n'"
      ]
     },
     "execution_count": 18,
     "metadata": {},
     "output_type": "execute_result"
    }
   ],
   "source": [
    "\"\"\"\n",
    "n_epochs = 100 #2000\n",
    "#learning_rate = 0.001\n",
    "batch_size = 32 #250 \n",
    "n_neurons_per_hlayer = [500, 250, 75, 25] # Number of units per layer, 4 hidden layers\n",
    "rate_dropout = [0.8, 0.4, 0.2, 0.1]\n",
    "weight_decay = 1e-4\n",
    "\"\"\""
   ]
  },
  {
   "cell_type": "markdown",
   "metadata": {},
   "source": [
    "### 5 - Build the model: "
   ]
  },
  {
   "cell_type": "code",
   "execution_count": 19,
   "metadata": {},
   "outputs": [
    {
     "name": "stdout",
     "output_type": "stream",
     "text": [
      "Model: \"sequential\"\n",
      "_________________________________________________________________\n",
      "Layer (type)                 Output Shape              Param #   \n",
      "=================================================================\n",
      "conv2d (Conv2D)              (None, 31, 300, 4)        104       \n",
      "_________________________________________________________________\n",
      "conv2d_1 (Conv2D)            (None, 31, 300, 4)        500       \n",
      "_________________________________________________________________\n",
      "max_pooling2d (MaxPooling2D) (None, 15, 150, 4)        0         \n",
      "_________________________________________________________________\n",
      "flatten (Flatten)            (None, 9000)              0         \n",
      "_________________________________________________________________\n",
      "dense (Dense)                (None, 2)                 18002     \n",
      "=================================================================\n",
      "Total params: 18,606\n",
      "Trainable params: 18,606\n",
      "Non-trainable params: 0\n",
      "_________________________________________________________________\n"
     ]
    }
   ],
   "source": [
    "from keras.models import Sequential\n",
    "from keras.layers import Dense, Dropout, Activation, Flatten, DepthwiseConv2D\n",
    "from keras.layers.convolutional import Conv2D, MaxPooling2D\n",
    "from keras import optimizers, regularizers\n",
    "import keras.backend as K\n",
    "#K.set_image_data_format('channels_first')\n",
    "\n",
    "weight_decay = 1e-4\n",
    "\n",
    "model = Sequential()\n",
    "# Convolution2D(filtrosConv1, tamaño_filtro1, padding=\"same\", input_shape=(longitud, altura,3), activation = \"relu\")\n",
    "    # - filtrosConv1 número de filtros que aplicaremos tras la primera convolución, normalmente este tamaño va a aumentando\n",
    "    # tras convoluciones para que aumente la dimensión de profundidad (qué cosas hay en mi imagen)\n",
    "    # - tamaño_filtro1 tamaño espacial del kernel (de los filtros)\n",
    "    # - padding = si es same es que es igual que la imagen, vamos crea una imagen del mismo tamaño con el filtro, si es \n",
    "    # valid es que no hay padding y crea una imagen más pequeña que la imagen (creo)\n",
    "    # - input_shape = longitud y altura, tamaño que usará para convolucionar al entrenar\n",
    "    \n",
    "# CAPA PARA FILTRADO TEMPORAL\n",
    "model.add(Conv2D(filters = 4, kernel_size=(1,25), padding=\"same\", activation=\"relu\",input_shape=(31, 300,1 ), kernel_initializer=\"he_normal\", kernel_regularizer=regularizers.l2(weight_decay)))\n",
    "# CAPA PARA FILTRADO ESPACIAL\n",
    "model.add(Conv2D(filters = 4, kernel_size=(31,1), padding=\"same\", activation=\"relu\", kernel_initializer=\"he_normal\", kernel_regularizer=regularizers.l2(weight_decay)))\n",
    "\n",
    "model.add(MaxPooling2D(pool_size=(2, 2)))\n",
    "\"\"\"\n",
    "model.add(Dropout(0.5))\n",
    "\n",
    "## Siguientes capas convolucionales: \n",
    "model.add(Conv2D(20, (3,3), padding='same',activation='relu', kernel_initializer=\"he_normal\",kernel_regularizer=regularizers.l2(weight_decay)))\n",
    "model.add(MaxPooling2D(pool_size=(2,2)))\n",
    "model.add(Dropout(0.4))\n",
    "\n",
    "model.add(Conv2D(40, (3,3), padding='same',activation='relu', kernel_initializer=\"he_normal\",kernel_regularizer=regularizers.l2(weight_decay)))\n",
    "model.add(MaxPooling2D(pool_size=(2,2)))\n",
    "model.add(Dropout(0.3))\n",
    "\n",
    "\n",
    "model.add(Conv2D(80, (3,3), padding='same',activation='relu', kernel_initializer=\"he_normal\",kernel_regularizer=regularizers.l2(weight_decay)))\n",
    "model.add(MaxPooling2D(pool_size=(2,2)))\n",
    "model.add(Dropout(0.2))\n",
    "\"\"\"\n",
    "\"\"\"\n",
    "model.add(Conv2D(160, (3,3), padding='same',activation='relu', kernel_initializer=\"he_normal\",kernel_regularizer=regularizers.l2(weight_decay)))\n",
    "model.add(MaxPooling2D(pool_size=(2,2)))\n",
    "\"\"\"\n",
    "\n",
    "\n",
    "\"\"\"\n",
    "model.add(MaxPooling2D(pool_size=(2, 2)))\n",
    "model.add(Dropout(0.5))\n",
    "\n",
    "\n",
    "model.add(Conv2D(96, (3, 3), padding='same',activation='relu', kernel_initializer=\"he_normal\",kernel_regularizer=regularizers.l2(weight_decay)))\n",
    "#model.add(Conv2D(96, (3, 3), padding='same',activation='relu', kernel_initializer=\"he_normal\", kernel_regularizer=regularizers.l2(weight_decay)))\n",
    "model.add(MaxPooling2D(pool_size=(2, 2)))\n",
    "model.add(Dropout(0.2))\n",
    "\n",
    "model.add(Conv2D(192, (3, 3), padding='same',activation='relu', kernel_initializer=\"he_normal\", kernel_regularizer=regularizers.l2(weight_decay)))\n",
    "#model.add(Conv2D(192, (3, 3), padding='same',activation='relu', kernel_initializer=\"he_normal\", kernel_regularizer=regularizers.l2(weight_decay)))\n",
    "model.add(MaxPooling2D(pool_size=(2, 2)))\n",
    "model.add(Dropout(0.1))\n",
    "\"\"\"\n",
    "\n",
    "model.add(Flatten())\n",
    "model.add(Dense(y_train.shape[1], activation=\"softmax\"))\n",
    "\n",
    "opt = optimizers.Adam(lr=0.001, beta_1=0.9, beta_2=0.999)        \n",
    "model.compile(optimizer=opt, loss='categorical_crossentropy', metrics=['accuracy'])\n",
    "model.summary()"
   ]
  },
  {
   "cell_type": "code",
   "execution_count": 20,
   "metadata": {},
   "outputs": [
    {
     "data": {
      "text/plain": [
       "[<tensorflow.python.keras.layers.convolutional.Conv2D at 0x22a10fab550>,\n",
       " <tensorflow.python.keras.layers.convolutional.Conv2D at 0x22a101893a0>,\n",
       " <tensorflow.python.keras.layers.pooling.MaxPooling2D at 0x22a101c8d30>,\n",
       " <tensorflow.python.keras.layers.core.Flatten at 0x22a101891c0>,\n",
       " <tensorflow.python.keras.layers.core.Dense at 0x22a101c8d60>]"
      ]
     },
     "execution_count": 20,
     "metadata": {},
     "output_type": "execute_result"
    }
   ],
   "source": [
    "model.layers"
   ]
  },
  {
   "cell_type": "code",
   "execution_count": 21,
   "metadata": {},
   "outputs": [
    {
     "name": "stdout",
     "output_type": "stream",
     "text": [
      "conv2d\n",
      "conv2d_1\n",
      "max_pooling2d\n",
      "flatten\n",
      "dense\n"
     ]
    }
   ],
   "source": [
    "for l in model.layers: print (l.name)"
   ]
  },
  {
   "cell_type": "markdown",
   "metadata": {},
   "source": [
    "All the parameters of a layer can bee accessed:"
   ]
  },
  {
   "cell_type": "code",
   "execution_count": 22,
   "metadata": {},
   "outputs": [
    {
     "data": {
      "text/plain": [
       "(1, 25, 1, 4)"
      ]
     },
     "execution_count": 22,
     "metadata": {},
     "output_type": "execute_result"
    }
   ],
   "source": [
    "weights, biases = model.layers[0].get_weights()\n",
    "weights.shape"
   ]
  },
  {
   "cell_type": "code",
   "execution_count": 23,
   "metadata": {},
   "outputs": [
    {
     "data": {
      "text/plain": [
       "array([[[[ 0.44220087,  0.47951838, -0.1495584 ,  0.2814844 ]],\n",
       "\n",
       "        [[-0.08136538,  0.14285944, -0.18356423, -0.14026563]],\n",
       "\n",
       "        [[ 0.07580703,  0.6216357 ,  0.02791446,  0.16245803]],\n",
       "\n",
       "        [[ 0.07544646,  0.1302963 , -0.11944715,  0.3621772 ]],\n",
       "\n",
       "        [[-0.22503588,  0.08456223,  0.02495377,  0.18966414]],\n",
       "\n",
       "        [[-0.2775548 ,  0.19017333, -0.53849906, -0.48413688]],\n",
       "\n",
       "        [[ 0.23125237,  0.24391606,  0.33790848,  0.3167078 ]],\n",
       "\n",
       "        [[-0.23781396,  0.54061306, -0.11286288,  0.4634773 ]],\n",
       "\n",
       "        [[ 0.1952087 ,  0.1028397 , -0.03967748, -0.06693976]],\n",
       "\n",
       "        [[-0.0408485 , -0.01955359, -0.11640771,  0.3771775 ]],\n",
       "\n",
       "        [[-0.11479988, -0.55058926, -0.19919781, -0.07410381]],\n",
       "\n",
       "        [[ 0.32748204,  0.3429448 ,  0.20075996, -0.5947161 ]],\n",
       "\n",
       "        [[-0.30248865, -0.22770585,  0.24981858,  0.21587974]],\n",
       "\n",
       "        [[ 0.10652866,  0.31512216,  0.04332427,  0.49300292]],\n",
       "\n",
       "        [[ 0.04224205, -0.37094644, -0.20146619, -0.31922007]],\n",
       "\n",
       "        [[-0.44015706, -0.07886018,  0.3604567 ,  0.33659163]],\n",
       "\n",
       "        [[-0.00308155,  0.29205713, -0.16121353,  0.29803187]],\n",
       "\n",
       "        [[-0.49376634, -0.2604567 , -0.10833694,  0.4385943 ]],\n",
       "\n",
       "        [[-0.339438  , -0.03651293, -0.01264303, -0.29909384]],\n",
       "\n",
       "        [[ 0.25019985,  0.21774419,  0.51203626,  0.27948314]],\n",
       "\n",
       "        [[-0.04978361, -0.63296497, -0.29975337,  0.3609811 ]],\n",
       "\n",
       "        [[-0.6231827 , -0.3365249 , -0.24848695,  0.30265135]],\n",
       "\n",
       "        [[-0.16179003, -0.16721487, -0.20533918,  0.15937802]],\n",
       "\n",
       "        [[-0.27063024,  0.11974288,  0.45869017,  0.04930328]],\n",
       "\n",
       "        [[ 0.30491912, -0.03433473, -0.24030265, -0.27650112]]]],\n",
       "      dtype=float32)"
      ]
     },
     "execution_count": 23,
     "metadata": {},
     "output_type": "execute_result"
    }
   ],
   "source": [
    "weights"
   ]
  },
  {
   "cell_type": "code",
   "execution_count": 24,
   "metadata": {},
   "outputs": [
    {
     "data": {
      "text/plain": [
       "array([0., 0., 0., 0.], dtype=float32)"
      ]
     },
     "execution_count": 24,
     "metadata": {},
     "output_type": "execute_result"
    }
   ],
   "source": [
    "biases # Bias de la primera capa: 500 bias inicializados a 0 "
   ]
  },
  {
   "cell_type": "code",
   "execution_count": 25,
   "metadata": {},
   "outputs": [
    {
     "data": {
      "text/plain": [
       "(4,)"
      ]
     },
     "execution_count": 25,
     "metadata": {},
     "output_type": "execute_result"
    }
   ],
   "source": [
    "biases.shape"
   ]
  },
  {
   "cell_type": "markdown",
   "metadata": {},
   "source": [
    "### 6. Compile the model"
   ]
  },
  {
   "cell_type": "markdown",
   "metadata": {},
   "source": [
    "### 7. Train the model with M-BGD"
   ]
  },
  {
   "cell_type": "code",
   "execution_count": 26,
   "metadata": {},
   "outputs": [
    {
     "name": "stdout",
     "output_type": "stream",
     "text": [
      "Epoch 1/100\n",
      "13/13 - 4s - loss: 62.7929 - accuracy: 0.5026 - val_loss: 81.3823 - val_accuracy: 0.5306\n",
      "Epoch 2/100\n",
      "13/13 - 3s - loss: 44.0392 - accuracy: 0.5459 - val_loss: 52.3169 - val_accuracy: 0.5102\n",
      "Epoch 3/100\n",
      "13/13 - 2s - loss: 8.9048 - accuracy: 0.6760 - val_loss: 40.1801 - val_accuracy: 0.4694\n",
      "Epoch 4/100\n",
      "13/13 - 2s - loss: 5.8458 - accuracy: 0.7321 - val_loss: 84.6925 - val_accuracy: 0.4388\n",
      "Epoch 5/100\n",
      "13/13 - 3s - loss: 4.9642 - accuracy: 0.7602 - val_loss: 24.7838 - val_accuracy: 0.4694\n",
      "Epoch 6/100\n",
      "13/13 - 2s - loss: 3.5882 - accuracy: 0.7653 - val_loss: 46.5637 - val_accuracy: 0.4694\n",
      "Epoch 7/100\n",
      "13/13 - 2s - loss: 2.1385 - accuracy: 0.8291 - val_loss: 25.0629 - val_accuracy: 0.5000\n",
      "Epoch 8/100\n",
      "13/13 - 2s - loss: 1.7417 - accuracy: 0.8342 - val_loss: 41.3813 - val_accuracy: 0.4694\n",
      "Epoch 9/100\n",
      "13/13 - 2s - loss: 0.9096 - accuracy: 0.8878 - val_loss: 19.5101 - val_accuracy: 0.5306\n",
      "Epoch 10/100\n",
      "13/13 - 2s - loss: 0.7957 - accuracy: 0.8852 - val_loss: 26.4046 - val_accuracy: 0.4592\n",
      "Epoch 11/100\n",
      "13/13 - 2s - loss: 1.2666 - accuracy: 0.8546 - val_loss: 27.3114 - val_accuracy: 0.4592\n",
      "Epoch 12/100\n",
      "13/13 - 2s - loss: 1.1197 - accuracy: 0.8673 - val_loss: 27.7906 - val_accuracy: 0.4082\n",
      "Epoch 13/100\n",
      "13/13 - 2s - loss: 0.4657 - accuracy: 0.9388 - val_loss: 45.6116 - val_accuracy: 0.4796\n",
      "Epoch 14/100\n",
      "13/13 - 2s - loss: 1.0104 - accuracy: 0.8724 - val_loss: 24.7982 - val_accuracy: 0.4490\n",
      "Epoch 15/100\n",
      "13/13 - 2s - loss: 0.5097 - accuracy: 0.9133 - val_loss: 23.6227 - val_accuracy: 0.4286\n",
      "Epoch 16/100\n",
      "13/13 - 2s - loss: 0.1189 - accuracy: 0.9617 - val_loss: 30.9698 - val_accuracy: 0.4694\n",
      "Epoch 17/100\n",
      "13/13 - 2s - loss: 0.1916 - accuracy: 0.9515 - val_loss: 28.7259 - val_accuracy: 0.4490\n",
      "Epoch 18/100\n",
      "13/13 - 2s - loss: 0.1298 - accuracy: 0.9694 - val_loss: 27.9165 - val_accuracy: 0.4694\n",
      "Epoch 19/100\n",
      "13/13 - 3s - loss: 0.0168 - accuracy: 0.9949 - val_loss: 29.2838 - val_accuracy: 0.4082\n",
      "Epoch 20/100\n",
      "13/13 - 2s - loss: 0.0261 - accuracy: 0.9949 - val_loss: 19.9607 - val_accuracy: 0.4796\n",
      "Epoch 21/100\n",
      "13/13 - 2s - loss: 0.0106 - accuracy: 0.9949 - val_loss: 28.0610 - val_accuracy: 0.4388\n",
      "Epoch 22/100\n",
      "13/13 - 3s - loss: 0.0067 - accuracy: 0.9974 - val_loss: 24.1923 - val_accuracy: 0.4388\n",
      "Epoch 23/100\n",
      "13/13 - 2s - loss: 0.0032 - accuracy: 1.0000 - val_loss: 23.4050 - val_accuracy: 0.4388\n",
      "Epoch 24/100\n",
      "13/13 - 2s - loss: 0.0019 - accuracy: 1.0000 - val_loss: 24.7302 - val_accuracy: 0.4388\n",
      "Epoch 25/100\n",
      "13/13 - 2s - loss: 0.0017 - accuracy: 1.0000 - val_loss: 25.2918 - val_accuracy: 0.4286\n",
      "Epoch 26/100\n",
      "13/13 - 3s - loss: 0.0017 - accuracy: 1.0000 - val_loss: 25.4801 - val_accuracy: 0.4286\n",
      "Epoch 27/100\n",
      "13/13 - 3s - loss: 0.0017 - accuracy: 1.0000 - val_loss: 25.5449 - val_accuracy: 0.4286\n",
      "Epoch 28/100\n",
      "13/13 - 2s - loss: 0.0017 - accuracy: 1.0000 - val_loss: 25.5134 - val_accuracy: 0.4286\n",
      "Epoch 29/100\n",
      "13/13 - 3s - loss: 0.0017 - accuracy: 1.0000 - val_loss: 25.4684 - val_accuracy: 0.4286\n",
      "Epoch 30/100\n",
      "13/13 - 3s - loss: 0.0017 - accuracy: 1.0000 - val_loss: 25.4753 - val_accuracy: 0.4286\n",
      "Epoch 31/100\n",
      "13/13 - 3s - loss: 0.0017 - accuracy: 1.0000 - val_loss: 25.4384 - val_accuracy: 0.4286\n",
      "Epoch 32/100\n",
      "13/13 - 3s - loss: 0.0017 - accuracy: 1.0000 - val_loss: 25.4826 - val_accuracy: 0.4286\n",
      "Epoch 33/100\n",
      "13/13 - 3s - loss: 0.0017 - accuracy: 1.0000 - val_loss: 25.4583 - val_accuracy: 0.4286\n",
      "Epoch 34/100\n",
      "13/13 - 3s - loss: 0.0017 - accuracy: 1.0000 - val_loss: 25.5503 - val_accuracy: 0.4286\n",
      "Epoch 35/100\n",
      "13/13 - 3s - loss: 0.0017 - accuracy: 1.0000 - val_loss: 25.5849 - val_accuracy: 0.4286\n",
      "Epoch 36/100\n",
      "13/13 - 3s - loss: 0.0017 - accuracy: 1.0000 - val_loss: 25.5944 - val_accuracy: 0.4286\n",
      "Epoch 37/100\n",
      "13/13 - 3s - loss: 0.0017 - accuracy: 1.0000 - val_loss: 25.5049 - val_accuracy: 0.4286\n",
      "Epoch 38/100\n",
      "13/13 - 2s - loss: 0.0017 - accuracy: 1.0000 - val_loss: 25.4921 - val_accuracy: 0.4286\n",
      "Epoch 39/100\n",
      "13/13 - 2s - loss: 0.0017 - accuracy: 1.0000 - val_loss: 25.4827 - val_accuracy: 0.4286\n",
      "Epoch 40/100\n",
      "13/13 - 2s - loss: 0.0017 - accuracy: 1.0000 - val_loss: 25.4989 - val_accuracy: 0.4286\n",
      "Epoch 41/100\n",
      "13/13 - 3s - loss: 0.0017 - accuracy: 1.0000 - val_loss: 25.5154 - val_accuracy: 0.4286\n",
      "Epoch 42/100\n",
      "13/13 - 3s - loss: 0.0017 - accuracy: 1.0000 - val_loss: 25.5662 - val_accuracy: 0.4286\n",
      "Epoch 43/100\n",
      "13/13 - 3s - loss: 0.0017 - accuracy: 1.0000 - val_loss: 25.5722 - val_accuracy: 0.4286\n",
      "Epoch 44/100\n",
      "13/13 - 2s - loss: 0.0017 - accuracy: 1.0000 - val_loss: 25.5368 - val_accuracy: 0.4286\n",
      "Epoch 45/100\n",
      "13/13 - 2s - loss: 0.0017 - accuracy: 1.0000 - val_loss: 25.5492 - val_accuracy: 0.4286\n",
      "Epoch 46/100\n",
      "13/13 - 2s - loss: 0.0017 - accuracy: 1.0000 - val_loss: 25.5363 - val_accuracy: 0.4286\n",
      "Epoch 47/100\n",
      "13/13 - 2s - loss: 0.0017 - accuracy: 1.0000 - val_loss: 25.5195 - val_accuracy: 0.4388\n",
      "Epoch 48/100\n",
      "13/13 - 3s - loss: 0.0017 - accuracy: 1.0000 - val_loss: 25.5244 - val_accuracy: 0.4388\n",
      "Epoch 49/100\n",
      "13/13 - 2s - loss: 0.0017 - accuracy: 1.0000 - val_loss: 25.5151 - val_accuracy: 0.4388\n",
      "Epoch 50/100\n",
      "13/13 - 2s - loss: 0.0017 - accuracy: 1.0000 - val_loss: 25.5329 - val_accuracy: 0.4388\n",
      "Epoch 51/100\n",
      "13/13 - 3s - loss: 0.0017 - accuracy: 1.0000 - val_loss: 25.5359 - val_accuracy: 0.4388\n",
      "Epoch 52/100\n",
      "13/13 - 2s - loss: 0.0017 - accuracy: 1.0000 - val_loss: 25.5330 - val_accuracy: 0.4388\n",
      "Epoch 53/100\n",
      "13/13 - 3s - loss: 0.0017 - accuracy: 1.0000 - val_loss: 25.5179 - val_accuracy: 0.4388\n",
      "Epoch 54/100\n",
      "13/13 - 3s - loss: 0.0017 - accuracy: 1.0000 - val_loss: 25.4903 - val_accuracy: 0.4388\n",
      "Epoch 55/100\n",
      "13/13 - 2s - loss: 0.0017 - accuracy: 1.0000 - val_loss: 25.5066 - val_accuracy: 0.4388\n",
      "Epoch 56/100\n",
      "13/13 - 2s - loss: 0.0017 - accuracy: 1.0000 - val_loss: 25.4668 - val_accuracy: 0.4388\n",
      "Epoch 57/100\n",
      "13/13 - 3s - loss: 0.0017 - accuracy: 1.0000 - val_loss: 25.4056 - val_accuracy: 0.4388\n",
      "Epoch 58/100\n",
      "13/13 - 3s - loss: 0.0017 - accuracy: 1.0000 - val_loss: 25.4230 - val_accuracy: 0.4388\n",
      "Epoch 59/100\n",
      "13/13 - 3s - loss: 0.0017 - accuracy: 1.0000 - val_loss: 25.3863 - val_accuracy: 0.4388\n",
      "Epoch 60/100\n",
      "13/13 - 3s - loss: 0.0017 - accuracy: 1.0000 - val_loss: 25.4441 - val_accuracy: 0.4388\n",
      "Epoch 61/100\n",
      "13/13 - 2s - loss: 0.0017 - accuracy: 1.0000 - val_loss: 25.4743 - val_accuracy: 0.4388\n",
      "Epoch 62/100\n",
      "13/13 - 2s - loss: 0.0017 - accuracy: 1.0000 - val_loss: 25.4891 - val_accuracy: 0.4388\n",
      "Epoch 63/100\n",
      "13/13 - 2s - loss: 0.0017 - accuracy: 1.0000 - val_loss: 25.5440 - val_accuracy: 0.4388\n",
      "Epoch 64/100\n",
      "13/13 - 2s - loss: 0.0017 - accuracy: 1.0000 - val_loss: 25.5911 - val_accuracy: 0.4388\n",
      "Epoch 65/100\n",
      "13/13 - 2s - loss: 0.0017 - accuracy: 1.0000 - val_loss: 25.5749 - val_accuracy: 0.4388\n",
      "Epoch 66/100\n",
      "13/13 - 3s - loss: 0.0017 - accuracy: 1.0000 - val_loss: 25.5676 - val_accuracy: 0.4388\n",
      "Epoch 67/100\n",
      "13/13 - 3s - loss: 0.0017 - accuracy: 1.0000 - val_loss: 25.5427 - val_accuracy: 0.4388\n",
      "Epoch 68/100\n",
      "13/13 - 3s - loss: 0.0017 - accuracy: 1.0000 - val_loss: 25.5175 - val_accuracy: 0.4388\n",
      "Epoch 69/100\n",
      "13/13 - 2s - loss: 0.0017 - accuracy: 1.0000 - val_loss: 25.4994 - val_accuracy: 0.4388\n",
      "Epoch 70/100\n",
      "13/13 - 3s - loss: 0.0017 - accuracy: 1.0000 - val_loss: 25.4783 - val_accuracy: 0.4388\n",
      "Epoch 71/100\n",
      "13/13 - 3s - loss: 0.0017 - accuracy: 1.0000 - val_loss: 25.4794 - val_accuracy: 0.4388\n",
      "Epoch 72/100\n",
      "13/13 - 3s - loss: 0.0017 - accuracy: 1.0000 - val_loss: 25.4778 - val_accuracy: 0.4388\n",
      "Epoch 73/100\n",
      "13/13 - 3s - loss: 0.0017 - accuracy: 1.0000 - val_loss: 25.4592 - val_accuracy: 0.4388\n",
      "Epoch 74/100\n",
      "13/13 - 3s - loss: 0.0017 - accuracy: 1.0000 - val_loss: 25.4974 - val_accuracy: 0.4388\n",
      "Epoch 75/100\n",
      "13/13 - 3s - loss: 0.0017 - accuracy: 1.0000 - val_loss: 25.5413 - val_accuracy: 0.4388\n",
      "Epoch 76/100\n",
      "13/13 - 2s - loss: 0.0017 - accuracy: 1.0000 - val_loss: 25.5398 - val_accuracy: 0.4388\n",
      "Epoch 77/100\n",
      "13/13 - 2s - loss: 0.0017 - accuracy: 1.0000 - val_loss: 25.5216 - val_accuracy: 0.4388\n",
      "Epoch 78/100\n",
      "13/13 - 3s - loss: 0.0017 - accuracy: 1.0000 - val_loss: 25.5099 - val_accuracy: 0.4388\n",
      "Epoch 79/100\n",
      "13/13 - 2s - loss: 0.0017 - accuracy: 1.0000 - val_loss: 25.5172 - val_accuracy: 0.4388\n",
      "Epoch 80/100\n",
      "13/13 - 2s - loss: 0.0017 - accuracy: 1.0000 - val_loss: 25.5033 - val_accuracy: 0.4388\n",
      "Epoch 81/100\n",
      "13/13 - 3s - loss: 0.0017 - accuracy: 1.0000 - val_loss: 25.4962 - val_accuracy: 0.4388\n",
      "Epoch 82/100\n",
      "13/13 - 3s - loss: 0.0017 - accuracy: 1.0000 - val_loss: 25.4975 - val_accuracy: 0.4388\n"
     ]
    },
    {
     "name": "stdout",
     "output_type": "stream",
     "text": [
      "Epoch 83/100\n",
      "13/13 - 2s - loss: 0.0017 - accuracy: 1.0000 - val_loss: 25.4987 - val_accuracy: 0.4388\n",
      "Epoch 84/100\n",
      "13/13 - 2s - loss: 0.0016 - accuracy: 1.0000 - val_loss: 25.5092 - val_accuracy: 0.4388\n",
      "Epoch 85/100\n",
      "13/13 - 3s - loss: 0.0016 - accuracy: 1.0000 - val_loss: 25.5177 - val_accuracy: 0.4388\n",
      "Epoch 86/100\n",
      "13/13 - 3s - loss: 0.0016 - accuracy: 1.0000 - val_loss: 25.4925 - val_accuracy: 0.4388\n",
      "Epoch 87/100\n",
      "13/13 - 3s - loss: 0.0016 - accuracy: 1.0000 - val_loss: 25.4815 - val_accuracy: 0.4388\n",
      "Epoch 88/100\n",
      "13/13 - 3s - loss: 0.0016 - accuracy: 1.0000 - val_loss: 25.4991 - val_accuracy: 0.4388\n",
      "Epoch 89/100\n",
      "13/13 - 3s - loss: 0.0016 - accuracy: 1.0000 - val_loss: 25.4859 - val_accuracy: 0.4388\n",
      "Epoch 90/100\n",
      "13/13 - 2s - loss: 0.0016 - accuracy: 1.0000 - val_loss: 25.4742 - val_accuracy: 0.4388\n",
      "Epoch 91/100\n",
      "13/13 - 2s - loss: 0.0016 - accuracy: 1.0000 - val_loss: 25.4666 - val_accuracy: 0.4388\n",
      "Epoch 92/100\n",
      "13/13 - 3s - loss: 0.0016 - accuracy: 1.0000 - val_loss: 25.4783 - val_accuracy: 0.4388\n",
      "Epoch 93/100\n",
      "13/13 - 3s - loss: 0.0016 - accuracy: 1.0000 - val_loss: 25.4681 - val_accuracy: 0.4388\n",
      "Epoch 94/100\n",
      "13/13 - 2s - loss: 0.0016 - accuracy: 1.0000 - val_loss: 25.4701 - val_accuracy: 0.4388\n",
      "Epoch 95/100\n",
      "13/13 - 3s - loss: 0.0016 - accuracy: 1.0000 - val_loss: 25.4893 - val_accuracy: 0.4388\n",
      "Epoch 96/100\n",
      "13/13 - 2s - loss: 0.0016 - accuracy: 1.0000 - val_loss: 25.5245 - val_accuracy: 0.4388\n",
      "Epoch 97/100\n",
      "13/13 - 3s - loss: 0.0016 - accuracy: 1.0000 - val_loss: 25.5250 - val_accuracy: 0.4388\n",
      "Epoch 98/100\n",
      "13/13 - 3s - loss: 0.0016 - accuracy: 1.0000 - val_loss: 25.5094 - val_accuracy: 0.4388\n",
      "Epoch 99/100\n",
      "13/13 - 2s - loss: 0.0016 - accuracy: 1.0000 - val_loss: 25.5059 - val_accuracy: 0.4388\n",
      "Epoch 100/100\n",
      "13/13 - 2s - loss: 0.0016 - accuracy: 1.0000 - val_loss: 25.4862 - val_accuracy: 0.4388\n",
      "252.00467371940613\n"
     ]
    }
   ],
   "source": [
    "import time\n",
    "start = time.time()\n",
    "#history = model.fit(X_train, y_train, batch_size=32, steps_per_epoch=len(y_train)/32, epochs=100, verbose=2, validation_data=(X_dev, y_dev),callbacks=[tensorboard])\n",
    "history = model.fit(X_train, y_train, batch_size=32, epochs=100, verbose=2, validation_data=(X_dev, y_dev))\n",
    "print (time.time() - start)\n",
    "\n"
   ]
  },
  {
   "cell_type": "markdown",
   "metadata": {},
   "source": [
    "### 8. Get the results"
   ]
  },
  {
   "cell_type": "code",
   "execution_count": 27,
   "metadata": {},
   "outputs": [
    {
     "data": {
      "image/png": "[encoded data removed]",
      "text/plain": [
       "<Figure size 576x360 with 1 Axes>"
      ]
     },
     "metadata": {
      "needs_background": "light"
     },
     "output_type": "display_data"
    }
   ],
   "source": [
    "results=pd.DataFrame(history.history)\n",
    "results.plot(figsize=(8, 5))\n",
    "plt.grid(True)\n",
    "plt.xlabel (\"Epochs\")\n",
    "plt.ylabel (\"Accuracy - Mean Log Loss\")\n",
    "plt.gca().set_ylim(0, 2) # set the vertical range to [0-1]\n",
    "plt.show()\n",
    "\n",
    "# categorical_accuracy es el training accuracy\n",
    "# val_categorical_accuracy es el validation accuracy\n",
    "# loss es el training loss\n",
    "# val_loss es el validation loss\n",
    "\n",
    "# Overfitting:\n",
    "# Por un lado la Accuracy de los datos de entrenamiento aumenta con las epochs,\n",
    "# mientras que la Accuracy de los datos de validación disminuye o se mantiene constante a lo largo de las epochs. \n",
    "# La Loss de los datos de validación alcanza su mínimo después de pocos epochs y luego empieza a subir, \n",
    "# mientras que la Loss de los datos de entrenamiento disminuye linealmente."
   ]
  },
  {
   "cell_type": "code",
   "execution_count": 28,
   "metadata": {},
   "outputs": [
    {
     "data": {
      "text/plain": [
       "{'verbose': 2, 'epochs': 100, 'steps': 13}"
      ]
     },
     "execution_count": 28,
     "metadata": {},
     "output_type": "execute_result"
    }
   ],
   "source": [
    "history.params"
   ]
  },
  {
   "cell_type": "code",
   "execution_count": 29,
   "metadata": {},
   "outputs": [
    {
     "data": {
      "text/html": [
       "<div>\n",
       "<style scoped>\n",
       "    .dataframe tbody tr th:only-of-type {\n",
       "        vertical-align: middle;\n",
       "    }\n",
       "\n",
       "    .dataframe tbody tr th {\n",
       "        vertical-align: top;\n",
       "    }\n",
       "\n",
       "    .dataframe thead th {\n",
       "        text-align: right;\n",
       "    }\n",
       "</style>\n",
       "<table border=\"1\" class=\"dataframe\">\n",
       "  <thead>\n",
       "    <tr style=\"text-align: right;\">\n",
       "      <th></th>\n",
       "      <th>loss</th>\n",
       "      <th>accuracy</th>\n",
       "      <th>val_loss</th>\n",
       "      <th>val_accuracy</th>\n",
       "    </tr>\n",
       "  </thead>\n",
       "  <tbody>\n",
       "    <tr>\n",
       "      <th>99</th>\n",
       "      <td>0.001644</td>\n",
       "      <td>1.0</td>\n",
       "      <td>25.486208</td>\n",
       "      <td>0.438776</td>\n",
       "    </tr>\n",
       "  </tbody>\n",
       "</table>\n",
       "</div>"
      ],
      "text/plain": [
       "        loss  accuracy   val_loss  val_accuracy\n",
       "99  0.001644       1.0  25.486208      0.438776"
      ]
     },
     "execution_count": 29,
     "metadata": {},
     "output_type": "execute_result"
    }
   ],
   "source": [
    "results[-1:]"
   ]
  },
  {
   "cell_type": "code",
   "execution_count": 30,
   "metadata": {},
   "outputs": [
    {
     "name": "stdout",
     "output_type": "stream",
     "text": [
      "Accuracy for the training set:  1.0\n"
     ]
    }
   ],
   "source": [
    "print (\"Accuracy for the training set: \", results.values[-1:][0][1])"
   ]
  },
  {
   "cell_type": "code",
   "execution_count": 31,
   "metadata": {},
   "outputs": [
    {
     "name": "stdout",
     "output_type": "stream",
     "text": [
      "Accuracy for the development test set:  0.43877550959587097\n"
     ]
    }
   ],
   "source": [
    "print (\"Accuracy for the development test set: \", results.values[-1:][0][3])"
   ]
  },
  {
   "cell_type": "code",
   "execution_count": null,
   "metadata": {},
   "outputs": [],
   "source": []
  },
  {
   "cell_type": "code",
   "execution_count": null,
   "metadata": {},
   "outputs": [],
   "source": []
  },
  {
   "cell_type": "code",
   "execution_count": null,
   "metadata": {},
   "outputs": [],
   "source": []
  },
  {
   "cell_type": "code",
   "execution_count": null,
   "metadata": {},
   "outputs": [],
   "source": []
  },
  {
   "cell_type": "code",
   "execution_count": null,
   "metadata": {},
   "outputs": [],
   "source": []
  },
  {
   "cell_type": "markdown",
   "metadata": {},
   "source": [
    "#### Let's see how the model predicts using the development test set:"
   ]
  },
  {
   "cell_type": "code",
   "execution_count": 32,
   "metadata": {},
   "outputs": [
    {
     "data": {
      "text/plain": [
       "array([[1., 0.],\n",
       "       [1., 0.],\n",
       "       [0., 1.],\n",
       "       [1., 0.],\n",
       "       [0., 1.],\n",
       "       [1., 0.],\n",
       "       [1., 0.],\n",
       "       [1., 0.],\n",
       "       [1., 0.],\n",
       "       [1., 0.],\n",
       "       [0., 1.],\n",
       "       [0., 1.],\n",
       "       [1., 0.],\n",
       "       [0., 1.],\n",
       "       [1., 0.],\n",
       "       [1., 0.],\n",
       "       [1., 0.],\n",
       "       [1., 0.],\n",
       "       [1., 0.],\n",
       "       [1., 0.]], dtype=float32)"
      ]
     },
     "execution_count": 32,
     "metadata": {},
     "output_type": "execute_result"
    }
   ],
   "source": [
    "dev_predictions=model.predict(X_dev).round(2) \n",
    "dev_predictions[:20]"
   ]
  },
  {
   "cell_type": "code",
   "execution_count": 33,
   "metadata": {},
   "outputs": [
    {
     "data": {
      "text/plain": [
       "array([[1., 0.],\n",
       "       [1., 0.],\n",
       "       [0., 1.],\n",
       "       [1., 0.],\n",
       "       [0., 1.],\n",
       "       [1., 0.],\n",
       "       [1., 0.],\n",
       "       [1., 0.],\n",
       "       [1., 0.],\n",
       "       [1., 0.],\n",
       "       [0., 1.],\n",
       "       [0., 1.],\n",
       "       [1., 0.],\n",
       "       [0., 1.],\n",
       "       [1., 0.],\n",
       "       [1., 0.],\n",
       "       [1., 0.],\n",
       "       [1., 0.],\n",
       "       [1., 0.],\n",
       "       [1., 0.]], dtype=float32)"
      ]
     },
     "execution_count": 33,
     "metadata": {},
     "output_type": "execute_result"
    }
   ],
   "source": [
    "dev_rounded_predictions=np.round(dev_predictions)\n",
    "indices = np.argmax(dev_predictions,1)\n",
    "for row, index in zip(dev_rounded_predictions, indices): row[index]=1\n",
    "dev_rounded_predictions[:20]"
   ]
  },
  {
   "cell_type": "code",
   "execution_count": 34,
   "metadata": {},
   "outputs": [
    {
     "data": {
      "text/plain": [
       "array([[1., 0.],\n",
       "       [1., 0.],\n",
       "       [1., 0.],\n",
       "       [1., 0.],\n",
       "       [1., 0.],\n",
       "       [1., 0.],\n",
       "       [1., 0.],\n",
       "       [1., 0.],\n",
       "       [1., 0.],\n",
       "       [1., 0.],\n",
       "       [1., 0.],\n",
       "       [1., 0.],\n",
       "       [0., 1.],\n",
       "       [0., 1.],\n",
       "       [0., 1.],\n",
       "       [0., 1.],\n",
       "       [0., 1.],\n",
       "       [0., 1.],\n",
       "       [0., 1.],\n",
       "       [0., 1.]])"
      ]
     },
     "execution_count": 34,
     "metadata": {},
     "output_type": "execute_result"
    }
   ],
   "source": [
    "y_dev[:20]"
   ]
  },
  {
   "cell_type": "code",
   "execution_count": 35,
   "metadata": {},
   "outputs": [
    {
     "name": "stdout",
     "output_type": "stream",
     "text": [
      "[ True  True False  True False  True  True  True  True  True False False\n",
      " False  True False False False False False False False False False  True\n",
      "  True False False False False False]\n"
     ]
    }
   ],
   "source": [
    "dev_correct_predictions = np.equal(np.argmax(dev_rounded_predictions,1),np.argmax(y_dev,1))\n",
    "print (dev_correct_predictions[:30])"
   ]
  },
  {
   "cell_type": "code",
   "execution_count": 36,
   "metadata": {},
   "outputs": [
    {
     "data": {
      "text/plain": [
       "Counter({True: 43, False: 55})"
      ]
     },
     "execution_count": 36,
     "metadata": {},
     "output_type": "execute_result"
    }
   ],
   "source": [
    "from collections import Counter\n",
    "Counter (dev_correct_predictions)"
   ]
  },
  {
   "cell_type": "markdown",
   "metadata": {},
   "source": [
    "### 9. Save model"
   ]
  },
  {
   "cell_type": "markdown",
   "metadata": {},
   "source": [
    "We save the model if it is better than others "
   ]
  },
  {
   "cell_type": "code",
   "execution_count": 37,
   "metadata": {},
   "outputs": [],
   "source": [
    "# Save\n",
    "model.save('./Modelos/CNN_model1_PARES_DIA1.h5') # Change the name in each model"
   ]
  },
  {
   "cell_type": "code",
   "execution_count": 38,
   "metadata": {},
   "outputs": [
    {
     "data": {
      "text/plain": [
       "\"\\nnew_model = keras.models.load_model('./Modelos/EGG_prac1_ANN_model3.h5')\\n\\nimport numpy as np\\n\\n# Verify state\\nnew_predictions = new_model.predict(X_dev)\\nnp.testing.assert_allclose(predictions, new_predictions, rtol=1e-6, atol=1e-6)\\n\\n# Note that the optimizer state is also preserved:\\n# you can resume training where you left off.\\n\""
      ]
     },
     "execution_count": 38,
     "metadata": {},
     "output_type": "execute_result"
    }
   ],
   "source": [
    "# Extract\n",
    "\"\"\"\n",
    "new_model = keras.models.load_model('./Modelos/EGG_prac1_ANN_model3.h5')\n",
    "\n",
    "import numpy as np\n",
    "\n",
    "# Verify state\n",
    "new_predictions = new_model.predict(X_dev)\n",
    "np.testing.assert_allclose(predictions, new_predictions, rtol=1e-6, atol=1e-6)\n",
    "\n",
    "# Note that the optimizer state is also preserved:\n",
    "# you can resume training where you left off.\n",
    "\"\"\""
   ]
  },
  {
   "cell_type": "markdown",
   "metadata": {},
   "source": [
    "### 10 - Final Test\n",
    "\n",
    "#### 10.1 - Load the final test set"
   ]
  },
  {
   "cell_type": "code",
   "execution_count": 39,
   "metadata": {},
   "outputs": [
    {
     "data": {
      "text/plain": [
       "'\\nfrom sklearn.pipeline import make_pipeline\\nfrom sklearn.preprocessing import StandardScaler, OneHotEncoder\\nfrom sklearn.linear_model import Perceptron\\n\\ntotal_records = 4 # CAMBIAR SI HAY MAS REGISTROS\\n\\ntask1 = 122 # SE PUEDE CAMBIAR\\ntask2 = 123 # SE PUEDE CAMBIAR\\ntask3 = 127 # SE PUEDE CAMBIAR\\nusers = [\"0091\"] # SE PUEDE CAMBIAR\\n'"
      ]
     },
     "execution_count": 39,
     "metadata": {},
     "output_type": "execute_result"
    }
   ],
   "source": [
    "\n",
    "\"\"\"\n",
    "from sklearn.pipeline import make_pipeline\n",
    "from sklearn.preprocessing import StandardScaler, OneHotEncoder\n",
    "from sklearn.linear_model import Perceptron\n",
    "\n",
    "total_records = 4 # CAMBIAR SI HAY MAS REGISTROS\n",
    "\n",
    "task1 = 122 # SE PUEDE CAMBIAR\n",
    "task2 = 123 # SE PUEDE CAMBIAR\n",
    "task3 = 127 # SE PUEDE CAMBIAR\n",
    "users = [\"0091\"] # SE PUEDE CAMBIAR\n",
    "\"\"\""
   ]
  },
  {
   "cell_type": "code",
   "execution_count": 40,
   "metadata": {},
   "outputs": [
    {
     "data": {
      "text/plain": [
       "'\\ndef readRegisterAndReturnXy(user, total_records, task1, task2, task3 = \"\"):\\n    lTaskData = []\\n    for i_rec in range(1,total_records+1):\\n            record = \"userS\"+user+\"f\"+str(i_rec)+\".mat\"\\n            output = read_outputs(record) # output.task será y, output.data será x\\n\\n            if task3 != \"\":\\n                outT = (output.task == task1) | (output.task == task2) | (output.task == task3) \\n            else: \\n                outT = (output.task == task1) | (output.task == task2)\\n            outData = output.data[outT[:,0],0:np.shape(output.data)[1]]\\n\\n            outTask = output.task[outT[:,0]]\\n            outTD = OutTaskData(outTask, outData)\\n            lTaskData.append(outTD)\\n\\n    X_test, y_test = [],[]\\n    for j in range(0,total_records):\\n        X_test.extend(lTaskData[j].data)\\n        y_test.extend(lTaskData[j].task)\\n\\n    X_test = np.array(X_test)\\n    y_test = np.ravel(np.array(y_test))\\n\\n    print (\"X_test:\",X_test.shape)\\n    print (\"y_test:\",y_test.shape)\\n\\n    # ONE HOT ENCODER\\n    encoder = make_pipeline(StandardScaler(), OneHotEncoder(categories=\"auto\", sparse=False)) # Function that one-hot encodes integers))\\n    y_test = encoder.fit_transform (y_test.reshape(-1,1)) # y_one_hot\\n\\n    print(\"ONE HOT ENCODER:\")\\n    print (\"X_test:\",X_test.shape)\\n    print (\"y_test:\",y_test.shape)\\n    \\n    return X_test, y_test\\n'"
      ]
     },
     "execution_count": 40,
     "metadata": {},
     "output_type": "execute_result"
    }
   ],
   "source": [
    "\"\"\"\n",
    "def readRegisterAndReturnXy(user, total_records, task1, task2, task3 = \"\"):\n",
    "    lTaskData = []\n",
    "    for i_rec in range(1,total_records+1):\n",
    "            record = \"userS\"+user+\"f\"+str(i_rec)+\".mat\"\n",
    "            output = read_outputs(record) # output.task será y, output.data será x\n",
    "\n",
    "            if task3 != \"\":\n",
    "                outT = (output.task == task1) | (output.task == task2) | (output.task == task3) \n",
    "            else: \n",
    "                outT = (output.task == task1) | (output.task == task2)\n",
    "            outData = output.data[outT[:,0],0:np.shape(output.data)[1]]\n",
    "\n",
    "            outTask = output.task[outT[:,0]]\n",
    "            outTD = OutTaskData(outTask, outData)\n",
    "            lTaskData.append(outTD)\n",
    "\n",
    "    X_test, y_test = [],[]\n",
    "    for j in range(0,total_records):\n",
    "        X_test.extend(lTaskData[j].data)\n",
    "        y_test.extend(lTaskData[j].task)\n",
    "\n",
    "    X_test = np.array(X_test)\n",
    "    y_test = np.ravel(np.array(y_test))\n",
    "\n",
    "    print (\"X_test:\",X_test.shape)\n",
    "    print (\"y_test:\",y_test.shape)\n",
    "\n",
    "    # ONE HOT ENCODER\n",
    "    encoder = make_pipeline(StandardScaler(), OneHotEncoder(categories=\"auto\", sparse=False)) # Function that one-hot encodes integers))\n",
    "    y_test = encoder.fit_transform (y_test.reshape(-1,1)) # y_one_hot\n",
    "\n",
    "    print(\"ONE HOT ENCODER:\")\n",
    "    print (\"X_test:\",X_test.shape)\n",
    "    print (\"y_test:\",y_test.shape)\n",
    "    \n",
    "    return X_test, y_test\n",
    "\"\"\""
   ]
  },
  {
   "cell_type": "code",
   "execution_count": null,
   "metadata": {},
   "outputs": [],
   "source": []
  },
  {
   "cell_type": "code",
   "execution_count": 41,
   "metadata": {},
   "outputs": [
    {
     "data": {
      "text/plain": [
       "'\\nn_final_test = n_instances-n_train-n_dev\\n\\nx_final_test = attributes.values[n_train+n_dev:n_instances]\\nt_final_test = label.values[n_train+n_dev:n_instances]\\n\\nprint (\"x_test:\",x_final_test.shape)\\nprint (\"t_test:\",t_final_test.shape)\\n\\n\\n'"
      ]
     },
     "execution_count": 41,
     "metadata": {},
     "output_type": "execute_result"
    }
   ],
   "source": [
    "\"\"\"\n",
    "n_final_test = n_instances-n_train-n_dev\n",
    "\n",
    "x_final_test = attributes.values[n_train+n_dev:n_instances]\n",
    "t_final_test = label.values[n_train+n_dev:n_instances]\n",
    "\n",
    "print (\"x_test:\",x_final_test.shape)\n",
    "print (\"t_test:\",t_final_test.shape)\n",
    "\n",
    "\n",
    "\"\"\""
   ]
  },
  {
   "cell_type": "markdown",
   "metadata": {},
   "source": [
    "#### 10.2 - Evaluate the model"
   ]
  },
  {
   "cell_type": "code",
   "execution_count": 42,
   "metadata": {},
   "outputs": [
    {
     "ename": "SyntaxError",
     "evalue": "EOF while scanning triple-quoted string literal (<ipython-input-42-01c14ef9ee9b>, line 20)",
     "output_type": "error",
     "traceback": [
      "\u001b[1;36m  File \u001b[1;32m\"<ipython-input-42-01c14ef9ee9b>\"\u001b[1;36m, line \u001b[1;32m20\u001b[0m\n\u001b[1;33m    return final_test_prediction_results, success\u001b[0m\n\u001b[1;37m                                                 \n^\u001b[0m\n\u001b[1;31mSyntaxError\u001b[0m\u001b[1;31m:\u001b[0m EOF while scanning triple-quoted string literal\n"
     ]
    }
   ],
   "source": [
    "\"\"\"\n",
    "from collections import Counter\n",
    "def predictWithModel(model, X_test, y_test, task1, task2, task3=\"\"):\n",
    "    model.evaluate(X_test, y_test)\n",
    "    test_predictions = model.predict(X_test)\n",
    "    test_rounded_predictions=np.round(test_predictions)\n",
    "    indices = np.argmax(test_predictions,1)\n",
    "    for row, index in zip(test_rounded_predictions, indices): row[index]=1\n",
    "    print(test_rounded_predictions[:20])\n",
    "    \n",
    "    # ACCURACY:\n",
    "    test_correct_predictions = np.equal(np.argmax(test_rounded_predictions,1),np.argmax(y_test,1))\n",
    "    print()\n",
    "    print(test_correct_predictions)\n",
    "    print(type(test_correct_predictions))\n",
    "    final_test_prediction_results=Counter(test_correct_predictions)\n",
    "    \n",
    "    success = np.mean(test_rounded_predictions == y_test)*100\n",
    "    \n",
    "    return final_test_prediction_results, success"
   ]
  },
  {
   "cell_type": "code",
   "execution_count": null,
   "metadata": {},
   "outputs": [],
   "source": [
    "\"\"\"\n",
    "#X_test, y_test = readRegisterAndReturnXy(u, total_records, 122, 123, 127)\n",
    "accuracy, success = predictWithModel(model, X_test, y_test, 402,404)\n",
    "print(accuracy, success)\n",
    "print()"
   ]
  },
  {
   "cell_type": "code",
   "execution_count": null,
   "metadata": {},
   "outputs": [],
   "source": [
    "#model.evaluate(x_final_test, t_final_test) # Un 77 es un accuracy bajo "
   ]
  },
  {
   "cell_type": "markdown",
   "metadata": {},
   "source": [
    "The outputs computed by the neural network for the final testing dataset."
   ]
  },
  {
   "cell_type": "code",
   "execution_count": null,
   "metadata": {},
   "outputs": [],
   "source": [
    "\"\"\"\n",
    "test_predictions=model.predict(x_final_test)\n",
    "test_rounded_predictions=np.round(test_predictions)\n",
    "indices = np.argmax(test_predictions,1)\n",
    "for row, index in zip(test_rounded_predictions, indices): row[index]=1\n",
    "test_rounded_predictions[:20]\n",
    "\"\"\""
   ]
  },
  {
   "cell_type": "markdown",
   "metadata": {},
   "source": [
    "The target outputs."
   ]
  },
  {
   "cell_type": "code",
   "execution_count": null,
   "metadata": {},
   "outputs": [],
   "source": [
    "# t_final_test[:20]"
   ]
  },
  {
   "cell_type": "markdown",
   "metadata": {},
   "source": [
    "The first 30 predictions. True means that the neural network correctly classifies the input vector."
   ]
  },
  {
   "cell_type": "code",
   "execution_count": null,
   "metadata": {},
   "outputs": [],
   "source": [
    "# test_correct_predictions = np.equal(np.argmax(test_rounded_predictions,1),np.argmax(t_final_test,1))\n",
    "# test_correct_predictions[:30]"
   ]
  },
  {
   "cell_type": "markdown",
   "metadata": {},
   "source": [
    "#### The final test accuracy."
   ]
  },
  {
   "cell_type": "code",
   "execution_count": null,
   "metadata": {},
   "outputs": [],
   "source": [
    "\"\"\"from collections import Counter\n",
    "final_test_prediction_results=Counter(test_correct_predictions)\n",
    "final_test_prediction_results\"\"\""
   ]
  },
  {
   "cell_type": "code",
   "execution_count": null,
   "metadata": {},
   "outputs": [],
   "source": [
    "#final_test_prediction_results[True]/sum(final_test_prediction_results.values())"
   ]
  },
  {
   "cell_type": "code",
   "execution_count": null,
   "metadata": {},
   "outputs": [],
   "source": []
  }
 ],
 "metadata": {
  "kernelspec": {
   "display_name": "Python 3",
   "language": "python",
   "name": "python3"
  },
  "language_info": {
   "codemirror_mode": {
    "name": "ipython",
    "version": 3
   },
   "file_extension": ".py",
   "mimetype": "text/x-python",
   "name": "python",
   "nbconvert_exporter": "python",
   "pygments_lexer": "ipython3",
   "version": "3.8.5"
  }
 },
 "nbformat": 4,
 "nbformat_minor": 4
}
