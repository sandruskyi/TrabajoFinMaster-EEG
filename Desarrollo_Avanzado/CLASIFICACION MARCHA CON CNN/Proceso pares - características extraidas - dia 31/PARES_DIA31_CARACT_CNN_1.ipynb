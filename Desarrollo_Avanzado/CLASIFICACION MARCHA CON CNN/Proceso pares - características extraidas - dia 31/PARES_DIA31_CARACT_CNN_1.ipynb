{
 "cells": [
  {
   "cell_type": "markdown",
   "metadata": {},
   "source": [
    "# Parte 4: Clasificación con CNN"
   ]
  },
  {
   "cell_type": "markdown",
   "metadata": {},
   "source": [
    "### Resultados con la arquitectura anterior: "
   ]
  },
  {
   "cell_type": "markdown",
   "metadata": {},
   "source": [
    "Primero"
   ]
  },
  {
   "cell_type": "markdown",
   "metadata": {},
   "source": [
    "### Cambios realizados"
   ]
  },
  {
   "cell_type": "markdown",
   "metadata": {},
   "source": []
  },
  {
   "cell_type": "markdown",
   "metadata": {},
   "source": [
    "### Nuevos resultados: "
   ]
  },
  {
   "cell_type": "markdown",
   "metadata": {},
   "source": [
    "Resultados:\n",
    "    \n",
    "    TRAIN                   DEV\n",
    "    loss       accuracy     val_loss    val_accuracy\n",
    "    0.203292\t0.942308\t0.807445\t0.653846\n",
    "    \n",
    "Por tanto: \n",
    "\n",
    "    E = 1 - Accuracy\n",
    "    Etrain = 1 - 0.942308 = 0.057692\n",
    "    Etest = 1 - 0.653846 = 0.346154\n",
    "    \n",
    "    Bias = Etrain - Ehuman = 0.057692\n",
    "    Variance = Etest - Etrain = 0.346154 - 0.057692 = 0.288462\n",
    "\n",
    "El bias se encuentra bajo (6%), pero la varianza es alta (29%), hay que tratar de reducirla.  Para ello habrá que o regularizar, o cambiar la arquitectura (menos neuronas => Mejor varianza, más capas => mayor abstracción), o añadir más datos (cosa que no es posible). SE OBSERVA UN pequeño OVERFITTING!!!!!!!!!!!!\n"
   ]
  },
  {
   "cell_type": "markdown",
   "metadata": {},
   "source": [
    "### 1 - Import Libraries"
   ]
  },
  {
   "cell_type": "code",
   "execution_count": 1,
   "metadata": {},
   "outputs": [],
   "source": [
    "# Tensorflow and tf.keras\n",
    "import tensorflow as tf\n",
    "from tensorflow import keras\n",
    "\n",
    "#Helper libraries\n",
    "import matplotlib.pyplot as plt\n",
    "import pandas as pd\n",
    "import numpy as np\n",
    "\n",
    "# Signal libraries\n",
    "from scipy import signal\n"
   ]
  },
  {
   "cell_type": "markdown",
   "metadata": {},
   "source": [
    "### 2 - Load data"
   ]
  },
  {
   "cell_type": "code",
   "execution_count": 2,
   "metadata": {},
   "outputs": [],
   "source": [
    "class ROutput:\n",
    "    def __init__(self, task, data):\n",
    "        self.task = task\n",
    "        self.data = data\n",
    "        \n",
    "class OutTaskData: \n",
    "    def __init__(self, task, data): \n",
    "        self.task = task\n",
    "        self.data = data"
   ]
  },
  {
   "cell_type": "code",
   "execution_count": 3,
   "metadata": {},
   "outputs": [],
   "source": [
    "import scipy.io as sio\n",
    "# Primero leemos los registros\n",
    "def read_outputs(rec):\n",
    "    '''read_outputs(\"userS0091f1.mat\")'''\n",
    "    mat = sio.loadmat(rec)\n",
    "    mdata = mat['session']\n",
    "    val = mdata[0,0]\n",
    "    #output = ROutput(np.array(val[\"task\"]), np.array(val[\"data\"]))\n",
    "    output = ROutput(np.array(val[\"task_EEG_p\"]), np.array(val[\"data_processed_EEG\"]))\n",
    "    return output"
   ]
  },
  {
   "cell_type": "markdown",
   "metadata": {},
   "source": [
    "### Cargamos los datos"
   ]
  },
  {
   "cell_type": "code",
   "execution_count": 4,
   "metadata": {},
   "outputs": [],
   "source": [
    "# Configuración\n",
    "from sklearn.pipeline import make_pipeline\n",
    "from sklearn.preprocessing import StandardScaler, OneHotEncoder\n",
    "from sklearn.linear_model import Perceptron\n",
    "from keras.utils import to_categorical\n",
    "\n",
    "\n",
    "task1 = 402 # SE PUEDE CAMBIAR\n",
    "task2 = 404 # SE PUEDE CAMBIAR\n",
    "task_OneHotEnconding = {402: [1.,0.], 404: [0.,1.]}\n",
    "user = 'W29' # SE PUEDE CAMBIAR\n",
    "day = '0331'\n",
    "folder_day = 'W29-31_03_2021'\n",
    "total_records = 22 # CAMBIAR SI HAY MAS REGISTROS\n",
    "fm = 200\n",
    "electrodes_names_selected = ['F3', 'FZ', 'FC1','FCZ','C1','CZ','CP1','CPZ', 'FC5', 'FC3','C5','C3','CP5','CP3','P3',\n",
    "                             'PZ','F4','FC2','FC4','FC6','C2','C4','CP2','CP4','C6','CP6','P4','HR' ,'HL', 'VU', 'VD']\n",
    "number_channels = len(electrodes_names_selected)"
   ]
  },
  {
   "cell_type": "code",
   "execution_count": 5,
   "metadata": {},
   "outputs": [
    {
     "name": "stdout",
     "output_type": "stream",
     "text": [
      "11 22\n"
     ]
    }
   ],
   "source": [
    "lTaskData = []\n",
    "total_records_used = 0\n",
    "for i_rec in range(1,total_records+1):\n",
    "    i_rec_record = i_rec\n",
    "    if i_rec_record <10:\n",
    "        i_rec_record = \"0\"+str(i_rec_record)\n",
    "    if i_rec % 2 == 0: # Registros impares primero: USUARIO SIN MOVIMIENTO SOLO PENSANDO\n",
    "        record = \"./RegistrosProcesados2/\"+folder_day+\"/W29_2021\"+day+\"_openloop_\"+str(i_rec_record)+\"_processed.mat\"\n",
    "        output = read_outputs(record) # output.task será y, output.data será x\n",
    "\n",
    "\n",
    "        output.task = np.transpose(output.task)\n",
    "        output.data = output.data.reshape((np.shape(output.data)[0],np.shape(output.data)[1]))\n",
    "        output.data = np.transpose(output.data)\n",
    "        #output.data = output.data.reshape((np.shape(output.data)[0],np.shape(output.data)[1],1))\n",
    "\n",
    "        outT = (output.task == task1) | (output.task == task2)\n",
    "        outData = output.data[0:np.shape(output.data)[0], outT[0,:]]\n",
    "        outTask = output.task[0, outT[0,:]]\n",
    "        outTD = OutTaskData(outTask, outData)\n",
    "\n",
    "        lTaskData.append(outTD)\n",
    "        total_records_used+=1\n",
    "print(total_records_used, total_records)"
   ]
  },
  {
   "cell_type": "code",
   "execution_count": 6,
   "metadata": {},
   "outputs": [
    {
     "name": "stdout",
     "output_type": "stream",
     "text": [
      "X_train: (8, 32, 49)\n",
      "y_train: (8, 49)\n",
      "X_dev: (2, 32, 49)\n",
      "y_dev: (2, 49)\n",
      "X_test: (1, 32, 49)\n",
      "y_test: (1, 49)\n",
      "ONE HOT ENCODER:\n",
      "X_train: (104, 32, 5, 1)\n",
      "y_train: (104, 2)\n",
      "X_dev: (26, 32, 5, 1)\n",
      "y_dev: (26, 2)\n",
      "X_test: (13, 32, 5, 1)\n",
      "y_test: (13, 2)\n"
     ]
    }
   ],
   "source": [
    "# Vamos a coger 2 registros para el entrenamiento, 1 para el conjunto dev set, 1 para el test set\n",
    "X_train, y_train, X_dev, y_dev, X_test, y_test = [],[],[],[],[],[] \n",
    "for j in range(0,total_records_used-3): # Cogemos 18 registros para entrenamiento\n",
    "    X_train.append(lTaskData[j].data)\n",
    "    y_train.append(lTaskData[j].task)\n",
    "\n",
    "for j in range(total_records_used-3,total_records_used-1): # Cogemos 2 registros para el dev set\n",
    "    X_dev.append(lTaskData[j].data)\n",
    "    y_dev.append(lTaskData[j].task)\n",
    "for j in range(total_records_used-1,total_records_used): # Cogemos 2 registros para el test set\n",
    "    X_test.append(lTaskData[j].data)\n",
    "    y_test.append(lTaskData[j].task)\n",
    "\n",
    "X_train = np.array(X_train)\n",
    "#y_train = np.ravel(np.array(y_train))\n",
    "y_train = np.array(y_train)\n",
    "X_dev = np.array(X_dev)\n",
    "#y_dev = np.ravel(np.array(y_dev))\n",
    "y_dev = np.array(y_dev)\n",
    "X_test = np.array(X_test)\n",
    "y_test = np.array(y_test)\n",
    "#y_test = np.ravel(np.array(y_test))\n",
    "\n",
    "print (\"X_train:\",X_train.shape)\n",
    "print (\"y_train:\",y_train.shape)\n",
    "print (\"X_dev:\",X_dev.shape)\n",
    "print (\"y_dev:\",y_dev.shape)\n",
    "print (\"X_test:\",X_test.shape)\n",
    "print (\"y_test:\",y_test.shape)\n",
    "\n",
    "\n",
    "\n",
    "\n",
    "\n",
    "# VENTANEO Y ONE HOT ENCODING \n",
    "window = 5\n",
    "samples_advance = 3\n",
    "\n",
    "# Ventaneo X_train\n",
    "\n",
    "X_train_l = []\n",
    "y_train_l = []\n",
    "for num_X_train in range(np.shape(X_train)[0]): # Para no mezclar registros\n",
    "    win_init = int(0)\n",
    "    window_position = 0\n",
    "    \n",
    "    for i in range(np.shape(X_train)[2]): # For each signal registered\n",
    "        win_end = int(win_init + window)\n",
    "        if win_end >= np.shape(X_train)[2]:\n",
    "            break\n",
    "\n",
    "        task = np.unique(y_train[num_X_train,win_init:win_end])\n",
    "\n",
    "        if len(task)==1:\n",
    "        #if task1 in task or task2 in task:\n",
    "            signal_window = X_train[num_X_train, :, win_init:win_end]\n",
    "            \n",
    "            #data_filtered = preprocessing(signal_window, fm, number_channels)\n",
    "            #X_train_l.append(data_filtered)\n",
    "            X_train_l.append(signal_window)\n",
    "            taskOH = task_OneHotEnconding[task[0]]\n",
    "            y_train_l.append(taskOH)\n",
    "            \n",
    "        win_init += int(samples_advance)\n",
    "\n",
    "X_train_l = np.array(X_train_l)\n",
    "y_train_l = np.array(y_train_l)\n",
    "\n",
    "\n",
    "# Ventaneo X_dev\n",
    "X_dev_l = []\n",
    "y_dev_l = []\n",
    "for num_X_dev in range(np.shape(X_dev)[0]):\n",
    "    win_init = int(0)\n",
    "    window_position = 0\n",
    "    \n",
    "    for i in range(np.shape(X_dev)[2]): # For each signal registered\n",
    "        win_end = int(win_init + window)\n",
    "        if win_end >= np.shape(X_dev)[2]:\n",
    "            break\n",
    "\n",
    "        task = np.unique(y_dev[num_X_dev,win_init:win_end])\n",
    "\n",
    "        if len(task)==1:\n",
    "        #if task1 in task or task2 in task:\n",
    "            signal_window = X_dev[num_X_dev, :, win_init:win_end]\n",
    "            \n",
    "            #data_filtered = preprocessing(signal_window, fm, number_channels)\n",
    "            #X_train_l.append(data_filtered)\n",
    "            X_dev_l.append(signal_window)\n",
    "            taskOH = task_OneHotEnconding[task[0]]\n",
    "            y_dev_l.append(taskOH)\n",
    "            \n",
    "        win_init += int(samples_advance)\n",
    "\n",
    "X_dev_l = np.array(X_dev_l)\n",
    "y_dev_l = np.array(y_dev_l)\n",
    "\n",
    "# Ventaneo X_test\n",
    "X_test_l = []\n",
    "y_test_l = []\n",
    "for num_X_test in range(np.shape(X_test)[0]): \n",
    "    win_init = int(0)\n",
    "    window_position = 0\n",
    "    \n",
    "    for i in range(np.shape(X_test)[2]): # For each signal registered\n",
    "        win_end = int(win_init + window)\n",
    "        if win_end >= np.shape(X_test)[2]:\n",
    "            break\n",
    "\n",
    "        task = np.unique(y_test[num_X_test,win_init:win_end])\n",
    "\n",
    "        if len(task)==1:\n",
    "        #if task1 in task or task2 in task:\n",
    "            signal_window = X_test[num_X_test, :, win_init:win_end]\n",
    "            \n",
    "            #data_filtered = preprocessing(signal_window, fm, number_channels)\n",
    "            #X_train_l.append(data_filtered)\n",
    "            X_test_l.append(signal_window)\n",
    "            taskOH = task_OneHotEnconding[task[0]]\n",
    "            y_test_l.append(taskOH)\n",
    "            \n",
    "        win_init += int(samples_advance)\n",
    "\n",
    "X_test_l = np.array(X_test_l)\n",
    "y_test_l = np.array(y_test_l)\n",
    "\n",
    "\n",
    "\n",
    "\n",
    "X_train_l = X_train_l.reshape((np.shape(X_train_l)[0],np.shape(X_train_l)[1],np.shape(X_train_l)[2], 1))\n",
    "X_dev_l = X_dev_l.reshape((np.shape(X_dev_l)[0],np.shape(X_dev_l)[1],np.shape(X_dev_l)[2], 1))\n",
    "X_test_l = X_test_l.reshape((np.shape(X_test_l)[0],np.shape(X_test_l)[1],np.shape(X_test_l)[2], 1))\n",
    "\n",
    "\n",
    "print(\"ONE HOT ENCODER:\")\n",
    "print (\"X_train:\",X_train_l.shape)\n",
    "print (\"y_train:\",y_train_l.shape)\n",
    "print (\"X_dev:\",X_dev_l.shape)\n",
    "print (\"y_dev:\",y_dev_l.shape)\n",
    "print (\"X_test:\",X_test_l.shape)\n",
    "print (\"y_test:\",y_test_l.shape)\n",
    "\n",
    "X_train = X_train_l\n",
    "y_train = y_train_l\n",
    "X_dev = X_dev_l\n",
    "y_dev = y_dev_l\n",
    "X_test = X_test_l\n",
    "y_test = y_test_l"
   ]
  },
  {
   "cell_type": "markdown",
   "metadata": {},
   "source": [
    "### 3. Initialize variables"
   ]
  },
  {
   "cell_type": "code",
   "execution_count": 7,
   "metadata": {},
   "outputs": [],
   "source": [
    "INPUTS = X_train.shape[1]\n",
    "OUTPUTS = y_train.shape[1]\n",
    "NUM_TRAINING_EXAMPLES = int(round(X_train.shape[0]/1))\n",
    "NUM_DEV_EXAMPLES = int(round(y_train.shape[0]/1))"
   ]
  },
  {
   "cell_type": "markdown",
   "metadata": {},
   "source": [
    "Some data is displayed to test correctness:"
   ]
  },
  {
   "cell_type": "code",
   "execution_count": 8,
   "metadata": {},
   "outputs": [
    {
     "data": {
      "text/plain": [
       "array([[[[-1.03735197],\n",
       "         [-0.89556549],\n",
       "         [-0.86333553],\n",
       "         [-0.79691747],\n",
       "         [-1.02933632]],\n",
       "\n",
       "        [[-0.62045549],\n",
       "         [-1.12131956],\n",
       "         [-1.09834211],\n",
       "         [-1.21071285],\n",
       "         [-0.89097449]],\n",
       "\n",
       "        [[-0.77662649],\n",
       "         [-0.42900663],\n",
       "         [-0.48898618],\n",
       "         [-0.34303159],\n",
       "         [-0.54344048]],\n",
       "\n",
       "        [[-0.82021347],\n",
       "         [-1.10223872],\n",
       "         [-1.43213486],\n",
       "         [-1.23668022],\n",
       "         [-0.80660388]],\n",
       "\n",
       "        [[-1.14161503],\n",
       "         [-0.8973038 ],\n",
       "         [-0.81463949],\n",
       "         [-1.11085352],\n",
       "         [-0.7992573 ]],\n",
       "\n",
       "        [[-1.08113672],\n",
       "         [-0.97891421],\n",
       "         [-1.07888566],\n",
       "         [-1.38281487],\n",
       "         [-1.36753224]],\n",
       "\n",
       "        [[-1.10064217],\n",
       "         [-1.20024356],\n",
       "         [-0.98160082],\n",
       "         [-1.18467258],\n",
       "         [-1.17646873]],\n",
       "\n",
       "        [[-0.93694599],\n",
       "         [-1.29187268],\n",
       "         [-1.09148159],\n",
       "         [-1.08261535],\n",
       "         [-1.17069463]],\n",
       "\n",
       "        [[-0.89944773],\n",
       "         [-1.3247868 ],\n",
       "         [-1.15664701],\n",
       "         [-1.24760179],\n",
       "         [-0.87977491]],\n",
       "\n",
       "        [[-1.19032154],\n",
       "         [-1.52302097],\n",
       "         [-1.35863737],\n",
       "         [-0.86880211],\n",
       "         [-0.81303071]],\n",
       "\n",
       "        [[-0.70285032],\n",
       "         [-0.65085961],\n",
       "         [-0.93443664],\n",
       "         [-0.80252747],\n",
       "         [-0.60916807]],\n",
       "\n",
       "        [[-0.96290792],\n",
       "         [-0.85810923],\n",
       "         [-0.47278521],\n",
       "         [-0.53998968],\n",
       "         [-1.13193197]],\n",
       "\n",
       "        [[-0.75118771],\n",
       "         [-0.55103992],\n",
       "         [-0.76301727],\n",
       "         [-0.83516869],\n",
       "         [-1.13419099]],\n",
       "\n",
       "        [[-1.00954158],\n",
       "         [-1.1615045 ],\n",
       "         [-1.02511457],\n",
       "         [-1.27463154],\n",
       "         [-1.011748  ]],\n",
       "\n",
       "        [[-0.88361216],\n",
       "         [-0.86910364],\n",
       "         [-1.31514284],\n",
       "         [-1.21425185],\n",
       "         [-1.23079407]],\n",
       "\n",
       "        [[-1.01597019],\n",
       "         [-1.12309984],\n",
       "         [-0.92753371],\n",
       "         [-0.9920273 ],\n",
       "         [-0.78243505]],\n",
       "\n",
       "        [[-1.15517502],\n",
       "         [-1.4156726 ],\n",
       "         [-1.18378817],\n",
       "         [-0.88543035],\n",
       "         [-0.77323349]],\n",
       "\n",
       "        [[-0.78648571],\n",
       "         [-1.00500829],\n",
       "         [-0.95477712],\n",
       "         [-0.88424887],\n",
       "         [-0.93194491]],\n",
       "\n",
       "        [[-1.20146226],\n",
       "         [-1.37226843],\n",
       "         [-1.14318931],\n",
       "         [-1.07156402],\n",
       "         [-0.58674243]],\n",
       "\n",
       "        [[-0.71554487],\n",
       "         [-0.48642238],\n",
       "         [-0.71947953],\n",
       "         [-0.68085254],\n",
       "         [-0.96383125]],\n",
       "\n",
       "        [[-0.90601828],\n",
       "         [-0.68945676],\n",
       "         [-0.84456472],\n",
       "         [-0.79619706],\n",
       "         [-0.96878824]],\n",
       "\n",
       "        [[-1.00839652],\n",
       "         [-0.82727187],\n",
       "         [-0.83655556],\n",
       "         [-0.8971159 ],\n",
       "         [-1.00757175]],\n",
       "\n",
       "        [[-0.96714071],\n",
       "         [-0.99580452],\n",
       "         [-0.69406595],\n",
       "         [-1.00523549],\n",
       "         [-1.01361304]],\n",
       "\n",
       "        [[-0.74221127],\n",
       "         [-1.4001402 ],\n",
       "         [-1.15587642],\n",
       "         [-1.21805737],\n",
       "         [-1.35483442]],\n",
       "\n",
       "        [[-1.07573866],\n",
       "         [-1.23812929],\n",
       "         [-1.26114284],\n",
       "         [-1.12554754],\n",
       "         [-0.64737633]],\n",
       "\n",
       "        [[-1.01922171],\n",
       "         [-1.31862686],\n",
       "         [-1.10361385],\n",
       "         [-1.18864324],\n",
       "         [-1.06295307]],\n",
       "\n",
       "        [[-0.73411108],\n",
       "         [-0.91856648],\n",
       "         [-0.99791265],\n",
       "         [-0.57307504],\n",
       "         [-0.57288953]],\n",
       "\n",
       "        [[-1.03516577],\n",
       "         [-0.78115117],\n",
       "         [-1.10917844],\n",
       "         [-0.96107421],\n",
       "         [-1.15596697]],\n",
       "\n",
       "        [[-0.88331621],\n",
       "         [-0.91442635],\n",
       "         [-1.34771462],\n",
       "         [-1.47892565],\n",
       "         [-1.18693756]],\n",
       "\n",
       "        [[-0.95159837],\n",
       "         [-0.81244902],\n",
       "         [-0.79874966],\n",
       "         [-0.74563912],\n",
       "         [-1.02405004]],\n",
       "\n",
       "        [[-0.85582238],\n",
       "         [-0.69752797],\n",
       "         [-0.65703437],\n",
       "         [-0.91915135],\n",
       "         [-1.06115472]],\n",
       "\n",
       "        [[-0.79136682],\n",
       "         [-0.88076245],\n",
       "         [-0.57833563],\n",
       "         [-0.82267443],\n",
       "         [-0.98060214]]],\n",
       "\n",
       "\n",
       "       [[[-0.79691747],\n",
       "         [-1.02933632],\n",
       "         [-1.01638148],\n",
       "         [-0.87525957],\n",
       "         [-0.58139647]],\n",
       "\n",
       "        [[-1.21071285],\n",
       "         [-0.89097449],\n",
       "         [-0.72818378],\n",
       "         [-0.68259466],\n",
       "         [-0.94542956]],\n",
       "\n",
       "        [[-0.34303159],\n",
       "         [-0.54344048],\n",
       "         [-0.60672311],\n",
       "         [-0.92905933],\n",
       "         [-1.09466838]],\n",
       "\n",
       "        [[-1.23668022],\n",
       "         [-0.80660388],\n",
       "         [-0.91132505],\n",
       "         [-0.70211834],\n",
       "         [-1.19788434]],\n",
       "\n",
       "        [[-1.11085352],\n",
       "         [-0.7992573 ],\n",
       "         [-0.8979512 ],\n",
       "         [-1.03726856],\n",
       "         [-0.85578214]],\n",
       "\n",
       "        [[-1.38281487],\n",
       "         [-1.36753224],\n",
       "         [-1.21648054],\n",
       "         [-0.95925485],\n",
       "         [-0.75981195]],\n",
       "\n",
       "        [[-1.18467258],\n",
       "         [-1.17646873],\n",
       "         [-1.09400134],\n",
       "         [-1.0457258 ],\n",
       "         [-0.96805864]],\n",
       "\n",
       "        [[-1.08261535],\n",
       "         [-1.17069463],\n",
       "         [-1.10259936],\n",
       "         [-1.29138051],\n",
       "         [-1.22374958]],\n",
       "\n",
       "        [[-1.24760179],\n",
       "         [-0.87977491],\n",
       "         [-0.91432002],\n",
       "         [-0.80280785],\n",
       "         [-1.14832703]],\n",
       "\n",
       "        [[-0.86880211],\n",
       "         [-0.81303071],\n",
       "         [-0.78851189],\n",
       "         [-1.16267016],\n",
       "         [-1.16626081]],\n",
       "\n",
       "        [[-0.80252747],\n",
       "         [-0.60916807],\n",
       "         [-0.7600128 ],\n",
       "         [-0.90027156],\n",
       "         [-0.85906684]],\n",
       "\n",
       "        [[-0.53998968],\n",
       "         [-1.13193197],\n",
       "         [-1.23952879],\n",
       "         [-1.40577864],\n",
       "         [-1.09823156]],\n",
       "\n",
       "        [[-0.83516869],\n",
       "         [-1.13419099],\n",
       "         [-1.10954742],\n",
       "         [-0.77393059],\n",
       "         [-0.66037918]],\n",
       "\n",
       "        [[-1.27463154],\n",
       "         [-1.011748  ],\n",
       "         [-0.72535319],\n",
       "         [-0.73744596],\n",
       "         [-0.82060215]],\n",
       "\n",
       "        [[-1.21425185],\n",
       "         [-1.23079407],\n",
       "         [-1.0524283 ],\n",
       "         [-0.85944647],\n",
       "         [-0.84460979]],\n",
       "\n",
       "        [[-0.9920273 ],\n",
       "         [-0.78243505],\n",
       "         [-0.88764255],\n",
       "         [-0.92400623],\n",
       "         [-0.88639916]],\n",
       "\n",
       "        [[-0.88543035],\n",
       "         [-0.77323349],\n",
       "         [-0.97229736],\n",
       "         [-0.97405259],\n",
       "         [-1.21312939]],\n",
       "\n",
       "        [[-0.88424887],\n",
       "         [-0.93194491],\n",
       "         [-0.72459913],\n",
       "         [-0.61706236],\n",
       "         [-0.69532892]],\n",
       "\n",
       "        [[-1.07156402],\n",
       "         [-0.58674243],\n",
       "         [-0.69128996],\n",
       "         [-0.83486871],\n",
       "         [-0.80151306]],\n",
       "\n",
       "        [[-0.68085254],\n",
       "         [-0.96383125],\n",
       "         [-1.17639824],\n",
       "         [-1.21500534],\n",
       "         [-1.28847962]],\n",
       "\n",
       "        [[-0.79619706],\n",
       "         [-0.96878824],\n",
       "         [-0.80844427],\n",
       "         [-1.05419403],\n",
       "         [-1.03118976]],\n",
       "\n",
       "        [[-0.8971159 ],\n",
       "         [-1.00757175],\n",
       "         [-0.95833903],\n",
       "         [-0.90091885],\n",
       "         [-0.9483078 ]],\n",
       "\n",
       "        [[-1.00523549],\n",
       "         [-1.01361304],\n",
       "         [-0.9819206 ],\n",
       "         [-1.1619664 ],\n",
       "         [-1.05128215]],\n",
       "\n",
       "        [[-1.21805737],\n",
       "         [-1.35483442],\n",
       "         [-1.1875514 ],\n",
       "         [-0.7895438 ],\n",
       "         [-0.63241505]],\n",
       "\n",
       "        [[-1.12554754],\n",
       "         [-0.64737633],\n",
       "         [-0.77783226],\n",
       "         [-1.01907332],\n",
       "         [-0.97485589]],\n",
       "\n",
       "        [[-1.18864324],\n",
       "         [-1.06295307],\n",
       "         [-1.02026385],\n",
       "         [-1.18442334],\n",
       "         [-1.30767517]],\n",
       "\n",
       "        [[-0.57307504],\n",
       "         [-0.57288953],\n",
       "         [-0.54368275],\n",
       "         [-0.75608955],\n",
       "         [-0.72655526]],\n",
       "\n",
       "        [[-0.96107421],\n",
       "         [-1.15596697],\n",
       "         [-1.22133319],\n",
       "         [-0.98717594],\n",
       "         [-1.12012824]],\n",
       "\n",
       "        [[-1.47892565],\n",
       "         [-1.18693756],\n",
       "         [-1.09036033],\n",
       "         [-0.95261891],\n",
       "         [-0.77082243]],\n",
       "\n",
       "        [[-0.74563912],\n",
       "         [-1.02405004],\n",
       "         [-1.05750853],\n",
       "         [-0.91154698],\n",
       "         [-0.89722278]],\n",
       "\n",
       "        [[-0.91915135],\n",
       "         [-1.06115472],\n",
       "         [-1.026195  ],\n",
       "         [-0.81960382],\n",
       "         [-1.02470959]],\n",
       "\n",
       "        [[-0.82267443],\n",
       "         [-0.98060214],\n",
       "         [-0.89018295],\n",
       "         [-0.75711786],\n",
       "         [-0.71987869]]]])"
      ]
     },
     "execution_count": 8,
     "metadata": {},
     "output_type": "execute_result"
    }
   ],
   "source": [
    "X_train[:2]"
   ]
  },
  {
   "cell_type": "code",
   "execution_count": 9,
   "metadata": {},
   "outputs": [
    {
     "data": {
      "text/plain": [
       "array([[[[-2.24636365],\n",
       "         [-2.20112844],\n",
       "         [-1.88473709],\n",
       "         [-2.06572179],\n",
       "         [-2.15403831]],\n",
       "\n",
       "        [[-1.90751851],\n",
       "         [-1.0956336 ],\n",
       "         [-0.98822243],\n",
       "         [-0.94003682],\n",
       "         [-1.88194196]],\n",
       "\n",
       "        [[-0.50775118],\n",
       "         [-0.42044483],\n",
       "         [-0.49614307],\n",
       "         [-0.6443213 ],\n",
       "         [-0.66868082]],\n",
       "\n",
       "        [[-0.50229539],\n",
       "         [-0.53348963],\n",
       "         [-0.45896752],\n",
       "         [-0.39252133],\n",
       "         [-0.48219811]],\n",
       "\n",
       "        [[-0.82023032],\n",
       "         [-1.2868155 ],\n",
       "         [-1.4980404 ],\n",
       "         [-1.25781246],\n",
       "         [-0.97521201]],\n",
       "\n",
       "        [[-1.40756774],\n",
       "         [-1.29691289],\n",
       "         [-1.01284744],\n",
       "         [-1.0987745 ],\n",
       "         [-0.84068656]],\n",
       "\n",
       "        [[-0.92283663],\n",
       "         [-1.16757223],\n",
       "         [-1.29263633],\n",
       "         [-1.18024955],\n",
       "         [-1.13564443]],\n",
       "\n",
       "        [[-1.32865302],\n",
       "         [-1.1500591 ],\n",
       "         [-1.42280707],\n",
       "         [-1.35815133],\n",
       "         [-0.94848787]],\n",
       "\n",
       "        [[-2.08763631],\n",
       "         [-2.09764799],\n",
       "         [-1.84793458],\n",
       "         [-1.94542148],\n",
       "         [-2.00448356]],\n",
       "\n",
       "        [[-0.61737972],\n",
       "         [-0.54979591],\n",
       "         [-0.71679475],\n",
       "         [-0.84354007],\n",
       "         [-0.97333988]],\n",
       "\n",
       "        [[-0.98734423],\n",
       "         [-0.83847932],\n",
       "         [-0.68772015],\n",
       "         [-0.60187816],\n",
       "         [-0.86571607]],\n",
       "\n",
       "        [[-1.02970818],\n",
       "         [-0.91924648],\n",
       "         [-0.67142772],\n",
       "         [-0.72679717],\n",
       "         [-0.73713977]],\n",
       "\n",
       "        [[-0.75433687],\n",
       "         [-0.98207307],\n",
       "         [-1.13099999],\n",
       "         [-1.15043494],\n",
       "         [-1.17388203]],\n",
       "\n",
       "        [[-0.71196144],\n",
       "         [-0.7448367 ],\n",
       "         [-0.83796304],\n",
       "         [-0.80383926],\n",
       "         [-0.69199029]],\n",
       "\n",
       "        [[-0.87024731],\n",
       "         [-1.0437284 ],\n",
       "         [-1.17402556],\n",
       "         [-1.05898607],\n",
       "         [-0.88605559]],\n",
       "\n",
       "        [[-1.30838004],\n",
       "         [-1.15511185],\n",
       "         [-1.04896284],\n",
       "         [-1.03394955],\n",
       "         [-0.78484261]],\n",
       "\n",
       "        [[-2.11915523],\n",
       "         [-2.30227954],\n",
       "         [-2.04015802],\n",
       "         [-1.94259882],\n",
       "         [-2.00240385]],\n",
       "\n",
       "        [[-1.60300254],\n",
       "         [-0.99897456],\n",
       "         [-0.97068128],\n",
       "         [-0.83419294],\n",
       "         [-1.07018753]],\n",
       "\n",
       "        [[-0.3871312 ],\n",
       "         [-0.44107142],\n",
       "         [-0.37847329],\n",
       "         [-0.48706056],\n",
       "         [-0.4293516 ]],\n",
       "\n",
       "        [[-0.70224311],\n",
       "         [-0.63910876],\n",
       "         [-0.61029781],\n",
       "         [-0.6626765 ],\n",
       "         [-0.9081745 ]],\n",
       "\n",
       "        [[-1.15313506],\n",
       "         [-1.10816048],\n",
       "         [-1.21738722],\n",
       "         [-1.04749492],\n",
       "         [-1.07252176]],\n",
       "\n",
       "        [[-0.69052038],\n",
       "         [-0.83332602],\n",
       "         [-1.17088334],\n",
       "         [-1.11350769],\n",
       "         [-0.89366042]],\n",
       "\n",
       "        [[-1.23470874],\n",
       "         [-1.43195874],\n",
       "         [-1.4781023 ],\n",
       "         [-1.21789737],\n",
       "         [-1.00938207]],\n",
       "\n",
       "        [[-1.57821402],\n",
       "         [-1.38390025],\n",
       "         [-1.2298066 ],\n",
       "         [-1.14457385],\n",
       "         [-1.00386022]],\n",
       "\n",
       "        [[-2.13991144],\n",
       "         [-2.29621593],\n",
       "         [-2.03094033],\n",
       "         [-1.84592355],\n",
       "         [-1.83121374]],\n",
       "\n",
       "        [[-1.5604413 ],\n",
       "         [-0.89661075],\n",
       "         [-0.784807  ],\n",
       "         [-0.51771571],\n",
       "         [-1.1914422 ]],\n",
       "\n",
       "        [[-0.39464668],\n",
       "         [-0.38865332],\n",
       "         [-0.45253812],\n",
       "         [-0.77096433],\n",
       "         [-0.4889581 ]],\n",
       "\n",
       "        [[-0.63262983],\n",
       "         [-0.59516019],\n",
       "         [-0.51779645],\n",
       "         [-0.5810599 ],\n",
       "         [-0.87271596]],\n",
       "\n",
       "        [[-1.29994441],\n",
       "         [-1.48822161],\n",
       "         [-1.32979699],\n",
       "         [-1.03375478],\n",
       "         [-1.02387494]],\n",
       "\n",
       "        [[-0.95749833],\n",
       "         [-1.24114345],\n",
       "         [-1.41020306],\n",
       "         [-1.19742247],\n",
       "         [-0.89540237]],\n",
       "\n",
       "        [[-1.10477866],\n",
       "         [-1.09201319],\n",
       "         [-1.31688998],\n",
       "         [-1.32212816],\n",
       "         [-0.85025126]],\n",
       "\n",
       "        [[-1.04470956],\n",
       "         [-1.46061745],\n",
       "         [-1.4390195 ],\n",
       "         [-1.33070295],\n",
       "         [-1.00253845]]],\n",
       "\n",
       "\n",
       "       [[[-2.06572179],\n",
       "         [-2.15403831],\n",
       "         [-2.16312358],\n",
       "         [-2.185988  ],\n",
       "         [-2.22393209]],\n",
       "\n",
       "        [[-0.94003682],\n",
       "         [-1.88194196],\n",
       "         [-1.55433082],\n",
       "         [-1.44757156],\n",
       "         [-1.53446714]],\n",
       "\n",
       "        [[-0.6443213 ],\n",
       "         [-0.66868082],\n",
       "         [-1.15486672],\n",
       "         [-1.07921687],\n",
       "         [-1.0595935 ]],\n",
       "\n",
       "        [[-0.39252133],\n",
       "         [-0.48219811],\n",
       "         [-0.65709603],\n",
       "         [-0.68517214],\n",
       "         [-0.64931447]],\n",
       "\n",
       "        [[-1.25781246],\n",
       "         [-0.97521201],\n",
       "         [-0.61026737],\n",
       "         [-0.76642687],\n",
       "         [-0.9058964 ]],\n",
       "\n",
       "        [[-1.0987745 ],\n",
       "         [-0.84068656],\n",
       "         [-0.84406108],\n",
       "         [-0.71583376],\n",
       "         [-0.71267157]],\n",
       "\n",
       "        [[-1.18024955],\n",
       "         [-1.13564443],\n",
       "         [-0.79208142],\n",
       "         [-0.73600216],\n",
       "         [-0.67839914]],\n",
       "\n",
       "        [[-1.35815133],\n",
       "         [-0.94848787],\n",
       "         [-0.90290444],\n",
       "         [-0.91808585],\n",
       "         [-0.90056034]],\n",
       "\n",
       "        [[-1.94542148],\n",
       "         [-2.00448356],\n",
       "         [-2.31938216],\n",
       "         [-2.13012633],\n",
       "         [-1.97116699]],\n",
       "\n",
       "        [[-0.84354007],\n",
       "         [-0.97333988],\n",
       "         [-1.16012324],\n",
       "         [-1.0720961 ],\n",
       "         [-1.15853566]],\n",
       "\n",
       "        [[-0.60187816],\n",
       "         [-0.86571607],\n",
       "         [-1.17840095],\n",
       "         [-1.06018866],\n",
       "         [-1.00786562]],\n",
       "\n",
       "        [[-0.72679717],\n",
       "         [-0.73713977],\n",
       "         [-0.92807305],\n",
       "         [-0.88944167],\n",
       "         [-0.75626695]],\n",
       "\n",
       "        [[-1.15043494],\n",
       "         [-1.17388203],\n",
       "         [-0.84444853],\n",
       "         [-0.88454882],\n",
       "         [-0.95250935]],\n",
       "\n",
       "        [[-0.80383926],\n",
       "         [-0.69199029],\n",
       "         [-0.61204054],\n",
       "         [-0.78212109],\n",
       "         [-0.86775328]],\n",
       "\n",
       "        [[-1.05898607],\n",
       "         [-0.88605559],\n",
       "         [-0.74465267],\n",
       "         [-0.77496054],\n",
       "         [-0.76000746]],\n",
       "\n",
       "        [[-1.03394955],\n",
       "         [-0.78484261],\n",
       "         [-0.75871274],\n",
       "         [-0.64142193],\n",
       "         [-0.64688642]],\n",
       "\n",
       "        [[-1.94259882],\n",
       "         [-2.00240385],\n",
       "         [-2.2660941 ],\n",
       "         [-2.15385083],\n",
       "         [-2.14632341]],\n",
       "\n",
       "        [[-0.83419294],\n",
       "         [-1.07018753],\n",
       "         [-1.17226682],\n",
       "         [-1.10749036],\n",
       "         [-1.29073879]],\n",
       "\n",
       "        [[-0.48706056],\n",
       "         [-0.4293516 ],\n",
       "         [-0.97363687],\n",
       "         [-0.92267783],\n",
       "         [-0.58024598]],\n",
       "\n",
       "        [[-0.6626765 ],\n",
       "         [-0.9081745 ],\n",
       "         [-0.70605454],\n",
       "         [-0.71280125],\n",
       "         [-0.86472609]],\n",
       "\n",
       "        [[-1.04749492],\n",
       "         [-1.07252176],\n",
       "         [-0.91866555],\n",
       "         [-0.99011856],\n",
       "         [-0.97909237]],\n",
       "\n",
       "        [[-1.11350769],\n",
       "         [-0.89366042],\n",
       "         [-0.61005828],\n",
       "         [-0.60104809],\n",
       "         [-0.59510495]],\n",
       "\n",
       "        [[-1.21789737],\n",
       "         [-1.00938207],\n",
       "         [-0.93034223],\n",
       "         [-0.87680665],\n",
       "         [-0.97278959]],\n",
       "\n",
       "        [[-1.14457385],\n",
       "         [-1.00386022],\n",
       "         [-0.85117853],\n",
       "         [-0.93551538],\n",
       "         [-1.11460795]],\n",
       "\n",
       "        [[-1.84592355],\n",
       "         [-1.83121374],\n",
       "         [-2.19034089],\n",
       "         [-2.12400874],\n",
       "         [-2.04046181]],\n",
       "\n",
       "        [[-0.51771571],\n",
       "         [-1.1914422 ],\n",
       "         [-1.44012654],\n",
       "         [-1.5680856 ],\n",
       "         [-1.64895681]],\n",
       "\n",
       "        [[-0.77096433],\n",
       "         [-0.4889581 ],\n",
       "         [-0.63712533],\n",
       "         [-0.57585831],\n",
       "         [-0.63609615]],\n",
       "\n",
       "        [[-0.5810599 ],\n",
       "         [-0.87271596],\n",
       "         [-0.72556581],\n",
       "         [-0.8416387 ],\n",
       "         [-0.80848937]],\n",
       "\n",
       "        [[-1.03375478],\n",
       "         [-1.02387494],\n",
       "         [-0.88549958],\n",
       "         [-0.83251092],\n",
       "         [-0.75542184]],\n",
       "\n",
       "        [[-1.19742247],\n",
       "         [-0.89540237],\n",
       "         [-0.98265503],\n",
       "         [-0.85965457],\n",
       "         [-0.79315635]],\n",
       "\n",
       "        [[-1.32212816],\n",
       "         [-0.85025126],\n",
       "         [-0.74733818],\n",
       "         [-0.8489848 ],\n",
       "         [-0.97429396]],\n",
       "\n",
       "        [[-1.33070295],\n",
       "         [-1.00253845],\n",
       "         [-0.9018384 ],\n",
       "         [-0.88903291],\n",
       "         [-0.85652957]]]])"
      ]
     },
     "execution_count": 9,
     "metadata": {},
     "output_type": "execute_result"
    }
   ],
   "source": [
    "X_dev[:2]"
   ]
  },
  {
   "cell_type": "code",
   "execution_count": 10,
   "metadata": {},
   "outputs": [
    {
     "data": {
      "text/plain": [
       "array([[1., 0.],\n",
       "       [1., 0.]])"
      ]
     },
     "execution_count": 10,
     "metadata": {},
     "output_type": "execute_result"
    }
   ],
   "source": [
    "y_train[:2]"
   ]
  },
  {
   "cell_type": "code",
   "execution_count": 11,
   "metadata": {},
   "outputs": [
    {
     "data": {
      "text/plain": [
       "array([0., 1.])"
      ]
     },
     "execution_count": 11,
     "metadata": {},
     "output_type": "execute_result"
    }
   ],
   "source": [
    "y_train[-20]"
   ]
  },
  {
   "cell_type": "code",
   "execution_count": 12,
   "metadata": {},
   "outputs": [
    {
     "data": {
      "text/plain": [
       "array([[1., 0.],\n",
       "       [1., 0.]])"
      ]
     },
     "execution_count": 12,
     "metadata": {},
     "output_type": "execute_result"
    }
   ],
   "source": [
    "y_dev[:2]"
   ]
  },
  {
   "cell_type": "code",
   "execution_count": 13,
   "metadata": {},
   "outputs": [
    {
     "data": {
      "text/plain": [
       "(32, 5, 1)"
      ]
     },
     "execution_count": 13,
     "metadata": {},
     "output_type": "execute_result"
    }
   ],
   "source": [
    "X_dev[0].shape"
   ]
  },
  {
   "cell_type": "code",
   "execution_count": 14,
   "metadata": {},
   "outputs": [
    {
     "data": {
      "text/plain": [
       "(26, 32, 5, 1)"
      ]
     },
     "execution_count": 14,
     "metadata": {},
     "output_type": "execute_result"
    }
   ],
   "source": [
    "X_dev.shape"
   ]
  },
  {
   "cell_type": "code",
   "execution_count": 15,
   "metadata": {},
   "outputs": [
    {
     "data": {
      "text/plain": [
       "(104, 32, 5, 1)"
      ]
     },
     "execution_count": 15,
     "metadata": {},
     "output_type": "execute_result"
    }
   ],
   "source": [
    "X_train.shape"
   ]
  },
  {
   "cell_type": "code",
   "execution_count": 16,
   "metadata": {},
   "outputs": [
    {
     "data": {
      "text/plain": [
       "2"
      ]
     },
     "execution_count": 16,
     "metadata": {},
     "output_type": "execute_result"
    }
   ],
   "source": [
    "y_train.shape[1]"
   ]
  },
  {
   "cell_type": "markdown",
   "metadata": {},
   "source": [
    "### 4 - Set hyperparameters"
   ]
  },
  {
   "cell_type": "code",
   "execution_count": 17,
   "metadata": {},
   "outputs": [],
   "source": [
    "# Tensorboard\n",
    "from time import time\n",
    "from keras.callbacks import TensorBoard\n",
    "tensorboard = TensorBoard(log_dir='logs/{}'.format(time()))"
   ]
  },
  {
   "cell_type": "code",
   "execution_count": 18,
   "metadata": {},
   "outputs": [
    {
     "data": {
      "text/plain": [
       "'\\nn_epochs = 100 #2000\\n#learning_rate = 0.001\\nbatch_size = 32 #250 \\nn_neurons_per_hlayer = [500, 250, 75, 25] # Number of units per layer, 4 hidden layers\\nrate_dropout = [0.8, 0.4, 0.2, 0.1]\\nweight_decay = 1e-4\\n'"
      ]
     },
     "execution_count": 18,
     "metadata": {},
     "output_type": "execute_result"
    }
   ],
   "source": [
    "\"\"\"\n",
    "n_epochs = 100 #2000\n",
    "#learning_rate = 0.001\n",
    "batch_size = 32 #250 \n",
    "n_neurons_per_hlayer = [500, 250, 75, 25] # Number of units per layer, 4 hidden layers\n",
    "rate_dropout = [0.8, 0.4, 0.2, 0.1]\n",
    "weight_decay = 1e-4\n",
    "\"\"\""
   ]
  },
  {
   "cell_type": "markdown",
   "metadata": {},
   "source": [
    "### 5 - Build the model: "
   ]
  },
  {
   "cell_type": "code",
   "execution_count": 19,
   "metadata": {},
   "outputs": [
    {
     "name": "stdout",
     "output_type": "stream",
     "text": [
      "Model: \"sequential\"\n",
      "_________________________________________________________________\n",
      "Layer (type)                 Output Shape              Param #   \n",
      "=================================================================\n",
      "conv2d (Conv2D)              (None, 32, 5, 4)          104       \n",
      "_________________________________________________________________\n",
      "conv2d_1 (Conv2D)            (None, 32, 5, 4)          516       \n",
      "_________________________________________________________________\n",
      "max_pooling2d (MaxPooling2D) (None, 16, 2, 4)          0         \n",
      "_________________________________________________________________\n",
      "flatten (Flatten)            (None, 128)               0         \n",
      "_________________________________________________________________\n",
      "dense (Dense)                (None, 2)                 258       \n",
      "=================================================================\n",
      "Total params: 878\n",
      "Trainable params: 878\n",
      "Non-trainable params: 0\n",
      "_________________________________________________________________\n"
     ]
    }
   ],
   "source": [
    "from keras.models import Sequential\n",
    "from keras.layers import Dense, Dropout, Activation, Flatten, DepthwiseConv2D\n",
    "from keras.layers.convolutional import Conv2D, MaxPooling2D\n",
    "from keras import optimizers, regularizers\n",
    "import keras.backend as K\n",
    "#K.set_image_data_format('channels_first')\n",
    "\n",
    "weight_decay = 1e-4\n",
    "\n",
    "model = Sequential()\n",
    "# Convolution2D(filtrosConv1, tamaño_filtro1, padding=\"same\", input_shape=(longitud, altura,3), activation = \"relu\")\n",
    "    # - filtrosConv1 número de filtros que aplicaremos tras la primera convolución, normalmente este tamaño va a aumentando\n",
    "    # tras convoluciones para que aumente la dimensión de profundidad (qué cosas hay en mi imagen)\n",
    "    # - tamaño_filtro1 tamaño espacial del kernel (de los filtros)\n",
    "    # - padding = si es same es que es igual que la imagen, vamos crea una imagen del mismo tamaño con el filtro, si es \n",
    "    # valid es que no hay padding y crea una imagen más pequeña que la imagen (creo)\n",
    "    # - input_shape = longitud y altura, tamaño que usará para convolucionar al entrenar\n",
    "    \n",
    "# CAPA PARA FILTRADO TEMPORAL \n",
    "model.add(Conv2D(filters = 4, kernel_size=(1,25), padding=\"same\", activation=\"relu\",input_shape=(32, 5, 1 ), kernel_initializer=\"he_normal\", kernel_regularizer=regularizers.l2(weight_decay)))\n",
    "# CAPA PARA FILTRADO ESPACIAL\n",
    "model.add(Conv2D(filters = 4, kernel_size=(32,1), padding=\"same\", activation=\"relu\", kernel_initializer=\"he_normal\", kernel_regularizer=regularizers.l2(weight_decay)))\n",
    "model.add(MaxPooling2D(pool_size=(2, 2)))\n",
    "\"\"\"\n",
    "model.add(Dropout(0.5))\n",
    "\n",
    "## Siguientes capas convolucionales: \n",
    "model.add(Conv2D(20, (3,3), padding='same',activation='relu', kernel_initializer=\"he_normal\",kernel_regularizer=regularizers.l2(weight_decay)))\n",
    "model.add(MaxPooling2D(pool_size=(2,2)))\n",
    "model.add(Dropout(0.4))\n",
    "\"\"\"\n",
    "\n",
    "\n",
    "\n",
    "\"\"\"\n",
    "model.add(MaxPooling2D(pool_size=(2, 2)))\n",
    "model.add(Dropout(0.5))\n",
    "\n",
    "\n",
    "model.add(Conv2D(96, (3, 3), padding='same',activation='relu', kernel_initializer=\"he_normal\",kernel_regularizer=regularizers.l2(weight_decay)))\n",
    "#model.add(Conv2D(96, (3, 3), padding='same',activation='relu', kernel_initializer=\"he_normal\", kernel_regularizer=regularizers.l2(weight_decay)))\n",
    "model.add(MaxPooling2D(pool_size=(2, 2)))\n",
    "model.add(Dropout(0.2))\n",
    "\n",
    "model.add(Conv2D(192, (3, 3), padding='same',activation='relu', kernel_initializer=\"he_normal\", kernel_regularizer=regularizers.l2(weight_decay)))\n",
    "#model.add(Conv2D(192, (3, 3), padding='same',activation='relu', kernel_initializer=\"he_normal\", kernel_regularizer=regularizers.l2(weight_decay)))\n",
    "model.add(MaxPooling2D(pool_size=(2, 2)))\n",
    "model.add(Dropout(0.1))\n",
    "\"\"\"\n",
    "\n",
    "model.add(Flatten())\n",
    "model.add(Dense(y_train.shape[1], activation=\"softmax\"))\n",
    "\n",
    "opt = optimizers.Adam(lr=0.001, beta_1=0.9, beta_2=0.999)        \n",
    "model.compile(optimizer=opt, loss='categorical_crossentropy', metrics=['accuracy'])\n",
    "model.summary()"
   ]
  },
  {
   "cell_type": "code",
   "execution_count": 20,
   "metadata": {},
   "outputs": [
    {
     "data": {
      "text/plain": [
       "[<tensorflow.python.keras.layers.convolutional.Conv2D at 0x15e31be4370>,\n",
       " <tensorflow.python.keras.layers.convolutional.Conv2D at 0x15e32c34fd0>,\n",
       " <tensorflow.python.keras.layers.pooling.MaxPooling2D at 0x15e32c348b0>,\n",
       " <tensorflow.python.keras.layers.core.Flatten at 0x15e3912c880>,\n",
       " <tensorflow.python.keras.layers.core.Dense at 0x15e39149a30>]"
      ]
     },
     "execution_count": 20,
     "metadata": {},
     "output_type": "execute_result"
    }
   ],
   "source": [
    "model.layers"
   ]
  },
  {
   "cell_type": "code",
   "execution_count": 21,
   "metadata": {},
   "outputs": [
    {
     "name": "stdout",
     "output_type": "stream",
     "text": [
      "conv2d\n",
      "conv2d_1\n",
      "max_pooling2d\n",
      "flatten\n",
      "dense\n"
     ]
    }
   ],
   "source": [
    "for l in model.layers: print (l.name)"
   ]
  },
  {
   "cell_type": "markdown",
   "metadata": {},
   "source": [
    "All the parameters of a layer can bee accessed:"
   ]
  },
  {
   "cell_type": "code",
   "execution_count": 22,
   "metadata": {},
   "outputs": [
    {
     "data": {
      "text/plain": [
       "(1, 25, 1, 4)"
      ]
     },
     "execution_count": 22,
     "metadata": {},
     "output_type": "execute_result"
    }
   ],
   "source": [
    "weights, biases = model.layers[0].get_weights()\n",
    "weights.shape"
   ]
  },
  {
   "cell_type": "code",
   "execution_count": 23,
   "metadata": {},
   "outputs": [
    {
     "data": {
      "text/plain": [
       "array([[[[ 0.5087397 , -0.28844872, -0.27766165, -0.32813713]],\n",
       "\n",
       "        [[-0.09128369, -0.3527842 , -0.05243293,  0.23168762]],\n",
       "\n",
       "        [[ 0.18761961,  0.21506894,  0.19687203,  0.1882028 ]],\n",
       "\n",
       "        [[-0.22280428,  0.1139579 , -0.10461022, -0.30602756]],\n",
       "\n",
       "        [[-0.2711162 , -0.03644811, -0.04756389,  0.05642084]],\n",
       "\n",
       "        [[ 0.27191338, -0.20615216, -0.13434015,  0.06442132]],\n",
       "\n",
       "        [[ 0.1293954 ,  0.04888869,  0.12539542,  0.2776367 ]],\n",
       "\n",
       "        [[ 0.11597813, -0.09306408,  0.23072976, -0.23979288]],\n",
       "\n",
       "        [[ 0.04062282,  0.19822876, -0.13958399, -0.11788226]],\n",
       "\n",
       "        [[ 0.09745005, -0.32827958,  0.6313099 ,  0.22095977]],\n",
       "\n",
       "        [[ 0.00651892, -0.11886325, -0.14760742,  0.02507851]],\n",
       "\n",
       "        [[ 0.24896634,  0.06721719,  0.62338525,  0.11681069]],\n",
       "\n",
       "        [[-0.21137315,  0.05960973, -0.61538416,  0.19129777]],\n",
       "\n",
       "        [[ 0.23354772, -0.2633931 , -0.56580883, -0.11163166]],\n",
       "\n",
       "        [[-0.05195999, -0.32041   , -0.0103717 ,  0.4139064 ]],\n",
       "\n",
       "        [[ 0.28554013,  0.03054283, -0.63889855,  0.34413546]],\n",
       "\n",
       "        [[-0.36930308, -0.00802788,  0.14703238, -0.06128358]],\n",
       "\n",
       "        [[-0.1693905 ,  0.09875155, -0.11165916,  0.59666234]],\n",
       "\n",
       "        [[ 0.16630352,  0.15260448, -0.07096288, -0.10077478]],\n",
       "\n",
       "        [[-0.24574931,  0.2709081 ,  0.260914  , -0.09454977]],\n",
       "\n",
       "        [[-0.05574957, -0.06199306,  0.5086162 , -0.52825487]],\n",
       "\n",
       "        [[-0.14160189,  0.21582587, -0.16218172, -0.60190815]],\n",
       "\n",
       "        [[-0.3953551 ,  0.1262548 , -0.05553821, -0.04735588]],\n",
       "\n",
       "        [[-0.5421791 , -0.06041627,  0.24987398,  0.06354689]],\n",
       "\n",
       "        [[ 0.33132476,  0.06357138, -0.26302996,  0.19403426]]]],\n",
       "      dtype=float32)"
      ]
     },
     "execution_count": 23,
     "metadata": {},
     "output_type": "execute_result"
    }
   ],
   "source": [
    "weights"
   ]
  },
  {
   "cell_type": "code",
   "execution_count": 24,
   "metadata": {},
   "outputs": [
    {
     "data": {
      "text/plain": [
       "array([0., 0., 0., 0.], dtype=float32)"
      ]
     },
     "execution_count": 24,
     "metadata": {},
     "output_type": "execute_result"
    }
   ],
   "source": [
    "biases # Bias de la primera capa: 500 bias inicializados a 0 "
   ]
  },
  {
   "cell_type": "code",
   "execution_count": 25,
   "metadata": {},
   "outputs": [
    {
     "data": {
      "text/plain": [
       "(4,)"
      ]
     },
     "execution_count": 25,
     "metadata": {},
     "output_type": "execute_result"
    }
   ],
   "source": [
    "biases.shape"
   ]
  },
  {
   "cell_type": "markdown",
   "metadata": {},
   "source": [
    "### 6. Compile the model"
   ]
  },
  {
   "cell_type": "markdown",
   "metadata": {},
   "source": [
    "### 7. Train the model with M-BGD"
   ]
  },
  {
   "cell_type": "code",
   "execution_count": 26,
   "metadata": {},
   "outputs": [
    {
     "name": "stdout",
     "output_type": "stream",
     "text": [
      "Epoch 1/100\n",
      "4/4 - 1s - loss: 0.7705 - accuracy: 0.4808 - val_loss: 0.9924 - val_accuracy: 0.6154\n",
      "Epoch 2/100\n",
      "4/4 - 0s - loss: 0.7865 - accuracy: 0.6154 - val_loss: 0.9357 - val_accuracy: 0.6154\n",
      "Epoch 3/100\n",
      "4/4 - 0s - loss: 0.6988 - accuracy: 0.6154 - val_loss: 0.8813 - val_accuracy: 0.3462\n",
      "Epoch 4/100\n",
      "4/4 - 0s - loss: 0.6939 - accuracy: 0.5673 - val_loss: 0.8747 - val_accuracy: 0.2692\n",
      "Epoch 5/100\n",
      "4/4 - 0s - loss: 0.6767 - accuracy: 0.6250 - val_loss: 0.8054 - val_accuracy: 0.5385\n",
      "Epoch 6/100\n",
      "4/4 - 0s - loss: 0.6301 - accuracy: 0.6346 - val_loss: 0.7749 - val_accuracy: 0.6154\n",
      "Epoch 7/100\n",
      "4/4 - 0s - loss: 0.6156 - accuracy: 0.6250 - val_loss: 0.7754 - val_accuracy: 0.6154\n",
      "Epoch 8/100\n",
      "4/4 - 0s - loss: 0.6129 - accuracy: 0.6250 - val_loss: 0.7461 - val_accuracy: 0.6154\n",
      "Epoch 9/100\n",
      "4/4 - 0s - loss: 0.5861 - accuracy: 0.6442 - val_loss: 0.6962 - val_accuracy: 0.6538\n",
      "Epoch 10/100\n",
      "4/4 - 0s - loss: 0.5683 - accuracy: 0.7692 - val_loss: 0.6752 - val_accuracy: 0.6154\n",
      "Epoch 11/100\n",
      "4/4 - 0s - loss: 0.5648 - accuracy: 0.8077 - val_loss: 0.6621 - val_accuracy: 0.6154\n",
      "Epoch 12/100\n",
      "4/4 - 0s - loss: 0.5457 - accuracy: 0.8173 - val_loss: 0.6530 - val_accuracy: 0.6538\n",
      "Epoch 13/100\n",
      "4/4 - 0s - loss: 0.5311 - accuracy: 0.7981 - val_loss: 0.6541 - val_accuracy: 0.6154\n",
      "Epoch 14/100\n",
      "4/4 - 0s - loss: 0.5208 - accuracy: 0.7308 - val_loss: 0.6737 - val_accuracy: 0.6154\n",
      "Epoch 15/100\n",
      "4/4 - 0s - loss: 0.5198 - accuracy: 0.7212 - val_loss: 0.6654 - val_accuracy: 0.6154\n",
      "Epoch 16/100\n",
      "4/4 - 0s - loss: 0.5129 - accuracy: 0.7500 - val_loss: 0.6255 - val_accuracy: 0.7308\n",
      "Epoch 17/100\n",
      "4/4 - 0s - loss: 0.4958 - accuracy: 0.8077 - val_loss: 0.6062 - val_accuracy: 0.7308\n",
      "Epoch 18/100\n",
      "4/4 - 0s - loss: 0.4893 - accuracy: 0.8558 - val_loss: 0.5976 - val_accuracy: 0.7308\n",
      "Epoch 19/100\n",
      "4/4 - 0s - loss: 0.4799 - accuracy: 0.8462 - val_loss: 0.5991 - val_accuracy: 0.7308\n",
      "Epoch 20/100\n",
      "4/4 - 0s - loss: 0.4707 - accuracy: 0.8269 - val_loss: 0.5998 - val_accuracy: 0.7308\n",
      "Epoch 21/100\n",
      "4/4 - 0s - loss: 0.4634 - accuracy: 0.8269 - val_loss: 0.6039 - val_accuracy: 0.7308\n",
      "Epoch 22/100\n",
      "4/4 - 0s - loss: 0.4560 - accuracy: 0.8269 - val_loss: 0.6012 - val_accuracy: 0.7308\n",
      "Epoch 23/100\n",
      "4/4 - 0s - loss: 0.4511 - accuracy: 0.8269 - val_loss: 0.6111 - val_accuracy: 0.6923\n",
      "Epoch 24/100\n",
      "4/4 - 0s - loss: 0.4449 - accuracy: 0.8558 - val_loss: 0.6046 - val_accuracy: 0.6923\n",
      "Epoch 25/100\n",
      "4/4 - 0s - loss: 0.4360 - accuracy: 0.8462 - val_loss: 0.5713 - val_accuracy: 0.7308\n",
      "Epoch 26/100\n",
      "4/4 - 0s - loss: 0.4408 - accuracy: 0.8365 - val_loss: 0.5618 - val_accuracy: 0.7692\n",
      "Epoch 27/100\n",
      "4/4 - 0s - loss: 0.4350 - accuracy: 0.8365 - val_loss: 0.5866 - val_accuracy: 0.7308\n",
      "Epoch 28/100\n",
      "4/4 - 0s - loss: 0.4204 - accuracy: 0.8462 - val_loss: 0.6308 - val_accuracy: 0.6923\n",
      "Epoch 29/100\n",
      "4/4 - 0s - loss: 0.4188 - accuracy: 0.8654 - val_loss: 0.6393 - val_accuracy: 0.6923\n",
      "Epoch 30/100\n",
      "4/4 - 0s - loss: 0.4114 - accuracy: 0.8654 - val_loss: 0.5943 - val_accuracy: 0.6923\n",
      "Epoch 31/100\n",
      "4/4 - 0s - loss: 0.4051 - accuracy: 0.8462 - val_loss: 0.5914 - val_accuracy: 0.7308\n",
      "Epoch 32/100\n",
      "4/4 - 0s - loss: 0.3997 - accuracy: 0.8654 - val_loss: 0.6050 - val_accuracy: 0.6923\n",
      "Epoch 33/100\n",
      "4/4 - 0s - loss: 0.3956 - accuracy: 0.8654 - val_loss: 0.6036 - val_accuracy: 0.6923\n",
      "Epoch 34/100\n",
      "4/4 - 0s - loss: 0.3894 - accuracy: 0.8558 - val_loss: 0.5764 - val_accuracy: 0.7692\n",
      "Epoch 35/100\n",
      "4/4 - 0s - loss: 0.3932 - accuracy: 0.8462 - val_loss: 0.5772 - val_accuracy: 0.7692\n",
      "Epoch 36/100\n",
      "4/4 - 0s - loss: 0.3861 - accuracy: 0.8750 - val_loss: 0.6336 - val_accuracy: 0.6923\n",
      "Epoch 37/100\n",
      "4/4 - 0s - loss: 0.3812 - accuracy: 0.8942 - val_loss: 0.6552 - val_accuracy: 0.6923\n",
      "Epoch 38/100\n",
      "4/4 - 0s - loss: 0.3751 - accuracy: 0.8942 - val_loss: 0.6174 - val_accuracy: 0.6923\n",
      "Epoch 39/100\n",
      "4/4 - 0s - loss: 0.3662 - accuracy: 0.8846 - val_loss: 0.6232 - val_accuracy: 0.6923\n",
      "Epoch 40/100\n",
      "4/4 - 0s - loss: 0.3620 - accuracy: 0.8942 - val_loss: 0.6346 - val_accuracy: 0.6923\n",
      "Epoch 41/100\n",
      "4/4 - 0s - loss: 0.3616 - accuracy: 0.9038 - val_loss: 0.6657 - val_accuracy: 0.6923\n",
      "Epoch 42/100\n",
      "4/4 - 0s - loss: 0.3575 - accuracy: 0.9038 - val_loss: 0.6653 - val_accuracy: 0.6923\n",
      "Epoch 43/100\n",
      "4/4 - 0s - loss: 0.3524 - accuracy: 0.9038 - val_loss: 0.6477 - val_accuracy: 0.6923\n",
      "Epoch 44/100\n",
      "4/4 - 0s - loss: 0.3467 - accuracy: 0.9038 - val_loss: 0.6458 - val_accuracy: 0.6923\n",
      "Epoch 45/100\n",
      "4/4 - 0s - loss: 0.3467 - accuracy: 0.9038 - val_loss: 0.6541 - val_accuracy: 0.6923\n",
      "Epoch 46/100\n",
      "4/4 - 0s - loss: 0.3381 - accuracy: 0.9038 - val_loss: 0.6224 - val_accuracy: 0.6923\n",
      "Epoch 47/100\n",
      "4/4 - 0s - loss: 0.3374 - accuracy: 0.9038 - val_loss: 0.6159 - val_accuracy: 0.6923\n",
      "Epoch 48/100\n",
      "4/4 - 0s - loss: 0.3366 - accuracy: 0.9038 - val_loss: 0.6377 - val_accuracy: 0.6923\n",
      "Epoch 49/100\n",
      "4/4 - 0s - loss: 0.3339 - accuracy: 0.9038 - val_loss: 0.7148 - val_accuracy: 0.6538\n",
      "Epoch 50/100\n",
      "4/4 - 0s - loss: 0.3347 - accuracy: 0.8942 - val_loss: 0.6785 - val_accuracy: 0.6923\n",
      "Epoch 51/100\n",
      "4/4 - 0s - loss: 0.3244 - accuracy: 0.9038 - val_loss: 0.6914 - val_accuracy: 0.6923\n",
      "Epoch 52/100\n",
      "4/4 - 0s - loss: 0.3195 - accuracy: 0.9038 - val_loss: 0.6481 - val_accuracy: 0.6923\n",
      "Epoch 53/100\n",
      "4/4 - 0s - loss: 0.3149 - accuracy: 0.9135 - val_loss: 0.6188 - val_accuracy: 0.6538\n",
      "Epoch 54/100\n",
      "4/4 - 0s - loss: 0.3241 - accuracy: 0.8750 - val_loss: 0.6387 - val_accuracy: 0.6923\n",
      "Epoch 55/100\n",
      "4/4 - 0s - loss: 0.3089 - accuracy: 0.9135 - val_loss: 0.7207 - val_accuracy: 0.6538\n",
      "Epoch 56/100\n",
      "4/4 - 0s - loss: 0.3134 - accuracy: 0.8942 - val_loss: 0.7802 - val_accuracy: 0.6538\n",
      "Epoch 57/100\n",
      "4/4 - 0s - loss: 0.3236 - accuracy: 0.8750 - val_loss: 0.7277 - val_accuracy: 0.6538\n",
      "Epoch 58/100\n",
      "4/4 - 0s - loss: 0.2984 - accuracy: 0.9038 - val_loss: 0.6357 - val_accuracy: 0.6923\n",
      "Epoch 59/100\n",
      "4/4 - 0s - loss: 0.3147 - accuracy: 0.8654 - val_loss: 0.6142 - val_accuracy: 0.6538\n",
      "Epoch 60/100\n",
      "4/4 - 0s - loss: 0.3110 - accuracy: 0.8846 - val_loss: 0.6834 - val_accuracy: 0.6923\n",
      "Epoch 61/100\n",
      "4/4 - 0s - loss: 0.3001 - accuracy: 0.9135 - val_loss: 0.7120 - val_accuracy: 0.6923\n",
      "Epoch 62/100\n",
      "4/4 - 0s - loss: 0.2905 - accuracy: 0.9231 - val_loss: 0.6590 - val_accuracy: 0.6923\n",
      "Epoch 63/100\n",
      "4/4 - 0s - loss: 0.2930 - accuracy: 0.9135 - val_loss: 0.6451 - val_accuracy: 0.6538\n",
      "Epoch 64/100\n",
      "4/4 - 0s - loss: 0.3011 - accuracy: 0.8846 - val_loss: 0.6620 - val_accuracy: 0.6538\n",
      "Epoch 65/100\n",
      "4/4 - 0s - loss: 0.2887 - accuracy: 0.9038 - val_loss: 0.7223 - val_accuracy: 0.6538\n",
      "Epoch 66/100\n",
      "4/4 - 0s - loss: 0.2891 - accuracy: 0.9135 - val_loss: 0.7567 - val_accuracy: 0.6538\n",
      "Epoch 67/100\n",
      "4/4 - 0s - loss: 0.2831 - accuracy: 0.9135 - val_loss: 0.7049 - val_accuracy: 0.6923\n",
      "Epoch 68/100\n",
      "4/4 - 0s - loss: 0.2897 - accuracy: 0.8846 - val_loss: 0.6463 - val_accuracy: 0.6538\n",
      "Epoch 69/100\n",
      "4/4 - 0s - loss: 0.2945 - accuracy: 0.8846 - val_loss: 0.6743 - val_accuracy: 0.6923\n",
      "Epoch 70/100\n",
      "4/4 - 0s - loss: 0.2787 - accuracy: 0.9231 - val_loss: 0.7829 - val_accuracy: 0.6538\n",
      "Epoch 71/100\n",
      "4/4 - 0s - loss: 0.2849 - accuracy: 0.9038 - val_loss: 0.8276 - val_accuracy: 0.6538\n",
      "Epoch 72/100\n",
      "4/4 - 0s - loss: 0.2841 - accuracy: 0.9135 - val_loss: 0.7595 - val_accuracy: 0.6923\n",
      "Epoch 73/100\n",
      "4/4 - 0s - loss: 0.2714 - accuracy: 0.9231 - val_loss: 0.6861 - val_accuracy: 0.6923\n",
      "Epoch 74/100\n",
      "4/4 - 0s - loss: 0.2688 - accuracy: 0.9423 - val_loss: 0.6885 - val_accuracy: 0.6923\n",
      "Epoch 75/100\n",
      "4/4 - 0s - loss: 0.2673 - accuracy: 0.9327 - val_loss: 0.6919 - val_accuracy: 0.6923\n",
      "Epoch 76/100\n",
      "4/4 - 0s - loss: 0.2612 - accuracy: 0.9423 - val_loss: 0.7856 - val_accuracy: 0.6538\n",
      "Epoch 77/100\n",
      "4/4 - 0s - loss: 0.2668 - accuracy: 0.9135 - val_loss: 0.8341 - val_accuracy: 0.6538\n",
      "Epoch 78/100\n",
      "4/4 - 0s - loss: 0.2731 - accuracy: 0.9038 - val_loss: 0.7941 - val_accuracy: 0.6538\n",
      "Epoch 79/100\n",
      "4/4 - 0s - loss: 0.2600 - accuracy: 0.9327 - val_loss: 0.6972 - val_accuracy: 0.6923\n",
      "Epoch 80/100\n",
      "4/4 - 0s - loss: 0.2551 - accuracy: 0.9423 - val_loss: 0.7266 - val_accuracy: 0.6923\n",
      "Epoch 81/100\n",
      "4/4 - 0s - loss: 0.2523 - accuracy: 0.9327 - val_loss: 0.7790 - val_accuracy: 0.6923\n",
      "Epoch 82/100\n",
      "4/4 - 0s - loss: 0.2499 - accuracy: 0.9327 - val_loss: 0.7757 - val_accuracy: 0.6923\n",
      "Epoch 83/100\n",
      "4/4 - 0s - loss: 0.2453 - accuracy: 0.9423 - val_loss: 0.7387 - val_accuracy: 0.6923\n",
      "Epoch 84/100\n",
      "4/4 - 0s - loss: 0.2456 - accuracy: 0.9423 - val_loss: 0.7209 - val_accuracy: 0.6923\n"
     ]
    },
    {
     "name": "stdout",
     "output_type": "stream",
     "text": [
      "Epoch 85/100\n",
      "4/4 - 0s - loss: 0.2426 - accuracy: 0.9423 - val_loss: 0.7581 - val_accuracy: 0.6923\n",
      "Epoch 86/100\n",
      "4/4 - 0s - loss: 0.2432 - accuracy: 0.9423 - val_loss: 0.8431 - val_accuracy: 0.6538\n",
      "Epoch 87/100\n",
      "4/4 - 0s - loss: 0.2428 - accuracy: 0.9231 - val_loss: 0.8310 - val_accuracy: 0.6538\n",
      "Epoch 88/100\n",
      "4/4 - 0s - loss: 0.2359 - accuracy: 0.9423 - val_loss: 0.7954 - val_accuracy: 0.6538\n",
      "Epoch 89/100\n",
      "4/4 - 0s - loss: 0.2325 - accuracy: 0.9423 - val_loss: 0.7531 - val_accuracy: 0.6154\n",
      "Epoch 90/100\n",
      "4/4 - 0s - loss: 0.2301 - accuracy: 0.9519 - val_loss: 0.7371 - val_accuracy: 0.6538\n",
      "Epoch 91/100\n",
      "4/4 - 0s - loss: 0.2351 - accuracy: 0.9231 - val_loss: 0.7372 - val_accuracy: 0.6538\n",
      "Epoch 92/100\n",
      "4/4 - 0s - loss: 0.2281 - accuracy: 0.9519 - val_loss: 0.7981 - val_accuracy: 0.6538\n",
      "Epoch 93/100\n",
      "4/4 - 0s - loss: 0.2216 - accuracy: 0.9423 - val_loss: 0.8455 - val_accuracy: 0.6538\n",
      "Epoch 94/100\n",
      "4/4 - 0s - loss: 0.2196 - accuracy: 0.9423 - val_loss: 0.7950 - val_accuracy: 0.6538\n",
      "Epoch 95/100\n",
      "4/4 - 0s - loss: 0.2184 - accuracy: 0.9423 - val_loss: 0.7806 - val_accuracy: 0.6154\n",
      "Epoch 96/100\n",
      "4/4 - 0s - loss: 0.2134 - accuracy: 0.9519 - val_loss: 0.8374 - val_accuracy: 0.6538\n",
      "Epoch 97/100\n",
      "4/4 - 0s - loss: 0.2152 - accuracy: 0.9423 - val_loss: 0.8938 - val_accuracy: 0.6538\n",
      "Epoch 98/100\n",
      "4/4 - 0s - loss: 0.2157 - accuracy: 0.9423 - val_loss: 0.8632 - val_accuracy: 0.6538\n",
      "Epoch 99/100\n",
      "4/4 - 0s - loss: 0.2091 - accuracy: 0.9423 - val_loss: 0.8634 - val_accuracy: 0.6538\n",
      "Epoch 100/100\n",
      "4/4 - 0s - loss: 0.2033 - accuracy: 0.9423 - val_loss: 0.8074 - val_accuracy: 0.6538\n",
      "6.765172481536865\n"
     ]
    }
   ],
   "source": [
    "import time\n",
    "start = time.time()\n",
    "#history = model.fit(X_train, y_train, batch_size=32, steps_per_epoch=len(y_train)/32, epochs=100, verbose=2, validation_data=(X_dev, y_dev),callbacks=[tensorboard])\n",
    "history = model.fit(X_train, y_train, batch_size=32, epochs=100, verbose=2, validation_data=(X_dev, y_dev))\n",
    "print (time.time() - start)\n",
    "\n"
   ]
  },
  {
   "cell_type": "markdown",
   "metadata": {},
   "source": [
    "### 8. Get the results"
   ]
  },
  {
   "cell_type": "code",
   "execution_count": 27,
   "metadata": {},
   "outputs": [
    {
     "data": {
      "image/png": "[encoded data removed]",
      "text/plain": [
       "<Figure size 576x360 with 1 Axes>"
      ]
     },
     "metadata": {
      "needs_background": "light"
     },
     "output_type": "display_data"
    }
   ],
   "source": [
    "results=pd.DataFrame(history.history)\n",
    "results.plot(figsize=(8, 5))\n",
    "plt.grid(True)\n",
    "plt.xlabel (\"Epochs\")\n",
    "plt.ylabel (\"Accuracy - Mean Log Loss\")\n",
    "plt.gca().set_ylim(0, 2) # set the vertical range to [0-1]\n",
    "plt.show()\n",
    "\n",
    "# categorical_accuracy es el training accuracy\n",
    "# val_categorical_accuracy es el validation accuracy\n",
    "# loss es el training loss\n",
    "# val_loss es el validation loss\n",
    "\n",
    "# Overfitting:\n",
    "# Por un lado la Accuracy de los datos de entrenamiento aumenta con las epochs,\n",
    "# mientras que la Accuracy de los datos de validación disminuye o se mantiene constante a lo largo de las epochs. \n",
    "# La Loss de los datos de validación alcanza su mínimo después de pocos epochs y luego empieza a subir, \n",
    "# mientras que la Loss de los datos de entrenamiento disminuye linealmente."
   ]
  },
  {
   "cell_type": "code",
   "execution_count": 28,
   "metadata": {},
   "outputs": [
    {
     "data": {
      "text/plain": [
       "{'verbose': 2, 'epochs': 100, 'steps': 4}"
      ]
     },
     "execution_count": 28,
     "metadata": {},
     "output_type": "execute_result"
    }
   ],
   "source": [
    "history.params"
   ]
  },
  {
   "cell_type": "code",
   "execution_count": 29,
   "metadata": {},
   "outputs": [
    {
     "data": {
      "text/html": [
       "<div>\n",
       "<style scoped>\n",
       "    .dataframe tbody tr th:only-of-type {\n",
       "        vertical-align: middle;\n",
       "    }\n",
       "\n",
       "    .dataframe tbody tr th {\n",
       "        vertical-align: top;\n",
       "    }\n",
       "\n",
       "    .dataframe thead th {\n",
       "        text-align: right;\n",
       "    }\n",
       "</style>\n",
       "<table border=\"1\" class=\"dataframe\">\n",
       "  <thead>\n",
       "    <tr style=\"text-align: right;\">\n",
       "      <th></th>\n",
       "      <th>loss</th>\n",
       "      <th>accuracy</th>\n",
       "      <th>val_loss</th>\n",
       "      <th>val_accuracy</th>\n",
       "    </tr>\n",
       "  </thead>\n",
       "  <tbody>\n",
       "    <tr>\n",
       "      <th>99</th>\n",
       "      <td>0.203292</td>\n",
       "      <td>0.942308</td>\n",
       "      <td>0.807445</td>\n",
       "      <td>0.653846</td>\n",
       "    </tr>\n",
       "  </tbody>\n",
       "</table>\n",
       "</div>"
      ],
      "text/plain": [
       "        loss  accuracy  val_loss  val_accuracy\n",
       "99  0.203292  0.942308  0.807445      0.653846"
      ]
     },
     "execution_count": 29,
     "metadata": {},
     "output_type": "execute_result"
    }
   ],
   "source": [
    "results[-1:]"
   ]
  },
  {
   "cell_type": "code",
   "execution_count": 30,
   "metadata": {},
   "outputs": [
    {
     "name": "stdout",
     "output_type": "stream",
     "text": [
      "Accuracy for the training set:  0.942307710647583\n"
     ]
    }
   ],
   "source": [
    "print (\"Accuracy for the training set: \", results.values[-1:][0][1])"
   ]
  },
  {
   "cell_type": "code",
   "execution_count": 31,
   "metadata": {},
   "outputs": [
    {
     "name": "stdout",
     "output_type": "stream",
     "text": [
      "Accuracy for the development test set:  0.6538461446762085\n"
     ]
    }
   ],
   "source": [
    "print (\"Accuracy for the development test set: \", results.values[-1:][0][3])"
   ]
  },
  {
   "cell_type": "code",
   "execution_count": null,
   "metadata": {},
   "outputs": [],
   "source": []
  },
  {
   "cell_type": "code",
   "execution_count": null,
   "metadata": {},
   "outputs": [],
   "source": []
  },
  {
   "cell_type": "code",
   "execution_count": null,
   "metadata": {},
   "outputs": [],
   "source": []
  },
  {
   "cell_type": "code",
   "execution_count": null,
   "metadata": {},
   "outputs": [],
   "source": []
  },
  {
   "cell_type": "code",
   "execution_count": null,
   "metadata": {},
   "outputs": [],
   "source": []
  },
  {
   "cell_type": "markdown",
   "metadata": {},
   "source": [
    "#### Let's see how the model predicts using the development test set:"
   ]
  },
  {
   "cell_type": "code",
   "execution_count": 32,
   "metadata": {},
   "outputs": [
    {
     "data": {
      "text/plain": [
       "array([[0.14, 0.86],\n",
       "       [0.23, 0.77],\n",
       "       [0.15, 0.85],\n",
       "       [0.12, 0.88],\n",
       "       [0.21, 0.79],\n",
       "       [0.32, 0.68],\n",
       "       [0.18, 0.82],\n",
       "       [0.1 , 0.9 ],\n",
       "       [0.11, 0.89],\n",
       "       [0.24, 0.76],\n",
       "       [0.1 , 0.9 ],\n",
       "       [0.12, 0.88],\n",
       "       [0.77, 0.23],\n",
       "       [0.28, 0.72],\n",
       "       [0.17, 0.83],\n",
       "       [0.04, 0.96],\n",
       "       [0.13, 0.87],\n",
       "       [0.2 , 0.8 ],\n",
       "       [0.18, 0.82],\n",
       "       [0.17, 0.83]], dtype=float32)"
      ]
     },
     "execution_count": 32,
     "metadata": {},
     "output_type": "execute_result"
    }
   ],
   "source": [
    "dev_predictions=model.predict(X_dev).round(2) \n",
    "dev_predictions[:20]"
   ]
  },
  {
   "cell_type": "code",
   "execution_count": 33,
   "metadata": {},
   "outputs": [
    {
     "data": {
      "text/plain": [
       "array([[0., 1.],\n",
       "       [0., 1.],\n",
       "       [0., 1.],\n",
       "       [0., 1.],\n",
       "       [0., 1.],\n",
       "       [0., 1.],\n",
       "       [0., 1.],\n",
       "       [0., 1.],\n",
       "       [0., 1.],\n",
       "       [0., 1.],\n",
       "       [0., 1.],\n",
       "       [0., 1.],\n",
       "       [1., 0.],\n",
       "       [0., 1.],\n",
       "       [0., 1.],\n",
       "       [0., 1.],\n",
       "       [0., 1.],\n",
       "       [0., 1.],\n",
       "       [0., 1.],\n",
       "       [0., 1.]], dtype=float32)"
      ]
     },
     "execution_count": 33,
     "metadata": {},
     "output_type": "execute_result"
    }
   ],
   "source": [
    "dev_rounded_predictions=np.round(dev_predictions)\n",
    "indices = np.argmax(dev_predictions,1)\n",
    "for row, index in zip(dev_rounded_predictions, indices): row[index]=1\n",
    "dev_rounded_predictions[:20]"
   ]
  },
  {
   "cell_type": "code",
   "execution_count": 34,
   "metadata": {},
   "outputs": [
    {
     "data": {
      "text/plain": [
       "array([[1., 0.],\n",
       "       [1., 0.],\n",
       "       [1., 0.],\n",
       "       [0., 1.],\n",
       "       [0., 1.],\n",
       "       [0., 1.],\n",
       "       [0., 1.],\n",
       "       [0., 1.],\n",
       "       [0., 1.],\n",
       "       [0., 1.],\n",
       "       [0., 1.],\n",
       "       [1., 0.],\n",
       "       [1., 0.],\n",
       "       [1., 0.],\n",
       "       [1., 0.],\n",
       "       [1., 0.],\n",
       "       [0., 1.],\n",
       "       [0., 1.],\n",
       "       [0., 1.],\n",
       "       [0., 1.]])"
      ]
     },
     "execution_count": 34,
     "metadata": {},
     "output_type": "execute_result"
    }
   ],
   "source": [
    "y_dev[:20]"
   ]
  },
  {
   "cell_type": "code",
   "execution_count": 35,
   "metadata": {},
   "outputs": [
    {
     "name": "stdout",
     "output_type": "stream",
     "text": [
      "[False False False  True  True  True  True  True  True  True  True False\n",
      "  True False False False  True  True  True  True  True False  True  True\n",
      " False False]\n"
     ]
    }
   ],
   "source": [
    "dev_correct_predictions = np.equal(np.argmax(dev_rounded_predictions,1),np.argmax(y_dev,1))\n",
    "print (dev_correct_predictions[:30])"
   ]
  },
  {
   "cell_type": "code",
   "execution_count": 36,
   "metadata": {},
   "outputs": [
    {
     "data": {
      "text/plain": [
       "Counter({False: 10, True: 16})"
      ]
     },
     "execution_count": 36,
     "metadata": {},
     "output_type": "execute_result"
    }
   ],
   "source": [
    "from collections import Counter\n",
    "Counter (dev_correct_predictions)"
   ]
  },
  {
   "cell_type": "markdown",
   "metadata": {},
   "source": [
    "### 9. Save model"
   ]
  },
  {
   "cell_type": "markdown",
   "metadata": {},
   "source": [
    "We save the model if it is better than others "
   ]
  },
  {
   "cell_type": "code",
   "execution_count": 37,
   "metadata": {},
   "outputs": [],
   "source": [
    "# Save\n",
    "model.save('./Modelos/CNN_model1_ce_PARES_DIA31.h5') # Change the name in each model"
   ]
  },
  {
   "cell_type": "code",
   "execution_count": 38,
   "metadata": {},
   "outputs": [
    {
     "data": {
      "text/plain": [
       "\"\\nnew_model = keras.models.load_model('./Modelos/EGG_prac1_ANN_model3.h5')\\n\\nimport numpy as np\\n\\n# Verify state\\nnew_predictions = new_model.predict(X_dev)\\nnp.testing.assert_allclose(predictions, new_predictions, rtol=1e-6, atol=1e-6)\\n\\n# Note that the optimizer state is also preserved:\\n# you can resume training where you left off.\\n\""
      ]
     },
     "execution_count": 38,
     "metadata": {},
     "output_type": "execute_result"
    }
   ],
   "source": [
    "# Extract\n",
    "\"\"\"\n",
    "new_model = keras.models.load_model('./Modelos/EGG_prac1_ANN_model3.h5')\n",
    "\n",
    "import numpy as np\n",
    "\n",
    "# Verify state\n",
    "new_predictions = new_model.predict(X_dev)\n",
    "np.testing.assert_allclose(predictions, new_predictions, rtol=1e-6, atol=1e-6)\n",
    "\n",
    "# Note that the optimizer state is also preserved:\n",
    "# you can resume training where you left off.\n",
    "\"\"\""
   ]
  },
  {
   "cell_type": "code",
   "execution_count": null,
   "metadata": {},
   "outputs": [],
   "source": []
  },
  {
   "cell_type": "code",
   "execution_count": null,
   "metadata": {},
   "outputs": [],
   "source": []
  },
  {
   "cell_type": "code",
   "execution_count": null,
   "metadata": {},
   "outputs": [],
   "source": []
  },
  {
   "cell_type": "code",
   "execution_count": null,
   "metadata": {},
   "outputs": [],
   "source": []
  },
  {
   "cell_type": "markdown",
   "metadata": {},
   "source": [
    "### 10 - Final Test\n",
    "\n",
    "#### 10.1 - Load the final test set"
   ]
  },
  {
   "cell_type": "markdown",
   "metadata": {},
   "source": [
    "#### 10.2 - Evaluate the model"
   ]
  },
  {
   "cell_type": "code",
   "execution_count": 39,
   "metadata": {},
   "outputs": [],
   "source": [
    "\n",
    "from collections import Counter\n",
    "def predictWithModel(model, X_test, y_test, task1, task2, task3=\"\"):\n",
    "    model.evaluate(X_test, y_test)\n",
    "    test_predictions = model.predict(X_test)\n",
    "    test_rounded_predictions=np.round(test_predictions)\n",
    "    indices = np.argmax(test_predictions,1)\n",
    "    for row, index in zip(test_rounded_predictions, indices): row[index]=1\n",
    "    print(test_rounded_predictions[:20])\n",
    "    \n",
    "    # ACCURACY:\n",
    "    test_correct_predictions = np.equal(np.argmax(test_rounded_predictions,1),np.argmax(y_test,1))\n",
    "    print()\n",
    "    print(test_correct_predictions)\n",
    "    print(type(test_correct_predictions))\n",
    "    final_test_prediction_results=Counter(test_correct_predictions)\n",
    "    \n",
    "    success = np.mean(test_rounded_predictions == y_test)*100\n",
    "    \n",
    "    return final_test_prediction_results, success"
   ]
  },
  {
   "cell_type": "code",
   "execution_count": 40,
   "metadata": {},
   "outputs": [
    {
     "name": "stdout",
     "output_type": "stream",
     "text": [
      "1/1 [==============================] - 0s 32ms/step - loss: 0.3145 - accuracy: 0.9231\n",
      "[[1. 0.]\n",
      " [1. 0.]\n",
      " [1. 0.]\n",
      " [1. 0.]\n",
      " [0. 1.]\n",
      " [0. 1.]\n",
      " [0. 1.]\n",
      " [0. 1.]\n",
      " [0. 1.]\n",
      " [0. 1.]\n",
      " [0. 1.]\n",
      " [1. 0.]\n",
      " [1. 0.]]\n",
      "\n",
      "[ True  True  True False  True  True  True  True  True  True  True  True\n",
      "  True]\n",
      "<class 'numpy.ndarray'>\n",
      "Counter({True: 12, False: 1}) 92.3076923076923\n"
     ]
    }
   ],
   "source": [
    "accuracy, success = predictWithModel(model, X_test, y_test, 402,404)\n",
    "print( accuracy, success)\n"
   ]
  },
  {
   "cell_type": "code",
   "execution_count": null,
   "metadata": {},
   "outputs": [],
   "source": []
  }
 ],
 "metadata": {
  "kernelspec": {
   "display_name": "Python 3",
   "language": "python",
   "name": "python3"
  },
  "language_info": {
   "codemirror_mode": {
    "name": "ipython",
    "version": 3
   },
   "file_extension": ".py",
   "mimetype": "text/x-python",
   "name": "python",
   "nbconvert_exporter": "python",
   "pygments_lexer": "ipython3",
   "version": "3.8.5"
  }
 },
 "nbformat": 4,
 "nbformat_minor": 4
}
