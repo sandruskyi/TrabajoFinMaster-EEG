{
 "cells": [
  {
   "cell_type": "markdown",
   "metadata": {},
   "source": [
    "# Parte 4: Clasificación con CNN"
   ]
  },
  {
   "cell_type": "markdown",
   "metadata": {},
   "source": [
    "### Resultados con la arquitectura anterior: "
   ]
  },
  {
   "cell_type": "markdown",
   "metadata": {},
   "source": [
    "Resultados:\n",
    "    \n",
    "    TRAIN                   DEV\n",
    "    loss       accuracy     val_loss    val_accuracy\n",
    "    \n",
    "    0.670663\t0.884615\t1.05239 \t0.576923\n",
    "    \n",
    "Por tanto: \n",
    "\n",
    "    E = 1 - Accuracy\n",
    "    Etrain = 1 - 0.884615 = 0.115385\n",
    "    Etest = 1 - 0.576923 = 0.423077\n",
    "    \n",
    "    Bias = Etrain - Ehuman = 0.115385\n",
    "    Variance = Etest - Etrain = 0.423077 - 0.115385 = 0.307692\n",
    "\n",
    "El overfitting ha bajado considerablemente\n",
    "El bias ha aumentado, y aunque la varianza es alta habrá que que seguir tratando de bajar el bias. Para mejorar esto será necesario añadir más complejidad, elegir una mejor optimización, cambiando la arquitectura (más neuronas, más capas)..."
   ]
  },
  {
   "cell_type": "markdown",
   "metadata": {},
   "source": [
    "### Cambios realizados"
   ]
  },
  {
   "cell_type": "markdown",
   "metadata": {},
   "source": [
    "La capa de 60 unidades (filtros) pasa a tener 70 para añadir más neuronas. El regulador pasa a ser el l2 en todas las capas. Se añade una segunda capa de 70 unidades duplicando a la anterior añadida. "
   ]
  },
  {
   "cell_type": "markdown",
   "metadata": {},
   "source": [
    "### Nuevos resultados: "
   ]
  },
  {
   "cell_type": "markdown",
   "metadata": {},
   "source": [
    "Resultados:\n",
    "    \n",
    "    TRAIN                   DEV\n",
    "    loss       accuracy     val_loss    val_accuracy\n",
    "    \n",
    "    0.177952\t0.961538\t1.754401\t0.461538\n",
    "    \n",
    "Por tanto: \n",
    "\n",
    "    E = 1 - Accuracy\n",
    "    Etrain = 1 - 0.961538 = 0.038462\n",
    "    Etest = 1 - 0.461538 = 0.538462\n",
    "    \n",
    "    Bias = Etrain - Ehuman = 0.038462\n",
    "    Variance = Etest - Etrain = 0.538462 - 0.038462 = 0.5\n",
    "\n",
    "El bias se ha reducido considerablemente, pero la varianza es muy alta. Es el momento de tratar la varianza.  Para ello habrá que o regularizar, o cambiar la arquitectura (menos neuronas => Mejor varianza, más capas => mayor abstracción), o añadir más datos (cosa que no es posible)."
   ]
  },
  {
   "cell_type": "markdown",
   "metadata": {},
   "source": [
    "### 1 - Import Libraries"
   ]
  },
  {
   "cell_type": "code",
   "execution_count": 1,
   "metadata": {},
   "outputs": [],
   "source": [
    "# Tensorflow and tf.keras\n",
    "import tensorflow as tf\n",
    "from tensorflow import keras\n",
    "\n",
    "#Helper libraries\n",
    "import matplotlib.pyplot as plt\n",
    "import pandas as pd\n",
    "import numpy as np\n",
    "\n",
    "# Signal libraries\n",
    "from scipy import signal\n"
   ]
  },
  {
   "cell_type": "markdown",
   "metadata": {},
   "source": [
    "### 2 - Load data"
   ]
  },
  {
   "cell_type": "code",
   "execution_count": 2,
   "metadata": {},
   "outputs": [],
   "source": [
    "class ROutput:\n",
    "    def __init__(self, task, data):\n",
    "        self.task = task\n",
    "        self.data = data\n",
    "        \n",
    "class OutTaskData: \n",
    "    def __init__(self, task, data): \n",
    "        self.task = task\n",
    "        self.data = data"
   ]
  },
  {
   "cell_type": "code",
   "execution_count": 3,
   "metadata": {},
   "outputs": [],
   "source": [
    "import scipy.io as sio\n",
    "# Primero leemos los registros\n",
    "def read_outputs(rec):\n",
    "    '''read_outputs(\"userS0091f1.mat\")'''\n",
    "    mat = sio.loadmat(rec)\n",
    "    mdata = mat['session']\n",
    "    val = mdata[0,0]\n",
    "    #output = ROutput(np.array(val[\"task\"]), np.array(val[\"data\"]))\n",
    "    output = ROutput(np.array(val[\"task_EEG_p\"]), np.array(val[\"data_processed_EEG\"]))\n",
    "    return output"
   ]
  },
  {
   "cell_type": "markdown",
   "metadata": {},
   "source": [
    "### Cargamos los datos"
   ]
  },
  {
   "cell_type": "code",
   "execution_count": 4,
   "metadata": {},
   "outputs": [],
   "source": [
    "# Configuración\n",
    "from sklearn.pipeline import make_pipeline\n",
    "from sklearn.preprocessing import StandardScaler, OneHotEncoder\n",
    "from sklearn.linear_model import Perceptron\n",
    "from keras.utils import to_categorical\n",
    "\n",
    "\n",
    "task1 = 402 # SE PUEDE CAMBIAR\n",
    "task2 = 404 # SE PUEDE CAMBIAR\n",
    "task_OneHotEnconding = {402: [1.,0.], 404: [0.,1.]}\n",
    "user = 'W29' # SE PUEDE CAMBIAR\n",
    "day = '0401'\n",
    "folder_day = 'W29-01_04_2021'\n",
    "total_records = 22 # CAMBIAR SI HAY MAS REGISTROS\n",
    "fm = 200\n",
    "electrodes_names_selected = ['F3', 'FZ', 'FC1','FCZ','C1','CZ','CP1','CPZ', 'FC5', 'FC3','C5','C3','CP5','CP3','P3',\n",
    "                             'PZ','F4','FC2','FC4','FC6','C2','C4','CP2','CP4','C6','CP6','P4','HR' ,'HL', 'VU', 'VD']\n",
    "number_channels = len(electrodes_names_selected)"
   ]
  },
  {
   "cell_type": "code",
   "execution_count": 5,
   "metadata": {},
   "outputs": [
    {
     "name": "stdout",
     "output_type": "stream",
     "text": [
      "11 22\n"
     ]
    }
   ],
   "source": [
    "lTaskData = []\n",
    "total_records_used = 0\n",
    "for i_rec in range(1,total_records+1):\n",
    "    i_rec_record = i_rec\n",
    "    if i_rec_record <10:\n",
    "        i_rec_record = \"0\"+str(i_rec_record)\n",
    "    if i_rec % 2 == 0: # Registros impares primero: USUARIO SIN MOVIMIENTO SOLO PENSANDO\n",
    "        record = \"./RegistrosProcesados2/\"+folder_day+\"/W29_2021\"+day+\"_openloop_\"+str(i_rec_record)+\"_processed.mat\"\n",
    "        output = read_outputs(record) # output.task será y, output.data será x\n",
    "\n",
    "\n",
    "        output.task = np.transpose(output.task)\n",
    "        output.data = output.data.reshape((np.shape(output.data)[0],np.shape(output.data)[1]))\n",
    "        output.data = np.transpose(output.data)\n",
    "        #output.data = output.data.reshape((np.shape(output.data)[0],np.shape(output.data)[1],1))\n",
    "\n",
    "        outT = (output.task == task1) | (output.task == task2)\n",
    "        outData = output.data[0:np.shape(output.data)[0], outT[0,:]]\n",
    "        outTask = output.task[0, outT[0,:]]\n",
    "        outTD = OutTaskData(outTask, outData)\n",
    "\n",
    "        lTaskData.append(outTD)\n",
    "        total_records_used+=1\n",
    "print(total_records_used, total_records)"
   ]
  },
  {
   "cell_type": "code",
   "execution_count": 6,
   "metadata": {},
   "outputs": [
    {
     "name": "stdout",
     "output_type": "stream",
     "text": [
      "X_train: (8, 32, 49)\n",
      "y_train: (8, 49)\n",
      "X_dev: (2, 32, 49)\n",
      "y_dev: (2, 49)\n",
      "X_test: (1, 32, 49)\n",
      "y_test: (1, 49)\n",
      "ONE HOT ENCODER:\n",
      "X_train: (104, 32, 5, 1)\n",
      "y_train: (104, 2)\n",
      "X_dev: (26, 32, 5, 1)\n",
      "y_dev: (26, 2)\n",
      "X_test: (13, 32, 5, 1)\n",
      "y_test: (13, 2)\n"
     ]
    }
   ],
   "source": [
    "# Vamos a coger 2 registros para el entrenamiento, 1 para el conjunto dev set, 1 para el test set\n",
    "X_train, y_train, X_dev, y_dev, X_test, y_test = [],[],[],[],[],[] \n",
    "for j in range(0,total_records_used-3): # Cogemos 18 registros para entrenamiento\n",
    "    X_train.append(lTaskData[j].data)\n",
    "    y_train.append(lTaskData[j].task)\n",
    "\n",
    "for j in range(total_records_used-3,total_records_used-1): # Cogemos 2 registros para el dev set\n",
    "    X_dev.append(lTaskData[j].data)\n",
    "    y_dev.append(lTaskData[j].task)\n",
    "for j in range(total_records_used-1,total_records_used): # Cogemos 2 registros para el test set\n",
    "    X_test.append(lTaskData[j].data)\n",
    "    y_test.append(lTaskData[j].task)\n",
    "\n",
    "X_train = np.array(X_train)\n",
    "#y_train = np.ravel(np.array(y_train))\n",
    "y_train = np.array(y_train)\n",
    "X_dev = np.array(X_dev)\n",
    "#y_dev = np.ravel(np.array(y_dev))\n",
    "y_dev = np.array(y_dev)\n",
    "X_test = np.array(X_test)\n",
    "y_test = np.array(y_test)\n",
    "#y_test = np.ravel(np.array(y_test))\n",
    "\n",
    "print (\"X_train:\",X_train.shape)\n",
    "print (\"y_train:\",y_train.shape)\n",
    "print (\"X_dev:\",X_dev.shape)\n",
    "print (\"y_dev:\",y_dev.shape)\n",
    "print (\"X_test:\",X_test.shape)\n",
    "print (\"y_test:\",y_test.shape)\n",
    "\n",
    "\n",
    "\n",
    "\n",
    "\n",
    "# VENTANEO Y ONE HOT ENCODING \n",
    "window = 5\n",
    "samples_advance = 3\n",
    "\n",
    "# Ventaneo X_train\n",
    "\n",
    "X_train_l = []\n",
    "y_train_l = []\n",
    "for num_X_train in range(np.shape(X_train)[0]): # Para no mezclar registros\n",
    "    win_init = int(0)\n",
    "    window_position = 0\n",
    "    \n",
    "    for i in range(np.shape(X_train)[2]): # For each signal registered\n",
    "        win_end = int(win_init + window)\n",
    "        if win_end >= np.shape(X_train)[2]:\n",
    "            break\n",
    "\n",
    "        task = np.unique(y_train[num_X_train,win_init:win_end])\n",
    "\n",
    "        if len(task)==1:\n",
    "        #if task1 in task or task2 in task:\n",
    "            signal_window = X_train[num_X_train, :, win_init:win_end]\n",
    "            \n",
    "            #data_filtered = preprocessing(signal_window, fm, number_channels)\n",
    "            #X_train_l.append(data_filtered)\n",
    "            X_train_l.append(signal_window)\n",
    "            taskOH = task_OneHotEnconding[task[0]]\n",
    "            y_train_l.append(taskOH)\n",
    "            \n",
    "        win_init += int(samples_advance)\n",
    "\n",
    "X_train_l = np.array(X_train_l)\n",
    "y_train_l = np.array(y_train_l)\n",
    "\n",
    "\n",
    "# Ventaneo X_dev\n",
    "X_dev_l = []\n",
    "y_dev_l = []\n",
    "for num_X_dev in range(np.shape(X_dev)[0]):\n",
    "    win_init = int(0)\n",
    "    window_position = 0\n",
    "    \n",
    "    for i in range(np.shape(X_dev)[2]): # For each signal registered\n",
    "        win_end = int(win_init + window)\n",
    "        if win_end >= np.shape(X_dev)[2]:\n",
    "            break\n",
    "\n",
    "        task = np.unique(y_dev[num_X_dev,win_init:win_end])\n",
    "\n",
    "        if len(task)==1:\n",
    "        #if task1 in task or task2 in task:\n",
    "            signal_window = X_dev[num_X_dev, :, win_init:win_end]\n",
    "            \n",
    "            #data_filtered = preprocessing(signal_window, fm, number_channels)\n",
    "            #X_train_l.append(data_filtered)\n",
    "            X_dev_l.append(signal_window)\n",
    "            taskOH = task_OneHotEnconding[task[0]]\n",
    "            y_dev_l.append(taskOH)\n",
    "            \n",
    "        win_init += int(samples_advance)\n",
    "\n",
    "X_dev_l = np.array(X_dev_l)\n",
    "y_dev_l = np.array(y_dev_l)\n",
    "\n",
    "# Ventaneo X_test\n",
    "X_test_l = []\n",
    "y_test_l = []\n",
    "for num_X_test in range(np.shape(X_test)[0]): \n",
    "    win_init = int(0)\n",
    "    window_position = 0\n",
    "    \n",
    "    for i in range(np.shape(X_test)[2]): # For each signal registered\n",
    "        win_end = int(win_init + window)\n",
    "        if win_end >= np.shape(X_test)[2]:\n",
    "            break\n",
    "\n",
    "        task = np.unique(y_test[num_X_test,win_init:win_end])\n",
    "\n",
    "        if len(task)==1:\n",
    "        #if task1 in task or task2 in task:\n",
    "            signal_window = X_test[num_X_test, :, win_init:win_end]\n",
    "            \n",
    "            #data_filtered = preprocessing(signal_window, fm, number_channels)\n",
    "            #X_train_l.append(data_filtered)\n",
    "            X_test_l.append(signal_window)\n",
    "            taskOH = task_OneHotEnconding[task[0]]\n",
    "            y_test_l.append(taskOH)\n",
    "            \n",
    "        win_init += int(samples_advance)\n",
    "\n",
    "X_test_l = np.array(X_test_l)\n",
    "y_test_l = np.array(y_test_l)\n",
    "\n",
    "\n",
    "\n",
    "\n",
    "X_train_l = X_train_l.reshape((np.shape(X_train_l)[0],np.shape(X_train_l)[1],np.shape(X_train_l)[2], 1))\n",
    "X_dev_l = X_dev_l.reshape((np.shape(X_dev_l)[0],np.shape(X_dev_l)[1],np.shape(X_dev_l)[2], 1))\n",
    "X_test_l = X_test_l.reshape((np.shape(X_test_l)[0],np.shape(X_test_l)[1],np.shape(X_test_l)[2], 1))\n",
    "\n",
    "\n",
    "print(\"ONE HOT ENCODER:\")\n",
    "print (\"X_train:\",X_train_l.shape)\n",
    "print (\"y_train:\",y_train_l.shape)\n",
    "print (\"X_dev:\",X_dev_l.shape)\n",
    "print (\"y_dev:\",y_dev_l.shape)\n",
    "print (\"X_test:\",X_test_l.shape)\n",
    "print (\"y_test:\",y_test_l.shape)\n",
    "\n",
    "X_train = X_train_l\n",
    "y_train = y_train_l\n",
    "X_dev = X_dev_l\n",
    "y_dev = y_dev_l\n",
    "X_test = X_test_l\n",
    "y_test = y_test_l"
   ]
  },
  {
   "cell_type": "markdown",
   "metadata": {},
   "source": [
    "### 3. Initialize variables"
   ]
  },
  {
   "cell_type": "code",
   "execution_count": 7,
   "metadata": {},
   "outputs": [],
   "source": [
    "INPUTS = X_train.shape[1]\n",
    "OUTPUTS = y_train.shape[1]\n",
    "NUM_TRAINING_EXAMPLES = int(round(X_train.shape[0]/1))\n",
    "NUM_DEV_EXAMPLES = int(round(y_train.shape[0]/1))"
   ]
  },
  {
   "cell_type": "markdown",
   "metadata": {},
   "source": [
    "Some data is displayed to test correctness:"
   ]
  },
  {
   "cell_type": "code",
   "execution_count": 8,
   "metadata": {},
   "outputs": [
    {
     "data": {
      "text/plain": [
       "array([[[[-0.21572228],\n",
       "         [-0.54999155],\n",
       "         [-0.46717104],\n",
       "         [-0.84572058],\n",
       "         [-0.81355576]],\n",
       "\n",
       "        [[-1.30012798],\n",
       "         [-1.26198822],\n",
       "         [-1.09402627],\n",
       "         [-0.33976841],\n",
       "         [-0.73486356]],\n",
       "\n",
       "        [[-1.03415284],\n",
       "         [-0.55746258],\n",
       "         [-1.09394098],\n",
       "         [-1.74832087],\n",
       "         [-1.12492769]],\n",
       "\n",
       "        [[-1.64693387],\n",
       "         [-1.02767764],\n",
       "         [-0.65867881],\n",
       "         [-1.32657658],\n",
       "         [-0.74121846]],\n",
       "\n",
       "        [[-1.43628092],\n",
       "         [-1.41163437],\n",
       "         [-1.30912026],\n",
       "         [-1.30933856],\n",
       "         [-1.01483402]],\n",
       "\n",
       "        [[-1.05210805],\n",
       "         [-0.86095691],\n",
       "         [-1.08447892],\n",
       "         [-1.30602906],\n",
       "         [-0.8334872 ]],\n",
       "\n",
       "        [[-1.16322712],\n",
       "         [-1.10440931],\n",
       "         [-1.03347512],\n",
       "         [-0.79264236],\n",
       "         [-1.07780842]],\n",
       "\n",
       "        [[-1.48939595],\n",
       "         [-1.42634972],\n",
       "         [-1.26412073],\n",
       "         [-1.12295947],\n",
       "         [-1.10338058]],\n",
       "\n",
       "        [[-0.13224002],\n",
       "         [-1.17234287],\n",
       "         [-0.6474866 ],\n",
       "         [-0.60507967],\n",
       "         [-0.90309154]],\n",
       "\n",
       "        [[-1.55396145],\n",
       "         [-1.25257691],\n",
       "         [-1.39152993],\n",
       "         [-0.49275483],\n",
       "         [-0.78344314]],\n",
       "\n",
       "        [[-1.82204607],\n",
       "         [-1.23954591],\n",
       "         [-1.12784208],\n",
       "         [-1.39332888],\n",
       "         [-0.71829036]],\n",
       "\n",
       "        [[-1.73715661],\n",
       "         [-0.89804355],\n",
       "         [-0.67090726],\n",
       "         [-1.28149759],\n",
       "         [-0.97172075]],\n",
       "\n",
       "        [[-1.15796774],\n",
       "         [-0.8856182 ],\n",
       "         [-0.89935322],\n",
       "         [-1.06434503],\n",
       "         [-0.97652467]],\n",
       "\n",
       "        [[-1.39690373],\n",
       "         [-0.8510305 ],\n",
       "         [-0.90260821],\n",
       "         [-1.12394859],\n",
       "         [-0.95511874]],\n",
       "\n",
       "        [[-1.27463671],\n",
       "         [-0.75950677],\n",
       "         [-0.88507657],\n",
       "         [-1.04916533],\n",
       "         [-1.09361117]],\n",
       "\n",
       "        [[-1.41500737],\n",
       "         [-0.60596706],\n",
       "         [-1.18795076],\n",
       "         [-1.06167743],\n",
       "         [-0.93826438]],\n",
       "\n",
       "        [[-0.18558644],\n",
       "         [-1.56739778],\n",
       "         [-0.74240382],\n",
       "         [-0.80360165],\n",
       "         [-1.03843349]],\n",
       "\n",
       "        [[-1.85590692],\n",
       "         [-1.20593746],\n",
       "         [-0.9959774 ],\n",
       "         [-0.94291687],\n",
       "         [-0.83894168]],\n",
       "\n",
       "        [[-0.92735643],\n",
       "         [-0.35397351],\n",
       "         [-0.89249533],\n",
       "         [-0.56694252],\n",
       "         [-1.09016521]],\n",
       "\n",
       "        [[-1.87235983],\n",
       "         [-1.5996177 ],\n",
       "         [-0.98136448],\n",
       "         [-1.5687451 ],\n",
       "         [-0.82259147]],\n",
       "\n",
       "        [[-1.2733132 ],\n",
       "         [-0.96963826],\n",
       "         [-0.92131083],\n",
       "         [-1.22424664],\n",
       "         [-0.7894626 ]],\n",
       "\n",
       "        [[-1.53477842],\n",
       "         [-0.95126517],\n",
       "         [-0.91164274],\n",
       "         [-0.82199745],\n",
       "         [-0.77241174]],\n",
       "\n",
       "        [[-1.15093649],\n",
       "         [-0.93598726],\n",
       "         [-1.12155334],\n",
       "         [-0.84558603],\n",
       "         [-0.90459905]],\n",
       "\n",
       "        [[-1.30921643],\n",
       "         [-0.96685886],\n",
       "         [-0.77567652],\n",
       "         [-1.10959796],\n",
       "         [-1.1189991 ]],\n",
       "\n",
       "        [[-0.20846331],\n",
       "         [-1.39338165],\n",
       "         [-0.68851231],\n",
       "         [-0.57012348],\n",
       "         [-1.01752112]],\n",
       "\n",
       "        [[-1.69850433],\n",
       "         [-1.62686223],\n",
       "         [-1.5917925 ],\n",
       "         [-1.49702691],\n",
       "         [-0.88561656]],\n",
       "\n",
       "        [[-1.98620908],\n",
       "         [-1.55453551],\n",
       "         [-1.20398331],\n",
       "         [-0.80782784],\n",
       "         [-1.0576417 ]],\n",
       "\n",
       "        [[-1.80465867],\n",
       "         [-1.37283797],\n",
       "         [-1.30236706],\n",
       "         [-1.3345075 ],\n",
       "         [-1.23562917]],\n",
       "\n",
       "        [[-1.25312622],\n",
       "         [-0.61385042],\n",
       "         [-0.71546227],\n",
       "         [-0.92638376],\n",
       "         [-0.70519929]],\n",
       "\n",
       "        [[-1.28913009],\n",
       "         [-0.75320229],\n",
       "         [-0.94003483],\n",
       "         [-1.00312457],\n",
       "         [-1.06126283]],\n",
       "\n",
       "        [[-1.02430987],\n",
       "         [-0.70596182],\n",
       "         [-0.98840665],\n",
       "         [-0.97326074],\n",
       "         [-0.84187272]],\n",
       "\n",
       "        [[-0.87478073],\n",
       "         [-0.60369098],\n",
       "         [-0.60712279],\n",
       "         [-0.76188232],\n",
       "         [-0.69851779]]],\n",
       "\n",
       "\n",
       "       [[[-0.84572058],\n",
       "         [-0.81355576],\n",
       "         [-1.3589739 ],\n",
       "         [-1.64850162],\n",
       "         [-1.68910544]],\n",
       "\n",
       "        [[-0.33976841],\n",
       "         [-0.73486356],\n",
       "         [-0.53442855],\n",
       "         [-0.4830408 ],\n",
       "         [-0.45487045]],\n",
       "\n",
       "        [[-1.74832087],\n",
       "         [-1.12492769],\n",
       "         [-0.41039934],\n",
       "         [-0.38947123],\n",
       "         [-0.36060194]],\n",
       "\n",
       "        [[-1.32657658],\n",
       "         [-0.74121846],\n",
       "         [-0.9779262 ],\n",
       "         [-1.22572843],\n",
       "         [-1.71219317]],\n",
       "\n",
       "        [[-1.30933856],\n",
       "         [-1.01483402],\n",
       "         [-1.34943607],\n",
       "         [-1.15746088],\n",
       "         [-1.24140604]],\n",
       "\n",
       "        [[-1.30602906],\n",
       "         [-0.8334872 ],\n",
       "         [-1.35834309],\n",
       "         [-1.32820173],\n",
       "         [-1.2710758 ]],\n",
       "\n",
       "        [[-0.79264236],\n",
       "         [-1.07780842],\n",
       "         [-1.25026789],\n",
       "         [-1.44423898],\n",
       "         [-1.38784919]],\n",
       "\n",
       "        [[-1.12295947],\n",
       "         [-1.10338058],\n",
       "         [-1.59393026],\n",
       "         [-1.53970051],\n",
       "         [-1.66748163]],\n",
       "\n",
       "        [[-0.60507967],\n",
       "         [-0.90309154],\n",
       "         [-1.35957825],\n",
       "         [-1.4097727 ],\n",
       "         [-1.37832957]],\n",
       "\n",
       "        [[-0.49275483],\n",
       "         [-0.78344314],\n",
       "         [-0.27025506],\n",
       "         [-0.26754499],\n",
       "         [-0.22246672]],\n",
       "\n",
       "        [[-1.39332888],\n",
       "         [-0.71829036],\n",
       "         [-1.09037792],\n",
       "         [-1.34664406],\n",
       "         [-1.70679869]],\n",
       "\n",
       "        [[-1.28149759],\n",
       "         [-0.97172075],\n",
       "         [-0.83716998],\n",
       "         [-0.95068754],\n",
       "         [-0.94143846]],\n",
       "\n",
       "        [[-1.06434503],\n",
       "         [-0.97652467],\n",
       "         [-1.36024822],\n",
       "         [-1.231131  ],\n",
       "         [-1.29107675]],\n",
       "\n",
       "        [[-1.12394859],\n",
       "         [-0.95511874],\n",
       "         [-1.27986061],\n",
       "         [-1.1688918 ],\n",
       "         [-1.18493897]],\n",
       "\n",
       "        [[-1.04916533],\n",
       "         [-1.09361117],\n",
       "         [-1.41781774],\n",
       "         [-1.2105235 ],\n",
       "         [-1.37025596]],\n",
       "\n",
       "        [[-1.06167743],\n",
       "         [-0.93826438],\n",
       "         [-1.232447  ],\n",
       "         [-1.11997419],\n",
       "         [-1.18168857]],\n",
       "\n",
       "        [[-0.80360165],\n",
       "         [-1.03843349],\n",
       "         [-1.4217848 ],\n",
       "         [-1.40944141],\n",
       "         [-1.39017758]],\n",
       "\n",
       "        [[-0.94291687],\n",
       "         [-0.83894168],\n",
       "         [-0.25147935],\n",
       "         [-0.23126328],\n",
       "         [-0.21169275]],\n",
       "\n",
       "        [[-0.56694252],\n",
       "         [-1.09016521],\n",
       "         [-0.83410082],\n",
       "         [-0.83104358],\n",
       "         [-0.85894219]],\n",
       "\n",
       "        [[-1.5687451 ],\n",
       "         [-0.82259147],\n",
       "         [-1.26033174],\n",
       "         [-1.23247896],\n",
       "         [-1.46319024]],\n",
       "\n",
       "        [[-1.22424664],\n",
       "         [-0.7894626 ],\n",
       "         [-1.27857235],\n",
       "         [-1.31791124],\n",
       "         [-1.57163672]],\n",
       "\n",
       "        [[-0.82199745],\n",
       "         [-0.77241174],\n",
       "         [-1.28922835],\n",
       "         [-1.3760035 ],\n",
       "         [-1.3794507 ]],\n",
       "\n",
       "        [[-0.84558603],\n",
       "         [-0.90459905],\n",
       "         [-1.17209891],\n",
       "         [-1.41254277],\n",
       "         [-1.26016109]],\n",
       "\n",
       "        [[-1.10959796],\n",
       "         [-1.1189991 ],\n",
       "         [-1.53817453],\n",
       "         [-1.4093413 ],\n",
       "         [-1.31158219]],\n",
       "\n",
       "        [[-0.57012348],\n",
       "         [-1.01752112],\n",
       "         [-1.8168049 ],\n",
       "         [-1.97052357],\n",
       "         [-1.98234236]],\n",
       "\n",
       "        [[-1.49702691],\n",
       "         [-0.88561656],\n",
       "         [-1.3623254 ],\n",
       "         [-1.65083486],\n",
       "         [-1.79028284]],\n",
       "\n",
       "        [[-0.80782784],\n",
       "         [-1.0576417 ],\n",
       "         [-0.22011312],\n",
       "         [-0.21074173],\n",
       "         [-0.1692343 ]],\n",
       "\n",
       "        [[-1.3345075 ],\n",
       "         [-1.23562917],\n",
       "         [-1.38417122],\n",
       "         [-1.3337131 ],\n",
       "         [-1.43598145]],\n",
       "\n",
       "        [[-0.92638376],\n",
       "         [-0.70519929],\n",
       "         [-1.01276289],\n",
       "         [-0.96146725],\n",
       "         [-1.08352445]],\n",
       "\n",
       "        [[-1.00312457],\n",
       "         [-1.06126283],\n",
       "         [-1.24811131],\n",
       "         [-1.19646691],\n",
       "         [-1.06011702]],\n",
       "\n",
       "        [[-0.97326074],\n",
       "         [-0.84187272],\n",
       "         [-1.09192896],\n",
       "         [-1.20961147],\n",
       "         [-1.45304968]],\n",
       "\n",
       "        [[-0.76188232],\n",
       "         [-0.69851779],\n",
       "         [-1.19971618],\n",
       "         [-1.15223281],\n",
       "         [-1.26244084]]]])"
      ]
     },
     "execution_count": 8,
     "metadata": {},
     "output_type": "execute_result"
    }
   ],
   "source": [
    "X_train[:2]"
   ]
  },
  {
   "cell_type": "code",
   "execution_count": 9,
   "metadata": {},
   "outputs": [
    {
     "data": {
      "text/plain": [
       "array([[[[-1.15880825],\n",
       "         [-1.35386342],\n",
       "         [-2.00449173],\n",
       "         [-1.01137545],\n",
       "         [-1.35746718]],\n",
       "\n",
       "        [[-1.73579963],\n",
       "         [-1.47804012],\n",
       "         [-1.38034618],\n",
       "         [-0.29983652],\n",
       "         [-0.35785764]],\n",
       "\n",
       "        [[-0.3681339 ],\n",
       "         [-0.50827448],\n",
       "         [-0.59612083],\n",
       "         [-1.19520068],\n",
       "         [-0.51430554]],\n",
       "\n",
       "        [[-1.12459764],\n",
       "         [-1.10063329],\n",
       "         [-0.96767699],\n",
       "         [-1.33955169],\n",
       "         [-1.50254741]],\n",
       "\n",
       "        [[-1.05363057],\n",
       "         [-1.25761321],\n",
       "         [-1.30753003],\n",
       "         [-1.02012871],\n",
       "         [-1.61357045]],\n",
       "\n",
       "        [[-0.98535369],\n",
       "         [-0.50600586],\n",
       "         [-0.43525971],\n",
       "         [-1.58993571],\n",
       "         [-1.08994446]],\n",
       "\n",
       "        [[-0.93383961],\n",
       "         [-1.10647254],\n",
       "         [-1.19739598],\n",
       "         [-0.93306089],\n",
       "         [-1.45446379]],\n",
       "\n",
       "        [[-0.99779547],\n",
       "         [-1.0580514 ],\n",
       "         [-0.96865188],\n",
       "         [-1.26911162],\n",
       "         [-1.40625204]],\n",
       "\n",
       "        [[-1.17777531],\n",
       "         [-1.27012748],\n",
       "         [-1.53003154],\n",
       "         [-1.12710653],\n",
       "         [-1.38275512]],\n",
       "\n",
       "        [[-1.70942736],\n",
       "         [-1.58066511],\n",
       "         [-1.39652994],\n",
       "         [-0.49413057],\n",
       "         [-0.39167158]],\n",
       "\n",
       "        [[-0.44077082],\n",
       "         [-0.42772035],\n",
       "         [-0.55028231],\n",
       "         [-1.97009599],\n",
       "         [-0.71390729]],\n",
       "\n",
       "        [[-1.51376474],\n",
       "         [-1.16079588],\n",
       "         [-1.16245999],\n",
       "         [-1.41028531],\n",
       "         [-1.22626135]],\n",
       "\n",
       "        [[-0.64008995],\n",
       "         [-0.82826188],\n",
       "         [-0.82392687],\n",
       "         [-0.54395415],\n",
       "         [-1.04172669]],\n",
       "\n",
       "        [[-0.94423047],\n",
       "         [-0.67514551],\n",
       "         [-0.50510252],\n",
       "         [-0.7121206 ],\n",
       "         [-1.16425869]],\n",
       "\n",
       "        [[-1.10687266],\n",
       "         [-1.19739018],\n",
       "         [-1.32752351],\n",
       "         [-1.53171153],\n",
       "         [-1.22795052]],\n",
       "\n",
       "        [[-0.99969894],\n",
       "         [-1.26564016],\n",
       "         [-1.15277533],\n",
       "         [-1.33694817],\n",
       "         [-1.08820485]],\n",
       "\n",
       "        [[-1.18650187],\n",
       "         [-1.25905364],\n",
       "         [-1.09394408],\n",
       "         [-0.43804741],\n",
       "         [-0.45695029]],\n",
       "\n",
       "        [[-1.32502232],\n",
       "         [-1.08189027],\n",
       "         [-1.51513533],\n",
       "         [-1.18495933],\n",
       "         [-1.47005067]],\n",
       "\n",
       "        [[-1.0212069 ],\n",
       "         [-0.84678546],\n",
       "         [-0.79250969],\n",
       "         [-1.14476573],\n",
       "         [-1.31690774]],\n",
       "\n",
       "        [[-1.53263878],\n",
       "         [-1.17947786],\n",
       "         [-0.57517268],\n",
       "         [-0.82500769],\n",
       "         [-0.75789389]],\n",
       "\n",
       "        [[-0.66480138],\n",
       "         [-0.91224308],\n",
       "         [-0.95517923],\n",
       "         [-1.13289094],\n",
       "         [-1.29126576]],\n",
       "\n",
       "        [[-0.73787448],\n",
       "         [-0.66700736],\n",
       "         [-0.91983038],\n",
       "         [-1.09394517],\n",
       "         [-1.02844769]],\n",
       "\n",
       "        [[-1.03140772],\n",
       "         [-0.96250686],\n",
       "         [-1.0559489 ],\n",
       "         [-0.97722877],\n",
       "         [-0.88425422]],\n",
       "\n",
       "        [[-0.56739126],\n",
       "         [-0.68408302],\n",
       "         [-0.84575522],\n",
       "         [-1.05001298],\n",
       "         [-0.92528513]],\n",
       "\n",
       "        [[-1.12826959],\n",
       "         [-1.55779847],\n",
       "         [-1.2188641 ],\n",
       "         [-0.43637941],\n",
       "         [-0.41328523]],\n",
       "\n",
       "        [[-1.04143911],\n",
       "         [-1.05691092],\n",
       "         [-1.21082755],\n",
       "         [-0.83448839],\n",
       "         [-1.17969019]],\n",
       "\n",
       "        [[-1.17933085],\n",
       "         [-1.35716236],\n",
       "         [-1.02102224],\n",
       "         [-1.29443591],\n",
       "         [-1.27452316]],\n",
       "\n",
       "        [[-1.10679679],\n",
       "         [-1.17666127],\n",
       "         [-0.81883391],\n",
       "         [-1.64208021],\n",
       "         [-0.93223566]],\n",
       "\n",
       "        [[-0.71668382],\n",
       "         [-0.72253284],\n",
       "         [-0.85778289],\n",
       "         [-1.08965405],\n",
       "         [-1.02706998]],\n",
       "\n",
       "        [[-0.96360859],\n",
       "         [-0.75621356],\n",
       "         [-0.8854177 ],\n",
       "         [-1.19600821],\n",
       "         [-1.21199392]],\n",
       "\n",
       "        [[-0.72093195],\n",
       "         [-0.61721838],\n",
       "         [-0.69403748],\n",
       "         [-0.72248371],\n",
       "         [-0.7676757 ]],\n",
       "\n",
       "        [[-0.70023496],\n",
       "         [-0.77490221],\n",
       "         [-0.79646255],\n",
       "         [-1.09994687],\n",
       "         [-1.28678669]]],\n",
       "\n",
       "\n",
       "       [[[-1.01137545],\n",
       "         [-1.35746718],\n",
       "         [-2.2209666 ],\n",
       "         [-2.21779221],\n",
       "         [-1.59327998]],\n",
       "\n",
       "        [[-0.29983652],\n",
       "         [-0.35785764],\n",
       "         [-0.96600414],\n",
       "         [-1.35615317],\n",
       "         [-0.82263631]],\n",
       "\n",
       "        [[-1.19520068],\n",
       "         [-0.51430554],\n",
       "         [-1.41298345],\n",
       "         [-1.06189219],\n",
       "         [-0.92958769]],\n",
       "\n",
       "        [[-1.33955169],\n",
       "         [-1.50254741],\n",
       "         [-0.81388839],\n",
       "         [-0.55450162],\n",
       "         [-0.71200401]],\n",
       "\n",
       "        [[-1.02012871],\n",
       "         [-1.61357045],\n",
       "         [-0.96748212],\n",
       "         [-0.89827063],\n",
       "         [-1.27609746]],\n",
       "\n",
       "        [[-1.58993571],\n",
       "         [-1.08994446],\n",
       "         [-0.93393041],\n",
       "         [-0.77592995],\n",
       "         [-0.70795614]],\n",
       "\n",
       "        [[-0.93306089],\n",
       "         [-1.45446379],\n",
       "         [-0.48993431],\n",
       "         [-1.00013076],\n",
       "         [-0.92277744]],\n",
       "\n",
       "        [[-1.26911162],\n",
       "         [-1.40625204],\n",
       "         [-0.83607184],\n",
       "         [-0.72040617],\n",
       "         [-0.84150954]],\n",
       "\n",
       "        [[-1.12710653],\n",
       "         [-1.38275512],\n",
       "         [-1.86033577],\n",
       "         [-1.74111085],\n",
       "         [-1.52796184]],\n",
       "\n",
       "        [[-0.49413057],\n",
       "         [-0.39167158],\n",
       "         [-0.96541454],\n",
       "         [-1.35727853],\n",
       "         [-1.17990678]],\n",
       "\n",
       "        [[-1.97009599],\n",
       "         [-0.71390729],\n",
       "         [-1.23736659],\n",
       "         [-1.24521258],\n",
       "         [-1.18537636]],\n",
       "\n",
       "        [[-1.41028531],\n",
       "         [-1.22626135],\n",
       "         [-1.06628794],\n",
       "         [-0.87675717],\n",
       "         [-0.74490542]],\n",
       "\n",
       "        [[-0.54395415],\n",
       "         [-1.04172669],\n",
       "         [-0.97892997],\n",
       "         [-0.72200733],\n",
       "         [-0.68013431]],\n",
       "\n",
       "        [[-0.7121206 ],\n",
       "         [-1.16425869],\n",
       "         [-0.60365196],\n",
       "         [-0.60698391],\n",
       "         [-0.73897343]],\n",
       "\n",
       "        [[-1.53171153],\n",
       "         [-1.22795052],\n",
       "         [-0.78191813],\n",
       "         [-0.99049333],\n",
       "         [-0.96070718]],\n",
       "\n",
       "        [[-1.33694817],\n",
       "         [-1.08820485],\n",
       "         [-0.6677729 ],\n",
       "         [-0.67945854],\n",
       "         [-0.8003884 ]],\n",
       "\n",
       "        [[-0.43804741],\n",
       "         [-0.45695029],\n",
       "         [-1.09985665],\n",
       "         [-1.50109606],\n",
       "         [-1.3370089 ]],\n",
       "\n",
       "        [[-1.18495933],\n",
       "         [-1.47005067],\n",
       "         [-1.90426718],\n",
       "         [-1.69616379],\n",
       "         [-1.73486398]],\n",
       "\n",
       "        [[-1.14476573],\n",
       "         [-1.31690774],\n",
       "         [-1.00244974],\n",
       "         [-0.6988335 ],\n",
       "         [-0.75559464]],\n",
       "\n",
       "        [[-0.82500769],\n",
       "         [-0.75789389],\n",
       "         [-0.76279627],\n",
       "         [-0.69942686],\n",
       "         [-0.62906908]],\n",
       "\n",
       "        [[-1.13289094],\n",
       "         [-1.29126576],\n",
       "         [-1.03389474],\n",
       "         [-1.08932437],\n",
       "         [-0.95570996]],\n",
       "\n",
       "        [[-1.09394517],\n",
       "         [-1.02844769],\n",
       "         [-0.77642625],\n",
       "         [-0.60715924],\n",
       "         [-0.76169316]],\n",
       "\n",
       "        [[-0.97722877],\n",
       "         [-0.88425422],\n",
       "         [-0.91630969],\n",
       "         [-0.93858433],\n",
       "         [-0.82834208]],\n",
       "\n",
       "        [[-1.05001298],\n",
       "         [-0.92528513],\n",
       "         [-0.59363373],\n",
       "         [-0.97966753],\n",
       "         [-1.03260514]],\n",
       "\n",
       "        [[-0.43637941],\n",
       "         [-0.41328523],\n",
       "         [-0.90978824],\n",
       "         [-1.52292992],\n",
       "         [-1.18384476]],\n",
       "\n",
       "        [[-0.83448839],\n",
       "         [-1.17969019],\n",
       "         [-1.77247577],\n",
       "         [-1.64354698],\n",
       "         [-1.49583752]],\n",
       "\n",
       "        [[-1.29443591],\n",
       "         [-1.27452316],\n",
       "         [-0.80911087],\n",
       "         [-0.56527302],\n",
       "         [-0.43774832]],\n",
       "\n",
       "        [[-1.64208021],\n",
       "         [-0.93223566],\n",
       "         [-1.30795544],\n",
       "         [-1.25099453],\n",
       "         [-1.23039562]],\n",
       "\n",
       "        [[-1.08965405],\n",
       "         [-1.02706998],\n",
       "         [-0.75319693],\n",
       "         [-0.84401089],\n",
       "         [-0.88293792]],\n",
       "\n",
       "        [[-1.19600821],\n",
       "         [-1.21199392],\n",
       "         [-0.74061175],\n",
       "         [-0.78294799],\n",
       "         [-0.83502036]],\n",
       "\n",
       "        [[-0.72248371],\n",
       "         [-0.7676757 ],\n",
       "         [-0.72489341],\n",
       "         [-0.71642444],\n",
       "         [-0.86473123]],\n",
       "\n",
       "        [[-1.09994687],\n",
       "         [-1.28678669],\n",
       "         [-0.9626917 ],\n",
       "         [-0.9248029 ],\n",
       "         [-1.18642596]]]])"
      ]
     },
     "execution_count": 9,
     "metadata": {},
     "output_type": "execute_result"
    }
   ],
   "source": [
    "X_dev[:2]"
   ]
  },
  {
   "cell_type": "code",
   "execution_count": 10,
   "metadata": {},
   "outputs": [
    {
     "data": {
      "text/plain": [
       "array([[1., 0.],\n",
       "       [1., 0.]])"
      ]
     },
     "execution_count": 10,
     "metadata": {},
     "output_type": "execute_result"
    }
   ],
   "source": [
    "y_train[:2]"
   ]
  },
  {
   "cell_type": "code",
   "execution_count": 11,
   "metadata": {},
   "outputs": [
    {
     "data": {
      "text/plain": [
       "array([0., 1.])"
      ]
     },
     "execution_count": 11,
     "metadata": {},
     "output_type": "execute_result"
    }
   ],
   "source": [
    "y_train[-20]"
   ]
  },
  {
   "cell_type": "code",
   "execution_count": 12,
   "metadata": {},
   "outputs": [
    {
     "data": {
      "text/plain": [
       "array([[1., 0.],\n",
       "       [1., 0.]])"
      ]
     },
     "execution_count": 12,
     "metadata": {},
     "output_type": "execute_result"
    }
   ],
   "source": [
    "y_dev[:2]"
   ]
  },
  {
   "cell_type": "code",
   "execution_count": 13,
   "metadata": {},
   "outputs": [
    {
     "data": {
      "text/plain": [
       "(32, 5, 1)"
      ]
     },
     "execution_count": 13,
     "metadata": {},
     "output_type": "execute_result"
    }
   ],
   "source": [
    "X_dev[0].shape"
   ]
  },
  {
   "cell_type": "code",
   "execution_count": 14,
   "metadata": {},
   "outputs": [
    {
     "data": {
      "text/plain": [
       "(26, 32, 5, 1)"
      ]
     },
     "execution_count": 14,
     "metadata": {},
     "output_type": "execute_result"
    }
   ],
   "source": [
    "X_dev.shape"
   ]
  },
  {
   "cell_type": "code",
   "execution_count": 15,
   "metadata": {},
   "outputs": [
    {
     "data": {
      "text/plain": [
       "(104, 32, 5, 1)"
      ]
     },
     "execution_count": 15,
     "metadata": {},
     "output_type": "execute_result"
    }
   ],
   "source": [
    "X_train.shape"
   ]
  },
  {
   "cell_type": "code",
   "execution_count": 16,
   "metadata": {},
   "outputs": [
    {
     "data": {
      "text/plain": [
       "2"
      ]
     },
     "execution_count": 16,
     "metadata": {},
     "output_type": "execute_result"
    }
   ],
   "source": [
    "y_train.shape[1]"
   ]
  },
  {
   "cell_type": "markdown",
   "metadata": {},
   "source": [
    "### 4 - Set hyperparameters"
   ]
  },
  {
   "cell_type": "code",
   "execution_count": 17,
   "metadata": {},
   "outputs": [],
   "source": [
    "# Tensorboard\n",
    "from time import time\n",
    "from keras.callbacks import TensorBoard\n",
    "tensorboard = TensorBoard(log_dir='logs/{}'.format(time()))"
   ]
  },
  {
   "cell_type": "code",
   "execution_count": 18,
   "metadata": {},
   "outputs": [
    {
     "data": {
      "text/plain": [
       "'\\nn_epochs = 100 #2000\\n#learning_rate = 0.001\\nbatch_size = 32 #250 \\nn_neurons_per_hlayer = [500, 250, 75, 25] # Number of units per layer, 4 hidden layers\\nrate_dropout = [0.8, 0.4, 0.2, 0.1]\\nweight_decay = 1e-4\\n'"
      ]
     },
     "execution_count": 18,
     "metadata": {},
     "output_type": "execute_result"
    }
   ],
   "source": [
    "\"\"\"\n",
    "n_epochs = 100 #2000\n",
    "#learning_rate = 0.001\n",
    "batch_size = 32 #250 \n",
    "n_neurons_per_hlayer = [500, 250, 75, 25] # Number of units per layer, 4 hidden layers\n",
    "rate_dropout = [0.8, 0.4, 0.2, 0.1]\n",
    "weight_decay = 1e-4\n",
    "\"\"\""
   ]
  },
  {
   "cell_type": "markdown",
   "metadata": {},
   "source": [
    "### 5 - Build the model: "
   ]
  },
  {
   "cell_type": "code",
   "execution_count": 19,
   "metadata": {},
   "outputs": [
    {
     "name": "stdout",
     "output_type": "stream",
     "text": [
      "Model: \"sequential\"\n",
      "_________________________________________________________________\n",
      "Layer (type)                 Output Shape              Param #   \n",
      "=================================================================\n",
      "conv2d (Conv2D)              (None, 32, 5, 4)          104       \n",
      "_________________________________________________________________\n",
      "conv2d_1 (Conv2D)            (None, 32, 5, 4)          516       \n",
      "_________________________________________________________________\n",
      "max_pooling2d (MaxPooling2D) (None, 16, 2, 4)          0         \n",
      "_________________________________________________________________\n",
      "dropout (Dropout)            (None, 16, 2, 4)          0         \n",
      "_________________________________________________________________\n",
      "conv2d_2 (Conv2D)            (None, 16, 2, 70)         2590      \n",
      "_________________________________________________________________\n",
      "conv2d_3 (Conv2D)            (None, 16, 2, 70)         44170     \n",
      "_________________________________________________________________\n",
      "max_pooling2d_1 (MaxPooling2 (None, 8, 1, 70)          0         \n",
      "_________________________________________________________________\n",
      "dropout_1 (Dropout)          (None, 8, 1, 70)          0         \n",
      "_________________________________________________________________\n",
      "flatten (Flatten)            (None, 560)               0         \n",
      "_________________________________________________________________\n",
      "dense (Dense)                (None, 2)                 1122      \n",
      "=================================================================\n",
      "Total params: 48,502\n",
      "Trainable params: 48,502\n",
      "Non-trainable params: 0\n",
      "_________________________________________________________________\n"
     ]
    }
   ],
   "source": [
    "from keras.models import Sequential\n",
    "from keras.layers import Dense, Dropout, Activation, Flatten, DepthwiseConv2D\n",
    "from keras.layers.convolutional import Conv2D, MaxPooling2D\n",
    "from keras import optimizers, regularizers\n",
    "import keras.backend as K\n",
    "#K.set_image_data_format('channels_first')\n",
    "\n",
    "weight_decay = 1e-4\n",
    "\n",
    "model = Sequential()\n",
    "# Convolution2D(filtrosConv1, tamaño_filtro1, padding=\"same\", input_shape=(longitud, altura,3), activation = \"relu\")\n",
    "    # - filtrosConv1 número de filtros que aplicaremos tras la primera convolución, normalmente este tamaño va a aumentando\n",
    "    # tras convoluciones para que aumente la dimensión de profundidad (qué cosas hay en mi imagen)\n",
    "    # - tamaño_filtro1 tamaño espacial del kernel (de los filtros)\n",
    "    # - padding = si es same es que es igual que la imagen, vamos crea una imagen del mismo tamaño con el filtro, si es \n",
    "    # valid es que no hay padding y crea una imagen más pequeña que la imagen (creo)\n",
    "    # - input_shape = longitud y altura, tamaño que usará para convolucionar al entrenar\n",
    "    \n",
    "# CAPA PARA FILTRADO TEMPORAL \n",
    "model.add(Conv2D(filters = 4, kernel_size=(1,25), padding=\"same\", activation=\"relu\",input_shape=(32, 5, 1 ), kernel_initializer=\"he_normal\", kernel_regularizer=regularizers.l2(weight_decay)))\n",
    "# CAPA PARA FILTRADO ESPACIAL\n",
    "model.add(Conv2D(filters = 4, kernel_size=(32,1), padding=\"same\", activation=\"relu\", kernel_initializer=\"he_normal\", kernel_regularizer=regularizers.l2(weight_decay)))\n",
    "model.add(MaxPooling2D(pool_size=(2, 2)))\n",
    "\n",
    "model.add(Dropout(0.3))\n",
    "\n",
    "## Siguientes capas convolucionales: \n",
    "model.add(Conv2D(70, (3,3), padding='same',activation='relu', kernel_initializer=\"he_normal\",kernel_regularizer=regularizers.l2(weight_decay)))\n",
    "model.add(Conv2D(70, (3,3), padding='same',activation='relu', kernel_initializer=\"he_normal\",kernel_regularizer=regularizers.l2(weight_decay)))\n",
    "model.add(MaxPooling2D(pool_size=(2,2)))\n",
    "model.add(Dropout(0.2))\n",
    "\n",
    "\n",
    "\n",
    "\"\"\"\n",
    "model.add(MaxPooling2D(pool_size=(2, 2)))\n",
    "model.add(Dropout(0.5))\n",
    "\n",
    "\n",
    "model.add(Conv2D(96, (3, 3), padding='same',activation='relu', kernel_initializer=\"he_normal\",kernel_regularizer=regularizers.l2(weight_decay)))\n",
    "#model.add(Conv2D(96, (3, 3), padding='same',activation='relu', kernel_initializer=\"he_normal\", kernel_regularizer=regularizers.l2(weight_decay)))\n",
    "model.add(MaxPooling2D(pool_size=(2, 2)))\n",
    "model.add(Dropout(0.2))\n",
    "\n",
    "model.add(Conv2D(192, (3, 3), padding='same',activation='relu', kernel_initializer=\"he_normal\", kernel_regularizer=regularizers.l2(weight_decay)))\n",
    "#model.add(Conv2D(192, (3, 3), padding='same',activation='relu', kernel_initializer=\"he_normal\", kernel_regularizer=regularizers.l2(weight_decay)))\n",
    "model.add(MaxPooling2D(pool_size=(2, 2)))\n",
    "model.add(Dropout(0.1))\n",
    "\"\"\"\n",
    "\n",
    "model.add(Flatten())\n",
    "\"\"\"\n",
    "model.add(Dense(20, activation=\"relu\", kernel_initializer=\"he_normal\"))\n",
    "model.add(Dropout(0.5))\n",
    "\"\"\"\n",
    "model.add(Dense(y_train.shape[1], activation=\"softmax\"))\n",
    "\n",
    "opt = optimizers.Adam(lr=0.001, beta_1=0.9, beta_2=0.999)        \n",
    "model.compile(optimizer=opt, loss='categorical_crossentropy', metrics=['accuracy'])\n",
    "model.summary()"
   ]
  },
  {
   "cell_type": "code",
   "execution_count": 20,
   "metadata": {},
   "outputs": [
    {
     "data": {
      "text/plain": [
       "[<tensorflow.python.keras.layers.convolutional.Conv2D at 0x1e3ce086940>,\n",
       " <tensorflow.python.keras.layers.convolutional.Conv2D at 0x1e3ce17d8e0>,\n",
       " <tensorflow.python.keras.layers.pooling.MaxPooling2D at 0x1e3ce17d460>,\n",
       " <tensorflow.python.keras.layers.core.Dropout at 0x1e3d432d4f0>,\n",
       " <tensorflow.python.keras.layers.convolutional.Conv2D at 0x1e3d4331bb0>,\n",
       " <tensorflow.python.keras.layers.convolutional.Conv2D at 0x1e3d446c6a0>,\n",
       " <tensorflow.python.keras.layers.pooling.MaxPooling2D at 0x1e3d446c100>,\n",
       " <tensorflow.python.keras.layers.core.Dropout at 0x1e3d447b250>,\n",
       " <tensorflow.python.keras.layers.core.Flatten at 0x1e3d4482f70>,\n",
       " <tensorflow.python.keras.layers.core.Dense at 0x1e3d4489970>]"
      ]
     },
     "execution_count": 20,
     "metadata": {},
     "output_type": "execute_result"
    }
   ],
   "source": [
    "model.layers"
   ]
  },
  {
   "cell_type": "code",
   "execution_count": 21,
   "metadata": {},
   "outputs": [
    {
     "name": "stdout",
     "output_type": "stream",
     "text": [
      "conv2d\n",
      "conv2d_1\n",
      "max_pooling2d\n",
      "dropout\n",
      "conv2d_2\n",
      "conv2d_3\n",
      "max_pooling2d_1\n",
      "dropout_1\n",
      "flatten\n",
      "dense\n"
     ]
    }
   ],
   "source": [
    "for l in model.layers: print (l.name)"
   ]
  },
  {
   "cell_type": "markdown",
   "metadata": {},
   "source": [
    "All the parameters of a layer can bee accessed:"
   ]
  },
  {
   "cell_type": "code",
   "execution_count": 22,
   "metadata": {},
   "outputs": [
    {
     "data": {
      "text/plain": [
       "(1, 25, 1, 4)"
      ]
     },
     "execution_count": 22,
     "metadata": {},
     "output_type": "execute_result"
    }
   ],
   "source": [
    "weights, biases = model.layers[0].get_weights()\n",
    "weights.shape"
   ]
  },
  {
   "cell_type": "code",
   "execution_count": 23,
   "metadata": {},
   "outputs": [
    {
     "data": {
      "text/plain": [
       "array([[[[ 0.32593372, -0.04176689,  0.4120621 , -0.21790384]],\n",
       "\n",
       "        [[-0.29510966, -0.23057401, -0.46366063,  0.20766424]],\n",
       "\n",
       "        [[-0.17084664,  0.32548067, -0.10266401, -0.26529336]],\n",
       "\n",
       "        [[-0.4134603 ,  0.25820118,  0.5356094 , -0.35837147]],\n",
       "\n",
       "        [[-0.11271892,  0.17413893,  0.20830557, -0.46093965]],\n",
       "\n",
       "        [[-0.11274666,  0.19095805, -0.04539723, -0.5017454 ]],\n",
       "\n",
       "        [[ 0.32209098,  0.2992319 , -0.1053364 , -0.1571176 ]],\n",
       "\n",
       "        [[ 0.33734363,  0.39549327,  0.47513703,  0.21796377]],\n",
       "\n",
       "        [[-0.15798011, -0.04556389,  0.30036536, -0.06663046]],\n",
       "\n",
       "        [[ 0.63395184, -0.36051872,  0.06126428,  0.29214588]],\n",
       "\n",
       "        [[ 0.14290091, -0.2857658 ,  0.0525354 , -0.33627695]],\n",
       "\n",
       "        [[ 0.31610236, -0.38845643, -0.17103872,  0.30586186]],\n",
       "\n",
       "        [[ 0.24493974, -0.29089996, -0.0513679 ,  0.3233912 ]],\n",
       "\n",
       "        [[ 0.00358381,  0.2149748 ,  0.18749323,  0.20608011]],\n",
       "\n",
       "        [[ 0.14070405,  0.28438   ,  0.54335284,  0.5711491 ]],\n",
       "\n",
       "        [[-0.20439959, -0.17748055, -0.0128874 , -0.04441999]],\n",
       "\n",
       "        [[ 0.2138361 , -0.06173272,  0.14576155, -0.437154  ]],\n",
       "\n",
       "        [[-0.02311854,  0.03876992, -0.06572121, -0.09167347]],\n",
       "\n",
       "        [[-0.14975129, -0.39017698,  0.09910689, -0.20303744]],\n",
       "\n",
       "        [[-0.00685536, -0.03641723, -0.17213862,  0.46844092]],\n",
       "\n",
       "        [[-0.50869226, -0.06865501,  0.25523788,  0.24880135]],\n",
       "\n",
       "        [[ 0.4374143 , -0.03178238,  0.06103098,  0.01670298]],\n",
       "\n",
       "        [[ 0.24695228,  0.49644586,  0.48826864, -0.22761302]],\n",
       "\n",
       "        [[-0.2024995 , -0.3540723 , -0.18385929,  0.42444384]],\n",
       "\n",
       "        [[ 0.5079976 , -0.4419603 ,  0.36802697,  0.4890171 ]]]],\n",
       "      dtype=float32)"
      ]
     },
     "execution_count": 23,
     "metadata": {},
     "output_type": "execute_result"
    }
   ],
   "source": [
    "weights"
   ]
  },
  {
   "cell_type": "code",
   "execution_count": 24,
   "metadata": {},
   "outputs": [
    {
     "data": {
      "text/plain": [
       "array([0., 0., 0., 0.], dtype=float32)"
      ]
     },
     "execution_count": 24,
     "metadata": {},
     "output_type": "execute_result"
    }
   ],
   "source": [
    "biases # Bias de la primera capa: 500 bias inicializados a 0 "
   ]
  },
  {
   "cell_type": "code",
   "execution_count": 25,
   "metadata": {},
   "outputs": [
    {
     "data": {
      "text/plain": [
       "(4,)"
      ]
     },
     "execution_count": 25,
     "metadata": {},
     "output_type": "execute_result"
    }
   ],
   "source": [
    "biases.shape"
   ]
  },
  {
   "cell_type": "markdown",
   "metadata": {},
   "source": [
    "### 6. Compile the model"
   ]
  },
  {
   "cell_type": "markdown",
   "metadata": {},
   "source": [
    "### 7. Train the model with M-BGD"
   ]
  },
  {
   "cell_type": "code",
   "execution_count": 26,
   "metadata": {},
   "outputs": [
    {
     "name": "stdout",
     "output_type": "stream",
     "text": [
      "Epoch 1/100\n",
      "4/4 - 8s - loss: 0.7751 - accuracy: 0.5000 - val_loss: 0.6748 - val_accuracy: 0.6154\n",
      "Epoch 2/100\n",
      "4/4 - 0s - loss: 0.6938 - accuracy: 0.6250 - val_loss: 0.6624 - val_accuracy: 0.6154\n",
      "Epoch 3/100\n",
      "4/4 - 0s - loss: 0.6812 - accuracy: 0.6442 - val_loss: 0.6623 - val_accuracy: 0.6154\n",
      "Epoch 4/100\n",
      "4/4 - 0s - loss: 0.6640 - accuracy: 0.6154 - val_loss: 0.6609 - val_accuracy: 0.6154\n",
      "Epoch 5/100\n",
      "4/4 - 0s - loss: 0.6775 - accuracy: 0.6635 - val_loss: 0.6607 - val_accuracy: 0.6154\n",
      "Epoch 6/100\n",
      "4/4 - 0s - loss: 0.6695 - accuracy: 0.6250 - val_loss: 0.6563 - val_accuracy: 0.6154\n",
      "Epoch 7/100\n",
      "4/4 - 0s - loss: 0.6814 - accuracy: 0.6154 - val_loss: 0.6489 - val_accuracy: 0.6154\n",
      "Epoch 8/100\n",
      "4/4 - 0s - loss: 0.6372 - accuracy: 0.6538 - val_loss: 0.6447 - val_accuracy: 0.6154\n",
      "Epoch 9/100\n",
      "4/4 - 0s - loss: 0.6552 - accuracy: 0.6250 - val_loss: 0.6505 - val_accuracy: 0.6154\n",
      "Epoch 10/100\n",
      "4/4 - 0s - loss: 0.6460 - accuracy: 0.6442 - val_loss: 0.6658 - val_accuracy: 0.6154\n",
      "Epoch 11/100\n",
      "4/4 - 0s - loss: 0.6479 - accuracy: 0.6346 - val_loss: 0.6459 - val_accuracy: 0.6154\n",
      "Epoch 12/100\n",
      "4/4 - 0s - loss: 0.6101 - accuracy: 0.6442 - val_loss: 0.6503 - val_accuracy: 0.6538\n",
      "Epoch 13/100\n",
      "4/4 - 0s - loss: 0.6368 - accuracy: 0.6827 - val_loss: 0.6648 - val_accuracy: 0.6538\n",
      "Epoch 14/100\n",
      "4/4 - 0s - loss: 0.5883 - accuracy: 0.7019 - val_loss: 0.6728 - val_accuracy: 0.6538\n",
      "Epoch 15/100\n",
      "4/4 - 0s - loss: 0.6317 - accuracy: 0.6827 - val_loss: 0.6645 - val_accuracy: 0.5769\n",
      "Epoch 16/100\n",
      "4/4 - 0s - loss: 0.5915 - accuracy: 0.6827 - val_loss: 0.6697 - val_accuracy: 0.6154\n",
      "Epoch 17/100\n",
      "4/4 - 0s - loss: 0.6156 - accuracy: 0.6442 - val_loss: 0.6729 - val_accuracy: 0.6538\n",
      "Epoch 18/100\n",
      "4/4 - 0s - loss: 0.6047 - accuracy: 0.7019 - val_loss: 0.6725 - val_accuracy: 0.6538\n",
      "Epoch 19/100\n",
      "4/4 - 0s - loss: 0.5690 - accuracy: 0.7115 - val_loss: 0.6732 - val_accuracy: 0.6154\n",
      "Epoch 20/100\n",
      "4/4 - 0s - loss: 0.5739 - accuracy: 0.7115 - val_loss: 0.6745 - val_accuracy: 0.5385\n",
      "Epoch 21/100\n",
      "4/4 - 0s - loss: 0.5796 - accuracy: 0.6731 - val_loss: 0.6737 - val_accuracy: 0.5385\n",
      "Epoch 22/100\n",
      "4/4 - 0s - loss: 0.5235 - accuracy: 0.7788 - val_loss: 0.6799 - val_accuracy: 0.5769\n",
      "Epoch 23/100\n",
      "4/4 - 0s - loss: 0.5522 - accuracy: 0.7692 - val_loss: 0.6744 - val_accuracy: 0.5769\n",
      "Epoch 24/100\n",
      "4/4 - 0s - loss: 0.4830 - accuracy: 0.7981 - val_loss: 0.6810 - val_accuracy: 0.5769\n",
      "Epoch 25/100\n",
      "4/4 - 0s - loss: 0.5580 - accuracy: 0.7885 - val_loss: 0.6793 - val_accuracy: 0.5769\n",
      "Epoch 26/100\n",
      "4/4 - 0s - loss: 0.5308 - accuracy: 0.7308 - val_loss: 0.7220 - val_accuracy: 0.5000\n",
      "Epoch 27/100\n",
      "4/4 - 0s - loss: 0.5468 - accuracy: 0.7596 - val_loss: 0.6937 - val_accuracy: 0.5385\n",
      "Epoch 28/100\n",
      "4/4 - 0s - loss: 0.5305 - accuracy: 0.7212 - val_loss: 0.7097 - val_accuracy: 0.5769\n",
      "Epoch 29/100\n",
      "4/4 - 0s - loss: 0.4831 - accuracy: 0.7692 - val_loss: 0.7092 - val_accuracy: 0.5769\n",
      "Epoch 30/100\n",
      "4/4 - 0s - loss: 0.4844 - accuracy: 0.8269 - val_loss: 0.7200 - val_accuracy: 0.5385\n",
      "Epoch 31/100\n",
      "4/4 - 0s - loss: 0.4243 - accuracy: 0.8365 - val_loss: 0.7797 - val_accuracy: 0.5385\n",
      "Epoch 32/100\n",
      "4/4 - 0s - loss: 0.5164 - accuracy: 0.7788 - val_loss: 0.7676 - val_accuracy: 0.5000\n",
      "Epoch 33/100\n",
      "4/4 - 0s - loss: 0.4586 - accuracy: 0.7981 - val_loss: 0.7744 - val_accuracy: 0.5000\n",
      "Epoch 34/100\n",
      "4/4 - 0s - loss: 0.4694 - accuracy: 0.8173 - val_loss: 0.8129 - val_accuracy: 0.5000\n",
      "Epoch 35/100\n",
      "4/4 - 0s - loss: 0.4420 - accuracy: 0.8654 - val_loss: 0.7798 - val_accuracy: 0.5385\n",
      "Epoch 36/100\n",
      "4/4 - 0s - loss: 0.4738 - accuracy: 0.8365 - val_loss: 0.7803 - val_accuracy: 0.5000\n",
      "Epoch 37/100\n",
      "4/4 - 0s - loss: 0.4599 - accuracy: 0.8462 - val_loss: 0.7979 - val_accuracy: 0.5000\n",
      "Epoch 38/100\n",
      "4/4 - 0s - loss: 0.4304 - accuracy: 0.8365 - val_loss: 0.8105 - val_accuracy: 0.4615\n",
      "Epoch 39/100\n",
      "4/4 - 0s - loss: 0.4471 - accuracy: 0.8462 - val_loss: 0.8138 - val_accuracy: 0.5000\n",
      "Epoch 40/100\n",
      "4/4 - 0s - loss: 0.3808 - accuracy: 0.9038 - val_loss: 0.8446 - val_accuracy: 0.5000\n",
      "Epoch 41/100\n",
      "4/4 - 0s - loss: 0.3202 - accuracy: 0.8942 - val_loss: 0.9096 - val_accuracy: 0.4615\n",
      "Epoch 42/100\n",
      "4/4 - 0s - loss: 0.3788 - accuracy: 0.8846 - val_loss: 0.9416 - val_accuracy: 0.5000\n",
      "Epoch 43/100\n",
      "4/4 - 0s - loss: 0.3945 - accuracy: 0.8846 - val_loss: 0.9917 - val_accuracy: 0.4615\n",
      "Epoch 44/100\n",
      "4/4 - 0s - loss: 0.3017 - accuracy: 0.9327 - val_loss: 1.0645 - val_accuracy: 0.4615\n",
      "Epoch 45/100\n",
      "4/4 - 0s - loss: 0.3589 - accuracy: 0.8462 - val_loss: 1.0760 - val_accuracy: 0.4615\n",
      "Epoch 46/100\n",
      "4/4 - 0s - loss: 0.3532 - accuracy: 0.8269 - val_loss: 1.0412 - val_accuracy: 0.4615\n",
      "Epoch 47/100\n",
      "4/4 - 0s - loss: 0.3066 - accuracy: 0.9038 - val_loss: 1.0745 - val_accuracy: 0.4231\n",
      "Epoch 48/100\n",
      "4/4 - 0s - loss: 0.3117 - accuracy: 0.9135 - val_loss: 1.0516 - val_accuracy: 0.4615\n",
      "Epoch 49/100\n",
      "4/4 - 0s - loss: 0.3405 - accuracy: 0.8654 - val_loss: 1.0532 - val_accuracy: 0.5385\n",
      "Epoch 50/100\n",
      "4/4 - 0s - loss: 0.3169 - accuracy: 0.8654 - val_loss: 1.1382 - val_accuracy: 0.4615\n",
      "Epoch 51/100\n",
      "4/4 - 0s - loss: 0.3454 - accuracy: 0.8654 - val_loss: 1.1829 - val_accuracy: 0.4615\n",
      "Epoch 52/100\n",
      "4/4 - 0s - loss: 0.4174 - accuracy: 0.8654 - val_loss: 1.1415 - val_accuracy: 0.5000\n",
      "Epoch 53/100\n",
      "4/4 - 0s - loss: 0.3220 - accuracy: 0.9135 - val_loss: 1.1438 - val_accuracy: 0.5000\n",
      "Epoch 54/100\n",
      "4/4 - 0s - loss: 0.3460 - accuracy: 0.8462 - val_loss: 1.1313 - val_accuracy: 0.4615\n",
      "Epoch 55/100\n",
      "4/4 - 0s - loss: 0.2803 - accuracy: 0.9038 - val_loss: 1.1126 - val_accuracy: 0.5000\n",
      "Epoch 56/100\n",
      "4/4 - 0s - loss: 0.2768 - accuracy: 0.9135 - val_loss: 1.1376 - val_accuracy: 0.5385\n",
      "Epoch 57/100\n",
      "4/4 - 0s - loss: 0.3400 - accuracy: 0.8462 - val_loss: 1.1730 - val_accuracy: 0.4615\n",
      "Epoch 58/100\n",
      "4/4 - 0s - loss: 0.3535 - accuracy: 0.8462 - val_loss: 1.1670 - val_accuracy: 0.4615\n",
      "Epoch 59/100\n",
      "4/4 - 0s - loss: 0.3014 - accuracy: 0.9038 - val_loss: 1.1451 - val_accuracy: 0.5000\n",
      "Epoch 60/100\n",
      "4/4 - 0s - loss: 0.2949 - accuracy: 0.9423 - val_loss: 1.1591 - val_accuracy: 0.5000\n",
      "Epoch 61/100\n",
      "4/4 - 0s - loss: 0.2379 - accuracy: 0.9135 - val_loss: 1.1867 - val_accuracy: 0.5000\n",
      "Epoch 62/100\n",
      "4/4 - 0s - loss: 0.2740 - accuracy: 0.9135 - val_loss: 1.2361 - val_accuracy: 0.4615\n",
      "Epoch 63/100\n",
      "4/4 - 0s - loss: 0.3114 - accuracy: 0.9038 - val_loss: 1.2254 - val_accuracy: 0.4615\n",
      "Epoch 64/100\n",
      "4/4 - 0s - loss: 0.2438 - accuracy: 0.9135 - val_loss: 1.2795 - val_accuracy: 0.5769\n",
      "Epoch 65/100\n",
      "4/4 - 0s - loss: 0.2890 - accuracy: 0.9038 - val_loss: 1.3093 - val_accuracy: 0.5000\n",
      "Epoch 66/100\n",
      "4/4 - 0s - loss: 0.2506 - accuracy: 0.9231 - val_loss: 1.4320 - val_accuracy: 0.4615\n",
      "Epoch 67/100\n",
      "4/4 - 0s - loss: 0.2069 - accuracy: 0.9615 - val_loss: 1.3313 - val_accuracy: 0.5000\n",
      "Epoch 68/100\n",
      "4/4 - 0s - loss: 0.2583 - accuracy: 0.9231 - val_loss: 1.3152 - val_accuracy: 0.5000\n",
      "Epoch 69/100\n",
      "4/4 - 0s - loss: 0.2049 - accuracy: 0.9519 - val_loss: 1.3511 - val_accuracy: 0.5000\n",
      "Epoch 70/100\n",
      "4/4 - 0s - loss: 0.2880 - accuracy: 0.9135 - val_loss: 1.4038 - val_accuracy: 0.5000\n",
      "Epoch 71/100\n",
      "4/4 - 0s - loss: 0.2573 - accuracy: 0.9135 - val_loss: 1.3173 - val_accuracy: 0.5385\n",
      "Epoch 72/100\n",
      "4/4 - 0s - loss: 0.3416 - accuracy: 0.8942 - val_loss: 1.2261 - val_accuracy: 0.5385\n",
      "Epoch 73/100\n",
      "4/4 - 0s - loss: 0.3373 - accuracy: 0.8558 - val_loss: 1.2227 - val_accuracy: 0.5385\n",
      "Epoch 74/100\n",
      "4/4 - 0s - loss: 0.2538 - accuracy: 0.9231 - val_loss: 1.2806 - val_accuracy: 0.4615\n",
      "Epoch 75/100\n",
      "4/4 - 0s - loss: 0.2456 - accuracy: 0.9423 - val_loss: 1.2956 - val_accuracy: 0.5385\n",
      "Epoch 76/100\n",
      "4/4 - 0s - loss: 0.1999 - accuracy: 0.9519 - val_loss: 1.3530 - val_accuracy: 0.5769\n",
      "Epoch 77/100\n",
      "4/4 - 0s - loss: 0.2409 - accuracy: 0.9231 - val_loss: 1.4280 - val_accuracy: 0.4615\n",
      "Epoch 78/100\n",
      "4/4 - 0s - loss: 0.2194 - accuracy: 0.9327 - val_loss: 1.4131 - val_accuracy: 0.4615\n",
      "Epoch 79/100\n",
      "4/4 - 0s - loss: 0.1759 - accuracy: 0.9327 - val_loss: 1.3088 - val_accuracy: 0.4615\n",
      "Epoch 80/100\n",
      "4/4 - 0s - loss: 0.2279 - accuracy: 0.9423 - val_loss: 1.2848 - val_accuracy: 0.4615\n",
      "Epoch 81/100\n",
      "4/4 - 0s - loss: 0.2144 - accuracy: 0.9615 - val_loss: 1.4480 - val_accuracy: 0.4615\n",
      "Epoch 82/100\n",
      "4/4 - 0s - loss: 0.2242 - accuracy: 0.9327 - val_loss: 1.5188 - val_accuracy: 0.4615\n",
      "Epoch 83/100\n",
      "4/4 - 0s - loss: 0.3103 - accuracy: 0.8846 - val_loss: 1.4121 - val_accuracy: 0.5000\n",
      "Epoch 84/100\n",
      "4/4 - 0s - loss: 0.2558 - accuracy: 0.9423 - val_loss: 1.4556 - val_accuracy: 0.5000\n"
     ]
    },
    {
     "name": "stdout",
     "output_type": "stream",
     "text": [
      "Epoch 85/100\n",
      "4/4 - 0s - loss: 0.1872 - accuracy: 0.9423 - val_loss: 1.5380 - val_accuracy: 0.5000\n",
      "Epoch 86/100\n",
      "4/4 - 0s - loss: 0.1897 - accuracy: 0.9519 - val_loss: 1.6243 - val_accuracy: 0.5000\n",
      "Epoch 87/100\n",
      "4/4 - 0s - loss: 0.2229 - accuracy: 0.9231 - val_loss: 1.7763 - val_accuracy: 0.4615\n",
      "Epoch 88/100\n",
      "4/4 - 0s - loss: 0.1519 - accuracy: 0.9712 - val_loss: 1.7763 - val_accuracy: 0.4615\n",
      "Epoch 89/100\n",
      "4/4 - 0s - loss: 0.1819 - accuracy: 0.9423 - val_loss: 1.6025 - val_accuracy: 0.5000\n",
      "Epoch 90/100\n",
      "4/4 - 0s - loss: 0.1201 - accuracy: 1.0000 - val_loss: 1.6048 - val_accuracy: 0.5000\n",
      "Epoch 91/100\n",
      "4/4 - 0s - loss: 0.1754 - accuracy: 0.9423 - val_loss: 1.7190 - val_accuracy: 0.5000\n",
      "Epoch 92/100\n",
      "4/4 - 0s - loss: 0.1640 - accuracy: 0.9519 - val_loss: 2.0425 - val_accuracy: 0.4231\n",
      "Epoch 93/100\n",
      "4/4 - 0s - loss: 0.2201 - accuracy: 0.9231 - val_loss: 2.0058 - val_accuracy: 0.4615\n",
      "Epoch 94/100\n",
      "4/4 - 0s - loss: 0.2019 - accuracy: 0.9519 - val_loss: 1.8691 - val_accuracy: 0.4231\n",
      "Epoch 95/100\n",
      "4/4 - 0s - loss: 0.1907 - accuracy: 0.9615 - val_loss: 1.7803 - val_accuracy: 0.4231\n",
      "Epoch 96/100\n",
      "4/4 - 0s - loss: 0.2058 - accuracy: 0.9519 - val_loss: 1.8203 - val_accuracy: 0.4615\n",
      "Epoch 97/100\n",
      "4/4 - 0s - loss: 0.1665 - accuracy: 0.9808 - val_loss: 1.9770 - val_accuracy: 0.4231\n",
      "Epoch 98/100\n",
      "4/4 - 0s - loss: 0.1973 - accuracy: 0.9231 - val_loss: 1.9754 - val_accuracy: 0.4231\n",
      "Epoch 99/100\n",
      "4/4 - 0s - loss: 0.2973 - accuracy: 0.8846 - val_loss: 1.7976 - val_accuracy: 0.4231\n",
      "Epoch 100/100\n",
      "4/4 - 0s - loss: 0.1780 - accuracy: 0.9615 - val_loss: 1.7544 - val_accuracy: 0.4615\n",
      "29.713483095169067\n"
     ]
    }
   ],
   "source": [
    "import time\n",
    "start = time.time()\n",
    "#history = model.fit(X_train, y_train, batch_size=32, steps_per_epoch=len(y_train)/32, epochs=100, verbose=2, validation_data=(X_dev, y_dev),callbacks=[tensorboard])\n",
    "history = model.fit(X_train, y_train, batch_size=32, epochs=100, verbose=2, validation_data=(X_dev, y_dev))\n",
    "print (time.time() - start)\n",
    "\n"
   ]
  },
  {
   "cell_type": "markdown",
   "metadata": {},
   "source": [
    "### 8. Get the results"
   ]
  },
  {
   "cell_type": "code",
   "execution_count": 27,
   "metadata": {},
   "outputs": [
    {
     "data": {
      "image/png": "[encoded data removed]",
      "text/plain": [
       "<Figure size 576x360 with 1 Axes>"
      ]
     },
     "metadata": {
      "needs_background": "light"
     },
     "output_type": "display_data"
    }
   ],
   "source": [
    "results=pd.DataFrame(history.history)\n",
    "results.plot(figsize=(8, 5))\n",
    "plt.grid(True)\n",
    "plt.xlabel (\"Epochs\")\n",
    "plt.ylabel (\"Accuracy - Mean Log Loss\")\n",
    "plt.gca().set_ylim(0, 2) # set the vertical range to [0-1]\n",
    "plt.show()\n",
    "\n",
    "# categorical_accuracy es el training accuracy\n",
    "# val_categorical_accuracy es el validation accuracy\n",
    "# loss es el training loss\n",
    "# val_loss es el validation loss\n",
    "\n",
    "# Overfitting:\n",
    "# Por un lado la Accuracy de los datos de entrenamiento aumenta con las epochs,\n",
    "# mientras que la Accuracy de los datos de validación disminuye o se mantiene constante a lo largo de las epochs. \n",
    "# La Loss de los datos de validación alcanza su mínimo después de pocos epochs y luego empieza a subir, \n",
    "# mientras que la Loss de los datos de entrenamiento disminuye linealmente."
   ]
  },
  {
   "cell_type": "code",
   "execution_count": 28,
   "metadata": {},
   "outputs": [
    {
     "data": {
      "text/plain": [
       "{'verbose': 2, 'epochs': 100, 'steps': 4}"
      ]
     },
     "execution_count": 28,
     "metadata": {},
     "output_type": "execute_result"
    }
   ],
   "source": [
    "history.params"
   ]
  },
  {
   "cell_type": "code",
   "execution_count": 29,
   "metadata": {},
   "outputs": [
    {
     "data": {
      "text/html": [
       "<div>\n",
       "<style scoped>\n",
       "    .dataframe tbody tr th:only-of-type {\n",
       "        vertical-align: middle;\n",
       "    }\n",
       "\n",
       "    .dataframe tbody tr th {\n",
       "        vertical-align: top;\n",
       "    }\n",
       "\n",
       "    .dataframe thead th {\n",
       "        text-align: right;\n",
       "    }\n",
       "</style>\n",
       "<table border=\"1\" class=\"dataframe\">\n",
       "  <thead>\n",
       "    <tr style=\"text-align: right;\">\n",
       "      <th></th>\n",
       "      <th>loss</th>\n",
       "      <th>accuracy</th>\n",
       "      <th>val_loss</th>\n",
       "      <th>val_accuracy</th>\n",
       "    </tr>\n",
       "  </thead>\n",
       "  <tbody>\n",
       "    <tr>\n",
       "      <th>99</th>\n",
       "      <td>0.177952</td>\n",
       "      <td>0.961538</td>\n",
       "      <td>1.754401</td>\n",
       "      <td>0.461538</td>\n",
       "    </tr>\n",
       "  </tbody>\n",
       "</table>\n",
       "</div>"
      ],
      "text/plain": [
       "        loss  accuracy  val_loss  val_accuracy\n",
       "99  0.177952  0.961538  1.754401      0.461538"
      ]
     },
     "execution_count": 29,
     "metadata": {},
     "output_type": "execute_result"
    }
   ],
   "source": [
    "results[-1:]"
   ]
  },
  {
   "cell_type": "code",
   "execution_count": 30,
   "metadata": {},
   "outputs": [
    {
     "name": "stdout",
     "output_type": "stream",
     "text": [
      "Accuracy for the training set:  0.9615384340286255\n"
     ]
    }
   ],
   "source": [
    "print (\"Accuracy for the training set: \", results.values[-1:][0][1])"
   ]
  },
  {
   "cell_type": "code",
   "execution_count": 31,
   "metadata": {},
   "outputs": [
    {
     "name": "stdout",
     "output_type": "stream",
     "text": [
      "Accuracy for the development test set:  0.4615384638309479\n"
     ]
    }
   ],
   "source": [
    "print (\"Accuracy for the development test set: \", results.values[-1:][0][3])"
   ]
  },
  {
   "cell_type": "markdown",
   "metadata": {},
   "source": [
    "#### Let's see how the model predicts using the development test set:"
   ]
  },
  {
   "cell_type": "code",
   "execution_count": 32,
   "metadata": {},
   "outputs": [
    {
     "data": {
      "text/plain": [
       "array([[0.56, 0.44],\n",
       "       [0.38, 0.62],\n",
       "       [0.  , 1.  ],\n",
       "       [0.96, 0.04],\n",
       "       [1.  , 0.  ],\n",
       "       [0.94, 0.06],\n",
       "       [0.91, 0.09],\n",
       "       [0.74, 0.26],\n",
       "       [0.99, 0.01],\n",
       "       [0.98, 0.02],\n",
       "       [0.68, 0.32],\n",
       "       [0.81, 0.19],\n",
       "       [0.87, 0.13],\n",
       "       [0.99, 0.01],\n",
       "       [0.18, 0.82],\n",
       "       [0.24, 0.76],\n",
       "       [0.02, 0.98],\n",
       "       [0.01, 0.99],\n",
       "       [0.  , 1.  ],\n",
       "       [0.32, 0.68]], dtype=float32)"
      ]
     },
     "execution_count": 32,
     "metadata": {},
     "output_type": "execute_result"
    }
   ],
   "source": [
    "dev_predictions=model.predict(X_dev).round(2) \n",
    "dev_predictions[:20]"
   ]
  },
  {
   "cell_type": "code",
   "execution_count": 33,
   "metadata": {},
   "outputs": [
    {
     "data": {
      "text/plain": [
       "array([[1., 0.],\n",
       "       [0., 1.],\n",
       "       [0., 1.],\n",
       "       [1., 0.],\n",
       "       [1., 0.],\n",
       "       [1., 0.],\n",
       "       [1., 0.],\n",
       "       [1., 0.],\n",
       "       [1., 0.],\n",
       "       [1., 0.],\n",
       "       [1., 0.],\n",
       "       [1., 0.],\n",
       "       [1., 0.],\n",
       "       [1., 0.],\n",
       "       [0., 1.],\n",
       "       [0., 1.],\n",
       "       [0., 1.],\n",
       "       [0., 1.],\n",
       "       [0., 1.],\n",
       "       [0., 1.]], dtype=float32)"
      ]
     },
     "execution_count": 33,
     "metadata": {},
     "output_type": "execute_result"
    }
   ],
   "source": [
    "dev_rounded_predictions=np.round(dev_predictions)\n",
    "indices = np.argmax(dev_predictions,1)\n",
    "for row, index in zip(dev_rounded_predictions, indices): row[index]=1\n",
    "dev_rounded_predictions[:20]"
   ]
  },
  {
   "cell_type": "code",
   "execution_count": 34,
   "metadata": {},
   "outputs": [
    {
     "data": {
      "text/plain": [
       "array([[1., 0.],\n",
       "       [1., 0.],\n",
       "       [1., 0.],\n",
       "       [0., 1.],\n",
       "       [0., 1.],\n",
       "       [0., 1.],\n",
       "       [0., 1.],\n",
       "       [0., 1.],\n",
       "       [0., 1.],\n",
       "       [0., 1.],\n",
       "       [0., 1.],\n",
       "       [1., 0.],\n",
       "       [1., 0.],\n",
       "       [1., 0.],\n",
       "       [1., 0.],\n",
       "       [1., 0.],\n",
       "       [0., 1.],\n",
       "       [0., 1.],\n",
       "       [0., 1.],\n",
       "       [0., 1.]])"
      ]
     },
     "execution_count": 34,
     "metadata": {},
     "output_type": "execute_result"
    }
   ],
   "source": [
    "y_dev[:20]"
   ]
  },
  {
   "cell_type": "code",
   "execution_count": 35,
   "metadata": {},
   "outputs": [
    {
     "name": "stdout",
     "output_type": "stream",
     "text": [
      "[ True False False False False False False False False False False  True\n",
      "  True  True False False  True  True  True  True  True  True  True  True\n",
      " False False]\n"
     ]
    }
   ],
   "source": [
    "dev_correct_predictions = np.equal(np.argmax(dev_rounded_predictions,1),np.argmax(y_dev,1))\n",
    "print (dev_correct_predictions[:30])"
   ]
  },
  {
   "cell_type": "code",
   "execution_count": 36,
   "metadata": {},
   "outputs": [
    {
     "data": {
      "text/plain": [
       "Counter({True: 12, False: 14})"
      ]
     },
     "execution_count": 36,
     "metadata": {},
     "output_type": "execute_result"
    }
   ],
   "source": [
    "from collections import Counter\n",
    "Counter (dev_correct_predictions)"
   ]
  },
  {
   "cell_type": "markdown",
   "metadata": {},
   "source": [
    "### 9. Save model"
   ]
  },
  {
   "cell_type": "markdown",
   "metadata": {},
   "source": [
    "We save the model if it is better than others "
   ]
  },
  {
   "cell_type": "code",
   "execution_count": 37,
   "metadata": {},
   "outputs": [],
   "source": [
    "# Save\n",
    "model.save('./Modelos/CNN_model3_ce_PARES_DIA1.h5') # Change the name in each model"
   ]
  },
  {
   "cell_type": "code",
   "execution_count": 38,
   "metadata": {},
   "outputs": [
    {
     "data": {
      "text/plain": [
       "\"\\nnew_model = keras.models.load_model('./Modelos/EGG_prac1_ANN_model3.h5')\\n\\nimport numpy as np\\n\\n# Verify state\\nnew_predictions = new_model.predict(X_dev)\\nnp.testing.assert_allclose(predictions, new_predictions, rtol=1e-6, atol=1e-6)\\n\\n# Note that the optimizer state is also preserved:\\n# you can resume training where you left off.\\n\""
      ]
     },
     "execution_count": 38,
     "metadata": {},
     "output_type": "execute_result"
    }
   ],
   "source": [
    "# Extract\n",
    "\"\"\"\n",
    "new_model = keras.models.load_model('./Modelos/EGG_prac1_ANN_model3.h5')\n",
    "\n",
    "import numpy as np\n",
    "\n",
    "# Verify state\n",
    "new_predictions = new_model.predict(X_dev)\n",
    "np.testing.assert_allclose(predictions, new_predictions, rtol=1e-6, atol=1e-6)\n",
    "\n",
    "# Note that the optimizer state is also preserved:\n",
    "# you can resume training where you left off.\n",
    "\"\"\""
   ]
  },
  {
   "cell_type": "code",
   "execution_count": null,
   "metadata": {},
   "outputs": [],
   "source": []
  },
  {
   "cell_type": "code",
   "execution_count": null,
   "metadata": {},
   "outputs": [],
   "source": []
  },
  {
   "cell_type": "code",
   "execution_count": null,
   "metadata": {},
   "outputs": [],
   "source": []
  },
  {
   "cell_type": "markdown",
   "metadata": {},
   "source": [
    "### 10 - Final Test\n",
    "\n",
    "#### 10.1 - Load the final test set"
   ]
  },
  {
   "cell_type": "markdown",
   "metadata": {},
   "source": [
    "#### 10.2 - Evaluate the model"
   ]
  },
  {
   "cell_type": "code",
   "execution_count": 39,
   "metadata": {},
   "outputs": [
    {
     "ename": "SyntaxError",
     "evalue": "EOF while scanning triple-quoted string literal (<ipython-input-39-01c14ef9ee9b>, line 20)",
     "output_type": "error",
     "traceback": [
      "\u001b[1;36m  File \u001b[1;32m\"<ipython-input-39-01c14ef9ee9b>\"\u001b[1;36m, line \u001b[1;32m20\u001b[0m\n\u001b[1;33m    return final_test_prediction_results, success\u001b[0m\n\u001b[1;37m                                                 \n^\u001b[0m\n\u001b[1;31mSyntaxError\u001b[0m\u001b[1;31m:\u001b[0m EOF while scanning triple-quoted string literal\n"
     ]
    }
   ],
   "source": [
    "\"\"\"\n",
    "from collections import Counter\n",
    "def predictWithModel(model, X_test, y_test, task1, task2, task3=\"\"):\n",
    "    model.evaluate(X_test, y_test)\n",
    "    test_predictions = model.predict(X_test)\n",
    "    test_rounded_predictions=np.round(test_predictions)\n",
    "    indices = np.argmax(test_predictions,1)\n",
    "    for row, index in zip(test_rounded_predictions, indices): row[index]=1\n",
    "    print(test_rounded_predictions[:20])\n",
    "    \n",
    "    # ACCURACY:\n",
    "    test_correct_predictions = np.equal(np.argmax(test_rounded_predictions,1),np.argmax(y_test,1))\n",
    "    print()\n",
    "    print(test_correct_predictions)\n",
    "    print(type(test_correct_predictions))\n",
    "    final_test_prediction_results=Counter(test_correct_predictions)\n",
    "    \n",
    "    success = np.mean(test_rounded_predictions == y_test)*100\n",
    "    \n",
    "    return final_test_prediction_results, success\n"
   ]
  },
  {
   "cell_type": "code",
   "execution_count": null,
   "metadata": {},
   "outputs": [],
   "source": [
    "\"\"\"\n",
    "accuracy, success = predictWithModel(model, X_test, y_test, 402,404)\n",
    "print(accuracy, success)"
   ]
  },
  {
   "cell_type": "code",
   "execution_count": null,
   "metadata": {},
   "outputs": [],
   "source": []
  }
 ],
 "metadata": {
  "kernelspec": {
   "display_name": "Python 3",
   "language": "python",
   "name": "python3"
  },
  "language_info": {
   "codemirror_mode": {
    "name": "ipython",
    "version": 3
   },
   "file_extension": ".py",
   "mimetype": "text/x-python",
   "name": "python",
   "nbconvert_exporter": "python",
   "pygments_lexer": "ipython3",
   "version": "3.8.5"
  }
 },
 "nbformat": 4,
 "nbformat_minor": 4
}
