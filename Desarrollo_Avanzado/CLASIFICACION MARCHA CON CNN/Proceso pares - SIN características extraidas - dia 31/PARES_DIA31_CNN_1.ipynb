{
 "cells": [
  {
   "cell_type": "markdown",
   "metadata": {},
   "source": [
    "# Parte 4: Clasificación con CNN"
   ]
  },
  {
   "cell_type": "markdown",
   "metadata": {},
   "source": [
    "### Resultados con la arquitectura anterior: "
   ]
  },
  {
   "cell_type": "markdown",
   "metadata": {},
   "source": [
    "primero\n",
    "\n"
   ]
  },
  {
   "cell_type": "markdown",
   "metadata": {},
   "source": [
    "### Cambios realizados"
   ]
  },
  {
   "cell_type": "markdown",
   "metadata": {},
   "source": []
  },
  {
   "cell_type": "markdown",
   "metadata": {},
   "source": [
    "### Nuevos resultados: "
   ]
  },
  {
   "cell_type": "markdown",
   "metadata": {},
   "source": [
    "Resultados:\n",
    "    \n",
    "    TRAIN                   DEV\n",
    "    loss       accuracy     val_loss    val_accuracy\n",
    "    0.002318\t1.0\t        3.151356\t0.602041\n",
    "    \n",
    "Por tanto: \n",
    "\n",
    "    E = 1 - Accuracy\n",
    "    Etrain = 1 - 1.0\t = 0\n",
    "    Etest = 1 - 0.602041 = 0.397959\n",
    "    \n",
    "    Bias = Etrain - Ehuman = 0\n",
    "    Variance = Etest - Etrain = 0.397959\n",
    "\n",
    "El bias es muy bajo pero la varianza es muy alta (40%). Para ello habrá que o regularizar, o cambiar la arquitectura (menos neuronas => Mejor varianza, más capas => mayor abstracción), o añadir más datos (cosa que no es posible). \n",
    "\n",
    "Los resultados son horrorosos porque se observa overfitting desde el inicio. \n"
   ]
  },
  {
   "cell_type": "markdown",
   "metadata": {},
   "source": [
    "### 1 - Import Libraries"
   ]
  },
  {
   "cell_type": "code",
   "execution_count": 1,
   "metadata": {},
   "outputs": [],
   "source": [
    "# Tensorflow and tf.keras\n",
    "import tensorflow as tf\n",
    "from tensorflow import keras\n",
    "\n",
    "#Helper libraries\n",
    "import matplotlib.pyplot as plt\n",
    "import pandas as pd\n",
    "import numpy as np\n",
    "\n",
    "# Signal libraries\n",
    "from scipy import signal\n"
   ]
  },
  {
   "cell_type": "markdown",
   "metadata": {},
   "source": [
    "### 2 - Load data"
   ]
  },
  {
   "cell_type": "code",
   "execution_count": 2,
   "metadata": {},
   "outputs": [],
   "source": [
    "class ROutput:\n",
    "    def __init__(self, task, data):\n",
    "        self.task = task\n",
    "        self.data = data\n",
    "        \n",
    "class OutTaskData: \n",
    "    def __init__(self, task, data): \n",
    "        self.task = task\n",
    "        self.data = data"
   ]
  },
  {
   "cell_type": "code",
   "execution_count": 3,
   "metadata": {},
   "outputs": [],
   "source": [
    "import scipy.io as sio\n",
    "# Primero leemos los registros\n",
    "def read_outputs(rec):\n",
    "    '''read_outputs(\"userS0091f1.mat\")'''\n",
    "    mat = sio.loadmat(rec)\n",
    "    mdata = mat['session']\n",
    "    val = mdata[0,0]\n",
    "    #output = ROutput(np.array(val[\"task\"]), np.array(val[\"data\"]))\n",
    "    output = ROutput(np.array(val[\"task_EEG\"]), np.array(val[\"data_EEG\"]))\n",
    "    return output"
   ]
  },
  {
   "cell_type": "markdown",
   "metadata": {},
   "source": [
    "### Cargamos los datos"
   ]
  },
  {
   "cell_type": "code",
   "execution_count": 4,
   "metadata": {},
   "outputs": [],
   "source": [
    "# Configuración\n",
    "from sklearn.pipeline import make_pipeline\n",
    "from sklearn.preprocessing import StandardScaler, OneHotEncoder\n",
    "from sklearn.linear_model import Perceptron\n",
    "from keras.utils import to_categorical\n",
    "\n",
    "\n",
    "task1 = 402 # SE PUEDE CAMBIAR\n",
    "task2 = 404 # SE PUEDE CAMBIAR\n",
    "task_OneHotEnconding = {402: [1.,0.], 404: [0.,1.]}\n",
    "user = 'W29' # SE PUEDE CAMBIAR\n",
    "day = '0331'\n",
    "folder_day = 'W29-31_03_2021'\n",
    "total_records = 22 # CAMBIAR SI HAY MAS REGISTROS\n",
    "fm = 200\n",
    "electrodes_names_selected = ['F3', 'FZ', 'FC1','FCZ','C1','CZ','CP1','CPZ', 'FC5', 'FC3','C5','C3','CP5','CP3','P3',\n",
    "                             'PZ','F4','FC2','FC4','FC6','C2','C4','CP2','CP4','C6','CP6','P4','HR' ,'HL', 'VU', 'VD']\n",
    "number_channels = len(electrodes_names_selected)\n"
   ]
  },
  {
   "cell_type": "code",
   "execution_count": 5,
   "metadata": {},
   "outputs": [
    {
     "name": "stdout",
     "output_type": "stream",
     "text": [
      "11 22\n"
     ]
    }
   ],
   "source": [
    "# Lectura de registros\n",
    "lTaskData = []\n",
    "\n",
    "total_records_used = 0\n",
    "for i_rec in range(1,total_records+1):\n",
    "    i_rec_record = i_rec\n",
    "    if i_rec_record <10:\n",
    "        i_rec_record = \"0\"+str(i_rec_record)\n",
    "    if i_rec % 2 == 0: # Registros impares primero: USUARIO SIN MOVIMIENTO SOLO PENSANDO\n",
    "        record = \"./RegistrosSinProcesar/\"+folder_day+\"/W29_2021\"+day+\"_openloop_\"+str(i_rec_record)+\".mat\"\n",
    "        output = read_outputs(record) # output.task será y, output.data será x\n",
    "\n",
    "        outT = (output.task == task1) | (output.task == task2)\n",
    "\n",
    "        outData = output.data[0:np.shape(output.data)[0], outT[0,:]]\n",
    "        outTask = output.task[0, outT[0,:]]\n",
    "        outTD = OutTaskData(outTask, outData)\n",
    "        lTaskData.append(outTD)\n",
    "        total_records_used+=1\n",
    "\n",
    "print(total_records_used, total_records)"
   ]
  },
  {
   "cell_type": "code",
   "execution_count": 6,
   "metadata": {},
   "outputs": [
    {
     "name": "stdout",
     "output_type": "stream",
     "text": [
      "X_train: (8, 31, 5600)\n",
      "y_train: (8, 5600)\n",
      "X_dev: (2, 31, 5600)\n",
      "y_dev: (2, 5600)\n",
      "X_test: (1, 31, 5600)\n",
      "y_test: (1, 5600)\n",
      "WINDOWING & ONE HOT ENCODER:\n",
      "X_train: (392, 31, 300, 1)\n",
      "y_train: (392, 2)\n",
      "X_dev: (98, 31, 300, 1)\n",
      "y_dev: (98, 2)\n",
      "X_test: (49, 31, 300, 1)\n",
      "y_test: (49, 2)\n"
     ]
    }
   ],
   "source": [
    "# Vamos a coger 2 registros para el entrenamiento, 1 para el conjunto dev set, 1 para el test set\n",
    "X_train, y_train, X_dev, y_dev, X_test, y_test = [],[],[],[],[],[] \n",
    "for j in range(0,total_records_used-3): # Cogemos 8 registros para entrenamiento\n",
    "    X_train.append(lTaskData[j].data)\n",
    "    y_train.append(lTaskData[j].task)\n",
    "\n",
    "for j in range(total_records_used-3,total_records_used-1): # Cogemos 2 registros para el dev set\n",
    "    X_dev.append(lTaskData[j].data)\n",
    "    y_dev.append(lTaskData[j].task)\n",
    "for j in range(total_records_used-1,total_records_used): # Cogemos 1 registros para el test set\n",
    "    X_test.append(lTaskData[j].data)\n",
    "    y_test.append(lTaskData[j].task)\n",
    "\n",
    "X_train = np.array(X_train)\n",
    "#y_train = np.ravel(np.array(y_train))\n",
    "y_train = np.array(y_train)\n",
    "X_dev = np.array(X_dev)\n",
    "#y_dev = np.ravel(np.array(y_dev))\n",
    "y_dev = np.array(y_dev)\n",
    "X_test = np.array(X_test)\n",
    "y_test = np.array(y_test)\n",
    "#y_test = np.ravel(np.array(y_test))\n",
    "\n",
    "print (\"X_train:\",X_train.shape)\n",
    "print (\"y_train:\",y_train.shape)\n",
    "print (\"X_dev:\",X_dev.shape)\n",
    "print (\"y_dev:\",y_dev.shape)\n",
    "print (\"X_test:\",X_test.shape)\n",
    "print (\"y_test:\",y_test.shape)\n",
    "\n",
    "\n",
    "# VENTANEO Y ONE HOT ENCODING \n",
    "window = 300\n",
    "samples_advance = 100\n",
    "\n",
    "# Ventaneo X_train\n",
    "\n",
    "X_train_l = []\n",
    "y_train_l = []\n",
    "for num_X_train in range(np.shape(X_train)[0]):\n",
    "    win_init = int(0)\n",
    "    window_position = 0\n",
    "    \n",
    "    for i in range(np.shape(X_train)[2]): # For each signal registered\n",
    "        win_end = int(win_init + window)\n",
    "        if win_end >= np.shape(X_train)[2]:\n",
    "            break\n",
    "\n",
    "        task = np.unique(y_train[num_X_train,win_init:win_end])\n",
    "\n",
    "        if len(task)==1:\n",
    "        #if task1 in task or task2 in task:\n",
    "            signal_window = X_train[num_X_train, :, win_init:win_end]\n",
    "            \n",
    "            #data_filtered = preprocessing(signal_window, fm, number_channels)\n",
    "            #X_train_l.append(data_filtered)\n",
    "            X_train_l.append(signal_window)\n",
    "            taskOH = task_OneHotEnconding[task[0]]\n",
    "            y_train_l.append(taskOH)\n",
    "            \n",
    "        win_init += int(samples_advance)\n",
    "\n",
    "X_train_l = np.array(X_train_l)\n",
    "y_train_l = np.array(y_train_l)\n",
    "\n",
    "\n",
    "# Ventaneo X_dev\n",
    "X_dev_l = []\n",
    "y_dev_l = []\n",
    "for num_X_dev in range(np.shape(X_dev)[0]):\n",
    "    win_init = int(0)\n",
    "    window_position = 0\n",
    "    \n",
    "    for i in range(np.shape(X_dev)[2]): # For each signal registered\n",
    "        win_end = int(win_init + window)\n",
    "        if win_end >= np.shape(X_dev)[2]:\n",
    "            break\n",
    "\n",
    "        task = np.unique(y_dev[num_X_dev,win_init:win_end])\n",
    "\n",
    "        if len(task)==1:\n",
    "        #if task1 in task or task2 in task:\n",
    "            signal_window = X_dev[num_X_dev, :, win_init:win_end]\n",
    "            \n",
    "            #data_filtered = preprocessing(signal_window, fm, number_channels)\n",
    "            #X_train_l.append(data_filtered)\n",
    "            X_dev_l.append(signal_window)\n",
    "            taskOH = task_OneHotEnconding[task[0]]\n",
    "            y_dev_l.append(taskOH)\n",
    "            \n",
    "        win_init += int(samples_advance)\n",
    "\n",
    "X_dev_l = np.array(X_dev_l)\n",
    "y_dev_l = np.array(y_dev_l)\n",
    "\n",
    "# Ventaneo X_test\n",
    "X_test_l = []\n",
    "y_test_l = []\n",
    "for num_X_test in range(np.shape(X_test)[0]):\n",
    "    win_init = int(0)\n",
    "    window_position = 0\n",
    "    \n",
    "    for i in range(np.shape(X_test)[2]): # For each signal registered\n",
    "        win_end = int(win_init + window)\n",
    "        if win_end >= np.shape(X_test)[2]:\n",
    "            break\n",
    "\n",
    "        task = np.unique(y_test[num_X_test,win_init:win_end])\n",
    "\n",
    "        if len(task)==1:\n",
    "        #if task1 in task or task2 in task:\n",
    "            signal_window = X_test[num_X_test, :, win_init:win_end]\n",
    "            \n",
    "            #data_filtered = preprocessing(signal_window, fm, number_channels)\n",
    "            #X_train_l.append(data_filtered)\n",
    "            X_test_l.append(signal_window)\n",
    "            taskOH = task_OneHotEnconding[task[0]]\n",
    "            y_test_l.append(taskOH)\n",
    "            \n",
    "        win_init += int(samples_advance)\n",
    "\n",
    "X_test_l = np.array(X_test_l)\n",
    "y_test_l = np.array(y_test_l)\n",
    "\n",
    "\n",
    "\n",
    "\n",
    "X_train_l = X_train_l.reshape((np.shape(X_train_l)[0],np.shape(X_train_l)[1],np.shape(X_train_l)[2], 1))\n",
    "X_dev_l = X_dev_l.reshape((np.shape(X_dev_l)[0],np.shape(X_dev_l)[1],np.shape(X_dev_l)[2], 1))\n",
    "X_test_l = X_test_l.reshape((np.shape(X_test_l)[0],np.shape(X_test_l)[1],np.shape(X_test_l)[2], 1))\n",
    "\n",
    "\n",
    "print(\"WINDOWING & ONE HOT ENCODER:\")\n",
    "print (\"X_train:\",X_train_l.shape)\n",
    "print (\"y_train:\",y_train_l.shape)\n",
    "print (\"X_dev:\",X_dev_l.shape)\n",
    "print (\"y_dev:\",y_dev_l.shape)\n",
    "print (\"X_test:\",X_test_l.shape)\n",
    "print (\"y_test:\",y_test_l.shape)\n",
    "\n",
    "X_train = X_train_l\n",
    "y_train = y_train_l\n",
    "X_dev = X_dev_l\n",
    "y_dev = y_dev_l\n",
    "X_test = X_test_l\n",
    "y_test = y_test_l"
   ]
  },
  {
   "cell_type": "markdown",
   "metadata": {},
   "source": [
    "### 3. Initialize variables"
   ]
  },
  {
   "cell_type": "code",
   "execution_count": 7,
   "metadata": {},
   "outputs": [],
   "source": [
    "INPUTS = X_train.shape[1]\n",
    "OUTPUTS = y_train.shape[1]\n",
    "NUM_TRAINING_EXAMPLES = int(round(X_train.shape[0]/1))\n",
    "NUM_DEV_EXAMPLES = int(round(y_train.shape[0]/1))"
   ]
  },
  {
   "cell_type": "markdown",
   "metadata": {},
   "source": [
    "Some data is displayed to test correctness:"
   ]
  },
  {
   "cell_type": "code",
   "execution_count": 8,
   "metadata": {},
   "outputs": [
    {
     "data": {
      "text/plain": [
       "array([[[[ 2.82092514e+01],\n",
       "         [ 2.89351730e+01],\n",
       "         [ 2.57947884e+01],\n",
       "         ...,\n",
       "         [-2.64894371e+01],\n",
       "         [-2.27690105e+01],\n",
       "         [-1.97064209e+01]],\n",
       "\n",
       "        [[-2.00550008e+00],\n",
       "         [-3.06276011e+00],\n",
       "         [-5.69424820e+00],\n",
       "         ...,\n",
       "         [-3.42017794e+00],\n",
       "         [-3.77322406e-01],\n",
       "         [ 2.55768967e+00]],\n",
       "\n",
       "        [[ 1.53868520e+00],\n",
       "         [ 1.35626411e+00],\n",
       "         [-1.41677797e+00],\n",
       "         ...,\n",
       "         [-1.09292917e+01],\n",
       "         [-6.08051348e+00],\n",
       "         [-3.19313884e+00]],\n",
       "\n",
       "        ...,\n",
       "\n",
       "        [[-9.77449512e+00],\n",
       "         [-1.90407543e+01],\n",
       "         [-1.55003605e+01],\n",
       "         ...,\n",
       "         [ 1.81032715e+01],\n",
       "         [ 1.82797623e+01],\n",
       "         [ 1.87076321e+01]],\n",
       "\n",
       "        [[ 8.44592438e+01],\n",
       "         [ 8.19998398e+01],\n",
       "         [ 8.21672974e+01],\n",
       "         ...,\n",
       "         [-9.96625671e+01],\n",
       "         [-1.03578308e+02],\n",
       "         [-1.05138092e+02]],\n",
       "\n",
       "        [[-5.82478905e+00],\n",
       "         [ 8.06580424e-01],\n",
       "         [-3.93068552e+00],\n",
       "         ...,\n",
       "         [ 7.50815868e+00],\n",
       "         [ 4.11500645e+00],\n",
       "         [ 5.31409681e-01]]],\n",
       "\n",
       "\n",
       "       [[[ 6.64770269e+00],\n",
       "         [ 2.22319269e+00],\n",
       "         [ 2.45259075e+01],\n",
       "         ...,\n",
       "         [-1.37443104e+01],\n",
       "         [-1.44646568e+01],\n",
       "         [-1.44783669e+01]],\n",
       "\n",
       "        [[-1.24282722e+01],\n",
       "         [-1.84865456e+01],\n",
       "         [ 1.01721561e+00],\n",
       "         ...,\n",
       "         [-2.49326050e-01],\n",
       "         [-1.92921050e-02],\n",
       "         [ 4.22278307e-02]],\n",
       "\n",
       "        [[-8.99646378e+00],\n",
       "         [-1.50082550e+01],\n",
       "         [ 5.92787409e+00],\n",
       "         ...,\n",
       "         [ 1.18794911e-01],\n",
       "         [-7.23795146e-02],\n",
       "         [-4.71746564e-01]],\n",
       "\n",
       "        ...,\n",
       "\n",
       "        [[-3.02365170e+01],\n",
       "         [-2.85552311e+01],\n",
       "         [-2.43620586e+01],\n",
       "         ...,\n",
       "         [-1.82955647e+01],\n",
       "         [-1.38664331e+01],\n",
       "         [-7.76209402e+00]],\n",
       "\n",
       "        [[ 1.53313782e+02],\n",
       "         [ 1.51532837e+02],\n",
       "         [ 1.55554031e+02],\n",
       "         ...,\n",
       "         [-1.55364334e+02],\n",
       "         [-1.55210938e+02],\n",
       "         [-1.57247406e+02]],\n",
       "\n",
       "        [[ 6.83019447e+00],\n",
       "         [ 1.04988194e+01],\n",
       "         [ 2.22001820e+01],\n",
       "         ...,\n",
       "         [-2.50185490e+00],\n",
       "         [-8.66393089e-01],\n",
       "         [-2.77501673e-01]]]])"
      ]
     },
     "execution_count": 8,
     "metadata": {},
     "output_type": "execute_result"
    }
   ],
   "source": [
    "X_train[:2]"
   ]
  },
  {
   "cell_type": "code",
   "execution_count": 9,
   "metadata": {},
   "outputs": [
    {
     "data": {
      "text/plain": [
       "array([[[[-32.50832748],\n",
       "         [-45.54853439],\n",
       "         [-52.7408905 ],\n",
       "         ...,\n",
       "         [-32.6632843 ],\n",
       "         [-26.30834198],\n",
       "         [-11.45257568]],\n",
       "\n",
       "        [[ 12.60225773],\n",
       "         [ -1.62979472],\n",
       "         [-12.85349846],\n",
       "         ...,\n",
       "         [ -8.99156857],\n",
       "         [ -3.84633279],\n",
       "         [ 12.50936127]],\n",
       "\n",
       "        [[ 15.38480377],\n",
       "         [  1.04007053],\n",
       "         [ -8.48399734],\n",
       "         ...,\n",
       "         [ -9.67211819],\n",
       "         [ -4.2298665 ],\n",
       "         [ 11.37576675]],\n",
       "\n",
       "        ...,\n",
       "\n",
       "        [[ -6.98024368],\n",
       "         [-17.87797356],\n",
       "         [-25.05665016],\n",
       "         ...,\n",
       "         [ 12.1260376 ],\n",
       "         [ 27.41692734],\n",
       "         [ 48.25946808]],\n",
       "\n",
       "        [[-51.67138672],\n",
       "         [-65.68618011],\n",
       "         [-74.85217285],\n",
       "         ...,\n",
       "         [-39.00770187],\n",
       "         [-25.55912209],\n",
       "         [ -9.8506813 ]],\n",
       "\n",
       "        [[ -2.56852221],\n",
       "         [ -8.74023533],\n",
       "         [-12.07119179],\n",
       "         ...,\n",
       "         [-15.49972057],\n",
       "         [-16.47405052],\n",
       "         [-11.01752949]]],\n",
       "\n",
       "\n",
       "       [[[-59.62939072],\n",
       "         [-53.84295273],\n",
       "         [-42.41113663],\n",
       "         ...,\n",
       "         [-18.33662987],\n",
       "         [-26.2751236 ],\n",
       "         [-28.30541229]],\n",
       "\n",
       "        [[-31.63087654],\n",
       "         [-26.25337219],\n",
       "         [-15.13665771],\n",
       "         ...,\n",
       "         [ -9.28710461],\n",
       "         [-16.8656292 ],\n",
       "         [-18.57706642]],\n",
       "\n",
       "        [[-27.11886024],\n",
       "         [-21.86961555],\n",
       "         [ -9.68200111],\n",
       "         ...,\n",
       "         [ -4.87048006],\n",
       "         [-11.99184227],\n",
       "         [-12.33061981]],\n",
       "\n",
       "        ...,\n",
       "\n",
       "        [[-13.95550156],\n",
       "         [ -6.70044661],\n",
       "         [ -4.33677244],\n",
       "         ...,\n",
       "         [ 21.10912132],\n",
       "         [ 24.06651115],\n",
       "         [ 28.20629311]],\n",
       "\n",
       "        [[-81.39221191],\n",
       "         [-71.79236603],\n",
       "         [-64.57866669],\n",
       "         ...,\n",
       "         [-32.30601501],\n",
       "         [-31.56279564],\n",
       "         [-25.44491577]],\n",
       "\n",
       "        [[  3.18074155],\n",
       "         [ 12.22233105],\n",
       "         [ 13.24007988],\n",
       "         ...,\n",
       "         [ -2.52598143],\n",
       "         [ -2.70844793],\n",
       "         [  9.41244507]]]])"
      ]
     },
     "execution_count": 9,
     "metadata": {},
     "output_type": "execute_result"
    }
   ],
   "source": [
    "X_dev[:2]"
   ]
  },
  {
   "cell_type": "code",
   "execution_count": 10,
   "metadata": {},
   "outputs": [
    {
     "data": {
      "text/plain": [
       "array([[1., 0.],\n",
       "       [1., 0.]])"
      ]
     },
     "execution_count": 10,
     "metadata": {},
     "output_type": "execute_result"
    }
   ],
   "source": [
    "y_train[:2]"
   ]
  },
  {
   "cell_type": "code",
   "execution_count": 11,
   "metadata": {},
   "outputs": [
    {
     "data": {
      "text/plain": [
       "array([0., 1.])"
      ]
     },
     "execution_count": 11,
     "metadata": {},
     "output_type": "execute_result"
    }
   ],
   "source": [
    "y_train[-20]"
   ]
  },
  {
   "cell_type": "code",
   "execution_count": 12,
   "metadata": {},
   "outputs": [
    {
     "data": {
      "text/plain": [
       "array([[1., 0.],\n",
       "       [1., 0.]])"
      ]
     },
     "execution_count": 12,
     "metadata": {},
     "output_type": "execute_result"
    }
   ],
   "source": [
    "y_dev[:2]"
   ]
  },
  {
   "cell_type": "code",
   "execution_count": 13,
   "metadata": {},
   "outputs": [
    {
     "data": {
      "text/plain": [
       "(31, 300, 1)"
      ]
     },
     "execution_count": 13,
     "metadata": {},
     "output_type": "execute_result"
    }
   ],
   "source": [
    "X_dev[0].shape"
   ]
  },
  {
   "cell_type": "code",
   "execution_count": 14,
   "metadata": {},
   "outputs": [
    {
     "data": {
      "text/plain": [
       "(98, 31, 300, 1)"
      ]
     },
     "execution_count": 14,
     "metadata": {},
     "output_type": "execute_result"
    }
   ],
   "source": [
    "X_dev.shape"
   ]
  },
  {
   "cell_type": "code",
   "execution_count": 15,
   "metadata": {},
   "outputs": [
    {
     "data": {
      "text/plain": [
       "(392, 31, 300, 1)"
      ]
     },
     "execution_count": 15,
     "metadata": {},
     "output_type": "execute_result"
    }
   ],
   "source": [
    "X_train.shape"
   ]
  },
  {
   "cell_type": "code",
   "execution_count": 16,
   "metadata": {},
   "outputs": [
    {
     "data": {
      "text/plain": [
       "2"
      ]
     },
     "execution_count": 16,
     "metadata": {},
     "output_type": "execute_result"
    }
   ],
   "source": [
    "y_train.shape[1]"
   ]
  },
  {
   "cell_type": "markdown",
   "metadata": {},
   "source": [
    "### 4 - Set hyperparameters"
   ]
  },
  {
   "cell_type": "code",
   "execution_count": 17,
   "metadata": {},
   "outputs": [],
   "source": [
    "# Tensorboard\n",
    "from time import time\n",
    "from keras.callbacks import TensorBoard\n",
    "tensorboard = TensorBoard(log_dir='logs/{}'.format(time()))"
   ]
  },
  {
   "cell_type": "code",
   "execution_count": 18,
   "metadata": {},
   "outputs": [
    {
     "data": {
      "text/plain": [
       "'\\nn_epochs = 100 #2000\\n#learning_rate = 0.001\\nbatch_size = 32 #250 \\nn_neurons_per_hlayer = [500, 250, 75, 25] # Number of units per layer, 4 hidden layers\\nrate_dropout = [0.8, 0.4, 0.2, 0.1]\\nweight_decay = 1e-4\\n'"
      ]
     },
     "execution_count": 18,
     "metadata": {},
     "output_type": "execute_result"
    }
   ],
   "source": [
    "\"\"\"\n",
    "n_epochs = 100 #2000\n",
    "#learning_rate = 0.001\n",
    "batch_size = 32 #250 \n",
    "n_neurons_per_hlayer = [500, 250, 75, 25] # Number of units per layer, 4 hidden layers\n",
    "rate_dropout = [0.8, 0.4, 0.2, 0.1]\n",
    "weight_decay = 1e-4\n",
    "\"\"\""
   ]
  },
  {
   "cell_type": "markdown",
   "metadata": {},
   "source": [
    "### 5 - Build the model: "
   ]
  },
  {
   "cell_type": "code",
   "execution_count": 19,
   "metadata": {},
   "outputs": [
    {
     "name": "stdout",
     "output_type": "stream",
     "text": [
      "Model: \"sequential\"\n",
      "_________________________________________________________________\n",
      "Layer (type)                 Output Shape              Param #   \n",
      "=================================================================\n",
      "conv2d (Conv2D)              (None, 31, 300, 4)        104       \n",
      "_________________________________________________________________\n",
      "conv2d_1 (Conv2D)            (None, 31, 300, 4)        500       \n",
      "_________________________________________________________________\n",
      "max_pooling2d (MaxPooling2D) (None, 15, 150, 4)        0         \n",
      "_________________________________________________________________\n",
      "flatten (Flatten)            (None, 9000)              0         \n",
      "_________________________________________________________________\n",
      "dense (Dense)                (None, 2)                 18002     \n",
      "=================================================================\n",
      "Total params: 18,606\n",
      "Trainable params: 18,606\n",
      "Non-trainable params: 0\n",
      "_________________________________________________________________\n"
     ]
    }
   ],
   "source": [
    "from keras.models import Sequential\n",
    "from keras.layers import Dense, Dropout, Activation, Flatten, DepthwiseConv2D\n",
    "from keras.layers.convolutional import Conv2D, MaxPooling2D\n",
    "from keras import optimizers, regularizers\n",
    "import keras.backend as K\n",
    "#K.set_image_data_format('channels_first')\n",
    "\n",
    "weight_decay = 1e-4\n",
    "\n",
    "model = Sequential()\n",
    "# Convolution2D(filtrosConv1, tamaño_filtro1, padding=\"same\", input_shape=(longitud, altura,3), activation = \"relu\")\n",
    "    # - filtrosConv1 número de filtros que aplicaremos tras la primera convolución, normalmente este tamaño va a aumentando\n",
    "    # tras convoluciones para que aumente la dimensión de profundidad (qué cosas hay en mi imagen)\n",
    "    # - tamaño_filtro1 tamaño espacial del kernel (de los filtros)\n",
    "    # - padding = si es same es que es igual que la imagen, vamos crea una imagen del mismo tamaño con el filtro, si es \n",
    "    # valid es que no hay padding y crea una imagen más pequeña que la imagen (creo)\n",
    "    # - input_shape = longitud y altura, tamaño que usará para convolucionar al entrenar\n",
    "    \n",
    "# CAPA PARA FILTRADO TEMPORAL\n",
    "model.add(Conv2D(filters = 4, kernel_size=(1,25), padding=\"same\", activation=\"relu\",input_shape=(31, 300,1 ), kernel_initializer=\"he_normal\", kernel_regularizer=regularizers.l2(weight_decay)))\n",
    "# CAPA PARA FILTRADO ESPACIAL\n",
    "model.add(Conv2D(filters = 4, kernel_size=(31,1), padding=\"same\", activation=\"relu\", kernel_initializer=\"he_normal\", kernel_regularizer=regularizers.l2(weight_decay)))\n",
    "\n",
    "model.add(MaxPooling2D(pool_size=(2, 2)))\n",
    "\"\"\"\n",
    "model.add(Dropout(0.5))\n",
    "\n",
    "## Siguientes capas convolucionales: \n",
    "model.add(Conv2D(20, (3,3), padding='same',activation='relu', kernel_initializer=\"he_normal\",kernel_regularizer=regularizers.l2(weight_decay)))\n",
    "model.add(MaxPooling2D(pool_size=(2,2)))\n",
    "model.add(Dropout(0.4))\n",
    "\n",
    "model.add(Conv2D(40, (3,3), padding='same',activation='relu', kernel_initializer=\"he_normal\",kernel_regularizer=regularizers.l2(weight_decay)))\n",
    "model.add(MaxPooling2D(pool_size=(2,2)))\n",
    "model.add(Dropout(0.3))\n",
    "\n",
    "\n",
    "model.add(Conv2D(80, (3,3), padding='same',activation='relu', kernel_initializer=\"he_normal\",kernel_regularizer=regularizers.l2(weight_decay)))\n",
    "model.add(MaxPooling2D(pool_size=(2,2)))\n",
    "model.add(Dropout(0.2))\n",
    "\"\"\"\n",
    "\"\"\"\n",
    "model.add(Conv2D(160, (3,3), padding='same',activation='relu', kernel_initializer=\"he_normal\",kernel_regularizer=regularizers.l2(weight_decay)))\n",
    "model.add(MaxPooling2D(pool_size=(2,2)))\n",
    "\"\"\"\n",
    "\n",
    "\n",
    "\"\"\"\n",
    "model.add(MaxPooling2D(pool_size=(2, 2)))\n",
    "model.add(Dropout(0.5))\n",
    "\n",
    "\n",
    "model.add(Conv2D(96, (3, 3), padding='same',activation='relu', kernel_initializer=\"he_normal\",kernel_regularizer=regularizers.l2(weight_decay)))\n",
    "#model.add(Conv2D(96, (3, 3), padding='same',activation='relu', kernel_initializer=\"he_normal\", kernel_regularizer=regularizers.l2(weight_decay)))\n",
    "model.add(MaxPooling2D(pool_size=(2, 2)))\n",
    "model.add(Dropout(0.2))\n",
    "\n",
    "model.add(Conv2D(192, (3, 3), padding='same',activation='relu', kernel_initializer=\"he_normal\", kernel_regularizer=regularizers.l2(weight_decay)))\n",
    "#model.add(Conv2D(192, (3, 3), padding='same',activation='relu', kernel_initializer=\"he_normal\", kernel_regularizer=regularizers.l2(weight_decay)))\n",
    "model.add(MaxPooling2D(pool_size=(2, 2)))\n",
    "model.add(Dropout(0.1))\n",
    "\"\"\"\n",
    "\n",
    "model.add(Flatten())\n",
    "model.add(Dense(y_train.shape[1], activation=\"softmax\"))\n",
    "\n",
    "opt = optimizers.Adam(lr=0.001, beta_1=0.9, beta_2=0.999)        \n",
    "model.compile(optimizer=opt, loss='categorical_crossentropy', metrics=['accuracy'])\n",
    "model.summary()"
   ]
  },
  {
   "cell_type": "code",
   "execution_count": 20,
   "metadata": {},
   "outputs": [
    {
     "data": {
      "text/plain": [
       "[<tensorflow.python.keras.layers.convolutional.Conv2D at 0x1d3f9ccb6d0>,\n",
       " <tensorflow.python.keras.layers.convolutional.Conv2D at 0x1d3f8ef83a0>,\n",
       " <tensorflow.python.keras.layers.pooling.MaxPooling2D at 0x1d3f98c9d30>,\n",
       " <tensorflow.python.keras.layers.core.Flatten at 0x1d3f8ef81c0>,\n",
       " <tensorflow.python.keras.layers.core.Dense at 0x1d3f98c9d60>]"
      ]
     },
     "execution_count": 20,
     "metadata": {},
     "output_type": "execute_result"
    }
   ],
   "source": [
    "model.layers"
   ]
  },
  {
   "cell_type": "code",
   "execution_count": 21,
   "metadata": {},
   "outputs": [
    {
     "name": "stdout",
     "output_type": "stream",
     "text": [
      "conv2d\n",
      "conv2d_1\n",
      "max_pooling2d\n",
      "flatten\n",
      "dense\n"
     ]
    }
   ],
   "source": [
    "for l in model.layers: print (l.name)"
   ]
  },
  {
   "cell_type": "markdown",
   "metadata": {},
   "source": [
    "All the parameters of a layer can bee accessed:"
   ]
  },
  {
   "cell_type": "code",
   "execution_count": 22,
   "metadata": {},
   "outputs": [
    {
     "data": {
      "text/plain": [
       "(1, 25, 1, 4)"
      ]
     },
     "execution_count": 22,
     "metadata": {},
     "output_type": "execute_result"
    }
   ],
   "source": [
    "weights, biases = model.layers[0].get_weights()\n",
    "weights.shape"
   ]
  },
  {
   "cell_type": "code",
   "execution_count": 23,
   "metadata": {},
   "outputs": [
    {
     "data": {
      "text/plain": [
       "array([[[[-0.3561954 , -0.19498627,  0.5820949 , -0.49205947]],\n",
       "\n",
       "        [[ 0.2027963 ,  0.09828874,  0.49828318,  0.15717305]],\n",
       "\n",
       "        [[-0.16385305, -0.31102735, -0.14364925, -0.46723926]],\n",
       "\n",
       "        [[ 0.21695153, -0.43669087,  0.32012895, -0.4237992 ]],\n",
       "\n",
       "        [[-0.33661568, -0.3554622 , -0.13381077,  0.395259  ]],\n",
       "\n",
       "        [[ 0.20705132, -0.1277326 , -0.50328267,  0.39004084]],\n",
       "\n",
       "        [[-0.02907873,  0.63224745, -0.12453976, -0.02331808]],\n",
       "\n",
       "        [[-0.23823287, -0.08550348,  0.00131406, -0.08897194]],\n",
       "\n",
       "        [[-0.40498924, -0.36767682, -0.12272361,  0.03615614]],\n",
       "\n",
       "        [[-0.4602445 , -0.1695589 ,  0.41396672,  0.04761192]],\n",
       "\n",
       "        [[ 0.54823965,  0.35805225, -0.33990383, -0.02559604]],\n",
       "\n",
       "        [[-0.37238294, -0.08721535, -0.37998742, -0.36067882]],\n",
       "\n",
       "        [[-0.03691128,  0.24232402,  0.06585947,  0.27016914]],\n",
       "\n",
       "        [[ 0.5391448 , -0.0440843 ,  0.04378559,  0.24107142]],\n",
       "\n",
       "        [[-0.44801205, -0.10449081, -0.09743047, -0.19799632]],\n",
       "\n",
       "        [[-0.0090286 , -0.2327084 , -0.03665314,  0.0598692 ]],\n",
       "\n",
       "        [[ 0.41694638,  0.4784466 , -0.01522888, -0.22036688]],\n",
       "\n",
       "        [[-0.01935468,  0.20001279, -0.43509212, -0.06684447]],\n",
       "\n",
       "        [[-0.5492368 ,  0.30766392,  0.4943095 ,  0.04953584]],\n",
       "\n",
       "        [[ 0.46353918, -0.5967376 ,  0.19202104, -0.18392746]],\n",
       "\n",
       "        [[ 0.25066382, -0.14742593, -0.22614613,  0.21228473]],\n",
       "\n",
       "        [[ 0.38203904, -0.26403987, -0.39289558,  0.46720704]],\n",
       "\n",
       "        [[ 0.3163422 ,  0.45365557,  0.02829741, -0.29566094]],\n",
       "\n",
       "        [[-0.17923352, -0.01064281, -0.4096079 , -0.25030124]],\n",
       "\n",
       "        [[ 0.05944443, -0.01239443, -0.21863261, -0.07349885]]]],\n",
       "      dtype=float32)"
      ]
     },
     "execution_count": 23,
     "metadata": {},
     "output_type": "execute_result"
    }
   ],
   "source": [
    "weights"
   ]
  },
  {
   "cell_type": "code",
   "execution_count": 24,
   "metadata": {},
   "outputs": [
    {
     "data": {
      "text/plain": [
       "array([0., 0., 0., 0.], dtype=float32)"
      ]
     },
     "execution_count": 24,
     "metadata": {},
     "output_type": "execute_result"
    }
   ],
   "source": [
    "biases # Bias de la primera capa: 500 bias inicializados a 0 "
   ]
  },
  {
   "cell_type": "code",
   "execution_count": 25,
   "metadata": {},
   "outputs": [
    {
     "data": {
      "text/plain": [
       "(4,)"
      ]
     },
     "execution_count": 25,
     "metadata": {},
     "output_type": "execute_result"
    }
   ],
   "source": [
    "biases.shape"
   ]
  },
  {
   "cell_type": "markdown",
   "metadata": {},
   "source": [
    "### 6. Compile the model"
   ]
  },
  {
   "cell_type": "markdown",
   "metadata": {},
   "source": [
    "### 7. Train the model with M-BGD"
   ]
  },
  {
   "cell_type": "code",
   "execution_count": 26,
   "metadata": {},
   "outputs": [
    {
     "name": "stdout",
     "output_type": "stream",
     "text": [
      "Epoch 1/100\n",
      "13/13 - 3s - loss: 65.2023 - accuracy: 0.4668 - val_loss: 23.4137 - val_accuracy: 0.4694\n",
      "Epoch 2/100\n",
      "13/13 - 2s - loss: 20.8485 - accuracy: 0.5230 - val_loss: 3.6344 - val_accuracy: 0.4796\n",
      "Epoch 3/100\n",
      "13/13 - 2s - loss: 4.8488 - accuracy: 0.6224 - val_loss: 4.3275 - val_accuracy: 0.5714\n",
      "Epoch 4/100\n",
      "13/13 - 2s - loss: 2.8551 - accuracy: 0.7092 - val_loss: 3.4740 - val_accuracy: 0.5204\n",
      "Epoch 5/100\n",
      "13/13 - 2s - loss: 1.4000 - accuracy: 0.7806 - val_loss: 3.2856 - val_accuracy: 0.5306\n",
      "Epoch 6/100\n",
      "13/13 - 2s - loss: 0.7551 - accuracy: 0.8265 - val_loss: 3.1306 - val_accuracy: 0.5306\n",
      "Epoch 7/100\n",
      "13/13 - 2s - loss: 0.3992 - accuracy: 0.8903 - val_loss: 3.1290 - val_accuracy: 0.5306\n",
      "Epoch 8/100\n",
      "13/13 - 2s - loss: 0.2178 - accuracy: 0.9337 - val_loss: 3.1342 - val_accuracy: 0.5612\n",
      "Epoch 9/100\n",
      "13/13 - 2s - loss: 0.1328 - accuracy: 0.9592 - val_loss: 3.1166 - val_accuracy: 0.5510\n",
      "Epoch 10/100\n",
      "13/13 - 2s - loss: 0.0820 - accuracy: 0.9821 - val_loss: 3.0991 - val_accuracy: 0.5612\n",
      "Epoch 11/100\n",
      "13/13 - 2s - loss: 0.0564 - accuracy: 0.9872 - val_loss: 3.0804 - val_accuracy: 0.5612\n",
      "Epoch 12/100\n",
      "13/13 - 2s - loss: 0.0408 - accuracy: 0.9974 - val_loss: 3.0721 - val_accuracy: 0.5510\n",
      "Epoch 13/100\n",
      "13/13 - 2s - loss: 0.0324 - accuracy: 0.9974 - val_loss: 3.0607 - val_accuracy: 0.5510\n",
      "Epoch 14/100\n",
      "13/13 - 2s - loss: 0.0263 - accuracy: 0.9974 - val_loss: 3.0542 - val_accuracy: 0.5510\n",
      "Epoch 15/100\n",
      "13/13 - 3s - loss: 0.0217 - accuracy: 0.9974 - val_loss: 3.0440 - val_accuracy: 0.5510\n",
      "Epoch 16/100\n",
      "13/13 - 3s - loss: 0.0178 - accuracy: 1.0000 - val_loss: 3.0381 - val_accuracy: 0.5612\n",
      "Epoch 17/100\n",
      "13/13 - 2s - loss: 0.0154 - accuracy: 1.0000 - val_loss: 3.0352 - val_accuracy: 0.5612\n",
      "Epoch 18/100\n",
      "13/13 - 2s - loss: 0.0138 - accuracy: 1.0000 - val_loss: 3.0394 - val_accuracy: 0.5714\n",
      "Epoch 19/100\n",
      "13/13 - 3s - loss: 0.0125 - accuracy: 1.0000 - val_loss: 3.0383 - val_accuracy: 0.5714\n",
      "Epoch 20/100\n",
      "13/13 - 2s - loss: 0.0115 - accuracy: 1.0000 - val_loss: 3.0375 - val_accuracy: 0.5918\n",
      "Epoch 21/100\n",
      "13/13 - 3s - loss: 0.0108 - accuracy: 1.0000 - val_loss: 3.0358 - val_accuracy: 0.5816\n",
      "Epoch 22/100\n",
      "13/13 - 2s - loss: 0.0100 - accuracy: 1.0000 - val_loss: 3.0357 - val_accuracy: 0.5816\n",
      "Epoch 23/100\n",
      "13/13 - 2s - loss: 0.0094 - accuracy: 1.0000 - val_loss: 3.0374 - val_accuracy: 0.5918\n",
      "Epoch 24/100\n",
      "13/13 - 2s - loss: 0.0088 - accuracy: 1.0000 - val_loss: 3.0367 - val_accuracy: 0.5816\n",
      "Epoch 25/100\n",
      "13/13 - 3s - loss: 0.0084 - accuracy: 1.0000 - val_loss: 3.0352 - val_accuracy: 0.5816\n",
      "Epoch 26/100\n",
      "13/13 - 3s - loss: 0.0079 - accuracy: 1.0000 - val_loss: 3.0370 - val_accuracy: 0.5918\n",
      "Epoch 27/100\n",
      "13/13 - 3s - loss: 0.0075 - accuracy: 1.0000 - val_loss: 3.0366 - val_accuracy: 0.5918\n",
      "Epoch 28/100\n",
      "13/13 - 4s - loss: 0.0072 - accuracy: 1.0000 - val_loss: 3.0373 - val_accuracy: 0.5918\n",
      "Epoch 29/100\n",
      "13/13 - 3s - loss: 0.0069 - accuracy: 1.0000 - val_loss: 3.0397 - val_accuracy: 0.5816\n",
      "Epoch 30/100\n",
      "13/13 - 3s - loss: 0.0066 - accuracy: 1.0000 - val_loss: 3.0400 - val_accuracy: 0.5816\n",
      "Epoch 31/100\n",
      "13/13 - 3s - loss: 0.0063 - accuracy: 1.0000 - val_loss: 3.0419 - val_accuracy: 0.5816\n",
      "Epoch 32/100\n",
      "13/13 - 3s - loss: 0.0061 - accuracy: 1.0000 - val_loss: 3.0439 - val_accuracy: 0.5714\n",
      "Epoch 33/100\n",
      "13/13 - 3s - loss: 0.0059 - accuracy: 1.0000 - val_loss: 3.0465 - val_accuracy: 0.5816\n",
      "Epoch 34/100\n",
      "13/13 - 3s - loss: 0.0057 - accuracy: 1.0000 - val_loss: 3.0494 - val_accuracy: 0.5714\n",
      "Epoch 35/100\n",
      "13/13 - 4s - loss: 0.0055 - accuracy: 1.0000 - val_loss: 3.0513 - val_accuracy: 0.5714\n",
      "Epoch 36/100\n",
      "13/13 - 3s - loss: 0.0053 - accuracy: 1.0000 - val_loss: 3.0533 - val_accuracy: 0.5714\n",
      "Epoch 37/100\n",
      "13/13 - 4s - loss: 0.0052 - accuracy: 1.0000 - val_loss: 3.0547 - val_accuracy: 0.5816\n",
      "Epoch 38/100\n",
      "13/13 - 5s - loss: 0.0050 - accuracy: 1.0000 - val_loss: 3.0559 - val_accuracy: 0.5816\n",
      "Epoch 39/100\n",
      "13/13 - 5s - loss: 0.0049 - accuracy: 1.0000 - val_loss: 3.0561 - val_accuracy: 0.5714\n",
      "Epoch 40/100\n",
      "13/13 - 5s - loss: 0.0047 - accuracy: 1.0000 - val_loss: 3.0572 - val_accuracy: 0.5816\n",
      "Epoch 41/100\n",
      "13/13 - 5s - loss: 0.0046 - accuracy: 1.0000 - val_loss: 3.0579 - val_accuracy: 0.5714\n",
      "Epoch 42/100\n",
      "13/13 - 5s - loss: 0.0045 - accuracy: 1.0000 - val_loss: 3.0596 - val_accuracy: 0.5816\n",
      "Epoch 43/100\n",
      "13/13 - 4s - loss: 0.0044 - accuracy: 1.0000 - val_loss: 3.0619 - val_accuracy: 0.5714\n",
      "Epoch 44/100\n",
      "13/13 - 5s - loss: 0.0043 - accuracy: 1.0000 - val_loss: 3.0649 - val_accuracy: 0.5918\n",
      "Epoch 45/100\n",
      "13/13 - 5s - loss: 0.0042 - accuracy: 1.0000 - val_loss: 3.0665 - val_accuracy: 0.5816\n",
      "Epoch 46/100\n",
      "13/13 - 5s - loss: 0.0041 - accuracy: 1.0000 - val_loss: 3.0677 - val_accuracy: 0.5816\n",
      "Epoch 47/100\n",
      "13/13 - 5s - loss: 0.0040 - accuracy: 1.0000 - val_loss: 3.0693 - val_accuracy: 0.5816\n",
      "Epoch 48/100\n",
      "13/13 - 5s - loss: 0.0039 - accuracy: 1.0000 - val_loss: 3.0707 - val_accuracy: 0.5816\n",
      "Epoch 49/100\n",
      "13/13 - 5s - loss: 0.0039 - accuracy: 1.0000 - val_loss: 3.0723 - val_accuracy: 0.5816\n",
      "Epoch 50/100\n",
      "13/13 - 5s - loss: 0.0038 - accuracy: 1.0000 - val_loss: 3.0741 - val_accuracy: 0.5918\n",
      "Epoch 51/100\n",
      "13/13 - 5s - loss: 0.0038 - accuracy: 1.0000 - val_loss: 3.0748 - val_accuracy: 0.5816\n",
      "Epoch 52/100\n",
      "13/13 - 5s - loss: 0.0037 - accuracy: 1.0000 - val_loss: 3.0763 - val_accuracy: 0.5816\n",
      "Epoch 53/100\n",
      "13/13 - 5s - loss: 0.0036 - accuracy: 1.0000 - val_loss: 3.0781 - val_accuracy: 0.5918\n",
      "Epoch 54/100\n",
      "13/13 - 5s - loss: 0.0035 - accuracy: 1.0000 - val_loss: 3.0793 - val_accuracy: 0.5918\n",
      "Epoch 55/100\n",
      "13/13 - 5s - loss: 0.0035 - accuracy: 1.0000 - val_loss: 3.0812 - val_accuracy: 0.5918\n",
      "Epoch 56/100\n",
      "13/13 - 5s - loss: 0.0034 - accuracy: 1.0000 - val_loss: 3.0829 - val_accuracy: 0.5918\n",
      "Epoch 57/100\n",
      "13/13 - 5s - loss: 0.0034 - accuracy: 1.0000 - val_loss: 3.0845 - val_accuracy: 0.5918\n",
      "Epoch 58/100\n",
      "13/13 - 5s - loss: 0.0033 - accuracy: 1.0000 - val_loss: 3.0865 - val_accuracy: 0.5918\n",
      "Epoch 59/100\n",
      "13/13 - 5s - loss: 0.0033 - accuracy: 1.0000 - val_loss: 3.0880 - val_accuracy: 0.5918\n",
      "Epoch 60/100\n",
      "13/13 - 5s - loss: 0.0033 - accuracy: 1.0000 - val_loss: 3.0900 - val_accuracy: 0.5816\n",
      "Epoch 61/100\n",
      "13/13 - 5s - loss: 0.0032 - accuracy: 1.0000 - val_loss: 3.0922 - val_accuracy: 0.5918\n",
      "Epoch 62/100\n",
      "13/13 - 5s - loss: 0.0032 - accuracy: 1.0000 - val_loss: 3.0943 - val_accuracy: 0.5918\n",
      "Epoch 63/100\n",
      "13/13 - 7s - loss: 0.0031 - accuracy: 1.0000 - val_loss: 3.0958 - val_accuracy: 0.5918\n",
      "Epoch 64/100\n",
      "13/13 - 5s - loss: 0.0031 - accuracy: 1.0000 - val_loss: 3.0976 - val_accuracy: 0.5918\n",
      "Epoch 65/100\n",
      "13/13 - 6s - loss: 0.0031 - accuracy: 1.0000 - val_loss: 3.0994 - val_accuracy: 0.5918\n",
      "Epoch 66/100\n",
      "13/13 - 7s - loss: 0.0030 - accuracy: 1.0000 - val_loss: 3.1010 - val_accuracy: 0.5816\n",
      "Epoch 67/100\n",
      "13/13 - 7s - loss: 0.0030 - accuracy: 1.0000 - val_loss: 3.1024 - val_accuracy: 0.5918\n",
      "Epoch 68/100\n",
      "13/13 - 7s - loss: 0.0030 - accuracy: 1.0000 - val_loss: 3.1040 - val_accuracy: 0.5918\n",
      "Epoch 69/100\n",
      "13/13 - 7s - loss: 0.0029 - accuracy: 1.0000 - val_loss: 3.1049 - val_accuracy: 0.5918\n",
      "Epoch 70/100\n",
      "13/13 - 7s - loss: 0.0029 - accuracy: 1.0000 - val_loss: 3.1072 - val_accuracy: 0.5918\n",
      "Epoch 71/100\n",
      "13/13 - 7s - loss: 0.0029 - accuracy: 1.0000 - val_loss: 3.1090 - val_accuracy: 0.5918\n",
      "Epoch 72/100\n",
      "13/13 - 7s - loss: 0.0028 - accuracy: 1.0000 - val_loss: 3.1106 - val_accuracy: 0.5918\n",
      "Epoch 73/100\n",
      "13/13 - 7s - loss: 0.0028 - accuracy: 1.0000 - val_loss: 3.1123 - val_accuracy: 0.5918\n",
      "Epoch 74/100\n",
      "13/13 - 7s - loss: 0.0028 - accuracy: 1.0000 - val_loss: 3.1142 - val_accuracy: 0.5918\n",
      "Epoch 75/100\n",
      "13/13 - 7s - loss: 0.0028 - accuracy: 1.0000 - val_loss: 3.1152 - val_accuracy: 0.5918\n",
      "Epoch 76/100\n",
      "13/13 - 7s - loss: 0.0027 - accuracy: 1.0000 - val_loss: 3.1159 - val_accuracy: 0.5918\n",
      "Epoch 77/100\n",
      "13/13 - 8s - loss: 0.0027 - accuracy: 1.0000 - val_loss: 3.1172 - val_accuracy: 0.5918\n",
      "Epoch 78/100\n",
      "13/13 - 7s - loss: 0.0027 - accuracy: 1.0000 - val_loss: 3.1190 - val_accuracy: 0.5918\n",
      "Epoch 79/100\n",
      "13/13 - 8s - loss: 0.0027 - accuracy: 1.0000 - val_loss: 3.1207 - val_accuracy: 0.5918\n",
      "Epoch 80/100\n",
      "13/13 - 7s - loss: 0.0026 - accuracy: 1.0000 - val_loss: 3.1224 - val_accuracy: 0.5918\n",
      "Epoch 81/100\n",
      "13/13 - 7s - loss: 0.0026 - accuracy: 1.0000 - val_loss: 3.1240 - val_accuracy: 0.5918\n",
      "Epoch 82/100\n",
      "13/13 - 8s - loss: 0.0026 - accuracy: 1.0000 - val_loss: 3.1259 - val_accuracy: 0.5918\n"
     ]
    },
    {
     "name": "stdout",
     "output_type": "stream",
     "text": [
      "Epoch 83/100\n",
      "13/13 - 7s - loss: 0.0026 - accuracy: 1.0000 - val_loss: 3.1274 - val_accuracy: 0.5918\n",
      "Epoch 84/100\n",
      "13/13 - 8s - loss: 0.0026 - accuracy: 1.0000 - val_loss: 3.1289 - val_accuracy: 0.5918\n",
      "Epoch 85/100\n",
      "13/13 - 7s - loss: 0.0025 - accuracy: 1.0000 - val_loss: 3.1300 - val_accuracy: 0.5918\n",
      "Epoch 86/100\n",
      "13/13 - 8s - loss: 0.0025 - accuracy: 1.0000 - val_loss: 3.1318 - val_accuracy: 0.5918\n",
      "Epoch 87/100\n",
      "13/13 - 7s - loss: 0.0025 - accuracy: 1.0000 - val_loss: 3.1327 - val_accuracy: 0.6020\n",
      "Epoch 88/100\n",
      "13/13 - 8s - loss: 0.0025 - accuracy: 1.0000 - val_loss: 3.1343 - val_accuracy: 0.6020\n",
      "Epoch 89/100\n",
      "13/13 - 7s - loss: 0.0025 - accuracy: 1.0000 - val_loss: 3.1355 - val_accuracy: 0.6020\n",
      "Epoch 90/100\n",
      "13/13 - 8s - loss: 0.0025 - accuracy: 1.0000 - val_loss: 3.1370 - val_accuracy: 0.6020\n",
      "Epoch 91/100\n",
      "13/13 - 7s - loss: 0.0024 - accuracy: 1.0000 - val_loss: 3.1385 - val_accuracy: 0.6020\n",
      "Epoch 92/100\n",
      "13/13 - 7s - loss: 0.0024 - accuracy: 1.0000 - val_loss: 3.1404 - val_accuracy: 0.6020\n",
      "Epoch 93/100\n",
      "13/13 - 8s - loss: 0.0024 - accuracy: 1.0000 - val_loss: 3.1422 - val_accuracy: 0.6020\n",
      "Epoch 94/100\n",
      "13/13 - 7s - loss: 0.0024 - accuracy: 1.0000 - val_loss: 3.1432 - val_accuracy: 0.6020\n",
      "Epoch 95/100\n",
      "13/13 - 7s - loss: 0.0024 - accuracy: 1.0000 - val_loss: 3.1447 - val_accuracy: 0.6020\n",
      "Epoch 96/100\n",
      "13/13 - 7s - loss: 0.0024 - accuracy: 1.0000 - val_loss: 3.1458 - val_accuracy: 0.6020\n",
      "Epoch 97/100\n",
      "13/13 - 7s - loss: 0.0024 - accuracy: 1.0000 - val_loss: 3.1475 - val_accuracy: 0.6020\n",
      "Epoch 98/100\n",
      "13/13 - 7s - loss: 0.0023 - accuracy: 1.0000 - val_loss: 3.1486 - val_accuracy: 0.6020\n",
      "Epoch 99/100\n",
      "13/13 - 7s - loss: 0.0023 - accuracy: 1.0000 - val_loss: 3.1497 - val_accuracy: 0.6020\n",
      "Epoch 100/100\n",
      "13/13 - 7s - loss: 0.0023 - accuracy: 1.0000 - val_loss: 3.1514 - val_accuracy: 0.6020\n",
      "491.7406425476074\n"
     ]
    }
   ],
   "source": [
    "import time\n",
    "start = time.time()\n",
    "#history = model.fit(X_train, y_train, batch_size=32, steps_per_epoch=len(y_train)/32, epochs=100, verbose=2, validation_data=(X_dev, y_dev),callbacks=[tensorboard])\n",
    "history = model.fit(X_train, y_train, batch_size=32, epochs=100, verbose=2, validation_data=(X_dev, y_dev))\n",
    "print (time.time() - start)\n",
    "\n"
   ]
  },
  {
   "cell_type": "markdown",
   "metadata": {},
   "source": [
    "### 8. Get the results"
   ]
  },
  {
   "cell_type": "code",
   "execution_count": 27,
   "metadata": {},
   "outputs": [
    {
     "data": {
      "image/png": "[encoded data removed]",
      "text/plain": [
       "<Figure size 576x360 with 1 Axes>"
      ]
     },
     "metadata": {
      "needs_background": "light"
     },
     "output_type": "display_data"
    }
   ],
   "source": [
    "results=pd.DataFrame(history.history)\n",
    "results.plot(figsize=(8, 5))\n",
    "plt.grid(True)\n",
    "plt.xlabel (\"Epochs\")\n",
    "plt.ylabel (\"Accuracy - Mean Log Loss\")\n",
    "plt.gca().set_ylim(0, 2) # set the vertical range to [0-1]\n",
    "plt.show()\n",
    "\n",
    "# categorical_accuracy es el training accuracy\n",
    "# val_categorical_accuracy es el validation accuracy\n",
    "# loss es el training loss\n",
    "# val_loss es el validation loss\n",
    "\n",
    "# Overfitting:\n",
    "# Por un lado la Accuracy de los datos de entrenamiento aumenta con las epochs,\n",
    "# mientras que la Accuracy de los datos de validación disminuye o se mantiene constante a lo largo de las epochs. \n",
    "# La Loss de los datos de validación alcanza su mínimo después de pocos epochs y luego empieza a subir, \n",
    "# mientras que la Loss de los datos de entrenamiento disminuye linealmente."
   ]
  },
  {
   "cell_type": "code",
   "execution_count": 28,
   "metadata": {},
   "outputs": [
    {
     "data": {
      "text/plain": [
       "{'verbose': 2, 'epochs': 100, 'steps': 13}"
      ]
     },
     "execution_count": 28,
     "metadata": {},
     "output_type": "execute_result"
    }
   ],
   "source": [
    "history.params"
   ]
  },
  {
   "cell_type": "code",
   "execution_count": 29,
   "metadata": {},
   "outputs": [
    {
     "data": {
      "text/html": [
       "<div>\n",
       "<style scoped>\n",
       "    .dataframe tbody tr th:only-of-type {\n",
       "        vertical-align: middle;\n",
       "    }\n",
       "\n",
       "    .dataframe tbody tr th {\n",
       "        vertical-align: top;\n",
       "    }\n",
       "\n",
       "    .dataframe thead th {\n",
       "        text-align: right;\n",
       "    }\n",
       "</style>\n",
       "<table border=\"1\" class=\"dataframe\">\n",
       "  <thead>\n",
       "    <tr style=\"text-align: right;\">\n",
       "      <th></th>\n",
       "      <th>loss</th>\n",
       "      <th>accuracy</th>\n",
       "      <th>val_loss</th>\n",
       "      <th>val_accuracy</th>\n",
       "    </tr>\n",
       "  </thead>\n",
       "  <tbody>\n",
       "    <tr>\n",
       "      <th>99</th>\n",
       "      <td>0.002318</td>\n",
       "      <td>1.0</td>\n",
       "      <td>3.151356</td>\n",
       "      <td>0.602041</td>\n",
       "    </tr>\n",
       "  </tbody>\n",
       "</table>\n",
       "</div>"
      ],
      "text/plain": [
       "        loss  accuracy  val_loss  val_accuracy\n",
       "99  0.002318       1.0  3.151356      0.602041"
      ]
     },
     "execution_count": 29,
     "metadata": {},
     "output_type": "execute_result"
    }
   ],
   "source": [
    "results[-1:]"
   ]
  },
  {
   "cell_type": "code",
   "execution_count": 30,
   "metadata": {},
   "outputs": [
    {
     "name": "stdout",
     "output_type": "stream",
     "text": [
      "Accuracy for the training set:  1.0\n"
     ]
    }
   ],
   "source": [
    "print (\"Accuracy for the training set: \", results.values[-1:][0][1])"
   ]
  },
  {
   "cell_type": "code",
   "execution_count": 31,
   "metadata": {},
   "outputs": [
    {
     "name": "stdout",
     "output_type": "stream",
     "text": [
      "Accuracy for the development test set:  0.6020408272743225\n"
     ]
    }
   ],
   "source": [
    "print (\"Accuracy for the development test set: \", results.values[-1:][0][3])"
   ]
  },
  {
   "cell_type": "code",
   "execution_count": null,
   "metadata": {},
   "outputs": [],
   "source": []
  },
  {
   "cell_type": "code",
   "execution_count": null,
   "metadata": {},
   "outputs": [],
   "source": []
  },
  {
   "cell_type": "code",
   "execution_count": null,
   "metadata": {},
   "outputs": [],
   "source": []
  },
  {
   "cell_type": "code",
   "execution_count": null,
   "metadata": {},
   "outputs": [],
   "source": []
  },
  {
   "cell_type": "code",
   "execution_count": null,
   "metadata": {},
   "outputs": [],
   "source": []
  },
  {
   "cell_type": "markdown",
   "metadata": {},
   "source": [
    "#### Let's see how the model predicts using the development test set:"
   ]
  },
  {
   "cell_type": "code",
   "execution_count": 32,
   "metadata": {},
   "outputs": [
    {
     "data": {
      "text/plain": [
       "array([[1.  , 0.  ],\n",
       "       [1.  , 0.  ],\n",
       "       [0.89, 0.11],\n",
       "       [1.  , 0.  ],\n",
       "       [0.57, 0.43],\n",
       "       [0.01, 0.99],\n",
       "       [0.22, 0.78],\n",
       "       [0.78, 0.22],\n",
       "       [1.  , 0.  ],\n",
       "       [0.99, 0.01],\n",
       "       [1.  , 0.  ],\n",
       "       [0.02, 0.98],\n",
       "       [0.81, 0.19],\n",
       "       [0.  , 1.  ],\n",
       "       [0.25, 0.75],\n",
       "       [0.23, 0.77],\n",
       "       [0.88, 0.12],\n",
       "       [0.28, 0.72],\n",
       "       [1.  , 0.  ],\n",
       "       [0.03, 0.97]], dtype=float32)"
      ]
     },
     "execution_count": 32,
     "metadata": {},
     "output_type": "execute_result"
    }
   ],
   "source": [
    "dev_predictions=model.predict(X_dev).round(2) \n",
    "dev_predictions[:20]"
   ]
  },
  {
   "cell_type": "code",
   "execution_count": 33,
   "metadata": {},
   "outputs": [
    {
     "data": {
      "text/plain": [
       "array([[1., 0.],\n",
       "       [1., 0.],\n",
       "       [1., 0.],\n",
       "       [1., 0.],\n",
       "       [1., 0.],\n",
       "       [0., 1.],\n",
       "       [0., 1.],\n",
       "       [1., 0.],\n",
       "       [1., 0.],\n",
       "       [1., 0.],\n",
       "       [1., 0.],\n",
       "       [0., 1.],\n",
       "       [1., 0.],\n",
       "       [0., 1.],\n",
       "       [0., 1.],\n",
       "       [0., 1.],\n",
       "       [1., 0.],\n",
       "       [0., 1.],\n",
       "       [1., 0.],\n",
       "       [0., 1.]], dtype=float32)"
      ]
     },
     "execution_count": 33,
     "metadata": {},
     "output_type": "execute_result"
    }
   ],
   "source": [
    "dev_rounded_predictions=np.round(dev_predictions)\n",
    "indices = np.argmax(dev_predictions,1)\n",
    "for row, index in zip(dev_rounded_predictions, indices): row[index]=1\n",
    "dev_rounded_predictions[:20]"
   ]
  },
  {
   "cell_type": "code",
   "execution_count": 34,
   "metadata": {},
   "outputs": [
    {
     "data": {
      "text/plain": [
       "array([[1., 0.],\n",
       "       [1., 0.],\n",
       "       [1., 0.],\n",
       "       [1., 0.],\n",
       "       [1., 0.],\n",
       "       [1., 0.],\n",
       "       [1., 0.],\n",
       "       [1., 0.],\n",
       "       [1., 0.],\n",
       "       [1., 0.],\n",
       "       [1., 0.],\n",
       "       [1., 0.],\n",
       "       [0., 1.],\n",
       "       [0., 1.],\n",
       "       [0., 1.],\n",
       "       [0., 1.],\n",
       "       [0., 1.],\n",
       "       [0., 1.],\n",
       "       [0., 1.],\n",
       "       [0., 1.]])"
      ]
     },
     "execution_count": 34,
     "metadata": {},
     "output_type": "execute_result"
    }
   ],
   "source": [
    "y_dev[:20]"
   ]
  },
  {
   "cell_type": "code",
   "execution_count": 35,
   "metadata": {},
   "outputs": [
    {
     "name": "stdout",
     "output_type": "stream",
     "text": [
      "[ True  True  True  True  True False False  True  True  True  True False\n",
      " False  True  True  True False  True False  True  True False  True False\n",
      " False False  True False False False]\n"
     ]
    }
   ],
   "source": [
    "dev_correct_predictions = np.equal(np.argmax(dev_rounded_predictions,1),np.argmax(y_dev,1))\n",
    "print (dev_correct_predictions[:30])"
   ]
  },
  {
   "cell_type": "code",
   "execution_count": 36,
   "metadata": {},
   "outputs": [
    {
     "data": {
      "text/plain": [
       "Counter({True: 59, False: 39})"
      ]
     },
     "execution_count": 36,
     "metadata": {},
     "output_type": "execute_result"
    }
   ],
   "source": [
    "from collections import Counter\n",
    "Counter (dev_correct_predictions)"
   ]
  },
  {
   "cell_type": "markdown",
   "metadata": {},
   "source": [
    "### 9. Save model"
   ]
  },
  {
   "cell_type": "markdown",
   "metadata": {},
   "source": [
    "We save the model if it is better than others "
   ]
  },
  {
   "cell_type": "code",
   "execution_count": 37,
   "metadata": {},
   "outputs": [],
   "source": [
    "# Save\n",
    "model.save('./Modelos/CNN_model1_PARES_DIA31.h5') # Change the name in each model"
   ]
  },
  {
   "cell_type": "code",
   "execution_count": 38,
   "metadata": {},
   "outputs": [
    {
     "data": {
      "text/plain": [
       "\"\\nnew_model = keras.models.load_model('./Modelos/EGG_prac1_ANN_model3.h5')\\n\\nimport numpy as np\\n\\n# Verify state\\nnew_predictions = new_model.predict(X_dev)\\nnp.testing.assert_allclose(predictions, new_predictions, rtol=1e-6, atol=1e-6)\\n\\n# Note that the optimizer state is also preserved:\\n# you can resume training where you left off.\\n\""
      ]
     },
     "execution_count": 38,
     "metadata": {},
     "output_type": "execute_result"
    }
   ],
   "source": [
    "# Extract\n",
    "\"\"\"\n",
    "new_model = keras.models.load_model('./Modelos/EGG_prac1_ANN_model3.h5')\n",
    "\n",
    "import numpy as np\n",
    "\n",
    "# Verify state\n",
    "new_predictions = new_model.predict(X_dev)\n",
    "np.testing.assert_allclose(predictions, new_predictions, rtol=1e-6, atol=1e-6)\n",
    "\n",
    "# Note that the optimizer state is also preserved:\n",
    "# you can resume training where you left off.\n",
    "\"\"\""
   ]
  },
  {
   "cell_type": "markdown",
   "metadata": {},
   "source": [
    "### 10 - Final Test\n",
    "\n",
    "#### 10.1 - Load the final test set"
   ]
  },
  {
   "cell_type": "markdown",
   "metadata": {},
   "source": [
    "#### 10.2 - Evaluate the model"
   ]
  },
  {
   "cell_type": "code",
   "execution_count": 39,
   "metadata": {},
   "outputs": [],
   "source": [
    "\n",
    "from collections import Counter\n",
    "def predictWithModel(model, X_test, y_test, task1, task2, task3=\"\"):\n",
    "    model.evaluate(X_test, y_test)\n",
    "    test_predictions = model.predict(X_test)\n",
    "    test_rounded_predictions=np.round(test_predictions)\n",
    "    indices = np.argmax(test_predictions,1)\n",
    "    for row, index in zip(test_rounded_predictions, indices): row[index]=1\n",
    "    print(test_rounded_predictions[:20])\n",
    "    \n",
    "    # ACCURACY:\n",
    "    test_correct_predictions = np.equal(np.argmax(test_rounded_predictions,1),np.argmax(y_test,1))\n",
    "    print()\n",
    "    print(test_correct_predictions)\n",
    "    print(type(test_correct_predictions))\n",
    "    final_test_prediction_results=Counter(test_correct_predictions)\n",
    "    \n",
    "    success = np.mean(test_rounded_predictions == y_test)*100\n",
    "    \n",
    "    return final_test_prediction_results, success"
   ]
  },
  {
   "cell_type": "code",
   "execution_count": 40,
   "metadata": {},
   "outputs": [
    {
     "name": "stdout",
     "output_type": "stream",
     "text": [
      "2/2 [==============================] - 0s 83ms/step - loss: 5.3045 - accuracy: 0.4286\n",
      "[[1. 0.]\n",
      " [0. 1.]\n",
      " [1. 0.]\n",
      " [0. 1.]\n",
      " [0. 1.]\n",
      " [1. 0.]\n",
      " [1. 0.]\n",
      " [0. 1.]\n",
      " [0. 1.]\n",
      " [0. 1.]\n",
      " [0. 1.]\n",
      " [1. 0.]\n",
      " [1. 0.]\n",
      " [0. 1.]\n",
      " [0. 1.]\n",
      " [0. 1.]\n",
      " [1. 0.]\n",
      " [1. 0.]\n",
      " [1. 0.]\n",
      " [0. 1.]]\n",
      "\n",
      "[ True False  True False False  True  True False False False False  True\n",
      " False  True  True  True False False False  True  True  True  True  True\n",
      " False  True False False False False False  True  True  True False False\n",
      " False False False False  True False False False  True  True False False\n",
      "  True]\n",
      "<class 'numpy.ndarray'>\n",
      "Counter({False: 28, True: 21}) 42.857142857142854\n",
      "\n"
     ]
    }
   ],
   "source": [
    "\n",
    "#X_test, y_test = readRegisterAndReturnXy(u, total_records, 122, 123, 127)\n",
    "accuracy, success = predictWithModel(model, X_test, y_test, 402,404)\n",
    "print(accuracy, success)\n",
    "print()"
   ]
  }
 ],
 "metadata": {
  "kernelspec": {
   "display_name": "Python 3",
   "language": "python",
   "name": "python3"
  },
  "language_info": {
   "codemirror_mode": {
    "name": "ipython",
    "version": 3
   },
   "file_extension": ".py",
   "mimetype": "text/x-python",
   "name": "python",
   "nbconvert_exporter": "python",
   "pygments_lexer": "ipython3",
   "version": "3.8.5"
  }
 },
 "nbformat": 4,
 "nbformat_minor": 4
}
