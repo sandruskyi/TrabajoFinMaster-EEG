{
 "cells": [
  {
   "cell_type": "markdown",
   "metadata": {},
   "source": [
    "# Parte 4: Clasificación con CNN"
   ]
  },
  {
   "cell_type": "markdown",
   "metadata": {},
   "source": [
    "### Resultados con la arquitectura anterior: "
   ]
  },
  {
   "cell_type": "markdown",
   "metadata": {},
   "source": [
    "Resultados:\n",
    "    \n",
    "    TRAIN                   DEV\n",
    "    loss       accuracy     val_loss    val_accuracy\n",
    "    0.658027\t0.706633\t1.153543\t0.520408\n",
    "    \n",
    "Por tanto: \n",
    "\n",
    "    E = 1 - Accuracy\n",
    "    Etrain = 1 - 0.706633\t = 0.293367\n",
    "    Etest = 1 - 0.520408 = 0.479592\n",
    "    \n",
    "    Bias = Etrain - Ehuman = 0.293367\n",
    "    Variance = Etest - Etrain = 0.479592 -  0.293367 = 0.186225\n",
    "\n",
    "Aunque el bias ha disminuido, el bias y la varianza permanecen altas. Además se observa overfitting. Se tratará de mejorar el bias. Para mejorar esto será necesario añadir más complejidad, elegir una mejor optimización, cambiando la arquitectura (más neuronas, más capas)..."
   ]
  },
  {
   "cell_type": "markdown",
   "metadata": {},
   "source": [
    "### Cambios realizados"
   ]
  },
  {
   "cell_type": "markdown",
   "metadata": {},
   "source": [
    "Se va a probar con un mejor optimizador NAG opt = optimizers.SGD(lr=0.001, momentum = 0.9, nesterov = True)         (momentum con un vector más efectivo) (Antiguo Adam(lr=0.001, beta_1=0.9, beta_2=0.999)   Pero no se ha visto mejora, así que esto se invierte\n",
    "\n",
    "Se ha cambiado el número de filtros con varias combinaciones, pero ninguna ha resultado satisfactoria. Ya que se produce un overfitting brutal\n",
    "\n",
    "POR TANTO SE SELECCIONA EL MODELO 3, AUNQUE ESTE ENFOQUE NO ES NADA SATISFACTORIO Y SE PREFIERE EL ANTERIOR"
   ]
  },
  {
   "cell_type": "markdown",
   "metadata": {},
   "source": [
    "### Nuevos resultados: "
   ]
  },
  {
   "cell_type": "markdown",
   "metadata": {},
   "source": []
  },
  {
   "cell_type": "markdown",
   "metadata": {},
   "source": [
    "### 1 - Import Libraries"
   ]
  },
  {
   "cell_type": "code",
   "execution_count": 1,
   "metadata": {},
   "outputs": [],
   "source": [
    "# Tensorflow and tf.keras\n",
    "import tensorflow as tf\n",
    "from tensorflow import keras\n",
    "\n",
    "#Helper libraries\n",
    "import matplotlib.pyplot as plt\n",
    "import pandas as pd\n",
    "import numpy as np\n",
    "\n",
    "# Signal libraries\n",
    "from scipy import signal\n"
   ]
  },
  {
   "cell_type": "markdown",
   "metadata": {},
   "source": [
    "### 2 - Load data"
   ]
  },
  {
   "cell_type": "code",
   "execution_count": 2,
   "metadata": {},
   "outputs": [],
   "source": [
    "class ROutput:\n",
    "    def __init__(self, task, data):\n",
    "        self.task = task\n",
    "        self.data = data\n",
    "        \n",
    "class OutTaskData: \n",
    "    def __init__(self, task, data): \n",
    "        self.task = task\n",
    "        self.data = data"
   ]
  },
  {
   "cell_type": "code",
   "execution_count": 3,
   "metadata": {},
   "outputs": [],
   "source": [
    "import scipy.io as sio\n",
    "# Primero leemos los registros\n",
    "def read_outputs(rec):\n",
    "    '''read_outputs(\"userS0091f1.mat\")'''\n",
    "    mat = sio.loadmat(rec)\n",
    "    mdata = mat['session']\n",
    "    val = mdata[0,0]\n",
    "    #output = ROutput(np.array(val[\"task\"]), np.array(val[\"data\"]))\n",
    "    output = ROutput(np.array(val[\"task_EEG\"]), np.array(val[\"data_EEG\"]))\n",
    "    return output"
   ]
  },
  {
   "cell_type": "markdown",
   "metadata": {},
   "source": [
    "### Cargamos los datos"
   ]
  },
  {
   "cell_type": "code",
   "execution_count": 4,
   "metadata": {},
   "outputs": [],
   "source": [
    "# Configuración\n",
    "from sklearn.pipeline import make_pipeline\n",
    "from sklearn.preprocessing import StandardScaler, OneHotEncoder\n",
    "from sklearn.linear_model import Perceptron\n",
    "from keras.utils import to_categorical\n",
    "\n",
    "\n",
    "task1 = 402 # SE PUEDE CAMBIAR\n",
    "task2 = 404 # SE PUEDE CAMBIAR\n",
    "task_OneHotEnconding = {402: [1.,0.], 404: [0.,1.]}\n",
    "user = 'W29' # SE PUEDE CAMBIAR\n",
    "day = '0401'\n",
    "folder_day = 'W29-01_04_2021'\n",
    "total_records = 22 # CAMBIAR SI HAY MAS REGISTROS\n",
    "fm = 200\n",
    "electrodes_names_selected = ['F3', 'FZ', 'FC1','FCZ','C1','CZ','CP1','CPZ', 'FC5', 'FC3','C5','C3','CP5','CP3','P3',\n",
    "                             'PZ','F4','FC2','FC4','FC6','C2','C4','CP2','CP4','C6','CP6','P4','HR' ,'HL', 'VU', 'VD']\n",
    "number_channels = len(electrodes_names_selected)\n"
   ]
  },
  {
   "cell_type": "code",
   "execution_count": 5,
   "metadata": {},
   "outputs": [
    {
     "name": "stdout",
     "output_type": "stream",
     "text": [
      "11 22\n"
     ]
    }
   ],
   "source": [
    "# Lectura de registros\n",
    "lTaskData = []\n",
    "\n",
    "total_records_used = 0\n",
    "for i_rec in range(1,total_records+1):\n",
    "    i_rec_record = i_rec\n",
    "    if i_rec_record <10:\n",
    "        i_rec_record = \"0\"+str(i_rec_record)\n",
    "    if i_rec % 2 != 0: # Registros impares primero: USUARIO SIN MOVIMIENTO SOLO PENSANDO\n",
    "        record = \"./RegistrosSinProcesar/\"+folder_day+\"/W29_2021\"+day+\"_openloop_\"+str(i_rec_record)+\".mat\"\n",
    "        output = read_outputs(record) # output.task será y, output.data será x\n",
    "\n",
    "        outT = (output.task == task1) | (output.task == task2)\n",
    "\n",
    "        outData = output.data[0:np.shape(output.data)[0], outT[0,:]]\n",
    "        outTask = output.task[0, outT[0,:]]\n",
    "        outTD = OutTaskData(outTask, outData)\n",
    "        lTaskData.append(outTD)\n",
    "        total_records_used+=1\n",
    "\n",
    "print(total_records_used, total_records)"
   ]
  },
  {
   "cell_type": "code",
   "execution_count": 6,
   "metadata": {},
   "outputs": [
    {
     "name": "stdout",
     "output_type": "stream",
     "text": [
      "X_train: (8, 31, 5600)\n",
      "y_train: (8, 5600)\n",
      "X_dev: (2, 31, 5600)\n",
      "y_dev: (2, 5600)\n",
      "X_test: (1, 31, 5600)\n",
      "y_test: (1, 5600)\n",
      "WINDOWING & ONE HOT ENCODER:\n",
      "X_train: (392, 31, 300, 1)\n",
      "y_train: (392, 2)\n",
      "X_dev: (98, 31, 300, 1)\n",
      "y_dev: (98, 2)\n",
      "X_test: (49, 31, 300, 1)\n",
      "y_test: (49, 2)\n"
     ]
    }
   ],
   "source": [
    "# Vamos a coger 2 registros para el entrenamiento, 1 para el conjunto dev set, 1 para el test set\n",
    "X_train, y_train, X_dev, y_dev, X_test, y_test = [],[],[],[],[],[] \n",
    "for j in range(0,total_records_used-3): # Cogemos 8 registros para entrenamiento\n",
    "    X_train.append(lTaskData[j].data)\n",
    "    y_train.append(lTaskData[j].task)\n",
    "\n",
    "for j in range(total_records_used-3,total_records_used-1): # Cogemos 2 registros para el dev set\n",
    "    X_dev.append(lTaskData[j].data)\n",
    "    y_dev.append(lTaskData[j].task)\n",
    "for j in range(total_records_used-1,total_records_used): # Cogemos 1 registros para el test set\n",
    "    X_test.append(lTaskData[j].data)\n",
    "    y_test.append(lTaskData[j].task)\n",
    "\n",
    "X_train = np.array(X_train)\n",
    "#y_train = np.ravel(np.array(y_train))\n",
    "y_train = np.array(y_train)\n",
    "X_dev = np.array(X_dev)\n",
    "#y_dev = np.ravel(np.array(y_dev))\n",
    "y_dev = np.array(y_dev)\n",
    "X_test = np.array(X_test)\n",
    "y_test = np.array(y_test)\n",
    "#y_test = np.ravel(np.array(y_test))\n",
    "\n",
    "print (\"X_train:\",X_train.shape)\n",
    "print (\"y_train:\",y_train.shape)\n",
    "print (\"X_dev:\",X_dev.shape)\n",
    "print (\"y_dev:\",y_dev.shape)\n",
    "print (\"X_test:\",X_test.shape)\n",
    "print (\"y_test:\",y_test.shape)\n",
    "\n",
    "\n",
    "# VENTANEO Y ONE HOT ENCODING \n",
    "window = 300\n",
    "samples_advance = 100\n",
    "\n",
    "# Ventaneo X_train\n",
    "\n",
    "X_train_l = []\n",
    "y_train_l = []\n",
    "for num_X_train in range(np.shape(X_train)[0]):\n",
    "    win_init = int(0)\n",
    "    window_position = 0\n",
    "    \n",
    "    for i in range(np.shape(X_train)[2]): # For each signal registered\n",
    "        win_end = int(win_init + window)\n",
    "        if win_end >= np.shape(X_train)[2]:\n",
    "            break\n",
    "\n",
    "        task = np.unique(y_train[num_X_train,win_init:win_end])\n",
    "\n",
    "        if len(task)==1:\n",
    "        #if task1 in task or task2 in task:\n",
    "            signal_window = X_train[num_X_train, :, win_init:win_end]\n",
    "            \n",
    "            #data_filtered = preprocessing(signal_window, fm, number_channels)\n",
    "            #X_train_l.append(data_filtered)\n",
    "            X_train_l.append(signal_window)\n",
    "            taskOH = task_OneHotEnconding[task[0]]\n",
    "            y_train_l.append(taskOH)\n",
    "            \n",
    "        win_init += int(samples_advance)\n",
    "\n",
    "X_train_l = np.array(X_train_l)\n",
    "y_train_l = np.array(y_train_l)\n",
    "\n",
    "\n",
    "# Ventaneo X_dev\n",
    "X_dev_l = []\n",
    "y_dev_l = []\n",
    "for num_X_dev in range(np.shape(X_dev)[0]):\n",
    "    win_init = int(0)\n",
    "    window_position = 0\n",
    "    \n",
    "    for i in range(np.shape(X_dev)[2]): # For each signal registered\n",
    "        win_end = int(win_init + window)\n",
    "        if win_end >= np.shape(X_dev)[2]:\n",
    "            break\n",
    "\n",
    "        task = np.unique(y_dev[num_X_dev,win_init:win_end])\n",
    "\n",
    "        if len(task)==1:\n",
    "        #if task1 in task or task2 in task:\n",
    "            signal_window = X_dev[num_X_dev, :, win_init:win_end]\n",
    "            \n",
    "            #data_filtered = preprocessing(signal_window, fm, number_channels)\n",
    "            #X_train_l.append(data_filtered)\n",
    "            X_dev_l.append(signal_window)\n",
    "            taskOH = task_OneHotEnconding[task[0]]\n",
    "            y_dev_l.append(taskOH)\n",
    "            \n",
    "        win_init += int(samples_advance)\n",
    "\n",
    "X_dev_l = np.array(X_dev_l)\n",
    "y_dev_l = np.array(y_dev_l)\n",
    "\n",
    "# Ventaneo X_test\n",
    "X_test_l = []\n",
    "y_test_l = []\n",
    "for num_X_test in range(np.shape(X_test)[0]):\n",
    "    win_init = int(0)\n",
    "    window_position = 0\n",
    "    \n",
    "    for i in range(np.shape(X_test)[2]): # For each signal registered\n",
    "        win_end = int(win_init + window)\n",
    "        if win_end >= np.shape(X_test)[2]:\n",
    "            break\n",
    "\n",
    "        task = np.unique(y_test[num_X_test,win_init:win_end])\n",
    "\n",
    "        if len(task)==1:\n",
    "        #if task1 in task or task2 in task:\n",
    "            signal_window = X_test[num_X_test, :, win_init:win_end]\n",
    "            \n",
    "            #data_filtered = preprocessing(signal_window, fm, number_channels)\n",
    "            #X_train_l.append(data_filtered)\n",
    "            X_test_l.append(signal_window)\n",
    "            taskOH = task_OneHotEnconding[task[0]]\n",
    "            y_test_l.append(taskOH)\n",
    "            \n",
    "        win_init += int(samples_advance)\n",
    "\n",
    "X_test_l = np.array(X_test_l)\n",
    "y_test_l = np.array(y_test_l)\n",
    "\n",
    "\n",
    "\n",
    "\n",
    "X_train_l = X_train_l.reshape((np.shape(X_train_l)[0],np.shape(X_train_l)[1],np.shape(X_train_l)[2], 1))\n",
    "X_dev_l = X_dev_l.reshape((np.shape(X_dev_l)[0],np.shape(X_dev_l)[1],np.shape(X_dev_l)[2], 1))\n",
    "X_test_l = X_test_l.reshape((np.shape(X_test_l)[0],np.shape(X_test_l)[1],np.shape(X_test_l)[2], 1))\n",
    "\n",
    "\n",
    "print(\"WINDOWING & ONE HOT ENCODER:\")\n",
    "print (\"X_train:\",X_train_l.shape)\n",
    "print (\"y_train:\",y_train_l.shape)\n",
    "print (\"X_dev:\",X_dev_l.shape)\n",
    "print (\"y_dev:\",y_dev_l.shape)\n",
    "print (\"X_test:\",X_test_l.shape)\n",
    "print (\"y_test:\",y_test_l.shape)\n",
    "\n",
    "X_train = X_train_l\n",
    "y_train = y_train_l\n",
    "X_dev = X_dev_l\n",
    "y_dev = y_dev_l\n",
    "X_test = X_test_l\n",
    "y_test = y_test_l"
   ]
  },
  {
   "cell_type": "markdown",
   "metadata": {},
   "source": [
    "### 3. Initialize variables"
   ]
  },
  {
   "cell_type": "code",
   "execution_count": 7,
   "metadata": {},
   "outputs": [],
   "source": [
    "INPUTS = X_train.shape[1]\n",
    "OUTPUTS = y_train.shape[1]\n",
    "NUM_TRAINING_EXAMPLES = int(round(X_train.shape[0]/1))\n",
    "NUM_DEV_EXAMPLES = int(round(y_train.shape[0]/1))"
   ]
  },
  {
   "cell_type": "markdown",
   "metadata": {},
   "source": [
    "Some data is displayed to test correctness:"
   ]
  },
  {
   "cell_type": "code",
   "execution_count": 8,
   "metadata": {},
   "outputs": [
    {
     "data": {
      "text/plain": [
       "array([[[[ -8.09402561],\n",
       "         [ -9.94211674],\n",
       "         [ -7.67301702],\n",
       "         ...,\n",
       "         [  3.9353075 ],\n",
       "         [  5.40302658],\n",
       "         [  7.70658255]],\n",
       "\n",
       "        [[ -5.0390377 ],\n",
       "         [ -6.66358757],\n",
       "         [ -4.47667217],\n",
       "         ...,\n",
       "         [  2.1584661 ],\n",
       "         [  3.46315312],\n",
       "         [  6.43767405]],\n",
       "\n",
       "        [[-10.60903263],\n",
       "         [-12.09577656],\n",
       "         [-10.72430229],\n",
       "         ...,\n",
       "         [  2.3000679 ],\n",
       "         [  3.46812749],\n",
       "         [  6.45359421]],\n",
       "\n",
       "        ...,\n",
       "\n",
       "        [[  1.61085725],\n",
       "         [  1.76080692],\n",
       "         [ -0.56686342],\n",
       "         ...,\n",
       "         [ -0.50050861],\n",
       "         [  3.40154266],\n",
       "         [  3.74983001]],\n",
       "\n",
       "        [[  1.47814846],\n",
       "         [  0.68146783],\n",
       "         [  1.03147733],\n",
       "         ...,\n",
       "         [  4.97134638],\n",
       "         [  4.92773724],\n",
       "         [  3.80344081]],\n",
       "\n",
       "        [[  5.40894794],\n",
       "         [  0.86323416],\n",
       "         [ -1.62228251],\n",
       "         ...,\n",
       "         [ -0.30909678],\n",
       "         [  0.05893415],\n",
       "         [  5.40368414]]],\n",
       "\n",
       "\n",
       "       [[[  0.95847905],\n",
       "         [ -4.44262743],\n",
       "         [ -3.83154249],\n",
       "         ...,\n",
       "         [ -8.26578903],\n",
       "         [ -1.67391038],\n",
       "         [ 10.06772804]],\n",
       "\n",
       "        [[  7.78987312],\n",
       "         [  1.9427551 ],\n",
       "         [  1.12500751],\n",
       "         ...,\n",
       "         [ -4.09685278],\n",
       "         [ -0.2537449 ],\n",
       "         [ 10.06615829]],\n",
       "\n",
       "        [[  9.49413872],\n",
       "         [  3.17877674],\n",
       "         [  0.88871896],\n",
       "         ...,\n",
       "         [ -1.56858706],\n",
       "         [  1.65985727],\n",
       "         [ 11.23039818]],\n",
       "\n",
       "        ...,\n",
       "\n",
       "        [[  1.39937258],\n",
       "         [ -0.89466304],\n",
       "         [ -0.87535387],\n",
       "         ...,\n",
       "         [ -1.879228  ],\n",
       "         [  1.1248163 ],\n",
       "         [ 11.80609322]],\n",
       "\n",
       "        [[ -6.12129068],\n",
       "         [-12.81042862],\n",
       "         [ -9.9220171 ],\n",
       "         ...,\n",
       "         [ -3.50849438],\n",
       "         [  2.47708893],\n",
       "         [ 12.98461628]],\n",
       "\n",
       "        [[ -1.85709   ],\n",
       "         [ -1.13775074],\n",
       "         [  1.18251276],\n",
       "         ...,\n",
       "         [  2.6194973 ],\n",
       "         [  5.75357866],\n",
       "         [ 10.4064436 ]]]])"
      ]
     },
     "execution_count": 8,
     "metadata": {},
     "output_type": "execute_result"
    }
   ],
   "source": [
    "X_train[:2]"
   ]
  },
  {
   "cell_type": "code",
   "execution_count": 9,
   "metadata": {},
   "outputs": [
    {
     "data": {
      "text/plain": [
       "array([[[[-43.6853981 ],\n",
       "         [-49.84642792],\n",
       "         [-42.8303833 ],\n",
       "         ...,\n",
       "         [-31.06373405],\n",
       "         [-28.10698128],\n",
       "         [-27.32731438]],\n",
       "\n",
       "        [[ -1.35212481],\n",
       "         [ -7.82445431],\n",
       "         [ -0.83776265],\n",
       "         ...,\n",
       "         [ -5.16151333],\n",
       "         [ -0.52796578],\n",
       "         [  0.42776355]],\n",
       "\n",
       "        [[ -7.07759523],\n",
       "         [-13.66497612],\n",
       "         [ -6.8888979 ],\n",
       "         ...,\n",
       "         [-12.12047195],\n",
       "         [ -9.29841518],\n",
       "         [ -7.64439344]],\n",
       "\n",
       "        ...,\n",
       "\n",
       "        [[ -1.41719162],\n",
       "         [ -8.32554913],\n",
       "         [ -0.87606043],\n",
       "         ...,\n",
       "         [ -7.44441748],\n",
       "         [ -7.2287488 ],\n",
       "         [ -5.33666945]],\n",
       "\n",
       "        [[-76.46214294],\n",
       "         [-83.27526093],\n",
       "         [-76.93689728],\n",
       "         ...,\n",
       "         [-19.95397949],\n",
       "         [-19.38440323],\n",
       "         [-19.66468811]],\n",
       "\n",
       "        [[ -2.16663432],\n",
       "         [-10.39913177],\n",
       "         [ -2.16957879],\n",
       "         ...,\n",
       "         [ -8.38955307],\n",
       "         [ -8.60554028],\n",
       "         [ -1.97400618]]],\n",
       "\n",
       "\n",
       "       [[[-54.24480438],\n",
       "         [-55.76259613],\n",
       "         [-56.89716721],\n",
       "         ...,\n",
       "         [-16.79919052],\n",
       "         [-16.91117477],\n",
       "         [-16.76407051]],\n",
       "\n",
       "        [[-12.63129616],\n",
       "         [-12.89976692],\n",
       "         [-12.67405033],\n",
       "         ...,\n",
       "         [ -9.00664425],\n",
       "         [ -9.59034348],\n",
       "         [ -9.60505772]],\n",
       "\n",
       "        [[-22.35799789],\n",
       "         [-23.78342438],\n",
       "         [-23.35025978],\n",
       "         ...,\n",
       "         [-10.64000797],\n",
       "         [-12.04390812],\n",
       "         [-11.9746933 ]],\n",
       "\n",
       "        ...,\n",
       "\n",
       "        [[ -2.06412339],\n",
       "         [ -5.4450717 ],\n",
       "         [ -6.98235655],\n",
       "         ...,\n",
       "         [  3.18147063],\n",
       "         [  0.14948435],\n",
       "         [  0.2379002 ]],\n",
       "\n",
       "        [[-61.8571434 ],\n",
       "         [-66.57529449],\n",
       "         [-66.42589569],\n",
       "         ...,\n",
       "         [ -0.29729298],\n",
       "         [  0.87306768],\n",
       "         [ -1.55782568]],\n",
       "\n",
       "        [[ -5.90384912],\n",
       "         [-11.75942421],\n",
       "         [ -8.96345806],\n",
       "         ...,\n",
       "         [  1.10633934],\n",
       "         [ -1.91123796],\n",
       "         [ -2.66354895]]]])"
      ]
     },
     "execution_count": 9,
     "metadata": {},
     "output_type": "execute_result"
    }
   ],
   "source": [
    "X_dev[:2]"
   ]
  },
  {
   "cell_type": "code",
   "execution_count": 10,
   "metadata": {},
   "outputs": [
    {
     "data": {
      "text/plain": [
       "array([[1., 0.],\n",
       "       [1., 0.]])"
      ]
     },
     "execution_count": 10,
     "metadata": {},
     "output_type": "execute_result"
    }
   ],
   "source": [
    "y_train[:2]"
   ]
  },
  {
   "cell_type": "code",
   "execution_count": 11,
   "metadata": {},
   "outputs": [
    {
     "data": {
      "text/plain": [
       "array([0., 1.])"
      ]
     },
     "execution_count": 11,
     "metadata": {},
     "output_type": "execute_result"
    }
   ],
   "source": [
    "y_train[-20]"
   ]
  },
  {
   "cell_type": "code",
   "execution_count": 12,
   "metadata": {},
   "outputs": [
    {
     "data": {
      "text/plain": [
       "array([[1., 0.],\n",
       "       [1., 0.]])"
      ]
     },
     "execution_count": 12,
     "metadata": {},
     "output_type": "execute_result"
    }
   ],
   "source": [
    "y_dev[:2]"
   ]
  },
  {
   "cell_type": "code",
   "execution_count": 13,
   "metadata": {},
   "outputs": [
    {
     "data": {
      "text/plain": [
       "(31, 300, 1)"
      ]
     },
     "execution_count": 13,
     "metadata": {},
     "output_type": "execute_result"
    }
   ],
   "source": [
    "X_dev[0].shape"
   ]
  },
  {
   "cell_type": "code",
   "execution_count": 14,
   "metadata": {},
   "outputs": [
    {
     "data": {
      "text/plain": [
       "(98, 31, 300, 1)"
      ]
     },
     "execution_count": 14,
     "metadata": {},
     "output_type": "execute_result"
    }
   ],
   "source": [
    "X_dev.shape"
   ]
  },
  {
   "cell_type": "code",
   "execution_count": 15,
   "metadata": {},
   "outputs": [
    {
     "data": {
      "text/plain": [
       "(392, 31, 300, 1)"
      ]
     },
     "execution_count": 15,
     "metadata": {},
     "output_type": "execute_result"
    }
   ],
   "source": [
    "X_train.shape"
   ]
  },
  {
   "cell_type": "code",
   "execution_count": 16,
   "metadata": {},
   "outputs": [
    {
     "data": {
      "text/plain": [
       "2"
      ]
     },
     "execution_count": 16,
     "metadata": {},
     "output_type": "execute_result"
    }
   ],
   "source": [
    "y_train.shape[1]"
   ]
  },
  {
   "cell_type": "markdown",
   "metadata": {},
   "source": [
    "### 4 - Set hyperparameters"
   ]
  },
  {
   "cell_type": "code",
   "execution_count": 17,
   "metadata": {},
   "outputs": [],
   "source": [
    "# Tensorboard\n",
    "from time import time\n",
    "from keras.callbacks import TensorBoard\n",
    "tensorboard = TensorBoard(log_dir='logs/{}'.format(time()))"
   ]
  },
  {
   "cell_type": "code",
   "execution_count": 18,
   "metadata": {},
   "outputs": [
    {
     "data": {
      "text/plain": [
       "'\\nn_epochs = 100 #2000\\n#learning_rate = 0.001\\nbatch_size = 32 #250 \\nn_neurons_per_hlayer = [500, 250, 75, 25] # Number of units per layer, 4 hidden layers\\nrate_dropout = [0.8, 0.4, 0.2, 0.1]\\nweight_decay = 1e-4\\n'"
      ]
     },
     "execution_count": 18,
     "metadata": {},
     "output_type": "execute_result"
    }
   ],
   "source": [
    "\"\"\"\n",
    "n_epochs = 100 #2000\n",
    "#learning_rate = 0.001\n",
    "batch_size = 32 #250 \n",
    "n_neurons_per_hlayer = [500, 250, 75, 25] # Number of units per layer, 4 hidden layers\n",
    "rate_dropout = [0.8, 0.4, 0.2, 0.1]\n",
    "weight_decay = 1e-4\n",
    "\"\"\""
   ]
  },
  {
   "cell_type": "markdown",
   "metadata": {},
   "source": [
    "### 5 - Build the model: "
   ]
  },
  {
   "cell_type": "code",
   "execution_count": 19,
   "metadata": {},
   "outputs": [
    {
     "name": "stdout",
     "output_type": "stream",
     "text": [
      "Model: \"sequential\"\n",
      "_________________________________________________________________\n",
      "Layer (type)                 Output Shape              Param #   \n",
      "=================================================================\n",
      "conv2d (Conv2D)              (None, 31, 300, 40)       1040      \n",
      "_________________________________________________________________\n",
      "conv2d_1 (Conv2D)            (None, 31, 300, 40)       49640     \n",
      "_________________________________________________________________\n",
      "max_pooling2d (MaxPooling2D) (None, 15, 150, 40)       0         \n",
      "_________________________________________________________________\n",
      "dropout (Dropout)            (None, 15, 150, 40)       0         \n",
      "_________________________________________________________________\n",
      "conv2d_2 (Conv2D)            (None, 15, 150, 80)       28880     \n",
      "_________________________________________________________________\n",
      "conv2d_3 (Conv2D)            (None, 15, 150, 80)       57680     \n",
      "_________________________________________________________________\n",
      "max_pooling2d_1 (MaxPooling2 (None, 7, 75, 80)         0         \n",
      "_________________________________________________________________\n",
      "dropout_1 (Dropout)          (None, 7, 75, 80)         0         \n",
      "_________________________________________________________________\n",
      "conv2d_4 (Conv2D)            (None, 7, 75, 100)        72100     \n",
      "_________________________________________________________________\n",
      "conv2d_5 (Conv2D)            (None, 7, 75, 100)        90100     \n",
      "_________________________________________________________________\n",
      "max_pooling2d_2 (MaxPooling2 (None, 3, 37, 100)        0         \n",
      "_________________________________________________________________\n",
      "dropout_2 (Dropout)          (None, 3, 37, 100)        0         \n",
      "_________________________________________________________________\n",
      "conv2d_6 (Conv2D)            (None, 3, 37, 150)        135150    \n",
      "_________________________________________________________________\n",
      "conv2d_7 (Conv2D)            (None, 3, 37, 150)        202650    \n",
      "_________________________________________________________________\n",
      "max_pooling2d_3 (MaxPooling2 (None, 1, 18, 150)        0         \n",
      "_________________________________________________________________\n",
      "dropout_3 (Dropout)          (None, 1, 18, 150)        0         \n",
      "_________________________________________________________________\n",
      "flatten (Flatten)            (None, 2700)              0         \n",
      "_________________________________________________________________\n",
      "dense (Dense)                (None, 2)                 5402      \n",
      "=================================================================\n",
      "Total params: 642,642\n",
      "Trainable params: 642,642\n",
      "Non-trainable params: 0\n",
      "_________________________________________________________________\n"
     ]
    }
   ],
   "source": [
    "from keras.models import Sequential\n",
    "from keras.layers import Dense, Dropout, Activation, Flatten, DepthwiseConv2D\n",
    "from keras.layers.convolutional import Conv2D, MaxPooling2D\n",
    "from keras import optimizers, regularizers\n",
    "import keras.backend as K\n",
    "#K.set_image_data_format('channels_first')\n",
    "\n",
    "weight_decay = 1e-4\n",
    "\n",
    "model = Sequential()\n",
    "# Convolution2D(filtrosConv1, tamaño_filtro1, padding=\"same\", input_shape=(longitud, altura,3), activation = \"relu\")\n",
    "    # - filtrosConv1 número de filtros que aplicaremos tras la primera convolución, normalmente este tamaño va a aumentando\n",
    "    # tras convoluciones para que aumente la dimensión de profundidad (qué cosas hay en mi imagen)\n",
    "    # - tamaño_filtro1 tamaño espacial del kernel (de los filtros)\n",
    "    # - padding = si es same es que es igual que la imagen, vamos crea una imagen del mismo tamaño con el filtro, si es \n",
    "    # valid es que no hay padding y crea una imagen más pequeña que la imagen (creo)\n",
    "    # - input_shape = longitud y altura, tamaño que usará para convolucionar al entrenar\n",
    "    \n",
    "# CAPA PARA FILTRADO TEMPORAL\n",
    "model.add(Conv2D(filters = 40, kernel_size=(1,25), padding=\"same\", activation=\"relu\",input_shape=(31, 300,1 ), kernel_initializer=\"he_normal\", kernel_regularizer=regularizers.l2(weight_decay)))\n",
    "# CAPA PARA FILTRADO ESPACIAL\n",
    "model.add(Conv2D(filters = 40, kernel_size=(31,1), padding=\"same\", activation=\"relu\", kernel_initializer=\"he_normal\", kernel_regularizer=regularizers.l2(weight_decay)))\n",
    "model.add(MaxPooling2D(pool_size=(2, 2)))\n",
    "\n",
    "model.add(Dropout(0.5))\n",
    "\n",
    "## Siguientes capas convolucionales: \n",
    "model.add(Conv2D(80, (3,3), padding='same',activation='relu', kernel_initializer=\"he_normal\",kernel_regularizer=regularizers.l2(weight_decay)))\n",
    "model.add(Conv2D(80, (3,3), padding='same',activation='relu', kernel_initializer=\"he_normal\",kernel_regularizer=regularizers.l2(weight_decay)))\n",
    "model.add(MaxPooling2D(pool_size=(2,2)))\n",
    "model.add(Dropout(0.4))\n",
    "\n",
    "model.add(Conv2D(100, (3,3), padding='same',activation='relu', kernel_initializer=\"he_normal\",kernel_regularizer=regularizers.l2(weight_decay)))\n",
    "model.add(Conv2D(100, (3,3), padding='same',activation='relu', kernel_initializer=\"he_normal\",kernel_regularizer=regularizers.l2(weight_decay)))\n",
    "model.add(MaxPooling2D(pool_size=(2,2)))\n",
    "model.add(Dropout(0.3))\n",
    "\n",
    "\n",
    "model.add(Conv2D(150, (3,3), padding='same',activation='relu', kernel_initializer=\"he_normal\",kernel_regularizer=regularizers.l2(weight_decay)))\n",
    "model.add(Conv2D(150, (3,3), padding='same',activation='relu', kernel_initializer=\"he_normal\",kernel_regularizer=regularizers.l2(weight_decay)))\n",
    "model.add(MaxPooling2D(pool_size=(2,2)))\n",
    "model.add(Dropout(0.1))\n",
    "\n",
    "\"\"\"\n",
    "model.add(Conv2D(160, (3,3), padding='same',activation='relu', kernel_initializer=\"he_normal\",kernel_regularizer=regularizers.l2(weight_decay)))\n",
    "model.add(MaxPooling2D(pool_size=(2,2)))\n",
    "\"\"\"\n",
    "\n",
    "\n",
    "\"\"\"\n",
    "model.add(MaxPooling2D(pool_size=(2, 2)))\n",
    "model.add(Dropout(0.5))\n",
    "\n",
    "\n",
    "model.add(Conv2D(96, (3, 3), padding='same',activation='relu', kernel_initializer=\"he_normal\",kernel_regularizer=regularizers.l2(weight_decay)))\n",
    "#model.add(Conv2D(96, (3, 3), padding='same',activation='relu', kernel_initializer=\"he_normal\", kernel_regularizer=regularizers.l2(weight_decay)))\n",
    "model.add(MaxPooling2D(pool_size=(2, 2)))\n",
    "model.add(Dropout(0.2))\n",
    "\n",
    "model.add(Conv2D(192, (3, 3), padding='same',activation='relu', kernel_initializer=\"he_normal\", kernel_regularizer=regularizers.l2(weight_decay)))\n",
    "#model.add(Conv2D(192, (3, 3), padding='same',activation='relu', kernel_initializer=\"he_normal\", kernel_regularizer=regularizers.l2(weight_decay)))\n",
    "model.add(MaxPooling2D(pool_size=(2, 2)))\n",
    "model.add(Dropout(0.1))\n",
    "\"\"\"\n",
    "\n",
    "model.add(Flatten())\n",
    "model.add(Dense(y_train.shape[1], activation=\"softmax\"))\n",
    "\n",
    "opt = optimizers.Adam(lr=0.001, beta_1=0.9, beta_2=0.999) \n",
    "model.compile(optimizer=opt, loss='categorical_crossentropy', metrics=['accuracy'])\n",
    "model.summary()"
   ]
  },
  {
   "cell_type": "code",
   "execution_count": 20,
   "metadata": {},
   "outputs": [
    {
     "data": {
      "text/plain": [
       "[<tensorflow.python.keras.layers.convolutional.Conv2D at 0x22c452c01c0>,\n",
       " <tensorflow.python.keras.layers.convolutional.Conv2D at 0x22c44461ee0>,\n",
       " <tensorflow.python.keras.layers.pooling.MaxPooling2D at 0x22c444617c0>,\n",
       " <tensorflow.python.keras.layers.core.Dropout at 0x22c44519d00>,\n",
       " <tensorflow.python.keras.layers.convolutional.Conv2D at 0x22c4451ef40>,\n",
       " <tensorflow.python.keras.layers.convolutional.Conv2D at 0x22c4451eaf0>,\n",
       " <tensorflow.python.keras.layers.pooling.MaxPooling2D at 0x22c44f05d00>,\n",
       " <tensorflow.python.keras.layers.core.Dropout at 0x22c44f23430>,\n",
       " <tensorflow.python.keras.layers.convolutional.Conv2D at 0x22c44f309a0>,\n",
       " <tensorflow.python.keras.layers.convolutional.Conv2D at 0x22c44f367c0>,\n",
       " <tensorflow.python.keras.layers.pooling.MaxPooling2D at 0x22c44f30ee0>,\n",
       " <tensorflow.python.keras.layers.core.Dropout at 0x22c44f36dc0>,\n",
       " <tensorflow.python.keras.layers.convolutional.Conv2D at 0x22c44fb42e0>,\n",
       " <tensorflow.python.keras.layers.convolutional.Conv2D at 0x22c44f2b820>,\n",
       " <tensorflow.python.keras.layers.pooling.MaxPooling2D at 0x22c44f2b700>,\n",
       " <tensorflow.python.keras.layers.core.Dropout at 0x22c44fc2b80>,\n",
       " <tensorflow.python.keras.layers.core.Flatten at 0x22c44fc9fa0>,\n",
       " <tensorflow.python.keras.layers.core.Dense at 0x22c44fd1910>]"
      ]
     },
     "execution_count": 20,
     "metadata": {},
     "output_type": "execute_result"
    }
   ],
   "source": [
    "model.layers"
   ]
  },
  {
   "cell_type": "code",
   "execution_count": 21,
   "metadata": {},
   "outputs": [
    {
     "name": "stdout",
     "output_type": "stream",
     "text": [
      "conv2d\n",
      "conv2d_1\n",
      "max_pooling2d\n",
      "dropout\n",
      "conv2d_2\n",
      "conv2d_3\n",
      "max_pooling2d_1\n",
      "dropout_1\n",
      "conv2d_4\n",
      "conv2d_5\n",
      "max_pooling2d_2\n",
      "dropout_2\n",
      "conv2d_6\n",
      "conv2d_7\n",
      "max_pooling2d_3\n",
      "dropout_3\n",
      "flatten\n",
      "dense\n"
     ]
    }
   ],
   "source": [
    "for l in model.layers: print (l.name)"
   ]
  },
  {
   "cell_type": "markdown",
   "metadata": {},
   "source": [
    "All the parameters of a layer can bee accessed:"
   ]
  },
  {
   "cell_type": "code",
   "execution_count": 22,
   "metadata": {},
   "outputs": [
    {
     "data": {
      "text/plain": [
       "(1, 25, 1, 40)"
      ]
     },
     "execution_count": 22,
     "metadata": {},
     "output_type": "execute_result"
    }
   ],
   "source": [
    "weights, biases = model.layers[0].get_weights()\n",
    "weights.shape"
   ]
  },
  {
   "cell_type": "code",
   "execution_count": 23,
   "metadata": {},
   "outputs": [
    {
     "data": {
      "text/plain": [
       "array([[[[ 0.54360723,  0.01455329,  0.20543228,  0.05131914,\n",
       "          -0.17669328, -0.10024559,  0.40344775, -0.05778152,\n",
       "           0.29504082, -0.09357794, -0.5036238 ,  0.03518886,\n",
       "          -0.09971867, -0.1889771 , -0.20177726, -0.16861798,\n",
       "          -0.21320727, -0.34920725, -0.145065  ,  0.34249938,\n",
       "          -0.5431187 ,  0.06610942,  0.19845489, -0.17784998,\n",
       "          -0.59339553,  0.11573719,  0.09990394,  0.22191532,\n",
       "           0.5684784 , -0.0612372 ,  0.61466306, -0.2265022 ,\n",
       "           0.41736498,  0.31033534,  0.02848957,  0.05010718,\n",
       "          -0.02480863,  0.25359407, -0.24276055,  0.01113427]],\n",
       "\n",
       "        [[-0.5550318 , -0.1786187 ,  0.3701565 , -0.3531097 ,\n",
       "          -0.32097983,  0.17953895, -0.04537259, -0.29330814,\n",
       "          -0.26517576, -0.27635399,  0.34715232,  0.0462785 ,\n",
       "          -0.26291543, -0.05233313, -0.24818282,  0.35603207,\n",
       "          -0.06527214, -0.1248237 , -0.03837805, -0.3572114 ,\n",
       "          -0.08218262, -0.02527419, -0.1785723 , -0.1499148 ,\n",
       "           0.0093767 , -0.22557865,  0.27108747, -0.20999646,\n",
       "          -0.31638804, -0.10893759,  0.05235415, -0.03264835,\n",
       "          -0.0796775 , -0.35558733, -0.3537859 , -0.30384842,\n",
       "           0.46583265, -0.25470933, -0.21312067, -0.5380794 ]],\n",
       "\n",
       "        [[ 0.50795513, -0.16489223,  0.23892821, -0.19336452,\n",
       "           0.20712541,  0.22836486,  0.05997735, -0.0281618 ,\n",
       "          -0.30742007, -0.41212505,  0.01636542, -0.07843927,\n",
       "           0.05379615, -0.35051236, -0.02766771, -0.15019675,\n",
       "           0.1310186 ,  0.13983576,  0.2946171 ,  0.13724619,\n",
       "          -0.01787152,  0.05946277,  0.17606564, -0.23118596,\n",
       "          -0.48818976, -0.39711988,  0.06212131, -0.4159435 ,\n",
       "          -0.00883728,  0.26957175, -0.31602967, -0.35822678,\n",
       "          -0.07384346,  0.03590972, -0.22688645,  0.10351468,\n",
       "          -0.09689359, -0.3125627 ,  0.24349424, -0.11024322]],\n",
       "\n",
       "        [[ 0.2107854 ,  0.00680024, -0.0356681 ,  0.47848275,\n",
       "          -0.2200646 ,  0.0159799 ,  0.48345324,  0.64146066,\n",
       "          -0.5634726 , -0.4149182 , -0.03478144,  0.18856926,\n",
       "          -0.09209658,  0.07346854, -0.24453081, -0.4432106 ,\n",
       "          -0.25272545, -0.22961585, -0.12164628, -0.01311937,\n",
       "          -0.263282  ,  0.11514977, -0.3381253 , -0.22053552,\n",
       "           0.04649897,  0.05236695, -0.26725128, -0.11360281,\n",
       "          -0.31844684,  0.1561308 ,  0.5881212 ,  0.24384312,\n",
       "           0.15290137,  0.23481534,  0.40117425, -0.298088  ,\n",
       "          -0.5718161 ,  0.54631233,  0.40343088,  0.0604846 ]],\n",
       "\n",
       "        [[ 0.17419596, -0.12361959,  0.21319662, -0.29796258,\n",
       "          -0.12158833, -0.24265194,  0.16135196,  0.01020914,\n",
       "           0.5878058 ,  0.05316393,  0.03784442,  0.05535867,\n",
       "           0.03592991,  0.18539086,  0.22536965,  0.27776635,\n",
       "          -0.2697603 , -0.32223248,  0.24554205, -0.01023341,\n",
       "          -0.14703001,  0.42473456,  0.60882825, -0.13571186,\n",
       "          -0.08430547,  0.22433226,  0.3167084 ,  0.0853724 ,\n",
       "           0.03551936,  0.36642084,  0.22929686, -0.29390123,\n",
       "          -0.5415057 ,  0.170464  , -0.31988564, -0.06544954,\n",
       "          -0.12609425,  0.4555183 , -0.02756309,  0.15038352]],\n",
       "\n",
       "        [[ 0.22919707, -0.45470074, -0.3384242 , -0.5331085 ,\n",
       "           0.2980247 , -0.19704239,  0.44249877,  0.35273817,\n",
       "          -0.42674118,  0.1370331 ,  0.08887218,  0.4354223 ,\n",
       "           0.34245303,  0.02587085,  0.11624463, -0.00421885,\n",
       "           0.36673033, -0.33510235, -0.15984401, -0.45003846,\n",
       "           0.01643482, -0.15231414, -0.32455525, -0.10361869,\n",
       "          -0.10631115, -0.07508474, -0.2574235 , -0.04529945,\n",
       "          -0.19535144, -0.32032123, -0.1058394 ,  0.44926843,\n",
       "           0.16275355,  0.36829436, -0.2675055 ,  0.01990663,\n",
       "          -0.61825836,  0.5691301 ,  0.44852006,  0.17556031]],\n",
       "\n",
       "        [[-0.08273819,  0.2656161 , -0.3387994 ,  0.26316544,\n",
       "          -0.44472986,  0.05474083, -0.17519657,  0.2581647 ,\n",
       "           0.16284393, -0.31398124, -0.2639515 , -0.58986086,\n",
       "           0.2493225 , -0.38423577, -0.08027088, -0.20804529,\n",
       "           0.21517123, -0.12437006,  0.15152629,  0.19366007,\n",
       "          -0.25583625, -0.5412202 ,  0.02395465,  0.02826833,\n",
       "          -0.01624185, -0.42000535, -0.2941705 ,  0.44782332,\n",
       "           0.19943549, -0.13581094,  0.03237035, -0.04484539,\n",
       "          -0.29680258, -0.1700704 ,  0.17948356,  0.3693548 ,\n",
       "           0.594705  ,  0.06727935,  0.15845582, -0.0219401 ]],\n",
       "\n",
       "        [[ 0.20219368,  0.26544598,  0.06716485, -0.19478601,\n",
       "          -0.15360238, -0.3958452 , -0.2714232 ,  0.14779489,\n",
       "           0.45733064, -0.2050095 ,  0.34035325, -0.10304353,\n",
       "           0.14491832, -0.25592563, -0.5753783 , -0.05465448,\n",
       "           0.07216326,  0.08425186,  0.20043348, -0.09850039,\n",
       "          -0.34138492, -0.4537982 , -0.24029379, -0.21025306,\n",
       "          -0.01029949,  0.52896386,  0.12041441, -0.47745192,\n",
       "          -0.4091144 ,  0.21840687, -0.371693  , -0.19726637,\n",
       "           0.37491947,  0.3197769 , -0.30492663, -0.16707376,\n",
       "           0.09791291, -0.487736  , -0.35515887, -0.4386189 ]],\n",
       "\n",
       "        [[ 0.402805  ,  0.06972981,  0.45265803,  0.27475116,\n",
       "          -0.08158187,  0.3159853 ,  0.03723541,  0.30158806,\n",
       "           0.2878019 ,  0.12384237, -0.12780032,  0.3540144 ,\n",
       "           0.12208901, -0.04202225, -0.28427553, -0.10225596,\n",
       "          -0.3211814 ,  0.06752548,  0.28435233, -0.5165864 ,\n",
       "          -0.424602  , -0.12590511, -0.21135099,  0.32547006,\n",
       "          -0.54231036, -0.3237566 ,  0.1313995 ,  0.22817464,\n",
       "           0.07901067,  0.01511852, -0.36688626,  0.02097212,\n",
       "           0.2824332 ,  0.09756506, -0.11644889, -0.14316979,\n",
       "           0.33282843, -0.4833528 ,  0.05079953,  0.02809883]],\n",
       "\n",
       "        [[-0.14708906,  0.1556639 , -0.15287764, -0.26617527,\n",
       "          -0.23093076,  0.31471103, -0.17505237, -0.04987318,\n",
       "           0.34933385,  0.21699929, -0.2963581 , -0.4611329 ,\n",
       "           0.2343158 , -0.05133593,  0.08820218,  0.47999385,\n",
       "          -0.10195632, -0.60056984,  0.2820319 ,  0.00296051,\n",
       "           0.44381586,  0.00167677, -0.03015064,  0.17785616,\n",
       "           0.21859308, -0.08909019, -0.1676403 ,  0.10213634,\n",
       "           0.29225242, -0.05247192,  0.03965102,  0.42178425,\n",
       "          -0.13630122,  0.0742297 ,  0.1763388 , -0.10081847,\n",
       "          -0.29532012, -0.4663491 , -0.13959533,  0.3924737 ]],\n",
       "\n",
       "        [[ 0.0627877 , -0.35658807, -0.0331753 ,  0.1608219 ,\n",
       "          -0.25952315,  0.51314306, -0.1453257 ,  0.18593644,\n",
       "          -0.14238307, -0.05847986,  0.17748322, -0.04610962,\n",
       "          -0.04838596,  0.09307911, -0.28081056, -0.3594883 ,\n",
       "           0.19490363,  0.3889908 ,  0.32282454, -0.33145496,\n",
       "           0.10968401, -0.00505461, -0.09027997,  0.20415032,\n",
       "           0.17258099, -0.43526626, -0.01209088, -0.07145345,\n",
       "          -0.030939  ,  0.0355911 , -0.25215542,  0.3633618 ,\n",
       "           0.5248924 , -0.20954403,  0.38429108, -0.1113971 ,\n",
       "           0.02221546,  0.3768069 , -0.05831306, -0.2252219 ]],\n",
       "\n",
       "        [[ 0.299999  ,  0.15862471, -0.5949319 , -0.31054664,\n",
       "           0.00454841,  0.50288755,  0.06722292,  0.20813769,\n",
       "           0.16468738,  0.14718701,  0.21824951, -0.17501022,\n",
       "          -0.11180069, -0.04367986, -0.39099503,  0.23590878,\n",
       "          -0.03526746,  0.05040917, -0.06800316, -0.05432039,\n",
       "           0.13010295, -0.46822122, -0.02286473, -0.6094636 ,\n",
       "           0.28336436,  0.00676315, -0.10528012, -0.0030114 ,\n",
       "          -0.36091343,  0.0918497 ,  0.39950043,  0.15913424,\n",
       "           0.19291268, -0.18060882,  0.07834733, -0.1319879 ,\n",
       "           0.01449194,  0.36630437,  0.00084494,  0.2598627 ]],\n",
       "\n",
       "        [[-0.12407982, -0.06688952, -0.11978269,  0.31637326,\n",
       "           0.11421689,  0.05707353,  0.60216373,  0.10413595,\n",
       "           0.22080068,  0.09429579, -0.4520321 ,  0.23352814,\n",
       "           0.18193194, -0.13889521,  0.4636116 , -0.63603026,\n",
       "           0.08805662, -0.38103205, -0.30614474,  0.08811994,\n",
       "          -0.03295116, -0.5087222 , -0.03321788, -0.06121576,\n",
       "          -0.15084912,  0.1933007 , -0.269417  ,  0.5061244 ,\n",
       "          -0.30216634, -0.31323344,  0.07398569, -0.02181945,\n",
       "           0.2223493 ,  0.23468807,  0.18081076,  0.10405101,\n",
       "          -0.05067497, -0.2634702 , -0.37037176, -0.08791411]],\n",
       "\n",
       "        [[-0.51152456, -0.18962836,  0.17960553,  0.5329019 ,\n",
       "          -0.37757125,  0.01604257,  0.11839624, -0.17160352,\n",
       "           0.0839248 ,  0.13508444, -0.12471318, -0.17966375,\n",
       "          -0.37959895,  0.1483363 ,  0.39534274, -0.2974015 ,\n",
       "          -0.17644455,  0.33213508,  0.10799792, -0.00644989,\n",
       "           0.19454752,  0.12123474, -0.4884133 , -0.36374205,\n",
       "           0.10573674,  0.24100156,  0.27109304,  0.08947395,\n",
       "          -0.44239548, -0.32484055,  0.27903444, -0.06806487,\n",
       "          -0.3276449 , -0.5473349 , -0.18704316, -0.02558473,\n",
       "           0.39260787,  0.23780008, -0.33537626, -0.3251653 ]],\n",
       "\n",
       "        [[ 0.00402478, -0.31403565,  0.01841111,  0.1097125 ,\n",
       "          -0.01719599,  0.25718945,  0.10863108, -0.14825685,\n",
       "          -0.2647428 ,  0.03446569, -0.08585039,  0.3098939 ,\n",
       "          -0.40011722,  0.12300155, -0.07357973, -0.01502469,\n",
       "          -0.51107746, -0.00429142, -0.27174613, -0.1298579 ,\n",
       "          -0.3707222 , -0.5698064 , -0.01688297, -0.08525247,\n",
       "           0.2523286 ,  0.3194575 ,  0.18003869, -0.15127306,\n",
       "           0.33423164,  0.08087849,  0.2507667 , -0.14537121,\n",
       "           0.17987527,  0.05094501,  0.09975594,  0.22955114,\n",
       "           0.16745147, -0.17482848,  0.38897905, -0.12237381]],\n",
       "\n",
       "        [[ 0.19794787, -0.31038693,  0.3329247 , -0.23289195,\n",
       "           0.2651427 ,  0.22058338,  0.10836501, -0.2334287 ,\n",
       "           0.19760548, -0.2844888 ,  0.21558411,  0.19000188,\n",
       "          -0.06604449,  0.12749037,  0.11564987, -0.06843983,\n",
       "          -0.21114993,  0.17351912,  0.28391254, -0.61170566,\n",
       "          -0.11879904, -0.5828755 , -0.3852669 , -0.16277893,\n",
       "           0.45279878, -0.20437174, -0.21558788, -0.32402626,\n",
       "           0.15142637,  0.18077384,  0.04441962,  0.15371959,\n",
       "           0.25040784, -0.05370388, -0.07955766, -0.31139332,\n",
       "          -0.0259881 , -0.00989117,  0.29705492,  0.41567862]],\n",
       "\n",
       "        [[ 0.12962858, -0.6201207 , -0.05226938, -0.295261  ,\n",
       "           0.33598363, -0.12983076, -0.0141211 ,  0.23306848,\n",
       "           0.21760355, -0.16117747, -0.06597021,  0.63674843,\n",
       "          -0.01530615, -0.27193683,  0.14600736, -0.35616422,\n",
       "          -0.08025443,  0.09906253, -0.2724246 , -0.13161701,\n",
       "           0.10337808,  0.5260168 ,  0.2457393 , -0.17225257,\n",
       "          -0.2829143 ,  0.47270188,  0.22564274,  0.37104127,\n",
       "          -0.46999055,  0.38603327, -0.2555357 , -0.2983293 ,\n",
       "          -0.03807662,  0.27835855,  0.08935386, -0.39579403,\n",
       "           0.2703056 ,  0.45197597, -0.5418357 , -0.11907197]],\n",
       "\n",
       "        [[ 0.58124334, -0.01563969,  0.19658469, -0.07274696,\n",
       "           0.2196613 , -0.37340036, -0.27225325,  0.00596391,\n",
       "          -0.27828777, -0.37144724, -0.07232525,  0.15522672,\n",
       "          -0.08089269, -0.41705105, -0.07932452,  0.13176666,\n",
       "           0.07097125,  0.23318286,  0.24602017,  0.35914943,\n",
       "          -0.17493783, -0.3114406 ,  0.04872352,  0.16519727,\n",
       "          -0.39153868,  0.01684683,  0.57726353, -0.37496072,\n",
       "          -0.13565895, -0.5173773 , -0.15495737, -0.06905513,\n",
       "           0.07296738, -0.11973733, -0.3568996 , -0.11485243,\n",
       "           0.44736508,  0.23153874,  0.5157946 , -0.10747573]],\n",
       "\n",
       "        [[ 0.39166474, -0.08936555,  0.22895522, -0.21391799,\n",
       "          -0.23349494,  0.05332792,  0.48305294, -0.08087811,\n",
       "          -0.10052165, -0.44639197, -0.29345304,  0.09243865,\n",
       "          -0.08602523,  0.11846532,  0.1963977 ,  0.27568606,\n",
       "           0.21952553,  0.17457502, -0.05897208,  0.37291533,\n",
       "          -0.22000301,  0.01258864, -0.11032461,  0.07182425,\n",
       "           0.51639897, -0.49333456,  0.30511725, -0.1722188 ,\n",
       "          -0.36727145, -0.3346303 , -0.12391821,  0.41304678,\n",
       "          -0.04365472,  0.6316808 ,  0.03472956,  0.05854604,\n",
       "           0.24709995, -0.28847814, -0.20167522,  0.574578  ]],\n",
       "\n",
       "        [[-0.24783495,  0.5153982 ,  0.11029842,  0.05505991,\n",
       "           0.16094972, -0.12892063,  0.33969423,  0.333813  ,\n",
       "           0.23164849, -0.36824796, -0.24567932, -0.08991272,\n",
       "           0.11239008, -0.20242189,  0.25436136, -0.36865538,\n",
       "           0.41127896,  0.04407383,  0.02939047, -0.1483202 ,\n",
       "          -0.10156355,  0.322044  ,  0.08216624, -0.20090741,\n",
       "          -0.2441869 ,  0.20134822,  0.4765784 ,  0.19855593,\n",
       "          -0.09721299, -0.09683411, -0.14618881,  0.22563289,\n",
       "           0.03774745, -0.10309546, -0.11341   , -0.00377382,\n",
       "           0.10824844,  0.07188927, -0.07236127, -0.38647324]],\n",
       "\n",
       "        [[ 0.20501721,  0.04420952,  0.06010109, -0.1085061 ,\n",
       "           0.09492293, -0.16508707, -0.17074315, -0.22594567,\n",
       "          -0.38600752,  0.02141629, -0.07146992, -0.01637448,\n",
       "          -0.22825727, -0.10114204,  0.08305041,  0.3799502 ,\n",
       "           0.46333793,  0.23034061,  0.3691547 ,  0.1757486 ,\n",
       "           0.17075986,  0.24350533, -0.32603154,  0.07184746,\n",
       "          -0.50780594,  0.07254353,  0.19879892,  0.03339598,\n",
       "           0.09685378, -0.46223935, -0.5699536 , -0.15042059,\n",
       "           0.32932955, -0.34497786, -0.14270805,  0.03062241,\n",
       "           0.27128217,  0.39709982, -0.16831368,  0.03737533]],\n",
       "\n",
       "        [[-0.1193525 , -0.04188324, -0.23342562,  0.3307202 ,\n",
       "           0.11621397, -0.06598061,  0.18117754, -0.13719006,\n",
       "           0.02188787, -0.31973785,  0.1603537 , -0.2300628 ,\n",
       "           0.5260799 , -0.5347145 , -0.014093  ,  0.11397666,\n",
       "          -0.3289293 , -0.21743892, -0.1805811 ,  0.15043147,\n",
       "          -0.10582681,  0.20991854, -0.53125817,  0.22272463,\n",
       "          -0.4830077 , -0.39271435, -0.03560259, -0.31939688,\n",
       "           0.03598979,  0.05026674,  0.22330958,  0.41493097,\n",
       "          -0.17103171, -0.03248661,  0.49293938,  0.39141852,\n",
       "          -0.26432127,  0.2630422 , -0.21339174, -0.26666707]],\n",
       "\n",
       "        [[-0.01255771, -0.16660716,  0.5690159 , -0.0978483 ,\n",
       "          -0.3153774 , -0.20763846, -0.1102923 , -0.27643523,\n",
       "          -0.07269862,  0.070317  , -0.04225868, -0.15998441,\n",
       "           0.16635895, -0.04896552,  0.02738648, -0.19832407,\n",
       "          -0.04022228, -0.43326986, -0.48629093,  0.30688253,\n",
       "          -0.3825989 , -0.315831  , -0.1533261 ,  0.02086691,\n",
       "          -0.53966236,  0.24897417,  0.23679365,  0.21604818,\n",
       "           0.10550915,  0.3938508 , -0.36167672, -0.22861132,\n",
       "           0.14220786,  0.53232366,  0.0780574 ,  0.14934318,\n",
       "           0.10163146, -0.01210635,  0.17151165,  0.19676644]],\n",
       "\n",
       "        [[-0.04476615,  0.11077074, -0.23301692,  0.00234964,\n",
       "          -0.01187689,  0.14182174,  0.4651105 , -0.09153665,\n",
       "           0.32375783,  0.4202326 , -0.04402813, -0.17087367,\n",
       "          -0.11677863, -0.49239585,  0.38793445,  0.10889217,\n",
       "           0.00888111, -0.28787717, -0.04750138, -0.41762894,\n",
       "           0.20847747, -0.33633903, -0.07724699, -0.28055754,\n",
       "          -0.2985322 ,  0.27517536, -0.11472334, -0.11240515,\n",
       "           0.19195308,  0.11683205, -0.08269173, -0.07830648,\n",
       "           0.35559022,  0.29274023, -0.30275846, -0.07841665,\n",
       "          -0.06437983, -0.6035948 ,  0.37670472, -0.15764654]],\n",
       "\n",
       "        [[ 0.47022286,  0.11236475, -0.01185314,  0.22548623,\n",
       "           0.43200287, -0.36070526, -0.13882451, -0.13181436,\n",
       "           0.46381947, -0.29907277, -0.15972452,  0.1949248 ,\n",
       "          -0.15055256, -0.17102799, -0.24968143, -0.39428544,\n",
       "           0.22387652,  0.48210973,  0.07898203, -0.0179112 ,\n",
       "           0.20576772, -0.19349813,  0.08504011, -0.38483658,\n",
       "           0.0448184 , -0.39092496, -0.22527377,  0.00400144,\n",
       "           0.34567937,  0.0049247 ,  0.54777706,  0.2713547 ,\n",
       "           0.04550276, -0.30761647, -0.47712293,  0.14993927,\n",
       "          -0.3888225 ,  0.12109452, -0.00582025,  0.0222835 ]]]],\n",
       "      dtype=float32)"
      ]
     },
     "execution_count": 23,
     "metadata": {},
     "output_type": "execute_result"
    }
   ],
   "source": [
    "weights"
   ]
  },
  {
   "cell_type": "code",
   "execution_count": 24,
   "metadata": {},
   "outputs": [
    {
     "data": {
      "text/plain": [
       "array([0., 0., 0., 0., 0., 0., 0., 0., 0., 0., 0., 0., 0., 0., 0., 0., 0.,\n",
       "       0., 0., 0., 0., 0., 0., 0., 0., 0., 0., 0., 0., 0., 0., 0., 0., 0.,\n",
       "       0., 0., 0., 0., 0., 0.], dtype=float32)"
      ]
     },
     "execution_count": 24,
     "metadata": {},
     "output_type": "execute_result"
    }
   ],
   "source": [
    "biases # Bias de la primera capa: 500 bias inicializados a 0 "
   ]
  },
  {
   "cell_type": "code",
   "execution_count": 25,
   "metadata": {},
   "outputs": [
    {
     "data": {
      "text/plain": [
       "(40,)"
      ]
     },
     "execution_count": 25,
     "metadata": {},
     "output_type": "execute_result"
    }
   ],
   "source": [
    "biases.shape"
   ]
  },
  {
   "cell_type": "markdown",
   "metadata": {},
   "source": [
    "### 6. Compile the model"
   ]
  },
  {
   "cell_type": "markdown",
   "metadata": {},
   "source": [
    "### 7. Train the model with M-BGD"
   ]
  },
  {
   "cell_type": "code",
   "execution_count": 26,
   "metadata": {},
   "outputs": [
    {
     "name": "stdout",
     "output_type": "stream",
     "text": [
      "Epoch 1/100\n",
      "13/13 - 26s - loss: 43.7548 - accuracy: 0.4770 - val_loss: 1.8384 - val_accuracy: 0.5306\n",
      "Epoch 2/100\n",
      "13/13 - 24s - loss: 1.0968 - accuracy: 0.5179 - val_loss: 0.8836 - val_accuracy: 0.4592\n",
      "Epoch 3/100\n",
      "13/13 - 24s - loss: 0.9154 - accuracy: 0.4974 - val_loss: 0.8376 - val_accuracy: 0.5102\n",
      "Epoch 4/100\n",
      "13/13 - 23s - loss: 0.8673 - accuracy: 0.4719 - val_loss: 0.8528 - val_accuracy: 0.5306\n",
      "Epoch 5/100\n",
      "13/13 - 23s - loss: 0.8502 - accuracy: 0.5051 - val_loss: 0.8522 - val_accuracy: 0.5306\n",
      "Epoch 6/100\n",
      "13/13 - 24s - loss: 0.8386 - accuracy: 0.5281 - val_loss: 0.8535 - val_accuracy: 0.5306\n",
      "Epoch 7/100\n",
      "13/13 - 26s - loss: 0.8457 - accuracy: 0.5332 - val_loss: 0.8543 - val_accuracy: 0.5306\n",
      "Epoch 8/100\n",
      "13/13 - 33s - loss: 0.8352 - accuracy: 0.5204 - val_loss: 0.8536 - val_accuracy: 0.5306\n",
      "Epoch 9/100\n",
      "13/13 - 21s - loss: 0.8387 - accuracy: 0.5383 - val_loss: 0.8563 - val_accuracy: 0.5204\n",
      "Epoch 10/100\n",
      "13/13 - 21s - loss: 0.8380 - accuracy: 0.5485 - val_loss: 0.8643 - val_accuracy: 0.5306\n",
      "Epoch 11/100\n",
      "13/13 - 22s - loss: 0.8485 - accuracy: 0.5383 - val_loss: 0.8675 - val_accuracy: 0.5204\n",
      "Epoch 12/100\n",
      "13/13 - 21s - loss: 0.8510 - accuracy: 0.5408 - val_loss: 0.8539 - val_accuracy: 0.5306\n",
      "Epoch 13/100\n",
      "13/13 - 23s - loss: 0.8472 - accuracy: 0.5230 - val_loss: 0.8641 - val_accuracy: 0.5306\n",
      "Epoch 14/100\n",
      "13/13 - 24s - loss: 0.8323 - accuracy: 0.5255 - val_loss: 0.8595 - val_accuracy: 0.5306\n",
      "Epoch 15/100\n",
      "13/13 - 27s - loss: 0.8505 - accuracy: 0.5204 - val_loss: 0.8565 - val_accuracy: 0.5102\n",
      "Epoch 16/100\n",
      "13/13 - 35s - loss: 0.8446 - accuracy: 0.5204 - val_loss: 0.8464 - val_accuracy: 0.5000\n",
      "Epoch 17/100\n",
      "13/13 - 29s - loss: 0.8453 - accuracy: 0.5128 - val_loss: 0.8476 - val_accuracy: 0.5204\n",
      "Epoch 18/100\n",
      "13/13 - 22s - loss: 0.8324 - accuracy: 0.5485 - val_loss: 0.8477 - val_accuracy: 0.5306\n",
      "Epoch 19/100\n",
      "13/13 - 24s - loss: 0.8372 - accuracy: 0.5408 - val_loss: 0.8506 - val_accuracy: 0.5306\n",
      "Epoch 20/100\n",
      "13/13 - 23s - loss: 0.8334 - accuracy: 0.5306 - val_loss: 0.8381 - val_accuracy: 0.5306\n",
      "Epoch 21/100\n",
      "13/13 - 24s - loss: 0.8308 - accuracy: 0.5408 - val_loss: 0.8563 - val_accuracy: 0.5204\n",
      "Epoch 22/100\n",
      "13/13 - 26s - loss: 0.8337 - accuracy: 0.5485 - val_loss: 0.8655 - val_accuracy: 0.5204\n",
      "Epoch 23/100\n",
      "13/13 - 25s - loss: 0.8187 - accuracy: 0.5612 - val_loss: 0.8500 - val_accuracy: 0.5204\n",
      "Epoch 24/100\n",
      "13/13 - 23s - loss: 0.8378 - accuracy: 0.5332 - val_loss: 0.8707 - val_accuracy: 0.5204\n",
      "Epoch 25/100\n",
      "13/13 - 23s - loss: 0.8273 - accuracy: 0.5459 - val_loss: 0.8546 - val_accuracy: 0.5204\n",
      "Epoch 26/100\n",
      "13/13 - 23s - loss: 0.8162 - accuracy: 0.6020 - val_loss: 0.8489 - val_accuracy: 0.5612\n",
      "Epoch 27/100\n",
      "13/13 - 24s - loss: 0.8176 - accuracy: 0.5791 - val_loss: 0.8610 - val_accuracy: 0.5102\n",
      "Epoch 28/100\n",
      "13/13 - 24s - loss: 0.8145 - accuracy: 0.6020 - val_loss: 0.8360 - val_accuracy: 0.5204\n",
      "Epoch 29/100\n",
      "13/13 - 25s - loss: 0.7946 - accuracy: 0.6556 - val_loss: 0.9021 - val_accuracy: 0.5102\n",
      "Epoch 30/100\n",
      "13/13 - 26s - loss: 0.8127 - accuracy: 0.5944 - val_loss: 0.8633 - val_accuracy: 0.5510\n",
      "Epoch 31/100\n",
      "13/13 - 24s - loss: 0.7970 - accuracy: 0.6352 - val_loss: 0.8732 - val_accuracy: 0.5408\n",
      "Epoch 32/100\n",
      "13/13 - 24s - loss: 0.7831 - accuracy: 0.6480 - val_loss: 0.9623 - val_accuracy: 0.5306\n",
      "Epoch 33/100\n",
      "13/13 - 24s - loss: 0.7839 - accuracy: 0.6505 - val_loss: 1.0040 - val_accuracy: 0.5306\n",
      "Epoch 34/100\n",
      "13/13 - 23s - loss: 0.7380 - accuracy: 0.7015 - val_loss: 1.1130 - val_accuracy: 0.5408\n",
      "Epoch 35/100\n",
      "13/13 - 23s - loss: 0.7126 - accuracy: 0.7245 - val_loss: 1.5186 - val_accuracy: 0.5408\n",
      "Epoch 36/100\n",
      "13/13 - 24s - loss: 0.7248 - accuracy: 0.6811 - val_loss: 1.0217 - val_accuracy: 0.6122\n",
      "Epoch 37/100\n",
      "13/13 - 23s - loss: 0.6653 - accuracy: 0.7832 - val_loss: 1.5047 - val_accuracy: 0.5714\n",
      "Epoch 38/100\n",
      "13/13 - 24s - loss: 0.6284 - accuracy: 0.7704 - val_loss: 1.8931 - val_accuracy: 0.5612\n",
      "Epoch 39/100\n",
      "13/13 - 24s - loss: 0.6244 - accuracy: 0.7985 - val_loss: 1.9097 - val_accuracy: 0.5204\n",
      "Epoch 40/100\n",
      "13/13 - 24s - loss: 0.5404 - accuracy: 0.8316 - val_loss: 2.2739 - val_accuracy: 0.5612\n",
      "Epoch 41/100\n",
      "13/13 - 24s - loss: 0.5447 - accuracy: 0.8342 - val_loss: 2.9069 - val_accuracy: 0.5612\n",
      "Epoch 42/100\n",
      "13/13 - 25s - loss: 0.4842 - accuracy: 0.8673 - val_loss: 3.1153 - val_accuracy: 0.5918\n",
      "Epoch 43/100\n",
      "13/13 - 24s - loss: 0.5029 - accuracy: 0.8750 - val_loss: 2.2603 - val_accuracy: 0.5204\n",
      "Epoch 44/100\n",
      "13/13 - 23s - loss: 0.6374 - accuracy: 0.7934 - val_loss: 2.4779 - val_accuracy: 0.4796\n",
      "Epoch 45/100\n",
      "13/13 - 24s - loss: 0.8082 - accuracy: 0.7372 - val_loss: 1.1485 - val_accuracy: 0.4898\n",
      "Epoch 46/100\n",
      "13/13 - 24s - loss: 0.6457 - accuracy: 0.7602 - val_loss: 2.4800 - val_accuracy: 0.5000\n",
      "Epoch 47/100\n",
      "13/13 - 22s - loss: 0.5863 - accuracy: 0.8087 - val_loss: 2.0511 - val_accuracy: 0.5102\n",
      "Epoch 48/100\n",
      "13/13 - 22s - loss: 0.5032 - accuracy: 0.8571 - val_loss: 3.3974 - val_accuracy: 0.5306\n",
      "Epoch 49/100\n",
      "13/13 - 22s - loss: 0.5394 - accuracy: 0.8597 - val_loss: 4.1927 - val_accuracy: 0.5000\n",
      "Epoch 50/100\n",
      "13/13 - 22s - loss: 0.5076 - accuracy: 0.8495 - val_loss: 3.9866 - val_accuracy: 0.5918\n",
      "Epoch 51/100\n",
      "13/13 - 27s - loss: 0.4145 - accuracy: 0.9082 - val_loss: 3.5674 - val_accuracy: 0.5510\n",
      "Epoch 52/100\n",
      "13/13 - 27s - loss: 0.3639 - accuracy: 0.9184 - val_loss: 3.5135 - val_accuracy: 0.6224\n",
      "Epoch 53/100\n",
      "13/13 - 23s - loss: 0.3056 - accuracy: 0.9464 - val_loss: 5.3973 - val_accuracy: 0.5408\n",
      "Epoch 54/100\n",
      "13/13 - 22s - loss: 0.2486 - accuracy: 0.9668 - val_loss: 4.5326 - val_accuracy: 0.6122\n",
      "Epoch 55/100\n",
      "13/13 - 23s - loss: 0.2991 - accuracy: 0.9643 - val_loss: 4.7379 - val_accuracy: 0.5816\n",
      "Epoch 56/100\n",
      "13/13 - 23s - loss: 0.5589 - accuracy: 0.9031 - val_loss: 2.9426 - val_accuracy: 0.4796\n",
      "Epoch 57/100\n",
      "13/13 - 23s - loss: 0.3975 - accuracy: 0.9413 - val_loss: 3.2045 - val_accuracy: 0.5408\n",
      "Epoch 58/100\n",
      "13/13 - 24s - loss: 0.3536 - accuracy: 0.9337 - val_loss: 3.1962 - val_accuracy: 0.5714\n",
      "Epoch 59/100\n",
      "13/13 - 24s - loss: 0.2931 - accuracy: 0.9515 - val_loss: 2.4175 - val_accuracy: 0.6020\n",
      "Epoch 60/100\n",
      "13/13 - 23s - loss: 0.2597 - accuracy: 0.9643 - val_loss: 2.9422 - val_accuracy: 0.5816\n",
      "Epoch 61/100\n",
      "13/13 - 23s - loss: 0.1985 - accuracy: 0.9949 - val_loss: 4.3360 - val_accuracy: 0.5102\n",
      "Epoch 62/100\n",
      "13/13 - 23s - loss: 0.2236 - accuracy: 0.9719 - val_loss: 4.4162 - val_accuracy: 0.5102\n",
      "Epoch 63/100\n",
      "13/13 - 23s - loss: 0.2270 - accuracy: 0.9694 - val_loss: 7.0273 - val_accuracy: 0.5306\n",
      "Epoch 64/100\n",
      "13/13 - 24s - loss: 0.3366 - accuracy: 0.9464 - val_loss: 4.2436 - val_accuracy: 0.5000\n",
      "Epoch 65/100\n",
      "13/13 - 25s - loss: 0.2965 - accuracy: 0.9388 - val_loss: 5.5851 - val_accuracy: 0.5408\n",
      "Epoch 66/100\n",
      "13/13 - 23s - loss: 0.3263 - accuracy: 0.9464 - val_loss: 4.0092 - val_accuracy: 0.5714\n",
      "Epoch 67/100\n",
      "13/13 - 23s - loss: 0.2814 - accuracy: 0.9541 - val_loss: 4.3399 - val_accuracy: 0.5612\n",
      "Epoch 68/100\n",
      "13/13 - 22s - loss: 0.2313 - accuracy: 0.9719 - val_loss: 5.3108 - val_accuracy: 0.5612\n",
      "Epoch 69/100\n",
      "13/13 - 23s - loss: 0.3068 - accuracy: 0.9541 - val_loss: 5.5353 - val_accuracy: 0.5102\n",
      "Epoch 70/100\n",
      "13/13 - 23s - loss: 0.2846 - accuracy: 0.9464 - val_loss: 4.4956 - val_accuracy: 0.5612\n",
      "Epoch 71/100\n",
      "13/13 - 23s - loss: 0.2375 - accuracy: 0.9719 - val_loss: 5.1381 - val_accuracy: 0.5918\n",
      "Epoch 72/100\n",
      "13/13 - 23s - loss: 0.2643 - accuracy: 0.9617 - val_loss: 3.0414 - val_accuracy: 0.6020\n",
      "Epoch 73/100\n",
      "13/13 - 22s - loss: 0.2289 - accuracy: 0.9821 - val_loss: 2.5484 - val_accuracy: 0.4898\n",
      "Epoch 74/100\n",
      "13/13 - 22s - loss: 0.3037 - accuracy: 0.9541 - val_loss: 3.3035 - val_accuracy: 0.5612\n",
      "Epoch 75/100\n",
      "13/13 - 22s - loss: 0.2700 - accuracy: 0.9541 - val_loss: 5.4250 - val_accuracy: 0.5918\n",
      "Epoch 76/100\n",
      "13/13 - 22s - loss: 0.1918 - accuracy: 0.9847 - val_loss: 5.8085 - val_accuracy: 0.5612\n",
      "Epoch 77/100\n",
      "13/13 - 22s - loss: 0.1753 - accuracy: 0.9923 - val_loss: 5.5786 - val_accuracy: 0.5816\n",
      "Epoch 78/100\n",
      "13/13 - 22s - loss: 0.1594 - accuracy: 1.0000 - val_loss: 5.1771 - val_accuracy: 0.5918\n",
      "Epoch 79/100\n",
      "13/13 - 22s - loss: 0.1610 - accuracy: 0.9949 - val_loss: 7.0065 - val_accuracy: 0.6122\n",
      "Epoch 80/100\n",
      "13/13 - 22s - loss: 0.1721 - accuracy: 0.9949 - val_loss: 6.5740 - val_accuracy: 0.5714\n",
      "Epoch 81/100\n",
      "13/13 - 23s - loss: 0.1823 - accuracy: 0.9923 - val_loss: 5.5969 - val_accuracy: 0.6429\n",
      "Epoch 82/100\n",
      "13/13 - 23s - loss: 0.1859 - accuracy: 0.9898 - val_loss: 6.0200 - val_accuracy: 0.5816\n"
     ]
    },
    {
     "name": "stdout",
     "output_type": "stream",
     "text": [
      "Epoch 83/100\n",
      "13/13 - 22s - loss: 0.1791 - accuracy: 0.9898 - val_loss: 5.4652 - val_accuracy: 0.5510\n",
      "Epoch 84/100\n",
      "13/13 - 22s - loss: 0.1856 - accuracy: 0.9898 - val_loss: 11.7867 - val_accuracy: 0.5816\n",
      "Epoch 85/100\n",
      "13/13 - 22s - loss: 0.3071 - accuracy: 0.9541 - val_loss: 2.0780 - val_accuracy: 0.6327\n",
      "Epoch 86/100\n",
      "13/13 - 22s - loss: 0.2615 - accuracy: 0.9617 - val_loss: 6.5906 - val_accuracy: 0.6122\n",
      "Epoch 87/100\n",
      "13/13 - 22s - loss: 0.2359 - accuracy: 0.9719 - val_loss: 6.6433 - val_accuracy: 0.5204\n",
      "Epoch 88/100\n",
      "13/13 - 22s - loss: 0.1937 - accuracy: 0.9847 - val_loss: 7.0312 - val_accuracy: 0.5612\n",
      "Epoch 89/100\n",
      "13/13 - 22s - loss: 0.1832 - accuracy: 0.9872 - val_loss: 5.5772 - val_accuracy: 0.5714\n",
      "Epoch 90/100\n",
      "13/13 - 22s - loss: 0.2298 - accuracy: 0.9745 - val_loss: 4.3314 - val_accuracy: 0.6122\n",
      "Epoch 91/100\n",
      "13/13 - 22s - loss: 0.2187 - accuracy: 0.9770 - val_loss: 7.7661 - val_accuracy: 0.5612\n",
      "Epoch 92/100\n",
      "13/13 - 22s - loss: 0.2196 - accuracy: 0.9770 - val_loss: 5.5448 - val_accuracy: 0.5612\n",
      "Epoch 93/100\n",
      "13/13 - 22s - loss: 0.1927 - accuracy: 0.9821 - val_loss: 5.6481 - val_accuracy: 0.5714\n",
      "Epoch 94/100\n",
      "13/13 - 23s - loss: 0.1932 - accuracy: 0.9796 - val_loss: 3.4883 - val_accuracy: 0.6224\n",
      "Epoch 95/100\n",
      "13/13 - 23s - loss: 0.1837 - accuracy: 0.9898 - val_loss: 3.8137 - val_accuracy: 0.6020\n",
      "Epoch 96/100\n",
      "13/13 - 23s - loss: 0.1557 - accuracy: 1.0000 - val_loss: 4.4229 - val_accuracy: 0.6122\n",
      "Epoch 97/100\n",
      "13/13 - 23s - loss: 0.1537 - accuracy: 1.0000 - val_loss: 4.7920 - val_accuracy: 0.6020\n",
      "Epoch 98/100\n",
      "13/13 - 23s - loss: 0.1772 - accuracy: 0.9872 - val_loss: 3.8852 - val_accuracy: 0.6429\n",
      "Epoch 99/100\n",
      "13/13 - 23s - loss: 0.1582 - accuracy: 0.9974 - val_loss: 4.1388 - val_accuracy: 0.6327\n",
      "Epoch 100/100\n",
      "13/13 - 23s - loss: 0.1853 - accuracy: 0.9872 - val_loss: 7.0712 - val_accuracy: 0.5714\n",
      "2343.8524081707\n"
     ]
    }
   ],
   "source": [
    "import time\n",
    "start = time.time()\n",
    "#history = model.fit(X_train, y_train, batch_size=32, steps_per_epoch=len(y_train)/32, epochs=100, verbose=2, validation_data=(X_dev, y_dev),callbacks=[tensorboard])\n",
    "history = model.fit(X_train, y_train, batch_size=32, epochs=100, verbose=2, validation_data=(X_dev, y_dev))\n",
    "print (time.time() - start)\n",
    "\n"
   ]
  },
  {
   "cell_type": "markdown",
   "metadata": {},
   "source": [
    "### 8. Get the results"
   ]
  },
  {
   "cell_type": "code",
   "execution_count": 27,
   "metadata": {},
   "outputs": [
    {
     "data": {
      "image/png": "[encoded data removed]",
      "text/plain": [
       "<Figure size 576x360 with 1 Axes>"
      ]
     },
     "metadata": {
      "needs_background": "light"
     },
     "output_type": "display_data"
    }
   ],
   "source": [
    "results=pd.DataFrame(history.history)\n",
    "results.plot(figsize=(8, 5))\n",
    "plt.grid(True)\n",
    "plt.xlabel (\"Epochs\")\n",
    "plt.ylabel (\"Accuracy - Mean Log Loss\")\n",
    "plt.gca().set_ylim(0, 2) # set the vertical range to [0-1]\n",
    "plt.show()\n",
    "\n",
    "# categorical_accuracy es el training accuracy\n",
    "# val_categorical_accuracy es el validation accuracy\n",
    "# loss es el training loss\n",
    "# val_loss es el validation loss\n",
    "\n",
    "# Overfitting:\n",
    "# Por un lado la Accuracy de los datos de entrenamiento aumenta con las epochs,\n",
    "# mientras que la Accuracy de los datos de validación disminuye o se mantiene constante a lo largo de las epochs. \n",
    "# La Loss de los datos de validación alcanza su mínimo después de pocos epochs y luego empieza a subir, \n",
    "# mientras que la Loss de los datos de entrenamiento disminuye linealmente."
   ]
  },
  {
   "cell_type": "code",
   "execution_count": 28,
   "metadata": {},
   "outputs": [
    {
     "data": {
      "text/plain": [
       "{'verbose': 2, 'epochs': 100, 'steps': 13}"
      ]
     },
     "execution_count": 28,
     "metadata": {},
     "output_type": "execute_result"
    }
   ],
   "source": [
    "history.params"
   ]
  },
  {
   "cell_type": "code",
   "execution_count": 29,
   "metadata": {},
   "outputs": [
    {
     "data": {
      "text/html": [
       "<div>\n",
       "<style scoped>\n",
       "    .dataframe tbody tr th:only-of-type {\n",
       "        vertical-align: middle;\n",
       "    }\n",
       "\n",
       "    .dataframe tbody tr th {\n",
       "        vertical-align: top;\n",
       "    }\n",
       "\n",
       "    .dataframe thead th {\n",
       "        text-align: right;\n",
       "    }\n",
       "</style>\n",
       "<table border=\"1\" class=\"dataframe\">\n",
       "  <thead>\n",
       "    <tr style=\"text-align: right;\">\n",
       "      <th></th>\n",
       "      <th>loss</th>\n",
       "      <th>accuracy</th>\n",
       "      <th>val_loss</th>\n",
       "      <th>val_accuracy</th>\n",
       "    </tr>\n",
       "  </thead>\n",
       "  <tbody>\n",
       "    <tr>\n",
       "      <th>99</th>\n",
       "      <td>0.185259</td>\n",
       "      <td>0.987245</td>\n",
       "      <td>7.071157</td>\n",
       "      <td>0.571429</td>\n",
       "    </tr>\n",
       "  </tbody>\n",
       "</table>\n",
       "</div>"
      ],
      "text/plain": [
       "        loss  accuracy  val_loss  val_accuracy\n",
       "99  0.185259  0.987245  7.071157      0.571429"
      ]
     },
     "execution_count": 29,
     "metadata": {},
     "output_type": "execute_result"
    }
   ],
   "source": [
    "results[-1:]"
   ]
  },
  {
   "cell_type": "code",
   "execution_count": 30,
   "metadata": {},
   "outputs": [
    {
     "name": "stdout",
     "output_type": "stream",
     "text": [
      "Accuracy for the training set:  0.9872449040412903\n"
     ]
    }
   ],
   "source": [
    "print (\"Accuracy for the training set: \", results.values[-1:][0][1])"
   ]
  },
  {
   "cell_type": "code",
   "execution_count": 31,
   "metadata": {},
   "outputs": [
    {
     "name": "stdout",
     "output_type": "stream",
     "text": [
      "Accuracy for the development test set:  0.5714285969734192\n"
     ]
    }
   ],
   "source": [
    "print (\"Accuracy for the development test set: \", results.values[-1:][0][3])"
   ]
  },
  {
   "cell_type": "markdown",
   "metadata": {},
   "source": [
    "#### Let's see how the model predicts using the development test set:"
   ]
  },
  {
   "cell_type": "code",
   "execution_count": 32,
   "metadata": {},
   "outputs": [
    {
     "data": {
      "text/plain": [
       "array([[0.  , 1.  ],\n",
       "       [0.87, 0.13],\n",
       "       [0.97, 0.03],\n",
       "       [0.41, 0.59],\n",
       "       [0.17, 0.83],\n",
       "       [0.02, 0.98],\n",
       "       [0.1 , 0.9 ],\n",
       "       [0.27, 0.73],\n",
       "       [0.4 , 0.6 ],\n",
       "       [0.98, 0.02],\n",
       "       [0.86, 0.14],\n",
       "       [0.33, 0.67],\n",
       "       [0.  , 1.  ],\n",
       "       [0.  , 1.  ],\n",
       "       [0.  , 1.  ],\n",
       "       [0.  , 1.  ],\n",
       "       [0.  , 1.  ],\n",
       "       [0.  , 1.  ],\n",
       "       [0.  , 1.  ],\n",
       "       [0.  , 1.  ]], dtype=float32)"
      ]
     },
     "execution_count": 32,
     "metadata": {},
     "output_type": "execute_result"
    }
   ],
   "source": [
    "dev_predictions=model.predict(X_dev).round(2) \n",
    "dev_predictions[:20]"
   ]
  },
  {
   "cell_type": "code",
   "execution_count": 33,
   "metadata": {},
   "outputs": [
    {
     "data": {
      "text/plain": [
       "array([[0., 1.],\n",
       "       [1., 0.],\n",
       "       [1., 0.],\n",
       "       [0., 1.],\n",
       "       [0., 1.],\n",
       "       [0., 1.],\n",
       "       [0., 1.],\n",
       "       [0., 1.],\n",
       "       [0., 1.],\n",
       "       [1., 0.],\n",
       "       [1., 0.],\n",
       "       [0., 1.],\n",
       "       [0., 1.],\n",
       "       [0., 1.],\n",
       "       [0., 1.],\n",
       "       [0., 1.],\n",
       "       [0., 1.],\n",
       "       [0., 1.],\n",
       "       [0., 1.],\n",
       "       [0., 1.]], dtype=float32)"
      ]
     },
     "execution_count": 33,
     "metadata": {},
     "output_type": "execute_result"
    }
   ],
   "source": [
    "dev_rounded_predictions=np.round(dev_predictions)\n",
    "indices = np.argmax(dev_predictions,1)\n",
    "for row, index in zip(dev_rounded_predictions, indices): row[index]=1\n",
    "dev_rounded_predictions[:20]"
   ]
  },
  {
   "cell_type": "code",
   "execution_count": 34,
   "metadata": {},
   "outputs": [
    {
     "data": {
      "text/plain": [
       "array([[1., 0.],\n",
       "       [1., 0.],\n",
       "       [1., 0.],\n",
       "       [1., 0.],\n",
       "       [1., 0.],\n",
       "       [1., 0.],\n",
       "       [1., 0.],\n",
       "       [1., 0.],\n",
       "       [1., 0.],\n",
       "       [1., 0.],\n",
       "       [1., 0.],\n",
       "       [1., 0.],\n",
       "       [0., 1.],\n",
       "       [0., 1.],\n",
       "       [0., 1.],\n",
       "       [0., 1.],\n",
       "       [0., 1.],\n",
       "       [0., 1.],\n",
       "       [0., 1.],\n",
       "       [0., 1.]])"
      ]
     },
     "execution_count": 34,
     "metadata": {},
     "output_type": "execute_result"
    }
   ],
   "source": [
    "y_dev[:20]"
   ]
  },
  {
   "cell_type": "code",
   "execution_count": 35,
   "metadata": {},
   "outputs": [
    {
     "name": "stdout",
     "output_type": "stream",
     "text": [
      "[False  True  True False False False False False False  True  True False\n",
      "  True  True  True  True  True  True  True  True  True  True  True  True\n",
      "  True  True  True  True  True  True]\n"
     ]
    }
   ],
   "source": [
    "dev_correct_predictions = np.equal(np.argmax(dev_rounded_predictions,1),np.argmax(y_dev,1))\n",
    "print (dev_correct_predictions[:30])"
   ]
  },
  {
   "cell_type": "code",
   "execution_count": 36,
   "metadata": {},
   "outputs": [
    {
     "data": {
      "text/plain": [
       "Counter({False: 42, True: 56})"
      ]
     },
     "execution_count": 36,
     "metadata": {},
     "output_type": "execute_result"
    }
   ],
   "source": [
    "from collections import Counter\n",
    "Counter (dev_correct_predictions)"
   ]
  },
  {
   "cell_type": "markdown",
   "metadata": {},
   "source": [
    "### 9. Save model"
   ]
  },
  {
   "cell_type": "markdown",
   "metadata": {},
   "source": [
    "We save the model if it is better than others "
   ]
  },
  {
   "cell_type": "code",
   "execution_count": 37,
   "metadata": {},
   "outputs": [],
   "source": [
    "# Save\n",
    "model.save('./Modelos/CNN_model4.h5') # Change the name in each model"
   ]
  },
  {
   "cell_type": "code",
   "execution_count": 38,
   "metadata": {},
   "outputs": [
    {
     "data": {
      "text/plain": [
       "\"\\nnew_model = keras.models.load_model('./Modelos/EGG_prac1_ANN_model3.h5')\\n\\nimport numpy as np\\n\\n# Verify state\\nnew_predictions = new_model.predict(X_dev)\\nnp.testing.assert_allclose(predictions, new_predictions, rtol=1e-6, atol=1e-6)\\n\\n# Note that the optimizer state is also preserved:\\n# you can resume training where you left off.\\n\""
      ]
     },
     "execution_count": 38,
     "metadata": {},
     "output_type": "execute_result"
    }
   ],
   "source": [
    "# Extract\n",
    "\"\"\"\n",
    "new_model = keras.models.load_model('./Modelos/EGG_prac1_ANN_model3.h5')\n",
    "\n",
    "import numpy as np\n",
    "\n",
    "# Verify state\n",
    "new_predictions = new_model.predict(X_dev)\n",
    "np.testing.assert_allclose(predictions, new_predictions, rtol=1e-6, atol=1e-6)\n",
    "\n",
    "# Note that the optimizer state is also preserved:\n",
    "# you can resume training where you left off.\n",
    "\"\"\""
   ]
  },
  {
   "cell_type": "code",
   "execution_count": null,
   "metadata": {},
   "outputs": [],
   "source": []
  },
  {
   "cell_type": "code",
   "execution_count": null,
   "metadata": {},
   "outputs": [],
   "source": []
  },
  {
   "cell_type": "code",
   "execution_count": null,
   "metadata": {},
   "outputs": [],
   "source": []
  },
  {
   "cell_type": "code",
   "execution_count": null,
   "metadata": {},
   "outputs": [],
   "source": []
  },
  {
   "cell_type": "code",
   "execution_count": null,
   "metadata": {},
   "outputs": [],
   "source": []
  },
  {
   "cell_type": "markdown",
   "metadata": {},
   "source": [
    "### 10 - Final Test\n",
    "\n",
    "#### 10.1 - Load the final test set"
   ]
  },
  {
   "cell_type": "markdown",
   "metadata": {},
   "source": [
    "#### 10.2 - Evaluate the model\n",
    "\n",
    "\n",
    "ESTO ES LO QUE HAY QUE DESCOMENTAAAAAAAR!!!!!!!\n",
    "De aquí: "
   ]
  },
  {
   "cell_type": "code",
   "execution_count": 39,
   "metadata": {},
   "outputs": [
    {
     "data": {
      "text/plain": [
       "'\\nfrom collections import Counter\\ndef predictWithModel(model, X_test, y_test, task1, task2, task3=\"\"):\\n    model.evaluate(X_test, y_test)\\n    test_predictions = model.predict(X_test)\\n    test_rounded_predictions=np.round(test_predictions)\\n    indices = np.argmax(test_predictions,1)\\n    for row, index in zip(test_rounded_predictions, indices): row[index]=1\\n    print(test_rounded_predictions[:20])\\n    \\n    # ACCURACY:\\n    test_correct_predictions = np.equal(np.argmax(test_rounded_predictions,1),np.argmax(y_test,1))\\n    print()\\n    print(test_correct_predictions)\\n    print(type(test_correct_predictions))\\n    final_test_prediction_results=Counter(test_correct_predictions)\\n    \\n    success = np.mean(test_rounded_predictions == y_test)*100\\n    \\n    return final_test_prediction_results, success\\n'"
      ]
     },
     "execution_count": 39,
     "metadata": {},
     "output_type": "execute_result"
    }
   ],
   "source": [
    "\"\"\"\n",
    "from collections import Counter\n",
    "def predictWithModel(model, X_test, y_test, task1, task2, task3=\"\"):\n",
    "    model.evaluate(X_test, y_test)\n",
    "    test_predictions = model.predict(X_test)\n",
    "    test_rounded_predictions=np.round(test_predictions)\n",
    "    indices = np.argmax(test_predictions,1)\n",
    "    for row, index in zip(test_rounded_predictions, indices): row[index]=1\n",
    "    print(test_rounded_predictions[:20])\n",
    "    \n",
    "    # ACCURACY:\n",
    "    test_correct_predictions = np.equal(np.argmax(test_rounded_predictions,1),np.argmax(y_test,1))\n",
    "    print()\n",
    "    print(test_correct_predictions)\n",
    "    print(type(test_correct_predictions))\n",
    "    final_test_prediction_results=Counter(test_correct_predictions)\n",
    "    \n",
    "    success = np.mean(test_rounded_predictions == y_test)*100\n",
    "    \n",
    "    return final_test_prediction_results, success\n",
    "\"\"\""
   ]
  },
  {
   "cell_type": "code",
   "execution_count": 40,
   "metadata": {},
   "outputs": [
    {
     "data": {
      "text/plain": [
       "'\\nusers = [\"0091\"]\\nfor u in users:   \\n    print(\"USER:\", u)\\n    #X_test, y_test = readRegisterAndReturnXy(u, total_records, 122, 123, 127)\\n    accuracy, success = predictWithModel(model, X_test, y_test, 402,404)\\n    print(u, accuracy, success)\\n    print()\\n'"
      ]
     },
     "execution_count": 40,
     "metadata": {},
     "output_type": "execute_result"
    }
   ],
   "source": [
    "\"\"\"\n",
    "users = [\"0091\"]\n",
    "for u in users:   \n",
    "    print(\"USER:\", u)\n",
    "    #X_test, y_test = readRegisterAndReturnXy(u, total_records, 122, 123, 127)\n",
    "    accuracy, success = predictWithModel(model, X_test, y_test, 402,404)\n",
    "    print(u, accuracy, success)\n",
    "    print()\n",
    "\"\"\""
   ]
  }
 ],
 "metadata": {
  "kernelspec": {
   "display_name": "Python 3",
   "language": "python",
   "name": "python3"
  },
  "language_info": {
   "codemirror_mode": {
    "name": "ipython",
    "version": 3
   },
   "file_extension": ".py",
   "mimetype": "text/x-python",
   "name": "python",
   "nbconvert_exporter": "python",
   "pygments_lexer": "ipython3",
   "version": "3.8.5"
  }
 },
 "nbformat": 4,
 "nbformat_minor": 4
}
