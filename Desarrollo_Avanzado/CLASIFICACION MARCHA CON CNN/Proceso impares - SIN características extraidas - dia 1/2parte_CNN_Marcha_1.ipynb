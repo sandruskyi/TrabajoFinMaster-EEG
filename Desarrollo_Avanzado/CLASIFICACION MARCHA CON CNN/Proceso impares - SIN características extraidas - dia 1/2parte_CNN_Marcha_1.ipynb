{
 "cells": [
  {
   "cell_type": "markdown",
   "metadata": {},
   "source": [
    "# Parte 4: Clasificación con CNN"
   ]
  },
  {
   "cell_type": "markdown",
   "metadata": {},
   "source": [
    "### Resultados con la arquitectura anterior: "
   ]
  },
  {
   "cell_type": "markdown",
   "metadata": {},
   "source": [
    "primero\n",
    "\n"
   ]
  },
  {
   "cell_type": "markdown",
   "metadata": {},
   "source": [
    "### Cambios realizados"
   ]
  },
  {
   "cell_type": "markdown",
   "metadata": {},
   "source": []
  },
  {
   "cell_type": "markdown",
   "metadata": {},
   "source": [
    "### Nuevos resultados: "
   ]
  },
  {
   "cell_type": "markdown",
   "metadata": {},
   "source": [
    "Resultados:\n",
    "    \n",
    "    TRAIN                   DEV\n",
    "    loss       accuracy     val_loss    val_accuracy\n",
    "    0.001835\t1.0\t        4.204031\t0.438776\n",
    "    \n",
    "Por tanto: \n",
    "\n",
    "    E = 1 - Accuracy\n",
    "    Etrain = 1 - 1.0\t = 0\n",
    "    Etest = 1 - 0.438776 = 0.561224\n",
    "    \n",
    "    Bias = Etrain - Ehuman = 0\n",
    "    Variance = Etest - Etrain = 0.561224 \n",
    "\n",
    "El bias es muy bajo pero la varianza es muy alta (56%). Para ello habrá que o regularizar, o cambiar la arquitectura (menos neuronas => Mejor varianza, más capas => mayor abstracción), o añadir más datos (cosa que no es posible). \n"
   ]
  },
  {
   "cell_type": "markdown",
   "metadata": {},
   "source": [
    "### 1 - Import Libraries"
   ]
  },
  {
   "cell_type": "code",
   "execution_count": 1,
   "metadata": {},
   "outputs": [],
   "source": [
    "# Tensorflow and tf.keras\n",
    "import tensorflow as tf\n",
    "from tensorflow import keras\n",
    "\n",
    "#Helper libraries\n",
    "import matplotlib.pyplot as plt\n",
    "import pandas as pd\n",
    "import numpy as np\n",
    "\n",
    "# Signal libraries\n",
    "from scipy import signal\n"
   ]
  },
  {
   "cell_type": "markdown",
   "metadata": {},
   "source": [
    "### 2 - Load data"
   ]
  },
  {
   "cell_type": "code",
   "execution_count": 2,
   "metadata": {},
   "outputs": [],
   "source": [
    "class ROutput:\n",
    "    def __init__(self, task, data):\n",
    "        self.task = task\n",
    "        self.data = data\n",
    "        \n",
    "class OutTaskData: \n",
    "    def __init__(self, task, data): \n",
    "        self.task = task\n",
    "        self.data = data"
   ]
  },
  {
   "cell_type": "code",
   "execution_count": 3,
   "metadata": {},
   "outputs": [],
   "source": [
    "import scipy.io as sio\n",
    "# Primero leemos los registros\n",
    "def read_outputs(rec):\n",
    "    '''read_outputs(\"userS0091f1.mat\")'''\n",
    "    mat = sio.loadmat(rec)\n",
    "    mdata = mat['session']\n",
    "    val = mdata[0,0]\n",
    "    #output = ROutput(np.array(val[\"task\"]), np.array(val[\"data\"]))\n",
    "    output = ROutput(np.array(val[\"task_EEG\"]), np.array(val[\"data_EEG\"]))\n",
    "    return output"
   ]
  },
  {
   "cell_type": "markdown",
   "metadata": {},
   "source": [
    "### Cargamos los datos"
   ]
  },
  {
   "cell_type": "code",
   "execution_count": 4,
   "metadata": {},
   "outputs": [],
   "source": [
    "# Configuración\n",
    "from sklearn.pipeline import make_pipeline\n",
    "from sklearn.preprocessing import StandardScaler, OneHotEncoder\n",
    "from sklearn.linear_model import Perceptron\n",
    "from keras.utils import to_categorical\n",
    "\n",
    "\n",
    "task1 = 402 # SE PUEDE CAMBIAR\n",
    "task2 = 404 # SE PUEDE CAMBIAR\n",
    "task_OneHotEnconding = {402: [1.,0.], 404: [0.,1.]}\n",
    "user = 'W29' # SE PUEDE CAMBIAR\n",
    "day = '0401'\n",
    "folder_day = 'W29-01_04_2021'\n",
    "total_records = 22 # CAMBIAR SI HAY MAS REGISTROS\n",
    "fm = 200\n",
    "electrodes_names_selected = ['F3', 'FZ', 'FC1','FCZ','C1','CZ','CP1','CPZ', 'FC5', 'FC3','C5','C3','CP5','CP3','P3',\n",
    "                             'PZ','F4','FC2','FC4','FC6','C2','C4','CP2','CP4','C6','CP6','P4','HR' ,'HL', 'VU', 'VD']\n",
    "number_channels = len(electrodes_names_selected)\n"
   ]
  },
  {
   "cell_type": "code",
   "execution_count": 5,
   "metadata": {},
   "outputs": [
    {
     "name": "stdout",
     "output_type": "stream",
     "text": [
      "11 22\n"
     ]
    }
   ],
   "source": [
    "# Lectura de registros\n",
    "lTaskData = []\n",
    "\n",
    "total_records_used = 0\n",
    "for i_rec in range(1,total_records+1):\n",
    "    i_rec_record = i_rec\n",
    "    if i_rec_record <10:\n",
    "        i_rec_record = \"0\"+str(i_rec_record)\n",
    "    if i_rec % 2 != 0: # Registros impares primero: USUARIO SIN MOVIMIENTO SOLO PENSANDO\n",
    "        record = \"./RegistrosSinProcesar/\"+folder_day+\"/W29_2021\"+day+\"_openloop_\"+str(i_rec_record)+\".mat\"\n",
    "        output = read_outputs(record) # output.task será y, output.data será x\n",
    "\n",
    "        outT = (output.task == task1) | (output.task == task2)\n",
    "\n",
    "        outData = output.data[0:np.shape(output.data)[0], outT[0,:]]\n",
    "        outTask = output.task[0, outT[0,:]]\n",
    "        outTD = OutTaskData(outTask, outData)\n",
    "        lTaskData.append(outTD)\n",
    "        total_records_used+=1\n",
    "\n",
    "print(total_records_used, total_records)"
   ]
  },
  {
   "cell_type": "code",
   "execution_count": 6,
   "metadata": {},
   "outputs": [
    {
     "name": "stdout",
     "output_type": "stream",
     "text": [
      "X_train: (8, 31, 5600)\n",
      "y_train: (8, 5600)\n",
      "X_dev: (2, 31, 5600)\n",
      "y_dev: (2, 5600)\n",
      "X_test: (1, 31, 5600)\n",
      "y_test: (1, 5600)\n",
      "WINDOWING & ONE HOT ENCODER:\n",
      "X_train: (392, 31, 300, 1)\n",
      "y_train: (392, 2)\n",
      "X_dev: (98, 31, 300, 1)\n",
      "y_dev: (98, 2)\n",
      "X_test: (49, 31, 300, 1)\n",
      "y_test: (49, 2)\n"
     ]
    }
   ],
   "source": [
    "# Vamos a coger 2 registros para el entrenamiento, 1 para el conjunto dev set, 1 para el test set\n",
    "X_train, y_train, X_dev, y_dev, X_test, y_test = [],[],[],[],[],[] \n",
    "for j in range(0,total_records_used-3): # Cogemos 8 registros para entrenamiento\n",
    "    X_train.append(lTaskData[j].data)\n",
    "    y_train.append(lTaskData[j].task)\n",
    "\n",
    "for j in range(total_records_used-3,total_records_used-1): # Cogemos 2 registros para el dev set\n",
    "    X_dev.append(lTaskData[j].data)\n",
    "    y_dev.append(lTaskData[j].task)\n",
    "for j in range(total_records_used-1,total_records_used): # Cogemos 1 registros para el test set\n",
    "    X_test.append(lTaskData[j].data)\n",
    "    y_test.append(lTaskData[j].task)\n",
    "\n",
    "X_train = np.array(X_train)\n",
    "#y_train = np.ravel(np.array(y_train))\n",
    "y_train = np.array(y_train)\n",
    "X_dev = np.array(X_dev)\n",
    "#y_dev = np.ravel(np.array(y_dev))\n",
    "y_dev = np.array(y_dev)\n",
    "X_test = np.array(X_test)\n",
    "y_test = np.array(y_test)\n",
    "#y_test = np.ravel(np.array(y_test))\n",
    "\n",
    "print (\"X_train:\",X_train.shape)\n",
    "print (\"y_train:\",y_train.shape)\n",
    "print (\"X_dev:\",X_dev.shape)\n",
    "print (\"y_dev:\",y_dev.shape)\n",
    "print (\"X_test:\",X_test.shape)\n",
    "print (\"y_test:\",y_test.shape)\n",
    "\n",
    "\n",
    "# VENTANEO Y ONE HOT ENCODING \n",
    "window = 300\n",
    "samples_advance = 100\n",
    "\n",
    "# Ventaneo X_train\n",
    "\n",
    "X_train_l = []\n",
    "y_train_l = []\n",
    "for num_X_train in range(np.shape(X_train)[0]):\n",
    "    win_init = int(0)\n",
    "    window_position = 0\n",
    "    \n",
    "    for i in range(np.shape(X_train)[2]): # For each signal registered\n",
    "        win_end = int(win_init + window)\n",
    "        if win_end >= np.shape(X_train)[2]:\n",
    "            break\n",
    "\n",
    "        task = np.unique(y_train[num_X_train,win_init:win_end])\n",
    "\n",
    "        if len(task)==1:\n",
    "        #if task1 in task or task2 in task:\n",
    "            signal_window = X_train[num_X_train, :, win_init:win_end]\n",
    "            \n",
    "            #data_filtered = preprocessing(signal_window, fm, number_channels)\n",
    "            #X_train_l.append(data_filtered)\n",
    "            X_train_l.append(signal_window)\n",
    "            taskOH = task_OneHotEnconding[task[0]]\n",
    "            y_train_l.append(taskOH)\n",
    "            \n",
    "        win_init += int(samples_advance)\n",
    "\n",
    "X_train_l = np.array(X_train_l)\n",
    "y_train_l = np.array(y_train_l)\n",
    "\n",
    "\n",
    "# Ventaneo X_dev\n",
    "X_dev_l = []\n",
    "y_dev_l = []\n",
    "for num_X_dev in range(np.shape(X_dev)[0]):\n",
    "    win_init = int(0)\n",
    "    window_position = 0\n",
    "    \n",
    "    for i in range(np.shape(X_dev)[2]): # For each signal registered\n",
    "        win_end = int(win_init + window)\n",
    "        if win_end >= np.shape(X_dev)[2]:\n",
    "            break\n",
    "\n",
    "        task = np.unique(y_dev[num_X_dev,win_init:win_end])\n",
    "\n",
    "        if len(task)==1:\n",
    "        #if task1 in task or task2 in task:\n",
    "            signal_window = X_dev[num_X_dev, :, win_init:win_end]\n",
    "            \n",
    "            #data_filtered = preprocessing(signal_window, fm, number_channels)\n",
    "            #X_train_l.append(data_filtered)\n",
    "            X_dev_l.append(signal_window)\n",
    "            taskOH = task_OneHotEnconding[task[0]]\n",
    "            y_dev_l.append(taskOH)\n",
    "            \n",
    "        win_init += int(samples_advance)\n",
    "\n",
    "X_dev_l = np.array(X_dev_l)\n",
    "y_dev_l = np.array(y_dev_l)\n",
    "\n",
    "# Ventaneo X_test\n",
    "X_test_l = []\n",
    "y_test_l = []\n",
    "for num_X_test in range(np.shape(X_test)[0]):\n",
    "    win_init = int(0)\n",
    "    window_position = 0\n",
    "    \n",
    "    for i in range(np.shape(X_test)[2]): # For each signal registered\n",
    "        win_end = int(win_init + window)\n",
    "        if win_end >= np.shape(X_test)[2]:\n",
    "            break\n",
    "\n",
    "        task = np.unique(y_test[num_X_test,win_init:win_end])\n",
    "\n",
    "        if len(task)==1:\n",
    "        #if task1 in task or task2 in task:\n",
    "            signal_window = X_test[num_X_test, :, win_init:win_end]\n",
    "            \n",
    "            #data_filtered = preprocessing(signal_window, fm, number_channels)\n",
    "            #X_train_l.append(data_filtered)\n",
    "            X_test_l.append(signal_window)\n",
    "            taskOH = task_OneHotEnconding[task[0]]\n",
    "            y_test_l.append(taskOH)\n",
    "            \n",
    "        win_init += int(samples_advance)\n",
    "\n",
    "X_test_l = np.array(X_test_l)\n",
    "y_test_l = np.array(y_test_l)\n",
    "\n",
    "\n",
    "\n",
    "\n",
    "X_train_l = X_train_l.reshape((np.shape(X_train_l)[0],np.shape(X_train_l)[1],np.shape(X_train_l)[2], 1))\n",
    "X_dev_l = X_dev_l.reshape((np.shape(X_dev_l)[0],np.shape(X_dev_l)[1],np.shape(X_dev_l)[2], 1))\n",
    "X_test_l = X_test_l.reshape((np.shape(X_test_l)[0],np.shape(X_test_l)[1],np.shape(X_test_l)[2], 1))\n",
    "\n",
    "\n",
    "print(\"WINDOWING & ONE HOT ENCODER:\")\n",
    "print (\"X_train:\",X_train_l.shape)\n",
    "print (\"y_train:\",y_train_l.shape)\n",
    "print (\"X_dev:\",X_dev_l.shape)\n",
    "print (\"y_dev:\",y_dev_l.shape)\n",
    "print (\"X_test:\",X_test_l.shape)\n",
    "print (\"y_test:\",y_test_l.shape)\n",
    "\n",
    "X_train = X_train_l\n",
    "y_train = y_train_l\n",
    "X_dev = X_dev_l\n",
    "y_dev = y_dev_l\n",
    "X_test = X_test_l\n",
    "y_test = y_test_l"
   ]
  },
  {
   "cell_type": "markdown",
   "metadata": {},
   "source": [
    "### 3. Initialize variables"
   ]
  },
  {
   "cell_type": "code",
   "execution_count": 7,
   "metadata": {},
   "outputs": [],
   "source": [
    "INPUTS = X_train.shape[1]\n",
    "OUTPUTS = y_train.shape[1]\n",
    "NUM_TRAINING_EXAMPLES = int(round(X_train.shape[0]/1))\n",
    "NUM_DEV_EXAMPLES = int(round(y_train.shape[0]/1))"
   ]
  },
  {
   "cell_type": "markdown",
   "metadata": {},
   "source": [
    "Some data is displayed to test correctness:"
   ]
  },
  {
   "cell_type": "code",
   "execution_count": 8,
   "metadata": {},
   "outputs": [
    {
     "data": {
      "text/plain": [
       "array([[[[ -8.09402561],\n",
       "         [ -9.94211674],\n",
       "         [ -7.67301702],\n",
       "         ...,\n",
       "         [  3.9353075 ],\n",
       "         [  5.40302658],\n",
       "         [  7.70658255]],\n",
       "\n",
       "        [[ -5.0390377 ],\n",
       "         [ -6.66358757],\n",
       "         [ -4.47667217],\n",
       "         ...,\n",
       "         [  2.1584661 ],\n",
       "         [  3.46315312],\n",
       "         [  6.43767405]],\n",
       "\n",
       "        [[-10.60903263],\n",
       "         [-12.09577656],\n",
       "         [-10.72430229],\n",
       "         ...,\n",
       "         [  2.3000679 ],\n",
       "         [  3.46812749],\n",
       "         [  6.45359421]],\n",
       "\n",
       "        ...,\n",
       "\n",
       "        [[  1.61085725],\n",
       "         [  1.76080692],\n",
       "         [ -0.56686342],\n",
       "         ...,\n",
       "         [ -0.50050861],\n",
       "         [  3.40154266],\n",
       "         [  3.74983001]],\n",
       "\n",
       "        [[  1.47814846],\n",
       "         [  0.68146783],\n",
       "         [  1.03147733],\n",
       "         ...,\n",
       "         [  4.97134638],\n",
       "         [  4.92773724],\n",
       "         [  3.80344081]],\n",
       "\n",
       "        [[  5.40894794],\n",
       "         [  0.86323416],\n",
       "         [ -1.62228251],\n",
       "         ...,\n",
       "         [ -0.30909678],\n",
       "         [  0.05893415],\n",
       "         [  5.40368414]]],\n",
       "\n",
       "\n",
       "       [[[  0.95847905],\n",
       "         [ -4.44262743],\n",
       "         [ -3.83154249],\n",
       "         ...,\n",
       "         [ -8.26578903],\n",
       "         [ -1.67391038],\n",
       "         [ 10.06772804]],\n",
       "\n",
       "        [[  7.78987312],\n",
       "         [  1.9427551 ],\n",
       "         [  1.12500751],\n",
       "         ...,\n",
       "         [ -4.09685278],\n",
       "         [ -0.2537449 ],\n",
       "         [ 10.06615829]],\n",
       "\n",
       "        [[  9.49413872],\n",
       "         [  3.17877674],\n",
       "         [  0.88871896],\n",
       "         ...,\n",
       "         [ -1.56858706],\n",
       "         [  1.65985727],\n",
       "         [ 11.23039818]],\n",
       "\n",
       "        ...,\n",
       "\n",
       "        [[  1.39937258],\n",
       "         [ -0.89466304],\n",
       "         [ -0.87535387],\n",
       "         ...,\n",
       "         [ -1.879228  ],\n",
       "         [  1.1248163 ],\n",
       "         [ 11.80609322]],\n",
       "\n",
       "        [[ -6.12129068],\n",
       "         [-12.81042862],\n",
       "         [ -9.9220171 ],\n",
       "         ...,\n",
       "         [ -3.50849438],\n",
       "         [  2.47708893],\n",
       "         [ 12.98461628]],\n",
       "\n",
       "        [[ -1.85709   ],\n",
       "         [ -1.13775074],\n",
       "         [  1.18251276],\n",
       "         ...,\n",
       "         [  2.6194973 ],\n",
       "         [  5.75357866],\n",
       "         [ 10.4064436 ]]]])"
      ]
     },
     "execution_count": 8,
     "metadata": {},
     "output_type": "execute_result"
    }
   ],
   "source": [
    "X_train[:2]"
   ]
  },
  {
   "cell_type": "code",
   "execution_count": 9,
   "metadata": {},
   "outputs": [
    {
     "data": {
      "text/plain": [
       "array([[[[-43.6853981 ],\n",
       "         [-49.84642792],\n",
       "         [-42.8303833 ],\n",
       "         ...,\n",
       "         [-31.06373405],\n",
       "         [-28.10698128],\n",
       "         [-27.32731438]],\n",
       "\n",
       "        [[ -1.35212481],\n",
       "         [ -7.82445431],\n",
       "         [ -0.83776265],\n",
       "         ...,\n",
       "         [ -5.16151333],\n",
       "         [ -0.52796578],\n",
       "         [  0.42776355]],\n",
       "\n",
       "        [[ -7.07759523],\n",
       "         [-13.66497612],\n",
       "         [ -6.8888979 ],\n",
       "         ...,\n",
       "         [-12.12047195],\n",
       "         [ -9.29841518],\n",
       "         [ -7.64439344]],\n",
       "\n",
       "        ...,\n",
       "\n",
       "        [[ -1.41719162],\n",
       "         [ -8.32554913],\n",
       "         [ -0.87606043],\n",
       "         ...,\n",
       "         [ -7.44441748],\n",
       "         [ -7.2287488 ],\n",
       "         [ -5.33666945]],\n",
       "\n",
       "        [[-76.46214294],\n",
       "         [-83.27526093],\n",
       "         [-76.93689728],\n",
       "         ...,\n",
       "         [-19.95397949],\n",
       "         [-19.38440323],\n",
       "         [-19.66468811]],\n",
       "\n",
       "        [[ -2.16663432],\n",
       "         [-10.39913177],\n",
       "         [ -2.16957879],\n",
       "         ...,\n",
       "         [ -8.38955307],\n",
       "         [ -8.60554028],\n",
       "         [ -1.97400618]]],\n",
       "\n",
       "\n",
       "       [[[-54.24480438],\n",
       "         [-55.76259613],\n",
       "         [-56.89716721],\n",
       "         ...,\n",
       "         [-16.79919052],\n",
       "         [-16.91117477],\n",
       "         [-16.76407051]],\n",
       "\n",
       "        [[-12.63129616],\n",
       "         [-12.89976692],\n",
       "         [-12.67405033],\n",
       "         ...,\n",
       "         [ -9.00664425],\n",
       "         [ -9.59034348],\n",
       "         [ -9.60505772]],\n",
       "\n",
       "        [[-22.35799789],\n",
       "         [-23.78342438],\n",
       "         [-23.35025978],\n",
       "         ...,\n",
       "         [-10.64000797],\n",
       "         [-12.04390812],\n",
       "         [-11.9746933 ]],\n",
       "\n",
       "        ...,\n",
       "\n",
       "        [[ -2.06412339],\n",
       "         [ -5.4450717 ],\n",
       "         [ -6.98235655],\n",
       "         ...,\n",
       "         [  3.18147063],\n",
       "         [  0.14948435],\n",
       "         [  0.2379002 ]],\n",
       "\n",
       "        [[-61.8571434 ],\n",
       "         [-66.57529449],\n",
       "         [-66.42589569],\n",
       "         ...,\n",
       "         [ -0.29729298],\n",
       "         [  0.87306768],\n",
       "         [ -1.55782568]],\n",
       "\n",
       "        [[ -5.90384912],\n",
       "         [-11.75942421],\n",
       "         [ -8.96345806],\n",
       "         ...,\n",
       "         [  1.10633934],\n",
       "         [ -1.91123796],\n",
       "         [ -2.66354895]]]])"
      ]
     },
     "execution_count": 9,
     "metadata": {},
     "output_type": "execute_result"
    }
   ],
   "source": [
    "X_dev[:2]"
   ]
  },
  {
   "cell_type": "code",
   "execution_count": 10,
   "metadata": {},
   "outputs": [
    {
     "data": {
      "text/plain": [
       "array([[1., 0.],\n",
       "       [1., 0.]])"
      ]
     },
     "execution_count": 10,
     "metadata": {},
     "output_type": "execute_result"
    }
   ],
   "source": [
    "y_train[:2]"
   ]
  },
  {
   "cell_type": "code",
   "execution_count": 11,
   "metadata": {},
   "outputs": [
    {
     "data": {
      "text/plain": [
       "array([0., 1.])"
      ]
     },
     "execution_count": 11,
     "metadata": {},
     "output_type": "execute_result"
    }
   ],
   "source": [
    "y_train[-20]"
   ]
  },
  {
   "cell_type": "code",
   "execution_count": 12,
   "metadata": {},
   "outputs": [
    {
     "data": {
      "text/plain": [
       "array([[1., 0.],\n",
       "       [1., 0.]])"
      ]
     },
     "execution_count": 12,
     "metadata": {},
     "output_type": "execute_result"
    }
   ],
   "source": [
    "y_dev[:2]"
   ]
  },
  {
   "cell_type": "code",
   "execution_count": 13,
   "metadata": {},
   "outputs": [
    {
     "data": {
      "text/plain": [
       "(31, 300, 1)"
      ]
     },
     "execution_count": 13,
     "metadata": {},
     "output_type": "execute_result"
    }
   ],
   "source": [
    "X_dev[0].shape"
   ]
  },
  {
   "cell_type": "code",
   "execution_count": 14,
   "metadata": {},
   "outputs": [
    {
     "data": {
      "text/plain": [
       "(98, 31, 300, 1)"
      ]
     },
     "execution_count": 14,
     "metadata": {},
     "output_type": "execute_result"
    }
   ],
   "source": [
    "X_dev.shape"
   ]
  },
  {
   "cell_type": "code",
   "execution_count": 15,
   "metadata": {},
   "outputs": [
    {
     "data": {
      "text/plain": [
       "(392, 31, 300, 1)"
      ]
     },
     "execution_count": 15,
     "metadata": {},
     "output_type": "execute_result"
    }
   ],
   "source": [
    "X_train.shape"
   ]
  },
  {
   "cell_type": "code",
   "execution_count": 16,
   "metadata": {},
   "outputs": [
    {
     "data": {
      "text/plain": [
       "2"
      ]
     },
     "execution_count": 16,
     "metadata": {},
     "output_type": "execute_result"
    }
   ],
   "source": [
    "y_train.shape[1]"
   ]
  },
  {
   "cell_type": "markdown",
   "metadata": {},
   "source": [
    "### 4 - Set hyperparameters"
   ]
  },
  {
   "cell_type": "code",
   "execution_count": 17,
   "metadata": {},
   "outputs": [],
   "source": [
    "# Tensorboard\n",
    "from time import time\n",
    "from keras.callbacks import TensorBoard\n",
    "tensorboard = TensorBoard(log_dir='logs/{}'.format(time()))"
   ]
  },
  {
   "cell_type": "code",
   "execution_count": 18,
   "metadata": {},
   "outputs": [
    {
     "data": {
      "text/plain": [
       "'\\nn_epochs = 100 #2000\\n#learning_rate = 0.001\\nbatch_size = 32 #250 \\nn_neurons_per_hlayer = [500, 250, 75, 25] # Number of units per layer, 4 hidden layers\\nrate_dropout = [0.8, 0.4, 0.2, 0.1]\\nweight_decay = 1e-4\\n'"
      ]
     },
     "execution_count": 18,
     "metadata": {},
     "output_type": "execute_result"
    }
   ],
   "source": [
    "\"\"\"\n",
    "n_epochs = 100 #2000\n",
    "#learning_rate = 0.001\n",
    "batch_size = 32 #250 \n",
    "n_neurons_per_hlayer = [500, 250, 75, 25] # Number of units per layer, 4 hidden layers\n",
    "rate_dropout = [0.8, 0.4, 0.2, 0.1]\n",
    "weight_decay = 1e-4\n",
    "\"\"\""
   ]
  },
  {
   "cell_type": "markdown",
   "metadata": {},
   "source": [
    "### 5 - Build the model: "
   ]
  },
  {
   "cell_type": "code",
   "execution_count": 19,
   "metadata": {},
   "outputs": [
    {
     "name": "stdout",
     "output_type": "stream",
     "text": [
      "Model: \"sequential\"\n",
      "_________________________________________________________________\n",
      "Layer (type)                 Output Shape              Param #   \n",
      "=================================================================\n",
      "conv2d (Conv2D)              (None, 31, 300, 4)        104       \n",
      "_________________________________________________________________\n",
      "conv2d_1 (Conv2D)            (None, 31, 300, 4)        500       \n",
      "_________________________________________________________________\n",
      "max_pooling2d (MaxPooling2D) (None, 15, 150, 4)        0         \n",
      "_________________________________________________________________\n",
      "flatten (Flatten)            (None, 9000)              0         \n",
      "_________________________________________________________________\n",
      "dense (Dense)                (None, 2)                 18002     \n",
      "=================================================================\n",
      "Total params: 18,606\n",
      "Trainable params: 18,606\n",
      "Non-trainable params: 0\n",
      "_________________________________________________________________\n"
     ]
    }
   ],
   "source": [
    "from keras.models import Sequential\n",
    "from keras.layers import Dense, Dropout, Activation, Flatten, DepthwiseConv2D\n",
    "from keras.layers.convolutional import Conv2D, MaxPooling2D\n",
    "from keras import optimizers, regularizers\n",
    "import keras.backend as K\n",
    "#K.set_image_data_format('channels_first')\n",
    "\n",
    "weight_decay = 1e-4\n",
    "\n",
    "model = Sequential()\n",
    "# Convolution2D(filtrosConv1, tamaño_filtro1, padding=\"same\", input_shape=(longitud, altura,3), activation = \"relu\")\n",
    "    # - filtrosConv1 número de filtros que aplicaremos tras la primera convolución, normalmente este tamaño va a aumentando\n",
    "    # tras convoluciones para que aumente la dimensión de profundidad (qué cosas hay en mi imagen)\n",
    "    # - tamaño_filtro1 tamaño espacial del kernel (de los filtros)\n",
    "    # - padding = si es same es que es igual que la imagen, vamos crea una imagen del mismo tamaño con el filtro, si es \n",
    "    # valid es que no hay padding y crea una imagen más pequeña que la imagen (creo)\n",
    "    # - input_shape = longitud y altura, tamaño que usará para convolucionar al entrenar\n",
    "    \n",
    "# CAPA PARA FILTRADO TEMPORAL\n",
    "model.add(Conv2D(filters = 4, kernel_size=(1,25), padding=\"same\", activation=\"relu\",input_shape=(31, 300,1 ), kernel_initializer=\"he_normal\", kernel_regularizer=regularizers.l2(weight_decay)))\n",
    "# CAPA PARA FILTRADO ESPACIAL\n",
    "model.add(Conv2D(filters = 4, kernel_size=(31,1), padding=\"same\", activation=\"relu\", kernel_initializer=\"he_normal\", kernel_regularizer=regularizers.l2(weight_decay)))\n",
    "\n",
    "model.add(MaxPooling2D(pool_size=(2, 2)))\n",
    "\"\"\"\n",
    "model.add(Dropout(0.5))\n",
    "\n",
    "## Siguientes capas convolucionales: \n",
    "model.add(Conv2D(20, (3,3), padding='same',activation='relu', kernel_initializer=\"he_normal\",kernel_regularizer=regularizers.l2(weight_decay)))\n",
    "model.add(MaxPooling2D(pool_size=(2,2)))\n",
    "model.add(Dropout(0.4))\n",
    "\n",
    "model.add(Conv2D(40, (3,3), padding='same',activation='relu', kernel_initializer=\"he_normal\",kernel_regularizer=regularizers.l2(weight_decay)))\n",
    "model.add(MaxPooling2D(pool_size=(2,2)))\n",
    "model.add(Dropout(0.3))\n",
    "\n",
    "\n",
    "model.add(Conv2D(80, (3,3), padding='same',activation='relu', kernel_initializer=\"he_normal\",kernel_regularizer=regularizers.l2(weight_decay)))\n",
    "model.add(MaxPooling2D(pool_size=(2,2)))\n",
    "model.add(Dropout(0.2))\n",
    "\"\"\"\n",
    "\"\"\"\n",
    "model.add(Conv2D(160, (3,3), padding='same',activation='relu', kernel_initializer=\"he_normal\",kernel_regularizer=regularizers.l2(weight_decay)))\n",
    "model.add(MaxPooling2D(pool_size=(2,2)))\n",
    "\"\"\"\n",
    "\n",
    "\n",
    "\"\"\"\n",
    "model.add(MaxPooling2D(pool_size=(2, 2)))\n",
    "model.add(Dropout(0.5))\n",
    "\n",
    "\n",
    "model.add(Conv2D(96, (3, 3), padding='same',activation='relu', kernel_initializer=\"he_normal\",kernel_regularizer=regularizers.l2(weight_decay)))\n",
    "#model.add(Conv2D(96, (3, 3), padding='same',activation='relu', kernel_initializer=\"he_normal\", kernel_regularizer=regularizers.l2(weight_decay)))\n",
    "model.add(MaxPooling2D(pool_size=(2, 2)))\n",
    "model.add(Dropout(0.2))\n",
    "\n",
    "model.add(Conv2D(192, (3, 3), padding='same',activation='relu', kernel_initializer=\"he_normal\", kernel_regularizer=regularizers.l2(weight_decay)))\n",
    "#model.add(Conv2D(192, (3, 3), padding='same',activation='relu', kernel_initializer=\"he_normal\", kernel_regularizer=regularizers.l2(weight_decay)))\n",
    "model.add(MaxPooling2D(pool_size=(2, 2)))\n",
    "model.add(Dropout(0.1))\n",
    "\"\"\"\n",
    "\n",
    "model.add(Flatten())\n",
    "model.add(Dense(y_train.shape[1], activation=\"softmax\"))\n",
    "\n",
    "opt = optimizers.Adam(lr=0.001, beta_1=0.9, beta_2=0.999)        \n",
    "model.compile(optimizer=opt, loss='categorical_crossentropy', metrics=['accuracy'])\n",
    "model.summary()"
   ]
  },
  {
   "cell_type": "code",
   "execution_count": 20,
   "metadata": {},
   "outputs": [
    {
     "data": {
      "text/plain": [
       "[<tensorflow.python.keras.layers.convolutional.Conv2D at 0x276d20a7220>,\n",
       " <tensorflow.python.keras.layers.convolutional.Conv2D at 0x276d1176040>,\n",
       " <tensorflow.python.keras.layers.pooling.MaxPooling2D at 0x276d10c8a00>,\n",
       " <tensorflow.python.keras.layers.core.Flatten at 0x276d13338e0>,\n",
       " <tensorflow.python.keras.layers.core.Dense at 0x276d132a9d0>]"
      ]
     },
     "execution_count": 20,
     "metadata": {},
     "output_type": "execute_result"
    }
   ],
   "source": [
    "model.layers"
   ]
  },
  {
   "cell_type": "code",
   "execution_count": 21,
   "metadata": {},
   "outputs": [
    {
     "name": "stdout",
     "output_type": "stream",
     "text": [
      "conv2d\n",
      "conv2d_1\n",
      "max_pooling2d\n",
      "flatten\n",
      "dense\n"
     ]
    }
   ],
   "source": [
    "for l in model.layers: print (l.name)"
   ]
  },
  {
   "cell_type": "markdown",
   "metadata": {},
   "source": [
    "All the parameters of a layer can bee accessed:"
   ]
  },
  {
   "cell_type": "code",
   "execution_count": 22,
   "metadata": {},
   "outputs": [
    {
     "data": {
      "text/plain": [
       "(1, 25, 1, 4)"
      ]
     },
     "execution_count": 22,
     "metadata": {},
     "output_type": "execute_result"
    }
   ],
   "source": [
    "weights, biases = model.layers[0].get_weights()\n",
    "weights.shape"
   ]
  },
  {
   "cell_type": "code",
   "execution_count": 23,
   "metadata": {},
   "outputs": [
    {
     "data": {
      "text/plain": [
       "array([[[[ 4.50243987e-02,  4.58692312e-02,  2.09918082e-01,\n",
       "          -1.23317331e-01]],\n",
       "\n",
       "        [[ 1.47867605e-01,  1.20574787e-01,  3.04542333e-01,\n",
       "          -1.15116313e-01]],\n",
       "\n",
       "        [[-5.17974377e-01,  3.99521887e-02,  1.12314612e-01,\n",
       "          -5.95382936e-02]],\n",
       "\n",
       "        [[-3.48448604e-01, -5.34528315e-01,  1.81690022e-01,\n",
       "           2.67774552e-01]],\n",
       "\n",
       "        [[ 1.14118448e-02,  3.02221306e-04, -6.33053422e-01,\n",
       "           1.03928903e-02]],\n",
       "\n",
       "        [[ 4.05220777e-01,  1.25764146e-01,  1.27826212e-02,\n",
       "           2.02214614e-01]],\n",
       "\n",
       "        [[ 1.77932084e-01,  2.25548550e-01, -9.38821509e-02,\n",
       "          -4.16223645e-01]],\n",
       "\n",
       "        [[-9.65219515e-04, -2.84350932e-01, -4.35686409e-01,\n",
       "          -1.02792002e-01]],\n",
       "\n",
       "        [[ 6.29089400e-02,  2.71328300e-01,  1.51945636e-01,\n",
       "           3.35011810e-01]],\n",
       "\n",
       "        [[ 5.03230393e-01,  2.42323786e-01, -2.97274739e-02,\n",
       "          -1.15462780e-01]],\n",
       "\n",
       "        [[-4.18076515e-02, -4.35901284e-01,  7.49409497e-02,\n",
       "          -2.21664473e-01]],\n",
       "\n",
       "        [[ 3.47690359e-02,  3.89780067e-02,  2.68532038e-01,\n",
       "          -1.28989364e-03]],\n",
       "\n",
       "        [[-1.88722908e-01,  2.15905786e-01,  2.23269477e-01,\n",
       "           4.44169849e-01]],\n",
       "\n",
       "        [[-3.76408070e-01,  4.39287007e-01, -7.69921616e-02,\n",
       "           6.01397529e-02]],\n",
       "\n",
       "        [[-2.94046193e-01, -4.92400629e-03, -4.82061803e-01,\n",
       "          -5.27127497e-02]],\n",
       "\n",
       "        [[-1.29310535e-02, -3.04735065e-01,  1.34612277e-01,\n",
       "           1.99608773e-01]],\n",
       "\n",
       "        [[-6.17892683e-01, -4.57379997e-01, -2.53257722e-01,\n",
       "          -2.68594593e-01]],\n",
       "\n",
       "        [[ 2.26862952e-01, -3.71601224e-01,  3.54921013e-01,\n",
       "          -2.23393872e-01]],\n",
       "\n",
       "        [[ 2.13285908e-02, -2.09787995e-01, -7.49517456e-02,\n",
       "           9.19750035e-02]],\n",
       "\n",
       "        [[-2.78454095e-01, -7.43006095e-02, -2.75895745e-01,\n",
       "           4.88958247e-02]],\n",
       "\n",
       "        [[ 6.71605393e-02, -4.20009315e-01,  3.65874738e-01,\n",
       "           4.71960813e-01]],\n",
       "\n",
       "        [[ 2.53633946e-01, -3.68499190e-01, -3.92646790e-02,\n",
       "          -2.95608908e-01]],\n",
       "\n",
       "        [[-2.14658692e-01,  4.28538471e-01, -2.55485117e-01,\n",
       "           4.69607025e-01]],\n",
       "\n",
       "        [[ 2.00387657e-01,  2.98576385e-01,  2.57180542e-01,\n",
       "          -1.57439590e-01]],\n",
       "\n",
       "        [[-5.11518046e-02,  4.60587114e-01,  2.92234004e-01,\n",
       "          -9.88441333e-02]]]], dtype=float32)"
      ]
     },
     "execution_count": 23,
     "metadata": {},
     "output_type": "execute_result"
    }
   ],
   "source": [
    "weights"
   ]
  },
  {
   "cell_type": "code",
   "execution_count": 24,
   "metadata": {},
   "outputs": [
    {
     "data": {
      "text/plain": [
       "array([0., 0., 0., 0.], dtype=float32)"
      ]
     },
     "execution_count": 24,
     "metadata": {},
     "output_type": "execute_result"
    }
   ],
   "source": [
    "biases # Bias de la primera capa: 500 bias inicializados a 0 "
   ]
  },
  {
   "cell_type": "code",
   "execution_count": 25,
   "metadata": {},
   "outputs": [
    {
     "data": {
      "text/plain": [
       "(4,)"
      ]
     },
     "execution_count": 25,
     "metadata": {},
     "output_type": "execute_result"
    }
   ],
   "source": [
    "biases.shape"
   ]
  },
  {
   "cell_type": "markdown",
   "metadata": {},
   "source": [
    "### 6. Compile the model"
   ]
  },
  {
   "cell_type": "markdown",
   "metadata": {},
   "source": [
    "### 7. Train the model with M-BGD"
   ]
  },
  {
   "cell_type": "code",
   "execution_count": 26,
   "metadata": {},
   "outputs": [
    {
     "name": "stdout",
     "output_type": "stream",
     "text": [
      "Epoch 1/100\n",
      "13/13 - 4s - loss: 9.1976 - accuracy: 0.4872 - val_loss: 6.9167 - val_accuracy: 0.5000\n",
      "Epoch 2/100\n",
      "13/13 - 2s - loss: 1.8380 - accuracy: 0.6429 - val_loss: 3.1988 - val_accuracy: 0.5000\n",
      "Epoch 3/100\n",
      "13/13 - 2s - loss: 1.0317 - accuracy: 0.7015 - val_loss: 2.6825 - val_accuracy: 0.4592\n",
      "Epoch 4/100\n",
      "13/13 - 2s - loss: 0.4796 - accuracy: 0.8163 - val_loss: 2.7037 - val_accuracy: 0.5000\n",
      "Epoch 5/100\n",
      "13/13 - 2s - loss: 0.2355 - accuracy: 0.9056 - val_loss: 2.6330 - val_accuracy: 0.4898\n",
      "Epoch 6/100\n",
      "13/13 - 2s - loss: 0.1233 - accuracy: 0.9566 - val_loss: 2.7575 - val_accuracy: 0.4694\n",
      "Epoch 7/100\n",
      "13/13 - 2s - loss: 0.0691 - accuracy: 0.9923 - val_loss: 2.8905 - val_accuracy: 0.4490\n",
      "Epoch 8/100\n",
      "13/13 - 2s - loss: 0.0388 - accuracy: 1.0000 - val_loss: 2.9971 - val_accuracy: 0.4388\n",
      "Epoch 9/100\n",
      "13/13 - 2s - loss: 0.0313 - accuracy: 1.0000 - val_loss: 3.0090 - val_accuracy: 0.4490\n",
      "Epoch 10/100\n",
      "13/13 - 2s - loss: 0.0241 - accuracy: 1.0000 - val_loss: 3.0331 - val_accuracy: 0.4592\n",
      "Epoch 11/100\n",
      "13/13 - 2s - loss: 0.0211 - accuracy: 1.0000 - val_loss: 3.0709 - val_accuracy: 0.4286\n",
      "Epoch 12/100\n",
      "13/13 - 2s - loss: 0.0174 - accuracy: 1.0000 - val_loss: 3.1116 - val_accuracy: 0.4490\n",
      "Epoch 13/100\n",
      "13/13 - 3s - loss: 0.0148 - accuracy: 1.0000 - val_loss: 3.1387 - val_accuracy: 0.4592\n",
      "Epoch 14/100\n",
      "13/13 - 3s - loss: 0.0137 - accuracy: 1.0000 - val_loss: 3.1920 - val_accuracy: 0.4388\n",
      "Epoch 15/100\n",
      "13/13 - 2s - loss: 0.0116 - accuracy: 1.0000 - val_loss: 3.2009 - val_accuracy: 0.4490\n",
      "Epoch 16/100\n",
      "13/13 - 2s - loss: 0.0106 - accuracy: 1.0000 - val_loss: 3.2309 - val_accuracy: 0.4592\n",
      "Epoch 17/100\n",
      "13/13 - 2s - loss: 0.0095 - accuracy: 1.0000 - val_loss: 3.2565 - val_accuracy: 0.4490\n",
      "Epoch 18/100\n",
      "13/13 - 2s - loss: 0.0088 - accuracy: 1.0000 - val_loss: 3.2822 - val_accuracy: 0.4592\n",
      "Epoch 19/100\n",
      "13/13 - 2s - loss: 0.0081 - accuracy: 1.0000 - val_loss: 3.3083 - val_accuracy: 0.4592\n",
      "Epoch 20/100\n",
      "13/13 - 3s - loss: 0.0076 - accuracy: 1.0000 - val_loss: 3.3339 - val_accuracy: 0.4388\n",
      "Epoch 21/100\n",
      "13/13 - 2s - loss: 0.0071 - accuracy: 1.0000 - val_loss: 3.3578 - val_accuracy: 0.4388\n",
      "Epoch 22/100\n",
      "13/13 - 2s - loss: 0.0067 - accuracy: 1.0000 - val_loss: 3.3781 - val_accuracy: 0.4388\n",
      "Epoch 23/100\n",
      "13/13 - 2s - loss: 0.0063 - accuracy: 1.0000 - val_loss: 3.4011 - val_accuracy: 0.4490\n",
      "Epoch 24/100\n",
      "13/13 - 2s - loss: 0.0060 - accuracy: 1.0000 - val_loss: 3.4248 - val_accuracy: 0.4388\n",
      "Epoch 25/100\n",
      "13/13 - 2s - loss: 0.0057 - accuracy: 1.0000 - val_loss: 3.4412 - val_accuracy: 0.4388\n",
      "Epoch 26/100\n",
      "13/13 - 2s - loss: 0.0054 - accuracy: 1.0000 - val_loss: 3.4515 - val_accuracy: 0.4388\n",
      "Epoch 27/100\n",
      "13/13 - 3s - loss: 0.0052 - accuracy: 1.0000 - val_loss: 3.4724 - val_accuracy: 0.4388\n",
      "Epoch 28/100\n",
      "13/13 - 3s - loss: 0.0049 - accuracy: 1.0000 - val_loss: 3.4901 - val_accuracy: 0.4388\n",
      "Epoch 29/100\n",
      "13/13 - 3s - loss: 0.0047 - accuracy: 1.0000 - val_loss: 3.5073 - val_accuracy: 0.4388\n",
      "Epoch 30/100\n",
      "13/13 - 2s - loss: 0.0045 - accuracy: 1.0000 - val_loss: 3.5227 - val_accuracy: 0.4388\n",
      "Epoch 31/100\n",
      "13/13 - 2s - loss: 0.0044 - accuracy: 1.0000 - val_loss: 3.5433 - val_accuracy: 0.4388\n",
      "Epoch 32/100\n",
      "13/13 - 3s - loss: 0.0042 - accuracy: 1.0000 - val_loss: 3.5599 - val_accuracy: 0.4388\n",
      "Epoch 33/100\n",
      "13/13 - 3s - loss: 0.0041 - accuracy: 1.0000 - val_loss: 3.5794 - val_accuracy: 0.4388\n",
      "Epoch 34/100\n",
      "13/13 - 2s - loss: 0.0040 - accuracy: 1.0000 - val_loss: 3.5906 - val_accuracy: 0.4388\n",
      "Epoch 35/100\n",
      "13/13 - 2s - loss: 0.0038 - accuracy: 1.0000 - val_loss: 3.6022 - val_accuracy: 0.4388\n",
      "Epoch 36/100\n",
      "13/13 - 2s - loss: 0.0037 - accuracy: 1.0000 - val_loss: 3.6200 - val_accuracy: 0.4388\n",
      "Epoch 37/100\n",
      "13/13 - 2s - loss: 0.0036 - accuracy: 1.0000 - val_loss: 3.6357 - val_accuracy: 0.4388\n",
      "Epoch 38/100\n",
      "13/13 - 2s - loss: 0.0035 - accuracy: 1.0000 - val_loss: 3.6482 - val_accuracy: 0.4388\n",
      "Epoch 39/100\n",
      "13/13 - 2s - loss: 0.0034 - accuracy: 1.0000 - val_loss: 3.6610 - val_accuracy: 0.4388\n",
      "Epoch 40/100\n",
      "13/13 - 2s - loss: 0.0033 - accuracy: 1.0000 - val_loss: 3.6754 - val_accuracy: 0.4388\n",
      "Epoch 41/100\n",
      "13/13 - 3s - loss: 0.0033 - accuracy: 1.0000 - val_loss: 3.6827 - val_accuracy: 0.4388\n",
      "Epoch 42/100\n",
      "13/13 - 2s - loss: 0.0032 - accuracy: 1.0000 - val_loss: 3.6988 - val_accuracy: 0.4388\n",
      "Epoch 43/100\n",
      "13/13 - 2s - loss: 0.0031 - accuracy: 1.0000 - val_loss: 3.7141 - val_accuracy: 0.4286\n",
      "Epoch 44/100\n",
      "13/13 - 2s - loss: 0.0031 - accuracy: 1.0000 - val_loss: 3.7214 - val_accuracy: 0.4490\n",
      "Epoch 45/100\n",
      "13/13 - 2s - loss: 0.0030 - accuracy: 1.0000 - val_loss: 3.7355 - val_accuracy: 0.4388\n",
      "Epoch 46/100\n",
      "13/13 - 3s - loss: 0.0029 - accuracy: 1.0000 - val_loss: 3.7497 - val_accuracy: 0.4388\n",
      "Epoch 47/100\n",
      "13/13 - 3s - loss: 0.0029 - accuracy: 1.0000 - val_loss: 3.7620 - val_accuracy: 0.4388\n",
      "Epoch 48/100\n",
      "13/13 - 3s - loss: 0.0028 - accuracy: 1.0000 - val_loss: 3.7792 - val_accuracy: 0.4388\n",
      "Epoch 49/100\n",
      "13/13 - 2s - loss: 0.0028 - accuracy: 1.0000 - val_loss: 3.7865 - val_accuracy: 0.4388\n",
      "Epoch 50/100\n",
      "13/13 - 2s - loss: 0.0027 - accuracy: 1.0000 - val_loss: 3.7971 - val_accuracy: 0.4388\n",
      "Epoch 51/100\n",
      "13/13 - 2s - loss: 0.0027 - accuracy: 1.0000 - val_loss: 3.8134 - val_accuracy: 0.4388\n",
      "Epoch 52/100\n",
      "13/13 - 3s - loss: 0.0027 - accuracy: 1.0000 - val_loss: 3.8193 - val_accuracy: 0.4388\n",
      "Epoch 53/100\n",
      "13/13 - 3s - loss: 0.0026 - accuracy: 1.0000 - val_loss: 3.8329 - val_accuracy: 0.4388\n",
      "Epoch 54/100\n",
      "13/13 - 3s - loss: 0.0026 - accuracy: 1.0000 - val_loss: 3.8450 - val_accuracy: 0.4388\n",
      "Epoch 55/100\n",
      "13/13 - 2s - loss: 0.0025 - accuracy: 1.0000 - val_loss: 3.8563 - val_accuracy: 0.4388\n",
      "Epoch 56/100\n",
      "13/13 - 2s - loss: 0.0025 - accuracy: 1.0000 - val_loss: 3.8648 - val_accuracy: 0.4388\n",
      "Epoch 57/100\n",
      "13/13 - 2s - loss: 0.0025 - accuracy: 1.0000 - val_loss: 3.8759 - val_accuracy: 0.4388\n",
      "Epoch 58/100\n",
      "13/13 - 2s - loss: 0.0024 - accuracy: 1.0000 - val_loss: 3.8868 - val_accuracy: 0.4388\n",
      "Epoch 59/100\n",
      "13/13 - 2s - loss: 0.0024 - accuracy: 1.0000 - val_loss: 3.8959 - val_accuracy: 0.4388\n",
      "Epoch 60/100\n",
      "13/13 - 3s - loss: 0.0024 - accuracy: 1.0000 - val_loss: 3.9070 - val_accuracy: 0.4286\n",
      "Epoch 61/100\n",
      "13/13 - 2s - loss: 0.0024 - accuracy: 1.0000 - val_loss: 3.9142 - val_accuracy: 0.4388\n",
      "Epoch 62/100\n",
      "13/13 - 3s - loss: 0.0023 - accuracy: 1.0000 - val_loss: 3.9241 - val_accuracy: 0.4286\n",
      "Epoch 63/100\n",
      "13/13 - 3s - loss: 0.0023 - accuracy: 1.0000 - val_loss: 3.9345 - val_accuracy: 0.4286\n",
      "Epoch 64/100\n",
      "13/13 - 2s - loss: 0.0023 - accuracy: 1.0000 - val_loss: 3.9440 - val_accuracy: 0.4286\n",
      "Epoch 65/100\n",
      "13/13 - 2s - loss: 0.0023 - accuracy: 1.0000 - val_loss: 3.9523 - val_accuracy: 0.4286\n",
      "Epoch 66/100\n",
      "13/13 - 3s - loss: 0.0022 - accuracy: 1.0000 - val_loss: 3.9597 - val_accuracy: 0.4286\n",
      "Epoch 67/100\n",
      "13/13 - 2s - loss: 0.0022 - accuracy: 1.0000 - val_loss: 3.9692 - val_accuracy: 0.4286\n",
      "Epoch 68/100\n",
      "13/13 - 2s - loss: 0.0022 - accuracy: 1.0000 - val_loss: 3.9780 - val_accuracy: 0.4388\n",
      "Epoch 69/100\n",
      "13/13 - 2s - loss: 0.0022 - accuracy: 1.0000 - val_loss: 3.9848 - val_accuracy: 0.4286\n",
      "Epoch 70/100\n",
      "13/13 - 3s - loss: 0.0022 - accuracy: 1.0000 - val_loss: 3.9932 - val_accuracy: 0.4286\n",
      "Epoch 71/100\n",
      "13/13 - 2s - loss: 0.0021 - accuracy: 1.0000 - val_loss: 4.0033 - val_accuracy: 0.4286\n",
      "Epoch 72/100\n",
      "13/13 - 2s - loss: 0.0021 - accuracy: 1.0000 - val_loss: 4.0118 - val_accuracy: 0.4388\n",
      "Epoch 73/100\n",
      "13/13 - 3s - loss: 0.0021 - accuracy: 1.0000 - val_loss: 4.0208 - val_accuracy: 0.4388\n",
      "Epoch 74/100\n",
      "13/13 - 3s - loss: 0.0021 - accuracy: 1.0000 - val_loss: 4.0297 - val_accuracy: 0.4388\n",
      "Epoch 75/100\n",
      "13/13 - 3s - loss: 0.0021 - accuracy: 1.0000 - val_loss: 4.0361 - val_accuracy: 0.4388\n",
      "Epoch 76/100\n",
      "13/13 - 2s - loss: 0.0021 - accuracy: 1.0000 - val_loss: 4.0433 - val_accuracy: 0.4388\n",
      "Epoch 77/100\n",
      "13/13 - 3s - loss: 0.0021 - accuracy: 1.0000 - val_loss: 4.0539 - val_accuracy: 0.4388\n",
      "Epoch 78/100\n",
      "13/13 - 2s - loss: 0.0020 - accuracy: 1.0000 - val_loss: 4.0602 - val_accuracy: 0.4388\n",
      "Epoch 79/100\n",
      "13/13 - 3s - loss: 0.0020 - accuracy: 1.0000 - val_loss: 4.0684 - val_accuracy: 0.4388\n",
      "Epoch 80/100\n",
      "13/13 - 3s - loss: 0.0020 - accuracy: 1.0000 - val_loss: 4.0758 - val_accuracy: 0.4388\n",
      "Epoch 81/100\n",
      "13/13 - 3s - loss: 0.0020 - accuracy: 1.0000 - val_loss: 4.0831 - val_accuracy: 0.4388\n",
      "Epoch 82/100\n",
      "13/13 - 2s - loss: 0.0020 - accuracy: 1.0000 - val_loss: 4.0905 - val_accuracy: 0.4388\n",
      "Epoch 83/100\n"
     ]
    },
    {
     "name": "stdout",
     "output_type": "stream",
     "text": [
      "13/13 - 2s - loss: 0.0020 - accuracy: 1.0000 - val_loss: 4.0971 - val_accuracy: 0.4388\n",
      "Epoch 84/100\n",
      "13/13 - 2s - loss: 0.0020 - accuracy: 1.0000 - val_loss: 4.1040 - val_accuracy: 0.4388\n",
      "Epoch 85/100\n",
      "13/13 - 3s - loss: 0.0020 - accuracy: 1.0000 - val_loss: 4.1107 - val_accuracy: 0.4388\n",
      "Epoch 86/100\n",
      "13/13 - 2s - loss: 0.0020 - accuracy: 1.0000 - val_loss: 4.1173 - val_accuracy: 0.4388\n",
      "Epoch 87/100\n",
      "13/13 - 2s - loss: 0.0019 - accuracy: 1.0000 - val_loss: 4.1242 - val_accuracy: 0.4388\n",
      "Epoch 88/100\n",
      "13/13 - 2s - loss: 0.0019 - accuracy: 1.0000 - val_loss: 4.1307 - val_accuracy: 0.4388\n",
      "Epoch 89/100\n",
      "13/13 - 2s - loss: 0.0019 - accuracy: 1.0000 - val_loss: 4.1381 - val_accuracy: 0.4388\n",
      "Epoch 90/100\n",
      "13/13 - 2s - loss: 0.0019 - accuracy: 1.0000 - val_loss: 4.1460 - val_accuracy: 0.4694\n",
      "Epoch 91/100\n",
      "13/13 - 3s - loss: 0.0019 - accuracy: 1.0000 - val_loss: 4.1525 - val_accuracy: 0.4388\n",
      "Epoch 92/100\n",
      "13/13 - 3s - loss: 0.0019 - accuracy: 1.0000 - val_loss: 4.1586 - val_accuracy: 0.4388\n",
      "Epoch 93/100\n",
      "13/13 - 3s - loss: 0.0019 - accuracy: 1.0000 - val_loss: 4.1649 - val_accuracy: 0.4388\n",
      "Epoch 94/100\n",
      "13/13 - 3s - loss: 0.0019 - accuracy: 1.0000 - val_loss: 4.1702 - val_accuracy: 0.4388\n",
      "Epoch 95/100\n",
      "13/13 - 3s - loss: 0.0019 - accuracy: 1.0000 - val_loss: 4.1756 - val_accuracy: 0.4490\n",
      "Epoch 96/100\n",
      "13/13 - 3s - loss: 0.0019 - accuracy: 1.0000 - val_loss: 4.1818 - val_accuracy: 0.4388\n",
      "Epoch 97/100\n",
      "13/13 - 3s - loss: 0.0019 - accuracy: 1.0000 - val_loss: 4.1874 - val_accuracy: 0.4388\n",
      "Epoch 98/100\n",
      "13/13 - 3s - loss: 0.0018 - accuracy: 1.0000 - val_loss: 4.1938 - val_accuracy: 0.4388\n",
      "Epoch 99/100\n",
      "13/13 - 3s - loss: 0.0018 - accuracy: 1.0000 - val_loss: 4.1986 - val_accuracy: 0.4388\n",
      "Epoch 100/100\n",
      "13/13 - 3s - loss: 0.0018 - accuracy: 1.0000 - val_loss: 4.2040 - val_accuracy: 0.4388\n",
      "247.90123653411865\n"
     ]
    }
   ],
   "source": [
    "import time\n",
    "start = time.time()\n",
    "#history = model.fit(X_train, y_train, batch_size=32, steps_per_epoch=len(y_train)/32, epochs=100, verbose=2, validation_data=(X_dev, y_dev),callbacks=[tensorboard])\n",
    "history = model.fit(X_train, y_train, batch_size=32, epochs=100, verbose=2, validation_data=(X_dev, y_dev))\n",
    "print (time.time() - start)\n",
    "\n"
   ]
  },
  {
   "cell_type": "markdown",
   "metadata": {},
   "source": [
    "### 8. Get the results"
   ]
  },
  {
   "cell_type": "code",
   "execution_count": 27,
   "metadata": {},
   "outputs": [
    {
     "data": {
      "image/png": "[encoded data removed]",
      "text/plain": [
       "<Figure size 576x360 with 1 Axes>"
      ]
     },
     "metadata": {
      "needs_background": "light"
     },
     "output_type": "display_data"
    }
   ],
   "source": [
    "results=pd.DataFrame(history.history)\n",
    "results.plot(figsize=(8, 5))\n",
    "plt.grid(True)\n",
    "plt.xlabel (\"Epochs\")\n",
    "plt.ylabel (\"Accuracy - Mean Log Loss\")\n",
    "plt.gca().set_ylim(0, 2) # set the vertical range to [0-1]\n",
    "plt.show()\n",
    "\n",
    "# categorical_accuracy es el training accuracy\n",
    "# val_categorical_accuracy es el validation accuracy\n",
    "# loss es el training loss\n",
    "# val_loss es el validation loss\n",
    "\n",
    "# Overfitting:\n",
    "# Por un lado la Accuracy de los datos de entrenamiento aumenta con las epochs,\n",
    "# mientras que la Accuracy de los datos de validación disminuye o se mantiene constante a lo largo de las epochs. \n",
    "# La Loss de los datos de validación alcanza su mínimo después de pocos epochs y luego empieza a subir, \n",
    "# mientras que la Loss de los datos de entrenamiento disminuye linealmente."
   ]
  },
  {
   "cell_type": "code",
   "execution_count": 28,
   "metadata": {},
   "outputs": [
    {
     "data": {
      "text/plain": [
       "{'verbose': 2, 'epochs': 100, 'steps': 13}"
      ]
     },
     "execution_count": 28,
     "metadata": {},
     "output_type": "execute_result"
    }
   ],
   "source": [
    "history.params"
   ]
  },
  {
   "cell_type": "code",
   "execution_count": 29,
   "metadata": {},
   "outputs": [
    {
     "data": {
      "text/html": [
       "<div>\n",
       "<style scoped>\n",
       "    .dataframe tbody tr th:only-of-type {\n",
       "        vertical-align: middle;\n",
       "    }\n",
       "\n",
       "    .dataframe tbody tr th {\n",
       "        vertical-align: top;\n",
       "    }\n",
       "\n",
       "    .dataframe thead th {\n",
       "        text-align: right;\n",
       "    }\n",
       "</style>\n",
       "<table border=\"1\" class=\"dataframe\">\n",
       "  <thead>\n",
       "    <tr style=\"text-align: right;\">\n",
       "      <th></th>\n",
       "      <th>loss</th>\n",
       "      <th>accuracy</th>\n",
       "      <th>val_loss</th>\n",
       "      <th>val_accuracy</th>\n",
       "    </tr>\n",
       "  </thead>\n",
       "  <tbody>\n",
       "    <tr>\n",
       "      <th>99</th>\n",
       "      <td>0.001835</td>\n",
       "      <td>1.0</td>\n",
       "      <td>4.204031</td>\n",
       "      <td>0.438776</td>\n",
       "    </tr>\n",
       "  </tbody>\n",
       "</table>\n",
       "</div>"
      ],
      "text/plain": [
       "        loss  accuracy  val_loss  val_accuracy\n",
       "99  0.001835       1.0  4.204031      0.438776"
      ]
     },
     "execution_count": 29,
     "metadata": {},
     "output_type": "execute_result"
    }
   ],
   "source": [
    "results[-1:]"
   ]
  },
  {
   "cell_type": "code",
   "execution_count": 30,
   "metadata": {},
   "outputs": [
    {
     "name": "stdout",
     "output_type": "stream",
     "text": [
      "Accuracy for the training set:  1.0\n"
     ]
    }
   ],
   "source": [
    "print (\"Accuracy for the training set: \", results.values[-1:][0][1])"
   ]
  },
  {
   "cell_type": "code",
   "execution_count": 31,
   "metadata": {},
   "outputs": [
    {
     "name": "stdout",
     "output_type": "stream",
     "text": [
      "Accuracy for the development test set:  0.43877550959587097\n"
     ]
    }
   ],
   "source": [
    "print (\"Accuracy for the development test set: \", results.values[-1:][0][3])"
   ]
  },
  {
   "cell_type": "code",
   "execution_count": null,
   "metadata": {},
   "outputs": [],
   "source": []
  },
  {
   "cell_type": "code",
   "execution_count": null,
   "metadata": {},
   "outputs": [],
   "source": []
  },
  {
   "cell_type": "code",
   "execution_count": null,
   "metadata": {},
   "outputs": [],
   "source": []
  },
  {
   "cell_type": "code",
   "execution_count": null,
   "metadata": {},
   "outputs": [],
   "source": []
  },
  {
   "cell_type": "code",
   "execution_count": null,
   "metadata": {},
   "outputs": [],
   "source": []
  },
  {
   "cell_type": "markdown",
   "metadata": {},
   "source": [
    "#### Let's see how the model predicts using the development test set:"
   ]
  },
  {
   "cell_type": "code",
   "execution_count": null,
   "metadata": {},
   "outputs": [],
   "source": [
    "dev_predictions=model.predict(X_dev).round(2) \n",
    "dev_predictions[:20]"
   ]
  },
  {
   "cell_type": "code",
   "execution_count": null,
   "metadata": {},
   "outputs": [],
   "source": [
    "dev_rounded_predictions=np.round(dev_predictions)\n",
    "indices = np.argmax(dev_predictions,1)\n",
    "for row, index in zip(dev_rounded_predictions, indices): row[index]=1\n",
    "dev_rounded_predictions[:20]"
   ]
  },
  {
   "cell_type": "code",
   "execution_count": null,
   "metadata": {},
   "outputs": [],
   "source": [
    "y_dev[:20]"
   ]
  },
  {
   "cell_type": "code",
   "execution_count": null,
   "metadata": {},
   "outputs": [],
   "source": [
    "dev_correct_predictions = np.equal(np.argmax(dev_rounded_predictions,1),np.argmax(y_dev,1))\n",
    "print (dev_correct_predictions[:30])"
   ]
  },
  {
   "cell_type": "code",
   "execution_count": null,
   "metadata": {},
   "outputs": [],
   "source": [
    "from collections import Counter\n",
    "Counter (dev_correct_predictions)"
   ]
  },
  {
   "cell_type": "markdown",
   "metadata": {},
   "source": [
    "### 9. Save model"
   ]
  },
  {
   "cell_type": "markdown",
   "metadata": {},
   "source": [
    "We save the model if it is better than others "
   ]
  },
  {
   "cell_type": "code",
   "execution_count": null,
   "metadata": {},
   "outputs": [],
   "source": [
    "# Save\n",
    "model.save('./Modelos/CNN_model3.h5') # Change the name in each model"
   ]
  },
  {
   "cell_type": "code",
   "execution_count": null,
   "metadata": {},
   "outputs": [],
   "source": [
    "# Extract\n",
    "\"\"\"\n",
    "new_model = keras.models.load_model('./Modelos/EGG_prac1_ANN_model3.h5')\n",
    "\n",
    "import numpy as np\n",
    "\n",
    "# Verify state\n",
    "new_predictions = new_model.predict(X_dev)\n",
    "np.testing.assert_allclose(predictions, new_predictions, rtol=1e-6, atol=1e-6)\n",
    "\n",
    "# Note that the optimizer state is also preserved:\n",
    "# you can resume training where you left off.\n",
    "\"\"\""
   ]
  },
  {
   "cell_type": "markdown",
   "metadata": {},
   "source": [
    "### 10 - Final Test\n",
    "\n",
    "#### 10.1 - Load the final test set"
   ]
  },
  {
   "cell_type": "code",
   "execution_count": null,
   "metadata": {},
   "outputs": [],
   "source": [
    "\n",
    "\"\"\"\n",
    "from sklearn.pipeline import make_pipeline\n",
    "from sklearn.preprocessing import StandardScaler, OneHotEncoder\n",
    "from sklearn.linear_model import Perceptron\n",
    "\n",
    "total_records = 4 # CAMBIAR SI HAY MAS REGISTROS\n",
    "\n",
    "task1 = 122 # SE PUEDE CAMBIAR\n",
    "task2 = 123 # SE PUEDE CAMBIAR\n",
    "task3 = 127 # SE PUEDE CAMBIAR\n",
    "users = [\"0091\"] # SE PUEDE CAMBIAR\n",
    "\"\"\""
   ]
  },
  {
   "cell_type": "code",
   "execution_count": null,
   "metadata": {},
   "outputs": [],
   "source": [
    "\"\"\"\n",
    "def readRegisterAndReturnXy(user, total_records, task1, task2, task3 = \"\"):\n",
    "    lTaskData = []\n",
    "    for i_rec in range(1,total_records+1):\n",
    "            record = \"userS\"+user+\"f\"+str(i_rec)+\".mat\"\n",
    "            output = read_outputs(record) # output.task será y, output.data será x\n",
    "\n",
    "            if task3 != \"\":\n",
    "                outT = (output.task == task1) | (output.task == task2) | (output.task == task3) \n",
    "            else: \n",
    "                outT = (output.task == task1) | (output.task == task2)\n",
    "            outData = output.data[outT[:,0],0:np.shape(output.data)[1]]\n",
    "\n",
    "            outTask = output.task[outT[:,0]]\n",
    "            outTD = OutTaskData(outTask, outData)\n",
    "            lTaskData.append(outTD)\n",
    "\n",
    "    X_test, y_test = [],[]\n",
    "    for j in range(0,total_records):\n",
    "        X_test.extend(lTaskData[j].data)\n",
    "        y_test.extend(lTaskData[j].task)\n",
    "\n",
    "    X_test = np.array(X_test)\n",
    "    y_test = np.ravel(np.array(y_test))\n",
    "\n",
    "    print (\"X_test:\",X_test.shape)\n",
    "    print (\"y_test:\",y_test.shape)\n",
    "\n",
    "    # ONE HOT ENCODER\n",
    "    encoder = make_pipeline(StandardScaler(), OneHotEncoder(categories=\"auto\", sparse=False)) # Function that one-hot encodes integers))\n",
    "    y_test = encoder.fit_transform (y_test.reshape(-1,1)) # y_one_hot\n",
    "\n",
    "    print(\"ONE HOT ENCODER:\")\n",
    "    print (\"X_test:\",X_test.shape)\n",
    "    print (\"y_test:\",y_test.shape)\n",
    "    \n",
    "    return X_test, y_test\n",
    "\"\"\""
   ]
  },
  {
   "cell_type": "code",
   "execution_count": null,
   "metadata": {},
   "outputs": [],
   "source": []
  },
  {
   "cell_type": "code",
   "execution_count": null,
   "metadata": {},
   "outputs": [],
   "source": [
    "\"\"\"\n",
    "n_final_test = n_instances-n_train-n_dev\n",
    "\n",
    "x_final_test = attributes.values[n_train+n_dev:n_instances]\n",
    "t_final_test = label.values[n_train+n_dev:n_instances]\n",
    "\n",
    "print (\"x_test:\",x_final_test.shape)\n",
    "print (\"t_test:\",t_final_test.shape)\n",
    "\n",
    "\n",
    "\"\"\""
   ]
  },
  {
   "cell_type": "markdown",
   "metadata": {},
   "source": [
    "#### 10.2 - Evaluate the model"
   ]
  },
  {
   "cell_type": "code",
   "execution_count": null,
   "metadata": {},
   "outputs": [],
   "source": [
    "from collections import Counter\n",
    "def predictWithModel(model, X_test, y_test, task1, task2, task3=\"\"):\n",
    "    model.evaluate(X_test, y_test)\n",
    "    test_predictions = model.predict(X_test)\n",
    "    test_rounded_predictions=np.round(test_predictions)\n",
    "    indices = np.argmax(test_predictions,1)\n",
    "    for row, index in zip(test_rounded_predictions, indices): row[index]=1\n",
    "    print(test_rounded_predictions[:20])\n",
    "    \n",
    "    # ACCURACY:\n",
    "    test_correct_predictions = np.equal(np.argmax(test_rounded_predictions,1),np.argmax(y_test,1))\n",
    "    print()\n",
    "    print(test_correct_predictions)\n",
    "    print(type(test_correct_predictions))\n",
    "    final_test_prediction_results=Counter(test_correct_predictions)\n",
    "    \n",
    "    success = np.mean(test_rounded_predictions == y_test)*100\n",
    "    \n",
    "    return final_test_prediction_results, success"
   ]
  },
  {
   "cell_type": "code",
   "execution_count": null,
   "metadata": {},
   "outputs": [],
   "source": [
    "users = [\"0091\"]\n",
    "for u in users:   \n",
    "    print(\"USER:\", u)\n",
    "    #X_test, y_test = readRegisterAndReturnXy(u, total_records, 122, 123, 127)\n",
    "    accuracy, success = predictWithModel(model, X_test, y_test, 402,404)\n",
    "    print(u, accuracy, success)\n",
    "    print()"
   ]
  },
  {
   "cell_type": "code",
   "execution_count": null,
   "metadata": {},
   "outputs": [],
   "source": [
    "#model.evaluate(x_final_test, t_final_test) # Un 77 es un accuracy bajo "
   ]
  },
  {
   "cell_type": "markdown",
   "metadata": {},
   "source": [
    "The outputs computed by the neural network for the final testing dataset."
   ]
  },
  {
   "cell_type": "code",
   "execution_count": null,
   "metadata": {},
   "outputs": [],
   "source": [
    "\"\"\"\n",
    "test_predictions=model.predict(x_final_test)\n",
    "test_rounded_predictions=np.round(test_predictions)\n",
    "indices = np.argmax(test_predictions,1)\n",
    "for row, index in zip(test_rounded_predictions, indices): row[index]=1\n",
    "test_rounded_predictions[:20]\n",
    "\"\"\""
   ]
  },
  {
   "cell_type": "markdown",
   "metadata": {},
   "source": [
    "The target outputs."
   ]
  },
  {
   "cell_type": "code",
   "execution_count": null,
   "metadata": {},
   "outputs": [],
   "source": [
    "# t_final_test[:20]"
   ]
  },
  {
   "cell_type": "markdown",
   "metadata": {},
   "source": [
    "The first 30 predictions. True means that the neural network correctly classifies the input vector."
   ]
  },
  {
   "cell_type": "code",
   "execution_count": null,
   "metadata": {},
   "outputs": [],
   "source": [
    "# test_correct_predictions = np.equal(np.argmax(test_rounded_predictions,1),np.argmax(t_final_test,1))\n",
    "# test_correct_predictions[:30]"
   ]
  },
  {
   "cell_type": "markdown",
   "metadata": {},
   "source": [
    "#### The final test accuracy."
   ]
  },
  {
   "cell_type": "code",
   "execution_count": null,
   "metadata": {},
   "outputs": [],
   "source": [
    "\"\"\"from collections import Counter\n",
    "final_test_prediction_results=Counter(test_correct_predictions)\n",
    "final_test_prediction_results\"\"\""
   ]
  },
  {
   "cell_type": "code",
   "execution_count": null,
   "metadata": {},
   "outputs": [],
   "source": [
    "#final_test_prediction_results[True]/sum(final_test_prediction_results.values())"
   ]
  },
  {
   "cell_type": "code",
   "execution_count": null,
   "metadata": {},
   "outputs": [],
   "source": []
  }
 ],
 "metadata": {
  "kernelspec": {
   "display_name": "Python 3",
   "language": "python",
   "name": "python3"
  },
  "language_info": {
   "codemirror_mode": {
    "name": "ipython",
    "version": 3
   },
   "file_extension": ".py",
   "mimetype": "text/x-python",
   "name": "python",
   "nbconvert_exporter": "python",
   "pygments_lexer": "ipython3",
   "version": "3.8.5"
  }
 },
 "nbformat": 4,
 "nbformat_minor": 4
}
