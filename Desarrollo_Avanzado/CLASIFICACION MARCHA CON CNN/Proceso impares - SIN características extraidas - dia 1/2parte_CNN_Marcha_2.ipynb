{
 "cells": [
  {
   "cell_type": "markdown",
   "metadata": {},
   "source": [
    "# Parte 4: Clasificación con CNN"
   ]
  },
  {
   "cell_type": "markdown",
   "metadata": {},
   "source": [
    "### Resultados con la arquitectura anterior: "
   ]
  },
  {
   "cell_type": "markdown",
   "metadata": {},
   "source": [
    "Resultados:\n",
    "    \n",
    "    TRAIN                   DEV\n",
    "    loss       accuracy     val_loss    val_accuracy\n",
    "    0.001835\t1.0\t        4.204031\t0.438776\n",
    "    \n",
    "Por tanto: \n",
    "\n",
    "    E = 1 - Accuracy\n",
    "    Etrain = 1 - 1.0\t = 0\n",
    "    Etest = 1 - 0.438776 = 0.561224\n",
    "    \n",
    "    Bias = Etrain - Ehuman = 0\n",
    "    Variance = Etest - Etrain = 0.561224 \n",
    "\n",
    "El bias es muy bajo pero la varianza es muy alta (56%). Para ello habrá que o regularizar, o cambiar la arquitectura (menos neuronas => Mejor varianza, más capas => mayor abstracción), o añadir más datos (cosa que no es posible). \n"
   ]
  },
  {
   "cell_type": "markdown",
   "metadata": {},
   "source": [
    "### Cambios realizados"
   ]
  },
  {
   "cell_type": "markdown",
   "metadata": {},
   "source": [
    "Para reducir la varianza y añadir más abstracción se han añadido 3 capas más de 20, 40 y 80 filtros y con kernels de (3,3). \n",
    "Además se le ha añadido a la primera capa un dropout de 0.6, y a las siguientes 0.5,0.4 y 0.3"
   ]
  },
  {
   "cell_type": "markdown",
   "metadata": {},
   "source": [
    "### Nuevos resultados: "
   ]
  },
  {
   "cell_type": "markdown",
   "metadata": {},
   "source": [
    "Resultados:\n",
    "    \n",
    "    TRAIN                   DEV\n",
    "    loss       accuracy     val_loss    val_accuracy\n",
    "    0.732841\t0.604592\t0.741492\t0.5\n",
    "    \n",
    "Por tanto: \n",
    "\n",
    "    E = 1 - Accuracy\n",
    "    Etrain = 1 - 0.604592\t = 0.395408\n",
    "    Etest = 1 - 0.5 = 0.5\n",
    "    \n",
    "    Bias = Etrain - Ehuman = 0.395408\n",
    "    Variance = Etest - Etrain = 0.5 -  0.395408 = 0.104592\n",
    "\n",
    "La varianza ha disminuido, pero el bias ha aumentado considerablemente. Para mejorar esto será necesario añadir más complejidad, elegir una mejor optimización, cambiando la arquitectura (más neuronas, más capas)..."
   ]
  },
  {
   "cell_type": "markdown",
   "metadata": {},
   "source": [
    "### 1 - Import Libraries"
   ]
  },
  {
   "cell_type": "code",
   "execution_count": 1,
   "metadata": {},
   "outputs": [],
   "source": [
    "# Tensorflow and tf.keras\n",
    "import tensorflow as tf\n",
    "from tensorflow import keras\n",
    "\n",
    "#Helper libraries\n",
    "import matplotlib.pyplot as plt\n",
    "import pandas as pd\n",
    "import numpy as np\n",
    "\n",
    "# Signal libraries\n",
    "from scipy import signal\n"
   ]
  },
  {
   "cell_type": "markdown",
   "metadata": {},
   "source": [
    "### 2 - Load data"
   ]
  },
  {
   "cell_type": "code",
   "execution_count": 2,
   "metadata": {},
   "outputs": [],
   "source": [
    "class ROutput:\n",
    "    def __init__(self, task, data):\n",
    "        self.task = task\n",
    "        self.data = data\n",
    "        \n",
    "class OutTaskData: \n",
    "    def __init__(self, task, data): \n",
    "        self.task = task\n",
    "        self.data = data"
   ]
  },
  {
   "cell_type": "code",
   "execution_count": 3,
   "metadata": {},
   "outputs": [],
   "source": [
    "import scipy.io as sio\n",
    "# Primero leemos los registros\n",
    "def read_outputs(rec):\n",
    "    '''read_outputs(\"userS0091f1.mat\")'''\n",
    "    mat = sio.loadmat(rec)\n",
    "    mdata = mat['session']\n",
    "    val = mdata[0,0]\n",
    "    #output = ROutput(np.array(val[\"task\"]), np.array(val[\"data\"]))\n",
    "    output = ROutput(np.array(val[\"task_EEG\"]), np.array(val[\"data_EEG\"]))\n",
    "    return output"
   ]
  },
  {
   "cell_type": "markdown",
   "metadata": {},
   "source": [
    "### Cargamos los datos"
   ]
  },
  {
   "cell_type": "code",
   "execution_count": 4,
   "metadata": {},
   "outputs": [],
   "source": [
    "# Configuración\n",
    "from sklearn.pipeline import make_pipeline\n",
    "from sklearn.preprocessing import StandardScaler, OneHotEncoder\n",
    "from sklearn.linear_model import Perceptron\n",
    "from keras.utils import to_categorical\n",
    "\n",
    "\n",
    "task1 = 402 # SE PUEDE CAMBIAR\n",
    "task2 = 404 # SE PUEDE CAMBIAR\n",
    "task_OneHotEnconding = {402: [1.,0.], 404: [0.,1.]}\n",
    "user = 'W29' # SE PUEDE CAMBIAR\n",
    "day = '0401'\n",
    "folder_day = 'W29-01_04_2021'\n",
    "total_records = 22 # CAMBIAR SI HAY MAS REGISTROS\n",
    "fm = 200\n",
    "electrodes_names_selected = ['F3', 'FZ', 'FC1','FCZ','C1','CZ','CP1','CPZ', 'FC5', 'FC3','C5','C3','CP5','CP3','P3',\n",
    "                             'PZ','F4','FC2','FC4','FC6','C2','C4','CP2','CP4','C6','CP6','P4','HR' ,'HL', 'VU', 'VD']\n",
    "number_channels = len(electrodes_names_selected)\n"
   ]
  },
  {
   "cell_type": "code",
   "execution_count": 5,
   "metadata": {},
   "outputs": [
    {
     "name": "stdout",
     "output_type": "stream",
     "text": [
      "11 22\n"
     ]
    }
   ],
   "source": [
    "# Lectura de registros\n",
    "lTaskData = []\n",
    "\n",
    "total_records_used = 0\n",
    "for i_rec in range(1,total_records+1):\n",
    "    i_rec_record = i_rec\n",
    "    if i_rec_record <10:\n",
    "        i_rec_record = \"0\"+str(i_rec_record)\n",
    "    if i_rec % 2 != 0: # Registros impares primero: USUARIO SIN MOVIMIENTO SOLO PENSANDO\n",
    "        record = \"./RegistrosSinProcesar/\"+folder_day+\"/W29_2021\"+day+\"_openloop_\"+str(i_rec_record)+\".mat\"\n",
    "        output = read_outputs(record) # output.task será y, output.data será x\n",
    "\n",
    "        outT = (output.task == task1) | (output.task == task2)\n",
    "\n",
    "        outData = output.data[0:np.shape(output.data)[0], outT[0,:]]\n",
    "        outTask = output.task[0, outT[0,:]]\n",
    "        outTD = OutTaskData(outTask, outData)\n",
    "        lTaskData.append(outTD)\n",
    "        total_records_used+=1\n",
    "\n",
    "print(total_records_used, total_records)"
   ]
  },
  {
   "cell_type": "code",
   "execution_count": 6,
   "metadata": {},
   "outputs": [
    {
     "name": "stdout",
     "output_type": "stream",
     "text": [
      "X_train: (8, 31, 5600)\n",
      "y_train: (8, 5600)\n",
      "X_dev: (2, 31, 5600)\n",
      "y_dev: (2, 5600)\n",
      "X_test: (1, 31, 5600)\n",
      "y_test: (1, 5600)\n",
      "WINDOWING & ONE HOT ENCODER:\n",
      "X_train: (392, 31, 300, 1)\n",
      "y_train: (392, 2)\n",
      "X_dev: (98, 31, 300, 1)\n",
      "y_dev: (98, 2)\n",
      "X_test: (49, 31, 300, 1)\n",
      "y_test: (49, 2)\n"
     ]
    }
   ],
   "source": [
    "# Vamos a coger 2 registros para el entrenamiento, 1 para el conjunto dev set, 1 para el test set\n",
    "X_train, y_train, X_dev, y_dev, X_test, y_test = [],[],[],[],[],[] \n",
    "for j in range(0,total_records_used-3): # Cogemos 8 registros para entrenamiento\n",
    "    X_train.append(lTaskData[j].data)\n",
    "    y_train.append(lTaskData[j].task)\n",
    "\n",
    "for j in range(total_records_used-3,total_records_used-1): # Cogemos 2 registros para el dev set\n",
    "    X_dev.append(lTaskData[j].data)\n",
    "    y_dev.append(lTaskData[j].task)\n",
    "for j in range(total_records_used-1,total_records_used): # Cogemos 1 registros para el test set\n",
    "    X_test.append(lTaskData[j].data)\n",
    "    y_test.append(lTaskData[j].task)\n",
    "\n",
    "X_train = np.array(X_train)\n",
    "#y_train = np.ravel(np.array(y_train))\n",
    "y_train = np.array(y_train)\n",
    "X_dev = np.array(X_dev)\n",
    "#y_dev = np.ravel(np.array(y_dev))\n",
    "y_dev = np.array(y_dev)\n",
    "X_test = np.array(X_test)\n",
    "y_test = np.array(y_test)\n",
    "#y_test = np.ravel(np.array(y_test))\n",
    "\n",
    "print (\"X_train:\",X_train.shape)\n",
    "print (\"y_train:\",y_train.shape)\n",
    "print (\"X_dev:\",X_dev.shape)\n",
    "print (\"y_dev:\",y_dev.shape)\n",
    "print (\"X_test:\",X_test.shape)\n",
    "print (\"y_test:\",y_test.shape)\n",
    "\n",
    "\n",
    "# VENTANEO Y ONE HOT ENCODING \n",
    "window = 300\n",
    "samples_advance = 100\n",
    "\n",
    "# Ventaneo X_train\n",
    "\n",
    "X_train_l = []\n",
    "y_train_l = []\n",
    "for num_X_train in range(np.shape(X_train)[0]):\n",
    "    win_init = int(0)\n",
    "    window_position = 0\n",
    "    \n",
    "    for i in range(np.shape(X_train)[2]): # For each signal registered\n",
    "        win_end = int(win_init + window)\n",
    "        if win_end >= np.shape(X_train)[2]:\n",
    "            break\n",
    "\n",
    "        task = np.unique(y_train[num_X_train,win_init:win_end])\n",
    "\n",
    "        if len(task)==1:\n",
    "        #if task1 in task or task2 in task:\n",
    "            signal_window = X_train[num_X_train, :, win_init:win_end]\n",
    "            \n",
    "            #data_filtered = preprocessing(signal_window, fm, number_channels)\n",
    "            #X_train_l.append(data_filtered)\n",
    "            X_train_l.append(signal_window)\n",
    "            taskOH = task_OneHotEnconding[task[0]]\n",
    "            y_train_l.append(taskOH)\n",
    "            \n",
    "        win_init += int(samples_advance)\n",
    "\n",
    "X_train_l = np.array(X_train_l)\n",
    "y_train_l = np.array(y_train_l)\n",
    "\n",
    "\n",
    "# Ventaneo X_dev\n",
    "X_dev_l = []\n",
    "y_dev_l = []\n",
    "for num_X_dev in range(np.shape(X_dev)[0]):\n",
    "    win_init = int(0)\n",
    "    window_position = 0\n",
    "    \n",
    "    for i in range(np.shape(X_dev)[2]): # For each signal registered\n",
    "        win_end = int(win_init + window)\n",
    "        if win_end >= np.shape(X_dev)[2]:\n",
    "            break\n",
    "\n",
    "        task = np.unique(y_dev[num_X_dev,win_init:win_end])\n",
    "\n",
    "        if len(task)==1:\n",
    "        #if task1 in task or task2 in task:\n",
    "            signal_window = X_dev[num_X_dev, :, win_init:win_end]\n",
    "            \n",
    "            #data_filtered = preprocessing(signal_window, fm, number_channels)\n",
    "            #X_train_l.append(data_filtered)\n",
    "            X_dev_l.append(signal_window)\n",
    "            taskOH = task_OneHotEnconding[task[0]]\n",
    "            y_dev_l.append(taskOH)\n",
    "            \n",
    "        win_init += int(samples_advance)\n",
    "\n",
    "X_dev_l = np.array(X_dev_l)\n",
    "y_dev_l = np.array(y_dev_l)\n",
    "\n",
    "# Ventaneo X_test\n",
    "X_test_l = []\n",
    "y_test_l = []\n",
    "for num_X_test in range(np.shape(X_test)[0]):\n",
    "    win_init = int(0)\n",
    "    window_position = 0\n",
    "    \n",
    "    for i in range(np.shape(X_test)[2]): # For each signal registered\n",
    "        win_end = int(win_init + window)\n",
    "        if win_end >= np.shape(X_test)[2]:\n",
    "            break\n",
    "\n",
    "        task = np.unique(y_test[num_X_test,win_init:win_end])\n",
    "\n",
    "        if len(task)==1:\n",
    "        #if task1 in task or task2 in task:\n",
    "            signal_window = X_test[num_X_test, :, win_init:win_end]\n",
    "            \n",
    "            #data_filtered = preprocessing(signal_window, fm, number_channels)\n",
    "            #X_train_l.append(data_filtered)\n",
    "            X_test_l.append(signal_window)\n",
    "            taskOH = task_OneHotEnconding[task[0]]\n",
    "            y_test_l.append(taskOH)\n",
    "            \n",
    "        win_init += int(samples_advance)\n",
    "\n",
    "X_test_l = np.array(X_test_l)\n",
    "y_test_l = np.array(y_test_l)\n",
    "\n",
    "\n",
    "\n",
    "\n",
    "X_train_l = X_train_l.reshape((np.shape(X_train_l)[0],np.shape(X_train_l)[1],np.shape(X_train_l)[2], 1))\n",
    "X_dev_l = X_dev_l.reshape((np.shape(X_dev_l)[0],np.shape(X_dev_l)[1],np.shape(X_dev_l)[2], 1))\n",
    "X_test_l = X_test_l.reshape((np.shape(X_test_l)[0],np.shape(X_test_l)[1],np.shape(X_test_l)[2], 1))\n",
    "\n",
    "\n",
    "print(\"WINDOWING & ONE HOT ENCODER:\")\n",
    "print (\"X_train:\",X_train_l.shape)\n",
    "print (\"y_train:\",y_train_l.shape)\n",
    "print (\"X_dev:\",X_dev_l.shape)\n",
    "print (\"y_dev:\",y_dev_l.shape)\n",
    "print (\"X_test:\",X_test_l.shape)\n",
    "print (\"y_test:\",y_test_l.shape)\n",
    "\n",
    "X_train = X_train_l\n",
    "y_train = y_train_l\n",
    "X_dev = X_dev_l\n",
    "y_dev = y_dev_l\n",
    "X_test = X_test_l\n",
    "y_test = y_test_l"
   ]
  },
  {
   "cell_type": "markdown",
   "metadata": {},
   "source": [
    "### 3. Initialize variables"
   ]
  },
  {
   "cell_type": "code",
   "execution_count": 7,
   "metadata": {},
   "outputs": [],
   "source": [
    "INPUTS = X_train.shape[1]\n",
    "OUTPUTS = y_train.shape[1]\n",
    "NUM_TRAINING_EXAMPLES = int(round(X_train.shape[0]/1))\n",
    "NUM_DEV_EXAMPLES = int(round(y_train.shape[0]/1))"
   ]
  },
  {
   "cell_type": "markdown",
   "metadata": {},
   "source": [
    "Some data is displayed to test correctness:"
   ]
  },
  {
   "cell_type": "code",
   "execution_count": 8,
   "metadata": {},
   "outputs": [
    {
     "data": {
      "text/plain": [
       "array([[[[ -8.09402561],\n",
       "         [ -9.94211674],\n",
       "         [ -7.67301702],\n",
       "         ...,\n",
       "         [  3.9353075 ],\n",
       "         [  5.40302658],\n",
       "         [  7.70658255]],\n",
       "\n",
       "        [[ -5.0390377 ],\n",
       "         [ -6.66358757],\n",
       "         [ -4.47667217],\n",
       "         ...,\n",
       "         [  2.1584661 ],\n",
       "         [  3.46315312],\n",
       "         [  6.43767405]],\n",
       "\n",
       "        [[-10.60903263],\n",
       "         [-12.09577656],\n",
       "         [-10.72430229],\n",
       "         ...,\n",
       "         [  2.3000679 ],\n",
       "         [  3.46812749],\n",
       "         [  6.45359421]],\n",
       "\n",
       "        ...,\n",
       "\n",
       "        [[  1.61085725],\n",
       "         [  1.76080692],\n",
       "         [ -0.56686342],\n",
       "         ...,\n",
       "         [ -0.50050861],\n",
       "         [  3.40154266],\n",
       "         [  3.74983001]],\n",
       "\n",
       "        [[  1.47814846],\n",
       "         [  0.68146783],\n",
       "         [  1.03147733],\n",
       "         ...,\n",
       "         [  4.97134638],\n",
       "         [  4.92773724],\n",
       "         [  3.80344081]],\n",
       "\n",
       "        [[  5.40894794],\n",
       "         [  0.86323416],\n",
       "         [ -1.62228251],\n",
       "         ...,\n",
       "         [ -0.30909678],\n",
       "         [  0.05893415],\n",
       "         [  5.40368414]]],\n",
       "\n",
       "\n",
       "       [[[  0.95847905],\n",
       "         [ -4.44262743],\n",
       "         [ -3.83154249],\n",
       "         ...,\n",
       "         [ -8.26578903],\n",
       "         [ -1.67391038],\n",
       "         [ 10.06772804]],\n",
       "\n",
       "        [[  7.78987312],\n",
       "         [  1.9427551 ],\n",
       "         [  1.12500751],\n",
       "         ...,\n",
       "         [ -4.09685278],\n",
       "         [ -0.2537449 ],\n",
       "         [ 10.06615829]],\n",
       "\n",
       "        [[  9.49413872],\n",
       "         [  3.17877674],\n",
       "         [  0.88871896],\n",
       "         ...,\n",
       "         [ -1.56858706],\n",
       "         [  1.65985727],\n",
       "         [ 11.23039818]],\n",
       "\n",
       "        ...,\n",
       "\n",
       "        [[  1.39937258],\n",
       "         [ -0.89466304],\n",
       "         [ -0.87535387],\n",
       "         ...,\n",
       "         [ -1.879228  ],\n",
       "         [  1.1248163 ],\n",
       "         [ 11.80609322]],\n",
       "\n",
       "        [[ -6.12129068],\n",
       "         [-12.81042862],\n",
       "         [ -9.9220171 ],\n",
       "         ...,\n",
       "         [ -3.50849438],\n",
       "         [  2.47708893],\n",
       "         [ 12.98461628]],\n",
       "\n",
       "        [[ -1.85709   ],\n",
       "         [ -1.13775074],\n",
       "         [  1.18251276],\n",
       "         ...,\n",
       "         [  2.6194973 ],\n",
       "         [  5.75357866],\n",
       "         [ 10.4064436 ]]]])"
      ]
     },
     "execution_count": 8,
     "metadata": {},
     "output_type": "execute_result"
    }
   ],
   "source": [
    "X_train[:2]"
   ]
  },
  {
   "cell_type": "code",
   "execution_count": 9,
   "metadata": {},
   "outputs": [
    {
     "data": {
      "text/plain": [
       "array([[[[-43.6853981 ],\n",
       "         [-49.84642792],\n",
       "         [-42.8303833 ],\n",
       "         ...,\n",
       "         [-31.06373405],\n",
       "         [-28.10698128],\n",
       "         [-27.32731438]],\n",
       "\n",
       "        [[ -1.35212481],\n",
       "         [ -7.82445431],\n",
       "         [ -0.83776265],\n",
       "         ...,\n",
       "         [ -5.16151333],\n",
       "         [ -0.52796578],\n",
       "         [  0.42776355]],\n",
       "\n",
       "        [[ -7.07759523],\n",
       "         [-13.66497612],\n",
       "         [ -6.8888979 ],\n",
       "         ...,\n",
       "         [-12.12047195],\n",
       "         [ -9.29841518],\n",
       "         [ -7.64439344]],\n",
       "\n",
       "        ...,\n",
       "\n",
       "        [[ -1.41719162],\n",
       "         [ -8.32554913],\n",
       "         [ -0.87606043],\n",
       "         ...,\n",
       "         [ -7.44441748],\n",
       "         [ -7.2287488 ],\n",
       "         [ -5.33666945]],\n",
       "\n",
       "        [[-76.46214294],\n",
       "         [-83.27526093],\n",
       "         [-76.93689728],\n",
       "         ...,\n",
       "         [-19.95397949],\n",
       "         [-19.38440323],\n",
       "         [-19.66468811]],\n",
       "\n",
       "        [[ -2.16663432],\n",
       "         [-10.39913177],\n",
       "         [ -2.16957879],\n",
       "         ...,\n",
       "         [ -8.38955307],\n",
       "         [ -8.60554028],\n",
       "         [ -1.97400618]]],\n",
       "\n",
       "\n",
       "       [[[-54.24480438],\n",
       "         [-55.76259613],\n",
       "         [-56.89716721],\n",
       "         ...,\n",
       "         [-16.79919052],\n",
       "         [-16.91117477],\n",
       "         [-16.76407051]],\n",
       "\n",
       "        [[-12.63129616],\n",
       "         [-12.89976692],\n",
       "         [-12.67405033],\n",
       "         ...,\n",
       "         [ -9.00664425],\n",
       "         [ -9.59034348],\n",
       "         [ -9.60505772]],\n",
       "\n",
       "        [[-22.35799789],\n",
       "         [-23.78342438],\n",
       "         [-23.35025978],\n",
       "         ...,\n",
       "         [-10.64000797],\n",
       "         [-12.04390812],\n",
       "         [-11.9746933 ]],\n",
       "\n",
       "        ...,\n",
       "\n",
       "        [[ -2.06412339],\n",
       "         [ -5.4450717 ],\n",
       "         [ -6.98235655],\n",
       "         ...,\n",
       "         [  3.18147063],\n",
       "         [  0.14948435],\n",
       "         [  0.2379002 ]],\n",
       "\n",
       "        [[-61.8571434 ],\n",
       "         [-66.57529449],\n",
       "         [-66.42589569],\n",
       "         ...,\n",
       "         [ -0.29729298],\n",
       "         [  0.87306768],\n",
       "         [ -1.55782568]],\n",
       "\n",
       "        [[ -5.90384912],\n",
       "         [-11.75942421],\n",
       "         [ -8.96345806],\n",
       "         ...,\n",
       "         [  1.10633934],\n",
       "         [ -1.91123796],\n",
       "         [ -2.66354895]]]])"
      ]
     },
     "execution_count": 9,
     "metadata": {},
     "output_type": "execute_result"
    }
   ],
   "source": [
    "X_dev[:2]"
   ]
  },
  {
   "cell_type": "code",
   "execution_count": 10,
   "metadata": {},
   "outputs": [
    {
     "data": {
      "text/plain": [
       "array([[1., 0.],\n",
       "       [1., 0.]])"
      ]
     },
     "execution_count": 10,
     "metadata": {},
     "output_type": "execute_result"
    }
   ],
   "source": [
    "y_train[:2]"
   ]
  },
  {
   "cell_type": "code",
   "execution_count": 11,
   "metadata": {},
   "outputs": [
    {
     "data": {
      "text/plain": [
       "array([0., 1.])"
      ]
     },
     "execution_count": 11,
     "metadata": {},
     "output_type": "execute_result"
    }
   ],
   "source": [
    "y_train[-20]"
   ]
  },
  {
   "cell_type": "code",
   "execution_count": 12,
   "metadata": {},
   "outputs": [
    {
     "data": {
      "text/plain": [
       "array([[1., 0.],\n",
       "       [1., 0.]])"
      ]
     },
     "execution_count": 12,
     "metadata": {},
     "output_type": "execute_result"
    }
   ],
   "source": [
    "y_dev[:2]"
   ]
  },
  {
   "cell_type": "code",
   "execution_count": 13,
   "metadata": {},
   "outputs": [
    {
     "data": {
      "text/plain": [
       "(31, 300, 1)"
      ]
     },
     "execution_count": 13,
     "metadata": {},
     "output_type": "execute_result"
    }
   ],
   "source": [
    "X_dev[0].shape"
   ]
  },
  {
   "cell_type": "code",
   "execution_count": 14,
   "metadata": {},
   "outputs": [
    {
     "data": {
      "text/plain": [
       "(98, 31, 300, 1)"
      ]
     },
     "execution_count": 14,
     "metadata": {},
     "output_type": "execute_result"
    }
   ],
   "source": [
    "X_dev.shape"
   ]
  },
  {
   "cell_type": "code",
   "execution_count": 15,
   "metadata": {},
   "outputs": [
    {
     "data": {
      "text/plain": [
       "(392, 31, 300, 1)"
      ]
     },
     "execution_count": 15,
     "metadata": {},
     "output_type": "execute_result"
    }
   ],
   "source": [
    "X_train.shape"
   ]
  },
  {
   "cell_type": "code",
   "execution_count": 16,
   "metadata": {},
   "outputs": [
    {
     "data": {
      "text/plain": [
       "2"
      ]
     },
     "execution_count": 16,
     "metadata": {},
     "output_type": "execute_result"
    }
   ],
   "source": [
    "y_train.shape[1]"
   ]
  },
  {
   "cell_type": "markdown",
   "metadata": {},
   "source": [
    "### 4 - Set hyperparameters"
   ]
  },
  {
   "cell_type": "code",
   "execution_count": 17,
   "metadata": {},
   "outputs": [],
   "source": [
    "# Tensorboard\n",
    "from time import time\n",
    "from keras.callbacks import TensorBoard\n",
    "tensorboard = TensorBoard(log_dir='logs/{}'.format(time()))"
   ]
  },
  {
   "cell_type": "code",
   "execution_count": 18,
   "metadata": {},
   "outputs": [
    {
     "data": {
      "text/plain": [
       "'\\nn_epochs = 100 #2000\\n#learning_rate = 0.001\\nbatch_size = 32 #250 \\nn_neurons_per_hlayer = [500, 250, 75, 25] # Number of units per layer, 4 hidden layers\\nrate_dropout = [0.8, 0.4, 0.2, 0.1]\\nweight_decay = 1e-4\\n'"
      ]
     },
     "execution_count": 18,
     "metadata": {},
     "output_type": "execute_result"
    }
   ],
   "source": [
    "\"\"\"\n",
    "n_epochs = 100 #2000\n",
    "#learning_rate = 0.001\n",
    "batch_size = 32 #250 \n",
    "n_neurons_per_hlayer = [500, 250, 75, 25] # Number of units per layer, 4 hidden layers\n",
    "rate_dropout = [0.8, 0.4, 0.2, 0.1]\n",
    "weight_decay = 1e-4\n",
    "\"\"\""
   ]
  },
  {
   "cell_type": "markdown",
   "metadata": {},
   "source": [
    "### 5 - Build the model: "
   ]
  },
  {
   "cell_type": "code",
   "execution_count": 19,
   "metadata": {},
   "outputs": [
    {
     "name": "stdout",
     "output_type": "stream",
     "text": [
      "Model: \"sequential\"\n",
      "_________________________________________________________________\n",
      "Layer (type)                 Output Shape              Param #   \n",
      "=================================================================\n",
      "conv2d (Conv2D)              (None, 31, 300, 4)        104       \n",
      "_________________________________________________________________\n",
      "conv2d_1 (Conv2D)            (None, 31, 300, 4)        500       \n",
      "_________________________________________________________________\n",
      "max_pooling2d (MaxPooling2D) (None, 15, 150, 4)        0         \n",
      "_________________________________________________________________\n",
      "dropout (Dropout)            (None, 15, 150, 4)        0         \n",
      "_________________________________________________________________\n",
      "conv2d_2 (Conv2D)            (None, 15, 150, 20)       740       \n",
      "_________________________________________________________________\n",
      "max_pooling2d_1 (MaxPooling2 (None, 7, 75, 20)         0         \n",
      "_________________________________________________________________\n",
      "dropout_1 (Dropout)          (None, 7, 75, 20)         0         \n",
      "_________________________________________________________________\n",
      "conv2d_3 (Conv2D)            (None, 7, 75, 40)         7240      \n",
      "_________________________________________________________________\n",
      "max_pooling2d_2 (MaxPooling2 (None, 3, 37, 40)         0         \n",
      "_________________________________________________________________\n",
      "dropout_2 (Dropout)          (None, 3, 37, 40)         0         \n",
      "_________________________________________________________________\n",
      "conv2d_4 (Conv2D)            (None, 3, 37, 80)         28880     \n",
      "_________________________________________________________________\n",
      "max_pooling2d_3 (MaxPooling2 (None, 1, 18, 80)         0         \n",
      "_________________________________________________________________\n",
      "dropout_3 (Dropout)          (None, 1, 18, 80)         0         \n",
      "_________________________________________________________________\n",
      "flatten (Flatten)            (None, 1440)              0         \n",
      "_________________________________________________________________\n",
      "dense (Dense)                (None, 2)                 2882      \n",
      "=================================================================\n",
      "Total params: 40,346\n",
      "Trainable params: 40,346\n",
      "Non-trainable params: 0\n",
      "_________________________________________________________________\n"
     ]
    }
   ],
   "source": [
    "from keras.models import Sequential\n",
    "from keras.layers import Dense, Dropout, Activation, Flatten, DepthwiseConv2D\n",
    "from keras.layers.convolutional import Conv2D, MaxPooling2D\n",
    "from keras import optimizers, regularizers\n",
    "import keras.backend as K\n",
    "#K.set_image_data_format('channels_first')\n",
    "\n",
    "weight_decay = 1e-4\n",
    "\n",
    "model = Sequential()\n",
    "# Convolution2D(filtrosConv1, tamaño_filtro1, padding=\"same\", input_shape=(longitud, altura,3), activation = \"relu\")\n",
    "    # - filtrosConv1 número de filtros que aplicaremos tras la primera convolución, normalmente este tamaño va a aumentando\n",
    "    # tras convoluciones para que aumente la dimensión de profundidad (qué cosas hay en mi imagen)\n",
    "    # - tamaño_filtro1 tamaño espacial del kernel (de los filtros)\n",
    "    # - padding = si es same es que es igual que la imagen, vamos crea una imagen del mismo tamaño con el filtro, si es \n",
    "    # valid es que no hay padding y crea una imagen más pequeña que la imagen (creo)\n",
    "    # - input_shape = longitud y altura, tamaño que usará para convolucionar al entrenar\n",
    "    \n",
    "# CAPA PARA FILTRADO TEMPORAL\n",
    "model.add(Conv2D(filters = 4, kernel_size=(1,25), padding=\"same\", activation=\"relu\",input_shape=(31, 300,1 ), kernel_initializer=\"he_normal\", kernel_regularizer=regularizers.l2(weight_decay)))\n",
    "# CAPA PARA FILTRADO ESPACIAL\n",
    "model.add(Conv2D(filters = 4, kernel_size=(31,1), padding=\"same\", activation=\"relu\", kernel_initializer=\"he_normal\", kernel_regularizer=regularizers.l2(weight_decay)))\n",
    "model.add(MaxPooling2D(pool_size=(2, 2)))\n",
    "\n",
    "model.add(Dropout(0.6))\n",
    "\n",
    "## Siguientes capas convolucionales: \n",
    "model.add(Conv2D(20, (3,3), padding='same',activation='relu', kernel_initializer=\"he_normal\",kernel_regularizer=regularizers.l2(weight_decay)))\n",
    "model.add(MaxPooling2D(pool_size=(2,2)))\n",
    "model.add(Dropout(0.5))\n",
    "\n",
    "model.add(Conv2D(40, (3,3), padding='same',activation='relu', kernel_initializer=\"he_normal\",kernel_regularizer=regularizers.l2(weight_decay)))\n",
    "model.add(MaxPooling2D(pool_size=(2,2)))\n",
    "model.add(Dropout(0.4))\n",
    "\n",
    "\n",
    "model.add(Conv2D(80, (3,3), padding='same',activation='relu', kernel_initializer=\"he_normal\",kernel_regularizer=regularizers.l2(weight_decay)))\n",
    "model.add(MaxPooling2D(pool_size=(2,2)))\n",
    "model.add(Dropout(0.3))\n",
    "\n",
    "\"\"\"\n",
    "model.add(Conv2D(160, (3,3), padding='same',activation='relu', kernel_initializer=\"he_normal\",kernel_regularizer=regularizers.l2(weight_decay)))\n",
    "model.add(MaxPooling2D(pool_size=(2,2)))\n",
    "\"\"\"\n",
    "\n",
    "\n",
    "\"\"\"\n",
    "model.add(MaxPooling2D(pool_size=(2, 2)))\n",
    "model.add(Dropout(0.5))\n",
    "\n",
    "\n",
    "model.add(Conv2D(96, (3, 3), padding='same',activation='relu', kernel_initializer=\"he_normal\",kernel_regularizer=regularizers.l2(weight_decay)))\n",
    "#model.add(Conv2D(96, (3, 3), padding='same',activation='relu', kernel_initializer=\"he_normal\", kernel_regularizer=regularizers.l2(weight_decay)))\n",
    "model.add(MaxPooling2D(pool_size=(2, 2)))\n",
    "model.add(Dropout(0.2))\n",
    "\n",
    "model.add(Conv2D(192, (3, 3), padding='same',activation='relu', kernel_initializer=\"he_normal\", kernel_regularizer=regularizers.l2(weight_decay)))\n",
    "#model.add(Conv2D(192, (3, 3), padding='same',activation='relu', kernel_initializer=\"he_normal\", kernel_regularizer=regularizers.l2(weight_decay)))\n",
    "model.add(MaxPooling2D(pool_size=(2, 2)))\n",
    "model.add(Dropout(0.1))\n",
    "\"\"\"\n",
    "\n",
    "model.add(Flatten())\n",
    "model.add(Dense(y_train.shape[1], activation=\"softmax\"))\n",
    "\n",
    "opt = optimizers.Adam(lr=0.001, beta_1=0.9, beta_2=0.999)        \n",
    "model.compile(optimizer=opt, loss='categorical_crossentropy', metrics=['accuracy'])\n",
    "model.summary()"
   ]
  },
  {
   "cell_type": "code",
   "execution_count": 20,
   "metadata": {},
   "outputs": [
    {
     "data": {
      "text/plain": [
       "[<tensorflow.python.keras.layers.convolutional.Conv2D at 0x21df2849dc0>,\n",
       " <tensorflow.python.keras.layers.convolutional.Conv2D at 0x21df1a629d0>,\n",
       " <tensorflow.python.keras.layers.pooling.MaxPooling2D at 0x21df1a62550>,\n",
       " <tensorflow.python.keras.layers.core.Dropout at 0x21df1ad6a30>,\n",
       " <tensorflow.python.keras.layers.convolutional.Conv2D at 0x21df2493970>,\n",
       " <tensorflow.python.keras.layers.pooling.MaxPooling2D at 0x21df2493310>,\n",
       " <tensorflow.python.keras.layers.core.Dropout at 0x21df24a4190>,\n",
       " <tensorflow.python.keras.layers.convolutional.Conv2D at 0x21df24ba880>,\n",
       " <tensorflow.python.keras.layers.pooling.MaxPooling2D at 0x21df24bac10>,\n",
       " <tensorflow.python.keras.layers.core.Dropout at 0x21df24af700>,\n",
       " <tensorflow.python.keras.layers.convolutional.Conv2D at 0x21df24c5a60>,\n",
       " <tensorflow.python.keras.layers.pooling.MaxPooling2D at 0x21df24cd880>,\n",
       " <tensorflow.python.keras.layers.core.Dropout at 0x21df24cd430>,\n",
       " <tensorflow.python.keras.layers.core.Flatten at 0x21df24f05b0>,\n",
       " <tensorflow.python.keras.layers.core.Dense at 0x21df24f5640>]"
      ]
     },
     "execution_count": 20,
     "metadata": {},
     "output_type": "execute_result"
    }
   ],
   "source": [
    "model.layers"
   ]
  },
  {
   "cell_type": "code",
   "execution_count": 21,
   "metadata": {},
   "outputs": [
    {
     "name": "stdout",
     "output_type": "stream",
     "text": [
      "conv2d\n",
      "conv2d_1\n",
      "max_pooling2d\n",
      "dropout\n",
      "conv2d_2\n",
      "max_pooling2d_1\n",
      "dropout_1\n",
      "conv2d_3\n",
      "max_pooling2d_2\n",
      "dropout_2\n",
      "conv2d_4\n",
      "max_pooling2d_3\n",
      "dropout_3\n",
      "flatten\n",
      "dense\n"
     ]
    }
   ],
   "source": [
    "for l in model.layers: print (l.name)"
   ]
  },
  {
   "cell_type": "markdown",
   "metadata": {},
   "source": [
    "All the parameters of a layer can bee accessed:"
   ]
  },
  {
   "cell_type": "code",
   "execution_count": 22,
   "metadata": {},
   "outputs": [
    {
     "data": {
      "text/plain": [
       "(1, 25, 1, 4)"
      ]
     },
     "execution_count": 22,
     "metadata": {},
     "output_type": "execute_result"
    }
   ],
   "source": [
    "weights, biases = model.layers[0].get_weights()\n",
    "weights.shape"
   ]
  },
  {
   "cell_type": "code",
   "execution_count": 23,
   "metadata": {},
   "outputs": [
    {
     "data": {
      "text/plain": [
       "array([[[[ 0.35001713,  0.4893045 ,  0.24000064,  0.00660583]],\n",
       "\n",
       "        [[ 0.53065264,  0.05183055, -0.2951963 ,  0.03658074]],\n",
       "\n",
       "        [[-0.07809197, -0.03947841,  0.20582384,  0.2741358 ]],\n",
       "\n",
       "        [[-0.10535626, -0.4629676 ,  0.28166774,  0.31644675]],\n",
       "\n",
       "        [[-0.527133  , -0.01866624,  0.08570308, -0.08288811]],\n",
       "\n",
       "        [[-0.20986058, -0.0562666 ,  0.25990486,  0.00713458]],\n",
       "\n",
       "        [[ 0.09318262, -0.29638606,  0.36233795,  0.4514952 ]],\n",
       "\n",
       "        [[-0.28195015, -0.24825929,  0.6255382 ,  0.0591279 ]],\n",
       "\n",
       "        [[-0.19531395, -0.14560366, -0.378594  , -0.20129323]],\n",
       "\n",
       "        [[-0.56396216, -0.3347381 , -0.1025224 , -0.20631523]],\n",
       "\n",
       "        [[-0.22386281, -0.3907252 , -0.12070373, -0.33385572]],\n",
       "\n",
       "        [[-0.2144046 , -0.25595266, -0.32474172, -0.26955315]],\n",
       "\n",
       "        [[ 0.58126837,  0.16089474, -0.49102825, -0.4285077 ]],\n",
       "\n",
       "        [[-0.03294572, -0.11077108, -0.6394271 ,  0.28701174]],\n",
       "\n",
       "        [[ 0.32960704, -0.07083404,  0.15037398, -0.2178355 ]],\n",
       "\n",
       "        [[ 0.00485747, -0.416309  , -0.19986683, -0.25456733]],\n",
       "\n",
       "        [[-0.27801874,  0.14434166,  0.2731656 ,  0.07662302]],\n",
       "\n",
       "        [[ 0.02879921,  0.06536884,  0.28084797, -0.10896429]],\n",
       "\n",
       "        [[ 0.26948965, -0.30596694,  0.24685127,  0.352425  ]],\n",
       "\n",
       "        [[-0.06375403,  0.05132883,  0.61917055, -0.01258327]],\n",
       "\n",
       "        [[-0.00128551,  0.08605744,  0.6333592 , -0.34318653]],\n",
       "\n",
       "        [[-0.3352873 ,  0.05250252,  0.03410236, -0.06563593]],\n",
       "\n",
       "        [[ 0.15169413,  0.38593298, -0.01845452,  0.27148658]],\n",
       "\n",
       "        [[ 0.12760219,  0.6178379 ,  0.6270452 , -0.04212461]],\n",
       "\n",
       "        [[ 0.3167412 ,  0.02203599,  0.55664235,  0.03946987]]]],\n",
       "      dtype=float32)"
      ]
     },
     "execution_count": 23,
     "metadata": {},
     "output_type": "execute_result"
    }
   ],
   "source": [
    "weights"
   ]
  },
  {
   "cell_type": "code",
   "execution_count": 24,
   "metadata": {},
   "outputs": [
    {
     "data": {
      "text/plain": [
       "array([0., 0., 0., 0.], dtype=float32)"
      ]
     },
     "execution_count": 24,
     "metadata": {},
     "output_type": "execute_result"
    }
   ],
   "source": [
    "biases # Bias de la primera capa: 500 bias inicializados a 0 "
   ]
  },
  {
   "cell_type": "code",
   "execution_count": 25,
   "metadata": {},
   "outputs": [
    {
     "data": {
      "text/plain": [
       "(4,)"
      ]
     },
     "execution_count": 25,
     "metadata": {},
     "output_type": "execute_result"
    }
   ],
   "source": [
    "biases.shape"
   ]
  },
  {
   "cell_type": "markdown",
   "metadata": {},
   "source": [
    "### 6. Compile the model"
   ]
  },
  {
   "cell_type": "markdown",
   "metadata": {},
   "source": [
    "### 7. Train the model with M-BGD"
   ]
  },
  {
   "cell_type": "code",
   "execution_count": 26,
   "metadata": {},
   "outputs": [
    {
     "name": "stdout",
     "output_type": "stream",
     "text": [
      "Epoch 1/100\n",
      "13/13 - 4s - loss: 84.0249 - accuracy: 0.4923 - val_loss: 23.3134 - val_accuracy: 0.5306\n",
      "Epoch 2/100\n",
      "13/13 - 3s - loss: 37.2473 - accuracy: 0.5332 - val_loss: 7.3693 - val_accuracy: 0.4694\n",
      "Epoch 3/100\n",
      "13/13 - 3s - loss: 18.9475 - accuracy: 0.5026 - val_loss: 2.8498 - val_accuracy: 0.5816\n",
      "Epoch 4/100\n",
      "13/13 - 3s - loss: 11.5053 - accuracy: 0.5332 - val_loss: 2.5254 - val_accuracy: 0.5306\n",
      "Epoch 5/100\n",
      "13/13 - 3s - loss: 11.1057 - accuracy: 0.5026 - val_loss: 1.8914 - val_accuracy: 0.4796\n",
      "Epoch 6/100\n",
      "13/13 - 3s - loss: 8.2484 - accuracy: 0.5510 - val_loss: 1.6857 - val_accuracy: 0.5408\n",
      "Epoch 7/100\n",
      "13/13 - 3s - loss: 6.7643 - accuracy: 0.5077 - val_loss: 1.5930 - val_accuracy: 0.4694\n",
      "Epoch 8/100\n",
      "13/13 - 3s - loss: 6.0656 - accuracy: 0.5434 - val_loss: 1.3916 - val_accuracy: 0.5204\n",
      "Epoch 9/100\n",
      "13/13 - 3s - loss: 5.5993 - accuracy: 0.5077 - val_loss: 1.3846 - val_accuracy: 0.4898\n",
      "Epoch 10/100\n",
      "13/13 - 3s - loss: 3.9466 - accuracy: 0.5383 - val_loss: 1.1551 - val_accuracy: 0.4898\n",
      "Epoch 11/100\n",
      "13/13 - 3s - loss: 3.0897 - accuracy: 0.5357 - val_loss: 1.5031 - val_accuracy: 0.4898\n",
      "Epoch 12/100\n",
      "13/13 - 3s - loss: 3.2737 - accuracy: 0.5026 - val_loss: 1.1192 - val_accuracy: 0.5204\n",
      "Epoch 13/100\n",
      "13/13 - 3s - loss: 3.1274 - accuracy: 0.5408 - val_loss: 1.1185 - val_accuracy: 0.5408\n",
      "Epoch 14/100\n",
      "13/13 - 3s - loss: 2.6262 - accuracy: 0.4898 - val_loss: 1.0088 - val_accuracy: 0.5714\n",
      "Epoch 15/100\n",
      "13/13 - 3s - loss: 2.4373 - accuracy: 0.5434 - val_loss: 0.9809 - val_accuracy: 0.5510\n",
      "Epoch 16/100\n",
      "13/13 - 3s - loss: 2.4672 - accuracy: 0.5077 - val_loss: 0.9730 - val_accuracy: 0.5612\n",
      "Epoch 17/100\n",
      "13/13 - 3s - loss: 2.1291 - accuracy: 0.5510 - val_loss: 0.9563 - val_accuracy: 0.5510\n",
      "Epoch 18/100\n",
      "13/13 - 3s - loss: 2.0829 - accuracy: 0.5332 - val_loss: 0.9484 - val_accuracy: 0.5510\n",
      "Epoch 19/100\n",
      "13/13 - 3s - loss: 1.9717 - accuracy: 0.5663 - val_loss: 0.9441 - val_accuracy: 0.5306\n",
      "Epoch 20/100\n",
      "13/13 - 3s - loss: 1.6629 - accuracy: 0.5408 - val_loss: 0.8997 - val_accuracy: 0.5408\n",
      "Epoch 21/100\n",
      "13/13 - 3s - loss: 1.6071 - accuracy: 0.5612 - val_loss: 0.8572 - val_accuracy: 0.5714\n",
      "Epoch 22/100\n",
      "13/13 - 3s - loss: 1.5647 - accuracy: 0.5255 - val_loss: 0.8284 - val_accuracy: 0.5612\n",
      "Epoch 23/100\n",
      "13/13 - 4s - loss: 1.5615 - accuracy: 0.5408 - val_loss: 0.8105 - val_accuracy: 0.5816\n",
      "Epoch 24/100\n",
      "13/13 - 4s - loss: 1.3769 - accuracy: 0.5587 - val_loss: 0.8086 - val_accuracy: 0.5816\n",
      "Epoch 25/100\n",
      "13/13 - 3s - loss: 1.3827 - accuracy: 0.5077 - val_loss: 0.8083 - val_accuracy: 0.5714\n",
      "Epoch 26/100\n",
      "13/13 - 3s - loss: 1.4777 - accuracy: 0.5230 - val_loss: 0.7966 - val_accuracy: 0.5612\n",
      "Epoch 27/100\n",
      "13/13 - 3s - loss: 1.3387 - accuracy: 0.5459 - val_loss: 0.7740 - val_accuracy: 0.5714\n",
      "Epoch 28/100\n",
      "13/13 - 4s - loss: 1.2405 - accuracy: 0.5255 - val_loss: 0.7599 - val_accuracy: 0.5816\n",
      "Epoch 29/100\n",
      "13/13 - 3s - loss: 1.3914 - accuracy: 0.5383 - val_loss: 0.7569 - val_accuracy: 0.5306\n",
      "Epoch 30/100\n",
      "13/13 - 3s - loss: 1.1337 - accuracy: 0.5816 - val_loss: 0.7502 - val_accuracy: 0.5612\n",
      "Epoch 31/100\n",
      "13/13 - 3s - loss: 1.3025 - accuracy: 0.5536 - val_loss: 0.7515 - val_accuracy: 0.5204\n",
      "Epoch 32/100\n",
      "13/13 - 3s - loss: 1.0879 - accuracy: 0.5434 - val_loss: 0.7555 - val_accuracy: 0.5000\n",
      "Epoch 33/100\n",
      "13/13 - 3s - loss: 1.2085 - accuracy: 0.5153 - val_loss: 0.7522 - val_accuracy: 0.4796\n",
      "Epoch 34/100\n",
      "13/13 - 3s - loss: 0.9969 - accuracy: 0.5944 - val_loss: 0.7482 - val_accuracy: 0.4796\n",
      "Epoch 35/100\n",
      "13/13 - 3s - loss: 1.0956 - accuracy: 0.5383 - val_loss: 0.7402 - val_accuracy: 0.5102\n",
      "Epoch 36/100\n",
      "13/13 - 3s - loss: 1.0408 - accuracy: 0.5434 - val_loss: 0.7383 - val_accuracy: 0.5102\n",
      "Epoch 37/100\n",
      "13/13 - 4s - loss: 1.0192 - accuracy: 0.5332 - val_loss: 0.7396 - val_accuracy: 0.5000\n",
      "Epoch 38/100\n",
      "13/13 - 3s - loss: 1.0912 - accuracy: 0.4949 - val_loss: 0.7397 - val_accuracy: 0.4898\n",
      "Epoch 39/100\n",
      "13/13 - 4s - loss: 1.0471 - accuracy: 0.5357 - val_loss: 0.7434 - val_accuracy: 0.4694\n",
      "Epoch 40/100\n",
      "13/13 - 3s - loss: 0.9461 - accuracy: 0.5306 - val_loss: 0.7384 - val_accuracy: 0.5000\n",
      "Epoch 41/100\n",
      "13/13 - 4s - loss: 0.8762 - accuracy: 0.5995 - val_loss: 0.7340 - val_accuracy: 0.5102\n",
      "Epoch 42/100\n",
      "13/13 - 4s - loss: 1.0564 - accuracy: 0.4872 - val_loss: 0.7312 - val_accuracy: 0.5102\n",
      "Epoch 43/100\n",
      "13/13 - 3s - loss: 0.8955 - accuracy: 0.5536 - val_loss: 0.7303 - val_accuracy: 0.5306\n",
      "Epoch 44/100\n",
      "13/13 - 3s - loss: 1.0276 - accuracy: 0.5179 - val_loss: 0.7316 - val_accuracy: 0.5306\n",
      "Epoch 45/100\n",
      "13/13 - 4s - loss: 0.9988 - accuracy: 0.5281 - val_loss: 0.7257 - val_accuracy: 0.5306\n",
      "Epoch 46/100\n",
      "13/13 - 4s - loss: 0.9500 - accuracy: 0.5102 - val_loss: 0.7235 - val_accuracy: 0.5102\n",
      "Epoch 47/100\n",
      "13/13 - 4s - loss: 0.9115 - accuracy: 0.5306 - val_loss: 0.7212 - val_accuracy: 0.5204\n",
      "Epoch 48/100\n",
      "13/13 - 3s - loss: 0.8424 - accuracy: 0.5944 - val_loss: 0.7189 - val_accuracy: 0.5102\n",
      "Epoch 49/100\n",
      "13/13 - 3s - loss: 0.9099 - accuracy: 0.5204 - val_loss: 0.7188 - val_accuracy: 0.5306\n",
      "Epoch 50/100\n",
      "13/13 - 3s - loss: 0.9532 - accuracy: 0.5281 - val_loss: 0.7188 - val_accuracy: 0.5612\n",
      "Epoch 51/100\n",
      "13/13 - 3s - loss: 0.9020 - accuracy: 0.5306 - val_loss: 0.7224 - val_accuracy: 0.5306\n",
      "Epoch 52/100\n",
      "13/13 - 3s - loss: 0.8506 - accuracy: 0.5357 - val_loss: 0.7314 - val_accuracy: 0.5408\n",
      "Epoch 53/100\n",
      "13/13 - 3s - loss: 0.8114 - accuracy: 0.5383 - val_loss: 0.7356 - val_accuracy: 0.5204\n",
      "Epoch 54/100\n",
      "13/13 - 3s - loss: 0.8309 - accuracy: 0.5434 - val_loss: 0.7373 - val_accuracy: 0.5204\n",
      "Epoch 55/100\n",
      "13/13 - 3s - loss: 0.9156 - accuracy: 0.5459 - val_loss: 0.7389 - val_accuracy: 0.5204\n",
      "Epoch 56/100\n",
      "13/13 - 3s - loss: 0.8559 - accuracy: 0.5485 - val_loss: 0.7393 - val_accuracy: 0.5306\n",
      "Epoch 57/100\n",
      "13/13 - 3s - loss: 0.8129 - accuracy: 0.5255 - val_loss: 0.7397 - val_accuracy: 0.4898\n",
      "Epoch 58/100\n",
      "13/13 - 3s - loss: 0.7666 - accuracy: 0.5561 - val_loss: 0.7392 - val_accuracy: 0.4898\n",
      "Epoch 59/100\n",
      "13/13 - 3s - loss: 0.7644 - accuracy: 0.5689 - val_loss: 0.7395 - val_accuracy: 0.4796\n",
      "Epoch 60/100\n",
      "13/13 - 3s - loss: 0.7851 - accuracy: 0.5638 - val_loss: 0.7410 - val_accuracy: 0.4694\n",
      "Epoch 61/100\n",
      "13/13 - 3s - loss: 0.7731 - accuracy: 0.5765 - val_loss: 0.7401 - val_accuracy: 0.4694\n",
      "Epoch 62/100\n",
      "13/13 - 3s - loss: 0.8169 - accuracy: 0.5230 - val_loss: 0.7382 - val_accuracy: 0.4694\n",
      "Epoch 63/100\n",
      "13/13 - 3s - loss: 0.7992 - accuracy: 0.5459 - val_loss: 0.7377 - val_accuracy: 0.4796\n",
      "Epoch 64/100\n",
      "13/13 - 3s - loss: 0.8463 - accuracy: 0.5408 - val_loss: 0.7371 - val_accuracy: 0.4898\n",
      "Epoch 65/100\n",
      "13/13 - 3s - loss: 0.7649 - accuracy: 0.6020 - val_loss: 0.7381 - val_accuracy: 0.4796\n",
      "Epoch 66/100\n",
      "13/13 - 3s - loss: 0.8053 - accuracy: 0.5306 - val_loss: 0.7417 - val_accuracy: 0.4694\n",
      "Epoch 67/100\n",
      "13/13 - 3s - loss: 0.7922 - accuracy: 0.5561 - val_loss: 0.7409 - val_accuracy: 0.4898\n",
      "Epoch 68/100\n",
      "13/13 - 3s - loss: 0.7311 - accuracy: 0.5714 - val_loss: 0.7394 - val_accuracy: 0.4694\n",
      "Epoch 69/100\n",
      "13/13 - 3s - loss: 0.7600 - accuracy: 0.5638 - val_loss: 0.7391 - val_accuracy: 0.4490\n",
      "Epoch 70/100\n",
      "13/13 - 3s - loss: 0.7586 - accuracy: 0.5306 - val_loss: 0.7385 - val_accuracy: 0.4694\n",
      "Epoch 71/100\n",
      "13/13 - 3s - loss: 0.7815 - accuracy: 0.5638 - val_loss: 0.7382 - val_accuracy: 0.4694\n",
      "Epoch 72/100\n",
      "13/13 - 3s - loss: 0.7700 - accuracy: 0.5510 - val_loss: 0.7389 - val_accuracy: 0.4286\n",
      "Epoch 73/100\n",
      "13/13 - 3s - loss: 0.7278 - accuracy: 0.5944 - val_loss: 0.7381 - val_accuracy: 0.4286\n",
      "Epoch 74/100\n",
      "13/13 - 3s - loss: 0.7941 - accuracy: 0.5306 - val_loss: 0.7382 - val_accuracy: 0.4184\n",
      "Epoch 75/100\n",
      "13/13 - 4s - loss: 0.7613 - accuracy: 0.5791 - val_loss: 0.7374 - val_accuracy: 0.4490\n",
      "Epoch 76/100\n",
      "13/13 - 3s - loss: 0.7953 - accuracy: 0.5561 - val_loss: 0.7364 - val_accuracy: 0.5000\n",
      "Epoch 77/100\n",
      "13/13 - 3s - loss: 0.7281 - accuracy: 0.5893 - val_loss: 0.7355 - val_accuracy: 0.4898\n",
      "Epoch 78/100\n",
      "13/13 - 3s - loss: 0.7661 - accuracy: 0.5765 - val_loss: 0.7345 - val_accuracy: 0.4796\n",
      "Epoch 79/100\n",
      "13/13 - 3s - loss: 0.7484 - accuracy: 0.5893 - val_loss: 0.7334 - val_accuracy: 0.4082\n",
      "Epoch 80/100\n",
      "13/13 - 3s - loss: 0.7210 - accuracy: 0.5944 - val_loss: 0.7333 - val_accuracy: 0.4184\n",
      "Epoch 81/100\n",
      "13/13 - 3s - loss: 0.7688 - accuracy: 0.5408 - val_loss: 0.7343 - val_accuracy: 0.4490\n",
      "Epoch 82/100\n",
      "13/13 - 3s - loss: 0.7188 - accuracy: 0.6071 - val_loss: 0.7349 - val_accuracy: 0.4286\n"
     ]
    },
    {
     "name": "stdout",
     "output_type": "stream",
     "text": [
      "Epoch 83/100\n",
      "13/13 - 3s - loss: 0.7249 - accuracy: 0.5791 - val_loss: 0.7373 - val_accuracy: 0.4694\n",
      "Epoch 84/100\n",
      "13/13 - 3s - loss: 0.7302 - accuracy: 0.5969 - val_loss: 0.7413 - val_accuracy: 0.4592\n",
      "Epoch 85/100\n",
      "13/13 - 3s - loss: 0.6973 - accuracy: 0.6173 - val_loss: 0.7434 - val_accuracy: 0.4592\n",
      "Epoch 86/100\n",
      "13/13 - 3s - loss: 0.7285 - accuracy: 0.5842 - val_loss: 0.7427 - val_accuracy: 0.4490\n",
      "Epoch 87/100\n",
      "13/13 - 3s - loss: 0.7515 - accuracy: 0.5791 - val_loss: 0.7407 - val_accuracy: 0.4694\n",
      "Epoch 88/100\n",
      "13/13 - 3s - loss: 0.7296 - accuracy: 0.5944 - val_loss: 0.7383 - val_accuracy: 0.4898\n",
      "Epoch 89/100\n",
      "13/13 - 3s - loss: 0.7626 - accuracy: 0.5587 - val_loss: 0.7360 - val_accuracy: 0.5000\n",
      "Epoch 90/100\n",
      "13/13 - 3s - loss: 0.7829 - accuracy: 0.5383 - val_loss: 0.7362 - val_accuracy: 0.5102\n",
      "Epoch 91/100\n",
      "13/13 - 3s - loss: 0.7068 - accuracy: 0.6327 - val_loss: 0.7353 - val_accuracy: 0.5204\n",
      "Epoch 92/100\n",
      "13/13 - 3s - loss: 0.7162 - accuracy: 0.5740 - val_loss: 0.7368 - val_accuracy: 0.5000\n",
      "Epoch 93/100\n",
      "13/13 - 3s - loss: 0.7263 - accuracy: 0.5791 - val_loss: 0.7383 - val_accuracy: 0.4898\n",
      "Epoch 94/100\n",
      "13/13 - 3s - loss: 0.7046 - accuracy: 0.5816 - val_loss: 0.7363 - val_accuracy: 0.4796\n",
      "Epoch 95/100\n",
      "13/13 - 3s - loss: 0.7180 - accuracy: 0.5791 - val_loss: 0.7354 - val_accuracy: 0.5000\n",
      "Epoch 96/100\n",
      "13/13 - 3s - loss: 0.7023 - accuracy: 0.6097 - val_loss: 0.7359 - val_accuracy: 0.5102\n",
      "Epoch 97/100\n",
      "13/13 - 3s - loss: 0.7054 - accuracy: 0.5765 - val_loss: 0.7373 - val_accuracy: 0.4898\n",
      "Epoch 98/100\n",
      "13/13 - 3s - loss: 0.6935 - accuracy: 0.6301 - val_loss: 0.7394 - val_accuracy: 0.4796\n",
      "Epoch 99/100\n",
      "13/13 - 3s - loss: 0.7062 - accuracy: 0.5689 - val_loss: 0.7416 - val_accuracy: 0.4796\n",
      "Epoch 100/100\n",
      "13/13 - 4s - loss: 0.7328 - accuracy: 0.6046 - val_loss: 0.7415 - val_accuracy: 0.5000\n",
      "314.77637219429016\n"
     ]
    }
   ],
   "source": [
    "import time\n",
    "start = time.time()\n",
    "#history = model.fit(X_train, y_train, batch_size=32, steps_per_epoch=len(y_train)/32, epochs=100, verbose=2, validation_data=(X_dev, y_dev),callbacks=[tensorboard])\n",
    "history = model.fit(X_train, y_train, batch_size=32, epochs=100, verbose=2, validation_data=(X_dev, y_dev))\n",
    "print (time.time() - start)\n",
    "\n"
   ]
  },
  {
   "cell_type": "markdown",
   "metadata": {},
   "source": [
    "### 8. Get the results"
   ]
  },
  {
   "cell_type": "code",
   "execution_count": 27,
   "metadata": {},
   "outputs": [
    {
     "data": {
      "image/png": "[encoded data removed]",
      "text/plain": [
       "<Figure size 576x360 with 1 Axes>"
      ]
     },
     "metadata": {
      "needs_background": "light"
     },
     "output_type": "display_data"
    }
   ],
   "source": [
    "results=pd.DataFrame(history.history)\n",
    "results.plot(figsize=(8, 5))\n",
    "plt.grid(True)\n",
    "plt.xlabel (\"Epochs\")\n",
    "plt.ylabel (\"Accuracy - Mean Log Loss\")\n",
    "plt.gca().set_ylim(0, 2) # set the vertical range to [0-1]\n",
    "plt.show()\n",
    "\n",
    "# categorical_accuracy es el training accuracy\n",
    "# val_categorical_accuracy es el validation accuracy\n",
    "# loss es el training loss\n",
    "# val_loss es el validation loss\n",
    "\n",
    "# Overfitting:\n",
    "# Por un lado la Accuracy de los datos de entrenamiento aumenta con las epochs,\n",
    "# mientras que la Accuracy de los datos de validación disminuye o se mantiene constante a lo largo de las epochs. \n",
    "# La Loss de los datos de validación alcanza su mínimo después de pocos epochs y luego empieza a subir, \n",
    "# mientras que la Loss de los datos de entrenamiento disminuye linealmente."
   ]
  },
  {
   "cell_type": "code",
   "execution_count": 28,
   "metadata": {},
   "outputs": [
    {
     "data": {
      "text/plain": [
       "{'verbose': 2, 'epochs': 100, 'steps': 13}"
      ]
     },
     "execution_count": 28,
     "metadata": {},
     "output_type": "execute_result"
    }
   ],
   "source": [
    "history.params"
   ]
  },
  {
   "cell_type": "code",
   "execution_count": 29,
   "metadata": {},
   "outputs": [
    {
     "data": {
      "text/html": [
       "<div>\n",
       "<style scoped>\n",
       "    .dataframe tbody tr th:only-of-type {\n",
       "        vertical-align: middle;\n",
       "    }\n",
       "\n",
       "    .dataframe tbody tr th {\n",
       "        vertical-align: top;\n",
       "    }\n",
       "\n",
       "    .dataframe thead th {\n",
       "        text-align: right;\n",
       "    }\n",
       "</style>\n",
       "<table border=\"1\" class=\"dataframe\">\n",
       "  <thead>\n",
       "    <tr style=\"text-align: right;\">\n",
       "      <th></th>\n",
       "      <th>loss</th>\n",
       "      <th>accuracy</th>\n",
       "      <th>val_loss</th>\n",
       "      <th>val_accuracy</th>\n",
       "    </tr>\n",
       "  </thead>\n",
       "  <tbody>\n",
       "    <tr>\n",
       "      <th>99</th>\n",
       "      <td>0.732841</td>\n",
       "      <td>0.604592</td>\n",
       "      <td>0.741492</td>\n",
       "      <td>0.5</td>\n",
       "    </tr>\n",
       "  </tbody>\n",
       "</table>\n",
       "</div>"
      ],
      "text/plain": [
       "        loss  accuracy  val_loss  val_accuracy\n",
       "99  0.732841  0.604592  0.741492           0.5"
      ]
     },
     "execution_count": 29,
     "metadata": {},
     "output_type": "execute_result"
    }
   ],
   "source": [
    "results[-1:]"
   ]
  },
  {
   "cell_type": "code",
   "execution_count": 30,
   "metadata": {},
   "outputs": [
    {
     "name": "stdout",
     "output_type": "stream",
     "text": [
      "Accuracy for the training set:  0.6045918464660645\n"
     ]
    }
   ],
   "source": [
    "print (\"Accuracy for the training set: \", results.values[-1:][0][1])"
   ]
  },
  {
   "cell_type": "code",
   "execution_count": 31,
   "metadata": {},
   "outputs": [
    {
     "name": "stdout",
     "output_type": "stream",
     "text": [
      "Accuracy for the development test set:  0.5\n"
     ]
    }
   ],
   "source": [
    "print (\"Accuracy for the development test set: \", results.values[-1:][0][3])"
   ]
  },
  {
   "cell_type": "markdown",
   "metadata": {},
   "source": [
    "#### Let's see how the model predicts using the development test set:"
   ]
  },
  {
   "cell_type": "code",
   "execution_count": 32,
   "metadata": {},
   "outputs": [
    {
     "data": {
      "text/plain": [
       "array([[0.55, 0.45],\n",
       "       [0.57, 0.43],\n",
       "       [0.57, 0.43],\n",
       "       [0.56, 0.44],\n",
       "       [0.55, 0.45],\n",
       "       [0.55, 0.45],\n",
       "       [0.57, 0.43],\n",
       "       [0.56, 0.44],\n",
       "       [0.53, 0.47],\n",
       "       [0.52, 0.48],\n",
       "       [0.56, 0.44],\n",
       "       [0.54, 0.46],\n",
       "       [0.58, 0.42],\n",
       "       [0.57, 0.43],\n",
       "       [0.46, 0.54],\n",
       "       [0.53, 0.47],\n",
       "       [0.46, 0.54],\n",
       "       [0.55, 0.45],\n",
       "       [0.57, 0.43],\n",
       "       [0.51, 0.49]], dtype=float32)"
      ]
     },
     "execution_count": 32,
     "metadata": {},
     "output_type": "execute_result"
    }
   ],
   "source": [
    "dev_predictions=model.predict(X_dev).round(2) \n",
    "dev_predictions[:20]"
   ]
  },
  {
   "cell_type": "code",
   "execution_count": 33,
   "metadata": {},
   "outputs": [
    {
     "data": {
      "text/plain": [
       "array([[1., 0.],\n",
       "       [1., 0.],\n",
       "       [1., 0.],\n",
       "       [1., 0.],\n",
       "       [1., 0.],\n",
       "       [1., 0.],\n",
       "       [1., 0.],\n",
       "       [1., 0.],\n",
       "       [1., 0.],\n",
       "       [1., 0.],\n",
       "       [1., 0.],\n",
       "       [1., 0.],\n",
       "       [1., 0.],\n",
       "       [1., 0.],\n",
       "       [0., 1.],\n",
       "       [1., 0.],\n",
       "       [0., 1.],\n",
       "       [1., 0.],\n",
       "       [1., 0.],\n",
       "       [1., 0.]], dtype=float32)"
      ]
     },
     "execution_count": 33,
     "metadata": {},
     "output_type": "execute_result"
    }
   ],
   "source": [
    "dev_rounded_predictions=np.round(dev_predictions)\n",
    "indices = np.argmax(dev_predictions,1)\n",
    "for row, index in zip(dev_rounded_predictions, indices): row[index]=1\n",
    "dev_rounded_predictions[:20]"
   ]
  },
  {
   "cell_type": "code",
   "execution_count": 34,
   "metadata": {},
   "outputs": [
    {
     "data": {
      "text/plain": [
       "array([[1., 0.],\n",
       "       [1., 0.],\n",
       "       [1., 0.],\n",
       "       [1., 0.],\n",
       "       [1., 0.],\n",
       "       [1., 0.],\n",
       "       [1., 0.],\n",
       "       [1., 0.],\n",
       "       [1., 0.],\n",
       "       [1., 0.],\n",
       "       [1., 0.],\n",
       "       [1., 0.],\n",
       "       [0., 1.],\n",
       "       [0., 1.],\n",
       "       [0., 1.],\n",
       "       [0., 1.],\n",
       "       [0., 1.],\n",
       "       [0., 1.],\n",
       "       [0., 1.],\n",
       "       [0., 1.]])"
      ]
     },
     "execution_count": 34,
     "metadata": {},
     "output_type": "execute_result"
    }
   ],
   "source": [
    "y_dev[:20]"
   ]
  },
  {
   "cell_type": "code",
   "execution_count": 35,
   "metadata": {},
   "outputs": [
    {
     "name": "stdout",
     "output_type": "stream",
     "text": [
      "[ True  True  True  True  True  True  True  True  True  True  True  True\n",
      " False False  True False  True False False False False False False False\n",
      "  True  True  True  True False False]\n"
     ]
    }
   ],
   "source": [
    "dev_correct_predictions = np.equal(np.argmax(dev_rounded_predictions,1),np.argmax(y_dev,1))\n",
    "print (dev_correct_predictions[:30])"
   ]
  },
  {
   "cell_type": "code",
   "execution_count": 36,
   "metadata": {},
   "outputs": [
    {
     "data": {
      "text/plain": [
       "Counter({True: 48, False: 50})"
      ]
     },
     "execution_count": 36,
     "metadata": {},
     "output_type": "execute_result"
    }
   ],
   "source": [
    "from collections import Counter\n",
    "Counter (dev_correct_predictions)"
   ]
  },
  {
   "cell_type": "markdown",
   "metadata": {},
   "source": [
    "### 9. Save model"
   ]
  },
  {
   "cell_type": "markdown",
   "metadata": {},
   "source": [
    "We save the model if it is better than others "
   ]
  },
  {
   "cell_type": "code",
   "execution_count": 37,
   "metadata": {},
   "outputs": [],
   "source": [
    "# Save\n",
    "model.save('./Modelos/CNN_model2.h5') # Change the name in each model"
   ]
  },
  {
   "cell_type": "code",
   "execution_count": 38,
   "metadata": {},
   "outputs": [
    {
     "data": {
      "text/plain": [
       "\"\\nnew_model = keras.models.load_model('./Modelos/EGG_prac1_ANN_model3.h5')\\n\\nimport numpy as np\\n\\n# Verify state\\nnew_predictions = new_model.predict(X_dev)\\nnp.testing.assert_allclose(predictions, new_predictions, rtol=1e-6, atol=1e-6)\\n\\n# Note that the optimizer state is also preserved:\\n# you can resume training where you left off.\\n\""
      ]
     },
     "execution_count": 38,
     "metadata": {},
     "output_type": "execute_result"
    }
   ],
   "source": [
    "# Extract\n",
    "\"\"\"\n",
    "new_model = keras.models.load_model('./Modelos/EGG_prac1_ANN_model3.h5')\n",
    "\n",
    "import numpy as np\n",
    "\n",
    "# Verify state\n",
    "new_predictions = new_model.predict(X_dev)\n",
    "np.testing.assert_allclose(predictions, new_predictions, rtol=1e-6, atol=1e-6)\n",
    "\n",
    "# Note that the optimizer state is also preserved:\n",
    "# you can resume training where you left off.\n",
    "\"\"\""
   ]
  },
  {
   "cell_type": "code",
   "execution_count": null,
   "metadata": {},
   "outputs": [],
   "source": []
  },
  {
   "cell_type": "code",
   "execution_count": null,
   "metadata": {},
   "outputs": [],
   "source": []
  },
  {
   "cell_type": "code",
   "execution_count": null,
   "metadata": {},
   "outputs": [],
   "source": []
  },
  {
   "cell_type": "code",
   "execution_count": null,
   "metadata": {},
   "outputs": [],
   "source": []
  },
  {
   "cell_type": "code",
   "execution_count": null,
   "metadata": {},
   "outputs": [],
   "source": []
  },
  {
   "cell_type": "markdown",
   "metadata": {},
   "source": [
    "### 10 - Final Test\n",
    "\n",
    "#### 10.1 - Load the final test set"
   ]
  },
  {
   "cell_type": "code",
   "execution_count": null,
   "metadata": {},
   "outputs": [],
   "source": [
    "\n",
    "\"\"\"\n",
    "from sklearn.pipeline import make_pipeline\n",
    "from sklearn.preprocessing import StandardScaler, OneHotEncoder\n",
    "from sklearn.linear_model import Perceptron\n",
    "\n",
    "total_records = 4 # CAMBIAR SI HAY MAS REGISTROS\n",
    "\n",
    "task1 = 122 # SE PUEDE CAMBIAR\n",
    "task2 = 123 # SE PUEDE CAMBIAR\n",
    "task3 = 127 # SE PUEDE CAMBIAR\n",
    "users = [\"0091\"] # SE PUEDE CAMBIAR\n",
    "\"\"\""
   ]
  },
  {
   "cell_type": "code",
   "execution_count": null,
   "metadata": {},
   "outputs": [],
   "source": [
    "\"\"\"\n",
    "def readRegisterAndReturnXy(user, total_records, task1, task2, task3 = \"\"):\n",
    "    lTaskData = []\n",
    "    for i_rec in range(1,total_records+1):\n",
    "            record = \"userS\"+user+\"f\"+str(i_rec)+\".mat\"\n",
    "            output = read_outputs(record) # output.task será y, output.data será x\n",
    "\n",
    "            if task3 != \"\":\n",
    "                outT = (output.task == task1) | (output.task == task2) | (output.task == task3) \n",
    "            else: \n",
    "                outT = (output.task == task1) | (output.task == task2)\n",
    "            outData = output.data[outT[:,0],0:np.shape(output.data)[1]]\n",
    "\n",
    "            outTask = output.task[outT[:,0]]\n",
    "            outTD = OutTaskData(outTask, outData)\n",
    "            lTaskData.append(outTD)\n",
    "\n",
    "    X_test, y_test = [],[]\n",
    "    for j in range(0,total_records):\n",
    "        X_test.extend(lTaskData[j].data)\n",
    "        y_test.extend(lTaskData[j].task)\n",
    "\n",
    "    X_test = np.array(X_test)\n",
    "    y_test = np.ravel(np.array(y_test))\n",
    "\n",
    "    print (\"X_test:\",X_test.shape)\n",
    "    print (\"y_test:\",y_test.shape)\n",
    "\n",
    "    # ONE HOT ENCODER\n",
    "    encoder = make_pipeline(StandardScaler(), OneHotEncoder(categories=\"auto\", sparse=False)) # Function that one-hot encodes integers))\n",
    "    y_test = encoder.fit_transform (y_test.reshape(-1,1)) # y_one_hot\n",
    "\n",
    "    print(\"ONE HOT ENCODER:\")\n",
    "    print (\"X_test:\",X_test.shape)\n",
    "    print (\"y_test:\",y_test.shape)\n",
    "    \n",
    "    return X_test, y_test\n",
    "\"\"\""
   ]
  },
  {
   "cell_type": "code",
   "execution_count": null,
   "metadata": {},
   "outputs": [],
   "source": []
  },
  {
   "cell_type": "code",
   "execution_count": null,
   "metadata": {},
   "outputs": [],
   "source": [
    "\"\"\"\n",
    "n_final_test = n_instances-n_train-n_dev\n",
    "\n",
    "x_final_test = attributes.values[n_train+n_dev:n_instances]\n",
    "t_final_test = label.values[n_train+n_dev:n_instances]\n",
    "\n",
    "print (\"x_test:\",x_final_test.shape)\n",
    "print (\"t_test:\",t_final_test.shape)\n",
    "\n",
    "\n",
    "\"\"\""
   ]
  },
  {
   "cell_type": "markdown",
   "metadata": {},
   "source": [
    "#### 10.2 - Evaluate the model"
   ]
  },
  {
   "cell_type": "code",
   "execution_count": null,
   "metadata": {},
   "outputs": [],
   "source": [
    "from collections import Counter\n",
    "def predictWithModel(model, X_test, y_test, task1, task2, task3=\"\"):\n",
    "    model.evaluate(X_test, y_test)\n",
    "    test_predictions = model.predict(X_test)\n",
    "    test_rounded_predictions=np.round(test_predictions)\n",
    "    indices = np.argmax(test_predictions,1)\n",
    "    for row, index in zip(test_rounded_predictions, indices): row[index]=1\n",
    "    print(test_rounded_predictions[:20])\n",
    "    \n",
    "    # ACCURACY:\n",
    "    test_correct_predictions = np.equal(np.argmax(test_rounded_predictions,1),np.argmax(y_test,1))\n",
    "    print()\n",
    "    print(test_correct_predictions)\n",
    "    print(type(test_correct_predictions))\n",
    "    final_test_prediction_results=Counter(test_correct_predictions)\n",
    "    \n",
    "    success = np.mean(test_rounded_predictions == y_test)*100\n",
    "    \n",
    "    return final_test_prediction_results, success"
   ]
  },
  {
   "cell_type": "code",
   "execution_count": null,
   "metadata": {},
   "outputs": [],
   "source": [
    "users = [\"0091\"]\n",
    "for u in users:   \n",
    "    print(\"USER:\", u)\n",
    "    #X_test, y_test = readRegisterAndReturnXy(u, total_records, 122, 123, 127)\n",
    "    accuracy, success = predictWithModel(model, X_test, y_test, 402,404)\n",
    "    print(u, accuracy, success)\n",
    "    print()"
   ]
  },
  {
   "cell_type": "code",
   "execution_count": null,
   "metadata": {},
   "outputs": [],
   "source": [
    "#model.evaluate(x_final_test, t_final_test) # Un 77 es un accuracy bajo "
   ]
  },
  {
   "cell_type": "markdown",
   "metadata": {},
   "source": [
    "The outputs computed by the neural network for the final testing dataset."
   ]
  },
  {
   "cell_type": "code",
   "execution_count": null,
   "metadata": {},
   "outputs": [],
   "source": [
    "\"\"\"\n",
    "test_predictions=model.predict(x_final_test)\n",
    "test_rounded_predictions=np.round(test_predictions)\n",
    "indices = np.argmax(test_predictions,1)\n",
    "for row, index in zip(test_rounded_predictions, indices): row[index]=1\n",
    "test_rounded_predictions[:20]\n",
    "\"\"\""
   ]
  },
  {
   "cell_type": "markdown",
   "metadata": {},
   "source": [
    "The target outputs."
   ]
  },
  {
   "cell_type": "code",
   "execution_count": null,
   "metadata": {},
   "outputs": [],
   "source": [
    "# t_final_test[:20]"
   ]
  },
  {
   "cell_type": "markdown",
   "metadata": {},
   "source": [
    "The first 30 predictions. True means that the neural network correctly classifies the input vector."
   ]
  },
  {
   "cell_type": "code",
   "execution_count": null,
   "metadata": {},
   "outputs": [],
   "source": [
    "# test_correct_predictions = np.equal(np.argmax(test_rounded_predictions,1),np.argmax(t_final_test,1))\n",
    "# test_correct_predictions[:30]"
   ]
  },
  {
   "cell_type": "markdown",
   "metadata": {},
   "source": [
    "#### The final test accuracy."
   ]
  },
  {
   "cell_type": "code",
   "execution_count": null,
   "metadata": {},
   "outputs": [],
   "source": [
    "\"\"\"from collections import Counter\n",
    "final_test_prediction_results=Counter(test_correct_predictions)\n",
    "final_test_prediction_results\"\"\""
   ]
  },
  {
   "cell_type": "code",
   "execution_count": null,
   "metadata": {},
   "outputs": [],
   "source": [
    "#final_test_prediction_results[True]/sum(final_test_prediction_results.values())"
   ]
  },
  {
   "cell_type": "code",
   "execution_count": null,
   "metadata": {},
   "outputs": [],
   "source": []
  }
 ],
 "metadata": {
  "kernelspec": {
   "display_name": "Python 3",
   "language": "python",
   "name": "python3"
  },
  "language_info": {
   "codemirror_mode": {
    "name": "ipython",
    "version": 3
   },
   "file_extension": ".py",
   "mimetype": "text/x-python",
   "name": "python",
   "nbconvert_exporter": "python",
   "pygments_lexer": "ipython3",
   "version": "3.8.5"
  }
 },
 "nbformat": 4,
 "nbformat_minor": 4
}
