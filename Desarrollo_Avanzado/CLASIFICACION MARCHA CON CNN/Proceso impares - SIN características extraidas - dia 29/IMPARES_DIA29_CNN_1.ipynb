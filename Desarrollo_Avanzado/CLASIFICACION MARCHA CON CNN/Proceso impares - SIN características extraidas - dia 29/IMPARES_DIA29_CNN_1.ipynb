{
 "cells": [
  {
   "cell_type": "markdown",
   "metadata": {},
   "source": [
    "# Parte 4: Clasificación con CNN"
   ]
  },
  {
   "cell_type": "markdown",
   "metadata": {},
   "source": [
    "### Resultados con la arquitectura anterior: "
   ]
  },
  {
   "cell_type": "markdown",
   "metadata": {},
   "source": [
    "primero\n",
    "\n"
   ]
  },
  {
   "cell_type": "markdown",
   "metadata": {},
   "source": [
    "### Cambios realizados"
   ]
  },
  {
   "cell_type": "markdown",
   "metadata": {},
   "source": []
  },
  {
   "cell_type": "markdown",
   "metadata": {},
   "source": [
    "### Nuevos resultados: "
   ]
  },
  {
   "cell_type": "markdown",
   "metadata": {},
   "source": [
    "Resultados:\n",
    "    \n",
    "    TRAIN                   DEV\n",
    "    loss       accuracy     val_loss    val_accuracy\n",
    "    0.001832\t1.0\t        2.326018\t0.602041\n",
    "    \n",
    "Por tanto: \n",
    "\n",
    "    E = 1 - Accuracy\n",
    "    Etrain = 1 - 1.0\t = 0\n",
    "    Etest = 1 - 0.602041 = 0.397959\n",
    "    \n",
    "    Bias = Etrain - Ehuman = 0\n",
    "    Variance = Etest - Etrain = 0.397959\n",
    "\n",
    "El bias es muy bajo pero la varianza es muy alta (40%). Para ello habrá que o regularizar, o cambiar la arquitectura (menos neuronas => Mejor varianza, más capas => mayor abstracción), o añadir más datos (cosa que no es posible). \n"
   ]
  },
  {
   "cell_type": "markdown",
   "metadata": {},
   "source": [
    "### 1 - Import Libraries"
   ]
  },
  {
   "cell_type": "code",
   "execution_count": 1,
   "metadata": {},
   "outputs": [],
   "source": [
    "# Tensorflow and tf.keras\n",
    "import tensorflow as tf\n",
    "from tensorflow import keras\n",
    "\n",
    "#Helper libraries\n",
    "import matplotlib.pyplot as plt\n",
    "import pandas as pd\n",
    "import numpy as np\n",
    "\n",
    "# Signal libraries\n",
    "from scipy import signal\n"
   ]
  },
  {
   "cell_type": "markdown",
   "metadata": {},
   "source": [
    "### 2 - Load data"
   ]
  },
  {
   "cell_type": "code",
   "execution_count": 2,
   "metadata": {},
   "outputs": [],
   "source": [
    "class ROutput:\n",
    "    def __init__(self, task, data):\n",
    "        self.task = task\n",
    "        self.data = data\n",
    "        \n",
    "class OutTaskData: \n",
    "    def __init__(self, task, data): \n",
    "        self.task = task\n",
    "        self.data = data"
   ]
  },
  {
   "cell_type": "code",
   "execution_count": 3,
   "metadata": {},
   "outputs": [],
   "source": [
    "import scipy.io as sio\n",
    "# Primero leemos los registros\n",
    "def read_outputs(rec):\n",
    "    '''read_outputs(\"userS0091f1.mat\")'''\n",
    "    mat = sio.loadmat(rec)\n",
    "    mdata = mat['session']\n",
    "    val = mdata[0,0]\n",
    "    #output = ROutput(np.array(val[\"task\"]), np.array(val[\"data\"]))\n",
    "    output = ROutput(np.array(val[\"task_EEG\"]), np.array(val[\"data_EEG\"]))\n",
    "    return output"
   ]
  },
  {
   "cell_type": "markdown",
   "metadata": {},
   "source": [
    "### Cargamos los datos"
   ]
  },
  {
   "cell_type": "code",
   "execution_count": 4,
   "metadata": {},
   "outputs": [],
   "source": [
    "# Configuración\n",
    "from sklearn.pipeline import make_pipeline\n",
    "from sklearn.preprocessing import StandardScaler, OneHotEncoder\n",
    "from sklearn.linear_model import Perceptron\n",
    "from keras.utils import to_categorical\n",
    "\n",
    "\n",
    "task1 = 402 # SE PUEDE CAMBIAR\n",
    "task2 = 404 # SE PUEDE CAMBIAR\n",
    "task_OneHotEnconding = {402: [1.,0.], 404: [0.,1.]}\n",
    "user = 'W29' # SE PUEDE CAMBIAR\n",
    "day = '0329'\n",
    "folder_day = 'W29-29_03_2021'\n",
    "total_records = 22 # CAMBIAR SI HAY MAS REGISTROS\n",
    "fm = 200\n",
    "electrodes_names_selected = ['F3', 'FZ', 'FC1','FCZ','C1','CZ','CP1','CPZ', 'FC5', 'FC3','C5','C3','CP5','CP3','P3',\n",
    "                             'PZ','F4','FC2','FC4','FC6','C2','C4','CP2','CP4','C6','CP6','P4','HR' ,'HL', 'VU', 'VD']\n",
    "number_channels = len(electrodes_names_selected)\n"
   ]
  },
  {
   "cell_type": "code",
   "execution_count": 5,
   "metadata": {},
   "outputs": [
    {
     "name": "stdout",
     "output_type": "stream",
     "text": [
      "11 22\n"
     ]
    }
   ],
   "source": [
    "# Lectura de registros\n",
    "lTaskData = []\n",
    "\n",
    "total_records_used = 0\n",
    "for i_rec in range(1,total_records+1):\n",
    "    i_rec_record = i_rec\n",
    "    if i_rec_record <10:\n",
    "        i_rec_record = \"0\"+str(i_rec_record)\n",
    "    if i_rec % 2 != 0: # Registros impares primero: USUARIO SIN MOVIMIENTO SOLO PENSANDO\n",
    "        record = \"./RegistrosSinProcesar/\"+folder_day+\"/W29_2021\"+day+\"_openloop_\"+str(i_rec_record)+\".mat\"\n",
    "        output = read_outputs(record) # output.task será y, output.data será x\n",
    "\n",
    "        outT = (output.task == task1) | (output.task == task2)\n",
    "\n",
    "        outData = output.data[0:np.shape(output.data)[0], outT[0,:]]\n",
    "        outTask = output.task[0, outT[0,:]]\n",
    "        outTD = OutTaskData(outTask, outData)\n",
    "        lTaskData.append(outTD)\n",
    "        total_records_used+=1\n",
    "\n",
    "print(total_records_used, total_records)"
   ]
  },
  {
   "cell_type": "code",
   "execution_count": 6,
   "metadata": {},
   "outputs": [
    {
     "name": "stdout",
     "output_type": "stream",
     "text": [
      "X_train: (8, 31, 5600)\n",
      "y_train: (8, 5600)\n",
      "X_dev: (2, 31, 5600)\n",
      "y_dev: (2, 5600)\n",
      "X_test: (1, 31, 5600)\n",
      "y_test: (1, 5600)\n",
      "WINDOWING & ONE HOT ENCODER:\n",
      "X_train: (392, 31, 300, 1)\n",
      "y_train: (392, 2)\n",
      "X_dev: (98, 31, 300, 1)\n",
      "y_dev: (98, 2)\n",
      "X_test: (49, 31, 300, 1)\n",
      "y_test: (49, 2)\n"
     ]
    }
   ],
   "source": [
    "# Vamos a coger 2 registros para el entrenamiento, 1 para el conjunto dev set, 1 para el test set\n",
    "X_train, y_train, X_dev, y_dev, X_test, y_test = [],[],[],[],[],[] \n",
    "for j in range(0,total_records_used-3): # Cogemos 8 registros para entrenamiento\n",
    "    X_train.append(lTaskData[j].data)\n",
    "    y_train.append(lTaskData[j].task)\n",
    "\n",
    "for j in range(total_records_used-3,total_records_used-1): # Cogemos 2 registros para el dev set\n",
    "    X_dev.append(lTaskData[j].data)\n",
    "    y_dev.append(lTaskData[j].task)\n",
    "for j in range(total_records_used-1,total_records_used): # Cogemos 1 registros para el test set\n",
    "    X_test.append(lTaskData[j].data)\n",
    "    y_test.append(lTaskData[j].task)\n",
    "\n",
    "X_train = np.array(X_train)\n",
    "#y_train = np.ravel(np.array(y_train))\n",
    "y_train = np.array(y_train)\n",
    "X_dev = np.array(X_dev)\n",
    "#y_dev = np.ravel(np.array(y_dev))\n",
    "y_dev = np.array(y_dev)\n",
    "X_test = np.array(X_test)\n",
    "y_test = np.array(y_test)\n",
    "#y_test = np.ravel(np.array(y_test))\n",
    "\n",
    "print (\"X_train:\",X_train.shape)\n",
    "print (\"y_train:\",y_train.shape)\n",
    "print (\"X_dev:\",X_dev.shape)\n",
    "print (\"y_dev:\",y_dev.shape)\n",
    "print (\"X_test:\",X_test.shape)\n",
    "print (\"y_test:\",y_test.shape)\n",
    "\n",
    "\n",
    "# VENTANEO Y ONE HOT ENCODING \n",
    "window = 300\n",
    "samples_advance = 100\n",
    "\n",
    "# Ventaneo X_train\n",
    "\n",
    "X_train_l = []\n",
    "y_train_l = []\n",
    "for num_X_train in range(np.shape(X_train)[0]):\n",
    "    win_init = int(0)\n",
    "    window_position = 0\n",
    "    \n",
    "    for i in range(np.shape(X_train)[2]): # For each signal registered\n",
    "        win_end = int(win_init + window)\n",
    "        if win_end >= np.shape(X_train)[2]:\n",
    "            break\n",
    "\n",
    "        task = np.unique(y_train[num_X_train,win_init:win_end])\n",
    "\n",
    "        if len(task)==1:\n",
    "        #if task1 in task or task2 in task:\n",
    "            signal_window = X_train[num_X_train, :, win_init:win_end]\n",
    "            \n",
    "            #data_filtered = preprocessing(signal_window, fm, number_channels)\n",
    "            #X_train_l.append(data_filtered)\n",
    "            X_train_l.append(signal_window)\n",
    "            taskOH = task_OneHotEnconding[task[0]]\n",
    "            y_train_l.append(taskOH)\n",
    "            \n",
    "        win_init += int(samples_advance)\n",
    "\n",
    "X_train_l = np.array(X_train_l)\n",
    "y_train_l = np.array(y_train_l)\n",
    "\n",
    "\n",
    "# Ventaneo X_dev\n",
    "X_dev_l = []\n",
    "y_dev_l = []\n",
    "for num_X_dev in range(np.shape(X_dev)[0]):\n",
    "    win_init = int(0)\n",
    "    window_position = 0\n",
    "    \n",
    "    for i in range(np.shape(X_dev)[2]): # For each signal registered\n",
    "        win_end = int(win_init + window)\n",
    "        if win_end >= np.shape(X_dev)[2]:\n",
    "            break\n",
    "\n",
    "        task = np.unique(y_dev[num_X_dev,win_init:win_end])\n",
    "\n",
    "        if len(task)==1:\n",
    "        #if task1 in task or task2 in task:\n",
    "            signal_window = X_dev[num_X_dev, :, win_init:win_end]\n",
    "            \n",
    "            #data_filtered = preprocessing(signal_window, fm, number_channels)\n",
    "            #X_train_l.append(data_filtered)\n",
    "            X_dev_l.append(signal_window)\n",
    "            taskOH = task_OneHotEnconding[task[0]]\n",
    "            y_dev_l.append(taskOH)\n",
    "            \n",
    "        win_init += int(samples_advance)\n",
    "\n",
    "X_dev_l = np.array(X_dev_l)\n",
    "y_dev_l = np.array(y_dev_l)\n",
    "\n",
    "# Ventaneo X_test\n",
    "X_test_l = []\n",
    "y_test_l = []\n",
    "for num_X_test in range(np.shape(X_test)[0]):\n",
    "    win_init = int(0)\n",
    "    window_position = 0\n",
    "    \n",
    "    for i in range(np.shape(X_test)[2]): # For each signal registered\n",
    "        win_end = int(win_init + window)\n",
    "        if win_end >= np.shape(X_test)[2]:\n",
    "            break\n",
    "\n",
    "        task = np.unique(y_test[num_X_test,win_init:win_end])\n",
    "\n",
    "        if len(task)==1:\n",
    "        #if task1 in task or task2 in task:\n",
    "            signal_window = X_test[num_X_test, :, win_init:win_end]\n",
    "            \n",
    "            #data_filtered = preprocessing(signal_window, fm, number_channels)\n",
    "            #X_train_l.append(data_filtered)\n",
    "            X_test_l.append(signal_window)\n",
    "            taskOH = task_OneHotEnconding[task[0]]\n",
    "            y_test_l.append(taskOH)\n",
    "            \n",
    "        win_init += int(samples_advance)\n",
    "\n",
    "X_test_l = np.array(X_test_l)\n",
    "y_test_l = np.array(y_test_l)\n",
    "\n",
    "\n",
    "\n",
    "\n",
    "X_train_l = X_train_l.reshape((np.shape(X_train_l)[0],np.shape(X_train_l)[1],np.shape(X_train_l)[2], 1))\n",
    "X_dev_l = X_dev_l.reshape((np.shape(X_dev_l)[0],np.shape(X_dev_l)[1],np.shape(X_dev_l)[2], 1))\n",
    "X_test_l = X_test_l.reshape((np.shape(X_test_l)[0],np.shape(X_test_l)[1],np.shape(X_test_l)[2], 1))\n",
    "\n",
    "\n",
    "print(\"WINDOWING & ONE HOT ENCODER:\")\n",
    "print (\"X_train:\",X_train_l.shape)\n",
    "print (\"y_train:\",y_train_l.shape)\n",
    "print (\"X_dev:\",X_dev_l.shape)\n",
    "print (\"y_dev:\",y_dev_l.shape)\n",
    "print (\"X_test:\",X_test_l.shape)\n",
    "print (\"y_test:\",y_test_l.shape)\n",
    "\n",
    "X_train = X_train_l\n",
    "y_train = y_train_l\n",
    "X_dev = X_dev_l\n",
    "y_dev = y_dev_l\n",
    "X_test = X_test_l\n",
    "y_test = y_test_l"
   ]
  },
  {
   "cell_type": "markdown",
   "metadata": {},
   "source": [
    "### 3. Initialize variables"
   ]
  },
  {
   "cell_type": "code",
   "execution_count": 7,
   "metadata": {},
   "outputs": [],
   "source": [
    "INPUTS = X_train.shape[1]\n",
    "OUTPUTS = y_train.shape[1]\n",
    "NUM_TRAINING_EXAMPLES = int(round(X_train.shape[0]/1))\n",
    "NUM_DEV_EXAMPLES = int(round(y_train.shape[0]/1))"
   ]
  },
  {
   "cell_type": "markdown",
   "metadata": {},
   "source": [
    "Some data is displayed to test correctness:"
   ]
  },
  {
   "cell_type": "code",
   "execution_count": 8,
   "metadata": {},
   "outputs": [
    {
     "data": {
      "text/plain": [
       "array([[[[-13.41347694],\n",
       "         [-15.22591877],\n",
       "         [-11.69843197],\n",
       "         ...,\n",
       "         [ -1.19133306],\n",
       "         [ -2.77573466],\n",
       "         [  0.24007285]],\n",
       "\n",
       "        [[-12.10659504],\n",
       "         [-15.08330536],\n",
       "         [-16.02069283],\n",
       "         ...,\n",
       "         [ -3.6911087 ],\n",
       "         [ -4.67135668],\n",
       "         [  0.3479611 ]],\n",
       "\n",
       "        [[-11.5287962 ],\n",
       "         [-14.32666206],\n",
       "         [-14.47945118],\n",
       "         ...,\n",
       "         [ -3.13874173],\n",
       "         [ -5.47199965],\n",
       "         [ -3.11029029]],\n",
       "\n",
       "        ...,\n",
       "\n",
       "        [[ -3.68879247],\n",
       "         [ -9.61746979],\n",
       "         [ -9.54219341],\n",
       "         ...,\n",
       "         [ 10.33756065],\n",
       "         [ 10.33195877],\n",
       "         [  9.88423347]],\n",
       "\n",
       "        [[ -7.24383783],\n",
       "         [ -8.74626827],\n",
       "         [ -9.87213898],\n",
       "         ...,\n",
       "         [ -1.30616224],\n",
       "         [ -3.90476489],\n",
       "         [  1.10066354]],\n",
       "\n",
       "        [[ -6.47999477],\n",
       "         [ -4.00634193],\n",
       "         [  1.30602992],\n",
       "         ...,\n",
       "         [ -0.16346502],\n",
       "         [ -4.45757389],\n",
       "         [ -3.14525199]]],\n",
       "\n",
       "\n",
       "       [[[ -6.56546211],\n",
       "         [  2.08345389],\n",
       "         [  3.68957138],\n",
       "         ...,\n",
       "         [ -3.91568375],\n",
       "         [  0.41485754],\n",
       "         [  7.28256416]],\n",
       "\n",
       "        [[ -3.601722  ],\n",
       "         [  4.28612328],\n",
       "         [  5.24478436],\n",
       "         ...,\n",
       "         [ -7.62889481],\n",
       "         [ -1.71116924],\n",
       "         [  4.00193071]],\n",
       "\n",
       "        [[ -9.51527691],\n",
       "         [ -2.76237059],\n",
       "         [  0.30468807],\n",
       "         ...,\n",
       "         [ -8.9039793 ],\n",
       "         [ -2.47056508],\n",
       "         [  4.15563297]],\n",
       "\n",
       "        ...,\n",
       "\n",
       "        [[  0.12700233],\n",
       "         [ -0.38981584],\n",
       "         [  6.09826374],\n",
       "         ...,\n",
       "         [  9.05644989],\n",
       "         [ 10.60924816],\n",
       "         [ 14.35933876]],\n",
       "\n",
       "        [[ -1.42167985],\n",
       "         [  1.32453883],\n",
       "         [  5.22886467],\n",
       "         ...,\n",
       "         [  4.67259836],\n",
       "         [  7.49275064],\n",
       "         [ 12.07097816]],\n",
       "\n",
       "        [[ -4.81063032],\n",
       "         [-10.63184643],\n",
       "         [ -5.46829891],\n",
       "         ...,\n",
       "         [ 10.32106876],\n",
       "         [  8.71246624],\n",
       "         [ 14.47492409]]]])"
      ]
     },
     "execution_count": 8,
     "metadata": {},
     "output_type": "execute_result"
    }
   ],
   "source": [
    "X_train[:2]"
   ]
  },
  {
   "cell_type": "code",
   "execution_count": 9,
   "metadata": {},
   "outputs": [
    {
     "data": {
      "text/plain": [
       "array([[[[  5.87425327],\n",
       "         [  0.73503965],\n",
       "         [  2.69437671],\n",
       "         ...,\n",
       "         [ -0.22825061],\n",
       "         [  5.16678953],\n",
       "         [ -4.78146076]],\n",
       "\n",
       "        [[  4.18779993],\n",
       "         [ -3.25153542],\n",
       "         [ -0.71317691],\n",
       "         ...,\n",
       "         [ -3.8835144 ],\n",
       "         [ -1.33717084],\n",
       "         [ -8.53920364]],\n",
       "\n",
       "        [[  8.47131729],\n",
       "         [  0.07830117],\n",
       "         [  3.22913504],\n",
       "         ...,\n",
       "         [ -0.75394201],\n",
       "         [  2.98533535],\n",
       "         [ -4.04008627]],\n",
       "\n",
       "        ...,\n",
       "\n",
       "        [[  7.10927629],\n",
       "         [  2.06966949],\n",
       "         [  2.9078331 ],\n",
       "         ...,\n",
       "         [  3.15454006],\n",
       "         [  8.63405704],\n",
       "         [  0.78935081]],\n",
       "\n",
       "        [[  1.72178638],\n",
       "         [ -4.84853697],\n",
       "         [  0.84119242],\n",
       "         ...,\n",
       "         [ -4.8107729 ],\n",
       "         [  0.60856992],\n",
       "         [ -9.15911102]],\n",
       "\n",
       "        [[ -0.9716084 ],\n",
       "         [ -5.51575089],\n",
       "         [  3.99767041],\n",
       "         ...,\n",
       "         [ -3.78977871],\n",
       "         [  5.12183475],\n",
       "         [ -4.51178074]]],\n",
       "\n",
       "\n",
       "       [[[-12.38173962],\n",
       "         [ -9.60781288],\n",
       "         [-10.3913765 ],\n",
       "         ...,\n",
       "         [  8.47416496],\n",
       "         [  7.08777666],\n",
       "         [  9.86072063]],\n",
       "\n",
       "        [[-16.20957375],\n",
       "         [-15.71260548],\n",
       "         [-16.18185616],\n",
       "         ...,\n",
       "         [  6.99742413],\n",
       "         [  6.36528587],\n",
       "         [  8.15153694]],\n",
       "\n",
       "        [[-13.46653748],\n",
       "         [-11.77334595],\n",
       "         [-11.73591328],\n",
       "         ...,\n",
       "         [  6.39336681],\n",
       "         [  6.63100529],\n",
       "         [  9.09331131]],\n",
       "\n",
       "        ...,\n",
       "\n",
       "        [[-14.37667274],\n",
       "         [-17.24781227],\n",
       "         [-13.49539375],\n",
       "         ...,\n",
       "         [  7.17067003],\n",
       "         [  8.42143154],\n",
       "         [ 11.91113853]],\n",
       "\n",
       "        [[ -6.29086399],\n",
       "         [-12.32940102],\n",
       "         [-10.3244276 ],\n",
       "         ...,\n",
       "         [  4.03490782],\n",
       "         [  7.36320782],\n",
       "         [  7.69031858]],\n",
       "\n",
       "        [[-13.77983952],\n",
       "         [ -7.51737785],\n",
       "         [-14.09109402],\n",
       "         ...,\n",
       "         [ -9.96119595],\n",
       "         [  5.46113968],\n",
       "         [ 10.49669552]]]])"
      ]
     },
     "execution_count": 9,
     "metadata": {},
     "output_type": "execute_result"
    }
   ],
   "source": [
    "X_dev[:2]"
   ]
  },
  {
   "cell_type": "code",
   "execution_count": 10,
   "metadata": {},
   "outputs": [
    {
     "data": {
      "text/plain": [
       "array([[1., 0.],\n",
       "       [1., 0.]])"
      ]
     },
     "execution_count": 10,
     "metadata": {},
     "output_type": "execute_result"
    }
   ],
   "source": [
    "y_train[:2]"
   ]
  },
  {
   "cell_type": "code",
   "execution_count": 11,
   "metadata": {},
   "outputs": [
    {
     "data": {
      "text/plain": [
       "array([0., 1.])"
      ]
     },
     "execution_count": 11,
     "metadata": {},
     "output_type": "execute_result"
    }
   ],
   "source": [
    "y_train[-20]"
   ]
  },
  {
   "cell_type": "code",
   "execution_count": 12,
   "metadata": {},
   "outputs": [
    {
     "data": {
      "text/plain": [
       "array([[1., 0.],\n",
       "       [1., 0.]])"
      ]
     },
     "execution_count": 12,
     "metadata": {},
     "output_type": "execute_result"
    }
   ],
   "source": [
    "y_dev[:2]"
   ]
  },
  {
   "cell_type": "code",
   "execution_count": 13,
   "metadata": {},
   "outputs": [
    {
     "data": {
      "text/plain": [
       "(31, 300, 1)"
      ]
     },
     "execution_count": 13,
     "metadata": {},
     "output_type": "execute_result"
    }
   ],
   "source": [
    "X_dev[0].shape"
   ]
  },
  {
   "cell_type": "code",
   "execution_count": 14,
   "metadata": {},
   "outputs": [
    {
     "data": {
      "text/plain": [
       "(98, 31, 300, 1)"
      ]
     },
     "execution_count": 14,
     "metadata": {},
     "output_type": "execute_result"
    }
   ],
   "source": [
    "X_dev.shape"
   ]
  },
  {
   "cell_type": "code",
   "execution_count": 15,
   "metadata": {},
   "outputs": [
    {
     "data": {
      "text/plain": [
       "(392, 31, 300, 1)"
      ]
     },
     "execution_count": 15,
     "metadata": {},
     "output_type": "execute_result"
    }
   ],
   "source": [
    "X_train.shape"
   ]
  },
  {
   "cell_type": "code",
   "execution_count": 16,
   "metadata": {},
   "outputs": [
    {
     "data": {
      "text/plain": [
       "2"
      ]
     },
     "execution_count": 16,
     "metadata": {},
     "output_type": "execute_result"
    }
   ],
   "source": [
    "y_train.shape[1]"
   ]
  },
  {
   "cell_type": "markdown",
   "metadata": {},
   "source": [
    "### 4 - Set hyperparameters"
   ]
  },
  {
   "cell_type": "code",
   "execution_count": 17,
   "metadata": {},
   "outputs": [],
   "source": [
    "# Tensorboard\n",
    "from time import time\n",
    "from keras.callbacks import TensorBoard\n",
    "tensorboard = TensorBoard(log_dir='logs/{}'.format(time()))"
   ]
  },
  {
   "cell_type": "code",
   "execution_count": 18,
   "metadata": {},
   "outputs": [
    {
     "data": {
      "text/plain": [
       "'\\nn_epochs = 100 #2000\\n#learning_rate = 0.001\\nbatch_size = 32 #250 \\nn_neurons_per_hlayer = [500, 250, 75, 25] # Number of units per layer, 4 hidden layers\\nrate_dropout = [0.8, 0.4, 0.2, 0.1]\\nweight_decay = 1e-4\\n'"
      ]
     },
     "execution_count": 18,
     "metadata": {},
     "output_type": "execute_result"
    }
   ],
   "source": [
    "\"\"\"\n",
    "n_epochs = 100 #2000\n",
    "#learning_rate = 0.001\n",
    "batch_size = 32 #250 \n",
    "n_neurons_per_hlayer = [500, 250, 75, 25] # Number of units per layer, 4 hidden layers\n",
    "rate_dropout = [0.8, 0.4, 0.2, 0.1]\n",
    "weight_decay = 1e-4\n",
    "\"\"\""
   ]
  },
  {
   "cell_type": "markdown",
   "metadata": {},
   "source": [
    "### 5 - Build the model: "
   ]
  },
  {
   "cell_type": "code",
   "execution_count": 19,
   "metadata": {},
   "outputs": [
    {
     "name": "stdout",
     "output_type": "stream",
     "text": [
      "Model: \"sequential\"\n",
      "_________________________________________________________________\n",
      "Layer (type)                 Output Shape              Param #   \n",
      "=================================================================\n",
      "conv2d (Conv2D)              (None, 31, 300, 4)        104       \n",
      "_________________________________________________________________\n",
      "conv2d_1 (Conv2D)            (None, 31, 300, 4)        500       \n",
      "_________________________________________________________________\n",
      "max_pooling2d (MaxPooling2D) (None, 15, 150, 4)        0         \n",
      "_________________________________________________________________\n",
      "flatten (Flatten)            (None, 9000)              0         \n",
      "_________________________________________________________________\n",
      "dense (Dense)                (None, 2)                 18002     \n",
      "=================================================================\n",
      "Total params: 18,606\n",
      "Trainable params: 18,606\n",
      "Non-trainable params: 0\n",
      "_________________________________________________________________\n"
     ]
    }
   ],
   "source": [
    "from keras.models import Sequential\n",
    "from keras.layers import Dense, Dropout, Activation, Flatten, DepthwiseConv2D\n",
    "from keras.layers.convolutional import Conv2D, MaxPooling2D\n",
    "from keras import optimizers, regularizers\n",
    "import keras.backend as K\n",
    "#K.set_image_data_format('channels_first')\n",
    "\n",
    "weight_decay = 1e-4\n",
    "\n",
    "model = Sequential()\n",
    "# Convolution2D(filtrosConv1, tamaño_filtro1, padding=\"same\", input_shape=(longitud, altura,3), activation = \"relu\")\n",
    "    # - filtrosConv1 número de filtros que aplicaremos tras la primera convolución, normalmente este tamaño va a aumentando\n",
    "    # tras convoluciones para que aumente la dimensión de profundidad (qué cosas hay en mi imagen)\n",
    "    # - tamaño_filtro1 tamaño espacial del kernel (de los filtros)\n",
    "    # - padding = si es same es que es igual que la imagen, vamos crea una imagen del mismo tamaño con el filtro, si es \n",
    "    # valid es que no hay padding y crea una imagen más pequeña que la imagen (creo)\n",
    "    # - input_shape = longitud y altura, tamaño que usará para convolucionar al entrenar\n",
    "    \n",
    "# CAPA PARA FILTRADO TEMPORAL\n",
    "model.add(Conv2D(filters = 4, kernel_size=(1,25), padding=\"same\", activation=\"relu\",input_shape=(31, 300,1 ), kernel_initializer=\"he_normal\", kernel_regularizer=regularizers.l2(weight_decay)))\n",
    "# CAPA PARA FILTRADO ESPACIAL\n",
    "model.add(Conv2D(filters = 4, kernel_size=(31,1), padding=\"same\", activation=\"relu\", kernel_initializer=\"he_normal\", kernel_regularizer=regularizers.l2(weight_decay)))\n",
    "\n",
    "model.add(MaxPooling2D(pool_size=(2, 2)))\n",
    "\"\"\"\n",
    "model.add(Dropout(0.5))\n",
    "\n",
    "## Siguientes capas convolucionales: \n",
    "model.add(Conv2D(20, (3,3), padding='same',activation='relu', kernel_initializer=\"he_normal\",kernel_regularizer=regularizers.l2(weight_decay)))\n",
    "model.add(MaxPooling2D(pool_size=(2,2)))\n",
    "model.add(Dropout(0.4))\n",
    "\n",
    "model.add(Conv2D(40, (3,3), padding='same',activation='relu', kernel_initializer=\"he_normal\",kernel_regularizer=regularizers.l2(weight_decay)))\n",
    "model.add(MaxPooling2D(pool_size=(2,2)))\n",
    "model.add(Dropout(0.3))\n",
    "\n",
    "\n",
    "model.add(Conv2D(80, (3,3), padding='same',activation='relu', kernel_initializer=\"he_normal\",kernel_regularizer=regularizers.l2(weight_decay)))\n",
    "model.add(MaxPooling2D(pool_size=(2,2)))\n",
    "model.add(Dropout(0.2))\n",
    "\"\"\"\n",
    "\"\"\"\n",
    "model.add(Conv2D(160, (3,3), padding='same',activation='relu', kernel_initializer=\"he_normal\",kernel_regularizer=regularizers.l2(weight_decay)))\n",
    "model.add(MaxPooling2D(pool_size=(2,2)))\n",
    "\"\"\"\n",
    "\n",
    "\n",
    "\"\"\"\n",
    "model.add(MaxPooling2D(pool_size=(2, 2)))\n",
    "model.add(Dropout(0.5))\n",
    "\n",
    "\n",
    "model.add(Conv2D(96, (3, 3), padding='same',activation='relu', kernel_initializer=\"he_normal\",kernel_regularizer=regularizers.l2(weight_decay)))\n",
    "#model.add(Conv2D(96, (3, 3), padding='same',activation='relu', kernel_initializer=\"he_normal\", kernel_regularizer=regularizers.l2(weight_decay)))\n",
    "model.add(MaxPooling2D(pool_size=(2, 2)))\n",
    "model.add(Dropout(0.2))\n",
    "\n",
    "model.add(Conv2D(192, (3, 3), padding='same',activation='relu', kernel_initializer=\"he_normal\", kernel_regularizer=regularizers.l2(weight_decay)))\n",
    "#model.add(Conv2D(192, (3, 3), padding='same',activation='relu', kernel_initializer=\"he_normal\", kernel_regularizer=regularizers.l2(weight_decay)))\n",
    "model.add(MaxPooling2D(pool_size=(2, 2)))\n",
    "model.add(Dropout(0.1))\n",
    "\"\"\"\n",
    "\n",
    "model.add(Flatten())\n",
    "model.add(Dense(y_train.shape[1], activation=\"softmax\"))\n",
    "\n",
    "opt = optimizers.Adam(lr=0.001, beta_1=0.9, beta_2=0.999)        \n",
    "model.compile(optimizer=opt, loss='categorical_crossentropy', metrics=['accuracy'])\n",
    "model.summary()"
   ]
  },
  {
   "cell_type": "code",
   "execution_count": 20,
   "metadata": {},
   "outputs": [
    {
     "data": {
      "text/plain": [
       "[<tensorflow.python.keras.layers.convolutional.Conv2D at 0x205ca1c7550>,\n",
       " <tensorflow.python.keras.layers.convolutional.Conv2D at 0x205c91563a0>,\n",
       " <tensorflow.python.keras.layers.pooling.MaxPooling2D at 0x205c91d6d30>,\n",
       " <tensorflow.python.keras.layers.core.Flatten at 0x205c91561c0>,\n",
       " <tensorflow.python.keras.layers.core.Dense at 0x205c91d6d60>]"
      ]
     },
     "execution_count": 20,
     "metadata": {},
     "output_type": "execute_result"
    }
   ],
   "source": [
    "model.layers"
   ]
  },
  {
   "cell_type": "code",
   "execution_count": 21,
   "metadata": {},
   "outputs": [
    {
     "name": "stdout",
     "output_type": "stream",
     "text": [
      "conv2d\n",
      "conv2d_1\n",
      "max_pooling2d\n",
      "flatten\n",
      "dense\n"
     ]
    }
   ],
   "source": [
    "for l in model.layers: print (l.name)"
   ]
  },
  {
   "cell_type": "markdown",
   "metadata": {},
   "source": [
    "All the parameters of a layer can bee accessed:"
   ]
  },
  {
   "cell_type": "code",
   "execution_count": 22,
   "metadata": {},
   "outputs": [
    {
     "data": {
      "text/plain": [
       "(1, 25, 1, 4)"
      ]
     },
     "execution_count": 22,
     "metadata": {},
     "output_type": "execute_result"
    }
   ],
   "source": [
    "weights, biases = model.layers[0].get_weights()\n",
    "weights.shape"
   ]
  },
  {
   "cell_type": "code",
   "execution_count": 23,
   "metadata": {},
   "outputs": [
    {
     "data": {
      "text/plain": [
       "array([[[[-0.5592925 , -0.09363595,  0.33803257,  0.11178072]],\n",
       "\n",
       "        [[-0.38512984,  0.15983082, -0.08202742, -0.5172522 ]],\n",
       "\n",
       "        [[-0.16154912, -0.08970763, -0.13656032, -0.12566677]],\n",
       "\n",
       "        [[-0.02348368, -0.10073638,  0.1505881 ,  0.12512755]],\n",
       "\n",
       "        [[-0.10478815,  0.19339891, -0.20543087,  0.1974247 ]],\n",
       "\n",
       "        [[-0.0422183 ,  0.12133648,  0.05844029, -0.3408451 ]],\n",
       "\n",
       "        [[-0.40617132,  0.54083127, -0.25487566,  0.3664812 ]],\n",
       "\n",
       "        [[ 0.57490844,  0.17419672,  0.39681005, -0.37182376]],\n",
       "\n",
       "        [[ 0.09785088,  0.63619685,  0.09837679, -0.31179962]],\n",
       "\n",
       "        [[ 0.39794654,  0.17256457,  0.31462383, -0.42024872]],\n",
       "\n",
       "        [[ 0.3572027 ,  0.06663436, -0.26252383, -0.24496533]],\n",
       "\n",
       "        [[ 0.52505547, -0.25189847, -0.3140494 , -0.48110685]],\n",
       "\n",
       "        [[-0.37959233, -0.58368015, -0.5079807 , -0.4585072 ]],\n",
       "\n",
       "        [[-0.12897071, -0.23894787,  0.4090922 , -0.02668276]],\n",
       "\n",
       "        [[-0.22089392,  0.0123259 ,  0.01070424,  0.0204909 ]],\n",
       "\n",
       "        [[-0.30376706,  0.2625841 , -0.07968985,  0.39821413]],\n",
       "\n",
       "        [[ 0.6330144 , -0.02633305, -0.21043909,  0.25250587]],\n",
       "\n",
       "        [[ 0.43199384, -0.04324792, -0.35182753, -0.07025376]],\n",
       "\n",
       "        [[ 0.08777221, -0.4661308 ,  0.03915714, -0.15083492]],\n",
       "\n",
       "        [[ 0.0488655 , -0.1774544 , -0.3147663 ,  0.07371185]],\n",
       "\n",
       "        [[-0.01326795,  0.3030169 ,  0.08323404,  0.6296946 ]],\n",
       "\n",
       "        [[ 0.00819794, -0.27979162,  0.10830334, -0.1269203 ]],\n",
       "\n",
       "        [[-0.00942737, -0.04467639, -0.28853458, -0.00409876]],\n",
       "\n",
       "        [[-0.25665534, -0.04656193,  0.32227314, -0.29605812]],\n",
       "\n",
       "        [[-0.37530795, -0.31219855, -0.04159364,  0.49569282]]]],\n",
       "      dtype=float32)"
      ]
     },
     "execution_count": 23,
     "metadata": {},
     "output_type": "execute_result"
    }
   ],
   "source": [
    "weights"
   ]
  },
  {
   "cell_type": "code",
   "execution_count": 24,
   "metadata": {},
   "outputs": [
    {
     "data": {
      "text/plain": [
       "array([0., 0., 0., 0.], dtype=float32)"
      ]
     },
     "execution_count": 24,
     "metadata": {},
     "output_type": "execute_result"
    }
   ],
   "source": [
    "biases # Bias de la primera capa: 500 bias inicializados a 0 "
   ]
  },
  {
   "cell_type": "code",
   "execution_count": 25,
   "metadata": {},
   "outputs": [
    {
     "data": {
      "text/plain": [
       "(4,)"
      ]
     },
     "execution_count": 25,
     "metadata": {},
     "output_type": "execute_result"
    }
   ],
   "source": [
    "biases.shape"
   ]
  },
  {
   "cell_type": "markdown",
   "metadata": {},
   "source": [
    "### 6. Compile the model"
   ]
  },
  {
   "cell_type": "markdown",
   "metadata": {},
   "source": [
    "### 7. Train the model with M-BGD"
   ]
  },
  {
   "cell_type": "code",
   "execution_count": 26,
   "metadata": {},
   "outputs": [
    {
     "name": "stdout",
     "output_type": "stream",
     "text": [
      "Epoch 1/100\n",
      "13/13 - 3s - loss: 6.9989 - accuracy: 0.5077 - val_loss: 2.3152 - val_accuracy: 0.5510\n",
      "Epoch 2/100\n",
      "13/13 - 2s - loss: 1.6138 - accuracy: 0.6148 - val_loss: 1.4334 - val_accuracy: 0.5816\n",
      "Epoch 3/100\n",
      "13/13 - 2s - loss: 0.7070 - accuracy: 0.7092 - val_loss: 1.1646 - val_accuracy: 0.5918\n",
      "Epoch 4/100\n",
      "13/13 - 2s - loss: 0.3291 - accuracy: 0.8495 - val_loss: 1.1417 - val_accuracy: 0.5408\n",
      "Epoch 5/100\n",
      "13/13 - 2s - loss: 0.1844 - accuracy: 0.9337 - val_loss: 1.1216 - val_accuracy: 0.5918\n",
      "Epoch 6/100\n",
      "13/13 - 2s - loss: 0.0987 - accuracy: 0.9923 - val_loss: 1.1789 - val_accuracy: 0.5408\n",
      "Epoch 7/100\n",
      "13/13 - 2s - loss: 0.0594 - accuracy: 1.0000 - val_loss: 1.2240 - val_accuracy: 0.5816\n",
      "Epoch 8/100\n",
      "13/13 - 2s - loss: 0.0416 - accuracy: 1.0000 - val_loss: 1.2617 - val_accuracy: 0.5714\n",
      "Epoch 9/100\n",
      "13/13 - 2s - loss: 0.0299 - accuracy: 1.0000 - val_loss: 1.3076 - val_accuracy: 0.5612\n",
      "Epoch 10/100\n",
      "13/13 - 2s - loss: 0.0235 - accuracy: 1.0000 - val_loss: 1.3526 - val_accuracy: 0.5612\n",
      "Epoch 11/100\n",
      "13/13 - 2s - loss: 0.0191 - accuracy: 1.0000 - val_loss: 1.3923 - val_accuracy: 0.5816\n",
      "Epoch 12/100\n",
      "13/13 - 2s - loss: 0.0159 - accuracy: 1.0000 - val_loss: 1.4253 - val_accuracy: 0.5918\n",
      "Epoch 13/100\n",
      "13/13 - 2s - loss: 0.0138 - accuracy: 1.0000 - val_loss: 1.4587 - val_accuracy: 0.5918\n",
      "Epoch 14/100\n",
      "13/13 - 2s - loss: 0.0120 - accuracy: 1.0000 - val_loss: 1.4885 - val_accuracy: 0.5918\n",
      "Epoch 15/100\n",
      "13/13 - 2s - loss: 0.0107 - accuracy: 1.0000 - val_loss: 1.5111 - val_accuracy: 0.5918\n",
      "Epoch 16/100\n",
      "13/13 - 3s - loss: 0.0095 - accuracy: 1.0000 - val_loss: 1.5432 - val_accuracy: 0.5816\n",
      "Epoch 17/100\n",
      "13/13 - 2s - loss: 0.0086 - accuracy: 1.0000 - val_loss: 1.5657 - val_accuracy: 0.5816\n",
      "Epoch 18/100\n",
      "13/13 - 2s - loss: 0.0078 - accuracy: 1.0000 - val_loss: 1.5951 - val_accuracy: 0.5714\n",
      "Epoch 19/100\n",
      "13/13 - 2s - loss: 0.0072 - accuracy: 1.0000 - val_loss: 1.6143 - val_accuracy: 0.5714\n",
      "Epoch 20/100\n",
      "13/13 - 2s - loss: 0.0067 - accuracy: 1.0000 - val_loss: 1.6351 - val_accuracy: 0.5714\n",
      "Epoch 21/100\n",
      "13/13 - 3s - loss: 0.0062 - accuracy: 1.0000 - val_loss: 1.6538 - val_accuracy: 0.5714\n",
      "Epoch 22/100\n",
      "13/13 - 2s - loss: 0.0059 - accuracy: 1.0000 - val_loss: 1.6762 - val_accuracy: 0.5714\n",
      "Epoch 23/100\n",
      "13/13 - 2s - loss: 0.0055 - accuracy: 1.0000 - val_loss: 1.6981 - val_accuracy: 0.5612\n",
      "Epoch 24/100\n",
      "13/13 - 3s - loss: 0.0052 - accuracy: 1.0000 - val_loss: 1.7147 - val_accuracy: 0.5612\n",
      "Epoch 25/100\n",
      "13/13 - 3s - loss: 0.0049 - accuracy: 1.0000 - val_loss: 1.7374 - val_accuracy: 0.5510\n",
      "Epoch 26/100\n",
      "13/13 - 3s - loss: 0.0046 - accuracy: 1.0000 - val_loss: 1.7493 - val_accuracy: 0.5510\n",
      "Epoch 27/100\n",
      "13/13 - 3s - loss: 0.0044 - accuracy: 1.0000 - val_loss: 1.7647 - val_accuracy: 0.5510\n",
      "Epoch 28/100\n",
      "13/13 - 3s - loss: 0.0042 - accuracy: 1.0000 - val_loss: 1.7834 - val_accuracy: 0.5510\n",
      "Epoch 29/100\n",
      "13/13 - 3s - loss: 0.0041 - accuracy: 1.0000 - val_loss: 1.7937 - val_accuracy: 0.5714\n",
      "Epoch 30/100\n",
      "13/13 - 2s - loss: 0.0039 - accuracy: 1.0000 - val_loss: 1.8094 - val_accuracy: 0.5510\n",
      "Epoch 31/100\n",
      "13/13 - 3s - loss: 0.0038 - accuracy: 1.0000 - val_loss: 1.8229 - val_accuracy: 0.5510\n",
      "Epoch 32/100\n",
      "13/13 - 3s - loss: 0.0036 - accuracy: 1.0000 - val_loss: 1.8347 - val_accuracy: 0.5612\n",
      "Epoch 33/100\n",
      "13/13 - 3s - loss: 0.0035 - accuracy: 1.0000 - val_loss: 1.8464 - val_accuracy: 0.5612\n",
      "Epoch 34/100\n",
      "13/13 - 3s - loss: 0.0034 - accuracy: 1.0000 - val_loss: 1.8618 - val_accuracy: 0.5510\n",
      "Epoch 35/100\n",
      "13/13 - 3s - loss: 0.0033 - accuracy: 1.0000 - val_loss: 1.8753 - val_accuracy: 0.5510\n",
      "Epoch 36/100\n",
      "13/13 - 3s - loss: 0.0032 - accuracy: 1.0000 - val_loss: 1.8873 - val_accuracy: 0.5612\n",
      "Epoch 37/100\n",
      "13/13 - 3s - loss: 0.0031 - accuracy: 1.0000 - val_loss: 1.9005 - val_accuracy: 0.5612\n",
      "Epoch 38/100\n",
      "13/13 - 3s - loss: 0.0031 - accuracy: 1.0000 - val_loss: 1.9120 - val_accuracy: 0.5612\n",
      "Epoch 39/100\n",
      "13/13 - 2s - loss: 0.0030 - accuracy: 1.0000 - val_loss: 1.9217 - val_accuracy: 0.5612\n",
      "Epoch 40/100\n",
      "13/13 - 2s - loss: 0.0029 - accuracy: 1.0000 - val_loss: 1.9339 - val_accuracy: 0.5612\n",
      "Epoch 41/100\n",
      "13/13 - 3s - loss: 0.0029 - accuracy: 1.0000 - val_loss: 1.9464 - val_accuracy: 0.5714\n",
      "Epoch 42/100\n",
      "13/13 - 3s - loss: 0.0028 - accuracy: 1.0000 - val_loss: 1.9592 - val_accuracy: 0.5816\n",
      "Epoch 43/100\n",
      "13/13 - 3s - loss: 0.0028 - accuracy: 1.0000 - val_loss: 1.9694 - val_accuracy: 0.5816\n",
      "Epoch 44/100\n",
      "13/13 - 3s - loss: 0.0027 - accuracy: 1.0000 - val_loss: 1.9778 - val_accuracy: 0.5918\n",
      "Epoch 45/100\n",
      "13/13 - 3s - loss: 0.0027 - accuracy: 1.0000 - val_loss: 1.9875 - val_accuracy: 0.6020\n",
      "Epoch 46/100\n",
      "13/13 - 2s - loss: 0.0026 - accuracy: 1.0000 - val_loss: 1.9968 - val_accuracy: 0.5918\n",
      "Epoch 47/100\n",
      "13/13 - 3s - loss: 0.0026 - accuracy: 1.0000 - val_loss: 2.0053 - val_accuracy: 0.6020\n",
      "Epoch 48/100\n",
      "13/13 - 2s - loss: 0.0025 - accuracy: 1.0000 - val_loss: 2.0169 - val_accuracy: 0.5816\n",
      "Epoch 49/100\n",
      "13/13 - 3s - loss: 0.0025 - accuracy: 1.0000 - val_loss: 2.0244 - val_accuracy: 0.5816\n",
      "Epoch 50/100\n",
      "13/13 - 2s - loss: 0.0025 - accuracy: 1.0000 - val_loss: 2.0339 - val_accuracy: 0.5918\n",
      "Epoch 51/100\n",
      "13/13 - 2s - loss: 0.0024 - accuracy: 1.0000 - val_loss: 2.0411 - val_accuracy: 0.5918\n",
      "Epoch 52/100\n",
      "13/13 - 2s - loss: 0.0024 - accuracy: 1.0000 - val_loss: 2.0482 - val_accuracy: 0.5918\n",
      "Epoch 53/100\n",
      "13/13 - 2s - loss: 0.0024 - accuracy: 1.0000 - val_loss: 2.0568 - val_accuracy: 0.5918\n",
      "Epoch 54/100\n",
      "13/13 - 2s - loss: 0.0023 - accuracy: 1.0000 - val_loss: 2.0648 - val_accuracy: 0.5918\n",
      "Epoch 55/100\n",
      "13/13 - 2s - loss: 0.0023 - accuracy: 1.0000 - val_loss: 2.0757 - val_accuracy: 0.5918\n",
      "Epoch 56/100\n",
      "13/13 - 2s - loss: 0.0023 - accuracy: 1.0000 - val_loss: 2.0828 - val_accuracy: 0.5918\n",
      "Epoch 57/100\n",
      "13/13 - 2s - loss: 0.0023 - accuracy: 1.0000 - val_loss: 2.0929 - val_accuracy: 0.5918\n",
      "Epoch 58/100\n",
      "13/13 - 2s - loss: 0.0022 - accuracy: 1.0000 - val_loss: 2.1007 - val_accuracy: 0.5918\n",
      "Epoch 59/100\n",
      "13/13 - 2s - loss: 0.0022 - accuracy: 1.0000 - val_loss: 2.1068 - val_accuracy: 0.5918\n",
      "Epoch 60/100\n",
      "13/13 - 2s - loss: 0.0022 - accuracy: 1.0000 - val_loss: 2.1133 - val_accuracy: 0.5918\n",
      "Epoch 61/100\n",
      "13/13 - 2s - loss: 0.0022 - accuracy: 1.0000 - val_loss: 2.1196 - val_accuracy: 0.5918\n",
      "Epoch 62/100\n",
      "13/13 - 2s - loss: 0.0022 - accuracy: 1.0000 - val_loss: 2.1252 - val_accuracy: 0.5918\n",
      "Epoch 63/100\n",
      "13/13 - 2s - loss: 0.0022 - accuracy: 1.0000 - val_loss: 2.1326 - val_accuracy: 0.5918\n",
      "Epoch 64/100\n",
      "13/13 - 2s - loss: 0.0021 - accuracy: 1.0000 - val_loss: 2.1370 - val_accuracy: 0.5918\n",
      "Epoch 65/100\n",
      "13/13 - 2s - loss: 0.0021 - accuracy: 1.0000 - val_loss: 2.1430 - val_accuracy: 0.5918\n",
      "Epoch 66/100\n",
      "13/13 - 2s - loss: 0.0021 - accuracy: 1.0000 - val_loss: 2.1496 - val_accuracy: 0.5918\n",
      "Epoch 67/100\n",
      "13/13 - 3s - loss: 0.0021 - accuracy: 1.0000 - val_loss: 2.1576 - val_accuracy: 0.5918\n",
      "Epoch 68/100\n",
      "13/13 - 3s - loss: 0.0021 - accuracy: 1.0000 - val_loss: 2.1648 - val_accuracy: 0.5918\n",
      "Epoch 69/100\n",
      "13/13 - 3s - loss: 0.0021 - accuracy: 1.0000 - val_loss: 2.1698 - val_accuracy: 0.5918\n",
      "Epoch 70/100\n",
      "13/13 - 2s - loss: 0.0021 - accuracy: 1.0000 - val_loss: 2.1768 - val_accuracy: 0.5918\n",
      "Epoch 71/100\n",
      "13/13 - 2s - loss: 0.0020 - accuracy: 1.0000 - val_loss: 2.1838 - val_accuracy: 0.5918\n",
      "Epoch 72/100\n",
      "13/13 - 2s - loss: 0.0020 - accuracy: 1.0000 - val_loss: 2.1882 - val_accuracy: 0.5918\n",
      "Epoch 73/100\n",
      "13/13 - 3s - loss: 0.0020 - accuracy: 1.0000 - val_loss: 2.1938 - val_accuracy: 0.5918\n",
      "Epoch 74/100\n",
      "13/13 - 3s - loss: 0.0020 - accuracy: 1.0000 - val_loss: 2.1997 - val_accuracy: 0.5918\n",
      "Epoch 75/100\n",
      "13/13 - 3s - loss: 0.0020 - accuracy: 1.0000 - val_loss: 2.2074 - val_accuracy: 0.6020\n",
      "Epoch 76/100\n",
      "13/13 - 3s - loss: 0.0020 - accuracy: 1.0000 - val_loss: 2.2146 - val_accuracy: 0.6020\n",
      "Epoch 77/100\n",
      "13/13 - 2s - loss: 0.0020 - accuracy: 1.0000 - val_loss: 2.2195 - val_accuracy: 0.6020\n",
      "Epoch 78/100\n",
      "13/13 - 2s - loss: 0.0020 - accuracy: 1.0000 - val_loss: 2.2232 - val_accuracy: 0.6020\n",
      "Epoch 79/100\n",
      "13/13 - 3s - loss: 0.0020 - accuracy: 1.0000 - val_loss: 2.2279 - val_accuracy: 0.6020\n",
      "Epoch 80/100\n",
      "13/13 - 3s - loss: 0.0020 - accuracy: 1.0000 - val_loss: 2.2335 - val_accuracy: 0.6020\n",
      "Epoch 81/100\n",
      "13/13 - 3s - loss: 0.0019 - accuracy: 1.0000 - val_loss: 2.2390 - val_accuracy: 0.6020\n",
      "Epoch 82/100\n",
      "13/13 - 3s - loss: 0.0019 - accuracy: 1.0000 - val_loss: 2.2454 - val_accuracy: 0.6020\n",
      "Epoch 83/100\n"
     ]
    },
    {
     "name": "stdout",
     "output_type": "stream",
     "text": [
      "13/13 - 3s - loss: 0.0019 - accuracy: 1.0000 - val_loss: 2.2489 - val_accuracy: 0.6020\n",
      "Epoch 84/100\n",
      "13/13 - 3s - loss: 0.0019 - accuracy: 1.0000 - val_loss: 2.2549 - val_accuracy: 0.6020\n",
      "Epoch 85/100\n",
      "13/13 - 3s - loss: 0.0019 - accuracy: 1.0000 - val_loss: 2.2617 - val_accuracy: 0.6020\n",
      "Epoch 86/100\n",
      "13/13 - 3s - loss: 0.0019 - accuracy: 1.0000 - val_loss: 2.2651 - val_accuracy: 0.6020\n",
      "Epoch 87/100\n",
      "13/13 - 3s - loss: 0.0019 - accuracy: 1.0000 - val_loss: 2.2686 - val_accuracy: 0.6020\n",
      "Epoch 88/100\n",
      "13/13 - 4s - loss: 0.0019 - accuracy: 1.0000 - val_loss: 2.2750 - val_accuracy: 0.6020\n",
      "Epoch 89/100\n",
      "13/13 - 3s - loss: 0.0019 - accuracy: 1.0000 - val_loss: 2.2779 - val_accuracy: 0.6020\n",
      "Epoch 90/100\n",
      "13/13 - 4s - loss: 0.0019 - accuracy: 1.0000 - val_loss: 2.2832 - val_accuracy: 0.6020\n",
      "Epoch 91/100\n",
      "13/13 - 5s - loss: 0.0019 - accuracy: 1.0000 - val_loss: 2.2858 - val_accuracy: 0.6020\n",
      "Epoch 92/100\n",
      "13/13 - 5s - loss: 0.0019 - accuracy: 1.0000 - val_loss: 2.2883 - val_accuracy: 0.6020\n",
      "Epoch 93/100\n",
      "13/13 - 4s - loss: 0.0019 - accuracy: 1.0000 - val_loss: 2.2934 - val_accuracy: 0.6020\n",
      "Epoch 94/100\n",
      "13/13 - 5s - loss: 0.0019 - accuracy: 1.0000 - val_loss: 2.2987 - val_accuracy: 0.6020\n",
      "Epoch 95/100\n",
      "13/13 - 4s - loss: 0.0019 - accuracy: 1.0000 - val_loss: 2.3034 - val_accuracy: 0.6020\n",
      "Epoch 96/100\n",
      "13/13 - 4s - loss: 0.0019 - accuracy: 1.0000 - val_loss: 2.3062 - val_accuracy: 0.6020\n",
      "Epoch 97/100\n",
      "13/13 - 4s - loss: 0.0018 - accuracy: 1.0000 - val_loss: 2.3103 - val_accuracy: 0.6020\n",
      "Epoch 98/100\n",
      "13/13 - 5s - loss: 0.0018 - accuracy: 1.0000 - val_loss: 2.3173 - val_accuracy: 0.6020\n",
      "Epoch 99/100\n",
      "13/13 - 4s - loss: 0.0018 - accuracy: 1.0000 - val_loss: 2.3213 - val_accuracy: 0.6020\n",
      "Epoch 100/100\n",
      "13/13 - 5s - loss: 0.0018 - accuracy: 1.0000 - val_loss: 2.3260 - val_accuracy: 0.6020\n",
      "278.6333909034729\n"
     ]
    }
   ],
   "source": [
    "import time\n",
    "start = time.time()\n",
    "#history = model.fit(X_train, y_train, batch_size=32, steps_per_epoch=len(y_train)/32, epochs=100, verbose=2, validation_data=(X_dev, y_dev),callbacks=[tensorboard])\n",
    "history = model.fit(X_train, y_train, batch_size=32, epochs=100, verbose=2, validation_data=(X_dev, y_dev))\n",
    "print (time.time() - start)\n",
    "\n"
   ]
  },
  {
   "cell_type": "markdown",
   "metadata": {},
   "source": [
    "### 8. Get the results"
   ]
  },
  {
   "cell_type": "code",
   "execution_count": 27,
   "metadata": {},
   "outputs": [
    {
     "data": {
      "image/png": "[encoded data removed]",
      "text/plain": [
       "<Figure size 576x360 with 1 Axes>"
      ]
     },
     "metadata": {
      "needs_background": "light"
     },
     "output_type": "display_data"
    }
   ],
   "source": [
    "results=pd.DataFrame(history.history)\n",
    "results.plot(figsize=(8, 5))\n",
    "plt.grid(True)\n",
    "plt.xlabel (\"Epochs\")\n",
    "plt.ylabel (\"Accuracy - Mean Log Loss\")\n",
    "plt.gca().set_ylim(0, 2) # set the vertical range to [0-1]\n",
    "plt.show()\n",
    "\n",
    "# categorical_accuracy es el training accuracy\n",
    "# val_categorical_accuracy es el validation accuracy\n",
    "# loss es el training loss\n",
    "# val_loss es el validation loss\n",
    "\n",
    "# Overfitting:\n",
    "# Por un lado la Accuracy de los datos de entrenamiento aumenta con las epochs,\n",
    "# mientras que la Accuracy de los datos de validación disminuye o se mantiene constante a lo largo de las epochs. \n",
    "# La Loss de los datos de validación alcanza su mínimo después de pocos epochs y luego empieza a subir, \n",
    "# mientras que la Loss de los datos de entrenamiento disminuye linealmente."
   ]
  },
  {
   "cell_type": "code",
   "execution_count": 28,
   "metadata": {},
   "outputs": [
    {
     "data": {
      "text/plain": [
       "{'verbose': 2, 'epochs': 100, 'steps': 13}"
      ]
     },
     "execution_count": 28,
     "metadata": {},
     "output_type": "execute_result"
    }
   ],
   "source": [
    "history.params"
   ]
  },
  {
   "cell_type": "code",
   "execution_count": 29,
   "metadata": {},
   "outputs": [
    {
     "data": {
      "text/html": [
       "<div>\n",
       "<style scoped>\n",
       "    .dataframe tbody tr th:only-of-type {\n",
       "        vertical-align: middle;\n",
       "    }\n",
       "\n",
       "    .dataframe tbody tr th {\n",
       "        vertical-align: top;\n",
       "    }\n",
       "\n",
       "    .dataframe thead th {\n",
       "        text-align: right;\n",
       "    }\n",
       "</style>\n",
       "<table border=\"1\" class=\"dataframe\">\n",
       "  <thead>\n",
       "    <tr style=\"text-align: right;\">\n",
       "      <th></th>\n",
       "      <th>loss</th>\n",
       "      <th>accuracy</th>\n",
       "      <th>val_loss</th>\n",
       "      <th>val_accuracy</th>\n",
       "    </tr>\n",
       "  </thead>\n",
       "  <tbody>\n",
       "    <tr>\n",
       "      <th>99</th>\n",
       "      <td>0.001832</td>\n",
       "      <td>1.0</td>\n",
       "      <td>2.326018</td>\n",
       "      <td>0.602041</td>\n",
       "    </tr>\n",
       "  </tbody>\n",
       "</table>\n",
       "</div>"
      ],
      "text/plain": [
       "        loss  accuracy  val_loss  val_accuracy\n",
       "99  0.001832       1.0  2.326018      0.602041"
      ]
     },
     "execution_count": 29,
     "metadata": {},
     "output_type": "execute_result"
    }
   ],
   "source": [
    "results[-1:]"
   ]
  },
  {
   "cell_type": "code",
   "execution_count": 30,
   "metadata": {},
   "outputs": [
    {
     "name": "stdout",
     "output_type": "stream",
     "text": [
      "Accuracy for the training set:  1.0\n"
     ]
    }
   ],
   "source": [
    "print (\"Accuracy for the training set: \", results.values[-1:][0][1])"
   ]
  },
  {
   "cell_type": "code",
   "execution_count": 31,
   "metadata": {},
   "outputs": [
    {
     "name": "stdout",
     "output_type": "stream",
     "text": [
      "Accuracy for the development test set:  0.6020408272743225\n"
     ]
    }
   ],
   "source": [
    "print (\"Accuracy for the development test set: \", results.values[-1:][0][3])"
   ]
  },
  {
   "cell_type": "code",
   "execution_count": null,
   "metadata": {},
   "outputs": [],
   "source": []
  },
  {
   "cell_type": "code",
   "execution_count": null,
   "metadata": {},
   "outputs": [],
   "source": []
  },
  {
   "cell_type": "code",
   "execution_count": null,
   "metadata": {},
   "outputs": [],
   "source": []
  },
  {
   "cell_type": "code",
   "execution_count": null,
   "metadata": {},
   "outputs": [],
   "source": []
  },
  {
   "cell_type": "code",
   "execution_count": null,
   "metadata": {},
   "outputs": [],
   "source": []
  },
  {
   "cell_type": "markdown",
   "metadata": {},
   "source": [
    "#### Let's see how the model predicts using the development test set:"
   ]
  },
  {
   "cell_type": "code",
   "execution_count": 32,
   "metadata": {},
   "outputs": [
    {
     "data": {
      "text/plain": [
       "array([[0.68, 0.32],\n",
       "       [0.01, 0.99],\n",
       "       [0.02, 0.98],\n",
       "       [0.82, 0.18],\n",
       "       [0.  , 1.  ],\n",
       "       [0.  , 1.  ],\n",
       "       [0.  , 1.  ],\n",
       "       [0.97, 0.03],\n",
       "       [1.  , 0.  ],\n",
       "       [1.  , 0.  ],\n",
       "       [0.53, 0.47],\n",
       "       [0.23, 0.77],\n",
       "       [0.  , 1.  ],\n",
       "       [0.82, 0.18],\n",
       "       [0.  , 1.  ],\n",
       "       [0.  , 1.  ],\n",
       "       [0.98, 0.02],\n",
       "       [0.1 , 0.9 ],\n",
       "       [0.03, 0.97],\n",
       "       [0.  , 1.  ]], dtype=float32)"
      ]
     },
     "execution_count": 32,
     "metadata": {},
     "output_type": "execute_result"
    }
   ],
   "source": [
    "dev_predictions=model.predict(X_dev).round(2) \n",
    "dev_predictions[:20]"
   ]
  },
  {
   "cell_type": "code",
   "execution_count": 33,
   "metadata": {},
   "outputs": [
    {
     "data": {
      "text/plain": [
       "array([[1., 0.],\n",
       "       [0., 1.],\n",
       "       [0., 1.],\n",
       "       [1., 0.],\n",
       "       [0., 1.],\n",
       "       [0., 1.],\n",
       "       [0., 1.],\n",
       "       [1., 0.],\n",
       "       [1., 0.],\n",
       "       [1., 0.],\n",
       "       [1., 0.],\n",
       "       [0., 1.],\n",
       "       [0., 1.],\n",
       "       [1., 0.],\n",
       "       [0., 1.],\n",
       "       [0., 1.],\n",
       "       [1., 0.],\n",
       "       [0., 1.],\n",
       "       [0., 1.],\n",
       "       [0., 1.]], dtype=float32)"
      ]
     },
     "execution_count": 33,
     "metadata": {},
     "output_type": "execute_result"
    }
   ],
   "source": [
    "dev_rounded_predictions=np.round(dev_predictions)\n",
    "indices = np.argmax(dev_predictions,1)\n",
    "for row, index in zip(dev_rounded_predictions, indices): row[index]=1\n",
    "dev_rounded_predictions[:20]"
   ]
  },
  {
   "cell_type": "code",
   "execution_count": 34,
   "metadata": {},
   "outputs": [
    {
     "data": {
      "text/plain": [
       "array([[1., 0.],\n",
       "       [1., 0.],\n",
       "       [1., 0.],\n",
       "       [1., 0.],\n",
       "       [1., 0.],\n",
       "       [1., 0.],\n",
       "       [1., 0.],\n",
       "       [1., 0.],\n",
       "       [1., 0.],\n",
       "       [1., 0.],\n",
       "       [1., 0.],\n",
       "       [1., 0.],\n",
       "       [0., 1.],\n",
       "       [0., 1.],\n",
       "       [0., 1.],\n",
       "       [0., 1.],\n",
       "       [0., 1.],\n",
       "       [0., 1.],\n",
       "       [0., 1.],\n",
       "       [0., 1.]])"
      ]
     },
     "execution_count": 34,
     "metadata": {},
     "output_type": "execute_result"
    }
   ],
   "source": [
    "y_dev[:20]"
   ]
  },
  {
   "cell_type": "code",
   "execution_count": 35,
   "metadata": {},
   "outputs": [
    {
     "name": "stdout",
     "output_type": "stream",
     "text": [
      "[ True False False  True False False False  True  True  True  True False\n",
      "  True False  True  True False  True  True  True  True False False False\n",
      " False False False  True  True  True]\n"
     ]
    }
   ],
   "source": [
    "dev_correct_predictions = np.equal(np.argmax(dev_rounded_predictions,1),np.argmax(y_dev,1))\n",
    "print (dev_correct_predictions[:30])"
   ]
  },
  {
   "cell_type": "code",
   "execution_count": 36,
   "metadata": {},
   "outputs": [
    {
     "data": {
      "text/plain": [
       "Counter({True: 59, False: 39})"
      ]
     },
     "execution_count": 36,
     "metadata": {},
     "output_type": "execute_result"
    }
   ],
   "source": [
    "from collections import Counter\n",
    "Counter (dev_correct_predictions)"
   ]
  },
  {
   "cell_type": "markdown",
   "metadata": {},
   "source": [
    "### 9. Save model"
   ]
  },
  {
   "cell_type": "markdown",
   "metadata": {},
   "source": [
    "We save the model if it is better than others "
   ]
  },
  {
   "cell_type": "code",
   "execution_count": 41,
   "metadata": {},
   "outputs": [],
   "source": [
    "# Save\n",
    "model.save('./Modelos/CNN_model1_IMPARES_DIA29.h5') # Change the name in each model"
   ]
  },
  {
   "cell_type": "code",
   "execution_count": 42,
   "metadata": {},
   "outputs": [
    {
     "data": {
      "text/plain": [
       "\"\\nnew_model = keras.models.load_model('./Modelos/EGG_prac1_ANN_model3.h5')\\n\\nimport numpy as np\\n\\n# Verify state\\nnew_predictions = new_model.predict(X_dev)\\nnp.testing.assert_allclose(predictions, new_predictions, rtol=1e-6, atol=1e-6)\\n\\n# Note that the optimizer state is also preserved:\\n# you can resume training where you left off.\\n\""
      ]
     },
     "execution_count": 42,
     "metadata": {},
     "output_type": "execute_result"
    }
   ],
   "source": [
    "# Extract\n",
    "\"\"\"\n",
    "new_model = keras.models.load_model('./Modelos/EGG_prac1_ANN_model3.h5')\n",
    "\n",
    "import numpy as np\n",
    "\n",
    "# Verify state\n",
    "new_predictions = new_model.predict(X_dev)\n",
    "np.testing.assert_allclose(predictions, new_predictions, rtol=1e-6, atol=1e-6)\n",
    "\n",
    "# Note that the optimizer state is also preserved:\n",
    "# you can resume training where you left off.\n",
    "\"\"\""
   ]
  },
  {
   "cell_type": "markdown",
   "metadata": {},
   "source": [
    "### 10 - Final Test\n",
    "\n",
    "#### 10.1 - Load the final test set"
   ]
  },
  {
   "cell_type": "code",
   "execution_count": 39,
   "metadata": {},
   "outputs": [],
   "source": [
    "from collections import Counter\n",
    "def predictWithModel(model, X_test, y_test, task1, task2, task3=\"\"):\n",
    "    model.evaluate(X_test, y_test)\n",
    "    test_predictions = model.predict(X_test)\n",
    "    test_rounded_predictions=np.round(test_predictions)\n",
    "    indices = np.argmax(test_predictions,1)\n",
    "    for row, index in zip(test_rounded_predictions, indices): row[index]=1\n",
    "    print(test_rounded_predictions[:20])\n",
    "    \n",
    "    # ACCURACY:\n",
    "    test_correct_predictions = np.equal(np.argmax(test_rounded_predictions,1),np.argmax(y_test,1))\n",
    "    print()\n",
    "    print(test_correct_predictions)\n",
    "    print(type(test_correct_predictions))\n",
    "    final_test_prediction_results=Counter(test_correct_predictions)\n",
    "    \n",
    "    success = np.mean(test_rounded_predictions == y_test)*100\n",
    "    \n",
    "    return final_test_prediction_results, success"
   ]
  },
  {
   "cell_type": "code",
   "execution_count": 40,
   "metadata": {},
   "outputs": [
    {
     "name": "stdout",
     "output_type": "stream",
     "text": [
      "2/2 [==============================] - 0s 49ms/step - loss: 2.9955 - accuracy: 0.5102\n",
      "[[0. 1.]\n",
      " [0. 1.]\n",
      " [0. 1.]\n",
      " [0. 1.]\n",
      " [1. 0.]\n",
      " [1. 0.]\n",
      " [0. 1.]\n",
      " [1. 0.]\n",
      " [1. 0.]\n",
      " [1. 0.]\n",
      " [1. 0.]\n",
      " [1. 0.]\n",
      " [0. 1.]\n",
      " [1. 0.]\n",
      " [0. 1.]\n",
      " [0. 1.]\n",
      " [0. 1.]\n",
      " [0. 1.]\n",
      " [0. 1.]\n",
      " [1. 0.]]\n",
      "\n",
      "[False False False False  True  True False  True  True  True  True  True\n",
      "  True False  True  True  True  True  True False False False  True False\n",
      " False False False False False False False False False False  True  True\n",
      "  True  True  True  True  True False False  True  True False  True False\n",
      "  True]\n",
      "<class 'numpy.ndarray'>\n",
      "Counter({True: 25, False: 24}) 51.02040816326531\n"
     ]
    }
   ],
   "source": [
    "accuracy, success = predictWithModel(model, X_test, y_test, 402,404)\n",
    "print(accuracy, success)"
   ]
  },
  {
   "cell_type": "code",
   "execution_count": null,
   "metadata": {},
   "outputs": [],
   "source": []
  }
 ],
 "metadata": {
  "kernelspec": {
   "display_name": "Python 3",
   "language": "python",
   "name": "python3"
  },
  "language_info": {
   "codemirror_mode": {
    "name": "ipython",
    "version": 3
   },
   "file_extension": ".py",
   "mimetype": "text/x-python",
   "name": "python",
   "nbconvert_exporter": "python",
   "pygments_lexer": "ipython3",
   "version": "3.8.5"
  }
 },
 "nbformat": 4,
 "nbformat_minor": 4
}
