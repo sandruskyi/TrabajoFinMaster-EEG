{
 "cells": [
  {
   "cell_type": "markdown",
   "metadata": {},
   "source": [
    "# Parte 4: Clasificación con CNN"
   ]
  },
  {
   "cell_type": "markdown",
   "metadata": {},
   "source": []
  },
  {
   "cell_type": "markdown",
   "metadata": {},
   "source": [
    "### Nuevos resultados: "
   ]
  },
  {
   "cell_type": "markdown",
   "metadata": {},
   "source": [
    "\n",
    "\n",
    "Resultados:\n",
    "    \n",
    "    TRAIN                   DEV\n",
    "    loss       accuracy     val_loss    val_accuracy\n",
    "    0.510721\t0.760204\t0.76399  \t0.5\n",
    "    \n",
    "Por tanto: \n",
    "\n",
    "    E = 1 - Accuracy\n",
    "    Etrain = 1 - 0.760204 = 0.239796\n",
    "    Etest = 1 - 0.5 =0.5\n",
    "    \n",
    "    Bias = Etrain - Ehuman = 0.239796\n",
    "    Variance = Etest - Etrain = 0.5 - 0.239796 = 0.260204\n",
    "\n",
    "No se ha conseguido mejorar :( "
   ]
  },
  {
   "cell_type": "markdown",
   "metadata": {},
   "source": [
    "### 1 - Import Libraries"
   ]
  },
  {
   "cell_type": "code",
   "execution_count": 1,
   "metadata": {},
   "outputs": [],
   "source": [
    "# Tensorflow and tf.keras\n",
    "import tensorflow as tf\n",
    "from tensorflow import keras\n",
    "\n",
    "#Helper libraries\n",
    "import matplotlib.pyplot as plt\n",
    "import pandas as pd\n",
    "import numpy as np\n",
    "\n",
    "# Signal libraries\n",
    "from scipy import signal\n"
   ]
  },
  {
   "cell_type": "markdown",
   "metadata": {},
   "source": [
    "### 2 - Load data"
   ]
  },
  {
   "cell_type": "code",
   "execution_count": 2,
   "metadata": {},
   "outputs": [],
   "source": [
    "class ROutput:\n",
    "    def __init__(self, task, data):\n",
    "        self.task = task\n",
    "        self.data = data\n",
    "        \n",
    "class OutTaskData: \n",
    "    def __init__(self, task, data): \n",
    "        self.task = task\n",
    "        self.data = data"
   ]
  },
  {
   "cell_type": "code",
   "execution_count": 3,
   "metadata": {},
   "outputs": [],
   "source": [
    "import scipy.io as sio\n",
    "# Primero leemos los registros\n",
    "def read_outputs(rec):\n",
    "    '''read_outputs(\"userS0091f1.mat\")'''\n",
    "    mat = sio.loadmat(rec)\n",
    "    mdata = mat['session']\n",
    "    val = mdata[0,0]\n",
    "    #output = ROutput(np.array(val[\"task\"]), np.array(val[\"data\"]))\n",
    "    output = ROutput(np.array(val[\"task_EEG\"]), np.array(val[\"data_EEG\"]))\n",
    "    return output"
   ]
  },
  {
   "cell_type": "markdown",
   "metadata": {},
   "source": [
    "### Cargamos los datos"
   ]
  },
  {
   "cell_type": "code",
   "execution_count": 4,
   "metadata": {},
   "outputs": [],
   "source": [
    "# Configuración\n",
    "from sklearn.pipeline import make_pipeline\n",
    "from sklearn.preprocessing import StandardScaler, OneHotEncoder\n",
    "from sklearn.linear_model import Perceptron\n",
    "from keras.utils import to_categorical\n",
    "\n",
    "\n",
    "task1 = 402 # SE PUEDE CAMBIAR\n",
    "task2 = 404 # SE PUEDE CAMBIAR\n",
    "task_OneHotEnconding = {402: [1.,0.], 404: [0.,1.]}\n",
    "user = 'W29' # SE PUEDE CAMBIAR\n",
    "day = '0331'\n",
    "folder_day = 'W29-31_03_2021'\n",
    "total_records = 22 # CAMBIAR SI HAY MAS REGISTROS\n",
    "fm = 200\n",
    "electrodes_names_selected = ['F3', 'FZ', 'FC1','FCZ','C1','CZ','CP1','CPZ', 'FC5', 'FC3','C5','C3','CP5','CP3','P3',\n",
    "                             'PZ','F4','FC2','FC4','FC6','C2','C4','CP2','CP4','C6','CP6','P4','HR' ,'HL', 'VU', 'VD']\n",
    "number_channels = len(electrodes_names_selected)\n"
   ]
  },
  {
   "cell_type": "code",
   "execution_count": 5,
   "metadata": {},
   "outputs": [
    {
     "name": "stdout",
     "output_type": "stream",
     "text": [
      "11 22\n"
     ]
    }
   ],
   "source": [
    "# Lectura de registros\n",
    "lTaskData = []\n",
    "\n",
    "total_records_used = 0\n",
    "for i_rec in range(1,total_records+1):\n",
    "    i_rec_record = i_rec\n",
    "    if i_rec_record <10:\n",
    "        i_rec_record = \"0\"+str(i_rec_record)\n",
    "    if i_rec % 2 == 0: # Registros impares primero: USUARIO SIN MOVIMIENTO SOLO PENSANDO\n",
    "        record = \"./RegistrosSinProcesar/\"+folder_day+\"/W29_2021\"+day+\"_openloop_\"+str(i_rec_record)+\".mat\"\n",
    "        output = read_outputs(record) # output.task será y, output.data será x\n",
    "\n",
    "        outT = (output.task == task1) | (output.task == task2)\n",
    "\n",
    "        outData = output.data[0:np.shape(output.data)[0], outT[0,:]]\n",
    "        outTask = output.task[0, outT[0,:]]\n",
    "        outTD = OutTaskData(outTask, outData)\n",
    "        lTaskData.append(outTD)\n",
    "        total_records_used+=1\n",
    "\n",
    "print(total_records_used, total_records)"
   ]
  },
  {
   "cell_type": "code",
   "execution_count": 6,
   "metadata": {},
   "outputs": [
    {
     "name": "stdout",
     "output_type": "stream",
     "text": [
      "X_train: (8, 31, 5600)\n",
      "y_train: (8, 5600)\n",
      "X_dev: (2, 31, 5600)\n",
      "y_dev: (2, 5600)\n",
      "X_test: (1, 31, 5600)\n",
      "y_test: (1, 5600)\n",
      "WINDOWING & ONE HOT ENCODER:\n",
      "X_train: (392, 31, 300, 1)\n",
      "y_train: (392, 2)\n",
      "X_dev: (98, 31, 300, 1)\n",
      "y_dev: (98, 2)\n",
      "X_test: (49, 31, 300, 1)\n",
      "y_test: (49, 2)\n"
     ]
    }
   ],
   "source": [
    "# Vamos a coger 2 registros para el entrenamiento, 1 para el conjunto dev set, 1 para el test set\n",
    "X_train, y_train, X_dev, y_dev, X_test, y_test = [],[],[],[],[],[] \n",
    "for j in range(0,total_records_used-3): # Cogemos 8 registros para entrenamiento\n",
    "    X_train.append(lTaskData[j].data)\n",
    "    y_train.append(lTaskData[j].task)\n",
    "\n",
    "for j in range(total_records_used-3,total_records_used-1): # Cogemos 2 registros para el dev set\n",
    "    X_dev.append(lTaskData[j].data)\n",
    "    y_dev.append(lTaskData[j].task)\n",
    "for j in range(total_records_used-1,total_records_used): # Cogemos 1 registros para el test set\n",
    "    X_test.append(lTaskData[j].data)\n",
    "    y_test.append(lTaskData[j].task)\n",
    "\n",
    "X_train = np.array(X_train)\n",
    "#y_train = np.ravel(np.array(y_train))\n",
    "y_train = np.array(y_train)\n",
    "X_dev = np.array(X_dev)\n",
    "#y_dev = np.ravel(np.array(y_dev))\n",
    "y_dev = np.array(y_dev)\n",
    "X_test = np.array(X_test)\n",
    "y_test = np.array(y_test)\n",
    "#y_test = np.ravel(np.array(y_test))\n",
    "\n",
    "print (\"X_train:\",X_train.shape)\n",
    "print (\"y_train:\",y_train.shape)\n",
    "print (\"X_dev:\",X_dev.shape)\n",
    "print (\"y_dev:\",y_dev.shape)\n",
    "print (\"X_test:\",X_test.shape)\n",
    "print (\"y_test:\",y_test.shape)\n",
    "\n",
    "\n",
    "# VENTANEO Y ONE HOT ENCODING \n",
    "window = 300\n",
    "samples_advance = 100\n",
    "\n",
    "# Ventaneo X_train\n",
    "\n",
    "X_train_l = []\n",
    "y_train_l = []\n",
    "for num_X_train in range(np.shape(X_train)[0]):\n",
    "    win_init = int(0)\n",
    "    window_position = 0\n",
    "    \n",
    "    for i in range(np.shape(X_train)[2]): # For each signal registered\n",
    "        win_end = int(win_init + window)\n",
    "        if win_end >= np.shape(X_train)[2]:\n",
    "            break\n",
    "\n",
    "        task = np.unique(y_train[num_X_train,win_init:win_end])\n",
    "\n",
    "        if len(task)==1:\n",
    "        #if task1 in task or task2 in task:\n",
    "            signal_window = X_train[num_X_train, :, win_init:win_end]\n",
    "            \n",
    "            #data_filtered = preprocessing(signal_window, fm, number_channels)\n",
    "            #X_train_l.append(data_filtered)\n",
    "            X_train_l.append(signal_window)\n",
    "            taskOH = task_OneHotEnconding[task[0]]\n",
    "            y_train_l.append(taskOH)\n",
    "            \n",
    "        win_init += int(samples_advance)\n",
    "\n",
    "X_train_l = np.array(X_train_l)\n",
    "y_train_l = np.array(y_train_l)\n",
    "\n",
    "\n",
    "# Ventaneo X_dev\n",
    "X_dev_l = []\n",
    "y_dev_l = []\n",
    "for num_X_dev in range(np.shape(X_dev)[0]):\n",
    "    win_init = int(0)\n",
    "    window_position = 0\n",
    "    \n",
    "    for i in range(np.shape(X_dev)[2]): # For each signal registered\n",
    "        win_end = int(win_init + window)\n",
    "        if win_end >= np.shape(X_dev)[2]:\n",
    "            break\n",
    "\n",
    "        task = np.unique(y_dev[num_X_dev,win_init:win_end])\n",
    "\n",
    "        if len(task)==1:\n",
    "        #if task1 in task or task2 in task:\n",
    "            signal_window = X_dev[num_X_dev, :, win_init:win_end]\n",
    "            \n",
    "            #data_filtered = preprocessing(signal_window, fm, number_channels)\n",
    "            #X_train_l.append(data_filtered)\n",
    "            X_dev_l.append(signal_window)\n",
    "            taskOH = task_OneHotEnconding[task[0]]\n",
    "            y_dev_l.append(taskOH)\n",
    "            \n",
    "        win_init += int(samples_advance)\n",
    "\n",
    "X_dev_l = np.array(X_dev_l)\n",
    "y_dev_l = np.array(y_dev_l)\n",
    "\n",
    "# Ventaneo X_test\n",
    "X_test_l = []\n",
    "y_test_l = []\n",
    "for num_X_test in range(np.shape(X_test)[0]):\n",
    "    win_init = int(0)\n",
    "    window_position = 0\n",
    "    \n",
    "    for i in range(np.shape(X_test)[2]): # For each signal registered\n",
    "        win_end = int(win_init + window)\n",
    "        if win_end >= np.shape(X_test)[2]:\n",
    "            break\n",
    "\n",
    "        task = np.unique(y_test[num_X_test,win_init:win_end])\n",
    "\n",
    "        if len(task)==1:\n",
    "        #if task1 in task or task2 in task:\n",
    "            signal_window = X_test[num_X_test, :, win_init:win_end]\n",
    "            \n",
    "            #data_filtered = preprocessing(signal_window, fm, number_channels)\n",
    "            #X_train_l.append(data_filtered)\n",
    "            X_test_l.append(signal_window)\n",
    "            taskOH = task_OneHotEnconding[task[0]]\n",
    "            y_test_l.append(taskOH)\n",
    "            \n",
    "        win_init += int(samples_advance)\n",
    "\n",
    "X_test_l = np.array(X_test_l)\n",
    "y_test_l = np.array(y_test_l)\n",
    "\n",
    "\n",
    "\n",
    "\n",
    "X_train_l = X_train_l.reshape((np.shape(X_train_l)[0],np.shape(X_train_l)[1],np.shape(X_train_l)[2], 1))\n",
    "X_dev_l = X_dev_l.reshape((np.shape(X_dev_l)[0],np.shape(X_dev_l)[1],np.shape(X_dev_l)[2], 1))\n",
    "X_test_l = X_test_l.reshape((np.shape(X_test_l)[0],np.shape(X_test_l)[1],np.shape(X_test_l)[2], 1))\n",
    "\n",
    "\n",
    "print(\"WINDOWING & ONE HOT ENCODER:\")\n",
    "print (\"X_train:\",X_train_l.shape)\n",
    "print (\"y_train:\",y_train_l.shape)\n",
    "print (\"X_dev:\",X_dev_l.shape)\n",
    "print (\"y_dev:\",y_dev_l.shape)\n",
    "print (\"X_test:\",X_test_l.shape)\n",
    "print (\"y_test:\",y_test_l.shape)\n",
    "\n",
    "X_train = X_train_l\n",
    "y_train = y_train_l\n",
    "X_dev = X_dev_l\n",
    "y_dev = y_dev_l\n",
    "X_test = X_test_l\n",
    "y_test = y_test_l"
   ]
  },
  {
   "cell_type": "markdown",
   "metadata": {},
   "source": [
    "### 3. Initialize variables"
   ]
  },
  {
   "cell_type": "code",
   "execution_count": 7,
   "metadata": {},
   "outputs": [],
   "source": [
    "INPUTS = X_train.shape[1]\n",
    "OUTPUTS = y_train.shape[1]\n",
    "NUM_TRAINING_EXAMPLES = int(round(X_train.shape[0]/1))\n",
    "NUM_DEV_EXAMPLES = int(round(y_train.shape[0]/1))"
   ]
  },
  {
   "cell_type": "markdown",
   "metadata": {},
   "source": [
    "Some data is displayed to test correctness:"
   ]
  },
  {
   "cell_type": "code",
   "execution_count": 8,
   "metadata": {},
   "outputs": [
    {
     "data": {
      "text/plain": [
       "array([[[[ 2.82092514e+01],\n",
       "         [ 2.89351730e+01],\n",
       "         [ 2.57947884e+01],\n",
       "         ...,\n",
       "         [-2.64894371e+01],\n",
       "         [-2.27690105e+01],\n",
       "         [-1.97064209e+01]],\n",
       "\n",
       "        [[-2.00550008e+00],\n",
       "         [-3.06276011e+00],\n",
       "         [-5.69424820e+00],\n",
       "         ...,\n",
       "         [-3.42017794e+00],\n",
       "         [-3.77322406e-01],\n",
       "         [ 2.55768967e+00]],\n",
       "\n",
       "        [[ 1.53868520e+00],\n",
       "         [ 1.35626411e+00],\n",
       "         [-1.41677797e+00],\n",
       "         ...,\n",
       "         [-1.09292917e+01],\n",
       "         [-6.08051348e+00],\n",
       "         [-3.19313884e+00]],\n",
       "\n",
       "        ...,\n",
       "\n",
       "        [[-9.77449512e+00],\n",
       "         [-1.90407543e+01],\n",
       "         [-1.55003605e+01],\n",
       "         ...,\n",
       "         [ 1.81032715e+01],\n",
       "         [ 1.82797623e+01],\n",
       "         [ 1.87076321e+01]],\n",
       "\n",
       "        [[ 8.44592438e+01],\n",
       "         [ 8.19998398e+01],\n",
       "         [ 8.21672974e+01],\n",
       "         ...,\n",
       "         [-9.96625671e+01],\n",
       "         [-1.03578308e+02],\n",
       "         [-1.05138092e+02]],\n",
       "\n",
       "        [[-5.82478905e+00],\n",
       "         [ 8.06580424e-01],\n",
       "         [-3.93068552e+00],\n",
       "         ...,\n",
       "         [ 7.50815868e+00],\n",
       "         [ 4.11500645e+00],\n",
       "         [ 5.31409681e-01]]],\n",
       "\n",
       "\n",
       "       [[[ 6.64770269e+00],\n",
       "         [ 2.22319269e+00],\n",
       "         [ 2.45259075e+01],\n",
       "         ...,\n",
       "         [-1.37443104e+01],\n",
       "         [-1.44646568e+01],\n",
       "         [-1.44783669e+01]],\n",
       "\n",
       "        [[-1.24282722e+01],\n",
       "         [-1.84865456e+01],\n",
       "         [ 1.01721561e+00],\n",
       "         ...,\n",
       "         [-2.49326050e-01],\n",
       "         [-1.92921050e-02],\n",
       "         [ 4.22278307e-02]],\n",
       "\n",
       "        [[-8.99646378e+00],\n",
       "         [-1.50082550e+01],\n",
       "         [ 5.92787409e+00],\n",
       "         ...,\n",
       "         [ 1.18794911e-01],\n",
       "         [-7.23795146e-02],\n",
       "         [-4.71746564e-01]],\n",
       "\n",
       "        ...,\n",
       "\n",
       "        [[-3.02365170e+01],\n",
       "         [-2.85552311e+01],\n",
       "         [-2.43620586e+01],\n",
       "         ...,\n",
       "         [-1.82955647e+01],\n",
       "         [-1.38664331e+01],\n",
       "         [-7.76209402e+00]],\n",
       "\n",
       "        [[ 1.53313782e+02],\n",
       "         [ 1.51532837e+02],\n",
       "         [ 1.55554031e+02],\n",
       "         ...,\n",
       "         [-1.55364334e+02],\n",
       "         [-1.55210938e+02],\n",
       "         [-1.57247406e+02]],\n",
       "\n",
       "        [[ 6.83019447e+00],\n",
       "         [ 1.04988194e+01],\n",
       "         [ 2.22001820e+01],\n",
       "         ...,\n",
       "         [-2.50185490e+00],\n",
       "         [-8.66393089e-01],\n",
       "         [-2.77501673e-01]]]])"
      ]
     },
     "execution_count": 8,
     "metadata": {},
     "output_type": "execute_result"
    }
   ],
   "source": [
    "X_train[:2]"
   ]
  },
  {
   "cell_type": "code",
   "execution_count": 9,
   "metadata": {},
   "outputs": [
    {
     "data": {
      "text/plain": [
       "array([[[[-32.50832748],\n",
       "         [-45.54853439],\n",
       "         [-52.7408905 ],\n",
       "         ...,\n",
       "         [-32.6632843 ],\n",
       "         [-26.30834198],\n",
       "         [-11.45257568]],\n",
       "\n",
       "        [[ 12.60225773],\n",
       "         [ -1.62979472],\n",
       "         [-12.85349846],\n",
       "         ...,\n",
       "         [ -8.99156857],\n",
       "         [ -3.84633279],\n",
       "         [ 12.50936127]],\n",
       "\n",
       "        [[ 15.38480377],\n",
       "         [  1.04007053],\n",
       "         [ -8.48399734],\n",
       "         ...,\n",
       "         [ -9.67211819],\n",
       "         [ -4.2298665 ],\n",
       "         [ 11.37576675]],\n",
       "\n",
       "        ...,\n",
       "\n",
       "        [[ -6.98024368],\n",
       "         [-17.87797356],\n",
       "         [-25.05665016],\n",
       "         ...,\n",
       "         [ 12.1260376 ],\n",
       "         [ 27.41692734],\n",
       "         [ 48.25946808]],\n",
       "\n",
       "        [[-51.67138672],\n",
       "         [-65.68618011],\n",
       "         [-74.85217285],\n",
       "         ...,\n",
       "         [-39.00770187],\n",
       "         [-25.55912209],\n",
       "         [ -9.8506813 ]],\n",
       "\n",
       "        [[ -2.56852221],\n",
       "         [ -8.74023533],\n",
       "         [-12.07119179],\n",
       "         ...,\n",
       "         [-15.49972057],\n",
       "         [-16.47405052],\n",
       "         [-11.01752949]]],\n",
       "\n",
       "\n",
       "       [[[-59.62939072],\n",
       "         [-53.84295273],\n",
       "         [-42.41113663],\n",
       "         ...,\n",
       "         [-18.33662987],\n",
       "         [-26.2751236 ],\n",
       "         [-28.30541229]],\n",
       "\n",
       "        [[-31.63087654],\n",
       "         [-26.25337219],\n",
       "         [-15.13665771],\n",
       "         ...,\n",
       "         [ -9.28710461],\n",
       "         [-16.8656292 ],\n",
       "         [-18.57706642]],\n",
       "\n",
       "        [[-27.11886024],\n",
       "         [-21.86961555],\n",
       "         [ -9.68200111],\n",
       "         ...,\n",
       "         [ -4.87048006],\n",
       "         [-11.99184227],\n",
       "         [-12.33061981]],\n",
       "\n",
       "        ...,\n",
       "\n",
       "        [[-13.95550156],\n",
       "         [ -6.70044661],\n",
       "         [ -4.33677244],\n",
       "         ...,\n",
       "         [ 21.10912132],\n",
       "         [ 24.06651115],\n",
       "         [ 28.20629311]],\n",
       "\n",
       "        [[-81.39221191],\n",
       "         [-71.79236603],\n",
       "         [-64.57866669],\n",
       "         ...,\n",
       "         [-32.30601501],\n",
       "         [-31.56279564],\n",
       "         [-25.44491577]],\n",
       "\n",
       "        [[  3.18074155],\n",
       "         [ 12.22233105],\n",
       "         [ 13.24007988],\n",
       "         ...,\n",
       "         [ -2.52598143],\n",
       "         [ -2.70844793],\n",
       "         [  9.41244507]]]])"
      ]
     },
     "execution_count": 9,
     "metadata": {},
     "output_type": "execute_result"
    }
   ],
   "source": [
    "X_dev[:2]"
   ]
  },
  {
   "cell_type": "code",
   "execution_count": 10,
   "metadata": {},
   "outputs": [
    {
     "data": {
      "text/plain": [
       "array([[1., 0.],\n",
       "       [1., 0.]])"
      ]
     },
     "execution_count": 10,
     "metadata": {},
     "output_type": "execute_result"
    }
   ],
   "source": [
    "y_train[:2]"
   ]
  },
  {
   "cell_type": "code",
   "execution_count": 11,
   "metadata": {},
   "outputs": [
    {
     "data": {
      "text/plain": [
       "array([0., 1.])"
      ]
     },
     "execution_count": 11,
     "metadata": {},
     "output_type": "execute_result"
    }
   ],
   "source": [
    "y_train[-20]"
   ]
  },
  {
   "cell_type": "code",
   "execution_count": 12,
   "metadata": {},
   "outputs": [
    {
     "data": {
      "text/plain": [
       "array([[1., 0.],\n",
       "       [1., 0.]])"
      ]
     },
     "execution_count": 12,
     "metadata": {},
     "output_type": "execute_result"
    }
   ],
   "source": [
    "y_dev[:2]"
   ]
  },
  {
   "cell_type": "code",
   "execution_count": 13,
   "metadata": {},
   "outputs": [
    {
     "data": {
      "text/plain": [
       "(31, 300, 1)"
      ]
     },
     "execution_count": 13,
     "metadata": {},
     "output_type": "execute_result"
    }
   ],
   "source": [
    "X_dev[0].shape"
   ]
  },
  {
   "cell_type": "code",
   "execution_count": 14,
   "metadata": {},
   "outputs": [
    {
     "data": {
      "text/plain": [
       "(98, 31, 300, 1)"
      ]
     },
     "execution_count": 14,
     "metadata": {},
     "output_type": "execute_result"
    }
   ],
   "source": [
    "X_dev.shape"
   ]
  },
  {
   "cell_type": "code",
   "execution_count": 15,
   "metadata": {},
   "outputs": [
    {
     "data": {
      "text/plain": [
       "(392, 31, 300, 1)"
      ]
     },
     "execution_count": 15,
     "metadata": {},
     "output_type": "execute_result"
    }
   ],
   "source": [
    "X_train.shape"
   ]
  },
  {
   "cell_type": "code",
   "execution_count": 16,
   "metadata": {},
   "outputs": [
    {
     "data": {
      "text/plain": [
       "2"
      ]
     },
     "execution_count": 16,
     "metadata": {},
     "output_type": "execute_result"
    }
   ],
   "source": [
    "y_train.shape[1]"
   ]
  },
  {
   "cell_type": "markdown",
   "metadata": {},
   "source": [
    "### 4 - Set hyperparameters"
   ]
  },
  {
   "cell_type": "code",
   "execution_count": 17,
   "metadata": {},
   "outputs": [],
   "source": [
    "# Tensorboard\n",
    "from time import time\n",
    "from keras.callbacks import TensorBoard\n",
    "tensorboard = TensorBoard(log_dir='logs/{}'.format(time()))"
   ]
  },
  {
   "cell_type": "code",
   "execution_count": 18,
   "metadata": {},
   "outputs": [
    {
     "data": {
      "text/plain": [
       "'\\nn_epochs = 100 #2000\\n#learning_rate = 0.001\\nbatch_size = 32 #250 \\nn_neurons_per_hlayer = [500, 250, 75, 25] # Number of units per layer, 4 hidden layers\\nrate_dropout = [0.8, 0.4, 0.2, 0.1]\\nweight_decay = 1e-4\\n'"
      ]
     },
     "execution_count": 18,
     "metadata": {},
     "output_type": "execute_result"
    }
   ],
   "source": [
    "\"\"\"\n",
    "n_epochs = 100 #2000\n",
    "#learning_rate = 0.001\n",
    "batch_size = 32 #250 \n",
    "n_neurons_per_hlayer = [500, 250, 75, 25] # Number of units per layer, 4 hidden layers\n",
    "rate_dropout = [0.8, 0.4, 0.2, 0.1]\n",
    "weight_decay = 1e-4\n",
    "\"\"\""
   ]
  },
  {
   "cell_type": "markdown",
   "metadata": {},
   "source": [
    "### 5 - Build the model: "
   ]
  },
  {
   "cell_type": "code",
   "execution_count": 19,
   "metadata": {},
   "outputs": [
    {
     "name": "stdout",
     "output_type": "stream",
     "text": [
      "Model: \"sequential\"\n",
      "_________________________________________________________________\n",
      "Layer (type)                 Output Shape              Param #   \n",
      "=================================================================\n",
      "conv2d (Conv2D)              (None, 31, 300, 4)        104       \n",
      "_________________________________________________________________\n",
      "conv2d_1 (Conv2D)            (None, 31, 300, 4)        500       \n",
      "_________________________________________________________________\n",
      "max_pooling2d (MaxPooling2D) (None, 15, 150, 4)        0         \n",
      "_________________________________________________________________\n",
      "dropout (Dropout)            (None, 15, 150, 4)        0         \n",
      "_________________________________________________________________\n",
      "conv2d_2 (Conv2D)            (None, 15, 150, 50)       1850      \n",
      "_________________________________________________________________\n",
      "conv2d_3 (Conv2D)            (None, 15, 150, 50)       22550     \n",
      "_________________________________________________________________\n",
      "max_pooling2d_1 (MaxPooling2 (None, 7, 75, 50)         0         \n",
      "_________________________________________________________________\n",
      "dropout_1 (Dropout)          (None, 7, 75, 50)         0         \n",
      "_________________________________________________________________\n",
      "flatten (Flatten)            (None, 26250)             0         \n",
      "_________________________________________________________________\n",
      "dense (Dense)                (None, 2)                 52502     \n",
      "=================================================================\n",
      "Total params: 77,506\n",
      "Trainable params: 77,506\n",
      "Non-trainable params: 0\n",
      "_________________________________________________________________\n"
     ]
    }
   ],
   "source": [
    "from keras.models import Sequential\n",
    "from keras.layers import Dense, Dropout, Activation, Flatten, DepthwiseConv2D\n",
    "from keras.layers.convolutional import Conv2D, MaxPooling2D\n",
    "from keras import optimizers, regularizers\n",
    "import keras.backend as K\n",
    "#K.set_image_data_format('channels_first')\n",
    "\n",
    "weight_decay = 1e-4\n",
    "\n",
    "model = Sequential()\n",
    "# Convolution2D(filtrosConv1, tamaño_filtro1, padding=\"same\", input_shape=(longitud, altura,3), activation = \"relu\")\n",
    "    # - filtrosConv1 número de filtros que aplicaremos tras la primera convolución, normalmente este tamaño va a aumentando\n",
    "    # tras convoluciones para que aumente la dimensión de profundidad (qué cosas hay en mi imagen)\n",
    "    # - tamaño_filtro1 tamaño espacial del kernel (de los filtros)\n",
    "    # - padding = si es same es que es igual que la imagen, vamos crea una imagen del mismo tamaño con el filtro, si es \n",
    "    # valid es que no hay padding y crea una imagen más pequeña que la imagen (creo)\n",
    "    # - input_shape = longitud y altura, tamaño que usará para convolucionar al entrenar\n",
    "    \n",
    "# CAPA PARA FILTRADO TEMPORAL\n",
    "model.add(Conv2D(filters = 4, kernel_size=(1,25), padding=\"same\", activation=\"relu\",input_shape=(31, 300,1 ), kernel_initializer=\"he_normal\", kernel_regularizer=regularizers.l2(weight_decay)))\n",
    "# CAPA PARA FILTRADO ESPACIAL\n",
    "model.add(Conv2D(filters = 4, kernel_size=(31,1), padding=\"same\", activation=\"relu\", kernel_initializer=\"he_normal\", kernel_regularizer=regularizers.l2(weight_decay)))\n",
    "model.add(MaxPooling2D(pool_size=(2, 2)))\n",
    "\n",
    "model.add(Dropout(0.6))\n",
    "\n",
    "## Siguientes capas convolucionales: \n",
    "model.add(Conv2D(50, (3,3), padding='same',activation='relu', kernel_initializer=\"he_normal\",kernel_regularizer=regularizers.l2(weight_decay)))\n",
    "model.add(Conv2D(50, (3,3), padding='same',activation='relu', kernel_initializer=\"he_normal\",kernel_regularizer=regularizers.l2(weight_decay)))\n",
    "model.add(MaxPooling2D(pool_size=(2,2)))\n",
    "model.add(Dropout(0.5))\n",
    "\n",
    "\n",
    "\"\"\"\n",
    "model.add(Conv2D(160, (3,3), padding='same',activation='relu', kernel_initializer=\"he_normal\",kernel_regularizer=regularizers.l2(weight_decay)))\n",
    "model.add(MaxPooling2D(pool_size=(2,2)))\n",
    "\"\"\"\n",
    "\n",
    "\n",
    "\"\"\"\n",
    "model.add(MaxPooling2D(pool_size=(2, 2)))\n",
    "model.add(Dropout(0.5))\n",
    "\n",
    "\n",
    "model.add(Conv2D(96, (3, 3), padding='same',activation='relu', kernel_initializer=\"he_normal\",kernel_regularizer=regularizers.l2(weight_decay)))\n",
    "#model.add(Conv2D(96, (3, 3), padding='same',activation='relu', kernel_initializer=\"he_normal\", kernel_regularizer=regularizers.l2(weight_decay)))\n",
    "model.add(MaxPooling2D(pool_size=(2, 2)))\n",
    "model.add(Dropout(0.2))\n",
    "\n",
    "model.add(Conv2D(192, (3, 3), padding='same',activation='relu', kernel_initializer=\"he_normal\", kernel_regularizer=regularizers.l2(weight_decay)))\n",
    "#model.add(Conv2D(192, (3, 3), padding='same',activation='relu', kernel_initializer=\"he_normal\", kernel_regularizer=regularizers.l2(weight_decay)))\n",
    "model.add(MaxPooling2D(pool_size=(2, 2)))\n",
    "model.add(Dropout(0.1))\n",
    "\"\"\"\n",
    "\n",
    "model.add(Flatten())\n",
    "model.add(Dense(y_train.shape[1], activation=\"softmax\"))\n",
    "\n",
    "opt = optimizers.Adam(lr=0.001, beta_1=0.9, beta_2=0.999)        \n",
    "model.compile(optimizer=opt, loss='categorical_crossentropy', metrics=['accuracy'])\n",
    "model.summary()"
   ]
  },
  {
   "cell_type": "code",
   "execution_count": 20,
   "metadata": {},
   "outputs": [
    {
     "data": {
      "text/plain": [
       "[<tensorflow.python.keras.layers.convolutional.Conv2D at 0x2095ca17fa0>,\n",
       " <tensorflow.python.keras.layers.convolutional.Conv2D at 0x2095ba88fd0>,\n",
       " <tensorflow.python.keras.layers.pooling.MaxPooling2D at 0x2095ba888b0>,\n",
       " <tensorflow.python.keras.layers.core.Dropout at 0x2095bc212b0>,\n",
       " <tensorflow.python.keras.layers.convolutional.Conv2D at 0x2095bc30cd0>,\n",
       " <tensorflow.python.keras.layers.convolutional.Conv2D at 0x2095bc438e0>,\n",
       " <tensorflow.python.keras.layers.pooling.MaxPooling2D at 0x2095bc43910>,\n",
       " <tensorflow.python.keras.layers.core.Dropout at 0x2095bc546a0>,\n",
       " <tensorflow.python.keras.layers.core.Flatten at 0x2095bc54e80>,\n",
       " <tensorflow.python.keras.layers.core.Dense at 0x2095bc5cee0>]"
      ]
     },
     "execution_count": 20,
     "metadata": {},
     "output_type": "execute_result"
    }
   ],
   "source": [
    "model.layers"
   ]
  },
  {
   "cell_type": "code",
   "execution_count": 21,
   "metadata": {},
   "outputs": [
    {
     "name": "stdout",
     "output_type": "stream",
     "text": [
      "conv2d\n",
      "conv2d_1\n",
      "max_pooling2d\n",
      "dropout\n",
      "conv2d_2\n",
      "conv2d_3\n",
      "max_pooling2d_1\n",
      "dropout_1\n",
      "flatten\n",
      "dense\n"
     ]
    }
   ],
   "source": [
    "for l in model.layers: print (l.name)"
   ]
  },
  {
   "cell_type": "markdown",
   "metadata": {},
   "source": [
    "All the parameters of a layer can bee accessed:"
   ]
  },
  {
   "cell_type": "code",
   "execution_count": 22,
   "metadata": {},
   "outputs": [
    {
     "data": {
      "text/plain": [
       "(1, 25, 1, 4)"
      ]
     },
     "execution_count": 22,
     "metadata": {},
     "output_type": "execute_result"
    }
   ],
   "source": [
    "weights, biases = model.layers[0].get_weights()\n",
    "weights.shape"
   ]
  },
  {
   "cell_type": "code",
   "execution_count": 23,
   "metadata": {},
   "outputs": [
    {
     "data": {
      "text/plain": [
       "array([[[[-2.32636049e-01, -2.92008102e-01, -1.62566528e-01,\n",
       "          -4.09232192e-02]],\n",
       "\n",
       "        [[ 4.24571991e-01, -5.99937499e-01, -5.54211028e-02,\n",
       "          -4.54349630e-02]],\n",
       "\n",
       "        [[-2.86237717e-01, -6.48678094e-02, -1.20901518e-01,\n",
       "           3.25578183e-01]],\n",
       "\n",
       "        [[-1.29730016e-01,  3.97488773e-02,  1.89265102e-01,\n",
       "          -1.70362696e-01]],\n",
       "\n",
       "        [[ 2.43591323e-01, -1.81763291e-01,  2.78300852e-01,\n",
       "           5.41060209e-01]],\n",
       "\n",
       "        [[ 4.37968314e-01,  4.40429628e-01,  2.68955976e-01,\n",
       "          -3.92267436e-01]],\n",
       "\n",
       "        [[-3.74206305e-01,  1.13805369e-01, -1.54960558e-01,\n",
       "          -9.53868851e-02]],\n",
       "\n",
       "        [[ 3.87858413e-02,  2.15586964e-02,  1.45946280e-04,\n",
       "          -4.27447438e-01]],\n",
       "\n",
       "        [[-2.04263896e-01, -2.08615839e-01, -1.10620543e-01,\n",
       "           2.84916788e-01]],\n",
       "\n",
       "        [[-3.92680824e-01,  2.98612595e-01, -2.71360636e-01,\n",
       "          -3.26518387e-01]],\n",
       "\n",
       "        [[-1.36368722e-01,  1.49118513e-01, -2.05911979e-01,\n",
       "          -3.51445794e-01]],\n",
       "\n",
       "        [[-5.90655684e-01, -7.93722793e-02,  3.09526414e-01,\n",
       "          -5.03669977e-01]],\n",
       "\n",
       "        [[ 3.97353232e-01, -3.51593941e-01, -5.89931428e-01,\n",
       "          -3.33344609e-01]],\n",
       "\n",
       "        [[-2.43684515e-01,  1.62404865e-01,  2.65145510e-01,\n",
       "          -3.53518009e-01]],\n",
       "\n",
       "        [[-1.72422588e-01,  6.16415381e-01, -3.13069075e-02,\n",
       "           9.30342898e-02]],\n",
       "\n",
       "        [[ 3.69607806e-01,  1.99171603e-01,  2.57490754e-01,\n",
       "          -4.15534407e-01]],\n",
       "\n",
       "        [[ 4.38112259e-01,  1.35775149e-01, -1.02520466e-01,\n",
       "          -4.36707109e-01]],\n",
       "\n",
       "        [[-1.47917300e-01,  1.22450151e-01,  1.22280911e-01,\n",
       "          -3.87949526e-01]],\n",
       "\n",
       "        [[-4.32490528e-01,  3.00278485e-01,  1.82362780e-01,\n",
       "           1.43286631e-01]],\n",
       "\n",
       "        [[-3.41984630e-01,  2.81325519e-01, -6.38219714e-01,\n",
       "          -1.18096851e-01]],\n",
       "\n",
       "        [[ 1.94587275e-01, -1.66325029e-02,  3.54227871e-01,\n",
       "           4.29868698e-01]],\n",
       "\n",
       "        [[ 1.57895580e-01, -3.42376292e-01,  1.64755762e-01,\n",
       "          -1.10849775e-01]],\n",
       "\n",
       "        [[-2.79440850e-01, -8.16968679e-02,  1.74184725e-01,\n",
       "          -2.57275522e-01]],\n",
       "\n",
       "        [[-2.52889425e-01, -1.94802746e-01,  2.90352136e-01,\n",
       "           1.14138216e-01]],\n",
       "\n",
       "        [[ 1.23580210e-01,  2.11553171e-01,  5.36318541e-01,\n",
       "           1.23785876e-01]]]], dtype=float32)"
      ]
     },
     "execution_count": 23,
     "metadata": {},
     "output_type": "execute_result"
    }
   ],
   "source": [
    "weights"
   ]
  },
  {
   "cell_type": "code",
   "execution_count": 24,
   "metadata": {},
   "outputs": [
    {
     "data": {
      "text/plain": [
       "array([0., 0., 0., 0.], dtype=float32)"
      ]
     },
     "execution_count": 24,
     "metadata": {},
     "output_type": "execute_result"
    }
   ],
   "source": [
    "biases # Bias de la primera capa: 500 bias inicializados a 0 "
   ]
  },
  {
   "cell_type": "code",
   "execution_count": 25,
   "metadata": {},
   "outputs": [
    {
     "data": {
      "text/plain": [
       "(4,)"
      ]
     },
     "execution_count": 25,
     "metadata": {},
     "output_type": "execute_result"
    }
   ],
   "source": [
    "biases.shape"
   ]
  },
  {
   "cell_type": "markdown",
   "metadata": {},
   "source": [
    "### 6. Compile the model"
   ]
  },
  {
   "cell_type": "markdown",
   "metadata": {},
   "source": [
    "### 7. Train the model with M-BGD"
   ]
  },
  {
   "cell_type": "code",
   "execution_count": 26,
   "metadata": {},
   "outputs": [
    {
     "name": "stdout",
     "output_type": "stream",
     "text": [
      "Epoch 1/100\n",
      "13/13 - 20s - loss: 265.5597 - accuracy: 0.4464 - val_loss: 8.1015 - val_accuracy: 0.5408\n",
      "Epoch 2/100\n",
      "13/13 - 10s - loss: 14.0879 - accuracy: 0.5281 - val_loss: 0.9412 - val_accuracy: 0.4490\n",
      "Epoch 3/100\n",
      "13/13 - 10s - loss: 1.8137 - accuracy: 0.5434 - val_loss: 0.7615 - val_accuracy: 0.4286\n",
      "Epoch 4/100\n",
      "13/13 - 10s - loss: 1.2356 - accuracy: 0.5179 - val_loss: 0.7364 - val_accuracy: 0.4082\n",
      "Epoch 5/100\n",
      "13/13 - 10s - loss: 1.0734 - accuracy: 0.5306 - val_loss: 0.7332 - val_accuracy: 0.3673\n",
      "Epoch 6/100\n",
      "13/13 - 10s - loss: 1.1024 - accuracy: 0.5128 - val_loss: 0.7310 - val_accuracy: 0.4082\n",
      "Epoch 7/100\n",
      "13/13 - 10s - loss: 1.0741 - accuracy: 0.5332 - val_loss: 0.7287 - val_accuracy: 0.3776\n",
      "Epoch 8/100\n",
      "13/13 - 10s - loss: 0.9415 - accuracy: 0.5102 - val_loss: 0.7276 - val_accuracy: 0.3776\n",
      "Epoch 9/100\n",
      "13/13 - 11s - loss: 0.9636 - accuracy: 0.5612 - val_loss: 0.7261 - val_accuracy: 0.3571\n",
      "Epoch 10/100\n",
      "13/13 - 10s - loss: 0.9223 - accuracy: 0.5077 - val_loss: 0.7255 - val_accuracy: 0.3673\n",
      "Epoch 11/100\n",
      "13/13 - 11s - loss: 0.8188 - accuracy: 0.5561 - val_loss: 0.7251 - val_accuracy: 0.3776\n",
      "Epoch 12/100\n",
      "13/13 - 10s - loss: 0.8830 - accuracy: 0.4898 - val_loss: 0.7243 - val_accuracy: 0.3776\n",
      "Epoch 13/100\n",
      "13/13 - 11s - loss: 0.9140 - accuracy: 0.5102 - val_loss: 0.7236 - val_accuracy: 0.3776\n",
      "Epoch 14/100\n",
      "13/13 - 12s - loss: 0.8851 - accuracy: 0.5051 - val_loss: 0.7228 - val_accuracy: 0.3878\n",
      "Epoch 15/100\n",
      "13/13 - 12s - loss: 0.8119 - accuracy: 0.5357 - val_loss: 0.7222 - val_accuracy: 0.3776\n",
      "Epoch 16/100\n",
      "13/13 - 12s - loss: 0.8102 - accuracy: 0.5587 - val_loss: 0.7218 - val_accuracy: 0.3878\n",
      "Epoch 17/100\n",
      "13/13 - 11s - loss: 0.7914 - accuracy: 0.5230 - val_loss: 0.7212 - val_accuracy: 0.3878\n",
      "Epoch 18/100\n",
      "13/13 - 11s - loss: 0.7492 - accuracy: 0.5434 - val_loss: 0.7203 - val_accuracy: 0.3571\n",
      "Epoch 19/100\n",
      "13/13 - 11s - loss: 0.7926 - accuracy: 0.5459 - val_loss: 0.7198 - val_accuracy: 0.3776\n",
      "Epoch 20/100\n",
      "13/13 - 11s - loss: 0.7314 - accuracy: 0.5459 - val_loss: 0.7194 - val_accuracy: 0.3980\n",
      "Epoch 21/100\n",
      "13/13 - 11s - loss: 0.7334 - accuracy: 0.5204 - val_loss: 0.7189 - val_accuracy: 0.4082\n",
      "Epoch 22/100\n",
      "13/13 - 12s - loss: 0.7632 - accuracy: 0.5230 - val_loss: 0.7186 - val_accuracy: 0.4490\n",
      "Epoch 23/100\n",
      "13/13 - 10s - loss: 0.7740 - accuracy: 0.5102 - val_loss: 0.7181 - val_accuracy: 0.4796\n",
      "Epoch 24/100\n",
      "13/13 - 10s - loss: 0.7268 - accuracy: 0.5816 - val_loss: 0.7178 - val_accuracy: 0.4694\n",
      "Epoch 25/100\n",
      "13/13 - 10s - loss: 0.7397 - accuracy: 0.5102 - val_loss: 0.7177 - val_accuracy: 0.4796\n",
      "Epoch 26/100\n",
      "13/13 - 8s - loss: 0.7218 - accuracy: 0.5408 - val_loss: 0.7174 - val_accuracy: 0.4796\n",
      "Epoch 27/100\n",
      "13/13 - 8s - loss: 0.7215 - accuracy: 0.5740 - val_loss: 0.7171 - val_accuracy: 0.4796\n",
      "Epoch 28/100\n",
      "13/13 - 7s - loss: 0.7024 - accuracy: 0.5663 - val_loss: 0.7169 - val_accuracy: 0.4796\n",
      "Epoch 29/100\n",
      "13/13 - 8s - loss: 0.7858 - accuracy: 0.5510 - val_loss: 0.7169 - val_accuracy: 0.4796\n",
      "Epoch 30/100\n",
      "13/13 - 8s - loss: 0.7019 - accuracy: 0.5714 - val_loss: 0.7169 - val_accuracy: 0.4694\n",
      "Epoch 31/100\n",
      "13/13 - 8s - loss: 0.7043 - accuracy: 0.5536 - val_loss: 0.7168 - val_accuracy: 0.4898\n",
      "Epoch 32/100\n",
      "13/13 - 8s - loss: 0.6860 - accuracy: 0.6020 - val_loss: 0.7167 - val_accuracy: 0.4898\n",
      "Epoch 33/100\n",
      "13/13 - 8s - loss: 0.6914 - accuracy: 0.5765 - val_loss: 0.7165 - val_accuracy: 0.5204\n",
      "Epoch 34/100\n",
      "13/13 - 7s - loss: 0.7053 - accuracy: 0.6020 - val_loss: 0.7163 - val_accuracy: 0.5408\n",
      "Epoch 35/100\n",
      "13/13 - 7s - loss: 0.7148 - accuracy: 0.5995 - val_loss: 0.7162 - val_accuracy: 0.5408\n",
      "Epoch 36/100\n",
      "13/13 - 7s - loss: 0.6736 - accuracy: 0.6046 - val_loss: 0.7161 - val_accuracy: 0.5306\n",
      "Epoch 37/100\n",
      "13/13 - 7s - loss: 0.7234 - accuracy: 0.5816 - val_loss: 0.7164 - val_accuracy: 0.5306\n",
      "Epoch 38/100\n",
      "13/13 - 8s - loss: 0.6979 - accuracy: 0.5765 - val_loss: 0.7161 - val_accuracy: 0.5306\n",
      "Epoch 39/100\n",
      "13/13 - 8s - loss: 0.6430 - accuracy: 0.6199 - val_loss: 0.7163 - val_accuracy: 0.5306\n",
      "Epoch 40/100\n",
      "13/13 - 7s - loss: 0.6804 - accuracy: 0.5689 - val_loss: 0.7167 - val_accuracy: 0.5408\n",
      "Epoch 41/100\n",
      "13/13 - 8s - loss: 0.6593 - accuracy: 0.6071 - val_loss: 0.7166 - val_accuracy: 0.5306\n",
      "Epoch 42/100\n",
      "13/13 - 8s - loss: 0.6709 - accuracy: 0.6352 - val_loss: 0.7164 - val_accuracy: 0.5204\n",
      "Epoch 43/100\n",
      "13/13 - 8s - loss: 0.6687 - accuracy: 0.5842 - val_loss: 0.7162 - val_accuracy: 0.5204\n",
      "Epoch 44/100\n",
      "13/13 - 7s - loss: 0.6755 - accuracy: 0.6071 - val_loss: 0.7159 - val_accuracy: 0.5204\n",
      "Epoch 45/100\n",
      "13/13 - 8s - loss: 0.6669 - accuracy: 0.5995 - val_loss: 0.7162 - val_accuracy: 0.5204\n",
      "Epoch 46/100\n",
      "13/13 - 7s - loss: 0.6474 - accuracy: 0.6020 - val_loss: 0.7161 - val_accuracy: 0.5204\n",
      "Epoch 47/100\n",
      "13/13 - 7s - loss: 0.6741 - accuracy: 0.6250 - val_loss: 0.7158 - val_accuracy: 0.5306\n",
      "Epoch 48/100\n",
      "13/13 - 7s - loss: 0.6393 - accuracy: 0.6760 - val_loss: 0.7155 - val_accuracy: 0.5306\n",
      "Epoch 49/100\n",
      "13/13 - 8s - loss: 0.6368 - accuracy: 0.6148 - val_loss: 0.7159 - val_accuracy: 0.5306\n",
      "Epoch 50/100\n",
      "13/13 - 8s - loss: 0.6269 - accuracy: 0.6454 - val_loss: 0.7177 - val_accuracy: 0.5204\n",
      "Epoch 51/100\n",
      "13/13 - 7s - loss: 0.6499 - accuracy: 0.6122 - val_loss: 0.7201 - val_accuracy: 0.5204\n",
      "Epoch 52/100\n",
      "13/13 - 9s - loss: 0.6369 - accuracy: 0.6684 - val_loss: 0.7196 - val_accuracy: 0.5204\n",
      "Epoch 53/100\n",
      "13/13 - 8s - loss: 0.5861 - accuracy: 0.6939 - val_loss: 0.7259 - val_accuracy: 0.5204\n",
      "Epoch 54/100\n",
      "13/13 - 8s - loss: 0.6674 - accuracy: 0.6480 - val_loss: 0.7221 - val_accuracy: 0.5204\n",
      "Epoch 55/100\n",
      "13/13 - 8s - loss: 0.6342 - accuracy: 0.6403 - val_loss: 0.7183 - val_accuracy: 0.5306\n",
      "Epoch 56/100\n",
      "13/13 - 8s - loss: 0.6285 - accuracy: 0.6301 - val_loss: 0.7227 - val_accuracy: 0.5306\n",
      "Epoch 57/100\n",
      "13/13 - 8s - loss: 0.6364 - accuracy: 0.6760 - val_loss: 0.7239 - val_accuracy: 0.5306\n",
      "Epoch 58/100\n",
      "13/13 - 8s - loss: 0.5972 - accuracy: 0.6607 - val_loss: 0.7201 - val_accuracy: 0.5306\n",
      "Epoch 59/100\n",
      "13/13 - 8s - loss: 0.6225 - accuracy: 0.6531 - val_loss: 0.7207 - val_accuracy: 0.5306\n",
      "Epoch 60/100\n",
      "13/13 - 9s - loss: 0.6463 - accuracy: 0.6582 - val_loss: 0.7175 - val_accuracy: 0.5306\n",
      "Epoch 61/100\n",
      "13/13 - 7s - loss: 0.6046 - accuracy: 0.6939 - val_loss: 0.7201 - val_accuracy: 0.5612\n",
      "Epoch 62/100\n",
      "13/13 - 6s - loss: 0.6344 - accuracy: 0.6633 - val_loss: 0.7181 - val_accuracy: 0.5408\n",
      "Epoch 63/100\n",
      "13/13 - 5s - loss: 0.5846 - accuracy: 0.6913 - val_loss: 0.7146 - val_accuracy: 0.5306\n",
      "Epoch 64/100\n",
      "13/13 - 5s - loss: 0.6267 - accuracy: 0.6531 - val_loss: 0.7180 - val_accuracy: 0.5306\n",
      "Epoch 65/100\n",
      "13/13 - 4s - loss: 0.6075 - accuracy: 0.6811 - val_loss: 0.7203 - val_accuracy: 0.5306\n",
      "Epoch 66/100\n",
      "13/13 - 5s - loss: 0.5727 - accuracy: 0.7092 - val_loss: 0.7201 - val_accuracy: 0.5306\n",
      "Epoch 67/100\n",
      "13/13 - 5s - loss: 0.6096 - accuracy: 0.6837 - val_loss: 0.7197 - val_accuracy: 0.5306\n",
      "Epoch 68/100\n",
      "13/13 - 4s - loss: 0.5795 - accuracy: 0.6913 - val_loss: 0.7195 - val_accuracy: 0.5306\n",
      "Epoch 69/100\n",
      "13/13 - 4s - loss: 0.5911 - accuracy: 0.7066 - val_loss: 0.7184 - val_accuracy: 0.5306\n",
      "Epoch 70/100\n",
      "13/13 - 4s - loss: 0.5463 - accuracy: 0.7194 - val_loss: 0.7212 - val_accuracy: 0.5306\n",
      "Epoch 71/100\n",
      "13/13 - 4s - loss: 0.5567 - accuracy: 0.7143 - val_loss: 0.7216 - val_accuracy: 0.5204\n",
      "Epoch 72/100\n",
      "13/13 - 4s - loss: 0.5898 - accuracy: 0.7117 - val_loss: 0.7086 - val_accuracy: 0.5612\n",
      "Epoch 73/100\n",
      "13/13 - 4s - loss: 0.5709 - accuracy: 0.7092 - val_loss: 0.7200 - val_accuracy: 0.5204\n",
      "Epoch 74/100\n",
      "13/13 - 4s - loss: 0.5571 - accuracy: 0.7474 - val_loss: 0.7236 - val_accuracy: 0.5306\n",
      "Epoch 75/100\n",
      "13/13 - 4s - loss: 0.5671 - accuracy: 0.7245 - val_loss: 0.7217 - val_accuracy: 0.5306\n",
      "Epoch 76/100\n",
      "13/13 - 5s - loss: 0.5811 - accuracy: 0.7041 - val_loss: 0.7227 - val_accuracy: 0.5306\n",
      "Epoch 77/100\n",
      "13/13 - 5s - loss: 0.5674 - accuracy: 0.7041 - val_loss: 0.7235 - val_accuracy: 0.5306\n",
      "Epoch 78/100\n",
      "13/13 - 4s - loss: 0.5623 - accuracy: 0.7372 - val_loss: 0.7250 - val_accuracy: 0.5306\n",
      "Epoch 79/100\n",
      "13/13 - 5s - loss: 0.6288 - accuracy: 0.6658 - val_loss: 0.7198 - val_accuracy: 0.5408\n",
      "Epoch 80/100\n",
      "13/13 - 5s - loss: 0.5790 - accuracy: 0.7143 - val_loss: 0.7217 - val_accuracy: 0.5204\n",
      "Epoch 81/100\n",
      "13/13 - 4s - loss: 0.5542 - accuracy: 0.6811 - val_loss: 0.7304 - val_accuracy: 0.5102\n",
      "Epoch 82/100\n",
      "13/13 - 5s - loss: 0.5193 - accuracy: 0.7321 - val_loss: 0.7323 - val_accuracy: 0.5408\n"
     ]
    },
    {
     "name": "stdout",
     "output_type": "stream",
     "text": [
      "Epoch 83/100\n",
      "13/13 - 5s - loss: 0.5594 - accuracy: 0.7245 - val_loss: 0.7322 - val_accuracy: 0.5204\n",
      "Epoch 84/100\n",
      "13/13 - 4s - loss: 0.5514 - accuracy: 0.7066 - val_loss: 0.7236 - val_accuracy: 0.5306\n",
      "Epoch 85/100\n",
      "13/13 - 5s - loss: 0.5105 - accuracy: 0.7449 - val_loss: 0.7208 - val_accuracy: 0.5306\n",
      "Epoch 86/100\n",
      "13/13 - 5s - loss: 0.4920 - accuracy: 0.7806 - val_loss: 0.7267 - val_accuracy: 0.5204\n",
      "Epoch 87/100\n",
      "13/13 - 4s - loss: 0.5062 - accuracy: 0.7628 - val_loss: 0.7218 - val_accuracy: 0.5612\n",
      "Epoch 88/100\n",
      "13/13 - 5s - loss: 0.5854 - accuracy: 0.7194 - val_loss: 0.7242 - val_accuracy: 0.5306\n",
      "Epoch 89/100\n",
      "13/13 - 5s - loss: 0.5163 - accuracy: 0.7398 - val_loss: 0.7289 - val_accuracy: 0.5510\n",
      "Epoch 90/100\n",
      "13/13 - 5s - loss: 0.5243 - accuracy: 0.7628 - val_loss: 0.7175 - val_accuracy: 0.5510\n",
      "Epoch 91/100\n",
      "13/13 - 5s - loss: 0.4856 - accuracy: 0.7372 - val_loss: 0.7248 - val_accuracy: 0.5816\n",
      "Epoch 92/100\n",
      "13/13 - 5s - loss: 0.5336 - accuracy: 0.7474 - val_loss: 0.7380 - val_accuracy: 0.5918\n",
      "Epoch 93/100\n",
      "13/13 - 4s - loss: 0.5012 - accuracy: 0.7577 - val_loss: 0.7294 - val_accuracy: 0.5510\n",
      "Epoch 94/100\n",
      "13/13 - 4s - loss: 0.5084 - accuracy: 0.7577 - val_loss: 0.7568 - val_accuracy: 0.5306\n",
      "Epoch 95/100\n",
      "13/13 - 4s - loss: 0.5207 - accuracy: 0.7551 - val_loss: 0.7397 - val_accuracy: 0.5102\n",
      "Epoch 96/100\n",
      "13/13 - 5s - loss: 0.4781 - accuracy: 0.7908 - val_loss: 0.7529 - val_accuracy: 0.5510\n",
      "Epoch 97/100\n",
      "13/13 - 4s - loss: 0.5214 - accuracy: 0.7423 - val_loss: 0.7582 - val_accuracy: 0.5000\n",
      "Epoch 98/100\n",
      "13/13 - 5s - loss: 0.4848 - accuracy: 0.7679 - val_loss: 0.7548 - val_accuracy: 0.4898\n",
      "Epoch 99/100\n",
      "13/13 - 5s - loss: 0.4928 - accuracy: 0.7347 - val_loss: 0.7539 - val_accuracy: 0.4898\n",
      "Epoch 100/100\n",
      "13/13 - 5s - loss: 0.5107 - accuracy: 0.7602 - val_loss: 0.7640 - val_accuracy: 0.5000\n",
      "738.6316907405853\n"
     ]
    }
   ],
   "source": [
    "import time\n",
    "start = time.time()\n",
    "#history = model.fit(X_train, y_train, batch_size=32, steps_per_epoch=len(y_train)/32, epochs=100, verbose=2, validation_data=(X_dev, y_dev),callbacks=[tensorboard])\n",
    "history = model.fit(X_train, y_train, batch_size=32, epochs=100, verbose=2, validation_data=(X_dev, y_dev))\n",
    "print (time.time() - start)\n",
    "\n"
   ]
  },
  {
   "cell_type": "markdown",
   "metadata": {},
   "source": [
    "### 8. Get the results"
   ]
  },
  {
   "cell_type": "code",
   "execution_count": 27,
   "metadata": {},
   "outputs": [
    {
     "data": {
      "image/png": "[encoded data removed]",
      "text/plain": [
       "<Figure size 576x360 with 1 Axes>"
      ]
     },
     "metadata": {
      "needs_background": "light"
     },
     "output_type": "display_data"
    }
   ],
   "source": [
    "results=pd.DataFrame(history.history)\n",
    "results.plot(figsize=(8, 5))\n",
    "plt.grid(True)\n",
    "plt.xlabel (\"Epochs\")\n",
    "plt.ylabel (\"Accuracy - Mean Log Loss\")\n",
    "plt.gca().set_ylim(0, 2) # set the vertical range to [0-1]\n",
    "plt.show()\n",
    "\n",
    "# categorical_accuracy es el training accuracy\n",
    "# val_categorical_accuracy es el validation accuracy\n",
    "# loss es el training loss\n",
    "# val_loss es el validation loss\n",
    "\n",
    "# Overfitting:\n",
    "# Por un lado la Accuracy de los datos de entrenamiento aumenta con las epochs,\n",
    "# mientras que la Accuracy de los datos de validación disminuye o se mantiene constante a lo largo de las epochs. \n",
    "# La Loss de los datos de validación alcanza su mínimo después de pocos epochs y luego empieza a subir, \n",
    "# mientras que la Loss de los datos de entrenamiento disminuye linealmente."
   ]
  },
  {
   "cell_type": "code",
   "execution_count": 28,
   "metadata": {},
   "outputs": [
    {
     "data": {
      "text/plain": [
       "{'verbose': 2, 'epochs': 100, 'steps': 13}"
      ]
     },
     "execution_count": 28,
     "metadata": {},
     "output_type": "execute_result"
    }
   ],
   "source": [
    "history.params"
   ]
  },
  {
   "cell_type": "code",
   "execution_count": 29,
   "metadata": {},
   "outputs": [
    {
     "data": {
      "text/html": [
       "<div>\n",
       "<style scoped>\n",
       "    .dataframe tbody tr th:only-of-type {\n",
       "        vertical-align: middle;\n",
       "    }\n",
       "\n",
       "    .dataframe tbody tr th {\n",
       "        vertical-align: top;\n",
       "    }\n",
       "\n",
       "    .dataframe thead th {\n",
       "        text-align: right;\n",
       "    }\n",
       "</style>\n",
       "<table border=\"1\" class=\"dataframe\">\n",
       "  <thead>\n",
       "    <tr style=\"text-align: right;\">\n",
       "      <th></th>\n",
       "      <th>loss</th>\n",
       "      <th>accuracy</th>\n",
       "      <th>val_loss</th>\n",
       "      <th>val_accuracy</th>\n",
       "    </tr>\n",
       "  </thead>\n",
       "  <tbody>\n",
       "    <tr>\n",
       "      <th>99</th>\n",
       "      <td>0.510721</td>\n",
       "      <td>0.760204</td>\n",
       "      <td>0.76399</td>\n",
       "      <td>0.5</td>\n",
       "    </tr>\n",
       "  </tbody>\n",
       "</table>\n",
       "</div>"
      ],
      "text/plain": [
       "        loss  accuracy  val_loss  val_accuracy\n",
       "99  0.510721  0.760204   0.76399           0.5"
      ]
     },
     "execution_count": 29,
     "metadata": {},
     "output_type": "execute_result"
    }
   ],
   "source": [
    "results[-1:]"
   ]
  },
  {
   "cell_type": "code",
   "execution_count": 30,
   "metadata": {},
   "outputs": [
    {
     "name": "stdout",
     "output_type": "stream",
     "text": [
      "Accuracy for the training set:  0.7602040767669678\n"
     ]
    }
   ],
   "source": [
    "print (\"Accuracy for the training set: \", results.values[-1:][0][1])"
   ]
  },
  {
   "cell_type": "code",
   "execution_count": 31,
   "metadata": {},
   "outputs": [
    {
     "name": "stdout",
     "output_type": "stream",
     "text": [
      "Accuracy for the development test set:  0.5\n"
     ]
    }
   ],
   "source": [
    "print (\"Accuracy for the development test set: \", results.values[-1:][0][3])"
   ]
  },
  {
   "cell_type": "markdown",
   "metadata": {},
   "source": [
    "#### Let's see how the model predicts using the development test set:"
   ]
  },
  {
   "cell_type": "code",
   "execution_count": 32,
   "metadata": {},
   "outputs": [
    {
     "data": {
      "text/plain": [
       "array([[0.92, 0.08],\n",
       "       [0.66, 0.34],\n",
       "       [0.54, 0.46],\n",
       "       [0.41, 0.59],\n",
       "       [0.44, 0.56],\n",
       "       [0.43, 0.57],\n",
       "       [0.44, 0.56],\n",
       "       [0.44, 0.56],\n",
       "       [0.42, 0.58],\n",
       "       [0.41, 0.59],\n",
       "       [0.42, 0.58],\n",
       "       [0.4 , 0.6 ],\n",
       "       [0.38, 0.62],\n",
       "       [0.49, 0.51],\n",
       "       [0.38, 0.62],\n",
       "       [0.45, 0.55],\n",
       "       [0.48, 0.52],\n",
       "       [0.44, 0.56],\n",
       "       [0.46, 0.54],\n",
       "       [0.41, 0.59]], dtype=float32)"
      ]
     },
     "execution_count": 32,
     "metadata": {},
     "output_type": "execute_result"
    }
   ],
   "source": [
    "dev_predictions=model.predict(X_dev).round(2) \n",
    "dev_predictions[:20]"
   ]
  },
  {
   "cell_type": "code",
   "execution_count": 33,
   "metadata": {},
   "outputs": [
    {
     "data": {
      "text/plain": [
       "array([[1., 0.],\n",
       "       [1., 0.],\n",
       "       [1., 0.],\n",
       "       [0., 1.],\n",
       "       [0., 1.],\n",
       "       [0., 1.],\n",
       "       [0., 1.],\n",
       "       [0., 1.],\n",
       "       [0., 1.],\n",
       "       [0., 1.],\n",
       "       [0., 1.],\n",
       "       [0., 1.],\n",
       "       [0., 1.],\n",
       "       [0., 1.],\n",
       "       [0., 1.],\n",
       "       [0., 1.],\n",
       "       [0., 1.],\n",
       "       [0., 1.],\n",
       "       [0., 1.],\n",
       "       [0., 1.]], dtype=float32)"
      ]
     },
     "execution_count": 33,
     "metadata": {},
     "output_type": "execute_result"
    }
   ],
   "source": [
    "dev_rounded_predictions=np.round(dev_predictions)\n",
    "indices = np.argmax(dev_predictions,1)\n",
    "for row, index in zip(dev_rounded_predictions, indices): row[index]=1\n",
    "dev_rounded_predictions[:20]"
   ]
  },
  {
   "cell_type": "code",
   "execution_count": 34,
   "metadata": {},
   "outputs": [
    {
     "data": {
      "text/plain": [
       "array([[1., 0.],\n",
       "       [1., 0.],\n",
       "       [1., 0.],\n",
       "       [1., 0.],\n",
       "       [1., 0.],\n",
       "       [1., 0.],\n",
       "       [1., 0.],\n",
       "       [1., 0.],\n",
       "       [1., 0.],\n",
       "       [1., 0.],\n",
       "       [1., 0.],\n",
       "       [1., 0.],\n",
       "       [0., 1.],\n",
       "       [0., 1.],\n",
       "       [0., 1.],\n",
       "       [0., 1.],\n",
       "       [0., 1.],\n",
       "       [0., 1.],\n",
       "       [0., 1.],\n",
       "       [0., 1.]])"
      ]
     },
     "execution_count": 34,
     "metadata": {},
     "output_type": "execute_result"
    }
   ],
   "source": [
    "y_dev[:20]"
   ]
  },
  {
   "cell_type": "code",
   "execution_count": 35,
   "metadata": {},
   "outputs": [
    {
     "name": "stdout",
     "output_type": "stream",
     "text": [
      "[ True  True  True False False False False False False False False False\n",
      "  True  True  True  True  True  True  True  True  True  True  True  True\n",
      "  True  True  True  True False False]\n"
     ]
    }
   ],
   "source": [
    "dev_correct_predictions = np.equal(np.argmax(dev_rounded_predictions,1),np.argmax(y_dev,1))\n",
    "print (dev_correct_predictions[:30])"
   ]
  },
  {
   "cell_type": "code",
   "execution_count": 36,
   "metadata": {},
   "outputs": [
    {
     "data": {
      "text/plain": [
       "Counter({True: 48, False: 50})"
      ]
     },
     "execution_count": 36,
     "metadata": {},
     "output_type": "execute_result"
    }
   ],
   "source": [
    "from collections import Counter\n",
    "Counter (dev_correct_predictions)"
   ]
  },
  {
   "cell_type": "markdown",
   "metadata": {},
   "source": [
    "### 9. Save model"
   ]
  },
  {
   "cell_type": "markdown",
   "metadata": {},
   "source": [
    "We save the model if it is better than others "
   ]
  },
  {
   "cell_type": "code",
   "execution_count": 37,
   "metadata": {},
   "outputs": [],
   "source": [
    "# Save\n",
    "model.save('./Modelos/CNN_model3_PARES_DIA31.h5') # Change the name in each model"
   ]
  },
  {
   "cell_type": "code",
   "execution_count": 38,
   "metadata": {},
   "outputs": [
    {
     "data": {
      "text/plain": [
       "\"\\nnew_model = keras.models.load_model('./Modelos/EGG_prac1_ANN_model3.h5')\\n\\nimport numpy as np\\n\\n# Verify state\\nnew_predictions = new_model.predict(X_dev)\\nnp.testing.assert_allclose(predictions, new_predictions, rtol=1e-6, atol=1e-6)\\n\\n# Note that the optimizer state is also preserved:\\n# you can resume training where you left off.\\n\""
      ]
     },
     "execution_count": 38,
     "metadata": {},
     "output_type": "execute_result"
    }
   ],
   "source": [
    "# Extract\n",
    "\"\"\"\n",
    "new_model = keras.models.load_model('./Modelos/EGG_prac1_ANN_model3.h5')\n",
    "\n",
    "import numpy as np\n",
    "\n",
    "# Verify state\n",
    "new_predictions = new_model.predict(X_dev)\n",
    "np.testing.assert_allclose(predictions, new_predictions, rtol=1e-6, atol=1e-6)\n",
    "\n",
    "# Note that the optimizer state is also preserved:\n",
    "# you can resume training where you left off.\n",
    "\"\"\""
   ]
  },
  {
   "cell_type": "code",
   "execution_count": null,
   "metadata": {},
   "outputs": [],
   "source": []
  },
  {
   "cell_type": "code",
   "execution_count": null,
   "metadata": {},
   "outputs": [],
   "source": []
  },
  {
   "cell_type": "code",
   "execution_count": null,
   "metadata": {},
   "outputs": [],
   "source": []
  },
  {
   "cell_type": "code",
   "execution_count": null,
   "metadata": {},
   "outputs": [],
   "source": []
  },
  {
   "cell_type": "code",
   "execution_count": null,
   "metadata": {},
   "outputs": [],
   "source": []
  },
  {
   "cell_type": "markdown",
   "metadata": {},
   "source": [
    "### 10 - Final Test\n",
    "\n",
    "#### 10.1 - Load the final test set"
   ]
  },
  {
   "cell_type": "markdown",
   "metadata": {},
   "source": [
    "#### 10.2 - Evaluate the model\n",
    "\n",
    "\n",
    "ESTO ES LO QUE HAY QUE DESCOMENTAAAAAAAR!!!!!!!\n",
    "De aquí: "
   ]
  },
  {
   "cell_type": "code",
   "execution_count": 39,
   "metadata": {},
   "outputs": [],
   "source": [
    "\n",
    "from collections import Counter\n",
    "def predictWithModel(model, X_test, y_test, task1, task2, task3=\"\"):\n",
    "    model.evaluate(X_test, y_test)\n",
    "    test_predictions = model.predict(X_test)\n",
    "    test_rounded_predictions=np.round(test_predictions)\n",
    "    indices = np.argmax(test_predictions,1)\n",
    "    for row, index in zip(test_rounded_predictions, indices): row[index]=1\n",
    "    print(test_rounded_predictions[:20])\n",
    "    \n",
    "    # ACCURACY:\n",
    "    test_correct_predictions = np.equal(np.argmax(test_rounded_predictions,1),np.argmax(y_test,1))\n",
    "    print()\n",
    "    print(test_correct_predictions)\n",
    "    print(type(test_correct_predictions))\n",
    "    final_test_prediction_results=Counter(test_correct_predictions)\n",
    "    \n",
    "    success = np.mean(test_rounded_predictions == y_test)*100\n",
    "    \n",
    "    return final_test_prediction_results, success\n"
   ]
  },
  {
   "cell_type": "code",
   "execution_count": 40,
   "metadata": {},
   "outputs": [
    {
     "name": "stdout",
     "output_type": "stream",
     "text": [
      "2/2 [==============================] - 0s 63ms/step - loss: 0.6920 - accuracy: 0.6327\n",
      "[[1. 0.]\n",
      " [1. 0.]\n",
      " [1. 0.]\n",
      " [1. 0.]\n",
      " [1. 0.]\n",
      " [0. 1.]\n",
      " [0. 1.]\n",
      " [0. 1.]\n",
      " [0. 1.]\n",
      " [0. 1.]\n",
      " [1. 0.]\n",
      " [1. 0.]\n",
      " [0. 1.]\n",
      " [0. 1.]\n",
      " [0. 1.]\n",
      " [0. 1.]\n",
      " [0. 1.]\n",
      " [0. 1.]\n",
      " [0. 1.]\n",
      " [0. 1.]]\n",
      "\n",
      "[ True  True  True  True  True False False False False False  True  True\n",
      "  True  True  True  True  True  True  True  True  True  True  True  True\n",
      "  True  True False  True  True  True  True  True  True  True  True  True\n",
      " False False False False False  True False False False False False False\n",
      " False]\n",
      "<class 'numpy.ndarray'>\n",
      "Counter({True: 31, False: 18}) 63.26530612244898\n"
     ]
    }
   ],
   "source": [
    "\n",
    "accuracy, success = predictWithModel(model, X_test, y_test, 402,404)\n",
    "print( accuracy, success)\n",
    "    "
   ]
  },
  {
   "cell_type": "code",
   "execution_count": null,
   "metadata": {},
   "outputs": [],
   "source": []
  }
 ],
 "metadata": {
  "kernelspec": {
   "display_name": "Python 3",
   "language": "python",
   "name": "python3"
  },
  "language_info": {
   "codemirror_mode": {
    "name": "ipython",
    "version": 3
   },
   "file_extension": ".py",
   "mimetype": "text/x-python",
   "name": "python",
   "nbconvert_exporter": "python",
   "pygments_lexer": "ipython3",
   "version": "3.8.5"
  }
 },
 "nbformat": 4,
 "nbformat_minor": 4
}
