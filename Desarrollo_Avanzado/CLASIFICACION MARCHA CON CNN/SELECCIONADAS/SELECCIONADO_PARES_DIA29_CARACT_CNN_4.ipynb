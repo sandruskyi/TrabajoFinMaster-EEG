{
 "cells": [
  {
   "cell_type": "markdown",
   "metadata": {},
   "source": [
    "# Parte 4: Clasificación con CNN"
   ]
  },
  {
   "cell_type": "markdown",
   "metadata": {},
   "source": [
    "### Resultados con la arquitectura anterior: "
   ]
  },
  {
   "cell_type": "markdown",
   "metadata": {},
   "source": [
    "Resultados:\n",
    "    \n",
    "    TRAIN                   DEV\n",
    "    loss       accuracy     val_loss    val_accuracy\n",
    "    \n",
    "    0.181817\t0.913462\t0.642329\t0.576923\n",
    "    \n",
    "Por tanto: \n",
    "\n",
    "    E = 1 - Accuracy\n",
    "    Etrain = 1 - 0.913462 = 0.086538\n",
    "    Etest = 1 - 0.576923 = 0.423077\n",
    "    \n",
    "    Bias = Etrain - Ehuman = 0.086538\n",
    "    Variance = Etest - Etrain = 0.423077 - 0.086538 = 0.336539\n",
    "\n",
    "El bias se ha reducido, pero la varianza es muy alta. Es el momento de tratar la varianza.  Para ello habrá que o regularizar, o cambiar la arquitectura (menos neuronas => Mejor varianza, más capas => mayor abstracción), o añadir más datos (cosa que no es posible)."
   ]
  },
  {
   "cell_type": "markdown",
   "metadata": {},
   "source": [
    "### Cambios realizados"
   ]
  },
  {
   "cell_type": "markdown",
   "metadata": {},
   "source": [
    "Se va a probar con la funcion sigmoid y la inicialización Xavier. Se ha probado con activation=\"sigmoid\", kernel_initializer=\"glorot_normal\" (ant: activation='relu', kernel_initializer=\"he_normal\"). Pero los resultados no son los esperados. \n",
    "\n",
    "Se prueba aumentando el dropout de 0.3 y 0.2 a 0.5 y 0.4, los resultados solo hacen empeorar el bias pero no mejora la varianza. Se vuelve a dejar como antes\n",
    "\n",
    "Se va a probar con el regularizador l1, no ha habido mejora. Se prueba con l1_l2, mejora."
   ]
  },
  {
   "cell_type": "markdown",
   "metadata": {},
   "source": [
    "### Nuevos resultados: "
   ]
  },
  {
   "cell_type": "markdown",
   "metadata": {},
   "source": [
    "\n",
    "\n",
    "Resultados:\n",
    "    \n",
    "    TRAIN                   DEV\n",
    "    loss       accuracy     val_loss    val_accuracy\n",
    "       0.870418\t0.807692\t0.951864\t0.730769\n",
    "    \n",
    "Por tanto: \n",
    "\n",
    "    E = 1 - Accuracy\n",
    "    Etrain = 1 - 0.807692 = 0.192308\n",
    "    Etest = 1 - 0.730769 = 0.269231\n",
    "    \n",
    "    Bias = Etrain - Ehuman = 0.192308\n",
    "    Variance = Etest - Etrain = 0.269231 - 0.192308 = 0.076923\n",
    "\n",
    "La varianza se ha reducido muchisimo pero el bias ha aumentado a un 19%. Se tratará de mejorar el bias. Para mejorar esto será necesario añadir más complejidad, elegir una mejor optimización, cambiando la arquitectura (más neuronas, más capas)... \n",
    "\n",
    "\n",
    "SE ELIGE ESTE MODELO!!!!!!"
   ]
  },
  {
   "cell_type": "markdown",
   "metadata": {},
   "source": [
    "### 1 - Import Libraries"
   ]
  },
  {
   "cell_type": "code",
   "execution_count": 1,
   "metadata": {},
   "outputs": [],
   "source": [
    "# Tensorflow and tf.keras\n",
    "import tensorflow as tf\n",
    "from tensorflow import keras\n",
    "\n",
    "#Helper libraries\n",
    "import matplotlib.pyplot as plt\n",
    "import pandas as pd\n",
    "import numpy as np\n",
    "\n",
    "# Signal libraries\n",
    "from scipy import signal\n"
   ]
  },
  {
   "cell_type": "markdown",
   "metadata": {},
   "source": [
    "### 2 - Load data"
   ]
  },
  {
   "cell_type": "code",
   "execution_count": 2,
   "metadata": {},
   "outputs": [],
   "source": [
    "class ROutput:\n",
    "    def __init__(self, task, data):\n",
    "        self.task = task\n",
    "        self.data = data\n",
    "        \n",
    "class OutTaskData: \n",
    "    def __init__(self, task, data): \n",
    "        self.task = task\n",
    "        self.data = data"
   ]
  },
  {
   "cell_type": "code",
   "execution_count": 3,
   "metadata": {},
   "outputs": [],
   "source": [
    "import scipy.io as sio\n",
    "# Primero leemos los registros\n",
    "def read_outputs(rec):\n",
    "    '''read_outputs(\"userS0091f1.mat\")'''\n",
    "    mat = sio.loadmat(rec)\n",
    "    mdata = mat['session']\n",
    "    val = mdata[0,0]\n",
    "    #output = ROutput(np.array(val[\"task\"]), np.array(val[\"data\"]))\n",
    "    output = ROutput(np.array(val[\"task_EEG_p\"]), np.array(val[\"data_processed_EEG\"]))\n",
    "    return output"
   ]
  },
  {
   "cell_type": "markdown",
   "metadata": {},
   "source": [
    "### Cargamos los datos"
   ]
  },
  {
   "cell_type": "code",
   "execution_count": 4,
   "metadata": {},
   "outputs": [],
   "source": [
    "# Configuración\n",
    "from sklearn.pipeline import make_pipeline\n",
    "from sklearn.preprocessing import StandardScaler, OneHotEncoder\n",
    "from sklearn.linear_model import Perceptron\n",
    "from keras.utils import to_categorical\n",
    "\n",
    "\n",
    "task1 = 402 # SE PUEDE CAMBIAR\n",
    "task2 = 404 # SE PUEDE CAMBIAR\n",
    "task_OneHotEnconding = {402: [1.,0.], 404: [0.,1.]}\n",
    "user = 'W29' # SE PUEDE CAMBIAR\n",
    "day = '0329'\n",
    "folder_day = 'W29-29_03_2021'\n",
    "total_records = 22 # CAMBIAR SI HAY MAS REGISTROS\n",
    "fm = 200\n",
    "electrodes_names_selected = ['F3', 'FZ', 'FC1','FCZ','C1','CZ','CP1','CPZ', 'FC5', 'FC3','C5','C3','CP5','CP3','P3',\n",
    "                             'PZ','F4','FC2','FC4','FC6','C2','C4','CP2','CP4','C6','CP6','P4','HR' ,'HL', 'VU', 'VD']\n",
    "number_channels = len(electrodes_names_selected)"
   ]
  },
  {
   "cell_type": "code",
   "execution_count": 5,
   "metadata": {},
   "outputs": [
    {
     "name": "stdout",
     "output_type": "stream",
     "text": [
      "11 22\n"
     ]
    }
   ],
   "source": [
    "lTaskData = []\n",
    "total_records_used = 0\n",
    "for i_rec in range(1,total_records+1):\n",
    "    i_rec_record = i_rec\n",
    "    if i_rec_record <10:\n",
    "        i_rec_record = \"0\"+str(i_rec_record)\n",
    "    if i_rec % 2 == 0: # Registros impares primero: USUARIO SIN MOVIMIENTO SOLO PENSANDO\n",
    "        record = \"./RegistrosProcesados2/\"+folder_day+\"/W29_2021\"+day+\"_openloop_\"+str(i_rec_record)+\"_processed.mat\"\n",
    "        output = read_outputs(record) # output.task será y, output.data será x\n",
    "\n",
    "\n",
    "        output.task = np.transpose(output.task)\n",
    "        output.data = output.data.reshape((np.shape(output.data)[0],np.shape(output.data)[1]))\n",
    "        output.data = np.transpose(output.data)\n",
    "        #output.data = output.data.reshape((np.shape(output.data)[0],np.shape(output.data)[1],1))\n",
    "\n",
    "        outT = (output.task == task1) | (output.task == task2)\n",
    "        outData = output.data[0:np.shape(output.data)[0], outT[0,:]]\n",
    "        outTask = output.task[0, outT[0,:]]\n",
    "        outTD = OutTaskData(outTask, outData)\n",
    "\n",
    "        lTaskData.append(outTD)\n",
    "        total_records_used+=1\n",
    "print(total_records_used, total_records)"
   ]
  },
  {
   "cell_type": "code",
   "execution_count": 6,
   "metadata": {},
   "outputs": [
    {
     "name": "stdout",
     "output_type": "stream",
     "text": [
      "X_train: (8, 32, 49)\n",
      "y_train: (8, 49)\n",
      "X_dev: (2, 32, 49)\n",
      "y_dev: (2, 49)\n",
      "X_test: (1, 32, 49)\n",
      "y_test: (1, 49)\n",
      "ONE HOT ENCODER:\n",
      "X_train: (104, 32, 5, 1)\n",
      "y_train: (104, 2)\n",
      "X_dev: (26, 32, 5, 1)\n",
      "y_dev: (26, 2)\n",
      "X_test: (13, 32, 5, 1)\n",
      "y_test: (13, 2)\n"
     ]
    }
   ],
   "source": [
    "# Vamos a coger 2 registros para el entrenamiento, 1 para el conjunto dev set, 1 para el test set\n",
    "X_train, y_train, X_dev, y_dev, X_test, y_test = [],[],[],[],[],[] \n",
    "for j in range(0,total_records_used-3): # Cogemos 18 registros para entrenamiento\n",
    "    X_train.append(lTaskData[j].data)\n",
    "    y_train.append(lTaskData[j].task)\n",
    "\n",
    "for j in range(total_records_used-3,total_records_used-1): # Cogemos 2 registros para el dev set\n",
    "    X_dev.append(lTaskData[j].data)\n",
    "    y_dev.append(lTaskData[j].task)\n",
    "for j in range(total_records_used-1,total_records_used): # Cogemos 2 registros para el test set\n",
    "    X_test.append(lTaskData[j].data)\n",
    "    y_test.append(lTaskData[j].task)\n",
    "\n",
    "X_train = np.array(X_train)\n",
    "#y_train = np.ravel(np.array(y_train))\n",
    "y_train = np.array(y_train)\n",
    "X_dev = np.array(X_dev)\n",
    "#y_dev = np.ravel(np.array(y_dev))\n",
    "y_dev = np.array(y_dev)\n",
    "X_test = np.array(X_test)\n",
    "y_test = np.array(y_test)\n",
    "#y_test = np.ravel(np.array(y_test))\n",
    "\n",
    "print (\"X_train:\",X_train.shape)\n",
    "print (\"y_train:\",y_train.shape)\n",
    "print (\"X_dev:\",X_dev.shape)\n",
    "print (\"y_dev:\",y_dev.shape)\n",
    "print (\"X_test:\",X_test.shape)\n",
    "print (\"y_test:\",y_test.shape)\n",
    "\n",
    "\n",
    "\n",
    "\n",
    "\n",
    "# VENTANEO Y ONE HOT ENCODING \n",
    "window = 5\n",
    "samples_advance = 3\n",
    "\n",
    "# Ventaneo X_train\n",
    "\n",
    "X_train_l = []\n",
    "y_train_l = []\n",
    "for num_X_train in range(np.shape(X_train)[0]): # Para no mezclar registros\n",
    "    win_init = int(0)\n",
    "    window_position = 0\n",
    "    \n",
    "    for i in range(np.shape(X_train)[2]): # For each signal registered\n",
    "        win_end = int(win_init + window)\n",
    "        if win_end >= np.shape(X_train)[2]:\n",
    "            break\n",
    "\n",
    "        task = np.unique(y_train[num_X_train,win_init:win_end])\n",
    "\n",
    "        if len(task)==1:\n",
    "        #if task1 in task or task2 in task:\n",
    "            signal_window = X_train[num_X_train, :, win_init:win_end]\n",
    "            \n",
    "            #data_filtered = preprocessing(signal_window, fm, number_channels)\n",
    "            #X_train_l.append(data_filtered)\n",
    "            X_train_l.append(signal_window)\n",
    "            taskOH = task_OneHotEnconding[task[0]]\n",
    "            y_train_l.append(taskOH)\n",
    "            \n",
    "        win_init += int(samples_advance)\n",
    "\n",
    "X_train_l = np.array(X_train_l)\n",
    "y_train_l = np.array(y_train_l)\n",
    "\n",
    "\n",
    "# Ventaneo X_dev\n",
    "X_dev_l = []\n",
    "y_dev_l = []\n",
    "for num_X_dev in range(np.shape(X_dev)[0]):\n",
    "    win_init = int(0)\n",
    "    window_position = 0\n",
    "    \n",
    "    for i in range(np.shape(X_dev)[2]): # For each signal registered\n",
    "        win_end = int(win_init + window)\n",
    "        if win_end >= np.shape(X_dev)[2]:\n",
    "            break\n",
    "\n",
    "        task = np.unique(y_dev[num_X_dev,win_init:win_end])\n",
    "\n",
    "        if len(task)==1:\n",
    "        #if task1 in task or task2 in task:\n",
    "            signal_window = X_dev[num_X_dev, :, win_init:win_end]\n",
    "            \n",
    "            #data_filtered = preprocessing(signal_window, fm, number_channels)\n",
    "            #X_train_l.append(data_filtered)\n",
    "            X_dev_l.append(signal_window)\n",
    "            taskOH = task_OneHotEnconding[task[0]]\n",
    "            y_dev_l.append(taskOH)\n",
    "            \n",
    "        win_init += int(samples_advance)\n",
    "\n",
    "X_dev_l = np.array(X_dev_l)\n",
    "y_dev_l = np.array(y_dev_l)\n",
    "\n",
    "# Ventaneo X_test\n",
    "X_test_l = []\n",
    "y_test_l = []\n",
    "for num_X_test in range(np.shape(X_test)[0]): \n",
    "    win_init = int(0)\n",
    "    window_position = 0\n",
    "    \n",
    "    for i in range(np.shape(X_test)[2]): # For each signal registered\n",
    "        win_end = int(win_init + window)\n",
    "        if win_end >= np.shape(X_test)[2]:\n",
    "            break\n",
    "\n",
    "        task = np.unique(y_test[num_X_test,win_init:win_end])\n",
    "\n",
    "        if len(task)==1:\n",
    "        #if task1 in task or task2 in task:\n",
    "            signal_window = X_test[num_X_test, :, win_init:win_end]\n",
    "            \n",
    "            #data_filtered = preprocessing(signal_window, fm, number_channels)\n",
    "            #X_train_l.append(data_filtered)\n",
    "            X_test_l.append(signal_window)\n",
    "            taskOH = task_OneHotEnconding[task[0]]\n",
    "            y_test_l.append(taskOH)\n",
    "            \n",
    "        win_init += int(samples_advance)\n",
    "\n",
    "X_test_l = np.array(X_test_l)\n",
    "y_test_l = np.array(y_test_l)\n",
    "\n",
    "\n",
    "\n",
    "\n",
    "X_train_l = X_train_l.reshape((np.shape(X_train_l)[0],np.shape(X_train_l)[1],np.shape(X_train_l)[2], 1))\n",
    "X_dev_l = X_dev_l.reshape((np.shape(X_dev_l)[0],np.shape(X_dev_l)[1],np.shape(X_dev_l)[2], 1))\n",
    "X_test_l = X_test_l.reshape((np.shape(X_test_l)[0],np.shape(X_test_l)[1],np.shape(X_test_l)[2], 1))\n",
    "\n",
    "\n",
    "print(\"ONE HOT ENCODER:\")\n",
    "print (\"X_train:\",X_train_l.shape)\n",
    "print (\"y_train:\",y_train_l.shape)\n",
    "print (\"X_dev:\",X_dev_l.shape)\n",
    "print (\"y_dev:\",y_dev_l.shape)\n",
    "print (\"X_test:\",X_test_l.shape)\n",
    "print (\"y_test:\",y_test_l.shape)\n",
    "\n",
    "X_train = X_train_l\n",
    "y_train = y_train_l\n",
    "X_dev = X_dev_l\n",
    "y_dev = y_dev_l\n",
    "X_test = X_test_l\n",
    "y_test = y_test_l"
   ]
  },
  {
   "cell_type": "markdown",
   "metadata": {},
   "source": [
    "### 3. Initialize variables"
   ]
  },
  {
   "cell_type": "code",
   "execution_count": 7,
   "metadata": {},
   "outputs": [],
   "source": [
    "INPUTS = X_train.shape[1]\n",
    "OUTPUTS = y_train.shape[1]\n",
    "NUM_TRAINING_EXAMPLES = int(round(X_train.shape[0]/1))\n",
    "NUM_DEV_EXAMPLES = int(round(y_train.shape[0]/1))"
   ]
  },
  {
   "cell_type": "markdown",
   "metadata": {},
   "source": [
    "Some data is displayed to test correctness:"
   ]
  },
  {
   "cell_type": "code",
   "execution_count": 8,
   "metadata": {},
   "outputs": [
    {
     "data": {
      "text/plain": [
       "array([[[[-1.22062442],\n",
       "         [-1.13443752],\n",
       "         [-1.04225704],\n",
       "         [-0.96348194],\n",
       "         [-1.20483816]],\n",
       "\n",
       "        [[-1.08529571],\n",
       "         [-1.04785683],\n",
       "         [-0.95398982],\n",
       "         [-0.95791722],\n",
       "         [-1.07689992]],\n",
       "\n",
       "        [[-1.07181227],\n",
       "         [-1.04773374],\n",
       "         [-1.20150893],\n",
       "         [-1.0816844 ],\n",
       "         [-1.08110163]],\n",
       "\n",
       "        [[-0.8616019 ],\n",
       "         [-0.80683011],\n",
       "         [-0.77630309],\n",
       "         [-0.89358306],\n",
       "         [-0.93379216]],\n",
       "\n",
       "        [[-0.69940496],\n",
       "         [-0.75200047],\n",
       "         [-1.05191295],\n",
       "         [-1.05801051],\n",
       "         [-0.93926883]],\n",
       "\n",
       "        [[-1.06729164],\n",
       "         [-1.01225542],\n",
       "         [-0.91299989],\n",
       "         [-0.81540926],\n",
       "         [-0.64559539]],\n",
       "\n",
       "        [[-0.62225851],\n",
       "         [-0.69906135],\n",
       "         [-0.65192006],\n",
       "         [-0.7120623 ],\n",
       "         [-0.72689519]],\n",
       "\n",
       "        [[-0.95355303],\n",
       "         [-0.93083994],\n",
       "         [-0.8727538 ],\n",
       "         [-0.86674729],\n",
       "         [-0.90070152]],\n",
       "\n",
       "        [[-1.05570906],\n",
       "         [-1.02544838],\n",
       "         [-1.10623477],\n",
       "         [-1.3027781 ],\n",
       "         [-1.17957064]],\n",
       "\n",
       "        [[-1.15144562],\n",
       "         [-1.01064887],\n",
       "         [-0.88852596],\n",
       "         [-0.9067138 ],\n",
       "         [-0.92107661]],\n",
       "\n",
       "        [[-0.71754111],\n",
       "         [-0.73749487],\n",
       "         [-0.7816279 ],\n",
       "         [-1.00409651],\n",
       "         [-0.76296037]],\n",
       "\n",
       "        [[-1.0727575 ],\n",
       "         [-1.18557342],\n",
       "         [-1.02925874],\n",
       "         [-0.98951278],\n",
       "         [-0.96775952]],\n",
       "\n",
       "        [[-0.99039215],\n",
       "         [-0.87317272],\n",
       "         [-1.02246264],\n",
       "         [-0.87994235],\n",
       "         [-0.98963304]],\n",
       "\n",
       "        [[-0.88702193],\n",
       "         [-0.81145557],\n",
       "         [-0.75644764],\n",
       "         [-0.76746794],\n",
       "         [-0.90811346]],\n",
       "\n",
       "        [[-0.66392395],\n",
       "         [-0.79755624],\n",
       "         [-0.96060278],\n",
       "         [-0.86635718],\n",
       "         [-0.86437086]],\n",
       "\n",
       "        [[-0.93360039],\n",
       "         [-0.94999795],\n",
       "         [-0.81261629],\n",
       "         [-0.73039113],\n",
       "         [-0.76701288]],\n",
       "\n",
       "        [[-1.54139556],\n",
       "         [-1.48428852],\n",
       "         [-1.32644842],\n",
       "         [-1.29926702],\n",
       "         [-1.23371182]],\n",
       "\n",
       "        [[-0.94242877],\n",
       "         [-0.87841878],\n",
       "         [-0.96263723],\n",
       "         [-1.17609166],\n",
       "         [-1.16055095]],\n",
       "\n",
       "        [[-1.23328413],\n",
       "         [-1.06825993],\n",
       "         [-1.24357214],\n",
       "         [-1.06955074],\n",
       "         [-1.08705069]],\n",
       "\n",
       "        [[-0.87995879],\n",
       "         [-0.79611184],\n",
       "         [-0.66276538],\n",
       "         [-0.65053224],\n",
       "         [-0.75625933]],\n",
       "\n",
       "        [[-0.62383046],\n",
       "         [-0.77132464],\n",
       "         [-0.7649822 ],\n",
       "         [-0.77612347],\n",
       "         [-0.80821833]],\n",
       "\n",
       "        [[-0.95729906],\n",
       "         [-0.93664828],\n",
       "         [-0.98093978],\n",
       "         [-0.96345992],\n",
       "         [-0.90303264]],\n",
       "\n",
       "        [[-0.80893243],\n",
       "         [-0.82594647],\n",
       "         [-0.76177586],\n",
       "         [-0.81719246],\n",
       "         [-0.83694876]],\n",
       "\n",
       "        [[-0.7866771 ],\n",
       "         [-0.80903634],\n",
       "         [-0.92066342],\n",
       "         [-0.83633775],\n",
       "         [-0.72284217]],\n",
       "\n",
       "        [[-1.90994253],\n",
       "         [-2.06683308],\n",
       "         [-1.76193349],\n",
       "         [-1.57557423],\n",
       "         [-1.11906956]],\n",
       "\n",
       "        [[-1.39779103],\n",
       "         [-1.3455917 ],\n",
       "         [-0.98308543],\n",
       "         [-0.85829335],\n",
       "         [-0.90517654]],\n",
       "\n",
       "        [[-0.96370865],\n",
       "         [-0.90155605],\n",
       "         [-0.97942268],\n",
       "         [-1.12881224],\n",
       "         [-1.08717176]],\n",
       "\n",
       "        [[-0.90584384],\n",
       "         [-0.79491286],\n",
       "         [-0.80561248],\n",
       "         [-0.87028736],\n",
       "         [-1.01351653]],\n",
       "\n",
       "        [[-0.90778656],\n",
       "         [-1.08094121],\n",
       "         [-1.10409299],\n",
       "         [-0.95426058],\n",
       "         [-1.01487691]],\n",
       "\n",
       "        [[-0.73971229],\n",
       "         [-0.73744025],\n",
       "         [-0.79842845],\n",
       "         [-0.78158215],\n",
       "         [-0.8580075 ]],\n",
       "\n",
       "        [[-0.76061098],\n",
       "         [-0.68655137],\n",
       "         [-0.65540761],\n",
       "         [-0.70678363],\n",
       "         [-0.71237712]],\n",
       "\n",
       "        [[-0.62805583],\n",
       "         [-0.72432107],\n",
       "         [-0.79978522],\n",
       "         [-0.8158502 ],\n",
       "         [-0.7175974 ]]],\n",
       "\n",
       "\n",
       "       [[[-0.96348194],\n",
       "         [-1.20483816],\n",
       "         [-1.55336699],\n",
       "         [-1.54060503],\n",
       "         [-1.42135303]],\n",
       "\n",
       "        [[-0.95791722],\n",
       "         [-1.07689992],\n",
       "         [-1.1134107 ],\n",
       "         [-1.27264675],\n",
       "         [-1.41075407]],\n",
       "\n",
       "        [[-1.0816844 ],\n",
       "         [-1.08110163],\n",
       "         [-1.14815693],\n",
       "         [-1.10213952],\n",
       "         [-0.97304161]],\n",
       "\n",
       "        [[-0.89358306],\n",
       "         [-0.93379216],\n",
       "         [-0.83497805],\n",
       "         [-0.95430357],\n",
       "         [-1.03352613]],\n",
       "\n",
       "        [[-1.05801051],\n",
       "         [-0.93926883],\n",
       "         [-0.99873709],\n",
       "         [-0.89453909],\n",
       "         [-0.9492    ]],\n",
       "\n",
       "        [[-0.81540926],\n",
       "         [-0.64559539],\n",
       "         [-0.52618603],\n",
       "         [-0.58445837],\n",
       "         [-0.71824995]],\n",
       "\n",
       "        [[-0.7120623 ],\n",
       "         [-0.72689519],\n",
       "         [-0.80466184],\n",
       "         [-0.90070243],\n",
       "         [-0.74488911]],\n",
       "\n",
       "        [[-0.86674729],\n",
       "         [-0.90070152],\n",
       "         [-0.91050772],\n",
       "         [-0.6692415 ],\n",
       "         [-0.61864983]],\n",
       "\n",
       "        [[-1.3027781 ],\n",
       "         [-1.17957064],\n",
       "         [-1.13598004],\n",
       "         [-1.1249172 ],\n",
       "         [-1.15283892]],\n",
       "\n",
       "        [[-0.9067138 ],\n",
       "         [-0.92107661],\n",
       "         [-1.08115488],\n",
       "         [-0.97619098],\n",
       "         [-1.0060431 ]],\n",
       "\n",
       "        [[-1.00409651],\n",
       "         [-0.76296037],\n",
       "         [-0.82606097],\n",
       "         [-0.82935298],\n",
       "         [-1.0635344 ]],\n",
       "\n",
       "        [[-0.98951278],\n",
       "         [-0.96775952],\n",
       "         [-1.00887979],\n",
       "         [-1.0275082 ],\n",
       "         [-1.05358019]],\n",
       "\n",
       "        [[-0.87994235],\n",
       "         [-0.98963304],\n",
       "         [-0.924628  ],\n",
       "         [-0.7977289 ],\n",
       "         [-0.72992629]],\n",
       "\n",
       "        [[-0.76746794],\n",
       "         [-0.90811346],\n",
       "         [-0.88545901],\n",
       "         [-0.86144587],\n",
       "         [-0.81966466]],\n",
       "\n",
       "        [[-0.86635718],\n",
       "         [-0.86437086],\n",
       "         [-0.75119977],\n",
       "         [-0.91487578],\n",
       "         [-0.89629611]],\n",
       "\n",
       "        [[-0.73039113],\n",
       "         [-0.76701288],\n",
       "         [-0.76897869],\n",
       "         [-0.79911154],\n",
       "         [-0.71764861]],\n",
       "\n",
       "        [[-1.29926702],\n",
       "         [-1.23371182],\n",
       "         [-1.33783496],\n",
       "         [-1.29954671],\n",
       "         [-1.60492618]],\n",
       "\n",
       "        [[-1.17609166],\n",
       "         [-1.16055095],\n",
       "         [-1.20758885],\n",
       "         [-1.20940792],\n",
       "         [-1.16331053]],\n",
       "\n",
       "        [[-1.06955074],\n",
       "         [-1.08705069],\n",
       "         [-0.85006583],\n",
       "         [-0.98842855],\n",
       "         [-1.05102849]],\n",
       "\n",
       "        [[-0.65053224],\n",
       "         [-0.75625933],\n",
       "         [-1.11151713],\n",
       "         [-0.98623744],\n",
       "         [-0.86390762]],\n",
       "\n",
       "        [[-0.77612347],\n",
       "         [-0.80821833],\n",
       "         [-0.80325158],\n",
       "         [-0.85383606],\n",
       "         [-0.76038829]],\n",
       "\n",
       "        [[-0.96345992],\n",
       "         [-0.90303264],\n",
       "         [-0.88598305],\n",
       "         [-0.99838988],\n",
       "         [-1.10289912]],\n",
       "\n",
       "        [[-0.81719246],\n",
       "         [-0.83694876],\n",
       "         [-0.75925017],\n",
       "         [-0.800656  ],\n",
       "         [-0.63302448]],\n",
       "\n",
       "        [[-0.83633775],\n",
       "         [-0.72284217],\n",
       "         [-0.67353293],\n",
       "         [-0.54739749],\n",
       "         [-0.70893026]],\n",
       "\n",
       "        [[-1.57557423],\n",
       "         [-1.11906956],\n",
       "         [-1.11121031],\n",
       "         [-1.07953673],\n",
       "         [-1.70387922]],\n",
       "\n",
       "        [[-0.85829335],\n",
       "         [-0.90517654],\n",
       "         [-1.27972531],\n",
       "         [-1.29321664],\n",
       "         [-1.19717878]],\n",
       "\n",
       "        [[-1.12881224],\n",
       "         [-1.08717176],\n",
       "         [-0.88936256],\n",
       "         [-0.93789375],\n",
       "         [-0.94790944]],\n",
       "\n",
       "        [[-0.87028736],\n",
       "         [-1.01351653],\n",
       "         [-1.19473902],\n",
       "         [-0.91888407],\n",
       "         [-0.88785104]],\n",
       "\n",
       "        [[-0.95426058],\n",
       "         [-1.01487691],\n",
       "         [-0.80398295],\n",
       "         [-0.79554915],\n",
       "         [-0.81273939]],\n",
       "\n",
       "        [[-0.78158215],\n",
       "         [-0.8580075 ],\n",
       "         [-0.82216864],\n",
       "         [-1.0728803 ],\n",
       "         [-0.90311081]],\n",
       "\n",
       "        [[-0.70678363],\n",
       "         [-0.71237712],\n",
       "         [-0.69767884],\n",
       "         [-0.65558245],\n",
       "         [-0.64265704]],\n",
       "\n",
       "        [[-0.8158502 ],\n",
       "         [-0.7175974 ],\n",
       "         [-0.77222041],\n",
       "         [-0.7845426 ],\n",
       "         [-0.77489926]]]])"
      ]
     },
     "execution_count": 8,
     "metadata": {},
     "output_type": "execute_result"
    }
   ],
   "source": [
    "X_train[:2]"
   ]
  },
  {
   "cell_type": "code",
   "execution_count": 9,
   "metadata": {},
   "outputs": [
    {
     "data": {
      "text/plain": [
       "array([[[[-1.49931066],\n",
       "         [-1.17881168],\n",
       "         [-0.7481329 ],\n",
       "         [-0.92900456],\n",
       "         [-0.86233418]],\n",
       "\n",
       "        [[-0.7937873 ],\n",
       "         [-0.86892127],\n",
       "         [-0.83811115],\n",
       "         [-1.05663028],\n",
       "         [-0.97505223]],\n",
       "\n",
       "        [[-0.7795319 ],\n",
       "         [-0.88476203],\n",
       "         [-0.99346662],\n",
       "         [-0.73128738],\n",
       "         [-0.66127226]],\n",
       "\n",
       "        [[-1.04920283],\n",
       "         [-1.165143  ],\n",
       "         [-1.22817714],\n",
       "         [-0.87871933],\n",
       "         [-0.94598019]],\n",
       "\n",
       "        [[-0.92036718],\n",
       "         [-0.80490745],\n",
       "         [-1.05470504],\n",
       "         [-1.01537872],\n",
       "         [-1.17000671]],\n",
       "\n",
       "        [[-0.71426932],\n",
       "         [-0.6851344 ],\n",
       "         [-0.88889921],\n",
       "         [-0.81372052],\n",
       "         [-0.89704652]],\n",
       "\n",
       "        [[-1.11143019],\n",
       "         [-0.88752681],\n",
       "         [-0.76862219],\n",
       "         [-0.82601847],\n",
       "         [-0.94780885]],\n",
       "\n",
       "        [[-0.79167627],\n",
       "         [-0.97054387],\n",
       "         [-0.89311763],\n",
       "         [-1.11216407],\n",
       "         [-0.92709152]],\n",
       "\n",
       "        [[-0.79253592],\n",
       "         [-0.90243483],\n",
       "         [-0.98485232],\n",
       "         [-0.8410287 ],\n",
       "         [-0.85626481]],\n",
       "\n",
       "        [[-1.03561367],\n",
       "         [-0.95087449],\n",
       "         [-0.98072145],\n",
       "         [-0.44067014],\n",
       "         [-0.50006768]],\n",
       "\n",
       "        [[-1.19850981],\n",
       "         [-1.19937085],\n",
       "         [-1.15026047],\n",
       "         [-1.18696108],\n",
       "         [-1.12487771]],\n",
       "\n",
       "        [[-1.30290173],\n",
       "         [-1.15297553],\n",
       "         [-1.42060093],\n",
       "         [-1.50134265],\n",
       "         [-1.2012265 ]],\n",
       "\n",
       "        [[-0.92205132],\n",
       "         [-0.78397057],\n",
       "         [-0.56837666],\n",
       "         [-0.89630175],\n",
       "         [-1.02563072]],\n",
       "\n",
       "        [[-0.69536468],\n",
       "         [-0.83732409],\n",
       "         [-0.79670403],\n",
       "         [-1.03468131],\n",
       "         [-1.11591944]],\n",
       "\n",
       "        [[-0.77310959],\n",
       "         [-0.77763074],\n",
       "         [-0.86272853],\n",
       "         [-1.01781293],\n",
       "         [-0.96843473]],\n",
       "\n",
       "        [[-0.8428489 ],\n",
       "         [-0.81648944],\n",
       "         [-0.93493967],\n",
       "         [-1.08905359],\n",
       "         [-0.89183887]],\n",
       "\n",
       "        [[-1.25085863],\n",
       "         [-1.15385812],\n",
       "         [-1.06998089],\n",
       "         [-1.36531543],\n",
       "         [-1.52525622]],\n",
       "\n",
       "        [[-0.97031617],\n",
       "         [-1.10079753],\n",
       "         [-1.18788651],\n",
       "         [-1.11051192],\n",
       "         [-0.9985508 ]],\n",
       "\n",
       "        [[-0.63832282],\n",
       "         [-0.9771851 ],\n",
       "         [-0.82764791],\n",
       "         [-0.33883768],\n",
       "         [-0.43393966]],\n",
       "\n",
       "        [[-0.6421506 ],\n",
       "         [-0.60158445],\n",
       "         [-0.64393435],\n",
       "         [-0.87643953],\n",
       "         [-0.88204194]],\n",
       "\n",
       "        [[-1.19794859],\n",
       "         [-0.93350822],\n",
       "         [-0.84755774],\n",
       "         [-1.12346219],\n",
       "         [-0.98653279]],\n",
       "\n",
       "        [[-0.91130167],\n",
       "         [-0.83570481],\n",
       "         [-0.85835613],\n",
       "         [-1.11725558],\n",
       "         [-1.17390608]],\n",
       "\n",
       "        [[-1.07041849],\n",
       "         [-0.94206123],\n",
       "         [-0.98139263],\n",
       "         [-1.18392288],\n",
       "         [-1.05951704]],\n",
       "\n",
       "        [[-0.96742287],\n",
       "         [-0.92782376],\n",
       "         [-1.04925888],\n",
       "         [-1.14841856],\n",
       "         [-0.9465514 ]],\n",
       "\n",
       "        [[-1.48719994],\n",
       "         [-1.3270159 ],\n",
       "         [-1.389408  ],\n",
       "         [-1.66236812],\n",
       "         [-1.62016452]],\n",
       "\n",
       "        [[-1.00729438],\n",
       "         [-1.12306619],\n",
       "         [-1.25474526],\n",
       "         [-1.44223824],\n",
       "         [-1.09674765]],\n",
       "\n",
       "        [[-1.20265188],\n",
       "         [-1.17359568],\n",
       "         [-1.1777232 ],\n",
       "         [-0.39294327],\n",
       "         [-0.45107124]],\n",
       "\n",
       "        [[-0.76570843],\n",
       "         [-0.83361683],\n",
       "         [-0.74594924],\n",
       "         [-0.75822366],\n",
       "         [-0.6939608 ]],\n",
       "\n",
       "        [[-0.70738726],\n",
       "         [-0.67273742],\n",
       "         [-0.71815482],\n",
       "         [-1.09980026],\n",
       "         [-1.13763449]],\n",
       "\n",
       "        [[-0.86712845],\n",
       "         [-0.89853515],\n",
       "         [-0.98481201],\n",
       "         [-1.17714538],\n",
       "         [-1.04752493]],\n",
       "\n",
       "        [[-0.97608837],\n",
       "         [-0.95990871],\n",
       "         [-0.71836067],\n",
       "         [-0.83294598],\n",
       "         [-0.91822618]],\n",
       "\n",
       "        [[-0.70495666],\n",
       "         [-0.66674764],\n",
       "         [-0.76576295],\n",
       "         [-1.1541965 ],\n",
       "         [-1.24765067]]],\n",
       "\n",
       "\n",
       "       [[[-0.92900456],\n",
       "         [-0.86233418],\n",
       "         [-1.00022266],\n",
       "         [-1.276643  ],\n",
       "         [-1.60825159]],\n",
       "\n",
       "        [[-1.05663028],\n",
       "         [-0.97505223],\n",
       "         [-0.94760183],\n",
       "         [-0.68963918],\n",
       "         [-0.80484349]],\n",
       "\n",
       "        [[-0.73128738],\n",
       "         [-0.66127226],\n",
       "         [-0.67500228],\n",
       "         [-0.76741232],\n",
       "         [-0.7601851 ]],\n",
       "\n",
       "        [[-0.87871933],\n",
       "         [-0.94598019],\n",
       "         [-0.85436284],\n",
       "         [-0.94939681],\n",
       "         [-0.97394952]],\n",
       "\n",
       "        [[-1.01537872],\n",
       "         [-1.17000671],\n",
       "         [-1.07323172],\n",
       "         [-1.07711681],\n",
       "         [-0.90089316]],\n",
       "\n",
       "        [[-0.81372052],\n",
       "         [-0.89704652],\n",
       "         [-0.8937559 ],\n",
       "         [-0.90925215],\n",
       "         [-0.81547323]],\n",
       "\n",
       "        [[-0.82601847],\n",
       "         [-0.94780885],\n",
       "         [-0.96790375],\n",
       "         [-0.95816892],\n",
       "         [-0.75622829]],\n",
       "\n",
       "        [[-1.11216407],\n",
       "         [-0.92709152],\n",
       "         [-0.93490729],\n",
       "         [-0.84621236],\n",
       "         [-1.07128365]],\n",
       "\n",
       "        [[-0.8410287 ],\n",
       "         [-0.85626481],\n",
       "         [-0.79193763],\n",
       "         [-0.58454946],\n",
       "         [-0.56136456]],\n",
       "\n",
       "        [[-0.44067014],\n",
       "         [-0.50006768],\n",
       "         [-0.4694947 ],\n",
       "         [-0.81789775],\n",
       "         [-0.71245204]],\n",
       "\n",
       "        [[-1.18696108],\n",
       "         [-1.12487771],\n",
       "         [-1.34137423],\n",
       "         [-1.27482404],\n",
       "         [-1.09321898]],\n",
       "\n",
       "        [[-1.50134265],\n",
       "         [-1.2012265 ],\n",
       "         [-1.58185399],\n",
       "         [-1.4468842 ],\n",
       "         [-1.11837062]],\n",
       "\n",
       "        [[-0.89630175],\n",
       "         [-1.02563072],\n",
       "         [-0.99081351],\n",
       "         [-1.01980646],\n",
       "         [-1.07517941]],\n",
       "\n",
       "        [[-1.03468131],\n",
       "         [-1.11591944],\n",
       "         [-1.08670329],\n",
       "         [-0.92273583],\n",
       "         [-0.8797988 ]],\n",
       "\n",
       "        [[-1.01781293],\n",
       "         [-0.96843473],\n",
       "         [-0.88282717],\n",
       "         [-0.76951255],\n",
       "         [-1.07266158]],\n",
       "\n",
       "        [[-1.08905359],\n",
       "         [-0.89183887],\n",
       "         [-0.94870557],\n",
       "         [-0.94405444],\n",
       "         [-1.12992706]],\n",
       "\n",
       "        [[-1.36531543],\n",
       "         [-1.52525622],\n",
       "         [-1.81948155],\n",
       "         [-1.5002576 ],\n",
       "         [-1.5159406 ]],\n",
       "\n",
       "        [[-1.11051192],\n",
       "         [-0.9985508 ],\n",
       "         [-1.24363702],\n",
       "         [-1.24310007],\n",
       "         [-1.16705479]],\n",
       "\n",
       "        [[-0.33883768],\n",
       "         [-0.43393966],\n",
       "         [-0.39991012],\n",
       "         [-0.64380129],\n",
       "         [-0.61082382]],\n",
       "\n",
       "        [[-0.87643953],\n",
       "         [-0.88204194],\n",
       "         [-0.90777405],\n",
       "         [-0.7503693 ],\n",
       "         [-0.61398005]],\n",
       "\n",
       "        [[-1.12346219],\n",
       "         [-0.98653279],\n",
       "         [-0.9728504 ],\n",
       "         [-0.90442331],\n",
       "         [-0.99517388]],\n",
       "\n",
       "        [[-1.11725558],\n",
       "         [-1.17390608],\n",
       "         [-1.16271372],\n",
       "         [-0.95001093],\n",
       "         [-0.91698787]],\n",
       "\n",
       "        [[-1.18392288],\n",
       "         [-1.05951704],\n",
       "         [-0.96463505],\n",
       "         [-0.86546983],\n",
       "         [-0.96450317]],\n",
       "\n",
       "        [[-1.14841856],\n",
       "         [-0.9465514 ],\n",
       "         [-0.91276303],\n",
       "         [-0.87494997],\n",
       "         [-1.08347314]],\n",
       "\n",
       "        [[-1.66236812],\n",
       "         [-1.62016452],\n",
       "         [-1.60773615],\n",
       "         [-1.26553149],\n",
       "         [-1.25119788]],\n",
       "\n",
       "        [[-1.44223824],\n",
       "         [-1.09674765],\n",
       "         [-1.50444261],\n",
       "         [-1.27880747],\n",
       "         [-1.08511938]],\n",
       "\n",
       "        [[-0.39294327],\n",
       "         [-0.45107124],\n",
       "         [-0.43141971],\n",
       "         [-0.91865176],\n",
       "         [-0.91566346]],\n",
       "\n",
       "        [[-0.75822366],\n",
       "         [-0.6939608 ],\n",
       "         [-0.74196536],\n",
       "         [-0.64824445],\n",
       "         [-0.65385569]],\n",
       "\n",
       "        [[-1.09980026],\n",
       "         [-1.13763449],\n",
       "         [-1.07173048],\n",
       "         [-0.91532838],\n",
       "         [-0.97775868]],\n",
       "\n",
       "        [[-1.17714538],\n",
       "         [-1.04752493],\n",
       "         [-0.90773616],\n",
       "         [-0.81695948],\n",
       "         [-0.90915572]],\n",
       "\n",
       "        [[-0.83294598],\n",
       "         [-0.91822618],\n",
       "         [-0.98380479],\n",
       "         [-0.91381014],\n",
       "         [-0.90937567]],\n",
       "\n",
       "        [[-1.1541965 ],\n",
       "         [-1.24765067],\n",
       "         [-1.09524181],\n",
       "         [-0.81861735],\n",
       "         [-0.77814782]]]])"
      ]
     },
     "execution_count": 9,
     "metadata": {},
     "output_type": "execute_result"
    }
   ],
   "source": [
    "X_dev[:2]"
   ]
  },
  {
   "cell_type": "code",
   "execution_count": 10,
   "metadata": {},
   "outputs": [
    {
     "data": {
      "text/plain": [
       "array([[1., 0.],\n",
       "       [1., 0.]])"
      ]
     },
     "execution_count": 10,
     "metadata": {},
     "output_type": "execute_result"
    }
   ],
   "source": [
    "y_train[:2]"
   ]
  },
  {
   "cell_type": "code",
   "execution_count": 11,
   "metadata": {},
   "outputs": [
    {
     "data": {
      "text/plain": [
       "array([0., 1.])"
      ]
     },
     "execution_count": 11,
     "metadata": {},
     "output_type": "execute_result"
    }
   ],
   "source": [
    "y_train[-20]"
   ]
  },
  {
   "cell_type": "code",
   "execution_count": 12,
   "metadata": {},
   "outputs": [
    {
     "data": {
      "text/plain": [
       "array([[1., 0.],\n",
       "       [1., 0.]])"
      ]
     },
     "execution_count": 12,
     "metadata": {},
     "output_type": "execute_result"
    }
   ],
   "source": [
    "y_dev[:2]"
   ]
  },
  {
   "cell_type": "code",
   "execution_count": 13,
   "metadata": {},
   "outputs": [
    {
     "data": {
      "text/plain": [
       "(32, 5, 1)"
      ]
     },
     "execution_count": 13,
     "metadata": {},
     "output_type": "execute_result"
    }
   ],
   "source": [
    "X_dev[0].shape"
   ]
  },
  {
   "cell_type": "code",
   "execution_count": 14,
   "metadata": {},
   "outputs": [
    {
     "data": {
      "text/plain": [
       "(26, 32, 5, 1)"
      ]
     },
     "execution_count": 14,
     "metadata": {},
     "output_type": "execute_result"
    }
   ],
   "source": [
    "X_dev.shape"
   ]
  },
  {
   "cell_type": "code",
   "execution_count": 15,
   "metadata": {},
   "outputs": [
    {
     "data": {
      "text/plain": [
       "(104, 32, 5, 1)"
      ]
     },
     "execution_count": 15,
     "metadata": {},
     "output_type": "execute_result"
    }
   ],
   "source": [
    "X_train.shape"
   ]
  },
  {
   "cell_type": "code",
   "execution_count": 16,
   "metadata": {},
   "outputs": [
    {
     "data": {
      "text/plain": [
       "2"
      ]
     },
     "execution_count": 16,
     "metadata": {},
     "output_type": "execute_result"
    }
   ],
   "source": [
    "y_train.shape[1]"
   ]
  },
  {
   "cell_type": "markdown",
   "metadata": {},
   "source": [
    "### 4 - Set hyperparameters"
   ]
  },
  {
   "cell_type": "code",
   "execution_count": 17,
   "metadata": {},
   "outputs": [],
   "source": [
    "# Tensorboard\n",
    "from time import time\n",
    "from keras.callbacks import TensorBoard\n",
    "tensorboard = TensorBoard(log_dir='logs/{}'.format(time()))"
   ]
  },
  {
   "cell_type": "code",
   "execution_count": 18,
   "metadata": {},
   "outputs": [
    {
     "data": {
      "text/plain": [
       "'\\nn_epochs = 100 #2000\\n#learning_rate = 0.001\\nbatch_size = 32 #250 \\nn_neurons_per_hlayer = [500, 250, 75, 25] # Number of units per layer, 4 hidden layers\\nrate_dropout = [0.8, 0.4, 0.2, 0.1]\\nweight_decay = 1e-4\\n'"
      ]
     },
     "execution_count": 18,
     "metadata": {},
     "output_type": "execute_result"
    }
   ],
   "source": [
    "\"\"\"\n",
    "n_epochs = 100 #2000\n",
    "#learning_rate = 0.001\n",
    "batch_size = 32 #250 \n",
    "n_neurons_per_hlayer = [500, 250, 75, 25] # Number of units per layer, 4 hidden layers\n",
    "rate_dropout = [0.8, 0.4, 0.2, 0.1]\n",
    "weight_decay = 1e-4\n",
    "\"\"\""
   ]
  },
  {
   "cell_type": "markdown",
   "metadata": {},
   "source": [
    "### 5 - Build the model: "
   ]
  },
  {
   "cell_type": "code",
   "execution_count": 19,
   "metadata": {},
   "outputs": [
    {
     "name": "stdout",
     "output_type": "stream",
     "text": [
      "Model: \"sequential\"\n",
      "_________________________________________________________________\n",
      "Layer (type)                 Output Shape              Param #   \n",
      "=================================================================\n",
      "conv2d (Conv2D)              (None, 32, 5, 4)          104       \n",
      "_________________________________________________________________\n",
      "conv2d_1 (Conv2D)            (None, 32, 5, 4)          516       \n",
      "_________________________________________________________________\n",
      "max_pooling2d (MaxPooling2D) (None, 16, 2, 4)          0         \n",
      "_________________________________________________________________\n",
      "dropout (Dropout)            (None, 16, 2, 4)          0         \n",
      "_________________________________________________________________\n",
      "conv2d_2 (Conv2D)            (None, 16, 2, 50)         1850      \n",
      "_________________________________________________________________\n",
      "conv2d_3 (Conv2D)            (None, 16, 2, 50)         22550     \n",
      "_________________________________________________________________\n",
      "max_pooling2d_1 (MaxPooling2 (None, 8, 1, 50)          0         \n",
      "_________________________________________________________________\n",
      "dropout_1 (Dropout)          (None, 8, 1, 50)          0         \n",
      "_________________________________________________________________\n",
      "flatten (Flatten)            (None, 400)               0         \n",
      "_________________________________________________________________\n",
      "dense (Dense)                (None, 2)                 802       \n",
      "=================================================================\n",
      "Total params: 25,822\n",
      "Trainable params: 25,822\n",
      "Non-trainable params: 0\n",
      "_________________________________________________________________\n"
     ]
    }
   ],
   "source": [
    "from keras.models import Sequential\n",
    "from keras.layers import Dense, Dropout, Activation, Flatten, DepthwiseConv2D\n",
    "from keras.layers.convolutional import Conv2D, MaxPooling2D\n",
    "from keras import optimizers, regularizers\n",
    "import keras.backend as K\n",
    "#K.set_image_data_format('channels_first')\n",
    "\n",
    "weight_decay = 1e-4\n",
    "\n",
    "model = Sequential()\n",
    "# Convolution2D(filtrosConv1, tamaño_filtro1, padding=\"same\", input_shape=(longitud, altura,3), activation = \"relu\")\n",
    "    # - filtrosConv1 número de filtros que aplicaremos tras la primera convolución, normalmente este tamaño va a aumentando\n",
    "    # tras convoluciones para que aumente la dimensión de profundidad (qué cosas hay en mi imagen)\n",
    "    # - tamaño_filtro1 tamaño espacial del kernel (de los filtros)\n",
    "    # - padding = si es same es que es igual que la imagen, vamos crea una imagen del mismo tamaño con el filtro, si es \n",
    "    # valid es que no hay padding y crea una imagen más pequeña que la imagen (creo)\n",
    "    # - input_shape = longitud y altura, tamaño que usará para convolucionar al entrenar\n",
    "    \n",
    "# CAPA PARA FILTRADO TEMPORAL \n",
    "model.add(Conv2D(filters = 4, kernel_size=(1,25), padding=\"same\", activation='relu', input_shape=(32, 5, 1 ), kernel_initializer=\"he_normal\", kernel_regularizer=regularizers.l1_l2(weight_decay)))\n",
    "# CAPA PARA FILTRADO ESPACIAL\n",
    "model.add(Conv2D(filters = 4, kernel_size=(32,1), padding=\"same\", activation='relu', kernel_initializer=\"he_normal\", kernel_regularizer=regularizers.l1_l2(weight_decay)))\n",
    "model.add(MaxPooling2D(pool_size=(2, 2)))\n",
    "\n",
    "model.add(Dropout(0.3))\n",
    "\n",
    "## Siguientes capas convolucionales: \n",
    "model.add(Conv2D(50, (3,3), padding='same',activation='relu', kernel_initializer=\"he_normal\",kernel_regularizer=regularizers.l1_l2(weight_decay)))\n",
    "model.add(Conv2D(50, (3,3), padding='same',activation='relu', kernel_initializer=\"he_normal\",kernel_regularizer=regularizers.l1_l2(weight_decay)))\n",
    "model.add(MaxPooling2D(pool_size=(2,2)))\n",
    "model.add(Dropout(0.2))\n",
    "\n",
    "    \n",
    "\"\"\"\n",
    "# CAPA PARA FILTRADO TEMPORAL \n",
    "model.add(Conv2D(filters = 4, kernel_size=(1,25), padding=\"same\", activation=\"sigmoid\",input_shape=(32, 5, 1 ), kernel_initializer=\"he_normal\", kernel_regularizer=regularizers.l1(weight_decay)))\n",
    "# CAPA PARA FILTRADO ESPACIAL\n",
    "model.add(Conv2D(filters = 4, kernel_size=(32,1), padding=\"same\", activation='relu', kernel_initializer=\"he_normal\", kernel_regularizer=regularizers.l1(weight_decay)))\n",
    "model.add(MaxPooling2D(pool_size=(2, 2)))\n",
    "\n",
    "model.add(Dropout(0.3))\n",
    "\n",
    "## Siguientes capas convolucionales: \n",
    "model.add(Conv2D(70, (3,3), padding='same',activation='relu', kernel_initializer=\"he_normal\",kernel_regularizer=regularizers.l1(weight_decay)))\n",
    "model.add(Conv2D(70, (3,3), padding='same',activation='relu', kernel_initializer=\"he_normal\",kernel_regularizer=regularizers.l1(weight_decay)))\n",
    "model.add(MaxPooling2D(pool_size=(2,2)))\n",
    "model.add(Dropout(0.2))\n",
    "\"\"\"\n",
    "\n",
    "\"\"\"\n",
    "model.add(MaxPooling2D(pool_size=(2, 2)))\n",
    "model.add(Dropout(0.5))\n",
    "\n",
    "\n",
    "model.add(Conv2D(96, (3, 3), padding='same',activation='relu', kernel_initializer=\"he_normal\",kernel_regularizer=regularizers.l2(weight_decay)))\n",
    "#model.add(Conv2D(96, (3, 3), padding='same',activation='relu', kernel_initializer=\"he_normal\", kernel_regularizer=regularizers.l2(weight_decay)))\n",
    "model.add(MaxPooling2D(pool_size=(2, 2)))\n",
    "model.add(Dropout(0.2))\n",
    "\n",
    "model.add(Conv2D(192, (3, 3), padding='same',activation='relu', kernel_initializer=\"he_normal\", kernel_regularizer=regularizers.l2(weight_decay)))\n",
    "#model.add(Conv2D(192, (3, 3), padding='same',activation='relu', kernel_initializer=\"he_normal\", kernel_regularizer=regularizers.l2(weight_decay)))\n",
    "model.add(MaxPooling2D(pool_size=(2, 2)))\n",
    "model.add(Dropout(0.1))\n",
    "\"\"\"\n",
    "\n",
    "model.add(Flatten())\n",
    "\"\"\"\n",
    "model.add(Dense(20, activation=\"relu\", kernel_initializer=\"he_normal\"))\n",
    "model.add(Dropout(0.5))\n",
    "\"\"\"\n",
    "model.add(Dense(y_train.shape[1], activation=\"softmax\"))\n",
    "\n",
    "opt = optimizers.Adam(lr=0.001, beta_1=0.9, beta_2=0.999)        \n",
    "model.compile(optimizer=opt, loss='categorical_crossentropy', metrics=['accuracy'])\n",
    "model.summary()"
   ]
  },
  {
   "cell_type": "code",
   "execution_count": 20,
   "metadata": {},
   "outputs": [
    {
     "data": {
      "text/plain": [
       "[<tensorflow.python.keras.layers.convolutional.Conv2D at 0x2de73291e50>,\n",
       " <tensorflow.python.keras.layers.convolutional.Conv2D at 0x2de7436d970>,\n",
       " <tensorflow.python.keras.layers.pooling.MaxPooling2D at 0x2de7436d4f0>,\n",
       " <tensorflow.python.keras.layers.core.Dropout at 0x2de7a8315e0>,\n",
       " <tensorflow.python.keras.layers.convolutional.Conv2D at 0x2de7a831c40>,\n",
       " <tensorflow.python.keras.layers.convolutional.Conv2D at 0x2de7a84d730>,\n",
       " <tensorflow.python.keras.layers.pooling.MaxPooling2D at 0x2de7a84d160>,\n",
       " <tensorflow.python.keras.layers.core.Dropout at 0x2de7a84d220>,\n",
       " <tensorflow.python.keras.layers.core.Flatten at 0x2de7a85faf0>,\n",
       " <tensorflow.python.keras.layers.core.Dense at 0x2de7a868a00>]"
      ]
     },
     "execution_count": 20,
     "metadata": {},
     "output_type": "execute_result"
    }
   ],
   "source": [
    "model.layers"
   ]
  },
  {
   "cell_type": "code",
   "execution_count": 21,
   "metadata": {},
   "outputs": [
    {
     "name": "stdout",
     "output_type": "stream",
     "text": [
      "conv2d\n",
      "conv2d_1\n",
      "max_pooling2d\n",
      "dropout\n",
      "conv2d_2\n",
      "conv2d_3\n",
      "max_pooling2d_1\n",
      "dropout_1\n",
      "flatten\n",
      "dense\n"
     ]
    }
   ],
   "source": [
    "for l in model.layers: print (l.name)"
   ]
  },
  {
   "cell_type": "markdown",
   "metadata": {},
   "source": [
    "All the parameters of a layer can bee accessed:"
   ]
  },
  {
   "cell_type": "code",
   "execution_count": 22,
   "metadata": {},
   "outputs": [
    {
     "data": {
      "text/plain": [
       "(1, 25, 1, 4)"
      ]
     },
     "execution_count": 22,
     "metadata": {},
     "output_type": "execute_result"
    }
   ],
   "source": [
    "weights, biases = model.layers[0].get_weights()\n",
    "weights.shape"
   ]
  },
  {
   "cell_type": "code",
   "execution_count": 23,
   "metadata": {},
   "outputs": [
    {
     "data": {
      "text/plain": [
       "array([[[[ 0.42856836, -0.00157966, -0.20251656,  0.13289385]],\n",
       "\n",
       "        [[ 0.19237618,  0.5869414 ,  0.5742627 , -0.15996416]],\n",
       "\n",
       "        [[-0.02001858, -0.46193972,  0.04201321, -0.545964  ]],\n",
       "\n",
       "        [[ 0.07282922,  0.06714902,  0.4115093 , -0.18939127]],\n",
       "\n",
       "        [[ 0.10552091, -0.49958053, -0.18294063,  0.44068086]],\n",
       "\n",
       "        [[ 0.07720504, -0.6044089 , -0.09424689,  0.31429547]],\n",
       "\n",
       "        [[ 0.12204511, -0.2286144 ,  0.02622376, -0.44856054]],\n",
       "\n",
       "        [[ 0.21965642, -0.6149963 ,  0.1415827 ,  0.0442879 ]],\n",
       "\n",
       "        [[-0.39079747,  0.08215151,  0.29662263, -0.22734287]],\n",
       "\n",
       "        [[-0.18861854,  0.49612293,  0.07844664, -0.59954196]],\n",
       "\n",
       "        [[ 0.30509168,  0.5510518 ,  0.0719001 ,  0.46157575]],\n",
       "\n",
       "        [[ 0.3219154 , -0.18363963, -0.2783949 , -0.50296587]],\n",
       "\n",
       "        [[ 0.18464117, -0.09601805, -0.04953643,  0.1757729 ]],\n",
       "\n",
       "        [[ 0.12161159, -0.46669608, -0.23230062, -0.06739555]],\n",
       "\n",
       "        [[-0.21146125,  0.44053662, -0.33054855,  0.6344837 ]],\n",
       "\n",
       "        [[-0.35596806,  0.22403726, -0.3645962 ,  0.27392024]],\n",
       "\n",
       "        [[-0.07763119, -0.2579615 ,  0.16030337, -0.29011467]],\n",
       "\n",
       "        [[ 0.21303111, -0.13892075,  0.0749545 ,  0.06828042]],\n",
       "\n",
       "        [[-0.17563564,  0.5657158 ,  0.37364358,  0.3027681 ]],\n",
       "\n",
       "        [[ 0.0439096 , -0.2781175 , -0.17139678, -0.05504929]],\n",
       "\n",
       "        [[-0.23284079,  0.22189115, -0.04637164, -0.22325888]],\n",
       "\n",
       "        [[-0.11745032,  0.21985953, -0.05911954, -0.22115016]],\n",
       "\n",
       "        [[-0.10412557,  0.10708458, -0.23994543, -0.12563092]],\n",
       "\n",
       "        [[ 0.00469087, -0.4908316 ,  0.09035277, -0.11457374]],\n",
       "\n",
       "        [[-0.0961025 ,  0.5026415 ,  0.22795008, -0.48879528]]]],\n",
       "      dtype=float32)"
      ]
     },
     "execution_count": 23,
     "metadata": {},
     "output_type": "execute_result"
    }
   ],
   "source": [
    "weights"
   ]
  },
  {
   "cell_type": "code",
   "execution_count": 24,
   "metadata": {},
   "outputs": [
    {
     "data": {
      "text/plain": [
       "array([0., 0., 0., 0.], dtype=float32)"
      ]
     },
     "execution_count": 24,
     "metadata": {},
     "output_type": "execute_result"
    }
   ],
   "source": [
    "biases # Bias de la primera capa: 500 bias inicializados a 0 "
   ]
  },
  {
   "cell_type": "code",
   "execution_count": 25,
   "metadata": {},
   "outputs": [
    {
     "data": {
      "text/plain": [
       "(4,)"
      ]
     },
     "execution_count": 25,
     "metadata": {},
     "output_type": "execute_result"
    }
   ],
   "source": [
    "biases.shape"
   ]
  },
  {
   "cell_type": "markdown",
   "metadata": {},
   "source": [
    "### 6. Compile the model"
   ]
  },
  {
   "cell_type": "markdown",
   "metadata": {},
   "source": [
    "### 7. Train the model with M-BGD"
   ]
  },
  {
   "cell_type": "code",
   "execution_count": 26,
   "metadata": {},
   "outputs": [
    {
     "name": "stdout",
     "output_type": "stream",
     "text": [
      "Epoch 1/100\n",
      "4/4 - 7s - loss: 3.4505 - accuracy: 0.5192 - val_loss: 3.1100 - val_accuracy: 0.6154\n",
      "Epoch 2/100\n",
      "4/4 - 0s - loss: 3.3758 - accuracy: 0.6250 - val_loss: 2.8984 - val_accuracy: 0.6154\n",
      "Epoch 3/100\n",
      "4/4 - 0s - loss: 2.9734 - accuracy: 0.5385 - val_loss: 2.9059 - val_accuracy: 0.3846\n",
      "Epoch 4/100\n",
      "4/4 - 0s - loss: 3.0580 - accuracy: 0.3750 - val_loss: 2.8803 - val_accuracy: 0.3846\n",
      "Epoch 5/100\n",
      "4/4 - 0s - loss: 2.7862 - accuracy: 0.6250 - val_loss: 2.7945 - val_accuracy: 0.3846\n",
      "Epoch 6/100\n",
      "4/4 - 0s - loss: 2.7014 - accuracy: 0.6250 - val_loss: 2.6919 - val_accuracy: 0.6154\n",
      "Epoch 7/100\n",
      "4/4 - 0s - loss: 2.6906 - accuracy: 0.6346 - val_loss: 2.6302 - val_accuracy: 0.6154\n",
      "Epoch 8/100\n",
      "4/4 - 0s - loss: 2.6634 - accuracy: 0.6538 - val_loss: 2.5914 - val_accuracy: 0.6154\n",
      "Epoch 9/100\n",
      "4/4 - 0s - loss: 2.6168 - accuracy: 0.5865 - val_loss: 2.5558 - val_accuracy: 0.5385\n",
      "Epoch 10/100\n",
      "4/4 - 0s - loss: 2.5252 - accuracy: 0.6154 - val_loss: 2.5221 - val_accuracy: 0.5385\n",
      "Epoch 11/100\n",
      "4/4 - 0s - loss: 2.5126 - accuracy: 0.5769 - val_loss: 2.4765 - val_accuracy: 0.5385\n",
      "Epoch 12/100\n",
      "4/4 - 0s - loss: 2.4848 - accuracy: 0.5192 - val_loss: 2.4246 - val_accuracy: 0.5769\n",
      "Epoch 13/100\n",
      "4/4 - 0s - loss: 2.4036 - accuracy: 0.6058 - val_loss: 2.3711 - val_accuracy: 0.6154\n",
      "Epoch 14/100\n",
      "4/4 - 0s - loss: 2.4092 - accuracy: 0.5673 - val_loss: 2.3243 - val_accuracy: 0.6154\n",
      "Epoch 15/100\n",
      "4/4 - 0s - loss: 2.3207 - accuracy: 0.6538 - val_loss: 2.2825 - val_accuracy: 0.6154\n",
      "Epoch 16/100\n",
      "4/4 - 0s - loss: 2.3062 - accuracy: 0.6058 - val_loss: 2.2460 - val_accuracy: 0.6154\n",
      "Epoch 17/100\n",
      "4/4 - 0s - loss: 2.2360 - accuracy: 0.5962 - val_loss: 2.2118 - val_accuracy: 0.6154\n",
      "Epoch 18/100\n",
      "4/4 - 0s - loss: 2.2075 - accuracy: 0.6346 - val_loss: 2.1798 - val_accuracy: 0.6154\n",
      "Epoch 19/100\n",
      "4/4 - 0s - loss: 2.1548 - accuracy: 0.6442 - val_loss: 2.1489 - val_accuracy: 0.6154\n",
      "Epoch 20/100\n",
      "4/4 - 0s - loss: 2.1325 - accuracy: 0.5769 - val_loss: 2.1195 - val_accuracy: 0.6154\n",
      "Epoch 21/100\n",
      "4/4 - 0s - loss: 2.0928 - accuracy: 0.6250 - val_loss: 2.0924 - val_accuracy: 0.6154\n",
      "Epoch 22/100\n",
      "4/4 - 0s - loss: 2.0780 - accuracy: 0.6250 - val_loss: 2.0579 - val_accuracy: 0.6154\n",
      "Epoch 23/100\n",
      "4/4 - 0s - loss: 2.0361 - accuracy: 0.6250 - val_loss: 2.0250 - val_accuracy: 0.6154\n",
      "Epoch 24/100\n",
      "4/4 - 0s - loss: 2.0092 - accuracy: 0.6058 - val_loss: 1.9955 - val_accuracy: 0.6154\n",
      "Epoch 25/100\n",
      "4/4 - 0s - loss: 2.0065 - accuracy: 0.6058 - val_loss: 1.9671 - val_accuracy: 0.6154\n",
      "Epoch 26/100\n",
      "4/4 - 0s - loss: 1.9549 - accuracy: 0.6346 - val_loss: 1.9380 - val_accuracy: 0.6154\n",
      "Epoch 27/100\n",
      "4/4 - 0s - loss: 1.9372 - accuracy: 0.5865 - val_loss: 1.9109 - val_accuracy: 0.6154\n",
      "Epoch 28/100\n",
      "4/4 - 0s - loss: 1.9055 - accuracy: 0.6154 - val_loss: 1.8848 - val_accuracy: 0.6154\n",
      "Epoch 29/100\n",
      "4/4 - 0s - loss: 1.8491 - accuracy: 0.6731 - val_loss: 1.8633 - val_accuracy: 0.6154\n",
      "Epoch 30/100\n",
      "4/4 - 0s - loss: 1.8464 - accuracy: 0.6058 - val_loss: 1.8401 - val_accuracy: 0.6154\n",
      "Epoch 31/100\n",
      "4/4 - 0s - loss: 1.8236 - accuracy: 0.6154 - val_loss: 1.8111 - val_accuracy: 0.6154\n",
      "Epoch 32/100\n",
      "4/4 - 0s - loss: 1.8182 - accuracy: 0.5962 - val_loss: 1.7848 - val_accuracy: 0.6154\n",
      "Epoch 33/100\n",
      "4/4 - 0s - loss: 1.7646 - accuracy: 0.6538 - val_loss: 1.7671 - val_accuracy: 0.6154\n",
      "Epoch 34/100\n",
      "4/4 - 0s - loss: 1.7294 - accuracy: 0.6442 - val_loss: 1.7511 - val_accuracy: 0.5769\n",
      "Epoch 35/100\n",
      "4/4 - 0s - loss: 1.7212 - accuracy: 0.6154 - val_loss: 1.7267 - val_accuracy: 0.6154\n",
      "Epoch 36/100\n",
      "4/4 - 0s - loss: 1.7121 - accuracy: 0.6250 - val_loss: 1.6993 - val_accuracy: 0.6154\n",
      "Epoch 37/100\n",
      "4/4 - 0s - loss: 1.6855 - accuracy: 0.6154 - val_loss: 1.6774 - val_accuracy: 0.6154\n",
      "Epoch 38/100\n",
      "4/4 - 0s - loss: 1.6682 - accuracy: 0.6346 - val_loss: 1.6556 - val_accuracy: 0.6154\n",
      "Epoch 39/100\n",
      "4/4 - 0s - loss: 1.6570 - accuracy: 0.6154 - val_loss: 1.6356 - val_accuracy: 0.6154\n",
      "Epoch 40/100\n",
      "4/4 - 0s - loss: 1.6100 - accuracy: 0.6346 - val_loss: 1.6191 - val_accuracy: 0.6154\n",
      "Epoch 41/100\n",
      "4/4 - 0s - loss: 1.5953 - accuracy: 0.6154 - val_loss: 1.6046 - val_accuracy: 0.6154\n",
      "Epoch 42/100\n",
      "4/4 - 0s - loss: 1.5951 - accuracy: 0.6250 - val_loss: 1.5901 - val_accuracy: 0.5769\n",
      "Epoch 43/100\n",
      "4/4 - 0s - loss: 1.5609 - accuracy: 0.6538 - val_loss: 1.5707 - val_accuracy: 0.5769\n",
      "Epoch 44/100\n",
      "4/4 - 0s - loss: 1.5252 - accuracy: 0.6346 - val_loss: 1.5502 - val_accuracy: 0.6154\n",
      "Epoch 45/100\n",
      "4/4 - 0s - loss: 1.5233 - accuracy: 0.6250 - val_loss: 1.5300 - val_accuracy: 0.6154\n",
      "Epoch 46/100\n",
      "4/4 - 0s - loss: 1.5011 - accuracy: 0.6250 - val_loss: 1.5130 - val_accuracy: 0.6154\n",
      "Epoch 47/100\n",
      "4/4 - 0s - loss: 1.4731 - accuracy: 0.6346 - val_loss: 1.4948 - val_accuracy: 0.6154\n",
      "Epoch 48/100\n",
      "4/4 - 0s - loss: 1.4734 - accuracy: 0.6442 - val_loss: 1.4792 - val_accuracy: 0.6154\n",
      "Epoch 49/100\n",
      "4/4 - 0s - loss: 1.4609 - accuracy: 0.6154 - val_loss: 1.4642 - val_accuracy: 0.6154\n",
      "Epoch 50/100\n",
      "4/4 - 0s - loss: 1.4545 - accuracy: 0.6346 - val_loss: 1.4508 - val_accuracy: 0.6154\n",
      "Epoch 51/100\n",
      "4/4 - 0s - loss: 1.4460 - accuracy: 0.6538 - val_loss: 1.4363 - val_accuracy: 0.6154\n",
      "Epoch 52/100\n",
      "4/4 - 0s - loss: 1.4243 - accuracy: 0.6154 - val_loss: 1.4240 - val_accuracy: 0.6154\n",
      "Epoch 53/100\n",
      "4/4 - 0s - loss: 1.4042 - accuracy: 0.6442 - val_loss: 1.4113 - val_accuracy: 0.6154\n",
      "Epoch 54/100\n",
      "4/4 - 0s - loss: 1.3808 - accuracy: 0.6442 - val_loss: 1.3986 - val_accuracy: 0.6154\n",
      "Epoch 55/100\n",
      "4/4 - 0s - loss: 1.3954 - accuracy: 0.6154 - val_loss: 1.3829 - val_accuracy: 0.6154\n",
      "Epoch 56/100\n",
      "4/4 - 0s - loss: 1.3651 - accuracy: 0.6346 - val_loss: 1.3702 - val_accuracy: 0.6154\n",
      "Epoch 57/100\n",
      "4/4 - 0s - loss: 1.3485 - accuracy: 0.6250 - val_loss: 1.3609 - val_accuracy: 0.6154\n",
      "Epoch 58/100\n",
      "4/4 - 0s - loss: 1.3305 - accuracy: 0.6250 - val_loss: 1.3606 - val_accuracy: 0.5769\n",
      "Epoch 59/100\n",
      "4/4 - 0s - loss: 1.3247 - accuracy: 0.6923 - val_loss: 1.3501 - val_accuracy: 0.6154\n",
      "Epoch 60/100\n",
      "4/4 - 0s - loss: 1.3103 - accuracy: 0.6635 - val_loss: 1.3311 - val_accuracy: 0.5385\n",
      "Epoch 61/100\n",
      "4/4 - 0s - loss: 1.2937 - accuracy: 0.7019 - val_loss: 1.3155 - val_accuracy: 0.5769\n",
      "Epoch 62/100\n",
      "4/4 - 0s - loss: 1.2770 - accuracy: 0.6731 - val_loss: 1.3036 - val_accuracy: 0.5769\n",
      "Epoch 63/100\n",
      "4/4 - 0s - loss: 1.2641 - accuracy: 0.6635 - val_loss: 1.2896 - val_accuracy: 0.6154\n",
      "Epoch 64/100\n",
      "4/4 - 0s - loss: 1.2502 - accuracy: 0.6346 - val_loss: 1.2730 - val_accuracy: 0.6154\n",
      "Epoch 65/100\n",
      "4/4 - 0s - loss: 1.2406 - accuracy: 0.6731 - val_loss: 1.2591 - val_accuracy: 0.6154\n",
      "Epoch 66/100\n",
      "4/4 - 0s - loss: 1.2343 - accuracy: 0.6154 - val_loss: 1.2470 - val_accuracy: 0.6154\n",
      "Epoch 67/100\n",
      "4/4 - 0s - loss: 1.2167 - accuracy: 0.6250 - val_loss: 1.2407 - val_accuracy: 0.5385\n",
      "Epoch 68/100\n",
      "4/4 - 0s - loss: 1.1990 - accuracy: 0.6731 - val_loss: 1.2387 - val_accuracy: 0.5769\n",
      "Epoch 69/100\n",
      "4/4 - 0s - loss: 1.1978 - accuracy: 0.7500 - val_loss: 1.2329 - val_accuracy: 0.6923\n",
      "Epoch 70/100\n",
      "4/4 - 0s - loss: 1.1932 - accuracy: 0.7500 - val_loss: 1.2143 - val_accuracy: 0.5385\n",
      "Epoch 71/100\n",
      "4/4 - 0s - loss: 1.1666 - accuracy: 0.7212 - val_loss: 1.1951 - val_accuracy: 0.5385\n",
      "Epoch 72/100\n",
      "4/4 - 0s - loss: 1.1393 - accuracy: 0.7212 - val_loss: 1.1817 - val_accuracy: 0.5385\n",
      "Epoch 73/100\n",
      "4/4 - 0s - loss: 1.1480 - accuracy: 0.6827 - val_loss: 1.1686 - val_accuracy: 0.5769\n",
      "Epoch 74/100\n",
      "4/4 - 0s - loss: 1.1422 - accuracy: 0.6442 - val_loss: 1.1604 - val_accuracy: 0.5385\n",
      "Epoch 75/100\n",
      "4/4 - 0s - loss: 1.1190 - accuracy: 0.7115 - val_loss: 1.1522 - val_accuracy: 0.5385\n",
      "Epoch 76/100\n",
      "4/4 - 0s - loss: 1.1082 - accuracy: 0.7019 - val_loss: 1.1401 - val_accuracy: 0.5769\n",
      "Epoch 77/100\n",
      "4/4 - 0s - loss: 1.1107 - accuracy: 0.6346 - val_loss: 1.1319 - val_accuracy: 0.6154\n",
      "Epoch 78/100\n",
      "4/4 - 0s - loss: 1.1222 - accuracy: 0.7019 - val_loss: 1.1238 - val_accuracy: 0.5769\n",
      "Epoch 79/100\n",
      "4/4 - 0s - loss: 1.0430 - accuracy: 0.7500 - val_loss: 1.1241 - val_accuracy: 0.5769\n",
      "Epoch 80/100\n",
      "4/4 - 0s - loss: 1.0858 - accuracy: 0.6827 - val_loss: 1.1196 - val_accuracy: 0.5769\n",
      "Epoch 81/100\n",
      "4/4 - 0s - loss: 1.0496 - accuracy: 0.7788 - val_loss: 1.1074 - val_accuracy: 0.6154\n",
      "Epoch 82/100\n",
      "4/4 - 0s - loss: 1.0604 - accuracy: 0.7212 - val_loss: 1.0908 - val_accuracy: 0.5385\n",
      "Epoch 83/100\n",
      "4/4 - 0s - loss: 1.0443 - accuracy: 0.6923 - val_loss: 1.0795 - val_accuracy: 0.5385\n",
      "Epoch 84/100\n",
      "4/4 - 0s - loss: 1.0196 - accuracy: 0.7212 - val_loss: 1.0705 - val_accuracy: 0.5385\n"
     ]
    },
    {
     "name": "stdout",
     "output_type": "stream",
     "text": [
      "Epoch 85/100\n",
      "4/4 - 0s - loss: 0.9969 - accuracy: 0.6923 - val_loss: 1.0665 - val_accuracy: 0.7308\n",
      "Epoch 86/100\n",
      "4/4 - 0s - loss: 1.0028 - accuracy: 0.7596 - val_loss: 1.0683 - val_accuracy: 0.7692\n",
      "Epoch 87/100\n",
      "4/4 - 0s - loss: 1.0209 - accuracy: 0.7115 - val_loss: 1.0428 - val_accuracy: 0.6538\n",
      "Epoch 88/100\n",
      "4/4 - 0s - loss: 0.9749 - accuracy: 0.7596 - val_loss: 1.0302 - val_accuracy: 0.5769\n",
      "Epoch 89/100\n",
      "4/4 - 0s - loss: 0.9823 - accuracy: 0.6731 - val_loss: 1.0247 - val_accuracy: 0.5769\n",
      "Epoch 90/100\n",
      "4/4 - 0s - loss: 1.0100 - accuracy: 0.6827 - val_loss: 1.0161 - val_accuracy: 0.5385\n",
      "Epoch 91/100\n",
      "4/4 - 0s - loss: 0.9350 - accuracy: 0.8077 - val_loss: 1.0310 - val_accuracy: 0.8077\n",
      "Epoch 92/100\n",
      "4/4 - 0s - loss: 0.9601 - accuracy: 0.8365 - val_loss: 1.0263 - val_accuracy: 0.7692\n",
      "Epoch 93/100\n",
      "4/4 - 0s - loss: 0.9283 - accuracy: 0.7885 - val_loss: 1.0132 - val_accuracy: 0.7692\n",
      "Epoch 94/100\n",
      "4/4 - 0s - loss: 0.9305 - accuracy: 0.7308 - val_loss: 0.9910 - val_accuracy: 0.6923\n",
      "Epoch 95/100\n",
      "4/4 - 0s - loss: 0.9403 - accuracy: 0.7885 - val_loss: 0.9812 - val_accuracy: 0.6923\n",
      "Epoch 96/100\n",
      "4/4 - 0s - loss: 0.9055 - accuracy: 0.7692 - val_loss: 0.9951 - val_accuracy: 0.7308\n",
      "Epoch 97/100\n",
      "4/4 - 0s - loss: 0.9130 - accuracy: 0.7596 - val_loss: 0.9809 - val_accuracy: 0.7692\n",
      "Epoch 98/100\n",
      "4/4 - 0s - loss: 0.9002 - accuracy: 0.7692 - val_loss: 0.9648 - val_accuracy: 0.6538\n",
      "Epoch 99/100\n",
      "4/4 - 0s - loss: 0.8578 - accuracy: 0.7981 - val_loss: 0.9687 - val_accuracy: 0.8077\n",
      "Epoch 100/100\n",
      "4/4 - 0s - loss: 0.8704 - accuracy: 0.8077 - val_loss: 0.9519 - val_accuracy: 0.7308\n",
      "24.408490657806396\n"
     ]
    }
   ],
   "source": [
    "import time\n",
    "start = time.time()\n",
    "#history = model.fit(X_train, y_train, batch_size=32, steps_per_epoch=len(y_train)/32, epochs=100, verbose=2, validation_data=(X_dev, y_dev),callbacks=[tensorboard])\n",
    "history = model.fit(X_train, y_train, batch_size=32, epochs=100, verbose=2, validation_data=(X_dev, y_dev))\n",
    "print (time.time() - start)\n",
    "\n"
   ]
  },
  {
   "cell_type": "markdown",
   "metadata": {},
   "source": [
    "### 8. Get the results"
   ]
  },
  {
   "cell_type": "code",
   "execution_count": 27,
   "metadata": {},
   "outputs": [
    {
     "data": {
      "image/png": "[encoded data removed]",
      "text/plain": [
       "<Figure size 576x360 with 1 Axes>"
      ]
     },
     "metadata": {
      "needs_background": "light"
     },
     "output_type": "display_data"
    }
   ],
   "source": [
    "results=pd.DataFrame(history.history)\n",
    "results.plot(figsize=(8, 5))\n",
    "plt.grid(True)\n",
    "plt.xlabel (\"Epochs\")\n",
    "plt.ylabel (\"Accuracy - Mean Log Loss\")\n",
    "plt.gca().set_ylim(0, 2) # set the vertical range to [0-1]\n",
    "plt.show()\n",
    "\n",
    "# categorical_accuracy es el training accuracy\n",
    "# val_categorical_accuracy es el validation accuracy\n",
    "# loss es el training loss\n",
    "# val_loss es el validation loss\n",
    "\n",
    "# Overfitting:\n",
    "# Por un lado la Accuracy de los datos de entrenamiento aumenta con las epochs,\n",
    "# mientras que la Accuracy de los datos de validación disminuye o se mantiene constante a lo largo de las epochs. \n",
    "# La Loss de los datos de validación alcanza su mínimo después de pocos epochs y luego empieza a subir, \n",
    "# mientras que la Loss de los datos de entrenamiento disminuye linealmente."
   ]
  },
  {
   "cell_type": "code",
   "execution_count": 28,
   "metadata": {},
   "outputs": [
    {
     "data": {
      "text/plain": [
       "{'verbose': 2, 'epochs': 100, 'steps': 4}"
      ]
     },
     "execution_count": 28,
     "metadata": {},
     "output_type": "execute_result"
    }
   ],
   "source": [
    "history.params"
   ]
  },
  {
   "cell_type": "code",
   "execution_count": 29,
   "metadata": {},
   "outputs": [
    {
     "data": {
      "text/html": [
       "<div>\n",
       "<style scoped>\n",
       "    .dataframe tbody tr th:only-of-type {\n",
       "        vertical-align: middle;\n",
       "    }\n",
       "\n",
       "    .dataframe tbody tr th {\n",
       "        vertical-align: top;\n",
       "    }\n",
       "\n",
       "    .dataframe thead th {\n",
       "        text-align: right;\n",
       "    }\n",
       "</style>\n",
       "<table border=\"1\" class=\"dataframe\">\n",
       "  <thead>\n",
       "    <tr style=\"text-align: right;\">\n",
       "      <th></th>\n",
       "      <th>loss</th>\n",
       "      <th>accuracy</th>\n",
       "      <th>val_loss</th>\n",
       "      <th>val_accuracy</th>\n",
       "    </tr>\n",
       "  </thead>\n",
       "  <tbody>\n",
       "    <tr>\n",
       "      <th>99</th>\n",
       "      <td>0.870418</td>\n",
       "      <td>0.807692</td>\n",
       "      <td>0.951864</td>\n",
       "      <td>0.730769</td>\n",
       "    </tr>\n",
       "  </tbody>\n",
       "</table>\n",
       "</div>"
      ],
      "text/plain": [
       "        loss  accuracy  val_loss  val_accuracy\n",
       "99  0.870418  0.807692  0.951864      0.730769"
      ]
     },
     "execution_count": 29,
     "metadata": {},
     "output_type": "execute_result"
    }
   ],
   "source": [
    "results[-1:]"
   ]
  },
  {
   "cell_type": "code",
   "execution_count": 30,
   "metadata": {},
   "outputs": [
    {
     "name": "stdout",
     "output_type": "stream",
     "text": [
      "Accuracy for the training set:  0.807692289352417\n"
     ]
    }
   ],
   "source": [
    "print (\"Accuracy for the training set: \", results.values[-1:][0][1])"
   ]
  },
  {
   "cell_type": "code",
   "execution_count": 31,
   "metadata": {},
   "outputs": [
    {
     "name": "stdout",
     "output_type": "stream",
     "text": [
      "Accuracy for the development test set:  0.7307692170143127\n"
     ]
    }
   ],
   "source": [
    "print (\"Accuracy for the development test set: \", results.values[-1:][0][3])"
   ]
  },
  {
   "cell_type": "markdown",
   "metadata": {},
   "source": [
    "#### Let's see how the model predicts using the development test set:"
   ]
  },
  {
   "cell_type": "code",
   "execution_count": 32,
   "metadata": {},
   "outputs": [
    {
     "data": {
      "text/plain": [
       "array([[0.55, 0.45],\n",
       "       [0.52, 0.48],\n",
       "       [0.56, 0.44],\n",
       "       [0.28, 0.72],\n",
       "       [0.24, 0.76],\n",
       "       [0.22, 0.78],\n",
       "       [0.18, 0.82],\n",
       "       [0.13, 0.87],\n",
       "       [0.13, 0.87],\n",
       "       [0.21, 0.79],\n",
       "       [0.14, 0.86],\n",
       "       [0.54, 0.46],\n",
       "       [0.55, 0.45],\n",
       "       [0.49, 0.51],\n",
       "       [0.49, 0.51],\n",
       "       [0.37, 0.63],\n",
       "       [0.45, 0.55],\n",
       "       [0.53, 0.47],\n",
       "       [0.5 , 0.5 ],\n",
       "       [0.66, 0.34]], dtype=float32)"
      ]
     },
     "execution_count": 32,
     "metadata": {},
     "output_type": "execute_result"
    }
   ],
   "source": [
    "dev_predictions=model.predict(X_dev).round(2) \n",
    "dev_predictions[:20]"
   ]
  },
  {
   "cell_type": "code",
   "execution_count": 33,
   "metadata": {},
   "outputs": [
    {
     "data": {
      "text/plain": [
       "array([[1., 0.],\n",
       "       [1., 0.],\n",
       "       [1., 0.],\n",
       "       [0., 1.],\n",
       "       [0., 1.],\n",
       "       [0., 1.],\n",
       "       [0., 1.],\n",
       "       [0., 1.],\n",
       "       [0., 1.],\n",
       "       [0., 1.],\n",
       "       [0., 1.],\n",
       "       [1., 0.],\n",
       "       [1., 0.],\n",
       "       [0., 1.],\n",
       "       [0., 1.],\n",
       "       [0., 1.],\n",
       "       [0., 1.],\n",
       "       [1., 0.],\n",
       "       [1., 0.],\n",
       "       [1., 0.]], dtype=float32)"
      ]
     },
     "execution_count": 33,
     "metadata": {},
     "output_type": "execute_result"
    }
   ],
   "source": [
    "dev_rounded_predictions=np.round(dev_predictions)\n",
    "indices = np.argmax(dev_predictions,1)\n",
    "for row, index in zip(dev_rounded_predictions, indices): row[index]=1\n",
    "dev_rounded_predictions[:20]"
   ]
  },
  {
   "cell_type": "code",
   "execution_count": 34,
   "metadata": {},
   "outputs": [
    {
     "data": {
      "text/plain": [
       "array([[1., 0.],\n",
       "       [1., 0.],\n",
       "       [1., 0.],\n",
       "       [0., 1.],\n",
       "       [0., 1.],\n",
       "       [0., 1.],\n",
       "       [0., 1.],\n",
       "       [0., 1.],\n",
       "       [0., 1.],\n",
       "       [0., 1.],\n",
       "       [0., 1.],\n",
       "       [1., 0.],\n",
       "       [1., 0.],\n",
       "       [1., 0.],\n",
       "       [1., 0.],\n",
       "       [1., 0.],\n",
       "       [0., 1.],\n",
       "       [0., 1.],\n",
       "       [0., 1.],\n",
       "       [0., 1.]])"
      ]
     },
     "execution_count": 34,
     "metadata": {},
     "output_type": "execute_result"
    }
   ],
   "source": [
    "y_dev[:20]"
   ]
  },
  {
   "cell_type": "code",
   "execution_count": 35,
   "metadata": {},
   "outputs": [
    {
     "name": "stdout",
     "output_type": "stream",
     "text": [
      "[ True  True  True  True  True  True  True  True  True  True  True  True\n",
      "  True False False False  True False False False False  True  True  True\n",
      "  True False]\n"
     ]
    }
   ],
   "source": [
    "dev_correct_predictions = np.equal(np.argmax(dev_rounded_predictions,1),np.argmax(y_dev,1))\n",
    "print (dev_correct_predictions[:30])"
   ]
  },
  {
   "cell_type": "code",
   "execution_count": 36,
   "metadata": {},
   "outputs": [
    {
     "data": {
      "text/plain": [
       "Counter({True: 18, False: 8})"
      ]
     },
     "execution_count": 36,
     "metadata": {},
     "output_type": "execute_result"
    }
   ],
   "source": [
    "from collections import Counter\n",
    "Counter (dev_correct_predictions)"
   ]
  },
  {
   "cell_type": "markdown",
   "metadata": {},
   "source": [
    "### 9. Save model"
   ]
  },
  {
   "cell_type": "markdown",
   "metadata": {},
   "source": [
    "We save the model if it is better than others "
   ]
  },
  {
   "cell_type": "code",
   "execution_count": 37,
   "metadata": {},
   "outputs": [],
   "source": [
    "# Save\n",
    "model.save('./Modelos/CNN_model4_ce_PARES_DIA29.h5') # Change the name in each model"
   ]
  },
  {
   "cell_type": "code",
   "execution_count": 38,
   "metadata": {},
   "outputs": [
    {
     "data": {
      "text/plain": [
       "\"\\nnew_model = keras.models.load_model('./Modelos/EGG_prac1_ANN_model3.h5')\\n\\nimport numpy as np\\n\\n# Verify state\\nnew_predictions = new_model.predict(X_dev)\\nnp.testing.assert_allclose(predictions, new_predictions, rtol=1e-6, atol=1e-6)\\n\\n# Note that the optimizer state is also preserved:\\n# you can resume training where you left off.\\n\""
      ]
     },
     "execution_count": 38,
     "metadata": {},
     "output_type": "execute_result"
    }
   ],
   "source": [
    "# Extract\n",
    "\"\"\"\n",
    "new_model = keras.models.load_model('./Modelos/EGG_prac1_ANN_model3.h5')\n",
    "\n",
    "import numpy as np\n",
    "\n",
    "# Verify state\n",
    "new_predictions = new_model.predict(X_dev)\n",
    "np.testing.assert_allclose(predictions, new_predictions, rtol=1e-6, atol=1e-6)\n",
    "\n",
    "# Note that the optimizer state is also preserved:\n",
    "# you can resume training where you left off.\n",
    "\"\"\""
   ]
  },
  {
   "cell_type": "code",
   "execution_count": null,
   "metadata": {},
   "outputs": [],
   "source": []
  },
  {
   "cell_type": "code",
   "execution_count": null,
   "metadata": {},
   "outputs": [],
   "source": []
  },
  {
   "cell_type": "code",
   "execution_count": null,
   "metadata": {},
   "outputs": [],
   "source": []
  },
  {
   "cell_type": "markdown",
   "metadata": {},
   "source": [
    "### 10 - Final Test\n",
    "\n",
    "#### 10.1 - Load the final test set"
   ]
  },
  {
   "cell_type": "markdown",
   "metadata": {},
   "source": [
    "#### 10.2 - Evaluate the model"
   ]
  },
  {
   "cell_type": "code",
   "execution_count": 39,
   "metadata": {},
   "outputs": [],
   "source": [
    "\n",
    "from collections import Counter\n",
    "def predictWithModel(model, X_test, y_test, task1, task2, task3=\"\"):\n",
    "    model.evaluate(X_test, y_test)\n",
    "    test_predictions = model.predict(X_test)\n",
    "    test_rounded_predictions=np.round(test_predictions)\n",
    "    indices = np.argmax(test_predictions,1)\n",
    "    for row, index in zip(test_rounded_predictions, indices): row[index]=1\n",
    "    print(test_rounded_predictions[:20])\n",
    "    \n",
    "    # ACCURACY:\n",
    "    test_correct_predictions = np.equal(np.argmax(test_rounded_predictions,1),np.argmax(y_test,1))\n",
    "    print()\n",
    "    print(test_correct_predictions)\n",
    "    print(type(test_correct_predictions))\n",
    "    final_test_prediction_results=Counter(test_correct_predictions)\n",
    "    \n",
    "    success = np.mean(test_rounded_predictions == y_test)*100\n",
    "    \n",
    "    return final_test_prediction_results, success\n"
   ]
  },
  {
   "cell_type": "code",
   "execution_count": 40,
   "metadata": {},
   "outputs": [
    {
     "name": "stdout",
     "output_type": "stream",
     "text": [
      "1/1 [==============================] - 0s 22ms/step - loss: 0.9699 - accuracy: 0.6154\n",
      "[[1. 0.]\n",
      " [1. 0.]\n",
      " [1. 0.]\n",
      " [1. 0.]\n",
      " [1. 0.]\n",
      " [0. 1.]\n",
      " [0. 1.]\n",
      " [0. 1.]\n",
      " [1. 0.]\n",
      " [1. 0.]\n",
      " [0. 1.]\n",
      " [1. 0.]\n",
      " [0. 1.]]\n",
      "\n",
      "[ True  True  True False False  True  True  True False False  True  True\n",
      " False]\n",
      "<class 'numpy.ndarray'>\n",
      "Counter({True: 8, False: 5}) 61.53846153846154\n",
      "\n"
     ]
    }
   ],
   "source": [
    "accuracy, success = predictWithModel(model, X_test, y_test, 402,404)\n",
    "print(accuracy, success)\n",
    "print()"
   ]
  },
  {
   "cell_type": "code",
   "execution_count": null,
   "metadata": {},
   "outputs": [],
   "source": []
  },
  {
   "cell_type": "raw",
   "metadata": {},
   "source": []
  }
 ],
 "metadata": {
  "kernelspec": {
   "display_name": "Python 3",
   "language": "python",
   "name": "python3"
  },
  "language_info": {
   "codemirror_mode": {
    "name": "ipython",
    "version": 3
   },
   "file_extension": ".py",
   "mimetype": "text/x-python",
   "name": "python",
   "nbconvert_exporter": "python",
   "pygments_lexer": "ipython3",
   "version": "3.8.5"
  }
 },
 "nbformat": 4,
 "nbformat_minor": 4
}
