{
 "cells": [
  {
   "cell_type": "markdown",
   "metadata": {},
   "source": [
    "# Parte 4: Clasificación con CNN"
   ]
  },
  {
   "cell_type": "markdown",
   "metadata": {},
   "source": [
    "### Resultados con la arquitectura anterior: "
   ]
  },
  {
   "cell_type": "markdown",
   "metadata": {},
   "source": []
  },
  {
   "cell_type": "markdown",
   "metadata": {},
   "source": [
    "### Nuevos resultados: "
   ]
  },
  {
   "cell_type": "markdown",
   "metadata": {},
   "source": [
    "\n",
    "\n",
    "Resultados:\n",
    "    \n",
    "    TRAIN                   DEV\n",
    "    loss       accuracy     val_loss    val_accuracy\n",
    "    0.656724\t0.634615\t0.708081\t0.615385\n",
    "    \n",
    "Por tanto: \n",
    "\n",
    "    E = 1 - Accuracy\n",
    "    Etrain = 1 - 0.634615 = 0.365385\n",
    "    Etest = 1 - 0.615385 = 0.384615\n",
    "    \n",
    "    Bias = Etrain - Ehuman = 0.365385\n",
    "    Variance = Etest - Etrain = 0.384615 - 0.365385 = 0.01923\n",
    "\n",
    "Son los mejores resultados que se ha conseguido alcanzar, se selecciona este."
   ]
  },
  {
   "cell_type": "markdown",
   "metadata": {},
   "source": [
    "### 1 - Import Libraries"
   ]
  },
  {
   "cell_type": "code",
   "execution_count": 1,
   "metadata": {},
   "outputs": [],
   "source": [
    "# Tensorflow and tf.keras\n",
    "import tensorflow as tf\n",
    "from tensorflow import keras\n",
    "\n",
    "#Helper libraries\n",
    "import matplotlib.pyplot as plt\n",
    "import pandas as pd\n",
    "import numpy as np\n",
    "\n",
    "# Signal libraries\n",
    "from scipy import signal\n"
   ]
  },
  {
   "cell_type": "markdown",
   "metadata": {},
   "source": [
    "### 2 - Load data"
   ]
  },
  {
   "cell_type": "code",
   "execution_count": 2,
   "metadata": {},
   "outputs": [],
   "source": [
    "class ROutput:\n",
    "    def __init__(self, task, data):\n",
    "        self.task = task\n",
    "        self.data = data\n",
    "        \n",
    "class OutTaskData: \n",
    "    def __init__(self, task, data): \n",
    "        self.task = task\n",
    "        self.data = data"
   ]
  },
  {
   "cell_type": "code",
   "execution_count": 3,
   "metadata": {},
   "outputs": [],
   "source": [
    "import scipy.io as sio\n",
    "# Primero leemos los registros\n",
    "def read_outputs(rec):\n",
    "    '''read_outputs(\"userS0091f1.mat\")'''\n",
    "    mat = sio.loadmat(rec)\n",
    "    mdata = mat['session']\n",
    "    val = mdata[0,0]\n",
    "    #output = ROutput(np.array(val[\"task\"]), np.array(val[\"data\"]))\n",
    "    output = ROutput(np.array(val[\"task_EEG_p\"]), np.array(val[\"data_processed_EEG\"]))\n",
    "    return output"
   ]
  },
  {
   "cell_type": "markdown",
   "metadata": {},
   "source": [
    "### Cargamos los datos"
   ]
  },
  {
   "cell_type": "code",
   "execution_count": 4,
   "metadata": {},
   "outputs": [],
   "source": [
    "# Configuración\n",
    "from sklearn.pipeline import make_pipeline\n",
    "from sklearn.preprocessing import StandardScaler, OneHotEncoder\n",
    "from sklearn.linear_model import Perceptron\n",
    "from keras.utils import to_categorical\n",
    "\n",
    "\n",
    "task1 = 402 # SE PUEDE CAMBIAR\n",
    "task2 = 404 # SE PUEDE CAMBIAR\n",
    "task_OneHotEnconding = {402: [1.,0.], 404: [0.,1.]}\n",
    "user = 'W29' # SE PUEDE CAMBIAR\n",
    "day = '0331'\n",
    "folder_day = 'W29-31_03_2021'\n",
    "total_records = 22 # CAMBIAR SI HAY MAS REGISTROS\n",
    "fm = 200\n",
    "electrodes_names_selected = ['F3', 'FZ', 'FC1','FCZ','C1','CZ','CP1','CPZ', 'FC5', 'FC3','C5','C3','CP5','CP3','P3',\n",
    "                             'PZ','F4','FC2','FC4','FC6','C2','C4','CP2','CP4','C6','CP6','P4','HR' ,'HL', 'VU', 'VD']\n",
    "number_channels = len(electrodes_names_selected)"
   ]
  },
  {
   "cell_type": "code",
   "execution_count": 5,
   "metadata": {},
   "outputs": [
    {
     "name": "stdout",
     "output_type": "stream",
     "text": [
      "11 22\n"
     ]
    }
   ],
   "source": [
    "lTaskData = []\n",
    "total_records_used = 0\n",
    "for i_rec in range(1,total_records+1):\n",
    "    i_rec_record = i_rec\n",
    "    if i_rec_record <10:\n",
    "        i_rec_record = \"0\"+str(i_rec_record)\n",
    "    if i_rec % 2 != 0: # Registros impares primero: USUARIO SIN MOVIMIENTO SOLO PENSANDO\n",
    "        record = \"./RegistrosProcesados2/\"+folder_day+\"/W29_2021\"+day+\"_openloop_\"+str(i_rec_record)+\"_processed.mat\"\n",
    "        output = read_outputs(record) # output.task será y, output.data será x\n",
    "\n",
    "\n",
    "        output.task = np.transpose(output.task)\n",
    "        output.data = output.data.reshape((np.shape(output.data)[0],np.shape(output.data)[1]))\n",
    "        output.data = np.transpose(output.data)\n",
    "        #output.data = output.data.reshape((np.shape(output.data)[0],np.shape(output.data)[1],1))\n",
    "\n",
    "        outT = (output.task == task1) | (output.task == task2)\n",
    "        outData = output.data[0:np.shape(output.data)[0], outT[0,:]]\n",
    "        outTask = output.task[0, outT[0,:]]\n",
    "        outTD = OutTaskData(outTask, outData)\n",
    "\n",
    "        lTaskData.append(outTD)\n",
    "        total_records_used+=1\n",
    "print(total_records_used, total_records)"
   ]
  },
  {
   "cell_type": "code",
   "execution_count": 6,
   "metadata": {},
   "outputs": [
    {
     "name": "stdout",
     "output_type": "stream",
     "text": [
      "X_train: (8, 32, 49)\n",
      "y_train: (8, 49)\n",
      "X_dev: (2, 32, 49)\n",
      "y_dev: (2, 49)\n",
      "X_test: (1, 32, 49)\n",
      "y_test: (1, 49)\n",
      "ONE HOT ENCODER:\n",
      "X_train: (104, 32, 5, 1)\n",
      "y_train: (104, 2)\n",
      "X_dev: (26, 32, 5, 1)\n",
      "y_dev: (26, 2)\n",
      "X_test: (13, 32, 5, 1)\n",
      "y_test: (13, 2)\n"
     ]
    }
   ],
   "source": [
    "# Vamos a coger 2 registros para el entrenamiento, 1 para el conjunto dev set, 1 para el test set\n",
    "X_train, y_train, X_dev, y_dev, X_test, y_test = [],[],[],[],[],[] \n",
    "for j in range(0,total_records_used-3): # Cogemos 18 registros para entrenamiento\n",
    "    X_train.append(lTaskData[j].data)\n",
    "    y_train.append(lTaskData[j].task)\n",
    "\n",
    "for j in range(total_records_used-3,total_records_used-1): # Cogemos 2 registros para el dev set\n",
    "    X_dev.append(lTaskData[j].data)\n",
    "    y_dev.append(lTaskData[j].task)\n",
    "for j in range(total_records_used-1,total_records_used): # Cogemos 2 registros para el test set\n",
    "    X_test.append(lTaskData[j].data)\n",
    "    y_test.append(lTaskData[j].task)\n",
    "\n",
    "X_train = np.array(X_train)\n",
    "#y_train = np.ravel(np.array(y_train))\n",
    "y_train = np.array(y_train)\n",
    "X_dev = np.array(X_dev)\n",
    "#y_dev = np.ravel(np.array(y_dev))\n",
    "y_dev = np.array(y_dev)\n",
    "X_test = np.array(X_test)\n",
    "y_test = np.array(y_test)\n",
    "#y_test = np.ravel(np.array(y_test))\n",
    "\n",
    "print (\"X_train:\",X_train.shape)\n",
    "print (\"y_train:\",y_train.shape)\n",
    "print (\"X_dev:\",X_dev.shape)\n",
    "print (\"y_dev:\",y_dev.shape)\n",
    "print (\"X_test:\",X_test.shape)\n",
    "print (\"y_test:\",y_test.shape)\n",
    "\n",
    "\n",
    "\n",
    "\n",
    "\n",
    "# VENTANEO Y ONE HOT ENCODING \n",
    "window = 5\n",
    "samples_advance = 3\n",
    "\n",
    "# Ventaneo X_train\n",
    "\n",
    "X_train_l = []\n",
    "y_train_l = []\n",
    "for num_X_train in range(np.shape(X_train)[0]): # Para no mezclar registros\n",
    "    win_init = int(0)\n",
    "    window_position = 0\n",
    "    \n",
    "    for i in range(np.shape(X_train)[2]): # For each signal registered\n",
    "        win_end = int(win_init + window)\n",
    "        if win_end >= np.shape(X_train)[2]:\n",
    "            break\n",
    "\n",
    "        task = np.unique(y_train[num_X_train,win_init:win_end])\n",
    "\n",
    "        if len(task)==1:\n",
    "        #if task1 in task or task2 in task:\n",
    "            signal_window = X_train[num_X_train, :, win_init:win_end]\n",
    "            \n",
    "            #data_filtered = preprocessing(signal_window, fm, number_channels)\n",
    "            #X_train_l.append(data_filtered)\n",
    "            X_train_l.append(signal_window)\n",
    "            taskOH = task_OneHotEnconding[task[0]]\n",
    "            y_train_l.append(taskOH)\n",
    "            \n",
    "        win_init += int(samples_advance)\n",
    "\n",
    "X_train_l = np.array(X_train_l)\n",
    "y_train_l = np.array(y_train_l)\n",
    "\n",
    "\n",
    "# Ventaneo X_dev\n",
    "X_dev_l = []\n",
    "y_dev_l = []\n",
    "for num_X_dev in range(np.shape(X_dev)[0]):\n",
    "    win_init = int(0)\n",
    "    window_position = 0\n",
    "    \n",
    "    for i in range(np.shape(X_dev)[2]): # For each signal registered\n",
    "        win_end = int(win_init + window)\n",
    "        if win_end >= np.shape(X_dev)[2]:\n",
    "            break\n",
    "\n",
    "        task = np.unique(y_dev[num_X_dev,win_init:win_end])\n",
    "\n",
    "        if len(task)==1:\n",
    "        #if task1 in task or task2 in task:\n",
    "            signal_window = X_dev[num_X_dev, :, win_init:win_end]\n",
    "            \n",
    "            #data_filtered = preprocessing(signal_window, fm, number_channels)\n",
    "            #X_train_l.append(data_filtered)\n",
    "            X_dev_l.append(signal_window)\n",
    "            taskOH = task_OneHotEnconding[task[0]]\n",
    "            y_dev_l.append(taskOH)\n",
    "            \n",
    "        win_init += int(samples_advance)\n",
    "\n",
    "X_dev_l = np.array(X_dev_l)\n",
    "y_dev_l = np.array(y_dev_l)\n",
    "\n",
    "# Ventaneo X_test\n",
    "X_test_l = []\n",
    "y_test_l = []\n",
    "for num_X_test in range(np.shape(X_test)[0]): \n",
    "    win_init = int(0)\n",
    "    window_position = 0\n",
    "    \n",
    "    for i in range(np.shape(X_test)[2]): # For each signal registered\n",
    "        win_end = int(win_init + window)\n",
    "        if win_end >= np.shape(X_test)[2]:\n",
    "            break\n",
    "\n",
    "        task = np.unique(y_test[num_X_test,win_init:win_end])\n",
    "\n",
    "        if len(task)==1:\n",
    "        #if task1 in task or task2 in task:\n",
    "            signal_window = X_test[num_X_test, :, win_init:win_end]\n",
    "            \n",
    "            #data_filtered = preprocessing(signal_window, fm, number_channels)\n",
    "            #X_train_l.append(data_filtered)\n",
    "            X_test_l.append(signal_window)\n",
    "            taskOH = task_OneHotEnconding[task[0]]\n",
    "            y_test_l.append(taskOH)\n",
    "            \n",
    "        win_init += int(samples_advance)\n",
    "\n",
    "X_test_l = np.array(X_test_l)\n",
    "y_test_l = np.array(y_test_l)\n",
    "\n",
    "\n",
    "\n",
    "\n",
    "X_train_l = X_train_l.reshape((np.shape(X_train_l)[0],np.shape(X_train_l)[1],np.shape(X_train_l)[2], 1))\n",
    "X_dev_l = X_dev_l.reshape((np.shape(X_dev_l)[0],np.shape(X_dev_l)[1],np.shape(X_dev_l)[2], 1))\n",
    "X_test_l = X_test_l.reshape((np.shape(X_test_l)[0],np.shape(X_test_l)[1],np.shape(X_test_l)[2], 1))\n",
    "\n",
    "\n",
    "print(\"ONE HOT ENCODER:\")\n",
    "print (\"X_train:\",X_train_l.shape)\n",
    "print (\"y_train:\",y_train_l.shape)\n",
    "print (\"X_dev:\",X_dev_l.shape)\n",
    "print (\"y_dev:\",y_dev_l.shape)\n",
    "print (\"X_test:\",X_test_l.shape)\n",
    "print (\"y_test:\",y_test_l.shape)\n",
    "\n",
    "X_train = X_train_l\n",
    "y_train = y_train_l\n",
    "X_dev = X_dev_l\n",
    "y_dev = y_dev_l\n",
    "X_test = X_test_l\n",
    "y_test = y_test_l"
   ]
  },
  {
   "cell_type": "markdown",
   "metadata": {},
   "source": [
    "### 3. Initialize variables"
   ]
  },
  {
   "cell_type": "code",
   "execution_count": 7,
   "metadata": {},
   "outputs": [],
   "source": [
    "INPUTS = X_train.shape[1]\n",
    "OUTPUTS = y_train.shape[1]\n",
    "NUM_TRAINING_EXAMPLES = int(round(X_train.shape[0]/1))\n",
    "NUM_DEV_EXAMPLES = int(round(y_train.shape[0]/1))"
   ]
  },
  {
   "cell_type": "markdown",
   "metadata": {},
   "source": [
    "Some data is displayed to test correctness:"
   ]
  },
  {
   "cell_type": "code",
   "execution_count": 8,
   "metadata": {},
   "outputs": [
    {
     "data": {
      "text/plain": [
       "array([[[[-0.69794817],\n",
       "         [-0.65693668],\n",
       "         [-0.66549321],\n",
       "         [-0.73521513],\n",
       "         [-0.85605601]],\n",
       "\n",
       "        [[-1.28983663],\n",
       "         [-1.27727091],\n",
       "         [-1.24748728],\n",
       "         [-1.14830754],\n",
       "         [-0.95710869]],\n",
       "\n",
       "        [[-0.84567598],\n",
       "         [-0.96800875],\n",
       "         [-0.91521655],\n",
       "         [-0.89078192],\n",
       "         [-0.78157353]],\n",
       "\n",
       "        [[-0.81385613],\n",
       "         [-0.69065083],\n",
       "         [-0.81305202],\n",
       "         [-0.86722609],\n",
       "         [-1.0999128 ]],\n",
       "\n",
       "        [[-0.88393197],\n",
       "         [-1.20188405],\n",
       "         [-0.97247892],\n",
       "         [-0.90300479],\n",
       "         [-0.97959012]],\n",
       "\n",
       "        [[-1.01606962],\n",
       "         [-1.01194674],\n",
       "         [-0.95554705],\n",
       "         [-0.95789445],\n",
       "         [-0.85623071]],\n",
       "\n",
       "        [[-0.99969377],\n",
       "         [-1.00756128],\n",
       "         [-1.0077089 ],\n",
       "         [-0.9297008 ],\n",
       "         [-1.01706559]],\n",
       "\n",
       "        [[-0.90320051],\n",
       "         [-0.80418893],\n",
       "         [-0.86487487],\n",
       "         [-0.89342453],\n",
       "         [-0.7816886 ]],\n",
       "\n",
       "        [[-1.13698535],\n",
       "         [-1.05111209],\n",
       "         [-1.20252179],\n",
       "         [-1.29155691],\n",
       "         [-1.40933778]],\n",
       "\n",
       "        [[-0.9508808 ],\n",
       "         [-0.89926552],\n",
       "         [-0.87856022],\n",
       "         [-0.89372228],\n",
       "         [-1.05340132]],\n",
       "\n",
       "        [[-0.60404368],\n",
       "         [-0.71891286],\n",
       "         [-0.78590477],\n",
       "         [-0.68841871],\n",
       "         [-0.86088047]],\n",
       "\n",
       "        [[-1.04402751],\n",
       "         [-1.06149443],\n",
       "         [-1.02238494],\n",
       "         [-0.97138811],\n",
       "         [-0.91191046]],\n",
       "\n",
       "        [[-0.71343727],\n",
       "         [-0.84746447],\n",
       "         [-0.7569746 ],\n",
       "         [-0.84055752],\n",
       "         [-0.93782211]],\n",
       "\n",
       "        [[-0.98902166],\n",
       "         [-0.96580376],\n",
       "         [-0.96404689],\n",
       "         [-0.90623437],\n",
       "         [-0.97208438]],\n",
       "\n",
       "        [[-1.10891323],\n",
       "         [-0.93644987],\n",
       "         [-0.88903462],\n",
       "         [-1.00196308],\n",
       "         [-0.83333499]],\n",
       "\n",
       "        [[-0.99126896],\n",
       "         [-0.85033295],\n",
       "         [-0.87427491],\n",
       "         [-0.84943536],\n",
       "         [-0.61341232]],\n",
       "\n",
       "        [[-1.19123009],\n",
       "         [-1.03732851],\n",
       "         [-1.03510335],\n",
       "         [-1.13345604],\n",
       "         [-1.3233562 ]],\n",
       "\n",
       "        [[-0.60774546],\n",
       "         [-0.70090407],\n",
       "         [-0.69095655],\n",
       "         [-0.76182638],\n",
       "         [-0.72898299]],\n",
       "\n",
       "        [[-0.82309686],\n",
       "         [-0.98500044],\n",
       "         [-0.8659993 ],\n",
       "         [-0.55628115],\n",
       "         [-0.50115712]],\n",
       "\n",
       "        [[-0.76034697],\n",
       "         [-0.86175497],\n",
       "         [-1.04226446],\n",
       "         [-0.97129618],\n",
       "         [-0.90912593]],\n",
       "\n",
       "        [[-0.89466157],\n",
       "         [-0.89649297],\n",
       "         [-0.86021542],\n",
       "         [-1.04736927],\n",
       "         [-1.04561571]],\n",
       "\n",
       "        [[-1.04751796],\n",
       "         [-0.78488205],\n",
       "         [-0.81109174],\n",
       "         [-1.05471018],\n",
       "         [-1.12178722]],\n",
       "\n",
       "        [[-1.27764685],\n",
       "         [-1.12859535],\n",
       "         [-1.09107456],\n",
       "         [-1.03827912],\n",
       "         [-1.05114717]],\n",
       "\n",
       "        [[-1.02184079],\n",
       "         [-0.98825608],\n",
       "         [-0.98454057],\n",
       "         [-1.00266509],\n",
       "         [-1.13826553]],\n",
       "\n",
       "        [[-1.41575899],\n",
       "         [-1.29745033],\n",
       "         [-1.06296897],\n",
       "         [-0.99175949],\n",
       "         [-1.04789917]],\n",
       "\n",
       "        [[-0.9020839 ],\n",
       "         [-0.92673606],\n",
       "         [-0.9269378 ],\n",
       "         [-0.8038248 ],\n",
       "         [-0.92613217]],\n",
       "\n",
       "        [[-1.09122914],\n",
       "         [-1.06426851],\n",
       "         [-1.10796417],\n",
       "         [-1.13294199],\n",
       "         [-1.15105696]],\n",
       "\n",
       "        [[-0.59715991],\n",
       "         [-0.52563493],\n",
       "         [-0.77087048],\n",
       "         [-0.85154127],\n",
       "         [-0.68427887]],\n",
       "\n",
       "        [[-1.00345585],\n",
       "         [-1.13183561],\n",
       "         [-1.32013323],\n",
       "         [-1.0873303 ],\n",
       "         [-1.0880828 ]],\n",
       "\n",
       "        [[-0.85754553],\n",
       "         [-1.02638094],\n",
       "         [-0.81625687],\n",
       "         [-0.79366514],\n",
       "         [-0.76819957]],\n",
       "\n",
       "        [[-0.899792  ],\n",
       "         [-0.8906719 ],\n",
       "         [-0.75359036],\n",
       "         [-0.86377571],\n",
       "         [-0.88354609]],\n",
       "\n",
       "        [[-0.85871644],\n",
       "         [-0.82300369],\n",
       "         [-0.76745194],\n",
       "         [-0.83222488],\n",
       "         [-0.88116677]]],\n",
       "\n",
       "\n",
       "       [[[-0.73521513],\n",
       "         [-0.85605601],\n",
       "         [-1.05423235],\n",
       "         [-0.98776034],\n",
       "         [-1.12739695]],\n",
       "\n",
       "        [[-1.14830754],\n",
       "         [-0.95710869],\n",
       "         [-0.93611229],\n",
       "         [-1.08949563],\n",
       "         [-1.14481041]],\n",
       "\n",
       "        [[-0.89078192],\n",
       "         [-0.78157353],\n",
       "         [-0.48221324],\n",
       "         [-0.48901619],\n",
       "         [-0.59786011]],\n",
       "\n",
       "        [[-0.86722609],\n",
       "         [-1.0999128 ],\n",
       "         [-1.26392154],\n",
       "         [-1.29199125],\n",
       "         [-1.00495004]],\n",
       "\n",
       "        [[-0.90300479],\n",
       "         [-0.97959012],\n",
       "         [-1.06540798],\n",
       "         [-1.10555576],\n",
       "         [-1.02819592]],\n",
       "\n",
       "        [[-0.95789445],\n",
       "         [-0.85623071],\n",
       "         [-0.99169286],\n",
       "         [-0.87204372],\n",
       "         [-0.87977713]],\n",
       "\n",
       "        [[-0.9297008 ],\n",
       "         [-1.01706559],\n",
       "         [-1.03022767],\n",
       "         [-0.8956221 ],\n",
       "         [-0.80003618]],\n",
       "\n",
       "        [[-0.89342453],\n",
       "         [-0.7816886 ],\n",
       "         [-0.88353439],\n",
       "         [-0.99770032],\n",
       "         [-0.9266546 ]],\n",
       "\n",
       "        [[-1.29155691],\n",
       "         [-1.40933778],\n",
       "         [-1.32134615],\n",
       "         [-1.30406312],\n",
       "         [-1.40079468]],\n",
       "\n",
       "        [[-0.89372228],\n",
       "         [-1.05340132],\n",
       "         [-1.17520026],\n",
       "         [-1.2162118 ],\n",
       "         [-1.12746977]],\n",
       "\n",
       "        [[-0.68841871],\n",
       "         [-0.86088047],\n",
       "         [-0.86140971],\n",
       "         [-1.09338403],\n",
       "         [-0.95866786]],\n",
       "\n",
       "        [[-0.97138811],\n",
       "         [-0.91191046],\n",
       "         [-0.93990461],\n",
       "         [-1.05658868],\n",
       "         [-1.15176153]],\n",
       "\n",
       "        [[-0.84055752],\n",
       "         [-0.93782211],\n",
       "         [-0.989432  ],\n",
       "         [-0.78989689],\n",
       "         [-0.72728009]],\n",
       "\n",
       "        [[-0.90623437],\n",
       "         [-0.97208438],\n",
       "         [-0.84189372],\n",
       "         [-0.69861931],\n",
       "         [-0.61769962]],\n",
       "\n",
       "        [[-1.00196308],\n",
       "         [-0.83333499],\n",
       "         [-0.74392058],\n",
       "         [-0.70326034],\n",
       "         [-0.85272146]],\n",
       "\n",
       "        [[-0.84943536],\n",
       "         [-0.61341232],\n",
       "         [-0.68542325],\n",
       "         [-0.79394694],\n",
       "         [-0.86551054]],\n",
       "\n",
       "        [[-1.13345604],\n",
       "         [-1.3233562 ],\n",
       "         [-1.62781241],\n",
       "         [-1.48956395],\n",
       "         [-1.43830407]],\n",
       "\n",
       "        [[-0.76182638],\n",
       "         [-0.72898299],\n",
       "         [-0.73088967],\n",
       "         [-0.71257382],\n",
       "         [-0.73144487]],\n",
       "\n",
       "        [[-0.55628115],\n",
       "         [-0.50115712],\n",
       "         [-0.56690325],\n",
       "         [-0.78379058],\n",
       "         [-0.82734291]],\n",
       "\n",
       "        [[-0.97129618],\n",
       "         [-0.90912593],\n",
       "         [-0.74105758],\n",
       "         [-0.67114592],\n",
       "         [-0.67074318]],\n",
       "\n",
       "        [[-1.04736927],\n",
       "         [-1.04561571],\n",
       "         [-1.00804703],\n",
       "         [-0.83136001],\n",
       "         [-0.79829146]],\n",
       "\n",
       "        [[-1.05471018],\n",
       "         [-1.12178722],\n",
       "         [-1.24534993],\n",
       "         [-1.03373282],\n",
       "         [-0.9342089 ]],\n",
       "\n",
       "        [[-1.03827912],\n",
       "         [-1.05114717],\n",
       "         [-0.90130033],\n",
       "         [-1.04242066],\n",
       "         [-1.23539978]],\n",
       "\n",
       "        [[-1.00266509],\n",
       "         [-1.13826553],\n",
       "         [-1.24044672],\n",
       "         [-1.18470633],\n",
       "         [-1.08574552]],\n",
       "\n",
       "        [[-0.99175949],\n",
       "         [-1.04789917],\n",
       "         [-1.18767625],\n",
       "         [-1.23954023],\n",
       "         [-1.27751304]],\n",
       "\n",
       "        [[-0.8038248 ],\n",
       "         [-0.92613217],\n",
       "         [-0.79699101],\n",
       "         [-0.69905416],\n",
       "         [-0.74589172]],\n",
       "\n",
       "        [[-1.13294199],\n",
       "         [-1.15105696],\n",
       "         [-1.0027665 ],\n",
       "         [-1.03912736],\n",
       "         [-1.0336089 ]],\n",
       "\n",
       "        [[-0.85154127],\n",
       "         [-0.68427887],\n",
       "         [-0.72102394],\n",
       "         [-0.81270798],\n",
       "         [-1.06625841]],\n",
       "\n",
       "        [[-1.0873303 ],\n",
       "         [-1.0880828 ],\n",
       "         [-0.78757435],\n",
       "         [-0.72235233],\n",
       "         [-0.63843888]],\n",
       "\n",
       "        [[-0.79366514],\n",
       "         [-0.76819957],\n",
       "         [-0.84035408],\n",
       "         [-0.95323828],\n",
       "         [-1.02942793]],\n",
       "\n",
       "        [[-0.86377571],\n",
       "         [-0.88354609],\n",
       "         [-1.01471798],\n",
       "         [-0.97664091],\n",
       "         [-0.89698879]],\n",
       "\n",
       "        [[-0.83222488],\n",
       "         [-0.88116677],\n",
       "         [-1.08697487],\n",
       "         [-1.04230011],\n",
       "         [-0.85646143]]]])"
      ]
     },
     "execution_count": 8,
     "metadata": {},
     "output_type": "execute_result"
    }
   ],
   "source": [
    "X_train[:2]"
   ]
  },
  {
   "cell_type": "code",
   "execution_count": 9,
   "metadata": {},
   "outputs": [
    {
     "data": {
      "text/plain": [
       "array([[[[-0.82087856],\n",
       "         [-0.94715476],\n",
       "         [-0.90003373],\n",
       "         [-0.76427942],\n",
       "         [-0.81276964]],\n",
       "\n",
       "        [[-1.05297777],\n",
       "         [-1.06489286],\n",
       "         [-1.08157074],\n",
       "         [-1.18570178],\n",
       "         [-1.128528  ]],\n",
       "\n",
       "        [[-0.87737484],\n",
       "         [-0.81812845],\n",
       "         [-0.87356025],\n",
       "         [-0.94223169],\n",
       "         [-1.00516235]],\n",
       "\n",
       "        [[-0.84219699],\n",
       "         [-0.96060691],\n",
       "         [-0.81805631],\n",
       "         [-0.7796332 ],\n",
       "         [-0.69230091]],\n",
       "\n",
       "        [[-0.93467895],\n",
       "         [-0.87960667],\n",
       "         [-0.88771888],\n",
       "         [-0.89707863],\n",
       "         [-1.02892265]],\n",
       "\n",
       "        [[-0.93834599],\n",
       "         [-0.85541024],\n",
       "         [-0.78793404],\n",
       "         [-0.90225135],\n",
       "         [-0.86271713]],\n",
       "\n",
       "        [[-0.87473398],\n",
       "         [-0.83828913],\n",
       "         [-1.14682955],\n",
       "         [-1.12391072],\n",
       "         [-1.06542725]],\n",
       "\n",
       "        [[-0.92417559],\n",
       "         [-0.91055088],\n",
       "         [-0.84881369],\n",
       "         [-0.80902742],\n",
       "         [-0.81514544]],\n",
       "\n",
       "        [[-1.1197074 ],\n",
       "         [-1.13937516],\n",
       "         [-1.07662707],\n",
       "         [-1.12027259],\n",
       "         [-1.21518234]],\n",
       "\n",
       "        [[-0.71619038],\n",
       "         [-0.78920245],\n",
       "         [-0.60705315],\n",
       "         [-0.58485951],\n",
       "         [-0.60944301]],\n",
       "\n",
       "        [[-1.50578983],\n",
       "         [-1.45882108],\n",
       "         [-1.5839584 ],\n",
       "         [-1.29863005],\n",
       "         [-1.21680469]],\n",
       "\n",
       "        [[-0.64138602],\n",
       "         [-0.64644854],\n",
       "         [-0.84697501],\n",
       "         [-0.86601785],\n",
       "         [-0.94942906]],\n",
       "\n",
       "        [[-0.87419515],\n",
       "         [-0.88527969],\n",
       "         [-0.9567928 ],\n",
       "         [-1.10990132],\n",
       "         [-0.96299449]],\n",
       "\n",
       "        [[-1.02214086],\n",
       "         [-0.91501123],\n",
       "         [-0.94030208],\n",
       "         [-0.84329313],\n",
       "         [-0.90033907]],\n",
       "\n",
       "        [[-0.98490303],\n",
       "         [-0.96440482],\n",
       "         [-0.91826329],\n",
       "         [-0.90366747],\n",
       "         [-0.80993983]],\n",
       "\n",
       "        [[-0.85344122],\n",
       "         [-0.84132056],\n",
       "         [-0.81016284],\n",
       "         [-0.88026429],\n",
       "         [-0.88391117]],\n",
       "\n",
       "        [[-0.45229367],\n",
       "         [-0.4067601 ],\n",
       "         [-0.42372797],\n",
       "         [-0.50197448],\n",
       "         [-0.55000111]],\n",
       "\n",
       "        [[-1.37371983],\n",
       "         [-1.51036609],\n",
       "         [-1.27751704],\n",
       "         [-1.31330197],\n",
       "         [-1.27511824]],\n",
       "\n",
       "        [[-0.71667516],\n",
       "         [-0.70519893],\n",
       "         [-0.91948185],\n",
       "         [-0.96311639],\n",
       "         [-0.87040941]],\n",
       "\n",
       "        [[-0.86316044],\n",
       "         [-1.06924438],\n",
       "         [-0.94884493],\n",
       "         [-0.86217176],\n",
       "         [-0.8690493 ]],\n",
       "\n",
       "        [[-1.07533916],\n",
       "         [-0.93578462],\n",
       "         [-1.23431014],\n",
       "         [-1.24516308],\n",
       "         [-1.17735796]],\n",
       "\n",
       "        [[-1.23343639],\n",
       "         [-1.21039441],\n",
       "         [-1.14046264],\n",
       "         [-0.990575  ],\n",
       "         [-0.95128811]],\n",
       "\n",
       "        [[-1.23924265],\n",
       "         [-1.23958209],\n",
       "         [-0.9695682 ],\n",
       "         [-0.88015225],\n",
       "         [-1.01011514]],\n",
       "\n",
       "        [[-1.12162234],\n",
       "         [-1.22466161],\n",
       "         [-1.002264  ],\n",
       "         [-1.0019642 ],\n",
       "         [-0.92413391]],\n",
       "\n",
       "        [[-0.75588057],\n",
       "         [-0.82511728],\n",
       "         [-0.84496943],\n",
       "         [-0.73793285],\n",
       "         [-0.67101812]],\n",
       "\n",
       "        [[-1.81806765],\n",
       "         [-1.65048597],\n",
       "         [-1.53857194],\n",
       "         [-1.42086908],\n",
       "         [-1.2841458 ]],\n",
       "\n",
       "        [[-0.56007257],\n",
       "         [-0.49698332],\n",
       "         [-0.73699842],\n",
       "         [-0.72450323],\n",
       "         [-0.78731543]],\n",
       "\n",
       "        [[-0.66221642],\n",
       "         [-0.72726466],\n",
       "         [-0.61943663],\n",
       "         [-0.73118001],\n",
       "         [-0.7400575 ]],\n",
       "\n",
       "        [[-1.22415648],\n",
       "         [-1.09670426],\n",
       "         [-1.01132783],\n",
       "         [-1.07018662],\n",
       "         [-1.18922323]],\n",
       "\n",
       "        [[-1.12133425],\n",
       "         [-1.24006407],\n",
       "         [-1.08501953],\n",
       "         [-0.9995995 ],\n",
       "         [-0.91808108]],\n",
       "\n",
       "        [[-1.17012352],\n",
       "         [-1.07759703],\n",
       "         [-1.03392798],\n",
       "         [-0.87923912],\n",
       "         [-0.93479324]],\n",
       "\n",
       "        [[-0.94529077],\n",
       "         [-0.9955661 ],\n",
       "         [-0.87743241],\n",
       "         [-1.05695835],\n",
       "         [-1.05576601]]],\n",
       "\n",
       "\n",
       "       [[[-0.76427942],\n",
       "         [-0.81276964],\n",
       "         [-0.77648362],\n",
       "         [-0.87859768],\n",
       "         [-0.85458754]],\n",
       "\n",
       "        [[-1.18570178],\n",
       "         [-1.128528  ],\n",
       "         [-1.11594827],\n",
       "         [-0.97598839],\n",
       "         [-1.07759877]],\n",
       "\n",
       "        [[-0.94223169],\n",
       "         [-1.00516235],\n",
       "         [-0.95406069],\n",
       "         [-0.83694798],\n",
       "         [-0.75262576]],\n",
       "\n",
       "        [[-0.7796332 ],\n",
       "         [-0.69230091],\n",
       "         [-0.85638082],\n",
       "         [-0.94474165],\n",
       "         [-0.86251589]],\n",
       "\n",
       "        [[-0.89707863],\n",
       "         [-1.02892265],\n",
       "         [-0.92915804],\n",
       "         [-0.89936398],\n",
       "         [-0.80305156]],\n",
       "\n",
       "        [[-0.90225135],\n",
       "         [-0.86271713],\n",
       "         [-0.89368988],\n",
       "         [-0.87681485],\n",
       "         [-0.99776028]],\n",
       "\n",
       "        [[-1.12391072],\n",
       "         [-1.06542725],\n",
       "         [-0.88900404],\n",
       "         [-0.87670689],\n",
       "         [-0.95150991]],\n",
       "\n",
       "        [[-0.80902742],\n",
       "         [-0.81514544],\n",
       "         [-0.88207081],\n",
       "         [-0.95378085],\n",
       "         [-1.03204616]],\n",
       "\n",
       "        [[-1.12027259],\n",
       "         [-1.21518234],\n",
       "         [-1.11167273],\n",
       "         [-0.93737494],\n",
       "         [-0.94904226]],\n",
       "\n",
       "        [[-0.58485951],\n",
       "         [-0.60944301],\n",
       "         [-0.7735951 ],\n",
       "         [-0.80322536],\n",
       "         [-0.74068801]],\n",
       "\n",
       "        [[-1.29863005],\n",
       "         [-1.21680469],\n",
       "         [-1.31498895],\n",
       "         [-1.22496691],\n",
       "         [-1.35575316]],\n",
       "\n",
       "        [[-0.86601785],\n",
       "         [-0.94942906],\n",
       "         [-0.84213961],\n",
       "         [-0.96079768],\n",
       "         [-0.77356585]],\n",
       "\n",
       "        [[-1.10990132],\n",
       "         [-0.96299449],\n",
       "         [-0.87557266],\n",
       "         [-0.79028171],\n",
       "         [-0.99021508]],\n",
       "\n",
       "        [[-0.84329313],\n",
       "         [-0.90033907],\n",
       "         [-0.7027823 ],\n",
       "         [-0.72938757],\n",
       "         [-0.71479856]],\n",
       "\n",
       "        [[-0.90366747],\n",
       "         [-0.80993983],\n",
       "         [-0.82594751],\n",
       "         [-0.92593532],\n",
       "         [-0.96671601]],\n",
       "\n",
       "        [[-0.88026429],\n",
       "         [-0.88391117],\n",
       "         [-1.09006284],\n",
       "         [-1.04089807],\n",
       "         [-1.04447399]],\n",
       "\n",
       "        [[-0.50197448],\n",
       "         [-0.55000111],\n",
       "         [-0.67777321],\n",
       "         [-0.62205024],\n",
       "         [-0.65460893]],\n",
       "\n",
       "        [[-1.31330197],\n",
       "         [-1.27511824],\n",
       "         [-1.24694314],\n",
       "         [-1.26414001],\n",
       "         [-1.31623497]],\n",
       "\n",
       "        [[-0.96311639],\n",
       "         [-0.87040941],\n",
       "         [-0.91679277],\n",
       "         [-1.02155952],\n",
       "         [-0.90390541]],\n",
       "\n",
       "        [[-0.86217176],\n",
       "         [-0.8690493 ],\n",
       "         [-0.70748587],\n",
       "         [-0.80058204],\n",
       "         [-0.91450246]],\n",
       "\n",
       "        [[-1.24516308],\n",
       "         [-1.17735796],\n",
       "         [-1.06588364],\n",
       "         [-0.98769297],\n",
       "         [-0.92078443]],\n",
       "\n",
       "        [[-0.990575  ],\n",
       "         [-0.95128811],\n",
       "         [-0.89622895],\n",
       "         [-0.86731553],\n",
       "         [-0.95430206]],\n",
       "\n",
       "        [[-0.88015225],\n",
       "         [-1.01011514],\n",
       "         [-1.28834478],\n",
       "         [-1.03705417],\n",
       "         [-0.89033315]],\n",
       "\n",
       "        [[-1.0019642 ],\n",
       "         [-0.92413391],\n",
       "         [-0.81891668],\n",
       "         [-0.91026811],\n",
       "         [-0.90708177]],\n",
       "\n",
       "        [[-0.73793285],\n",
       "         [-0.67101812],\n",
       "         [-0.62442882],\n",
       "         [-0.61775883],\n",
       "         [-0.77211691]],\n",
       "\n",
       "        [[-1.42086908],\n",
       "         [-1.2841458 ],\n",
       "         [-1.14474421],\n",
       "         [-1.0622324 ],\n",
       "         [-1.19683682]],\n",
       "\n",
       "        [[-0.72450323],\n",
       "         [-0.78731543],\n",
       "         [-1.1062129 ],\n",
       "         [-1.02708672],\n",
       "         [-0.81758956]],\n",
       "\n",
       "        [[-0.73118001],\n",
       "         [-0.7400575 ],\n",
       "         [-0.7665642 ],\n",
       "         [-0.81841562],\n",
       "         [-0.85659245]],\n",
       "\n",
       "        [[-1.07018662],\n",
       "         [-1.18922323],\n",
       "         [-0.90181654],\n",
       "         [-0.93891499],\n",
       "         [-0.82866125]],\n",
       "\n",
       "        [[-0.9995995 ],\n",
       "         [-0.91808108],\n",
       "         [-0.90252848],\n",
       "         [-0.96530227],\n",
       "         [-0.97077834]],\n",
       "\n",
       "        [[-0.87923912],\n",
       "         [-0.93479324],\n",
       "         [-0.97479939],\n",
       "         [-0.83557385],\n",
       "         [-0.91399395]],\n",
       "\n",
       "        [[-1.05695835],\n",
       "         [-1.05576601],\n",
       "         [-1.07102512],\n",
       "         [-1.24474707],\n",
       "         [-1.0048391 ]]]])"
      ]
     },
     "execution_count": 9,
     "metadata": {},
     "output_type": "execute_result"
    }
   ],
   "source": [
    "X_dev[:2]"
   ]
  },
  {
   "cell_type": "code",
   "execution_count": 10,
   "metadata": {},
   "outputs": [
    {
     "data": {
      "text/plain": [
       "array([[1., 0.],\n",
       "       [1., 0.]])"
      ]
     },
     "execution_count": 10,
     "metadata": {},
     "output_type": "execute_result"
    }
   ],
   "source": [
    "y_train[:2]"
   ]
  },
  {
   "cell_type": "code",
   "execution_count": 11,
   "metadata": {},
   "outputs": [
    {
     "data": {
      "text/plain": [
       "array([0., 1.])"
      ]
     },
     "execution_count": 11,
     "metadata": {},
     "output_type": "execute_result"
    }
   ],
   "source": [
    "y_train[-20]"
   ]
  },
  {
   "cell_type": "code",
   "execution_count": 12,
   "metadata": {},
   "outputs": [
    {
     "data": {
      "text/plain": [
       "array([[1., 0.],\n",
       "       [1., 0.]])"
      ]
     },
     "execution_count": 12,
     "metadata": {},
     "output_type": "execute_result"
    }
   ],
   "source": [
    "y_dev[:2]"
   ]
  },
  {
   "cell_type": "code",
   "execution_count": 13,
   "metadata": {},
   "outputs": [
    {
     "data": {
      "text/plain": [
       "(32, 5, 1)"
      ]
     },
     "execution_count": 13,
     "metadata": {},
     "output_type": "execute_result"
    }
   ],
   "source": [
    "X_dev[0].shape"
   ]
  },
  {
   "cell_type": "code",
   "execution_count": 14,
   "metadata": {},
   "outputs": [
    {
     "data": {
      "text/plain": [
       "(26, 32, 5, 1)"
      ]
     },
     "execution_count": 14,
     "metadata": {},
     "output_type": "execute_result"
    }
   ],
   "source": [
    "X_dev.shape"
   ]
  },
  {
   "cell_type": "code",
   "execution_count": 15,
   "metadata": {},
   "outputs": [
    {
     "data": {
      "text/plain": [
       "(104, 32, 5, 1)"
      ]
     },
     "execution_count": 15,
     "metadata": {},
     "output_type": "execute_result"
    }
   ],
   "source": [
    "X_train.shape"
   ]
  },
  {
   "cell_type": "code",
   "execution_count": 16,
   "metadata": {},
   "outputs": [
    {
     "data": {
      "text/plain": [
       "2"
      ]
     },
     "execution_count": 16,
     "metadata": {},
     "output_type": "execute_result"
    }
   ],
   "source": [
    "y_train.shape[1]"
   ]
  },
  {
   "cell_type": "markdown",
   "metadata": {},
   "source": [
    "### 4 - Set hyperparameters"
   ]
  },
  {
   "cell_type": "code",
   "execution_count": 17,
   "metadata": {},
   "outputs": [],
   "source": [
    "# Tensorboard\n",
    "from time import time\n",
    "from keras.callbacks import TensorBoard\n",
    "tensorboard = TensorBoard(log_dir='logs/{}'.format(time()))"
   ]
  },
  {
   "cell_type": "code",
   "execution_count": 18,
   "metadata": {},
   "outputs": [
    {
     "data": {
      "text/plain": [
       "'\\nn_epochs = 100 #2000\\n#learning_rate = 0.001\\nbatch_size = 32 #250 \\nn_neurons_per_hlayer = [500, 250, 75, 25] # Number of units per layer, 4 hidden layers\\nrate_dropout = [0.8, 0.4, 0.2, 0.1]\\nweight_decay = 1e-4\\n'"
      ]
     },
     "execution_count": 18,
     "metadata": {},
     "output_type": "execute_result"
    }
   ],
   "source": [
    "\"\"\"\n",
    "n_epochs = 100 #2000\n",
    "#learning_rate = 0.001\n",
    "batch_size = 32 #250 \n",
    "n_neurons_per_hlayer = [500, 250, 75, 25] # Number of units per layer, 4 hidden layers\n",
    "rate_dropout = [0.8, 0.4, 0.2, 0.1]\n",
    "weight_decay = 1e-4\n",
    "\"\"\""
   ]
  },
  {
   "cell_type": "markdown",
   "metadata": {},
   "source": [
    "### 5 - Build the model: "
   ]
  },
  {
   "cell_type": "code",
   "execution_count": 19,
   "metadata": {},
   "outputs": [
    {
     "name": "stdout",
     "output_type": "stream",
     "text": [
      "Model: \"sequential\"\n",
      "_________________________________________________________________\n",
      "Layer (type)                 Output Shape              Param #   \n",
      "=================================================================\n",
      "conv2d (Conv2D)              (None, 32, 5, 4)          104       \n",
      "_________________________________________________________________\n",
      "conv2d_1 (Conv2D)            (None, 32, 5, 4)          516       \n",
      "_________________________________________________________________\n",
      "max_pooling2d (MaxPooling2D) (None, 16, 2, 4)          0         \n",
      "_________________________________________________________________\n",
      "dropout (Dropout)            (None, 16, 2, 4)          0         \n",
      "_________________________________________________________________\n",
      "conv2d_2 (Conv2D)            (None, 16, 2, 40)         1480      \n",
      "_________________________________________________________________\n",
      "max_pooling2d_1 (MaxPooling2 (None, 8, 1, 40)          0         \n",
      "_________________________________________________________________\n",
      "dropout_1 (Dropout)          (None, 8, 1, 40)          0         \n",
      "_________________________________________________________________\n",
      "flatten (Flatten)            (None, 320)               0         \n",
      "_________________________________________________________________\n",
      "dense (Dense)                (None, 2)                 642       \n",
      "=================================================================\n",
      "Total params: 2,742\n",
      "Trainable params: 2,742\n",
      "Non-trainable params: 0\n",
      "_________________________________________________________________\n"
     ]
    }
   ],
   "source": [
    "from keras.models import Sequential\n",
    "from keras.layers import Dense, Dropout, Activation, Flatten, DepthwiseConv2D\n",
    "from keras.layers.convolutional import Conv2D, MaxPooling2D\n",
    "from keras import optimizers, regularizers\n",
    "import keras.backend as K\n",
    "#K.set_image_data_format('channels_first')\n",
    "\n",
    "weight_decay = 1e-4\n",
    "\n",
    "model = Sequential()\n",
    "# Convolution2D(filtrosConv1, tamaño_filtro1, padding=\"same\", input_shape=(longitud, altura,3), activation = \"relu\")\n",
    "    # - filtrosConv1 número de filtros que aplicaremos tras la primera convolución, normalmente este tamaño va a aumentando\n",
    "    # tras convoluciones para que aumente la dimensión de profundidad (qué cosas hay en mi imagen)\n",
    "    # - tamaño_filtro1 tamaño espacial del kernel (de los filtros)\n",
    "    # - padding = si es same es que es igual que la imagen, vamos crea una imagen del mismo tamaño con el filtro, si es \n",
    "    # valid es que no hay padding y crea una imagen más pequeña que la imagen (creo)\n",
    "    # - input_shape = longitud y altura, tamaño que usará para convolucionar al entrenar\n",
    "\n",
    "        \n",
    "\n",
    "# CAPA PARA FILTRADO TEMPORAL \n",
    "model.add(Conv2D(filters = 4, kernel_size=(1,25), padding=\"same\", activation=\"relu\",input_shape=(32, 5, 1 ), kernel_initializer=\"he_normal\", kernel_regularizer=regularizers.l1(weight_decay)))\n",
    "# CAPA PARA FILTRADO ESPACIAL\n",
    "model.add(Conv2D(filters = 4, kernel_size=(32,1), padding=\"same\", activation=\"relu\", kernel_initializer=\"he_normal\", kernel_regularizer=regularizers.l1(weight_decay)))\n",
    "model.add(MaxPooling2D(pool_size=(2, 2)))\n",
    "\n",
    "model.add(Dropout(0.6))\n",
    "\n",
    "## Siguientes capas convolucionales: \n",
    "model.add(Conv2D(40, (3,3), padding='same',activation='relu', kernel_initializer=\"he_normal\",kernel_regularizer=regularizers.l1(weight_decay)))\n",
    "model.add(MaxPooling2D(pool_size=(2,2)))\n",
    "model.add(Dropout(0.5))\n",
    "\n",
    "\n",
    "\n",
    "\"\"\"\n",
    "model.add(MaxPooling2D(pool_size=(2, 2)))\n",
    "model.add(Dropout(0.5))\n",
    "\n",
    "\n",
    "model.add(Conv2D(96, (3, 3), padding='same',activation='relu', kernel_initializer=\"he_normal\",kernel_regularizer=regularizers.l2(weight_decay)))\n",
    "#model.add(Conv2D(96, (3, 3), padding='same',activation='relu', kernel_initializer=\"he_normal\", kernel_regularizer=regularizers.l2(weight_decay)))\n",
    "model.add(MaxPooling2D(pool_size=(2, 2)))\n",
    "model.add(Dropout(0.2))\n",
    "\n",
    "model.add(Conv2D(192, (3, 3), padding='same',activation='relu', kernel_initializer=\"he_normal\", kernel_regularizer=regularizers.l2(weight_decay)))\n",
    "#model.add(Conv2D(192, (3, 3), padding='same',activation='relu', kernel_initializer=\"he_normal\", kernel_regularizer=regularizers.l2(weight_decay)))\n",
    "model.add(MaxPooling2D(pool_size=(2, 2)))\n",
    "model.add(Dropout(0.1))\n",
    "\"\"\"\n",
    "\n",
    "model.add(Flatten())\n",
    "\"\"\"\n",
    "model.add(Dense(20, activation=\"relu\", kernel_initializer=\"he_normal\"))\n",
    "model.add(Dropout(0.5))\n",
    "\"\"\"\n",
    "model.add(Dense(y_train.shape[1], activation=\"softmax\"))\n",
    "\n",
    "opt = optimizers.Adam(lr=0.001, beta_1=0.9, beta_2=0.999)        \n",
    "model.compile(optimizer=opt, loss='categorical_crossentropy', metrics=['accuracy'])\n",
    "model.summary()"
   ]
  },
  {
   "cell_type": "code",
   "execution_count": 20,
   "metadata": {},
   "outputs": [
    {
     "data": {
      "text/plain": [
       "[<tensorflow.python.keras.layers.convolutional.Conv2D at 0x1fbd4ad1d00>,\n",
       " <tensorflow.python.keras.layers.convolutional.Conv2D at 0x1fbd5b7f790>,\n",
       " <tensorflow.python.keras.layers.pooling.MaxPooling2D at 0x1fbd5b7f310>,\n",
       " <tensorflow.python.keras.layers.core.Dropout at 0x1fbd5d9e3a0>,\n",
       " <tensorflow.python.keras.layers.convolutional.Conv2D at 0x1fbd5da2160>,\n",
       " <tensorflow.python.keras.layers.pooling.MaxPooling2D at 0x1fbd5da2850>,\n",
       " <tensorflow.python.keras.layers.core.Dropout at 0x1fbd5da2e80>,\n",
       " <tensorflow.python.keras.layers.core.Flatten at 0x1fbdbe3cbe0>,\n",
       " <tensorflow.python.keras.layers.core.Dense at 0x1fbdbe37eb0>]"
      ]
     },
     "execution_count": 20,
     "metadata": {},
     "output_type": "execute_result"
    }
   ],
   "source": [
    "model.layers"
   ]
  },
  {
   "cell_type": "code",
   "execution_count": 21,
   "metadata": {},
   "outputs": [
    {
     "name": "stdout",
     "output_type": "stream",
     "text": [
      "conv2d\n",
      "conv2d_1\n",
      "max_pooling2d\n",
      "dropout\n",
      "conv2d_2\n",
      "max_pooling2d_1\n",
      "dropout_1\n",
      "flatten\n",
      "dense\n"
     ]
    }
   ],
   "source": [
    "for l in model.layers: print (l.name)"
   ]
  },
  {
   "cell_type": "markdown",
   "metadata": {},
   "source": [
    "All the parameters of a layer can bee accessed:"
   ]
  },
  {
   "cell_type": "code",
   "execution_count": 22,
   "metadata": {},
   "outputs": [
    {
     "data": {
      "text/plain": [
       "(1, 25, 1, 4)"
      ]
     },
     "execution_count": 22,
     "metadata": {},
     "output_type": "execute_result"
    }
   ],
   "source": [
    "weights, biases = model.layers[0].get_weights()\n",
    "weights.shape"
   ]
  },
  {
   "cell_type": "code",
   "execution_count": 23,
   "metadata": {},
   "outputs": [
    {
     "data": {
      "text/plain": [
       "array([[[[-0.49449095,  0.62459993, -0.39463094, -0.39577773]],\n",
       "\n",
       "        [[-0.4055382 , -0.38642883,  0.0448412 ,  0.11608741]],\n",
       "\n",
       "        [[ 0.03412433,  0.0400059 ,  0.2182708 , -0.13970658]],\n",
       "\n",
       "        [[-0.04068698,  0.230218  , -0.01997694,  0.42102578]],\n",
       "\n",
       "        [[-0.23091474,  0.25267887,  0.2764414 ,  0.22476201]],\n",
       "\n",
       "        [[ 0.32724884,  0.40368468, -0.5559471 , -0.41025007]],\n",
       "\n",
       "        [[ 0.25536367,  0.37933478,  0.38946778, -0.10941132]],\n",
       "\n",
       "        [[ 0.12580238, -0.24270155, -0.37110367,  0.31331077]],\n",
       "\n",
       "        [[-0.57355005, -0.16404873, -0.26767707, -0.41212142]],\n",
       "\n",
       "        [[-0.00154092, -0.25369698,  0.63358074, -0.5686904 ]],\n",
       "\n",
       "        [[ 0.04394457,  0.349817  , -0.2836654 , -0.09012364]],\n",
       "\n",
       "        [[-0.23799817,  0.06007909, -0.21089716,  0.02566084]],\n",
       "\n",
       "        [[ 0.25388342, -0.41777408, -0.16333881, -0.16928495]],\n",
       "\n",
       "        [[-0.10778505,  0.21081416,  0.15938875, -0.3410086 ]],\n",
       "\n",
       "        [[ 0.06448322,  0.09464636,  0.34297585, -0.05847066]],\n",
       "\n",
       "        [[ 0.13527346,  0.4288215 ,  0.27451703, -0.4791369 ]],\n",
       "\n",
       "        [[ 0.26966223,  0.5333007 ,  0.32769904,  0.3522907 ]],\n",
       "\n",
       "        [[-0.64031464,  0.6156249 ,  0.06505683,  0.0854439 ]],\n",
       "\n",
       "        [[ 0.55787385,  0.03957778, -0.24468122,  0.4088916 ]],\n",
       "\n",
       "        [[ 0.21312323,  0.1420272 ,  0.41069242,  0.19977793]],\n",
       "\n",
       "        [[-0.02988861,  0.04241728,  0.27773273, -0.03732685]],\n",
       "\n",
       "        [[ 0.40993252, -0.54543597, -0.1595247 , -0.6077712 ]],\n",
       "\n",
       "        [[ 0.38934427, -0.02054326, -0.4909892 , -0.5622976 ]],\n",
       "\n",
       "        [[ 0.16313511, -0.19711918, -0.33725208, -0.10436348]],\n",
       "\n",
       "        [[ 0.41763   , -0.31359366, -0.10146049,  0.20382775]]]],\n",
       "      dtype=float32)"
      ]
     },
     "execution_count": 23,
     "metadata": {},
     "output_type": "execute_result"
    }
   ],
   "source": [
    "weights"
   ]
  },
  {
   "cell_type": "code",
   "execution_count": 24,
   "metadata": {},
   "outputs": [
    {
     "data": {
      "text/plain": [
       "array([0., 0., 0., 0.], dtype=float32)"
      ]
     },
     "execution_count": 24,
     "metadata": {},
     "output_type": "execute_result"
    }
   ],
   "source": [
    "biases # Bias de la primera capa: 500 bias inicializados a 0 "
   ]
  },
  {
   "cell_type": "code",
   "execution_count": 25,
   "metadata": {},
   "outputs": [
    {
     "data": {
      "text/plain": [
       "(4,)"
      ]
     },
     "execution_count": 25,
     "metadata": {},
     "output_type": "execute_result"
    }
   ],
   "source": [
    "biases.shape"
   ]
  },
  {
   "cell_type": "markdown",
   "metadata": {},
   "source": [
    "### 6. Compile the model"
   ]
  },
  {
   "cell_type": "markdown",
   "metadata": {},
   "source": [
    "### 7. Train the model with M-BGD"
   ]
  },
  {
   "cell_type": "code",
   "execution_count": 26,
   "metadata": {},
   "outputs": [
    {
     "name": "stdout",
     "output_type": "stream",
     "text": [
      "Epoch 1/100\n",
      "4/4 - 1s - loss: 1.8684 - accuracy: 0.5385 - val_loss: 0.6952 - val_accuracy: 0.6154\n",
      "Epoch 2/100\n",
      "4/4 - 0s - loss: 1.6225 - accuracy: 0.5192 - val_loss: 0.7818 - val_accuracy: 0.6154\n",
      "Epoch 3/100\n",
      "4/4 - 0s - loss: 1.3516 - accuracy: 0.6250 - val_loss: 0.7745 - val_accuracy: 0.6154\n",
      "Epoch 4/100\n",
      "4/4 - 0s - loss: 1.3839 - accuracy: 0.5192 - val_loss: 0.7225 - val_accuracy: 0.6154\n",
      "Epoch 5/100\n",
      "4/4 - 0s - loss: 1.4319 - accuracy: 0.4808 - val_loss: 0.7034 - val_accuracy: 0.6154\n",
      "Epoch 6/100\n",
      "4/4 - 0s - loss: 1.1244 - accuracy: 0.5096 - val_loss: 0.7129 - val_accuracy: 0.6154\n",
      "Epoch 7/100\n",
      "4/4 - 0s - loss: 1.1469 - accuracy: 0.4615 - val_loss: 0.7213 - val_accuracy: 0.5385\n",
      "Epoch 8/100\n",
      "4/4 - 0s - loss: 0.8961 - accuracy: 0.5769 - val_loss: 0.7126 - val_accuracy: 0.6923\n",
      "Epoch 9/100\n",
      "4/4 - 0s - loss: 0.9477 - accuracy: 0.5096 - val_loss: 0.7021 - val_accuracy: 0.6154\n",
      "Epoch 10/100\n",
      "4/4 - 0s - loss: 0.9475 - accuracy: 0.5288 - val_loss: 0.6974 - val_accuracy: 0.6154\n",
      "Epoch 11/100\n",
      "4/4 - 0s - loss: 0.8200 - accuracy: 0.5096 - val_loss: 0.6958 - val_accuracy: 0.6154\n",
      "Epoch 12/100\n",
      "4/4 - 0s - loss: 0.7902 - accuracy: 0.5577 - val_loss: 0.6943 - val_accuracy: 0.6154\n",
      "Epoch 13/100\n",
      "4/4 - 0s - loss: 0.8424 - accuracy: 0.5288 - val_loss: 0.6941 - val_accuracy: 0.6154\n",
      "Epoch 14/100\n",
      "4/4 - 0s - loss: 0.7410 - accuracy: 0.5962 - val_loss: 0.6938 - val_accuracy: 0.6154\n",
      "Epoch 15/100\n",
      "4/4 - 0s - loss: 0.7526 - accuracy: 0.5962 - val_loss: 0.6931 - val_accuracy: 0.6154\n",
      "Epoch 16/100\n",
      "4/4 - 0s - loss: 0.7344 - accuracy: 0.5577 - val_loss: 0.6908 - val_accuracy: 0.6154\n",
      "Epoch 17/100\n",
      "4/4 - 0s - loss: 0.6859 - accuracy: 0.6923 - val_loss: 0.6907 - val_accuracy: 0.6154\n",
      "Epoch 18/100\n",
      "4/4 - 0s - loss: 0.7103 - accuracy: 0.6058 - val_loss: 0.6903 - val_accuracy: 0.6154\n",
      "Epoch 19/100\n",
      "4/4 - 0s - loss: 0.7361 - accuracy: 0.5962 - val_loss: 0.6887 - val_accuracy: 0.6154\n",
      "Epoch 20/100\n",
      "4/4 - 0s - loss: 0.7260 - accuracy: 0.6058 - val_loss: 0.6876 - val_accuracy: 0.6154\n",
      "Epoch 21/100\n",
      "4/4 - 0s - loss: 0.6667 - accuracy: 0.6346 - val_loss: 0.6870 - val_accuracy: 0.6154\n",
      "Epoch 22/100\n",
      "4/4 - 0s - loss: 0.7271 - accuracy: 0.5288 - val_loss: 0.6865 - val_accuracy: 0.6154\n",
      "Epoch 23/100\n",
      "4/4 - 0s - loss: 0.7394 - accuracy: 0.5769 - val_loss: 0.6863 - val_accuracy: 0.6154\n",
      "Epoch 24/100\n",
      "4/4 - 0s - loss: 0.7019 - accuracy: 0.6250 - val_loss: 0.6865 - val_accuracy: 0.6154\n",
      "Epoch 25/100\n",
      "4/4 - 0s - loss: 0.6916 - accuracy: 0.5962 - val_loss: 0.6875 - val_accuracy: 0.6154\n",
      "Epoch 26/100\n",
      "4/4 - 0s - loss: 0.6734 - accuracy: 0.5962 - val_loss: 0.6892 - val_accuracy: 0.6154\n",
      "Epoch 27/100\n",
      "4/4 - 0s - loss: 0.7027 - accuracy: 0.6250 - val_loss: 0.6901 - val_accuracy: 0.6154\n",
      "Epoch 28/100\n",
      "4/4 - 0s - loss: 0.7319 - accuracy: 0.5577 - val_loss: 0.6909 - val_accuracy: 0.6154\n",
      "Epoch 29/100\n",
      "4/4 - 0s - loss: 0.7100 - accuracy: 0.6250 - val_loss: 0.6922 - val_accuracy: 0.6154\n",
      "Epoch 30/100\n",
      "4/4 - 0s - loss: 0.6934 - accuracy: 0.6346 - val_loss: 0.6938 - val_accuracy: 0.6154\n",
      "Epoch 31/100\n",
      "4/4 - 0s - loss: 0.7161 - accuracy: 0.6154 - val_loss: 0.6944 - val_accuracy: 0.6154\n",
      "Epoch 32/100\n",
      "4/4 - 0s - loss: 0.6944 - accuracy: 0.6346 - val_loss: 0.6938 - val_accuracy: 0.6154\n",
      "Epoch 33/100\n",
      "4/4 - 0s - loss: 0.6887 - accuracy: 0.6058 - val_loss: 0.6938 - val_accuracy: 0.6154\n",
      "Epoch 34/100\n",
      "4/4 - 0s - loss: 0.7238 - accuracy: 0.5962 - val_loss: 0.6946 - val_accuracy: 0.6154\n",
      "Epoch 35/100\n",
      "4/4 - 0s - loss: 0.6756 - accuracy: 0.6250 - val_loss: 0.6946 - val_accuracy: 0.6154\n",
      "Epoch 36/100\n",
      "4/4 - 0s - loss: 0.6624 - accuracy: 0.6154 - val_loss: 0.6938 - val_accuracy: 0.6154\n",
      "Epoch 37/100\n",
      "4/4 - 0s - loss: 0.6883 - accuracy: 0.6058 - val_loss: 0.6938 - val_accuracy: 0.6154\n",
      "Epoch 38/100\n",
      "4/4 - 0s - loss: 0.6990 - accuracy: 0.5865 - val_loss: 0.6941 - val_accuracy: 0.6154\n",
      "Epoch 39/100\n",
      "4/4 - 0s - loss: 0.6902 - accuracy: 0.5769 - val_loss: 0.6946 - val_accuracy: 0.6154\n",
      "Epoch 40/100\n",
      "4/4 - 0s - loss: 0.6890 - accuracy: 0.6250 - val_loss: 0.6952 - val_accuracy: 0.6154\n",
      "Epoch 41/100\n",
      "4/4 - 0s - loss: 0.6902 - accuracy: 0.5962 - val_loss: 0.6962 - val_accuracy: 0.6154\n",
      "Epoch 42/100\n",
      "4/4 - 0s - loss: 0.7077 - accuracy: 0.6154 - val_loss: 0.6974 - val_accuracy: 0.6154\n",
      "Epoch 43/100\n",
      "4/4 - 0s - loss: 0.7058 - accuracy: 0.5865 - val_loss: 0.6987 - val_accuracy: 0.6154\n",
      "Epoch 44/100\n",
      "4/4 - 0s - loss: 0.6893 - accuracy: 0.6058 - val_loss: 0.6991 - val_accuracy: 0.6154\n",
      "Epoch 45/100\n",
      "4/4 - 0s - loss: 0.6817 - accuracy: 0.6154 - val_loss: 0.6990 - val_accuracy: 0.6154\n",
      "Epoch 46/100\n",
      "4/4 - 0s - loss: 0.6850 - accuracy: 0.6346 - val_loss: 0.6996 - val_accuracy: 0.6154\n",
      "Epoch 47/100\n",
      "4/4 - 0s - loss: 0.7009 - accuracy: 0.5962 - val_loss: 0.7002 - val_accuracy: 0.6154\n",
      "Epoch 48/100\n",
      "4/4 - 0s - loss: 0.6885 - accuracy: 0.5962 - val_loss: 0.7007 - val_accuracy: 0.6154\n",
      "Epoch 49/100\n",
      "4/4 - 0s - loss: 0.6712 - accuracy: 0.6154 - val_loss: 0.7009 - val_accuracy: 0.6154\n",
      "Epoch 50/100\n",
      "4/4 - 0s - loss: 0.6917 - accuracy: 0.6154 - val_loss: 0.7012 - val_accuracy: 0.6154\n",
      "Epoch 51/100\n",
      "4/4 - 0s - loss: 0.6833 - accuracy: 0.6250 - val_loss: 0.7020 - val_accuracy: 0.6154\n",
      "Epoch 52/100\n",
      "4/4 - 0s - loss: 0.6924 - accuracy: 0.5962 - val_loss: 0.7029 - val_accuracy: 0.6154\n",
      "Epoch 53/100\n",
      "4/4 - 0s - loss: 0.6830 - accuracy: 0.6154 - val_loss: 0.7035 - val_accuracy: 0.6154\n",
      "Epoch 54/100\n",
      "4/4 - 0s - loss: 0.6819 - accuracy: 0.6058 - val_loss: 0.7038 - val_accuracy: 0.6154\n",
      "Epoch 55/100\n",
      "4/4 - 0s - loss: 0.6733 - accuracy: 0.6058 - val_loss: 0.7038 - val_accuracy: 0.6154\n",
      "Epoch 56/100\n",
      "4/4 - 0s - loss: 0.7170 - accuracy: 0.5769 - val_loss: 0.7034 - val_accuracy: 0.6154\n",
      "Epoch 57/100\n",
      "4/4 - 0s - loss: 0.7005 - accuracy: 0.6058 - val_loss: 0.7026 - val_accuracy: 0.6154\n",
      "Epoch 58/100\n",
      "4/4 - 0s - loss: 0.6873 - accuracy: 0.6154 - val_loss: 0.7023 - val_accuracy: 0.6154\n",
      "Epoch 59/100\n",
      "4/4 - 0s - loss: 0.6779 - accuracy: 0.6154 - val_loss: 0.7024 - val_accuracy: 0.6154\n",
      "Epoch 60/100\n",
      "4/4 - 0s - loss: 0.6826 - accuracy: 0.6250 - val_loss: 0.7031 - val_accuracy: 0.6154\n",
      "Epoch 61/100\n",
      "4/4 - 0s - loss: 0.6791 - accuracy: 0.6154 - val_loss: 0.7036 - val_accuracy: 0.6154\n",
      "Epoch 62/100\n",
      "4/4 - 0s - loss: 0.7035 - accuracy: 0.6058 - val_loss: 0.7032 - val_accuracy: 0.6154\n",
      "Epoch 63/100\n",
      "4/4 - 0s - loss: 0.6815 - accuracy: 0.6250 - val_loss: 0.7030 - val_accuracy: 0.6154\n",
      "Epoch 64/100\n",
      "4/4 - 0s - loss: 0.6965 - accuracy: 0.6154 - val_loss: 0.7026 - val_accuracy: 0.6154\n",
      "Epoch 65/100\n",
      "4/4 - 0s - loss: 0.6614 - accuracy: 0.6154 - val_loss: 0.7028 - val_accuracy: 0.6154\n",
      "Epoch 66/100\n",
      "4/4 - 0s - loss: 0.6748 - accuracy: 0.6154 - val_loss: 0.7030 - val_accuracy: 0.6154\n",
      "Epoch 67/100\n",
      "4/4 - 0s - loss: 0.6831 - accuracy: 0.6250 - val_loss: 0.7035 - val_accuracy: 0.6154\n",
      "Epoch 68/100\n",
      "4/4 - 0s - loss: 0.6787 - accuracy: 0.6346 - val_loss: 0.7040 - val_accuracy: 0.6154\n",
      "Epoch 69/100\n",
      "4/4 - 0s - loss: 0.6832 - accuracy: 0.6058 - val_loss: 0.7048 - val_accuracy: 0.6154\n",
      "Epoch 70/100\n",
      "4/4 - 0s - loss: 0.6963 - accuracy: 0.5673 - val_loss: 0.7057 - val_accuracy: 0.6154\n",
      "Epoch 71/100\n",
      "4/4 - 0s - loss: 0.6926 - accuracy: 0.6154 - val_loss: 0.7062 - val_accuracy: 0.6154\n",
      "Epoch 72/100\n",
      "4/4 - 0s - loss: 0.7061 - accuracy: 0.6058 - val_loss: 0.7063 - val_accuracy: 0.6154\n",
      "Epoch 73/100\n",
      "4/4 - 0s - loss: 0.6942 - accuracy: 0.6346 - val_loss: 0.7061 - val_accuracy: 0.6154\n",
      "Epoch 74/100\n",
      "4/4 - 0s - loss: 0.6678 - accuracy: 0.6538 - val_loss: 0.7056 - val_accuracy: 0.6154\n",
      "Epoch 75/100\n",
      "4/4 - 0s - loss: 0.6733 - accuracy: 0.5769 - val_loss: 0.7059 - val_accuracy: 0.6154\n",
      "Epoch 76/100\n",
      "4/4 - 0s - loss: 0.6796 - accuracy: 0.6154 - val_loss: 0.7069 - val_accuracy: 0.6154\n",
      "Epoch 77/100\n",
      "4/4 - 0s - loss: 0.6936 - accuracy: 0.5865 - val_loss: 0.7073 - val_accuracy: 0.6154\n",
      "Epoch 78/100\n",
      "4/4 - 0s - loss: 0.6859 - accuracy: 0.6154 - val_loss: 0.7077 - val_accuracy: 0.6154\n",
      "Epoch 79/100\n",
      "4/4 - 0s - loss: 0.6808 - accuracy: 0.6058 - val_loss: 0.7083 - val_accuracy: 0.6154\n",
      "Epoch 80/100\n",
      "4/4 - 0s - loss: 0.6810 - accuracy: 0.6346 - val_loss: 0.7081 - val_accuracy: 0.6154\n",
      "Epoch 81/100\n",
      "4/4 - 0s - loss: 0.6927 - accuracy: 0.6154 - val_loss: 0.7069 - val_accuracy: 0.6154\n",
      "Epoch 82/100\n",
      "4/4 - 0s - loss: 0.6820 - accuracy: 0.6154 - val_loss: 0.7062 - val_accuracy: 0.6154\n",
      "Epoch 83/100\n",
      "4/4 - 0s - loss: 0.6853 - accuracy: 0.6058 - val_loss: 0.7055 - val_accuracy: 0.6154\n",
      "Epoch 84/100\n",
      "4/4 - 0s - loss: 0.6727 - accuracy: 0.6058 - val_loss: 0.7050 - val_accuracy: 0.6154\n"
     ]
    },
    {
     "name": "stdout",
     "output_type": "stream",
     "text": [
      "Epoch 85/100\n",
      "4/4 - 0s - loss: 0.7002 - accuracy: 0.6250 - val_loss: 0.7044 - val_accuracy: 0.6154\n",
      "Epoch 86/100\n",
      "4/4 - 0s - loss: 0.6715 - accuracy: 0.6250 - val_loss: 0.7040 - val_accuracy: 0.6154\n",
      "Epoch 87/100\n",
      "4/4 - 0s - loss: 0.6722 - accuracy: 0.6154 - val_loss: 0.7043 - val_accuracy: 0.6154\n",
      "Epoch 88/100\n",
      "4/4 - 0s - loss: 0.6713 - accuracy: 0.6154 - val_loss: 0.7042 - val_accuracy: 0.6154\n",
      "Epoch 89/100\n",
      "4/4 - 0s - loss: 0.6878 - accuracy: 0.6154 - val_loss: 0.7042 - val_accuracy: 0.6154\n",
      "Epoch 90/100\n",
      "4/4 - 0s - loss: 0.6798 - accuracy: 0.6250 - val_loss: 0.7043 - val_accuracy: 0.6154\n",
      "Epoch 91/100\n",
      "4/4 - 0s - loss: 0.6735 - accuracy: 0.6154 - val_loss: 0.7043 - val_accuracy: 0.6154\n",
      "Epoch 92/100\n",
      "4/4 - 0s - loss: 0.6789 - accuracy: 0.6154 - val_loss: 0.7053 - val_accuracy: 0.6154\n",
      "Epoch 93/100\n",
      "4/4 - 0s - loss: 0.6736 - accuracy: 0.6058 - val_loss: 0.7057 - val_accuracy: 0.6154\n",
      "Epoch 94/100\n",
      "4/4 - 0s - loss: 0.7126 - accuracy: 0.6154 - val_loss: 0.7039 - val_accuracy: 0.6154\n",
      "Epoch 95/100\n",
      "4/4 - 0s - loss: 0.6527 - accuracy: 0.6154 - val_loss: 0.7023 - val_accuracy: 0.6154\n",
      "Epoch 96/100\n",
      "4/4 - 0s - loss: 0.6653 - accuracy: 0.6058 - val_loss: 0.7020 - val_accuracy: 0.6154\n",
      "Epoch 97/100\n",
      "4/4 - 0s - loss: 0.6762 - accuracy: 0.6154 - val_loss: 0.7036 - val_accuracy: 0.6154\n",
      "Epoch 98/100\n",
      "4/4 - 0s - loss: 0.6696 - accuracy: 0.6058 - val_loss: 0.7055 - val_accuracy: 0.6154\n",
      "Epoch 99/100\n",
      "4/4 - 0s - loss: 0.6816 - accuracy: 0.6154 - val_loss: 0.7066 - val_accuracy: 0.6154\n",
      "Epoch 100/100\n",
      "4/4 - 0s - loss: 0.6567 - accuracy: 0.6346 - val_loss: 0.7081 - val_accuracy: 0.6154\n",
      "7.580386161804199\n"
     ]
    }
   ],
   "source": [
    "import time\n",
    "start = time.time()\n",
    "#history = model.fit(X_train, y_train, batch_size=32, steps_per_epoch=len(y_train)/32, epochs=100, verbose=2, validation_data=(X_dev, y_dev),callbacks=[tensorboard])\n",
    "history = model.fit(X_train, y_train, batch_size=32, epochs=100, verbose=2, validation_data=(X_dev, y_dev))\n",
    "print (time.time() - start)\n",
    "\n"
   ]
  },
  {
   "cell_type": "markdown",
   "metadata": {},
   "source": [
    "### 8. Get the results"
   ]
  },
  {
   "cell_type": "code",
   "execution_count": 27,
   "metadata": {},
   "outputs": [
    {
     "data": {
      "image/png": "[encoded data removed]",
      "text/plain": [
       "<Figure size 576x360 with 1 Axes>"
      ]
     },
     "metadata": {
      "needs_background": "light"
     },
     "output_type": "display_data"
    }
   ],
   "source": [
    "results=pd.DataFrame(history.history)\n",
    "results.plot(figsize=(8, 5))\n",
    "plt.grid(True)\n",
    "plt.xlabel (\"Epochs\")\n",
    "plt.ylabel (\"Accuracy - Mean Log Loss\")\n",
    "plt.gca().set_ylim(0, 2) # set the vertical range to [0-1]\n",
    "plt.show()\n",
    "\n",
    "# categorical_accuracy es el training accuracy\n",
    "# val_categorical_accuracy es el validation accuracy\n",
    "# loss es el training loss\n",
    "# val_loss es el validation loss\n",
    "\n",
    "# Overfitting:\n",
    "# Por un lado la Accuracy de los datos de entrenamiento aumenta con las epochs,\n",
    "# mientras que la Accuracy de los datos de validación disminuye o se mantiene constante a lo largo de las epochs. \n",
    "# La Loss de los datos de validación alcanza su mínimo después de pocos epochs y luego empieza a subir, \n",
    "# mientras que la Loss de los datos de entrenamiento disminuye linealmente."
   ]
  },
  {
   "cell_type": "code",
   "execution_count": 28,
   "metadata": {},
   "outputs": [
    {
     "data": {
      "text/plain": [
       "{'verbose': 2, 'epochs': 100, 'steps': 4}"
      ]
     },
     "execution_count": 28,
     "metadata": {},
     "output_type": "execute_result"
    }
   ],
   "source": [
    "history.params"
   ]
  },
  {
   "cell_type": "code",
   "execution_count": 29,
   "metadata": {},
   "outputs": [
    {
     "data": {
      "text/html": [
       "<div>\n",
       "<style scoped>\n",
       "    .dataframe tbody tr th:only-of-type {\n",
       "        vertical-align: middle;\n",
       "    }\n",
       "\n",
       "    .dataframe tbody tr th {\n",
       "        vertical-align: top;\n",
       "    }\n",
       "\n",
       "    .dataframe thead th {\n",
       "        text-align: right;\n",
       "    }\n",
       "</style>\n",
       "<table border=\"1\" class=\"dataframe\">\n",
       "  <thead>\n",
       "    <tr style=\"text-align: right;\">\n",
       "      <th></th>\n",
       "      <th>loss</th>\n",
       "      <th>accuracy</th>\n",
       "      <th>val_loss</th>\n",
       "      <th>val_accuracy</th>\n",
       "    </tr>\n",
       "  </thead>\n",
       "  <tbody>\n",
       "    <tr>\n",
       "      <th>99</th>\n",
       "      <td>0.656724</td>\n",
       "      <td>0.634615</td>\n",
       "      <td>0.708081</td>\n",
       "      <td>0.615385</td>\n",
       "    </tr>\n",
       "  </tbody>\n",
       "</table>\n",
       "</div>"
      ],
      "text/plain": [
       "        loss  accuracy  val_loss  val_accuracy\n",
       "99  0.656724  0.634615  0.708081      0.615385"
      ]
     },
     "execution_count": 29,
     "metadata": {},
     "output_type": "execute_result"
    }
   ],
   "source": [
    "results[-1:]"
   ]
  },
  {
   "cell_type": "code",
   "execution_count": 30,
   "metadata": {},
   "outputs": [
    {
     "name": "stdout",
     "output_type": "stream",
     "text": [
      "Accuracy for the training set:  0.6346153616905212\n"
     ]
    }
   ],
   "source": [
    "print (\"Accuracy for the training set: \", results.values[-1:][0][1])"
   ]
  },
  {
   "cell_type": "code",
   "execution_count": 31,
   "metadata": {},
   "outputs": [
    {
     "name": "stdout",
     "output_type": "stream",
     "text": [
      "Accuracy for the development test set:  0.6153846383094788\n"
     ]
    }
   ],
   "source": [
    "print (\"Accuracy for the development test set: \", results.values[-1:][0][3])"
   ]
  },
  {
   "cell_type": "markdown",
   "metadata": {},
   "source": [
    "#### Let's see how the model predicts using the development test set:"
   ]
  },
  {
   "cell_type": "code",
   "execution_count": 32,
   "metadata": {},
   "outputs": [
    {
     "data": {
      "text/plain": [
       "array([[0.41, 0.59],\n",
       "       [0.43, 0.57],\n",
       "       [0.42, 0.58],\n",
       "       [0.42, 0.58],\n",
       "       [0.44, 0.56],\n",
       "       [0.43, 0.57],\n",
       "       [0.42, 0.58],\n",
       "       [0.43, 0.57],\n",
       "       [0.42, 0.58],\n",
       "       [0.43, 0.57],\n",
       "       [0.42, 0.58],\n",
       "       [0.44, 0.56],\n",
       "       [0.42, 0.58],\n",
       "       [0.37, 0.63],\n",
       "       [0.37, 0.63],\n",
       "       [0.39, 0.61],\n",
       "       [0.4 , 0.6 ],\n",
       "       [0.41, 0.59],\n",
       "       [0.41, 0.59],\n",
       "       [0.43, 0.57]], dtype=float32)"
      ]
     },
     "execution_count": 32,
     "metadata": {},
     "output_type": "execute_result"
    }
   ],
   "source": [
    "dev_predictions=model.predict(X_dev).round(2) \n",
    "dev_predictions[:20]"
   ]
  },
  {
   "cell_type": "code",
   "execution_count": 33,
   "metadata": {},
   "outputs": [
    {
     "data": {
      "text/plain": [
       "array([[0., 1.],\n",
       "       [0., 1.],\n",
       "       [0., 1.],\n",
       "       [0., 1.],\n",
       "       [0., 1.],\n",
       "       [0., 1.],\n",
       "       [0., 1.],\n",
       "       [0., 1.],\n",
       "       [0., 1.],\n",
       "       [0., 1.],\n",
       "       [0., 1.],\n",
       "       [0., 1.],\n",
       "       [0., 1.],\n",
       "       [0., 1.],\n",
       "       [0., 1.],\n",
       "       [0., 1.],\n",
       "       [0., 1.],\n",
       "       [0., 1.],\n",
       "       [0., 1.],\n",
       "       [0., 1.]], dtype=float32)"
      ]
     },
     "execution_count": 33,
     "metadata": {},
     "output_type": "execute_result"
    }
   ],
   "source": [
    "dev_rounded_predictions=np.round(dev_predictions)\n",
    "indices = np.argmax(dev_predictions,1)\n",
    "for row, index in zip(dev_rounded_predictions, indices): row[index]=1\n",
    "dev_rounded_predictions[:20]"
   ]
  },
  {
   "cell_type": "code",
   "execution_count": 34,
   "metadata": {},
   "outputs": [
    {
     "data": {
      "text/plain": [
       "array([[1., 0.],\n",
       "       [1., 0.],\n",
       "       [1., 0.],\n",
       "       [0., 1.],\n",
       "       [0., 1.],\n",
       "       [0., 1.],\n",
       "       [0., 1.],\n",
       "       [0., 1.],\n",
       "       [0., 1.],\n",
       "       [0., 1.],\n",
       "       [0., 1.],\n",
       "       [1., 0.],\n",
       "       [1., 0.],\n",
       "       [1., 0.],\n",
       "       [1., 0.],\n",
       "       [1., 0.],\n",
       "       [0., 1.],\n",
       "       [0., 1.],\n",
       "       [0., 1.],\n",
       "       [0., 1.]])"
      ]
     },
     "execution_count": 34,
     "metadata": {},
     "output_type": "execute_result"
    }
   ],
   "source": [
    "y_dev[:20]"
   ]
  },
  {
   "cell_type": "code",
   "execution_count": 35,
   "metadata": {},
   "outputs": [
    {
     "name": "stdout",
     "output_type": "stream",
     "text": [
      "[False False False  True  True  True  True  True  True  True  True False\n",
      " False False False False  True  True  True  True  True  True  True  True\n",
      " False False]\n"
     ]
    }
   ],
   "source": [
    "dev_correct_predictions = np.equal(np.argmax(dev_rounded_predictions,1),np.argmax(y_dev,1))\n",
    "print (dev_correct_predictions[:30])"
   ]
  },
  {
   "cell_type": "code",
   "execution_count": 36,
   "metadata": {},
   "outputs": [
    {
     "data": {
      "text/plain": [
       "Counter({False: 10, True: 16})"
      ]
     },
     "execution_count": 36,
     "metadata": {},
     "output_type": "execute_result"
    }
   ],
   "source": [
    "from collections import Counter\n",
    "Counter (dev_correct_predictions)"
   ]
  },
  {
   "cell_type": "markdown",
   "metadata": {},
   "source": [
    "### 9. Save model"
   ]
  },
  {
   "cell_type": "markdown",
   "metadata": {},
   "source": [
    "We save the model if it is better than others "
   ]
  },
  {
   "cell_type": "code",
   "execution_count": 37,
   "metadata": {},
   "outputs": [],
   "source": [
    "# Save\n",
    "model.save('./Modelos/CNN_model2_ce_IMPARES_DIA31.h5') # Change the name in each model"
   ]
  },
  {
   "cell_type": "code",
   "execution_count": 38,
   "metadata": {},
   "outputs": [
    {
     "data": {
      "text/plain": [
       "\"\\nnew_model = keras.models.load_model('./Modelos/EGG_prac1_ANN_model3.h5')\\n\\nimport numpy as np\\n\\n# Verify state\\nnew_predictions = new_model.predict(X_dev)\\nnp.testing.assert_allclose(predictions, new_predictions, rtol=1e-6, atol=1e-6)\\n\\n# Note that the optimizer state is also preserved:\\n# you can resume training where you left off.\\n\""
      ]
     },
     "execution_count": 38,
     "metadata": {},
     "output_type": "execute_result"
    }
   ],
   "source": [
    "# Extract\n",
    "\"\"\"\n",
    "new_model = keras.models.load_model('./Modelos/EGG_prac1_ANN_model3.h5')\n",
    "\n",
    "import numpy as np\n",
    "\n",
    "# Verify state\n",
    "new_predictions = new_model.predict(X_dev)\n",
    "np.testing.assert_allclose(predictions, new_predictions, rtol=1e-6, atol=1e-6)\n",
    "\n",
    "# Note that the optimizer state is also preserved:\n",
    "# you can resume training where you left off.\n",
    "\"\"\""
   ]
  },
  {
   "cell_type": "code",
   "execution_count": null,
   "metadata": {},
   "outputs": [],
   "source": []
  },
  {
   "cell_type": "code",
   "execution_count": null,
   "metadata": {},
   "outputs": [],
   "source": []
  },
  {
   "cell_type": "code",
   "execution_count": null,
   "metadata": {},
   "outputs": [],
   "source": []
  },
  {
   "cell_type": "markdown",
   "metadata": {},
   "source": [
    "### 10 - Final Test\n",
    "\n",
    "#### 10.1 - Load the final test set"
   ]
  },
  {
   "cell_type": "markdown",
   "metadata": {},
   "source": [
    "#### 10.2 - Evaluate the model"
   ]
  },
  {
   "cell_type": "code",
   "execution_count": 39,
   "metadata": {},
   "outputs": [],
   "source": [
    "\n",
    "from collections import Counter\n",
    "def predictWithModel(model, X_test, y_test, task1, task2, task3=\"\"):\n",
    "    model.evaluate(X_test, y_test)\n",
    "    test_predictions = model.predict(X_test)\n",
    "    test_rounded_predictions=np.round(test_predictions)\n",
    "    indices = np.argmax(test_predictions,1)\n",
    "    for row, index in zip(test_rounded_predictions, indices): row[index]=1\n",
    "    print(test_rounded_predictions[:20])\n",
    "    \n",
    "    # ACCURACY:\n",
    "    test_correct_predictions = np.equal(np.argmax(test_rounded_predictions,1),np.argmax(y_test,1))\n",
    "    print()\n",
    "    print(test_correct_predictions)\n",
    "    print(type(test_correct_predictions))\n",
    "    final_test_prediction_results=Counter(test_correct_predictions)\n",
    "    \n",
    "    success = np.mean(test_rounded_predictions == y_test)*100\n",
    "    \n",
    "    return final_test_prediction_results, success\n"
   ]
  },
  {
   "cell_type": "code",
   "execution_count": 40,
   "metadata": {},
   "outputs": [
    {
     "name": "stdout",
     "output_type": "stream",
     "text": [
      "1/1 [==============================] - 0s 13ms/step - loss: 0.6769 - accuracy: 0.6154\n",
      "[[0. 1.]\n",
      " [0. 1.]\n",
      " [0. 1.]\n",
      " [0. 1.]\n",
      " [0. 1.]\n",
      " [0. 1.]\n",
      " [0. 1.]\n",
      " [0. 1.]\n",
      " [0. 1.]\n",
      " [0. 1.]\n",
      " [0. 1.]\n",
      " [0. 1.]\n",
      " [0. 1.]]\n",
      "\n",
      "[False False False  True  True  True  True  True  True  True  True False\n",
      " False]\n",
      "<class 'numpy.ndarray'>\n",
      "Counter({True: 8, False: 5}) 61.53846153846154\n"
     ]
    }
   ],
   "source": [
    "\n",
    "accuracy, success = predictWithModel(model, X_test, y_test, 402,404)\n",
    "print(accuracy, success)"
   ]
  },
  {
   "cell_type": "code",
   "execution_count": null,
   "metadata": {},
   "outputs": [],
   "source": []
  }
 ],
 "metadata": {
  "kernelspec": {
   "display_name": "Python 3",
   "language": "python",
   "name": "python3"
  },
  "language_info": {
   "codemirror_mode": {
    "name": "ipython",
    "version": 3
   },
   "file_extension": ".py",
   "mimetype": "text/x-python",
   "name": "python",
   "nbconvert_exporter": "python",
   "pygments_lexer": "ipython3",
   "version": "3.8.5"
  }
 },
 "nbformat": 4,
 "nbformat_minor": 4
}
