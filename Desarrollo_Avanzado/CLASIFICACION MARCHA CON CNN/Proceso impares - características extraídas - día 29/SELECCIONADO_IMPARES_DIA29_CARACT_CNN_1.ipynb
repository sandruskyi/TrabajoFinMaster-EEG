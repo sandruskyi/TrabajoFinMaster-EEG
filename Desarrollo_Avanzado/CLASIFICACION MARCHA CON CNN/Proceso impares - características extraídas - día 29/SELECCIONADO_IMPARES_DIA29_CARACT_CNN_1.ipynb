{
 "cells": [
  {
   "cell_type": "markdown",
   "metadata": {},
   "source": [
    "# Parte 4: Clasificación con CNN"
   ]
  },
  {
   "cell_type": "markdown",
   "metadata": {},
   "source": [
    "### Resultados con la arquitectura anterior: "
   ]
  },
  {
   "cell_type": "markdown",
   "metadata": {},
   "source": [
    "Primero"
   ]
  },
  {
   "cell_type": "markdown",
   "metadata": {},
   "source": [
    "### Cambios realizados"
   ]
  },
  {
   "cell_type": "markdown",
   "metadata": {},
   "source": []
  },
  {
   "cell_type": "markdown",
   "metadata": {},
   "source": [
    "### Nuevos resultados: "
   ]
  },
  {
   "cell_type": "markdown",
   "metadata": {},
   "source": [
    "Resultados:\n",
    "    \n",
    "    TRAIN                   DEV\n",
    "    loss       accuracy     val_loss    val_accuracy\n",
    "    0.047866\t1.0\t        0.336078\t0.846154\n",
    "    \n",
    "Por tanto: \n",
    "\n",
    "    E = 1 - Accuracy\n",
    "    Etrain = 1 - 1.0 = 0\n",
    "    Etest = 1 - 0.846154 = 0.153846\n",
    "    \n",
    "    Bias = Etrain - Ehuman = 0\n",
    "    Variance = Etest - Etrain = 0.153846 - 0 = 0.153846\n",
    "\n",
    "Los resultados son buenísimos!!! Aunque hay un poco de overfitting. Se va a tratar la varianza para bajar el overfitting"
   ]
  },
  {
   "cell_type": "markdown",
   "metadata": {},
   "source": [
    "### 1 - Import Libraries"
   ]
  },
  {
   "cell_type": "code",
   "execution_count": 1,
   "metadata": {},
   "outputs": [],
   "source": [
    "# Tensorflow and tf.keras\n",
    "import tensorflow as tf\n",
    "from tensorflow import keras\n",
    "\n",
    "#Helper libraries\n",
    "import matplotlib.pyplot as plt\n",
    "import pandas as pd\n",
    "import numpy as np\n",
    "\n",
    "# Signal libraries\n",
    "from scipy import signal\n"
   ]
  },
  {
   "cell_type": "markdown",
   "metadata": {},
   "source": [
    "### 2 - Load data"
   ]
  },
  {
   "cell_type": "code",
   "execution_count": 2,
   "metadata": {},
   "outputs": [],
   "source": [
    "class ROutput:\n",
    "    def __init__(self, task, data):\n",
    "        self.task = task\n",
    "        self.data = data\n",
    "        \n",
    "class OutTaskData: \n",
    "    def __init__(self, task, data): \n",
    "        self.task = task\n",
    "        self.data = data"
   ]
  },
  {
   "cell_type": "code",
   "execution_count": 3,
   "metadata": {},
   "outputs": [],
   "source": [
    "import scipy.io as sio\n",
    "# Primero leemos los registros\n",
    "def read_outputs(rec):\n",
    "    '''read_outputs(\"userS0091f1.mat\")'''\n",
    "    mat = sio.loadmat(rec)\n",
    "    mdata = mat['session']\n",
    "    val = mdata[0,0]\n",
    "    #output = ROutput(np.array(val[\"task\"]), np.array(val[\"data\"]))\n",
    "    output = ROutput(np.array(val[\"task_EEG_p\"]), np.array(val[\"data_processed_EEG\"]))\n",
    "    return output"
   ]
  },
  {
   "cell_type": "markdown",
   "metadata": {},
   "source": [
    "### Cargamos los datos"
   ]
  },
  {
   "cell_type": "code",
   "execution_count": 4,
   "metadata": {},
   "outputs": [],
   "source": [
    "# Configuración\n",
    "from sklearn.pipeline import make_pipeline\n",
    "from sklearn.preprocessing import StandardScaler, OneHotEncoder\n",
    "from sklearn.linear_model import Perceptron\n",
    "from keras.utils import to_categorical\n",
    "\n",
    "\n",
    "task1 = 402 # SE PUEDE CAMBIAR\n",
    "task2 = 404 # SE PUEDE CAMBIAR\n",
    "task_OneHotEnconding = {402: [1.,0.], 404: [0.,1.]}\n",
    "user = 'W29' # SE PUEDE CAMBIAR\n",
    "day = '0329'\n",
    "folder_day = 'W29-29_03_2021'\n",
    "total_records = 22 # CAMBIAR SI HAY MAS REGISTROS\n",
    "fm = 200\n",
    "electrodes_names_selected = ['F3', 'FZ', 'FC1','FCZ','C1','CZ','CP1','CPZ', 'FC5', 'FC3','C5','C3','CP5','CP3','P3',\n",
    "                             'PZ','F4','FC2','FC4','FC6','C2','C4','CP2','CP4','C6','CP6','P4','HR' ,'HL', 'VU', 'VD']\n",
    "number_channels = len(electrodes_names_selected)"
   ]
  },
  {
   "cell_type": "code",
   "execution_count": 5,
   "metadata": {},
   "outputs": [
    {
     "name": "stdout",
     "output_type": "stream",
     "text": [
      "11 22\n"
     ]
    }
   ],
   "source": [
    "lTaskData = []\n",
    "total_records_used = 0\n",
    "for i_rec in range(1,total_records+1):\n",
    "    i_rec_record = i_rec\n",
    "    if i_rec_record <10:\n",
    "        i_rec_record = \"0\"+str(i_rec_record)\n",
    "    if i_rec % 2 != 0: # Registros impares primero: USUARIO SIN MOVIMIENTO SOLO PENSANDO\n",
    "        record = \"./RegistrosProcesados2/\"+folder_day+\"/W29_2021\"+day+\"_openloop_\"+str(i_rec_record)+\"_processed.mat\"\n",
    "        output = read_outputs(record) # output.task será y, output.data será x\n",
    "\n",
    "\n",
    "        output.task = np.transpose(output.task)\n",
    "        output.data = output.data.reshape((np.shape(output.data)[0],np.shape(output.data)[1]))\n",
    "        output.data = np.transpose(output.data)\n",
    "        #output.data = output.data.reshape((np.shape(output.data)[0],np.shape(output.data)[1],1))\n",
    "\n",
    "        outT = (output.task == task1) | (output.task == task2)\n",
    "        outData = output.data[0:np.shape(output.data)[0], outT[0,:]]\n",
    "        outTask = output.task[0, outT[0,:]]\n",
    "        outTD = OutTaskData(outTask, outData)\n",
    "\n",
    "        lTaskData.append(outTD)\n",
    "        total_records_used+=1\n",
    "print(total_records_used, total_records)"
   ]
  },
  {
   "cell_type": "code",
   "execution_count": 6,
   "metadata": {},
   "outputs": [
    {
     "name": "stdout",
     "output_type": "stream",
     "text": [
      "X_train: (8, 32, 49)\n",
      "y_train: (8, 49)\n",
      "X_dev: (2, 32, 49)\n",
      "y_dev: (2, 49)\n",
      "X_test: (1, 32, 49)\n",
      "y_test: (1, 49)\n",
      "ONE HOT ENCODER:\n",
      "X_train: (104, 32, 5, 1)\n",
      "y_train: (104, 2)\n",
      "X_dev: (26, 32, 5, 1)\n",
      "y_dev: (26, 2)\n",
      "X_test: (13, 32, 5, 1)\n",
      "y_test: (13, 2)\n"
     ]
    }
   ],
   "source": [
    "# Vamos a coger 2 registros para el entrenamiento, 1 para el conjunto dev set, 1 para el test set\n",
    "X_train, y_train, X_dev, y_dev, X_test, y_test = [],[],[],[],[],[] \n",
    "for j in range(0,total_records_used-3): # Cogemos 18 registros para entrenamiento\n",
    "    X_train.append(lTaskData[j].data)\n",
    "    y_train.append(lTaskData[j].task)\n",
    "\n",
    "for j in range(total_records_used-3,total_records_used-1): # Cogemos 2 registros para el dev set\n",
    "    X_dev.append(lTaskData[j].data)\n",
    "    y_dev.append(lTaskData[j].task)\n",
    "for j in range(total_records_used-1,total_records_used): # Cogemos 2 registros para el test set\n",
    "    X_test.append(lTaskData[j].data)\n",
    "    y_test.append(lTaskData[j].task)\n",
    "\n",
    "X_train = np.array(X_train)\n",
    "#y_train = np.ravel(np.array(y_train))\n",
    "y_train = np.array(y_train)\n",
    "X_dev = np.array(X_dev)\n",
    "#y_dev = np.ravel(np.array(y_dev))\n",
    "y_dev = np.array(y_dev)\n",
    "X_test = np.array(X_test)\n",
    "y_test = np.array(y_test)\n",
    "#y_test = np.ravel(np.array(y_test))\n",
    "\n",
    "print (\"X_train:\",X_train.shape)\n",
    "print (\"y_train:\",y_train.shape)\n",
    "print (\"X_dev:\",X_dev.shape)\n",
    "print (\"y_dev:\",y_dev.shape)\n",
    "print (\"X_test:\",X_test.shape)\n",
    "print (\"y_test:\",y_test.shape)\n",
    "\n",
    "\n",
    "\n",
    "\n",
    "\n",
    "# VENTANEO Y ONE HOT ENCODING \n",
    "window = 5\n",
    "samples_advance = 3\n",
    "\n",
    "# Ventaneo X_train\n",
    "\n",
    "X_train_l = []\n",
    "y_train_l = []\n",
    "for num_X_train in range(np.shape(X_train)[0]): # Para no mezclar registros\n",
    "    win_init = int(0)\n",
    "    window_position = 0\n",
    "    \n",
    "    for i in range(np.shape(X_train)[2]): # For each signal registered\n",
    "        win_end = int(win_init + window)\n",
    "        if win_end >= np.shape(X_train)[2]:\n",
    "            break\n",
    "\n",
    "        task = np.unique(y_train[num_X_train,win_init:win_end])\n",
    "\n",
    "        if len(task)==1:\n",
    "        #if task1 in task or task2 in task:\n",
    "            signal_window = X_train[num_X_train, :, win_init:win_end]\n",
    "            \n",
    "            #data_filtered = preprocessing(signal_window, fm, number_channels)\n",
    "            #X_train_l.append(data_filtered)\n",
    "            X_train_l.append(signal_window)\n",
    "            taskOH = task_OneHotEnconding[task[0]]\n",
    "            y_train_l.append(taskOH)\n",
    "            \n",
    "        win_init += int(samples_advance)\n",
    "\n",
    "X_train_l = np.array(X_train_l)\n",
    "y_train_l = np.array(y_train_l)\n",
    "\n",
    "\n",
    "# Ventaneo X_dev\n",
    "X_dev_l = []\n",
    "y_dev_l = []\n",
    "for num_X_dev in range(np.shape(X_dev)[0]):\n",
    "    win_init = int(0)\n",
    "    window_position = 0\n",
    "    \n",
    "    for i in range(np.shape(X_dev)[2]): # For each signal registered\n",
    "        win_end = int(win_init + window)\n",
    "        if win_end >= np.shape(X_dev)[2]:\n",
    "            break\n",
    "\n",
    "        task = np.unique(y_dev[num_X_dev,win_init:win_end])\n",
    "\n",
    "        if len(task)==1:\n",
    "        #if task1 in task or task2 in task:\n",
    "            signal_window = X_dev[num_X_dev, :, win_init:win_end]\n",
    "            \n",
    "            #data_filtered = preprocessing(signal_window, fm, number_channels)\n",
    "            #X_train_l.append(data_filtered)\n",
    "            X_dev_l.append(signal_window)\n",
    "            taskOH = task_OneHotEnconding[task[0]]\n",
    "            y_dev_l.append(taskOH)\n",
    "            \n",
    "        win_init += int(samples_advance)\n",
    "\n",
    "X_dev_l = np.array(X_dev_l)\n",
    "y_dev_l = np.array(y_dev_l)\n",
    "\n",
    "# Ventaneo X_test\n",
    "X_test_l = []\n",
    "y_test_l = []\n",
    "for num_X_test in range(np.shape(X_test)[0]): \n",
    "    win_init = int(0)\n",
    "    window_position = 0\n",
    "    \n",
    "    for i in range(np.shape(X_test)[2]): # For each signal registered\n",
    "        win_end = int(win_init + window)\n",
    "        if win_end >= np.shape(X_test)[2]:\n",
    "            break\n",
    "\n",
    "        task = np.unique(y_test[num_X_test,win_init:win_end])\n",
    "\n",
    "        if len(task)==1:\n",
    "        #if task1 in task or task2 in task:\n",
    "            signal_window = X_test[num_X_test, :, win_init:win_end]\n",
    "            \n",
    "            #data_filtered = preprocessing(signal_window, fm, number_channels)\n",
    "            #X_train_l.append(data_filtered)\n",
    "            X_test_l.append(signal_window)\n",
    "            taskOH = task_OneHotEnconding[task[0]]\n",
    "            y_test_l.append(taskOH)\n",
    "            \n",
    "        win_init += int(samples_advance)\n",
    "\n",
    "X_test_l = np.array(X_test_l)\n",
    "y_test_l = np.array(y_test_l)\n",
    "\n",
    "\n",
    "\n",
    "\n",
    "X_train_l = X_train_l.reshape((np.shape(X_train_l)[0],np.shape(X_train_l)[1],np.shape(X_train_l)[2], 1))\n",
    "X_dev_l = X_dev_l.reshape((np.shape(X_dev_l)[0],np.shape(X_dev_l)[1],np.shape(X_dev_l)[2], 1))\n",
    "X_test_l = X_test_l.reshape((np.shape(X_test_l)[0],np.shape(X_test_l)[1],np.shape(X_test_l)[2], 1))\n",
    "\n",
    "\n",
    "print(\"ONE HOT ENCODER:\")\n",
    "print (\"X_train:\",X_train_l.shape)\n",
    "print (\"y_train:\",y_train_l.shape)\n",
    "print (\"X_dev:\",X_dev_l.shape)\n",
    "print (\"y_dev:\",y_dev_l.shape)\n",
    "print (\"X_test:\",X_test_l.shape)\n",
    "print (\"y_test:\",y_test_l.shape)\n",
    "\n",
    "X_train = X_train_l\n",
    "y_train = y_train_l\n",
    "X_dev = X_dev_l\n",
    "y_dev = y_dev_l\n",
    "X_test = X_test_l\n",
    "y_test = y_test_l"
   ]
  },
  {
   "cell_type": "markdown",
   "metadata": {},
   "source": [
    "### 3. Initialize variables"
   ]
  },
  {
   "cell_type": "code",
   "execution_count": 7,
   "metadata": {},
   "outputs": [],
   "source": [
    "INPUTS = X_train.shape[1]\n",
    "OUTPUTS = y_train.shape[1]\n",
    "NUM_TRAINING_EXAMPLES = int(round(X_train.shape[0]/1))\n",
    "NUM_DEV_EXAMPLES = int(round(y_train.shape[0]/1))"
   ]
  },
  {
   "cell_type": "markdown",
   "metadata": {},
   "source": [
    "Some data is displayed to test correctness:"
   ]
  },
  {
   "cell_type": "code",
   "execution_count": 8,
   "metadata": {},
   "outputs": [
    {
     "data": {
      "text/plain": [
       "array([[[[-1.38463797],\n",
       "         [-1.3398647 ],\n",
       "         [-1.06249737],\n",
       "         [-0.97944837],\n",
       "         [-1.20295092]],\n",
       "\n",
       "        [[-1.32141942],\n",
       "         [-1.19480199],\n",
       "         [-0.89951536],\n",
       "         [-1.22661253],\n",
       "         [-1.27664092]],\n",
       "\n",
       "        [[-0.59505397],\n",
       "         [-0.74369288],\n",
       "         [-0.65861475],\n",
       "         [-0.68301611],\n",
       "         [-0.74234214]],\n",
       "\n",
       "        [[-1.09579794],\n",
       "         [-1.04212211],\n",
       "         [-0.98139022],\n",
       "         [-1.05698774],\n",
       "         [-1.07386856]],\n",
       "\n",
       "        [[-0.90317813],\n",
       "         [-0.84218293],\n",
       "         [-0.90966849],\n",
       "         [-0.97146131],\n",
       "         [-0.83202902]],\n",
       "\n",
       "        [[-0.84676666],\n",
       "         [-0.8048371 ],\n",
       "         [-1.05301257],\n",
       "         [-0.76038044],\n",
       "         [-0.61193567]],\n",
       "\n",
       "        [[-0.83134123],\n",
       "         [-0.98393189],\n",
       "         [-1.12833941],\n",
       "         [-1.00765834],\n",
       "         [-1.03244972]],\n",
       "\n",
       "        [[-0.79037901],\n",
       "         [-0.66773658],\n",
       "         [-0.75087063],\n",
       "         [-0.79061791],\n",
       "         [-0.87065894]],\n",
       "\n",
       "        [[-1.09322188],\n",
       "         [-1.24266523],\n",
       "         [-1.12684301],\n",
       "         [-1.2590641 ],\n",
       "         [-1.13206514]],\n",
       "\n",
       "        [[-1.19413195],\n",
       "         [-1.28722385],\n",
       "         [-1.24000264],\n",
       "         [-1.36800581],\n",
       "         [-1.41818427]],\n",
       "\n",
       "        [[-0.73716963],\n",
       "         [-0.78327714],\n",
       "         [-0.75360461],\n",
       "         [-0.59518563],\n",
       "         [-0.50100682]],\n",
       "\n",
       "        [[-1.02135994],\n",
       "         [-1.11012005],\n",
       "         [-1.1764177 ],\n",
       "         [-1.2381529 ],\n",
       "         [-1.38703596]],\n",
       "\n",
       "        [[-0.88523894],\n",
       "         [-0.74618704],\n",
       "         [-0.76572283],\n",
       "         [-0.92774016],\n",
       "         [-1.15898674]],\n",
       "\n",
       "        [[-0.78566527],\n",
       "         [-0.91330957],\n",
       "         [-0.73808425],\n",
       "         [-0.74733418],\n",
       "         [-0.72522067]],\n",
       "\n",
       "        [[-0.77094598],\n",
       "         [-0.76388667],\n",
       "         [-0.89093519],\n",
       "         [-0.83629498],\n",
       "         [-0.73399218]],\n",
       "\n",
       "        [[-0.94502178],\n",
       "         [-0.75657026],\n",
       "         [-0.8477659 ],\n",
       "         [-0.83124564],\n",
       "         [-1.04860851]],\n",
       "\n",
       "        [[-0.74419855],\n",
       "         [-0.67862673],\n",
       "         [-0.65378728],\n",
       "         [-0.69735986],\n",
       "         [-0.68675183]],\n",
       "\n",
       "        [[-1.3796927 ],\n",
       "         [-1.18269779],\n",
       "         [-1.18900552],\n",
       "         [-1.08714626],\n",
       "         [-1.17449309]],\n",
       "\n",
       "        [[-0.80347066],\n",
       "         [-0.85829047],\n",
       "         [-0.82620769],\n",
       "         [-1.04431852],\n",
       "         [-1.2044532 ]],\n",
       "\n",
       "        [[-0.93403383],\n",
       "         [-0.91174129],\n",
       "         [-1.04989086],\n",
       "         [-1.01167716],\n",
       "         [-0.8984472 ]],\n",
       "\n",
       "        [[-0.80582495],\n",
       "         [-0.84908152],\n",
       "         [-0.96559195],\n",
       "         [-1.0571501 ],\n",
       "         [-1.13649519]],\n",
       "\n",
       "        [[-0.87739246],\n",
       "         [-0.9743872 ],\n",
       "         [-0.99639894],\n",
       "         [-0.92484807],\n",
       "         [-0.9414081 ]],\n",
       "\n",
       "        [[-0.96862469],\n",
       "         [-1.05101509],\n",
       "         [-0.90246469],\n",
       "         [-0.75118755],\n",
       "         [-0.78665117]],\n",
       "\n",
       "        [[-0.96680255],\n",
       "         [-0.89590139],\n",
       "         [-0.85156733],\n",
       "         [-0.83597888],\n",
       "         [-0.72659419]],\n",
       "\n",
       "        [[-1.01807565],\n",
       "         [-0.93934673],\n",
       "         [-1.00903634],\n",
       "         [-1.00549156],\n",
       "         [-0.82540634]],\n",
       "\n",
       "        [[-0.61443266],\n",
       "         [-0.68184139],\n",
       "         [-0.71885217],\n",
       "         [-0.81922632],\n",
       "         [-0.68642784]],\n",
       "\n",
       "        [[-1.04384192],\n",
       "         [-1.09880698],\n",
       "         [-1.13619905],\n",
       "         [-1.06988352],\n",
       "         [-1.15509615]],\n",
       "\n",
       "        [[-1.03055036],\n",
       "         [-1.19397265],\n",
       "         [-1.10394252],\n",
       "         [-0.9091565 ],\n",
       "         [-1.04276726]],\n",
       "\n",
       "        [[-0.91101098],\n",
       "         [-0.92322365],\n",
       "         [-0.74219974],\n",
       "         [-0.66550718],\n",
       "         [-0.77338115]],\n",
       "\n",
       "        [[-1.00475919],\n",
       "         [-0.88957283],\n",
       "         [-0.91739902],\n",
       "         [-0.8960064 ],\n",
       "         [-0.97256582]],\n",
       "\n",
       "        [[-0.87614307],\n",
       "         [-0.77786184],\n",
       "         [-0.76508686],\n",
       "         [-0.89167831],\n",
       "         [-1.06763762]],\n",
       "\n",
       "        [[-0.91065747],\n",
       "         [-0.92712361],\n",
       "         [-1.06824928],\n",
       "         [-1.15599045],\n",
       "         [-0.90847509]]],\n",
       "\n",
       "\n",
       "       [[[-0.97944837],\n",
       "         [-1.20295092],\n",
       "         [-1.28863884],\n",
       "         [-1.5409905 ],\n",
       "         [-1.42101032]],\n",
       "\n",
       "        [[-1.22661253],\n",
       "         [-1.27664092],\n",
       "         [-1.25833703],\n",
       "         [-1.31697595],\n",
       "         [-1.38079719]],\n",
       "\n",
       "        [[-0.68301611],\n",
       "         [-0.74234214],\n",
       "         [-0.74917315],\n",
       "         [-0.7692032 ],\n",
       "         [-0.63337355]],\n",
       "\n",
       "        [[-1.05698774],\n",
       "         [-1.07386856],\n",
       "         [-1.2009836 ],\n",
       "         [-1.0612143 ],\n",
       "         [-0.89210319]],\n",
       "\n",
       "        [[-0.97146131],\n",
       "         [-0.83202902],\n",
       "         [-0.80490563],\n",
       "         [-0.78128686],\n",
       "         [-0.92151338]],\n",
       "\n",
       "        [[-0.76038044],\n",
       "         [-0.61193567],\n",
       "         [-0.63361009],\n",
       "         [-0.67879666],\n",
       "         [-0.77785648]],\n",
       "\n",
       "        [[-1.00765834],\n",
       "         [-1.03244972],\n",
       "         [-1.00856293],\n",
       "         [-0.93298784],\n",
       "         [-0.95175679]],\n",
       "\n",
       "        [[-0.79061791],\n",
       "         [-0.87065894],\n",
       "         [-0.78243962],\n",
       "         [-0.75850999],\n",
       "         [-0.79233759]],\n",
       "\n",
       "        [[-1.2590641 ],\n",
       "         [-1.13206514],\n",
       "         [-1.21418227],\n",
       "         [-1.22804359],\n",
       "         [-1.34842126]],\n",
       "\n",
       "        [[-1.36800581],\n",
       "         [-1.41818427],\n",
       "         [-1.26378319],\n",
       "         [-1.131061  ],\n",
       "         [-0.91039365]],\n",
       "\n",
       "        [[-0.59518563],\n",
       "         [-0.50100682],\n",
       "         [-0.58321481],\n",
       "         [-0.68317934],\n",
       "         [-0.91804723]],\n",
       "\n",
       "        [[-1.2381529 ],\n",
       "         [-1.38703596],\n",
       "         [-1.02494041],\n",
       "         [-0.91166984],\n",
       "         [-0.90471414]],\n",
       "\n",
       "        [[-0.92774016],\n",
       "         [-1.15898674],\n",
       "         [-0.89305903],\n",
       "         [-0.76613428],\n",
       "         [-0.67414022]],\n",
       "\n",
       "        [[-0.74733418],\n",
       "         [-0.72522067],\n",
       "         [-0.93185229],\n",
       "         [-0.84038338],\n",
       "         [-0.93862164]],\n",
       "\n",
       "        [[-0.83629498],\n",
       "         [-0.73399218],\n",
       "         [-0.79624345],\n",
       "         [-1.05153466],\n",
       "         [-0.93243952]],\n",
       "\n",
       "        [[-0.83124564],\n",
       "         [-1.04860851],\n",
       "         [-0.9059786 ],\n",
       "         [-0.87821271],\n",
       "         [-0.84414134]],\n",
       "\n",
       "        [[-0.69735986],\n",
       "         [-0.68675183],\n",
       "         [-0.61799691],\n",
       "         [-0.58975998],\n",
       "         [-0.75447521]],\n",
       "\n",
       "        [[-1.08714626],\n",
       "         [-1.17449309],\n",
       "         [-1.26671027],\n",
       "         [-1.40009263],\n",
       "         [-1.33719468]],\n",
       "\n",
       "        [[-1.04431852],\n",
       "         [-1.2044532 ],\n",
       "         [-1.06628118],\n",
       "         [-1.02557559],\n",
       "         [-0.93449044]],\n",
       "\n",
       "        [[-1.01167716],\n",
       "         [-0.8984472 ],\n",
       "         [-0.99502141],\n",
       "         [-0.87712365],\n",
       "         [-0.65672384]],\n",
       "\n",
       "        [[-1.0571501 ],\n",
       "         [-1.13649519],\n",
       "         [-1.09953459],\n",
       "         [-0.95772306],\n",
       "         [-0.82433372]],\n",
       "\n",
       "        [[-0.92484807],\n",
       "         [-0.9414081 ],\n",
       "         [-0.87039414],\n",
       "         [-0.85855054],\n",
       "         [-0.96271642]],\n",
       "\n",
       "        [[-0.75118755],\n",
       "         [-0.78665117],\n",
       "         [-0.80155313],\n",
       "         [-0.8506135 ],\n",
       "         [-0.94693778]],\n",
       "\n",
       "        [[-0.83597888],\n",
       "         [-0.72659419],\n",
       "         [-0.83659393],\n",
       "         [-1.06421604],\n",
       "         [-1.15824729]],\n",
       "\n",
       "        [[-1.00549156],\n",
       "         [-0.82540634],\n",
       "         [-0.77400669],\n",
       "         [-0.81524275],\n",
       "         [-0.89812457]],\n",
       "\n",
       "        [[-0.81922632],\n",
       "         [-0.68642784],\n",
       "         [-0.75082369],\n",
       "         [-0.79115421],\n",
       "         [-0.93515424]],\n",
       "\n",
       "        [[-1.06988352],\n",
       "         [-1.15509615],\n",
       "         [-1.1463115 ],\n",
       "         [-1.05546557],\n",
       "         [-1.03280938]],\n",
       "\n",
       "        [[-0.9091565 ],\n",
       "         [-1.04276726],\n",
       "         [-1.08391877],\n",
       "         [-1.28283594],\n",
       "         [-1.13415315]],\n",
       "\n",
       "        [[-0.66550718],\n",
       "         [-0.77338115],\n",
       "         [-0.91774173],\n",
       "         [-0.91892365],\n",
       "         [-0.89681615]],\n",
       "\n",
       "        [[-0.8960064 ],\n",
       "         [-0.97256582],\n",
       "         [-0.88395176],\n",
       "         [-0.81011155],\n",
       "         [-0.81741739]],\n",
       "\n",
       "        [[-0.89167831],\n",
       "         [-1.06763762],\n",
       "         [-0.9282287 ],\n",
       "         [-0.83117663],\n",
       "         [-0.75010923]],\n",
       "\n",
       "        [[-1.15599045],\n",
       "         [-0.90847509],\n",
       "         [-0.88285532],\n",
       "         [-0.91293134],\n",
       "         [-0.87144274]]]])"
      ]
     },
     "execution_count": 8,
     "metadata": {},
     "output_type": "execute_result"
    }
   ],
   "source": [
    "X_train[:2]"
   ]
  },
  {
   "cell_type": "code",
   "execution_count": 9,
   "metadata": {},
   "outputs": [
    {
     "data": {
      "text/plain": [
       "array([[[[-1.14466233],\n",
       "         [-1.14632036],\n",
       "         [-1.05980952],\n",
       "         [-1.00558921],\n",
       "         [-1.14850685]],\n",
       "\n",
       "        [[-0.69471748],\n",
       "         [-0.76256718],\n",
       "         [-0.94720961],\n",
       "         [-0.81555625],\n",
       "         [-0.69533738]],\n",
       "\n",
       "        [[-0.66524014],\n",
       "         [-0.59501736],\n",
       "         [-0.63250646],\n",
       "         [-0.66595471],\n",
       "         [-0.66314749]],\n",
       "\n",
       "        [[-0.71391328],\n",
       "         [-0.89042458],\n",
       "         [-0.7518168 ],\n",
       "         [-0.71697653],\n",
       "         [-0.56594166]],\n",
       "\n",
       "        [[-1.17857479],\n",
       "         [-1.04025396],\n",
       "         [-1.01033928],\n",
       "         [-1.14369605],\n",
       "         [-1.2297065 ]],\n",
       "\n",
       "        [[-0.96140453],\n",
       "         [-0.90139725],\n",
       "         [-0.94267384],\n",
       "         [-0.98543405],\n",
       "         [-1.36240168]],\n",
       "\n",
       "        [[-1.08427528],\n",
       "         [-1.09042485],\n",
       "         [-1.02911431],\n",
       "         [-1.21425287],\n",
       "         [-1.12484445]],\n",
       "\n",
       "        [[-1.2289098 ],\n",
       "         [-1.12365808],\n",
       "         [-1.07310769],\n",
       "         [-0.98133018],\n",
       "         [-1.21428852]],\n",
       "\n",
       "        [[-1.09175507],\n",
       "         [-1.42042687],\n",
       "         [-1.38962571],\n",
       "         [-1.41904679],\n",
       "         [-1.1034812 ]],\n",
       "\n",
       "        [[-1.08236599],\n",
       "         [-1.14339681],\n",
       "         [-1.12102947],\n",
       "         [-1.10866805],\n",
       "         [-1.01577095]],\n",
       "\n",
       "        [[-1.13609467],\n",
       "         [-1.09516805],\n",
       "         [-1.10752885],\n",
       "         [-1.20650831],\n",
       "         [-1.18431988]],\n",
       "\n",
       "        [[-0.79843194],\n",
       "         [-0.50173869],\n",
       "         [-0.51760283],\n",
       "         [-0.58064868],\n",
       "         [-0.80191106]],\n",
       "\n",
       "        [[-0.93432945],\n",
       "         [-0.97587127],\n",
       "         [-0.8913366 ],\n",
       "         [-0.95483958],\n",
       "         [-0.68329472]],\n",
       "\n",
       "        [[-0.88963391],\n",
       "         [-1.01836626],\n",
       "         [-0.95540208],\n",
       "         [-0.79849929],\n",
       "         [-0.8160019 ]],\n",
       "\n",
       "        [[-0.81580376],\n",
       "         [-0.91502802],\n",
       "         [-0.84044636],\n",
       "         [-0.70651683],\n",
       "         [-0.81724497]],\n",
       "\n",
       "        [[-0.68597225],\n",
       "         [-0.76530461],\n",
       "         [-0.9274747 ],\n",
       "         [-1.032958  ],\n",
       "         [-1.04996206]],\n",
       "\n",
       "        [[-0.97899133],\n",
       "         [-1.2262522 ],\n",
       "         [-1.18663618],\n",
       "         [-1.26141763],\n",
       "         [-1.27257818]],\n",
       "\n",
       "        [[-1.22830392],\n",
       "         [-1.20608565],\n",
       "         [-1.2749337 ],\n",
       "         [-1.22433747],\n",
       "         [-1.324781  ]],\n",
       "\n",
       "        [[-0.81434715],\n",
       "         [-0.62268895],\n",
       "         [-0.65055713],\n",
       "         [-0.59306768],\n",
       "         [-0.83244412]],\n",
       "\n",
       "        [[-0.86304658],\n",
       "         [-0.80481648],\n",
       "         [-0.635015  ],\n",
       "         [-0.54844866],\n",
       "         [-0.51948607]],\n",
       "\n",
       "        [[-0.88858546],\n",
       "         [-0.92560402],\n",
       "         [-1.02078969],\n",
       "         [-1.05479413],\n",
       "         [-0.95318429]],\n",
       "\n",
       "        [[-0.68649702],\n",
       "         [-0.71848754],\n",
       "         [-0.8134241 ],\n",
       "         [-1.06088303],\n",
       "         [-1.03198966]],\n",
       "\n",
       "        [[-0.89410841],\n",
       "         [-1.05052588],\n",
       "         [-1.0538994 ],\n",
       "         [-1.09420653],\n",
       "         [-1.02420545]],\n",
       "\n",
       "        [[-1.08180308],\n",
       "         [-1.07401549],\n",
       "         [-1.04963572],\n",
       "         [-1.03656642],\n",
       "         [-0.82107431]],\n",
       "\n",
       "        [[-0.76272878],\n",
       "         [-0.62037232],\n",
       "         [-0.5519041 ],\n",
       "         [-0.7098178 ],\n",
       "         [-0.97610051]],\n",
       "\n",
       "        [[-0.73197355],\n",
       "         [-0.7595394 ],\n",
       "         [-0.7696291 ],\n",
       "         [-0.96375963],\n",
       "         [-0.88520261]],\n",
       "\n",
       "        [[-0.85745394],\n",
       "         [-0.98511497],\n",
       "         [-0.98916096],\n",
       "         [-0.8088358 ],\n",
       "         [-0.78659755]],\n",
       "\n",
       "        [[-0.92342188],\n",
       "         [-0.86336572],\n",
       "         [-0.82751283],\n",
       "         [-0.73182538],\n",
       "         [-0.68340005]],\n",
       "\n",
       "        [[-1.01822391],\n",
       "         [-1.15766143],\n",
       "         [-1.08729553],\n",
       "         [-1.12321119],\n",
       "         [-1.02437037]],\n",
       "\n",
       "        [[-1.2588384 ],\n",
       "         [-1.26074077],\n",
       "         [-1.24506424],\n",
       "         [-1.03752617],\n",
       "         [-1.06505115]],\n",
       "\n",
       "        [[-0.9744633 ],\n",
       "         [-0.97606495],\n",
       "         [-1.03512867],\n",
       "         [-1.0632095 ],\n",
       "         [-0.92924143]],\n",
       "\n",
       "        [[-0.89700828],\n",
       "         [-0.93623456],\n",
       "         [-1.17237104],\n",
       "         [-0.99127285],\n",
       "         [-1.02226512]]],\n",
       "\n",
       "\n",
       "       [[[-1.00558921],\n",
       "         [-1.14850685],\n",
       "         [-1.2432734 ],\n",
       "         [-1.38013258],\n",
       "         [-1.15055718]],\n",
       "\n",
       "        [[-0.81555625],\n",
       "         [-0.69533738],\n",
       "         [-0.56826922],\n",
       "         [-0.6018915 ],\n",
       "         [-0.6821851 ]],\n",
       "\n",
       "        [[-0.66595471],\n",
       "         [-0.66314749],\n",
       "         [-0.77187695],\n",
       "         [-0.77201644],\n",
       "         [-0.91461487]],\n",
       "\n",
       "        [[-0.71697653],\n",
       "         [-0.56594166],\n",
       "         [-0.61620635],\n",
       "         [-0.61834364],\n",
       "         [-0.70065369]],\n",
       "\n",
       "        [[-1.14369605],\n",
       "         [-1.2297065 ],\n",
       "         [-1.34389417],\n",
       "         [-1.46901032],\n",
       "         [-1.13179375]],\n",
       "\n",
       "        [[-0.98543405],\n",
       "         [-1.36240168],\n",
       "         [-0.98056146],\n",
       "         [-0.87613026],\n",
       "         [-0.68744382]],\n",
       "\n",
       "        [[-1.21425287],\n",
       "         [-1.12484445],\n",
       "         [-1.15863732],\n",
       "         [-1.08356647],\n",
       "         [-1.2901778 ]],\n",
       "\n",
       "        [[-0.98133018],\n",
       "         [-1.21428852],\n",
       "         [-1.37364873],\n",
       "         [-1.31044465],\n",
       "         [-1.15494651]],\n",
       "\n",
       "        [[-1.41904679],\n",
       "         [-1.1034812 ],\n",
       "         [-0.99628738],\n",
       "         [-0.99177159],\n",
       "         [-1.0303498 ]],\n",
       "\n",
       "        [[-1.10866805],\n",
       "         [-1.01577095],\n",
       "         [-1.03667113],\n",
       "         [-1.16820075],\n",
       "         [-1.18682007]],\n",
       "\n",
       "        [[-1.20650831],\n",
       "         [-1.18431988],\n",
       "         [-1.22916917],\n",
       "         [-1.30210499],\n",
       "         [-1.17629441]],\n",
       "\n",
       "        [[-0.58064868],\n",
       "         [-0.80191106],\n",
       "         [-0.68954846],\n",
       "         [-0.64012144],\n",
       "         [-0.68753737]],\n",
       "\n",
       "        [[-0.95483958],\n",
       "         [-0.68329472],\n",
       "         [-0.85946148],\n",
       "         [-0.85958227],\n",
       "         [-0.98892983]],\n",
       "\n",
       "        [[-0.79849929],\n",
       "         [-0.8160019 ],\n",
       "         [-0.92594084],\n",
       "         [-0.96445686],\n",
       "         [-0.82791859]],\n",
       "\n",
       "        [[-0.70651683],\n",
       "         [-0.81724497],\n",
       "         [-0.7101645 ],\n",
       "         [-0.77465673],\n",
       "         [-0.76184993]],\n",
       "\n",
       "        [[-1.032958  ],\n",
       "         [-1.04996206],\n",
       "         [-1.03554241],\n",
       "         [-0.86459238],\n",
       "         [-0.83715232]],\n",
       "\n",
       "        [[-1.26141763],\n",
       "         [-1.27257818],\n",
       "         [-1.41677225],\n",
       "         [-1.3555137 ],\n",
       "         [-1.11634914]],\n",
       "\n",
       "        [[-1.22433747],\n",
       "         [-1.324781  ],\n",
       "         [-1.23829927],\n",
       "         [-1.19429769],\n",
       "         [-1.09616559]],\n",
       "\n",
       "        [[-0.59306768],\n",
       "         [-0.83244412],\n",
       "         [-0.71802938],\n",
       "         [-0.73931839],\n",
       "         [-0.82974085]],\n",
       "\n",
       "        [[-0.54844866],\n",
       "         [-0.51948607],\n",
       "         [-0.66128774],\n",
       "         [-0.79972638],\n",
       "         [-0.78284533]],\n",
       "\n",
       "        [[-1.05479413],\n",
       "         [-0.95318429],\n",
       "         [-0.83776655],\n",
       "         [-0.80573459],\n",
       "         [-0.88895885]],\n",
       "\n",
       "        [[-1.06088303],\n",
       "         [-1.03198966],\n",
       "         [-0.99248032],\n",
       "         [-0.85772562],\n",
       "         [-0.85440147]],\n",
       "\n",
       "        [[-1.09420653],\n",
       "         [-1.02420545],\n",
       "         [-1.09814068],\n",
       "         [-0.97641505],\n",
       "         [-0.93914187]],\n",
       "\n",
       "        [[-1.03656642],\n",
       "         [-0.82107431],\n",
       "         [-0.77578511],\n",
       "         [-0.82285019],\n",
       "         [-0.83420827]],\n",
       "\n",
       "        [[-0.7098178 ],\n",
       "         [-0.97610051],\n",
       "         [-0.97666873],\n",
       "         [-0.76401732],\n",
       "         [-0.83403535]],\n",
       "\n",
       "        [[-0.96375963],\n",
       "         [-0.88520261],\n",
       "         [-0.94269107],\n",
       "         [-0.99733239],\n",
       "         [-0.89933969]],\n",
       "\n",
       "        [[-0.8088358 ],\n",
       "         [-0.78659755],\n",
       "         [-0.87967118],\n",
       "         [-0.95340284],\n",
       "         [-0.7898202 ]],\n",
       "\n",
       "        [[-0.73182538],\n",
       "         [-0.68340005],\n",
       "         [-0.76138025],\n",
       "         [-0.71639619],\n",
       "         [-0.89939501]],\n",
       "\n",
       "        [[-1.12321119],\n",
       "         [-1.02437037],\n",
       "         [-0.98375277],\n",
       "         [-0.98668314],\n",
       "         [-1.04619989]],\n",
       "\n",
       "        [[-1.03752617],\n",
       "         [-1.06505115],\n",
       "         [-0.90977576],\n",
       "         [-0.95292941],\n",
       "         [-0.84246209]],\n",
       "\n",
       "        [[-1.0632095 ],\n",
       "         [-0.92924143],\n",
       "         [-0.78430285],\n",
       "         [-0.83089635],\n",
       "         [-0.8942963 ]],\n",
       "\n",
       "        [[-0.99127285],\n",
       "         [-1.02226512],\n",
       "         [-1.07574311],\n",
       "         [-1.21058388],\n",
       "         [-1.10865881]]]])"
      ]
     },
     "execution_count": 9,
     "metadata": {},
     "output_type": "execute_result"
    }
   ],
   "source": [
    "X_dev[:2]"
   ]
  },
  {
   "cell_type": "code",
   "execution_count": 10,
   "metadata": {},
   "outputs": [
    {
     "data": {
      "text/plain": [
       "array([[1., 0.],\n",
       "       [1., 0.]])"
      ]
     },
     "execution_count": 10,
     "metadata": {},
     "output_type": "execute_result"
    }
   ],
   "source": [
    "y_train[:2]"
   ]
  },
  {
   "cell_type": "code",
   "execution_count": 11,
   "metadata": {},
   "outputs": [
    {
     "data": {
      "text/plain": [
       "array([0., 1.])"
      ]
     },
     "execution_count": 11,
     "metadata": {},
     "output_type": "execute_result"
    }
   ],
   "source": [
    "y_train[-20]"
   ]
  },
  {
   "cell_type": "code",
   "execution_count": 12,
   "metadata": {},
   "outputs": [
    {
     "data": {
      "text/plain": [
       "array([[1., 0.],\n",
       "       [1., 0.]])"
      ]
     },
     "execution_count": 12,
     "metadata": {},
     "output_type": "execute_result"
    }
   ],
   "source": [
    "y_dev[:2]"
   ]
  },
  {
   "cell_type": "code",
   "execution_count": 13,
   "metadata": {},
   "outputs": [
    {
     "data": {
      "text/plain": [
       "(32, 5, 1)"
      ]
     },
     "execution_count": 13,
     "metadata": {},
     "output_type": "execute_result"
    }
   ],
   "source": [
    "X_dev[0].shape"
   ]
  },
  {
   "cell_type": "code",
   "execution_count": 14,
   "metadata": {},
   "outputs": [
    {
     "data": {
      "text/plain": [
       "(26, 32, 5, 1)"
      ]
     },
     "execution_count": 14,
     "metadata": {},
     "output_type": "execute_result"
    }
   ],
   "source": [
    "X_dev.shape"
   ]
  },
  {
   "cell_type": "code",
   "execution_count": 15,
   "metadata": {},
   "outputs": [
    {
     "data": {
      "text/plain": [
       "(104, 32, 5, 1)"
      ]
     },
     "execution_count": 15,
     "metadata": {},
     "output_type": "execute_result"
    }
   ],
   "source": [
    "X_train.shape"
   ]
  },
  {
   "cell_type": "code",
   "execution_count": 16,
   "metadata": {},
   "outputs": [
    {
     "data": {
      "text/plain": [
       "2"
      ]
     },
     "execution_count": 16,
     "metadata": {},
     "output_type": "execute_result"
    }
   ],
   "source": [
    "y_train.shape[1]"
   ]
  },
  {
   "cell_type": "markdown",
   "metadata": {},
   "source": [
    "### 4 - Set hyperparameters"
   ]
  },
  {
   "cell_type": "code",
   "execution_count": 17,
   "metadata": {},
   "outputs": [],
   "source": [
    "# Tensorboard\n",
    "from time import time\n",
    "from keras.callbacks import TensorBoard\n",
    "tensorboard = TensorBoard(log_dir='logs/{}'.format(time()))"
   ]
  },
  {
   "cell_type": "code",
   "execution_count": 18,
   "metadata": {},
   "outputs": [
    {
     "data": {
      "text/plain": [
       "'\\nn_epochs = 100 #2000\\n#learning_rate = 0.001\\nbatch_size = 32 #250 \\nn_neurons_per_hlayer = [500, 250, 75, 25] # Number of units per layer, 4 hidden layers\\nrate_dropout = [0.8, 0.4, 0.2, 0.1]\\nweight_decay = 1e-4\\n'"
      ]
     },
     "execution_count": 18,
     "metadata": {},
     "output_type": "execute_result"
    }
   ],
   "source": [
    "\"\"\"\n",
    "n_epochs = 100 #2000\n",
    "#learning_rate = 0.001\n",
    "batch_size = 32 #250 \n",
    "n_neurons_per_hlayer = [500, 250, 75, 25] # Number of units per layer, 4 hidden layers\n",
    "rate_dropout = [0.8, 0.4, 0.2, 0.1]\n",
    "weight_decay = 1e-4\n",
    "\"\"\""
   ]
  },
  {
   "cell_type": "markdown",
   "metadata": {},
   "source": [
    "### 5 - Build the model: "
   ]
  },
  {
   "cell_type": "code",
   "execution_count": 19,
   "metadata": {},
   "outputs": [
    {
     "name": "stdout",
     "output_type": "stream",
     "text": [
      "Model: \"sequential\"\n",
      "_________________________________________________________________\n",
      "Layer (type)                 Output Shape              Param #   \n",
      "=================================================================\n",
      "conv2d (Conv2D)              (None, 32, 5, 4)          104       \n",
      "_________________________________________________________________\n",
      "conv2d_1 (Conv2D)            (None, 32, 5, 4)          516       \n",
      "_________________________________________________________________\n",
      "max_pooling2d (MaxPooling2D) (None, 16, 2, 4)          0         \n",
      "_________________________________________________________________\n",
      "flatten (Flatten)            (None, 128)               0         \n",
      "_________________________________________________________________\n",
      "dense (Dense)                (None, 2)                 258       \n",
      "=================================================================\n",
      "Total params: 878\n",
      "Trainable params: 878\n",
      "Non-trainable params: 0\n",
      "_________________________________________________________________\n"
     ]
    }
   ],
   "source": [
    "from keras.models import Sequential\n",
    "from keras.layers import Dense, Dropout, Activation, Flatten, DepthwiseConv2D\n",
    "from keras.layers.convolutional import Conv2D, MaxPooling2D\n",
    "from keras import optimizers, regularizers\n",
    "import keras.backend as K\n",
    "#K.set_image_data_format('channels_first')\n",
    "\n",
    "weight_decay = 1e-4\n",
    "\n",
    "model = Sequential()\n",
    "# Convolution2D(filtrosConv1, tamaño_filtro1, padding=\"same\", input_shape=(longitud, altura,3), activation = \"relu\")\n",
    "    # - filtrosConv1 número de filtros que aplicaremos tras la primera convolución, normalmente este tamaño va a aumentando\n",
    "    # tras convoluciones para que aumente la dimensión de profundidad (qué cosas hay en mi imagen)\n",
    "    # - tamaño_filtro1 tamaño espacial del kernel (de los filtros)\n",
    "    # - padding = si es same es que es igual que la imagen, vamos crea una imagen del mismo tamaño con el filtro, si es \n",
    "    # valid es que no hay padding y crea una imagen más pequeña que la imagen (creo)\n",
    "    # - input_shape = longitud y altura, tamaño que usará para convolucionar al entrenar\n",
    "    \n",
    "# CAPA PARA FILTRADO TEMPORAL \n",
    "model.add(Conv2D(filters = 4, kernel_size=(1,25), padding=\"same\", activation=\"relu\",input_shape=(32, 5, 1 ), kernel_initializer=\"he_normal\", kernel_regularizer=regularizers.l2(weight_decay)))\n",
    "# CAPA PARA FILTRADO ESPACIAL\n",
    "model.add(Conv2D(filters = 4, kernel_size=(32,1), padding=\"same\", activation=\"relu\", kernel_initializer=\"he_normal\", kernel_regularizer=regularizers.l2(weight_decay)))\n",
    "model.add(MaxPooling2D(pool_size=(2, 2)))\n",
    "\"\"\"\n",
    "model.add(Dropout(0.5))\n",
    "\n",
    "## Siguientes capas convolucionales: \n",
    "model.add(Conv2D(20, (3,3), padding='same',activation='relu', kernel_initializer=\"he_normal\",kernel_regularizer=regularizers.l2(weight_decay)))\n",
    "model.add(MaxPooling2D(pool_size=(2,2)))\n",
    "model.add(Dropout(0.4))\n",
    "\"\"\"\n",
    "\n",
    "\n",
    "\n",
    "\"\"\"\n",
    "model.add(MaxPooling2D(pool_size=(2, 2)))\n",
    "model.add(Dropout(0.5))\n",
    "\n",
    "\n",
    "model.add(Conv2D(96, (3, 3), padding='same',activation='relu', kernel_initializer=\"he_normal\",kernel_regularizer=regularizers.l2(weight_decay)))\n",
    "#model.add(Conv2D(96, (3, 3), padding='same',activation='relu', kernel_initializer=\"he_normal\", kernel_regularizer=regularizers.l2(weight_decay)))\n",
    "model.add(MaxPooling2D(pool_size=(2, 2)))\n",
    "model.add(Dropout(0.2))\n",
    "\n",
    "model.add(Conv2D(192, (3, 3), padding='same',activation='relu', kernel_initializer=\"he_normal\", kernel_regularizer=regularizers.l2(weight_decay)))\n",
    "#model.add(Conv2D(192, (3, 3), padding='same',activation='relu', kernel_initializer=\"he_normal\", kernel_regularizer=regularizers.l2(weight_decay)))\n",
    "model.add(MaxPooling2D(pool_size=(2, 2)))\n",
    "model.add(Dropout(0.1))\n",
    "\"\"\"\n",
    "\n",
    "model.add(Flatten())\n",
    "model.add(Dense(y_train.shape[1], activation=\"softmax\"))\n",
    "\n",
    "opt = optimizers.Adam(lr=0.001, beta_1=0.9, beta_2=0.999)        \n",
    "model.compile(optimizer=opt, loss='categorical_crossentropy', metrics=['accuracy'])\n",
    "model.summary()"
   ]
  },
  {
   "cell_type": "code",
   "execution_count": 20,
   "metadata": {},
   "outputs": [
    {
     "data": {
      "text/plain": [
       "[<tensorflow.python.keras.layers.convolutional.Conv2D at 0x25532caecd0>,\n",
       " <tensorflow.python.keras.layers.convolutional.Conv2D at 0x25532d7b940>,\n",
       " <tensorflow.python.keras.layers.pooling.MaxPooling2D at 0x25532d7b4c0>,\n",
       " <tensorflow.python.keras.layers.core.Flatten at 0x25538f8f5e0>,\n",
       " <tensorflow.python.keras.layers.core.Dense at 0x25532d7b7f0>]"
      ]
     },
     "execution_count": 20,
     "metadata": {},
     "output_type": "execute_result"
    }
   ],
   "source": [
    "model.layers"
   ]
  },
  {
   "cell_type": "code",
   "execution_count": 21,
   "metadata": {},
   "outputs": [
    {
     "name": "stdout",
     "output_type": "stream",
     "text": [
      "conv2d\n",
      "conv2d_1\n",
      "max_pooling2d\n",
      "flatten\n",
      "dense\n"
     ]
    }
   ],
   "source": [
    "for l in model.layers: print (l.name)"
   ]
  },
  {
   "cell_type": "markdown",
   "metadata": {},
   "source": [
    "All the parameters of a layer can bee accessed:"
   ]
  },
  {
   "cell_type": "code",
   "execution_count": 22,
   "metadata": {},
   "outputs": [
    {
     "data": {
      "text/plain": [
       "(1, 25, 1, 4)"
      ]
     },
     "execution_count": 22,
     "metadata": {},
     "output_type": "execute_result"
    }
   ],
   "source": [
    "weights, biases = model.layers[0].get_weights()\n",
    "weights.shape"
   ]
  },
  {
   "cell_type": "code",
   "execution_count": 23,
   "metadata": {},
   "outputs": [
    {
     "data": {
      "text/plain": [
       "array([[[[ 0.411433  ,  0.13011181,  0.17031184, -0.33684567]],\n",
       "\n",
       "        [[-0.19047998, -0.1400889 , -0.5118941 , -0.33852297]],\n",
       "\n",
       "        [[-0.36022955, -0.04830445,  0.00893743,  0.13768184]],\n",
       "\n",
       "        [[ 0.44348347, -0.10689199,  0.30413264, -0.3603602 ]],\n",
       "\n",
       "        [[-0.13549425,  0.02179624, -0.30260143,  0.250173  ]],\n",
       "\n",
       "        [[-0.34331417, -0.04735908, -0.05662245,  0.25715402]],\n",
       "\n",
       "        [[-0.14009756,  0.39932442,  0.19319752,  0.5801682 ]],\n",
       "\n",
       "        [[ 0.3121063 , -0.25205788, -0.15467083, -0.07264869]],\n",
       "\n",
       "        [[ 0.09033299,  0.02873482,  0.15723132,  0.60532004]],\n",
       "\n",
       "        [[ 0.17898798, -0.00157047, -0.14451149, -0.19902457]],\n",
       "\n",
       "        [[ 0.41776675,  0.30550516,  0.23317695, -0.30189353]],\n",
       "\n",
       "        [[-0.05412804,  0.09889686, -0.06799085, -0.3503173 ]],\n",
       "\n",
       "        [[ 0.6192029 ,  0.13155104,  0.07457288, -0.49871433]],\n",
       "\n",
       "        [[-0.40905982, -0.08412118, -0.3280356 , -0.33394516]],\n",
       "\n",
       "        [[ 0.00193124, -0.22146475,  0.06356777,  0.40261224]],\n",
       "\n",
       "        [[ 0.52303433,  0.30108684,  0.2861654 ,  0.6106719 ]],\n",
       "\n",
       "        [[-0.28253248,  0.25886932, -0.48726723,  0.26452005]],\n",
       "\n",
       "        [[-0.3248252 , -0.34546626, -0.52242917, -0.36198646]],\n",
       "\n",
       "        [[-0.4072995 ,  0.16062151,  0.2852014 ,  0.0662333 ]],\n",
       "\n",
       "        [[-0.6421236 , -0.20277636, -0.3078567 ,  0.11564579]],\n",
       "\n",
       "        [[-0.1316588 ,  0.25213206, -0.34380412, -0.39316294]],\n",
       "\n",
       "        [[ 0.09467767, -0.01228325, -0.39939675,  0.06209544]],\n",
       "\n",
       "        [[ 0.20896523,  0.04737326,  0.19529451, -0.02102642]],\n",
       "\n",
       "        [[-0.40502957, -0.6317947 , -0.21069838,  0.34081644]],\n",
       "\n",
       "        [[-0.28679338, -0.04358873,  0.05594588,  0.3806365 ]]]],\n",
       "      dtype=float32)"
      ]
     },
     "execution_count": 23,
     "metadata": {},
     "output_type": "execute_result"
    }
   ],
   "source": [
    "weights"
   ]
  },
  {
   "cell_type": "code",
   "execution_count": 24,
   "metadata": {},
   "outputs": [
    {
     "data": {
      "text/plain": [
       "array([0., 0., 0., 0.], dtype=float32)"
      ]
     },
     "execution_count": 24,
     "metadata": {},
     "output_type": "execute_result"
    }
   ],
   "source": [
    "biases # Bias de la primera capa: 500 bias inicializados a 0 "
   ]
  },
  {
   "cell_type": "code",
   "execution_count": 25,
   "metadata": {},
   "outputs": [
    {
     "data": {
      "text/plain": [
       "(4,)"
      ]
     },
     "execution_count": 25,
     "metadata": {},
     "output_type": "execute_result"
    }
   ],
   "source": [
    "biases.shape"
   ]
  },
  {
   "cell_type": "markdown",
   "metadata": {},
   "source": [
    "### 6. Compile the model"
   ]
  },
  {
   "cell_type": "markdown",
   "metadata": {},
   "source": [
    "### 7. Train the model with M-BGD"
   ]
  },
  {
   "cell_type": "code",
   "execution_count": 26,
   "metadata": {},
   "outputs": [
    {
     "name": "stdout",
     "output_type": "stream",
     "text": [
      "Epoch 1/100\n",
      "4/4 - 4s - loss: 0.7050 - accuracy: 0.5000 - val_loss: 0.6233 - val_accuracy: 0.6154\n",
      "Epoch 2/100\n",
      "4/4 - 0s - loss: 0.6711 - accuracy: 0.6058 - val_loss: 0.6209 - val_accuracy: 0.6154\n",
      "Epoch 3/100\n",
      "4/4 - 0s - loss: 0.6561 - accuracy: 0.6154 - val_loss: 0.6238 - val_accuracy: 0.6154\n",
      "Epoch 4/100\n",
      "4/4 - 0s - loss: 0.6528 - accuracy: 0.6154 - val_loss: 0.6221 - val_accuracy: 0.6154\n",
      "Epoch 5/100\n",
      "4/4 - 0s - loss: 0.6489 - accuracy: 0.6154 - val_loss: 0.6110 - val_accuracy: 0.6154\n",
      "Epoch 6/100\n",
      "4/4 - 0s - loss: 0.6408 - accuracy: 0.6154 - val_loss: 0.5952 - val_accuracy: 0.6154\n",
      "Epoch 7/100\n",
      "4/4 - 0s - loss: 0.6279 - accuracy: 0.6154 - val_loss: 0.5821 - val_accuracy: 0.6154\n",
      "Epoch 8/100\n",
      "4/4 - 0s - loss: 0.6185 - accuracy: 0.6538 - val_loss: 0.5661 - val_accuracy: 0.6154\n",
      "Epoch 9/100\n",
      "4/4 - 0s - loss: 0.6102 - accuracy: 0.6827 - val_loss: 0.5521 - val_accuracy: 0.7692\n",
      "Epoch 10/100\n",
      "4/4 - 0s - loss: 0.6063 - accuracy: 0.7019 - val_loss: 0.5451 - val_accuracy: 0.8462\n",
      "Epoch 11/100\n",
      "4/4 - 0s - loss: 0.6045 - accuracy: 0.7308 - val_loss: 0.5387 - val_accuracy: 0.8846\n",
      "Epoch 12/100\n",
      "4/4 - 0s - loss: 0.5936 - accuracy: 0.7404 - val_loss: 0.5309 - val_accuracy: 0.8077\n",
      "Epoch 13/100\n",
      "4/4 - 0s - loss: 0.5802 - accuracy: 0.7019 - val_loss: 0.5267 - val_accuracy: 0.7692\n",
      "Epoch 14/100\n",
      "4/4 - 0s - loss: 0.5709 - accuracy: 0.6827 - val_loss: 0.5247 - val_accuracy: 0.6923\n",
      "Epoch 15/100\n",
      "4/4 - 0s - loss: 0.5670 - accuracy: 0.6731 - val_loss: 0.5215 - val_accuracy: 0.6538\n",
      "Epoch 16/100\n",
      "4/4 - 0s - loss: 0.5615 - accuracy: 0.6731 - val_loss: 0.5176 - val_accuracy: 0.6923\n",
      "Epoch 17/100\n",
      "4/4 - 0s - loss: 0.5530 - accuracy: 0.6731 - val_loss: 0.5107 - val_accuracy: 0.8077\n",
      "Epoch 18/100\n",
      "4/4 - 0s - loss: 0.5433 - accuracy: 0.7019 - val_loss: 0.5047 - val_accuracy: 0.8077\n",
      "Epoch 19/100\n",
      "4/4 - 0s - loss: 0.5346 - accuracy: 0.7500 - val_loss: 0.4996 - val_accuracy: 0.8077\n",
      "Epoch 20/100\n",
      "4/4 - 0s - loss: 0.5259 - accuracy: 0.7500 - val_loss: 0.4954 - val_accuracy: 0.8077\n",
      "Epoch 21/100\n",
      "4/4 - 0s - loss: 0.5176 - accuracy: 0.7596 - val_loss: 0.4922 - val_accuracy: 0.8077\n",
      "Epoch 22/100\n",
      "4/4 - 0s - loss: 0.5102 - accuracy: 0.7981 - val_loss: 0.4910 - val_accuracy: 0.8462\n",
      "Epoch 23/100\n",
      "4/4 - 0s - loss: 0.5046 - accuracy: 0.8462 - val_loss: 0.4877 - val_accuracy: 0.8846\n",
      "Epoch 24/100\n",
      "4/4 - 0s - loss: 0.4958 - accuracy: 0.8654 - val_loss: 0.4789 - val_accuracy: 0.8462\n",
      "Epoch 25/100\n",
      "4/4 - 0s - loss: 0.4834 - accuracy: 0.8269 - val_loss: 0.4708 - val_accuracy: 0.8077\n",
      "Epoch 26/100\n",
      "4/4 - 0s - loss: 0.4726 - accuracy: 0.8269 - val_loss: 0.4650 - val_accuracy: 0.8077\n",
      "Epoch 27/100\n",
      "4/4 - 0s - loss: 0.4630 - accuracy: 0.7885 - val_loss: 0.4596 - val_accuracy: 0.8077\n",
      "Epoch 28/100\n",
      "4/4 - 0s - loss: 0.4535 - accuracy: 0.7788 - val_loss: 0.4532 - val_accuracy: 0.8077\n",
      "Epoch 29/100\n",
      "4/4 - 0s - loss: 0.4426 - accuracy: 0.7981 - val_loss: 0.4478 - val_accuracy: 0.8077\n",
      "Epoch 30/100\n",
      "4/4 - 0s - loss: 0.4304 - accuracy: 0.8365 - val_loss: 0.4410 - val_accuracy: 0.8077\n",
      "Epoch 31/100\n",
      "4/4 - 0s - loss: 0.4202 - accuracy: 0.8942 - val_loss: 0.4355 - val_accuracy: 0.8846\n",
      "Epoch 32/100\n",
      "4/4 - 0s - loss: 0.4097 - accuracy: 0.9038 - val_loss: 0.4298 - val_accuracy: 0.8846\n",
      "Epoch 33/100\n",
      "4/4 - 0s - loss: 0.3981 - accuracy: 0.9135 - val_loss: 0.4215 - val_accuracy: 0.8846\n",
      "Epoch 34/100\n",
      "4/4 - 0s - loss: 0.3850 - accuracy: 0.9038 - val_loss: 0.4140 - val_accuracy: 0.8462\n",
      "Epoch 35/100\n",
      "4/4 - 0s - loss: 0.3717 - accuracy: 0.9038 - val_loss: 0.4093 - val_accuracy: 0.8846\n",
      "Epoch 36/100\n",
      "4/4 - 0s - loss: 0.3568 - accuracy: 0.9038 - val_loss: 0.4126 - val_accuracy: 0.8462\n",
      "Epoch 37/100\n",
      "4/4 - 0s - loss: 0.3447 - accuracy: 0.9135 - val_loss: 0.4116 - val_accuracy: 0.8462\n",
      "Epoch 38/100\n",
      "4/4 - 0s - loss: 0.3215 - accuracy: 0.9135 - val_loss: 0.4196 - val_accuracy: 0.7692\n",
      "Epoch 39/100\n",
      "4/4 - 0s - loss: 0.3031 - accuracy: 0.9038 - val_loss: 0.4213 - val_accuracy: 0.7308\n",
      "Epoch 40/100\n",
      "4/4 - 0s - loss: 0.2927 - accuracy: 0.9135 - val_loss: 0.4216 - val_accuracy: 0.7692\n",
      "Epoch 41/100\n",
      "4/4 - 0s - loss: 0.2821 - accuracy: 0.9135 - val_loss: 0.4182 - val_accuracy: 0.7308\n",
      "Epoch 42/100\n",
      "4/4 - 0s - loss: 0.2732 - accuracy: 0.9135 - val_loss: 0.4168 - val_accuracy: 0.7308\n",
      "Epoch 43/100\n",
      "4/4 - 0s - loss: 0.2632 - accuracy: 0.9231 - val_loss: 0.4154 - val_accuracy: 0.7308\n",
      "Epoch 44/100\n",
      "4/4 - 0s - loss: 0.2544 - accuracy: 0.9135 - val_loss: 0.4113 - val_accuracy: 0.7308\n",
      "Epoch 45/100\n",
      "4/4 - 0s - loss: 0.2446 - accuracy: 0.9231 - val_loss: 0.4046 - val_accuracy: 0.7692\n",
      "Epoch 46/100\n",
      "4/4 - 0s - loss: 0.2428 - accuracy: 0.9423 - val_loss: 0.4044 - val_accuracy: 0.7692\n",
      "Epoch 47/100\n",
      "4/4 - 0s - loss: 0.2366 - accuracy: 0.9423 - val_loss: 0.3997 - val_accuracy: 0.7692\n",
      "Epoch 48/100\n",
      "4/4 - 0s - loss: 0.2195 - accuracy: 0.9423 - val_loss: 0.4083 - val_accuracy: 0.7692\n",
      "Epoch 49/100\n",
      "4/4 - 0s - loss: 0.2182 - accuracy: 0.9327 - val_loss: 0.4066 - val_accuracy: 0.7692\n",
      "Epoch 50/100\n",
      "4/4 - 0s - loss: 0.2103 - accuracy: 0.9327 - val_loss: 0.3906 - val_accuracy: 0.8077\n",
      "Epoch 51/100\n",
      "4/4 - 0s - loss: 0.2004 - accuracy: 0.9519 - val_loss: 0.3852 - val_accuracy: 0.7692\n",
      "Epoch 52/100\n",
      "4/4 - 0s - loss: 0.1972 - accuracy: 0.9519 - val_loss: 0.3857 - val_accuracy: 0.8077\n",
      "Epoch 53/100\n",
      "4/4 - 0s - loss: 0.1877 - accuracy: 0.9519 - val_loss: 0.3935 - val_accuracy: 0.7692\n",
      "Epoch 54/100\n",
      "4/4 - 0s - loss: 0.1863 - accuracy: 0.9423 - val_loss: 0.3859 - val_accuracy: 0.8077\n",
      "Epoch 55/100\n",
      "4/4 - 0s - loss: 0.1766 - accuracy: 0.9615 - val_loss: 0.3752 - val_accuracy: 0.7692\n",
      "Epoch 56/100\n",
      "4/4 - 0s - loss: 0.1747 - accuracy: 0.9615 - val_loss: 0.3733 - val_accuracy: 0.8077\n",
      "Epoch 57/100\n",
      "4/4 - 0s - loss: 0.1665 - accuracy: 0.9615 - val_loss: 0.3816 - val_accuracy: 0.7692\n",
      "Epoch 58/100\n",
      "4/4 - 0s - loss: 0.1640 - accuracy: 0.9519 - val_loss: 0.3867 - val_accuracy: 0.7692\n",
      "Epoch 59/100\n",
      "4/4 - 0s - loss: 0.1585 - accuracy: 0.9519 - val_loss: 0.3779 - val_accuracy: 0.8077\n",
      "Epoch 60/100\n",
      "4/4 - 0s - loss: 0.1525 - accuracy: 0.9615 - val_loss: 0.3735 - val_accuracy: 0.8077\n",
      "Epoch 61/100\n",
      "4/4 - 0s - loss: 0.1471 - accuracy: 0.9615 - val_loss: 0.3741 - val_accuracy: 0.7692\n",
      "Epoch 62/100\n",
      "4/4 - 0s - loss: 0.1432 - accuracy: 0.9712 - val_loss: 0.3783 - val_accuracy: 0.7692\n",
      "Epoch 63/100\n",
      "4/4 - 0s - loss: 0.1394 - accuracy: 0.9712 - val_loss: 0.3757 - val_accuracy: 0.7692\n",
      "Epoch 64/100\n",
      "4/4 - 0s - loss: 0.1344 - accuracy: 0.9808 - val_loss: 0.3675 - val_accuracy: 0.7692\n",
      "Epoch 65/100\n",
      "4/4 - 0s - loss: 0.1291 - accuracy: 0.9712 - val_loss: 0.3614 - val_accuracy: 0.8462\n",
      "Epoch 66/100\n",
      "4/4 - 0s - loss: 0.1284 - accuracy: 0.9712 - val_loss: 0.3640 - val_accuracy: 0.8077\n",
      "Epoch 67/100\n",
      "4/4 - 0s - loss: 0.1270 - accuracy: 0.9712 - val_loss: 0.3675 - val_accuracy: 0.7692\n",
      "Epoch 68/100\n",
      "4/4 - 0s - loss: 0.1189 - accuracy: 0.9808 - val_loss: 0.3853 - val_accuracy: 0.7692\n",
      "Epoch 69/100\n",
      "4/4 - 0s - loss: 0.1163 - accuracy: 0.9808 - val_loss: 0.3643 - val_accuracy: 0.8077\n",
      "Epoch 70/100\n",
      "4/4 - 0s - loss: 0.1102 - accuracy: 0.9904 - val_loss: 0.3560 - val_accuracy: 0.8462\n",
      "Epoch 71/100\n",
      "4/4 - 0s - loss: 0.1093 - accuracy: 0.9904 - val_loss: 0.3586 - val_accuracy: 0.7692\n",
      "Epoch 72/100\n",
      "4/4 - 0s - loss: 0.1038 - accuracy: 0.9904 - val_loss: 0.3679 - val_accuracy: 0.7692\n",
      "Epoch 73/100\n",
      "4/4 - 0s - loss: 0.1018 - accuracy: 0.9808 - val_loss: 0.3802 - val_accuracy: 0.7692\n",
      "Epoch 74/100\n",
      "4/4 - 0s - loss: 0.1011 - accuracy: 0.9808 - val_loss: 0.3581 - val_accuracy: 0.7692\n",
      "Epoch 75/100\n",
      "4/4 - 0s - loss: 0.0948 - accuracy: 0.9808 - val_loss: 0.3564 - val_accuracy: 0.8077\n",
      "Epoch 76/100\n",
      "4/4 - 0s - loss: 0.0917 - accuracy: 0.9904 - val_loss: 0.3626 - val_accuracy: 0.7692\n",
      "Epoch 77/100\n",
      "4/4 - 0s - loss: 0.0904 - accuracy: 0.9808 - val_loss: 0.3752 - val_accuracy: 0.7692\n",
      "Epoch 78/100\n",
      "4/4 - 0s - loss: 0.0881 - accuracy: 0.9904 - val_loss: 0.3592 - val_accuracy: 0.7692\n",
      "Epoch 79/100\n",
      "4/4 - 0s - loss: 0.0827 - accuracy: 1.0000 - val_loss: 0.3501 - val_accuracy: 0.8077\n",
      "Epoch 80/100\n",
      "4/4 - 0s - loss: 0.0829 - accuracy: 0.9904 - val_loss: 0.3489 - val_accuracy: 0.8077\n",
      "Epoch 81/100\n",
      "4/4 - 0s - loss: 0.0818 - accuracy: 0.9904 - val_loss: 0.3569 - val_accuracy: 0.7692\n",
      "Epoch 82/100\n",
      "4/4 - 0s - loss: 0.0762 - accuracy: 1.0000 - val_loss: 0.3549 - val_accuracy: 0.7692\n",
      "Epoch 83/100\n",
      "4/4 - 0s - loss: 0.0742 - accuracy: 1.0000 - val_loss: 0.3550 - val_accuracy: 0.7692\n",
      "Epoch 84/100\n",
      "4/4 - 0s - loss: 0.0718 - accuracy: 1.0000 - val_loss: 0.3591 - val_accuracy: 0.7692\n"
     ]
    },
    {
     "name": "stdout",
     "output_type": "stream",
     "text": [
      "Epoch 85/100\n",
      "4/4 - 0s - loss: 0.0703 - accuracy: 1.0000 - val_loss: 0.3501 - val_accuracy: 0.7692\n",
      "Epoch 86/100\n",
      "4/4 - 0s - loss: 0.0721 - accuracy: 0.9904 - val_loss: 0.3500 - val_accuracy: 0.8077\n",
      "Epoch 87/100\n",
      "4/4 - 0s - loss: 0.0727 - accuracy: 0.9904 - val_loss: 0.3536 - val_accuracy: 0.7308\n",
      "Epoch 88/100\n",
      "4/4 - 0s - loss: 0.0635 - accuracy: 1.0000 - val_loss: 0.3643 - val_accuracy: 0.7692\n",
      "Epoch 89/100\n",
      "4/4 - 0s - loss: 0.0628 - accuracy: 1.0000 - val_loss: 0.3553 - val_accuracy: 0.7692\n",
      "Epoch 90/100\n",
      "4/4 - 0s - loss: 0.0626 - accuracy: 1.0000 - val_loss: 0.3411 - val_accuracy: 0.8077\n",
      "Epoch 91/100\n",
      "4/4 - 0s - loss: 0.0602 - accuracy: 1.0000 - val_loss: 0.3417 - val_accuracy: 0.8462\n",
      "Epoch 92/100\n",
      "4/4 - 0s - loss: 0.0571 - accuracy: 1.0000 - val_loss: 0.3476 - val_accuracy: 0.7692\n",
      "Epoch 93/100\n",
      "4/4 - 0s - loss: 0.0556 - accuracy: 1.0000 - val_loss: 0.3492 - val_accuracy: 0.7692\n",
      "Epoch 94/100\n",
      "4/4 - 0s - loss: 0.0541 - accuracy: 1.0000 - val_loss: 0.3460 - val_accuracy: 0.7692\n",
      "Epoch 95/100\n",
      "4/4 - 0s - loss: 0.0534 - accuracy: 1.0000 - val_loss: 0.3405 - val_accuracy: 0.7692\n",
      "Epoch 96/100\n",
      "4/4 - 0s - loss: 0.0509 - accuracy: 1.0000 - val_loss: 0.3470 - val_accuracy: 0.7692\n",
      "Epoch 97/100\n",
      "4/4 - 0s - loss: 0.0513 - accuracy: 1.0000 - val_loss: 0.3476 - val_accuracy: 0.7692\n",
      "Epoch 98/100\n",
      "4/4 - 0s - loss: 0.0487 - accuracy: 1.0000 - val_loss: 0.3361 - val_accuracy: 0.8077\n",
      "Epoch 99/100\n",
      "4/4 - 0s - loss: 0.0488 - accuracy: 1.0000 - val_loss: 0.3361 - val_accuracy: 0.8077\n",
      "Epoch 100/100\n",
      "4/4 - 0s - loss: 0.0479 - accuracy: 1.0000 - val_loss: 0.3361 - val_accuracy: 0.8462\n",
      "22.116186141967773\n"
     ]
    }
   ],
   "source": [
    "import time\n",
    "start = time.time()\n",
    "#history = model.fit(X_train, y_train, batch_size=32, steps_per_epoch=len(y_train)/32, epochs=100, verbose=2, validation_data=(X_dev, y_dev),callbacks=[tensorboard])\n",
    "history = model.fit(X_train, y_train, batch_size=32, epochs=100, verbose=2, validation_data=(X_dev, y_dev))\n",
    "print (time.time() - start)\n",
    "\n"
   ]
  },
  {
   "cell_type": "markdown",
   "metadata": {},
   "source": [
    "### 8. Get the results"
   ]
  },
  {
   "cell_type": "code",
   "execution_count": 27,
   "metadata": {},
   "outputs": [
    {
     "data": {
      "image/png": "[encoded data removed]",
      "text/plain": [
       "<Figure size 576x360 with 1 Axes>"
      ]
     },
     "metadata": {
      "needs_background": "light"
     },
     "output_type": "display_data"
    }
   ],
   "source": [
    "results=pd.DataFrame(history.history)\n",
    "results.plot(figsize=(8, 5))\n",
    "plt.grid(True)\n",
    "plt.xlabel (\"Epochs\")\n",
    "plt.ylabel (\"Accuracy - Mean Log Loss\")\n",
    "plt.gca().set_ylim(0, 2) # set the vertical range to [0-1]\n",
    "plt.show()\n",
    "\n",
    "# categorical_accuracy es el training accuracy\n",
    "# val_categorical_accuracy es el validation accuracy\n",
    "# loss es el training loss\n",
    "# val_loss es el validation loss\n",
    "\n",
    "# Overfitting:\n",
    "# Por un lado la Accuracy de los datos de entrenamiento aumenta con las epochs,\n",
    "# mientras que la Accuracy de los datos de validación disminuye o se mantiene constante a lo largo de las epochs. \n",
    "# La Loss de los datos de validación alcanza su mínimo después de pocos epochs y luego empieza a subir, \n",
    "# mientras que la Loss de los datos de entrenamiento disminuye linealmente."
   ]
  },
  {
   "cell_type": "code",
   "execution_count": 28,
   "metadata": {},
   "outputs": [
    {
     "data": {
      "text/plain": [
       "{'verbose': 2, 'epochs': 100, 'steps': 4}"
      ]
     },
     "execution_count": 28,
     "metadata": {},
     "output_type": "execute_result"
    }
   ],
   "source": [
    "history.params"
   ]
  },
  {
   "cell_type": "code",
   "execution_count": 29,
   "metadata": {},
   "outputs": [
    {
     "data": {
      "text/html": [
       "<div>\n",
       "<style scoped>\n",
       "    .dataframe tbody tr th:only-of-type {\n",
       "        vertical-align: middle;\n",
       "    }\n",
       "\n",
       "    .dataframe tbody tr th {\n",
       "        vertical-align: top;\n",
       "    }\n",
       "\n",
       "    .dataframe thead th {\n",
       "        text-align: right;\n",
       "    }\n",
       "</style>\n",
       "<table border=\"1\" class=\"dataframe\">\n",
       "  <thead>\n",
       "    <tr style=\"text-align: right;\">\n",
       "      <th></th>\n",
       "      <th>loss</th>\n",
       "      <th>accuracy</th>\n",
       "      <th>val_loss</th>\n",
       "      <th>val_accuracy</th>\n",
       "    </tr>\n",
       "  </thead>\n",
       "  <tbody>\n",
       "    <tr>\n",
       "      <th>99</th>\n",
       "      <td>0.047866</td>\n",
       "      <td>1.0</td>\n",
       "      <td>0.336078</td>\n",
       "      <td>0.846154</td>\n",
       "    </tr>\n",
       "  </tbody>\n",
       "</table>\n",
       "</div>"
      ],
      "text/plain": [
       "        loss  accuracy  val_loss  val_accuracy\n",
       "99  0.047866       1.0  0.336078      0.846154"
      ]
     },
     "execution_count": 29,
     "metadata": {},
     "output_type": "execute_result"
    }
   ],
   "source": [
    "results[-1:]"
   ]
  },
  {
   "cell_type": "code",
   "execution_count": 30,
   "metadata": {},
   "outputs": [
    {
     "name": "stdout",
     "output_type": "stream",
     "text": [
      "Accuracy for the training set:  1.0\n"
     ]
    }
   ],
   "source": [
    "print (\"Accuracy for the training set: \", results.values[-1:][0][1])"
   ]
  },
  {
   "cell_type": "code",
   "execution_count": 31,
   "metadata": {},
   "outputs": [
    {
     "name": "stdout",
     "output_type": "stream",
     "text": [
      "Accuracy for the development test set:  0.8461538553237915\n"
     ]
    }
   ],
   "source": [
    "print (\"Accuracy for the development test set: \", results.values[-1:][0][3])"
   ]
  },
  {
   "cell_type": "code",
   "execution_count": null,
   "metadata": {},
   "outputs": [],
   "source": []
  },
  {
   "cell_type": "code",
   "execution_count": null,
   "metadata": {},
   "outputs": [],
   "source": []
  },
  {
   "cell_type": "code",
   "execution_count": null,
   "metadata": {},
   "outputs": [],
   "source": []
  },
  {
   "cell_type": "code",
   "execution_count": null,
   "metadata": {},
   "outputs": [],
   "source": []
  },
  {
   "cell_type": "code",
   "execution_count": null,
   "metadata": {},
   "outputs": [],
   "source": []
  },
  {
   "cell_type": "markdown",
   "metadata": {},
   "source": [
    "#### Let's see how the model predicts using the development test set:"
   ]
  },
  {
   "cell_type": "code",
   "execution_count": 32,
   "metadata": {},
   "outputs": [
    {
     "data": {
      "text/plain": [
       "array([[1.  , 0.  ],\n",
       "       [1.  , 0.  ],\n",
       "       [1.  , 0.  ],\n",
       "       [0.  , 1.  ],\n",
       "       [0.  , 1.  ],\n",
       "       [0.  , 1.  ],\n",
       "       [0.  , 1.  ],\n",
       "       [0.01, 0.99],\n",
       "       [0.  , 1.  ],\n",
       "       [0.  , 1.  ],\n",
       "       [0.  , 1.  ],\n",
       "       [1.  , 0.  ],\n",
       "       [1.  , 0.  ],\n",
       "       [0.3 , 0.7 ],\n",
       "       [0.62, 0.38],\n",
       "       [0.87, 0.13],\n",
       "       [0.58, 0.42],\n",
       "       [0.26, 0.74],\n",
       "       [0.48, 0.52],\n",
       "       [0.67, 0.33]], dtype=float32)"
      ]
     },
     "execution_count": 32,
     "metadata": {},
     "output_type": "execute_result"
    }
   ],
   "source": [
    "dev_predictions=model.predict(X_dev).round(2) \n",
    "dev_predictions[:20]"
   ]
  },
  {
   "cell_type": "code",
   "execution_count": 33,
   "metadata": {},
   "outputs": [
    {
     "data": {
      "text/plain": [
       "array([[1., 0.],\n",
       "       [1., 0.],\n",
       "       [1., 0.],\n",
       "       [0., 1.],\n",
       "       [0., 1.],\n",
       "       [0., 1.],\n",
       "       [0., 1.],\n",
       "       [0., 1.],\n",
       "       [0., 1.],\n",
       "       [0., 1.],\n",
       "       [0., 1.],\n",
       "       [1., 0.],\n",
       "       [1., 0.],\n",
       "       [0., 1.],\n",
       "       [1., 0.],\n",
       "       [1., 0.],\n",
       "       [1., 0.],\n",
       "       [0., 1.],\n",
       "       [0., 1.],\n",
       "       [1., 0.]], dtype=float32)"
      ]
     },
     "execution_count": 33,
     "metadata": {},
     "output_type": "execute_result"
    }
   ],
   "source": [
    "dev_rounded_predictions=np.round(dev_predictions)\n",
    "indices = np.argmax(dev_predictions,1)\n",
    "for row, index in zip(dev_rounded_predictions, indices): row[index]=1\n",
    "dev_rounded_predictions[:20]"
   ]
  },
  {
   "cell_type": "code",
   "execution_count": 34,
   "metadata": {},
   "outputs": [
    {
     "data": {
      "text/plain": [
       "array([[1., 0.],\n",
       "       [1., 0.],\n",
       "       [1., 0.],\n",
       "       [0., 1.],\n",
       "       [0., 1.],\n",
       "       [0., 1.],\n",
       "       [0., 1.],\n",
       "       [0., 1.],\n",
       "       [0., 1.],\n",
       "       [0., 1.],\n",
       "       [0., 1.],\n",
       "       [1., 0.],\n",
       "       [1., 0.],\n",
       "       [1., 0.],\n",
       "       [1., 0.],\n",
       "       [1., 0.],\n",
       "       [0., 1.],\n",
       "       [0., 1.],\n",
       "       [0., 1.],\n",
       "       [0., 1.]])"
      ]
     },
     "execution_count": 34,
     "metadata": {},
     "output_type": "execute_result"
    }
   ],
   "source": [
    "y_dev[:20]"
   ]
  },
  {
   "cell_type": "code",
   "execution_count": 35,
   "metadata": {},
   "outputs": [
    {
     "name": "stdout",
     "output_type": "stream",
     "text": [
      "[ True  True  True  True  True  True  True  True  True  True  True  True\n",
      "  True False  True  True False  True  True False  True  True  True  True\n",
      " False  True]\n"
     ]
    }
   ],
   "source": [
    "dev_correct_predictions = np.equal(np.argmax(dev_rounded_predictions,1),np.argmax(y_dev,1))\n",
    "print (dev_correct_predictions[:30])"
   ]
  },
  {
   "cell_type": "code",
   "execution_count": 36,
   "metadata": {},
   "outputs": [
    {
     "data": {
      "text/plain": [
       "Counter({True: 22, False: 4})"
      ]
     },
     "execution_count": 36,
     "metadata": {},
     "output_type": "execute_result"
    }
   ],
   "source": [
    "from collections import Counter\n",
    "Counter (dev_correct_predictions)"
   ]
  },
  {
   "cell_type": "markdown",
   "metadata": {},
   "source": [
    "### 9. Save model"
   ]
  },
  {
   "cell_type": "markdown",
   "metadata": {},
   "source": [
    "We save the model if it is better than others "
   ]
  },
  {
   "cell_type": "code",
   "execution_count": 37,
   "metadata": {},
   "outputs": [],
   "source": [
    "# Save\n",
    "model.save('./Modelos/CNN_model1_ce_IMPARES_DIA29.h5') # Change the name in each model"
   ]
  },
  {
   "cell_type": "code",
   "execution_count": 38,
   "metadata": {},
   "outputs": [
    {
     "data": {
      "text/plain": [
       "\"\\nnew_model = keras.models.load_model('./Modelos/EGG_prac1_ANN_model3.h5')\\n\\nimport numpy as np\\n\\n# Verify state\\nnew_predictions = new_model.predict(X_dev)\\nnp.testing.assert_allclose(predictions, new_predictions, rtol=1e-6, atol=1e-6)\\n\\n# Note that the optimizer state is also preserved:\\n# you can resume training where you left off.\\n\""
      ]
     },
     "execution_count": 38,
     "metadata": {},
     "output_type": "execute_result"
    }
   ],
   "source": [
    "# Extract\n",
    "\"\"\"\n",
    "new_model = keras.models.load_model('./Modelos/EGG_prac1_ANN_model3.h5')\n",
    "\n",
    "import numpy as np\n",
    "\n",
    "# Verify state\n",
    "new_predictions = new_model.predict(X_dev)\n",
    "np.testing.assert_allclose(predictions, new_predictions, rtol=1e-6, atol=1e-6)\n",
    "\n",
    "# Note that the optimizer state is also preserved:\n",
    "# you can resume training where you left off.\n",
    "\"\"\""
   ]
  },
  {
   "cell_type": "code",
   "execution_count": null,
   "metadata": {},
   "outputs": [],
   "source": []
  },
  {
   "cell_type": "code",
   "execution_count": null,
   "metadata": {},
   "outputs": [],
   "source": []
  },
  {
   "cell_type": "code",
   "execution_count": null,
   "metadata": {},
   "outputs": [],
   "source": []
  },
  {
   "cell_type": "code",
   "execution_count": null,
   "metadata": {},
   "outputs": [],
   "source": []
  },
  {
   "cell_type": "markdown",
   "metadata": {},
   "source": [
    "### 10 - Final Test\n",
    "\n",
    "#### 10.1 - Load the final test set"
   ]
  },
  {
   "cell_type": "markdown",
   "metadata": {},
   "source": [
    "#### 10.2 - Evaluate the model"
   ]
  },
  {
   "cell_type": "code",
   "execution_count": 39,
   "metadata": {},
   "outputs": [],
   "source": [
    "\n",
    "from collections import Counter\n",
    "def predictWithModel(model, X_test, y_test, task1, task2, task3=\"\"):\n",
    "    model.evaluate(X_test, y_test)\n",
    "    test_predictions = model.predict(X_test)\n",
    "    test_rounded_predictions=np.round(test_predictions)\n",
    "    indices = np.argmax(test_predictions,1)\n",
    "    for row, index in zip(test_rounded_predictions, indices): row[index]=1\n",
    "    print(test_rounded_predictions[:20])\n",
    "    \n",
    "    # ACCURACY:\n",
    "    test_correct_predictions = np.equal(np.argmax(test_rounded_predictions,1),np.argmax(y_test,1))\n",
    "    print()\n",
    "    print(test_correct_predictions)\n",
    "    print(type(test_correct_predictions))\n",
    "    final_test_prediction_results=Counter(test_correct_predictions)\n",
    "    \n",
    "    success = np.mean(test_rounded_predictions == y_test)*100\n",
    "    \n",
    "    return final_test_prediction_results, success"
   ]
  },
  {
   "cell_type": "code",
   "execution_count": 40,
   "metadata": {},
   "outputs": [
    {
     "name": "stdout",
     "output_type": "stream",
     "text": [
      "1/1 [==============================] - 0s 104ms/step - loss: 0.0068 - accuracy: 1.0000\n",
      "[[1. 0.]\n",
      " [1. 0.]\n",
      " [1. 0.]\n",
      " [0. 1.]\n",
      " [0. 1.]\n",
      " [0. 1.]\n",
      " [0. 1.]\n",
      " [0. 1.]\n",
      " [0. 1.]\n",
      " [0. 1.]\n",
      " [0. 1.]\n",
      " [1. 0.]\n",
      " [1. 0.]]\n",
      "\n",
      "[ True  True  True  True  True  True  True  True  True  True  True  True\n",
      "  True]\n",
      "<class 'numpy.ndarray'>\n",
      "Counter({True: 13}) 100.0\n"
     ]
    }
   ],
   "source": [
    "accuracy, success = predictWithModel(model, X_test, y_test, 402,404)\n",
    "print( accuracy, success)\n"
   ]
  },
  {
   "cell_type": "code",
   "execution_count": null,
   "metadata": {},
   "outputs": [],
   "source": []
  }
 ],
 "metadata": {
  "kernelspec": {
   "display_name": "Python 3",
   "language": "python",
   "name": "python3"
  },
  "language_info": {
   "codemirror_mode": {
    "name": "ipython",
    "version": 3
   },
   "file_extension": ".py",
   "mimetype": "text/x-python",
   "name": "python",
   "nbconvert_exporter": "python",
   "pygments_lexer": "ipython3",
   "version": "3.8.5"
  }
 },
 "nbformat": 4,
 "nbformat_minor": 4
}
