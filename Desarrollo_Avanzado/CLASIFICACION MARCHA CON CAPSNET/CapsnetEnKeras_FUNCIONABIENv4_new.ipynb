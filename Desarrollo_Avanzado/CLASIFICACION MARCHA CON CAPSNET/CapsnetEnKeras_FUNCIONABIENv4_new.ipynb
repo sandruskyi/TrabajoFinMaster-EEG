{
  "nbformat": 4,
  "nbformat_minor": 0,
  "metadata": {
    "kernelspec": {
      "display_name": "Python 3",
      "language": "python",
      "name": "python3"
    },
    "language_info": {
      "codemirror_mode": {
        "name": "ipython",
        "version": 3
      },
      "file_extension": ".py",
      "mimetype": "text/x-python",
      "name": "python",
      "nbconvert_exporter": "python",
      "pygments_lexer": "ipython3",
      "version": "3.8.5"
    },
    "colab": {
      "name": "CapsnetEnKeras.ipynb",
      "provenance": []
    },
    "accelerator": "GPU"
  },
  "cells": [
    {
      "cell_type": "markdown",
      "metadata": {
        "id": "oieoYd8_NJl4"
      },
      "source": [
        "# Parte 4: Clasificación con Capsnet\n",
        "\n",
        "La implementación de esta red Capsnet se ha basado en el código implementado por Aurélien Géron (https://github.com/ageron/handson-ml/blob/master/extra_capsnets.ipynb) "
      ]
    },
    {
      "cell_type": "markdown",
      "metadata": {
        "id": "FOYsNIkfNJl7"
      },
      "source": [
        "### Resultados con la arquitectura anterior: "
      ]
    },
    {
      "cell_type": "markdown",
      "metadata": {
        "id": "-zeUMdGrNJl8"
      },
      "source": [
        "### Cambios realizados"
      ]
    },
    {
      "cell_type": "markdown",
      "metadata": {
        "id": "OvWOKZzaNJl8"
      },
      "source": [
        "Se aumenta de 100 a 500"
      ]
    },
    {
      "cell_type": "markdown",
      "metadata": {
        "id": "m5eey6oGNJl8"
      },
      "source": [
        "### Nuevos resultados: "
      ]
    },
    {
      "cell_type": "markdown",
      "metadata": {
        "id": "HGdAPW3NNJl9"
      },
      "source": [
        ""
      ]
    },
    {
      "cell_type": "markdown",
      "metadata": {
        "id": "WRy2Mth1NJl9"
      },
      "source": [
        "### 1 - Import Libraries"
      ]
    },
    {
      "cell_type": "code",
      "metadata": {
        "id": "cse2ICU7NJl-"
      },
      "source": [
        "# Tensorflow and tf.keras\n",
        "import tensorflow as tf\n",
        "from tensorflow import keras\n",
        "\n",
        "#Helper libraries\n",
        "import matplotlib.pyplot as plt\n",
        "import pandas as pd\n",
        "import numpy as np\n",
        "\n",
        "# Signal libraries\n",
        "from scipy import signal"
      ],
      "execution_count": 1,
      "outputs": []
    },
    {
      "cell_type": "code",
      "metadata": {
        "id": "IZdDJXPXNJl-"
      },
      "source": [
        "# Reset the default graph, in case you re-run this notebook without restarting the kernel:\n",
        "tf.compat.v1.reset_default_graph()\n",
        "\n",
        "# Random seeds so that this notebook always produces the same output:\n",
        "np.random.seed(42)\n",
        "tf.random.set_seed(45)"
      ],
      "execution_count": 2,
      "outputs": []
    },
    {
      "cell_type": "markdown",
      "metadata": {
        "id": "s4TwxUdJNJl_"
      },
      "source": [
        "### 2 - Load data"
      ]
    },
    {
      "cell_type": "code",
      "metadata": {
        "id": "19rmC_7VNJl_"
      },
      "source": [
        "class ROutput:\n",
        "    def __init__(self, task, data):\n",
        "        self.task = task\n",
        "        self.data = data\n",
        "        \n",
        "class OutTaskData: \n",
        "    def __init__(self, task, data): \n",
        "        self.task = task\n",
        "        self.data = data"
      ],
      "execution_count": 3,
      "outputs": []
    },
    {
      "cell_type": "code",
      "metadata": {
        "id": "pMzZss4DNJmA"
      },
      "source": [
        "import scipy.io as sio\n",
        "# Primero leemos los registros\n",
        "def read_outputs(rec):\n",
        "    '''read_outputs(\"userS0091f1.mat\")'''\n",
        "    mat = sio.loadmat(rec)\n",
        "    mdata = mat['session']\n",
        "    val = mdata[0,0]\n",
        "    #output = ROutput(np.array(val[\"task\"]), np.array(val[\"data\"]))\n",
        "    output = ROutput(np.array(val[\"task_EEG_p\"]), np.array(val[\"data_processed_EEG\"]))\n",
        "    return output"
      ],
      "execution_count": 4,
      "outputs": []
    },
    {
      "cell_type": "markdown",
      "metadata": {
        "id": "z7EF2GDqNJmA"
      },
      "source": [
        "### Cargamos los datos"
      ]
    },
    {
      "cell_type": "code",
      "metadata": {
        "id": "EdNLHsqfNJmA"
      },
      "source": [
        "# Configuración\n",
        "from sklearn.pipeline import make_pipeline\n",
        "from sklearn.preprocessing import StandardScaler, OneHotEncoder\n",
        "from sklearn.linear_model import Perceptron\n",
        "#from keras.utils import to_categorical\n",
        "from tensorflow.keras.utils import to_categorical\n",
        "\n",
        "task1 = 402 # SE PUEDE CAMBIAR\n",
        "task2 = 404 # SE PUEDE CAMBIAR\n",
        "task_OneHotEnconding = {402: [1], 404: [0]}\n",
        "user = 'W29' # SE PUEDE CAMBIAR\n",
        "day = '0329'\n",
        "folder_day = 'W29-29_03_2021'\n",
        "total_records = 22 # CAMBIAR SI HAY MAS REGISTROS\n",
        "fm = 200\n",
        "electrodes_names_selected = ['F3', 'FZ', 'FC1','FCZ','C1','CZ','CP1','CPZ', 'FC5', 'FC3','C5','C3','CP5','CP3','P3',\n",
        "                             'PZ','F4','FC2','FC4','FC6','C2','C4','CP2','CP4','C6','CP6','P4','HR' ,'HL', 'VU', 'VD']\n",
        "number_channels = len(electrodes_names_selected)"
      ],
      "execution_count": 5,
      "outputs": []
    },
    {
      "cell_type": "code",
      "metadata": {
        "colab": {
          "base_uri": "https://localhost:8080/"
        },
        "id": "dW2fa7fbNJmB",
        "outputId": "f1b4fa8a-b39f-42c2-e2d2-c03d891bb564"
      },
      "source": [
        "lTaskData = []\n",
        "total_records_used = 0\n",
        "for i_rec in range(1,total_records+1):\n",
        "    i_rec_record = i_rec\n",
        "    if i_rec_record <10:\n",
        "        i_rec_record = \"0\"+str(i_rec_record)\n",
        "    if i_rec % 2 == 0: # Registros impares primero: USUARIO SIN MOVIMIENTO SOLO PENSANDO\n",
        "        record = \"./RegistrosProcesados2/W29_2021\"+day+\"_openloop_\"+str(i_rec_record)+\"_processed.mat\"\n",
        "        output = read_outputs(record) # output.task será y, output.data será x\n",
        "\n",
        "\n",
        "        output.task = np.transpose(output.task)\n",
        "        output.data = output.data.reshape((np.shape(output.data)[0],np.shape(output.data)[1]))\n",
        "        output.data = np.transpose(output.data)\n",
        "        #output.data = output.data.reshape((np.shape(output.data)[0],np.shape(output.data)[1],1))\n",
        "\n",
        "        outT = (output.task == task1) | (output.task == task2)\n",
        "        outData = output.data[0:np.shape(output.data)[0], outT[0,:]]\n",
        "        outTask = output.task[0, outT[0,:]]\n",
        "        outTD = OutTaskData(outTask, outData)\n",
        "\n",
        "        lTaskData.append(outTD)\n",
        "        total_records_used+=1\n",
        "print(total_records_used, total_records)"
      ],
      "execution_count": 6,
      "outputs": [
        {
          "output_type": "stream",
          "text": [
            "11 22\n"
          ],
          "name": "stdout"
        }
      ]
    },
    {
      "cell_type": "code",
      "metadata": {
        "colab": {
          "base_uri": "https://localhost:8080/"
        },
        "id": "dqrivmkzNJmC",
        "outputId": "4c7613f4-fd37-4332-c99c-42e57f5c491d"
      },
      "source": [
        "# Vamos a coger 2 registros para el entrenamiento, 1 para el conjunto dev set, 1 para el test set\n",
        "X_train, y_train, X_dev, y_dev, X_test, y_test = [],[],[],[],[],[] \n",
        "for j in range(0,total_records_used-3): # Cogemos 18 registros para entrenamiento\n",
        "    X_train.append(lTaskData[j].data)\n",
        "    y_train.append(lTaskData[j].task)\n",
        "\n",
        "for j in range(total_records_used-3,total_records_used-1): # Cogemos 2 registros para el dev set\n",
        "    X_dev.append(lTaskData[j].data)\n",
        "    y_dev.append(lTaskData[j].task)\n",
        "for j in range(total_records_used-1,total_records_used): # Cogemos 2 registros para el test set\n",
        "    X_test.append(lTaskData[j].data)\n",
        "    y_test.append(lTaskData[j].task)\n",
        "\n",
        "X_train = np.array(X_train)\n",
        "#y_train = np.ravel(np.array(y_train))\n",
        "y_train = np.array(y_train)\n",
        "X_dev = np.array(X_dev)\n",
        "#y_dev = np.ravel(np.array(y_dev))\n",
        "y_dev = np.array(y_dev)\n",
        "X_test = np.array(X_test)\n",
        "y_test = np.array(y_test)\n",
        "#y_test = np.ravel(np.array(y_test))\n",
        "\n",
        "print (\"X_train:\",X_train.shape)\n",
        "print (\"y_train:\",y_train.shape)\n",
        "print (\"X_dev:\",X_dev.shape)\n",
        "print (\"y_dev:\",y_dev.shape)\n",
        "print (\"X_test:\",X_test.shape)\n",
        "print (\"y_test:\",y_test.shape)\n",
        "\n",
        "\n",
        "\n",
        "\n",
        "\n",
        "# VENTANEO Y ONE HOT ENCODING \n",
        "window = 5\n",
        "samples_advance = 3\n",
        "\n",
        "# Ventaneo X_train\n",
        "\n",
        "X_train_l = []\n",
        "y_train_l = []\n",
        "for num_X_train in range(np.shape(X_train)[0]): # Para no mezclar registros\n",
        "    win_init = int(0)\n",
        "    window_position = 0\n",
        "    \n",
        "    for i in range(np.shape(X_train)[2]): # For each signal registered\n",
        "        win_end = int(win_init + window)\n",
        "        if win_end >= np.shape(X_train)[2]:\n",
        "            break\n",
        "\n",
        "        task = np.unique(y_train[num_X_train,win_init:win_end])\n",
        "\n",
        "        if len(task)==1:\n",
        "        #if task1 in task or task2 in task:\n",
        "            signal_window = X_train[num_X_train, :, win_init:win_end]\n",
        "            \n",
        "            #data_filtered = preprocessing(signal_window, fm, number_channels)\n",
        "            #X_train_l.append(data_filtered)\n",
        "            X_train_l.append(signal_window)\n",
        "            taskOH = task_OneHotEnconding[task[0]]\n",
        "            y_train_l.append(taskOH)\n",
        "            #y_train_l.append([str(task[0])])\n",
        "            \n",
        "            \n",
        "        win_init += int(samples_advance)\n",
        "\n",
        "X_train_l = np.array(X_train_l)\n",
        "y_train_l = np.array(y_train_l)\n",
        "\n",
        "\n",
        "# Ventaneo X_dev\n",
        "X_dev_l = []\n",
        "y_dev_l = []\n",
        "for num_X_dev in range(np.shape(X_dev)[0]):\n",
        "    win_init = int(0)\n",
        "    window_position = 0\n",
        "    \n",
        "    for i in range(np.shape(X_dev)[2]): # For each signal registered\n",
        "        win_end = int(win_init + window)\n",
        "        if win_end >= np.shape(X_dev)[2]:\n",
        "            break\n",
        "\n",
        "        task = np.unique(y_dev[num_X_dev,win_init:win_end])\n",
        "\n",
        "        if len(task)==1:\n",
        "        #if task1 in task or task2 in task:\n",
        "            signal_window = X_dev[num_X_dev, :, win_init:win_end]\n",
        "            \n",
        "            #data_filtered = preprocessing(signal_window, fm, number_channels)\n",
        "            #X_train_l.append(data_filtered)\n",
        "            X_dev_l.append(signal_window)\n",
        "            taskOH = task_OneHotEnconding[task[0]]\n",
        "            y_dev_l.append(taskOH)\n",
        "            #y_dev_l.append([str(task[0])])\n",
        "            \n",
        "        win_init += int(samples_advance)\n",
        "\n",
        "X_dev_l = np.array(X_dev_l)\n",
        "y_dev_l = np.array(y_dev_l)\n",
        "\n",
        "# Ventaneo X_test\n",
        "X_test_l = []\n",
        "y_test_l = []\n",
        "for num_X_test in range(np.shape(X_test)[0]): \n",
        "    win_init = int(0)\n",
        "    window_position = 0\n",
        "    \n",
        "    for i in range(np.shape(X_test)[2]): # For each signal registered\n",
        "        win_end = int(win_init + window)\n",
        "        if win_end >= np.shape(X_test)[2]:\n",
        "            break\n",
        "\n",
        "        task = np.unique(y_test[num_X_test,win_init:win_end])\n",
        "\n",
        "        if len(task)==1:\n",
        "        #if task1 in task or task2 in task:\n",
        "            signal_window = X_test[num_X_test, :, win_init:win_end]\n",
        "            \n",
        "            #data_filtered = preprocessing(signal_window, fm, number_channels)\n",
        "            #X_train_l.append(data_filtered)\n",
        "            X_test_l.append(signal_window)\n",
        "            taskOH = task_OneHotEnconding[task[0]]\n",
        "            #y_test_l.append([str(task[0])])\n",
        "            y_test_l.append(taskOH)\n",
        "            \n",
        "        win_init += int(samples_advance)\n",
        "\n",
        "X_test_l = np.array(X_test_l)\n",
        "y_test_l = np.array(y_test_l)\n",
        "\n",
        "\n",
        "\n",
        "\n",
        "X_train_l = X_train_l.reshape((np.shape(X_train_l)[0],np.shape(X_train_l)[1],np.shape(X_train_l)[2], 1))\n",
        "X_dev_l = X_dev_l.reshape((np.shape(X_dev_l)[0],np.shape(X_dev_l)[1],np.shape(X_dev_l)[2], 1))\n",
        "X_test_l = X_test_l.reshape((np.shape(X_test_l)[0],np.shape(X_test_l)[1],np.shape(X_test_l)[2], 1))\n",
        "\n",
        "print()\n",
        "print(\"ONE HOT ENCODER & WINDOWING:\")\n",
        "print (\"X_train:\",X_train_l.shape)\n",
        "print (\"y_train:\",y_train_l.shape)\n",
        "print (\"X_dev:\",X_dev_l.shape)\n",
        "print (\"y_dev:\",y_dev_l.shape)\n",
        "print (\"X_test:\",X_test_l.shape)\n",
        "print (\"y_test:\",y_test_l.shape)\n",
        "\n",
        "X_train = X_train_l\n",
        "y_train = y_train_l\n",
        "X_dev = X_dev_l\n",
        "y_dev = y_dev_l\n",
        "X_test = X_test_l\n",
        "y_test = y_test_l\n",
        "\n",
        "print(y_train)\n",
        "X_train = X_train.astype('float32')\n",
        "X_dev = X_dev.astype('float32')\n",
        "X_test = X_test.astype('float32')\n",
        "y_train = to_categorical(y_train).astype('float32')\n",
        "y_dev = to_categorical(y_dev).astype('float32')\n",
        "y_test = to_categorical(y_test).astype('float32')\n",
        "print()\n",
        "print(\"RESHAPE:\")\n",
        "print (\"X_train:\",X_train.shape)\n",
        "print (\"y_train:\",y_train.shape)\n",
        "print (\"X_dev:\",X_dev.shape)\n",
        "print (\"y_dev:\",y_dev.shape)\n",
        "print (\"X_test:\",X_test.shape)\n",
        "print (\"y_test:\",y_test.shape)"
      ],
      "execution_count": 7,
      "outputs": [
        {
          "output_type": "stream",
          "text": [
            "X_train: (8, 32, 49)\n",
            "y_train: (8, 49)\n",
            "X_dev: (2, 32, 49)\n",
            "y_dev: (2, 49)\n",
            "X_test: (1, 32, 49)\n",
            "y_test: (1, 49)\n",
            "\n",
            "ONE HOT ENCODER & WINDOWING:\n",
            "X_train: (104, 32, 5, 1)\n",
            "y_train: (104, 1)\n",
            "X_dev: (26, 32, 5, 1)\n",
            "y_dev: (26, 1)\n",
            "X_test: (13, 32, 5, 1)\n",
            "y_test: (13, 1)\n",
            "[[1]\n",
            " [1]\n",
            " [1]\n",
            " [0]\n",
            " [0]\n",
            " [0]\n",
            " [0]\n",
            " [0]\n",
            " [0]\n",
            " [0]\n",
            " [0]\n",
            " [1]\n",
            " [1]\n",
            " [1]\n",
            " [1]\n",
            " [1]\n",
            " [0]\n",
            " [0]\n",
            " [0]\n",
            " [0]\n",
            " [0]\n",
            " [0]\n",
            " [0]\n",
            " [0]\n",
            " [1]\n",
            " [1]\n",
            " [1]\n",
            " [1]\n",
            " [1]\n",
            " [0]\n",
            " [0]\n",
            " [0]\n",
            " [0]\n",
            " [0]\n",
            " [0]\n",
            " [0]\n",
            " [0]\n",
            " [1]\n",
            " [1]\n",
            " [1]\n",
            " [1]\n",
            " [1]\n",
            " [0]\n",
            " [0]\n",
            " [0]\n",
            " [0]\n",
            " [0]\n",
            " [0]\n",
            " [0]\n",
            " [0]\n",
            " [1]\n",
            " [1]\n",
            " [1]\n",
            " [1]\n",
            " [1]\n",
            " [0]\n",
            " [0]\n",
            " [0]\n",
            " [0]\n",
            " [0]\n",
            " [0]\n",
            " [0]\n",
            " [0]\n",
            " [1]\n",
            " [1]\n",
            " [1]\n",
            " [1]\n",
            " [1]\n",
            " [0]\n",
            " [0]\n",
            " [0]\n",
            " [0]\n",
            " [0]\n",
            " [0]\n",
            " [0]\n",
            " [0]\n",
            " [1]\n",
            " [1]\n",
            " [1]\n",
            " [1]\n",
            " [1]\n",
            " [0]\n",
            " [0]\n",
            " [0]\n",
            " [0]\n",
            " [0]\n",
            " [0]\n",
            " [0]\n",
            " [0]\n",
            " [1]\n",
            " [1]\n",
            " [1]\n",
            " [1]\n",
            " [1]\n",
            " [0]\n",
            " [0]\n",
            " [0]\n",
            " [0]\n",
            " [0]\n",
            " [0]\n",
            " [0]\n",
            " [0]\n",
            " [1]\n",
            " [1]]\n",
            "\n",
            "RESHAPE:\n",
            "X_train: (104, 32, 5, 1)\n",
            "y_train: (104, 2)\n",
            "X_dev: (26, 32, 5, 1)\n",
            "y_dev: (26, 2)\n",
            "X_test: (13, 32, 5, 1)\n",
            "y_test: (13, 2)\n"
          ],
          "name": "stdout"
        }
      ]
    },
    {
      "cell_type": "code",
      "metadata": {
        "colab": {
          "base_uri": "https://localhost:8080/"
        },
        "id": "_7MjujBzYdtz",
        "outputId": "0b7baf41-e178-4ac8-90fb-1d522efffb2f"
      },
      "source": [
        "y_dev"
      ],
      "execution_count": 8,
      "outputs": [
        {
          "output_type": "execute_result",
          "data": {
            "text/plain": [
              "array([[0., 1.],\n",
              "       [0., 1.],\n",
              "       [0., 1.],\n",
              "       [1., 0.],\n",
              "       [1., 0.],\n",
              "       [1., 0.],\n",
              "       [1., 0.],\n",
              "       [1., 0.],\n",
              "       [1., 0.],\n",
              "       [1., 0.],\n",
              "       [1., 0.],\n",
              "       [0., 1.],\n",
              "       [0., 1.],\n",
              "       [0., 1.],\n",
              "       [0., 1.],\n",
              "       [0., 1.],\n",
              "       [1., 0.],\n",
              "       [1., 0.],\n",
              "       [1., 0.],\n",
              "       [1., 0.],\n",
              "       [1., 0.],\n",
              "       [1., 0.],\n",
              "       [1., 0.],\n",
              "       [1., 0.],\n",
              "       [0., 1.],\n",
              "       [0., 1.]], dtype=float32)"
            ]
          },
          "metadata": {
            "tags": []
          },
          "execution_count": 8
        }
      ]
    },
    {
      "cell_type": "code",
      "metadata": {
        "colab": {
          "base_uri": "https://localhost:8080/"
        },
        "id": "EG1aSct6xkOm",
        "outputId": "27b04bc5-8090-4b3e-f3f8-4a454a5a09ba"
      },
      "source": [
        "len(np.unique(np.argmax(y_train, 1)))"
      ],
      "execution_count": 9,
      "outputs": [
        {
          "output_type": "execute_result",
          "data": {
            "text/plain": [
              "2"
            ]
          },
          "metadata": {
            "tags": []
          },
          "execution_count": 9
        }
      ]
    },
    {
      "cell_type": "markdown",
      "metadata": {
        "id": "67gQbqp_NJmG"
      },
      "source": [
        "### 4 - Construcción de la Capsnet "
      ]
    },
    {
      "cell_type": "code",
      "metadata": {
        "id": "KvwXwu0cNJmH"
      },
      "source": [
        "import keras.backend as K\n",
        "import tensorflow as tf\n",
        "from keras import initializers, layers, regularizers\n",
        "\n",
        "\n",
        "class Length(layers.Layer):\n",
        "    \"\"\"\n",
        "    Compute the length of vectors. This is used to compute a Tensor that has the same shape with y_true in margin_loss.\n",
        "    Using this layer as model's output can directly predict labels by using `y_pred = np.argmax(model.predict(x), 1)`\n",
        "    inputs: shape=[None, num_vectors, dim_vector]\n",
        "    output: shape=[None, num_vectors]\n",
        "    \"\"\"\n",
        "    def call(self, inputs, **kwargs):\n",
        "        return K.sqrt(K.sum(K.square(inputs), -1) + K.epsilon())\n",
        "\n",
        "    def compute_output_shape(self, input_shape):\n",
        "        return input_shape[:-1]\n",
        "\n",
        "    def get_config(self):\n",
        "        config = super(Length, self).get_config()\n",
        "        return config\n",
        "\n",
        "\n",
        "class Mask(layers.Layer):\n",
        "    \"\"\"\n",
        "    Mask a Tensor with shape=[None, num_capsule, dim_vector] either by the capsule with max length or by an additional \n",
        "    input mask. Except the max-length capsule (or specified capsule), all vectors are masked to zeros. Then flatten the\n",
        "    masked Tensor.\n",
        "    For example:\n",
        "        ```\n",
        "        x = keras.layers.Input(shape=[8, 3, 2])  # batch_size=8, each sample contains 3 capsules with dim_vector=2\n",
        "        y = keras.layers.Input(shape=[8, 3])  # True labels. 8 samples, 3 classes, one-hot coding.\n",
        "        out = Mask()(x)  # out.shape=[8, 6]\n",
        "        # or\n",
        "        out2 = Mask()([x, y])  # out2.shape=[8,6]. Masked with true labels y. Of course y can also be manipulated.\n",
        "        ```\n",
        "    \"\"\"\n",
        "    def call(self, inputs, **kwargs):\n",
        "        \"\"\"\n",
        "        if isinstance(inputs, list):  # true label is provided with shape = [None, n_classes], i.e. one-hot code.\n",
        "            assert len(inputs) == 2\n",
        "            inputs, mask = inputs\n",
        "        else:  # if no true label, mask by the max length of capsules. Mainly used for prediction\n",
        "            # compute lengths of capsules\n",
        "            x = K.sqrt(K.sum(K.square(inputs), -1))\n",
        "            # generate the mask which is a one-hot code.\n",
        "            # mask.shape=[None, n_classes]=[None, num_capsule]\n",
        "            mask = K.one_hot(indices=K.argmax(x, 1), num_classes=x.get_shape().as_list()[1])\n",
        "        \"\"\"\n",
        "        if type(inputs) is list:  # true label is provided with shape = [None, n_classes], i.e. one-hot code.\n",
        "            assert len(inputs) == 2\n",
        "            inputs, mask = inputs\n",
        "        else:  # if no true label, mask by the max length of capsules. Mainly used for prediction\n",
        "            # compute lengths of capsules\n",
        "            x = K.sqrt(K.sum(K.square(inputs), -1))\n",
        "            # generate the mask which is a one-hot code.\n",
        "            # mask.shape=[None, n_classes]=[None, num_capsule]\n",
        "            mask = K.one_hot(indices=K.argmax(x, 1), num_classes=x.get_shape().as_list()[1])\n",
        "            \n",
        "        # inputs.shape=[None, num_capsule, dim_capsule]\n",
        "        # mask.shape=[None, num_capsule]\n",
        "        # masked.shape=[None, num_capsule * dim_capsule]\n",
        "        masked = K.batch_flatten(inputs * K.expand_dims(mask, -1))\n",
        "        return masked\n",
        "\n",
        "    def compute_output_shape(self, input_shape):\n",
        "        if isinstance(input_shape[0], tuple):  # true label provided\n",
        "            return tuple([None, input_shape[0][1] * input_shape[0][2]])\n",
        "        else:  # no true label provided\n",
        "            return tuple([None, input_shape[1] * input_shape[2]])\n",
        "\n",
        "def squash(vectors, axis=-1):\n",
        "    \"\"\"\n",
        "    The non-linear activation used in Capsule. It drives the length of a large vector to near 1 and small vector to 0\n",
        "    :param vectors: some vectors to be squashed, N-dim tensor\n",
        "    :param axis: the axis to squash\n",
        "    :return: a Tensor with same shape as input vectors\n",
        "    \"\"\"\n",
        "    s_squared_norm = K.sum(K.square(vectors), axis, keepdims=True)\n",
        "    scale = s_squared_norm / (1 + s_squared_norm) / K.sqrt(s_squared_norm + K.epsilon())\n",
        "    return scale * vectors\n",
        "\n",
        "\n",
        "class CapsuleLayer(layers.Layer):\n",
        "    \"\"\"\n",
        "    The capsule layer. It is similar to Dense layer. Dense layer has `in_num` inputs, each is a scalar, the output of the \n",
        "    neuron from the former layer, and it has `out_num` output neurons. CapsuleLayer just expand the output of the neuron\n",
        "    from scalar to vector. So its input shape = [None, input_num_capsule, input_dim_capsule] and output shape = \\\n",
        "    [None, num_capsule, dim_capsule]. For Dense Layer, input_dim_capsule = dim_capsule = 1.\n",
        "    \n",
        "    :param num_capsule: number of capsules in this layer\n",
        "    :param dim_capsule: dimension of the output vectors of the capsules in this layer\n",
        "    :param routings: number of iterations for the routing algorithm\n",
        "    \"\"\"\n",
        "    def __init__(self, num_capsule, dim_capsule, routings,lam_regularize,\n",
        "                 kernel_initializer='glorot_uniform',\n",
        "                 **kwargs):\n",
        "        super(CapsuleLayer, self).__init__(**kwargs)\n",
        "        self.num_capsule = num_capsule\n",
        "        self.dim_capsule = dim_capsule\n",
        "        self.routings = routings\n",
        "        self.lam_regularize = lam_regularize\n",
        "        self.kernel_initializer = initializers.get(kernel_initializer)\n",
        "\n",
        "    def build(self, input_shape):\n",
        "        assert len(input_shape) >= 3, \"The input Tensor should have shape=[None, input_num_capsule, input_dim_capsule]\"\n",
        "        self.input_num_capsule = input_shape[1]\n",
        "        self.input_dim_capsule = input_shape[2]\n",
        "\n",
        "        # Transform matrix\n",
        "        self.W = self.add_weight(shape=[self.num_capsule, self.input_num_capsule,\n",
        "                                        self.dim_capsule, self.input_dim_capsule],\n",
        "                                 initializer=self.kernel_initializer,\n",
        "                                 regularizer=regularizers.l2(self.lam_regularize),\n",
        "                                 name='W')\n",
        "\n",
        "        self.built = True\n",
        "\n",
        "    def call(self, inputs, training=None):\n",
        "        # inputs.shape=[None, input_num_capsule, input_dim_capsule]\n",
        "        # inputs_expand.shape=[None, 1, input_num_capsule, input_dim_capsule]\n",
        "        #inputs_expand = K.expand_dims(inputs, 1)   SANDRA\n",
        "        inputs_expand = tf.expand_dims(inputs, 1)\n",
        "        # Replicate num_capsule dimension to prepare being multiplied by W\n",
        "        # inputs_tiled.shape=[None, num_capsule, input_num_capsule, input_dim_capsule]\n",
        "        #inputs_tiled = K.tile(inputs_expand, [1, self.num_capsule, 1, 1]) SANDRA\n",
        "        inputs_tiled  = tf.tile(inputs_expand, [1, self.num_capsule, 1, 1])\n",
        "        inputs_tiled  = tf.expand_dims(inputs_tiled, 4)\n",
        "        print(\"inputs_tiled\",np.shape(inputs_tiled))\n",
        "        # Compute `inputs * W` by scanning inputs_tiled on dimension 0.\n",
        "        # x.shape=[num_capsule, input_num_capsule, input_dim_capsule]\n",
        "        # W.shape=[num_capsule, input_num_capsule, dim_capsule, input_dim_capsule]\n",
        "        # Regard the first two dimensions as `batch` dimension,\n",
        "        # then matmul: [input_dim_capsule] x [dim_capsule, input_dim_capsule]^T -> [dim_capsule].\n",
        "        # inputs_hat.shape = [None, num_capsule, input_num_capsule, dim_capsule]\n",
        "        \n",
        "        #inputs_hat = K.map_fn(lambda x: K.batch_dot(x, self.W, [2, 3]), elems=inputs_tiled) SANDRA\n",
        "        inputs_hat = tf.map_fn(lambda x: tf.matmul(self.W, x), elems=inputs_tiled)\n",
        "        \n",
        "        # Begin: Routing algorithm ---------------------------------------------------------------------#\n",
        "        # The prior for coupling coefficient, initialized as zeros.\n",
        "        # b.shape = [None, self.num_capsule, self.input_num_capsule].\n",
        "        #b = tf.zeros(shape=[K.shape(inputs_hat)[0], self.num_capsule, self.input_num_capsule]) SANDRA\n",
        "        b = tf.zeros(shape=[tf.shape(inputs_hat)[0], self.num_capsule, \n",
        "                      self.input_num_capsule, 1, 1])\n",
        "        \n",
        "        assert self.routings > 0, 'The routings should be > 0.'\n",
        "        for i in range(self.routings):\n",
        "            # c.shape=[batch_size, num_capsule, input_num_capsule]\n",
        "            #c = tf.nn.softmax(b, dim=1)\n",
        "            # c =tf.compat.v1.math.softmax(b, axis = 1) SANDRA\n",
        "            c = layers.Softmax(axis=1)(b)\n",
        "            print(\"c\",np.shape(c))\n",
        "            \n",
        "\n",
        "            # c.shape =  [batch_size, num_capsule, input_num_capsule]\n",
        "            # inputs_hat.shape=[None, num_capsule, input_num_capsule, dim_capsule]\n",
        "            # The first two dimensions as `batch` dimension,\n",
        "            # then matmal: [input_num_capsule] x [input_num_capsule, dim_capsule] -> [dim_capsule].\n",
        "            # outputs.shape=[None, num_capsule, dim_capsule]\n",
        "            #dot_c = K.batch_dot(c, inputs_hat, [2,2]) sandra\n",
        "            #print(\"dot_c\",np.shape(dot_c)) sandra\n",
        "\n",
        "            #outputs = squash(dot_c)  # [None, 10, 16] # sandra\n",
        "            outputs = tf.multiply(c, inputs_hat)\n",
        "            outputs = tf.reduce_sum(outputs, axis=2, keepdims=True)\n",
        "            outputs = squash(outputs, axis=-2)  # [None, 10, 1, 16, 1]\n",
        "      \n",
        "            if i < self.routings - 1:\n",
        "                # outputs.shape =  [None, num_capsule, dim_capsule]\n",
        "                # inputs_hat.shape=[None, num_capsule, input_num_capsule, dim_capsule]\n",
        "                # The first two dimensions as `batch` dimension,\n",
        "                # then matmal: [dim_capsule] x [input_num_capsule, dim_capsule]^T -> [input_num_capsule].\n",
        "                # b.shape=[batch_size, num_capsule, input_num_capsule]\n",
        "                # b += K.batch_dot(outputs, inputs_hat, [2, 3]) SANDRA\n",
        "                outputs_tiled = tf.tile(outputs, [1, 1, self.input_num_capsule, 1, 1])\n",
        "                agreement = tf.matmul(inputs_hat, outputs_tiled, transpose_a=True)\n",
        "                b = tf.add(b, agreement)\n",
        "        # End: Routing algorithm -----------------------------------------------------------------------#\n",
        "        # Squeeze the outputs to remove useless axis:\n",
        "        #  From  --> outputs.shape=[None, num_capsule, 1, dim_capsule, 1]\n",
        "        #  To    --> outputs.shape=[None, num_capsule,    dim_capsule]\n",
        "        outputs = tf.squeeze(outputs, [2, 4])\n",
        "        return outputs\n",
        "    \n",
        "\n",
        "\n",
        "def PrimaryCap(inputs, dim_capsule, n_channels, kernel_size, strides, padding, lam_regularize):\n",
        "    \"\"\"\n",
        "    Apply Conv2D `n_channels` times and concatenate all capsules\n",
        "    :param inputs: 4D tensor, shape=[None, width, height, channels]\n",
        "    :param dim_capsule: the dim of the output vector of capsule\n",
        "    :param n_channels: the number of types of capsules\n",
        "    :return: output tensor, shape=[None, num_capsule, dim_capsule]\n",
        "    \"\"\"\n",
        "    outputs = layers.Conv2D(filters=dim_capsule*n_channels, kernel_size=kernel_size, strides=strides, padding=padding,\n",
        "                           name='primarycap_conv2d',kernel_regularizer= regularizers.l2(lam_regularize))(inputs)\n",
        "    \n",
        "\n",
        "    outputs = layers.Reshape(target_shape=[-1, dim_capsule], name='primarycap_reshape')(outputs)#(conca_maps)#(output)\n",
        "    return layers.Lambda(squash, name='primarycap_squash')(outputs)"
      ],
      "execution_count": 10,
      "outputs": []
    },
    {
      "cell_type": "code",
      "metadata": {
        "id": "MQvXFC9GNJmK"
      },
      "source": [
        "from keras import backend as K\n",
        "from keras import layers, models, optimizers,regularizers\n",
        "from keras.layers import InputSpec, Dense\n",
        "#from capsulelayers import CapsuleLayer, PrimaryCap, Length\n",
        "\n",
        "K.set_image_data_format('channels_last')\n",
        "\n",
        "import pandas as pd\n",
        "import time\n",
        "import pickle\n",
        "import numpy as np\n",
        "\n",
        "class CapsToScalars(layers.Layer):\n",
        "\n",
        "    def __init__(self, **kwargs):\n",
        "        super(CapsToScalars, self).__init__(**kwargs)\n",
        "        self.input_spec = InputSpec(min_ndim=3)\n",
        "\n",
        "    def compute_output_shape(self, input_shape):\n",
        "        return (input_shape[0], input_shape[1])\n",
        "\n",
        "    def call(self, inputs):\n",
        "        return K.sqrt(K.sum(K.square(inputs + K.epsilon()), axis=-1))\n",
        "\n",
        "def CapsNet(input_shape, n_class, routings, lam_regularize):\n",
        "    \"\"\"\n",
        "    A Capsule Network .\n",
        "    :param input_shape: data shape, 3d, [width, height, channels]\n",
        "    :param n_class: number of classes\n",
        "    :param routings: number of routing iterations\n",
        "    :return: Two Keras Models, the first one used for training, and the second one for evaluation.\n",
        "            `eval_model` can also be used for training.\n",
        "    \"\"\"\n",
        "    x = layers.Input(shape=input_shape)\n",
        "\n",
        "    # Layer 1: Just a conventional Conv2D layer\n",
        "    conv1 = layers.Conv2D(filters=512, kernel_size=3, strides=1, padding='valid', activation='relu', name='conv1',kernel_regularizer=regularizers.l2(lam_regularize))(x) \n",
        "\n",
        "    # Layer 2: Conv2D layer with `squash` activation, then reshape to [None, num_capsule, dim_capsule]\n",
        "    primarycaps = PrimaryCap(conv1, dim_capsule=4, n_channels=128, kernel_size=3, strides=2, padding='valid',lam_regularize = lam_regularize)\n",
        "    \n",
        "    # Layer 3: Capsule layer. Routing algorithm works here.\n",
        "    micaps = CapsuleLayer(num_capsule=n_class, dim_capsule=8, routings=routings,\n",
        "                             name='micaps', lam_regularize = lam_regularize)(primarycaps)\n",
        "\n",
        "    # Layer 4: This is an auxiliary layer to replace each capsule with its length. Just to match the true label's shape.\n",
        "    out_caps = Length(name='capsnet')(micaps)\n",
        "\n",
        "    # Decoder network.\n",
        "    y = layers.Input(shape=(n_class,))\n",
        "    masked_by_y = Mask()([micaps, y])  # The true label is used to mask the output of capsule layer. For training\n",
        "    masked = Mask()(micaps)  # Mask using the capsule with maximal length. For prediction\n",
        "\n",
        "    # Shared Decoder model in training and prediction\n",
        "    decoder = models.Sequential(name='decoder')\n",
        "    decoder.add(layers.Dense(512, activation='relu', input_dim=8*n_class))\n",
        "    decoder.add(layers.Dense(1024, activation='relu'))\n",
        "    decoder.add(layers.Dense(np.prod(input_shape), activation='sigmoid'))\n",
        "    decoder.add(layers.Reshape(target_shape=input_shape, name='out_recon'))\n",
        "\n",
        "    # Models for training and evaluation (prediction)\n",
        "    train_model = models.Model([x, y], [out_caps, decoder(masked_by_y)])\n",
        "    eval_model = models.Model(x, [out_caps, decoder(masked)])\n",
        "    \"\"\"\n",
        "    return train_model, eval_model\n",
        "    \"\"\"\n",
        "    # manipulate model\n",
        "    \n",
        "    noise = layers.Input(shape=(n_class, 8))\n",
        "    noised_micaps = layers.Add()([micaps, noise])\n",
        "    masked_noised_y = Mask()([noised_micaps, y])\n",
        "    manipulate_model = models.Model([x, y, noise], decoder(masked_noised_y))\n",
        "    \n",
        "    return train_model, eval_model, manipulate_model\n",
        "    \n",
        "def margin_loss(y_true, y_pred):\n",
        "    \"\"\"\n",
        "    Margin loss for Eq.(4). When y_true[i, :] contains not just one `1`, this loss should work too. Not test it.\n",
        "    :param y_true: [None, n_classes]\n",
        "    :param y_pred: [None, num_capsule]\n",
        "    :return: a scalar loss value.\n",
        "    \"\"\"\n",
        "    L = y_true * K.square(K.maximum(0., 0.9 - y_pred)) + \\\n",
        "        0.5 * (1 - y_true) * K.square(K.maximum(0., y_pred - 0.1))\n",
        "\n",
        "    return K.mean(K.sum(L, 1))\n",
        "\n",
        "def train(model, data, args):\n",
        "    \"\"\"\n",
        "    Training a CapsuleNet\n",
        "    :param model: the CapsuleNet model\n",
        "    :param data: a tuple containing training and testing data, like `((x_train, y_train), (x_test, y_test))`\n",
        "    :param args: arguments\n",
        "    :return: The trained model\n",
        "    \"\"\"\n",
        "    # unpacking the data\n",
        "    (X_train, y_train), (X_dev, y_dev) = data\n",
        "\n",
        "    # callbacks\n",
        "    log = callbacks.CSVLogger(args.save_dir + '/' + 'log_fold.csv')\n",
        "    tb = callbacks.TensorBoard(log_dir=args.save_dir + '/tensorboard-logs_fold',\n",
        "                               batch_size=args.batch_size, histogram_freq=args.debug)\n",
        "    checkpoint = callbacks.ModelCheckpoint(args.save_dir + '/weights-{epoch:02d}_fold.h5', monitor='val_acc',\n",
        "                                           save_best_only=True, save_weights_only=True, verbose=1)\n",
        "    lr_decay = callbacks.LearningRateScheduler(schedule=lambda epoch: args.lr * (1.0 ** epoch))\n",
        "\n",
        "    #EarlyStop = callbacks.EarlyStopping(monitor='val_capsnet_acc', patience=5)\n",
        "    # compile the model\n",
        "    model.compile(optimizer= optimizers.Adam(lr=args.lr),\n",
        "                  loss=[margin_loss, 'mse'],\n",
        "                  loss_weights=[1., args.lam_recon],\n",
        "                  metrics={'capsnet': 'accuracy'})\n",
        "\n",
        "    # Training without validation set\n",
        "    history = model.fit([X_train, y_train],[y_train, X_train], batch_size=args.batch_size, epochs=args.epochs,\n",
        "                validation_data=([X_dev, y_dev], [y_dev, X_dev]), callbacks=[log, tb, lr_decay])\n",
        "\n",
        "    return history\n",
        "\n",
        "time_start_whole = time.time()\n"
      ],
      "execution_count": 11,
      "outputs": []
    },
    {
      "cell_type": "code",
      "metadata": {
        "colab": {
          "base_uri": "https://localhost:8080/"
        },
        "id": "4mh87zwHsEGV",
        "outputId": "7ec852fd-b7d1-44b9-cbb1-7dc135751a3e"
      },
      "source": [
        "np.unique(y_train)"
      ],
      "execution_count": 12,
      "outputs": [
        {
          "output_type": "execute_result",
          "data": {
            "text/plain": [
              "array([0., 1.], dtype=float32)"
            ]
          },
          "metadata": {
            "tags": []
          },
          "execution_count": 12
        }
      ]
    },
    {
      "cell_type": "code",
      "metadata": {
        "colab": {
          "base_uri": "https://localhost:8080/",
          "height": 1000
        },
        "id": "_5bwR72aNJmL",
        "outputId": "cfda68f3-97bc-4395-9f47-3e0209c72ffe"
      },
      "source": [
        "import numpy as np\n",
        "import tensorflow as tf\n",
        "import os\n",
        "from keras import callbacks\n",
        "from keras.utils.vis_utils import plot_model\n",
        "\n",
        "# setting the hyper parameters\n",
        "import argparse\n",
        "\n",
        "parser = argparse.ArgumentParser(description=\"Capsule Network on \" + folder_day)\n",
        "parser.add_argument('--epochs', default=100, type=int)  \n",
        "parser.add_argument('--batch_size', default=20, type=int)\n",
        "parser.add_argument('--lam_regularize', default=0.0, type=float,\n",
        "                    help=\"The coefficient for the regularizers\")\n",
        "parser.add_argument('--lam_recon', default=0.392, type=float,\n",
        "                        help=\"The coefficient for the loss of decoder\")\n",
        "parser.add_argument('-r', '--routings', default=2, type=int,\n",
        "                    help=\"Number of iterations used in routing algorithm. should > 0\")\n",
        "parser.add_argument('--debug', default=0, type=int,\n",
        "                    help=\"Save weights by TensorBoard\")\n",
        "parser.add_argument('--save_dir', default='./result_/sub_dependent_/') # other\n",
        "parser.add_argument('-t', '--testing', action='store_true',\n",
        "                    help=\"Test the trained model on testing dataset\")\n",
        "parser.add_argument('-w', '--weights', default=None,\n",
        "                    help=\"The path of the saved weights. Should be specified when testing\")\n",
        "parser.add_argument('--lr', default=0.00001, type=float,\n",
        "                    help=\"Initial learning rate\") \n",
        "\n",
        "parser.add_argument('--gpus', default=2, type=int)\n",
        "\n",
        "args, unknown = parser.parse_known_args()\n",
        "\n",
        "\n",
        "print(time.asctime(time.localtime(time.time())))\n",
        "print(args)\n",
        "if not os.path.exists(args.save_dir):\n",
        "    os.makedirs(args.save_dir)\n",
        "\n",
        "args.save_dir = args.save_dir\n",
        "if not os.path.exists(args.save_dir):\n",
        "    os.makedirs(args.save_dir)\n",
        "\n",
        "# define model\n",
        "\n",
        "with tf.device('/cpu:0'):\n",
        "    model, eval_model, manipulate_model = CapsNet(input_shape=X_train.shape[1:],\n",
        "                                                  n_class=len(np.unique(np.argmax(y_train, 1))),\n",
        "                                                  routings=args.routings,\n",
        "                                                  lam_regularize = args.lam_regularize) #len(np.unique(np.argmax(y_train, 1)))\n",
        "\n",
        "model.summary()\n",
        "plot_model(model, to_file=args.save_dir+'/model_fold.png', show_shapes=True)\n",
        "\n",
        "\n",
        "# train\n",
        "train_start_time = time.time()\n",
        "history = train(model, data=((X_train, y_train), (X_dev, y_dev)), args=args)\n",
        "train_used_time = time.time() - train_start_time\n",
        "\n",
        "results=pd.DataFrame(history.history)\n",
        "results.plot(figsize=(8, 5))\n",
        "plt.grid(True)\n",
        "plt.xlabel (\"Epochs\")\n",
        "plt.ylabel (\"Accuracy - Mean Log Loss\")\n",
        "plt.gca().set_ylim(0, 2) # set the vertical range to [0-1]\n",
        "plt.show()"
      ],
      "execution_count": 13,
      "outputs": [
        {
          "output_type": "stream",
          "text": [
            "Wed Jun 30 21:32:41 2021\n",
            "Namespace(batch_size=20, debug=0, epochs=100, gpus=2, lam_recon=0.392, lam_regularize=0.0, lr=1e-05, routings=2, save_dir='./result_/sub_dependent_/', testing=False, weights=None)\n",
            "inputs_tiled (None, 2, 1792, 4, 1)\n",
            "c (None, 2, 1792, 1, 1)\n",
            "c (None, 2, 1792, 1, 1)\n",
            "Tensor(\"mask_1/one_hot:0\", shape=(None, 2), dtype=float32)\n",
            "Model: \"model\"\n",
            "__________________________________________________________________________________________________\n",
            "Layer (type)                    Output Shape         Param #     Connected to                     \n",
            "==================================================================================================\n",
            "input_1 (InputLayer)            [(None, 32, 5, 1)]   0                                            \n",
            "__________________________________________________________________________________________________\n",
            "conv1 (Conv2D)                  (None, 30, 3, 512)   5120        input_1[0][0]                    \n",
            "__________________________________________________________________________________________________\n",
            "primarycap_conv2d (Conv2D)      (None, 14, 1, 512)   2359808     conv1[0][0]                      \n",
            "__________________________________________________________________________________________________\n",
            "primarycap_reshape (Reshape)    (None, 1792, 4)      0           primarycap_conv2d[0][0]          \n",
            "__________________________________________________________________________________________________\n",
            "primarycap_squash (Lambda)      (None, 1792, 4)      0           primarycap_reshape[0][0]         \n",
            "__________________________________________________________________________________________________\n",
            "micaps (CapsuleLayer)           (None, 2, 8)         114688      primarycap_squash[0][0]          \n",
            "__________________________________________________________________________________________________\n",
            "input_2 (InputLayer)            [(None, 2)]          0                                            \n",
            "__________________________________________________________________________________________________\n",
            "mask (Mask)                     (None, None)         0           micaps[0][0]                     \n",
            "                                                                 input_2[0][0]                    \n",
            "__________________________________________________________________________________________________\n",
            "capsnet (Length)                (None, 2)            0           micaps[0][0]                     \n",
            "__________________________________________________________________________________________________\n",
            "decoder (Sequential)            (None, 32, 5, 1)     698016      mask[0][0]                       \n",
            "==================================================================================================\n",
            "Total params: 3,177,632\n",
            "Trainable params: 3,177,632\n",
            "Non-trainable params: 0\n",
            "__________________________________________________________________________________________________\n",
            "WARNING:tensorflow:`batch_size` is no longer needed in the `TensorBoard` Callback and will be ignored in TensorFlow 2.0.\n"
          ],
          "name": "stdout"
        },
        {
          "output_type": "stream",
          "text": [
            "/usr/local/lib/python3.7/dist-packages/tensorflow/python/keras/optimizer_v2/optimizer_v2.py:375: UserWarning: The `lr` argument is deprecated, use `learning_rate` instead.\n",
            "  \"The `lr` argument is deprecated, use `learning_rate` instead.\")\n"
          ],
          "name": "stderr"
        },
        {
          "output_type": "stream",
          "text": [
            "WARNING:tensorflow:Model failed to serialize as JSON. Ignoring... Layer CapsuleLayer has arguments in `__init__` and therefore must override `get_config`.\n",
            "Epoch 1/100\n",
            "inputs_tiled (None, 2, 1792, 4, 1)\n",
            "c (None, 2, 1792, 1, 1)\n",
            "c (None, 2, 1792, 1, 1)\n",
            "inputs_tiled (None, 2, 1792, 4, 1)\n",
            "c (None, 2, 1792, 1, 1)\n",
            "c (None, 2, 1792, 1, 1)\n",
            "6/6 [==============================] - ETA: 0s - loss: 1.6912 - capsnet_loss: 0.8094 - decoder_loss: 2.2493 - capsnet_accuracy: 0.6063inputs_tiled (None, 2, 1792, 4, 1)\n",
            "c (None, 2, 1792, 1, 1)\n",
            "c (None, 2, 1792, 1, 1)\n",
            "6/6 [==============================] - 15s 425ms/step - loss: 1.6910 - capsnet_loss: 0.8094 - decoder_loss: 2.2488 - capsnet_accuracy: 0.6076 - val_loss: 1.6905 - val_capsnet_loss: 0.8094 - val_decoder_loss: 2.2476 - val_capsnet_accuracy: 0.6154\n",
            "Epoch 2/100\n",
            "6/6 [==============================] - 0s 48ms/step - loss: 1.6892 - capsnet_loss: 0.8094 - decoder_loss: 2.2443 - capsnet_accuracy: 0.6187 - val_loss: 1.6904 - val_capsnet_loss: 0.8094 - val_decoder_loss: 2.2475 - val_capsnet_accuracy: 0.6154\n",
            "Epoch 3/100\n",
            "6/6 [==============================] - 0s 50ms/step - loss: 1.6893 - capsnet_loss: 0.8094 - decoder_loss: 2.2445 - capsnet_accuracy: 0.6328 - val_loss: 1.6904 - val_capsnet_loss: 0.8094 - val_decoder_loss: 2.2474 - val_capsnet_accuracy: 0.6154\n",
            "Epoch 4/100\n",
            "6/6 [==============================] - 0s 48ms/step - loss: 1.6886 - capsnet_loss: 0.8094 - decoder_loss: 2.2429 - capsnet_accuracy: 0.6090 - val_loss: 1.6902 - val_capsnet_loss: 0.8092 - val_decoder_loss: 2.2473 - val_capsnet_accuracy: 0.6154\n",
            "Epoch 5/100\n",
            "6/6 [==============================] - 0s 48ms/step - loss: 1.6877 - capsnet_loss: 0.8092 - decoder_loss: 2.2412 - capsnet_accuracy: 0.6064 - val_loss: 1.6897 - val_capsnet_loss: 0.8088 - val_decoder_loss: 2.2471 - val_capsnet_accuracy: 0.6154\n",
            "Epoch 6/100\n",
            "6/6 [==============================] - 0s 53ms/step - loss: 1.6890 - capsnet_loss: 0.8086 - decoder_loss: 2.2458 - capsnet_accuracy: 0.6249 - val_loss: 1.6884 - val_capsnet_loss: 0.8076 - val_decoder_loss: 2.2470 - val_capsnet_accuracy: 0.6154\n",
            "Epoch 7/100\n",
            "6/6 [==============================] - 0s 54ms/step - loss: 1.6881 - capsnet_loss: 0.8071 - decoder_loss: 2.2475 - capsnet_accuracy: 0.6245 - val_loss: 1.6856 - val_capsnet_loss: 0.8048 - val_decoder_loss: 2.2469 - val_capsnet_accuracy: 0.6154\n",
            "Epoch 8/100\n",
            "6/6 [==============================] - 0s 55ms/step - loss: 1.6858 - capsnet_loss: 0.8038 - decoder_loss: 2.2499 - capsnet_accuracy: 0.6117 - val_loss: 1.6793 - val_capsnet_loss: 0.7986 - val_decoder_loss: 2.2467 - val_capsnet_accuracy: 0.6154\n",
            "Epoch 9/100\n",
            "6/6 [==============================] - 0s 52ms/step - loss: 1.6734 - capsnet_loss: 0.7964 - decoder_loss: 2.2373 - capsnet_accuracy: 0.6284 - val_loss: 1.6664 - val_capsnet_loss: 0.7857 - val_decoder_loss: 2.2466 - val_capsnet_accuracy: 0.6154\n",
            "Epoch 10/100\n",
            "6/6 [==============================] - 0s 52ms/step - loss: 1.6615 - capsnet_loss: 0.7811 - decoder_loss: 2.2458 - capsnet_accuracy: 0.6296 - val_loss: 1.6405 - val_capsnet_loss: 0.7599 - val_decoder_loss: 2.2465 - val_capsnet_accuracy: 0.6154\n",
            "Epoch 11/100\n",
            "6/6 [==============================] - 0s 55ms/step - loss: 1.6320 - capsnet_loss: 0.7489 - decoder_loss: 2.2529 - capsnet_accuracy: 0.6652 - val_loss: 1.5927 - val_capsnet_loss: 0.7121 - val_decoder_loss: 2.2462 - val_capsnet_accuracy: 0.6154\n",
            "Epoch 12/100\n",
            "6/6 [==============================] - 0s 49ms/step - loss: 1.5728 - capsnet_loss: 0.6947 - decoder_loss: 2.2399 - capsnet_accuracy: 0.6581 - val_loss: 1.5142 - val_capsnet_loss: 0.6339 - val_decoder_loss: 2.2457 - val_capsnet_accuracy: 0.6154\n",
            "Epoch 13/100\n",
            "6/6 [==============================] - 0s 48ms/step - loss: 1.4928 - capsnet_loss: 0.6119 - decoder_loss: 2.2472 - capsnet_accuracy: 0.6219 - val_loss: 1.4041 - val_capsnet_loss: 0.5241 - val_decoder_loss: 2.2447 - val_capsnet_accuracy: 0.6154\n",
            "Epoch 14/100\n",
            "6/6 [==============================] - 0s 58ms/step - loss: 1.3734 - capsnet_loss: 0.4956 - decoder_loss: 2.2395 - capsnet_accuracy: 0.6390 - val_loss: 1.2788 - val_capsnet_loss: 0.3995 - val_decoder_loss: 2.2431 - val_capsnet_accuracy: 0.6154\n",
            "Epoch 15/100\n",
            "6/6 [==============================] - 0s 49ms/step - loss: 1.2591 - capsnet_loss: 0.3834 - decoder_loss: 2.2340 - capsnet_accuracy: 0.5924 - val_loss: 1.1748 - val_capsnet_loss: 0.2965 - val_decoder_loss: 2.2406 - val_capsnet_accuracy: 0.6154\n",
            "Epoch 16/100\n",
            "6/6 [==============================] - 0s 57ms/step - loss: 1.1658 - capsnet_loss: 0.2887 - decoder_loss: 2.2375 - capsnet_accuracy: 0.5868 - val_loss: 1.1121 - val_capsnet_loss: 0.2350 - val_decoder_loss: 2.2375 - val_capsnet_accuracy: 0.6154\n",
            "Epoch 17/100\n",
            "6/6 [==============================] - 0s 58ms/step - loss: 1.1091 - capsnet_loss: 0.2345 - decoder_loss: 2.2310 - capsnet_accuracy: 0.5871 - val_loss: 1.0861 - val_capsnet_loss: 0.2103 - val_decoder_loss: 2.2343 - val_capsnet_accuracy: 0.6154\n",
            "Epoch 18/100\n",
            "6/6 [==============================] - 0s 55ms/step - loss: 1.0849 - capsnet_loss: 0.2105 - decoder_loss: 2.2308 - capsnet_accuracy: 0.6055 - val_loss: 1.0789 - val_capsnet_loss: 0.2043 - val_decoder_loss: 2.2311 - val_capsnet_accuracy: 0.6154\n",
            "Epoch 19/100\n",
            "6/6 [==============================] - 0s 54ms/step - loss: 1.0781 - capsnet_loss: 0.2041 - decoder_loss: 2.2295 - capsnet_accuracy: 0.6177 - val_loss: 1.0776 - val_capsnet_loss: 0.2041 - val_decoder_loss: 2.2282 - val_capsnet_accuracy: 0.6154\n",
            "Epoch 20/100\n",
            "6/6 [==============================] - 0s 55ms/step - loss: 1.0794 - capsnet_loss: 0.2067 - decoder_loss: 2.2262 - capsnet_accuracy: 0.5963 - val_loss: 1.0772 - val_capsnet_loss: 0.2048 - val_decoder_loss: 2.2255 - val_capsnet_accuracy: 0.6154\n",
            "Epoch 21/100\n",
            "6/6 [==============================] - 0s 55ms/step - loss: 1.0777 - capsnet_loss: 0.2042 - decoder_loss: 2.2284 - capsnet_accuracy: 0.6243 - val_loss: 1.0764 - val_capsnet_loss: 0.2050 - val_decoder_loss: 2.2230 - val_capsnet_accuracy: 0.6154\n",
            "Epoch 22/100\n",
            "6/6 [==============================] - 0s 53ms/step - loss: 1.0748 - capsnet_loss: 0.2046 - decoder_loss: 2.2199 - capsnet_accuracy: 0.6186 - val_loss: 1.0752 - val_capsnet_loss: 0.2047 - val_decoder_loss: 2.2207 - val_capsnet_accuracy: 0.6154\n",
            "Epoch 23/100\n",
            "6/6 [==============================] - 0s 57ms/step - loss: 1.0703 - capsnet_loss: 0.2001 - decoder_loss: 2.2200 - capsnet_accuracy: 0.6420 - val_loss: 1.0740 - val_capsnet_loss: 0.2044 - val_decoder_loss: 2.2184 - val_capsnet_accuracy: 0.6154\n",
            "Epoch 24/100\n",
            "6/6 [==============================] - 0s 57ms/step - loss: 1.0692 - capsnet_loss: 0.2000 - decoder_loss: 2.2172 - capsnet_accuracy: 0.6408 - val_loss: 1.0729 - val_capsnet_loss: 0.2042 - val_decoder_loss: 2.2162 - val_capsnet_accuracy: 0.6154\n",
            "Epoch 25/100\n",
            "6/6 [==============================] - 0s 53ms/step - loss: 1.0731 - capsnet_loss: 0.2052 - decoder_loss: 2.2140 - capsnet_accuracy: 0.6073 - val_loss: 1.0719 - val_capsnet_loss: 0.2041 - val_decoder_loss: 2.2139 - val_capsnet_accuracy: 0.6154\n",
            "Epoch 26/100\n",
            "6/6 [==============================] - 0s 56ms/step - loss: 1.0719 - capsnet_loss: 0.2039 - decoder_loss: 2.2143 - capsnet_accuracy: 0.6121 - val_loss: 1.0708 - val_capsnet_loss: 0.2039 - val_decoder_loss: 2.2116 - val_capsnet_accuracy: 0.6154\n",
            "Epoch 27/100\n",
            "6/6 [==============================] - 0s 55ms/step - loss: 1.0705 - capsnet_loss: 0.2047 - decoder_loss: 2.2087 - capsnet_accuracy: 0.6067 - val_loss: 1.0697 - val_capsnet_loss: 0.2037 - val_decoder_loss: 2.2093 - val_capsnet_accuracy: 0.6154\n",
            "Epoch 28/100\n",
            "6/6 [==============================] - 0s 57ms/step - loss: 1.0674 - capsnet_loss: 0.2032 - decoder_loss: 2.2046 - capsnet_accuracy: 0.6144 - val_loss: 1.0687 - val_capsnet_loss: 0.2036 - val_decoder_loss: 2.2069 - val_capsnet_accuracy: 0.6154\n",
            "Epoch 29/100\n",
            "6/6 [==============================] - 0s 57ms/step - loss: 1.0664 - capsnet_loss: 0.2024 - decoder_loss: 2.2039 - capsnet_accuracy: 0.6174 - val_loss: 1.0676 - val_capsnet_loss: 0.2035 - val_decoder_loss: 2.2044 - val_capsnet_accuracy: 0.6154\n",
            "Epoch 30/100\n",
            "6/6 [==============================] - 0s 48ms/step - loss: 1.0643 - capsnet_loss: 0.2019 - decoder_loss: 2.1999 - capsnet_accuracy: 0.6200 - val_loss: 1.0666 - val_capsnet_loss: 0.2035 - val_decoder_loss: 2.2018 - val_capsnet_accuracy: 0.6154\n",
            "Epoch 31/100\n",
            "6/6 [==============================] - 0s 59ms/step - loss: 1.0641 - capsnet_loss: 0.2030 - decoder_loss: 2.1967 - capsnet_accuracy: 0.6130 - val_loss: 1.0655 - val_capsnet_loss: 0.2035 - val_decoder_loss: 2.1990 - val_capsnet_accuracy: 0.6154\n",
            "Epoch 32/100\n",
            "6/6 [==============================] - 0s 56ms/step - loss: 1.0582 - capsnet_loss: 0.2008 - decoder_loss: 2.1872 - capsnet_accuracy: 0.6252 - val_loss: 1.0644 - val_capsnet_loss: 0.2035 - val_decoder_loss: 2.1963 - val_capsnet_accuracy: 0.6154\n",
            "Epoch 33/100\n",
            "6/6 [==============================] - 0s 48ms/step - loss: 1.0642 - capsnet_loss: 0.2053 - decoder_loss: 2.1911 - capsnet_accuracy: 0.5993 - val_loss: 1.0632 - val_capsnet_loss: 0.2034 - val_decoder_loss: 2.1935 - val_capsnet_accuracy: 0.6154\n",
            "Epoch 34/100\n",
            "6/6 [==============================] - 0s 58ms/step - loss: 1.0640 - capsnet_loss: 0.2057 - decoder_loss: 2.1896 - capsnet_accuracy: 0.5975 - val_loss: 1.0620 - val_capsnet_loss: 0.2033 - val_decoder_loss: 2.1906 - val_capsnet_accuracy: 0.6154\n",
            "Epoch 35/100\n",
            "6/6 [==============================] - 0s 50ms/step - loss: 1.0535 - capsnet_loss: 0.2000 - decoder_loss: 2.1771 - capsnet_accuracy: 0.6287 - val_loss: 1.0608 - val_capsnet_loss: 0.2033 - val_decoder_loss: 2.1876 - val_capsnet_accuracy: 0.6154\n",
            "Epoch 36/100\n",
            "6/6 [==============================] - 0s 50ms/step - loss: 1.0546 - capsnet_loss: 0.1982 - decoder_loss: 2.1847 - capsnet_accuracy: 0.6380 - val_loss: 1.0595 - val_capsnet_loss: 0.2032 - val_decoder_loss: 2.1844 - val_capsnet_accuracy: 0.6154\n",
            "Epoch 37/100\n",
            "6/6 [==============================] - 0s 50ms/step - loss: 1.0554 - capsnet_loss: 0.2036 - decoder_loss: 2.1730 - capsnet_accuracy: 0.6064 - val_loss: 1.0582 - val_capsnet_loss: 0.2032 - val_decoder_loss: 2.1811 - val_capsnet_accuracy: 0.6154\n",
            "Epoch 38/100\n",
            "6/6 [==============================] - 0s 55ms/step - loss: 1.0591 - capsnet_loss: 0.2024 - decoder_loss: 2.1853 - capsnet_accuracy: 0.6159 - val_loss: 1.0568 - val_capsnet_loss: 0.2032 - val_decoder_loss: 2.1776 - val_capsnet_accuracy: 0.6154\n",
            "Epoch 39/100\n",
            "6/6 [==============================] - 0s 53ms/step - loss: 1.0539 - capsnet_loss: 0.1990 - decoder_loss: 2.1809 - capsnet_accuracy: 0.6308 - val_loss: 1.0554 - val_capsnet_loss: 0.2032 - val_decoder_loss: 2.1741 - val_capsnet_accuracy: 0.6154\n",
            "Epoch 40/100\n",
            "6/6 [==============================] - 0s 56ms/step - loss: 1.0611 - capsnet_loss: 0.2113 - decoder_loss: 2.1678 - capsnet_accuracy: 0.5646 - val_loss: 1.0539 - val_capsnet_loss: 0.2032 - val_decoder_loss: 2.1703 - val_capsnet_accuracy: 0.6154\n",
            "Epoch 41/100\n",
            "6/6 [==============================] - 0s 58ms/step - loss: 1.0572 - capsnet_loss: 0.2077 - decoder_loss: 2.1673 - capsnet_accuracy: 0.5834 - val_loss: 1.0524 - val_capsnet_loss: 0.2032 - val_decoder_loss: 2.1662 - val_capsnet_accuracy: 0.6154\n",
            "Epoch 42/100\n",
            "6/6 [==============================] - 0s 49ms/step - loss: 1.0509 - capsnet_loss: 0.2020 - decoder_loss: 2.1657 - capsnet_accuracy: 0.6144 - val_loss: 1.0508 - val_capsnet_loss: 0.2033 - val_decoder_loss: 2.1622 - val_capsnet_accuracy: 0.6154\n",
            "Epoch 43/100\n",
            "6/6 [==============================] - 0s 50ms/step - loss: 1.0559 - capsnet_loss: 0.2105 - decoder_loss: 2.1567 - capsnet_accuracy: 0.5653 - val_loss: 1.0493 - val_capsnet_loss: 0.2033 - val_decoder_loss: 2.1580 - val_capsnet_accuracy: 0.6154\n",
            "Epoch 44/100\n",
            "6/6 [==============================] - 0s 60ms/step - loss: 1.0399 - capsnet_loss: 0.1984 - decoder_loss: 2.1467 - capsnet_accuracy: 0.6332 - val_loss: 1.0476 - val_capsnet_loss: 0.2032 - val_decoder_loss: 2.1540 - val_capsnet_accuracy: 0.6154\n",
            "Epoch 45/100\n",
            "6/6 [==============================] - 0s 54ms/step - loss: 1.0328 - capsnet_loss: 0.1928 - decoder_loss: 2.1429 - capsnet_accuracy: 0.6659 - val_loss: 1.0458 - val_capsnet_loss: 0.2031 - val_decoder_loss: 2.1499 - val_capsnet_accuracy: 0.6154\n",
            "Epoch 46/100\n",
            "6/6 [==============================] - 0s 50ms/step - loss: 1.0400 - capsnet_loss: 0.1990 - decoder_loss: 2.1454 - capsnet_accuracy: 0.6290 - val_loss: 1.0441 - val_capsnet_loss: 0.2030 - val_decoder_loss: 2.1456 - val_capsnet_accuracy: 0.6154\n",
            "Epoch 47/100\n",
            "6/6 [==============================] - 0s 59ms/step - loss: 1.0398 - capsnet_loss: 0.1971 - decoder_loss: 2.1499 - capsnet_accuracy: 0.6396 - val_loss: 1.0423 - val_capsnet_loss: 0.2030 - val_decoder_loss: 2.1410 - val_capsnet_accuracy: 0.6154\n",
            "Epoch 48/100\n",
            "6/6 [==============================] - 0s 48ms/step - loss: 1.0342 - capsnet_loss: 0.2000 - decoder_loss: 2.1281 - capsnet_accuracy: 0.6227 - val_loss: 1.0403 - val_capsnet_loss: 0.2030 - val_decoder_loss: 2.1360 - val_capsnet_accuracy: 0.6154\n",
            "Epoch 49/100\n",
            "6/6 [==============================] - 0s 56ms/step - loss: 1.0405 - capsnet_loss: 0.2033 - decoder_loss: 2.1356 - capsnet_accuracy: 0.6019 - val_loss: 1.0384 - val_capsnet_loss: 0.2031 - val_decoder_loss: 2.1308 - val_capsnet_accuracy: 0.6154\n",
            "Epoch 50/100\n",
            "6/6 [==============================] - 0s 55ms/step - loss: 1.0401 - capsnet_loss: 0.2049 - decoder_loss: 2.1306 - capsnet_accuracy: 0.5957 - val_loss: 1.0364 - val_capsnet_loss: 0.2031 - val_decoder_loss: 2.1256 - val_capsnet_accuracy: 0.6154\n",
            "Epoch 51/100\n",
            "6/6 [==============================] - 0s 56ms/step - loss: 1.0404 - capsnet_loss: 0.2068 - decoder_loss: 2.1265 - capsnet_accuracy: 0.5828 - val_loss: 1.0343 - val_capsnet_loss: 0.2031 - val_decoder_loss: 2.1204 - val_capsnet_accuracy: 0.6154\n",
            "Epoch 52/100\n",
            "6/6 [==============================] - 0s 58ms/step - loss: 1.0245 - capsnet_loss: 0.1973 - decoder_loss: 2.1103 - capsnet_accuracy: 0.6382 - val_loss: 1.0321 - val_capsnet_loss: 0.2030 - val_decoder_loss: 2.1151 - val_capsnet_accuracy: 0.6154\n",
            "Epoch 53/100\n",
            "6/6 [==============================] - 0s 61ms/step - loss: 1.0242 - capsnet_loss: 0.1934 - decoder_loss: 2.1195 - capsnet_accuracy: 0.6624 - val_loss: 1.0299 - val_capsnet_loss: 0.2030 - val_decoder_loss: 2.1096 - val_capsnet_accuracy: 0.6154\n",
            "Epoch 54/100\n",
            "6/6 [==============================] - 0s 50ms/step - loss: 1.0250 - capsnet_loss: 0.2013 - decoder_loss: 2.1011 - capsnet_accuracy: 0.6132 - val_loss: 1.0277 - val_capsnet_loss: 0.2029 - val_decoder_loss: 2.1039 - val_capsnet_accuracy: 0.6154\n",
            "Epoch 55/100\n",
            "6/6 [==============================] - 0s 50ms/step - loss: 1.0212 - capsnet_loss: 0.1968 - decoder_loss: 2.1031 - capsnet_accuracy: 0.6386 - val_loss: 1.0253 - val_capsnet_loss: 0.2029 - val_decoder_loss: 2.0980 - val_capsnet_accuracy: 0.6154\n",
            "Epoch 56/100\n",
            "6/6 [==============================] - 0s 55ms/step - loss: 1.0239 - capsnet_loss: 0.2029 - decoder_loss: 2.0944 - capsnet_accuracy: 0.6005 - val_loss: 1.0229 - val_capsnet_loss: 0.2029 - val_decoder_loss: 2.0918 - val_capsnet_accuracy: 0.6154\n",
            "Epoch 57/100\n",
            "6/6 [==============================] - 0s 52ms/step - loss: 1.0141 - capsnet_loss: 0.1975 - decoder_loss: 2.0832 - capsnet_accuracy: 0.6328 - val_loss: 1.0204 - val_capsnet_loss: 0.2029 - val_decoder_loss: 2.0855 - val_capsnet_accuracy: 0.6154\n",
            "Epoch 58/100\n",
            "6/6 [==============================] - 0s 54ms/step - loss: 1.0290 - capsnet_loss: 0.2099 - decoder_loss: 2.0897 - capsnet_accuracy: 0.5627 - val_loss: 1.0178 - val_capsnet_loss: 0.2029 - val_decoder_loss: 2.0788 - val_capsnet_accuracy: 0.6154\n",
            "Epoch 59/100\n",
            "6/6 [==============================] - 0s 54ms/step - loss: 1.0158 - capsnet_loss: 0.2049 - decoder_loss: 2.0685 - capsnet_accuracy: 0.5892 - val_loss: 1.0152 - val_capsnet_loss: 0.2028 - val_decoder_loss: 2.0724 - val_capsnet_accuracy: 0.6154\n",
            "Epoch 60/100\n",
            "6/6 [==============================] - 0s 49ms/step - loss: 1.0187 - capsnet_loss: 0.2092 - decoder_loss: 2.0652 - capsnet_accuracy: 0.5639 - val_loss: 1.0126 - val_capsnet_loss: 0.2028 - val_decoder_loss: 2.0658 - val_capsnet_accuracy: 0.6154\n",
            "Epoch 61/100\n",
            "6/6 [==============================] - 0s 59ms/step - loss: 1.0151 - capsnet_loss: 0.2065 - decoder_loss: 2.0629 - capsnet_accuracy: 0.5856 - val_loss: 1.0099 - val_capsnet_loss: 0.2028 - val_decoder_loss: 2.0590 - val_capsnet_accuracy: 0.6154\n",
            "Epoch 62/100\n",
            "6/6 [==============================] - 0s 57ms/step - loss: 0.9972 - capsnet_loss: 0.1926 - decoder_loss: 2.0525 - capsnet_accuracy: 0.6573 - val_loss: 1.0072 - val_capsnet_loss: 0.2029 - val_decoder_loss: 2.0518 - val_capsnet_accuracy: 0.6154\n",
            "Epoch 63/100\n",
            "6/6 [==============================] - 0s 56ms/step - loss: 1.0039 - capsnet_loss: 0.1991 - decoder_loss: 2.0529 - capsnet_accuracy: 0.6189 - val_loss: 1.0041 - val_capsnet_loss: 0.2030 - val_decoder_loss: 2.0436 - val_capsnet_accuracy: 0.6154\n",
            "Epoch 64/100\n",
            "6/6 [==============================] - 0s 52ms/step - loss: 0.9945 - capsnet_loss: 0.1940 - decoder_loss: 2.0421 - capsnet_accuracy: 0.6473 - val_loss: 1.0010 - val_capsnet_loss: 0.2031 - val_decoder_loss: 2.0354 - val_capsnet_accuracy: 0.6154\n",
            "Epoch 65/100\n",
            "6/6 [==============================] - 0s 54ms/step - loss: 1.0048 - capsnet_loss: 0.2086 - decoder_loss: 2.0312 - capsnet_accuracy: 0.5767 - val_loss: 0.9979 - val_capsnet_loss: 0.2032 - val_decoder_loss: 2.0272 - val_capsnet_accuracy: 0.6154\n",
            "Epoch 66/100\n",
            "6/6 [==============================] - 0s 52ms/step - loss: 0.9897 - capsnet_loss: 0.1942 - decoder_loss: 2.0294 - capsnet_accuracy: 0.6474 - val_loss: 0.9947 - val_capsnet_loss: 0.2033 - val_decoder_loss: 2.0188 - val_capsnet_accuracy: 0.6154\n",
            "Epoch 67/100\n",
            "6/6 [==============================] - 0s 51ms/step - loss: 0.9793 - capsnet_loss: 0.1905 - decoder_loss: 2.0121 - capsnet_accuracy: 0.6614 - val_loss: 0.9913 - val_capsnet_loss: 0.2035 - val_decoder_loss: 2.0095 - val_capsnet_accuracy: 0.6154\n",
            "Epoch 68/100\n",
            "6/6 [==============================] - 0s 51ms/step - loss: 0.9877 - capsnet_loss: 0.2013 - decoder_loss: 2.0061 - capsnet_accuracy: 0.6096 - val_loss: 0.9878 - val_capsnet_loss: 0.2038 - val_decoder_loss: 2.0000 - val_capsnet_accuracy: 0.6154\n",
            "Epoch 69/100\n",
            "6/6 [==============================] - 0s 59ms/step - loss: 0.9750 - capsnet_loss: 0.1940 - decoder_loss: 1.9922 - capsnet_accuracy: 0.6496 - val_loss: 0.9843 - val_capsnet_loss: 0.2039 - val_decoder_loss: 1.9910 - val_capsnet_accuracy: 0.6154\n",
            "Epoch 70/100\n",
            "6/6 [==============================] - 0s 57ms/step - loss: 0.9780 - capsnet_loss: 0.1999 - decoder_loss: 1.9850 - capsnet_accuracy: 0.6182 - val_loss: 0.9808 - val_capsnet_loss: 0.2037 - val_decoder_loss: 1.9825 - val_capsnet_accuracy: 0.6154\n",
            "Epoch 71/100\n",
            "6/6 [==============================] - 0s 57ms/step - loss: 0.9757 - capsnet_loss: 0.2009 - decoder_loss: 1.9766 - capsnet_accuracy: 0.6120 - val_loss: 0.9772 - val_capsnet_loss: 0.2037 - val_decoder_loss: 1.9732 - val_capsnet_accuracy: 0.6154\n",
            "Epoch 72/100\n",
            "6/6 [==============================] - 0s 56ms/step - loss: 0.9754 - capsnet_loss: 0.2027 - decoder_loss: 1.9713 - capsnet_accuracy: 0.6046 - val_loss: 0.9735 - val_capsnet_loss: 0.2037 - val_decoder_loss: 1.9639 - val_capsnet_accuracy: 0.6154\n",
            "Epoch 73/100\n",
            "6/6 [==============================] - 0s 57ms/step - loss: 0.9711 - capsnet_loss: 0.2042 - decoder_loss: 1.9562 - capsnet_accuracy: 0.5953 - val_loss: 0.9698 - val_capsnet_loss: 0.2035 - val_decoder_loss: 1.9547 - val_capsnet_accuracy: 0.6154\n",
            "Epoch 74/100\n",
            "6/6 [==============================] - 0s 51ms/step - loss: 0.9652 - capsnet_loss: 0.1989 - decoder_loss: 1.9550 - capsnet_accuracy: 0.6194 - val_loss: 0.9660 - val_capsnet_loss: 0.2035 - val_decoder_loss: 1.9453 - val_capsnet_accuracy: 0.6154\n",
            "Epoch 75/100\n",
            "6/6 [==============================] - 0s 50ms/step - loss: 0.9623 - capsnet_loss: 0.2000 - decoder_loss: 1.9446 - capsnet_accuracy: 0.6126 - val_loss: 0.9622 - val_capsnet_loss: 0.2037 - val_decoder_loss: 1.9349 - val_capsnet_accuracy: 0.6154\n",
            "Epoch 76/100\n",
            "6/6 [==============================] - 0s 58ms/step - loss: 0.9663 - capsnet_loss: 0.2078 - decoder_loss: 1.9351 - capsnet_accuracy: 0.5669 - val_loss: 0.9584 - val_capsnet_loss: 0.2040 - val_decoder_loss: 1.9244 - val_capsnet_accuracy: 0.6154\n",
            "Epoch 77/100\n",
            "6/6 [==============================] - 0s 52ms/step - loss: 0.9493 - capsnet_loss: 0.1962 - decoder_loss: 1.9210 - capsnet_accuracy: 0.6412 - val_loss: 0.9543 - val_capsnet_loss: 0.2037 - val_decoder_loss: 1.9149 - val_capsnet_accuracy: 0.6154\n",
            "Epoch 78/100\n",
            "6/6 [==============================] - 0s 61ms/step - loss: 0.9487 - capsnet_loss: 0.2018 - decoder_loss: 1.9054 - capsnet_accuracy: 0.5989 - val_loss: 0.9503 - val_capsnet_loss: 0.2036 - val_decoder_loss: 1.9047 - val_capsnet_accuracy: 0.6154\n",
            "Epoch 79/100\n",
            "6/6 [==============================] - 0s 57ms/step - loss: 0.9394 - capsnet_loss: 0.1961 - decoder_loss: 1.8960 - capsnet_accuracy: 0.6307 - val_loss: 0.9461 - val_capsnet_loss: 0.2037 - val_decoder_loss: 1.8940 - val_capsnet_accuracy: 0.6154\n",
            "Epoch 80/100\n",
            "6/6 [==============================] - 0s 52ms/step - loss: 0.9378 - capsnet_loss: 0.1988 - decoder_loss: 1.8851 - capsnet_accuracy: 0.6233 - val_loss: 0.9420 - val_capsnet_loss: 0.2041 - val_decoder_loss: 1.8825 - val_capsnet_accuracy: 0.6154\n",
            "Epoch 81/100\n",
            "6/6 [==============================] - 0s 64ms/step - loss: 0.9276 - capsnet_loss: 0.1948 - decoder_loss: 1.8693 - capsnet_accuracy: 0.6462 - val_loss: 0.9378 - val_capsnet_loss: 0.2043 - val_decoder_loss: 1.8712 - val_capsnet_accuracy: 0.6154\n",
            "Epoch 82/100\n",
            "6/6 [==============================] - 0s 58ms/step - loss: 0.9296 - capsnet_loss: 0.1985 - decoder_loss: 1.8651 - capsnet_accuracy: 0.6281 - val_loss: 0.9336 - val_capsnet_loss: 0.2047 - val_decoder_loss: 1.8597 - val_capsnet_accuracy: 0.6154\n",
            "Epoch 83/100\n",
            "6/6 [==============================] - 0s 58ms/step - loss: 0.9221 - capsnet_loss: 0.1957 - decoder_loss: 1.8530 - capsnet_accuracy: 0.6456 - val_loss: 0.9294 - val_capsnet_loss: 0.2047 - val_decoder_loss: 1.8487 - val_capsnet_accuracy: 0.6154\n",
            "Epoch 84/100\n",
            "6/6 [==============================] - 0s 56ms/step - loss: 0.9144 - capsnet_loss: 0.1951 - decoder_loss: 1.8350 - capsnet_accuracy: 0.6477 - val_loss: 0.9251 - val_capsnet_loss: 0.2047 - val_decoder_loss: 1.8375 - val_capsnet_accuracy: 0.6154\n",
            "Epoch 85/100\n",
            "6/6 [==============================] - 0s 49ms/step - loss: 0.9149 - capsnet_loss: 0.1969 - decoder_loss: 1.8317 - capsnet_accuracy: 0.6361 - val_loss: 0.9207 - val_capsnet_loss: 0.2047 - val_decoder_loss: 1.8266 - val_capsnet_accuracy: 0.6154\n",
            "Epoch 86/100\n",
            "6/6 [==============================] - 0s 53ms/step - loss: 0.9074 - capsnet_loss: 0.1926 - decoder_loss: 1.8235 - capsnet_accuracy: 0.6695 - val_loss: 0.9163 - val_capsnet_loss: 0.2047 - val_decoder_loss: 1.8153 - val_capsnet_accuracy: 0.6154\n",
            "Epoch 87/100\n",
            "6/6 [==============================] - 0s 51ms/step - loss: 0.9137 - capsnet_loss: 0.2006 - decoder_loss: 1.8189 - capsnet_accuracy: 0.6118 - val_loss: 0.9117 - val_capsnet_loss: 0.2044 - val_decoder_loss: 1.8043 - val_capsnet_accuracy: 0.6154\n",
            "Epoch 88/100\n",
            "6/6 [==============================] - 0s 51ms/step - loss: 0.9050 - capsnet_loss: 0.1983 - decoder_loss: 1.8027 - capsnet_accuracy: 0.6284 - val_loss: 0.9071 - val_capsnet_loss: 0.2039 - val_decoder_loss: 1.7939 - val_capsnet_accuracy: 0.6154\n",
            "Epoch 89/100\n",
            "6/6 [==============================] - 0s 57ms/step - loss: 0.8976 - capsnet_loss: 0.1952 - decoder_loss: 1.7916 - capsnet_accuracy: 0.6459 - val_loss: 0.9024 - val_capsnet_loss: 0.2034 - val_decoder_loss: 1.7833 - val_capsnet_accuracy: 0.6154\n",
            "Epoch 90/100\n",
            "6/6 [==============================] - 0s 60ms/step - loss: 0.8978 - capsnet_loss: 0.1996 - decoder_loss: 1.7810 - capsnet_accuracy: 0.6108 - val_loss: 0.8978 - val_capsnet_loss: 0.2035 - val_decoder_loss: 1.7711 - val_capsnet_accuracy: 0.6154\n",
            "Epoch 91/100\n",
            "6/6 [==============================] - 0s 50ms/step - loss: 0.8914 - capsnet_loss: 0.1977 - decoder_loss: 1.7698 - capsnet_accuracy: 0.6133 - val_loss: 0.8931 - val_capsnet_loss: 0.2038 - val_decoder_loss: 1.7586 - val_capsnet_accuracy: 0.6154\n",
            "Epoch 92/100\n",
            "6/6 [==============================] - 0s 50ms/step - loss: 0.8806 - capsnet_loss: 0.1926 - decoder_loss: 1.7551 - capsnet_accuracy: 0.6459 - val_loss: 0.8885 - val_capsnet_loss: 0.2036 - val_decoder_loss: 1.7472 - val_capsnet_accuracy: 0.6154\n",
            "Epoch 93/100\n",
            "6/6 [==============================] - 0s 54ms/step - loss: 0.8883 - capsnet_loss: 0.2023 - decoder_loss: 1.7501 - capsnet_accuracy: 0.5969 - val_loss: 0.8838 - val_capsnet_loss: 0.2038 - val_decoder_loss: 1.7349 - val_capsnet_accuracy: 0.6154\n",
            "Epoch 94/100\n",
            "6/6 [==============================] - 0s 58ms/step - loss: 0.8743 - capsnet_loss: 0.1971 - decoder_loss: 1.7276 - capsnet_accuracy: 0.6273 - val_loss: 0.8792 - val_capsnet_loss: 0.2039 - val_decoder_loss: 1.7226 - val_capsnet_accuracy: 0.6154\n",
            "Epoch 95/100\n",
            "6/6 [==============================] - 0s 63ms/step - loss: 0.8748 - capsnet_loss: 0.2025 - decoder_loss: 1.7152 - capsnet_accuracy: 0.5961 - val_loss: 0.8745 - val_capsnet_loss: 0.2040 - val_decoder_loss: 1.7106 - val_capsnet_accuracy: 0.6154\n",
            "Epoch 96/100\n",
            "6/6 [==============================] - 0s 65ms/step - loss: 0.8649 - capsnet_loss: 0.1969 - decoder_loss: 1.7039 - capsnet_accuracy: 0.6263 - val_loss: 0.8700 - val_capsnet_loss: 0.2038 - val_decoder_loss: 1.6994 - val_capsnet_accuracy: 0.6154\n",
            "Epoch 97/100\n",
            "6/6 [==============================] - 0s 60ms/step - loss: 0.8622 - capsnet_loss: 0.1980 - decoder_loss: 1.6944 - capsnet_accuracy: 0.6246 - val_loss: 0.8653 - val_capsnet_loss: 0.2041 - val_decoder_loss: 1.6868 - val_capsnet_accuracy: 0.6154\n",
            "Epoch 98/100\n",
            "6/6 [==============================] - 0s 65ms/step - loss: 0.8559 - capsnet_loss: 0.1991 - decoder_loss: 1.6756 - capsnet_accuracy: 0.6132 - val_loss: 0.8607 - val_capsnet_loss: 0.2041 - val_decoder_loss: 1.6749 - val_capsnet_accuracy: 0.6154\n",
            "Epoch 99/100\n",
            "6/6 [==============================] - 0s 63ms/step - loss: 0.8542 - capsnet_loss: 0.1991 - decoder_loss: 1.6712 - capsnet_accuracy: 0.6118 - val_loss: 0.8560 - val_capsnet_loss: 0.2046 - val_decoder_loss: 1.6616 - val_capsnet_accuracy: 0.6154\n",
            "Epoch 100/100\n",
            "6/6 [==============================] - 0s 63ms/step - loss: 0.8437 - capsnet_loss: 0.1959 - decoder_loss: 1.6526 - capsnet_accuracy: 0.6319 - val_loss: 0.8513 - val_capsnet_loss: 0.2050 - val_decoder_loss: 1.6488 - val_capsnet_accuracy: 0.6154\n"
          ],
          "name": "stdout"
        },
        {
          "output_type": "display_data",
          "data": {
            "image/png": "[encoded data removed]",
            "text/plain": [
              "<Figure size 576x360 with 1 Axes>"
            ]
          },
          "metadata": {
            "tags": [],
            "needs_background": "light"
          }
        }
      ]
    },
    {
      "cell_type": "code",
      "metadata": {
        "colab": {
          "base_uri": "https://localhost:8080/"
        },
        "id": "e5mlzs4mNJmM",
        "outputId": "fb05b71d-a50e-4bd2-dba5-2922811ef023"
      },
      "source": [
        "history.params"
      ],
      "execution_count": 14,
      "outputs": [
        {
          "output_type": "execute_result",
          "data": {
            "text/plain": [
              "{'epochs': 100, 'steps': 6, 'verbose': 1}"
            ]
          },
          "metadata": {
            "tags": []
          },
          "execution_count": 14
        }
      ]
    },
    {
      "cell_type": "code",
      "metadata": {
        "colab": {
          "base_uri": "https://localhost:8080/",
          "height": 100
        },
        "id": "r6ONyQF_y_CM",
        "outputId": "4c13c1c2-4cdc-4cc6-f9e9-a194b2ffca31"
      },
      "source": [
        "results[-1:]"
      ],
      "execution_count": 15,
      "outputs": [
        {
          "output_type": "execute_result",
          "data": {
            "text/html": [
              "<div>\n",
              "<style scoped>\n",
              "    .dataframe tbody tr th:only-of-type {\n",
              "        vertical-align: middle;\n",
              "    }\n",
              "\n",
              "    .dataframe tbody tr th {\n",
              "        vertical-align: top;\n",
              "    }\n",
              "\n",
              "    .dataframe thead th {\n",
              "        text-align: right;\n",
              "    }\n",
              "</style>\n",
              "<table border=\"1\" class=\"dataframe\">\n",
              "  <thead>\n",
              "    <tr style=\"text-align: right;\">\n",
              "      <th></th>\n",
              "      <th>loss</th>\n",
              "      <th>capsnet_loss</th>\n",
              "      <th>decoder_loss</th>\n",
              "      <th>capsnet_accuracy</th>\n",
              "      <th>val_loss</th>\n",
              "      <th>val_capsnet_loss</th>\n",
              "      <th>val_decoder_loss</th>\n",
              "      <th>val_capsnet_accuracy</th>\n",
              "      <th>lr</th>\n",
              "    </tr>\n",
              "  </thead>\n",
              "  <tbody>\n",
              "    <tr>\n",
              "      <th>99</th>\n",
              "      <td>0.847334</td>\n",
              "      <td>0.198919</td>\n",
              "      <td>1.654121</td>\n",
              "      <td>0.615385</td>\n",
              "      <td>0.851307</td>\n",
              "      <td>0.204974</td>\n",
              "      <td>1.648809</td>\n",
              "      <td>0.615385</td>\n",
              "      <td>0.00001</td>\n",
              "    </tr>\n",
              "  </tbody>\n",
              "</table>\n",
              "</div>"
            ],
            "text/plain": [
              "        loss  capsnet_loss  ...  val_capsnet_accuracy       lr\n",
              "99  0.847334      0.198919  ...              0.615385  0.00001\n",
              "\n",
              "[1 rows x 9 columns]"
            ]
          },
          "metadata": {
            "tags": []
          },
          "execution_count": 15
        }
      ]
    },
    {
      "cell_type": "code",
      "metadata": {
        "colab": {
          "base_uri": "https://localhost:8080/"
        },
        "id": "WXlIdxcwzBHO",
        "outputId": "e7f545fa-6886-4a4e-d585-6281c6002550"
      },
      "source": [
        "print (\"Accuracy for the training set: \", results.values[-1:][0][1])"
      ],
      "execution_count": 16,
      "outputs": [
        {
          "output_type": "stream",
          "text": [
            "Accuracy for the training set:  0.19891875982284546\n"
          ],
          "name": "stdout"
        }
      ]
    },
    {
      "cell_type": "code",
      "metadata": {
        "colab": {
          "base_uri": "https://localhost:8080/"
        },
        "id": "ytHVOXIczBpy",
        "outputId": "a491d69f-6f35-4630-d545-fc91a146af19"
      },
      "source": [
        "print (\"Accuracy for the development test set: \", results.values[-1:][0][3])"
      ],
      "execution_count": 17,
      "outputs": [
        {
          "output_type": "stream",
          "text": [
            "Accuracy for the development test set:  0.6153846383094788\n"
          ],
          "name": "stdout"
        }
      ]
    },
    {
      "cell_type": "code",
      "metadata": {
        "colab": {
          "base_uri": "https://localhost:8080/"
        },
        "id": "NU2LFu7DVuE0",
        "outputId": "1e1f836f-9213-4c38-d2a2-4829f1479861"
      },
      "source": [
        "dev_predictions=model.predict([X_dev, y_dev])[0].round(2) \n",
        "type(dev_predictions[0])"
      ],
      "execution_count": 18,
      "outputs": [
        {
          "output_type": "stream",
          "text": [
            "inputs_tiled (None, 2, 1792, 4, 1)\n",
            "c (None, 2, 1792, 1, 1)\n",
            "c (None, 2, 1792, 1, 1)\n"
          ],
          "name": "stdout"
        },
        {
          "output_type": "execute_result",
          "data": {
            "text/plain": [
              "numpy.ndarray"
            ]
          },
          "metadata": {
            "tags": []
          },
          "execution_count": 18
        }
      ]
    },
    {
      "cell_type": "code",
      "metadata": {
        "colab": {
          "base_uri": "https://localhost:8080/"
        },
        "id": "xnHjrm3IXQo8",
        "outputId": "ccfa850d-b074-4e4e-8839-029cd45bc015"
      },
      "source": [
        "dev_predictions"
      ],
      "execution_count": 19,
      "outputs": [
        {
          "output_type": "execute_result",
          "data": {
            "text/plain": [
              "array([[0.77, 0.59],\n",
              "       [0.79, 0.59],\n",
              "       [0.77, 0.57],\n",
              "       [0.78, 0.55],\n",
              "       [0.8 , 0.57],\n",
              "       [0.77, 0.54],\n",
              "       [0.79, 0.56],\n",
              "       [0.8 , 0.57],\n",
              "       [0.79, 0.53],\n",
              "       [0.77, 0.54],\n",
              "       [0.79, 0.52],\n",
              "       [0.77, 0.57],\n",
              "       [0.77, 0.56],\n",
              "       [0.78, 0.6 ],\n",
              "       [0.77, 0.59],\n",
              "       [0.79, 0.6 ],\n",
              "       [0.8 , 0.63],\n",
              "       [0.78, 0.6 ],\n",
              "       [0.77, 0.59],\n",
              "       [0.79, 0.64],\n",
              "       [0.78, 0.63],\n",
              "       [0.8 , 0.63],\n",
              "       [0.82, 0.63],\n",
              "       [0.77, 0.57],\n",
              "       [0.78, 0.6 ],\n",
              "       [0.79, 0.61]], dtype=float32)"
            ]
          },
          "metadata": {
            "tags": []
          },
          "execution_count": 19
        }
      ]
    },
    {
      "cell_type": "code",
      "metadata": {
        "colab": {
          "base_uri": "https://localhost:8080/"
        },
        "id": "BmD73r83VzaY",
        "outputId": "757aa796-dff8-46c7-9aab-ec798e95870a"
      },
      "source": [
        "dev_rounded_predictions=np.round(dev_predictions)\n",
        "indices = np.argmax(dev_predictions,1)\n",
        "for row, index in zip(dev_rounded_predictions, indices): row[index]=1\n",
        "dev_rounded_predictions[:20]"
      ],
      "execution_count": 20,
      "outputs": [
        {
          "output_type": "execute_result",
          "data": {
            "text/plain": [
              "array([[1., 1.],\n",
              "       [1., 1.],\n",
              "       [1., 1.],\n",
              "       [1., 1.],\n",
              "       [1., 1.],\n",
              "       [1., 1.],\n",
              "       [1., 1.],\n",
              "       [1., 1.],\n",
              "       [1., 1.],\n",
              "       [1., 1.],\n",
              "       [1., 1.],\n",
              "       [1., 1.],\n",
              "       [1., 1.],\n",
              "       [1., 1.],\n",
              "       [1., 1.],\n",
              "       [1., 1.],\n",
              "       [1., 1.],\n",
              "       [1., 1.],\n",
              "       [1., 1.],\n",
              "       [1., 1.]], dtype=float32)"
            ]
          },
          "metadata": {
            "tags": []
          },
          "execution_count": 20
        }
      ]
    },
    {
      "cell_type": "code",
      "metadata": {
        "colab": {
          "base_uri": "https://localhost:8080/"
        },
        "id": "KISYV9umXuIm",
        "outputId": "678c9506-b905-4fc1-9c7e-6dfe127d11a6"
      },
      "source": [
        "y_dev[:20]"
      ],
      "execution_count": 21,
      "outputs": [
        {
          "output_type": "execute_result",
          "data": {
            "text/plain": [
              "array([[0., 1.],\n",
              "       [0., 1.],\n",
              "       [0., 1.],\n",
              "       [1., 0.],\n",
              "       [1., 0.],\n",
              "       [1., 0.],\n",
              "       [1., 0.],\n",
              "       [1., 0.],\n",
              "       [1., 0.],\n",
              "       [1., 0.],\n",
              "       [1., 0.],\n",
              "       [0., 1.],\n",
              "       [0., 1.],\n",
              "       [0., 1.],\n",
              "       [0., 1.],\n",
              "       [0., 1.],\n",
              "       [1., 0.],\n",
              "       [1., 0.],\n",
              "       [1., 0.],\n",
              "       [1., 0.]], dtype=float32)"
            ]
          },
          "metadata": {
            "tags": []
          },
          "execution_count": 21
        }
      ]
    }
  ]
}